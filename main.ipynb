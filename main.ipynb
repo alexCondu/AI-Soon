{
 "cells": [
  {
   "cell_type": "markdown",
   "id": "4e6d6a8f",
   "metadata": {},
   "source": [
    "# **IMPORTS & PATHS** "
   ]
  },
  {
   "cell_type": "code",
   "execution_count": 24,
   "id": "879be4cb",
   "metadata": {
    "vscode": {
     "languageId": "shellscript"
    }
   },
   "outputs": [],
   "source": [
    "import os\n",
    "import zipfile\n",
    "import subprocess\n",
    "import json\n",
    "import pandas as pd\n",
    "from langchain_ollama.llms import OllamaLLM\n",
    "import shutil\n",
    "\n",
    "\n",
    "# Paths and model settings\\ nZIP_PATH = 'I-Soon-data.zip'      # Path to your downloaded zip file\n",
    "ZIP_PATH = '0.zip'    # Directory to extract contents\n",
    "EXTRACT_DIR = 'I-Soon-data'        # Directory to extract contents\n",
    "ORGANIZED_DIR = 'organized_data'  # Directory to group files by extension\n",
    "MODEL_NAME = 'llama3.2'             # Local Ollama model identifier\n",
    "OUTPUT_JSON = 'parsed_md.json'    # Aggregated JSON output\n",
    "OUTPUT_CSV = 'parsed_md.csv'      # CSV output for DataFrame\n",
    "\n",
    "# Initialize Ollama LLM via LangChain\n",
    "model = OllamaLLM(model=MODEL_NAME)"
   ]
  },
  {
   "cell_type": "markdown",
   "id": "93f9f3fd",
   "metadata": {},
   "source": [
    "# **ZIP FILE EXTRACTION**"
   ]
  },
  {
   "cell_type": "code",
   "execution_count": 25,
   "id": "5e6feb79",
   "metadata": {
    "vscode": {
     "languageId": "shellscript"
    }
   },
   "outputs": [
    {
     "name": "stdout",
     "output_type": "stream",
     "text": [
      "Extracted archive to 'I-Soon-data'\n"
     ]
    }
   ],
   "source": [
    "if not os.path.isdir(EXTRACT_DIR):\n",
    "    with zipfile.ZipFile(ZIP_PATH, 'r') as zip_ref:\n",
    "        zip_ref.extractall(EXTRACT_DIR)\n",
    "    print(f\"Extracted archive to '{EXTRACT_DIR}'\")\n",
    "else:\n",
    "    print(f\"Extraction directory '{EXTRACT_DIR}' already exists\")"
   ]
  },
  {
   "cell_type": "markdown",
   "id": "325a01d8",
   "metadata": {},
   "source": [
    "# **DATA TYPE CATEGORIZATION**"
   ]
  },
  {
   "cell_type": "code",
   "execution_count": 27,
   "id": "dec65000",
   "metadata": {
    "vscode": {
     "languageId": "shellscript"
    }
   },
   "outputs": [
    {
     "name": "stdout",
     "output_type": "stream",
     "text": [
      "Folder not found: I-Soon-data/__MACOSX\n"
     ]
    }
   ],
   "source": [
    "# Define the parent directory\n",
    "parent_directory = \"I-Soon-data\"\n",
    "\n",
    "# Full path to the __MACOSX folder\n",
    "macosx_folder = os.path.join(parent_directory, \"__MACOSX\")\n",
    "\n",
    "# Check if __MACOSX exists and remove it\n",
    "if os.path.exists(macosx_folder) and os.path.isdir(macosx_folder):\n",
    "    shutil.rmtree(macosx_folder)\n",
    "    print(f\"Deleted: {macosx_folder}\")\n",
    "else:\n",
    "    print(f\"Folder not found: {macosx_folder}\")\n",
    "\n",
    "# Organize files by extension into subfolders\n",
    "for root, dirs, files in os.walk(parent_directory):\n",
    "    for file in files:\n",
    "        # Skip hidden files and __MACOSX if any reappear\n",
    "        if file.startswith('.') or '__MACOSX' in root:\n",
    "            continue\n",
    "\n",
    "        # Get the file extension (in lowercase, without the dot)\n",
    "        file_extension = os.path.splitext(file)[1].lower().lstrip('.')\n",
    "        if not file_extension:\n",
    "            file_extension = \"no_extension\"\n",
    "\n",
    "        # Define the new subfolder path\n",
    "        subfolder_path = os.path.join(parent_directory, file_extension)\n",
    "\n",
    "        # Create the subfolder if it doesn't exist\n",
    "        os.makedirs(subfolder_path, exist_ok=True)\n",
    "\n",
    "        # Define source and destination paths\n",
    "        source_path = os.path.join(root, file)\n",
    "        destination_path = os.path.join(subfolder_path, file)\n",
    "\n",
    "        # Move the file if source and destination are not the same\n",
    "        if os.path.abspath(source_path) != os.path.abspath(destination_path):\n",
    "            shutil.move(source_path, destination_path)\n",
    "\n",
    "# Remove any empty folders within the parent directory\n",
    "for dirpath, dirnames, filenames in os.walk(parent_directory, topdown=False):\n",
    "    if not dirnames and not filenames:\n",
    "        try:\n",
    "            os.rmdir(dirpath)\n",
    "            print(f\"Removed empty folder: {dirpath}\")\n",
    "        except OSError:\n",
    "            pass  # Ignore errors (e.g., if directory is not empty due to permissions)"
   ]
  },
  {
   "cell_type": "code",
   "execution_count": null,
   "id": "b9397264",
   "metadata": {
    "vscode": {
     "languageId": "shellscript"
    }
   },
   "outputs": [
    {
     "name": "stderr",
     "output_type": "stream",
     "text": [
      "100%|██████████| 70/70 [03:22<00:00,  2.89s/it]"
     ]
    },
    {
     "name": "stdout",
     "output_type": "stream",
     "text": [
      "dbc9c90e-a3e6-4d71-bb93-5fb8394095ac.md: image\n",
      "28.md: table\n",
      "5.md: table\n",
      "38.md: table\n",
      "9d7bc879-3250-4013-ac04-5ff9bd6dff40.md: document\n",
      "18.md: table\n",
      "9fd06037-11f1-4ad5-9a7d-cbfb3fa4193b.md: image\n",
      "3348953d-66e9-4cac-8675-65bb5f2ef929.md: image\n",
      "1.md: table\n",
      "19.md: table\n",
      "07f179c5-5705-4dbd-94a7-66eed1e066b0.md: image\n",
      "29.md: table\n",
      "01cdc26f-e773-4ad7-8808-d04abf16aae7.md: image\n",
      "585875ff-f8c5-4a02-acd7-fef37dc9ff11.md: image\n",
      "4.md: table\n",
      "39.md: table\n",
      "64bba692-d430-440c-9f1e-2575f45770af.md: image\n",
      "178e3898-903d-47cf-bfbe-061e7dc18895.md: image\n",
      "16.md: table\n",
      "22.md: table\n",
      "32.md: table\n",
      "9fe6b262-9944-417d-a0c4-9f2de1de2994.md: image\n",
      "f7205881-3904-42ec-ab2c-04f36fa24785.md: image\n",
      "54990932-71af-48dd-9a7a-2617b1407c54.md: image\n",
      "26.md: table\n",
      "12.md: table\n",
      "36.md: table\n",
      "eda5b003-9250-4913-b724-74cca86240af.md: image\n",
      "27.md: table\n",
      "13.md: table\n",
      "37.md: table\n",
      "5a6b122c-39c1-4581-8c1f-2d6f36a9f8a0.md: document\n",
      "17.md: table\n",
      "23.md: table\n",
      "33.md: table\n",
      "5387a301-0af8-4e24-a197-20189f87b9ef.md: image\n",
      "48fd4c79-41ca-459e-a5a5-a3738e7a4af3.md: image\n",
      "f179eb06-0c53-44df-a13f-570be23355bb.md: image\n",
      "aedc6a39-7862-4bbc-99e7-780ab3980282.md: image\n",
      "24.md: table\n",
      "41.md: table\n",
      "10.md: table\n",
      "9.md: table\n",
      "34.md: table\n",
      "14.md: table\n",
      "b3031e66-40b6-45e8-9bcd-891dc1a280da.md: image\n",
      "20.md: table\n",
      "30.md: table\n",
      "d5ff8b65-db15-418a-b33e-169498d79110.md: image\n",
      "fe245192-1f9c-4f28-9b32-046fb7ce7e1e.md: image\n",
      "15.md: table\n",
      "21.md: table\n",
      "31.md: table\n",
      "d410e4aa-fb52-4ed4-9078-4483267a02b3.md: image\n",
      "40.md: table\n",
      "11.md: table\n",
      "547aba02-6757-49c1-acb5-6df217cebfc7.md: image\n",
      "35.md: table\n",
      "12756724-394c-4576-b373-7c53f1abbd94.md: document\n",
      "3.md: table\n",
      "e182d867-dc18-43fd-a418-26dcf784242f.md: image\n",
      "6d7fc7b3-c892-4cb5-bd4b-a5713c089d88.md: image\n",
      "912204cb-8ab7-48b8-9abf-d803f3804d08.md: image\n",
      "2db27de1-d5c5-4f89-8572-da697a6329e4.md: image\n",
      "7.md: table\n",
      "5e5bd90e-60c5-402f-b488-750456a81a13.md: image\n",
      "3f451a52-d210-48d9-b56e-d28b9570bdc4.md: image\n",
      "a1ba4d8b-f382-44c4-ac3f-746a44746bb4.md: image\n",
      "6.md: table\n",
      "2.md: table\n"
     ]
    },
    {
     "name": "stderr",
     "output_type": "stream",
     "text": [
      "\n"
     ]
    }
   ],
   "source": [
    "import os\n",
    "import glob\n",
    "import concurrent.futures\n",
    "from langchain.llms import Ollama\n",
    "from langchain.prompts import PromptTemplate\n",
    "from langchain.chains import LLMChain\n",
    "from tqdm import tqdm  # For progress bar\n",
    "\n",
    "# Initialize local LLM (e.g., qwen:14b via Ollama)\n",
    "llm = Ollama(model=\"qwen:14b\")\n",
    "\n",
    "# Prompt template (adapted for short content)\n",
    "prompt_template = PromptTemplate(\n",
    "    input_variables=[\"content\"],\n",
    "    template=\"\"\"\n",
    "You are analyzing the content of a Markdown (.md) file.\n",
    "\n",
    "Markdown content:\n",
    "\\\"\\\"\\\"\n",
    "{content}\n",
    "\\\"\\\"\\\"\n",
    "\n",
    "How would you classify the markdown file based on the above content? \n",
    "Return a single-word category like: chat, image, table, message, document, or text. Do not add explanations.\n",
    "\n",
    "IMPORTANT: PLEASE PROVIDE YOUR CONDIFENCE LEVEL (HIGH, MEDIUM, LOW) IN PARENTHESES AFTER THE CLASSIFICATION.\n",
    "\"\"\"\n",
    ")\n",
    "\n",
    "# Set up LangChain classification chain\n",
    "chain = LLMChain(llm=llm, prompt=prompt_template)\n",
    "\n",
    "# Collect .md file paths\n",
    "md_dir = \"I-Soon-data/md\"\n",
    "md_files = glob.glob(os.path.join(md_dir, \"*.md\"))\n",
    "\n",
    "# Preprocess: Read only the first line\n",
    "def preprocess_first_line(file_path):\n",
    "    try:\n",
    "        with open(file_path, \"r\", encoding=\"utf-8\") as f:\n",
    "            first_line = f.readline().strip()\n",
    "        return os.path.basename(file_path), first_line\n",
    "    except Exception as e:\n",
    "        return os.path.basename(file_path), \"\"\n",
    "\n",
    "# Use thread pool to preprocess\n",
    "with concurrent.futures.ThreadPoolExecutor() as executor:\n",
    "    file_data = list(executor.map(preprocess_first_line, md_files))\n",
    "\n",
    "# Classify using LLM (sequential to prevent concurrency issues)\n",
    "results = {}\n",
    "for file_name, first_line in tqdm(file_data):\n",
    "    if not first_line:\n",
    "        results[file_name] = \"error\"\n",
    "        continue\n",
    "    classification = chain.run(content=first_line).strip().lower()\n",
    "    results[file_name] = classification\n",
    "\n",
    "# Output results\n",
    "for fname, label in results.items():\n",
    "    print(f\"{fname}: {label}\")"
   ]
  }
 ],
 "metadata": {
  "kernelspec": {
   "display_name": "ISoonAI",
   "language": "python",
   "name": "python3"
  },
  "language_info": {
   "codemirror_mode": {
    "name": "ipython",
    "version": 3
   },
   "file_extension": ".py",
   "mimetype": "text/x-python",
   "name": "python",
   "nbconvert_exporter": "python",
   "pygments_lexer": "ipython3",
   "version": "3.11.11"
  }
 },
 "nbformat": 4,
 "nbformat_minor": 5
}
