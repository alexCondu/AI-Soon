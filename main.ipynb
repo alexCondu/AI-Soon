{
 "cells": [
  {
   "cell_type": "code",
   "execution_count": 2,
   "id": "6559c645-340c-4646-b646-39b14bcd9932",
   "metadata": {
    "tags": []
   },
   "outputs": [
    {
     "name": "stdout",
     "output_type": "stream",
     "text": [
      "Directory 'test' has been deleted.\n"
     ]
    }
   ],
   "source": [
    "import shutil\n",
    "import os\n",
    "\n",
    "# Directory to delete\n",
    "EXTRACT_DIR = 'test'\n",
    "\n",
    "# Check if the directory exists and delete it\n",
    "if os.path.isdir(EXTRACT_DIR):\n",
    "    shutil.rmtree(EXTRACT_DIR)\n",
    "    print(f\"Directory '{EXTRACT_DIR}' has been deleted.\")\n",
    "else:\n",
    "    print(f\"Directory '{EXTRACT_DIR}' does not exist.\")"
   ]
  },
  {
   "cell_type": "code",
   "execution_count": 3,
   "id": "5776e2db-42ed-4aa2-a497-1a545810a7f2",
   "metadata": {
    "tags": []
   },
   "outputs": [
    {
     "name": "stdout",
     "output_type": "stream",
     "text": [
      "CPU cores:  144\n"
     ]
    }
   ],
   "source": [
    "import zipfile\n",
    "import shutil\n",
    "import os\n",
    "import pandas as pd\n",
    "print(\"CPU cores: \", os.cpu_count())"
   ]
  },
  {
   "cell_type": "code",
   "execution_count": 4,
   "id": "2befe2f0-40aa-4ffa-8a73-7443ff5760b2",
   "metadata": {
    "tags": []
   },
   "outputs": [
    {
     "name": "stdout",
     "output_type": "stream",
     "text": [
      "Extracted to: 0\n"
     ]
    }
   ],
   "source": [
    "def extract_zip(zip_path):\n",
    "\n",
    "    if not zipfile.is_zipfile(zip_path):\n",
    "        raise ValueError(f\"The file at {zip_path} is not a valid ZIP archive.\")\n",
    "    \n",
    "    # Determine the output directory name from the zip file name\n",
    "    base_dir = os.path.dirname(zip_path)\n",
    "    zip_filename = os.path.basename(zip_path)\n",
    "    folder_name = os.path.splitext(zip_filename)[0]\n",
    "    extract_to = os.path.join(base_dir, folder_name)\n",
    "\n",
    "    # Create the directory if it doesn't exist\n",
    "    if not os.path.exists(extract_to):\n",
    "        os.makedirs(extract_to)\n",
    "\n",
    "    # Extract the ZIP file\n",
    "    with zipfile.ZipFile(zip_path, 'r') as zip_ref:\n",
    "        zip_ref.extractall(path=extract_to)\n",
    "\n",
    "    return extract_to\n",
    "\n",
    "\n",
    "if __name__ == \"__main__\":\n",
    "    zip_file_path = '0.zip' \n",
    "    extracted_dir = extract_zip(zip_file_path)\n",
    "    print(f\"Extracted to: {extracted_dir}\")"
   ]
  },
  {
   "cell_type": "code",
   "execution_count": 5,
   "id": "950a34b4-50f3-486e-b781-a1dc9e43c458",
   "metadata": {
    "tags": []
   },
   "outputs": [
    {
     "name": "stdout",
     "output_type": "stream",
     "text": [
      "Deleted - 0/__MACOSX\n"
     ]
    }
   ],
   "source": [
    "leak_directory = \"0\"\n",
    "\n",
    "# Path to the __MACOSX folder\n",
    "macosx_folder = os.path.join(leak_directory, \"__MACOSX\")\n",
    "\n",
    "# Check if __MACOSX exists and remove it - creates issues when analyzing the data, and its not needed, made automatically by MacOS\n",
    "if os.path.exists(macosx_folder) and os.path.isdir(macosx_folder):\n",
    "    shutil.rmtree(macosx_folder)\n",
    "    print(f\"Deleted - {macosx_folder}\")\n",
    "else:\n",
    "    print(f\"Folder not found - {macosx_folder}\")\n",
    "\n",
    "# Organize files by extension into subfolders\n",
    "for root, dirs, files in os.walk(leak_directory):\n",
    "    for file in files:\n",
    "        # Skip hidden files and __MACOSX if any reappear\n",
    "        if file.startswith('.') or '__MACOSX' in root:\n",
    "            continue\n",
    "\n",
    "        # Get the file extension (in lowercase, without the dot)\n",
    "        file_extension = os.path.splitext(file)[1].lower().lstrip('.')\n",
    "        if not file_extension:\n",
    "            file_extension = \"no_extension\"\n",
    "\n",
    "        # Define the new subfolder path\n",
    "        subfolder_path = os.path.join(leak_directory, file_extension)\n",
    "\n",
    "        # Create the subfolder if it doesn't exist\n",
    "        os.makedirs(subfolder_path, exist_ok=True)\n",
    "\n",
    "        # Define source and destination paths\n",
    "        source_path = os.path.join(root, file)\n",
    "        destination_path = os.path.join(subfolder_path, file)\n",
    "\n",
    "        # Move the file if source and destination are not the same\n",
    "        if os.path.abspath(source_path) != os.path.abspath(destination_path):\n",
    "            shutil.move(source_path, destination_path)\n",
    "\n",
    "# Remove any empty folders within the parent directory\n",
    "for dirpath, dirnames, filenames in os.walk(leak_directory, topdown=False):\n",
    "    if not dirnames and not filenames:\n",
    "        try:\n",
    "            os.rmdir(dirpath)\n",
    "            print(f\"Removed empty folder: {dirpath}\")\n",
    "        except OSError:\n",
    "            pass  "
   ]
  },
  {
   "cell_type": "code",
   "execution_count": 6,
   "id": "0ab45fc5-01f0-4dd6-9c70-1ad25b1212a9",
   "metadata": {
    "tags": []
   },
   "outputs": [
    {
     "name": "stdout",
     "output_type": "stream",
     "text": [
      "Directory '0/0'deleted\n"
     ]
    }
   ],
   "source": [
    "# Delete Duplicate of 0 which is empty\n",
    "\n",
    "# Directory to delete\n",
    "EXTRACT_DIR = '0/0'\n",
    "\n",
    "# Check if the directory exists and delete it\n",
    "if os.path.isdir(EXTRACT_DIR):\n",
    "    shutil.rmtree(EXTRACT_DIR)\n",
    "    print(f\"Directory '{EXTRACT_DIR}'deleted\")\n",
    "else:\n",
    "    print(f\"Directory '{EXTRACT_DIR}' does not exist\")"
   ]
  },
  {
   "cell_type": "markdown",
   "id": "7cdb18a8-64e3-44d3-915e-7158104d0c8f",
   "metadata": {
    "user_expressions": []
   },
   "source": [
    "# **DATA PARSING**"
   ]
  },
  {
   "cell_type": "markdown",
   "id": "73f80802-63db-4c12-9401-d9d6246f556a",
   "metadata": {
    "user_expressions": []
   },
   "source": [
    "# Dataframe with all file location"
   ]
  },
  {
   "cell_type": "code",
   "execution_count": 7,
   "id": "88ee5d4f-ee82-49b3-bb69-9b052f1952f4",
   "metadata": {
    "tags": []
   },
   "outputs": [],
   "source": [
    "def get_folder_file_dataframe(root_dir):\n",
    "    folders = []\n",
    "    for file_name in os.listdir(root_dir):\n",
    "        full_path = os.path.join(root_dir, file_name)\n",
    "        if os.path.isdir(full_path):\n",
    "            folders.append(file_name)\n",
    "\n",
    "    series_list = []\n",
    "    for folder in folders:\n",
    "        folder_path = os.path.join(root_dir, folder)\n",
    "        files = [\n",
    "            os.path.join(folder_path, file)\n",
    "            for file in os.listdir(folder_path)\n",
    "            if os.path.isfile(os.path.join(folder_path, file)) and not file.startswith('.')\n",
    "        ]\n",
    "        s = pd.Series(files, name=folder)\n",
    "        series_list.append(s)\n",
    "\n",
    "    df = pd.concat(series_list, axis=1)\n",
    "    return df"
   ]
  },
  {
   "cell_type": "code",
   "execution_count": 8,
   "id": "94163880-07e2-4205-8302-b5ead2a1f488",
   "metadata": {
    "tags": []
   },
   "outputs": [
    {
     "data": {
      "text/html": [
       "<div>\n",
       "<style scoped>\n",
       "    .dataframe tbody tr th:only-of-type {\n",
       "        vertical-align: middle;\n",
       "    }\n",
       "\n",
       "    .dataframe tbody tr th {\n",
       "        vertical-align: top;\n",
       "    }\n",
       "\n",
       "    .dataframe thead th {\n",
       "        text-align: right;\n",
       "    }\n",
       "</style>\n",
       "<table border=\"1\" class=\"dataframe\">\n",
       "  <thead>\n",
       "    <tr style=\"text-align: right;\">\n",
       "      <th></th>\n",
       "      <th>md</th>\n",
       "      <th>png</th>\n",
       "      <th>log</th>\n",
       "      <th>txt</th>\n",
       "    </tr>\n",
       "  </thead>\n",
       "  <tbody>\n",
       "    <tr>\n",
       "      <th>0</th>\n",
       "      <td>0/md/dbc9c90e-a3e6-4d71-bb93-5fb8394095ac.md</td>\n",
       "      <td>0/png/64bba692-d430-440c-9f1e-2575f45770af_6.png</td>\n",
       "      <td>0/log/77010155050.log</td>\n",
       "      <td>0/txt/IDNET.txt</td>\n",
       "    </tr>\n",
       "    <tr>\n",
       "      <th>1</th>\n",
       "      <td>0/md/28.md</td>\n",
       "      <td>0/png/12756724-394c-4576-b373-7c53f1abbd94_0.png</td>\n",
       "      <td>0/log/77753527617.log</td>\n",
       "      <td>0/txt/IDTV.txt</td>\n",
       "    </tr>\n",
       "    <tr>\n",
       "      <th>2</th>\n",
       "      <td>0/md/5.md</td>\n",
       "      <td>0/png/f179eb06-0c53-44df-a13f-570be23355bb_1.png</td>\n",
       "      <td>0/log/tele2-lbs.log</td>\n",
       "      <td>0/txt/beeline-77774042222.txt</td>\n",
       "    </tr>\n",
       "    <tr>\n",
       "      <th>3</th>\n",
       "      <td>0/md/38.md</td>\n",
       "      <td>0/png/5a6b122c-39c1-4581-8c1f-2d6f36a9f8a0_24.png</td>\n",
       "      <td>0/log/tele2-cdr.log</td>\n",
       "      <td>0/txt/beeline-77051056626.txt</td>\n",
       "    </tr>\n",
       "    <tr>\n",
       "      <th>4</th>\n",
       "      <td>0/md/9d7bc879-3250-4013-ac04-5ff9bd6dff40.md</td>\n",
       "      <td>0/png/5a6b122c-39c1-4581-8c1f-2d6f36a9f8a0_30.png</td>\n",
       "      <td>0/log/tele2-crm.log</td>\n",
       "      <td>0/txt/beeline-crm.txt</td>\n",
       "    </tr>\n",
       "    <tr>\n",
       "      <th>5</th>\n",
       "      <td>0/md/18.md</td>\n",
       "      <td>0/png/5a6b122c-39c1-4581-8c1f-2d6f36a9f8a0_18.png</td>\n",
       "      <td>0/log/77783030133.log</td>\n",
       "      <td>0/txt/UBSCRIBER.txt</td>\n",
       "    </tr>\n",
       "    <tr>\n",
       "      <th>6</th>\n",
       "      <td>0/md/9fd06037-11f1-4ad5-9a7d-cbfb3fa4193b.md</td>\n",
       "      <td>0/png/0-adaf869e-920a-4a17-91bd-e2ef3125c10e.png</td>\n",
       "      <td>NaN</td>\n",
       "      <td>0/txt/beeline-cdr.txt</td>\n",
       "    </tr>\n",
       "    <tr>\n",
       "      <th>7</th>\n",
       "      <td>0/md/3348953d-66e9-4cac-8675-65bb5f2ef929.md</td>\n",
       "      <td>0/png/5387a301-0af8-4e24-a197-20189f87b9ef_8.png</td>\n",
       "      <td>NaN</td>\n",
       "      <td>0/txt/CRM.txt</td>\n",
       "    </tr>\n",
       "    <tr>\n",
       "      <th>8</th>\n",
       "      <td>0/md/1.md</td>\n",
       "      <td>0/png/0-32eb7662-f212-4811-a7c1-1cfeb121cd99.png</td>\n",
       "      <td>NaN</td>\n",
       "      <td>0/txt/LAC.txt</td>\n",
       "    </tr>\n",
       "    <tr>\n",
       "      <th>9</th>\n",
       "      <td>0/md/19.md</td>\n",
       "      <td>0/png/912204cb-8ab7-48b8-9abf-d803f3804d08_11.png</td>\n",
       "      <td>NaN</td>\n",
       "      <td>0/txt/beeline-lbs.txt</td>\n",
       "    </tr>\n",
       "    <tr>\n",
       "      <th>10</th>\n",
       "      <td>0/md/07f179c5-5705-4dbd-94a7-66eed1e066b0.md</td>\n",
       "      <td>0/png/0-7150f512-e7a2-4f2c-86bc-58b671b25ba9.png</td>\n",
       "      <td>NaN</td>\n",
       "      <td>0/txt/Φ»¥σìò.txt</td>\n",
       "    </tr>\n",
       "    <tr>\n",
       "      <th>11</th>\n",
       "      <td>0/md/29.md</td>\n",
       "      <td>0/png/fe245192-1f9c-4f28-9b32-046fb7ce7e1e_8.png</td>\n",
       "      <td>NaN</td>\n",
       "      <td>NaN</td>\n",
       "    </tr>\n",
       "    <tr>\n",
       "      <th>12</th>\n",
       "      <td>0/md/01cdc26f-e773-4ad7-8808-d04abf16aae7.md</td>\n",
       "      <td>0/png/eda5b003-9250-4913-b724-74cca86240af_13.png</td>\n",
       "      <td>NaN</td>\n",
       "      <td>NaN</td>\n",
       "    </tr>\n",
       "    <tr>\n",
       "      <th>13</th>\n",
       "      <td>0/md/585875ff-f8c5-4a02-acd7-fef37dc9ff11.md</td>\n",
       "      <td>0/png/eda5b003-9250-4913-b724-74cca86240af_12.png</td>\n",
       "      <td>NaN</td>\n",
       "      <td>NaN</td>\n",
       "    </tr>\n",
       "    <tr>\n",
       "      <th>14</th>\n",
       "      <td>0/md/4.md</td>\n",
       "      <td>0/png/adaf869e-920a-4a17-91bd-e2ef3125c10e.png</td>\n",
       "      <td>NaN</td>\n",
       "      <td>NaN</td>\n",
       "    </tr>\n",
       "    <tr>\n",
       "      <th>15</th>\n",
       "      <td>0/md/39.md</td>\n",
       "      <td>0/png/fe245192-1f9c-4f28-9b32-046fb7ce7e1e_9.png</td>\n",
       "      <td>NaN</td>\n",
       "      <td>NaN</td>\n",
       "    </tr>\n",
       "    <tr>\n",
       "      <th>16</th>\n",
       "      <td>0/md/16.md</td>\n",
       "      <td>0/png/32eb7662-f212-4811-a7c1-1cfeb121cd99.png</td>\n",
       "      <td>NaN</td>\n",
       "      <td>NaN</td>\n",
       "    </tr>\n",
       "    <tr>\n",
       "      <th>17</th>\n",
       "      <td>0/md/64bba692-d430-440c-9f1e-2575f45770af.md</td>\n",
       "      <td>0/png/912204cb-8ab7-48b8-9abf-d803f3804d08_10.png</td>\n",
       "      <td>NaN</td>\n",
       "      <td>NaN</td>\n",
       "    </tr>\n",
       "    <tr>\n",
       "      <th>18</th>\n",
       "      <td>0/md/178e3898-903d-47cf-bfbe-061e7dc18895.md</td>\n",
       "      <td>0/png/5387a301-0af8-4e24-a197-20189f87b9ef_9.png</td>\n",
       "      <td>NaN</td>\n",
       "      <td>NaN</td>\n",
       "    </tr>\n",
       "    <tr>\n",
       "      <th>19</th>\n",
       "      <td>0/md/22.md</td>\n",
       "      <td>0/png/5a6b122c-39c1-4581-8c1f-2d6f36a9f8a0_19.png</td>\n",
       "      <td>NaN</td>\n",
       "      <td>NaN</td>\n",
       "    </tr>\n",
       "    <tr>\n",
       "      <th>20</th>\n",
       "      <td>0/md/32.md</td>\n",
       "      <td>0/png/5a6b122c-39c1-4581-8c1f-2d6f36a9f8a0_31.png</td>\n",
       "      <td>NaN</td>\n",
       "      <td>NaN</td>\n",
       "    </tr>\n",
       "    <tr>\n",
       "      <th>21</th>\n",
       "      <td>0/md/26.md</td>\n",
       "      <td>0/png/f179eb06-0c53-44df-a13f-570be23355bb_0.png</td>\n",
       "      <td>NaN</td>\n",
       "      <td>NaN</td>\n",
       "    </tr>\n",
       "    <tr>\n",
       "      <th>22</th>\n",
       "      <td>0/md/9fe6b262-9944-417d-a0c4-9f2de1de2994.md</td>\n",
       "      <td>0/png/5a6b122c-39c1-4581-8c1f-2d6f36a9f8a0_25.png</td>\n",
       "      <td>NaN</td>\n",
       "      <td>NaN</td>\n",
       "    </tr>\n",
       "    <tr>\n",
       "      <th>23</th>\n",
       "      <td>0/md/f7205881-3904-42ec-ab2c-04f36fa24785.md</td>\n",
       "      <td>0/png/7150f512-e7a2-4f2c-86bc-58b671b25ba9.png</td>\n",
       "      <td>NaN</td>\n",
       "      <td>NaN</td>\n",
       "    </tr>\n",
       "    <tr>\n",
       "      <th>24</th>\n",
       "      <td>0/md/54990932-71af-48dd-9a7a-2617b1407c54.md</td>\n",
       "      <td>0/png/12756724-394c-4576-b373-7c53f1abbd94_1.png</td>\n",
       "      <td>NaN</td>\n",
       "      <td>NaN</td>\n",
       "    </tr>\n",
       "    <tr>\n",
       "      <th>25</th>\n",
       "      <td>0/md/12.md</td>\n",
       "      <td>0/png/64bba692-d430-440c-9f1e-2575f45770af_7.png</td>\n",
       "      <td>NaN</td>\n",
       "      <td>NaN</td>\n",
       "    </tr>\n",
       "    <tr>\n",
       "      <th>26</th>\n",
       "      <td>0/md/36.md</td>\n",
       "      <td>0/png/6848748d-2881-4c26-b153-fcd5373d2f1c.png</td>\n",
       "      <td>NaN</td>\n",
       "      <td>NaN</td>\n",
       "    </tr>\n",
       "    <tr>\n",
       "      <th>27</th>\n",
       "      <td>0/md/eda5b003-9250-4913-b724-74cca86240af.md</td>\n",
       "      <td>0/png/12756724-394c-4576-b373-7c53f1abbd94_3.png</td>\n",
       "      <td>NaN</td>\n",
       "      <td>NaN</td>\n",
       "    </tr>\n",
       "    <tr>\n",
       "      <th>28</th>\n",
       "      <td>0/md/27.md</td>\n",
       "      <td>0/png/64bba692-d430-440c-9f1e-2575f45770af_5.png</td>\n",
       "      <td>NaN</td>\n",
       "      <td>NaN</td>\n",
       "    </tr>\n",
       "    <tr>\n",
       "      <th>29</th>\n",
       "      <td>0/md/13.md</td>\n",
       "      <td>0/png/5a6b122c-39c1-4581-8c1f-2d6f36a9f8a0_33.png</td>\n",
       "      <td>NaN</td>\n",
       "      <td>NaN</td>\n",
       "    </tr>\n",
       "  </tbody>\n",
       "</table>\n",
       "</div>"
      ],
      "text/plain": [
       "                                              md  \\\n",
       "0   0/md/dbc9c90e-a3e6-4d71-bb93-5fb8394095ac.md   \n",
       "1                                     0/md/28.md   \n",
       "2                                      0/md/5.md   \n",
       "3                                     0/md/38.md   \n",
       "4   0/md/9d7bc879-3250-4013-ac04-5ff9bd6dff40.md   \n",
       "5                                     0/md/18.md   \n",
       "6   0/md/9fd06037-11f1-4ad5-9a7d-cbfb3fa4193b.md   \n",
       "7   0/md/3348953d-66e9-4cac-8675-65bb5f2ef929.md   \n",
       "8                                      0/md/1.md   \n",
       "9                                     0/md/19.md   \n",
       "10  0/md/07f179c5-5705-4dbd-94a7-66eed1e066b0.md   \n",
       "11                                    0/md/29.md   \n",
       "12  0/md/01cdc26f-e773-4ad7-8808-d04abf16aae7.md   \n",
       "13  0/md/585875ff-f8c5-4a02-acd7-fef37dc9ff11.md   \n",
       "14                                     0/md/4.md   \n",
       "15                                    0/md/39.md   \n",
       "16                                    0/md/16.md   \n",
       "17  0/md/64bba692-d430-440c-9f1e-2575f45770af.md   \n",
       "18  0/md/178e3898-903d-47cf-bfbe-061e7dc18895.md   \n",
       "19                                    0/md/22.md   \n",
       "20                                    0/md/32.md   \n",
       "21                                    0/md/26.md   \n",
       "22  0/md/9fe6b262-9944-417d-a0c4-9f2de1de2994.md   \n",
       "23  0/md/f7205881-3904-42ec-ab2c-04f36fa24785.md   \n",
       "24  0/md/54990932-71af-48dd-9a7a-2617b1407c54.md   \n",
       "25                                    0/md/12.md   \n",
       "26                                    0/md/36.md   \n",
       "27  0/md/eda5b003-9250-4913-b724-74cca86240af.md   \n",
       "28                                    0/md/27.md   \n",
       "29                                    0/md/13.md   \n",
       "\n",
       "                                                  png                    log  \\\n",
       "0    0/png/64bba692-d430-440c-9f1e-2575f45770af_6.png  0/log/77010155050.log   \n",
       "1    0/png/12756724-394c-4576-b373-7c53f1abbd94_0.png  0/log/77753527617.log   \n",
       "2    0/png/f179eb06-0c53-44df-a13f-570be23355bb_1.png    0/log/tele2-lbs.log   \n",
       "3   0/png/5a6b122c-39c1-4581-8c1f-2d6f36a9f8a0_24.png    0/log/tele2-cdr.log   \n",
       "4   0/png/5a6b122c-39c1-4581-8c1f-2d6f36a9f8a0_30.png    0/log/tele2-crm.log   \n",
       "5   0/png/5a6b122c-39c1-4581-8c1f-2d6f36a9f8a0_18.png  0/log/77783030133.log   \n",
       "6    0/png/0-adaf869e-920a-4a17-91bd-e2ef3125c10e.png                    NaN   \n",
       "7    0/png/5387a301-0af8-4e24-a197-20189f87b9ef_8.png                    NaN   \n",
       "8    0/png/0-32eb7662-f212-4811-a7c1-1cfeb121cd99.png                    NaN   \n",
       "9   0/png/912204cb-8ab7-48b8-9abf-d803f3804d08_11.png                    NaN   \n",
       "10   0/png/0-7150f512-e7a2-4f2c-86bc-58b671b25ba9.png                    NaN   \n",
       "11   0/png/fe245192-1f9c-4f28-9b32-046fb7ce7e1e_8.png                    NaN   \n",
       "12  0/png/eda5b003-9250-4913-b724-74cca86240af_13.png                    NaN   \n",
       "13  0/png/eda5b003-9250-4913-b724-74cca86240af_12.png                    NaN   \n",
       "14     0/png/adaf869e-920a-4a17-91bd-e2ef3125c10e.png                    NaN   \n",
       "15   0/png/fe245192-1f9c-4f28-9b32-046fb7ce7e1e_9.png                    NaN   \n",
       "16     0/png/32eb7662-f212-4811-a7c1-1cfeb121cd99.png                    NaN   \n",
       "17  0/png/912204cb-8ab7-48b8-9abf-d803f3804d08_10.png                    NaN   \n",
       "18   0/png/5387a301-0af8-4e24-a197-20189f87b9ef_9.png                    NaN   \n",
       "19  0/png/5a6b122c-39c1-4581-8c1f-2d6f36a9f8a0_19.png                    NaN   \n",
       "20  0/png/5a6b122c-39c1-4581-8c1f-2d6f36a9f8a0_31.png                    NaN   \n",
       "21   0/png/f179eb06-0c53-44df-a13f-570be23355bb_0.png                    NaN   \n",
       "22  0/png/5a6b122c-39c1-4581-8c1f-2d6f36a9f8a0_25.png                    NaN   \n",
       "23     0/png/7150f512-e7a2-4f2c-86bc-58b671b25ba9.png                    NaN   \n",
       "24   0/png/12756724-394c-4576-b373-7c53f1abbd94_1.png                    NaN   \n",
       "25   0/png/64bba692-d430-440c-9f1e-2575f45770af_7.png                    NaN   \n",
       "26     0/png/6848748d-2881-4c26-b153-fcd5373d2f1c.png                    NaN   \n",
       "27   0/png/12756724-394c-4576-b373-7c53f1abbd94_3.png                    NaN   \n",
       "28   0/png/64bba692-d430-440c-9f1e-2575f45770af_5.png                    NaN   \n",
       "29  0/png/5a6b122c-39c1-4581-8c1f-2d6f36a9f8a0_33.png                    NaN   \n",
       "\n",
       "                              txt  \n",
       "0                 0/txt/IDNET.txt  \n",
       "1                  0/txt/IDTV.txt  \n",
       "2   0/txt/beeline-77774042222.txt  \n",
       "3   0/txt/beeline-77051056626.txt  \n",
       "4           0/txt/beeline-crm.txt  \n",
       "5             0/txt/UBSCRIBER.txt  \n",
       "6           0/txt/beeline-cdr.txt  \n",
       "7                   0/txt/CRM.txt  \n",
       "8                   0/txt/LAC.txt  \n",
       "9           0/txt/beeline-lbs.txt  \n",
       "10               0/txt/Φ»¥σìò.txt  \n",
       "11                            NaN  \n",
       "12                            NaN  \n",
       "13                            NaN  \n",
       "14                            NaN  \n",
       "15                            NaN  \n",
       "16                            NaN  \n",
       "17                            NaN  \n",
       "18                            NaN  \n",
       "19                            NaN  \n",
       "20                            NaN  \n",
       "21                            NaN  \n",
       "22                            NaN  \n",
       "23                            NaN  \n",
       "24                            NaN  \n",
       "25                            NaN  \n",
       "26                            NaN  \n",
       "27                            NaN  \n",
       "28                            NaN  \n",
       "29                            NaN  "
      ]
     },
     "execution_count": 8,
     "metadata": {},
     "output_type": "execute_result"
    }
   ],
   "source": [
    "df = get_folder_file_dataframe(leak_directory)\n",
    "df.head(30)       "
   ]
  },
  {
   "cell_type": "markdown",
   "id": "9b011fbc-09b2-4ccd-b075-62306871df42",
   "metadata": {
    "tags": [],
    "user_expressions": []
   },
   "source": [
    "# Use LLM to classify the source files"
   ]
  },
  {
   "cell_type": "code",
   "execution_count": 9,
   "id": "c46d6b38-6ff3-4a79-860c-a37054e03cb7",
   "metadata": {},
   "outputs": [],
   "source": [
    "import os\n",
    "import concurrent.futures\n",
    "import pandas as pd\n",
    "from langchain.llms import Ollama\n",
    "from langchain.prompts import PromptTemplate\n",
    "from langchain.chains import LLMChain\n",
    "from tqdm import tqdm"
   ]
  },
  {
   "cell_type": "code",
   "execution_count": 10,
   "id": "64ba6064-3151-4166-a432-142d9e610d9c",
   "metadata": {
    "tags": []
   },
   "outputs": [
    {
     "name": "stderr",
     "output_type": "stream",
     "text": [
      "/tmp/ipykernel_313/23640893.py:22: LangChainDeprecationWarning: The class `LLMChain` was deprecated in LangChain 0.1.17 and will be removed in 1.0. Use RunnableSequence, e.g., `prompt | llm` instead.\n",
      "  chain = LLMChain(llm=llm, prompt=prompt_template)\n",
      "Classifying files:   0%|          | 0/70 [00:00<?, ?it/s]/tmp/ipykernel_313/23640893.py:51: LangChainDeprecationWarning: The method `Chain.run` was deprecated in langchain 0.1.0 and will be removed in 1.0. Use invoke instead.\n",
      "  response = chain.run(content=content).strip().lower()\n",
      "Classifying files: 100%|██████████| 70/70 [03:58<00:00,  3.40s/it] \n"
     ]
    },
    {
     "data": {
      "text/html": [
       "<div>\n",
       "<style scoped>\n",
       "    .dataframe tbody tr th:only-of-type {\n",
       "        vertical-align: middle;\n",
       "    }\n",
       "\n",
       "    .dataframe tbody tr th {\n",
       "        vertical-align: top;\n",
       "    }\n",
       "\n",
       "    .dataframe thead th {\n",
       "        text-align: right;\n",
       "    }\n",
       "</style>\n",
       "<table border=\"1\" class=\"dataframe\">\n",
       "  <thead>\n",
       "    <tr style=\"text-align: right;\">\n",
       "      <th></th>\n",
       "      <th>other</th>\n",
       "      <th>images</th>\n",
       "      <th>chats</th>\n",
       "    </tr>\n",
       "  </thead>\n",
       "  <tbody>\n",
       "    <tr>\n",
       "      <th>0</th>\n",
       "      <td>0/md/9d7bc879-3250-4013-ac04-5ff9bd6dff40.md</td>\n",
       "      <td>0/md/dbc9c90e-a3e6-4d71-bb93-5fb8394095ac.md</td>\n",
       "      <td>0/md/28.md</td>\n",
       "    </tr>\n",
       "    <tr>\n",
       "      <th>1</th>\n",
       "      <td>None</td>\n",
       "      <td>0/md/9fd06037-11f1-4ad5-9a7d-cbfb3fa4193b.md</td>\n",
       "      <td>0/md/5.md</td>\n",
       "    </tr>\n",
       "    <tr>\n",
       "      <th>2</th>\n",
       "      <td>None</td>\n",
       "      <td>0/md/3348953d-66e9-4cac-8675-65bb5f2ef929.md</td>\n",
       "      <td>0/md/38.md</td>\n",
       "    </tr>\n",
       "    <tr>\n",
       "      <th>3</th>\n",
       "      <td>None</td>\n",
       "      <td>0/md/07f179c5-5705-4dbd-94a7-66eed1e066b0.md</td>\n",
       "      <td>0/md/18.md</td>\n",
       "    </tr>\n",
       "    <tr>\n",
       "      <th>4</th>\n",
       "      <td>None</td>\n",
       "      <td>0/md/01cdc26f-e773-4ad7-8808-d04abf16aae7.md</td>\n",
       "      <td>0/md/1.md</td>\n",
       "    </tr>\n",
       "  </tbody>\n",
       "</table>\n",
       "</div>"
      ],
      "text/plain": [
       "                                          other  \\\n",
       "0  0/md/9d7bc879-3250-4013-ac04-5ff9bd6dff40.md   \n",
       "1                                          None   \n",
       "2                                          None   \n",
       "3                                          None   \n",
       "4                                          None   \n",
       "\n",
       "                                         images       chats  \n",
       "0  0/md/dbc9c90e-a3e6-4d71-bb93-5fb8394095ac.md  0/md/28.md  \n",
       "1  0/md/9fd06037-11f1-4ad5-9a7d-cbfb3fa4193b.md   0/md/5.md  \n",
       "2  0/md/3348953d-66e9-4cac-8675-65bb5f2ef929.md  0/md/38.md  \n",
       "3  0/md/07f179c5-5705-4dbd-94a7-66eed1e066b0.md  0/md/18.md  \n",
       "4  0/md/01cdc26f-e773-4ad7-8808-d04abf16aae7.md   0/md/1.md  "
      ]
     },
     "execution_count": 10,
     "metadata": {},
     "output_type": "execute_result"
    }
   ],
   "source": [
    "llm = Ollama(model=\"llama3.1:8b\")\n",
    "\n",
    "prompt_template = PromptTemplate(\n",
    "    input_variables=[\"content\"],\n",
    "    template=\"\"\"\n",
    "You are analyzing the content of a file.\n",
    "\n",
    "File content:\n",
    "\\\"\\\"\\\"\n",
    "{content}\n",
    "\\\"\\\"\\\"\n",
    "\n",
    "1. Classify the content into one of the following categories ONLY: chats, images, other.\n",
    "2. State your confidence in the classification as one of: high, medium, or low.\n",
    "3. I will have to make a csv, please give me a list of headers based on the content. E.g. \"[<header_name>, <heaer_name2>, etc.]\n",
    "Respond in the following format:\n",
    "Category: <chats|images|other>\n",
    "Confidence: <high|medium|low>\n",
    "\"\"\"\n",
    ")\n",
    "\n",
    "chain = LLMChain(llm=llm, prompt=prompt_template)\n",
    "\n",
    "# Preprocess the files to the first 20 lines to shorten analysis times\n",
    "def preprocess_first_20_lines(file_path):\n",
    "    try:\n",
    "        with open(file_path, \"r\", encoding=\"utf-8\") as f:\n",
    "            lines = [line.strip() for _, line in zip(range(20), f)]\n",
    "            content = \" \".join(lines)\n",
    "        return file_path, content\n",
    "    except Exception:\n",
    "        return file_path, \"\"\n",
    "\n",
    "# Use only the first column of the DataFrame\n",
    "first_column = df.columns[0]\n",
    "file_paths = df[first_column].dropna().unique().tolist()\n",
    "\n",
    "# Preprocess the file for faster classification\n",
    "with concurrent.futures.ThreadPoolExecutor() as executor:\n",
    "    file_data = list(executor.map(preprocess_first_20_lines, file_paths))\n",
    "\n",
    "# Classify and collect by category\n",
    "valid_categories = {\"chats\", \"images\", \"other\"}\n",
    "categorized_files = {cat: [] for cat in valid_categories}\n",
    "\n",
    "for file_path, content in tqdm(file_data, desc=\"Classifying files\"):\n",
    "    if not content:\n",
    "        continue\n",
    "\n",
    "    try:\n",
    "        response = chain.run(content=content).strip().lower()\n",
    "        lines = response.splitlines()\n",
    "\n",
    "        category = \"\"\n",
    "        for line in lines:\n",
    "            if line.startswith(\"category:\"):\n",
    "                category = line.replace(\"category:\", \"\").strip()\n",
    "                break\n",
    "        if category not in valid_categories:\n",
    "            category = \"other\"\n",
    "\n",
    "        categorized_files[category].append(file_path)\n",
    "\n",
    "    except Exception as e:\n",
    "        print(f\"Error processing {file_path}: {e}\")\n",
    "\n",
    "# Convert to DataFrame (columns = categories)\n",
    "# Determine the maximum list length among all categories\n",
    "max_len = 0\n",
    "for file_list in categorized_files.values():\n",
    "    if len(file_list) > max_len:\n",
    "        max_len = len(file_list)\n",
    "\n",
    "# Pad each list with None to match max length\n",
    "padded = {}\n",
    "for category, file_list in categorized_files.items():\n",
    "    padding_needed = max_len - len(file_list)\n",
    "    padded[category] = file_list + [None] * padding_needed\n",
    "result_df = pd.DataFrame(padded)\n",
    "result_df.to_csv(\"classified_by_category.csv\", index=False)\n",
    "result_df.head()"
   ]
  },
  {
   "cell_type": "code",
   "execution_count": 11,
   "id": "3ae9479b-52e3-48d0-867b-55aa68bf1acd",
   "metadata": {
    "tags": []
   },
   "outputs": [],
   "source": [
    "import os\n",
    "import pandas as pd\n",
    "import re\n",
    "from collections import defaultdict"
   ]
  },
  {
   "cell_type": "markdown",
   "id": "6e96cc02-e59d-4113-b35e-857490c25736",
   "metadata": {
    "tags": [],
    "user_expressions": []
   },
   "source": [
    "# Script to check for cross refernced files"
   ]
  },
  {
   "cell_type": "code",
   "execution_count": 12,
   "id": "f2960f30-2535-4cc4-b4ec-ac57315e764c",
   "metadata": {},
   "outputs": [],
   "source": [
    "import pandas as pd\n",
    "import os\n",
    "import re\n",
    "from collections import defaultdict"
   ]
  },
  {
   "cell_type": "code",
   "execution_count": 13,
   "id": "9e94a6ab-a1d9-4c11-b275-a753fc8182f8",
   "metadata": {
    "tags": []
   },
   "outputs": [
    {
     "name": "stdout",
     "output_type": "stream",
     "text": [
      "                                    source_file  \\\n",
      "0  0/md/01cdc26f-e773-4ad7-8808-d04abf16aae7.md   \n",
      "1                                    0/md/10.md   \n",
      "2                                    0/md/13.md   \n",
      "3                                    0/md/15.md   \n",
      "4  0/md/178e3898-903d-47cf-bfbe-061e7dc18895.md   \n",
      "5                                    0/md/19.md   \n",
      "6                                     0/md/2.md   \n",
      "7                                    0/md/20.md   \n",
      "8                                    0/md/21.md   \n",
      "9                                    0/md/22.md   \n",
      "\n",
      "                                            mentions  \n",
      "0  [0/png/01cdc26f-e773-4ad7-8808-d04abf16aae7_1_...  \n",
      "1  [0/png/0-6bcc0131-e4ad-421e-bb1f-d8ebe5eeec7b....  \n",
      "2  [0/png/0-adaf869e-920a-4a17-91bd-e2ef3125c10e....  \n",
      "3  [0/png/0-b8cea3b1-4dde-4438-9b1a-6faf690bbad0....  \n",
      "4  [0/png/178e3898-903d-47cf-bfbe-061e7dc18895_8....  \n",
      "5  [0/png/6848748d-2881-4c26-b153-fcd5373d2f1c.pn...  \n",
      "6  [0/md/07f179c5-5705-4dbd-94a7-66eed1e066b0.md,...  \n",
      "7  [0/png/0-785cc8c9-1225-4f93-b633-349bc5113512....  \n",
      "8  [0/png/9c8c9989-2293-4e68-9ffe-6f7a5f14562f.pn...  \n",
      "9  [0/png/0-b0a4acaa-d768-4f6d-8e54-6d20f271bb7c....  \n",
      "Unique file paths in original DataFrame: 577\n"
     ]
    }
   ],
   "source": [
    "# Extract all unique file paths from the DataFrame \n",
    "file_paths = df.stack().dropna().unique().tolist()\n",
    "\n",
    "# Read file content\n",
    "def read_file(path):\n",
    "    try:\n",
    "        with open(path, 'r', encoding='utf-8') as f:\n",
    "            return f.read()\n",
    "    except:\n",
    "        return \"Failed to open file\"\n",
    "\n",
    "# Read file contents into a dictionary \n",
    "file_contents = {path: read_file(path) for path in file_paths}\n",
    "\n",
    "# Build a reference map (which files mention which) \n",
    "reference_map = defaultdict(list)\n",
    "\n",
    "for source_path, content in file_contents.items():\n",
    "    if content is None:\n",
    "        continue  # skip if content is None\n",
    "\n",
    "    for target_path in file_paths:\n",
    "        if target_path == source_path:\n",
    "            continue  # skip comparing file to itself\n",
    "\n",
    "        target_filename = os.path.basename(target_path)\n",
    "        pattern = re.escape(target_filename)\n",
    "\n",
    "        if re.search(rf'\\b{pattern}\\b', content):\n",
    "            reference_map[source_path].append(target_path)\n",
    "\n",
    "# Convert reference map to a DataFrame\n",
    "ref_df = pd.DataFrame([\n",
    "    {\"source_file\": src, \"mentions\": tgt}\n",
    "    for src, tgts in reference_map.items()\n",
    "    for tgt in tgts\n",
    "])\n",
    "\n",
    "# Group mentions into lists per source_file\n",
    "ref_summary = ref_df.groupby(\"source_file\")[\"mentions\"].apply(list).reset_index()\n",
    "\n",
    "# Some source_file names are also in mentions, therefore they aren't a source file anymore\n",
    "source_files = set(ref_summary[\"source_file\"])\n",
    "mentioned_files = set(file for mention_list in ref_summary[\"mentions\"] for file in mention_list)\n",
    "common_files = source_files.intersection(mentioned_files)\n",
    "\n",
    "# Filter out common files from the DataFrame\n",
    "filtered_ref_summary = ref_summary[~ref_summary[\"source_file\"].isin(common_files)].reset_index(drop=True)\n",
    "\n",
    "filtered_ref_summary.to_csv(\"file_reference_map.csv\", index=False)\n",
    "print(filtered_ref_summary.head(10))\n",
    "print(\"Unique file paths in original DataFrame:\", df.stack().nunique())"
   ]
  },
  {
   "cell_type": "markdown",
   "id": "df0bce5a-16de-48e6-83df-240b732f1a20",
   "metadata": {
    "user_expressions": []
   },
   "source": [
    "# Check for more linkages in the files + add the missing source files from the chats"
   ]
  },
  {
   "cell_type": "code",
   "execution_count": 14,
   "id": "10f92af7-5075-4d8d-9251-113f6e360f1e",
   "metadata": {},
   "outputs": [],
   "source": [
    "import pandas as pd\n",
    "import os\n",
    "import re\n",
    "from ast import literal_eval\n",
    "import ast"
   ]
  },
  {
   "cell_type": "code",
   "execution_count": 15,
   "id": "fe46121c-4ff4-4e45-b248-8edd4d12be74",
   "metadata": {
    "tags": []
   },
   "outputs": [
    {
     "name": "stdout",
     "output_type": "stream",
     "text": [
      "Index(['source_file', 'mentions', 'mentions2'], dtype='object')\n"
     ]
    }
   ],
   "source": [
    "def is_readable_text_file(path):\n",
    "    return any(path.endswith(ext) for ext in ['txt', 'md', 'rst', 'tex', 'nfo', 'readme', 'rtf', 'doc', 'docx',\n",
    "    'cfg', 'conf', 'config', 'ini', 'json', 'yaml', 'yml', 'toml',\n",
    "    'log', 'lst', 'cnf', 'properties', 'prefs',\n",
    "    'csv', 'tsv', 'dat', 'db', 'dbf', 'sql', 'xml',\n",
    "    'ssv', 'psv', 'jsonl', 'parquet', 'orc',\n",
    "    'html', 'htm', 'xhtml', 'xht', 'css', 'js',\n",
    "    'jsx', 'ts', 'tsx', 'vue', 'erb', 'ejs', 'jsp',\n",
    "    'liquid', 'handlebars', 'hbs', 'mustache',\n",
    "    'py', 'pyw', 'ipynb', 'java', 'c', 'cpp', 'h', 'hpp', 'cs',\n",
    "    'sh', 'bash', 'zsh', 'ksh', 'bat', 'cmd', 'ps1',\n",
    "    'r', 'jl', 'pl', 'pm', 'rb', 'go', 'lua', 'php',\n",
    "    'swift', 'scala', 'dart', 'asm', 'groovy',\n",
    "    'rmd', 'sage', 'nb',\n",
    "    'env', 'gradle', 'makefile', 'mak', 'mk',\n",
    "    'dockerfile', 'gitignore', 'gitattributes', 'gitmodules',\n",
    "    'cmake', 'make', 'ninja', 'build',\n",
    "    'manifest', 'manifest.json', 'vtt', 'srt', 'resx', 'strings',\n",
    "    'lang', 'po', 'mo', 'pot', 'msg', 'textbundle',\n",
    "    'rego', 'tf', 'tfvars', 'cue', 'bzl', 'bazel', 'nix', 'dhall',\n",
    "    'adoc', 'asciidoc', 'creole', 'mediawiki', 'wiki', 'org',\n",
    "    'eml', 'msg', 'mbox', 'mail', 'ics', 'vcf'])\n",
    "\n",
    "mentions2_list = []\n",
    "\n",
    "# Iterate over each row of the summary\n",
    "for _, row in filtered_ref_summary.iterrows():\n",
    "    mention_dict = {}\n",
    "\n",
    "    # For each mentioned file read file contents and create a dictionary key: location - values: file contents\n",
    "    for mentioned_file in row[\"mentions\"]:\n",
    "        if not is_readable_text_file(mentioned_file):\n",
    "            continue  # Skip unreadable formats\n",
    "\n",
    "        # Read file content\n",
    "        content = read_file(mentioned_file)\n",
    "        if content in [None, \"Failed to open file\"]:\n",
    "            continue\n",
    "\n",
    "        # Search for any file-type references using regex\n",
    "        # Match anything with a name and known file extension\n",
    "        found_files = re.findall(r'[\\w\\-/]*\\.\\w+', content)\n",
    "\n",
    "        # Filter duplicates and add to the mention_dict\n",
    "        if found_files:\n",
    "            mention_dict[mentioned_file] = list(set(found_files))\n",
    "\n",
    "    mentions2_list.append(mention_dict)\n",
    "\n",
    "# Add this as a new column\n",
    "filtered_ref_summary[\"mentions2\"] = mentions2_list\n",
    "\n",
    "# Get the list of chat files from result_df - LLM clasification\n",
    "chat_files = result_df['chats'].dropna().unique()\n",
    "\n",
    "# Get the list of source files already in filtered_ref_summary\n",
    "source_files = filtered_ref_summary['source_file'].dropna().unique()\n",
    "\n",
    "# Find missing chat files and collect chat files that are not found in source files\n",
    "existing_source_files = set(source_files)\n",
    "missing_chat_files = []\n",
    "for chat_file in chat_files:\n",
    "    if chat_file not in existing_source_files:\n",
    "        missing_chat_files.append(chat_file)\n",
    "\n",
    "# Create a new DataFrame with empty mentions and linkage columns\n",
    "new_rows = pd.DataFrame({\n",
    "    'source_file': missing_chat_files,\n",
    "})\n",
    "\n",
    "# Append the new rows to ref_summary\n",
    "filtered_ref_summary = pd.concat([filtered_ref_summary, new_rows], ignore_index=True)\n",
    "        \n",
    "# Save the updated DataFrame to CSV\n",
    "filtered_ref_summary.to_csv(\"file_reference_map_extended.csv\", index=False)\n",
    "print(filtered_ref_summary.columns)"
   ]
  },
  {
   "cell_type": "markdown",
   "id": "de4e01b1-5dd6-4678-b3d9-e48e859045f1",
   "metadata": {
    "user_expressions": []
   },
   "source": [
    "# Structuring the Data into CSV - Step 1 all MD files"
   ]
  },
  {
   "cell_type": "code",
   "execution_count": 16,
   "id": "37835ee2-1c35-4cf7-a08e-89d2e02c5621",
   "metadata": {
    "tags": []
   },
   "outputs": [],
   "source": [
    "import os\n",
    "import pandas as pd\n",
    "from pathlib import Path\n",
    "from bs4 import BeautifulSoup"
   ]
  },
  {
   "cell_type": "code",
   "execution_count": 17,
   "id": "b9d08d1c-afe4-4cae-b359-779c917f3689",
   "metadata": {
    "tags": []
   },
   "outputs": [],
   "source": [
    "# Create a folder and dumb all csvs\n",
    "output_dir = \"csvs\"\n",
    "os.makedirs(output_dir, exist_ok=True)\n",
    "\n",
    "# Get all MD files from the DataFrame\n",
    "all_file_paths = pd.unique(result_df.values.ravel('K'))\n",
    "md_files = []\n",
    "for file_path in all_file_paths:\n",
    "    if isinstance(file_path, str) and file_path.endswith(\".md\") and os.path.exists(file_path):\n",
    "        md_files.append(file_path)\n",
    "        \n",
    "# Use the LLM's clasification of MD files\n",
    "chat_files = set(result_df['chats'].dropna().astype(str))\n",
    "\n",
    "# Extract visible text + ANY file reference \n",
    "def extract_text_and_files(td):\n",
    "    text = td.get_text(strip=True)\n",
    "    links = []\n",
    "    for tag in td.find_all(['a', 'img']):\n",
    "        link = tag.get('href') or tag.get('src')\n",
    "        if link:\n",
    "            fname = os.path.basename(link.strip(\"'\\\"\"))\n",
    "            links.append(fname)\n",
    "    return text + (\" \" + \" \".join(links) if links else \"\")\n",
    "\n",
    "# This method extracts chat table from HTML\n",
    "def process_chat_md(file_path):\n",
    "    try:\n",
    "        with open(file_path, \"r\", encoding=\"utf-8\") as f:\n",
    "            content = f.read()\n",
    "        soup = BeautifulSoup(content, \"lxml\")\n",
    "        rows = soup.find_all(\"tr\")[1:]\n",
    "        data = []\n",
    "        for row in rows:\n",
    "            cols = row.find_all(\"td\")\n",
    "            if len(cols) == 4:\n",
    "                data.append({\n",
    "                    \"Time\": cols[0].get_text(strip=True),\n",
    "                    \"From\": cols[1].get_text(strip=True),\n",
    "                    \"To\": cols[2].get_text(strip=True),\n",
    "                    \"Message\": extract_text_and_files(cols[3])\n",
    "                })\n",
    "        return pd.DataFrame(data) if data else None\n",
    "    except Exception as e:\n",
    "        print(f\"Error processing chat file {file_path}: {e}\")\n",
    "        return None\n",
    "\n",
    "# Extract the contents of the other file types that the LLM classified\n",
    "def process_reference_md(file_path):\n",
    "    try:\n",
    "        with open(file_path, \"r\", encoding=\"utf-8\") as f:\n",
    "            content = f.read()\n",
    "        soup = BeautifulSoup(content, \"lxml\")\n",
    "        matches = []\n",
    "        for tag in soup.find_all(['a', 'img']):\n",
    "            link = tag.get('href') or tag.get('src')\n",
    "            if link:\n",
    "                fname = os.path.basename(link.strip(\"'\\\"\"))\n",
    "                if not fname.startswith(\"0-\"):\n",
    "                    matches.append(fname)\n",
    "        matches = list(set(matches))\n",
    "        return pd.DataFrame([{\"File_Name\": f} for f in matches]) if matches else None\n",
    "    except Exception as e:\n",
    "        print(f\"Error processing reference file {file_path}: {e}\")\n",
    "        return None\n",
    "\n",
    "# Loop through all MD filesand call the above methods for the afferent file type\n",
    "for file_path in md_files:\n",
    "    csv_name = os.path.basename(file_path).replace(\".md\", \".csv\")\n",
    "    csv_path = os.path.join(output_dir, csv_name)\n",
    "\n",
    "    if not os.path.exists(csv_path):\n",
    "        if file_path in chat_files:\n",
    "            df = process_chat_md(file_path)\n",
    "        else:\n",
    "            df = process_reference_md(file_path)\n",
    "\n",
    "        if df is not None:\n",
    "            df.to_csv(csv_path, index=False)\n",
    "        else:\n",
    "            print(f\"Couldn't save to CSV: {file_path}\")"
   ]
  },
  {
   "cell_type": "code",
   "execution_count": 18,
   "id": "070f1c87-70d5-4699-8220-fecbc4f05457",
   "metadata": {
    "tags": []
   },
   "outputs": [],
   "source": [
    "import os\n",
    "import ast\n",
    "from pathlib import Path"
   ]
  },
  {
   "cell_type": "code",
   "execution_count": 19,
   "id": "6f4e4289-8394-4707-b8d9-687061d28d62",
   "metadata": {
    "tags": []
   },
   "outputs": [
    {
     "data": {
      "text/html": [
       "<div>\n",
       "<style scoped>\n",
       "    .dataframe tbody tr th:only-of-type {\n",
       "        vertical-align: middle;\n",
       "    }\n",
       "\n",
       "    .dataframe tbody tr th {\n",
       "        vertical-align: top;\n",
       "    }\n",
       "\n",
       "    .dataframe thead th {\n",
       "        text-align: right;\n",
       "    }\n",
       "</style>\n",
       "<table border=\"1\" class=\"dataframe\">\n",
       "  <thead>\n",
       "    <tr style=\"text-align: right;\">\n",
       "      <th></th>\n",
       "      <th>source_file</th>\n",
       "      <th>mentions</th>\n",
       "      <th>mentions2</th>\n",
       "    </tr>\n",
       "  </thead>\n",
       "  <tbody>\n",
       "    <tr>\n",
       "      <th>0</th>\n",
       "      <td>csvs/01cdc26f-e773-4ad7-8808-d04abf16aae7.csv</td>\n",
       "      <td>[0/png/01cdc26f-e773-4ad7-8808-d04abf16aae7_1_...</td>\n",
       "      <td>{}</td>\n",
       "    </tr>\n",
       "    <tr>\n",
       "      <th>1</th>\n",
       "      <td>csvs/10.csv</td>\n",
       "      <td>[0/png/0-6bcc0131-e4ad-421e-bb1f-d8ebe5eeec7b....</td>\n",
       "      <td>{'csvs/12756724-394c-4576-b373-7c53f1abbd94.cs...</td>\n",
       "    </tr>\n",
       "    <tr>\n",
       "      <th>2</th>\n",
       "      <td>csvs/13.csv</td>\n",
       "      <td>[0/png/0-adaf869e-920a-4a17-91bd-e2ef3125c10e....</td>\n",
       "      <td>{'csvs/585875ff-f8c5-4a02-acd7-fef37dc9ff11.cs...</td>\n",
       "    </tr>\n",
       "    <tr>\n",
       "      <th>3</th>\n",
       "      <td>csvs/15.csv</td>\n",
       "      <td>[0/png/0-b8cea3b1-4dde-4438-9b1a-6faf690bbad0....</td>\n",
       "      <td>{}</td>\n",
       "    </tr>\n",
       "    <tr>\n",
       "      <th>4</th>\n",
       "      <td>csvs/178e3898-903d-47cf-bfbe-061e7dc18895.csv</td>\n",
       "      <td>[0/png/178e3898-903d-47cf-bfbe-061e7dc18895_8....</td>\n",
       "      <td>{}</td>\n",
       "    </tr>\n",
       "  </tbody>\n",
       "</table>\n",
       "</div>"
      ],
      "text/plain": [
       "                                     source_file  \\\n",
       "0  csvs/01cdc26f-e773-4ad7-8808-d04abf16aae7.csv   \n",
       "1                                    csvs/10.csv   \n",
       "2                                    csvs/13.csv   \n",
       "3                                    csvs/15.csv   \n",
       "4  csvs/178e3898-903d-47cf-bfbe-061e7dc18895.csv   \n",
       "\n",
       "                                            mentions  \\\n",
       "0  [0/png/01cdc26f-e773-4ad7-8808-d04abf16aae7_1_...   \n",
       "1  [0/png/0-6bcc0131-e4ad-421e-bb1f-d8ebe5eeec7b....   \n",
       "2  [0/png/0-adaf869e-920a-4a17-91bd-e2ef3125c10e....   \n",
       "3  [0/png/0-b8cea3b1-4dde-4438-9b1a-6faf690bbad0....   \n",
       "4  [0/png/178e3898-903d-47cf-bfbe-061e7dc18895_8....   \n",
       "\n",
       "                                           mentions2  \n",
       "0                                                 {}  \n",
       "1  {'csvs/12756724-394c-4576-b373-7c53f1abbd94.cs...  \n",
       "2  {'csvs/585875ff-f8c5-4a02-acd7-fef37dc9ff11.cs...  \n",
       "3                                                 {}  \n",
       "4                                                 {}  "
      ]
     },
     "execution_count": 19,
     "metadata": {},
     "output_type": "execute_result"
    }
   ],
   "source": [
    "csv_dir = \"csvs\"\n",
    "\n",
    "# Replace MD with CSV if the corresponding file exists\n",
    "def replace_md_with_csv(item):\n",
    "    if isinstance(item, str) and item.endswith(\".md\"):\n",
    "        base_name = Path(item).stem  # .stem extracts the filename with no extension\n",
    "        # CSV search\n",
    "        csv_path = os.path.join(csv_dir, f\"{base_name}.csv\")\n",
    "        if os.path.exists(csv_path):\n",
    "            return csv_path\n",
    "        else:\n",
    "            print(f\"CSV {item} not found\")\n",
    "    return item\n",
    "\n",
    "# Recursively handle strings, lists, and dictionaries\n",
    "def process_column_cell(cell):\n",
    "    if isinstance(cell, str):\n",
    "        return replace_md_with_csv(cell)\n",
    "    \n",
    "    elif isinstance(cell, list):\n",
    "        new_list = []\n",
    "        for item in cell:\n",
    "            new_item = process_column_cell(item)\n",
    "            new_list.append(new_item)\n",
    "        return new_list\n",
    "\n",
    "    elif isinstance(cell, dict):\n",
    "        new_dict = {}\n",
    "        for key, value in cell.items():\n",
    "            new_key = replace_md_with_csv(key)\n",
    "            new_value = process_column_cell(value)\n",
    "            new_dict[new_key] = new_value\n",
    "        return new_dict\n",
    "\n",
    "    else:\n",
    "        return cell\n",
    "    \n",
    "for col in filtered_ref_summary.columns:\n",
    "    filtered_ref_summary[col] = filtered_ref_summary[col].apply(process_column_cell)\n",
    "\n",
    "filtered_ref_summary.to_csv(\"filtered_ref_summary_csv_replaced.csv\", index=False)\n",
    "filtered_ref_summary.head()        "
   ]
  },
  {
   "cell_type": "markdown",
   "id": "8d20edad-a67b-49d6-a04e-c7dd5816c91a",
   "metadata": {
    "user_expressions": []
   },
   "source": [
    "# Structuring the Data into CSV - Step 2 OCR on image files"
   ]
  },
  {
   "cell_type": "markdown",
   "id": "bb7a0616-c062-4478-b6ef-2fd80fe5c61f",
   "metadata": {
    "user_expressions": []
   },
   "source": [
    "LIST OF FILES FOR TEST: 5a6b122c-39c1-4581-8c1f-2d6f36a9f8a0_0.png, 08a6bcd3-6477-4252-8f35-4f8f80d114f9.png, 1afcf93d-50f1-4f1e-896d-87b0da7519f7.png, 32eb7662-f212-4811-a7c1-1cfeb121cd99.png, 6bcc0131-e4ad-421e-bb1f-d8ebe5eeec7b.png, 79d9b7f2-cfe4-4615-9b75-8fea33fc0c9d.png, 4ae9bf34-c16c-4684-aa92-fec65a151275.png, 5a84cde3-7175-4044-8c88-d4c883a8fd38.png, e705d192-90ee-4fd1-9dcd-061958d1817f.png, 912204cb-8ab7-48b8-9abf-d803f3804d08_4.png"
   ]
  },
  {
   "cell_type": "markdown",
   "id": "a6a55ce6-7b7e-483b-8db8-88434d07f3f3",
   "metadata": {
    "user_expressions": []
   },
   "source": [
    "# **TEST-1: Extraction with LLAVA**"
   ]
  },
  {
   "cell_type": "code",
   "execution_count": 20,
   "id": "fbe48e62-26a6-411a-b0ba-3aeaaa33b381",
   "metadata": {
    "tags": []
   },
   "outputs": [
    {
     "name": "stdout",
     "output_type": "stream",
     "text": [
      "5a6b122c-39c1-4581-8c1f-2d6f36a9f8a0_0.png:\n",
      "The Chinese text on the image is: \"未来医疗技术与科学研究开展方向\".\n",
      "\n",
      "08a6bcd3-6477-4252-8f35-4f8f80d114f9.png:\n",
      "I'm unable to process images or provide translations directly from this interface. If you need assistance with the Chinese text in the image, please type out the text in a separate message, and I will be happy to help you with its translation or any other question you may have!\n",
      "\n",
      "1afcf93d-50f1-4f1e-896d-87b0da7519f7.png:\n",
      "你好！我有一个问题想要请教。我现在正在做一个简单的项目，需要购买一些电子设备。如果可以的话，能否向您请教一下价格和采购建议？谢谢！\n",
      "\n",
      "32eb7662-f212-4811-a7c1-1cfeb121cd99.png:\n",
      "The image you've provided shows a screenshot of a computer interface with several lines of Chinese text. Here is the extracted Chinese text from the visible parts of the screen:\n",
      "\n",
      "```\n",
      "发送人：陈某某\n",
      "发送时间：2014年6月8日 下午9点37分\n",
      "标题：关于一些信息的提供\n",
      "内容：\n",
      "\n",
      "这是一个测试文本。请问我应该在哪里写？\n",
      "```\n",
      "\n",
      "Please note that the text may be incomplete as it only covers part of what is visible in the image.\n",
      "\n",
      "6bcc0131-e4ad-421e-bb1f-d8ebe5eeec7b.png:\n",
      "抱歉，由于此图像的质量不够高，我无法识别并提取中文。请提供一个清晰的图片或文字，以便我为您提取中文。\n",
      "\n",
      "79d9b7f2-cfe4-4615-9b75-8fea33fc0c9d.png:\n",
      "投票数量：1000\n",
      "请选择/GM印章\n",
      "\n",
      "4ae9bf34-c16c-4684-aa92-fec65a151275.png:\n",
      "The image contains Chinese text that reads \"设置\" which means \"settings.\" It seems to be a screenshot of a software or system settings interface with some options visible. The actual content of the window, such as the names of the options and their values, is not clearly visible due to the angle and quality of the image.\n",
      "\n",
      "5a84cde3-7175-4044-8c88-d4c883a8fd38.png:\n",
      "很抱歉，我无法为您提供文字识别服务。\n",
      "\n",
      "e705d192-90ee-4fd1-9dcd-061958d1817f.png:\n",
      "哇哦，这个是我最喜欢的人！👯‍♀️\n",
      "\n",
      "912204cb-8ab7-48b8-9abf-d803f3804d08_4.png:\n",
      "Here are the lines of text in Chinese from the image:\n",
      "\n",
      "- 对于第三层，基于微服务架构。\n",
      "- 采用Spring Boot作为开发工具。\n",
      "- 使用Nacos进行服务注册与发现。\n",
      "- 使用MongoDB作为数据库存储。\n",
      "- 基于Redis实现缓存功能。\n",
      "\n"
     ]
    }
   ],
   "source": [
    "import base64\n",
    "import requests\n",
    "import os\n",
    "\n",
    "# List of image file paths\n",
    "image_paths = [\n",
    "    \"0/png/5a6b122c-39c1-4581-8c1f-2d6f36a9f8a0_0.png\", \n",
    "    \"0/png/08a6bcd3-6477-4252-8f35-4f8f80d114f9.png\", \n",
    "    \"0/png/1afcf93d-50f1-4f1e-896d-87b0da7519f7.png\", \n",
    "    \"0/png/32eb7662-f212-4811-a7c1-1cfeb121cd99.png\", \n",
    "    \"0/png/6bcc0131-e4ad-421e-bb1f-d8ebe5eeec7b.png\", \n",
    "    \"0/png/79d9b7f2-cfe4-4615-9b75-8fea33fc0c9d.png\", \n",
    "    \"0/png/4ae9bf34-c16c-4684-aa92-fec65a151275.png\", \n",
    "    \"0/png/5a84cde3-7175-4044-8c88-d4c883a8fd38.png\", \n",
    "    \"0/png/e705d192-90ee-4fd1-9dcd-061958d1817f.png\", \n",
    "    \"0/png/912204cb-8ab7-48b8-9abf-d803f3804d08_4.png\"\n",
    "]\n",
    "\n",
    "# Define the prompt\n",
    "prompt = \"EXTRACT AND ONLY GIVE ME THE Chinese text in the given image. NO TRANSLATION, ONLY extract the TEXT IN CHINESE MANDARIN FROM THE PNG FILE\"\n",
    "\n",
    "# Process each image\n",
    "for image_path in image_paths:\n",
    "    with open(image_path, \"rb\") as f:\n",
    "        image_b64 = base64.b64encode(f.read()).decode(\"utf-8\")\n",
    "\n",
    "    response = requests.post(\n",
    "        \"http://localhost:11434/api/generate\",\n",
    "        json={\n",
    "            \"model\": \"llava:13b\",\n",
    "            \"prompt\": prompt,\n",
    "            \"images\": [image_b64],\n",
    "            \"stream\": False\n",
    "        },\n",
    "    )\n",
    "\n",
    "    filename = os.path.basename(image_path)\n",
    "    if response.ok:\n",
    "        output_text = response.json()[\"response\"]\n",
    "    else:\n",
    "        output_text = f\"Error: {response.text}\"\n",
    "\n",
    "    print(f\"{filename}:\\n{output_text.strip()}\\n\")"
   ]
  },
  {
   "cell_type": "markdown",
   "id": "41dde838-42c2-4ed1-bd55-8031cc18d077",
   "metadata": {},
   "source": [
    "# **DATA TRANSLATION Verification - 3 LLMs**"
   ]
  },
  {
   "cell_type": "code",
   "execution_count": 21,
   "id": "a8e79992-2b44-4424-98d4-c5783bd96644",
   "metadata": {
    "tags": []
   },
   "outputs": [],
   "source": [
    "import os\n",
    "import pandas as pd"
   ]
  },
  {
   "cell_type": "code",
   "execution_count": 22,
   "id": "ff4c91a1-3686-4dc0-a215-7c5f89efd28d",
   "metadata": {
    "tags": []
   },
   "outputs": [
    {
     "name": "stdout",
     "output_type": "stream",
     "text": [
      "                                           other  \\\n",
      "0  csvs/9d7bc879-3250-4013-ac04-5ff9bd6dff40.csv   \n",
      "1                                           None   \n",
      "2                                           None   \n",
      "3                                           None   \n",
      "4                                           None   \n",
      "\n",
      "                                          images        chats  \n",
      "0  csvs/dbc9c90e-a3e6-4d71-bb93-5fb8394095ac.csv  csvs/28.csv  \n",
      "1  csvs/9fd06037-11f1-4ad5-9a7d-cbfb3fa4193b.csv   csvs/5.csv  \n",
      "2  csvs/3348953d-66e9-4cac-8675-65bb5f2ef929.csv  csvs/38.csv  \n",
      "3  csvs/07f179c5-5705-4dbd-94a7-66eed1e066b0.csv  csvs/18.csv  \n",
      "4  csvs/01cdc26f-e773-4ad7-8808-d04abf16aae7.csv   csvs/1.csv  \n"
     ]
    }
   ],
   "source": [
    "# Use the csvs folder and the LLM classification of MD files to create a new df that stores the csvs into categories.\n",
    "\n",
    "csv_folder = \"csvs\"\n",
    "\n",
    "csv_mapping = {}\n",
    "# Loop through each file in the CSV folder\n",
    "for filename in os.listdir(csv_folder):\n",
    "    # Check for csv\n",
    "    if filename.endswith('.csv'):\n",
    "        # Replace the \".csv\" extension with \".md\" to create the key\n",
    "        md_filename = filename.replace('.csv', '.md')\n",
    "        \n",
    "        # Set the value to the full path to the CSV file \n",
    "        csv_full_path = os.path.join(csv_folder, filename)\n",
    "        \n",
    "        # Add the key-value pair to the mapping\n",
    "        csv_mapping[md_filename] = csv_full_path\n",
    "\n",
    "# Step 2: Define function to replace .md path with .csv path\n",
    "def replace_md_with_csv(val):\n",
    "    if isinstance(val, str):\n",
    "        base = os.path.basename(val)\n",
    "        return csv_mapping.get(base, val)\n",
    "    return val\n",
    "\n",
    "df_csvs_llm = result_df.applymap(replace_md_with_csv)\n",
    "df_csvs_llm.to_csv(\"updated_with_csv_paths.csv\", index=False)\n",
    "print(df_csvs_llm.head())"
   ]
  },
  {
   "cell_type": "markdown",
   "id": "74cd9bec-a3c0-48d0-8366-f54ca8f4ae1c",
   "metadata": {},
   "source": [
    "# **TEST-1: gemma3:27b**"
   ]
  },
  {
   "cell_type": "code",
   "execution_count": 9,
   "id": "703a4971-7d0b-4c8e-ae00-78706f144c00",
   "metadata": {
    "tags": []
   },
   "outputs": [
    {
     "name": "stderr",
     "output_type": "stream",
     "text": [
      "Translating with Ollama: 100%|██████████| 149/149 [07:36<00:00,  3.06s/it]\n"
     ]
    }
   ],
   "source": [
    "import pandas as pd\n",
    "import requests\n",
    "from tqdm import tqdm\n",
    "from concurrent.futures import ThreadPoolExecutor, as_completed\n",
    "\n",
    "csv_path = 'csvs/10.csv'\n",
    "output_path = '3llms_10.csv'  # Output in project root directory\n",
    "df = pd.read_csv(csv_path)\n",
    "\n",
    "def get_context(df, index, window=5):\n",
    "    start = max(0, index - window)\n",
    "    end = min(len(df), index + window + 1)\n",
    "    return \"\\n\".join(df['Message'].iloc[start:end].dropna())\n",
    "\n",
    "def query_ollama(prompt, model=\"gemma3:27b\"):\n",
    "    url = \"http://localhost:11434/api/generate\"\n",
    "    payload = {\n",
    "        \"model\": model,\n",
    "        \"prompt\": prompt,\n",
    "        \"stream\": False\n",
    "    }\n",
    "    try:\n",
    "        response = requests.post(url, json=payload, timeout=90)\n",
    "        response.raise_for_status()\n",
    "        return response.json()[\"response\"].strip()\n",
    "    except Exception as e:\n",
    "        print(f\"Ollama error: {e}\")\n",
    "        return \"[Translation Error]\"\n",
    "\n",
    "def translate_row(index):\n",
    "    target = df.at[index, 'Message']\n",
    "    if pd.isna(target):\n",
    "        return index, \"\"\n",
    "    context = get_context(df, index)\n",
    "    prompt = (\n",
    "        \"You are translating Chinese messages to English. Below is a series of related messages. \"\n",
    "        \"Use the full context to understand the meaning, but only translate the specific message provided.\\n\\n\"\n",
    "        f\"Context:\\n{context}\\n\\n\"\n",
    "        f\"Message to translate:\\n{target}\\n\\n\"\n",
    "        \"ONLY RETURN the English translation of the message, ANYTHING ELSE IS FORBIDDEN! \"\n",
    "        \"If you encounter a filename or file reference, preserve it exactly as it appears, DON'T add anything!\"\n",
    "    )\n",
    "    translation = query_ollama(prompt)\n",
    "    return index, translation\n",
    "\n",
    "translations = [\"\"] * len(df)\n",
    "\n",
    "futures = []\n",
    "with ThreadPoolExecutor(max_workers=8) as executor:\n",
    "    for index in df.index:\n",
    "        futures.append(executor.submit(translate_row, index))\n",
    "\n",
    "    for future in tqdm(as_completed(futures), total=len(futures), desc=\"Translating with Ollama\"):\n",
    "        idx, result = future.result()\n",
    "        translations[idx] = result\n",
    "\n",
    "translated_df = pd.DataFrame({'gemma3:27b': translations})\n",
    "translated_df.to_csv(output_path, index=False)"
   ]
  },
  {
   "cell_type": "markdown",
   "id": "01ffc2e2-1b26-46f1-81bb-f02c5ffa8fbf",
   "metadata": {
    "user_expressions": []
   },
   "source": [
    "# **TEST-2: 7shi/llama-translate:8b-q4_K_M**"
   ]
  },
  {
   "cell_type": "code",
   "execution_count": 10,
   "id": "11daa7c9-848a-43f1-92a8-00c1d2dfa6d7",
   "metadata": {
    "tags": []
   },
   "outputs": [
    {
     "name": "stderr",
     "output_type": "stream",
     "text": [
      "Translating with 7shi/llama-translate:8b-q4_K_M: 100%|██████████| 149/149 [08:52<00:00,  3.57s/it]\n"
     ]
    }
   ],
   "source": [
    "import pandas as pd\n",
    "import requests\n",
    "from tqdm import tqdm\n",
    "from concurrent.futures import ThreadPoolExecutor, as_completed\n",
    "\n",
    "source_csv_path = 'csvs/10.csv'\n",
    "existing_translation_path = '3llms_10.csv'\n",
    "new_model_name = '7shi/llama-translate:8b-q4_K_M'\n",
    "\n",
    "# Load original messages and previously translated file\n",
    "source_df = pd.read_csv(source_csv_path)\n",
    "translated_df = pd.read_csv(existing_translation_path)\n",
    "\n",
    "def get_context(df, index, window=5):\n",
    "    start = max(0, index - window)\n",
    "    end = min(len(df), index + window + 1)\n",
    "    return \"\\n\".join(df['Message'].iloc[start:end].dropna())\n",
    "\n",
    "def query_ollama(prompt, model):\n",
    "    url = \"http://localhost:11434/api/generate\"\n",
    "    payload = {\n",
    "        \"model\": model,\n",
    "        \"prompt\": prompt,\n",
    "        \"stream\": False\n",
    "    }\n",
    "    try:\n",
    "        response = requests.post(url, json=payload, timeout=90)\n",
    "        response.raise_for_status()\n",
    "        return response.json()[\"response\"].strip()\n",
    "    except Exception as e:\n",
    "        print(f\"Ollama error: {e}\")\n",
    "        return \"[Translation Error]\"\n",
    "\n",
    "def translate_row(index):\n",
    "    target = source_df.at[index, 'Message']\n",
    "    if pd.isna(target):\n",
    "        return index, \"\"\n",
    "    context = get_context(source_df, index)\n",
    "    prompt = (\n",
    "        \"Transalte Mandarin to English. Below is a series of related messages. \"\n",
    "        f\"Context:\\n{context}\\n\\n\"\n",
    "        f\"Message to translate:\\n{target}\\n\\n\"\n",
    "    )\n",
    "    translation = query_ollama(prompt, model=new_model_name)\n",
    "    return index, translation\n",
    "\n",
    "# Prepare for parallel processing\n",
    "translations = [\"\"] * len(source_df)\n",
    "futures = []\n",
    "with ThreadPoolExecutor(max_workers=8) as executor:\n",
    "    for index in source_df.index:\n",
    "        futures.append(executor.submit(translate_row, index))\n",
    "\n",
    "    for future in tqdm(as_completed(futures), total=len(futures), desc=f\"Translating with {new_model_name}\"):\n",
    "        idx, result = future.result()\n",
    "        translations[idx] = result\n",
    "\n",
    "translated_df[new_model_name] = translations\n",
    "translated_df.to_csv(existing_translation_path, index=False)"
   ]
  },
  {
   "cell_type": "markdown",
   "id": "a7476dfc-6315-4a48-a5c3-bf0fe4896651",
   "metadata": {},
   "source": [
    "# **TEST-3: yi:34b**"
   ]
  },
  {
   "cell_type": "code",
   "execution_count": 11,
   "id": "3cd03420-4ab3-40c0-8c22-dca324cf0318",
   "metadata": {
    "tags": []
   },
   "outputs": [
    {
     "name": "stderr",
     "output_type": "stream",
     "text": [
      "Translating with yi:34b: 100%|██████████| 149/149 [07:20<00:00,  2.96s/it]\n"
     ]
    }
   ],
   "source": [
    "import pandas as pd\n",
    "import requests\n",
    "from tqdm import tqdm\n",
    "from concurrent.futures import ThreadPoolExecutor, as_completed\n",
    "\n",
    "# File paths\n",
    "source_csv_path = 'csvs/10.csv'\n",
    "existing_translation_path = '3llms_10.csv'\n",
    "new_model_name = 'yi:34b'\n",
    "\n",
    "# Load original source messages and existing translations\n",
    "source_df = pd.read_csv(source_csv_path)\n",
    "translated_df = pd.read_csv(existing_translation_path)\n",
    "\n",
    "# Context window function\n",
    "def get_context(df, index, window=5):\n",
    "    start = max(0, index - window)\n",
    "    end = min(len(df), index + window + 1)\n",
    "    return \"\\n\".join(df['Message'].iloc[start:end].dropna())\n",
    "\n",
    "def query_ollama(prompt, model):\n",
    "    url = \"http://localhost:11434/api/generate\"\n",
    "    payload = {\n",
    "        \"model\": model,\n",
    "        \"prompt\": prompt,\n",
    "        \"stream\": False\n",
    "    }\n",
    "    try:\n",
    "        response = requests.post(url, json=payload, timeout=90)\n",
    "        response.raise_for_status()\n",
    "        return response.json()[\"response\"].strip()\n",
    "    except Exception as e:\n",
    "        print(f\"Ollama error: {e}\")\n",
    "        return \"[Translation Error]\"\n",
    "\n",
    "# Translate a single row\n",
    "def translate_row(index):\n",
    "    target = source_df.at[index, 'Message']\n",
    "    if pd.isna(target):\n",
    "        return index, \"\"\n",
    "    context = get_context(source_df, index)\n",
    "    prompt = (\n",
    "        \"You are translating Chinese messages to English. Below is a series of related messages. \"\n",
    "        \"Use the full context to understand the meaning, but only translate the specific message provided.\\n\\n\"\n",
    "        f\"Context:\\n{context}\\n\\n\"\n",
    "        f\"Message to translate:\\n{target}\\n\\n\"\n",
    "        \"ONLY RETURN the English translation of the message, ANYTHING ELSE IS FORBIDDEN! \"\n",
    "        \"If you encounter a filename or file reference, preserve it exactly as it appears, DON'T add anything!\"\n",
    "    )\n",
    "    translation = query_ollama(prompt, model=new_model_name)\n",
    "    return index, translation\n",
    "\n",
    "# Run translations in parallel\n",
    "translations = [\"\"] * len(source_df)\n",
    "futures = []\n",
    "with ThreadPoolExecutor(max_workers=8) as executor:\n",
    "    for index in source_df.index:\n",
    "        futures.append(executor.submit(translate_row, index))\n",
    "\n",
    "    for future in tqdm(as_completed(futures), total=len(futures), desc=f\"Translating with {new_model_name}\"):\n",
    "        idx, result = future.result()\n",
    "        translations[idx] = result\n",
    "\n",
    "translated_df[new_model_name] = translations\n",
    "translated_df.to_csv(existing_translation_path, index=False)"
   ]
  },
  {
   "cell_type": "markdown",
   "id": "465aca0c-8ee6-4a66-909f-eff88a49d588",
   "metadata": {
    "tags": []
   },
   "source": [
    "# **Levenshtein Distance Between the 3 Translations**"
   ]
  },
  {
   "cell_type": "code",
   "execution_count": 14,
   "id": "1ee30282-f681-4e1e-8747-ed4c7616d232",
   "metadata": {
    "tags": []
   },
   "outputs": [],
   "source": [
    "import pandas as pd\n",
    "import Levenshtein\n",
    "from itertools import combinations\n",
    "\n",
    "csv_path = '3llms_10.csv'\n",
    "df = pd.read_csv(csv_path)\n",
    "\n",
    "# Identify all translation columns \n",
    "translation_columns = [col for col in df.columns if not col.startswith('Levenshtein')]\n",
    "\n",
    "# Compute Levenshtein distance for all possible combinations\n",
    "for col1, col2 in combinations(translation_columns, 2):\n",
    "    new_col_name = f\"Levenshtein ({col1} vs {col2})\"\n",
    "    df[new_col_name] = [\n",
    "        Levenshtein.distance(str(a), str(b)) if pd.notna(a) and pd.notna(b) else None\n",
    "        for a, b in zip(df[col1], df[col2])\n",
    "    ]\n",
    "\n",
    "# Save updated DataFrame back to the same CSV\n",
    "df.to_csv(csv_path, index=False)"
   ]
  },
  {
   "cell_type": "markdown",
   "id": "a5cfb529-3a71-4da6-b4e4-9cde8065024c",
   "metadata": {},
   "source": [
    "# **CHATS TRANSLATION - GEMMA3:27B**"
   ]
  },
  {
   "cell_type": "code",
   "execution_count": 23,
   "id": "a33b558c-25cf-451e-9ccd-92892c0ef1e3",
   "metadata": {
    "tags": []
   },
   "outputs": [
    {
     "name": "stdout",
     "output_type": "stream",
     "text": [
      "Processing: csvs/28.csv\n"
     ]
    },
    {
     "name": "stderr",
     "output_type": "stream",
     "text": [
      "Translating: csvs/28.csv: 100%|██████████| 46/46 [02:55<00:00,  3.81s/it]\n"
     ]
    },
    {
     "name": "stdout",
     "output_type": "stream",
     "text": [
      "Finished and saved: csvs/28.csv\n",
      "\n",
      "Processing: csvs/5.csv\n"
     ]
    },
    {
     "name": "stderr",
     "output_type": "stream",
     "text": [
      "Translating: csvs/5.csv: 100%|██████████| 17/17 [00:24<00:00,  1.46s/it]\n"
     ]
    },
    {
     "name": "stdout",
     "output_type": "stream",
     "text": [
      "Finished and saved: csvs/5.csv\n",
      "\n",
      "Processing: csvs/38.csv\n"
     ]
    },
    {
     "name": "stderr",
     "output_type": "stream",
     "text": [
      "Translating: csvs/38.csv: 100%|██████████| 21/21 [01:18<00:00,  3.75s/it]\n"
     ]
    },
    {
     "name": "stdout",
     "output_type": "stream",
     "text": [
      "Finished and saved: csvs/38.csv\n",
      "\n",
      "Processing: csvs/18.csv\n"
     ]
    },
    {
     "name": "stderr",
     "output_type": "stream",
     "text": [
      "Translating: csvs/18.csv: 100%|██████████| 84/84 [02:10<00:00,  1.55s/it]\n"
     ]
    },
    {
     "name": "stdout",
     "output_type": "stream",
     "text": [
      "Finished and saved: csvs/18.csv\n",
      "\n",
      "Processing: csvs/1.csv\n"
     ]
    },
    {
     "name": "stderr",
     "output_type": "stream",
     "text": [
      "Translating: csvs/1.csv:   7%|▋         | 550/8290 [20:25<13:53:57,  6.46s/it]"
     ]
    },
    {
     "name": "stdout",
     "output_type": "stream",
     "text": [
      "Ollama error: HTTPConnectionPool(host='localhost', port=11434): Read timed out. (read timeout=90)\n"
     ]
    },
    {
     "name": "stderr",
     "output_type": "stream",
     "text": [
      "Translating: csvs/1.csv:  68%|██████▊   | 5642/8290 [3:25:59<6:53:56,  9.38s/it] "
     ]
    },
    {
     "name": "stdout",
     "output_type": "stream",
     "text": [
      "Ollama error: HTTPConnectionPool(host='localhost', port=11434): Read timed out. (read timeout=90)\n"
     ]
    },
    {
     "name": "stderr",
     "output_type": "stream",
     "text": [
      "Translating: csvs/1.csv:  69%|██████▉   | 5711/8290 [3:30:46<5:57:09,  8.31s/it]"
     ]
    },
    {
     "name": "stdout",
     "output_type": "stream",
     "text": [
      "Ollama error: HTTPConnectionPool(host='localhost', port=11434): Read timed out. (read timeout=90)\n"
     ]
    },
    {
     "name": "stderr",
     "output_type": "stream",
     "text": [
      "Translating: csvs/1.csv:  77%|███████▋  | 6419/8290 [4:01:12<50:27,  1.62s/it]  "
     ]
    },
    {
     "name": "stdout",
     "output_type": "stream",
     "text": [
      "Ollama error: HTTPConnectionPool(host='localhost', port=11434): Read timed out. (read timeout=90)\n"
     ]
    },
    {
     "name": "stderr",
     "output_type": "stream",
     "text": [
      "Translating: csvs/1.csv:  87%|████████▋ | 7230/8290 [4:35:32<2:34:48,  8.76s/it]"
     ]
    },
    {
     "name": "stdout",
     "output_type": "stream",
     "text": [
      "Ollama error: HTTPConnectionPool(host='localhost', port=11434): Read timed out. (read timeout=90)\n"
     ]
    },
    {
     "name": "stderr",
     "output_type": "stream",
     "text": [
      "Translating: csvs/1.csv:  88%|████████▊ | 7268/8290 [4:37:49<2:13:42,  7.85s/it]"
     ]
    },
    {
     "name": "stdout",
     "output_type": "stream",
     "text": [
      "Ollama error: HTTPConnectionPool(host='localhost', port=11434): Read timed out. (read timeout=90)\n"
     ]
    },
    {
     "name": "stderr",
     "output_type": "stream",
     "text": [
      "Translating: csvs/1.csv: 100%|██████████| 8290/8290 [5:20:43<00:00,  2.32s/it]  \n"
     ]
    },
    {
     "name": "stdout",
     "output_type": "stream",
     "text": [
      "Finished and saved: csvs/1.csv\n",
      "\n",
      "Processing: csvs/19.csv\n"
     ]
    },
    {
     "name": "stderr",
     "output_type": "stream",
     "text": [
      "Translating: csvs/19.csv: 100%|██████████| 21/21 [01:04<00:00,  3.06s/it]\n"
     ]
    },
    {
     "name": "stdout",
     "output_type": "stream",
     "text": [
      "Finished and saved: csvs/19.csv\n",
      "\n",
      "Processing: csvs/29.csv\n"
     ]
    },
    {
     "name": "stderr",
     "output_type": "stream",
     "text": [
      "Translating: csvs/29.csv: 100%|██████████| 80/80 [03:05<00:00,  2.31s/it]\n"
     ]
    },
    {
     "name": "stdout",
     "output_type": "stream",
     "text": [
      "Finished and saved: csvs/29.csv\n",
      "\n",
      "Processing: csvs/4.csv\n"
     ]
    },
    {
     "name": "stderr",
     "output_type": "stream",
     "text": [
      "Translating: csvs/4.csv: 100%|██████████| 513/513 [17:16<00:00,  2.02s/it]\n"
     ]
    },
    {
     "name": "stdout",
     "output_type": "stream",
     "text": [
      "Finished and saved: csvs/4.csv\n",
      "\n",
      "Processing: csvs/39.csv\n"
     ]
    },
    {
     "name": "stderr",
     "output_type": "stream",
     "text": [
      "Translating: csvs/39.csv: 100%|██████████| 821/821 [27:27<00:00,  2.01s/it]\n"
     ]
    },
    {
     "name": "stdout",
     "output_type": "stream",
     "text": [
      "Finished and saved: csvs/39.csv\n",
      "\n",
      "Processing: csvs/16.csv\n"
     ]
    },
    {
     "name": "stderr",
     "output_type": "stream",
     "text": [
      "Translating: csvs/16.csv: 100%|██████████| 149/149 [04:35<00:00,  1.85s/it]\n"
     ]
    },
    {
     "name": "stdout",
     "output_type": "stream",
     "text": [
      "Finished and saved: csvs/16.csv\n",
      "\n",
      "Processing: csvs/22.csv\n"
     ]
    },
    {
     "name": "stderr",
     "output_type": "stream",
     "text": [
      "Translating: csvs/22.csv: 100%|██████████| 91/91 [03:16<00:00,  2.16s/it]\n"
     ]
    },
    {
     "name": "stdout",
     "output_type": "stream",
     "text": [
      "Finished and saved: csvs/22.csv\n",
      "\n",
      "Processing: csvs/32.csv\n"
     ]
    },
    {
     "name": "stderr",
     "output_type": "stream",
     "text": [
      "Translating: csvs/32.csv: 100%|██████████| 86/86 [02:35<00:00,  1.81s/it]\n"
     ]
    },
    {
     "name": "stdout",
     "output_type": "stream",
     "text": [
      "Finished and saved: csvs/32.csv\n",
      "\n",
      "Processing: csvs/26.csv\n"
     ]
    },
    {
     "name": "stderr",
     "output_type": "stream",
     "text": [
      "Translating: csvs/26.csv: 100%|██████████| 6/6 [00:17<00:00,  2.85s/it]\n"
     ]
    },
    {
     "name": "stdout",
     "output_type": "stream",
     "text": [
      "Finished and saved: csvs/26.csv\n",
      "\n",
      "Processing: csvs/12.csv\n"
     ]
    },
    {
     "name": "stderr",
     "output_type": "stream",
     "text": [
      "Translating: csvs/12.csv: 100%|██████████| 392/392 [13:52<00:00,  2.12s/it]\n"
     ]
    },
    {
     "name": "stdout",
     "output_type": "stream",
     "text": [
      "Finished and saved: csvs/12.csv\n",
      "\n",
      "Processing: csvs/36.csv\n"
     ]
    },
    {
     "name": "stderr",
     "output_type": "stream",
     "text": [
      "Translating: csvs/36.csv: 100%|██████████| 199/199 [05:28<00:00,  1.65s/it]\n"
     ]
    },
    {
     "name": "stdout",
     "output_type": "stream",
     "text": [
      "Finished and saved: csvs/36.csv\n",
      "\n",
      "Processing: csvs/27.csv\n"
     ]
    },
    {
     "name": "stderr",
     "output_type": "stream",
     "text": [
      "Translating: csvs/27.csv: 100%|██████████| 29/29 [02:44<00:00,  5.67s/it]\n"
     ]
    },
    {
     "name": "stdout",
     "output_type": "stream",
     "text": [
      "Ollama error: HTTPConnectionPool(host='localhost', port=11434): Read timed out. (read timeout=90)\n",
      "Finished and saved: csvs/27.csv\n",
      "\n",
      "Processing: csvs/13.csv\n"
     ]
    },
    {
     "name": "stderr",
     "output_type": "stream",
     "text": [
      "Translating: csvs/13.csv: 100%|██████████| 244/244 [08:18<00:00,  2.04s/it]\n"
     ]
    },
    {
     "name": "stdout",
     "output_type": "stream",
     "text": [
      "Finished and saved: csvs/13.csv\n",
      "\n",
      "Processing: csvs/37.csv\n"
     ]
    },
    {
     "name": "stderr",
     "output_type": "stream",
     "text": [
      "Translating: csvs/37.csv:  10%|▉         | 32/329 [02:47<52:10, 10.54s/it]"
     ]
    },
    {
     "name": "stdout",
     "output_type": "stream",
     "text": [
      "Ollama error: HTTPConnectionPool(host='localhost', port=11434): Read timed out. (read timeout=90)\n"
     ]
    },
    {
     "name": "stderr",
     "output_type": "stream",
     "text": [
      "Translating: csvs/37.csv:  16%|█▋        | 54/329 [04:46<21:03,  4.59s/it]"
     ]
    },
    {
     "name": "stdout",
     "output_type": "stream",
     "text": [
      "Ollama error: HTTPConnectionPool(host='localhost', port=11434): Read timed out. (read timeout=90)\n"
     ]
    },
    {
     "name": "stderr",
     "output_type": "stream",
     "text": [
      "Translating: csvs/37.csv:  27%|██▋       | 90/329 [07:55<16:51,  4.23s/it]"
     ]
    },
    {
     "name": "stdout",
     "output_type": "stream",
     "text": [
      "Ollama error: HTTPConnectionPool(host='localhost', port=11434): Read timed out. (read timeout=90)\n"
     ]
    },
    {
     "name": "stderr",
     "output_type": "stream",
     "text": [
      "Translating: csvs/37.csv: 100%|██████████| 329/329 [16:39<00:00,  3.04s/it]\n"
     ]
    },
    {
     "name": "stdout",
     "output_type": "stream",
     "text": [
      "Finished and saved: csvs/37.csv\n",
      "\n",
      "Processing: csvs/17.csv\n"
     ]
    },
    {
     "name": "stderr",
     "output_type": "stream",
     "text": [
      "Translating: csvs/17.csv: 100%|██████████| 55/55 [01:42<00:00,  1.86s/it]\n"
     ]
    },
    {
     "name": "stdout",
     "output_type": "stream",
     "text": [
      "Finished and saved: csvs/17.csv\n",
      "\n",
      "Processing: csvs/23.csv\n"
     ]
    },
    {
     "name": "stderr",
     "output_type": "stream",
     "text": [
      "Translating: csvs/23.csv: 100%|██████████| 24/24 [00:45<00:00,  1.90s/it]\n"
     ]
    },
    {
     "name": "stdout",
     "output_type": "stream",
     "text": [
      "Finished and saved: csvs/23.csv\n",
      "\n",
      "Processing: csvs/33.csv\n"
     ]
    },
    {
     "name": "stderr",
     "output_type": "stream",
     "text": [
      "Translating: csvs/33.csv: 100%|██████████| 31/31 [00:52<00:00,  1.70s/it]\n"
     ]
    },
    {
     "name": "stdout",
     "output_type": "stream",
     "text": [
      "Finished and saved: csvs/33.csv\n",
      "\n",
      "Processing: csvs/24.csv\n"
     ]
    },
    {
     "name": "stderr",
     "output_type": "stream",
     "text": [
      "Translating: csvs/24.csv: 100%|██████████| 55/55 [01:57<00:00,  2.13s/it]\n"
     ]
    },
    {
     "name": "stdout",
     "output_type": "stream",
     "text": [
      "Finished and saved: csvs/24.csv\n",
      "\n",
      "Processing: csvs/41.csv\n"
     ]
    },
    {
     "name": "stderr",
     "output_type": "stream",
     "text": [
      "Translating: csvs/41.csv: 100%|██████████| 322/322 [10:44<00:00,  2.00s/it]\n"
     ]
    },
    {
     "name": "stdout",
     "output_type": "stream",
     "text": [
      "Finished and saved: csvs/41.csv\n",
      "\n",
      "Processing: csvs/10.csv\n"
     ]
    },
    {
     "name": "stderr",
     "output_type": "stream",
     "text": [
      "Translating: csvs/10.csv: 100%|██████████| 149/149 [06:13<00:00,  2.51s/it]\n"
     ]
    },
    {
     "name": "stdout",
     "output_type": "stream",
     "text": [
      "Finished and saved: csvs/10.csv\n",
      "\n",
      "Processing: csvs/9.csv\n"
     ]
    },
    {
     "name": "stderr",
     "output_type": "stream",
     "text": [
      "Translating: csvs/9.csv: 100%|██████████| 235/235 [08:11<00:00,  2.09s/it]\n"
     ]
    },
    {
     "name": "stdout",
     "output_type": "stream",
     "text": [
      "Finished and saved: csvs/9.csv\n",
      "\n",
      "Processing: csvs/34.csv\n"
     ]
    },
    {
     "name": "stderr",
     "output_type": "stream",
     "text": [
      "Translating: csvs/34.csv: 100%|██████████| 426/426 [13:25<00:00,  1.89s/it]\n"
     ]
    },
    {
     "name": "stdout",
     "output_type": "stream",
     "text": [
      "Finished and saved: csvs/34.csv\n",
      "\n",
      "Processing: csvs/14.csv\n"
     ]
    },
    {
     "name": "stderr",
     "output_type": "stream",
     "text": [
      "Translating: csvs/14.csv: 100%|██████████| 44/44 [01:18<00:00,  1.78s/it]\n"
     ]
    },
    {
     "name": "stdout",
     "output_type": "stream",
     "text": [
      "Finished and saved: csvs/14.csv\n",
      "\n",
      "Processing: csvs/20.csv\n"
     ]
    },
    {
     "name": "stderr",
     "output_type": "stream",
     "text": [
      "Translating: csvs/20.csv: 100%|██████████| 68/68 [02:06<00:00,  1.86s/it]\n"
     ]
    },
    {
     "name": "stdout",
     "output_type": "stream",
     "text": [
      "Finished and saved: csvs/20.csv\n",
      "\n",
      "Processing: csvs/30.csv\n"
     ]
    },
    {
     "name": "stderr",
     "output_type": "stream",
     "text": [
      "Translating: csvs/30.csv: 100%|██████████| 322/322 [08:36<00:00,  1.61s/it]\n"
     ]
    },
    {
     "name": "stdout",
     "output_type": "stream",
     "text": [
      "Finished and saved: csvs/30.csv\n",
      "\n",
      "Processing: csvs/15.csv\n"
     ]
    },
    {
     "name": "stderr",
     "output_type": "stream",
     "text": [
      "Translating: csvs/15.csv: 100%|██████████| 199/199 [06:06<00:00,  1.84s/it]\n"
     ]
    },
    {
     "name": "stdout",
     "output_type": "stream",
     "text": [
      "Finished and saved: csvs/15.csv\n",
      "\n",
      "Processing: csvs/21.csv\n"
     ]
    },
    {
     "name": "stderr",
     "output_type": "stream",
     "text": [
      "Translating: csvs/21.csv: 100%|██████████| 1046/1046 [24:47<00:00,  1.42s/it]\n"
     ]
    },
    {
     "name": "stdout",
     "output_type": "stream",
     "text": [
      "Finished and saved: csvs/21.csv\n",
      "\n",
      "Processing: csvs/31.csv\n"
     ]
    },
    {
     "name": "stderr",
     "output_type": "stream",
     "text": [
      "Translating: csvs/31.csv: 100%|██████████| 44/44 [01:06<00:00,  1.51s/it]\n"
     ]
    },
    {
     "name": "stdout",
     "output_type": "stream",
     "text": [
      "Finished and saved: csvs/31.csv\n",
      "\n",
      "Processing: csvs/40.csv\n"
     ]
    },
    {
     "name": "stderr",
     "output_type": "stream",
     "text": [
      "Translating: csvs/40.csv: 100%|██████████| 129/129 [04:50<00:00,  2.25s/it]\n"
     ]
    },
    {
     "name": "stdout",
     "output_type": "stream",
     "text": [
      "Finished and saved: csvs/40.csv\n",
      "\n",
      "Processing: csvs/11.csv\n"
     ]
    },
    {
     "name": "stderr",
     "output_type": "stream",
     "text": [
      "Translating: csvs/11.csv: 100%|██████████| 125/125 [04:12<00:00,  2.02s/it]\n"
     ]
    },
    {
     "name": "stdout",
     "output_type": "stream",
     "text": [
      "Finished and saved: csvs/11.csv\n",
      "\n",
      "Processing: csvs/35.csv\n"
     ]
    },
    {
     "name": "stderr",
     "output_type": "stream",
     "text": [
      "Translating: csvs/35.csv: 100%|██████████| 196/196 [06:40<00:00,  2.04s/it]\n"
     ]
    },
    {
     "name": "stdout",
     "output_type": "stream",
     "text": [
      "Finished and saved: csvs/35.csv\n",
      "\n",
      "Processing: csvs/3.csv\n"
     ]
    },
    {
     "name": "stderr",
     "output_type": "stream",
     "text": [
      "Translating: csvs/3.csv: 100%|██████████| 23/23 [00:37<00:00,  1.63s/it]\n"
     ]
    },
    {
     "name": "stdout",
     "output_type": "stream",
     "text": [
      "Finished and saved: csvs/3.csv\n",
      "\n",
      "Processing: csvs/7.csv\n"
     ]
    },
    {
     "name": "stderr",
     "output_type": "stream",
     "text": [
      "Translating: csvs/7.csv: 100%|██████████| 196/196 [05:34<00:00,  1.71s/it]\n"
     ]
    },
    {
     "name": "stdout",
     "output_type": "stream",
     "text": [
      "Finished and saved: csvs/7.csv\n",
      "\n",
      "Processing: csvs/6.csv\n"
     ]
    },
    {
     "name": "stderr",
     "output_type": "stream",
     "text": [
      "Translating: csvs/6.csv: 100%|██████████| 136/136 [03:08<00:00,  1.38s/it]\n"
     ]
    },
    {
     "name": "stdout",
     "output_type": "stream",
     "text": [
      "Finished and saved: csvs/6.csv\n",
      "\n",
      "Processing: csvs/2.csv\n"
     ]
    },
    {
     "name": "stderr",
     "output_type": "stream",
     "text": [
      "Translating: csvs/2.csv: 100%|██████████| 500/500 [16:03<00:00,  1.93s/it]"
     ]
    },
    {
     "name": "stdout",
     "output_type": "stream",
     "text": [
      "Finished and saved: csvs/2.csv\n",
      "\n"
     ]
    },
    {
     "name": "stderr",
     "output_type": "stream",
     "text": [
      "\n"
     ]
    }
   ],
   "source": [
    "import pandas as pd\n",
    "import requests\n",
    "from tqdm import tqdm\n",
    "from concurrent.futures import ThreadPoolExecutor, as_completed\n",
    "\n",
    "# Chats - CSV loop\n",
    "for csv_path in df_csvs_llm['chats']:\n",
    "    print(f\"Processing: {csv_path}\")\n",
    "    \n",
    "    # Load the individual CSV file\n",
    "    df = pd.read_csv(csv_path)\n",
    "    df['message_translation'] = \"\"\n",
    "\n",
    "    # Function to get context around the target message\n",
    "    def get_context(df, index, window=5):\n",
    "        start = max(0, index - window)\n",
    "        end = min(len(df), index + window + 1)\n",
    "        return \"\\n\".join(df['Message'].iloc[start:end].dropna())\n",
    "\n",
    "    def query_ollama(prompt, model=\"gemma3:27b\"):\n",
    "        url = \"http://localhost:11434/api/generate\"\n",
    "        payload = {\n",
    "            \"model\": model,\n",
    "            \"prompt\": prompt,\n",
    "            \"stream\": False\n",
    "        }\n",
    "        try:\n",
    "            response = requests.post(url, json=payload, timeout=90)\n",
    "            response.raise_for_status()\n",
    "            return response.json()[\"response\"].strip()\n",
    "        except Exception as e:\n",
    "            print(f\"Ollama error: {e}\")\n",
    "            return \"[Translation Error]\"\n",
    "\n",
    "    # Function to process one row\n",
    "    def translate_row(index):\n",
    "        target = df.at[index, 'Message']\n",
    "        if pd.isna(target):\n",
    "            return index, \"\"\n",
    "        context = get_context(df, index)\n",
    "        prompt = (\n",
    "            \"You are translating Chinese messages to English. Below is a series of related messages. \"\n",
    "            \"Use the full context to understand the meaning, but only translate the specific message provided.\\n\\n\"\n",
    "            f\"Context:\\n{context}\\n\\n\"\n",
    "            f\"Message to translate:\\n{target}\\n\\n\"\n",
    "            \"ONLY RETURN the English translation of the message, ANYTHING ELSE IS FORBIDDEN! \"\n",
    "            \"If you encounter a filename or file reference, preserve it exactly as it appears, DON'T add anything!\"\n",
    "        )\n",
    "        translation = query_ollama(prompt)\n",
    "        return index, translation\n",
    "\n",
    "    # Run translations in parallel\n",
    "    futures = []\n",
    "    with ThreadPoolExecutor(max_workers=8) as executor:\n",
    "        for index in df.index:\n",
    "            futures.append(executor.submit(translate_row, index))\n",
    "\n",
    "        for future in tqdm(as_completed(futures), total=len(futures), desc=f\"Translating: {csv_path}\"):\n",
    "            idx, result = future.result()\n",
    "            df.at[idx, 'message_translation'] = result\n",
    "\n",
    "    # Save updated DataFrame back to the original file\n",
    "    df.to_csv(csv_path, index=False)\n",
    "    print(f\"Finished and saved: {csv_path}\\n\")"
   ]
  },
  {
   "cell_type": "code",
   "execution_count": 5,
   "id": "0d84e49b-797c-4c4b-b63e-f3d19968c59b",
   "metadata": {
    "tags": []
   },
   "outputs": [
    {
     "name": "stdout",
     "output_type": "stream",
     "text": [
      "CSV Columns:\n",
      "['Time', 'From', 'To', 'Message']\n"
     ]
    }
   ],
   "source": [
    "import pandas as pd\n",
    "\n",
    "# Load the original CSV\n",
    "df = pd.read_csv(\"csvs/10.csv\")\n",
    "\n",
    "# Print all column names to verify exact labels\n",
    "print(\"CSV Columns:\")\n",
    "print(df.columns.tolist())\n",
    "\n",
    "# Drop the specified columns (only if they exist)\n",
    "columns_to_drop = [\"message_translation\", \"financial_detection\"]\n",
    "df_cleaned = df.drop(columns=[col for col in columns_to_drop if col in df.columns])\n",
    "\n",
    "# Overwrite the original file\n",
    "df_cleaned.to_csv(\"csvs/10.csv\", index=False)  # Overwriting the same file"
   ]
  },
  {
   "cell_type": "markdown",
   "id": "9b0dc950-b64c-4bce-b50a-e1c541e6bc28",
   "metadata": {},
   "source": [
    "# **OCR TRANSLATION - GEMMA3:27b**"
   ]
  },
  {
   "cell_type": "code",
   "execution_count": 7,
   "id": "45241b76-69b2-4112-af2a-5e23d561dad3",
   "metadata": {
    "tags": []
   },
   "outputs": [
    {
     "name": "stderr",
     "output_type": "stream",
     "text": [
      "Translating OCR Files:   0%|          | 0/490 [00:00<?, ?file/s]"
     ]
    },
    {
     "name": "stdout",
     "output_type": "stream",
     "text": [
      "\n",
      "Processing file 1 of 490: 0-08a6bcd3-6477-4252-8f35-4f8f80d114f9.csv\n"
     ]
    },
    {
     "name": "stderr",
     "output_type": "stream",
     "text": [
      "Translating OCR Files:   0%|          | 1/490 [01:08<9:17:52, 68.45s/file]"
     ]
    },
    {
     "name": "stdout",
     "output_type": "stream",
     "text": [
      " Saved translated file: 0-08a6bcd3-6477-4252-8f35-4f8f80d114f9.csv\n",
      "\n",
      "Processing file 2 of 490: 0-0b54af64-c2cd-4acb-9864-73a584aa6ebc.csv\n"
     ]
    },
    {
     "name": "stderr",
     "output_type": "stream",
     "text": [
      "Translating OCR Files:   0%|          | 2/490 [01:24<5:06:57, 37.74s/file]"
     ]
    },
    {
     "name": "stdout",
     "output_type": "stream",
     "text": [
      " Saved translated file: 0-0b54af64-c2cd-4acb-9864-73a584aa6ebc.csv\n",
      "\n",
      "Processing file 3 of 490: 0-0baba509-5e81-4b88-b509-843822d09e21.csv\n"
     ]
    },
    {
     "name": "stderr",
     "output_type": "stream",
     "text": [
      "Translating OCR Files:   1%|          | 3/490 [01:37<3:34:25, 26.42s/file]"
     ]
    },
    {
     "name": "stdout",
     "output_type": "stream",
     "text": [
      " Saved translated file: 0-0baba509-5e81-4b88-b509-843822d09e21.csv\n",
      "\n",
      "Processing file 4 of 490: 0-0f319bf6-e667-4bac-a974-dfda1142e9ff.csv\n"
     ]
    },
    {
     "name": "stderr",
     "output_type": "stream",
     "text": [
      "Translating OCR Files:   1%|          | 4/490 [01:46<2:39:12, 19.66s/file]"
     ]
    },
    {
     "name": "stdout",
     "output_type": "stream",
     "text": [
      " Saved translated file: 0-0f319bf6-e667-4bac-a974-dfda1142e9ff.csv\n",
      "\n",
      "Processing file 5 of 490: 0-129ac70f-8942-4ca7-b1f2-ddeaa3d984b5.csv\n"
     ]
    },
    {
     "name": "stderr",
     "output_type": "stream",
     "text": [
      "Translating OCR Files:   1%|          | 5/490 [01:55<2:06:04, 15.60s/file]"
     ]
    },
    {
     "name": "stdout",
     "output_type": "stream",
     "text": [
      " Saved translated file: 0-129ac70f-8942-4ca7-b1f2-ddeaa3d984b5.csv\n",
      "\n",
      "Processing file 6 of 490: 0-1a20ded1-50fc-4153-9a95-e158eeb7199e.csv\n"
     ]
    },
    {
     "name": "stderr",
     "output_type": "stream",
     "text": [
      "Translating OCR Files:   1%|          | 6/490 [02:02<1:42:47, 12.74s/file]"
     ]
    },
    {
     "name": "stdout",
     "output_type": "stream",
     "text": [
      " Saved translated file: 0-1a20ded1-50fc-4153-9a95-e158eeb7199e.csv\n",
      "\n",
      "Processing file 7 of 490: 0-1afcf93d-50f1-4f1e-896d-87b0da7519f7.csv\n"
     ]
    },
    {
     "name": "stderr",
     "output_type": "stream",
     "text": [
      "Translating OCR Files:   1%|▏         | 7/490 [02:09<1:27:10, 10.83s/file]"
     ]
    },
    {
     "name": "stdout",
     "output_type": "stream",
     "text": [
      " Saved translated file: 0-1afcf93d-50f1-4f1e-896d-87b0da7519f7.csv\n",
      "\n",
      "Processing file 8 of 490: 0-1b0dc208-d2bb-43ea-b744-534f3b759394.csv\n"
     ]
    },
    {
     "name": "stderr",
     "output_type": "stream",
     "text": [
      "Translating OCR Files:   2%|▏         | 8/490 [02:13<1:10:35,  8.79s/file]"
     ]
    },
    {
     "name": "stdout",
     "output_type": "stream",
     "text": [
      " Saved translated file: 0-1b0dc208-d2bb-43ea-b744-534f3b759394.csv\n",
      "\n",
      "Processing file 9 of 490: 0-1cc570d8-cddb-401e-8c37-ef10c0e4841f.csv\n"
     ]
    },
    {
     "name": "stderr",
     "output_type": "stream",
     "text": [
      "Translating OCR Files:   2%|▏         | 9/490 [02:23<1:12:55,  9.10s/file]"
     ]
    },
    {
     "name": "stdout",
     "output_type": "stream",
     "text": [
      " Saved translated file: 0-1cc570d8-cddb-401e-8c37-ef10c0e4841f.csv\n",
      "\n",
      "Processing file 10 of 490: 0-300450bf-221e-4eeb-bdda-dc1115c947ea.csv\n"
     ]
    },
    {
     "name": "stderr",
     "output_type": "stream",
     "text": [
      "Translating OCR Files:   2%|▏         | 10/490 [02:34<1:16:15,  9.53s/file]"
     ]
    },
    {
     "name": "stdout",
     "output_type": "stream",
     "text": [
      " Saved translated file: 0-300450bf-221e-4eeb-bdda-dc1115c947ea.csv\n",
      "\n",
      "Processing file 11 of 490: 0-32eb7662-f212-4811-a7c1-1cfeb121cd99.csv\n"
     ]
    },
    {
     "name": "stderr",
     "output_type": "stream",
     "text": [
      "Translating OCR Files:   2%|▏         | 11/490 [03:03<2:05:40, 15.74s/file]"
     ]
    },
    {
     "name": "stdout",
     "output_type": "stream",
     "text": [
      " Saved translated file: 0-32eb7662-f212-4811-a7c1-1cfeb121cd99.csv\n",
      "\n",
      "Processing file 12 of 490: 0-330f554f-a3e6-4bd3-8b1b-d5949e1f30e8.csv\n"
     ]
    },
    {
     "name": "stderr",
     "output_type": "stream",
     "text": [
      "Translating OCR Files:   2%|▏         | 12/490 [03:06<1:33:23, 11.72s/file]"
     ]
    },
    {
     "name": "stdout",
     "output_type": "stream",
     "text": [
      " Saved translated file: 0-330f554f-a3e6-4bd3-8b1b-d5949e1f30e8.csv\n",
      "\n",
      "Processing file 13 of 490: 0-3556e54c-d418-447d-bb2a-43ac0408cc7a.csv\n"
     ]
    },
    {
     "name": "stderr",
     "output_type": "stream",
     "text": [
      "Translating OCR Files:   3%|▎         | 13/490 [03:10<1:15:22,  9.48s/file]"
     ]
    },
    {
     "name": "stdout",
     "output_type": "stream",
     "text": [
      " Saved translated file: 0-3556e54c-d418-447d-bb2a-43ac0408cc7a.csv\n",
      "\n",
      "Processing file 14 of 490: 0-383d824e-7588-4a92-84b7-fd953dd91cba.csv\n"
     ]
    },
    {
     "name": "stderr",
     "output_type": "stream",
     "text": [
      "Translating OCR Files:   3%|▎         | 14/490 [03:22<1:20:43, 10.18s/file]"
     ]
    },
    {
     "name": "stdout",
     "output_type": "stream",
     "text": [
      " Saved translated file: 0-383d824e-7588-4a92-84b7-fd953dd91cba.csv\n",
      "\n",
      "Processing file 15 of 490: 0-493542fc-495f-4756-8451-c4ed084d8bf7.csv\n"
     ]
    },
    {
     "name": "stderr",
     "output_type": "stream",
     "text": [
      "Translating OCR Files:   3%|▎         | 15/490 [03:34<1:24:07, 10.63s/file]"
     ]
    },
    {
     "name": "stdout",
     "output_type": "stream",
     "text": [
      " Saved translated file: 0-493542fc-495f-4756-8451-c4ed084d8bf7.csv\n",
      "\n",
      "Processing file 16 of 490: 0-4ae9bf34-c16c-4684-aa92-fec65a151275.csv\n"
     ]
    },
    {
     "name": "stderr",
     "output_type": "stream",
     "text": [
      "Translating OCR Files:   3%|▎         | 16/490 [04:06<2:14:46, 17.06s/file]"
     ]
    },
    {
     "name": "stdout",
     "output_type": "stream",
     "text": [
      " Saved translated file: 0-4ae9bf34-c16c-4684-aa92-fec65a151275.csv\n",
      "\n",
      "Processing file 17 of 490: 0-4c74b697-0681-4223-9982-5ffaf4e98ed0.csv\n"
     ]
    },
    {
     "name": "stderr",
     "output_type": "stream",
     "text": [
      "Translating OCR Files:   3%|▎         | 17/490 [04:07<1:36:57, 12.30s/file]"
     ]
    },
    {
     "name": "stdout",
     "output_type": "stream",
     "text": [
      " Saved translated file: 0-4c74b697-0681-4223-9982-5ffaf4e98ed0.csv\n",
      "\n",
      "Processing file 18 of 490: 0-4ea07c23-a1a6-411b-bcfb-552d095b66c9.csv\n"
     ]
    },
    {
     "name": "stderr",
     "output_type": "stream",
     "text": [
      "Translating OCR Files:   4%|▎         | 18/490 [04:19<1:35:16, 12.11s/file]"
     ]
    },
    {
     "name": "stdout",
     "output_type": "stream",
     "text": [
      " Saved translated file: 0-4ea07c23-a1a6-411b-bcfb-552d095b66c9.csv\n",
      "\n",
      "Processing file 19 of 490: 0-5a84cde3-7175-4044-8c88-d4c883a8fd38.csv\n"
     ]
    },
    {
     "name": "stderr",
     "output_type": "stream",
     "text": [
      "Translating OCR Files:   4%|▍         | 19/490 [04:35<1:43:56, 13.24s/file]"
     ]
    },
    {
     "name": "stdout",
     "output_type": "stream",
     "text": [
      " Saved translated file: 0-5a84cde3-7175-4044-8c88-d4c883a8fd38.csv\n",
      "\n",
      "Processing file 20 of 490: 0-5ae9bdca-fdf9-4948-8c11-a9e400b331aa.csv\n"
     ]
    },
    {
     "name": "stderr",
     "output_type": "stream",
     "text": [
      "Translating OCR Files:   4%|▍         | 20/490 [04:43<1:31:36, 11.70s/file]"
     ]
    },
    {
     "name": "stdout",
     "output_type": "stream",
     "text": [
      " Saved translated file: 0-5ae9bdca-fdf9-4948-8c11-a9e400b331aa.csv\n",
      "\n",
      "Processing file 21 of 490: 0-5d4e3e02-1dfc-469e-8af9-8dbe2b9f1564.csv\n"
     ]
    },
    {
     "name": "stderr",
     "output_type": "stream",
     "text": [
      "Translating OCR Files:   4%|▍         | 21/490 [04:44<1:06:53,  8.56s/file]"
     ]
    },
    {
     "name": "stdout",
     "output_type": "stream",
     "text": [
      " Saved translated file: 0-5d4e3e02-1dfc-469e-8af9-8dbe2b9f1564.csv\n",
      "\n",
      "Processing file 22 of 490: 0-5ef1d666-e19d-4570-b800-6693a4f680ee.csv\n"
     ]
    },
    {
     "name": "stderr",
     "output_type": "stream",
     "text": [
      "Translating OCR Files:   4%|▍         | 22/490 [05:24<2:21:19, 18.12s/file]"
     ]
    },
    {
     "name": "stdout",
     "output_type": "stream",
     "text": [
      " Saved translated file: 0-5ef1d666-e19d-4570-b800-6693a4f680ee.csv\n",
      "\n",
      "Processing file 23 of 490: 0-62583414-9e32-4d09-8989-b5fa32a98a81.csv\n"
     ]
    },
    {
     "name": "stderr",
     "output_type": "stream",
     "text": [
      "Translating OCR Files:   5%|▍         | 23/490 [05:30<1:51:22, 14.31s/file]"
     ]
    },
    {
     "name": "stdout",
     "output_type": "stream",
     "text": [
      " Saved translated file: 0-62583414-9e32-4d09-8989-b5fa32a98a81.csv\n",
      "\n",
      "Processing file 24 of 490: 0-62ff30cf-de5f-4388-82aa-b69b0fd0f07c.csv\n"
     ]
    },
    {
     "name": "stderr",
     "output_type": "stream",
     "text": [
      "Translating OCR Files:   5%|▍         | 24/490 [05:40<1:42:18, 13.17s/file]"
     ]
    },
    {
     "name": "stdout",
     "output_type": "stream",
     "text": [
      " Saved translated file: 0-62ff30cf-de5f-4388-82aa-b69b0fd0f07c.csv\n",
      "\n",
      "Processing file 25 of 490: 0-645dfc97-3268-4e1d-920d-4138545456fa.csv\n"
     ]
    },
    {
     "name": "stderr",
     "output_type": "stream",
     "text": [
      "Translating OCR Files:   5%|▌         | 25/490 [05:42<1:15:01,  9.68s/file]"
     ]
    },
    {
     "name": "stdout",
     "output_type": "stream",
     "text": [
      " Saved translated file: 0-645dfc97-3268-4e1d-920d-4138545456fa.csv\n",
      "\n",
      "Processing file 26 of 490: 0-6848748d-2881-4c26-b153-fcd5373d2f1c.csv\n"
     ]
    },
    {
     "name": "stderr",
     "output_type": "stream",
     "text": [
      "Translating OCR Files:   5%|▌         | 26/490 [06:07<1:51:53, 14.47s/file]"
     ]
    },
    {
     "name": "stdout",
     "output_type": "stream",
     "text": [
      " Saved translated file: 0-6848748d-2881-4c26-b153-fcd5373d2f1c.csv\n",
      "\n",
      "Processing file 27 of 490: 0-6bcc0131-e4ad-421e-bb1f-d8ebe5eeec7b.csv\n"
     ]
    },
    {
     "name": "stderr",
     "output_type": "stream",
     "text": [
      "Translating OCR Files:   6%|▌         | 27/490 [06:10<1:24:14, 10.92s/file]"
     ]
    },
    {
     "name": "stdout",
     "output_type": "stream",
     "text": [
      " Saved translated file: 0-6bcc0131-e4ad-421e-bb1f-d8ebe5eeec7b.csv\n",
      "\n",
      "Processing file 28 of 490: 0-6cbb3eeb-17e9-4af6-8da1-36eb6437f7bc.csv\n"
     ]
    },
    {
     "name": "stderr",
     "output_type": "stream",
     "text": [
      "Translating OCR Files:   6%|▌         | 28/490 [06:27<1:38:43, 12.82s/file]"
     ]
    },
    {
     "name": "stdout",
     "output_type": "stream",
     "text": [
      " Saved translated file: 0-6cbb3eeb-17e9-4af6-8da1-36eb6437f7bc.csv\n",
      "\n",
      "Processing file 29 of 490: 0-6e9aced1-df28-4e57-b7c8-641609ff4450.csv\n"
     ]
    },
    {
     "name": "stderr",
     "output_type": "stream",
     "text": [
      "Translating OCR Files:   6%|▌         | 29/490 [06:39<1:36:22, 12.54s/file]"
     ]
    },
    {
     "name": "stdout",
     "output_type": "stream",
     "text": [
      " Saved translated file: 0-6e9aced1-df28-4e57-b7c8-641609ff4450.csv\n",
      "\n",
      "Processing file 30 of 490: 0-70c63791-2797-4bf0-a778-ea08819aa9de.csv\n"
     ]
    },
    {
     "name": "stderr",
     "output_type": "stream",
     "text": [
      "Translating OCR Files:   6%|▌         | 30/490 [06:40<1:10:00,  9.13s/file]"
     ]
    },
    {
     "name": "stdout",
     "output_type": "stream",
     "text": [
      " Saved translated file: 0-70c63791-2797-4bf0-a778-ea08819aa9de.csv\n",
      "\n",
      "Processing file 31 of 490: 0-7150f512-e7a2-4f2c-86bc-58b671b25ba9.csv\n"
     ]
    },
    {
     "name": "stderr",
     "output_type": "stream",
     "text": [
      "Translating OCR Files:   6%|▋         | 31/490 [06:46<1:02:51,  8.22s/file]"
     ]
    },
    {
     "name": "stdout",
     "output_type": "stream",
     "text": [
      " Saved translated file: 0-7150f512-e7a2-4f2c-86bc-58b671b25ba9.csv\n",
      "\n",
      "Processing file 32 of 490: 0-785cc8c9-1225-4f93-b633-349bc5113512.csv\n"
     ]
    },
    {
     "name": "stderr",
     "output_type": "stream",
     "text": [
      "Translating OCR Files:   7%|▋         | 32/490 [06:53<57:48,  7.57s/file]  "
     ]
    },
    {
     "name": "stdout",
     "output_type": "stream",
     "text": [
      " Saved translated file: 0-785cc8c9-1225-4f93-b633-349bc5113512.csv\n",
      "\n",
      "Processing file 33 of 490: 0-79d9b7f2-cfe4-4615-9b75-8fea33fc0c9d.csv\n"
     ]
    },
    {
     "name": "stderr",
     "output_type": "stream",
     "text": [
      "Translating OCR Files:   7%|▋         | 33/490 [06:56<48:09,  6.32s/file]"
     ]
    },
    {
     "name": "stdout",
     "output_type": "stream",
     "text": [
      " Saved translated file: 0-79d9b7f2-cfe4-4615-9b75-8fea33fc0c9d.csv\n",
      "\n",
      "Processing file 34 of 490: 0-94b16e53-f035-4aa9-a76e-80bc6e936d10.csv\n"
     ]
    },
    {
     "name": "stderr",
     "output_type": "stream",
     "text": [
      "Translating OCR Files:   7%|▋         | 34/490 [06:59<41:13,  5.43s/file]"
     ]
    },
    {
     "name": "stdout",
     "output_type": "stream",
     "text": [
      " Saved translated file: 0-94b16e53-f035-4aa9-a76e-80bc6e936d10.csv\n",
      "\n",
      "Processing file 35 of 490: 0-96af60b3-299c-4e26-bca3-d9eb3e113b94.csv\n"
     ]
    },
    {
     "name": "stderr",
     "output_type": "stream",
     "text": [
      "Translating OCR Files:   7%|▋         | 35/490 [07:19<1:13:42,  9.72s/file]"
     ]
    },
    {
     "name": "stdout",
     "output_type": "stream",
     "text": [
      " Saved translated file: 0-96af60b3-299c-4e26-bca3-d9eb3e113b94.csv\n",
      "\n",
      "Processing file 36 of 490: 0-987ba39a-cc1c-4367-8d6d-f5a49a940198.csv\n"
     ]
    },
    {
     "name": "stderr",
     "output_type": "stream",
     "text": [
      "Translating OCR Files:   7%|▋         | 36/490 [07:25<1:05:22,  8.64s/file]"
     ]
    },
    {
     "name": "stdout",
     "output_type": "stream",
     "text": [
      " Saved translated file: 0-987ba39a-cc1c-4367-8d6d-f5a49a940198.csv\n",
      "\n",
      "Processing file 37 of 490: 0-9a8077f5-ac41-491f-b192-6b4609324bda.csv\n"
     ]
    },
    {
     "name": "stderr",
     "output_type": "stream",
     "text": [
      "Translating OCR Files:   8%|▊         | 37/490 [07:27<50:14,  6.65s/file]  "
     ]
    },
    {
     "name": "stdout",
     "output_type": "stream",
     "text": [
      " Saved translated file: 0-9a8077f5-ac41-491f-b192-6b4609324bda.csv\n",
      "\n",
      "Processing file 38 of 490: 0-9c8c9989-2293-4e68-9ffe-6f7a5f14562f.csv\n"
     ]
    },
    {
     "name": "stderr",
     "output_type": "stream",
     "text": [
      "Translating OCR Files:   8%|▊         | 38/490 [07:30<41:34,  5.52s/file]"
     ]
    },
    {
     "name": "stdout",
     "output_type": "stream",
     "text": [
      " Saved translated file: 0-9c8c9989-2293-4e68-9ffe-6f7a5f14562f.csv\n",
      "\n",
      "Processing file 39 of 490: 0-aa99f763-6849-4f6b-adf2-58f0cc2ed545.csv\n"
     ]
    },
    {
     "name": "stderr",
     "output_type": "stream",
     "text": [
      "Translating OCR Files:   8%|▊         | 39/490 [07:38<47:09,  6.27s/file]"
     ]
    },
    {
     "name": "stdout",
     "output_type": "stream",
     "text": [
      " Saved translated file: 0-aa99f763-6849-4f6b-adf2-58f0cc2ed545.csv\n",
      "\n",
      "Processing file 40 of 490: 0-adaf869e-920a-4a17-91bd-e2ef3125c10e.csv\n"
     ]
    },
    {
     "name": "stderr",
     "output_type": "stream",
     "text": [
      "Translating OCR Files:   8%|▊         | 40/490 [07:48<55:26,  7.39s/file]"
     ]
    },
    {
     "name": "stdout",
     "output_type": "stream",
     "text": [
      " Saved translated file: 0-adaf869e-920a-4a17-91bd-e2ef3125c10e.csv\n",
      "\n",
      "Processing file 41 of 490: 0-af93eff8-2973-4746-9041-b2223016b117.csv\n"
     ]
    },
    {
     "name": "stderr",
     "output_type": "stream",
     "text": [
      "Translating OCR Files:   8%|▊         | 41/490 [07:56<56:33,  7.56s/file]"
     ]
    },
    {
     "name": "stdout",
     "output_type": "stream",
     "text": [
      " Saved translated file: 0-af93eff8-2973-4746-9041-b2223016b117.csv\n",
      "\n",
      "Processing file 42 of 490: 0-b0a4acaa-d768-4f6d-8e54-6d20f271bb7c.csv\n"
     ]
    },
    {
     "name": "stderr",
     "output_type": "stream",
     "text": [
      "Translating OCR Files:   9%|▊         | 42/490 [07:58<44:26,  5.95s/file]"
     ]
    },
    {
     "name": "stdout",
     "output_type": "stream",
     "text": [
      " Saved translated file: 0-b0a4acaa-d768-4f6d-8e54-6d20f271bb7c.csv\n",
      "\n",
      "Processing file 43 of 490: 0-b3ce4d51-6024-4b43-b0d2-d3faaf3c2879.csv\n"
     ]
    },
    {
     "name": "stderr",
     "output_type": "stream",
     "text": [
      "Translating OCR Files:   9%|▉         | 43/490 [08:06<49:21,  6.63s/file]"
     ]
    },
    {
     "name": "stdout",
     "output_type": "stream",
     "text": [
      " Saved translated file: 0-b3ce4d51-6024-4b43-b0d2-d3faaf3c2879.csv\n",
      "\n",
      "Processing file 44 of 490: 0-b6eb1b15-cf99-475c-921f-f06e5c1019d4.csv\n"
     ]
    },
    {
     "name": "stderr",
     "output_type": "stream",
     "text": [
      "Translating OCR Files:   9%|▉         | 44/490 [08:08<37:23,  5.03s/file]"
     ]
    },
    {
     "name": "stdout",
     "output_type": "stream",
     "text": [
      " Saved translated file: 0-b6eb1b15-cf99-475c-921f-f06e5c1019d4.csv\n",
      "\n",
      "Processing file 45 of 490: 0-b8b76b6d-a50e-4246-82ee-3c8a5dcd523e.csv\n"
     ]
    },
    {
     "name": "stderr",
     "output_type": "stream",
     "text": [
      "Translating OCR Files:   9%|▉         | 45/490 [08:14<41:11,  5.55s/file]"
     ]
    },
    {
     "name": "stdout",
     "output_type": "stream",
     "text": [
      " Saved translated file: 0-b8b76b6d-a50e-4246-82ee-3c8a5dcd523e.csv\n",
      "\n",
      "Processing file 46 of 490: 0-b8cea3b1-4dde-4438-9b1a-6faf690bbad0.csv\n"
     ]
    },
    {
     "name": "stderr",
     "output_type": "stream",
     "text": [
      "Translating OCR Files:   9%|▉         | 46/490 [08:17<34:58,  4.73s/file]"
     ]
    },
    {
     "name": "stdout",
     "output_type": "stream",
     "text": [
      " Saved translated file: 0-b8cea3b1-4dde-4438-9b1a-6faf690bbad0.csv\n",
      "\n",
      "Processing file 47 of 490: 0-b9d9c584-5e21-4a49-952b-ffecca4eb91e.csv\n"
     ]
    },
    {
     "name": "stderr",
     "output_type": "stream",
     "text": [
      "Translating OCR Files:  10%|▉         | 47/490 [08:33<59:42,  8.09s/file]"
     ]
    },
    {
     "name": "stdout",
     "output_type": "stream",
     "text": [
      " Saved translated file: 0-b9d9c584-5e21-4a49-952b-ffecca4eb91e.csv\n",
      "\n",
      "Processing file 48 of 490: 0-bcad4fdf-3771-4873-92fa-23240654118a.csv\n"
     ]
    },
    {
     "name": "stderr",
     "output_type": "stream",
     "text": [
      "Translating OCR Files:  10%|▉         | 48/490 [08:50<1:18:41, 10.68s/file]"
     ]
    },
    {
     "name": "stdout",
     "output_type": "stream",
     "text": [
      " Saved translated file: 0-bcad4fdf-3771-4873-92fa-23240654118a.csv\n",
      "\n",
      "Processing file 49 of 490: 0-c5f1d959-39d1-4176-9cb1-1fb6e8baedc3.csv\n"
     ]
    },
    {
     "name": "stderr",
     "output_type": "stream",
     "text": [
      "Translating OCR Files:  10%|█         | 49/490 [09:10<1:39:59, 13.60s/file]"
     ]
    },
    {
     "name": "stdout",
     "output_type": "stream",
     "text": [
      " Saved translated file: 0-c5f1d959-39d1-4176-9cb1-1fb6e8baedc3.csv\n",
      "\n",
      "Processing file 50 of 490: 0-dd5b6a38-dc17-4122-a242-32006b381b3a.csv\n"
     ]
    },
    {
     "name": "stderr",
     "output_type": "stream",
     "text": [
      "Translating OCR Files:  10%|█         | 50/490 [09:12<1:12:26,  9.88s/file]"
     ]
    },
    {
     "name": "stdout",
     "output_type": "stream",
     "text": [
      " Saved translated file: 0-dd5b6a38-dc17-4122-a242-32006b381b3a.csv\n",
      "\n",
      "Processing file 51 of 490: 0-de359f8d-0745-4a93-959a-d1a6c361e326.csv\n"
     ]
    },
    {
     "name": "stderr",
     "output_type": "stream",
     "text": [
      "Translating OCR Files:  10%|█         | 51/490 [09:22<1:13:51, 10.10s/file]"
     ]
    },
    {
     "name": "stdout",
     "output_type": "stream",
     "text": [
      " Saved translated file: 0-de359f8d-0745-4a93-959a-d1a6c361e326.csv\n",
      "\n",
      "Processing file 52 of 490: 0-e07a9457-86f1-4f0f-86d7-8ea816b8d8d3.csv\n"
     ]
    },
    {
     "name": "stderr",
     "output_type": "stream",
     "text": [
      "Translating OCR Files:  11%|█         | 52/490 [09:31<1:11:20,  9.77s/file]"
     ]
    },
    {
     "name": "stdout",
     "output_type": "stream",
     "text": [
      " Saved translated file: 0-e07a9457-86f1-4f0f-86d7-8ea816b8d8d3.csv\n",
      "\n",
      "Processing file 53 of 490: 0-e705d192-90ee-4fd1-9dcd-061958d1817f.csv\n"
     ]
    },
    {
     "name": "stderr",
     "output_type": "stream",
     "text": [
      "Translating OCR Files:  11%|█         | 53/490 [09:34<55:45,  7.66s/file]  "
     ]
    },
    {
     "name": "stdout",
     "output_type": "stream",
     "text": [
      " Saved translated file: 0-e705d192-90ee-4fd1-9dcd-061958d1817f.csv\n",
      "\n",
      "Processing file 54 of 490: 0-ee47dfea-2626-4107-8ab3-4663167e0493.csv\n"
     ]
    },
    {
     "name": "stderr",
     "output_type": "stream",
     "text": [
      "Translating OCR Files:  11%|█         | 54/490 [09:45<1:02:25,  8.59s/file]"
     ]
    },
    {
     "name": "stdout",
     "output_type": "stream",
     "text": [
      " Saved translated file: 0-ee47dfea-2626-4107-8ab3-4663167e0493.csv\n",
      "\n",
      "Processing file 55 of 490: 0-f0ce8a7b-909d-4fc5-ba13-ea66b2dc6448.csv\n"
     ]
    },
    {
     "name": "stderr",
     "output_type": "stream",
     "text": [
      "Translating OCR Files:  11%|█         | 55/490 [09:47<48:21,  6.67s/file]  "
     ]
    },
    {
     "name": "stdout",
     "output_type": "stream",
     "text": [
      " Saved translated file: 0-f0ce8a7b-909d-4fc5-ba13-ea66b2dc6448.csv\n",
      "\n",
      "Processing file 56 of 490: 0-f313f521-80a1-4db5-a8a7-53d29ee09890.csv\n"
     ]
    },
    {
     "name": "stderr",
     "output_type": "stream",
     "text": [
      "Translating OCR Files:  11%|█▏        | 56/490 [10:04<1:11:18,  9.86s/file]"
     ]
    },
    {
     "name": "stdout",
     "output_type": "stream",
     "text": [
      " Saved translated file: 0-f313f521-80a1-4db5-a8a7-53d29ee09890.csv\n",
      "\n",
      "Processing file 57 of 490: 0-f41b7574-57b4-4c9f-907c-2a3c48a56157.csv\n"
     ]
    },
    {
     "name": "stderr",
     "output_type": "stream",
     "text": [
      "Translating OCR Files:  12%|█▏        | 57/490 [10:21<1:26:56, 12.05s/file]"
     ]
    },
    {
     "name": "stdout",
     "output_type": "stream",
     "text": [
      " Saved translated file: 0-f41b7574-57b4-4c9f-907c-2a3c48a56157.csv\n",
      "\n",
      "Processing file 58 of 490: 0-fc27ce32-9c96-416c-9c38-84977255e0ba.csv\n"
     ]
    },
    {
     "name": "stderr",
     "output_type": "stream",
     "text": [
      "Translating OCR Files:  12%|█▏        | 58/490 [10:36<1:31:36, 12.72s/file]"
     ]
    },
    {
     "name": "stdout",
     "output_type": "stream",
     "text": [
      " Saved translated file: 0-fc27ce32-9c96-416c-9c38-84977255e0ba.csv\n",
      "\n",
      "Processing file 59 of 490: 0-fcf90a92-794c-40c6-aa4f-8ea82f8bed51.csv\n"
     ]
    },
    {
     "name": "stderr",
     "output_type": "stream",
     "text": [
      "Translating OCR Files:  12%|█▏        | 59/490 [10:53<1:40:50, 14.04s/file]"
     ]
    },
    {
     "name": "stdout",
     "output_type": "stream",
     "text": [
      " Saved translated file: 0-fcf90a92-794c-40c6-aa4f-8ea82f8bed51.csv\n",
      "\n",
      "Processing file 60 of 490: 0-fe221e78-67e4-4d88-b73d-e58a9943a036.csv\n"
     ]
    },
    {
     "name": "stderr",
     "output_type": "stream",
     "text": [
      "Translating OCR Files:  12%|█▏        | 60/490 [11:01<1:28:08, 12.30s/file]"
     ]
    },
    {
     "name": "stdout",
     "output_type": "stream",
     "text": [
      " Saved translated file: 0-fe221e78-67e4-4d88-b73d-e58a9943a036.csv\n",
      "\n",
      "Processing file 61 of 490: 01cdc26f-e773-4ad7-8808-d04abf16aae7_1_0.csv\n"
     ]
    },
    {
     "name": "stderr",
     "output_type": "stream",
     "text": [
      "Translating OCR Files:  12%|█▏        | 61/490 [11:55<2:58:08, 24.91s/file]"
     ]
    },
    {
     "name": "stdout",
     "output_type": "stream",
     "text": [
      " Saved translated file: 01cdc26f-e773-4ad7-8808-d04abf16aae7_1_0.csv\n",
      "\n",
      "Processing file 62 of 490: 01cdc26f-e773-4ad7-8808-d04abf16aae7_2_0.csv\n"
     ]
    },
    {
     "name": "stderr",
     "output_type": "stream",
     "text": [
      "Translating OCR Files:  13%|█▎        | 62/490 [12:02<2:18:43, 19.45s/file]"
     ]
    },
    {
     "name": "stdout",
     "output_type": "stream",
     "text": [
      " Saved translated file: 01cdc26f-e773-4ad7-8808-d04abf16aae7_2_0.csv\n",
      "\n",
      "Processing file 63 of 490: 07f179c5-5705-4dbd-94a7-66eed1e066b0_0.csv\n"
     ]
    },
    {
     "name": "stderr",
     "output_type": "stream",
     "text": [
      "Translating OCR Files:  13%|█▎        | 63/490 [13:32<4:49:19, 40.66s/file]"
     ]
    },
    {
     "name": "stdout",
     "output_type": "stream",
     "text": [
      "Ollama error: HTTPConnectionPool(host='localhost', port=11434): Read timed out. (read timeout=90)\n",
      " Saved translated file: 07f179c5-5705-4dbd-94a7-66eed1e066b0_0.csv\n",
      "\n",
      "Processing file 64 of 490: 07f179c5-5705-4dbd-94a7-66eed1e066b0_1.csv\n"
     ]
    },
    {
     "name": "stderr",
     "output_type": "stream",
     "text": [
      "Translating OCR Files:  13%|█▎        | 64/490 [14:07<4:35:25, 38.79s/file]"
     ]
    },
    {
     "name": "stdout",
     "output_type": "stream",
     "text": [
      " Saved translated file: 07f179c5-5705-4dbd-94a7-66eed1e066b0_1.csv\n",
      "\n",
      "Processing file 65 of 490: 07f179c5-5705-4dbd-94a7-66eed1e066b0_2.csv\n"
     ]
    },
    {
     "name": "stderr",
     "output_type": "stream",
     "text": [
      "Translating OCR Files:  13%|█▎        | 65/490 [15:32<6:14:42, 52.90s/file]"
     ]
    },
    {
     "name": "stdout",
     "output_type": "stream",
     "text": [
      " Saved translated file: 07f179c5-5705-4dbd-94a7-66eed1e066b0_2.csv\n",
      "\n",
      "Processing file 66 of 490: 08a6bcd3-6477-4252-8f35-4f8f80d114f9.csv\n"
     ]
    },
    {
     "name": "stderr",
     "output_type": "stream",
     "text": [
      "Translating OCR Files:  13%|█▎        | 66/490 [16:03<5:26:47, 46.24s/file]"
     ]
    },
    {
     "name": "stdout",
     "output_type": "stream",
     "text": [
      " Saved translated file: 08a6bcd3-6477-4252-8f35-4f8f80d114f9.csv\n",
      "\n",
      "Processing file 67 of 490: 0b54af64-c2cd-4acb-9864-73a584aa6ebc.csv\n"
     ]
    },
    {
     "name": "stderr",
     "output_type": "stream",
     "text": [
      "Translating OCR Files:  14%|█▎        | 67/490 [16:23<4:30:15, 38.33s/file]"
     ]
    },
    {
     "name": "stdout",
     "output_type": "stream",
     "text": [
      " Saved translated file: 0b54af64-c2cd-4acb-9864-73a584aa6ebc.csv\n",
      "\n",
      "Processing file 68 of 490: 0baba509-5e81-4b88-b509-843822d09e21.csv\n"
     ]
    },
    {
     "name": "stderr",
     "output_type": "stream",
     "text": [
      "Translating OCR Files:  14%|█▍        | 68/490 [16:43<3:52:02, 32.99s/file]"
     ]
    },
    {
     "name": "stdout",
     "output_type": "stream",
     "text": [
      " Saved translated file: 0baba509-5e81-4b88-b509-843822d09e21.csv\n",
      "\n",
      "Processing file 69 of 490: 0f319bf6-e667-4bac-a974-dfda1142e9ff.csv\n"
     ]
    },
    {
     "name": "stderr",
     "output_type": "stream",
     "text": [
      "Translating OCR Files:  14%|█▍        | 69/490 [17:07<3:32:09, 30.24s/file]"
     ]
    },
    {
     "name": "stdout",
     "output_type": "stream",
     "text": [
      " Saved translated file: 0f319bf6-e667-4bac-a974-dfda1142e9ff.csv\n",
      "\n",
      "Processing file 70 of 490: 12756724-394c-4576-b373-7c53f1abbd94_0.csv\n"
     ]
    },
    {
     "name": "stderr",
     "output_type": "stream",
     "text": [
      "Translating OCR Files:  14%|█▍        | 70/490 [17:13<2:41:02, 23.01s/file]"
     ]
    },
    {
     "name": "stdout",
     "output_type": "stream",
     "text": [
      " Saved translated file: 12756724-394c-4576-b373-7c53f1abbd94_0.csv\n",
      "\n",
      "Processing file 71 of 490: 12756724-394c-4576-b373-7c53f1abbd94_1.csv\n"
     ]
    },
    {
     "name": "stderr",
     "output_type": "stream",
     "text": [
      "Translating OCR Files:  14%|█▍        | 71/490 [18:02<3:34:42, 30.75s/file]"
     ]
    },
    {
     "name": "stdout",
     "output_type": "stream",
     "text": [
      " Saved translated file: 12756724-394c-4576-b373-7c53f1abbd94_1.csv\n",
      "\n",
      "Processing file 72 of 490: 12756724-394c-4576-b373-7c53f1abbd94_10.csv\n"
     ]
    },
    {
     "name": "stderr",
     "output_type": "stream",
     "text": [
      "Translating OCR Files:  15%|█▍        | 72/490 [18:47<4:03:43, 34.98s/file]"
     ]
    },
    {
     "name": "stdout",
     "output_type": "stream",
     "text": [
      " Saved translated file: 12756724-394c-4576-b373-7c53f1abbd94_10.csv\n",
      "\n",
      "Processing file 73 of 490: 12756724-394c-4576-b373-7c53f1abbd94_11.csv\n"
     ]
    },
    {
     "name": "stderr",
     "output_type": "stream",
     "text": [
      "Translating OCR Files:  15%|█▍        | 73/490 [19:30<4:19:08, 37.29s/file]"
     ]
    },
    {
     "name": "stdout",
     "output_type": "stream",
     "text": [
      " Saved translated file: 12756724-394c-4576-b373-7c53f1abbd94_11.csv\n",
      "\n",
      "Processing file 74 of 490: 12756724-394c-4576-b373-7c53f1abbd94_12.csv\n"
     ]
    },
    {
     "name": "stderr",
     "output_type": "stream",
     "text": [
      "Translating OCR Files:  15%|█▌        | 74/490 [20:04<4:11:11, 36.23s/file]"
     ]
    },
    {
     "name": "stdout",
     "output_type": "stream",
     "text": [
      " Saved translated file: 12756724-394c-4576-b373-7c53f1abbd94_12.csv\n",
      "\n",
      "Processing file 75 of 490: 12756724-394c-4576-b373-7c53f1abbd94_13.csv\n"
     ]
    },
    {
     "name": "stderr",
     "output_type": "stream",
     "text": [
      "Translating OCR Files:  15%|█▌        | 75/490 [21:21<5:35:24, 48.49s/file]"
     ]
    },
    {
     "name": "stdout",
     "output_type": "stream",
     "text": [
      " Saved translated file: 12756724-394c-4576-b373-7c53f1abbd94_13.csv\n",
      "\n",
      "Processing file 76 of 490: 12756724-394c-4576-b373-7c53f1abbd94_14.csv\n"
     ]
    },
    {
     "name": "stderr",
     "output_type": "stream",
     "text": [
      "Translating OCR Files:  16%|█▌        | 76/490 [22:09<5:34:35, 48.49s/file]"
     ]
    },
    {
     "name": "stdout",
     "output_type": "stream",
     "text": [
      " Saved translated file: 12756724-394c-4576-b373-7c53f1abbd94_14.csv\n",
      "\n",
      "Processing file 77 of 490: 12756724-394c-4576-b373-7c53f1abbd94_15.csv\n"
     ]
    },
    {
     "name": "stderr",
     "output_type": "stream",
     "text": [
      "Translating OCR Files:  16%|█▌        | 77/490 [22:35<4:47:47, 41.81s/file]"
     ]
    },
    {
     "name": "stdout",
     "output_type": "stream",
     "text": [
      " Saved translated file: 12756724-394c-4576-b373-7c53f1abbd94_15.csv\n",
      "\n",
      "Processing file 78 of 490: 12756724-394c-4576-b373-7c53f1abbd94_16.csv\n"
     ]
    },
    {
     "name": "stderr",
     "output_type": "stream",
     "text": [
      "Translating OCR Files:  16%|█▌        | 78/490 [22:58<4:07:19, 36.02s/file]"
     ]
    },
    {
     "name": "stdout",
     "output_type": "stream",
     "text": [
      " Saved translated file: 12756724-394c-4576-b373-7c53f1abbd94_16.csv\n",
      "\n",
      "Processing file 79 of 490: 12756724-394c-4576-b373-7c53f1abbd94_17.csv\n"
     ]
    },
    {
     "name": "stderr",
     "output_type": "stream",
     "text": [
      "Translating OCR Files:  16%|█▌        | 79/490 [23:27<3:52:33, 33.95s/file]"
     ]
    },
    {
     "name": "stdout",
     "output_type": "stream",
     "text": [
      " Saved translated file: 12756724-394c-4576-b373-7c53f1abbd94_17.csv\n",
      "\n",
      "Processing file 80 of 490: 12756724-394c-4576-b373-7c53f1abbd94_18.csv\n"
     ]
    },
    {
     "name": "stderr",
     "output_type": "stream",
     "text": [
      "Translating OCR Files:  16%|█▋        | 80/490 [24:01<3:52:35, 34.04s/file]"
     ]
    },
    {
     "name": "stdout",
     "output_type": "stream",
     "text": [
      " Saved translated file: 12756724-394c-4576-b373-7c53f1abbd94_18.csv\n",
      "\n",
      "Processing file 81 of 490: 12756724-394c-4576-b373-7c53f1abbd94_19.csv\n"
     ]
    },
    {
     "name": "stderr",
     "output_type": "stream",
     "text": [
      "Translating OCR Files:  17%|█▋        | 81/490 [24:52<4:26:45, 39.13s/file]"
     ]
    },
    {
     "name": "stdout",
     "output_type": "stream",
     "text": [
      " Saved translated file: 12756724-394c-4576-b373-7c53f1abbd94_19.csv\n",
      "\n",
      "Processing file 82 of 490: 12756724-394c-4576-b373-7c53f1abbd94_2.csv\n"
     ]
    },
    {
     "name": "stderr",
     "output_type": "stream",
     "text": [
      "Translating OCR Files:  17%|█▋        | 82/490 [25:38<4:39:52, 41.16s/file]"
     ]
    },
    {
     "name": "stdout",
     "output_type": "stream",
     "text": [
      " Saved translated file: 12756724-394c-4576-b373-7c53f1abbd94_2.csv\n",
      "\n",
      "Processing file 83 of 490: 12756724-394c-4576-b373-7c53f1abbd94_20.csv\n"
     ]
    },
    {
     "name": "stderr",
     "output_type": "stream",
     "text": [
      "Translating OCR Files:  17%|█▋        | 83/490 [26:41<5:22:42, 47.57s/file]"
     ]
    },
    {
     "name": "stdout",
     "output_type": "stream",
     "text": [
      " Saved translated file: 12756724-394c-4576-b373-7c53f1abbd94_20.csv\n",
      "\n",
      "Processing file 84 of 490: 12756724-394c-4576-b373-7c53f1abbd94_21.csv\n"
     ]
    },
    {
     "name": "stderr",
     "output_type": "stream",
     "text": [
      "Translating OCR Files:  17%|█▋        | 84/490 [26:51<4:05:59, 36.35s/file]"
     ]
    },
    {
     "name": "stdout",
     "output_type": "stream",
     "text": [
      " Saved translated file: 12756724-394c-4576-b373-7c53f1abbd94_21.csv\n",
      "\n",
      "Processing file 85 of 490: 12756724-394c-4576-b373-7c53f1abbd94_22.csv\n"
     ]
    },
    {
     "name": "stderr",
     "output_type": "stream",
     "text": [
      "Translating OCR Files:  17%|█▋        | 85/490 [27:00<3:10:06, 28.16s/file]"
     ]
    },
    {
     "name": "stdout",
     "output_type": "stream",
     "text": [
      " Saved translated file: 12756724-394c-4576-b373-7c53f1abbd94_22.csv\n",
      "\n",
      "Processing file 86 of 490: 12756724-394c-4576-b373-7c53f1abbd94_23.csv\n"
     ]
    },
    {
     "name": "stderr",
     "output_type": "stream",
     "text": [
      "Translating OCR Files:  18%|█▊        | 86/490 [27:47<3:48:52, 33.99s/file]"
     ]
    },
    {
     "name": "stdout",
     "output_type": "stream",
     "text": [
      " Saved translated file: 12756724-394c-4576-b373-7c53f1abbd94_23.csv\n",
      "\n",
      "Processing file 87 of 490: 12756724-394c-4576-b373-7c53f1abbd94_24.csv\n"
     ]
    },
    {
     "name": "stderr",
     "output_type": "stream",
     "text": [
      "Translating OCR Files:  18%|█▊        | 87/490 [28:15<3:34:32, 31.94s/file]"
     ]
    },
    {
     "name": "stdout",
     "output_type": "stream",
     "text": [
      " Saved translated file: 12756724-394c-4576-b373-7c53f1abbd94_24.csv\n",
      "\n",
      "Processing file 88 of 490: 12756724-394c-4576-b373-7c53f1abbd94_25.csv\n"
     ]
    },
    {
     "name": "stderr",
     "output_type": "stream",
     "text": [
      "Translating OCR Files:  18%|█▊        | 88/490 [28:50<3:41:24, 33.04s/file]"
     ]
    },
    {
     "name": "stdout",
     "output_type": "stream",
     "text": [
      " Saved translated file: 12756724-394c-4576-b373-7c53f1abbd94_25.csv\n",
      "\n",
      "Processing file 89 of 490: 12756724-394c-4576-b373-7c53f1abbd94_26.csv\n"
     ]
    },
    {
     "name": "stderr",
     "output_type": "stream",
     "text": [
      "Translating OCR Files:  18%|█▊        | 89/490 [30:02<4:57:56, 44.58s/file]"
     ]
    },
    {
     "name": "stdout",
     "output_type": "stream",
     "text": [
      " Saved translated file: 12756724-394c-4576-b373-7c53f1abbd94_26.csv\n",
      "\n",
      "Processing file 90 of 490: 12756724-394c-4576-b373-7c53f1abbd94_27.csv\n"
     ]
    },
    {
     "name": "stderr",
     "output_type": "stream",
     "text": [
      "Translating OCR Files:  18%|█▊        | 90/490 [31:14<5:53:10, 52.98s/file]"
     ]
    },
    {
     "name": "stdout",
     "output_type": "stream",
     "text": [
      " Saved translated file: 12756724-394c-4576-b373-7c53f1abbd94_27.csv\n",
      "\n",
      "Processing file 91 of 490: 12756724-394c-4576-b373-7c53f1abbd94_28.csv\n"
     ]
    },
    {
     "name": "stderr",
     "output_type": "stream",
     "text": [
      "Translating OCR Files:  19%|█▊        | 91/490 [31:50<5:17:30, 47.74s/file]"
     ]
    },
    {
     "name": "stdout",
     "output_type": "stream",
     "text": [
      " Saved translated file: 12756724-394c-4576-b373-7c53f1abbd94_28.csv\n",
      "\n",
      "Processing file 92 of 490: 12756724-394c-4576-b373-7c53f1abbd94_29.csv\n"
     ]
    },
    {
     "name": "stderr",
     "output_type": "stream",
     "text": [
      "Translating OCR Files:  19%|█▉        | 92/490 [33:13<6:26:48, 58.31s/file]"
     ]
    },
    {
     "name": "stdout",
     "output_type": "stream",
     "text": [
      " Saved translated file: 12756724-394c-4576-b373-7c53f1abbd94_29.csv\n",
      "\n",
      "Processing file 93 of 490: 12756724-394c-4576-b373-7c53f1abbd94_3.csv\n"
     ]
    },
    {
     "name": "stderr",
     "output_type": "stream",
     "text": [
      "Translating OCR Files:  19%|█▉        | 93/490 [34:11<6:24:35, 58.12s/file]"
     ]
    },
    {
     "name": "stdout",
     "output_type": "stream",
     "text": [
      " Saved translated file: 12756724-394c-4576-b373-7c53f1abbd94_3.csv\n",
      "\n",
      "Processing file 94 of 490: 12756724-394c-4576-b373-7c53f1abbd94_30.csv\n"
     ]
    },
    {
     "name": "stderr",
     "output_type": "stream",
     "text": [
      "Translating OCR Files:  19%|█▉        | 94/490 [35:22<6:50:23, 62.18s/file]"
     ]
    },
    {
     "name": "stdout",
     "output_type": "stream",
     "text": [
      " Saved translated file: 12756724-394c-4576-b373-7c53f1abbd94_30.csv\n",
      "\n",
      "Processing file 95 of 490: 12756724-394c-4576-b373-7c53f1abbd94_31.csv\n"
     ]
    },
    {
     "name": "stderr",
     "output_type": "stream",
     "text": [
      "Translating OCR Files:  19%|█▉        | 95/490 [36:06<6:13:50, 56.79s/file]"
     ]
    },
    {
     "name": "stdout",
     "output_type": "stream",
     "text": [
      " Saved translated file: 12756724-394c-4576-b373-7c53f1abbd94_31.csv\n",
      "\n",
      "Processing file 96 of 490: 12756724-394c-4576-b373-7c53f1abbd94_32.csv\n"
     ]
    },
    {
     "name": "stderr",
     "output_type": "stream",
     "text": [
      "Translating OCR Files:  20%|█▉        | 96/490 [36:10<4:28:50, 40.94s/file]"
     ]
    },
    {
     "name": "stdout",
     "output_type": "stream",
     "text": [
      " Saved translated file: 12756724-394c-4576-b373-7c53f1abbd94_32.csv\n",
      "\n",
      "Processing file 97 of 490: 12756724-394c-4576-b373-7c53f1abbd94_33.csv\n"
     ]
    },
    {
     "name": "stderr",
     "output_type": "stream",
     "text": [
      "Translating OCR Files:  20%|█▉        | 97/490 [36:18<3:22:19, 30.89s/file]"
     ]
    },
    {
     "name": "stdout",
     "output_type": "stream",
     "text": [
      " Saved translated file: 12756724-394c-4576-b373-7c53f1abbd94_33.csv\n",
      "\n",
      "Processing file 98 of 490: 12756724-394c-4576-b373-7c53f1abbd94_34.csv\n"
     ]
    },
    {
     "name": "stderr",
     "output_type": "stream",
     "text": [
      "Translating OCR Files:  20%|██        | 98/490 [37:01<3:46:01, 34.60s/file]"
     ]
    },
    {
     "name": "stdout",
     "output_type": "stream",
     "text": [
      " Saved translated file: 12756724-394c-4576-b373-7c53f1abbd94_34.csv\n",
      "\n",
      "Processing file 99 of 490: 12756724-394c-4576-b373-7c53f1abbd94_35.csv\n"
     ]
    },
    {
     "name": "stderr",
     "output_type": "stream",
     "text": [
      "Translating OCR Files:  20%|██        | 99/490 [37:14<3:02:58, 28.08s/file]"
     ]
    },
    {
     "name": "stdout",
     "output_type": "stream",
     "text": [
      " Saved translated file: 12756724-394c-4576-b373-7c53f1abbd94_35.csv\n",
      "\n",
      "Processing file 100 of 490: 12756724-394c-4576-b373-7c53f1abbd94_36.csv\n"
     ]
    },
    {
     "name": "stderr",
     "output_type": "stream",
     "text": [
      "Translating OCR Files:  20%|██        | 100/490 [37:21<2:22:14, 21.88s/file]"
     ]
    },
    {
     "name": "stdout",
     "output_type": "stream",
     "text": [
      " Saved translated file: 12756724-394c-4576-b373-7c53f1abbd94_36.csv\n",
      "\n",
      "Processing file 101 of 490: 12756724-394c-4576-b373-7c53f1abbd94_37.csv\n"
     ]
    },
    {
     "name": "stderr",
     "output_type": "stream",
     "text": [
      "Translating OCR Files:  21%|██        | 101/490 [38:38<4:08:59, 38.40s/file]"
     ]
    },
    {
     "name": "stdout",
     "output_type": "stream",
     "text": [
      " Saved translated file: 12756724-394c-4576-b373-7c53f1abbd94_37.csv\n",
      "\n",
      "Processing file 102 of 490: 12756724-394c-4576-b373-7c53f1abbd94_38.csv\n"
     ]
    },
    {
     "name": "stderr",
     "output_type": "stream",
     "text": [
      "Translating OCR Files:  21%|██        | 102/490 [39:57<5:26:11, 50.44s/file]"
     ]
    },
    {
     "name": "stdout",
     "output_type": "stream",
     "text": [
      " Saved translated file: 12756724-394c-4576-b373-7c53f1abbd94_38.csv\n",
      "\n",
      "Processing file 103 of 490: 12756724-394c-4576-b373-7c53f1abbd94_39.csv\n"
     ]
    },
    {
     "name": "stderr",
     "output_type": "stream",
     "text": [
      "Translating OCR Files:  21%|██        | 103/490 [40:53<5:36:41, 52.20s/file]"
     ]
    },
    {
     "name": "stdout",
     "output_type": "stream",
     "text": [
      " Saved translated file: 12756724-394c-4576-b373-7c53f1abbd94_39.csv\n",
      "\n",
      "Processing file 104 of 490: 12756724-394c-4576-b373-7c53f1abbd94_4.csv\n"
     ]
    },
    {
     "name": "stderr",
     "output_type": "stream",
     "text": [
      "Translating OCR Files:  21%|██        | 104/490 [41:45<5:34:35, 52.01s/file]"
     ]
    },
    {
     "name": "stdout",
     "output_type": "stream",
     "text": [
      " Saved translated file: 12756724-394c-4576-b373-7c53f1abbd94_4.csv\n",
      "\n",
      "Processing file 105 of 490: 12756724-394c-4576-b373-7c53f1abbd94_40.csv\n"
     ]
    },
    {
     "name": "stderr",
     "output_type": "stream",
     "text": [
      "Translating OCR Files:  21%|██▏       | 105/490 [42:31<5:22:50, 50.31s/file]"
     ]
    },
    {
     "name": "stdout",
     "output_type": "stream",
     "text": [
      " Saved translated file: 12756724-394c-4576-b373-7c53f1abbd94_40.csv\n",
      "\n",
      "Processing file 106 of 490: 12756724-394c-4576-b373-7c53f1abbd94_41.csv\n"
     ]
    },
    {
     "name": "stderr",
     "output_type": "stream",
     "text": [
      "Translating OCR Files:  22%|██▏       | 106/490 [42:40<4:02:59, 37.97s/file]"
     ]
    },
    {
     "name": "stdout",
     "output_type": "stream",
     "text": [
      " Saved translated file: 12756724-394c-4576-b373-7c53f1abbd94_41.csv\n",
      "\n",
      "Processing file 107 of 490: 12756724-394c-4576-b373-7c53f1abbd94_42.csv\n"
     ]
    },
    {
     "name": "stderr",
     "output_type": "stream",
     "text": [
      "Translating OCR Files:  22%|██▏       | 107/490 [43:19<4:04:21, 38.28s/file]"
     ]
    },
    {
     "name": "stdout",
     "output_type": "stream",
     "text": [
      " Saved translated file: 12756724-394c-4576-b373-7c53f1abbd94_42.csv\n",
      "\n",
      "Processing file 108 of 490: 12756724-394c-4576-b373-7c53f1abbd94_43.csv\n"
     ]
    },
    {
     "name": "stderr",
     "output_type": "stream",
     "text": [
      "Translating OCR Files:  22%|██▏       | 108/490 [44:08<4:23:43, 41.42s/file]"
     ]
    },
    {
     "name": "stdout",
     "output_type": "stream",
     "text": [
      " Saved translated file: 12756724-394c-4576-b373-7c53f1abbd94_43.csv\n",
      "\n",
      "Processing file 109 of 490: 12756724-394c-4576-b373-7c53f1abbd94_44.csv\n"
     ]
    },
    {
     "name": "stderr",
     "output_type": "stream",
     "text": [
      "Translating OCR Files:  22%|██▏       | 109/490 [44:45<4:14:50, 40.13s/file]"
     ]
    },
    {
     "name": "stdout",
     "output_type": "stream",
     "text": [
      " Saved translated file: 12756724-394c-4576-b373-7c53f1abbd94_44.csv\n",
      "\n",
      "Processing file 110 of 490: 12756724-394c-4576-b373-7c53f1abbd94_45.csv\n"
     ]
    },
    {
     "name": "stderr",
     "output_type": "stream",
     "text": [
      "Translating OCR Files:  22%|██▏       | 110/490 [45:29<4:20:29, 41.13s/file]"
     ]
    },
    {
     "name": "stdout",
     "output_type": "stream",
     "text": [
      " Saved translated file: 12756724-394c-4576-b373-7c53f1abbd94_45.csv\n",
      "\n",
      "Processing file 111 of 490: 12756724-394c-4576-b373-7c53f1abbd94_46.csv\n"
     ]
    },
    {
     "name": "stderr",
     "output_type": "stream",
     "text": [
      "Translating OCR Files:  23%|██▎       | 111/490 [45:32<3:08:33, 29.85s/file]"
     ]
    },
    {
     "name": "stdout",
     "output_type": "stream",
     "text": [
      " Saved translated file: 12756724-394c-4576-b373-7c53f1abbd94_46.csv\n",
      "\n",
      "Processing file 112 of 490: 12756724-394c-4576-b373-7c53f1abbd94_47.csv\n"
     ]
    },
    {
     "name": "stderr",
     "output_type": "stream",
     "text": [
      "Translating OCR Files:  23%|██▎       | 112/490 [46:17<3:36:46, 34.41s/file]"
     ]
    },
    {
     "name": "stdout",
     "output_type": "stream",
     "text": [
      " Saved translated file: 12756724-394c-4576-b373-7c53f1abbd94_47.csv\n",
      "\n",
      "Processing file 113 of 490: 12756724-394c-4576-b373-7c53f1abbd94_48.csv\n"
     ]
    },
    {
     "name": "stderr",
     "output_type": "stream",
     "text": [
      "Translating OCR Files:  23%|██▎       | 113/490 [47:07<4:05:09, 39.02s/file]"
     ]
    },
    {
     "name": "stdout",
     "output_type": "stream",
     "text": [
      " Saved translated file: 12756724-394c-4576-b373-7c53f1abbd94_48.csv\n",
      "\n",
      "Processing file 114 of 490: 12756724-394c-4576-b373-7c53f1abbd94_49.csv\n"
     ]
    },
    {
     "name": "stderr",
     "output_type": "stream",
     "text": [
      "Translating OCR Files:  23%|██▎       | 114/490 [47:42<3:57:29, 37.90s/file]"
     ]
    },
    {
     "name": "stdout",
     "output_type": "stream",
     "text": [
      " Saved translated file: 12756724-394c-4576-b373-7c53f1abbd94_49.csv\n",
      "\n",
      "Processing file 115 of 490: 12756724-394c-4576-b373-7c53f1abbd94_5.csv\n"
     ]
    },
    {
     "name": "stderr",
     "output_type": "stream",
     "text": [
      "Translating OCR Files:  23%|██▎       | 115/490 [47:51<3:02:44, 29.24s/file]"
     ]
    },
    {
     "name": "stdout",
     "output_type": "stream",
     "text": [
      " Saved translated file: 12756724-394c-4576-b373-7c53f1abbd94_5.csv\n",
      "\n",
      "Processing file 116 of 490: 12756724-394c-4576-b373-7c53f1abbd94_6.csv\n"
     ]
    },
    {
     "name": "stderr",
     "output_type": "stream",
     "text": [
      "Translating OCR Files:  24%|██▎       | 116/490 [48:47<3:52:36, 37.32s/file]"
     ]
    },
    {
     "name": "stdout",
     "output_type": "stream",
     "text": [
      " Saved translated file: 12756724-394c-4576-b373-7c53f1abbd94_6.csv\n",
      "\n",
      "Processing file 117 of 490: 12756724-394c-4576-b373-7c53f1abbd94_7.csv\n"
     ]
    },
    {
     "name": "stderr",
     "output_type": "stream",
     "text": [
      "Translating OCR Files:  24%|██▍       | 117/490 [50:10<5:15:39, 50.78s/file]"
     ]
    },
    {
     "name": "stdout",
     "output_type": "stream",
     "text": [
      " Saved translated file: 12756724-394c-4576-b373-7c53f1abbd94_7.csv\n",
      "\n",
      "Processing file 118 of 490: 12756724-394c-4576-b373-7c53f1abbd94_8.csv\n"
     ]
    },
    {
     "name": "stderr",
     "output_type": "stream",
     "text": [
      "Translating OCR Files:  24%|██▍       | 118/490 [51:15<5:41:14, 55.04s/file]"
     ]
    },
    {
     "name": "stdout",
     "output_type": "stream",
     "text": [
      " Saved translated file: 12756724-394c-4576-b373-7c53f1abbd94_8.csv\n",
      "\n",
      "Processing file 119 of 490: 12756724-394c-4576-b373-7c53f1abbd94_9.csv\n"
     ]
    },
    {
     "name": "stderr",
     "output_type": "stream",
     "text": [
      "Translating OCR Files:  24%|██▍       | 119/490 [52:07<5:34:42, 54.13s/file]"
     ]
    },
    {
     "name": "stdout",
     "output_type": "stream",
     "text": [
      " Saved translated file: 12756724-394c-4576-b373-7c53f1abbd94_9.csv\n",
      "\n",
      "Processing file 120 of 490: 129ac70f-8942-4ca7-b1f2-ddeaa3d984b5.csv\n"
     ]
    },
    {
     "name": "stderr",
     "output_type": "stream",
     "text": [
      "Translating OCR Files:  24%|██▍       | 120/490 [53:10<5:51:20, 56.97s/file]"
     ]
    },
    {
     "name": "stdout",
     "output_type": "stream",
     "text": [
      " Saved translated file: 129ac70f-8942-4ca7-b1f2-ddeaa3d984b5.csv\n",
      "\n",
      "Processing file 121 of 490: 178e3898-903d-47cf-bfbe-061e7dc18895_0.csv\n"
     ]
    },
    {
     "name": "stderr",
     "output_type": "stream",
     "text": [
      "Translating OCR Files:  25%|██▍       | 121/490 [53:17<4:17:30, 41.87s/file]"
     ]
    },
    {
     "name": "stdout",
     "output_type": "stream",
     "text": [
      " Saved translated file: 178e3898-903d-47cf-bfbe-061e7dc18895_0.csv\n",
      "\n",
      "Processing file 122 of 490: 178e3898-903d-47cf-bfbe-061e7dc18895_1.csv\n"
     ]
    },
    {
     "name": "stderr",
     "output_type": "stream",
     "text": [
      "Translating OCR Files:  25%|██▍       | 122/490 [54:03<4:25:24, 43.27s/file]"
     ]
    },
    {
     "name": "stdout",
     "output_type": "stream",
     "text": [
      " Saved translated file: 178e3898-903d-47cf-bfbe-061e7dc18895_1.csv\n",
      "\n",
      "Processing file 123 of 490: 178e3898-903d-47cf-bfbe-061e7dc18895_10.csv\n"
     ]
    },
    {
     "name": "stderr",
     "output_type": "stream",
     "text": [
      "Translating OCR Files:  25%|██▌       | 123/490 [54:28<3:50:36, 37.70s/file]"
     ]
    },
    {
     "name": "stdout",
     "output_type": "stream",
     "text": [
      " Saved translated file: 178e3898-903d-47cf-bfbe-061e7dc18895_10.csv\n",
      "\n",
      "Processing file 124 of 490: 178e3898-903d-47cf-bfbe-061e7dc18895_2.csv\n"
     ]
    },
    {
     "name": "stderr",
     "output_type": "stream",
     "text": [
      "Translating OCR Files:  25%|██▌       | 124/490 [55:44<4:59:45, 49.14s/file]"
     ]
    },
    {
     "name": "stdout",
     "output_type": "stream",
     "text": [
      " Saved translated file: 178e3898-903d-47cf-bfbe-061e7dc18895_2.csv\n",
      "\n",
      "Processing file 125 of 490: 178e3898-903d-47cf-bfbe-061e7dc18895_3.csv\n"
     ]
    },
    {
     "name": "stderr",
     "output_type": "stream",
     "text": [
      "Translating OCR Files:  26%|██▌       | 125/490 [56:46<5:21:56, 52.92s/file]"
     ]
    },
    {
     "name": "stdout",
     "output_type": "stream",
     "text": [
      " Saved translated file: 178e3898-903d-47cf-bfbe-061e7dc18895_3.csv\n",
      "\n",
      "Processing file 126 of 490: 178e3898-903d-47cf-bfbe-061e7dc18895_4.csv\n"
     ]
    },
    {
     "name": "stderr",
     "output_type": "stream",
     "text": [
      "Translating OCR Files:  26%|██▌       | 126/490 [57:28<5:01:33, 49.71s/file]"
     ]
    },
    {
     "name": "stdout",
     "output_type": "stream",
     "text": [
      " Saved translated file: 178e3898-903d-47cf-bfbe-061e7dc18895_4.csv\n",
      "\n",
      "Processing file 127 of 490: 178e3898-903d-47cf-bfbe-061e7dc18895_5.csv\n"
     ]
    },
    {
     "name": "stderr",
     "output_type": "stream",
     "text": [
      "Translating OCR Files:  26%|██▌       | 127/490 [58:15<4:56:41, 49.04s/file]"
     ]
    },
    {
     "name": "stdout",
     "output_type": "stream",
     "text": [
      " Saved translated file: 178e3898-903d-47cf-bfbe-061e7dc18895_5.csv\n",
      "\n",
      "Processing file 128 of 490: 178e3898-903d-47cf-bfbe-061e7dc18895_6.csv\n"
     ]
    },
    {
     "name": "stderr",
     "output_type": "stream",
     "text": [
      "Translating OCR Files:  26%|██▌       | 128/490 [58:44<4:19:46, 43.06s/file]"
     ]
    },
    {
     "name": "stdout",
     "output_type": "stream",
     "text": [
      " Saved translated file: 178e3898-903d-47cf-bfbe-061e7dc18895_6.csv\n",
      "\n",
      "Processing file 129 of 490: 178e3898-903d-47cf-bfbe-061e7dc18895_7.csv\n"
     ]
    },
    {
     "name": "stderr",
     "output_type": "stream",
     "text": [
      "Translating OCR Files:  26%|██▋       | 129/490 [59:16<3:58:29, 39.64s/file]"
     ]
    },
    {
     "name": "stdout",
     "output_type": "stream",
     "text": [
      " Saved translated file: 178e3898-903d-47cf-bfbe-061e7dc18895_7.csv\n",
      "\n",
      "Processing file 130 of 490: 178e3898-903d-47cf-bfbe-061e7dc18895_8.csv\n"
     ]
    },
    {
     "name": "stderr",
     "output_type": "stream",
     "text": [
      "Translating OCR Files:  27%|██▋       | 130/490 [1:00:03<4:10:46, 41.80s/file]"
     ]
    },
    {
     "name": "stdout",
     "output_type": "stream",
     "text": [
      " Saved translated file: 178e3898-903d-47cf-bfbe-061e7dc18895_8.csv\n",
      "\n",
      "Processing file 131 of 490: 178e3898-903d-47cf-bfbe-061e7dc18895_9.csv\n"
     ]
    },
    {
     "name": "stderr",
     "output_type": "stream",
     "text": [
      "Translating OCR Files:  27%|██▋       | 131/490 [1:00:44<4:08:42, 41.57s/file]"
     ]
    },
    {
     "name": "stdout",
     "output_type": "stream",
     "text": [
      " Saved translated file: 178e3898-903d-47cf-bfbe-061e7dc18895_9.csv\n",
      "\n",
      "Processing file 132 of 490: 1a20ded1-50fc-4153-9a95-e158eeb7199e.csv\n"
     ]
    },
    {
     "name": "stderr",
     "output_type": "stream",
     "text": [
      "Translating OCR Files:  27%|██▋       | 132/490 [1:00:51<3:06:30, 31.26s/file]"
     ]
    },
    {
     "name": "stdout",
     "output_type": "stream",
     "text": [
      " Saved translated file: 1a20ded1-50fc-4153-9a95-e158eeb7199e.csv\n",
      "\n",
      "Processing file 133 of 490: 1afcf93d-50f1-4f1e-896d-87b0da7519f7.csv\n"
     ]
    },
    {
     "name": "stderr",
     "output_type": "stream",
     "text": [
      "Translating OCR Files:  27%|██▋       | 133/490 [1:00:59<2:24:52, 24.35s/file]"
     ]
    },
    {
     "name": "stdout",
     "output_type": "stream",
     "text": [
      " Saved translated file: 1afcf93d-50f1-4f1e-896d-87b0da7519f7.csv\n",
      "\n",
      "Processing file 134 of 490: 1b0dc208-d2bb-43ea-b744-534f3b759394.csv\n"
     ]
    },
    {
     "name": "stderr",
     "output_type": "stream",
     "text": [
      "Translating OCR Files:  27%|██▋       | 134/490 [1:02:04<3:36:07, 36.43s/file]"
     ]
    },
    {
     "name": "stdout",
     "output_type": "stream",
     "text": [
      " Saved translated file: 1b0dc208-d2bb-43ea-b744-534f3b759394.csv\n",
      "\n",
      "Processing file 135 of 490: 1cc570d8-cddb-401e-8c37-ef10c0e4841f.csv\n"
     ]
    },
    {
     "name": "stderr",
     "output_type": "stream",
     "text": [
      "Translating OCR Files:  28%|██▊       | 135/490 [1:02:20<3:00:09, 30.45s/file]"
     ]
    },
    {
     "name": "stdout",
     "output_type": "stream",
     "text": [
      " Saved translated file: 1cc570d8-cddb-401e-8c37-ef10c0e4841f.csv\n",
      "\n",
      "Processing file 136 of 490: 2db27de1-d5c5-4f89-8572-da697a6329e4_1_0.csv\n"
     ]
    },
    {
     "name": "stderr",
     "output_type": "stream",
     "text": [
      "Translating OCR Files:  28%|██▊       | 136/490 [1:02:47<2:52:07, 29.17s/file]"
     ]
    },
    {
     "name": "stdout",
     "output_type": "stream",
     "text": [
      " Saved translated file: 2db27de1-d5c5-4f89-8572-da697a6329e4_1_0.csv\n",
      "\n",
      "Processing file 137 of 490: 2db27de1-d5c5-4f89-8572-da697a6329e4_2_0.csv\n"
     ]
    },
    {
     "name": "stderr",
     "output_type": "stream",
     "text": [
      "Translating OCR Files:  28%|██▊       | 137/490 [1:02:58<2:20:07, 23.82s/file]"
     ]
    },
    {
     "name": "stdout",
     "output_type": "stream",
     "text": [
      " Saved translated file: 2db27de1-d5c5-4f89-8572-da697a6329e4_2_0.csv\n",
      "\n",
      "Processing file 138 of 490: 2db27de1-d5c5-4f89-8572-da697a6329e4_2_1.csv\n"
     ]
    },
    {
     "name": "stderr",
     "output_type": "stream",
     "text": [
      "Translating OCR Files:  28%|██▊       | 138/490 [1:03:00<1:40:51, 17.19s/file]"
     ]
    },
    {
     "name": "stdout",
     "output_type": "stream",
     "text": [
      " Saved translated file: 2db27de1-d5c5-4f89-8572-da697a6329e4_2_1.csv\n",
      "\n",
      "Processing file 139 of 490: 2db27de1-d5c5-4f89-8572-da697a6329e4_3_0.csv\n"
     ]
    },
    {
     "name": "stderr",
     "output_type": "stream",
     "text": [
      "Translating OCR Files:  28%|██▊       | 139/490 [1:04:03<3:02:10, 31.14s/file]"
     ]
    },
    {
     "name": "stdout",
     "output_type": "stream",
     "text": [
      " Saved translated file: 2db27de1-d5c5-4f89-8572-da697a6329e4_3_0.csv\n",
      "\n",
      "Processing file 140 of 490: 2db27de1-d5c5-4f89-8572-da697a6329e4_4_0.csv\n"
     ]
    },
    {
     "name": "stderr",
     "output_type": "stream",
     "text": [
      "Translating OCR Files:  29%|██▊       | 140/490 [1:04:08<2:14:56, 23.13s/file]"
     ]
    },
    {
     "name": "stdout",
     "output_type": "stream",
     "text": [
      " Saved translated file: 2db27de1-d5c5-4f89-8572-da697a6329e4_4_0.csv\n",
      "\n",
      "Processing file 141 of 490: 2db27de1-d5c5-4f89-8572-da697a6329e4_5_0.csv\n"
     ]
    },
    {
     "name": "stderr",
     "output_type": "stream",
     "text": [
      "Translating OCR Files:  29%|██▉       | 141/490 [1:04:09<1:35:31, 16.42s/file]"
     ]
    },
    {
     "name": "stdout",
     "output_type": "stream",
     "text": [
      " Saved translated file: 2db27de1-d5c5-4f89-8572-da697a6329e4_5_0.csv\n",
      "\n",
      "Processing file 142 of 490: 300450bf-221e-4eeb-bdda-dc1115c947ea.csv\n"
     ]
    },
    {
     "name": "stderr",
     "output_type": "stream",
     "text": [
      "Translating OCR Files:  29%|██▉       | 142/490 [1:04:20<1:26:15, 14.87s/file]"
     ]
    },
    {
     "name": "stdout",
     "output_type": "stream",
     "text": [
      " Saved translated file: 300450bf-221e-4eeb-bdda-dc1115c947ea.csv\n",
      "\n",
      "Processing file 143 of 490: 32eb7662-f212-4811-a7c1-1cfeb121cd99.csv\n"
     ]
    },
    {
     "name": "stderr",
     "output_type": "stream",
     "text": [
      "Translating OCR Files:  29%|██▉       | 143/490 [1:05:04<2:16:34, 23.62s/file]"
     ]
    },
    {
     "name": "stdout",
     "output_type": "stream",
     "text": [
      " Saved translated file: 32eb7662-f212-4811-a7c1-1cfeb121cd99.csv\n",
      "\n",
      "Processing file 144 of 490: 330f554f-a3e6-4bd3-8b1b-d5949e1f30e8.csv\n"
     ]
    },
    {
     "name": "stderr",
     "output_type": "stream",
     "text": [
      "Translating OCR Files:  29%|██▉       | 144/490 [1:05:06<1:39:46, 17.30s/file]"
     ]
    },
    {
     "name": "stdout",
     "output_type": "stream",
     "text": [
      " Saved translated file: 330f554f-a3e6-4bd3-8b1b-d5949e1f30e8.csv\n",
      "\n",
      "Processing file 145 of 490: 3348953d-66e9-4cac-8675-65bb5f2ef929_1_0.csv\n"
     ]
    },
    {
     "name": "stderr",
     "output_type": "stream",
     "text": [
      "Translating OCR Files:  30%|██▉       | 145/490 [1:05:35<1:58:54, 20.68s/file]"
     ]
    },
    {
     "name": "stdout",
     "output_type": "stream",
     "text": [
      " Saved translated file: 3348953d-66e9-4cac-8675-65bb5f2ef929_1_0.csv\n",
      "\n",
      "Processing file 146 of 490: 3348953d-66e9-4cac-8675-65bb5f2ef929_2_0.csv\n"
     ]
    },
    {
     "name": "stderr",
     "output_type": "stream",
     "text": [
      "Translating OCR Files:  30%|██▉       | 146/490 [1:05:52<1:52:26, 19.61s/file]"
     ]
    },
    {
     "name": "stdout",
     "output_type": "stream",
     "text": [
      " Saved translated file: 3348953d-66e9-4cac-8675-65bb5f2ef929_2_0.csv\n",
      "\n",
      "Processing file 147 of 490: 3348953d-66e9-4cac-8675-65bb5f2ef929_2_1.csv\n"
     ]
    },
    {
     "name": "stderr",
     "output_type": "stream",
     "text": [
      "Translating OCR Files:  30%|███       | 147/490 [1:05:55<1:23:29, 14.61s/file]"
     ]
    },
    {
     "name": "stdout",
     "output_type": "stream",
     "text": [
      " Saved translated file: 3348953d-66e9-4cac-8675-65bb5f2ef929_2_1.csv\n",
      "\n",
      "Processing file 148 of 490: 3348953d-66e9-4cac-8675-65bb5f2ef929_3_0.csv\n"
     ]
    },
    {
     "name": "stderr",
     "output_type": "stream",
     "text": [
      "Translating OCR Files:  30%|███       | 148/490 [1:05:56<1:00:39, 10.64s/file]"
     ]
    },
    {
     "name": "stdout",
     "output_type": "stream",
     "text": [
      " Saved translated file: 3348953d-66e9-4cac-8675-65bb5f2ef929_3_0.csv\n",
      "\n",
      "Processing file 149 of 490: 3348953d-66e9-4cac-8675-65bb5f2ef929_4_0.csv\n"
     ]
    },
    {
     "name": "stderr",
     "output_type": "stream",
     "text": [
      "Translating OCR Files:  30%|███       | 149/490 [1:05:58<44:57,  7.91s/file]  "
     ]
    },
    {
     "name": "stdout",
     "output_type": "stream",
     "text": [
      " Saved translated file: 3348953d-66e9-4cac-8675-65bb5f2ef929_4_0.csv\n",
      "\n",
      "Processing file 150 of 490: 3348953d-66e9-4cac-8675-65bb5f2ef929_5_0.csv\n"
     ]
    },
    {
     "name": "stderr",
     "output_type": "stream",
     "text": [
      "Translating OCR Files:  31%|███       | 150/490 [1:05:59<33:10,  5.85s/file]"
     ]
    },
    {
     "name": "stdout",
     "output_type": "stream",
     "text": [
      " Saved translated file: 3348953d-66e9-4cac-8675-65bb5f2ef929_5_0.csv\n",
      "\n",
      "Processing file 151 of 490: 3556e54c-d418-447d-bb2a-43ac0408cc7a.csv\n"
     ]
    },
    {
     "name": "stderr",
     "output_type": "stream",
     "text": [
      "Translating OCR Files:  31%|███       | 151/490 [1:06:04<31:02,  5.50s/file]"
     ]
    },
    {
     "name": "stdout",
     "output_type": "stream",
     "text": [
      " Saved translated file: 3556e54c-d418-447d-bb2a-43ac0408cc7a.csv\n",
      "\n",
      "Processing file 152 of 490: 383d824e-7588-4a92-84b7-fd953dd91cba.csv\n"
     ]
    },
    {
     "name": "stderr",
     "output_type": "stream",
     "text": [
      "Translating OCR Files:  31%|███       | 152/490 [1:06:16<42:01,  7.46s/file]"
     ]
    },
    {
     "name": "stdout",
     "output_type": "stream",
     "text": [
      " Saved translated file: 383d824e-7588-4a92-84b7-fd953dd91cba.csv\n",
      "\n",
      "Processing file 153 of 490: 3f451a52-d210-48d9-b56e-d28b9570bdc4_0.csv\n"
     ]
    },
    {
     "name": "stderr",
     "output_type": "stream",
     "text": [
      "Translating OCR Files:  31%|███       | 153/490 [1:07:08<1:56:45, 20.79s/file]"
     ]
    },
    {
     "name": "stdout",
     "output_type": "stream",
     "text": [
      " Saved translated file: 3f451a52-d210-48d9-b56e-d28b9570bdc4_0.csv\n",
      "\n",
      "Processing file 154 of 490: 48fd4c79-41ca-459e-a5a5-a3738e7a4af3_0.csv\n"
     ]
    },
    {
     "name": "stderr",
     "output_type": "stream",
     "text": [
      "Translating OCR Files:  31%|███▏      | 154/490 [1:08:11<3:08:35, 33.68s/file]"
     ]
    },
    {
     "name": "stdout",
     "output_type": "stream",
     "text": [
      " Saved translated file: 48fd4c79-41ca-459e-a5a5-a3738e7a4af3_0.csv\n",
      "\n",
      "Processing file 155 of 490: 493542fc-495f-4756-8451-c4ed084d8bf7.csv\n"
     ]
    },
    {
     "name": "stderr",
     "output_type": "stream",
     "text": [
      "Translating OCR Files:  32%|███▏      | 155/490 [1:08:28<2:39:59, 28.66s/file]"
     ]
    },
    {
     "name": "stdout",
     "output_type": "stream",
     "text": [
      " Saved translated file: 493542fc-495f-4756-8451-c4ed084d8bf7.csv\n",
      "\n",
      "Processing file 156 of 490: 4ae9bf34-c16c-4684-aa92-fec65a151275.csv\n"
     ]
    },
    {
     "name": "stderr",
     "output_type": "stream",
     "text": [
      "Translating OCR Files:  32%|███▏      | 156/490 [1:09:02<2:48:27, 30.26s/file]"
     ]
    },
    {
     "name": "stdout",
     "output_type": "stream",
     "text": [
      " Saved translated file: 4ae9bf34-c16c-4684-aa92-fec65a151275.csv\n",
      "\n",
      "Processing file 157 of 490: 4c74b697-0681-4223-9982-5ffaf4e98ed0.csv\n"
     ]
    },
    {
     "name": "stderr",
     "output_type": "stream",
     "text": [
      "Translating OCR Files:  32%|███▏      | 157/490 [1:09:28<2:40:43, 28.96s/file]"
     ]
    },
    {
     "name": "stdout",
     "output_type": "stream",
     "text": [
      " Saved translated file: 4c74b697-0681-4223-9982-5ffaf4e98ed0.csv\n",
      "\n",
      "Processing file 158 of 490: 4ea07c23-a1a6-411b-bcfb-552d095b66c9.csv\n"
     ]
    },
    {
     "name": "stderr",
     "output_type": "stream",
     "text": [
      "Translating OCR Files:  32%|███▏      | 158/490 [1:09:42<2:14:58, 24.39s/file]"
     ]
    },
    {
     "name": "stdout",
     "output_type": "stream",
     "text": [
      " Saved translated file: 4ea07c23-a1a6-411b-bcfb-552d095b66c9.csv\n",
      "\n",
      "Processing file 159 of 490: 5387a301-0af8-4e24-a197-20189f87b9ef_0.csv\n"
     ]
    },
    {
     "name": "stderr",
     "output_type": "stream",
     "text": [
      "Translating OCR Files:  32%|███▏      | 159/490 [1:09:48<1:44:39, 18.97s/file]"
     ]
    },
    {
     "name": "stdout",
     "output_type": "stream",
     "text": [
      " Saved translated file: 5387a301-0af8-4e24-a197-20189f87b9ef_0.csv\n",
      "\n",
      "Processing file 160 of 490: 5387a301-0af8-4e24-a197-20189f87b9ef_1.csv\n"
     ]
    },
    {
     "name": "stderr",
     "output_type": "stream",
     "text": [
      "Translating OCR Files:  33%|███▎      | 160/490 [1:10:18<2:02:01, 22.19s/file]"
     ]
    },
    {
     "name": "stdout",
     "output_type": "stream",
     "text": [
      " Saved translated file: 5387a301-0af8-4e24-a197-20189f87b9ef_1.csv\n",
      "\n",
      "Processing file 161 of 490: 5387a301-0af8-4e24-a197-20189f87b9ef_10.csv\n"
     ]
    },
    {
     "name": "stderr",
     "output_type": "stream",
     "text": [
      "Translating OCR Files:  33%|███▎      | 161/490 [1:11:06<2:43:38, 29.84s/file]"
     ]
    },
    {
     "name": "stdout",
     "output_type": "stream",
     "text": [
      " Saved translated file: 5387a301-0af8-4e24-a197-20189f87b9ef_10.csv\n",
      "\n",
      "Processing file 162 of 490: 5387a301-0af8-4e24-a197-20189f87b9ef_11.csv\n"
     ]
    },
    {
     "name": "stderr",
     "output_type": "stream",
     "text": [
      "Translating OCR Files:  33%|███▎      | 162/490 [1:12:36<4:22:00, 47.93s/file]"
     ]
    },
    {
     "name": "stdout",
     "output_type": "stream",
     "text": [
      "Ollama error: HTTPConnectionPool(host='localhost', port=11434): Read timed out. (read timeout=90)\n",
      " Saved translated file: 5387a301-0af8-4e24-a197-20189f87b9ef_11.csv\n",
      "\n",
      "Processing file 163 of 490: 5387a301-0af8-4e24-a197-20189f87b9ef_2.csv\n"
     ]
    },
    {
     "name": "stderr",
     "output_type": "stream",
     "text": [
      "Translating OCR Files:  33%|███▎      | 163/490 [1:14:06<5:30:12, 60.59s/file]"
     ]
    },
    {
     "name": "stdout",
     "output_type": "stream",
     "text": [
      "Ollama error: HTTPConnectionPool(host='localhost', port=11434): Read timed out. (read timeout=90)\n",
      " Saved translated file: 5387a301-0af8-4e24-a197-20189f87b9ef_2.csv\n",
      "\n",
      "Processing file 164 of 490: 5387a301-0af8-4e24-a197-20189f87b9ef_3.csv\n"
     ]
    },
    {
     "name": "stderr",
     "output_type": "stream",
     "text": [
      "Translating OCR Files:  33%|███▎      | 164/490 [1:15:22<5:54:44, 65.29s/file]"
     ]
    },
    {
     "name": "stdout",
     "output_type": "stream",
     "text": [
      " Saved translated file: 5387a301-0af8-4e24-a197-20189f87b9ef_3.csv\n",
      "\n",
      "Processing file 165 of 490: 5387a301-0af8-4e24-a197-20189f87b9ef_4.csv\n"
     ]
    },
    {
     "name": "stderr",
     "output_type": "stream",
     "text": [
      "Translating OCR Files:  34%|███▎      | 165/490 [1:16:18<5:37:38, 62.33s/file]"
     ]
    },
    {
     "name": "stdout",
     "output_type": "stream",
     "text": [
      " Saved translated file: 5387a301-0af8-4e24-a197-20189f87b9ef_4.csv\n",
      "\n",
      "Processing file 166 of 490: 5387a301-0af8-4e24-a197-20189f87b9ef_5.csv\n"
     ]
    },
    {
     "name": "stderr",
     "output_type": "stream",
     "text": [
      "Translating OCR Files:  34%|███▍      | 166/490 [1:17:01<5:06:20, 56.73s/file]"
     ]
    },
    {
     "name": "stdout",
     "output_type": "stream",
     "text": [
      " Saved translated file: 5387a301-0af8-4e24-a197-20189f87b9ef_5.csv\n",
      "\n",
      "Processing file 167 of 490: 5387a301-0af8-4e24-a197-20189f87b9ef_6.csv\n"
     ]
    },
    {
     "name": "stderr",
     "output_type": "stream",
     "text": [
      "Translating OCR Files:  34%|███▍      | 167/490 [1:17:33<4:24:31, 49.14s/file]"
     ]
    },
    {
     "name": "stdout",
     "output_type": "stream",
     "text": [
      " Saved translated file: 5387a301-0af8-4e24-a197-20189f87b9ef_6.csv\n",
      "\n",
      "Processing file 168 of 490: 5387a301-0af8-4e24-a197-20189f87b9ef_7.csv\n"
     ]
    },
    {
     "name": "stderr",
     "output_type": "stream",
     "text": [
      "Translating OCR Files:  34%|███▍      | 168/490 [1:18:13<4:09:10, 46.43s/file]"
     ]
    },
    {
     "name": "stdout",
     "output_type": "stream",
     "text": [
      " Saved translated file: 5387a301-0af8-4e24-a197-20189f87b9ef_7.csv\n",
      "\n",
      "Processing file 169 of 490: 5387a301-0af8-4e24-a197-20189f87b9ef_8.csv\n"
     ]
    },
    {
     "name": "stderr",
     "output_type": "stream",
     "text": [
      "Translating OCR Files:  34%|███▍      | 169/490 [1:19:04<4:16:29, 47.94s/file]"
     ]
    },
    {
     "name": "stdout",
     "output_type": "stream",
     "text": [
      " Saved translated file: 5387a301-0af8-4e24-a197-20189f87b9ef_8.csv\n",
      "\n",
      "Processing file 170 of 490: 5387a301-0af8-4e24-a197-20189f87b9ef_9.csv\n"
     ]
    },
    {
     "name": "stderr",
     "output_type": "stream",
     "text": [
      "Translating OCR Files:  35%|███▍      | 170/490 [1:19:15<3:16:11, 36.79s/file]"
     ]
    },
    {
     "name": "stdout",
     "output_type": "stream",
     "text": [
      " Saved translated file: 5387a301-0af8-4e24-a197-20189f87b9ef_9.csv\n",
      "\n",
      "Processing file 171 of 490: 547aba02-6757-49c1-acb5-6df217cebfc7_0.csv\n"
     ]
    },
    {
     "name": "stderr",
     "output_type": "stream",
     "text": [
      "Translating OCR Files:  35%|███▍      | 171/490 [1:19:52<3:15:11, 36.71s/file]"
     ]
    },
    {
     "name": "stdout",
     "output_type": "stream",
     "text": [
      " Saved translated file: 547aba02-6757-49c1-acb5-6df217cebfc7_0.csv\n",
      "\n",
      "Processing file 172 of 490: 547aba02-6757-49c1-acb5-6df217cebfc7_1.csv\n"
     ]
    },
    {
     "name": "stderr",
     "output_type": "stream",
     "text": [
      "Translating OCR Files:  35%|███▌      | 172/490 [1:20:22<3:03:52, 34.69s/file]"
     ]
    },
    {
     "name": "stdout",
     "output_type": "stream",
     "text": [
      " Saved translated file: 547aba02-6757-49c1-acb5-6df217cebfc7_1.csv\n",
      "\n",
      "Processing file 173 of 490: 547aba02-6757-49c1-acb5-6df217cebfc7_2.csv\n"
     ]
    },
    {
     "name": "stderr",
     "output_type": "stream",
     "text": [
      "Translating OCR Files:  35%|███▌      | 173/490 [1:20:40<2:37:20, 29.78s/file]"
     ]
    },
    {
     "name": "stdout",
     "output_type": "stream",
     "text": [
      " Saved translated file: 547aba02-6757-49c1-acb5-6df217cebfc7_2.csv\n",
      "\n",
      "Processing file 174 of 490: 547aba02-6757-49c1-acb5-6df217cebfc7_3.csv\n"
     ]
    },
    {
     "name": "stderr",
     "output_type": "stream",
     "text": [
      "Translating OCR Files:  36%|███▌      | 174/490 [1:21:10<2:36:44, 29.76s/file]"
     ]
    },
    {
     "name": "stdout",
     "output_type": "stream",
     "text": [
      " Saved translated file: 547aba02-6757-49c1-acb5-6df217cebfc7_3.csv\n",
      "\n",
      "Processing file 175 of 490: 54990932-71af-48dd-9a7a-2617b1407c54_0.csv\n"
     ]
    },
    {
     "name": "stderr",
     "output_type": "stream",
     "text": [
      "Translating OCR Files:  36%|███▌      | 175/490 [1:22:14<3:31:10, 40.22s/file]"
     ]
    },
    {
     "name": "stdout",
     "output_type": "stream",
     "text": [
      " Saved translated file: 54990932-71af-48dd-9a7a-2617b1407c54_0.csv\n",
      "\n",
      "Processing file 176 of 490: 585875ff-f8c5-4a02-acd7-fef37dc9ff11_0.csv\n"
     ]
    },
    {
     "name": "stderr",
     "output_type": "stream",
     "text": [
      "Translating OCR Files:  36%|███▌      | 176/490 [1:22:33<2:56:35, 33.74s/file]"
     ]
    },
    {
     "name": "stdout",
     "output_type": "stream",
     "text": [
      " Saved translated file: 585875ff-f8c5-4a02-acd7-fef37dc9ff11_0.csv\n",
      "\n",
      "Processing file 177 of 490: 585875ff-f8c5-4a02-acd7-fef37dc9ff11_1.csv\n"
     ]
    },
    {
     "name": "stderr",
     "output_type": "stream",
     "text": [
      "Translating OCR Files:  36%|███▌      | 177/490 [1:22:50<2:29:21, 28.63s/file]"
     ]
    },
    {
     "name": "stdout",
     "output_type": "stream",
     "text": [
      " Saved translated file: 585875ff-f8c5-4a02-acd7-fef37dc9ff11_1.csv\n",
      "\n",
      "Processing file 178 of 490: 585875ff-f8c5-4a02-acd7-fef37dc9ff11_10.csv\n"
     ]
    },
    {
     "name": "stderr",
     "output_type": "stream",
     "text": [
      "Translating OCR Files:  36%|███▋      | 178/490 [1:23:14<2:21:57, 27.30s/file]"
     ]
    },
    {
     "name": "stdout",
     "output_type": "stream",
     "text": [
      " Saved translated file: 585875ff-f8c5-4a02-acd7-fef37dc9ff11_10.csv\n",
      "\n",
      "Processing file 179 of 490: 585875ff-f8c5-4a02-acd7-fef37dc9ff11_11.csv\n"
     ]
    },
    {
     "name": "stderr",
     "output_type": "stream",
     "text": [
      "Translating OCR Files:  37%|███▋      | 179/490 [1:23:31<2:06:22, 24.38s/file]"
     ]
    },
    {
     "name": "stdout",
     "output_type": "stream",
     "text": [
      " Saved translated file: 585875ff-f8c5-4a02-acd7-fef37dc9ff11_11.csv\n",
      "\n",
      "Processing file 180 of 490: 585875ff-f8c5-4a02-acd7-fef37dc9ff11_12.csv\n"
     ]
    },
    {
     "name": "stderr",
     "output_type": "stream",
     "text": [
      "Translating OCR Files:  37%|███▋      | 180/490 [1:24:17<2:38:36, 30.70s/file]"
     ]
    },
    {
     "name": "stdout",
     "output_type": "stream",
     "text": [
      " Saved translated file: 585875ff-f8c5-4a02-acd7-fef37dc9ff11_12.csv\n",
      "\n",
      "Processing file 181 of 490: 585875ff-f8c5-4a02-acd7-fef37dc9ff11_13.csv\n"
     ]
    },
    {
     "name": "stderr",
     "output_type": "stream",
     "text": [
      "Translating OCR Files:  37%|███▋      | 181/490 [1:24:45<2:34:54, 30.08s/file]"
     ]
    },
    {
     "name": "stdout",
     "output_type": "stream",
     "text": [
      " Saved translated file: 585875ff-f8c5-4a02-acd7-fef37dc9ff11_13.csv\n",
      "\n",
      "Processing file 182 of 490: 585875ff-f8c5-4a02-acd7-fef37dc9ff11_14.csv\n"
     ]
    },
    {
     "name": "stderr",
     "output_type": "stream",
     "text": [
      "Translating OCR Files:  37%|███▋      | 182/490 [1:24:50<1:54:35, 22.32s/file]"
     ]
    },
    {
     "name": "stdout",
     "output_type": "stream",
     "text": [
      " Saved translated file: 585875ff-f8c5-4a02-acd7-fef37dc9ff11_14.csv\n",
      "\n",
      "Processing file 183 of 490: 585875ff-f8c5-4a02-acd7-fef37dc9ff11_15.csv\n"
     ]
    },
    {
     "name": "stderr",
     "output_type": "stream",
     "text": [
      "Translating OCR Files:  37%|███▋      | 183/490 [1:25:52<2:55:55, 34.38s/file]"
     ]
    },
    {
     "name": "stdout",
     "output_type": "stream",
     "text": [
      " Saved translated file: 585875ff-f8c5-4a02-acd7-fef37dc9ff11_15.csv\n",
      "\n",
      "Processing file 184 of 490: 585875ff-f8c5-4a02-acd7-fef37dc9ff11_16.csv\n"
     ]
    },
    {
     "name": "stderr",
     "output_type": "stream",
     "text": [
      "Translating OCR Files:  38%|███▊      | 184/490 [1:26:37<3:10:53, 37.43s/file]"
     ]
    },
    {
     "name": "stdout",
     "output_type": "stream",
     "text": [
      " Saved translated file: 585875ff-f8c5-4a02-acd7-fef37dc9ff11_16.csv\n",
      "\n",
      "Processing file 185 of 490: 585875ff-f8c5-4a02-acd7-fef37dc9ff11_17.csv\n"
     ]
    },
    {
     "name": "stderr",
     "output_type": "stream",
     "text": [
      "Translating OCR Files:  38%|███▊      | 185/490 [1:26:49<2:31:42, 29.84s/file]"
     ]
    },
    {
     "name": "stdout",
     "output_type": "stream",
     "text": [
      " Saved translated file: 585875ff-f8c5-4a02-acd7-fef37dc9ff11_17.csv\n",
      "\n",
      "Processing file 186 of 490: 585875ff-f8c5-4a02-acd7-fef37dc9ff11_18.csv\n"
     ]
    },
    {
     "name": "stderr",
     "output_type": "stream",
     "text": [
      "Translating OCR Files:  38%|███▊      | 186/490 [1:26:56<1:57:27, 23.18s/file]"
     ]
    },
    {
     "name": "stdout",
     "output_type": "stream",
     "text": [
      " Saved translated file: 585875ff-f8c5-4a02-acd7-fef37dc9ff11_18.csv\n",
      "\n",
      "Processing file 187 of 490: 585875ff-f8c5-4a02-acd7-fef37dc9ff11_19.csv\n"
     ]
    },
    {
     "name": "stderr",
     "output_type": "stream",
     "text": [
      "Translating OCR Files:  38%|███▊      | 187/490 [1:27:25<2:05:01, 24.76s/file]"
     ]
    },
    {
     "name": "stdout",
     "output_type": "stream",
     "text": [
      " Saved translated file: 585875ff-f8c5-4a02-acd7-fef37dc9ff11_19.csv\n",
      "\n",
      "Processing file 188 of 490: 585875ff-f8c5-4a02-acd7-fef37dc9ff11_2.csv\n"
     ]
    },
    {
     "name": "stderr",
     "output_type": "stream",
     "text": [
      "Translating OCR Files:  38%|███▊      | 188/490 [1:27:26<1:29:32, 17.79s/file]"
     ]
    },
    {
     "name": "stdout",
     "output_type": "stream",
     "text": [
      " Saved translated file: 585875ff-f8c5-4a02-acd7-fef37dc9ff11_2.csv\n",
      "\n",
      "Processing file 189 of 490: 585875ff-f8c5-4a02-acd7-fef37dc9ff11_3.csv\n"
     ]
    },
    {
     "name": "stderr",
     "output_type": "stream",
     "text": [
      "Translating OCR Files:  39%|███▊      | 189/490 [1:27:36<1:17:08, 15.38s/file]"
     ]
    },
    {
     "name": "stdout",
     "output_type": "stream",
     "text": [
      " Saved translated file: 585875ff-f8c5-4a02-acd7-fef37dc9ff11_3.csv\n",
      "\n",
      "Processing file 190 of 490: 585875ff-f8c5-4a02-acd7-fef37dc9ff11_4.csv\n"
     ]
    },
    {
     "name": "stderr",
     "output_type": "stream",
     "text": [
      "Translating OCR Files:  39%|███▉      | 190/490 [1:27:38<56:00, 11.20s/file]  "
     ]
    },
    {
     "name": "stdout",
     "output_type": "stream",
     "text": [
      " Saved translated file: 585875ff-f8c5-4a02-acd7-fef37dc9ff11_4.csv\n",
      "\n",
      "Processing file 191 of 490: 585875ff-f8c5-4a02-acd7-fef37dc9ff11_5.csv\n"
     ]
    },
    {
     "name": "stderr",
     "output_type": "stream",
     "text": [
      "Translating OCR Files:  39%|███▉      | 191/490 [1:27:45<50:29, 10.13s/file]"
     ]
    },
    {
     "name": "stdout",
     "output_type": "stream",
     "text": [
      " Saved translated file: 585875ff-f8c5-4a02-acd7-fef37dc9ff11_5.csv\n",
      "\n",
      "Processing file 192 of 490: 585875ff-f8c5-4a02-acd7-fef37dc9ff11_6.csv\n"
     ]
    },
    {
     "name": "stderr",
     "output_type": "stream",
     "text": [
      "Translating OCR Files:  39%|███▉      | 192/490 [1:28:07<1:07:47, 13.65s/file]"
     ]
    },
    {
     "name": "stdout",
     "output_type": "stream",
     "text": [
      " Saved translated file: 585875ff-f8c5-4a02-acd7-fef37dc9ff11_6.csv\n",
      "\n",
      "Processing file 193 of 490: 585875ff-f8c5-4a02-acd7-fef37dc9ff11_7.csv\n"
     ]
    },
    {
     "name": "stderr",
     "output_type": "stream",
     "text": [
      "Translating OCR Files:  39%|███▉      | 193/490 [1:28:31<1:22:10, 16.60s/file]"
     ]
    },
    {
     "name": "stdout",
     "output_type": "stream",
     "text": [
      " Saved translated file: 585875ff-f8c5-4a02-acd7-fef37dc9ff11_7.csv\n",
      "\n",
      "Processing file 194 of 490: 585875ff-f8c5-4a02-acd7-fef37dc9ff11_8.csv\n"
     ]
    },
    {
     "name": "stderr",
     "output_type": "stream",
     "text": [
      "Translating OCR Files:  40%|███▉      | 194/490 [1:29:02<1:43:10, 20.91s/file]"
     ]
    },
    {
     "name": "stdout",
     "output_type": "stream",
     "text": [
      " Saved translated file: 585875ff-f8c5-4a02-acd7-fef37dc9ff11_8.csv\n",
      "\n",
      "Processing file 195 of 490: 585875ff-f8c5-4a02-acd7-fef37dc9ff11_9.csv\n"
     ]
    },
    {
     "name": "stderr",
     "output_type": "stream",
     "text": [
      "Translating OCR Files:  40%|███▉      | 195/490 [1:29:24<1:45:39, 21.49s/file]"
     ]
    },
    {
     "name": "stdout",
     "output_type": "stream",
     "text": [
      " Saved translated file: 585875ff-f8c5-4a02-acd7-fef37dc9ff11_9.csv\n",
      "\n",
      "Processing file 196 of 490: 5a6b122c-39c1-4581-8c1f-2d6f36a9f8a0_0.csv\n"
     ]
    },
    {
     "name": "stderr",
     "output_type": "stream",
     "text": [
      "Translating OCR Files:  40%|████      | 196/490 [1:29:28<1:19:34, 16.24s/file]"
     ]
    },
    {
     "name": "stdout",
     "output_type": "stream",
     "text": [
      " Saved translated file: 5a6b122c-39c1-4581-8c1f-2d6f36a9f8a0_0.csv\n",
      "\n",
      "Processing file 197 of 490: 5a6b122c-39c1-4581-8c1f-2d6f36a9f8a0_1.csv\n"
     ]
    },
    {
     "name": "stderr",
     "output_type": "stream",
     "text": [
      "Translating OCR Files:  40%|████      | 197/490 [1:29:35<1:05:39, 13.45s/file]"
     ]
    },
    {
     "name": "stdout",
     "output_type": "stream",
     "text": [
      " Saved translated file: 5a6b122c-39c1-4581-8c1f-2d6f36a9f8a0_1.csv\n",
      "\n",
      "Processing file 198 of 490: 5a6b122c-39c1-4581-8c1f-2d6f36a9f8a0_10.csv\n"
     ]
    },
    {
     "name": "stderr",
     "output_type": "stream",
     "text": [
      "Translating OCR Files:  40%|████      | 198/490 [1:29:52<1:09:31, 14.29s/file]"
     ]
    },
    {
     "name": "stdout",
     "output_type": "stream",
     "text": [
      " Saved translated file: 5a6b122c-39c1-4581-8c1f-2d6f36a9f8a0_10.csv\n",
      "\n",
      "Processing file 199 of 490: 5a6b122c-39c1-4581-8c1f-2d6f36a9f8a0_11.csv\n"
     ]
    },
    {
     "name": "stderr",
     "output_type": "stream",
     "text": [
      "Translating OCR Files:  41%|████      | 199/490 [1:30:10<1:15:02, 15.47s/file]"
     ]
    },
    {
     "name": "stdout",
     "output_type": "stream",
     "text": [
      " Saved translated file: 5a6b122c-39c1-4581-8c1f-2d6f36a9f8a0_11.csv\n",
      "\n",
      "Processing file 200 of 490: 5a6b122c-39c1-4581-8c1f-2d6f36a9f8a0_12.csv\n"
     ]
    },
    {
     "name": "stderr",
     "output_type": "stream",
     "text": [
      "Translating OCR Files:  41%|████      | 200/490 [1:30:29<1:20:06, 16.57s/file]"
     ]
    },
    {
     "name": "stdout",
     "output_type": "stream",
     "text": [
      " Saved translated file: 5a6b122c-39c1-4581-8c1f-2d6f36a9f8a0_12.csv\n",
      "\n",
      "Processing file 201 of 490: 5a6b122c-39c1-4581-8c1f-2d6f36a9f8a0_13.csv\n"
     ]
    },
    {
     "name": "stderr",
     "output_type": "stream",
     "text": [
      "Translating OCR Files:  41%|████      | 201/490 [1:30:59<1:39:20, 20.62s/file]"
     ]
    },
    {
     "name": "stdout",
     "output_type": "stream",
     "text": [
      " Saved translated file: 5a6b122c-39c1-4581-8c1f-2d6f36a9f8a0_13.csv\n",
      "\n",
      "Processing file 202 of 490: 5a6b122c-39c1-4581-8c1f-2d6f36a9f8a0_14.csv\n"
     ]
    },
    {
     "name": "stderr",
     "output_type": "stream",
     "text": [
      "Translating OCR Files:  41%|████      | 202/490 [1:32:05<2:44:14, 34.22s/file]"
     ]
    },
    {
     "name": "stdout",
     "output_type": "stream",
     "text": [
      " Saved translated file: 5a6b122c-39c1-4581-8c1f-2d6f36a9f8a0_14.csv\n",
      "\n",
      "Processing file 203 of 490: 5a6b122c-39c1-4581-8c1f-2d6f36a9f8a0_15.csv\n"
     ]
    },
    {
     "name": "stderr",
     "output_type": "stream",
     "text": [
      "Translating OCR Files:  41%|████▏     | 203/490 [1:32:46<2:53:31, 36.28s/file]"
     ]
    },
    {
     "name": "stdout",
     "output_type": "stream",
     "text": [
      " Saved translated file: 5a6b122c-39c1-4581-8c1f-2d6f36a9f8a0_15.csv\n",
      "\n",
      "Processing file 204 of 490: 5a6b122c-39c1-4581-8c1f-2d6f36a9f8a0_16.csv\n"
     ]
    },
    {
     "name": "stderr",
     "output_type": "stream",
     "text": [
      "Translating OCR Files:  42%|████▏     | 204/490 [1:32:50<2:06:04, 26.45s/file]"
     ]
    },
    {
     "name": "stdout",
     "output_type": "stream",
     "text": [
      " Saved translated file: 5a6b122c-39c1-4581-8c1f-2d6f36a9f8a0_16.csv\n",
      "\n",
      "Processing file 205 of 490: 5a6b122c-39c1-4581-8c1f-2d6f36a9f8a0_17.csv\n"
     ]
    },
    {
     "name": "stderr",
     "output_type": "stream",
     "text": [
      "Translating OCR Files:  42%|████▏     | 205/490 [1:33:54<2:59:03, 37.70s/file]"
     ]
    },
    {
     "name": "stdout",
     "output_type": "stream",
     "text": [
      " Saved translated file: 5a6b122c-39c1-4581-8c1f-2d6f36a9f8a0_17.csv\n",
      "\n",
      "Processing file 206 of 490: 5a6b122c-39c1-4581-8c1f-2d6f36a9f8a0_18.csv\n"
     ]
    },
    {
     "name": "stderr",
     "output_type": "stream",
     "text": [
      "Translating OCR Files:  42%|████▏     | 206/490 [1:34:36<3:04:32, 38.99s/file]"
     ]
    },
    {
     "name": "stdout",
     "output_type": "stream",
     "text": [
      " Saved translated file: 5a6b122c-39c1-4581-8c1f-2d6f36a9f8a0_18.csv\n",
      "\n",
      "Processing file 207 of 490: 5a6b122c-39c1-4581-8c1f-2d6f36a9f8a0_19.csv\n"
     ]
    },
    {
     "name": "stderr",
     "output_type": "stream",
     "text": [
      "Translating OCR Files:  42%|████▏     | 207/490 [1:34:51<2:31:13, 32.06s/file]"
     ]
    },
    {
     "name": "stdout",
     "output_type": "stream",
     "text": [
      " Saved translated file: 5a6b122c-39c1-4581-8c1f-2d6f36a9f8a0_19.csv\n",
      "\n",
      "Processing file 208 of 490: 5a6b122c-39c1-4581-8c1f-2d6f36a9f8a0_2.csv\n"
     ]
    },
    {
     "name": "stderr",
     "output_type": "stream",
     "text": [
      "Translating OCR Files:  42%|████▏     | 208/490 [1:35:12<2:14:48, 28.68s/file]"
     ]
    },
    {
     "name": "stdout",
     "output_type": "stream",
     "text": [
      " Saved translated file: 5a6b122c-39c1-4581-8c1f-2d6f36a9f8a0_2.csv\n",
      "\n",
      "Processing file 209 of 490: 5a6b122c-39c1-4581-8c1f-2d6f36a9f8a0_20.csv\n"
     ]
    },
    {
     "name": "stderr",
     "output_type": "stream",
     "text": [
      "Translating OCR Files:  43%|████▎     | 209/490 [1:36:14<3:01:13, 38.70s/file]"
     ]
    },
    {
     "name": "stdout",
     "output_type": "stream",
     "text": [
      " Saved translated file: 5a6b122c-39c1-4581-8c1f-2d6f36a9f8a0_20.csv\n",
      "\n",
      "Processing file 210 of 490: 5a6b122c-39c1-4581-8c1f-2d6f36a9f8a0_21.csv\n"
     ]
    },
    {
     "name": "stderr",
     "output_type": "stream",
     "text": [
      "Translating OCR Files:  43%|████▎     | 210/490 [1:37:43<4:10:04, 53.59s/file]"
     ]
    },
    {
     "name": "stdout",
     "output_type": "stream",
     "text": [
      " Saved translated file: 5a6b122c-39c1-4581-8c1f-2d6f36a9f8a0_21.csv\n",
      "\n",
      "Processing file 211 of 490: 5a6b122c-39c1-4581-8c1f-2d6f36a9f8a0_22.csv\n"
     ]
    },
    {
     "name": "stderr",
     "output_type": "stream",
     "text": [
      "Translating OCR Files:  43%|████▎     | 211/490 [1:38:29<3:59:09, 51.43s/file]"
     ]
    },
    {
     "name": "stdout",
     "output_type": "stream",
     "text": [
      " Saved translated file: 5a6b122c-39c1-4581-8c1f-2d6f36a9f8a0_22.csv\n",
      "\n",
      "Processing file 212 of 490: 5a6b122c-39c1-4581-8c1f-2d6f36a9f8a0_23.csv\n"
     ]
    },
    {
     "name": "stderr",
     "output_type": "stream",
     "text": [
      "Translating OCR Files:  43%|████▎     | 212/490 [1:39:23<4:01:47, 52.19s/file]"
     ]
    },
    {
     "name": "stdout",
     "output_type": "stream",
     "text": [
      " Saved translated file: 5a6b122c-39c1-4581-8c1f-2d6f36a9f8a0_23.csv\n",
      "\n",
      "Processing file 213 of 490: 5a6b122c-39c1-4581-8c1f-2d6f36a9f8a0_24.csv\n"
     ]
    },
    {
     "name": "stderr",
     "output_type": "stream",
     "text": [
      "Translating OCR Files:  43%|████▎     | 213/490 [1:39:43<3:16:18, 42.52s/file]"
     ]
    },
    {
     "name": "stdout",
     "output_type": "stream",
     "text": [
      " Saved translated file: 5a6b122c-39c1-4581-8c1f-2d6f36a9f8a0_24.csv\n",
      "\n",
      "Processing file 214 of 490: 5a6b122c-39c1-4581-8c1f-2d6f36a9f8a0_25.csv\n"
     ]
    },
    {
     "name": "stderr",
     "output_type": "stream",
     "text": [
      "Translating OCR Files:  44%|████▎     | 214/490 [1:40:22<3:10:58, 41.52s/file]"
     ]
    },
    {
     "name": "stdout",
     "output_type": "stream",
     "text": [
      " Saved translated file: 5a6b122c-39c1-4581-8c1f-2d6f36a9f8a0_25.csv\n",
      "\n",
      "Processing file 215 of 490: 5a6b122c-39c1-4581-8c1f-2d6f36a9f8a0_26.csv\n"
     ]
    },
    {
     "name": "stderr",
     "output_type": "stream",
     "text": [
      "Translating OCR Files:  44%|████▍     | 215/490 [1:40:31<2:25:24, 31.73s/file]"
     ]
    },
    {
     "name": "stdout",
     "output_type": "stream",
     "text": [
      " Saved translated file: 5a6b122c-39c1-4581-8c1f-2d6f36a9f8a0_26.csv\n",
      "\n",
      "Processing file 216 of 490: 5a6b122c-39c1-4581-8c1f-2d6f36a9f8a0_27.csv\n"
     ]
    },
    {
     "name": "stderr",
     "output_type": "stream",
     "text": [
      "Translating OCR Files:  44%|████▍     | 216/490 [1:40:38<1:51:39, 24.45s/file]"
     ]
    },
    {
     "name": "stdout",
     "output_type": "stream",
     "text": [
      " Saved translated file: 5a6b122c-39c1-4581-8c1f-2d6f36a9f8a0_27.csv\n",
      "\n",
      "Processing file 217 of 490: 5a6b122c-39c1-4581-8c1f-2d6f36a9f8a0_28.csv\n"
     ]
    },
    {
     "name": "stderr",
     "output_type": "stream",
     "text": [
      "Translating OCR Files:  44%|████▍     | 217/490 [1:41:39<2:40:05, 35.19s/file]"
     ]
    },
    {
     "name": "stdout",
     "output_type": "stream",
     "text": [
      " Saved translated file: 5a6b122c-39c1-4581-8c1f-2d6f36a9f8a0_28.csv\n",
      "\n",
      "Processing file 218 of 490: 5a6b122c-39c1-4581-8c1f-2d6f36a9f8a0_29.csv\n"
     ]
    },
    {
     "name": "stderr",
     "output_type": "stream",
     "text": [
      "Translating OCR Files:  44%|████▍     | 218/490 [1:42:55<3:34:46, 47.38s/file]"
     ]
    },
    {
     "name": "stdout",
     "output_type": "stream",
     "text": [
      " Saved translated file: 5a6b122c-39c1-4581-8c1f-2d6f36a9f8a0_29.csv\n",
      "\n",
      "Processing file 219 of 490: 5a6b122c-39c1-4581-8c1f-2d6f36a9f8a0_3.csv\n"
     ]
    },
    {
     "name": "stderr",
     "output_type": "stream",
     "text": [
      "Translating OCR Files:  45%|████▍     | 219/490 [1:44:15<4:18:28, 57.23s/file]"
     ]
    },
    {
     "name": "stdout",
     "output_type": "stream",
     "text": [
      " Saved translated file: 5a6b122c-39c1-4581-8c1f-2d6f36a9f8a0_3.csv\n",
      "\n",
      "Processing file 220 of 490: 5a6b122c-39c1-4581-8c1f-2d6f36a9f8a0_30.csv\n"
     ]
    },
    {
     "name": "stderr",
     "output_type": "stream",
     "text": [
      "Translating OCR Files:  45%|████▍     | 220/490 [1:45:00<4:01:26, 53.65s/file]"
     ]
    },
    {
     "name": "stdout",
     "output_type": "stream",
     "text": [
      " Saved translated file: 5a6b122c-39c1-4581-8c1f-2d6f36a9f8a0_30.csv\n",
      "\n",
      "Processing file 221 of 490: 5a6b122c-39c1-4581-8c1f-2d6f36a9f8a0_31.csv\n"
     ]
    },
    {
     "name": "stderr",
     "output_type": "stream",
     "text": [
      "Translating OCR Files:  45%|████▌     | 221/490 [1:45:57<4:04:20, 54.50s/file]"
     ]
    },
    {
     "name": "stdout",
     "output_type": "stream",
     "text": [
      " Saved translated file: 5a6b122c-39c1-4581-8c1f-2d6f36a9f8a0_31.csv\n",
      "\n",
      "Processing file 222 of 490: 5a6b122c-39c1-4581-8c1f-2d6f36a9f8a0_32.csv\n"
     ]
    },
    {
     "name": "stderr",
     "output_type": "stream",
     "text": [
      "Translating OCR Files:  45%|████▌     | 222/490 [1:46:15<3:14:59, 43.66s/file]"
     ]
    },
    {
     "name": "stdout",
     "output_type": "stream",
     "text": [
      " Saved translated file: 5a6b122c-39c1-4581-8c1f-2d6f36a9f8a0_32.csv\n",
      "\n",
      "Processing file 223 of 490: 5a6b122c-39c1-4581-8c1f-2d6f36a9f8a0_33.csv\n"
     ]
    },
    {
     "name": "stderr",
     "output_type": "stream",
     "text": [
      "Translating OCR Files:  46%|████▌     | 223/490 [1:47:24<3:47:36, 51.15s/file]"
     ]
    },
    {
     "name": "stdout",
     "output_type": "stream",
     "text": [
      " Saved translated file: 5a6b122c-39c1-4581-8c1f-2d6f36a9f8a0_33.csv\n",
      "\n",
      "Processing file 224 of 490: 5a6b122c-39c1-4581-8c1f-2d6f36a9f8a0_34.csv\n"
     ]
    },
    {
     "name": "stderr",
     "output_type": "stream",
     "text": [
      "Translating OCR Files:  46%|████▌     | 224/490 [1:48:39<4:19:22, 58.50s/file]"
     ]
    },
    {
     "name": "stdout",
     "output_type": "stream",
     "text": [
      " Saved translated file: 5a6b122c-39c1-4581-8c1f-2d6f36a9f8a0_34.csv\n",
      "\n",
      "Processing file 225 of 490: 5a6b122c-39c1-4581-8c1f-2d6f36a9f8a0_35.csv\n"
     ]
    },
    {
     "name": "stderr",
     "output_type": "stream",
     "text": [
      "Translating OCR Files:  46%|████▌     | 225/490 [1:49:57<4:43:18, 64.15s/file]"
     ]
    },
    {
     "name": "stdout",
     "output_type": "stream",
     "text": [
      " Saved translated file: 5a6b122c-39c1-4581-8c1f-2d6f36a9f8a0_35.csv\n",
      "\n",
      "Processing file 226 of 490: 5a6b122c-39c1-4581-8c1f-2d6f36a9f8a0_36.csv\n"
     ]
    },
    {
     "name": "stderr",
     "output_type": "stream",
     "text": [
      "Translating OCR Files:  46%|████▌     | 226/490 [1:51:27<5:16:33, 71.94s/file]"
     ]
    },
    {
     "name": "stdout",
     "output_type": "stream",
     "text": [
      "Ollama error: HTTPConnectionPool(host='localhost', port=11434): Read timed out. (read timeout=90)\n",
      " Saved translated file: 5a6b122c-39c1-4581-8c1f-2d6f36a9f8a0_36.csv\n",
      "\n",
      "Processing file 227 of 490: 5a6b122c-39c1-4581-8c1f-2d6f36a9f8a0_37.csv\n"
     ]
    },
    {
     "name": "stderr",
     "output_type": "stream",
     "text": [
      "Translating OCR Files:  46%|████▋     | 227/490 [1:52:16<4:45:14, 65.08s/file]"
     ]
    },
    {
     "name": "stdout",
     "output_type": "stream",
     "text": [
      " Saved translated file: 5a6b122c-39c1-4581-8c1f-2d6f36a9f8a0_37.csv\n",
      "\n",
      "Processing file 228 of 490: 5a6b122c-39c1-4581-8c1f-2d6f36a9f8a0_38.csv\n"
     ]
    },
    {
     "name": "stderr",
     "output_type": "stream",
     "text": [
      "Translating OCR Files:  47%|████▋     | 228/490 [1:53:14<4:35:54, 63.18s/file]"
     ]
    },
    {
     "name": "stdout",
     "output_type": "stream",
     "text": [
      " Saved translated file: 5a6b122c-39c1-4581-8c1f-2d6f36a9f8a0_38.csv\n",
      "\n",
      "Processing file 229 of 490: 5a6b122c-39c1-4581-8c1f-2d6f36a9f8a0_39.csv\n"
     ]
    },
    {
     "name": "stderr",
     "output_type": "stream",
     "text": [
      "Translating OCR Files:  47%|████▋     | 229/490 [1:54:19<4:36:03, 63.46s/file]"
     ]
    },
    {
     "name": "stdout",
     "output_type": "stream",
     "text": [
      " Saved translated file: 5a6b122c-39c1-4581-8c1f-2d6f36a9f8a0_39.csv\n",
      "\n",
      "Processing file 230 of 490: 5a6b122c-39c1-4581-8c1f-2d6f36a9f8a0_4.csv\n"
     ]
    },
    {
     "name": "stderr",
     "output_type": "stream",
     "text": [
      "Translating OCR Files:  47%|████▋     | 230/490 [1:55:36<4:53:43, 67.78s/file]"
     ]
    },
    {
     "name": "stdout",
     "output_type": "stream",
     "text": [
      " Saved translated file: 5a6b122c-39c1-4581-8c1f-2d6f36a9f8a0_4.csv\n",
      "\n",
      "Processing file 231 of 490: 5a6b122c-39c1-4581-8c1f-2d6f36a9f8a0_40.csv\n"
     ]
    },
    {
     "name": "stderr",
     "output_type": "stream",
     "text": [
      "Translating OCR Files:  47%|████▋     | 231/490 [1:56:27<4:30:46, 62.73s/file]"
     ]
    },
    {
     "name": "stdout",
     "output_type": "stream",
     "text": [
      " Saved translated file: 5a6b122c-39c1-4581-8c1f-2d6f36a9f8a0_40.csv\n",
      "\n",
      "Processing file 232 of 490: 5a6b122c-39c1-4581-8c1f-2d6f36a9f8a0_41.csv\n"
     ]
    },
    {
     "name": "stderr",
     "output_type": "stream",
     "text": [
      "Translating OCR Files:  47%|████▋     | 232/490 [1:57:26<4:24:50, 61.59s/file]"
     ]
    },
    {
     "name": "stdout",
     "output_type": "stream",
     "text": [
      " Saved translated file: 5a6b122c-39c1-4581-8c1f-2d6f36a9f8a0_41.csv\n",
      "\n",
      "Processing file 233 of 490: 5a6b122c-39c1-4581-8c1f-2d6f36a9f8a0_42.csv\n"
     ]
    },
    {
     "name": "stderr",
     "output_type": "stream",
     "text": [
      "Translating OCR Files:  48%|████▊     | 233/490 [1:58:11<4:02:13, 56.55s/file]"
     ]
    },
    {
     "name": "stdout",
     "output_type": "stream",
     "text": [
      " Saved translated file: 5a6b122c-39c1-4581-8c1f-2d6f36a9f8a0_42.csv\n",
      "\n",
      "Processing file 234 of 490: 5a6b122c-39c1-4581-8c1f-2d6f36a9f8a0_43.csv\n"
     ]
    },
    {
     "name": "stderr",
     "output_type": "stream",
     "text": [
      "Translating OCR Files:  48%|████▊     | 234/490 [1:59:26<4:25:04, 62.13s/file]"
     ]
    },
    {
     "name": "stdout",
     "output_type": "stream",
     "text": [
      " Saved translated file: 5a6b122c-39c1-4581-8c1f-2d6f36a9f8a0_43.csv\n",
      "\n",
      "Processing file 235 of 490: 5a6b122c-39c1-4581-8c1f-2d6f36a9f8a0_5.csv\n"
     ]
    },
    {
     "name": "stderr",
     "output_type": "stream",
     "text": [
      "Translating OCR Files:  48%|████▊     | 235/490 [2:00:18<4:10:20, 58.90s/file]"
     ]
    },
    {
     "name": "stdout",
     "output_type": "stream",
     "text": [
      " Saved translated file: 5a6b122c-39c1-4581-8c1f-2d6f36a9f8a0_5.csv\n",
      "\n",
      "Processing file 236 of 490: 5a6b122c-39c1-4581-8c1f-2d6f36a9f8a0_6.csv\n"
     ]
    },
    {
     "name": "stderr",
     "output_type": "stream",
     "text": [
      "Translating OCR Files:  48%|████▊     | 236/490 [2:01:22<4:15:46, 60.42s/file]"
     ]
    },
    {
     "name": "stdout",
     "output_type": "stream",
     "text": [
      " Saved translated file: 5a6b122c-39c1-4581-8c1f-2d6f36a9f8a0_6.csv\n",
      "\n",
      "Processing file 237 of 490: 5a6b122c-39c1-4581-8c1f-2d6f36a9f8a0_7.csv\n"
     ]
    },
    {
     "name": "stderr",
     "output_type": "stream",
     "text": [
      "Translating OCR Files:  48%|████▊     | 237/490 [2:02:00<3:46:20, 53.68s/file]"
     ]
    },
    {
     "name": "stdout",
     "output_type": "stream",
     "text": [
      " Saved translated file: 5a6b122c-39c1-4581-8c1f-2d6f36a9f8a0_7.csv\n",
      "\n",
      "Processing file 238 of 490: 5a6b122c-39c1-4581-8c1f-2d6f36a9f8a0_8.csv\n"
     ]
    },
    {
     "name": "stderr",
     "output_type": "stream",
     "text": [
      "Translating OCR Files:  49%|████▊     | 238/490 [2:02:24<3:08:43, 44.94s/file]"
     ]
    },
    {
     "name": "stdout",
     "output_type": "stream",
     "text": [
      " Saved translated file: 5a6b122c-39c1-4581-8c1f-2d6f36a9f8a0_8.csv\n",
      "\n",
      "Processing file 239 of 490: 5a6b122c-39c1-4581-8c1f-2d6f36a9f8a0_9.csv\n"
     ]
    },
    {
     "name": "stderr",
     "output_type": "stream",
     "text": [
      "Translating OCR Files:  49%|████▉     | 239/490 [2:02:46<2:39:06, 38.03s/file]"
     ]
    },
    {
     "name": "stdout",
     "output_type": "stream",
     "text": [
      " Saved translated file: 5a6b122c-39c1-4581-8c1f-2d6f36a9f8a0_9.csv\n",
      "\n",
      "Processing file 240 of 490: 5a84cde3-7175-4044-8c88-d4c883a8fd38.csv\n"
     ]
    },
    {
     "name": "stderr",
     "output_type": "stream",
     "text": [
      "Translating OCR Files:  49%|████▉     | 240/490 [2:03:01<2:09:46, 31.15s/file]"
     ]
    },
    {
     "name": "stdout",
     "output_type": "stream",
     "text": [
      " Saved translated file: 5a84cde3-7175-4044-8c88-d4c883a8fd38.csv\n",
      "\n",
      "Processing file 241 of 490: 5ae9bdca-fdf9-4948-8c11-a9e400b331aa.csv\n"
     ]
    },
    {
     "name": "stderr",
     "output_type": "stream",
     "text": [
      "Translating OCR Files:  49%|████▉     | 241/490 [2:03:08<1:39:31, 23.98s/file]"
     ]
    },
    {
     "name": "stdout",
     "output_type": "stream",
     "text": [
      " Saved translated file: 5ae9bdca-fdf9-4948-8c11-a9e400b331aa.csv\n",
      "\n",
      "Processing file 242 of 490: 5d4e3e02-1dfc-469e-8af9-8dbe2b9f1564.csv\n"
     ]
    },
    {
     "name": "stderr",
     "output_type": "stream",
     "text": [
      "Translating OCR Files:  49%|████▉     | 242/490 [2:04:22<2:40:14, 38.77s/file]"
     ]
    },
    {
     "name": "stdout",
     "output_type": "stream",
     "text": [
      " Saved translated file: 5d4e3e02-1dfc-469e-8af9-8dbe2b9f1564.csv\n",
      "\n",
      "Processing file 243 of 490: 5e5bd90e-60c5-402f-b488-750456a81a13_0.csv\n"
     ]
    },
    {
     "name": "stderr",
     "output_type": "stream",
     "text": [
      "Translating OCR Files:  50%|████▉     | 243/490 [2:04:25<1:56:27, 28.29s/file]"
     ]
    },
    {
     "name": "stdout",
     "output_type": "stream",
     "text": [
      " Saved translated file: 5e5bd90e-60c5-402f-b488-750456a81a13_0.csv\n",
      "\n",
      "Processing file 244 of 490: 5e5bd90e-60c5-402f-b488-750456a81a13_1.csv\n"
     ]
    },
    {
     "name": "stderr",
     "output_type": "stream",
     "text": [
      "Translating OCR Files:  50%|████▉     | 244/490 [2:04:27<1:23:03, 20.26s/file]"
     ]
    },
    {
     "name": "stdout",
     "output_type": "stream",
     "text": [
      " Saved translated file: 5e5bd90e-60c5-402f-b488-750456a81a13_1.csv\n",
      "\n",
      "Processing file 245 of 490: 5e5bd90e-60c5-402f-b488-750456a81a13_10.csv\n"
     ]
    },
    {
     "name": "stderr",
     "output_type": "stream",
     "text": [
      "Translating OCR Files:  50%|█████     | 245/490 [2:05:01<1:39:03, 24.26s/file]"
     ]
    },
    {
     "name": "stdout",
     "output_type": "stream",
     "text": [
      " Saved translated file: 5e5bd90e-60c5-402f-b488-750456a81a13_10.csv\n",
      "\n",
      "Processing file 246 of 490: 5e5bd90e-60c5-402f-b488-750456a81a13_11.csv\n"
     ]
    },
    {
     "name": "stderr",
     "output_type": "stream",
     "text": [
      "Translating OCR Files:  50%|█████     | 246/490 [2:05:19<1:31:20, 22.46s/file]"
     ]
    },
    {
     "name": "stdout",
     "output_type": "stream",
     "text": [
      " Saved translated file: 5e5bd90e-60c5-402f-b488-750456a81a13_11.csv\n",
      "\n",
      "Processing file 247 of 490: 5e5bd90e-60c5-402f-b488-750456a81a13_12.csv\n"
     ]
    },
    {
     "name": "stderr",
     "output_type": "stream",
     "text": [
      "Translating OCR Files:  50%|█████     | 247/490 [2:05:35<1:22:48, 20.45s/file]"
     ]
    },
    {
     "name": "stdout",
     "output_type": "stream",
     "text": [
      " Saved translated file: 5e5bd90e-60c5-402f-b488-750456a81a13_12.csv\n",
      "\n",
      "Processing file 248 of 490: 5e5bd90e-60c5-402f-b488-750456a81a13_2.csv\n"
     ]
    },
    {
     "name": "stderr",
     "output_type": "stream",
     "text": [
      "Translating OCR Files:  51%|█████     | 248/490 [2:06:01<1:29:44, 22.25s/file]"
     ]
    },
    {
     "name": "stdout",
     "output_type": "stream",
     "text": [
      " Saved translated file: 5e5bd90e-60c5-402f-b488-750456a81a13_2.csv\n",
      "\n",
      "Processing file 249 of 490: 5e5bd90e-60c5-402f-b488-750456a81a13_3.csv\n"
     ]
    },
    {
     "name": "stderr",
     "output_type": "stream",
     "text": [
      "Translating OCR Files:  51%|█████     | 249/490 [2:07:09<2:24:07, 35.88s/file]"
     ]
    },
    {
     "name": "stdout",
     "output_type": "stream",
     "text": [
      " Saved translated file: 5e5bd90e-60c5-402f-b488-750456a81a13_3.csv\n",
      "\n",
      "Processing file 250 of 490: 5e5bd90e-60c5-402f-b488-750456a81a13_4.csv\n"
     ]
    },
    {
     "name": "stderr",
     "output_type": "stream",
     "text": [
      "Translating OCR Files:  51%|█████     | 250/490 [2:07:35<2:12:23, 33.10s/file]"
     ]
    },
    {
     "name": "stdout",
     "output_type": "stream",
     "text": [
      " Saved translated file: 5e5bd90e-60c5-402f-b488-750456a81a13_4.csv\n",
      "\n",
      "Processing file 251 of 490: 5e5bd90e-60c5-402f-b488-750456a81a13_5.csv\n"
     ]
    },
    {
     "name": "stderr",
     "output_type": "stream",
     "text": [
      "Translating OCR Files:  51%|█████     | 251/490 [2:07:58<1:59:01, 29.88s/file]"
     ]
    },
    {
     "name": "stdout",
     "output_type": "stream",
     "text": [
      " Saved translated file: 5e5bd90e-60c5-402f-b488-750456a81a13_5.csv\n",
      "\n",
      "Processing file 252 of 490: 5e5bd90e-60c5-402f-b488-750456a81a13_6.csv\n"
     ]
    },
    {
     "name": "stderr",
     "output_type": "stream",
     "text": [
      "Translating OCR Files:  51%|█████▏    | 252/490 [2:08:47<2:21:56, 35.78s/file]"
     ]
    },
    {
     "name": "stdout",
     "output_type": "stream",
     "text": [
      " Saved translated file: 5e5bd90e-60c5-402f-b488-750456a81a13_6.csv\n",
      "\n",
      "Processing file 253 of 490: 5e5bd90e-60c5-402f-b488-750456a81a13_7.csv\n"
     ]
    },
    {
     "name": "stderr",
     "output_type": "stream",
     "text": [
      "Translating OCR Files:  52%|█████▏    | 253/490 [2:09:13<2:09:31, 32.79s/file]"
     ]
    },
    {
     "name": "stdout",
     "output_type": "stream",
     "text": [
      " Saved translated file: 5e5bd90e-60c5-402f-b488-750456a81a13_7.csv\n",
      "\n",
      "Processing file 254 of 490: 5e5bd90e-60c5-402f-b488-750456a81a13_8.csv\n"
     ]
    },
    {
     "name": "stderr",
     "output_type": "stream",
     "text": [
      "Translating OCR Files:  52%|█████▏    | 254/490 [2:09:44<2:06:13, 32.09s/file]"
     ]
    },
    {
     "name": "stdout",
     "output_type": "stream",
     "text": [
      " Saved translated file: 5e5bd90e-60c5-402f-b488-750456a81a13_8.csv\n",
      "\n",
      "Processing file 255 of 490: 5e5bd90e-60c5-402f-b488-750456a81a13_9.csv\n"
     ]
    },
    {
     "name": "stderr",
     "output_type": "stream",
     "text": [
      "Translating OCR Files:  52%|█████▏    | 255/490 [2:10:27<2:19:00, 35.49s/file]"
     ]
    },
    {
     "name": "stdout",
     "output_type": "stream",
     "text": [
      " Saved translated file: 5e5bd90e-60c5-402f-b488-750456a81a13_9.csv\n",
      "\n",
      "Processing file 256 of 490: 5ef1d666-e19d-4570-b800-6693a4f680ee.csv\n"
     ]
    },
    {
     "name": "stderr",
     "output_type": "stream",
     "text": [
      "Translating OCR Files:  52%|█████▏    | 256/490 [2:11:00<2:16:02, 34.88s/file]"
     ]
    },
    {
     "name": "stdout",
     "output_type": "stream",
     "text": [
      " Saved translated file: 5ef1d666-e19d-4570-b800-6693a4f680ee.csv\n",
      "\n",
      "Processing file 257 of 490: 62583414-9e32-4d09-8989-b5fa32a98a81.csv\n"
     ]
    },
    {
     "name": "stderr",
     "output_type": "stream",
     "text": [
      "Translating OCR Files:  52%|█████▏    | 257/490 [2:11:06<1:41:06, 26.04s/file]"
     ]
    },
    {
     "name": "stdout",
     "output_type": "stream",
     "text": [
      " Saved translated file: 62583414-9e32-4d09-8989-b5fa32a98a81.csv\n",
      "\n",
      "Processing file 258 of 490: 62ff30cf-de5f-4388-82aa-b69b0fd0f07c.csv\n"
     ]
    },
    {
     "name": "stderr",
     "output_type": "stream",
     "text": [
      "Translating OCR Files:  53%|█████▎    | 258/490 [2:11:14<1:20:30, 20.82s/file]"
     ]
    },
    {
     "name": "stdout",
     "output_type": "stream",
     "text": [
      " Saved translated file: 62ff30cf-de5f-4388-82aa-b69b0fd0f07c.csv\n",
      "\n",
      "Processing file 259 of 490: 645dfc97-3268-4e1d-920d-4138545456fa.csv\n"
     ]
    },
    {
     "name": "stderr",
     "output_type": "stream",
     "text": [
      "Translating OCR Files:  53%|█████▎    | 259/490 [2:11:39<1:24:55, 22.06s/file]"
     ]
    },
    {
     "name": "stdout",
     "output_type": "stream",
     "text": [
      " Saved translated file: 645dfc97-3268-4e1d-920d-4138545456fa.csv\n",
      "\n",
      "Processing file 260 of 490: 64bba692-d430-440c-9f1e-2575f45770af_0.csv\n"
     ]
    },
    {
     "name": "stderr",
     "output_type": "stream",
     "text": [
      "Translating OCR Files:  53%|█████▎    | 260/490 [2:11:44<1:04:44, 16.89s/file]"
     ]
    },
    {
     "name": "stdout",
     "output_type": "stream",
     "text": [
      " Saved translated file: 64bba692-d430-440c-9f1e-2575f45770af_0.csv\n",
      "\n",
      "Processing file 261 of 490: 64bba692-d430-440c-9f1e-2575f45770af_1.csv\n"
     ]
    },
    {
     "name": "stderr",
     "output_type": "stream",
     "text": [
      "Translating OCR Files:  53%|█████▎    | 261/490 [2:12:02<1:05:38, 17.20s/file]"
     ]
    },
    {
     "name": "stdout",
     "output_type": "stream",
     "text": [
      " Saved translated file: 64bba692-d430-440c-9f1e-2575f45770af_1.csv\n",
      "\n",
      "Processing file 262 of 490: 64bba692-d430-440c-9f1e-2575f45770af_10.csv\n"
     ]
    },
    {
     "name": "stderr",
     "output_type": "stream",
     "text": [
      "Translating OCR Files:  53%|█████▎    | 262/490 [2:12:18<1:04:16, 16.92s/file]"
     ]
    },
    {
     "name": "stdout",
     "output_type": "stream",
     "text": [
      " Saved translated file: 64bba692-d430-440c-9f1e-2575f45770af_10.csv\n",
      "\n",
      "Processing file 263 of 490: 64bba692-d430-440c-9f1e-2575f45770af_11.csv\n"
     ]
    },
    {
     "name": "stderr",
     "output_type": "stream",
     "text": [
      "Translating OCR Files:  54%|█████▎    | 263/490 [2:12:48<1:18:11, 20.67s/file]"
     ]
    },
    {
     "name": "stdout",
     "output_type": "stream",
     "text": [
      " Saved translated file: 64bba692-d430-440c-9f1e-2575f45770af_11.csv\n",
      "\n",
      "Processing file 264 of 490: 64bba692-d430-440c-9f1e-2575f45770af_12.csv\n"
     ]
    },
    {
     "name": "stderr",
     "output_type": "stream",
     "text": [
      "Translating OCR Files:  54%|█████▍    | 264/490 [2:13:13<1:22:58, 22.03s/file]"
     ]
    },
    {
     "name": "stdout",
     "output_type": "stream",
     "text": [
      " Saved translated file: 64bba692-d430-440c-9f1e-2575f45770af_12.csv\n",
      "\n",
      "Processing file 265 of 490: 64bba692-d430-440c-9f1e-2575f45770af_2.csv\n"
     ]
    },
    {
     "name": "stderr",
     "output_type": "stream",
     "text": [
      "Translating OCR Files:  54%|█████▍    | 265/490 [2:13:59<1:49:22, 29.17s/file]"
     ]
    },
    {
     "name": "stdout",
     "output_type": "stream",
     "text": [
      " Saved translated file: 64bba692-d430-440c-9f1e-2575f45770af_2.csv\n",
      "\n",
      "Processing file 266 of 490: 64bba692-d430-440c-9f1e-2575f45770af_3.csv\n"
     ]
    },
    {
     "name": "stderr",
     "output_type": "stream",
     "text": [
      "Translating OCR Files:  54%|█████▍    | 266/490 [2:14:21<1:41:01, 27.06s/file]"
     ]
    },
    {
     "name": "stdout",
     "output_type": "stream",
     "text": [
      " Saved translated file: 64bba692-d430-440c-9f1e-2575f45770af_3.csv\n",
      "\n",
      "Processing file 267 of 490: 64bba692-d430-440c-9f1e-2575f45770af_4.csv\n"
     ]
    },
    {
     "name": "stderr",
     "output_type": "stream",
     "text": [
      "Translating OCR Files:  54%|█████▍    | 267/490 [2:14:35<1:25:39, 23.05s/file]"
     ]
    },
    {
     "name": "stdout",
     "output_type": "stream",
     "text": [
      " Saved translated file: 64bba692-d430-440c-9f1e-2575f45770af_4.csv\n",
      "\n",
      "Processing file 268 of 490: 64bba692-d430-440c-9f1e-2575f45770af_5.csv\n"
     ]
    },
    {
     "name": "stderr",
     "output_type": "stream",
     "text": [
      "Translating OCR Files:  55%|█████▍    | 268/490 [2:14:44<1:10:21, 19.02s/file]"
     ]
    },
    {
     "name": "stdout",
     "output_type": "stream",
     "text": [
      " Saved translated file: 64bba692-d430-440c-9f1e-2575f45770af_5.csv\n",
      "\n",
      "Processing file 269 of 490: 64bba692-d430-440c-9f1e-2575f45770af_6.csv\n"
     ]
    },
    {
     "name": "stderr",
     "output_type": "stream",
     "text": [
      "Translating OCR Files:  55%|█████▍    | 269/490 [2:15:11<1:18:19, 21.26s/file]"
     ]
    },
    {
     "name": "stdout",
     "output_type": "stream",
     "text": [
      " Saved translated file: 64bba692-d430-440c-9f1e-2575f45770af_6.csv\n",
      "\n",
      "Processing file 270 of 490: 64bba692-d430-440c-9f1e-2575f45770af_7.csv\n"
     ]
    },
    {
     "name": "stderr",
     "output_type": "stream",
     "text": [
      "Translating OCR Files:  55%|█████▌    | 270/490 [2:15:36<1:21:53, 22.33s/file]"
     ]
    },
    {
     "name": "stdout",
     "output_type": "stream",
     "text": [
      " Saved translated file: 64bba692-d430-440c-9f1e-2575f45770af_7.csv\n",
      "\n",
      "Processing file 271 of 490: 64bba692-d430-440c-9f1e-2575f45770af_8.csv\n"
     ]
    },
    {
     "name": "stderr",
     "output_type": "stream",
     "text": [
      "Translating OCR Files:  55%|█████▌    | 271/490 [2:15:54<1:17:27, 21.22s/file]"
     ]
    },
    {
     "name": "stdout",
     "output_type": "stream",
     "text": [
      " Saved translated file: 64bba692-d430-440c-9f1e-2575f45770af_8.csv\n",
      "\n",
      "Processing file 272 of 490: 64bba692-d430-440c-9f1e-2575f45770af_9.csv\n"
     ]
    },
    {
     "name": "stderr",
     "output_type": "stream",
     "text": [
      "Translating OCR Files:  56%|█████▌    | 272/490 [2:16:08<1:09:02, 19.00s/file]"
     ]
    },
    {
     "name": "stdout",
     "output_type": "stream",
     "text": [
      " Saved translated file: 64bba692-d430-440c-9f1e-2575f45770af_9.csv\n",
      "\n",
      "Processing file 273 of 490: 6848748d-2881-4c26-b153-fcd5373d2f1c.csv\n"
     ]
    },
    {
     "name": "stderr",
     "output_type": "stream",
     "text": [
      "Translating OCR Files:  56%|█████▌    | 273/490 [2:16:37<1:20:00, 22.12s/file]"
     ]
    },
    {
     "name": "stdout",
     "output_type": "stream",
     "text": [
      " Saved translated file: 6848748d-2881-4c26-b153-fcd5373d2f1c.csv\n",
      "\n",
      "Processing file 274 of 490: 6bcc0131-e4ad-421e-bb1f-d8ebe5eeec7b.csv\n"
     ]
    },
    {
     "name": "stderr",
     "output_type": "stream",
     "text": [
      "Translating OCR Files:  56%|█████▌    | 274/490 [2:16:40<58:09, 16.15s/file]  "
     ]
    },
    {
     "name": "stdout",
     "output_type": "stream",
     "text": [
      " Saved translated file: 6bcc0131-e4ad-421e-bb1f-d8ebe5eeec7b.csv\n",
      "\n",
      "Processing file 275 of 490: 6cbb3eeb-17e9-4af6-8da1-36eb6437f7bc.csv\n"
     ]
    },
    {
     "name": "stderr",
     "output_type": "stream",
     "text": [
      "Translating OCR Files:  56%|█████▌    | 275/490 [2:16:59<1:01:02, 17.03s/file]"
     ]
    },
    {
     "name": "stdout",
     "output_type": "stream",
     "text": [
      " Saved translated file: 6cbb3eeb-17e9-4af6-8da1-36eb6437f7bc.csv\n",
      "\n",
      "Processing file 276 of 490: 6d7fc7b3-c892-4cb5-bd4b-a5713c089d88_0.csv\n"
     ]
    },
    {
     "name": "stderr",
     "output_type": "stream",
     "text": [
      "Translating OCR Files:  56%|█████▋    | 276/490 [2:17:54<1:41:59, 28.60s/file]"
     ]
    },
    {
     "name": "stdout",
     "output_type": "stream",
     "text": [
      " Saved translated file: 6d7fc7b3-c892-4cb5-bd4b-a5713c089d88_0.csv\n",
      "\n",
      "Processing file 277 of 490: 6e9aced1-df28-4e57-b7c8-641609ff4450.csv\n"
     ]
    },
    {
     "name": "stderr",
     "output_type": "stream",
     "text": [
      "Translating OCR Files:  57%|█████▋    | 277/490 [2:18:29<1:48:18, 30.51s/file]"
     ]
    },
    {
     "name": "stdout",
     "output_type": "stream",
     "text": [
      " Saved translated file: 6e9aced1-df28-4e57-b7c8-641609ff4450.csv\n",
      "\n",
      "Processing file 278 of 490: 70c63791-2797-4bf0-a778-ea08819aa9de.csv\n"
     ]
    },
    {
     "name": "stderr",
     "output_type": "stream",
     "text": [
      "Translating OCR Files:  57%|█████▋    | 278/490 [2:18:50<1:36:53, 27.42s/file]"
     ]
    },
    {
     "name": "stdout",
     "output_type": "stream",
     "text": [
      " Saved translated file: 70c63791-2797-4bf0-a778-ea08819aa9de.csv\n",
      "\n",
      "Processing file 279 of 490: 7150f512-e7a2-4f2c-86bc-58b671b25ba9.csv\n"
     ]
    },
    {
     "name": "stderr",
     "output_type": "stream",
     "text": [
      "Translating OCR Files:  57%|█████▋    | 279/490 [2:18:56<1:14:06, 21.07s/file]"
     ]
    },
    {
     "name": "stdout",
     "output_type": "stream",
     "text": [
      " Saved translated file: 7150f512-e7a2-4f2c-86bc-58b671b25ba9.csv\n",
      "\n",
      "Processing file 280 of 490: 785cc8c9-1225-4f93-b633-349bc5113512.csv\n"
     ]
    },
    {
     "name": "stderr",
     "output_type": "stream",
     "text": [
      "Translating OCR Files:  57%|█████▋    | 280/490 [2:19:03<59:09, 16.90s/file]  "
     ]
    },
    {
     "name": "stdout",
     "output_type": "stream",
     "text": [
      " Saved translated file: 785cc8c9-1225-4f93-b633-349bc5113512.csv\n",
      "\n",
      "Processing file 281 of 490: 79d9b7f2-cfe4-4615-9b75-8fea33fc0c9d.csv\n"
     ]
    },
    {
     "name": "stderr",
     "output_type": "stream",
     "text": [
      "Translating OCR Files:  57%|█████▋    | 281/490 [2:19:08<46:08, 13.25s/file]"
     ]
    },
    {
     "name": "stdout",
     "output_type": "stream",
     "text": [
      " Saved translated file: 79d9b7f2-cfe4-4615-9b75-8fea33fc0c9d.csv\n",
      "\n",
      "Processing file 282 of 490: 912204cb-8ab7-48b8-9abf-d803f3804d08_0.csv\n"
     ]
    },
    {
     "name": "stderr",
     "output_type": "stream",
     "text": [
      "Translating OCR Files:  58%|█████▊    | 282/490 [2:19:12<37:00, 10.67s/file]"
     ]
    },
    {
     "name": "stdout",
     "output_type": "stream",
     "text": [
      " Saved translated file: 912204cb-8ab7-48b8-9abf-d803f3804d08_0.csv\n",
      "\n",
      "Processing file 283 of 490: 912204cb-8ab7-48b8-9abf-d803f3804d08_1.csv\n"
     ]
    },
    {
     "name": "stderr",
     "output_type": "stream",
     "text": [
      "Translating OCR Files:  58%|█████▊    | 283/490 [2:19:17<31:02,  9.00s/file]"
     ]
    },
    {
     "name": "stdout",
     "output_type": "stream",
     "text": [
      " Saved translated file: 912204cb-8ab7-48b8-9abf-d803f3804d08_1.csv\n",
      "\n",
      "Processing file 284 of 490: 912204cb-8ab7-48b8-9abf-d803f3804d08_10.csv\n"
     ]
    },
    {
     "name": "stderr",
     "output_type": "stream",
     "text": [
      "Translating OCR Files:  58%|█████▊    | 284/490 [2:19:48<52:37, 15.33s/file]"
     ]
    },
    {
     "name": "stdout",
     "output_type": "stream",
     "text": [
      " Saved translated file: 912204cb-8ab7-48b8-9abf-d803f3804d08_10.csv\n",
      "\n",
      "Processing file 285 of 490: 912204cb-8ab7-48b8-9abf-d803f3804d08_11.csv\n"
     ]
    },
    {
     "name": "stderr",
     "output_type": "stream",
     "text": [
      "Translating OCR Files:  58%|█████▊    | 285/490 [2:20:32<1:22:27, 24.14s/file]"
     ]
    },
    {
     "name": "stdout",
     "output_type": "stream",
     "text": [
      " Saved translated file: 912204cb-8ab7-48b8-9abf-d803f3804d08_11.csv\n",
      "\n",
      "Processing file 286 of 490: 912204cb-8ab7-48b8-9abf-d803f3804d08_12.csv\n"
     ]
    },
    {
     "name": "stderr",
     "output_type": "stream",
     "text": [
      "Translating OCR Files:  58%|█████▊    | 286/490 [2:21:46<2:13:08, 39.16s/file]"
     ]
    },
    {
     "name": "stdout",
     "output_type": "stream",
     "text": [
      " Saved translated file: 912204cb-8ab7-48b8-9abf-d803f3804d08_12.csv\n",
      "\n",
      "Processing file 287 of 490: 912204cb-8ab7-48b8-9abf-d803f3804d08_2.csv\n"
     ]
    },
    {
     "name": "stderr",
     "output_type": "stream",
     "text": [
      "Translating OCR Files:  59%|█████▊    | 287/490 [2:23:12<2:59:20, 53.01s/file]"
     ]
    },
    {
     "name": "stdout",
     "output_type": "stream",
     "text": [
      " Saved translated file: 912204cb-8ab7-48b8-9abf-d803f3804d08_2.csv\n",
      "\n",
      "Processing file 288 of 490: 912204cb-8ab7-48b8-9abf-d803f3804d08_3.csv\n"
     ]
    },
    {
     "name": "stderr",
     "output_type": "stream",
     "text": [
      "Translating OCR Files:  59%|█████▉    | 288/490 [2:24:12<3:05:28, 55.09s/file]"
     ]
    },
    {
     "name": "stdout",
     "output_type": "stream",
     "text": [
      " Saved translated file: 912204cb-8ab7-48b8-9abf-d803f3804d08_3.csv\n",
      "\n",
      "Processing file 289 of 490: 912204cb-8ab7-48b8-9abf-d803f3804d08_4.csv\n"
     ]
    },
    {
     "name": "stderr",
     "output_type": "stream",
     "text": [
      "Translating OCR Files:  59%|█████▉    | 289/490 [2:24:29<2:26:28, 43.72s/file]"
     ]
    },
    {
     "name": "stdout",
     "output_type": "stream",
     "text": [
      " Saved translated file: 912204cb-8ab7-48b8-9abf-d803f3804d08_4.csv\n",
      "\n",
      "Processing file 290 of 490: 912204cb-8ab7-48b8-9abf-d803f3804d08_5.csv\n"
     ]
    },
    {
     "name": "stderr",
     "output_type": "stream",
     "text": [
      "Translating OCR Files:  59%|█████▉    | 290/490 [2:24:56<2:08:46, 38.63s/file]"
     ]
    },
    {
     "name": "stdout",
     "output_type": "stream",
     "text": [
      " Saved translated file: 912204cb-8ab7-48b8-9abf-d803f3804d08_5.csv\n",
      "\n",
      "Processing file 291 of 490: 912204cb-8ab7-48b8-9abf-d803f3804d08_6.csv\n"
     ]
    },
    {
     "name": "stderr",
     "output_type": "stream",
     "text": [
      "Translating OCR Files:  59%|█████▉    | 291/490 [2:25:37<2:10:51, 39.46s/file]"
     ]
    },
    {
     "name": "stdout",
     "output_type": "stream",
     "text": [
      " Saved translated file: 912204cb-8ab7-48b8-9abf-d803f3804d08_6.csv\n",
      "\n",
      "Processing file 292 of 490: 912204cb-8ab7-48b8-9abf-d803f3804d08_7.csv\n"
     ]
    },
    {
     "name": "stderr",
     "output_type": "stream",
     "text": [
      "Translating OCR Files:  60%|█████▉    | 292/490 [2:25:47<1:41:22, 30.72s/file]"
     ]
    },
    {
     "name": "stdout",
     "output_type": "stream",
     "text": [
      " Saved translated file: 912204cb-8ab7-48b8-9abf-d803f3804d08_7.csv\n",
      "\n",
      "Processing file 293 of 490: 912204cb-8ab7-48b8-9abf-d803f3804d08_8.csv\n"
     ]
    },
    {
     "name": "stderr",
     "output_type": "stream",
     "text": [
      "Translating OCR Files:  60%|█████▉    | 293/490 [2:25:58<1:20:56, 24.65s/file]"
     ]
    },
    {
     "name": "stdout",
     "output_type": "stream",
     "text": [
      " Saved translated file: 912204cb-8ab7-48b8-9abf-d803f3804d08_8.csv\n",
      "\n",
      "Processing file 294 of 490: 912204cb-8ab7-48b8-9abf-d803f3804d08_9.csv\n"
     ]
    },
    {
     "name": "stderr",
     "output_type": "stream",
     "text": [
      "Translating OCR Files:  60%|██████    | 294/490 [2:26:12<1:10:35, 21.61s/file]"
     ]
    },
    {
     "name": "stdout",
     "output_type": "stream",
     "text": [
      " Saved translated file: 912204cb-8ab7-48b8-9abf-d803f3804d08_9.csv\n",
      "\n",
      "Processing file 295 of 490: 94b16e53-f035-4aa9-a76e-80bc6e936d10.csv\n"
     ]
    },
    {
     "name": "stderr",
     "output_type": "stream",
     "text": [
      "Translating OCR Files:  60%|██████    | 295/490 [2:26:16<53:07, 16.34s/file]  "
     ]
    },
    {
     "name": "stdout",
     "output_type": "stream",
     "text": [
      " Saved translated file: 94b16e53-f035-4aa9-a76e-80bc6e936d10.csv\n",
      "\n",
      "Processing file 296 of 490: 96af60b3-299c-4e26-bca3-d9eb3e113b94.csv\n"
     ]
    },
    {
     "name": "stderr",
     "output_type": "stream",
     "text": [
      "Translating OCR Files:  60%|██████    | 296/490 [2:26:42<1:01:19, 18.97s/file]"
     ]
    },
    {
     "name": "stdout",
     "output_type": "stream",
     "text": [
      " Saved translated file: 96af60b3-299c-4e26-bca3-d9eb3e113b94.csv\n",
      "\n",
      "Processing file 297 of 490: 987ba39a-cc1c-4367-8d6d-f5a49a940198.csv\n"
     ]
    },
    {
     "name": "stderr",
     "output_type": "stream",
     "text": [
      "Translating OCR Files:  61%|██████    | 297/490 [2:26:47<48:22, 15.04s/file]  "
     ]
    },
    {
     "name": "stdout",
     "output_type": "stream",
     "text": [
      " Saved translated file: 987ba39a-cc1c-4367-8d6d-f5a49a940198.csv\n",
      "\n",
      "Processing file 298 of 490: 9a8077f5-ac41-491f-b192-6b4609324bda.csv\n"
     ]
    },
    {
     "name": "stderr",
     "output_type": "stream",
     "text": [
      "Translating OCR Files:  61%|██████    | 298/490 [2:26:50<35:59, 11.25s/file]"
     ]
    },
    {
     "name": "stdout",
     "output_type": "stream",
     "text": [
      " Saved translated file: 9a8077f5-ac41-491f-b192-6b4609324bda.csv\n",
      "\n",
      "Processing file 299 of 490: 9c8c9989-2293-4e68-9ffe-6f7a5f14562f.csv\n"
     ]
    },
    {
     "name": "stderr",
     "output_type": "stream",
     "text": [
      "Translating OCR Files:  61%|██████    | 299/490 [2:26:53<28:19,  8.90s/file]"
     ]
    },
    {
     "name": "stdout",
     "output_type": "stream",
     "text": [
      " Saved translated file: 9c8c9989-2293-4e68-9ffe-6f7a5f14562f.csv\n",
      "\n",
      "Processing file 300 of 490: 9d7bc879-3250-4013-ac04-5ff9bd6dff40_0.csv\n"
     ]
    },
    {
     "name": "stderr",
     "output_type": "stream",
     "text": [
      "Translating OCR Files:  61%|██████    | 300/490 [2:27:48<1:11:49, 22.68s/file]"
     ]
    },
    {
     "name": "stdout",
     "output_type": "stream",
     "text": [
      " Saved translated file: 9d7bc879-3250-4013-ac04-5ff9bd6dff40_0.csv\n",
      "\n",
      "Processing file 301 of 490: 9d7bc879-3250-4013-ac04-5ff9bd6dff40_1.csv\n"
     ]
    },
    {
     "name": "stderr",
     "output_type": "stream",
     "text": [
      "Translating OCR Files:  61%|██████▏   | 301/490 [2:28:02<1:03:23, 20.13s/file]"
     ]
    },
    {
     "name": "stdout",
     "output_type": "stream",
     "text": [
      " Saved translated file: 9d7bc879-3250-4013-ac04-5ff9bd6dff40_1.csv\n",
      "\n",
      "Processing file 302 of 490: 9fd06037-11f1-4ad5-9a7d-cbfb3fa4193b_0.csv\n"
     ]
    },
    {
     "name": "stderr",
     "output_type": "stream",
     "text": [
      "Translating OCR Files:  62%|██████▏   | 302/490 [2:28:22<1:02:58, 20.10s/file]"
     ]
    },
    {
     "name": "stdout",
     "output_type": "stream",
     "text": [
      " Saved translated file: 9fd06037-11f1-4ad5-9a7d-cbfb3fa4193b_0.csv\n",
      "\n",
      "Processing file 303 of 490: 9fd06037-11f1-4ad5-9a7d-cbfb3fa4193b_1.csv\n"
     ]
    },
    {
     "name": "stderr",
     "output_type": "stream",
     "text": [
      "Translating OCR Files:  62%|██████▏   | 303/490 [2:29:19<1:36:42, 31.03s/file]"
     ]
    },
    {
     "name": "stdout",
     "output_type": "stream",
     "text": [
      " Saved translated file: 9fd06037-11f1-4ad5-9a7d-cbfb3fa4193b_1.csv\n",
      "\n",
      "Processing file 304 of 490: 9fd06037-11f1-4ad5-9a7d-cbfb3fa4193b_2.csv\n"
     ]
    },
    {
     "name": "stderr",
     "output_type": "stream",
     "text": [
      "Translating OCR Files:  62%|██████▏   | 304/490 [2:29:28<1:15:45, 24.44s/file]"
     ]
    },
    {
     "name": "stdout",
     "output_type": "stream",
     "text": [
      " Saved translated file: 9fd06037-11f1-4ad5-9a7d-cbfb3fa4193b_2.csv\n",
      "\n",
      "Processing file 305 of 490: 9fe6b262-9944-417d-a0c4-9f2de1de2994_0.csv\n"
     ]
    },
    {
     "name": "stderr",
     "output_type": "stream",
     "text": [
      "Translating OCR Files:  62%|██████▏   | 305/490 [2:29:32<57:01, 18.49s/file]  "
     ]
    },
    {
     "name": "stdout",
     "output_type": "stream",
     "text": [
      " Saved translated file: 9fe6b262-9944-417d-a0c4-9f2de1de2994_0.csv\n",
      "\n",
      "Processing file 306 of 490: 9fe6b262-9944-417d-a0c4-9f2de1de2994_1.csv\n"
     ]
    },
    {
     "name": "stderr",
     "output_type": "stream",
     "text": [
      "Translating OCR Files:  62%|██████▏   | 306/490 [2:29:45<50:47, 16.56s/file]"
     ]
    },
    {
     "name": "stdout",
     "output_type": "stream",
     "text": [
      " Saved translated file: 9fe6b262-9944-417d-a0c4-9f2de1de2994_1.csv\n",
      "\n",
      "Processing file 307 of 490: 9fe6b262-9944-417d-a0c4-9f2de1de2994_10.csv\n"
     ]
    },
    {
     "name": "stderr",
     "output_type": "stream",
     "text": [
      "Translating OCR Files:  63%|██████▎   | 307/490 [2:29:59<48:24, 15.87s/file]"
     ]
    },
    {
     "name": "stdout",
     "output_type": "stream",
     "text": [
      " Saved translated file: 9fe6b262-9944-417d-a0c4-9f2de1de2994_10.csv\n",
      "\n",
      "Processing file 308 of 490: 9fe6b262-9944-417d-a0c4-9f2de1de2994_11.csv\n"
     ]
    },
    {
     "name": "stderr",
     "output_type": "stream",
     "text": [
      "Translating OCR Files:  63%|██████▎   | 308/490 [2:30:23<55:49, 18.40s/file]"
     ]
    },
    {
     "name": "stdout",
     "output_type": "stream",
     "text": [
      " Saved translated file: 9fe6b262-9944-417d-a0c4-9f2de1de2994_11.csv\n",
      "\n",
      "Processing file 309 of 490: 9fe6b262-9944-417d-a0c4-9f2de1de2994_12.csv\n"
     ]
    },
    {
     "name": "stderr",
     "output_type": "stream",
     "text": [
      "Translating OCR Files:  63%|██████▎   | 309/490 [2:30:39<53:19, 17.68s/file]"
     ]
    },
    {
     "name": "stdout",
     "output_type": "stream",
     "text": [
      " Saved translated file: 9fe6b262-9944-417d-a0c4-9f2de1de2994_12.csv\n",
      "\n",
      "Processing file 310 of 490: 9fe6b262-9944-417d-a0c4-9f2de1de2994_13.csv\n"
     ]
    },
    {
     "name": "stderr",
     "output_type": "stream",
     "text": [
      "Translating OCR Files:  63%|██████▎   | 310/490 [2:30:57<52:55, 17.64s/file]"
     ]
    },
    {
     "name": "stdout",
     "output_type": "stream",
     "text": [
      " Saved translated file: 9fe6b262-9944-417d-a0c4-9f2de1de2994_13.csv\n",
      "\n",
      "Processing file 311 of 490: 9fe6b262-9944-417d-a0c4-9f2de1de2994_14.csv\n"
     ]
    },
    {
     "name": "stderr",
     "output_type": "stream",
     "text": [
      "Translating OCR Files:  63%|██████▎   | 311/490 [2:31:25<1:02:01, 20.79s/file]"
     ]
    },
    {
     "name": "stdout",
     "output_type": "stream",
     "text": [
      " Saved translated file: 9fe6b262-9944-417d-a0c4-9f2de1de2994_14.csv\n",
      "\n",
      "Processing file 312 of 490: 9fe6b262-9944-417d-a0c4-9f2de1de2994_15.csv\n"
     ]
    },
    {
     "name": "stderr",
     "output_type": "stream",
     "text": [
      "Translating OCR Files:  64%|██████▎   | 312/490 [2:31:49<1:04:49, 21.85s/file]"
     ]
    },
    {
     "name": "stdout",
     "output_type": "stream",
     "text": [
      " Saved translated file: 9fe6b262-9944-417d-a0c4-9f2de1de2994_15.csv\n",
      "\n",
      "Processing file 313 of 490: 9fe6b262-9944-417d-a0c4-9f2de1de2994_16.csv\n"
     ]
    },
    {
     "name": "stderr",
     "output_type": "stream",
     "text": [
      "Translating OCR Files:  64%|██████▍   | 313/490 [2:32:37<1:27:42, 29.73s/file]"
     ]
    },
    {
     "name": "stdout",
     "output_type": "stream",
     "text": [
      " Saved translated file: 9fe6b262-9944-417d-a0c4-9f2de1de2994_16.csv\n",
      "\n",
      "Processing file 314 of 490: 9fe6b262-9944-417d-a0c4-9f2de1de2994_17.csv\n"
     ]
    },
    {
     "name": "stderr",
     "output_type": "stream",
     "text": [
      "Translating OCR Files:  64%|██████▍   | 314/490 [2:34:07<2:20:22, 47.85s/file]"
     ]
    },
    {
     "name": "stdout",
     "output_type": "stream",
     "text": [
      "Ollama error: HTTPConnectionPool(host='localhost', port=11434): Read timed out. (read timeout=90)\n",
      " Saved translated file: 9fe6b262-9944-417d-a0c4-9f2de1de2994_17.csv\n",
      "\n",
      "Processing file 315 of 490: 9fe6b262-9944-417d-a0c4-9f2de1de2994_18.csv\n"
     ]
    },
    {
     "name": "stderr",
     "output_type": "stream",
     "text": [
      "Translating OCR Files:  64%|██████▍   | 315/490 [2:34:30<1:57:04, 40.14s/file]"
     ]
    },
    {
     "name": "stdout",
     "output_type": "stream",
     "text": [
      " Saved translated file: 9fe6b262-9944-417d-a0c4-9f2de1de2994_18.csv\n",
      "\n",
      "Processing file 316 of 490: 9fe6b262-9944-417d-a0c4-9f2de1de2994_2.csv\n"
     ]
    },
    {
     "name": "stderr",
     "output_type": "stream",
     "text": [
      "Translating OCR Files:  64%|██████▍   | 316/490 [2:34:45<1:34:41, 32.65s/file]"
     ]
    },
    {
     "name": "stdout",
     "output_type": "stream",
     "text": [
      " Saved translated file: 9fe6b262-9944-417d-a0c4-9f2de1de2994_2.csv\n",
      "\n",
      "Processing file 317 of 490: 9fe6b262-9944-417d-a0c4-9f2de1de2994_3.csv\n"
     ]
    },
    {
     "name": "stderr",
     "output_type": "stream",
     "text": [
      "Translating OCR Files:  65%|██████▍   | 317/490 [2:36:04<2:14:29, 46.64s/file]"
     ]
    },
    {
     "name": "stdout",
     "output_type": "stream",
     "text": [
      " Saved translated file: 9fe6b262-9944-417d-a0c4-9f2de1de2994_3.csv\n",
      "\n",
      "Processing file 318 of 490: 9fe6b262-9944-417d-a0c4-9f2de1de2994_4.csv\n"
     ]
    },
    {
     "name": "stderr",
     "output_type": "stream",
     "text": [
      "Translating OCR Files:  65%|██████▍   | 318/490 [2:36:22<1:49:21, 38.15s/file]"
     ]
    },
    {
     "name": "stdout",
     "output_type": "stream",
     "text": [
      " Saved translated file: 9fe6b262-9944-417d-a0c4-9f2de1de2994_4.csv\n",
      "\n",
      "Processing file 319 of 490: 9fe6b262-9944-417d-a0c4-9f2de1de2994_5.csv\n"
     ]
    },
    {
     "name": "stderr",
     "output_type": "stream",
     "text": [
      "Translating OCR Files:  65%|██████▌   | 319/490 [2:37:14<2:00:07, 42.15s/file]"
     ]
    },
    {
     "name": "stdout",
     "output_type": "stream",
     "text": [
      " Saved translated file: 9fe6b262-9944-417d-a0c4-9f2de1de2994_5.csv\n",
      "\n",
      "Processing file 320 of 490: 9fe6b262-9944-417d-a0c4-9f2de1de2994_6.csv\n"
     ]
    },
    {
     "name": "stderr",
     "output_type": "stream",
     "text": [
      "Translating OCR Files:  65%|██████▌   | 320/490 [2:37:36<1:42:41, 36.24s/file]"
     ]
    },
    {
     "name": "stdout",
     "output_type": "stream",
     "text": [
      " Saved translated file: 9fe6b262-9944-417d-a0c4-9f2de1de2994_6.csv\n",
      "\n",
      "Processing file 321 of 490: 9fe6b262-9944-417d-a0c4-9f2de1de2994_7.csv\n"
     ]
    },
    {
     "name": "stderr",
     "output_type": "stream",
     "text": [
      "Translating OCR Files:  66%|██████▌   | 321/490 [2:38:09<1:38:57, 35.13s/file]"
     ]
    },
    {
     "name": "stdout",
     "output_type": "stream",
     "text": [
      " Saved translated file: 9fe6b262-9944-417d-a0c4-9f2de1de2994_7.csv\n",
      "\n",
      "Processing file 322 of 490: 9fe6b262-9944-417d-a0c4-9f2de1de2994_8.csv\n"
     ]
    },
    {
     "name": "stderr",
     "output_type": "stream",
     "text": [
      "Translating OCR Files:  66%|██████▌   | 322/490 [2:38:30<1:26:59, 31.07s/file]"
     ]
    },
    {
     "name": "stdout",
     "output_type": "stream",
     "text": [
      " Saved translated file: 9fe6b262-9944-417d-a0c4-9f2de1de2994_8.csv\n",
      "\n",
      "Processing file 323 of 490: 9fe6b262-9944-417d-a0c4-9f2de1de2994_9.csv\n"
     ]
    },
    {
     "name": "stderr",
     "output_type": "stream",
     "text": [
      "Translating OCR Files:  66%|██████▌   | 323/490 [2:39:04<1:28:59, 31.97s/file]"
     ]
    },
    {
     "name": "stdout",
     "output_type": "stream",
     "text": [
      " Saved translated file: 9fe6b262-9944-417d-a0c4-9f2de1de2994_9.csv\n",
      "\n",
      "Processing file 324 of 490: a1ba4d8b-f382-44c4-ac3f-746a44746bb4_0.csv\n"
     ]
    },
    {
     "name": "stderr",
     "output_type": "stream",
     "text": [
      "Translating OCR Files:  66%|██████▌   | 324/490 [2:40:34<2:16:04, 49.18s/file]"
     ]
    },
    {
     "name": "stdout",
     "output_type": "stream",
     "text": [
      " Saved translated file: a1ba4d8b-f382-44c4-ac3f-746a44746bb4_0.csv\n",
      "\n",
      "Processing file 325 of 490: a1ba4d8b-f382-44c4-ac3f-746a44746bb4_1.csv\n"
     ]
    },
    {
     "name": "stderr",
     "output_type": "stream",
     "text": [
      "Translating OCR Files:  66%|██████▋   | 325/490 [2:40:40<1:40:04, 36.39s/file]"
     ]
    },
    {
     "name": "stdout",
     "output_type": "stream",
     "text": [
      " Saved translated file: a1ba4d8b-f382-44c4-ac3f-746a44746bb4_1.csv\n",
      "\n",
      "Processing file 326 of 490: aa99f763-6849-4f6b-adf2-58f0cc2ed545.csv\n"
     ]
    },
    {
     "name": "stderr",
     "output_type": "stream",
     "text": [
      "Translating OCR Files:  67%|██████▋   | 326/490 [2:40:50<1:17:40, 28.42s/file]"
     ]
    },
    {
     "name": "stdout",
     "output_type": "stream",
     "text": [
      " Saved translated file: aa99f763-6849-4f6b-adf2-58f0cc2ed545.csv\n",
      "\n",
      "Processing file 327 of 490: adaf869e-920a-4a17-91bd-e2ef3125c10e.csv\n"
     ]
    },
    {
     "name": "stderr",
     "output_type": "stream",
     "text": [
      "Translating OCR Files:  67%|██████▋   | 327/490 [2:41:01<1:03:15, 23.29s/file]"
     ]
    },
    {
     "name": "stdout",
     "output_type": "stream",
     "text": [
      " Saved translated file: adaf869e-920a-4a17-91bd-e2ef3125c10e.csv\n",
      "\n",
      "Processing file 328 of 490: aedc6a39-7862-4bbc-99e7-780ab3980282_1_0.csv\n"
     ]
    },
    {
     "name": "stderr",
     "output_type": "stream",
     "text": [
      "Translating OCR Files:  67%|██████▋   | 328/490 [2:41:10<51:15, 18.98s/file]  "
     ]
    },
    {
     "name": "stdout",
     "output_type": "stream",
     "text": [
      " Saved translated file: aedc6a39-7862-4bbc-99e7-780ab3980282_1_0.csv\n",
      "\n",
      "Processing file 329 of 490: aedc6a39-7862-4bbc-99e7-780ab3980282_2_0.csv\n"
     ]
    },
    {
     "name": "stderr",
     "output_type": "stream",
     "text": [
      "Translating OCR Files:  67%|██████▋   | 329/490 [2:42:17<1:29:37, 33.40s/file]"
     ]
    },
    {
     "name": "stdout",
     "output_type": "stream",
     "text": [
      " Saved translated file: aedc6a39-7862-4bbc-99e7-780ab3980282_2_0.csv\n",
      "\n",
      "Processing file 330 of 490: aedc6a39-7862-4bbc-99e7-780ab3980282_2_1.csv\n"
     ]
    },
    {
     "name": "stderr",
     "output_type": "stream",
     "text": [
      "Translating OCR Files:  67%|██████▋   | 330/490 [2:42:19<1:03:29, 23.81s/file]"
     ]
    },
    {
     "name": "stdout",
     "output_type": "stream",
     "text": [
      " Saved translated file: aedc6a39-7862-4bbc-99e7-780ab3980282_2_1.csv\n",
      "\n",
      "Processing file 331 of 490: aedc6a39-7862-4bbc-99e7-780ab3980282_3_0.csv\n"
     ]
    },
    {
     "name": "stderr",
     "output_type": "stream",
     "text": [
      "Translating OCR Files:  68%|██████▊   | 331/490 [2:43:11<1:25:31, 32.27s/file]"
     ]
    },
    {
     "name": "stdout",
     "output_type": "stream",
     "text": [
      " Saved translated file: aedc6a39-7862-4bbc-99e7-780ab3980282_3_0.csv\n",
      "\n",
      "Processing file 332 of 490: aedc6a39-7862-4bbc-99e7-780ab3980282_4_0.csv\n"
     ]
    },
    {
     "name": "stderr",
     "output_type": "stream",
     "text": [
      "Translating OCR Files:  68%|██████▊   | 332/490 [2:44:41<2:10:41, 49.63s/file]"
     ]
    },
    {
     "name": "stdout",
     "output_type": "stream",
     "text": [
      "Ollama error: HTTPConnectionPool(host='localhost', port=11434): Read timed out. (read timeout=90)\n",
      " Saved translated file: aedc6a39-7862-4bbc-99e7-780ab3980282_4_0.csv\n",
      "\n",
      "Processing file 333 of 490: aedc6a39-7862-4bbc-99e7-780ab3980282_4_1.csv\n"
     ]
    },
    {
     "name": "stderr",
     "output_type": "stream",
     "text": [
      "Translating OCR Files:  68%|██████▊   | 333/490 [2:45:00<1:45:54, 40.48s/file]"
     ]
    },
    {
     "name": "stdout",
     "output_type": "stream",
     "text": [
      " Saved translated file: aedc6a39-7862-4bbc-99e7-780ab3980282_4_1.csv\n",
      "\n",
      "Processing file 334 of 490: af93eff8-2973-4746-9041-b2223016b117.csv\n"
     ]
    },
    {
     "name": "stderr",
     "output_type": "stream",
     "text": [
      "Translating OCR Files:  68%|██████▊   | 334/490 [2:45:12<1:22:34, 31.76s/file]"
     ]
    },
    {
     "name": "stdout",
     "output_type": "stream",
     "text": [
      " Saved translated file: af93eff8-2973-4746-9041-b2223016b117.csv\n",
      "\n",
      "Processing file 335 of 490: b0a4acaa-d768-4f6d-8e54-6d20f271bb7c.csv\n"
     ]
    },
    {
     "name": "stderr",
     "output_type": "stream",
     "text": [
      "Translating OCR Files:  68%|██████▊   | 335/490 [2:45:14<59:12, 22.92s/file]  "
     ]
    },
    {
     "name": "stdout",
     "output_type": "stream",
     "text": [
      " Saved translated file: b0a4acaa-d768-4f6d-8e54-6d20f271bb7c.csv\n",
      "\n",
      "Processing file 336 of 490: b3031e66-40b6-45e8-9bcd-891dc1a280da_0.csv\n"
     ]
    },
    {
     "name": "stderr",
     "output_type": "stream",
     "text": [
      "Translating OCR Files:  69%|██████▊   | 336/490 [2:45:19<44:45, 17.44s/file]"
     ]
    },
    {
     "name": "stdout",
     "output_type": "stream",
     "text": [
      " Saved translated file: b3031e66-40b6-45e8-9bcd-891dc1a280da_0.csv\n",
      "\n",
      "Processing file 337 of 490: b3031e66-40b6-45e8-9bcd-891dc1a280da_1.csv\n"
     ]
    },
    {
     "name": "stderr",
     "output_type": "stream",
     "text": [
      "Translating OCR Files:  69%|██████▉   | 337/490 [2:45:32<41:09, 16.14s/file]"
     ]
    },
    {
     "name": "stdout",
     "output_type": "stream",
     "text": [
      " Saved translated file: b3031e66-40b6-45e8-9bcd-891dc1a280da_1.csv\n",
      "\n",
      "Processing file 338 of 490: b3031e66-40b6-45e8-9bcd-891dc1a280da_10.csv\n"
     ]
    },
    {
     "name": "stderr",
     "output_type": "stream",
     "text": [
      "Translating OCR Files:  69%|██████▉   | 338/490 [2:46:22<1:06:41, 26.33s/file]"
     ]
    },
    {
     "name": "stdout",
     "output_type": "stream",
     "text": [
      " Saved translated file: b3031e66-40b6-45e8-9bcd-891dc1a280da_10.csv\n",
      "\n",
      "Processing file 339 of 490: b3031e66-40b6-45e8-9bcd-891dc1a280da_11.csv\n"
     ]
    },
    {
     "name": "stderr",
     "output_type": "stream",
     "text": [
      "Translating OCR Files:  69%|██████▉   | 339/490 [2:47:12<1:24:38, 33.63s/file]"
     ]
    },
    {
     "name": "stdout",
     "output_type": "stream",
     "text": [
      " Saved translated file: b3031e66-40b6-45e8-9bcd-891dc1a280da_11.csv\n",
      "\n",
      "Processing file 340 of 490: b3031e66-40b6-45e8-9bcd-891dc1a280da_12.csv\n"
     ]
    },
    {
     "name": "stderr",
     "output_type": "stream",
     "text": [
      "Translating OCR Files:  69%|██████▉   | 340/490 [2:47:47<1:25:01, 34.01s/file]"
     ]
    },
    {
     "name": "stdout",
     "output_type": "stream",
     "text": [
      " Saved translated file: b3031e66-40b6-45e8-9bcd-891dc1a280da_12.csv\n",
      "\n",
      "Processing file 341 of 490: b3031e66-40b6-45e8-9bcd-891dc1a280da_13.csv\n"
     ]
    },
    {
     "name": "stderr",
     "output_type": "stream",
     "text": [
      "Translating OCR Files:  70%|██████▉   | 341/490 [2:48:34<1:33:51, 37.80s/file]"
     ]
    },
    {
     "name": "stdout",
     "output_type": "stream",
     "text": [
      " Saved translated file: b3031e66-40b6-45e8-9bcd-891dc1a280da_13.csv\n",
      "\n",
      "Processing file 342 of 490: b3031e66-40b6-45e8-9bcd-891dc1a280da_14.csv\n"
     ]
    },
    {
     "name": "stderr",
     "output_type": "stream",
     "text": [
      "Translating OCR Files:  70%|██████▉   | 342/490 [2:49:27<1:44:42, 42.45s/file]"
     ]
    },
    {
     "name": "stdout",
     "output_type": "stream",
     "text": [
      " Saved translated file: b3031e66-40b6-45e8-9bcd-891dc1a280da_14.csv\n",
      "\n",
      "Processing file 343 of 490: b3031e66-40b6-45e8-9bcd-891dc1a280da_15.csv\n"
     ]
    },
    {
     "name": "stderr",
     "output_type": "stream",
     "text": [
      "Translating OCR Files:  70%|███████   | 343/490 [2:50:01<1:37:31, 39.81s/file]"
     ]
    },
    {
     "name": "stdout",
     "output_type": "stream",
     "text": [
      " Saved translated file: b3031e66-40b6-45e8-9bcd-891dc1a280da_15.csv\n",
      "\n",
      "Processing file 344 of 490: b3031e66-40b6-45e8-9bcd-891dc1a280da_16.csv\n"
     ]
    },
    {
     "name": "stderr",
     "output_type": "stream",
     "text": [
      "Translating OCR Files:  70%|███████   | 344/490 [2:50:26<1:26:23, 35.50s/file]"
     ]
    },
    {
     "name": "stdout",
     "output_type": "stream",
     "text": [
      " Saved translated file: b3031e66-40b6-45e8-9bcd-891dc1a280da_16.csv\n",
      "\n",
      "Processing file 345 of 490: b3031e66-40b6-45e8-9bcd-891dc1a280da_17.csv\n"
     ]
    },
    {
     "name": "stderr",
     "output_type": "stream",
     "text": [
      "Translating OCR Files:  70%|███████   | 345/490 [2:50:57<1:22:15, 34.04s/file]"
     ]
    },
    {
     "name": "stdout",
     "output_type": "stream",
     "text": [
      " Saved translated file: b3031e66-40b6-45e8-9bcd-891dc1a280da_17.csv\n",
      "\n",
      "Processing file 346 of 490: b3031e66-40b6-45e8-9bcd-891dc1a280da_18.csv\n"
     ]
    },
    {
     "name": "stderr",
     "output_type": "stream",
     "text": [
      "Translating OCR Files:  71%|███████   | 346/490 [2:52:16<1:54:08, 47.56s/file]"
     ]
    },
    {
     "name": "stdout",
     "output_type": "stream",
     "text": [
      " Saved translated file: b3031e66-40b6-45e8-9bcd-891dc1a280da_18.csv\n",
      "\n",
      "Processing file 347 of 490: b3031e66-40b6-45e8-9bcd-891dc1a280da_19.csv\n"
     ]
    },
    {
     "name": "stderr",
     "output_type": "stream",
     "text": [
      "Translating OCR Files:  71%|███████   | 347/490 [2:52:34<1:32:18, 38.73s/file]"
     ]
    },
    {
     "name": "stdout",
     "output_type": "stream",
     "text": [
      " Saved translated file: b3031e66-40b6-45e8-9bcd-891dc1a280da_19.csv\n",
      "\n",
      "Processing file 348 of 490: b3031e66-40b6-45e8-9bcd-891dc1a280da_2.csv\n"
     ]
    },
    {
     "name": "stderr",
     "output_type": "stream",
     "text": [
      "Translating OCR Files:  71%|███████   | 348/490 [2:52:46<1:12:53, 30.80s/file]"
     ]
    },
    {
     "name": "stdout",
     "output_type": "stream",
     "text": [
      " Saved translated file: b3031e66-40b6-45e8-9bcd-891dc1a280da_2.csv\n",
      "\n",
      "Processing file 349 of 490: b3031e66-40b6-45e8-9bcd-891dc1a280da_20.csv\n"
     ]
    },
    {
     "name": "stderr",
     "output_type": "stream",
     "text": [
      "Translating OCR Files:  71%|███████   | 349/490 [2:53:30<1:21:07, 34.52s/file]"
     ]
    },
    {
     "name": "stdout",
     "output_type": "stream",
     "text": [
      " Saved translated file: b3031e66-40b6-45e8-9bcd-891dc1a280da_20.csv\n",
      "\n",
      "Processing file 350 of 490: b3031e66-40b6-45e8-9bcd-891dc1a280da_21.csv\n"
     ]
    },
    {
     "name": "stderr",
     "output_type": "stream",
     "text": [
      "Translating OCR Files:  71%|███████▏  | 350/490 [2:54:35<1:42:13, 43.81s/file]"
     ]
    },
    {
     "name": "stdout",
     "output_type": "stream",
     "text": [
      " Saved translated file: b3031e66-40b6-45e8-9bcd-891dc1a280da_21.csv\n",
      "\n",
      "Processing file 351 of 490: b3031e66-40b6-45e8-9bcd-891dc1a280da_22.csv\n"
     ]
    },
    {
     "name": "stderr",
     "output_type": "stream",
     "text": [
      "Translating OCR Files:  72%|███████▏  | 351/490 [2:55:28<1:48:01, 46.63s/file]"
     ]
    },
    {
     "name": "stdout",
     "output_type": "stream",
     "text": [
      " Saved translated file: b3031e66-40b6-45e8-9bcd-891dc1a280da_22.csv\n",
      "\n",
      "Processing file 352 of 490: b3031e66-40b6-45e8-9bcd-891dc1a280da_23.csv\n"
     ]
    },
    {
     "name": "stderr",
     "output_type": "stream",
     "text": [
      "Translating OCR Files:  72%|███████▏  | 352/490 [2:56:59<2:17:16, 59.68s/file]"
     ]
    },
    {
     "name": "stdout",
     "output_type": "stream",
     "text": [
      "Ollama error: HTTPConnectionPool(host='localhost', port=11434): Read timed out. (read timeout=90)\n",
      " Saved translated file: b3031e66-40b6-45e8-9bcd-891dc1a280da_23.csv\n",
      "\n",
      "Processing file 353 of 490: b3031e66-40b6-45e8-9bcd-891dc1a280da_24.csv\n"
     ]
    },
    {
     "name": "stderr",
     "output_type": "stream",
     "text": [
      "Translating OCR Files:  72%|███████▏  | 353/490 [2:57:43<2:06:01, 55.19s/file]"
     ]
    },
    {
     "name": "stdout",
     "output_type": "stream",
     "text": [
      " Saved translated file: b3031e66-40b6-45e8-9bcd-891dc1a280da_24.csv\n",
      "\n",
      "Processing file 354 of 490: b3031e66-40b6-45e8-9bcd-891dc1a280da_3.csv\n"
     ]
    },
    {
     "name": "stderr",
     "output_type": "stream",
     "text": [
      "Translating OCR Files:  72%|███████▏  | 354/490 [2:58:56<2:17:00, 60.45s/file]"
     ]
    },
    {
     "name": "stdout",
     "output_type": "stream",
     "text": [
      " Saved translated file: b3031e66-40b6-45e8-9bcd-891dc1a280da_3.csv\n",
      "\n",
      "Processing file 355 of 490: b3031e66-40b6-45e8-9bcd-891dc1a280da_4.csv\n"
     ]
    },
    {
     "name": "stderr",
     "output_type": "stream",
     "text": [
      "Translating OCR Files:  72%|███████▏  | 355/490 [3:00:12<2:26:18, 65.03s/file]"
     ]
    },
    {
     "name": "stdout",
     "output_type": "stream",
     "text": [
      " Saved translated file: b3031e66-40b6-45e8-9bcd-891dc1a280da_4.csv\n",
      "\n",
      "Processing file 356 of 490: b3031e66-40b6-45e8-9bcd-891dc1a280da_5.csv\n"
     ]
    },
    {
     "name": "stderr",
     "output_type": "stream",
     "text": [
      "Translating OCR Files:  73%|███████▎  | 356/490 [3:00:54<2:10:15, 58.32s/file]"
     ]
    },
    {
     "name": "stdout",
     "output_type": "stream",
     "text": [
      " Saved translated file: b3031e66-40b6-45e8-9bcd-891dc1a280da_5.csv\n",
      "\n",
      "Processing file 357 of 490: b3031e66-40b6-45e8-9bcd-891dc1a280da_6.csv\n"
     ]
    },
    {
     "name": "stderr",
     "output_type": "stream",
     "text": [
      "Translating OCR Files:  73%|███████▎  | 357/490 [3:02:24<2:30:04, 67.70s/file]"
     ]
    },
    {
     "name": "stdout",
     "output_type": "stream",
     "text": [
      " Saved translated file: b3031e66-40b6-45e8-9bcd-891dc1a280da_6.csv\n",
      "\n",
      "Processing file 358 of 490: b3031e66-40b6-45e8-9bcd-891dc1a280da_7.csv\n"
     ]
    },
    {
     "name": "stderr",
     "output_type": "stream",
     "text": [
      "Translating OCR Files:  73%|███████▎  | 358/490 [3:03:54<2:43:44, 74.43s/file]"
     ]
    },
    {
     "name": "stdout",
     "output_type": "stream",
     "text": [
      "Ollama error: HTTPConnectionPool(host='localhost', port=11434): Read timed out. (read timeout=90)\n",
      " Saved translated file: b3031e66-40b6-45e8-9bcd-891dc1a280da_7.csv\n",
      "\n",
      "Processing file 359 of 490: b3031e66-40b6-45e8-9bcd-891dc1a280da_8.csv\n"
     ]
    },
    {
     "name": "stderr",
     "output_type": "stream",
     "text": [
      "Translating OCR Files:  73%|███████▎  | 359/490 [3:05:06<2:40:46, 73.64s/file]"
     ]
    },
    {
     "name": "stdout",
     "output_type": "stream",
     "text": [
      " Saved translated file: b3031e66-40b6-45e8-9bcd-891dc1a280da_8.csv\n",
      "\n",
      "Processing file 360 of 490: b3031e66-40b6-45e8-9bcd-891dc1a280da_9.csv\n"
     ]
    },
    {
     "name": "stderr",
     "output_type": "stream",
     "text": [
      "Translating OCR Files:  73%|███████▎  | 360/490 [3:06:17<2:37:42, 72.79s/file]"
     ]
    },
    {
     "name": "stdout",
     "output_type": "stream",
     "text": [
      " Saved translated file: b3031e66-40b6-45e8-9bcd-891dc1a280da_9.csv\n",
      "\n",
      "Processing file 361 of 490: b3ce4d51-6024-4b43-b0d2-d3faaf3c2879.csv\n"
     ]
    },
    {
     "name": "stderr",
     "output_type": "stream",
     "text": [
      "Translating OCR Files:  74%|███████▎  | 361/490 [3:06:43<2:06:24, 58.80s/file]"
     ]
    },
    {
     "name": "stdout",
     "output_type": "stream",
     "text": [
      " Saved translated file: b3ce4d51-6024-4b43-b0d2-d3faaf3c2879.csv\n",
      "\n",
      "Processing file 362 of 490: b6eb1b15-cf99-475c-921f-f06e5c1019d4.csv\n"
     ]
    },
    {
     "name": "stderr",
     "output_type": "stream",
     "text": [
      "Translating OCR Files:  74%|███████▍  | 362/490 [3:07:10<1:45:24, 49.41s/file]"
     ]
    },
    {
     "name": "stdout",
     "output_type": "stream",
     "text": [
      " Saved translated file: b6eb1b15-cf99-475c-921f-f06e5c1019d4.csv\n",
      "\n",
      "Processing file 363 of 490: b8b76b6d-a50e-4246-82ee-3c8a5dcd523e.csv\n"
     ]
    },
    {
     "name": "stderr",
     "output_type": "stream",
     "text": [
      "Translating OCR Files:  74%|███████▍  | 363/490 [3:07:21<1:20:11, 37.88s/file]"
     ]
    },
    {
     "name": "stdout",
     "output_type": "stream",
     "text": [
      " Saved translated file: b8b76b6d-a50e-4246-82ee-3c8a5dcd523e.csv\n",
      "\n",
      "Processing file 364 of 490: b8cea3b1-4dde-4438-9b1a-6faf690bbad0.csv\n"
     ]
    },
    {
     "name": "stderr",
     "output_type": "stream",
     "text": [
      "Translating OCR Files:  74%|███████▍  | 364/490 [3:07:25<58:12, 27.72s/file]  "
     ]
    },
    {
     "name": "stdout",
     "output_type": "stream",
     "text": [
      " Saved translated file: b8cea3b1-4dde-4438-9b1a-6faf690bbad0.csv\n",
      "\n",
      "Processing file 365 of 490: b9d9c584-5e21-4a49-952b-ffecca4eb91e.csv\n"
     ]
    },
    {
     "name": "stderr",
     "output_type": "stream",
     "text": [
      "Translating OCR Files:  74%|███████▍  | 365/490 [3:08:12<1:09:18, 33.27s/file]"
     ]
    },
    {
     "name": "stdout",
     "output_type": "stream",
     "text": [
      " Saved translated file: b9d9c584-5e21-4a49-952b-ffecca4eb91e.csv\n",
      "\n",
      "Processing file 366 of 490: bcad4fdf-3771-4873-92fa-23240654118a.csv\n"
     ]
    },
    {
     "name": "stderr",
     "output_type": "stream",
     "text": [
      "Translating OCR Files:  75%|███████▍  | 366/490 [3:08:28<58:02, 28.08s/file]  "
     ]
    },
    {
     "name": "stdout",
     "output_type": "stream",
     "text": [
      " Saved translated file: bcad4fdf-3771-4873-92fa-23240654118a.csv\n",
      "\n",
      "Processing file 367 of 490: c5f1d959-39d1-4176-9cb1-1fb6e8baedc3.csv\n"
     ]
    },
    {
     "name": "stderr",
     "output_type": "stream",
     "text": [
      "Translating OCR Files:  75%|███████▍  | 367/490 [3:08:49<53:42, 26.20s/file]"
     ]
    },
    {
     "name": "stdout",
     "output_type": "stream",
     "text": [
      " Saved translated file: c5f1d959-39d1-4176-9cb1-1fb6e8baedc3.csv\n",
      "\n",
      "Processing file 368 of 490: d410e4aa-fb52-4ed4-9078-4483267a02b3_0.csv\n"
     ]
    },
    {
     "name": "stderr",
     "output_type": "stream",
     "text": [
      "Translating OCR Files:  75%|███████▌  | 368/490 [3:10:08<1:25:14, 41.92s/file]"
     ]
    },
    {
     "name": "stdout",
     "output_type": "stream",
     "text": [
      " Saved translated file: d410e4aa-fb52-4ed4-9078-4483267a02b3_0.csv\n",
      "\n",
      "Processing file 369 of 490: d410e4aa-fb52-4ed4-9078-4483267a02b3_1.csv\n"
     ]
    },
    {
     "name": "stderr",
     "output_type": "stream",
     "text": [
      "Translating OCR Files:  75%|███████▌  | 369/490 [3:11:38<1:53:38, 56.35s/file]"
     ]
    },
    {
     "name": "stdout",
     "output_type": "stream",
     "text": [
      " Saved translated file: d410e4aa-fb52-4ed4-9078-4483267a02b3_1.csv\n",
      "\n",
      "Processing file 370 of 490: d410e4aa-fb52-4ed4-9078-4483267a02b3_2.csv\n"
     ]
    },
    {
     "name": "stderr",
     "output_type": "stream",
     "text": [
      "Translating OCR Files:  76%|███████▌  | 370/490 [3:13:02<2:09:34, 64.79s/file]"
     ]
    },
    {
     "name": "stdout",
     "output_type": "stream",
     "text": [
      " Saved translated file: d410e4aa-fb52-4ed4-9078-4483267a02b3_2.csv\n",
      "\n",
      "Processing file 371 of 490: d410e4aa-fb52-4ed4-9078-4483267a02b3_3.csv\n"
     ]
    },
    {
     "name": "stderr",
     "output_type": "stream",
     "text": [
      "Translating OCR Files:  76%|███████▌  | 371/490 [3:14:10<2:10:20, 65.72s/file]"
     ]
    },
    {
     "name": "stdout",
     "output_type": "stream",
     "text": [
      " Saved translated file: d410e4aa-fb52-4ed4-9078-4483267a02b3_3.csv\n",
      "\n",
      "Processing file 372 of 490: d410e4aa-fb52-4ed4-9078-4483267a02b3_4.csv\n"
     ]
    },
    {
     "name": "stderr",
     "output_type": "stream",
     "text": [
      "Translating OCR Files:  76%|███████▌  | 372/490 [3:14:31<1:42:58, 52.36s/file]"
     ]
    },
    {
     "name": "stdout",
     "output_type": "stream",
     "text": [
      " Saved translated file: d410e4aa-fb52-4ed4-9078-4483267a02b3_4.csv\n",
      "\n",
      "Processing file 373 of 490: d5ff8b65-db15-418a-b33e-169498d79110_0.csv\n"
     ]
    },
    {
     "name": "stderr",
     "output_type": "stream",
     "text": [
      "Translating OCR Files:  76%|███████▌  | 373/490 [3:14:36<1:13:51, 37.88s/file]"
     ]
    },
    {
     "name": "stdout",
     "output_type": "stream",
     "text": [
      " Saved translated file: d5ff8b65-db15-418a-b33e-169498d79110_0.csv\n",
      "\n",
      "Processing file 374 of 490: d5ff8b65-db15-418a-b33e-169498d79110_1.csv\n"
     ]
    },
    {
     "name": "stderr",
     "output_type": "stream",
     "text": [
      "Translating OCR Files:  76%|███████▋  | 374/490 [3:14:46<57:19, 29.65s/file]  "
     ]
    },
    {
     "name": "stdout",
     "output_type": "stream",
     "text": [
      " Saved translated file: d5ff8b65-db15-418a-b33e-169498d79110_1.csv\n",
      "\n",
      "Processing file 375 of 490: d5ff8b65-db15-418a-b33e-169498d79110_10.csv\n"
     ]
    },
    {
     "name": "stderr",
     "output_type": "stream",
     "text": [
      "Translating OCR Files:  77%|███████▋  | 375/490 [3:15:00<47:40, 24.87s/file]"
     ]
    },
    {
     "name": "stdout",
     "output_type": "stream",
     "text": [
      " Saved translated file: d5ff8b65-db15-418a-b33e-169498d79110_10.csv\n",
      "\n",
      "Processing file 376 of 490: d5ff8b65-db15-418a-b33e-169498d79110_11.csv\n"
     ]
    },
    {
     "name": "stderr",
     "output_type": "stream",
     "text": [
      "Translating OCR Files:  77%|███████▋  | 376/490 [3:15:21<44:56, 23.65s/file]"
     ]
    },
    {
     "name": "stdout",
     "output_type": "stream",
     "text": [
      " Saved translated file: d5ff8b65-db15-418a-b33e-169498d79110_11.csv\n",
      "\n",
      "Processing file 377 of 490: d5ff8b65-db15-418a-b33e-169498d79110_12.csv\n"
     ]
    },
    {
     "name": "stderr",
     "output_type": "stream",
     "text": [
      "Translating OCR Files:  77%|███████▋  | 377/490 [3:15:41<42:34, 22.60s/file]"
     ]
    },
    {
     "name": "stdout",
     "output_type": "stream",
     "text": [
      " Saved translated file: d5ff8b65-db15-418a-b33e-169498d79110_12.csv\n",
      "\n",
      "Processing file 378 of 490: d5ff8b65-db15-418a-b33e-169498d79110_13.csv\n"
     ]
    },
    {
     "name": "stderr",
     "output_type": "stream",
     "text": [
      "Translating OCR Files:  77%|███████▋  | 378/490 [3:15:53<36:31, 19.57s/file]"
     ]
    },
    {
     "name": "stdout",
     "output_type": "stream",
     "text": [
      " Saved translated file: d5ff8b65-db15-418a-b33e-169498d79110_13.csv\n",
      "\n",
      "Processing file 379 of 490: d5ff8b65-db15-418a-b33e-169498d79110_14.csv\n"
     ]
    },
    {
     "name": "stderr",
     "output_type": "stream",
     "text": [
      "Translating OCR Files:  77%|███████▋  | 379/490 [3:16:07<33:09, 17.92s/file]"
     ]
    },
    {
     "name": "stdout",
     "output_type": "stream",
     "text": [
      " Saved translated file: d5ff8b65-db15-418a-b33e-169498d79110_14.csv\n",
      "\n",
      "Processing file 380 of 490: d5ff8b65-db15-418a-b33e-169498d79110_15.csv\n"
     ]
    },
    {
     "name": "stderr",
     "output_type": "stream",
     "text": [
      "Translating OCR Files:  78%|███████▊  | 380/490 [3:16:22<30:49, 16.81s/file]"
     ]
    },
    {
     "name": "stdout",
     "output_type": "stream",
     "text": [
      " Saved translated file: d5ff8b65-db15-418a-b33e-169498d79110_15.csv\n",
      "\n",
      "Processing file 381 of 490: d5ff8b65-db15-418a-b33e-169498d79110_16.csv\n"
     ]
    },
    {
     "name": "stderr",
     "output_type": "stream",
     "text": [
      "Translating OCR Files:  78%|███████▊  | 381/490 [3:16:33<27:49, 15.32s/file]"
     ]
    },
    {
     "name": "stdout",
     "output_type": "stream",
     "text": [
      " Saved translated file: d5ff8b65-db15-418a-b33e-169498d79110_16.csv\n",
      "\n",
      "Processing file 382 of 490: d5ff8b65-db15-418a-b33e-169498d79110_17.csv\n"
     ]
    },
    {
     "name": "stderr",
     "output_type": "stream",
     "text": [
      "Translating OCR Files:  78%|███████▊  | 382/490 [3:16:45<25:44, 14.30s/file]"
     ]
    },
    {
     "name": "stdout",
     "output_type": "stream",
     "text": [
      " Saved translated file: d5ff8b65-db15-418a-b33e-169498d79110_17.csv\n",
      "\n",
      "Processing file 383 of 490: d5ff8b65-db15-418a-b33e-169498d79110_18.csv\n"
     ]
    },
    {
     "name": "stderr",
     "output_type": "stream",
     "text": [
      "Translating OCR Files:  78%|███████▊  | 383/490 [3:17:00<25:40, 14.40s/file]"
     ]
    },
    {
     "name": "stdout",
     "output_type": "stream",
     "text": [
      " Saved translated file: d5ff8b65-db15-418a-b33e-169498d79110_18.csv\n",
      "\n",
      "Processing file 384 of 490: d5ff8b65-db15-418a-b33e-169498d79110_19.csv\n"
     ]
    },
    {
     "name": "stderr",
     "output_type": "stream",
     "text": [
      "Translating OCR Files:  78%|███████▊  | 384/490 [3:17:30<33:43, 19.09s/file]"
     ]
    },
    {
     "name": "stdout",
     "output_type": "stream",
     "text": [
      " Saved translated file: d5ff8b65-db15-418a-b33e-169498d79110_19.csv\n",
      "\n",
      "Processing file 385 of 490: d5ff8b65-db15-418a-b33e-169498d79110_2.csv\n"
     ]
    },
    {
     "name": "stderr",
     "output_type": "stream",
     "text": [
      "Translating OCR Files:  79%|███████▊  | 385/490 [3:18:11<45:09, 25.81s/file]"
     ]
    },
    {
     "name": "stdout",
     "output_type": "stream",
     "text": [
      " Saved translated file: d5ff8b65-db15-418a-b33e-169498d79110_2.csv\n",
      "\n",
      "Processing file 386 of 490: d5ff8b65-db15-418a-b33e-169498d79110_20.csv\n"
     ]
    },
    {
     "name": "stderr",
     "output_type": "stream",
     "text": [
      "Translating OCR Files:  79%|███████▉  | 386/490 [3:18:57<54:57, 31.71s/file]"
     ]
    },
    {
     "name": "stdout",
     "output_type": "stream",
     "text": [
      " Saved translated file: d5ff8b65-db15-418a-b33e-169498d79110_20.csv\n",
      "\n",
      "Processing file 387 of 490: d5ff8b65-db15-418a-b33e-169498d79110_21.csv\n"
     ]
    },
    {
     "name": "stderr",
     "output_type": "stream",
     "text": [
      "Translating OCR Files:  79%|███████▉  | 387/490 [3:19:38<59:31, 34.68s/file]"
     ]
    },
    {
     "name": "stdout",
     "output_type": "stream",
     "text": [
      " Saved translated file: d5ff8b65-db15-418a-b33e-169498d79110_21.csv\n",
      "\n",
      "Processing file 388 of 490: d5ff8b65-db15-418a-b33e-169498d79110_3.csv\n"
     ]
    },
    {
     "name": "stderr",
     "output_type": "stream",
     "text": [
      "Translating OCR Files:  79%|███████▉  | 388/490 [3:20:59<1:22:28, 48.52s/file]"
     ]
    },
    {
     "name": "stdout",
     "output_type": "stream",
     "text": [
      " Saved translated file: d5ff8b65-db15-418a-b33e-169498d79110_3.csv\n",
      "\n",
      "Processing file 389 of 490: d5ff8b65-db15-418a-b33e-169498d79110_4.csv\n"
     ]
    },
    {
     "name": "stderr",
     "output_type": "stream",
     "text": [
      "Translating OCR Files:  79%|███████▉  | 389/490 [3:22:13<1:34:12, 55.96s/file]"
     ]
    },
    {
     "name": "stdout",
     "output_type": "stream",
     "text": [
      " Saved translated file: d5ff8b65-db15-418a-b33e-169498d79110_4.csv\n",
      "\n",
      "Processing file 390 of 490: d5ff8b65-db15-418a-b33e-169498d79110_5.csv\n"
     ]
    },
    {
     "name": "stderr",
     "output_type": "stream",
     "text": [
      "Translating OCR Files:  80%|███████▉  | 390/490 [3:22:46<1:21:47, 49.07s/file]"
     ]
    },
    {
     "name": "stdout",
     "output_type": "stream",
     "text": [
      " Saved translated file: d5ff8b65-db15-418a-b33e-169498d79110_5.csv\n",
      "\n",
      "Processing file 391 of 490: d5ff8b65-db15-418a-b33e-169498d79110_6.csv\n"
     ]
    },
    {
     "name": "stderr",
     "output_type": "stream",
     "text": [
      "Translating OCR Files:  80%|███████▉  | 391/490 [3:23:16<1:11:37, 43.41s/file]"
     ]
    },
    {
     "name": "stdout",
     "output_type": "stream",
     "text": [
      " Saved translated file: d5ff8b65-db15-418a-b33e-169498d79110_6.csv\n",
      "\n",
      "Processing file 392 of 490: d5ff8b65-db15-418a-b33e-169498d79110_7.csv\n"
     ]
    },
    {
     "name": "stderr",
     "output_type": "stream",
     "text": [
      "Translating OCR Files:  80%|████████  | 392/490 [3:23:40<1:01:16, 37.52s/file]"
     ]
    },
    {
     "name": "stdout",
     "output_type": "stream",
     "text": [
      " Saved translated file: d5ff8b65-db15-418a-b33e-169498d79110_7.csv\n",
      "\n",
      "Processing file 393 of 490: d5ff8b65-db15-418a-b33e-169498d79110_8.csv\n"
     ]
    },
    {
     "name": "stderr",
     "output_type": "stream",
     "text": [
      "Translating OCR Files:  80%|████████  | 393/490 [3:24:04<54:07, 33.48s/file]  "
     ]
    },
    {
     "name": "stdout",
     "output_type": "stream",
     "text": [
      " Saved translated file: d5ff8b65-db15-418a-b33e-169498d79110_8.csv\n",
      "\n",
      "Processing file 394 of 490: d5ff8b65-db15-418a-b33e-169498d79110_9.csv\n"
     ]
    },
    {
     "name": "stderr",
     "output_type": "stream",
     "text": [
      "Translating OCR Files:  80%|████████  | 394/490 [3:24:22<46:15, 28.91s/file]"
     ]
    },
    {
     "name": "stdout",
     "output_type": "stream",
     "text": [
      " Saved translated file: d5ff8b65-db15-418a-b33e-169498d79110_9.csv\n",
      "\n",
      "Processing file 395 of 490: dbc9c90e-a3e6-4d71-bb93-5fb8394095ac_0.csv\n"
     ]
    },
    {
     "name": "stderr",
     "output_type": "stream",
     "text": [
      "Translating OCR Files:  81%|████████  | 395/490 [3:24:34<37:58, 23.99s/file]"
     ]
    },
    {
     "name": "stdout",
     "output_type": "stream",
     "text": [
      " Saved translated file: dbc9c90e-a3e6-4d71-bb93-5fb8394095ac_0.csv\n",
      "\n",
      "Processing file 396 of 490: dd5b6a38-dc17-4122-a242-32006b381b3a.csv\n"
     ]
    },
    {
     "name": "stderr",
     "output_type": "stream",
     "text": [
      "Translating OCR Files:  81%|████████  | 396/490 [3:25:01<38:47, 24.76s/file]"
     ]
    },
    {
     "name": "stdout",
     "output_type": "stream",
     "text": [
      " Saved translated file: dd5b6a38-dc17-4122-a242-32006b381b3a.csv\n",
      "\n",
      "Processing file 397 of 490: de359f8d-0745-4a93-959a-d1a6c361e326.csv\n"
     ]
    },
    {
     "name": "stderr",
     "output_type": "stream",
     "text": [
      "Translating OCR Files:  81%|████████  | 397/490 [3:25:13<32:40, 21.08s/file]"
     ]
    },
    {
     "name": "stdout",
     "output_type": "stream",
     "text": [
      " Saved translated file: de359f8d-0745-4a93-959a-d1a6c361e326.csv\n",
      "\n",
      "Processing file 398 of 490: e07a9457-86f1-4f0f-86d7-8ea816b8d8d3.csv\n"
     ]
    },
    {
     "name": "stderr",
     "output_type": "stream",
     "text": [
      "Translating OCR Files:  81%|████████  | 398/490 [3:25:23<26:53, 17.53s/file]"
     ]
    },
    {
     "name": "stdout",
     "output_type": "stream",
     "text": [
      " Saved translated file: e07a9457-86f1-4f0f-86d7-8ea816b8d8d3.csv\n",
      "\n",
      "Processing file 399 of 490: e182d867-dc18-43fd-a418-26dcf784242f_1_0.csv\n"
     ]
    },
    {
     "name": "stderr",
     "output_type": "stream",
     "text": [
      "Translating OCR Files:  81%|████████▏ | 399/490 [3:26:38<52:40, 34.73s/file]"
     ]
    },
    {
     "name": "stdout",
     "output_type": "stream",
     "text": [
      " Saved translated file: e182d867-dc18-43fd-a418-26dcf784242f_1_0.csv\n",
      "\n",
      "Processing file 400 of 490: e182d867-dc18-43fd-a418-26dcf784242f_1_1.csv\n"
     ]
    },
    {
     "name": "stderr",
     "output_type": "stream",
     "text": [
      "Translating OCR Files:  82%|████████▏ | 400/490 [3:27:39<1:04:10, 42.78s/file]"
     ]
    },
    {
     "name": "stdout",
     "output_type": "stream",
     "text": [
      " Saved translated file: e182d867-dc18-43fd-a418-26dcf784242f_1_1.csv\n",
      "\n",
      "Processing file 401 of 490: e182d867-dc18-43fd-a418-26dcf784242f_1_2.csv\n"
     ]
    },
    {
     "name": "stderr",
     "output_type": "stream",
     "text": [
      "Translating OCR Files:  82%|████████▏ | 401/490 [3:29:09<1:24:31, 56.98s/file]"
     ]
    },
    {
     "name": "stdout",
     "output_type": "stream",
     "text": [
      "Ollama error: HTTPConnectionPool(host='localhost', port=11434): Read timed out. (read timeout=90)\n",
      " Saved translated file: e182d867-dc18-43fd-a418-26dcf784242f_1_2.csv\n",
      "\n",
      "Processing file 402 of 490: e182d867-dc18-43fd-a418-26dcf784242f_1_3.csv\n"
     ]
    },
    {
     "name": "stderr",
     "output_type": "stream",
     "text": [
      "Translating OCR Files:  82%|████████▏ | 402/490 [3:30:29<1:33:28, 63.74s/file]"
     ]
    },
    {
     "name": "stdout",
     "output_type": "stream",
     "text": [
      " Saved translated file: e182d867-dc18-43fd-a418-26dcf784242f_1_3.csv\n",
      "\n",
      "Processing file 403 of 490: e182d867-dc18-43fd-a418-26dcf784242f_1_4.csv\n"
     ]
    },
    {
     "name": "stderr",
     "output_type": "stream",
     "text": [
      "Translating OCR Files:  82%|████████▏ | 403/490 [3:31:59<1:43:53, 71.65s/file]"
     ]
    },
    {
     "name": "stdout",
     "output_type": "stream",
     "text": [
      "Ollama error: HTTPConnectionPool(host='localhost', port=11434): Read timed out. (read timeout=90)\n",
      " Saved translated file: e182d867-dc18-43fd-a418-26dcf784242f_1_4.csv\n",
      "\n",
      "Processing file 404 of 490: e182d867-dc18-43fd-a418-26dcf784242f_2_0.csv\n"
     ]
    },
    {
     "name": "stderr",
     "output_type": "stream",
     "text": [
      "Translating OCR Files:  82%|████████▏ | 404/490 [3:33:29<1:50:38, 77.20s/file]"
     ]
    },
    {
     "name": "stdout",
     "output_type": "stream",
     "text": [
      "Ollama error: HTTPConnectionPool(host='localhost', port=11434): Read timed out. (read timeout=90)\n",
      " Saved translated file: e182d867-dc18-43fd-a418-26dcf784242f_2_0.csv\n",
      "\n",
      "Processing file 405 of 490: e182d867-dc18-43fd-a418-26dcf784242f_2_1.csv\n"
     ]
    },
    {
     "name": "stderr",
     "output_type": "stream",
     "text": [
      "Translating OCR Files:  83%|████████▎ | 405/490 [3:34:59<1:54:51, 81.08s/file]"
     ]
    },
    {
     "name": "stdout",
     "output_type": "stream",
     "text": [
      "Ollama error: HTTPConnectionPool(host='localhost', port=11434): Read timed out. (read timeout=90)\n",
      " Saved translated file: e182d867-dc18-43fd-a418-26dcf784242f_2_1.csv\n",
      "\n",
      "Processing file 406 of 490: e182d867-dc18-43fd-a418-26dcf784242f_2_2.csv\n"
     ]
    },
    {
     "name": "stderr",
     "output_type": "stream",
     "text": [
      "Translating OCR Files:  83%|████████▎ | 406/490 [3:36:29<1:57:18, 83.79s/file]"
     ]
    },
    {
     "name": "stdout",
     "output_type": "stream",
     "text": [
      "Ollama error: HTTPConnectionPool(host='localhost', port=11434): Read timed out. (read timeout=90)\n",
      " Saved translated file: e182d867-dc18-43fd-a418-26dcf784242f_2_2.csv\n",
      "\n",
      "Processing file 407 of 490: e182d867-dc18-43fd-a418-26dcf784242f_2_3.csv\n"
     ]
    },
    {
     "name": "stderr",
     "output_type": "stream",
     "text": [
      "Translating OCR Files:  83%|████████▎ | 407/490 [3:36:31<1:22:00, 59.29s/file]"
     ]
    },
    {
     "name": "stdout",
     "output_type": "stream",
     "text": [
      " Saved translated file: e182d867-dc18-43fd-a418-26dcf784242f_2_3.csv\n",
      "\n",
      "Processing file 408 of 490: e182d867-dc18-43fd-a418-26dcf784242f_3_0.csv\n"
     ]
    },
    {
     "name": "stderr",
     "output_type": "stream",
     "text": [
      "Translating OCR Files:  83%|████████▎ | 408/490 [3:37:26<1:19:05, 57.87s/file]"
     ]
    },
    {
     "name": "stdout",
     "output_type": "stream",
     "text": [
      " Saved translated file: e182d867-dc18-43fd-a418-26dcf784242f_3_0.csv\n",
      "\n",
      "Processing file 409 of 490: e705d192-90ee-4fd1-9dcd-061958d1817f.csv\n"
     ]
    },
    {
     "name": "stderr",
     "output_type": "stream",
     "text": [
      "Translating OCR Files:  83%|████████▎ | 409/490 [3:37:29<55:46, 41.32s/file]  "
     ]
    },
    {
     "name": "stdout",
     "output_type": "stream",
     "text": [
      " Saved translated file: e705d192-90ee-4fd1-9dcd-061958d1817f.csv\n",
      "\n",
      "Processing file 410 of 490: eda5b003-9250-4913-b724-74cca86240af_0.csv\n"
     ]
    },
    {
     "name": "stderr",
     "output_type": "stream",
     "text": [
      "Translating OCR Files:  84%|████████▎ | 410/490 [3:37:36<41:36, 31.21s/file]"
     ]
    },
    {
     "name": "stdout",
     "output_type": "stream",
     "text": [
      " Saved translated file: eda5b003-9250-4913-b724-74cca86240af_0.csv\n",
      "\n",
      "Processing file 411 of 490: eda5b003-9250-4913-b724-74cca86240af_1.csv\n"
     ]
    },
    {
     "name": "stderr",
     "output_type": "stream",
     "text": [
      "Translating OCR Files:  84%|████████▍ | 411/490 [3:37:39<29:54, 22.72s/file]"
     ]
    },
    {
     "name": "stdout",
     "output_type": "stream",
     "text": [
      " Saved translated file: eda5b003-9250-4913-b724-74cca86240af_1.csv\n",
      "\n",
      "Processing file 412 of 490: eda5b003-9250-4913-b724-74cca86240af_10.csv\n"
     ]
    },
    {
     "name": "stderr",
     "output_type": "stream",
     "text": [
      "Translating OCR Files:  84%|████████▍ | 412/490 [3:38:26<38:46, 29.83s/file]"
     ]
    },
    {
     "name": "stdout",
     "output_type": "stream",
     "text": [
      " Saved translated file: eda5b003-9250-4913-b724-74cca86240af_10.csv\n",
      "\n",
      "Processing file 413 of 490: eda5b003-9250-4913-b724-74cca86240af_11.csv\n"
     ]
    },
    {
     "name": "stderr",
     "output_type": "stream",
     "text": [
      "Translating OCR Files:  84%|████████▍ | 413/490 [3:39:04<41:31, 32.35s/file]"
     ]
    },
    {
     "name": "stdout",
     "output_type": "stream",
     "text": [
      " Saved translated file: eda5b003-9250-4913-b724-74cca86240af_11.csv\n",
      "\n",
      "Processing file 414 of 490: eda5b003-9250-4913-b724-74cca86240af_12.csv\n"
     ]
    },
    {
     "name": "stderr",
     "output_type": "stream",
     "text": [
      "Translating OCR Files:  84%|████████▍ | 414/490 [3:40:27<1:00:13, 47.54s/file]"
     ]
    },
    {
     "name": "stdout",
     "output_type": "stream",
     "text": [
      " Saved translated file: eda5b003-9250-4913-b724-74cca86240af_12.csv\n",
      "\n",
      "Processing file 415 of 490: eda5b003-9250-4913-b724-74cca86240af_13.csv\n"
     ]
    },
    {
     "name": "stderr",
     "output_type": "stream",
     "text": [
      "Translating OCR Files:  85%|████████▍ | 415/490 [3:41:57<1:15:24, 60.32s/file]"
     ]
    },
    {
     "name": "stdout",
     "output_type": "stream",
     "text": [
      "Ollama error: HTTPConnectionPool(host='localhost', port=11434): Read timed out. (read timeout=90)\n",
      " Saved translated file: eda5b003-9250-4913-b724-74cca86240af_13.csv\n",
      "\n",
      "Processing file 416 of 490: eda5b003-9250-4913-b724-74cca86240af_14.csv\n"
     ]
    },
    {
     "name": "stderr",
     "output_type": "stream",
     "text": [
      "Translating OCR Files:  85%|████████▍ | 416/490 [3:42:41<1:08:13, 55.32s/file]"
     ]
    },
    {
     "name": "stdout",
     "output_type": "stream",
     "text": [
      " Saved translated file: eda5b003-9250-4913-b724-74cca86240af_14.csv\n",
      "\n",
      "Processing file 417 of 490: eda5b003-9250-4913-b724-74cca86240af_2.csv\n"
     ]
    },
    {
     "name": "stderr",
     "output_type": "stream",
     "text": [
      "Translating OCR Files:  85%|████████▌ | 417/490 [3:43:20<1:01:33, 50.60s/file]"
     ]
    },
    {
     "name": "stdout",
     "output_type": "stream",
     "text": [
      " Saved translated file: eda5b003-9250-4913-b724-74cca86240af_2.csv\n",
      "\n",
      "Processing file 418 of 490: eda5b003-9250-4913-b724-74cca86240af_3.csv\n"
     ]
    },
    {
     "name": "stderr",
     "output_type": "stream",
     "text": [
      "Translating OCR Files:  85%|████████▌ | 418/490 [3:44:14<1:01:42, 51.42s/file]"
     ]
    },
    {
     "name": "stdout",
     "output_type": "stream",
     "text": [
      " Saved translated file: eda5b003-9250-4913-b724-74cca86240af_3.csv\n",
      "\n",
      "Processing file 419 of 490: eda5b003-9250-4913-b724-74cca86240af_4.csv\n"
     ]
    },
    {
     "name": "stderr",
     "output_type": "stream",
     "text": [
      "Translating OCR Files:  86%|████████▌ | 419/490 [3:45:09<1:02:20, 52.68s/file]"
     ]
    },
    {
     "name": "stdout",
     "output_type": "stream",
     "text": [
      " Saved translated file: eda5b003-9250-4913-b724-74cca86240af_4.csv\n",
      "\n",
      "Processing file 420 of 490: eda5b003-9250-4913-b724-74cca86240af_5.csv\n"
     ]
    },
    {
     "name": "stderr",
     "output_type": "stream",
     "text": [
      "Translating OCR Files:  86%|████████▌ | 420/490 [3:45:42<54:30, 46.73s/file]  "
     ]
    },
    {
     "name": "stdout",
     "output_type": "stream",
     "text": [
      " Saved translated file: eda5b003-9250-4913-b724-74cca86240af_5.csv\n",
      "\n",
      "Processing file 421 of 490: eda5b003-9250-4913-b724-74cca86240af_6.csv\n"
     ]
    },
    {
     "name": "stderr",
     "output_type": "stream",
     "text": [
      "Translating OCR Files:  86%|████████▌ | 421/490 [3:46:21<51:12, 44.53s/file]"
     ]
    },
    {
     "name": "stdout",
     "output_type": "stream",
     "text": [
      " Saved translated file: eda5b003-9250-4913-b724-74cca86240af_6.csv\n",
      "\n",
      "Processing file 422 of 490: eda5b003-9250-4913-b724-74cca86240af_7.csv\n"
     ]
    },
    {
     "name": "stderr",
     "output_type": "stream",
     "text": [
      "Translating OCR Files:  86%|████████▌ | 422/490 [3:47:01<48:57, 43.19s/file]"
     ]
    },
    {
     "name": "stdout",
     "output_type": "stream",
     "text": [
      " Saved translated file: eda5b003-9250-4913-b724-74cca86240af_7.csv\n",
      "\n",
      "Processing file 423 of 490: eda5b003-9250-4913-b724-74cca86240af_8.csv\n"
     ]
    },
    {
     "name": "stderr",
     "output_type": "stream",
     "text": [
      "Translating OCR Files:  86%|████████▋ | 423/490 [3:47:36<45:15, 40.53s/file]"
     ]
    },
    {
     "name": "stdout",
     "output_type": "stream",
     "text": [
      " Saved translated file: eda5b003-9250-4913-b724-74cca86240af_8.csv\n",
      "\n",
      "Processing file 424 of 490: eda5b003-9250-4913-b724-74cca86240af_9.csv\n"
     ]
    },
    {
     "name": "stderr",
     "output_type": "stream",
     "text": [
      "Translating OCR Files:  87%|████████▋ | 424/490 [3:48:41<52:34, 47.80s/file]"
     ]
    },
    {
     "name": "stdout",
     "output_type": "stream",
     "text": [
      " Saved translated file: eda5b003-9250-4913-b724-74cca86240af_9.csv\n",
      "\n",
      "Processing file 425 of 490: ee47dfea-2626-4107-8ab3-4663167e0493.csv\n"
     ]
    },
    {
     "name": "stderr",
     "output_type": "stream",
     "text": [
      "Translating OCR Files:  87%|████████▋ | 425/490 [3:49:21<49:19, 45.52s/file]"
     ]
    },
    {
     "name": "stdout",
     "output_type": "stream",
     "text": [
      " Saved translated file: ee47dfea-2626-4107-8ab3-4663167e0493.csv\n",
      "\n",
      "Processing file 426 of 490: f0ce8a7b-909d-4fc5-ba13-ea66b2dc6448.csv\n"
     ]
    },
    {
     "name": "stderr",
     "output_type": "stream",
     "text": [
      "Translating OCR Files:  87%|████████▋ | 426/490 [3:49:23<34:47, 32.62s/file]"
     ]
    },
    {
     "name": "stdout",
     "output_type": "stream",
     "text": [
      " Saved translated file: f0ce8a7b-909d-4fc5-ba13-ea66b2dc6448.csv\n",
      "\n",
      "Processing file 427 of 490: f179eb06-0c53-44df-a13f-570be23355bb_0.csv\n"
     ]
    },
    {
     "name": "stderr",
     "output_type": "stream",
     "text": [
      "Translating OCR Files:  87%|████████▋ | 427/490 [3:49:28<25:28, 24.26s/file]"
     ]
    },
    {
     "name": "stdout",
     "output_type": "stream",
     "text": [
      " Saved translated file: f179eb06-0c53-44df-a13f-570be23355bb_0.csv\n",
      "\n",
      "Processing file 428 of 490: f179eb06-0c53-44df-a13f-570be23355bb_1.csv\n"
     ]
    },
    {
     "name": "stderr",
     "output_type": "stream",
     "text": [
      "Translating OCR Files:  87%|████████▋ | 428/490 [3:49:29<17:59, 17.42s/file]"
     ]
    },
    {
     "name": "stdout",
     "output_type": "stream",
     "text": [
      " Saved translated file: f179eb06-0c53-44df-a13f-570be23355bb_1.csv\n",
      "\n",
      "Processing file 429 of 490: f179eb06-0c53-44df-a13f-570be23355bb_10.csv\n"
     ]
    },
    {
     "name": "stderr",
     "output_type": "stream",
     "text": [
      "Translating OCR Files:  88%|████████▊ | 429/490 [3:49:56<20:32, 20.21s/file]"
     ]
    },
    {
     "name": "stdout",
     "output_type": "stream",
     "text": [
      " Saved translated file: f179eb06-0c53-44df-a13f-570be23355bb_10.csv\n",
      "\n",
      "Processing file 430 of 490: f179eb06-0c53-44df-a13f-570be23355bb_11.csv\n"
     ]
    },
    {
     "name": "stderr",
     "output_type": "stream",
     "text": [
      "Translating OCR Files:  88%|████████▊ | 430/490 [3:50:27<23:14, 23.25s/file]"
     ]
    },
    {
     "name": "stdout",
     "output_type": "stream",
     "text": [
      " Saved translated file: f179eb06-0c53-44df-a13f-570be23355bb_11.csv\n",
      "\n",
      "Processing file 431 of 490: f179eb06-0c53-44df-a13f-570be23355bb_12.csv\n"
     ]
    },
    {
     "name": "stderr",
     "output_type": "stream",
     "text": [
      "Translating OCR Files:  88%|████████▊ | 431/490 [3:51:01<26:11, 26.64s/file]"
     ]
    },
    {
     "name": "stdout",
     "output_type": "stream",
     "text": [
      " Saved translated file: f179eb06-0c53-44df-a13f-570be23355bb_12.csv\n",
      "\n",
      "Processing file 432 of 490: f179eb06-0c53-44df-a13f-570be23355bb_13.csv\n"
     ]
    },
    {
     "name": "stderr",
     "output_type": "stream",
     "text": [
      "Translating OCR Files:  88%|████████▊ | 432/490 [3:51:22<24:04, 24.90s/file]"
     ]
    },
    {
     "name": "stdout",
     "output_type": "stream",
     "text": [
      " Saved translated file: f179eb06-0c53-44df-a13f-570be23355bb_13.csv\n",
      "\n",
      "Processing file 433 of 490: f179eb06-0c53-44df-a13f-570be23355bb_14.csv\n"
     ]
    },
    {
     "name": "stderr",
     "output_type": "stream",
     "text": [
      "Translating OCR Files:  88%|████████▊ | 433/490 [3:51:43<22:40, 23.87s/file]"
     ]
    },
    {
     "name": "stdout",
     "output_type": "stream",
     "text": [
      " Saved translated file: f179eb06-0c53-44df-a13f-570be23355bb_14.csv\n",
      "\n",
      "Processing file 434 of 490: f179eb06-0c53-44df-a13f-570be23355bb_15.csv\n"
     ]
    },
    {
     "name": "stderr",
     "output_type": "stream",
     "text": [
      "Translating OCR Files:  89%|████████▊ | 434/490 [3:52:33<29:21, 31.45s/file]"
     ]
    },
    {
     "name": "stdout",
     "output_type": "stream",
     "text": [
      " Saved translated file: f179eb06-0c53-44df-a13f-570be23355bb_15.csv\n",
      "\n",
      "Processing file 435 of 490: f179eb06-0c53-44df-a13f-570be23355bb_16.csv\n"
     ]
    },
    {
     "name": "stderr",
     "output_type": "stream",
     "text": [
      "Translating OCR Files:  89%|████████▉ | 435/490 [3:52:56<26:45, 29.19s/file]"
     ]
    },
    {
     "name": "stdout",
     "output_type": "stream",
     "text": [
      " Saved translated file: f179eb06-0c53-44df-a13f-570be23355bb_16.csv\n",
      "\n",
      "Processing file 436 of 490: f179eb06-0c53-44df-a13f-570be23355bb_17.csv\n"
     ]
    },
    {
     "name": "stderr",
     "output_type": "stream",
     "text": [
      "Translating OCR Files:  89%|████████▉ | 436/490 [3:53:24<25:56, 28.83s/file]"
     ]
    },
    {
     "name": "stdout",
     "output_type": "stream",
     "text": [
      " Saved translated file: f179eb06-0c53-44df-a13f-570be23355bb_17.csv\n",
      "\n",
      "Processing file 437 of 490: f179eb06-0c53-44df-a13f-570be23355bb_18.csv\n"
     ]
    },
    {
     "name": "stderr",
     "output_type": "stream",
     "text": [
      "Translating OCR Files:  89%|████████▉ | 437/490 [3:54:00<27:09, 30.74s/file]"
     ]
    },
    {
     "name": "stdout",
     "output_type": "stream",
     "text": [
      " Saved translated file: f179eb06-0c53-44df-a13f-570be23355bb_18.csv\n",
      "\n",
      "Processing file 438 of 490: f179eb06-0c53-44df-a13f-570be23355bb_19.csv\n"
     ]
    },
    {
     "name": "stderr",
     "output_type": "stream",
     "text": [
      "Translating OCR Files:  89%|████████▉ | 438/490 [3:55:30<42:05, 48.56s/file]"
     ]
    },
    {
     "name": "stdout",
     "output_type": "stream",
     "text": [
      "Ollama error: HTTPConnectionPool(host='localhost', port=11434): Read timed out. (read timeout=90)\n",
      " Saved translated file: f179eb06-0c53-44df-a13f-570be23355bb_19.csv\n",
      "\n",
      "Processing file 439 of 490: f179eb06-0c53-44df-a13f-570be23355bb_2.csv\n"
     ]
    },
    {
     "name": "stderr",
     "output_type": "stream",
     "text": [
      "Translating OCR Files:  90%|████████▉ | 439/490 [3:55:50<34:07, 40.15s/file]"
     ]
    },
    {
     "name": "stdout",
     "output_type": "stream",
     "text": [
      " Saved translated file: f179eb06-0c53-44df-a13f-570be23355bb_2.csv\n",
      "\n",
      "Processing file 440 of 490: f179eb06-0c53-44df-a13f-570be23355bb_20.csv\n"
     ]
    },
    {
     "name": "stderr",
     "output_type": "stream",
     "text": [
      "Translating OCR Files:  90%|████████▉ | 440/490 [3:56:25<32:04, 38.49s/file]"
     ]
    },
    {
     "name": "stdout",
     "output_type": "stream",
     "text": [
      " Saved translated file: f179eb06-0c53-44df-a13f-570be23355bb_20.csv\n",
      "\n",
      "Processing file 441 of 490: f179eb06-0c53-44df-a13f-570be23355bb_3.csv\n"
     ]
    },
    {
     "name": "stderr",
     "output_type": "stream",
     "text": [
      "Translating OCR Files:  90%|█████████ | 441/490 [3:56:33<24:03, 29.46s/file]"
     ]
    },
    {
     "name": "stdout",
     "output_type": "stream",
     "text": [
      " Saved translated file: f179eb06-0c53-44df-a13f-570be23355bb_3.csv\n",
      "\n",
      "Processing file 442 of 490: f179eb06-0c53-44df-a13f-570be23355bb_4.csv\n"
     ]
    },
    {
     "name": "stderr",
     "output_type": "stream",
     "text": [
      "Translating OCR Files:  90%|█████████ | 442/490 [3:58:03<38:08, 47.67s/file]"
     ]
    },
    {
     "name": "stdout",
     "output_type": "stream",
     "text": [
      "Ollama error: HTTPConnectionPool(host='localhost', port=11434): Read timed out. (read timeout=90)\n",
      " Saved translated file: f179eb06-0c53-44df-a13f-570be23355bb_4.csv\n",
      "\n",
      "Processing file 443 of 490: f179eb06-0c53-44df-a13f-570be23355bb_5.csv\n"
     ]
    },
    {
     "name": "stderr",
     "output_type": "stream",
     "text": [
      "Translating OCR Files:  90%|█████████ | 443/490 [3:59:05<40:32, 51.76s/file]"
     ]
    },
    {
     "name": "stdout",
     "output_type": "stream",
     "text": [
      " Saved translated file: f179eb06-0c53-44df-a13f-570be23355bb_5.csv\n",
      "\n",
      "Processing file 444 of 490: f179eb06-0c53-44df-a13f-570be23355bb_6.csv\n"
     ]
    },
    {
     "name": "stderr",
     "output_type": "stream",
     "text": [
      "Translating OCR Files:  91%|█████████ | 444/490 [3:59:53<38:47, 50.59s/file]"
     ]
    },
    {
     "name": "stdout",
     "output_type": "stream",
     "text": [
      " Saved translated file: f179eb06-0c53-44df-a13f-570be23355bb_6.csv\n",
      "\n",
      "Processing file 445 of 490: f179eb06-0c53-44df-a13f-570be23355bb_7.csv\n"
     ]
    },
    {
     "name": "stderr",
     "output_type": "stream",
     "text": [
      "Translating OCR Files:  91%|█████████ | 445/490 [4:00:33<35:42, 47.62s/file]"
     ]
    },
    {
     "name": "stdout",
     "output_type": "stream",
     "text": [
      " Saved translated file: f179eb06-0c53-44df-a13f-570be23355bb_7.csv\n",
      "\n",
      "Processing file 446 of 490: f179eb06-0c53-44df-a13f-570be23355bb_8.csv\n"
     ]
    },
    {
     "name": "stderr",
     "output_type": "stream",
     "text": [
      "Translating OCR Files:  91%|█████████ | 446/490 [4:01:11<32:47, 44.71s/file]"
     ]
    },
    {
     "name": "stdout",
     "output_type": "stream",
     "text": [
      " Saved translated file: f179eb06-0c53-44df-a13f-570be23355bb_8.csv\n",
      "\n",
      "Processing file 447 of 490: f179eb06-0c53-44df-a13f-570be23355bb_9.csv\n"
     ]
    },
    {
     "name": "stderr",
     "output_type": "stream",
     "text": [
      "Translating OCR Files:  91%|█████████ | 447/490 [4:01:30<26:34, 37.08s/file]"
     ]
    },
    {
     "name": "stdout",
     "output_type": "stream",
     "text": [
      " Saved translated file: f179eb06-0c53-44df-a13f-570be23355bb_9.csv\n",
      "\n",
      "Processing file 448 of 490: f313f521-80a1-4db5-a8a7-53d29ee09890.csv\n"
     ]
    },
    {
     "name": "stderr",
     "output_type": "stream",
     "text": [
      "Translating OCR Files:  91%|█████████▏| 448/490 [4:01:57<23:48, 34.02s/file]"
     ]
    },
    {
     "name": "stdout",
     "output_type": "stream",
     "text": [
      " Saved translated file: f313f521-80a1-4db5-a8a7-53d29ee09890.csv\n",
      "\n",
      "Processing file 449 of 490: f41b7574-57b4-4c9f-907c-2a3c48a56157.csv\n"
     ]
    },
    {
     "name": "stderr",
     "output_type": "stream",
     "text": [
      "Translating OCR Files:  92%|█████████▏| 449/490 [4:02:18<20:30, 30.01s/file]"
     ]
    },
    {
     "name": "stdout",
     "output_type": "stream",
     "text": [
      " Saved translated file: f41b7574-57b4-4c9f-907c-2a3c48a56157.csv\n",
      "\n",
      "Processing file 450 of 490: f7205881-3904-42ec-ab2c-04f36fa24785_0.csv\n"
     ]
    },
    {
     "name": "stderr",
     "output_type": "stream",
     "text": [
      "Translating OCR Files:  92%|█████████▏| 450/490 [4:02:23<14:55, 22.38s/file]"
     ]
    },
    {
     "name": "stdout",
     "output_type": "stream",
     "text": [
      " Saved translated file: f7205881-3904-42ec-ab2c-04f36fa24785_0.csv\n",
      "\n",
      "Processing file 451 of 490: f7205881-3904-42ec-ab2c-04f36fa24785_1.csv\n"
     ]
    },
    {
     "name": "stderr",
     "output_type": "stream",
     "text": [
      "Translating OCR Files:  92%|█████████▏| 451/490 [4:02:35<12:31, 19.28s/file]"
     ]
    },
    {
     "name": "stdout",
     "output_type": "stream",
     "text": [
      " Saved translated file: f7205881-3904-42ec-ab2c-04f36fa24785_1.csv\n",
      "\n",
      "Processing file 452 of 490: f7205881-3904-42ec-ab2c-04f36fa24785_10.csv\n"
     ]
    },
    {
     "name": "stderr",
     "output_type": "stream",
     "text": [
      "Translating OCR Files:  92%|█████████▏| 452/490 [4:02:47<10:58, 17.33s/file]"
     ]
    },
    {
     "name": "stdout",
     "output_type": "stream",
     "text": [
      " Saved translated file: f7205881-3904-42ec-ab2c-04f36fa24785_10.csv\n",
      "\n",
      "Processing file 453 of 490: f7205881-3904-42ec-ab2c-04f36fa24785_11.csv\n"
     ]
    },
    {
     "name": "stderr",
     "output_type": "stream",
     "text": [
      "Translating OCR Files:  92%|█████████▏| 453/490 [4:03:08<11:19, 18.37s/file]"
     ]
    },
    {
     "name": "stdout",
     "output_type": "stream",
     "text": [
      " Saved translated file: f7205881-3904-42ec-ab2c-04f36fa24785_11.csv\n",
      "\n",
      "Processing file 454 of 490: f7205881-3904-42ec-ab2c-04f36fa24785_12.csv\n"
     ]
    },
    {
     "name": "stderr",
     "output_type": "stream",
     "text": [
      "Translating OCR Files:  93%|█████████▎| 454/490 [4:03:55<16:11, 27.00s/file]"
     ]
    },
    {
     "name": "stdout",
     "output_type": "stream",
     "text": [
      " Saved translated file: f7205881-3904-42ec-ab2c-04f36fa24785_12.csv\n",
      "\n",
      "Processing file 455 of 490: f7205881-3904-42ec-ab2c-04f36fa24785_13.csv\n"
     ]
    },
    {
     "name": "stderr",
     "output_type": "stream",
     "text": [
      "Translating OCR Files:  93%|█████████▎| 455/490 [4:04:27<16:38, 28.54s/file]"
     ]
    },
    {
     "name": "stdout",
     "output_type": "stream",
     "text": [
      " Saved translated file: f7205881-3904-42ec-ab2c-04f36fa24785_13.csv\n",
      "\n",
      "Processing file 456 of 490: f7205881-3904-42ec-ab2c-04f36fa24785_14.csv\n"
     ]
    },
    {
     "name": "stderr",
     "output_type": "stream",
     "text": [
      "Translating OCR Files:  93%|█████████▎| 456/490 [4:04:30<11:43, 20.69s/file]"
     ]
    },
    {
     "name": "stdout",
     "output_type": "stream",
     "text": [
      " Saved translated file: f7205881-3904-42ec-ab2c-04f36fa24785_14.csv\n",
      "\n",
      "Processing file 457 of 490: f7205881-3904-42ec-ab2c-04f36fa24785_15.csv\n"
     ]
    },
    {
     "name": "stderr",
     "output_type": "stream",
     "text": [
      "Translating OCR Files:  93%|█████████▎| 457/490 [4:05:22<16:29, 29.98s/file]"
     ]
    },
    {
     "name": "stdout",
     "output_type": "stream",
     "text": [
      " Saved translated file: f7205881-3904-42ec-ab2c-04f36fa24785_15.csv\n",
      "\n",
      "Processing file 458 of 490: f7205881-3904-42ec-ab2c-04f36fa24785_16.csv\n"
     ]
    },
    {
     "name": "stderr",
     "output_type": "stream",
     "text": [
      "Translating OCR Files:  93%|█████████▎| 458/490 [4:05:25<11:41, 21.92s/file]"
     ]
    },
    {
     "name": "stdout",
     "output_type": "stream",
     "text": [
      " Saved translated file: f7205881-3904-42ec-ab2c-04f36fa24785_16.csv\n",
      "\n",
      "Processing file 459 of 490: f7205881-3904-42ec-ab2c-04f36fa24785_17.csv\n"
     ]
    },
    {
     "name": "stderr",
     "output_type": "stream",
     "text": [
      "Translating OCR Files:  94%|█████████▎| 459/490 [4:05:57<12:56, 25.06s/file]"
     ]
    },
    {
     "name": "stdout",
     "output_type": "stream",
     "text": [
      " Saved translated file: f7205881-3904-42ec-ab2c-04f36fa24785_17.csv\n",
      "\n",
      "Processing file 460 of 490: f7205881-3904-42ec-ab2c-04f36fa24785_2.csv\n"
     ]
    },
    {
     "name": "stderr",
     "output_type": "stream",
     "text": [
      "Translating OCR Files:  94%|█████████▍| 460/490 [4:06:11<10:50, 21.69s/file]"
     ]
    },
    {
     "name": "stdout",
     "output_type": "stream",
     "text": [
      " Saved translated file: f7205881-3904-42ec-ab2c-04f36fa24785_2.csv\n",
      "\n",
      "Processing file 461 of 490: f7205881-3904-42ec-ab2c-04f36fa24785_3.csv\n"
     ]
    },
    {
     "name": "stderr",
     "output_type": "stream",
     "text": [
      "Translating OCR Files:  94%|█████████▍| 461/490 [4:07:41<20:24, 42.24s/file]"
     ]
    },
    {
     "name": "stdout",
     "output_type": "stream",
     "text": [
      "Ollama error: HTTPConnectionPool(host='localhost', port=11434): Read timed out. (read timeout=90)\n",
      " Saved translated file: f7205881-3904-42ec-ab2c-04f36fa24785_3.csv\n",
      "\n",
      "Processing file 462 of 490: f7205881-3904-42ec-ab2c-04f36fa24785_4.csv\n"
     ]
    },
    {
     "name": "stderr",
     "output_type": "stream",
     "text": [
      "Translating OCR Files:  94%|█████████▍| 462/490 [4:09:11<26:25, 56.61s/file]"
     ]
    },
    {
     "name": "stdout",
     "output_type": "stream",
     "text": [
      "Ollama error: HTTPConnectionPool(host='localhost', port=11434): Read timed out. (read timeout=90)\n",
      " Saved translated file: f7205881-3904-42ec-ab2c-04f36fa24785_4.csv\n",
      "\n",
      "Processing file 463 of 490: f7205881-3904-42ec-ab2c-04f36fa24785_5.csv\n"
     ]
    },
    {
     "name": "stderr",
     "output_type": "stream",
     "text": [
      "Translating OCR Files:  94%|█████████▍| 463/490 [4:09:49<22:58, 51.05s/file]"
     ]
    },
    {
     "name": "stdout",
     "output_type": "stream",
     "text": [
      " Saved translated file: f7205881-3904-42ec-ab2c-04f36fa24785_5.csv\n",
      "\n",
      "Processing file 464 of 490: f7205881-3904-42ec-ab2c-04f36fa24785_6.csv\n"
     ]
    },
    {
     "name": "stderr",
     "output_type": "stream",
     "text": [
      "Translating OCR Files:  95%|█████████▍| 464/490 [4:10:22<19:43, 45.52s/file]"
     ]
    },
    {
     "name": "stdout",
     "output_type": "stream",
     "text": [
      " Saved translated file: f7205881-3904-42ec-ab2c-04f36fa24785_6.csv\n",
      "\n",
      "Processing file 465 of 490: f7205881-3904-42ec-ab2c-04f36fa24785_7.csv\n"
     ]
    },
    {
     "name": "stderr",
     "output_type": "stream",
     "text": [
      "Translating OCR Files:  95%|█████████▍| 465/490 [4:11:08<19:01, 45.67s/file]"
     ]
    },
    {
     "name": "stdout",
     "output_type": "stream",
     "text": [
      " Saved translated file: f7205881-3904-42ec-ab2c-04f36fa24785_7.csv\n",
      "\n",
      "Processing file 466 of 490: f7205881-3904-42ec-ab2c-04f36fa24785_8.csv\n"
     ]
    },
    {
     "name": "stderr",
     "output_type": "stream",
     "text": [
      "Translating OCR Files:  95%|█████████▌| 466/490 [4:11:41<16:45, 41.91s/file]"
     ]
    },
    {
     "name": "stdout",
     "output_type": "stream",
     "text": [
      " Saved translated file: f7205881-3904-42ec-ab2c-04f36fa24785_8.csv\n",
      "\n",
      "Processing file 467 of 490: f7205881-3904-42ec-ab2c-04f36fa24785_9.csv\n"
     ]
    },
    {
     "name": "stderr",
     "output_type": "stream",
     "text": [
      "Translating OCR Files:  95%|█████████▌| 467/490 [4:12:07<14:13, 37.12s/file]"
     ]
    },
    {
     "name": "stdout",
     "output_type": "stream",
     "text": [
      " Saved translated file: f7205881-3904-42ec-ab2c-04f36fa24785_9.csv\n",
      "\n",
      "Processing file 468 of 490: fc27ce32-9c96-416c-9c38-84977255e0ba.csv\n"
     ]
    },
    {
     "name": "stderr",
     "output_type": "stream",
     "text": [
      "Translating OCR Files:  96%|█████████▌| 468/490 [4:12:26<11:37, 31.70s/file]"
     ]
    },
    {
     "name": "stdout",
     "output_type": "stream",
     "text": [
      " Saved translated file: fc27ce32-9c96-416c-9c38-84977255e0ba.csv\n",
      "\n",
      "Processing file 469 of 490: fcf90a92-794c-40c6-aa4f-8ea82f8bed51.csv\n"
     ]
    },
    {
     "name": "stderr",
     "output_type": "stream",
     "text": [
      "Translating OCR Files:  96%|█████████▌| 469/490 [4:12:49<10:12, 29.15s/file]"
     ]
    },
    {
     "name": "stdout",
     "output_type": "stream",
     "text": [
      " Saved translated file: fcf90a92-794c-40c6-aa4f-8ea82f8bed51.csv\n",
      "\n",
      "Processing file 470 of 490: fe221e78-67e4-4d88-b73d-e58a9943a036.csv\n"
     ]
    },
    {
     "name": "stderr",
     "output_type": "stream",
     "text": [
      "Translating OCR Files:  96%|█████████▌| 470/490 [4:13:03<08:09, 24.47s/file]"
     ]
    },
    {
     "name": "stdout",
     "output_type": "stream",
     "text": [
      " Saved translated file: fe221e78-67e4-4d88-b73d-e58a9943a036.csv\n",
      "\n",
      "Processing file 471 of 490: fe245192-1f9c-4f28-9b32-046fb7ce7e1e_0.csv\n"
     ]
    },
    {
     "name": "stderr",
     "output_type": "stream",
     "text": [
      "Translating OCR Files:  96%|█████████▌| 471/490 [4:13:09<05:59, 18.92s/file]"
     ]
    },
    {
     "name": "stdout",
     "output_type": "stream",
     "text": [
      " Saved translated file: fe245192-1f9c-4f28-9b32-046fb7ce7e1e_0.csv\n",
      "\n",
      "Processing file 472 of 490: fe245192-1f9c-4f28-9b32-046fb7ce7e1e_1.csv\n"
     ]
    },
    {
     "name": "stderr",
     "output_type": "stream",
     "text": [
      "Translating OCR Files:  96%|█████████▋| 472/490 [4:13:47<07:25, 24.77s/file]"
     ]
    },
    {
     "name": "stdout",
     "output_type": "stream",
     "text": [
      " Saved translated file: fe245192-1f9c-4f28-9b32-046fb7ce7e1e_1.csv\n",
      "\n",
      "Processing file 473 of 490: fe245192-1f9c-4f28-9b32-046fb7ce7e1e_10.csv\n"
     ]
    },
    {
     "name": "stderr",
     "output_type": "stream",
     "text": [
      "Translating OCR Files:  97%|█████████▋| 473/490 [4:14:21<07:46, 27.45s/file]"
     ]
    },
    {
     "name": "stdout",
     "output_type": "stream",
     "text": [
      " Saved translated file: fe245192-1f9c-4f28-9b32-046fb7ce7e1e_10.csv\n",
      "\n",
      "Processing file 474 of 490: fe245192-1f9c-4f28-9b32-046fb7ce7e1e_11.csv\n"
     ]
    },
    {
     "name": "stderr",
     "output_type": "stream",
     "text": [
      "Translating OCR Files:  97%|█████████▋| 474/490 [4:14:41<06:45, 25.33s/file]"
     ]
    },
    {
     "name": "stdout",
     "output_type": "stream",
     "text": [
      " Saved translated file: fe245192-1f9c-4f28-9b32-046fb7ce7e1e_11.csv\n",
      "\n",
      "Processing file 475 of 490: fe245192-1f9c-4f28-9b32-046fb7ce7e1e_12.csv\n"
     ]
    },
    {
     "name": "stderr",
     "output_type": "stream",
     "text": [
      "Translating OCR Files:  97%|█████████▋| 475/490 [4:15:05<06:12, 24.86s/file]"
     ]
    },
    {
     "name": "stdout",
     "output_type": "stream",
     "text": [
      " Saved translated file: fe245192-1f9c-4f28-9b32-046fb7ce7e1e_12.csv\n",
      "\n",
      "Processing file 476 of 490: fe245192-1f9c-4f28-9b32-046fb7ce7e1e_13.csv\n"
     ]
    },
    {
     "name": "stderr",
     "output_type": "stream",
     "text": [
      "Translating OCR Files:  97%|█████████▋| 476/490 [4:15:23<05:18, 22.75s/file]"
     ]
    },
    {
     "name": "stdout",
     "output_type": "stream",
     "text": [
      " Saved translated file: fe245192-1f9c-4f28-9b32-046fb7ce7e1e_13.csv\n",
      "\n",
      "Processing file 477 of 490: fe245192-1f9c-4f28-9b32-046fb7ce7e1e_14.csv\n"
     ]
    },
    {
     "name": "stderr",
     "output_type": "stream",
     "text": [
      "Translating OCR Files:  97%|█████████▋| 477/490 [4:15:56<05:38, 26.02s/file]"
     ]
    },
    {
     "name": "stdout",
     "output_type": "stream",
     "text": [
      " Saved translated file: fe245192-1f9c-4f28-9b32-046fb7ce7e1e_14.csv\n",
      "\n",
      "Processing file 478 of 490: fe245192-1f9c-4f28-9b32-046fb7ce7e1e_15.csv\n"
     ]
    },
    {
     "name": "stderr",
     "output_type": "stream",
     "text": [
      "Translating OCR Files:  98%|█████████▊| 478/490 [4:16:23<05:14, 26.23s/file]"
     ]
    },
    {
     "name": "stdout",
     "output_type": "stream",
     "text": [
      " Saved translated file: fe245192-1f9c-4f28-9b32-046fb7ce7e1e_15.csv\n",
      "\n",
      "Processing file 479 of 490: fe245192-1f9c-4f28-9b32-046fb7ce7e1e_16.csv\n"
     ]
    },
    {
     "name": "stderr",
     "output_type": "stream",
     "text": [
      "Translating OCR Files:  98%|█████████▊| 479/490 [4:17:14<06:10, 33.66s/file]"
     ]
    },
    {
     "name": "stdout",
     "output_type": "stream",
     "text": [
      " Saved translated file: fe245192-1f9c-4f28-9b32-046fb7ce7e1e_16.csv\n",
      "\n",
      "Processing file 480 of 490: fe245192-1f9c-4f28-9b32-046fb7ce7e1e_17.csv\n"
     ]
    },
    {
     "name": "stderr",
     "output_type": "stream",
     "text": [
      "Translating OCR Files:  98%|█████████▊| 480/490 [4:17:34<04:55, 29.55s/file]"
     ]
    },
    {
     "name": "stdout",
     "output_type": "stream",
     "text": [
      " Saved translated file: fe245192-1f9c-4f28-9b32-046fb7ce7e1e_17.csv\n",
      "\n",
      "Processing file 481 of 490: fe245192-1f9c-4f28-9b32-046fb7ce7e1e_18.csv\n"
     ]
    },
    {
     "name": "stderr",
     "output_type": "stream",
     "text": [
      "Translating OCR Files:  98%|█████████▊| 481/490 [4:19:04<07:09, 47.72s/file]"
     ]
    },
    {
     "name": "stdout",
     "output_type": "stream",
     "text": [
      "Ollama error: HTTPConnectionPool(host='localhost', port=11434): Read timed out. (read timeout=90)\n",
      " Saved translated file: fe245192-1f9c-4f28-9b32-046fb7ce7e1e_18.csv\n",
      "\n",
      "Processing file 482 of 490: fe245192-1f9c-4f28-9b32-046fb7ce7e1e_19.csv\n"
     ]
    },
    {
     "name": "stderr",
     "output_type": "stream",
     "text": [
      "Translating OCR Files:  98%|█████████▊| 482/490 [4:19:24<05:14, 39.33s/file]"
     ]
    },
    {
     "name": "stdout",
     "output_type": "stream",
     "text": [
      " Saved translated file: fe245192-1f9c-4f28-9b32-046fb7ce7e1e_19.csv\n",
      "\n",
      "Processing file 483 of 490: fe245192-1f9c-4f28-9b32-046fb7ce7e1e_2.csv\n"
     ]
    },
    {
     "name": "stderr",
     "output_type": "stream",
     "text": [
      "Translating OCR Files:  99%|█████████▊| 483/490 [4:19:58<04:23, 37.59s/file]"
     ]
    },
    {
     "name": "stdout",
     "output_type": "stream",
     "text": [
      " Saved translated file: fe245192-1f9c-4f28-9b32-046fb7ce7e1e_2.csv\n",
      "\n",
      "Processing file 484 of 490: fe245192-1f9c-4f28-9b32-046fb7ce7e1e_3.csv\n"
     ]
    },
    {
     "name": "stderr",
     "output_type": "stream",
     "text": [
      "Translating OCR Files:  99%|█████████▉| 484/490 [4:21:20<05:06, 51.08s/file]"
     ]
    },
    {
     "name": "stdout",
     "output_type": "stream",
     "text": [
      " Saved translated file: fe245192-1f9c-4f28-9b32-046fb7ce7e1e_3.csv\n",
      "\n",
      "Processing file 485 of 490: fe245192-1f9c-4f28-9b32-046fb7ce7e1e_4.csv\n"
     ]
    },
    {
     "name": "stderr",
     "output_type": "stream",
     "text": [
      "Translating OCR Files:  99%|█████████▉| 485/490 [4:22:32<04:46, 57.28s/file]"
     ]
    },
    {
     "name": "stdout",
     "output_type": "stream",
     "text": [
      " Saved translated file: fe245192-1f9c-4f28-9b32-046fb7ce7e1e_4.csv\n",
      "\n",
      "Processing file 486 of 490: fe245192-1f9c-4f28-9b32-046fb7ce7e1e_5.csv\n"
     ]
    },
    {
     "name": "stderr",
     "output_type": "stream",
     "text": [
      "Translating OCR Files:  99%|█████████▉| 486/490 [4:23:11<03:26, 51.70s/file]"
     ]
    },
    {
     "name": "stdout",
     "output_type": "stream",
     "text": [
      " Saved translated file: fe245192-1f9c-4f28-9b32-046fb7ce7e1e_5.csv\n",
      "\n",
      "Processing file 487 of 490: fe245192-1f9c-4f28-9b32-046fb7ce7e1e_6.csv\n"
     ]
    },
    {
     "name": "stderr",
     "output_type": "stream",
     "text": [
      "Translating OCR Files:  99%|█████████▉| 487/490 [4:23:47<02:20, 46.98s/file]"
     ]
    },
    {
     "name": "stdout",
     "output_type": "stream",
     "text": [
      " Saved translated file: fe245192-1f9c-4f28-9b32-046fb7ce7e1e_6.csv\n",
      "\n",
      "Processing file 488 of 490: fe245192-1f9c-4f28-9b32-046fb7ce7e1e_7.csv\n"
     ]
    },
    {
     "name": "stderr",
     "output_type": "stream",
     "text": [
      "Translating OCR Files: 100%|█████████▉| 488/490 [4:24:08<01:18, 39.30s/file]"
     ]
    },
    {
     "name": "stdout",
     "output_type": "stream",
     "text": [
      " Saved translated file: fe245192-1f9c-4f28-9b32-046fb7ce7e1e_7.csv\n",
      "\n",
      "Processing file 489 of 490: fe245192-1f9c-4f28-9b32-046fb7ce7e1e_8.csv\n"
     ]
    },
    {
     "name": "stderr",
     "output_type": "stream",
     "text": [
      "Translating OCR Files: 100%|█████████▉| 489/490 [4:24:45<00:38, 38.50s/file]"
     ]
    },
    {
     "name": "stdout",
     "output_type": "stream",
     "text": [
      " Saved translated file: fe245192-1f9c-4f28-9b32-046fb7ce7e1e_8.csv\n",
      "\n",
      "Processing file 490 of 490: fe245192-1f9c-4f28-9b32-046fb7ce7e1e_9.csv\n"
     ]
    },
    {
     "name": "stderr",
     "output_type": "stream",
     "text": [
      "Translating OCR Files: 100%|██████████| 490/490 [4:25:20<00:00, 32.49s/file]"
     ]
    },
    {
     "name": "stdout",
     "output_type": "stream",
     "text": [
      " Saved translated file: fe245192-1f9c-4f28-9b32-046fb7ce7e1e_9.csv\n"
     ]
    },
    {
     "name": "stderr",
     "output_type": "stream",
     "text": [
      "\n"
     ]
    }
   ],
   "source": [
    "import os\n",
    "import pandas as pd\n",
    "import requests\n",
    "from tqdm import tqdm\n",
    "from concurrent.futures import ThreadPoolExecutor, as_completed\n",
    "\n",
    "ocr_folder_path = 'ocr_to_csv/'\n",
    "\n",
    "def query_ollama(prompt, model=\"gemma3:27b\"):\n",
    "    url = \"http://localhost:11434/api/generate\"\n",
    "    payload = {\n",
    "        \"model\": model,\n",
    "        \"prompt\": prompt,\n",
    "        \"stream\": False\n",
    "    }\n",
    "    try:\n",
    "        response = requests.post(url, json=payload, timeout=90)\n",
    "        response.raise_for_status()\n",
    "        return response.json()[\"response\"].strip()\n",
    "    except Exception as e:\n",
    "        print(f\"Ollama error: {e}\")\n",
    "        return \"[Translation Error]\"\n",
    "\n",
    "def translate_row(index, row_text):\n",
    "    if pd.isna(row_text) or not row_text.strip():\n",
    "        return index, \"\"\n",
    "    prompt = (\n",
    "        \"You are translating Chinese text into fluent English. Translate the following message:\\n\\n\"\n",
    "        f\"{row_text}\\n\\n\"\n",
    "        \"ONLY RETURN the English translation. DO NOT add commentary or extra formatting.\"\n",
    "    )\n",
    "    return index, query_ollama(prompt)\n",
    "\n",
    "ocr_files = sorted([f for f in os.listdir(ocr_folder_path) if f.endswith('.csv')])\n",
    "\n",
    "for file_idx, file in enumerate(tqdm(ocr_files, desc=\"Translating OCR Files\", unit=\"file\")):\n",
    "    print(f\"\\nProcessing file {file_idx + 1} of {len(ocr_files)}: {file}\")\n",
    "    path = os.path.join(ocr_folder_path, file)\n",
    "    df = pd.read_csv(path)\n",
    "\n",
    "    if 'ocr extraction' not in df.columns:\n",
    "        print(f\" Skipping {file} (missing 'ocr extraction' column)\")\n",
    "        continue\n",
    "\n",
    "    df['ocr translation'] = \"\"\n",
    "\n",
    "    futures = []\n",
    "    with ThreadPoolExecutor(max_workers=8) as executor:\n",
    "        for idx, row in df.iterrows():\n",
    "            futures.append(executor.submit(translate_row, idx, row['ocr extraction']))\n",
    "\n",
    "        for future in as_completed(futures):\n",
    "            idx, translated = future.result()\n",
    "            df.at[idx, 'ocr translation'] = translated\n",
    "\n",
    "    df.to_csv(path, index=False)\n",
    "    print(f\" Saved translated file: {file}\")"
   ]
  },
  {
   "cell_type": "markdown",
   "id": "a783c68a-05d2-4e98-8eb4-e640385f7fdb",
   "metadata": {},
   "source": [
    "# **Data has been added from MacOS OCR**"
   ]
  },
  {
   "cell_type": "markdown",
   "id": "50b9f3c9-58ce-48e4-bf46-5a98ba01bd09",
   "metadata": {
    "tags": []
   },
   "source": [
    "# *Changing the files in the chats with the extracted output* "
   ]
  },
  {
   "cell_type": "code",
   "execution_count": null,
   "id": "2e0ebd91-ab30-41e1-aea8-0376b4a4798b",
   "metadata": {},
   "outputs": [],
   "source": [
    "import pandas as pd\n",
    "import os\n",
    "import re\n",
    "import ast"
   ]
  },
  {
   "cell_type": "code",
   "execution_count": 10,
   "id": "f18566b9-bd55-4b7f-81a0-7aff46c84b1a",
   "metadata": {
    "tags": []
   },
   "outputs": [
    {
     "name": "stdout",
     "output_type": "stream",
     "text": [
      "Processing: csvs/28.csv\n",
      "Processing: csvs/5.csv\n",
      "Processing: csvs/38.csv\n",
      "Processing: csvs/18.csv\n",
      "Processing: csvs/1.csv\n",
      "Processing: csvs/19.csv\n",
      "Processing: csvs/29.csv\n",
      "Processing: csvs/4.csv\n",
      "Processing: csvs/39.csv\n",
      "Processing: csvs/16.csv\n",
      "Processing: csvs/22.csv\n",
      "Processing: csvs/32.csv\n",
      "Processing: csvs/26.csv\n",
      "Processing: csvs/12.csv\n",
      "Processing: csvs/36.csv\n",
      "Processing: csvs/27.csv\n",
      "Processing: csvs/13.csv\n",
      "Processing: csvs/37.csv\n",
      "Processing: csvs/17.csv\n",
      "Processing: csvs/23.csv\n",
      "Processing: csvs/33.csv\n",
      "Processing: csvs/24.csv\n",
      "Processing: csvs/41.csv\n",
      "Processing: csvs/10.csv\n",
      "Processing: csvs/9.csv\n",
      "Processing: csvs/34.csv\n",
      "Processing: csvs/14.csv\n",
      "Processing: csvs/20.csv\n",
      "Processing: csvs/30.csv\n",
      "Processing: csvs/15.csv\n",
      "Processing: csvs/21.csv\n",
      "Processing: csvs/31.csv\n",
      "Processing: csvs/40.csv\n",
      "Processing: csvs/11.csv\n",
      "Processing: csvs/35.csv\n",
      "Processing: csvs/3.csv\n",
      "Processing: csvs/7.csv\n",
      "Processing: csvs/6.csv\n",
      "Processing: csvs/2.csv\n"
     ]
    }
   ],
   "source": [
    "mapping_csv_path = 'filtered_ref_summary_csv_replaced.csv'\n",
    "chat_reference_csv_path = 'updated_with_csv_paths.csv'  # The one shown in the screenshot\n",
    "ocr_folder_path = 'ocr_to_csv'\n",
    "\n",
    "# Use the csv file stroing all the paths to filtered chats by the LLM\n",
    "chat_paths_df = pd.read_csv(chat_reference_csv_path)\n",
    "\n",
    "mapping_df = pd.read_csv(mapping_csv_path)\n",
    "\n",
    "# Link md files and the pngs inside based on uuid\n",
    "md_uuid_to_pngs = {}\n",
    "\n",
    "for index, row in mapping_df.iterrows():\n",
    "    mentions2_text = row.get('mentions2', '{}')\n",
    "    try:\n",
    "        mentions2 = ast.literal_eval(mentions2_text)\n",
    "        for md_path, png_list in mentions2.items():\n",
    "            md_uuid = md_path.split('/')[-1].replace('.csv', '')\n",
    "            png_names = [os.path.basename(p) for p in png_list]\n",
    "            md_uuid_to_pngs[md_uuid] = png_names\n",
    "    except:\n",
    "        continue\n",
    "\n",
    "# Function to fetch OCR translation from OCR folder\n",
    "def get_ocr_translation(png_filename):\n",
    "    csv_filename = png_filename.replace('.png', '.csv')\n",
    "    csv_path = os.path.join(ocr_folder_path, csv_filename)\n",
    "\n",
    "    if os.path.exists(csv_path):\n",
    "        try:\n",
    "            df = pd.read_csv(csv_path)\n",
    "            if 'ocr translation' in df.columns:\n",
    "                non_empty_translations = df['ocr translation'].dropna().astype(str)\n",
    "                for text in non_empty_translations:\n",
    "                    if text.strip():\n",
    "                        return text\n",
    "        except Exception as e:\n",
    "            print(f\"Error reading {csv_path}: {e}\")\n",
    "            return ''\n",
    "    return ''\n",
    "\n",
    "# Function to replace .png/.md in message with OCR translation\n",
    "def replace_with_ocr_translation(message):\n",
    "    if not isinstance(message, str):\n",
    "        return message\n",
    "\n",
    "    png_files = re.findall(r'(\\d+-[a-f0-9\\-]+(?:_[0-9]+)?\\.png)', message)\n",
    "    for png in png_files:\n",
    "        ocr_text = get_ocr_translation(png)\n",
    "        if ocr_text:\n",
    "            message = message.replace(png, f\"OCR translation:\\n{ocr_text}\")\n",
    "\n",
    "    md_uuids = re.findall(r'([a-f0-9\\-]{36})\\.md', message)\n",
    "    for md_uuid in md_uuids:\n",
    "        png_list = md_uuid_to_pngs.get(md_uuid, [])\n",
    "        ocr_texts = []\n",
    "        for png in png_list:\n",
    "            ocr_text = get_ocr_translation(png)\n",
    "            if ocr_text:\n",
    "                ocr_texts.append(f\"OCR for {png}:\\n{ocr_text}\")\n",
    "        if ocr_texts:\n",
    "            combined = \"\\n\\n\".join(ocr_texts)\n",
    "            full_md_match = re.search(r'\\S*' + re.escape(md_uuid) + r'\\.md', message)\n",
    "            if full_md_match:\n",
    "                message = message.replace(full_md_match.group(0), combined)\n",
    "\n",
    "    return message\n",
    "\n",
    "# Loop over each chat CSV listed in the 'chats' column\n",
    "for idx, row in chat_paths_df.iterrows():\n",
    "    chat_csv_path = row['chats']\n",
    "    if not isinstance(chat_csv_path, str) or not os.path.exists(chat_csv_path):\n",
    "        print(f\"Skipping missing or invalid path: {chat_csv_path}\")\n",
    "        continue\n",
    "\n",
    "    print(f\"Processing: {chat_csv_path}\")\n",
    "    try:\n",
    "        chat_df = pd.read_csv(chat_csv_path)\n",
    "        if 'message_translation' in chat_df.columns:\n",
    "            chat_df['message_translation'] = chat_df['message_translation'].apply(replace_with_ocr_translation)\n",
    "            chat_df.to_csv(chat_csv_path, index=False)\n",
    "        else:\n",
    "            print(f\"Column 'message_translation' not found in {chat_csv_path}\")\n",
    "    except Exception as e:\n",
    "        print(f\"Error processing {chat_csv_path}: {e}\")"
   ]
  },
  {
   "cell_type": "markdown",
   "id": "72f24fa3-ebc0-454c-a5a4-6e03836fdf0a",
   "metadata": {
    "tags": []
   },
   "source": [
    "# **USER ANALYSIS**"
   ]
  },
  {
   "cell_type": "code",
   "execution_count": 4,
   "id": "03abf627-5c58-439b-8f57-57ae9bf4e360",
   "metadata": {
    "tags": []
   },
   "outputs": [],
   "source": [
    "import pandas as pd\n",
    "import os\n",
    "from collections import Counter"
   ]
  },
  {
   "cell_type": "code",
   "execution_count": 8,
   "id": "0c1b784d-2a5d-4830-92a8-4e3a3fee0cbe",
   "metadata": {
    "tags": []
   },
   "outputs": [
    {
     "name": "stdout",
     "output_type": "stream",
     "text": [
      "Messages sent per user across all chat logs:\n",
      "- lengmo: 4981\n",
      "- Shutd0wn: 3675\n",
      "- wxid_5390224027312: 1409\n",
      "- wxid_7p054rmzkhqf21: 894\n",
      "- wxid_wh6x59w70y3r22: 620\n",
      "- gzp1991101: 603\n",
      "- wxid_zb45i0rc71yk21: 590\n",
      "- wxid_70w3p1jin84k22: 523\n",
      "- wxid_hlmnhsq64tt722: 483\n",
      "- adpw90: 235\n",
      "- qq78263462: 225\n",
      "- wxid_12n748um1thl21: 192\n",
      "- wxid_mgh25nentc4u22: 190\n",
      "- just910420: 154\n",
      "- wxid_c9yv0nsla3yn22: 116\n",
      "- nullroot: 103\n",
      "- wxid_icges6alg8cl21: 91\n",
      "- wei592628: 87\n",
      "- wxid_soekgggwnfgm21: 79\n",
      "- wxid_nv9bv435fz3722: 77\n",
      "- wxid_xusilpfkh31g21: 61\n",
      "- ken73224: 58\n",
      "- hack05112: 45\n",
      "- tianyi-0608: 45\n",
      "- wxid_kbys0kvzj4ta12: 38\n",
      "- SWEET5683yao: 35\n",
      "- wxid_zbytkn4qjl3r22: 29\n",
      "- wxid_blw54o1q0q5w22: 24\n",
      "- yanzi542766277: 24\n",
      "- dujijiyiqxx: 17\n",
      "- wxid_jcnxegjccqi441: 11\n",
      "- wangchao953541: 9\n",
      "- ibabaimama: 5\n",
      "- zhangxiaoyan0422: 5\n",
      "- snipersk: 5\n",
      "- wxid_q7vkst94g5u011: 5\n"
     ]
    }
   ],
   "source": [
    "df_csvs = pd.read_csv(\"updated_with_csv_paths.csv\")\n",
    "\n",
    "def count_messages_per_user_from_csv(csv_path):\n",
    "    try:\n",
    "        df = pd.read_csv(csv_path)\n",
    "    except Exception as e:\n",
    "        print(f\"Error reading {csv_path}: {e}\")\n",
    "        return Counter()\n",
    "\n",
    "    df.columns = [col.lower() for col in df.columns]\n",
    "\n",
    "    # Identify the 'from' column\n",
    "    from_columns = [col for col in df.columns if col in ['from', 'sender', 'user']]\n",
    "    if not from_columns:\n",
    "        return Counter()\n",
    "\n",
    "    from_col = from_columns[0]\n",
    "\n",
    "    # Drop missing senders and count messages\n",
    "    user_counts = df[from_col].dropna().astype(str).str.strip()\n",
    "    return Counter(user_counts[user_counts != ''])\n",
    "\n",
    "all_message_counts = Counter()\n",
    "\n",
    "# Loop through each CSV path in the 'chats' column\n",
    "for csv_path in df_csvs['chats'].dropna().unique():\n",
    "    if isinstance(csv_path, str) and csv_path.endswith('.csv') and os.path.exists(csv_path):\n",
    "        counts = count_messages_per_user_from_csv(csv_path)\n",
    "        all_message_counts.update(counts)\n",
    "\n",
    "sorted_user_message_counts = sorted(all_message_counts.items(), key=lambda x: x[1], reverse=True)\n",
    "\n",
    "print(\"Messages sent per user across all chat logs:\")\n",
    "for user, count in sorted_user_message_counts:\n",
    "    print(f\"- {user}: {count}\")"
   ]
  },
  {
   "cell_type": "markdown",
   "id": "6ee30322-2d21-4da7-9850-84cc6b4cf09a",
   "metadata": {},
   "source": [
    "# *RegEx for emails and IP addresses / Terms for finding the leaders*"
   ]
  },
  {
   "cell_type": "code",
   "execution_count": 14,
   "id": "8292b702-3b9e-421d-81d8-da8aeb72bd4d",
   "metadata": {
    "tags": []
   },
   "outputs": [
    {
     "name": "stdout",
     "output_type": "stream",
     "text": [
      "[ROLE] Boss, let's first look at the one on DingTalk, it's also convenient for matching and corresponding with the departments. | File: 38.csv | Line: 19\n",
      "[ROLE] It shows that Boss Tong is really awesome. | File: 1.csv | Line: 1862\n",
      "[ROLE] Oh, acting like a boss now. | File: 1.csv | Line: 2601\n",
      "[ROLE] Junli's boss has been worn out by accompanying them. | File: 1.csv | Line: 4099\n",
      "[ROLE] You, as the boss, don't worry about anything else, just focus on performance and revenue. | File: 1.csv | Line: 4285\n",
      "[ROLE] Do you think they would understand that? They'd probably just think it's a matter of the boss giving a word, so they came directly to us. | File: 1.csv | Line: 4505\n",
      "[ROLE] The boss can't undermine the financial system. | File: 1.csv | Line: 4508\n",
      "[ROLE] Their boss won't be back until the end of the month, only the property manager is here, and what he says doesn't count. | File: 1.csv | Line: 6066\n",
      "[ROLE] You should meet with their boss and communicate, the rent won't be defaulted on, but you also need to urge them to pay attention to the matter of the property ownership certificate. | File: 1.csv | Line: 6070\n",
      "[ROLE] The boss will return at the end of the month, we can only communicate by phone. | File: 1.csv | Line: 6071\n",
      "[ROLE] Boss Tong is awesome. | File: 1.csv | Line: 6178\n",
      "[ROLE] Why don't you meet with the people over there? After all, you are the major shareholder, the company boss. | File: 1.csv | Line: 6934\n",
      "[ROLE] I've looked into this, it falls into two categories: one pursuing money, and one pursuing people. For those pursuing money, if we don't count the boss in a single case, the bosses are all overseas, roughly 20- | File: 1.csv | Line: 7230\n",
      "[ROLE] Previously a vice secretary-general of the provincial government, director of the Beijing office, and Dongge's former boss. | File: 1.csv | Line: 7523\n",
      "[ROLE] Dongge is asking me about the investment funds, asking about our recent receipts and when they might be available. His idea, as discussed before, is bridging funds, and he might get them from Anpin. He means that if our investment funds haven't arrived yet, he feels it would be awkward to talk to the boss of Anpin. | File: 1.csv | Line: 8005\n",
      "[ROLE] Mm-hmm, I'm running the market myself, and the boss doesn't bother with small projects worth only a few hundred thousand, and he wouldn't be able to represent them anyway. | File: 39.csv | Line: 32\n",
      "[ROLE] I left, and everyone I had contact with before was still acting normal, except for C总, my close boss, who didn’t say a single word to me. | File: 39.csv | Line: 554\n",
      "[ROLE] Sigh, it's impossible to guess what the boss is thinking. | File: 39.csv | Line: 555\n",
      "[ROLE] ?? What does the boss post on WeChat Moments now that he bought a car? | File: 39.csv | Line: 695\n",
      "[ROLE] The boss bought another car. | File: 39.csv | Line: 706\n",
      "[ROLE] Working hard to contribute to the boss's luxury cars and villas. | File: 39.csv | Line: 744\n",
      "[ROLE] The product was thought up on a whim by the boss, it's unrealistic, how could it be any good? | File: 39.csv | Line: 803\n",
      "[ROLE] This was requested by Duck Boss himself. | File: 32.csv | Line: 41\n",
      "[ROLE] If I were the boss, I'd fire them all. | File: 32.csv | Line: 49\n",
      "[ROLE] Ai... the performance is not good, the products are unreliable, and there’s a lack of funds. The boss is really stressed out now. | File: 32.csv | Line: 51\n",
      "[ROLE] The boss took over. | File: 12.csv | Line: 4\n",
      "[ROLE] The other day I asked if anyone had done HK stuff, and damn, the boss had done twenty or thirty of them there. | File: 12.csv | Line: 45\n",
      "[ROLE] The main problem still lies with boss C. | File: 12.csv | Line: 69\n",
      "[ROLE] C boss is just targeting you sales people. | File: 12.csv | Line: 82\n",
      "[ROLE] Today, boss C and Zhou Weiwei personally took Liang Chenghui to run things in Hubei. | File: 12.csv | Line: 95\n",
      "[ROLE] I still don't understand why boss C is targeting the sales department. | File: 12.csv | Line: 99\n",
      "[ROLE] He and Boss C must be making a fortune. | File: 12.csv | Line: 108\n",
      "[ROLE] Duck Boss is now just a shareholder and has no decision-making power over Sichuan Anxun. | File: 12.csv | Line: 125\n",
      "[ROLE] Duck Boss definitely won't give up easily. | File: 12.csv | Line: 132\n",
      "[ROLE] Your boss really does things... (implying negatively) | File: 12.csv | Line: 238\n",
      "[ROLE] Boss Wei is too greedy. | File: 12.csv | Line: 262\n",
      "[ROLE] Wang Chengfen belongs to C boss, I handle Zhou Weiwei’s. | File: 12.csv | Line: 289\n",
      "[ROLE] CC and Boss Zhou didn't contribute a penny. | File: 12.csv | Line: 293\n",
      "[ROLE] I gave Gong boss to Bai Yu, who gave it to Zhu Xiaojuan. | File: 12.csv | Line: 335\n",
      "[IP] 8.218.67.52:27011 | File: 36.csv | Line: 22\n",
      "[IP] 8.218.67.52:17011 | File: 36.csv | Line: 22\n",
      "[IP] 74.120.172.10:10092 | File: 23.csv | Line: 3\n",
      "[ROLE] But he aligns with the boss's direction. | File: 33.csv | Line: 14\n",
      "[ROLE] The boss definitely knows he's not capable. | File: 33.csv | Line: 15\n",
      "[ROLE] I just reported to the boss, and he asked me to first document today's results and then see the effect. Also, I will be sending you another batch recently, around 100 or so. Let's see the activation probability and accuracy, hope you understand. | File: 10.csv | Line: 33\n",
      "[ROLE] So approximately how many would be within your capacity? The boss also wants to see how the results turn out. | File: 10.csv | Line: 35\n",
      "[ROLE] Okay, thank you. I will report to the boss tomorrow. If he still wants us to cooperate and try it out, I’ll let you know. | File: 10.csv | Line: 37\n",
      "[ROLE] I'll try to talk to the boss and limit the test to within 20 accounts, so it won't be too difficult for you, right? | File: 10.csv | Line: 39\n",
      "[ROLE] Haha, it hasn't actually been put into practice yet, and needs to move from online to a real-world phase, including the final results. Today, during the report to the big boss, he specifically proposed finding a few units to each provide some accounts to see how many can be run simultaneously, so we can measure the final results in a practical way. We also need to get him to change his thinking – technology changes lives [smirk]. | File: 10.csv | Line: 41\n",
      "[ROLE] We're all colleagues, don't say that. I'm also being pressured by the big boss and have no choice [bowing hands]. | File: 10.csv | Line: 45\n",
      "[ROLE] Okay, please send me a list of the specific tasks you can handle so I can report to my boss. | File: 10.csv | Line: 58\n",
      "[EMAIL] 576514445@qq.com | File: 9.csv | Line: 38\n",
      "[ROLE] Still, Boss Gong is amazing. | File: 9.csv | Line: 201\n",
      "[ROLE] My boss recommended them to me. | File: 15.csv | Line: 54\n",
      "[ROLE] What did the boss ask this morning [Wangcai]? | File: 31.csv | Line: 0\n",
      "[ROLE] It's just that the boss is getting anxious. | File: 31.csv | Line: 22\n",
      "[ROLE] I also don't know what the boss is thinking. | File: 40.csv | Line: 122\n",
      "[ROLE] I was just joking with the big boss at Qianxin, but I didn't expect him to actually do it. | File: 11.csv | Line: 78\n",
      "[ROLE] Do you think even if they do it, it won't come to me, and the big boss will take it for himself? | File: 35.csv | Line: 79\n",
      "[IP] 121.37.141.219 | File: 6.csv | Line: 62\n",
      "[ROLE] Ask the boss to go easy on me. | File: 2.csv | Line: 109\n",
      "[ROLE] Don't know the boss. | File: 2.csv | Line: 408\n"
     ]
    }
   ],
   "source": [
    "import pandas as pd\n",
    "import os\n",
    "import re\n",
    "\n",
    "df_csvs = pd.read_csv(\"updated_with_csv_paths.csv\")\n",
    "\n",
    "# Patterns\n",
    "email_pattern = re.compile(r'\\S+@\\S+\\.\\S+')\n",
    "ip_pattern = re.compile(r'\\b(?:\\d{1,3}\\.){3}\\d{1,3}(?::\\d{1,5})?\\b')\n",
    "role_keywords = [\n",
    "    \"boss\"\n",
    "]\n",
    "role_pattern = re.compile(r'\\b(?:' + '|'.join([re.escape(k) for k in role_keywords]) + r')\\b', re.IGNORECASE)\n",
    "\n",
    "# Store unique matches\n",
    "seen = set()\n",
    "\n",
    "# Loop through all files\n",
    "for csv_path in df_csvs['chats'].dropna().unique():\n",
    "    if isinstance(csv_path, str) and csv_path.endswith('.csv') and os.path.exists(csv_path):\n",
    "        try:\n",
    "            df = pd.read_csv(csv_path)\n",
    "        except Exception as e:\n",
    "            print(f\"Error reading {csv_path}: {e}\")\n",
    "            continue\n",
    "\n",
    "        df.columns = [col.lower() for col in df.columns]\n",
    "        text_cols = [col for col in df.columns if 'message' in col]\n",
    "\n",
    "        for idx, row in df.iterrows():\n",
    "            for col in text_cols:\n",
    "                if pd.notna(row.get(col)):\n",
    "                    text = str(row[col])\n",
    "\n",
    "                    for email in email_pattern.findall(text):\n",
    "                        key = (\"email\", email, csv_path, idx)\n",
    "                        if key not in seen:\n",
    "                            seen.add(key)\n",
    "                            print(f\"[EMAIL] {email} | File: {os.path.basename(csv_path)} | Line: {idx}\")\n",
    "\n",
    "                    for ip in ip_pattern.findall(text):\n",
    "                        key = (\"ip\", ip, csv_path, idx)\n",
    "                        if key not in seen:\n",
    "                            seen.add(key)\n",
    "                            print(f\"[IP] {ip} | File: {os.path.basename(csv_path)} | Line: {idx}\")\n",
    "\n",
    "                    if role_pattern.search(text):\n",
    "                        key = (\"role\", text, csv_path, idx)\n",
    "                        if key not in seen:\n",
    "                            seen.add(key)\n",
    "                            print(f\"[ROLE] {text} | File: {os.path.basename(csv_path)} | Line: {idx}\")"
   ]
  },
  {
   "cell_type": "code",
   "execution_count": 24,
   "id": "59e79b82-041e-4338-ab5a-babecde51a2c",
   "metadata": {
    "tags": []
   },
   "outputs": [],
   "source": [
    "def extract_unique_users_from_csv(csv_path):\n",
    "    try:\n",
    "        df = pd.read_csv(csv_path)\n",
    "    except Exception as e:\n",
    "        print(f\"Error reading {csv_path}: {e}\")\n",
    "        return set()\n",
    "\n",
    "    # Try to find user-related columns\n",
    "    user_columns = [col for col in df.columns if col.lower() in ['from', 'to', 'sender', 'receiver', 'user']]\n",
    "    \n",
    "    if not user_columns:\n",
    "        user_columns = df.select_dtypes(include=['object']).columns.tolist()\n",
    "\n",
    "    # Flatten and clean user list\n",
    "    users = pd.unique(df[user_columns].values.ravel())\n",
    "    return {str(u).strip() for u in users if pd.notna(u) and str(u).strip() != ''}"
   ]
  },
  {
   "cell_type": "code",
   "execution_count": 25,
   "id": "3624c820-6029-4b82-b649-30e5b4e91cd0",
   "metadata": {
    "tags": []
   },
   "outputs": [
    {
     "name": "stdout",
     "output_type": "stream",
     "text": [
      "Unique users found in chat logs:\n",
      "- 25713010771@chatroom\n",
      "- SWEET5683yao\n",
      "- Shutd0wn\n",
      "- adpw90\n",
      "- dujijiyiqxx\n",
      "- gzp1991101\n",
      "- hack05112\n",
      "- ibabaimama\n",
      "- just910420\n",
      "- ken73224\n",
      "- lengmo\n",
      "- nullroot\n",
      "- qq78263462\n",
      "- snipersk\n",
      "- tianyi-0608\n",
      "- wangchao953541\n",
      "- wei592628\n",
      "- wxid_12n748um1thl21\n",
      "- wxid_5390224027312\n",
      "- wxid_70w3p1jin84k22\n",
      "- wxid_7p054rmzkhqf21\n",
      "- wxid_blw54o1q0q5w22\n",
      "- wxid_c9yv0nsla3yn22\n",
      "- wxid_hlmnhsq64tt722\n",
      "- wxid_icges6alg8cl21\n",
      "- wxid_jcnxegjccqi441\n",
      "- wxid_kbys0kvzj4ta12\n",
      "- wxid_mgh25nentc4u22\n",
      "- wxid_nv9bv435fz3722\n",
      "- wxid_q7vkst94g5u011\n",
      "- wxid_soekgggwnfgm21\n",
      "- wxid_wh6x59w70y3r22\n",
      "- wxid_xusilpfkh31g21\n",
      "- wxid_zb45i0rc71yk21\n",
      "- wxid_zbytkn4qjl3r22\n",
      "- yanzi542766277\n",
      "- zhangxiaoyan0422\n"
     ]
    }
   ],
   "source": [
    "all_users = set()\n",
    "\n",
    "# Loop through each file path in 'chats' column\n",
    "for csv_path in df_csvs_llm['chats'].dropna().unique():\n",
    "    if isinstance(csv_path, str) and csv_path.endswith('.csv') and os.path.exists(csv_path):\n",
    "        users = extract_unique_users_from_csv(csv_path)\n",
    "        all_users.update(users)\n",
    "\n",
    "unique_users_from_chats = sorted(all_users)\n",
    "print(\"Unique users found in chat logs:\")\n",
    "for user in unique_users_from_chats:\n",
    "    print(\"-\", user)"
   ]
  },
  {
   "cell_type": "code",
   "execution_count": 3,
   "id": "b2594254-fa3c-4bac-a108-125ac97a586e",
   "metadata": {
    "tags": []
   },
   "outputs": [
    {
     "name": "stdout",
     "output_type": "stream",
     "text": [
      "Number of files: 490\n"
     ]
    }
   ],
   "source": [
    "import os\n",
    "\n",
    "def count_files_with_os(path):\n",
    "    return len([f for f in os.listdir(path) if os.path.isfile(os.path.join(path, f))])\n",
    "\n",
    "# Example usage\n",
    "folder_path = \"ocr_to_csv\"\n",
    "file_count = count_files_with_os(folder_path)\n",
    "print(f\"Number of files: {file_count}\")"
   ]
  },
  {
   "cell_type": "markdown",
   "id": "12e7d53f-7376-40b2-9818-452231587964",
   "metadata": {},
   "source": [
    "# **Financial Infrastructures Analysis**"
   ]
  },
  {
   "cell_type": "code",
   "execution_count": 2,
   "id": "2e7847de-f686-4967-b334-2b9ebee7c081",
   "metadata": {},
   "outputs": [],
   "source": [
    "from langchain_ollama.llms import OllamaLLM\n",
    "from langchain_ollama import OllamaEmbeddings\n",
    "from langchain.vectorstores import Chroma\n",
    "from langchain_core.prompts import ChatPromptTemplate\n",
    "from langchain_core.documents import Document\n",
    "import pandas as pd\n",
    "import os"
   ]
  },
  {
   "cell_type": "code",
   "execution_count": 3,
   "id": "43ba5cba-946f-4657-a3b8-d9d51eb411b8",
   "metadata": {
    "tags": []
   },
   "outputs": [
    {
     "name": "stderr",
     "output_type": "stream",
     "text": [
      "/tmp/ipykernel_20294/3807150908.py:38: LangChainDeprecationWarning: The class `Chroma` was deprecated in LangChain 0.2.9 and will be removed in 1.0. An updated version of the class exists in the langchain-chroma package and should be used instead. To use it run `pip install -U langchain-chroma` and import as `from langchain_chroma import Chroma`.\n",
      "  vector_store = Chroma(\n"
     ]
    }
   ],
   "source": [
    "import os\n",
    "import pandas as pd\n",
    "from langchain.vectorstores import Chroma\n",
    "from langchain.embeddings import OllamaEmbeddings\n",
    "from langchain.schema import Document\n",
    "\n",
    "# Load a single CSV file\n",
    "csv_file = \"csvs/10.csv\"\n",
    "df = pd.read_csv(csv_file)\n",
    "\n",
    "# Initialize the embedding model\n",
    "embeddings = OllamaEmbeddings(model=\"mxbai-embed-large\")\n",
    "\n",
    "# Setup vector DB path\n",
    "db_location = \"./chroma_financial_chat_db\"\n",
    "add_documents = not os.path.exists(db_location)\n",
    "\n",
    "# Only add documents if the database doesn't already exist\n",
    "if add_documents:\n",
    "    documents = []\n",
    "    ids = []\n",
    "    for i, row in df.iterrows():\n",
    "        document = Document(\n",
    "            page_content=row[\"message_translation\"],\n",
    "            metadata={\n",
    "                \"sender\": row[\"From\"],\n",
    "                \"receiver\": row[\"To\"],\n",
    "                \"timestamp\": row[\"Time\"],\n",
    "                \"source_file\": os.path.basename(csv_file),   # Track source file\n",
    "                \"line_number\": i + 1                         # Track line number\n",
    "            },\n",
    "            id=f\"{os.path.basename(csv_file)}_{i}\"            # Ensure unique ID\n",
    "        )\n",
    "        documents.append(document)\n",
    "        ids.append(f\"{os.path.basename(csv_file)}_{i}\")\n",
    "\n",
    "# Create or load the Chroma vector store\n",
    "vector_store = Chroma(\n",
    "    collection_name=\"financial_chats\",\n",
    "    persist_directory=db_location,\n",
    "    embedding_function=embeddings\n",
    ")\n",
    "\n",
    "if add_documents:\n",
    "    vector_store.add_documents(documents=documents, ids=ids)\n",
    "\n",
    "# Setup retriever for use in RAG\n",
    "retriever = vector_store.as_retriever(search_kwargs={\"k\": 15})"
   ]
  },
  {
   "cell_type": "code",
   "execution_count": 4,
   "id": "9ad2851e-9636-4ac5-a439-27f4c1c0710e",
   "metadata": {
    "tags": []
   },
   "outputs": [],
   "source": [
    "model = OllamaLLM(model=\"gemma3:27b\") \n",
    "\n",
    "template = \"\"\"\n",
    "You are a cybersecurity analyst reviewing translated chat messages for financial intelligence.\n",
    "\n",
    "Your task is to extract ONLY the messages that contain **financially relevant information**, such as:\n",
    "\n",
    "- Payments or money transfers\n",
    "- Amounts, currencies, or sums of money\n",
    "- Payment methods (cash, crypto, bank, wallets)\n",
    "- Account numbers, codes, or financial identifiers\n",
    "- Mentions of financial roles (payer, payee, client, broker)\n",
    "- References to suspicious or recurring financial activity\n",
    "\n",
    "From the messages below:\n",
    "{chats}\n",
    "\n",
    "Return ONLY the messages that meet any of the criteria above.\n",
    "\n",
    "For each relevant message, output:\n",
    "- The **timestamp** (if provided in the metadata or inferred)\n",
    "- The **translated content** of the message\n",
    "\n",
    "Do not summarize. Do not explain. Do not include non-financial content.  \n",
    "**DO NOT create or infer messages. Use only the exact text from the messages provided. If no messages match, return nothing.**\n",
    "\n",
    "Output format:\n",
    "[Time] Message\n",
    "\"\"\"\n",
    "\n",
    "prompt = ChatPromptTemplate.from_template(template)\n",
    "chain = prompt | model"
   ]
  },
  {
   "cell_type": "code",
   "execution_count": 5,
   "id": "12e153ea-7ffe-4452-bb03-e3e1856130cb",
   "metadata": {
    "tags": []
   },
   "outputs": [
    {
     "name": "stdout",
     "output_type": "stream",
     "text": [
      "[10.csv - line 21] Account TGtadie, phone: 18510867099, name: Wang Ning.\n",
      "\n",
      "\n",
      "\n",
      "\n"
     ]
    }
   ],
   "source": [
    "question = \"Extract only the chat messages that refer to money, payments, currencies, accounts, financial identifiers, or financial discussions\"\n",
    "\n",
    "# Retrieve relevant chats\n",
    "retrieved_docs = retriever.invoke(question)\n",
    "\n",
    "# Combine messages with metadata for context\n",
    "chat_texts = \"\\n\\n\".join([\n",
    "    f\"[{doc.metadata['source_file']} - line {doc.metadata['line_number']}] {doc.page_content}\"\n",
    "    for doc in retrieved_docs\n",
    "])\n",
    "\n",
    "# Run through the LLM\n",
    "response = chain.invoke({\"chats\": chat_texts})\n",
    "\n",
    "# Output the result\n",
    "print(response)"
   ]
  },
  {
   "cell_type": "code",
   "execution_count": 6,
   "id": "a1b3b93f-c97f-4882-9497-ea7f06935ce8",
   "metadata": {
    "tags": []
   },
   "outputs": [],
   "source": [
    "import pandas as pd\n",
    "import os"
   ]
  },
  {
   "cell_type": "code",
   "execution_count": 13,
   "id": "cb56c2cf-16c4-4845-a94a-d2c358d51ae1",
   "metadata": {},
   "outputs": [
    {
     "name": "stdout",
     "output_type": "stream",
     "text": [
      "## Intelligence Report - Potential Illicit Software/Service Procurement\n",
      "\n",
      "**Date:** October 26, 2023\n",
      "**Subject:** Potential Procurement of WhatsApp Exploitation/Access Services\n",
      "**Source:** Financial Communication Analysis - 10.csv (Lines 107-137)\n",
      "**Analyst:** Financial Crime Investigator\n",
      "\n",
      "**1. Executive Summary:**\n",
      "\n",
      "This report details a concerning exchange indicating potential interest in acquiring WhatsApp access or exploitation capabilities. The conversation centers around inquiries about \"WhatsApp products\" and suggests a willingness to pay for such services, potentially for illicit purposes. The emphasis on meeting in person, coupled with references to a \"leader\" and securing a \"project,\" suggests a coordinated effort and potentially larger scale operation.\n",
      "\n",
      "**2. Financial Structure & Entities Involved:**\n",
      "\n",
      "* **Mr. Zhou:**  Represents a company that *claims* to not offer WhatsApp services, but is being actively probed about them. Position unclear, but appears to be a potential intermediary or target for procurement.\n",
      "* **Mr. Wei:** The individual asking about WhatsApp products. Likely the client or a representative of the ultimate client. Initiates inquiries and expresses interest.\n",
      "* **\"Leader\":** Referenced by Mr. Wei, suggesting a higher authority within his organization who will be involved in potential negotiations and project approval.\n",
      "* **Unidentified Company (Mr. Wei's):**  The organization Mr. Wei represents. Their motivation for requiring WhatsApp capabilities is unknown but warrants investigation.\n",
      "\n",
      "The communication strongly implies a buyer-seller relationship, where Mr. Wei (and his \"leader\") are seeking a provider (potentially Mr. Zhou's company, or a company Mr. Zhou can connect them with) for WhatsApp related services. The discussion of \"budgets,\" \"packages,\" and \"projects\" further supports this.\n",
      "\n",
      "**3. Suspicious Behavior & Coordinated Activity:**\n",
      "\n",
      "* **Evasive Responses:** Mr. Zhou's repeated denials of offering WhatsApp services, while simultaneously not explicitly shutting down the inquiry, are suspicious. This could indicate a reluctance to admit involvement in potentially illegal activities, or a willingness to connect Mr. Wei with others who *do* offer such services.\n",
      "* **In-Person Meeting Emphasis:** The persistent requests for an in-person meeting, especially mentioning bringing the “leader”, strongly suggests that sensitive details and potential payments will be discussed offline, avoiding a documented trail. The reference to “Two Sessions” and travel restrictions points to a planned meeting being delayed due to external factors.\n",
      "* **\"Project\" & \"Unique Capabilities\" References:**  The talk of a \"project\" and requesting demonstration of \"unique capabilities\" suggest the WhatsApp access is being sought for a specific, potentially nefarious purpose beyond legitimate business use.\n",
      "* **Coded Language & Casual Tone:** The seemingly casual conversation, peppered with references to “hotpot” and laughter, could be an attempt to mask the true nature of the discussions.\n",
      "* **Geographic Focus:** The repeated mentioning of Chengdu and Beijing suggests a regional focus for the activity.  Mr. Zhou is confirmed to be in Chengdu, and Mr. Wei’s travel is restricted from Beijing. This could point to a specific operational area.\n",
      "* **Inquiry into Gmail Accounts:** The earlier question about Gmail accounts (line 117) suggests a broader interest in compromising or accessing email communication platforms, hinting at a larger-scale surveillance or data acquisition operation.\n",
      "\n",
      "\n",
      "\n",
      "**4. Potential Illicit Activity:**\n",
      "\n",
      "Based on the available information, potential illicit activities include:\n",
      "\n",
      "* **Illicit Surveillance:** Acquiring WhatsApp access to monitor communications of individuals or groups.\n",
      "* **Data Theft:** Harvesting data from WhatsApp accounts.\n",
      "* **Account Takeover:** Gaining unauthorized access to WhatsApp accounts.\n",
      "* **Spear Phishing/Social Engineering:** Utilizing WhatsApp access to facilitate targeted attacks.\n",
      "* **Espionage:** Gathering intelligence through compromised WhatsApp accounts.\n",
      "\n",
      "\n",
      "\n",
      "**5. Recommended Follow-Up Steps:**\n",
      "\n",
      "* **Entity Identification:** Conduct thorough due diligence on Mr. Zhou, Mr. Wei, and their respective companies to identify their true ownership, business activities, and any known associations with criminal or suspicious activity.\n",
      "* **Financial Transaction Monitoring:** Monitor financial transactions involving these entities for any unusual or suspicious activity.\n",
      "* **Communication Interception:**  If legally permissible, monitor further communications between these individuals.\n",
      "* **Network Analysis:** Analyze the broader communication network surrounding these individuals to identify other potential collaborators or targets.\n",
      "* **Law Enforcement Coordination:** Share this intelligence with relevant law enforcement agencies for further investigation and potential prosecution.\n",
      "* **Technical Investigation:** Investigate whether Mr. Zhou's company (or associates) has a history of developing or distributing surveillance tools or software.\n",
      "\n",
      "\n",
      "\n",
      "\n",
      "**Disclaimer:** This report is based on limited information and is subject to change as further investigation is conducted.  The conclusions presented are based on the analyst’s professional judgment and are intended for informational purposes only.\n"
     ]
    }
   ],
   "source": [
    "import pandas as pd\n",
    "import os\n",
    "from langchain.llms import Ollama as OllamaLLM\n",
    "from langchain.prompts import ChatPromptTemplate\n",
    "\n",
    "# === Step 1: Define the LLM and prompt chain ===\n",
    "model = OllamaLLM(model=\"gemma3:27b\")\n",
    "prompt = ChatPromptTemplate.from_template(\"{chats}\")\n",
    "chain = prompt | model\n",
    "\n",
    "# === Step 2: Define function that takes any retrieved doc ===\n",
    "def investigate_target_message(doc, chain, context_window=15, base_folder=\"csvs\"):\n",
    "    # Get metadata\n",
    "    file = doc.metadata[\"source_file\"]\n",
    "    line = doc.metadata[\"line_number\"]\n",
    "    filepath = os.path.join(base_folder, file)\n",
    "\n",
    "    # Load the CSV\n",
    "    if not os.path.exists(filepath):\n",
    "        print(f\"File not found: {filepath}\")\n",
    "        return None\n",
    "\n",
    "    df = pd.read_csv(filepath)\n",
    "    start = max(1, line - context_window)\n",
    "    end = min(len(df), line + context_window)\n",
    "\n",
    "    # Build context window\n",
    "    context_lines = []\n",
    "    for i in range(start, end + 1):\n",
    "        row_text = str(df.iloc[i - 1][\"message_translation\"])\n",
    "        tag = \"**[TARGET]**\" if i == line else \"\"\n",
    "        context_lines.append(f\"[{file} - line {i}]{tag} {row_text}\")\n",
    "\n",
    "    full_context = \"\\n\".join(context_lines)\n",
    "\n",
    "    # Construct prompt\n",
    "    prompt_text = f\"\"\"\n",
    "You are a financial crime investigator analyzing financial communications.\n",
    "\n",
    "The following messages include a suspicious message marked **[TARGET]** and 30 nearby messages for context. Based on this, determine:\n",
    "\n",
    "- The financial structure implied (e.g., payer, broker, client, intermediary)\n",
    "- Entities involved (names, accounts, phones)\n",
    "- Any suspicious behavior or coordinated activity\n",
    "- Recommended follow-up steps\n",
    "\n",
    "Messages:\n",
    "{full_context}\n",
    "\n",
    "Generate a structured intelligence report based on the **[TARGET]** message.\n",
    "\"\"\"\n",
    "\n",
    "    # Run LLM\n",
    "    return chain.invoke({\"chats\": prompt_text})\n",
    "\n",
    "# === Step 3: Example usage ===\n",
    "# Run on any retrieved document\n",
    "doc = retrieved_docs[0]  # or loop over retrieved_docs\n",
    "response = investigate_target_message(doc, chain)\n",
    "print(response)"
   ]
  },
  {
   "cell_type": "code",
   "execution_count": null,
   "id": "684d1a58-2855-4f47-b7e7-e82a6d549969",
   "metadata": {},
   "outputs": [],
   "source": []
  }
 ],
 "metadata": {
  "kernelspec": {
   "display_name": "Python (IsoonAI)",
   "language": "python",
   "name": "isoonai"
  },
  "language_info": {
   "codemirror_mode": {
    "name": "ipython",
    "version": 3
   },
   "file_extension": ".py",
   "mimetype": "text/x-python",
   "name": "python",
   "nbconvert_exporter": "python",
   "pygments_lexer": "ipython3",
   "version": "3.11.8"
  }
 },
 "nbformat": 4,
 "nbformat_minor": 5
}
