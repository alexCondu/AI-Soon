{
 "cells": [
  {
   "cell_type": "code",
   "execution_count": 2,
   "id": "6559c645-340c-4646-b646-39b14bcd9932",
   "metadata": {
    "tags": []
   },
   "outputs": [
    {
     "name": "stdout",
     "output_type": "stream",
     "text": [
      "Directory 'test' has been deleted.\n"
     ]
    }
   ],
   "source": [
    "import shutil\n",
    "import os\n",
    "\n",
    "# Directory to delete\n",
    "EXTRACT_DIR = 'test'\n",
    "\n",
    "# Check if the directory exists and delete it\n",
    "if os.path.isdir(EXTRACT_DIR):\n",
    "    shutil.rmtree(EXTRACT_DIR)\n",
    "    print(f\"Directory '{EXTRACT_DIR}' has been deleted.\")\n",
    "else:\n",
    "    print(f\"Directory '{EXTRACT_DIR}' does not exist.\")"
   ]
  },
  {
   "cell_type": "code",
   "execution_count": 3,
   "id": "5776e2db-42ed-4aa2-a497-1a545810a7f2",
   "metadata": {
    "tags": []
   },
   "outputs": [
    {
     "name": "stdout",
     "output_type": "stream",
     "text": [
      "CPU cores:  144\n"
     ]
    }
   ],
   "source": [
    "import zipfile\n",
    "import shutil\n",
    "import os\n",
    "import pandas as pd\n",
    "print(\"CPU cores: \", os.cpu_count())"
   ]
  },
  {
   "cell_type": "code",
   "execution_count": 4,
   "id": "2befe2f0-40aa-4ffa-8a73-7443ff5760b2",
   "metadata": {
    "tags": []
   },
   "outputs": [
    {
     "name": "stdout",
     "output_type": "stream",
     "text": [
      "Extracted to: 0\n"
     ]
    }
   ],
   "source": [
    "def extract_zip(zip_path):\n",
    "\n",
    "    if not zipfile.is_zipfile(zip_path):\n",
    "        raise ValueError(f\"The file at {zip_path} is not a valid ZIP archive.\")\n",
    "    \n",
    "    # Determine the output directory name from the zip file name\n",
    "    base_dir = os.path.dirname(zip_path)\n",
    "    zip_filename = os.path.basename(zip_path)\n",
    "    folder_name = os.path.splitext(zip_filename)[0]\n",
    "    extract_to = os.path.join(base_dir, folder_name)\n",
    "\n",
    "    # Create the directory if it doesn't exist\n",
    "    if not os.path.exists(extract_to):\n",
    "        os.makedirs(extract_to)\n",
    "\n",
    "    # Extract the ZIP file\n",
    "    with zipfile.ZipFile(zip_path, 'r') as zip_ref:\n",
    "        zip_ref.extractall(path=extract_to)\n",
    "\n",
    "    return extract_to\n",
    "\n",
    "\n",
    "if __name__ == \"__main__\":\n",
    "    zip_file_path = '0.zip' \n",
    "    extracted_dir = extract_zip(zip_file_path)\n",
    "    print(f\"Extracted to: {extracted_dir}\")"
   ]
  },
  {
   "cell_type": "code",
   "execution_count": 5,
   "id": "950a34b4-50f3-486e-b781-a1dc9e43c458",
   "metadata": {
    "tags": []
   },
   "outputs": [
    {
     "name": "stdout",
     "output_type": "stream",
     "text": [
      "Deleted - 0/__MACOSX\n"
     ]
    }
   ],
   "source": [
    "leak_directory = \"0\"\n",
    "\n",
    "# Path to the __MACOSX folder\n",
    "macosx_folder = os.path.join(leak_directory, \"__MACOSX\")\n",
    "\n",
    "# Check if __MACOSX exists and remove it - creates issues when analyzing the data, and its not needed, made automatically by MacOS\n",
    "if os.path.exists(macosx_folder) and os.path.isdir(macosx_folder):\n",
    "    shutil.rmtree(macosx_folder)\n",
    "    print(f\"Deleted - {macosx_folder}\")\n",
    "else:\n",
    "    print(f\"Folder not found - {macosx_folder}\")\n",
    "\n",
    "# Organize files by extension into subfolders\n",
    "for root, dirs, files in os.walk(leak_directory):\n",
    "    for file in files:\n",
    "        # Skip hidden files and __MACOSX if any reappear\n",
    "        if file.startswith('.') or '__MACOSX' in root:\n",
    "            continue\n",
    "\n",
    "        # Get the file extension (in lowercase, without the dot)\n",
    "        file_extension = os.path.splitext(file)[1].lower().lstrip('.')\n",
    "        if not file_extension:\n",
    "            file_extension = \"no_extension\"\n",
    "\n",
    "        # Define the new subfolder path\n",
    "        subfolder_path = os.path.join(leak_directory, file_extension)\n",
    "\n",
    "        # Create the subfolder if it doesn't exist\n",
    "        os.makedirs(subfolder_path, exist_ok=True)\n",
    "\n",
    "        # Define source and destination paths\n",
    "        source_path = os.path.join(root, file)\n",
    "        destination_path = os.path.join(subfolder_path, file)\n",
    "\n",
    "        # Move the file if source and destination are not the same\n",
    "        if os.path.abspath(source_path) != os.path.abspath(destination_path):\n",
    "            shutil.move(source_path, destination_path)\n",
    "\n",
    "# Remove any empty folders within the parent directory\n",
    "for dirpath, dirnames, filenames in os.walk(leak_directory, topdown=False):\n",
    "    if not dirnames and not filenames:\n",
    "        try:\n",
    "            os.rmdir(dirpath)\n",
    "            print(f\"Removed empty folder: {dirpath}\")\n",
    "        except OSError:\n",
    "            pass  "
   ]
  },
  {
   "cell_type": "code",
   "execution_count": 6,
   "id": "0ab45fc5-01f0-4dd6-9c70-1ad25b1212a9",
   "metadata": {
    "tags": []
   },
   "outputs": [
    {
     "name": "stdout",
     "output_type": "stream",
     "text": [
      "Directory '0/0'deleted\n"
     ]
    }
   ],
   "source": [
    "# Delete Duplicate of 0 which is empty\n",
    "\n",
    "# Directory to delete\n",
    "EXTRACT_DIR = '0/0'\n",
    "\n",
    "# Check if the directory exists and delete it\n",
    "if os.path.isdir(EXTRACT_DIR):\n",
    "    shutil.rmtree(EXTRACT_DIR)\n",
    "    print(f\"Directory '{EXTRACT_DIR}'deleted\")\n",
    "else:\n",
    "    print(f\"Directory '{EXTRACT_DIR}' does not exist\")"
   ]
  },
  {
   "cell_type": "markdown",
   "id": "7cdb18a8-64e3-44d3-915e-7158104d0c8f",
   "metadata": {
    "user_expressions": []
   },
   "source": [
    "# **DATA PARSING**"
   ]
  },
  {
   "cell_type": "markdown",
   "id": "73f80802-63db-4c12-9401-d9d6246f556a",
   "metadata": {
    "user_expressions": []
   },
   "source": [
    "# Dataframe with all file location"
   ]
  },
  {
   "cell_type": "code",
   "execution_count": 7,
   "id": "88ee5d4f-ee82-49b3-bb69-9b052f1952f4",
   "metadata": {
    "tags": []
   },
   "outputs": [],
   "source": [
    "def get_folder_file_dataframe(root_dir):\n",
    "    folders = []\n",
    "    for file_name in os.listdir(root_dir):\n",
    "        full_path = os.path.join(root_dir, file_name)\n",
    "        if os.path.isdir(full_path):\n",
    "            folders.append(file_name)\n",
    "\n",
    "    series_list = []\n",
    "    for folder in folders:\n",
    "        folder_path = os.path.join(root_dir, folder)\n",
    "        files = [\n",
    "            os.path.join(folder_path, file)\n",
    "            for file in os.listdir(folder_path)\n",
    "            if os.path.isfile(os.path.join(folder_path, file)) and not file.startswith('.')\n",
    "        ]\n",
    "        s = pd.Series(files, name=folder)\n",
    "        series_list.append(s)\n",
    "\n",
    "    df = pd.concat(series_list, axis=1)\n",
    "    return df"
   ]
  },
  {
   "cell_type": "code",
   "execution_count": 8,
   "id": "94163880-07e2-4205-8302-b5ead2a1f488",
   "metadata": {
    "tags": []
   },
   "outputs": [
    {
     "data": {
      "text/html": [
       "<div>\n",
       "<style scoped>\n",
       "    .dataframe tbody tr th:only-of-type {\n",
       "        vertical-align: middle;\n",
       "    }\n",
       "\n",
       "    .dataframe tbody tr th {\n",
       "        vertical-align: top;\n",
       "    }\n",
       "\n",
       "    .dataframe thead th {\n",
       "        text-align: right;\n",
       "    }\n",
       "</style>\n",
       "<table border=\"1\" class=\"dataframe\">\n",
       "  <thead>\n",
       "    <tr style=\"text-align: right;\">\n",
       "      <th></th>\n",
       "      <th>md</th>\n",
       "      <th>png</th>\n",
       "      <th>log</th>\n",
       "      <th>txt</th>\n",
       "    </tr>\n",
       "  </thead>\n",
       "  <tbody>\n",
       "    <tr>\n",
       "      <th>0</th>\n",
       "      <td>0/md/dbc9c90e-a3e6-4d71-bb93-5fb8394095ac.md</td>\n",
       "      <td>0/png/64bba692-d430-440c-9f1e-2575f45770af_6.png</td>\n",
       "      <td>0/log/77010155050.log</td>\n",
       "      <td>0/txt/IDNET.txt</td>\n",
       "    </tr>\n",
       "    <tr>\n",
       "      <th>1</th>\n",
       "      <td>0/md/28.md</td>\n",
       "      <td>0/png/12756724-394c-4576-b373-7c53f1abbd94_0.png</td>\n",
       "      <td>0/log/77753527617.log</td>\n",
       "      <td>0/txt/IDTV.txt</td>\n",
       "    </tr>\n",
       "    <tr>\n",
       "      <th>2</th>\n",
       "      <td>0/md/5.md</td>\n",
       "      <td>0/png/f179eb06-0c53-44df-a13f-570be23355bb_1.png</td>\n",
       "      <td>0/log/tele2-lbs.log</td>\n",
       "      <td>0/txt/beeline-77774042222.txt</td>\n",
       "    </tr>\n",
       "    <tr>\n",
       "      <th>3</th>\n",
       "      <td>0/md/38.md</td>\n",
       "      <td>0/png/5a6b122c-39c1-4581-8c1f-2d6f36a9f8a0_24.png</td>\n",
       "      <td>0/log/tele2-cdr.log</td>\n",
       "      <td>0/txt/beeline-77051056626.txt</td>\n",
       "    </tr>\n",
       "    <tr>\n",
       "      <th>4</th>\n",
       "      <td>0/md/9d7bc879-3250-4013-ac04-5ff9bd6dff40.md</td>\n",
       "      <td>0/png/5a6b122c-39c1-4581-8c1f-2d6f36a9f8a0_30.png</td>\n",
       "      <td>0/log/tele2-crm.log</td>\n",
       "      <td>0/txt/beeline-crm.txt</td>\n",
       "    </tr>\n",
       "    <tr>\n",
       "      <th>5</th>\n",
       "      <td>0/md/18.md</td>\n",
       "      <td>0/png/5a6b122c-39c1-4581-8c1f-2d6f36a9f8a0_18.png</td>\n",
       "      <td>0/log/77783030133.log</td>\n",
       "      <td>0/txt/UBSCRIBER.txt</td>\n",
       "    </tr>\n",
       "    <tr>\n",
       "      <th>6</th>\n",
       "      <td>0/md/9fd06037-11f1-4ad5-9a7d-cbfb3fa4193b.md</td>\n",
       "      <td>0/png/0-adaf869e-920a-4a17-91bd-e2ef3125c10e.png</td>\n",
       "      <td>NaN</td>\n",
       "      <td>0/txt/beeline-cdr.txt</td>\n",
       "    </tr>\n",
       "    <tr>\n",
       "      <th>7</th>\n",
       "      <td>0/md/3348953d-66e9-4cac-8675-65bb5f2ef929.md</td>\n",
       "      <td>0/png/5387a301-0af8-4e24-a197-20189f87b9ef_8.png</td>\n",
       "      <td>NaN</td>\n",
       "      <td>0/txt/CRM.txt</td>\n",
       "    </tr>\n",
       "    <tr>\n",
       "      <th>8</th>\n",
       "      <td>0/md/1.md</td>\n",
       "      <td>0/png/0-32eb7662-f212-4811-a7c1-1cfeb121cd99.png</td>\n",
       "      <td>NaN</td>\n",
       "      <td>0/txt/LAC.txt</td>\n",
       "    </tr>\n",
       "    <tr>\n",
       "      <th>9</th>\n",
       "      <td>0/md/19.md</td>\n",
       "      <td>0/png/912204cb-8ab7-48b8-9abf-d803f3804d08_11.png</td>\n",
       "      <td>NaN</td>\n",
       "      <td>0/txt/beeline-lbs.txt</td>\n",
       "    </tr>\n",
       "    <tr>\n",
       "      <th>10</th>\n",
       "      <td>0/md/07f179c5-5705-4dbd-94a7-66eed1e066b0.md</td>\n",
       "      <td>0/png/0-7150f512-e7a2-4f2c-86bc-58b671b25ba9.png</td>\n",
       "      <td>NaN</td>\n",
       "      <td>0/txt/Φ»¥σìò.txt</td>\n",
       "    </tr>\n",
       "    <tr>\n",
       "      <th>11</th>\n",
       "      <td>0/md/29.md</td>\n",
       "      <td>0/png/fe245192-1f9c-4f28-9b32-046fb7ce7e1e_8.png</td>\n",
       "      <td>NaN</td>\n",
       "      <td>NaN</td>\n",
       "    </tr>\n",
       "    <tr>\n",
       "      <th>12</th>\n",
       "      <td>0/md/01cdc26f-e773-4ad7-8808-d04abf16aae7.md</td>\n",
       "      <td>0/png/eda5b003-9250-4913-b724-74cca86240af_13.png</td>\n",
       "      <td>NaN</td>\n",
       "      <td>NaN</td>\n",
       "    </tr>\n",
       "    <tr>\n",
       "      <th>13</th>\n",
       "      <td>0/md/585875ff-f8c5-4a02-acd7-fef37dc9ff11.md</td>\n",
       "      <td>0/png/eda5b003-9250-4913-b724-74cca86240af_12.png</td>\n",
       "      <td>NaN</td>\n",
       "      <td>NaN</td>\n",
       "    </tr>\n",
       "    <tr>\n",
       "      <th>14</th>\n",
       "      <td>0/md/4.md</td>\n",
       "      <td>0/png/adaf869e-920a-4a17-91bd-e2ef3125c10e.png</td>\n",
       "      <td>NaN</td>\n",
       "      <td>NaN</td>\n",
       "    </tr>\n",
       "    <tr>\n",
       "      <th>15</th>\n",
       "      <td>0/md/39.md</td>\n",
       "      <td>0/png/fe245192-1f9c-4f28-9b32-046fb7ce7e1e_9.png</td>\n",
       "      <td>NaN</td>\n",
       "      <td>NaN</td>\n",
       "    </tr>\n",
       "    <tr>\n",
       "      <th>16</th>\n",
       "      <td>0/md/16.md</td>\n",
       "      <td>0/png/32eb7662-f212-4811-a7c1-1cfeb121cd99.png</td>\n",
       "      <td>NaN</td>\n",
       "      <td>NaN</td>\n",
       "    </tr>\n",
       "    <tr>\n",
       "      <th>17</th>\n",
       "      <td>0/md/64bba692-d430-440c-9f1e-2575f45770af.md</td>\n",
       "      <td>0/png/912204cb-8ab7-48b8-9abf-d803f3804d08_10.png</td>\n",
       "      <td>NaN</td>\n",
       "      <td>NaN</td>\n",
       "    </tr>\n",
       "    <tr>\n",
       "      <th>18</th>\n",
       "      <td>0/md/178e3898-903d-47cf-bfbe-061e7dc18895.md</td>\n",
       "      <td>0/png/5387a301-0af8-4e24-a197-20189f87b9ef_9.png</td>\n",
       "      <td>NaN</td>\n",
       "      <td>NaN</td>\n",
       "    </tr>\n",
       "    <tr>\n",
       "      <th>19</th>\n",
       "      <td>0/md/22.md</td>\n",
       "      <td>0/png/5a6b122c-39c1-4581-8c1f-2d6f36a9f8a0_19.png</td>\n",
       "      <td>NaN</td>\n",
       "      <td>NaN</td>\n",
       "    </tr>\n",
       "    <tr>\n",
       "      <th>20</th>\n",
       "      <td>0/md/32.md</td>\n",
       "      <td>0/png/5a6b122c-39c1-4581-8c1f-2d6f36a9f8a0_31.png</td>\n",
       "      <td>NaN</td>\n",
       "      <td>NaN</td>\n",
       "    </tr>\n",
       "    <tr>\n",
       "      <th>21</th>\n",
       "      <td>0/md/26.md</td>\n",
       "      <td>0/png/f179eb06-0c53-44df-a13f-570be23355bb_0.png</td>\n",
       "      <td>NaN</td>\n",
       "      <td>NaN</td>\n",
       "    </tr>\n",
       "    <tr>\n",
       "      <th>22</th>\n",
       "      <td>0/md/9fe6b262-9944-417d-a0c4-9f2de1de2994.md</td>\n",
       "      <td>0/png/5a6b122c-39c1-4581-8c1f-2d6f36a9f8a0_25.png</td>\n",
       "      <td>NaN</td>\n",
       "      <td>NaN</td>\n",
       "    </tr>\n",
       "    <tr>\n",
       "      <th>23</th>\n",
       "      <td>0/md/f7205881-3904-42ec-ab2c-04f36fa24785.md</td>\n",
       "      <td>0/png/7150f512-e7a2-4f2c-86bc-58b671b25ba9.png</td>\n",
       "      <td>NaN</td>\n",
       "      <td>NaN</td>\n",
       "    </tr>\n",
       "    <tr>\n",
       "      <th>24</th>\n",
       "      <td>0/md/54990932-71af-48dd-9a7a-2617b1407c54.md</td>\n",
       "      <td>0/png/12756724-394c-4576-b373-7c53f1abbd94_1.png</td>\n",
       "      <td>NaN</td>\n",
       "      <td>NaN</td>\n",
       "    </tr>\n",
       "    <tr>\n",
       "      <th>25</th>\n",
       "      <td>0/md/12.md</td>\n",
       "      <td>0/png/64bba692-d430-440c-9f1e-2575f45770af_7.png</td>\n",
       "      <td>NaN</td>\n",
       "      <td>NaN</td>\n",
       "    </tr>\n",
       "    <tr>\n",
       "      <th>26</th>\n",
       "      <td>0/md/36.md</td>\n",
       "      <td>0/png/6848748d-2881-4c26-b153-fcd5373d2f1c.png</td>\n",
       "      <td>NaN</td>\n",
       "      <td>NaN</td>\n",
       "    </tr>\n",
       "    <tr>\n",
       "      <th>27</th>\n",
       "      <td>0/md/eda5b003-9250-4913-b724-74cca86240af.md</td>\n",
       "      <td>0/png/12756724-394c-4576-b373-7c53f1abbd94_3.png</td>\n",
       "      <td>NaN</td>\n",
       "      <td>NaN</td>\n",
       "    </tr>\n",
       "    <tr>\n",
       "      <th>28</th>\n",
       "      <td>0/md/27.md</td>\n",
       "      <td>0/png/64bba692-d430-440c-9f1e-2575f45770af_5.png</td>\n",
       "      <td>NaN</td>\n",
       "      <td>NaN</td>\n",
       "    </tr>\n",
       "    <tr>\n",
       "      <th>29</th>\n",
       "      <td>0/md/13.md</td>\n",
       "      <td>0/png/5a6b122c-39c1-4581-8c1f-2d6f36a9f8a0_33.png</td>\n",
       "      <td>NaN</td>\n",
       "      <td>NaN</td>\n",
       "    </tr>\n",
       "  </tbody>\n",
       "</table>\n",
       "</div>"
      ],
      "text/plain": [
       "                                              md  \\\n",
       "0   0/md/dbc9c90e-a3e6-4d71-bb93-5fb8394095ac.md   \n",
       "1                                     0/md/28.md   \n",
       "2                                      0/md/5.md   \n",
       "3                                     0/md/38.md   \n",
       "4   0/md/9d7bc879-3250-4013-ac04-5ff9bd6dff40.md   \n",
       "5                                     0/md/18.md   \n",
       "6   0/md/9fd06037-11f1-4ad5-9a7d-cbfb3fa4193b.md   \n",
       "7   0/md/3348953d-66e9-4cac-8675-65bb5f2ef929.md   \n",
       "8                                      0/md/1.md   \n",
       "9                                     0/md/19.md   \n",
       "10  0/md/07f179c5-5705-4dbd-94a7-66eed1e066b0.md   \n",
       "11                                    0/md/29.md   \n",
       "12  0/md/01cdc26f-e773-4ad7-8808-d04abf16aae7.md   \n",
       "13  0/md/585875ff-f8c5-4a02-acd7-fef37dc9ff11.md   \n",
       "14                                     0/md/4.md   \n",
       "15                                    0/md/39.md   \n",
       "16                                    0/md/16.md   \n",
       "17  0/md/64bba692-d430-440c-9f1e-2575f45770af.md   \n",
       "18  0/md/178e3898-903d-47cf-bfbe-061e7dc18895.md   \n",
       "19                                    0/md/22.md   \n",
       "20                                    0/md/32.md   \n",
       "21                                    0/md/26.md   \n",
       "22  0/md/9fe6b262-9944-417d-a0c4-9f2de1de2994.md   \n",
       "23  0/md/f7205881-3904-42ec-ab2c-04f36fa24785.md   \n",
       "24  0/md/54990932-71af-48dd-9a7a-2617b1407c54.md   \n",
       "25                                    0/md/12.md   \n",
       "26                                    0/md/36.md   \n",
       "27  0/md/eda5b003-9250-4913-b724-74cca86240af.md   \n",
       "28                                    0/md/27.md   \n",
       "29                                    0/md/13.md   \n",
       "\n",
       "                                                  png                    log  \\\n",
       "0    0/png/64bba692-d430-440c-9f1e-2575f45770af_6.png  0/log/77010155050.log   \n",
       "1    0/png/12756724-394c-4576-b373-7c53f1abbd94_0.png  0/log/77753527617.log   \n",
       "2    0/png/f179eb06-0c53-44df-a13f-570be23355bb_1.png    0/log/tele2-lbs.log   \n",
       "3   0/png/5a6b122c-39c1-4581-8c1f-2d6f36a9f8a0_24.png    0/log/tele2-cdr.log   \n",
       "4   0/png/5a6b122c-39c1-4581-8c1f-2d6f36a9f8a0_30.png    0/log/tele2-crm.log   \n",
       "5   0/png/5a6b122c-39c1-4581-8c1f-2d6f36a9f8a0_18.png  0/log/77783030133.log   \n",
       "6    0/png/0-adaf869e-920a-4a17-91bd-e2ef3125c10e.png                    NaN   \n",
       "7    0/png/5387a301-0af8-4e24-a197-20189f87b9ef_8.png                    NaN   \n",
       "8    0/png/0-32eb7662-f212-4811-a7c1-1cfeb121cd99.png                    NaN   \n",
       "9   0/png/912204cb-8ab7-48b8-9abf-d803f3804d08_11.png                    NaN   \n",
       "10   0/png/0-7150f512-e7a2-4f2c-86bc-58b671b25ba9.png                    NaN   \n",
       "11   0/png/fe245192-1f9c-4f28-9b32-046fb7ce7e1e_8.png                    NaN   \n",
       "12  0/png/eda5b003-9250-4913-b724-74cca86240af_13.png                    NaN   \n",
       "13  0/png/eda5b003-9250-4913-b724-74cca86240af_12.png                    NaN   \n",
       "14     0/png/adaf869e-920a-4a17-91bd-e2ef3125c10e.png                    NaN   \n",
       "15   0/png/fe245192-1f9c-4f28-9b32-046fb7ce7e1e_9.png                    NaN   \n",
       "16     0/png/32eb7662-f212-4811-a7c1-1cfeb121cd99.png                    NaN   \n",
       "17  0/png/912204cb-8ab7-48b8-9abf-d803f3804d08_10.png                    NaN   \n",
       "18   0/png/5387a301-0af8-4e24-a197-20189f87b9ef_9.png                    NaN   \n",
       "19  0/png/5a6b122c-39c1-4581-8c1f-2d6f36a9f8a0_19.png                    NaN   \n",
       "20  0/png/5a6b122c-39c1-4581-8c1f-2d6f36a9f8a0_31.png                    NaN   \n",
       "21   0/png/f179eb06-0c53-44df-a13f-570be23355bb_0.png                    NaN   \n",
       "22  0/png/5a6b122c-39c1-4581-8c1f-2d6f36a9f8a0_25.png                    NaN   \n",
       "23     0/png/7150f512-e7a2-4f2c-86bc-58b671b25ba9.png                    NaN   \n",
       "24   0/png/12756724-394c-4576-b373-7c53f1abbd94_1.png                    NaN   \n",
       "25   0/png/64bba692-d430-440c-9f1e-2575f45770af_7.png                    NaN   \n",
       "26     0/png/6848748d-2881-4c26-b153-fcd5373d2f1c.png                    NaN   \n",
       "27   0/png/12756724-394c-4576-b373-7c53f1abbd94_3.png                    NaN   \n",
       "28   0/png/64bba692-d430-440c-9f1e-2575f45770af_5.png                    NaN   \n",
       "29  0/png/5a6b122c-39c1-4581-8c1f-2d6f36a9f8a0_33.png                    NaN   \n",
       "\n",
       "                              txt  \n",
       "0                 0/txt/IDNET.txt  \n",
       "1                  0/txt/IDTV.txt  \n",
       "2   0/txt/beeline-77774042222.txt  \n",
       "3   0/txt/beeline-77051056626.txt  \n",
       "4           0/txt/beeline-crm.txt  \n",
       "5             0/txt/UBSCRIBER.txt  \n",
       "6           0/txt/beeline-cdr.txt  \n",
       "7                   0/txt/CRM.txt  \n",
       "8                   0/txt/LAC.txt  \n",
       "9           0/txt/beeline-lbs.txt  \n",
       "10               0/txt/Φ»¥σìò.txt  \n",
       "11                            NaN  \n",
       "12                            NaN  \n",
       "13                            NaN  \n",
       "14                            NaN  \n",
       "15                            NaN  \n",
       "16                            NaN  \n",
       "17                            NaN  \n",
       "18                            NaN  \n",
       "19                            NaN  \n",
       "20                            NaN  \n",
       "21                            NaN  \n",
       "22                            NaN  \n",
       "23                            NaN  \n",
       "24                            NaN  \n",
       "25                            NaN  \n",
       "26                            NaN  \n",
       "27                            NaN  \n",
       "28                            NaN  \n",
       "29                            NaN  "
      ]
     },
     "execution_count": 8,
     "metadata": {},
     "output_type": "execute_result"
    }
   ],
   "source": [
    "df = get_folder_file_dataframe(leak_directory)\n",
    "df.head(30)       "
   ]
  },
  {
   "cell_type": "markdown",
   "id": "9b011fbc-09b2-4ccd-b075-62306871df42",
   "metadata": {
    "tags": [],
    "user_expressions": []
   },
   "source": [
    "# Use LLM to classify the source files"
   ]
  },
  {
   "cell_type": "code",
   "execution_count": 9,
   "id": "c46d6b38-6ff3-4a79-860c-a37054e03cb7",
   "metadata": {},
   "outputs": [],
   "source": [
    "import os\n",
    "import concurrent.futures\n",
    "import pandas as pd\n",
    "from langchain.llms import Ollama\n",
    "from langchain.prompts import PromptTemplate\n",
    "from langchain.chains import LLMChain\n",
    "from tqdm import tqdm"
   ]
  },
  {
   "cell_type": "code",
   "execution_count": 10,
   "id": "64ba6064-3151-4166-a432-142d9e610d9c",
   "metadata": {
    "tags": []
   },
   "outputs": [
    {
     "name": "stderr",
     "output_type": "stream",
     "text": [
      "/tmp/ipykernel_313/23640893.py:22: LangChainDeprecationWarning: The class `LLMChain` was deprecated in LangChain 0.1.17 and will be removed in 1.0. Use RunnableSequence, e.g., `prompt | llm` instead.\n",
      "  chain = LLMChain(llm=llm, prompt=prompt_template)\n",
      "Classifying files:   0%|          | 0/70 [00:00<?, ?it/s]/tmp/ipykernel_313/23640893.py:51: LangChainDeprecationWarning: The method `Chain.run` was deprecated in langchain 0.1.0 and will be removed in 1.0. Use invoke instead.\n",
      "  response = chain.run(content=content).strip().lower()\n",
      "Classifying files: 100%|██████████| 70/70 [03:58<00:00,  3.40s/it] \n"
     ]
    },
    {
     "data": {
      "text/html": [
       "<div>\n",
       "<style scoped>\n",
       "    .dataframe tbody tr th:only-of-type {\n",
       "        vertical-align: middle;\n",
       "    }\n",
       "\n",
       "    .dataframe tbody tr th {\n",
       "        vertical-align: top;\n",
       "    }\n",
       "\n",
       "    .dataframe thead th {\n",
       "        text-align: right;\n",
       "    }\n",
       "</style>\n",
       "<table border=\"1\" class=\"dataframe\">\n",
       "  <thead>\n",
       "    <tr style=\"text-align: right;\">\n",
       "      <th></th>\n",
       "      <th>other</th>\n",
       "      <th>images</th>\n",
       "      <th>chats</th>\n",
       "    </tr>\n",
       "  </thead>\n",
       "  <tbody>\n",
       "    <tr>\n",
       "      <th>0</th>\n",
       "      <td>0/md/9d7bc879-3250-4013-ac04-5ff9bd6dff40.md</td>\n",
       "      <td>0/md/dbc9c90e-a3e6-4d71-bb93-5fb8394095ac.md</td>\n",
       "      <td>0/md/28.md</td>\n",
       "    </tr>\n",
       "    <tr>\n",
       "      <th>1</th>\n",
       "      <td>None</td>\n",
       "      <td>0/md/9fd06037-11f1-4ad5-9a7d-cbfb3fa4193b.md</td>\n",
       "      <td>0/md/5.md</td>\n",
       "    </tr>\n",
       "    <tr>\n",
       "      <th>2</th>\n",
       "      <td>None</td>\n",
       "      <td>0/md/3348953d-66e9-4cac-8675-65bb5f2ef929.md</td>\n",
       "      <td>0/md/38.md</td>\n",
       "    </tr>\n",
       "    <tr>\n",
       "      <th>3</th>\n",
       "      <td>None</td>\n",
       "      <td>0/md/07f179c5-5705-4dbd-94a7-66eed1e066b0.md</td>\n",
       "      <td>0/md/18.md</td>\n",
       "    </tr>\n",
       "    <tr>\n",
       "      <th>4</th>\n",
       "      <td>None</td>\n",
       "      <td>0/md/01cdc26f-e773-4ad7-8808-d04abf16aae7.md</td>\n",
       "      <td>0/md/1.md</td>\n",
       "    </tr>\n",
       "  </tbody>\n",
       "</table>\n",
       "</div>"
      ],
      "text/plain": [
       "                                          other  \\\n",
       "0  0/md/9d7bc879-3250-4013-ac04-5ff9bd6dff40.md   \n",
       "1                                          None   \n",
       "2                                          None   \n",
       "3                                          None   \n",
       "4                                          None   \n",
       "\n",
       "                                         images       chats  \n",
       "0  0/md/dbc9c90e-a3e6-4d71-bb93-5fb8394095ac.md  0/md/28.md  \n",
       "1  0/md/9fd06037-11f1-4ad5-9a7d-cbfb3fa4193b.md   0/md/5.md  \n",
       "2  0/md/3348953d-66e9-4cac-8675-65bb5f2ef929.md  0/md/38.md  \n",
       "3  0/md/07f179c5-5705-4dbd-94a7-66eed1e066b0.md  0/md/18.md  \n",
       "4  0/md/01cdc26f-e773-4ad7-8808-d04abf16aae7.md   0/md/1.md  "
      ]
     },
     "execution_count": 10,
     "metadata": {},
     "output_type": "execute_result"
    }
   ],
   "source": [
    "llm = Ollama(model=\"llama3.1:8b\")\n",
    "\n",
    "prompt_template = PromptTemplate(\n",
    "    input_variables=[\"content\"],\n",
    "    template=\"\"\"\n",
    "You are analyzing the content of a file.\n",
    "\n",
    "File content:\n",
    "\\\"\\\"\\\"\n",
    "{content}\n",
    "\\\"\\\"\\\"\n",
    "\n",
    "1. Classify the content into one of the following categories ONLY: chats, images, other.\n",
    "2. State your confidence in the classification as one of: high, medium, or low.\n",
    "3. I will have to make a csv, please give me a list of headers based on the content. E.g. \"[<header_name>, <heaer_name2>, etc.]\n",
    "Respond in the following format:\n",
    "Category: <chats|images|other>\n",
    "Confidence: <high|medium|low>\n",
    "\"\"\"\n",
    ")\n",
    "\n",
    "chain = LLMChain(llm=llm, prompt=prompt_template)\n",
    "\n",
    "# Preprocess the files to the first 20 lines to shorten analysis times\n",
    "def preprocess_first_20_lines(file_path):\n",
    "    try:\n",
    "        with open(file_path, \"r\", encoding=\"utf-8\") as f:\n",
    "            lines = [line.strip() for _, line in zip(range(20), f)]\n",
    "            content = \" \".join(lines)\n",
    "        return file_path, content\n",
    "    except Exception:\n",
    "        return file_path, \"\"\n",
    "\n",
    "# Use only the first column of the DataFrame\n",
    "first_column = df.columns[0]\n",
    "file_paths = df[first_column].dropna().unique().tolist()\n",
    "\n",
    "# Preprocess the file for faster classification\n",
    "with concurrent.futures.ThreadPoolExecutor() as executor:\n",
    "    file_data = list(executor.map(preprocess_first_20_lines, file_paths))\n",
    "\n",
    "# Classify and collect by category\n",
    "valid_categories = {\"chats\", \"images\", \"other\"}\n",
    "categorized_files = {cat: [] for cat in valid_categories}\n",
    "\n",
    "for file_path, content in tqdm(file_data, desc=\"Classifying files\"):\n",
    "    if not content:\n",
    "        continue\n",
    "\n",
    "    try:\n",
    "        response = chain.run(content=content).strip().lower()\n",
    "        lines = response.splitlines()\n",
    "\n",
    "        category = \"\"\n",
    "        for line in lines:\n",
    "            if line.startswith(\"category:\"):\n",
    "                category = line.replace(\"category:\", \"\").strip()\n",
    "                break\n",
    "        if category not in valid_categories:\n",
    "            category = \"other\"\n",
    "\n",
    "        categorized_files[category].append(file_path)\n",
    "\n",
    "    except Exception as e:\n",
    "        print(f\"Error processing {file_path}: {e}\")\n",
    "\n",
    "# Convert to DataFrame (columns = categories)\n",
    "# Determine the maximum list length among all categories\n",
    "max_len = 0\n",
    "for file_list in categorized_files.values():\n",
    "    if len(file_list) > max_len:\n",
    "        max_len = len(file_list)\n",
    "\n",
    "# Pad each list with None to match max length\n",
    "padded = {}\n",
    "for category, file_list in categorized_files.items():\n",
    "    padding_needed = max_len - len(file_list)\n",
    "    padded[category] = file_list + [None] * padding_needed\n",
    "result_df = pd.DataFrame(padded)\n",
    "result_df.to_csv(\"classified_by_category.csv\", index=False)\n",
    "result_df.head()"
   ]
  },
  {
   "cell_type": "code",
   "execution_count": 11,
   "id": "3ae9479b-52e3-48d0-867b-55aa68bf1acd",
   "metadata": {
    "tags": []
   },
   "outputs": [],
   "source": [
    "import os\n",
    "import pandas as pd\n",
    "import re\n",
    "from collections import defaultdict"
   ]
  },
  {
   "cell_type": "markdown",
   "id": "6e96cc02-e59d-4113-b35e-857490c25736",
   "metadata": {
    "tags": [],
    "user_expressions": []
   },
   "source": [
    "# Script to check for cross refernced files"
   ]
  },
  {
   "cell_type": "code",
   "execution_count": 12,
   "id": "f2960f30-2535-4cc4-b4ec-ac57315e764c",
   "metadata": {},
   "outputs": [],
   "source": [
    "import pandas as pd\n",
    "import os\n",
    "import re\n",
    "from collections import defaultdict"
   ]
  },
  {
   "cell_type": "code",
   "execution_count": 13,
   "id": "9e94a6ab-a1d9-4c11-b275-a753fc8182f8",
   "metadata": {
    "tags": []
   },
   "outputs": [
    {
     "name": "stdout",
     "output_type": "stream",
     "text": [
      "                                    source_file  \\\n",
      "0  0/md/01cdc26f-e773-4ad7-8808-d04abf16aae7.md   \n",
      "1                                    0/md/10.md   \n",
      "2                                    0/md/13.md   \n",
      "3                                    0/md/15.md   \n",
      "4  0/md/178e3898-903d-47cf-bfbe-061e7dc18895.md   \n",
      "5                                    0/md/19.md   \n",
      "6                                     0/md/2.md   \n",
      "7                                    0/md/20.md   \n",
      "8                                    0/md/21.md   \n",
      "9                                    0/md/22.md   \n",
      "\n",
      "                                            mentions  \n",
      "0  [0/png/01cdc26f-e773-4ad7-8808-d04abf16aae7_1_...  \n",
      "1  [0/png/0-6bcc0131-e4ad-421e-bb1f-d8ebe5eeec7b....  \n",
      "2  [0/png/0-adaf869e-920a-4a17-91bd-e2ef3125c10e....  \n",
      "3  [0/png/0-b8cea3b1-4dde-4438-9b1a-6faf690bbad0....  \n",
      "4  [0/png/178e3898-903d-47cf-bfbe-061e7dc18895_8....  \n",
      "5  [0/png/6848748d-2881-4c26-b153-fcd5373d2f1c.pn...  \n",
      "6  [0/md/07f179c5-5705-4dbd-94a7-66eed1e066b0.md,...  \n",
      "7  [0/png/0-785cc8c9-1225-4f93-b633-349bc5113512....  \n",
      "8  [0/png/9c8c9989-2293-4e68-9ffe-6f7a5f14562f.pn...  \n",
      "9  [0/png/0-b0a4acaa-d768-4f6d-8e54-6d20f271bb7c....  \n",
      "Unique file paths in original DataFrame: 577\n"
     ]
    }
   ],
   "source": [
    "# Extract all unique file paths from the DataFrame \n",
    "file_paths = df.stack().dropna().unique().tolist()\n",
    "\n",
    "# Read file content\n",
    "def read_file(path):\n",
    "    try:\n",
    "        with open(path, 'r', encoding='utf-8') as f:\n",
    "            return f.read()\n",
    "    except:\n",
    "        return \"Failed to open file\"\n",
    "\n",
    "# Read file contents into a dictionary \n",
    "file_contents = {path: read_file(path) for path in file_paths}\n",
    "\n",
    "# Build a reference map (which files mention which) \n",
    "reference_map = defaultdict(list)\n",
    "\n",
    "for source_path, content in file_contents.items():\n",
    "    if content is None:\n",
    "        continue  # skip if content is None\n",
    "\n",
    "    for target_path in file_paths:\n",
    "        if target_path == source_path:\n",
    "            continue  # skip comparing file to itself\n",
    "\n",
    "        target_filename = os.path.basename(target_path)\n",
    "        pattern = re.escape(target_filename)\n",
    "\n",
    "        if re.search(rf'\\b{pattern}\\b', content):\n",
    "            reference_map[source_path].append(target_path)\n",
    "\n",
    "# Convert reference map to a DataFrame\n",
    "ref_df = pd.DataFrame([\n",
    "    {\"source_file\": src, \"mentions\": tgt}\n",
    "    for src, tgts in reference_map.items()\n",
    "    for tgt in tgts\n",
    "])\n",
    "\n",
    "# Group mentions into lists per source_file\n",
    "ref_summary = ref_df.groupby(\"source_file\")[\"mentions\"].apply(list).reset_index()\n",
    "\n",
    "# Some source_file names are also in mentions, therefore they aren't a source file anymore\n",
    "source_files = set(ref_summary[\"source_file\"])\n",
    "mentioned_files = set(file for mention_list in ref_summary[\"mentions\"] for file in mention_list)\n",
    "common_files = source_files.intersection(mentioned_files)\n",
    "\n",
    "# Filter out common files from the DataFrame\n",
    "filtered_ref_summary = ref_summary[~ref_summary[\"source_file\"].isin(common_files)].reset_index(drop=True)\n",
    "\n",
    "filtered_ref_summary.to_csv(\"file_reference_map.csv\", index=False)\n",
    "print(filtered_ref_summary.head(10))\n",
    "print(\"Unique file paths in original DataFrame:\", df.stack().nunique())"
   ]
  },
  {
   "cell_type": "markdown",
   "id": "df0bce5a-16de-48e6-83df-240b732f1a20",
   "metadata": {
    "user_expressions": []
   },
   "source": [
    "# Check for more linkages in the files + add the missing source files from the chats"
   ]
  },
  {
   "cell_type": "code",
   "execution_count": 14,
   "id": "10f92af7-5075-4d8d-9251-113f6e360f1e",
   "metadata": {},
   "outputs": [],
   "source": [
    "import pandas as pd\n",
    "import os\n",
    "import re\n",
    "from ast import literal_eval\n",
    "import ast"
   ]
  },
  {
   "cell_type": "code",
   "execution_count": 15,
   "id": "fe46121c-4ff4-4e45-b248-8edd4d12be74",
   "metadata": {
    "tags": []
   },
   "outputs": [
    {
     "name": "stdout",
     "output_type": "stream",
     "text": [
      "Index(['source_file', 'mentions', 'mentions2'], dtype='object')\n"
     ]
    }
   ],
   "source": [
    "def is_readable_text_file(path):\n",
    "    return any(path.endswith(ext) for ext in ['txt', 'md', 'rst', 'tex', 'nfo', 'readme', 'rtf', 'doc', 'docx',\n",
    "    'cfg', 'conf', 'config', 'ini', 'json', 'yaml', 'yml', 'toml',\n",
    "    'log', 'lst', 'cnf', 'properties', 'prefs',\n",
    "    'csv', 'tsv', 'dat', 'db', 'dbf', 'sql', 'xml',\n",
    "    'ssv', 'psv', 'jsonl', 'parquet', 'orc',\n",
    "    'html', 'htm', 'xhtml', 'xht', 'css', 'js',\n",
    "    'jsx', 'ts', 'tsx', 'vue', 'erb', 'ejs', 'jsp',\n",
    "    'liquid', 'handlebars', 'hbs', 'mustache',\n",
    "    'py', 'pyw', 'ipynb', 'java', 'c', 'cpp', 'h', 'hpp', 'cs',\n",
    "    'sh', 'bash', 'zsh', 'ksh', 'bat', 'cmd', 'ps1',\n",
    "    'r', 'jl', 'pl', 'pm', 'rb', 'go', 'lua', 'php',\n",
    "    'swift', 'scala', 'dart', 'asm', 'groovy',\n",
    "    'rmd', 'sage', 'nb',\n",
    "    'env', 'gradle', 'makefile', 'mak', 'mk',\n",
    "    'dockerfile', 'gitignore', 'gitattributes', 'gitmodules',\n",
    "    'cmake', 'make', 'ninja', 'build',\n",
    "    'manifest', 'manifest.json', 'vtt', 'srt', 'resx', 'strings',\n",
    "    'lang', 'po', 'mo', 'pot', 'msg', 'textbundle',\n",
    "    'rego', 'tf', 'tfvars', 'cue', 'bzl', 'bazel', 'nix', 'dhall',\n",
    "    'adoc', 'asciidoc', 'creole', 'mediawiki', 'wiki', 'org',\n",
    "    'eml', 'msg', 'mbox', 'mail', 'ics', 'vcf'])\n",
    "\n",
    "mentions2_list = []\n",
    "\n",
    "# Iterate over each row of the summary\n",
    "for _, row in filtered_ref_summary.iterrows():\n",
    "    mention_dict = {}\n",
    "\n",
    "    # For each mentioned file read file contents and create a dictionary key: location - values: file contents\n",
    "    for mentioned_file in row[\"mentions\"]:\n",
    "        if not is_readable_text_file(mentioned_file):\n",
    "            continue  # Skip unreadable formats\n",
    "\n",
    "        # Read file content\n",
    "        content = read_file(mentioned_file)\n",
    "        if content in [None, \"Failed to open file\"]:\n",
    "            continue\n",
    "\n",
    "        # Search for any file-type references using regex\n",
    "        # Match anything with a name and known file extension\n",
    "        found_files = re.findall(r'[\\w\\-/]*\\.\\w+', content)\n",
    "\n",
    "        # Filter duplicates and add to the mention_dict\n",
    "        if found_files:\n",
    "            mention_dict[mentioned_file] = list(set(found_files))\n",
    "\n",
    "    mentions2_list.append(mention_dict)\n",
    "\n",
    "# Add this as a new column\n",
    "filtered_ref_summary[\"mentions2\"] = mentions2_list\n",
    "\n",
    "# Get the list of chat files from result_df - LLM clasification\n",
    "chat_files = result_df['chats'].dropna().unique()\n",
    "\n",
    "# Get the list of source files already in filtered_ref_summary\n",
    "source_files = filtered_ref_summary['source_file'].dropna().unique()\n",
    "\n",
    "# Find missing chat files and collect chat files that are not found in source files\n",
    "existing_source_files = set(source_files)\n",
    "missing_chat_files = []\n",
    "for chat_file in chat_files:\n",
    "    if chat_file not in existing_source_files:\n",
    "        missing_chat_files.append(chat_file)\n",
    "\n",
    "# Create a new DataFrame with empty mentions and linkage columns\n",
    "new_rows = pd.DataFrame({\n",
    "    'source_file': missing_chat_files,\n",
    "})\n",
    "\n",
    "# Append the new rows to ref_summary\n",
    "filtered_ref_summary = pd.concat([filtered_ref_summary, new_rows], ignore_index=True)\n",
    "        \n",
    "# Save the updated DataFrame to CSV\n",
    "filtered_ref_summary.to_csv(\"file_reference_map_extended.csv\", index=False)\n",
    "print(filtered_ref_summary.columns)"
   ]
  },
  {
   "cell_type": "markdown",
   "id": "de4e01b1-5dd6-4678-b3d9-e48e859045f1",
   "metadata": {
    "user_expressions": []
   },
   "source": [
    "# Structuring the Data into CSV - Step 1 all MD files"
   ]
  },
  {
   "cell_type": "code",
   "execution_count": 16,
   "id": "37835ee2-1c35-4cf7-a08e-89d2e02c5621",
   "metadata": {
    "tags": []
   },
   "outputs": [],
   "source": [
    "import os\n",
    "import pandas as pd\n",
    "from pathlib import Path\n",
    "from bs4 import BeautifulSoup"
   ]
  },
  {
   "cell_type": "code",
   "execution_count": 17,
   "id": "b9d08d1c-afe4-4cae-b359-779c917f3689",
   "metadata": {
    "tags": []
   },
   "outputs": [],
   "source": [
    "# Create a folder and dumb all csvs\n",
    "output_dir = \"csvs\"\n",
    "os.makedirs(output_dir, exist_ok=True)\n",
    "\n",
    "# Get all MD files from the DataFrame\n",
    "all_file_paths = pd.unique(result_df.values.ravel('K'))\n",
    "md_files = []\n",
    "for file_path in all_file_paths:\n",
    "    if isinstance(file_path, str) and file_path.endswith(\".md\") and os.path.exists(file_path):\n",
    "        md_files.append(file_path)\n",
    "        \n",
    "# Use the LLM's clasification of MD files\n",
    "chat_files = set(result_df['chats'].dropna().astype(str))\n",
    "\n",
    "# Extract visible text + ANY file reference \n",
    "def extract_text_and_files(td):\n",
    "    text = td.get_text(strip=True)\n",
    "    links = []\n",
    "    for tag in td.find_all(['a', 'img']):\n",
    "        link = tag.get('href') or tag.get('src')\n",
    "        if link:\n",
    "            fname = os.path.basename(link.strip(\"'\\\"\"))\n",
    "            links.append(fname)\n",
    "    return text + (\" \" + \" \".join(links) if links else \"\")\n",
    "\n",
    "# This method extracts chat table from HTML\n",
    "def process_chat_md(file_path):\n",
    "    try:\n",
    "        with open(file_path, \"r\", encoding=\"utf-8\") as f:\n",
    "            content = f.read()\n",
    "        soup = BeautifulSoup(content, \"lxml\")\n",
    "        rows = soup.find_all(\"tr\")[1:]\n",
    "        data = []\n",
    "        for row in rows:\n",
    "            cols = row.find_all(\"td\")\n",
    "            if len(cols) == 4:\n",
    "                data.append({\n",
    "                    \"Time\": cols[0].get_text(strip=True),\n",
    "                    \"From\": cols[1].get_text(strip=True),\n",
    "                    \"To\": cols[2].get_text(strip=True),\n",
    "                    \"Message\": extract_text_and_files(cols[3])\n",
    "                })\n",
    "        return pd.DataFrame(data) if data else None\n",
    "    except Exception as e:\n",
    "        print(f\"Error processing chat file {file_path}: {e}\")\n",
    "        return None\n",
    "\n",
    "# Extract the contents of the other file types that the LLM classified\n",
    "def process_reference_md(file_path):\n",
    "    try:\n",
    "        with open(file_path, \"r\", encoding=\"utf-8\") as f:\n",
    "            content = f.read()\n",
    "        soup = BeautifulSoup(content, \"lxml\")\n",
    "        matches = []\n",
    "        for tag in soup.find_all(['a', 'img']):\n",
    "            link = tag.get('href') or tag.get('src')\n",
    "            if link:\n",
    "                fname = os.path.basename(link.strip(\"'\\\"\"))\n",
    "                if not fname.startswith(\"0-\"):\n",
    "                    matches.append(fname)\n",
    "        matches = list(set(matches))\n",
    "        return pd.DataFrame([{\"File_Name\": f} for f in matches]) if matches else None\n",
    "    except Exception as e:\n",
    "        print(f\"Error processing reference file {file_path}: {e}\")\n",
    "        return None\n",
    "\n",
    "# Loop through all MD filesand call the above methods for the afferent file type\n",
    "for file_path in md_files:\n",
    "    csv_name = os.path.basename(file_path).replace(\".md\", \".csv\")\n",
    "    csv_path = os.path.join(output_dir, csv_name)\n",
    "\n",
    "    if not os.path.exists(csv_path):\n",
    "        if file_path in chat_files:\n",
    "            df = process_chat_md(file_path)\n",
    "        else:\n",
    "            df = process_reference_md(file_path)\n",
    "\n",
    "        if df is not None:\n",
    "            df.to_csv(csv_path, index=False)\n",
    "        else:\n",
    "            print(f\"Couldn't save to CSV: {file_path}\")"
   ]
  },
  {
   "cell_type": "code",
   "execution_count": 18,
   "id": "070f1c87-70d5-4699-8220-fecbc4f05457",
   "metadata": {
    "tags": []
   },
   "outputs": [],
   "source": [
    "import os\n",
    "import ast\n",
    "from pathlib import Path"
   ]
  },
  {
   "cell_type": "code",
   "execution_count": 19,
   "id": "6f4e4289-8394-4707-b8d9-687061d28d62",
   "metadata": {
    "tags": []
   },
   "outputs": [
    {
     "data": {
      "text/html": [
       "<div>\n",
       "<style scoped>\n",
       "    .dataframe tbody tr th:only-of-type {\n",
       "        vertical-align: middle;\n",
       "    }\n",
       "\n",
       "    .dataframe tbody tr th {\n",
       "        vertical-align: top;\n",
       "    }\n",
       "\n",
       "    .dataframe thead th {\n",
       "        text-align: right;\n",
       "    }\n",
       "</style>\n",
       "<table border=\"1\" class=\"dataframe\">\n",
       "  <thead>\n",
       "    <tr style=\"text-align: right;\">\n",
       "      <th></th>\n",
       "      <th>source_file</th>\n",
       "      <th>mentions</th>\n",
       "      <th>mentions2</th>\n",
       "    </tr>\n",
       "  </thead>\n",
       "  <tbody>\n",
       "    <tr>\n",
       "      <th>0</th>\n",
       "      <td>csvs/01cdc26f-e773-4ad7-8808-d04abf16aae7.csv</td>\n",
       "      <td>[0/png/01cdc26f-e773-4ad7-8808-d04abf16aae7_1_...</td>\n",
       "      <td>{}</td>\n",
       "    </tr>\n",
       "    <tr>\n",
       "      <th>1</th>\n",
       "      <td>csvs/10.csv</td>\n",
       "      <td>[0/png/0-6bcc0131-e4ad-421e-bb1f-d8ebe5eeec7b....</td>\n",
       "      <td>{'csvs/12756724-394c-4576-b373-7c53f1abbd94.cs...</td>\n",
       "    </tr>\n",
       "    <tr>\n",
       "      <th>2</th>\n",
       "      <td>csvs/13.csv</td>\n",
       "      <td>[0/png/0-adaf869e-920a-4a17-91bd-e2ef3125c10e....</td>\n",
       "      <td>{'csvs/585875ff-f8c5-4a02-acd7-fef37dc9ff11.cs...</td>\n",
       "    </tr>\n",
       "    <tr>\n",
       "      <th>3</th>\n",
       "      <td>csvs/15.csv</td>\n",
       "      <td>[0/png/0-b8cea3b1-4dde-4438-9b1a-6faf690bbad0....</td>\n",
       "      <td>{}</td>\n",
       "    </tr>\n",
       "    <tr>\n",
       "      <th>4</th>\n",
       "      <td>csvs/178e3898-903d-47cf-bfbe-061e7dc18895.csv</td>\n",
       "      <td>[0/png/178e3898-903d-47cf-bfbe-061e7dc18895_8....</td>\n",
       "      <td>{}</td>\n",
       "    </tr>\n",
       "  </tbody>\n",
       "</table>\n",
       "</div>"
      ],
      "text/plain": [
       "                                     source_file  \\\n",
       "0  csvs/01cdc26f-e773-4ad7-8808-d04abf16aae7.csv   \n",
       "1                                    csvs/10.csv   \n",
       "2                                    csvs/13.csv   \n",
       "3                                    csvs/15.csv   \n",
       "4  csvs/178e3898-903d-47cf-bfbe-061e7dc18895.csv   \n",
       "\n",
       "                                            mentions  \\\n",
       "0  [0/png/01cdc26f-e773-4ad7-8808-d04abf16aae7_1_...   \n",
       "1  [0/png/0-6bcc0131-e4ad-421e-bb1f-d8ebe5eeec7b....   \n",
       "2  [0/png/0-adaf869e-920a-4a17-91bd-e2ef3125c10e....   \n",
       "3  [0/png/0-b8cea3b1-4dde-4438-9b1a-6faf690bbad0....   \n",
       "4  [0/png/178e3898-903d-47cf-bfbe-061e7dc18895_8....   \n",
       "\n",
       "                                           mentions2  \n",
       "0                                                 {}  \n",
       "1  {'csvs/12756724-394c-4576-b373-7c53f1abbd94.cs...  \n",
       "2  {'csvs/585875ff-f8c5-4a02-acd7-fef37dc9ff11.cs...  \n",
       "3                                                 {}  \n",
       "4                                                 {}  "
      ]
     },
     "execution_count": 19,
     "metadata": {},
     "output_type": "execute_result"
    }
   ],
   "source": [
    "csv_dir = \"csvs\"\n",
    "\n",
    "# Replace MD with CSV if the corresponding file exists\n",
    "def replace_md_with_csv(item):\n",
    "    if isinstance(item, str) and item.endswith(\".md\"):\n",
    "        base_name = Path(item).stem  # .stem extracts the filename with no extension\n",
    "        # CSV search\n",
    "        csv_path = os.path.join(csv_dir, f\"{base_name}.csv\")\n",
    "        if os.path.exists(csv_path):\n",
    "            return csv_path\n",
    "        else:\n",
    "            print(f\"CSV {item} not found\")\n",
    "    return item\n",
    "\n",
    "# Recursively handle strings, lists, and dictionaries\n",
    "def process_column_cell(cell):\n",
    "    if isinstance(cell, str):\n",
    "        return replace_md_with_csv(cell)\n",
    "    \n",
    "    elif isinstance(cell, list):\n",
    "        new_list = []\n",
    "        for item in cell:\n",
    "            new_item = process_column_cell(item)\n",
    "            new_list.append(new_item)\n",
    "        return new_list\n",
    "\n",
    "    elif isinstance(cell, dict):\n",
    "        new_dict = {}\n",
    "        for key, value in cell.items():\n",
    "            new_key = replace_md_with_csv(key)\n",
    "            new_value = process_column_cell(value)\n",
    "            new_dict[new_key] = new_value\n",
    "        return new_dict\n",
    "\n",
    "    else:\n",
    "        return cell\n",
    "    \n",
    "for col in filtered_ref_summary.columns:\n",
    "    filtered_ref_summary[col] = filtered_ref_summary[col].apply(process_column_cell)\n",
    "\n",
    "filtered_ref_summary.to_csv(\"filtered_ref_summary_csv_replaced.csv\", index=False)\n",
    "filtered_ref_summary.head()        "
   ]
  },
  {
   "cell_type": "markdown",
   "id": "8d20edad-a67b-49d6-a04e-c7dd5816c91a",
   "metadata": {
    "user_expressions": []
   },
   "source": [
    "# Structuring the Data into CSV - Step 2 OCR on image files"
   ]
  },
  {
   "cell_type": "markdown",
   "id": "bb7a0616-c062-4478-b6ef-2fd80fe5c61f",
   "metadata": {
    "user_expressions": []
   },
   "source": [
    "LIST OF FILES FOR TEST: 5a6b122c-39c1-4581-8c1f-2d6f36a9f8a0_0.png, 08a6bcd3-6477-4252-8f35-4f8f80d114f9.png, 1afcf93d-50f1-4f1e-896d-87b0da7519f7.png, 32eb7662-f212-4811-a7c1-1cfeb121cd99.png, 6bcc0131-e4ad-421e-bb1f-d8ebe5eeec7b.png, 79d9b7f2-cfe4-4615-9b75-8fea33fc0c9d.png, 4ae9bf34-c16c-4684-aa92-fec65a151275.png, 5a84cde3-7175-4044-8c88-d4c883a8fd38.png, e705d192-90ee-4fd1-9dcd-061958d1817f.png, 912204cb-8ab7-48b8-9abf-d803f3804d08_4.png"
   ]
  },
  {
   "cell_type": "markdown",
   "id": "a6a55ce6-7b7e-483b-8db8-88434d07f3f3",
   "metadata": {
    "user_expressions": []
   },
   "source": [
    "# **TEST-1: Extraction with LLAVA**"
   ]
  },
  {
   "cell_type": "code",
   "execution_count": 20,
   "id": "fbe48e62-26a6-411a-b0ba-3aeaaa33b381",
   "metadata": {
    "tags": []
   },
   "outputs": [
    {
     "name": "stdout",
     "output_type": "stream",
     "text": [
      "5a6b122c-39c1-4581-8c1f-2d6f36a9f8a0_0.png:\n",
      "The Chinese text on the image is: \"未来医疗技术与科学研究开展方向\".\n",
      "\n",
      "08a6bcd3-6477-4252-8f35-4f8f80d114f9.png:\n",
      "I'm unable to process images or provide translations directly from this interface. If you need assistance with the Chinese text in the image, please type out the text in a separate message, and I will be happy to help you with its translation or any other question you may have!\n",
      "\n",
      "1afcf93d-50f1-4f1e-896d-87b0da7519f7.png:\n",
      "你好！我有一个问题想要请教。我现在正在做一个简单的项目，需要购买一些电子设备。如果可以的话，能否向您请教一下价格和采购建议？谢谢！\n",
      "\n",
      "32eb7662-f212-4811-a7c1-1cfeb121cd99.png:\n",
      "The image you've provided shows a screenshot of a computer interface with several lines of Chinese text. Here is the extracted Chinese text from the visible parts of the screen:\n",
      "\n",
      "```\n",
      "发送人：陈某某\n",
      "发送时间：2014年6月8日 下午9点37分\n",
      "标题：关于一些信息的提供\n",
      "内容：\n",
      "\n",
      "这是一个测试文本。请问我应该在哪里写？\n",
      "```\n",
      "\n",
      "Please note that the text may be incomplete as it only covers part of what is visible in the image.\n",
      "\n",
      "6bcc0131-e4ad-421e-bb1f-d8ebe5eeec7b.png:\n",
      "抱歉，由于此图像的质量不够高，我无法识别并提取中文。请提供一个清晰的图片或文字，以便我为您提取中文。\n",
      "\n",
      "79d9b7f2-cfe4-4615-9b75-8fea33fc0c9d.png:\n",
      "投票数量：1000\n",
      "请选择/GM印章\n",
      "\n",
      "4ae9bf34-c16c-4684-aa92-fec65a151275.png:\n",
      "The image contains Chinese text that reads \"设置\" which means \"settings.\" It seems to be a screenshot of a software or system settings interface with some options visible. The actual content of the window, such as the names of the options and their values, is not clearly visible due to the angle and quality of the image.\n",
      "\n",
      "5a84cde3-7175-4044-8c88-d4c883a8fd38.png:\n",
      "很抱歉，我无法为您提供文字识别服务。\n",
      "\n",
      "e705d192-90ee-4fd1-9dcd-061958d1817f.png:\n",
      "哇哦，这个是我最喜欢的人！👯‍♀️\n",
      "\n",
      "912204cb-8ab7-48b8-9abf-d803f3804d08_4.png:\n",
      "Here are the lines of text in Chinese from the image:\n",
      "\n",
      "- 对于第三层，基于微服务架构。\n",
      "- 采用Spring Boot作为开发工具。\n",
      "- 使用Nacos进行服务注册与发现。\n",
      "- 使用MongoDB作为数据库存储。\n",
      "- 基于Redis实现缓存功能。\n",
      "\n"
     ]
    }
   ],
   "source": [
    "import base64\n",
    "import requests\n",
    "import os\n",
    "\n",
    "# List of image file paths\n",
    "image_paths = [\n",
    "    \"0/png/5a6b122c-39c1-4581-8c1f-2d6f36a9f8a0_0.png\", \n",
    "    \"0/png/08a6bcd3-6477-4252-8f35-4f8f80d114f9.png\", \n",
    "    \"0/png/1afcf93d-50f1-4f1e-896d-87b0da7519f7.png\", \n",
    "    \"0/png/32eb7662-f212-4811-a7c1-1cfeb121cd99.png\", \n",
    "    \"0/png/6bcc0131-e4ad-421e-bb1f-d8ebe5eeec7b.png\", \n",
    "    \"0/png/79d9b7f2-cfe4-4615-9b75-8fea33fc0c9d.png\", \n",
    "    \"0/png/4ae9bf34-c16c-4684-aa92-fec65a151275.png\", \n",
    "    \"0/png/5a84cde3-7175-4044-8c88-d4c883a8fd38.png\", \n",
    "    \"0/png/e705d192-90ee-4fd1-9dcd-061958d1817f.png\", \n",
    "    \"0/png/912204cb-8ab7-48b8-9abf-d803f3804d08_4.png\"\n",
    "]\n",
    "\n",
    "# Define the prompt\n",
    "prompt = \"EXTRACT AND ONLY GIVE ME THE Chinese text in the given image. NO TRANSLATION, ONLY extract the TEXT IN CHINESE MANDARIN FROM THE PNG FILE\"\n",
    "\n",
    "# Process each image\n",
    "for image_path in image_paths:\n",
    "    with open(image_path, \"rb\") as f:\n",
    "        image_b64 = base64.b64encode(f.read()).decode(\"utf-8\")\n",
    "\n",
    "    response = requests.post(\n",
    "        \"http://localhost:11434/api/generate\",\n",
    "        json={\n",
    "            \"model\": \"llava:13b\",\n",
    "            \"prompt\": prompt,\n",
    "            \"images\": [image_b64],\n",
    "            \"stream\": False\n",
    "        },\n",
    "    )\n",
    "\n",
    "    filename = os.path.basename(image_path)\n",
    "    if response.ok:\n",
    "        output_text = response.json()[\"response\"]\n",
    "    else:\n",
    "        output_text = f\"Error: {response.text}\"\n",
    "\n",
    "    print(f\"{filename}:\\n{output_text.strip()}\\n\")"
   ]
  },
  {
   "cell_type": "markdown",
   "id": "41dde838-42c2-4ed1-bd55-8031cc18d077",
   "metadata": {},
   "source": [
    "# **DATA TRANSLATION Verification - 3 LLMs**"
   ]
  },
  {
   "cell_type": "code",
   "execution_count": 21,
   "id": "a8e79992-2b44-4424-98d4-c5783bd96644",
   "metadata": {
    "tags": []
   },
   "outputs": [],
   "source": [
    "import os\n",
    "import pandas as pd"
   ]
  },
  {
   "cell_type": "code",
   "execution_count": 22,
   "id": "ff4c91a1-3686-4dc0-a215-7c5f89efd28d",
   "metadata": {
    "tags": []
   },
   "outputs": [
    {
     "name": "stdout",
     "output_type": "stream",
     "text": [
      "                                           other  \\\n",
      "0  csvs/9d7bc879-3250-4013-ac04-5ff9bd6dff40.csv   \n",
      "1                                           None   \n",
      "2                                           None   \n",
      "3                                           None   \n",
      "4                                           None   \n",
      "\n",
      "                                          images        chats  \n",
      "0  csvs/dbc9c90e-a3e6-4d71-bb93-5fb8394095ac.csv  csvs/28.csv  \n",
      "1  csvs/9fd06037-11f1-4ad5-9a7d-cbfb3fa4193b.csv   csvs/5.csv  \n",
      "2  csvs/3348953d-66e9-4cac-8675-65bb5f2ef929.csv  csvs/38.csv  \n",
      "3  csvs/07f179c5-5705-4dbd-94a7-66eed1e066b0.csv  csvs/18.csv  \n",
      "4  csvs/01cdc26f-e773-4ad7-8808-d04abf16aae7.csv   csvs/1.csv  \n"
     ]
    }
   ],
   "source": [
    "# Use the csvs folder and the LLM classification of MD files to create a new df that stores the csvs into categories.\n",
    "\n",
    "csv_folder = \"csvs\"\n",
    "\n",
    "csv_mapping = {}\n",
    "# Loop through each file in the CSV folder\n",
    "for filename in os.listdir(csv_folder):\n",
    "    # Check for csv\n",
    "    if filename.endswith('.csv'):\n",
    "        # Replace the \".csv\" extension with \".md\" to create the key\n",
    "        md_filename = filename.replace('.csv', '.md')\n",
    "        \n",
    "        # Set the value to the full path to the CSV file \n",
    "        csv_full_path = os.path.join(csv_folder, filename)\n",
    "        \n",
    "        # Add the key-value pair to the mapping\n",
    "        csv_mapping[md_filename] = csv_full_path\n",
    "\n",
    "# Step 2: Define function to replace .md path with .csv path\n",
    "def replace_md_with_csv(val):\n",
    "    if isinstance(val, str):\n",
    "        base = os.path.basename(val)\n",
    "        return csv_mapping.get(base, val)\n",
    "    return val\n",
    "\n",
    "df_csvs_llm = result_df.applymap(replace_md_with_csv)\n",
    "df_csvs_llm.to_csv(\"updated_with_csv_paths.csv\", index=False)\n",
    "print(df_csvs_llm.head())"
   ]
  },
  {
   "cell_type": "markdown",
   "id": "74cd9bec-a3c0-48d0-8366-f54ca8f4ae1c",
   "metadata": {},
   "source": [
    "# **TEST-1: gemma3:27b**"
   ]
  },
  {
   "cell_type": "code",
   "execution_count": 79,
   "id": "703a4971-7d0b-4c8e-ae00-78706f144c00",
   "metadata": {
    "tags": []
   },
   "outputs": [
    {
     "name": "stderr",
     "output_type": "stream",
     "text": [
      "Translating with Ollama:   7%|▋         | 22/329 [02:06<29:27,  5.76s/it] \n"
     ]
    },
    {
     "ename": "KeyboardInterrupt",
     "evalue": "",
     "output_type": "error",
     "traceback": [
      "\u001b[31m---------------------------------------------------------------------------\u001b[39m",
      "\u001b[31mKeyboardInterrupt\u001b[39m                         Traceback (most recent call last)",
      "\u001b[36mCell\u001b[39m\u001b[36m \u001b[39m\u001b[32mIn[79]\u001b[39m\u001b[32m, line 53\u001b[39m\n\u001b[32m     51\u001b[39m     futures.append(executor.submit(translate_row, index))\n\u001b[32m---> \u001b[39m\u001b[32m53\u001b[39m \u001b[43m\u001b[49m\u001b[38;5;28;43;01mfor\u001b[39;49;00m\u001b[43m \u001b[49m\u001b[43mfuture\u001b[49m\u001b[43m \u001b[49m\u001b[38;5;129;43;01min\u001b[39;49;00m\u001b[43m \u001b[49m\u001b[43mtqdm\u001b[49m\u001b[43m(\u001b[49m\u001b[43mas_completed\u001b[49m\u001b[43m(\u001b[49m\u001b[43mfutures\u001b[49m\u001b[43m)\u001b[49m\u001b[43m,\u001b[49m\u001b[43m \u001b[49m\u001b[43mtotal\u001b[49m\u001b[43m=\u001b[49m\u001b[38;5;28;43mlen\u001b[39;49m\u001b[43m(\u001b[49m\u001b[43mfutures\u001b[49m\u001b[43m)\u001b[49m\u001b[43m,\u001b[49m\u001b[43m \u001b[49m\u001b[43mdesc\u001b[49m\u001b[43m=\u001b[49m\u001b[33;43m\"\u001b[39;49m\u001b[33;43mTranslating with Ollama\u001b[39;49m\u001b[33;43m\"\u001b[39;49m\u001b[43m)\u001b[49m\u001b[43m:\u001b[49m\n\u001b[32m     54\u001b[39m \u001b[43m    \u001b[49m\u001b[43midx\u001b[49m\u001b[43m,\u001b[49m\u001b[43m \u001b[49m\u001b[43mresult\u001b[49m\u001b[43m \u001b[49m\u001b[43m=\u001b[49m\u001b[43m \u001b[49m\u001b[43mfuture\u001b[49m\u001b[43m.\u001b[49m\u001b[43mresult\u001b[49m\u001b[43m(\u001b[49m\u001b[43m)\u001b[49m\n",
      "\u001b[36mFile \u001b[39m\u001b[32m~/IsoonAI/lib/python3.11/site-packages/tqdm/std.py:1181\u001b[39m, in \u001b[36mtqdm.__iter__\u001b[39m\u001b[34m(self)\u001b[39m\n\u001b[32m   1180\u001b[39m \u001b[38;5;28;01mtry\u001b[39;00m:\n\u001b[32m-> \u001b[39m\u001b[32m1181\u001b[39m \u001b[43m    \u001b[49m\u001b[38;5;28;43;01mfor\u001b[39;49;00m\u001b[43m \u001b[49m\u001b[43mobj\u001b[49m\u001b[43m \u001b[49m\u001b[38;5;129;43;01min\u001b[39;49;00m\u001b[43m \u001b[49m\u001b[43miterable\u001b[49m\u001b[43m:\u001b[49m\n\u001b[32m   1182\u001b[39m \u001b[43m        \u001b[49m\u001b[38;5;28;43;01myield\u001b[39;49;00m\u001b[43m \u001b[49m\u001b[43mobj\u001b[49m\n",
      "\u001b[36mFile \u001b[39m\u001b[32m/opt/miniconda3/lib/python3.11/concurrent/futures/_base.py:243\u001b[39m, in \u001b[36mas_completed\u001b[39m\u001b[34m(fs, timeout)\u001b[39m\n\u001b[32m    239\u001b[39m         \u001b[38;5;28;01mraise\u001b[39;00m \u001b[38;5;167;01mTimeoutError\u001b[39;00m(\n\u001b[32m    240\u001b[39m                 \u001b[33m'\u001b[39m\u001b[38;5;132;01m%d\u001b[39;00m\u001b[33m (of \u001b[39m\u001b[38;5;132;01m%d\u001b[39;00m\u001b[33m) futures unfinished\u001b[39m\u001b[33m'\u001b[39m % (\n\u001b[32m    241\u001b[39m                 \u001b[38;5;28mlen\u001b[39m(pending), total_futures))\n\u001b[32m--> \u001b[39m\u001b[32m243\u001b[39m \u001b[43mwaiter\u001b[49m\u001b[43m.\u001b[49m\u001b[43mevent\u001b[49m\u001b[43m.\u001b[49m\u001b[43mwait\u001b[49m\u001b[43m(\u001b[49m\u001b[43mwait_timeout\u001b[49m\u001b[43m)\u001b[49m\n\u001b[32m    245\u001b[39m \u001b[38;5;28;01mwith\u001b[39;00m waiter.lock:\n",
      "\u001b[36mFile \u001b[39m\u001b[32m/opt/miniconda3/lib/python3.11/threading.py:629\u001b[39m, in \u001b[36mEvent.wait\u001b[39m\u001b[34m(self, timeout)\u001b[39m\n\u001b[32m    628\u001b[39m \u001b[38;5;28;01mif\u001b[39;00m \u001b[38;5;129;01mnot\u001b[39;00m signaled:\n\u001b[32m--> \u001b[39m\u001b[32m629\u001b[39m     signaled = \u001b[38;5;28;43mself\u001b[39;49m\u001b[43m.\u001b[49m\u001b[43m_cond\u001b[49m\u001b[43m.\u001b[49m\u001b[43mwait\u001b[49m\u001b[43m(\u001b[49m\u001b[43mtimeout\u001b[49m\u001b[43m)\u001b[49m\n\u001b[32m    630\u001b[39m \u001b[38;5;28;01mreturn\u001b[39;00m signaled\n",
      "\u001b[36mFile \u001b[39m\u001b[32m/opt/miniconda3/lib/python3.11/threading.py:327\u001b[39m, in \u001b[36mCondition.wait\u001b[39m\u001b[34m(self, timeout)\u001b[39m\n\u001b[32m    326\u001b[39m \u001b[38;5;28;01mif\u001b[39;00m timeout \u001b[38;5;129;01mis\u001b[39;00m \u001b[38;5;28;01mNone\u001b[39;00m:\n\u001b[32m--> \u001b[39m\u001b[32m327\u001b[39m     \u001b[43mwaiter\u001b[49m\u001b[43m.\u001b[49m\u001b[43macquire\u001b[49m\u001b[43m(\u001b[49m\u001b[43m)\u001b[49m\n\u001b[32m    328\u001b[39m     gotit = \u001b[38;5;28;01mTrue\u001b[39;00m\n",
      "\u001b[31mKeyboardInterrupt\u001b[39m: ",
      "\nDuring handling of the above exception, another exception occurred:\n",
      "\u001b[31mKeyboardInterrupt\u001b[39m                         Traceback (most recent call last)",
      "\u001b[36mCell\u001b[39m\u001b[36m \u001b[39m\u001b[32mIn[79]\u001b[39m\u001b[32m, line 49\u001b[39m\n\u001b[32m     46\u001b[39m translations = [\u001b[33m\"\u001b[39m\u001b[33m\"\u001b[39m] * \u001b[38;5;28mlen\u001b[39m(df)\n\u001b[32m     48\u001b[39m futures = []\n\u001b[32m---> \u001b[39m\u001b[32m49\u001b[39m \u001b[38;5;28;43;01mwith\u001b[39;49;00m\u001b[43m \u001b[49m\u001b[43mThreadPoolExecutor\u001b[49m\u001b[43m(\u001b[49m\u001b[43mmax_workers\u001b[49m\u001b[43m=\u001b[49m\u001b[32;43m8\u001b[39;49m\u001b[43m)\u001b[49m\u001b[43m \u001b[49m\u001b[38;5;28;43;01mas\u001b[39;49;00m\u001b[43m \u001b[49m\u001b[43mexecutor\u001b[49m\u001b[43m:\u001b[49m\n\u001b[32m     50\u001b[39m \u001b[43m    \u001b[49m\u001b[38;5;28;43;01mfor\u001b[39;49;00m\u001b[43m \u001b[49m\u001b[43mindex\u001b[49m\u001b[43m \u001b[49m\u001b[38;5;129;43;01min\u001b[39;49;00m\u001b[43m \u001b[49m\u001b[43mdf\u001b[49m\u001b[43m.\u001b[49m\u001b[43mindex\u001b[49m\u001b[43m:\u001b[49m\n\u001b[32m     51\u001b[39m \u001b[43m        \u001b[49m\u001b[43mfutures\u001b[49m\u001b[43m.\u001b[49m\u001b[43mappend\u001b[49m\u001b[43m(\u001b[49m\u001b[43mexecutor\u001b[49m\u001b[43m.\u001b[49m\u001b[43msubmit\u001b[49m\u001b[43m(\u001b[49m\u001b[43mtranslate_row\u001b[49m\u001b[43m,\u001b[49m\u001b[43m \u001b[49m\u001b[43mindex\u001b[49m\u001b[43m)\u001b[49m\u001b[43m)\u001b[49m\n",
      "\u001b[36mFile \u001b[39m\u001b[32m/opt/miniconda3/lib/python3.11/concurrent/futures/_base.py:647\u001b[39m, in \u001b[36mExecutor.__exit__\u001b[39m\u001b[34m(self, exc_type, exc_val, exc_tb)\u001b[39m\n\u001b[32m    646\u001b[39m \u001b[38;5;28;01mdef\u001b[39;00m\u001b[38;5;250m \u001b[39m\u001b[34m__exit__\u001b[39m(\u001b[38;5;28mself\u001b[39m, exc_type, exc_val, exc_tb):\n\u001b[32m--> \u001b[39m\u001b[32m647\u001b[39m     \u001b[38;5;28;43mself\u001b[39;49m\u001b[43m.\u001b[49m\u001b[43mshutdown\u001b[49m\u001b[43m(\u001b[49m\u001b[43mwait\u001b[49m\u001b[43m=\u001b[49m\u001b[38;5;28;43;01mTrue\u001b[39;49;00m\u001b[43m)\u001b[49m\n\u001b[32m    648\u001b[39m     \u001b[38;5;28;01mreturn\u001b[39;00m \u001b[38;5;28;01mFalse\u001b[39;00m\n",
      "\u001b[36mFile \u001b[39m\u001b[32m/opt/miniconda3/lib/python3.11/concurrent/futures/thread.py:235\u001b[39m, in \u001b[36mThreadPoolExecutor.shutdown\u001b[39m\u001b[34m(self, wait, cancel_futures)\u001b[39m\n\u001b[32m    233\u001b[39m \u001b[38;5;28;01mif\u001b[39;00m wait:\n\u001b[32m    234\u001b[39m     \u001b[38;5;28;01mfor\u001b[39;00m t \u001b[38;5;129;01min\u001b[39;00m \u001b[38;5;28mself\u001b[39m._threads:\n\u001b[32m--> \u001b[39m\u001b[32m235\u001b[39m         \u001b[43mt\u001b[49m\u001b[43m.\u001b[49m\u001b[43mjoin\u001b[49m\u001b[43m(\u001b[49m\u001b[43m)\u001b[49m\n",
      "\u001b[36mFile \u001b[39m\u001b[32m/opt/miniconda3/lib/python3.11/threading.py:1119\u001b[39m, in \u001b[36mThread.join\u001b[39m\u001b[34m(self, timeout)\u001b[39m\n\u001b[32m   1116\u001b[39m     \u001b[38;5;28;01mraise\u001b[39;00m \u001b[38;5;167;01mRuntimeError\u001b[39;00m(\u001b[33m\"\u001b[39m\u001b[33mcannot join current thread\u001b[39m\u001b[33m\"\u001b[39m)\n\u001b[32m   1118\u001b[39m \u001b[38;5;28;01mif\u001b[39;00m timeout \u001b[38;5;129;01mis\u001b[39;00m \u001b[38;5;28;01mNone\u001b[39;00m:\n\u001b[32m-> \u001b[39m\u001b[32m1119\u001b[39m     \u001b[38;5;28;43mself\u001b[39;49m\u001b[43m.\u001b[49m\u001b[43m_wait_for_tstate_lock\u001b[49m\u001b[43m(\u001b[49m\u001b[43m)\u001b[49m\n\u001b[32m   1120\u001b[39m \u001b[38;5;28;01melse\u001b[39;00m:\n\u001b[32m   1121\u001b[39m     \u001b[38;5;66;03m# the behavior of a negative timeout isn't documented, but\u001b[39;00m\n\u001b[32m   1122\u001b[39m     \u001b[38;5;66;03m# historically .join(timeout=x) for x<0 has acted as if timeout=0\u001b[39;00m\n\u001b[32m   1123\u001b[39m     \u001b[38;5;28mself\u001b[39m._wait_for_tstate_lock(timeout=\u001b[38;5;28mmax\u001b[39m(timeout, \u001b[32m0\u001b[39m))\n",
      "\u001b[36mFile \u001b[39m\u001b[32m/opt/miniconda3/lib/python3.11/threading.py:1139\u001b[39m, in \u001b[36mThread._wait_for_tstate_lock\u001b[39m\u001b[34m(self, block, timeout)\u001b[39m\n\u001b[32m   1136\u001b[39m     \u001b[38;5;28;01mreturn\u001b[39;00m\n\u001b[32m   1138\u001b[39m \u001b[38;5;28;01mtry\u001b[39;00m:\n\u001b[32m-> \u001b[39m\u001b[32m1139\u001b[39m     \u001b[38;5;28;01mif\u001b[39;00m \u001b[43mlock\u001b[49m\u001b[43m.\u001b[49m\u001b[43macquire\u001b[49m\u001b[43m(\u001b[49m\u001b[43mblock\u001b[49m\u001b[43m,\u001b[49m\u001b[43m \u001b[49m\u001b[43mtimeout\u001b[49m\u001b[43m)\u001b[49m:\n\u001b[32m   1140\u001b[39m         lock.release()\n\u001b[32m   1141\u001b[39m         \u001b[38;5;28mself\u001b[39m._stop()\n",
      "\u001b[31mKeyboardInterrupt\u001b[39m: "
     ]
    },
    {
     "name": "stdout",
     "output_type": "stream",
     "text": [
      "Ollama error: HTTPConnectionPool(host='localhost', port=11434): Read timed out. (read timeout=90)\n",
      "Ollama error: HTTPConnectionPool(host='localhost', port=11434): Read timed out. (read timeout=90)\n",
      "Ollama error: HTTPConnectionPool(host='localhost', port=11434): Read timed out. (read timeout=90)\n",
      "Ollama error: HTTPConnectionPool(host='localhost', port=11434): Read timed out. (read timeout=90)\n",
      "Ollama error: HTTPConnectionPool(host='localhost', port=11434): Read timed out. (read timeout=90)Ollama error: HTTPConnectionPool(host='localhost', port=11434): Read timed out. (read timeout=90)\n",
      "Ollama error: HTTPConnectionPool(host='localhost', port=11434): Read timed out. (read timeout=90)"
     ]
    }
   ],
   "source": [
    "import pandas as pd\n",
    "import requests\n",
    "from tqdm import tqdm\n",
    "from concurrent.futures import ThreadPoolExecutor, as_completed\n",
    "\n",
    "csv_path = 'csvs/37.csv'\n",
    "output_path = '3llms_10.csv'  # Output in project root directory\n",
    "df = pd.read_csv(csv_path)\n",
    "\n",
    "def get_context(df, index, window=5):\n",
    "    start = max(0, index - window)\n",
    "    end = min(len(df), index + window + 1)\n",
    "    return \"\\n\".join(df['Message'].iloc[start:end].dropna())\n",
    "\n",
    "def query_ollama(prompt, model=\"gemma3:27b\"):\n",
    "    url = \"http://localhost:11434/api/generate\"\n",
    "    payload = {\n",
    "        \"model\": model,\n",
    "        \"prompt\": prompt,\n",
    "        \"stream\": False\n",
    "    }\n",
    "    try:\n",
    "        response = requests.post(url, json=payload, timeout=90)\n",
    "        response.raise_for_status()\n",
    "        return response.json()[\"response\"].strip()\n",
    "    except Exception as e:\n",
    "        print(f\"Ollama error: {e}\")\n",
    "        return \"[Translation Error]\"\n",
    "\n",
    "def translate_row(index):\n",
    "    target = df.at[index, 'Message']\n",
    "    if pd.isna(target):\n",
    "        return index, \"\"\n",
    "    context = get_context(df, index)\n",
    "    prompt = (\n",
    "        \"You are translating Chinese messages to English. Below is a series of related messages. \"\n",
    "        \"Use the full context to understand the meaning, but only translate the specific message provided.\\n\\n\"\n",
    "        f\"Context:\\n{context}\\n\\n\"\n",
    "        f\"Message to translate:\\n{target}\\n\\n\"\n",
    "        \"ONLY RETURN the English translation of the message, ANYTHING ELSE IS FORBIDDEN! \"\n",
    "        \"If you encounter a filename or file reference, preserve it exactly as it appears, DON'T add anything!\"\n",
    "    )\n",
    "    translation = query_ollama(prompt)\n",
    "    return index, translation\n",
    "\n",
    "translations = [\"\"] * len(df)\n",
    "\n",
    "futures = []\n",
    "with ThreadPoolExecutor(max_workers=8) as executor:\n",
    "    for index in df.index:\n",
    "        futures.append(executor.submit(translate_row, index))\n",
    "\n",
    "    for future in tqdm(as_completed(futures), total=len(futures), desc=\"Translating with Ollama\"):\n",
    "        idx, result = future.result()\n",
    "        translations[idx] = result\n",
    "\n",
    "translated_df = pd.DataFrame({'gemma3:27b': translations})\n",
    "translated_df.to_csv(output_path, index=False)"
   ]
  },
  {
   "cell_type": "markdown",
   "id": "01ffc2e2-1b26-46f1-81bb-f02c5ffa8fbf",
   "metadata": {
    "user_expressions": []
   },
   "source": [
    "# **TEST-2: 7shi/llama-translate:8b-q4_K_M**"
   ]
  },
  {
   "cell_type": "code",
   "execution_count": 10,
   "id": "11daa7c9-848a-43f1-92a8-00c1d2dfa6d7",
   "metadata": {
    "tags": []
   },
   "outputs": [
    {
     "name": "stderr",
     "output_type": "stream",
     "text": [
      "Translating with 7shi/llama-translate:8b-q4_K_M: 100%|██████████| 149/149 [08:52<00:00,  3.57s/it]\n"
     ]
    }
   ],
   "source": [
    "import pandas as pd\n",
    "import requests\n",
    "from tqdm import tqdm\n",
    "from concurrent.futures import ThreadPoolExecutor, as_completed\n",
    "\n",
    "source_csv_path = 'csvs/10.csv'\n",
    "existing_translation_path = '3llms_10.csv'\n",
    "new_model_name = '7shi/llama-translate:8b-q4_K_M'\n",
    "\n",
    "# Load original messages and previously translated file\n",
    "source_df = pd.read_csv(source_csv_path)\n",
    "translated_df = pd.read_csv(existing_translation_path)\n",
    "\n",
    "def get_context(df, index, window=5):\n",
    "    start = max(0, index - window)\n",
    "    end = min(len(df), index + window + 1)\n",
    "    return \"\\n\".join(df['Message'].iloc[start:end].dropna())\n",
    "\n",
    "def query_ollama(prompt, model):\n",
    "    url = \"http://localhost:11434/api/generate\"\n",
    "    payload = {\n",
    "        \"model\": model,\n",
    "        \"prompt\": prompt,\n",
    "        \"stream\": False\n",
    "    }\n",
    "    try:\n",
    "        response = requests.post(url, json=payload, timeout=90)\n",
    "        response.raise_for_status()\n",
    "        return response.json()[\"response\"].strip()\n",
    "    except Exception as e:\n",
    "        print(f\"Ollama error: {e}\")\n",
    "        return \"[Translation Error]\"\n",
    "\n",
    "def translate_row(index):\n",
    "    target = source_df.at[index, 'Message']\n",
    "    if pd.isna(target):\n",
    "        return index, \"\"\n",
    "    context = get_context(source_df, index)\n",
    "    prompt = (\n",
    "        \"Transalte Mandarin to English. Below is a series of related messages. \"\n",
    "        f\"Context:\\n{context}\\n\\n\"\n",
    "        f\"Message to translate:\\n{target}\\n\\n\"\n",
    "    )\n",
    "    translation = query_ollama(prompt, model=new_model_name)\n",
    "    return index, translation\n",
    "\n",
    "# Prepare for parallel processing\n",
    "translations = [\"\"] * len(source_df)\n",
    "futures = []\n",
    "with ThreadPoolExecutor(max_workers=8) as executor:\n",
    "    for index in source_df.index:\n",
    "        futures.append(executor.submit(translate_row, index))\n",
    "\n",
    "    for future in tqdm(as_completed(futures), total=len(futures), desc=f\"Translating with {new_model_name}\"):\n",
    "        idx, result = future.result()\n",
    "        translations[idx] = result\n",
    "\n",
    "translated_df[new_model_name] = translations\n",
    "translated_df.to_csv(existing_translation_path, index=False)"
   ]
  },
  {
   "cell_type": "markdown",
   "id": "a7476dfc-6315-4a48-a5c3-bf0fe4896651",
   "metadata": {},
   "source": [
    "# **TEST-3: yi:34b**"
   ]
  },
  {
   "cell_type": "code",
   "execution_count": 11,
   "id": "3cd03420-4ab3-40c0-8c22-dca324cf0318",
   "metadata": {
    "tags": []
   },
   "outputs": [
    {
     "name": "stderr",
     "output_type": "stream",
     "text": [
      "Translating with yi:34b: 100%|██████████| 149/149 [07:20<00:00,  2.96s/it]\n"
     ]
    }
   ],
   "source": [
    "import pandas as pd\n",
    "import requests\n",
    "from tqdm import tqdm\n",
    "from concurrent.futures import ThreadPoolExecutor, as_completed\n",
    "\n",
    "# File paths\n",
    "source_csv_path = 'csvs/10.csv'\n",
    "existing_translation_path = '3llms_10.csv'\n",
    "new_model_name = 'yi:34b'\n",
    "\n",
    "# Load original source messages and existing translations\n",
    "source_df = pd.read_csv(source_csv_path)\n",
    "translated_df = pd.read_csv(existing_translation_path)\n",
    "\n",
    "# Context window function\n",
    "def get_context(df, index, window=5):\n",
    "    start = max(0, index - window)\n",
    "    end = min(len(df), index + window + 1)\n",
    "    return \"\\n\".join(df['Message'].iloc[start:end].dropna())\n",
    "\n",
    "def query_ollama(prompt, model):\n",
    "    url = \"http://localhost:11434/api/generate\"\n",
    "    payload = {\n",
    "        \"model\": model,\n",
    "        \"prompt\": prompt,\n",
    "        \"stream\": False\n",
    "    }\n",
    "    try:\n",
    "        response = requests.post(url, json=payload, timeout=90)\n",
    "        response.raise_for_status()\n",
    "        return response.json()[\"response\"].strip()\n",
    "    except Exception as e:\n",
    "        print(f\"Ollama error: {e}\")\n",
    "        return \"[Translation Error]\"\n",
    "\n",
    "# Translate a single row\n",
    "def translate_row(index):\n",
    "    target = source_df.at[index, 'Message']\n",
    "    if pd.isna(target):\n",
    "        return index, \"\"\n",
    "    context = get_context(source_df, index)\n",
    "    prompt = (\n",
    "        \"You are translating Chinese messages to English. Below is a series of related messages. \"\n",
    "        \"Use the full context to understand the meaning, but only translate the specific message provided.\\n\\n\"\n",
    "        f\"Context:\\n{context}\\n\\n\"\n",
    "        f\"Message to translate:\\n{target}\\n\\n\"\n",
    "        \"ONLY RETURN the English translation of the message, ANYTHING ELSE IS FORBIDDEN! \"\n",
    "        \"If you encounter a filename or file reference, preserve it exactly as it appears, DON'T add anything!\"\n",
    "    )\n",
    "    translation = query_ollama(prompt, model=new_model_name)\n",
    "    return index, translation\n",
    "\n",
    "# Run translations in parallel\n",
    "translations = [\"\"] * len(source_df)\n",
    "futures = []\n",
    "with ThreadPoolExecutor(max_workers=8) as executor:\n",
    "    for index in source_df.index:\n",
    "        futures.append(executor.submit(translate_row, index))\n",
    "\n",
    "    for future in tqdm(as_completed(futures), total=len(futures), desc=f\"Translating with {new_model_name}\"):\n",
    "        idx, result = future.result()\n",
    "        translations[idx] = result\n",
    "\n",
    "translated_df[new_model_name] = translations\n",
    "translated_df.to_csv(existing_translation_path, index=False)"
   ]
  },
  {
   "cell_type": "markdown",
   "id": "465aca0c-8ee6-4a66-909f-eff88a49d588",
   "metadata": {
    "tags": []
   },
   "source": [
    "# **Levenshtein Distance Between the 3 Translations**"
   ]
  },
  {
   "cell_type": "code",
   "execution_count": 14,
   "id": "1ee30282-f681-4e1e-8747-ed4c7616d232",
   "metadata": {
    "tags": []
   },
   "outputs": [],
   "source": [
    "import pandas as pd\n",
    "import Levenshtein\n",
    "from itertools import combinations\n",
    "\n",
    "csv_path = '3llms_10.csv'\n",
    "df = pd.read_csv(csv_path)\n",
    "\n",
    "# Identify all translation columns \n",
    "translation_columns = [col for col in df.columns if not col.startswith('Levenshtein')]\n",
    "\n",
    "# Compute Levenshtein distance for all possible combinations\n",
    "for col1, col2 in combinations(translation_columns, 2):\n",
    "    new_col_name = f\"Levenshtein ({col1} vs {col2})\"\n",
    "    df[new_col_name] = [\n",
    "        Levenshtein.distance(str(a), str(b)) if pd.notna(a) and pd.notna(b) else None\n",
    "        for a, b in zip(df[col1], df[col2])\n",
    "    ]\n",
    "\n",
    "# Save updated DataFrame back to the same CSV\n",
    "df.to_csv(csv_path, index=False)"
   ]
  },
  {
   "cell_type": "markdown",
   "id": "a5cfb529-3a71-4da6-b4e4-9cde8065024c",
   "metadata": {},
   "source": [
    "# **CHATS TRANSLATION - GEMMA3:27B**"
   ]
  },
  {
   "cell_type": "code",
   "execution_count": 23,
   "id": "a33b558c-25cf-451e-9ccd-92892c0ef1e3",
   "metadata": {
    "tags": []
   },
   "outputs": [
    {
     "name": "stdout",
     "output_type": "stream",
     "text": [
      "Processing: csvs/28.csv\n"
     ]
    },
    {
     "name": "stderr",
     "output_type": "stream",
     "text": [
      "Translating: csvs/28.csv: 100%|██████████| 46/46 [02:55<00:00,  3.81s/it]\n"
     ]
    },
    {
     "name": "stdout",
     "output_type": "stream",
     "text": [
      "Finished and saved: csvs/28.csv\n",
      "\n",
      "Processing: csvs/5.csv\n"
     ]
    },
    {
     "name": "stderr",
     "output_type": "stream",
     "text": [
      "Translating: csvs/5.csv: 100%|██████████| 17/17 [00:24<00:00,  1.46s/it]\n"
     ]
    },
    {
     "name": "stdout",
     "output_type": "stream",
     "text": [
      "Finished and saved: csvs/5.csv\n",
      "\n",
      "Processing: csvs/38.csv\n"
     ]
    },
    {
     "name": "stderr",
     "output_type": "stream",
     "text": [
      "Translating: csvs/38.csv: 100%|██████████| 21/21 [01:18<00:00,  3.75s/it]\n"
     ]
    },
    {
     "name": "stdout",
     "output_type": "stream",
     "text": [
      "Finished and saved: csvs/38.csv\n",
      "\n",
      "Processing: csvs/18.csv\n"
     ]
    },
    {
     "name": "stderr",
     "output_type": "stream",
     "text": [
      "Translating: csvs/18.csv: 100%|██████████| 84/84 [02:10<00:00,  1.55s/it]\n"
     ]
    },
    {
     "name": "stdout",
     "output_type": "stream",
     "text": [
      "Finished and saved: csvs/18.csv\n",
      "\n",
      "Processing: csvs/1.csv\n"
     ]
    },
    {
     "name": "stderr",
     "output_type": "stream",
     "text": [
      "Translating: csvs/1.csv:   7%|▋         | 550/8290 [20:25<13:53:57,  6.46s/it]"
     ]
    },
    {
     "name": "stdout",
     "output_type": "stream",
     "text": [
      "Ollama error: HTTPConnectionPool(host='localhost', port=11434): Read timed out. (read timeout=90)\n"
     ]
    },
    {
     "name": "stderr",
     "output_type": "stream",
     "text": [
      "Translating: csvs/1.csv:  68%|██████▊   | 5642/8290 [3:25:59<6:53:56,  9.38s/it] "
     ]
    },
    {
     "name": "stdout",
     "output_type": "stream",
     "text": [
      "Ollama error: HTTPConnectionPool(host='localhost', port=11434): Read timed out. (read timeout=90)\n"
     ]
    },
    {
     "name": "stderr",
     "output_type": "stream",
     "text": [
      "Translating: csvs/1.csv:  69%|██████▉   | 5711/8290 [3:30:46<5:57:09,  8.31s/it]"
     ]
    },
    {
     "name": "stdout",
     "output_type": "stream",
     "text": [
      "Ollama error: HTTPConnectionPool(host='localhost', port=11434): Read timed out. (read timeout=90)\n"
     ]
    },
    {
     "name": "stderr",
     "output_type": "stream",
     "text": [
      "Translating: csvs/1.csv:  77%|███████▋  | 6419/8290 [4:01:12<50:27,  1.62s/it]  "
     ]
    },
    {
     "name": "stdout",
     "output_type": "stream",
     "text": [
      "Ollama error: HTTPConnectionPool(host='localhost', port=11434): Read timed out. (read timeout=90)\n"
     ]
    },
    {
     "name": "stderr",
     "output_type": "stream",
     "text": [
      "Translating: csvs/1.csv:  87%|████████▋ | 7230/8290 [4:35:32<2:34:48,  8.76s/it]"
     ]
    },
    {
     "name": "stdout",
     "output_type": "stream",
     "text": [
      "Ollama error: HTTPConnectionPool(host='localhost', port=11434): Read timed out. (read timeout=90)\n"
     ]
    },
    {
     "name": "stderr",
     "output_type": "stream",
     "text": [
      "Translating: csvs/1.csv:  88%|████████▊ | 7268/8290 [4:37:49<2:13:42,  7.85s/it]"
     ]
    },
    {
     "name": "stdout",
     "output_type": "stream",
     "text": [
      "Ollama error: HTTPConnectionPool(host='localhost', port=11434): Read timed out. (read timeout=90)\n"
     ]
    },
    {
     "name": "stderr",
     "output_type": "stream",
     "text": [
      "Translating: csvs/1.csv: 100%|██████████| 8290/8290 [5:20:43<00:00,  2.32s/it]  \n"
     ]
    },
    {
     "name": "stdout",
     "output_type": "stream",
     "text": [
      "Finished and saved: csvs/1.csv\n",
      "\n",
      "Processing: csvs/19.csv\n"
     ]
    },
    {
     "name": "stderr",
     "output_type": "stream",
     "text": [
      "Translating: csvs/19.csv: 100%|██████████| 21/21 [01:04<00:00,  3.06s/it]\n"
     ]
    },
    {
     "name": "stdout",
     "output_type": "stream",
     "text": [
      "Finished and saved: csvs/19.csv\n",
      "\n",
      "Processing: csvs/29.csv\n"
     ]
    },
    {
     "name": "stderr",
     "output_type": "stream",
     "text": [
      "Translating: csvs/29.csv: 100%|██████████| 80/80 [03:05<00:00,  2.31s/it]\n"
     ]
    },
    {
     "name": "stdout",
     "output_type": "stream",
     "text": [
      "Finished and saved: csvs/29.csv\n",
      "\n",
      "Processing: csvs/4.csv\n"
     ]
    },
    {
     "name": "stderr",
     "output_type": "stream",
     "text": [
      "Translating: csvs/4.csv: 100%|██████████| 513/513 [17:16<00:00,  2.02s/it]\n"
     ]
    },
    {
     "name": "stdout",
     "output_type": "stream",
     "text": [
      "Finished and saved: csvs/4.csv\n",
      "\n",
      "Processing: csvs/39.csv\n"
     ]
    },
    {
     "name": "stderr",
     "output_type": "stream",
     "text": [
      "Translating: csvs/39.csv: 100%|██████████| 821/821 [27:27<00:00,  2.01s/it]\n"
     ]
    },
    {
     "name": "stdout",
     "output_type": "stream",
     "text": [
      "Finished and saved: csvs/39.csv\n",
      "\n",
      "Processing: csvs/16.csv\n"
     ]
    },
    {
     "name": "stderr",
     "output_type": "stream",
     "text": [
      "Translating: csvs/16.csv: 100%|██████████| 149/149 [04:35<00:00,  1.85s/it]\n"
     ]
    },
    {
     "name": "stdout",
     "output_type": "stream",
     "text": [
      "Finished and saved: csvs/16.csv\n",
      "\n",
      "Processing: csvs/22.csv\n"
     ]
    },
    {
     "name": "stderr",
     "output_type": "stream",
     "text": [
      "Translating: csvs/22.csv: 100%|██████████| 91/91 [03:16<00:00,  2.16s/it]\n"
     ]
    },
    {
     "name": "stdout",
     "output_type": "stream",
     "text": [
      "Finished and saved: csvs/22.csv\n",
      "\n",
      "Processing: csvs/32.csv\n"
     ]
    },
    {
     "name": "stderr",
     "output_type": "stream",
     "text": [
      "Translating: csvs/32.csv: 100%|██████████| 86/86 [02:35<00:00,  1.81s/it]\n"
     ]
    },
    {
     "name": "stdout",
     "output_type": "stream",
     "text": [
      "Finished and saved: csvs/32.csv\n",
      "\n",
      "Processing: csvs/26.csv\n"
     ]
    },
    {
     "name": "stderr",
     "output_type": "stream",
     "text": [
      "Translating: csvs/26.csv: 100%|██████████| 6/6 [00:17<00:00,  2.85s/it]\n"
     ]
    },
    {
     "name": "stdout",
     "output_type": "stream",
     "text": [
      "Finished and saved: csvs/26.csv\n",
      "\n",
      "Processing: csvs/12.csv\n"
     ]
    },
    {
     "name": "stderr",
     "output_type": "stream",
     "text": [
      "Translating: csvs/12.csv: 100%|██████████| 392/392 [13:52<00:00,  2.12s/it]\n"
     ]
    },
    {
     "name": "stdout",
     "output_type": "stream",
     "text": [
      "Finished and saved: csvs/12.csv\n",
      "\n",
      "Processing: csvs/36.csv\n"
     ]
    },
    {
     "name": "stderr",
     "output_type": "stream",
     "text": [
      "Translating: csvs/36.csv: 100%|██████████| 199/199 [05:28<00:00,  1.65s/it]\n"
     ]
    },
    {
     "name": "stdout",
     "output_type": "stream",
     "text": [
      "Finished and saved: csvs/36.csv\n",
      "\n",
      "Processing: csvs/27.csv\n"
     ]
    },
    {
     "name": "stderr",
     "output_type": "stream",
     "text": [
      "Translating: csvs/27.csv: 100%|██████████| 29/29 [02:44<00:00,  5.67s/it]\n"
     ]
    },
    {
     "name": "stdout",
     "output_type": "stream",
     "text": [
      "Ollama error: HTTPConnectionPool(host='localhost', port=11434): Read timed out. (read timeout=90)\n",
      "Finished and saved: csvs/27.csv\n",
      "\n",
      "Processing: csvs/13.csv\n"
     ]
    },
    {
     "name": "stderr",
     "output_type": "stream",
     "text": [
      "Translating: csvs/13.csv: 100%|██████████| 244/244 [08:18<00:00,  2.04s/it]\n"
     ]
    },
    {
     "name": "stdout",
     "output_type": "stream",
     "text": [
      "Finished and saved: csvs/13.csv\n",
      "\n",
      "Processing: csvs/37.csv\n"
     ]
    },
    {
     "name": "stderr",
     "output_type": "stream",
     "text": [
      "Translating: csvs/37.csv:  10%|▉         | 32/329 [02:47<52:10, 10.54s/it]"
     ]
    },
    {
     "name": "stdout",
     "output_type": "stream",
     "text": [
      "Ollama error: HTTPConnectionPool(host='localhost', port=11434): Read timed out. (read timeout=90)\n"
     ]
    },
    {
     "name": "stderr",
     "output_type": "stream",
     "text": [
      "Translating: csvs/37.csv:  16%|█▋        | 54/329 [04:46<21:03,  4.59s/it]"
     ]
    },
    {
     "name": "stdout",
     "output_type": "stream",
     "text": [
      "Ollama error: HTTPConnectionPool(host='localhost', port=11434): Read timed out. (read timeout=90)\n"
     ]
    },
    {
     "name": "stderr",
     "output_type": "stream",
     "text": [
      "Translating: csvs/37.csv:  27%|██▋       | 90/329 [07:55<16:51,  4.23s/it]"
     ]
    },
    {
     "name": "stdout",
     "output_type": "stream",
     "text": [
      "Ollama error: HTTPConnectionPool(host='localhost', port=11434): Read timed out. (read timeout=90)\n"
     ]
    },
    {
     "name": "stderr",
     "output_type": "stream",
     "text": [
      "Translating: csvs/37.csv: 100%|██████████| 329/329 [16:39<00:00,  3.04s/it]\n"
     ]
    },
    {
     "name": "stdout",
     "output_type": "stream",
     "text": [
      "Finished and saved: csvs/37.csv\n",
      "\n",
      "Processing: csvs/17.csv\n"
     ]
    },
    {
     "name": "stderr",
     "output_type": "stream",
     "text": [
      "Translating: csvs/17.csv: 100%|██████████| 55/55 [01:42<00:00,  1.86s/it]\n"
     ]
    },
    {
     "name": "stdout",
     "output_type": "stream",
     "text": [
      "Finished and saved: csvs/17.csv\n",
      "\n",
      "Processing: csvs/23.csv\n"
     ]
    },
    {
     "name": "stderr",
     "output_type": "stream",
     "text": [
      "Translating: csvs/23.csv: 100%|██████████| 24/24 [00:45<00:00,  1.90s/it]\n"
     ]
    },
    {
     "name": "stdout",
     "output_type": "stream",
     "text": [
      "Finished and saved: csvs/23.csv\n",
      "\n",
      "Processing: csvs/33.csv\n"
     ]
    },
    {
     "name": "stderr",
     "output_type": "stream",
     "text": [
      "Translating: csvs/33.csv: 100%|██████████| 31/31 [00:52<00:00,  1.70s/it]\n"
     ]
    },
    {
     "name": "stdout",
     "output_type": "stream",
     "text": [
      "Finished and saved: csvs/33.csv\n",
      "\n",
      "Processing: csvs/24.csv\n"
     ]
    },
    {
     "name": "stderr",
     "output_type": "stream",
     "text": [
      "Translating: csvs/24.csv: 100%|██████████| 55/55 [01:57<00:00,  2.13s/it]\n"
     ]
    },
    {
     "name": "stdout",
     "output_type": "stream",
     "text": [
      "Finished and saved: csvs/24.csv\n",
      "\n",
      "Processing: csvs/41.csv\n"
     ]
    },
    {
     "name": "stderr",
     "output_type": "stream",
     "text": [
      "Translating: csvs/41.csv: 100%|██████████| 322/322 [10:44<00:00,  2.00s/it]\n"
     ]
    },
    {
     "name": "stdout",
     "output_type": "stream",
     "text": [
      "Finished and saved: csvs/41.csv\n",
      "\n",
      "Processing: csvs/10.csv\n"
     ]
    },
    {
     "name": "stderr",
     "output_type": "stream",
     "text": [
      "Translating: csvs/10.csv: 100%|██████████| 149/149 [06:13<00:00,  2.51s/it]\n"
     ]
    },
    {
     "name": "stdout",
     "output_type": "stream",
     "text": [
      "Finished and saved: csvs/10.csv\n",
      "\n",
      "Processing: csvs/9.csv\n"
     ]
    },
    {
     "name": "stderr",
     "output_type": "stream",
     "text": [
      "Translating: csvs/9.csv: 100%|██████████| 235/235 [08:11<00:00,  2.09s/it]\n"
     ]
    },
    {
     "name": "stdout",
     "output_type": "stream",
     "text": [
      "Finished and saved: csvs/9.csv\n",
      "\n",
      "Processing: csvs/34.csv\n"
     ]
    },
    {
     "name": "stderr",
     "output_type": "stream",
     "text": [
      "Translating: csvs/34.csv: 100%|██████████| 426/426 [13:25<00:00,  1.89s/it]\n"
     ]
    },
    {
     "name": "stdout",
     "output_type": "stream",
     "text": [
      "Finished and saved: csvs/34.csv\n",
      "\n",
      "Processing: csvs/14.csv\n"
     ]
    },
    {
     "name": "stderr",
     "output_type": "stream",
     "text": [
      "Translating: csvs/14.csv: 100%|██████████| 44/44 [01:18<00:00,  1.78s/it]\n"
     ]
    },
    {
     "name": "stdout",
     "output_type": "stream",
     "text": [
      "Finished and saved: csvs/14.csv\n",
      "\n",
      "Processing: csvs/20.csv\n"
     ]
    },
    {
     "name": "stderr",
     "output_type": "stream",
     "text": [
      "Translating: csvs/20.csv: 100%|██████████| 68/68 [02:06<00:00,  1.86s/it]\n"
     ]
    },
    {
     "name": "stdout",
     "output_type": "stream",
     "text": [
      "Finished and saved: csvs/20.csv\n",
      "\n",
      "Processing: csvs/30.csv\n"
     ]
    },
    {
     "name": "stderr",
     "output_type": "stream",
     "text": [
      "Translating: csvs/30.csv: 100%|██████████| 322/322 [08:36<00:00,  1.61s/it]\n"
     ]
    },
    {
     "name": "stdout",
     "output_type": "stream",
     "text": [
      "Finished and saved: csvs/30.csv\n",
      "\n",
      "Processing: csvs/15.csv\n"
     ]
    },
    {
     "name": "stderr",
     "output_type": "stream",
     "text": [
      "Translating: csvs/15.csv: 100%|██████████| 199/199 [06:06<00:00,  1.84s/it]\n"
     ]
    },
    {
     "name": "stdout",
     "output_type": "stream",
     "text": [
      "Finished and saved: csvs/15.csv\n",
      "\n",
      "Processing: csvs/21.csv\n"
     ]
    },
    {
     "name": "stderr",
     "output_type": "stream",
     "text": [
      "Translating: csvs/21.csv: 100%|██████████| 1046/1046 [24:47<00:00,  1.42s/it]\n"
     ]
    },
    {
     "name": "stdout",
     "output_type": "stream",
     "text": [
      "Finished and saved: csvs/21.csv\n",
      "\n",
      "Processing: csvs/31.csv\n"
     ]
    },
    {
     "name": "stderr",
     "output_type": "stream",
     "text": [
      "Translating: csvs/31.csv: 100%|██████████| 44/44 [01:06<00:00,  1.51s/it]\n"
     ]
    },
    {
     "name": "stdout",
     "output_type": "stream",
     "text": [
      "Finished and saved: csvs/31.csv\n",
      "\n",
      "Processing: csvs/40.csv\n"
     ]
    },
    {
     "name": "stderr",
     "output_type": "stream",
     "text": [
      "Translating: csvs/40.csv: 100%|██████████| 129/129 [04:50<00:00,  2.25s/it]\n"
     ]
    },
    {
     "name": "stdout",
     "output_type": "stream",
     "text": [
      "Finished and saved: csvs/40.csv\n",
      "\n",
      "Processing: csvs/11.csv\n"
     ]
    },
    {
     "name": "stderr",
     "output_type": "stream",
     "text": [
      "Translating: csvs/11.csv: 100%|██████████| 125/125 [04:12<00:00,  2.02s/it]\n"
     ]
    },
    {
     "name": "stdout",
     "output_type": "stream",
     "text": [
      "Finished and saved: csvs/11.csv\n",
      "\n",
      "Processing: csvs/35.csv\n"
     ]
    },
    {
     "name": "stderr",
     "output_type": "stream",
     "text": [
      "Translating: csvs/35.csv: 100%|██████████| 196/196 [06:40<00:00,  2.04s/it]\n"
     ]
    },
    {
     "name": "stdout",
     "output_type": "stream",
     "text": [
      "Finished and saved: csvs/35.csv\n",
      "\n",
      "Processing: csvs/3.csv\n"
     ]
    },
    {
     "name": "stderr",
     "output_type": "stream",
     "text": [
      "Translating: csvs/3.csv: 100%|██████████| 23/23 [00:37<00:00,  1.63s/it]\n"
     ]
    },
    {
     "name": "stdout",
     "output_type": "stream",
     "text": [
      "Finished and saved: csvs/3.csv\n",
      "\n",
      "Processing: csvs/7.csv\n"
     ]
    },
    {
     "name": "stderr",
     "output_type": "stream",
     "text": [
      "Translating: csvs/7.csv: 100%|██████████| 196/196 [05:34<00:00,  1.71s/it]\n"
     ]
    },
    {
     "name": "stdout",
     "output_type": "stream",
     "text": [
      "Finished and saved: csvs/7.csv\n",
      "\n",
      "Processing: csvs/6.csv\n"
     ]
    },
    {
     "name": "stderr",
     "output_type": "stream",
     "text": [
      "Translating: csvs/6.csv: 100%|██████████| 136/136 [03:08<00:00,  1.38s/it]\n"
     ]
    },
    {
     "name": "stdout",
     "output_type": "stream",
     "text": [
      "Finished and saved: csvs/6.csv\n",
      "\n",
      "Processing: csvs/2.csv\n"
     ]
    },
    {
     "name": "stderr",
     "output_type": "stream",
     "text": [
      "Translating: csvs/2.csv: 100%|██████████| 500/500 [16:03<00:00,  1.93s/it]"
     ]
    },
    {
     "name": "stdout",
     "output_type": "stream",
     "text": [
      "Finished and saved: csvs/2.csv\n",
      "\n"
     ]
    },
    {
     "name": "stderr",
     "output_type": "stream",
     "text": [
      "\n"
     ]
    }
   ],
   "source": [
    "import pandas as pd\n",
    "import requests\n",
    "from tqdm import tqdm\n",
    "from concurrent.futures import ThreadPoolExecutor, as_completed\n",
    "\n",
    "# Chats - CSV loop\n",
    "for csv_path in df_csvs_llm['chats']:\n",
    "    print(f\"Processing: {csv_path}\")\n",
    "    \n",
    "    # Load the individual CSV file\n",
    "    df = pd.read_csv(csv_path)\n",
    "    df['message_translation'] = \"\"\n",
    "\n",
    "    # Function to get context around the target message\n",
    "    def get_context(df, index, window=5):\n",
    "        start = max(0, index - window)\n",
    "        end = min(len(df), index + window + 1)\n",
    "        return \"\\n\".join(df['Message'].iloc[start:end].dropna())\n",
    "\n",
    "    def query_ollama(prompt, model=\"gemma3:27b\"):\n",
    "        url = \"http://localhost:11434/api/generate\"\n",
    "        payload = {\n",
    "            \"model\": model,\n",
    "            \"prompt\": prompt,\n",
    "            \"stream\": False\n",
    "        }\n",
    "        try:\n",
    "            response = requests.post(url, json=payload, timeout=90)\n",
    "            response.raise_for_status()\n",
    "            return response.json()[\"response\"].strip()\n",
    "        except Exception as e:\n",
    "            print(f\"Ollama error: {e}\")\n",
    "            return \"[Translation Error]\"\n",
    "\n",
    "    # Function to process one row\n",
    "    def translate_row(index):\n",
    "        target = df.at[index, 'Message']\n",
    "        if pd.isna(target):\n",
    "            return index, \"\"\n",
    "        context = get_context(df, index)\n",
    "        prompt = (\n",
    "            \"You are translating Chinese messages to English. Below is a series of related messages. \"\n",
    "            \"Use the full context to understand the meaning, but only translate the specific message provided.\\n\\n\"\n",
    "            f\"Context:\\n{context}\\n\\n\"\n",
    "            f\"Message to translate:\\n{target}\\n\\n\"\n",
    "            \"ONLY RETURN the English translation of the message, ANYTHING ELSE IS FORBIDDEN! \"\n",
    "            \"If you encounter a filename or file reference, preserve it exactly as it appears, DON'T add anything!\"\n",
    "        )\n",
    "        translation = query_ollama(prompt)\n",
    "        return index, translation\n",
    "\n",
    "    # Run translations in parallel\n",
    "    futures = []\n",
    "    with ThreadPoolExecutor(max_workers=8) as executor:\n",
    "        for index in df.index:\n",
    "            futures.append(executor.submit(translate_row, index))\n",
    "\n",
    "        for future in tqdm(as_completed(futures), total=len(futures), desc=f\"Translating: {csv_path}\"):\n",
    "            idx, result = future.result()\n",
    "            df.at[idx, 'message_translation'] = result\n",
    "\n",
    "    # Save updated DataFrame back to the original file\n",
    "    df.to_csv(csv_path, index=False)\n",
    "    print(f\"Finished and saved: {csv_path}\\n\")"
   ]
  },
  {
   "cell_type": "code",
   "execution_count": 5,
   "id": "0d84e49b-797c-4c4b-b63e-f3d19968c59b",
   "metadata": {
    "tags": []
   },
   "outputs": [
    {
     "name": "stdout",
     "output_type": "stream",
     "text": [
      "CSV Columns:\n",
      "['Time', 'From', 'To', 'Message']\n"
     ]
    }
   ],
   "source": [
    "import pandas as pd\n",
    "\n",
    "# Load the original CSV\n",
    "df = pd.read_csv(\"csvs/10.csv\")\n",
    "\n",
    "# Print all column names to verify exact labels\n",
    "print(\"CSV Columns:\")\n",
    "print(df.columns.tolist())\n",
    "\n",
    "# Drop the specified columns (only if they exist)\n",
    "columns_to_drop = [\"message_translation\", \"financial_detection\"]\n",
    "df_cleaned = df.drop(columns=[col for col in columns_to_drop if col in df.columns])\n",
    "\n",
    "# Overwrite the original file\n",
    "df_cleaned.to_csv(\"csvs/10.csv\", index=False)  # Overwriting the same file"
   ]
  },
  {
   "cell_type": "markdown",
   "id": "9b0dc950-b64c-4bce-b50a-e1c541e6bc28",
   "metadata": {},
   "source": [
    "# **OCR TRANSLATION - GEMMA3:27b**"
   ]
  },
  {
   "cell_type": "code",
   "execution_count": 7,
   "id": "45241b76-69b2-4112-af2a-5e23d561dad3",
   "metadata": {
    "tags": []
   },
   "outputs": [
    {
     "name": "stderr",
     "output_type": "stream",
     "text": [
      "Translating OCR Files:   0%|          | 0/490 [00:00<?, ?file/s]"
     ]
    },
    {
     "name": "stdout",
     "output_type": "stream",
     "text": [
      "\n",
      "Processing file 1 of 490: 0-08a6bcd3-6477-4252-8f35-4f8f80d114f9.csv\n"
     ]
    },
    {
     "name": "stderr",
     "output_type": "stream",
     "text": [
      "Translating OCR Files:   0%|          | 1/490 [01:08<9:17:52, 68.45s/file]"
     ]
    },
    {
     "name": "stdout",
     "output_type": "stream",
     "text": [
      " Saved translated file: 0-08a6bcd3-6477-4252-8f35-4f8f80d114f9.csv\n",
      "\n",
      "Processing file 2 of 490: 0-0b54af64-c2cd-4acb-9864-73a584aa6ebc.csv\n"
     ]
    },
    {
     "name": "stderr",
     "output_type": "stream",
     "text": [
      "Translating OCR Files:   0%|          | 2/490 [01:24<5:06:57, 37.74s/file]"
     ]
    },
    {
     "name": "stdout",
     "output_type": "stream",
     "text": [
      " Saved translated file: 0-0b54af64-c2cd-4acb-9864-73a584aa6ebc.csv\n",
      "\n",
      "Processing file 3 of 490: 0-0baba509-5e81-4b88-b509-843822d09e21.csv\n"
     ]
    },
    {
     "name": "stderr",
     "output_type": "stream",
     "text": [
      "Translating OCR Files:   1%|          | 3/490 [01:37<3:34:25, 26.42s/file]"
     ]
    },
    {
     "name": "stdout",
     "output_type": "stream",
     "text": [
      " Saved translated file: 0-0baba509-5e81-4b88-b509-843822d09e21.csv\n",
      "\n",
      "Processing file 4 of 490: 0-0f319bf6-e667-4bac-a974-dfda1142e9ff.csv\n"
     ]
    },
    {
     "name": "stderr",
     "output_type": "stream",
     "text": [
      "Translating OCR Files:   1%|          | 4/490 [01:46<2:39:12, 19.66s/file]"
     ]
    },
    {
     "name": "stdout",
     "output_type": "stream",
     "text": [
      " Saved translated file: 0-0f319bf6-e667-4bac-a974-dfda1142e9ff.csv\n",
      "\n",
      "Processing file 5 of 490: 0-129ac70f-8942-4ca7-b1f2-ddeaa3d984b5.csv\n"
     ]
    },
    {
     "name": "stderr",
     "output_type": "stream",
     "text": [
      "Translating OCR Files:   1%|          | 5/490 [01:55<2:06:04, 15.60s/file]"
     ]
    },
    {
     "name": "stdout",
     "output_type": "stream",
     "text": [
      " Saved translated file: 0-129ac70f-8942-4ca7-b1f2-ddeaa3d984b5.csv\n",
      "\n",
      "Processing file 6 of 490: 0-1a20ded1-50fc-4153-9a95-e158eeb7199e.csv\n"
     ]
    },
    {
     "name": "stderr",
     "output_type": "stream",
     "text": [
      "Translating OCR Files:   1%|          | 6/490 [02:02<1:42:47, 12.74s/file]"
     ]
    },
    {
     "name": "stdout",
     "output_type": "stream",
     "text": [
      " Saved translated file: 0-1a20ded1-50fc-4153-9a95-e158eeb7199e.csv\n",
      "\n",
      "Processing file 7 of 490: 0-1afcf93d-50f1-4f1e-896d-87b0da7519f7.csv\n"
     ]
    },
    {
     "name": "stderr",
     "output_type": "stream",
     "text": [
      "Translating OCR Files:   1%|▏         | 7/490 [02:09<1:27:10, 10.83s/file]"
     ]
    },
    {
     "name": "stdout",
     "output_type": "stream",
     "text": [
      " Saved translated file: 0-1afcf93d-50f1-4f1e-896d-87b0da7519f7.csv\n",
      "\n",
      "Processing file 8 of 490: 0-1b0dc208-d2bb-43ea-b744-534f3b759394.csv\n"
     ]
    },
    {
     "name": "stderr",
     "output_type": "stream",
     "text": [
      "Translating OCR Files:   2%|▏         | 8/490 [02:13<1:10:35,  8.79s/file]"
     ]
    },
    {
     "name": "stdout",
     "output_type": "stream",
     "text": [
      " Saved translated file: 0-1b0dc208-d2bb-43ea-b744-534f3b759394.csv\n",
      "\n",
      "Processing file 9 of 490: 0-1cc570d8-cddb-401e-8c37-ef10c0e4841f.csv\n"
     ]
    },
    {
     "name": "stderr",
     "output_type": "stream",
     "text": [
      "Translating OCR Files:   2%|▏         | 9/490 [02:23<1:12:55,  9.10s/file]"
     ]
    },
    {
     "name": "stdout",
     "output_type": "stream",
     "text": [
      " Saved translated file: 0-1cc570d8-cddb-401e-8c37-ef10c0e4841f.csv\n",
      "\n",
      "Processing file 10 of 490: 0-300450bf-221e-4eeb-bdda-dc1115c947ea.csv\n"
     ]
    },
    {
     "name": "stderr",
     "output_type": "stream",
     "text": [
      "Translating OCR Files:   2%|▏         | 10/490 [02:34<1:16:15,  9.53s/file]"
     ]
    },
    {
     "name": "stdout",
     "output_type": "stream",
     "text": [
      " Saved translated file: 0-300450bf-221e-4eeb-bdda-dc1115c947ea.csv\n",
      "\n",
      "Processing file 11 of 490: 0-32eb7662-f212-4811-a7c1-1cfeb121cd99.csv\n"
     ]
    },
    {
     "name": "stderr",
     "output_type": "stream",
     "text": [
      "Translating OCR Files:   2%|▏         | 11/490 [03:03<2:05:40, 15.74s/file]"
     ]
    },
    {
     "name": "stdout",
     "output_type": "stream",
     "text": [
      " Saved translated file: 0-32eb7662-f212-4811-a7c1-1cfeb121cd99.csv\n",
      "\n",
      "Processing file 12 of 490: 0-330f554f-a3e6-4bd3-8b1b-d5949e1f30e8.csv\n"
     ]
    },
    {
     "name": "stderr",
     "output_type": "stream",
     "text": [
      "Translating OCR Files:   2%|▏         | 12/490 [03:06<1:33:23, 11.72s/file]"
     ]
    },
    {
     "name": "stdout",
     "output_type": "stream",
     "text": [
      " Saved translated file: 0-330f554f-a3e6-4bd3-8b1b-d5949e1f30e8.csv\n",
      "\n",
      "Processing file 13 of 490: 0-3556e54c-d418-447d-bb2a-43ac0408cc7a.csv\n"
     ]
    },
    {
     "name": "stderr",
     "output_type": "stream",
     "text": [
      "Translating OCR Files:   3%|▎         | 13/490 [03:10<1:15:22,  9.48s/file]"
     ]
    },
    {
     "name": "stdout",
     "output_type": "stream",
     "text": [
      " Saved translated file: 0-3556e54c-d418-447d-bb2a-43ac0408cc7a.csv\n",
      "\n",
      "Processing file 14 of 490: 0-383d824e-7588-4a92-84b7-fd953dd91cba.csv\n"
     ]
    },
    {
     "name": "stderr",
     "output_type": "stream",
     "text": [
      "Translating OCR Files:   3%|▎         | 14/490 [03:22<1:20:43, 10.18s/file]"
     ]
    },
    {
     "name": "stdout",
     "output_type": "stream",
     "text": [
      " Saved translated file: 0-383d824e-7588-4a92-84b7-fd953dd91cba.csv\n",
      "\n",
      "Processing file 15 of 490: 0-493542fc-495f-4756-8451-c4ed084d8bf7.csv\n"
     ]
    },
    {
     "name": "stderr",
     "output_type": "stream",
     "text": [
      "Translating OCR Files:   3%|▎         | 15/490 [03:34<1:24:07, 10.63s/file]"
     ]
    },
    {
     "name": "stdout",
     "output_type": "stream",
     "text": [
      " Saved translated file: 0-493542fc-495f-4756-8451-c4ed084d8bf7.csv\n",
      "\n",
      "Processing file 16 of 490: 0-4ae9bf34-c16c-4684-aa92-fec65a151275.csv\n"
     ]
    },
    {
     "name": "stderr",
     "output_type": "stream",
     "text": [
      "Translating OCR Files:   3%|▎         | 16/490 [04:06<2:14:46, 17.06s/file]"
     ]
    },
    {
     "name": "stdout",
     "output_type": "stream",
     "text": [
      " Saved translated file: 0-4ae9bf34-c16c-4684-aa92-fec65a151275.csv\n",
      "\n",
      "Processing file 17 of 490: 0-4c74b697-0681-4223-9982-5ffaf4e98ed0.csv\n"
     ]
    },
    {
     "name": "stderr",
     "output_type": "stream",
     "text": [
      "Translating OCR Files:   3%|▎         | 17/490 [04:07<1:36:57, 12.30s/file]"
     ]
    },
    {
     "name": "stdout",
     "output_type": "stream",
     "text": [
      " Saved translated file: 0-4c74b697-0681-4223-9982-5ffaf4e98ed0.csv\n",
      "\n",
      "Processing file 18 of 490: 0-4ea07c23-a1a6-411b-bcfb-552d095b66c9.csv\n"
     ]
    },
    {
     "name": "stderr",
     "output_type": "stream",
     "text": [
      "Translating OCR Files:   4%|▎         | 18/490 [04:19<1:35:16, 12.11s/file]"
     ]
    },
    {
     "name": "stdout",
     "output_type": "stream",
     "text": [
      " Saved translated file: 0-4ea07c23-a1a6-411b-bcfb-552d095b66c9.csv\n",
      "\n",
      "Processing file 19 of 490: 0-5a84cde3-7175-4044-8c88-d4c883a8fd38.csv\n"
     ]
    },
    {
     "name": "stderr",
     "output_type": "stream",
     "text": [
      "Translating OCR Files:   4%|▍         | 19/490 [04:35<1:43:56, 13.24s/file]"
     ]
    },
    {
     "name": "stdout",
     "output_type": "stream",
     "text": [
      " Saved translated file: 0-5a84cde3-7175-4044-8c88-d4c883a8fd38.csv\n",
      "\n",
      "Processing file 20 of 490: 0-5ae9bdca-fdf9-4948-8c11-a9e400b331aa.csv\n"
     ]
    },
    {
     "name": "stderr",
     "output_type": "stream",
     "text": [
      "Translating OCR Files:   4%|▍         | 20/490 [04:43<1:31:36, 11.70s/file]"
     ]
    },
    {
     "name": "stdout",
     "output_type": "stream",
     "text": [
      " Saved translated file: 0-5ae9bdca-fdf9-4948-8c11-a9e400b331aa.csv\n",
      "\n",
      "Processing file 21 of 490: 0-5d4e3e02-1dfc-469e-8af9-8dbe2b9f1564.csv\n"
     ]
    },
    {
     "name": "stderr",
     "output_type": "stream",
     "text": [
      "Translating OCR Files:   4%|▍         | 21/490 [04:44<1:06:53,  8.56s/file]"
     ]
    },
    {
     "name": "stdout",
     "output_type": "stream",
     "text": [
      " Saved translated file: 0-5d4e3e02-1dfc-469e-8af9-8dbe2b9f1564.csv\n",
      "\n",
      "Processing file 22 of 490: 0-5ef1d666-e19d-4570-b800-6693a4f680ee.csv\n"
     ]
    },
    {
     "name": "stderr",
     "output_type": "stream",
     "text": [
      "Translating OCR Files:   4%|▍         | 22/490 [05:24<2:21:19, 18.12s/file]"
     ]
    },
    {
     "name": "stdout",
     "output_type": "stream",
     "text": [
      " Saved translated file: 0-5ef1d666-e19d-4570-b800-6693a4f680ee.csv\n",
      "\n",
      "Processing file 23 of 490: 0-62583414-9e32-4d09-8989-b5fa32a98a81.csv\n"
     ]
    },
    {
     "name": "stderr",
     "output_type": "stream",
     "text": [
      "Translating OCR Files:   5%|▍         | 23/490 [05:30<1:51:22, 14.31s/file]"
     ]
    },
    {
     "name": "stdout",
     "output_type": "stream",
     "text": [
      " Saved translated file: 0-62583414-9e32-4d09-8989-b5fa32a98a81.csv\n",
      "\n",
      "Processing file 24 of 490: 0-62ff30cf-de5f-4388-82aa-b69b0fd0f07c.csv\n"
     ]
    },
    {
     "name": "stderr",
     "output_type": "stream",
     "text": [
      "Translating OCR Files:   5%|▍         | 24/490 [05:40<1:42:18, 13.17s/file]"
     ]
    },
    {
     "name": "stdout",
     "output_type": "stream",
     "text": [
      " Saved translated file: 0-62ff30cf-de5f-4388-82aa-b69b0fd0f07c.csv\n",
      "\n",
      "Processing file 25 of 490: 0-645dfc97-3268-4e1d-920d-4138545456fa.csv\n"
     ]
    },
    {
     "name": "stderr",
     "output_type": "stream",
     "text": [
      "Translating OCR Files:   5%|▌         | 25/490 [05:42<1:15:01,  9.68s/file]"
     ]
    },
    {
     "name": "stdout",
     "output_type": "stream",
     "text": [
      " Saved translated file: 0-645dfc97-3268-4e1d-920d-4138545456fa.csv\n",
      "\n",
      "Processing file 26 of 490: 0-6848748d-2881-4c26-b153-fcd5373d2f1c.csv\n"
     ]
    },
    {
     "name": "stderr",
     "output_type": "stream",
     "text": [
      "Translating OCR Files:   5%|▌         | 26/490 [06:07<1:51:53, 14.47s/file]"
     ]
    },
    {
     "name": "stdout",
     "output_type": "stream",
     "text": [
      " Saved translated file: 0-6848748d-2881-4c26-b153-fcd5373d2f1c.csv\n",
      "\n",
      "Processing file 27 of 490: 0-6bcc0131-e4ad-421e-bb1f-d8ebe5eeec7b.csv\n"
     ]
    },
    {
     "name": "stderr",
     "output_type": "stream",
     "text": [
      "Translating OCR Files:   6%|▌         | 27/490 [06:10<1:24:14, 10.92s/file]"
     ]
    },
    {
     "name": "stdout",
     "output_type": "stream",
     "text": [
      " Saved translated file: 0-6bcc0131-e4ad-421e-bb1f-d8ebe5eeec7b.csv\n",
      "\n",
      "Processing file 28 of 490: 0-6cbb3eeb-17e9-4af6-8da1-36eb6437f7bc.csv\n"
     ]
    },
    {
     "name": "stderr",
     "output_type": "stream",
     "text": [
      "Translating OCR Files:   6%|▌         | 28/490 [06:27<1:38:43, 12.82s/file]"
     ]
    },
    {
     "name": "stdout",
     "output_type": "stream",
     "text": [
      " Saved translated file: 0-6cbb3eeb-17e9-4af6-8da1-36eb6437f7bc.csv\n",
      "\n",
      "Processing file 29 of 490: 0-6e9aced1-df28-4e57-b7c8-641609ff4450.csv\n"
     ]
    },
    {
     "name": "stderr",
     "output_type": "stream",
     "text": [
      "Translating OCR Files:   6%|▌         | 29/490 [06:39<1:36:22, 12.54s/file]"
     ]
    },
    {
     "name": "stdout",
     "output_type": "stream",
     "text": [
      " Saved translated file: 0-6e9aced1-df28-4e57-b7c8-641609ff4450.csv\n",
      "\n",
      "Processing file 30 of 490: 0-70c63791-2797-4bf0-a778-ea08819aa9de.csv\n"
     ]
    },
    {
     "name": "stderr",
     "output_type": "stream",
     "text": [
      "Translating OCR Files:   6%|▌         | 30/490 [06:40<1:10:00,  9.13s/file]"
     ]
    },
    {
     "name": "stdout",
     "output_type": "stream",
     "text": [
      " Saved translated file: 0-70c63791-2797-4bf0-a778-ea08819aa9de.csv\n",
      "\n",
      "Processing file 31 of 490: 0-7150f512-e7a2-4f2c-86bc-58b671b25ba9.csv\n"
     ]
    },
    {
     "name": "stderr",
     "output_type": "stream",
     "text": [
      "Translating OCR Files:   6%|▋         | 31/490 [06:46<1:02:51,  8.22s/file]"
     ]
    },
    {
     "name": "stdout",
     "output_type": "stream",
     "text": [
      " Saved translated file: 0-7150f512-e7a2-4f2c-86bc-58b671b25ba9.csv\n",
      "\n",
      "Processing file 32 of 490: 0-785cc8c9-1225-4f93-b633-349bc5113512.csv\n"
     ]
    },
    {
     "name": "stderr",
     "output_type": "stream",
     "text": [
      "Translating OCR Files:   7%|▋         | 32/490 [06:53<57:48,  7.57s/file]  "
     ]
    },
    {
     "name": "stdout",
     "output_type": "stream",
     "text": [
      " Saved translated file: 0-785cc8c9-1225-4f93-b633-349bc5113512.csv\n",
      "\n",
      "Processing file 33 of 490: 0-79d9b7f2-cfe4-4615-9b75-8fea33fc0c9d.csv\n"
     ]
    },
    {
     "name": "stderr",
     "output_type": "stream",
     "text": [
      "Translating OCR Files:   7%|▋         | 33/490 [06:56<48:09,  6.32s/file]"
     ]
    },
    {
     "name": "stdout",
     "output_type": "stream",
     "text": [
      " Saved translated file: 0-79d9b7f2-cfe4-4615-9b75-8fea33fc0c9d.csv\n",
      "\n",
      "Processing file 34 of 490: 0-94b16e53-f035-4aa9-a76e-80bc6e936d10.csv\n"
     ]
    },
    {
     "name": "stderr",
     "output_type": "stream",
     "text": [
      "Translating OCR Files:   7%|▋         | 34/490 [06:59<41:13,  5.43s/file]"
     ]
    },
    {
     "name": "stdout",
     "output_type": "stream",
     "text": [
      " Saved translated file: 0-94b16e53-f035-4aa9-a76e-80bc6e936d10.csv\n",
      "\n",
      "Processing file 35 of 490: 0-96af60b3-299c-4e26-bca3-d9eb3e113b94.csv\n"
     ]
    },
    {
     "name": "stderr",
     "output_type": "stream",
     "text": [
      "Translating OCR Files:   7%|▋         | 35/490 [07:19<1:13:42,  9.72s/file]"
     ]
    },
    {
     "name": "stdout",
     "output_type": "stream",
     "text": [
      " Saved translated file: 0-96af60b3-299c-4e26-bca3-d9eb3e113b94.csv\n",
      "\n",
      "Processing file 36 of 490: 0-987ba39a-cc1c-4367-8d6d-f5a49a940198.csv\n"
     ]
    },
    {
     "name": "stderr",
     "output_type": "stream",
     "text": [
      "Translating OCR Files:   7%|▋         | 36/490 [07:25<1:05:22,  8.64s/file]"
     ]
    },
    {
     "name": "stdout",
     "output_type": "stream",
     "text": [
      " Saved translated file: 0-987ba39a-cc1c-4367-8d6d-f5a49a940198.csv\n",
      "\n",
      "Processing file 37 of 490: 0-9a8077f5-ac41-491f-b192-6b4609324bda.csv\n"
     ]
    },
    {
     "name": "stderr",
     "output_type": "stream",
     "text": [
      "Translating OCR Files:   8%|▊         | 37/490 [07:27<50:14,  6.65s/file]  "
     ]
    },
    {
     "name": "stdout",
     "output_type": "stream",
     "text": [
      " Saved translated file: 0-9a8077f5-ac41-491f-b192-6b4609324bda.csv\n",
      "\n",
      "Processing file 38 of 490: 0-9c8c9989-2293-4e68-9ffe-6f7a5f14562f.csv\n"
     ]
    },
    {
     "name": "stderr",
     "output_type": "stream",
     "text": [
      "Translating OCR Files:   8%|▊         | 38/490 [07:30<41:34,  5.52s/file]"
     ]
    },
    {
     "name": "stdout",
     "output_type": "stream",
     "text": [
      " Saved translated file: 0-9c8c9989-2293-4e68-9ffe-6f7a5f14562f.csv\n",
      "\n",
      "Processing file 39 of 490: 0-aa99f763-6849-4f6b-adf2-58f0cc2ed545.csv\n"
     ]
    },
    {
     "name": "stderr",
     "output_type": "stream",
     "text": [
      "Translating OCR Files:   8%|▊         | 39/490 [07:38<47:09,  6.27s/file]"
     ]
    },
    {
     "name": "stdout",
     "output_type": "stream",
     "text": [
      " Saved translated file: 0-aa99f763-6849-4f6b-adf2-58f0cc2ed545.csv\n",
      "\n",
      "Processing file 40 of 490: 0-adaf869e-920a-4a17-91bd-e2ef3125c10e.csv\n"
     ]
    },
    {
     "name": "stderr",
     "output_type": "stream",
     "text": [
      "Translating OCR Files:   8%|▊         | 40/490 [07:48<55:26,  7.39s/file]"
     ]
    },
    {
     "name": "stdout",
     "output_type": "stream",
     "text": [
      " Saved translated file: 0-adaf869e-920a-4a17-91bd-e2ef3125c10e.csv\n",
      "\n",
      "Processing file 41 of 490: 0-af93eff8-2973-4746-9041-b2223016b117.csv\n"
     ]
    },
    {
     "name": "stderr",
     "output_type": "stream",
     "text": [
      "Translating OCR Files:   8%|▊         | 41/490 [07:56<56:33,  7.56s/file]"
     ]
    },
    {
     "name": "stdout",
     "output_type": "stream",
     "text": [
      " Saved translated file: 0-af93eff8-2973-4746-9041-b2223016b117.csv\n",
      "\n",
      "Processing file 42 of 490: 0-b0a4acaa-d768-4f6d-8e54-6d20f271bb7c.csv\n"
     ]
    },
    {
     "name": "stderr",
     "output_type": "stream",
     "text": [
      "Translating OCR Files:   9%|▊         | 42/490 [07:58<44:26,  5.95s/file]"
     ]
    },
    {
     "name": "stdout",
     "output_type": "stream",
     "text": [
      " Saved translated file: 0-b0a4acaa-d768-4f6d-8e54-6d20f271bb7c.csv\n",
      "\n",
      "Processing file 43 of 490: 0-b3ce4d51-6024-4b43-b0d2-d3faaf3c2879.csv\n"
     ]
    },
    {
     "name": "stderr",
     "output_type": "stream",
     "text": [
      "Translating OCR Files:   9%|▉         | 43/490 [08:06<49:21,  6.63s/file]"
     ]
    },
    {
     "name": "stdout",
     "output_type": "stream",
     "text": [
      " Saved translated file: 0-b3ce4d51-6024-4b43-b0d2-d3faaf3c2879.csv\n",
      "\n",
      "Processing file 44 of 490: 0-b6eb1b15-cf99-475c-921f-f06e5c1019d4.csv\n"
     ]
    },
    {
     "name": "stderr",
     "output_type": "stream",
     "text": [
      "Translating OCR Files:   9%|▉         | 44/490 [08:08<37:23,  5.03s/file]"
     ]
    },
    {
     "name": "stdout",
     "output_type": "stream",
     "text": [
      " Saved translated file: 0-b6eb1b15-cf99-475c-921f-f06e5c1019d4.csv\n",
      "\n",
      "Processing file 45 of 490: 0-b8b76b6d-a50e-4246-82ee-3c8a5dcd523e.csv\n"
     ]
    },
    {
     "name": "stderr",
     "output_type": "stream",
     "text": [
      "Translating OCR Files:   9%|▉         | 45/490 [08:14<41:11,  5.55s/file]"
     ]
    },
    {
     "name": "stdout",
     "output_type": "stream",
     "text": [
      " Saved translated file: 0-b8b76b6d-a50e-4246-82ee-3c8a5dcd523e.csv\n",
      "\n",
      "Processing file 46 of 490: 0-b8cea3b1-4dde-4438-9b1a-6faf690bbad0.csv\n"
     ]
    },
    {
     "name": "stderr",
     "output_type": "stream",
     "text": [
      "Translating OCR Files:   9%|▉         | 46/490 [08:17<34:58,  4.73s/file]"
     ]
    },
    {
     "name": "stdout",
     "output_type": "stream",
     "text": [
      " Saved translated file: 0-b8cea3b1-4dde-4438-9b1a-6faf690bbad0.csv\n",
      "\n",
      "Processing file 47 of 490: 0-b9d9c584-5e21-4a49-952b-ffecca4eb91e.csv\n"
     ]
    },
    {
     "name": "stderr",
     "output_type": "stream",
     "text": [
      "Translating OCR Files:  10%|▉         | 47/490 [08:33<59:42,  8.09s/file]"
     ]
    },
    {
     "name": "stdout",
     "output_type": "stream",
     "text": [
      " Saved translated file: 0-b9d9c584-5e21-4a49-952b-ffecca4eb91e.csv\n",
      "\n",
      "Processing file 48 of 490: 0-bcad4fdf-3771-4873-92fa-23240654118a.csv\n"
     ]
    },
    {
     "name": "stderr",
     "output_type": "stream",
     "text": [
      "Translating OCR Files:  10%|▉         | 48/490 [08:50<1:18:41, 10.68s/file]"
     ]
    },
    {
     "name": "stdout",
     "output_type": "stream",
     "text": [
      " Saved translated file: 0-bcad4fdf-3771-4873-92fa-23240654118a.csv\n",
      "\n",
      "Processing file 49 of 490: 0-c5f1d959-39d1-4176-9cb1-1fb6e8baedc3.csv\n"
     ]
    },
    {
     "name": "stderr",
     "output_type": "stream",
     "text": [
      "Translating OCR Files:  10%|█         | 49/490 [09:10<1:39:59, 13.60s/file]"
     ]
    },
    {
     "name": "stdout",
     "output_type": "stream",
     "text": [
      " Saved translated file: 0-c5f1d959-39d1-4176-9cb1-1fb6e8baedc3.csv\n",
      "\n",
      "Processing file 50 of 490: 0-dd5b6a38-dc17-4122-a242-32006b381b3a.csv\n"
     ]
    },
    {
     "name": "stderr",
     "output_type": "stream",
     "text": [
      "Translating OCR Files:  10%|█         | 50/490 [09:12<1:12:26,  9.88s/file]"
     ]
    },
    {
     "name": "stdout",
     "output_type": "stream",
     "text": [
      " Saved translated file: 0-dd5b6a38-dc17-4122-a242-32006b381b3a.csv\n",
      "\n",
      "Processing file 51 of 490: 0-de359f8d-0745-4a93-959a-d1a6c361e326.csv\n"
     ]
    },
    {
     "name": "stderr",
     "output_type": "stream",
     "text": [
      "Translating OCR Files:  10%|█         | 51/490 [09:22<1:13:51, 10.10s/file]"
     ]
    },
    {
     "name": "stdout",
     "output_type": "stream",
     "text": [
      " Saved translated file: 0-de359f8d-0745-4a93-959a-d1a6c361e326.csv\n",
      "\n",
      "Processing file 52 of 490: 0-e07a9457-86f1-4f0f-86d7-8ea816b8d8d3.csv\n"
     ]
    },
    {
     "name": "stderr",
     "output_type": "stream",
     "text": [
      "Translating OCR Files:  11%|█         | 52/490 [09:31<1:11:20,  9.77s/file]"
     ]
    },
    {
     "name": "stdout",
     "output_type": "stream",
     "text": [
      " Saved translated file: 0-e07a9457-86f1-4f0f-86d7-8ea816b8d8d3.csv\n",
      "\n",
      "Processing file 53 of 490: 0-e705d192-90ee-4fd1-9dcd-061958d1817f.csv\n"
     ]
    },
    {
     "name": "stderr",
     "output_type": "stream",
     "text": [
      "Translating OCR Files:  11%|█         | 53/490 [09:34<55:45,  7.66s/file]  "
     ]
    },
    {
     "name": "stdout",
     "output_type": "stream",
     "text": [
      " Saved translated file: 0-e705d192-90ee-4fd1-9dcd-061958d1817f.csv\n",
      "\n",
      "Processing file 54 of 490: 0-ee47dfea-2626-4107-8ab3-4663167e0493.csv\n"
     ]
    },
    {
     "name": "stderr",
     "output_type": "stream",
     "text": [
      "Translating OCR Files:  11%|█         | 54/490 [09:45<1:02:25,  8.59s/file]"
     ]
    },
    {
     "name": "stdout",
     "output_type": "stream",
     "text": [
      " Saved translated file: 0-ee47dfea-2626-4107-8ab3-4663167e0493.csv\n",
      "\n",
      "Processing file 55 of 490: 0-f0ce8a7b-909d-4fc5-ba13-ea66b2dc6448.csv\n"
     ]
    },
    {
     "name": "stderr",
     "output_type": "stream",
     "text": [
      "Translating OCR Files:  11%|█         | 55/490 [09:47<48:21,  6.67s/file]  "
     ]
    },
    {
     "name": "stdout",
     "output_type": "stream",
     "text": [
      " Saved translated file: 0-f0ce8a7b-909d-4fc5-ba13-ea66b2dc6448.csv\n",
      "\n",
      "Processing file 56 of 490: 0-f313f521-80a1-4db5-a8a7-53d29ee09890.csv\n"
     ]
    },
    {
     "name": "stderr",
     "output_type": "stream",
     "text": [
      "Translating OCR Files:  11%|█▏        | 56/490 [10:04<1:11:18,  9.86s/file]"
     ]
    },
    {
     "name": "stdout",
     "output_type": "stream",
     "text": [
      " Saved translated file: 0-f313f521-80a1-4db5-a8a7-53d29ee09890.csv\n",
      "\n",
      "Processing file 57 of 490: 0-f41b7574-57b4-4c9f-907c-2a3c48a56157.csv\n"
     ]
    },
    {
     "name": "stderr",
     "output_type": "stream",
     "text": [
      "Translating OCR Files:  12%|█▏        | 57/490 [10:21<1:26:56, 12.05s/file]"
     ]
    },
    {
     "name": "stdout",
     "output_type": "stream",
     "text": [
      " Saved translated file: 0-f41b7574-57b4-4c9f-907c-2a3c48a56157.csv\n",
      "\n",
      "Processing file 58 of 490: 0-fc27ce32-9c96-416c-9c38-84977255e0ba.csv\n"
     ]
    },
    {
     "name": "stderr",
     "output_type": "stream",
     "text": [
      "Translating OCR Files:  12%|█▏        | 58/490 [10:36<1:31:36, 12.72s/file]"
     ]
    },
    {
     "name": "stdout",
     "output_type": "stream",
     "text": [
      " Saved translated file: 0-fc27ce32-9c96-416c-9c38-84977255e0ba.csv\n",
      "\n",
      "Processing file 59 of 490: 0-fcf90a92-794c-40c6-aa4f-8ea82f8bed51.csv\n"
     ]
    },
    {
     "name": "stderr",
     "output_type": "stream",
     "text": [
      "Translating OCR Files:  12%|█▏        | 59/490 [10:53<1:40:50, 14.04s/file]"
     ]
    },
    {
     "name": "stdout",
     "output_type": "stream",
     "text": [
      " Saved translated file: 0-fcf90a92-794c-40c6-aa4f-8ea82f8bed51.csv\n",
      "\n",
      "Processing file 60 of 490: 0-fe221e78-67e4-4d88-b73d-e58a9943a036.csv\n"
     ]
    },
    {
     "name": "stderr",
     "output_type": "stream",
     "text": [
      "Translating OCR Files:  12%|█▏        | 60/490 [11:01<1:28:08, 12.30s/file]"
     ]
    },
    {
     "name": "stdout",
     "output_type": "stream",
     "text": [
      " Saved translated file: 0-fe221e78-67e4-4d88-b73d-e58a9943a036.csv\n",
      "\n",
      "Processing file 61 of 490: 01cdc26f-e773-4ad7-8808-d04abf16aae7_1_0.csv\n"
     ]
    },
    {
     "name": "stderr",
     "output_type": "stream",
     "text": [
      "Translating OCR Files:  12%|█▏        | 61/490 [11:55<2:58:08, 24.91s/file]"
     ]
    },
    {
     "name": "stdout",
     "output_type": "stream",
     "text": [
      " Saved translated file: 01cdc26f-e773-4ad7-8808-d04abf16aae7_1_0.csv\n",
      "\n",
      "Processing file 62 of 490: 01cdc26f-e773-4ad7-8808-d04abf16aae7_2_0.csv\n"
     ]
    },
    {
     "name": "stderr",
     "output_type": "stream",
     "text": [
      "Translating OCR Files:  13%|█▎        | 62/490 [12:02<2:18:43, 19.45s/file]"
     ]
    },
    {
     "name": "stdout",
     "output_type": "stream",
     "text": [
      " Saved translated file: 01cdc26f-e773-4ad7-8808-d04abf16aae7_2_0.csv\n",
      "\n",
      "Processing file 63 of 490: 07f179c5-5705-4dbd-94a7-66eed1e066b0_0.csv\n"
     ]
    },
    {
     "name": "stderr",
     "output_type": "stream",
     "text": [
      "Translating OCR Files:  13%|█▎        | 63/490 [13:32<4:49:19, 40.66s/file]"
     ]
    },
    {
     "name": "stdout",
     "output_type": "stream",
     "text": [
      "Ollama error: HTTPConnectionPool(host='localhost', port=11434): Read timed out. (read timeout=90)\n",
      " Saved translated file: 07f179c5-5705-4dbd-94a7-66eed1e066b0_0.csv\n",
      "\n",
      "Processing file 64 of 490: 07f179c5-5705-4dbd-94a7-66eed1e066b0_1.csv\n"
     ]
    },
    {
     "name": "stderr",
     "output_type": "stream",
     "text": [
      "Translating OCR Files:  13%|█▎        | 64/490 [14:07<4:35:25, 38.79s/file]"
     ]
    },
    {
     "name": "stdout",
     "output_type": "stream",
     "text": [
      " Saved translated file: 07f179c5-5705-4dbd-94a7-66eed1e066b0_1.csv\n",
      "\n",
      "Processing file 65 of 490: 07f179c5-5705-4dbd-94a7-66eed1e066b0_2.csv\n"
     ]
    },
    {
     "name": "stderr",
     "output_type": "stream",
     "text": [
      "Translating OCR Files:  13%|█▎        | 65/490 [15:32<6:14:42, 52.90s/file]"
     ]
    },
    {
     "name": "stdout",
     "output_type": "stream",
     "text": [
      " Saved translated file: 07f179c5-5705-4dbd-94a7-66eed1e066b0_2.csv\n",
      "\n",
      "Processing file 66 of 490: 08a6bcd3-6477-4252-8f35-4f8f80d114f9.csv\n"
     ]
    },
    {
     "name": "stderr",
     "output_type": "stream",
     "text": [
      "Translating OCR Files:  13%|█▎        | 66/490 [16:03<5:26:47, 46.24s/file]"
     ]
    },
    {
     "name": "stdout",
     "output_type": "stream",
     "text": [
      " Saved translated file: 08a6bcd3-6477-4252-8f35-4f8f80d114f9.csv\n",
      "\n",
      "Processing file 67 of 490: 0b54af64-c2cd-4acb-9864-73a584aa6ebc.csv\n"
     ]
    },
    {
     "name": "stderr",
     "output_type": "stream",
     "text": [
      "Translating OCR Files:  14%|█▎        | 67/490 [16:23<4:30:15, 38.33s/file]"
     ]
    },
    {
     "name": "stdout",
     "output_type": "stream",
     "text": [
      " Saved translated file: 0b54af64-c2cd-4acb-9864-73a584aa6ebc.csv\n",
      "\n",
      "Processing file 68 of 490: 0baba509-5e81-4b88-b509-843822d09e21.csv\n"
     ]
    },
    {
     "name": "stderr",
     "output_type": "stream",
     "text": [
      "Translating OCR Files:  14%|█▍        | 68/490 [16:43<3:52:02, 32.99s/file]"
     ]
    },
    {
     "name": "stdout",
     "output_type": "stream",
     "text": [
      " Saved translated file: 0baba509-5e81-4b88-b509-843822d09e21.csv\n",
      "\n",
      "Processing file 69 of 490: 0f319bf6-e667-4bac-a974-dfda1142e9ff.csv\n"
     ]
    },
    {
     "name": "stderr",
     "output_type": "stream",
     "text": [
      "Translating OCR Files:  14%|█▍        | 69/490 [17:07<3:32:09, 30.24s/file]"
     ]
    },
    {
     "name": "stdout",
     "output_type": "stream",
     "text": [
      " Saved translated file: 0f319bf6-e667-4bac-a974-dfda1142e9ff.csv\n",
      "\n",
      "Processing file 70 of 490: 12756724-394c-4576-b373-7c53f1abbd94_0.csv\n"
     ]
    },
    {
     "name": "stderr",
     "output_type": "stream",
     "text": [
      "Translating OCR Files:  14%|█▍        | 70/490 [17:13<2:41:02, 23.01s/file]"
     ]
    },
    {
     "name": "stdout",
     "output_type": "stream",
     "text": [
      " Saved translated file: 12756724-394c-4576-b373-7c53f1abbd94_0.csv\n",
      "\n",
      "Processing file 71 of 490: 12756724-394c-4576-b373-7c53f1abbd94_1.csv\n"
     ]
    },
    {
     "name": "stderr",
     "output_type": "stream",
     "text": [
      "Translating OCR Files:  14%|█▍        | 71/490 [18:02<3:34:42, 30.75s/file]"
     ]
    },
    {
     "name": "stdout",
     "output_type": "stream",
     "text": [
      " Saved translated file: 12756724-394c-4576-b373-7c53f1abbd94_1.csv\n",
      "\n",
      "Processing file 72 of 490: 12756724-394c-4576-b373-7c53f1abbd94_10.csv\n"
     ]
    },
    {
     "name": "stderr",
     "output_type": "stream",
     "text": [
      "Translating OCR Files:  15%|█▍        | 72/490 [18:47<4:03:43, 34.98s/file]"
     ]
    },
    {
     "name": "stdout",
     "output_type": "stream",
     "text": [
      " Saved translated file: 12756724-394c-4576-b373-7c53f1abbd94_10.csv\n",
      "\n",
      "Processing file 73 of 490: 12756724-394c-4576-b373-7c53f1abbd94_11.csv\n"
     ]
    },
    {
     "name": "stderr",
     "output_type": "stream",
     "text": [
      "Translating OCR Files:  15%|█▍        | 73/490 [19:30<4:19:08, 37.29s/file]"
     ]
    },
    {
     "name": "stdout",
     "output_type": "stream",
     "text": [
      " Saved translated file: 12756724-394c-4576-b373-7c53f1abbd94_11.csv\n",
      "\n",
      "Processing file 74 of 490: 12756724-394c-4576-b373-7c53f1abbd94_12.csv\n"
     ]
    },
    {
     "name": "stderr",
     "output_type": "stream",
     "text": [
      "Translating OCR Files:  15%|█▌        | 74/490 [20:04<4:11:11, 36.23s/file]"
     ]
    },
    {
     "name": "stdout",
     "output_type": "stream",
     "text": [
      " Saved translated file: 12756724-394c-4576-b373-7c53f1abbd94_12.csv\n",
      "\n",
      "Processing file 75 of 490: 12756724-394c-4576-b373-7c53f1abbd94_13.csv\n"
     ]
    },
    {
     "name": "stderr",
     "output_type": "stream",
     "text": [
      "Translating OCR Files:  15%|█▌        | 75/490 [21:21<5:35:24, 48.49s/file]"
     ]
    },
    {
     "name": "stdout",
     "output_type": "stream",
     "text": [
      " Saved translated file: 12756724-394c-4576-b373-7c53f1abbd94_13.csv\n",
      "\n",
      "Processing file 76 of 490: 12756724-394c-4576-b373-7c53f1abbd94_14.csv\n"
     ]
    },
    {
     "name": "stderr",
     "output_type": "stream",
     "text": [
      "Translating OCR Files:  16%|█▌        | 76/490 [22:09<5:34:35, 48.49s/file]"
     ]
    },
    {
     "name": "stdout",
     "output_type": "stream",
     "text": [
      " Saved translated file: 12756724-394c-4576-b373-7c53f1abbd94_14.csv\n",
      "\n",
      "Processing file 77 of 490: 12756724-394c-4576-b373-7c53f1abbd94_15.csv\n"
     ]
    },
    {
     "name": "stderr",
     "output_type": "stream",
     "text": [
      "Translating OCR Files:  16%|█▌        | 77/490 [22:35<4:47:47, 41.81s/file]"
     ]
    },
    {
     "name": "stdout",
     "output_type": "stream",
     "text": [
      " Saved translated file: 12756724-394c-4576-b373-7c53f1abbd94_15.csv\n",
      "\n",
      "Processing file 78 of 490: 12756724-394c-4576-b373-7c53f1abbd94_16.csv\n"
     ]
    },
    {
     "name": "stderr",
     "output_type": "stream",
     "text": [
      "Translating OCR Files:  16%|█▌        | 78/490 [22:58<4:07:19, 36.02s/file]"
     ]
    },
    {
     "name": "stdout",
     "output_type": "stream",
     "text": [
      " Saved translated file: 12756724-394c-4576-b373-7c53f1abbd94_16.csv\n",
      "\n",
      "Processing file 79 of 490: 12756724-394c-4576-b373-7c53f1abbd94_17.csv\n"
     ]
    },
    {
     "name": "stderr",
     "output_type": "stream",
     "text": [
      "Translating OCR Files:  16%|█▌        | 79/490 [23:27<3:52:33, 33.95s/file]"
     ]
    },
    {
     "name": "stdout",
     "output_type": "stream",
     "text": [
      " Saved translated file: 12756724-394c-4576-b373-7c53f1abbd94_17.csv\n",
      "\n",
      "Processing file 80 of 490: 12756724-394c-4576-b373-7c53f1abbd94_18.csv\n"
     ]
    },
    {
     "name": "stderr",
     "output_type": "stream",
     "text": [
      "Translating OCR Files:  16%|█▋        | 80/490 [24:01<3:52:35, 34.04s/file]"
     ]
    },
    {
     "name": "stdout",
     "output_type": "stream",
     "text": [
      " Saved translated file: 12756724-394c-4576-b373-7c53f1abbd94_18.csv\n",
      "\n",
      "Processing file 81 of 490: 12756724-394c-4576-b373-7c53f1abbd94_19.csv\n"
     ]
    },
    {
     "name": "stderr",
     "output_type": "stream",
     "text": [
      "Translating OCR Files:  17%|█▋        | 81/490 [24:52<4:26:45, 39.13s/file]"
     ]
    },
    {
     "name": "stdout",
     "output_type": "stream",
     "text": [
      " Saved translated file: 12756724-394c-4576-b373-7c53f1abbd94_19.csv\n",
      "\n",
      "Processing file 82 of 490: 12756724-394c-4576-b373-7c53f1abbd94_2.csv\n"
     ]
    },
    {
     "name": "stderr",
     "output_type": "stream",
     "text": [
      "Translating OCR Files:  17%|█▋        | 82/490 [25:38<4:39:52, 41.16s/file]"
     ]
    },
    {
     "name": "stdout",
     "output_type": "stream",
     "text": [
      " Saved translated file: 12756724-394c-4576-b373-7c53f1abbd94_2.csv\n",
      "\n",
      "Processing file 83 of 490: 12756724-394c-4576-b373-7c53f1abbd94_20.csv\n"
     ]
    },
    {
     "name": "stderr",
     "output_type": "stream",
     "text": [
      "Translating OCR Files:  17%|█▋        | 83/490 [26:41<5:22:42, 47.57s/file]"
     ]
    },
    {
     "name": "stdout",
     "output_type": "stream",
     "text": [
      " Saved translated file: 12756724-394c-4576-b373-7c53f1abbd94_20.csv\n",
      "\n",
      "Processing file 84 of 490: 12756724-394c-4576-b373-7c53f1abbd94_21.csv\n"
     ]
    },
    {
     "name": "stderr",
     "output_type": "stream",
     "text": [
      "Translating OCR Files:  17%|█▋        | 84/490 [26:51<4:05:59, 36.35s/file]"
     ]
    },
    {
     "name": "stdout",
     "output_type": "stream",
     "text": [
      " Saved translated file: 12756724-394c-4576-b373-7c53f1abbd94_21.csv\n",
      "\n",
      "Processing file 85 of 490: 12756724-394c-4576-b373-7c53f1abbd94_22.csv\n"
     ]
    },
    {
     "name": "stderr",
     "output_type": "stream",
     "text": [
      "Translating OCR Files:  17%|█▋        | 85/490 [27:00<3:10:06, 28.16s/file]"
     ]
    },
    {
     "name": "stdout",
     "output_type": "stream",
     "text": [
      " Saved translated file: 12756724-394c-4576-b373-7c53f1abbd94_22.csv\n",
      "\n",
      "Processing file 86 of 490: 12756724-394c-4576-b373-7c53f1abbd94_23.csv\n"
     ]
    },
    {
     "name": "stderr",
     "output_type": "stream",
     "text": [
      "Translating OCR Files:  18%|█▊        | 86/490 [27:47<3:48:52, 33.99s/file]"
     ]
    },
    {
     "name": "stdout",
     "output_type": "stream",
     "text": [
      " Saved translated file: 12756724-394c-4576-b373-7c53f1abbd94_23.csv\n",
      "\n",
      "Processing file 87 of 490: 12756724-394c-4576-b373-7c53f1abbd94_24.csv\n"
     ]
    },
    {
     "name": "stderr",
     "output_type": "stream",
     "text": [
      "Translating OCR Files:  18%|█▊        | 87/490 [28:15<3:34:32, 31.94s/file]"
     ]
    },
    {
     "name": "stdout",
     "output_type": "stream",
     "text": [
      " Saved translated file: 12756724-394c-4576-b373-7c53f1abbd94_24.csv\n",
      "\n",
      "Processing file 88 of 490: 12756724-394c-4576-b373-7c53f1abbd94_25.csv\n"
     ]
    },
    {
     "name": "stderr",
     "output_type": "stream",
     "text": [
      "Translating OCR Files:  18%|█▊        | 88/490 [28:50<3:41:24, 33.04s/file]"
     ]
    },
    {
     "name": "stdout",
     "output_type": "stream",
     "text": [
      " Saved translated file: 12756724-394c-4576-b373-7c53f1abbd94_25.csv\n",
      "\n",
      "Processing file 89 of 490: 12756724-394c-4576-b373-7c53f1abbd94_26.csv\n"
     ]
    },
    {
     "name": "stderr",
     "output_type": "stream",
     "text": [
      "Translating OCR Files:  18%|█▊        | 89/490 [30:02<4:57:56, 44.58s/file]"
     ]
    },
    {
     "name": "stdout",
     "output_type": "stream",
     "text": [
      " Saved translated file: 12756724-394c-4576-b373-7c53f1abbd94_26.csv\n",
      "\n",
      "Processing file 90 of 490: 12756724-394c-4576-b373-7c53f1abbd94_27.csv\n"
     ]
    },
    {
     "name": "stderr",
     "output_type": "stream",
     "text": [
      "Translating OCR Files:  18%|█▊        | 90/490 [31:14<5:53:10, 52.98s/file]"
     ]
    },
    {
     "name": "stdout",
     "output_type": "stream",
     "text": [
      " Saved translated file: 12756724-394c-4576-b373-7c53f1abbd94_27.csv\n",
      "\n",
      "Processing file 91 of 490: 12756724-394c-4576-b373-7c53f1abbd94_28.csv\n"
     ]
    },
    {
     "name": "stderr",
     "output_type": "stream",
     "text": [
      "Translating OCR Files:  19%|█▊        | 91/490 [31:50<5:17:30, 47.74s/file]"
     ]
    },
    {
     "name": "stdout",
     "output_type": "stream",
     "text": [
      " Saved translated file: 12756724-394c-4576-b373-7c53f1abbd94_28.csv\n",
      "\n",
      "Processing file 92 of 490: 12756724-394c-4576-b373-7c53f1abbd94_29.csv\n"
     ]
    },
    {
     "name": "stderr",
     "output_type": "stream",
     "text": [
      "Translating OCR Files:  19%|█▉        | 92/490 [33:13<6:26:48, 58.31s/file]"
     ]
    },
    {
     "name": "stdout",
     "output_type": "stream",
     "text": [
      " Saved translated file: 12756724-394c-4576-b373-7c53f1abbd94_29.csv\n",
      "\n",
      "Processing file 93 of 490: 12756724-394c-4576-b373-7c53f1abbd94_3.csv\n"
     ]
    },
    {
     "name": "stderr",
     "output_type": "stream",
     "text": [
      "Translating OCR Files:  19%|█▉        | 93/490 [34:11<6:24:35, 58.12s/file]"
     ]
    },
    {
     "name": "stdout",
     "output_type": "stream",
     "text": [
      " Saved translated file: 12756724-394c-4576-b373-7c53f1abbd94_3.csv\n",
      "\n",
      "Processing file 94 of 490: 12756724-394c-4576-b373-7c53f1abbd94_30.csv\n"
     ]
    },
    {
     "name": "stderr",
     "output_type": "stream",
     "text": [
      "Translating OCR Files:  19%|█▉        | 94/490 [35:22<6:50:23, 62.18s/file]"
     ]
    },
    {
     "name": "stdout",
     "output_type": "stream",
     "text": [
      " Saved translated file: 12756724-394c-4576-b373-7c53f1abbd94_30.csv\n",
      "\n",
      "Processing file 95 of 490: 12756724-394c-4576-b373-7c53f1abbd94_31.csv\n"
     ]
    },
    {
     "name": "stderr",
     "output_type": "stream",
     "text": [
      "Translating OCR Files:  19%|█▉        | 95/490 [36:06<6:13:50, 56.79s/file]"
     ]
    },
    {
     "name": "stdout",
     "output_type": "stream",
     "text": [
      " Saved translated file: 12756724-394c-4576-b373-7c53f1abbd94_31.csv\n",
      "\n",
      "Processing file 96 of 490: 12756724-394c-4576-b373-7c53f1abbd94_32.csv\n"
     ]
    },
    {
     "name": "stderr",
     "output_type": "stream",
     "text": [
      "Translating OCR Files:  20%|█▉        | 96/490 [36:10<4:28:50, 40.94s/file]"
     ]
    },
    {
     "name": "stdout",
     "output_type": "stream",
     "text": [
      " Saved translated file: 12756724-394c-4576-b373-7c53f1abbd94_32.csv\n",
      "\n",
      "Processing file 97 of 490: 12756724-394c-4576-b373-7c53f1abbd94_33.csv\n"
     ]
    },
    {
     "name": "stderr",
     "output_type": "stream",
     "text": [
      "Translating OCR Files:  20%|█▉        | 97/490 [36:18<3:22:19, 30.89s/file]"
     ]
    },
    {
     "name": "stdout",
     "output_type": "stream",
     "text": [
      " Saved translated file: 12756724-394c-4576-b373-7c53f1abbd94_33.csv\n",
      "\n",
      "Processing file 98 of 490: 12756724-394c-4576-b373-7c53f1abbd94_34.csv\n"
     ]
    },
    {
     "name": "stderr",
     "output_type": "stream",
     "text": [
      "Translating OCR Files:  20%|██        | 98/490 [37:01<3:46:01, 34.60s/file]"
     ]
    },
    {
     "name": "stdout",
     "output_type": "stream",
     "text": [
      " Saved translated file: 12756724-394c-4576-b373-7c53f1abbd94_34.csv\n",
      "\n",
      "Processing file 99 of 490: 12756724-394c-4576-b373-7c53f1abbd94_35.csv\n"
     ]
    },
    {
     "name": "stderr",
     "output_type": "stream",
     "text": [
      "Translating OCR Files:  20%|██        | 99/490 [37:14<3:02:58, 28.08s/file]"
     ]
    },
    {
     "name": "stdout",
     "output_type": "stream",
     "text": [
      " Saved translated file: 12756724-394c-4576-b373-7c53f1abbd94_35.csv\n",
      "\n",
      "Processing file 100 of 490: 12756724-394c-4576-b373-7c53f1abbd94_36.csv\n"
     ]
    },
    {
     "name": "stderr",
     "output_type": "stream",
     "text": [
      "Translating OCR Files:  20%|██        | 100/490 [37:21<2:22:14, 21.88s/file]"
     ]
    },
    {
     "name": "stdout",
     "output_type": "stream",
     "text": [
      " Saved translated file: 12756724-394c-4576-b373-7c53f1abbd94_36.csv\n",
      "\n",
      "Processing file 101 of 490: 12756724-394c-4576-b373-7c53f1abbd94_37.csv\n"
     ]
    },
    {
     "name": "stderr",
     "output_type": "stream",
     "text": [
      "Translating OCR Files:  21%|██        | 101/490 [38:38<4:08:59, 38.40s/file]"
     ]
    },
    {
     "name": "stdout",
     "output_type": "stream",
     "text": [
      " Saved translated file: 12756724-394c-4576-b373-7c53f1abbd94_37.csv\n",
      "\n",
      "Processing file 102 of 490: 12756724-394c-4576-b373-7c53f1abbd94_38.csv\n"
     ]
    },
    {
     "name": "stderr",
     "output_type": "stream",
     "text": [
      "Translating OCR Files:  21%|██        | 102/490 [39:57<5:26:11, 50.44s/file]"
     ]
    },
    {
     "name": "stdout",
     "output_type": "stream",
     "text": [
      " Saved translated file: 12756724-394c-4576-b373-7c53f1abbd94_38.csv\n",
      "\n",
      "Processing file 103 of 490: 12756724-394c-4576-b373-7c53f1abbd94_39.csv\n"
     ]
    },
    {
     "name": "stderr",
     "output_type": "stream",
     "text": [
      "Translating OCR Files:  21%|██        | 103/490 [40:53<5:36:41, 52.20s/file]"
     ]
    },
    {
     "name": "stdout",
     "output_type": "stream",
     "text": [
      " Saved translated file: 12756724-394c-4576-b373-7c53f1abbd94_39.csv\n",
      "\n",
      "Processing file 104 of 490: 12756724-394c-4576-b373-7c53f1abbd94_4.csv\n"
     ]
    },
    {
     "name": "stderr",
     "output_type": "stream",
     "text": [
      "Translating OCR Files:  21%|██        | 104/490 [41:45<5:34:35, 52.01s/file]"
     ]
    },
    {
     "name": "stdout",
     "output_type": "stream",
     "text": [
      " Saved translated file: 12756724-394c-4576-b373-7c53f1abbd94_4.csv\n",
      "\n",
      "Processing file 105 of 490: 12756724-394c-4576-b373-7c53f1abbd94_40.csv\n"
     ]
    },
    {
     "name": "stderr",
     "output_type": "stream",
     "text": [
      "Translating OCR Files:  21%|██▏       | 105/490 [42:31<5:22:50, 50.31s/file]"
     ]
    },
    {
     "name": "stdout",
     "output_type": "stream",
     "text": [
      " Saved translated file: 12756724-394c-4576-b373-7c53f1abbd94_40.csv\n",
      "\n",
      "Processing file 106 of 490: 12756724-394c-4576-b373-7c53f1abbd94_41.csv\n"
     ]
    },
    {
     "name": "stderr",
     "output_type": "stream",
     "text": [
      "Translating OCR Files:  22%|██▏       | 106/490 [42:40<4:02:59, 37.97s/file]"
     ]
    },
    {
     "name": "stdout",
     "output_type": "stream",
     "text": [
      " Saved translated file: 12756724-394c-4576-b373-7c53f1abbd94_41.csv\n",
      "\n",
      "Processing file 107 of 490: 12756724-394c-4576-b373-7c53f1abbd94_42.csv\n"
     ]
    },
    {
     "name": "stderr",
     "output_type": "stream",
     "text": [
      "Translating OCR Files:  22%|██▏       | 107/490 [43:19<4:04:21, 38.28s/file]"
     ]
    },
    {
     "name": "stdout",
     "output_type": "stream",
     "text": [
      " Saved translated file: 12756724-394c-4576-b373-7c53f1abbd94_42.csv\n",
      "\n",
      "Processing file 108 of 490: 12756724-394c-4576-b373-7c53f1abbd94_43.csv\n"
     ]
    },
    {
     "name": "stderr",
     "output_type": "stream",
     "text": [
      "Translating OCR Files:  22%|██▏       | 108/490 [44:08<4:23:43, 41.42s/file]"
     ]
    },
    {
     "name": "stdout",
     "output_type": "stream",
     "text": [
      " Saved translated file: 12756724-394c-4576-b373-7c53f1abbd94_43.csv\n",
      "\n",
      "Processing file 109 of 490: 12756724-394c-4576-b373-7c53f1abbd94_44.csv\n"
     ]
    },
    {
     "name": "stderr",
     "output_type": "stream",
     "text": [
      "Translating OCR Files:  22%|██▏       | 109/490 [44:45<4:14:50, 40.13s/file]"
     ]
    },
    {
     "name": "stdout",
     "output_type": "stream",
     "text": [
      " Saved translated file: 12756724-394c-4576-b373-7c53f1abbd94_44.csv\n",
      "\n",
      "Processing file 110 of 490: 12756724-394c-4576-b373-7c53f1abbd94_45.csv\n"
     ]
    },
    {
     "name": "stderr",
     "output_type": "stream",
     "text": [
      "Translating OCR Files:  22%|██▏       | 110/490 [45:29<4:20:29, 41.13s/file]"
     ]
    },
    {
     "name": "stdout",
     "output_type": "stream",
     "text": [
      " Saved translated file: 12756724-394c-4576-b373-7c53f1abbd94_45.csv\n",
      "\n",
      "Processing file 111 of 490: 12756724-394c-4576-b373-7c53f1abbd94_46.csv\n"
     ]
    },
    {
     "name": "stderr",
     "output_type": "stream",
     "text": [
      "Translating OCR Files:  23%|██▎       | 111/490 [45:32<3:08:33, 29.85s/file]"
     ]
    },
    {
     "name": "stdout",
     "output_type": "stream",
     "text": [
      " Saved translated file: 12756724-394c-4576-b373-7c53f1abbd94_46.csv\n",
      "\n",
      "Processing file 112 of 490: 12756724-394c-4576-b373-7c53f1abbd94_47.csv\n"
     ]
    },
    {
     "name": "stderr",
     "output_type": "stream",
     "text": [
      "Translating OCR Files:  23%|██▎       | 112/490 [46:17<3:36:46, 34.41s/file]"
     ]
    },
    {
     "name": "stdout",
     "output_type": "stream",
     "text": [
      " Saved translated file: 12756724-394c-4576-b373-7c53f1abbd94_47.csv\n",
      "\n",
      "Processing file 113 of 490: 12756724-394c-4576-b373-7c53f1abbd94_48.csv\n"
     ]
    },
    {
     "name": "stderr",
     "output_type": "stream",
     "text": [
      "Translating OCR Files:  23%|██▎       | 113/490 [47:07<4:05:09, 39.02s/file]"
     ]
    },
    {
     "name": "stdout",
     "output_type": "stream",
     "text": [
      " Saved translated file: 12756724-394c-4576-b373-7c53f1abbd94_48.csv\n",
      "\n",
      "Processing file 114 of 490: 12756724-394c-4576-b373-7c53f1abbd94_49.csv\n"
     ]
    },
    {
     "name": "stderr",
     "output_type": "stream",
     "text": [
      "Translating OCR Files:  23%|██▎       | 114/490 [47:42<3:57:29, 37.90s/file]"
     ]
    },
    {
     "name": "stdout",
     "output_type": "stream",
     "text": [
      " Saved translated file: 12756724-394c-4576-b373-7c53f1abbd94_49.csv\n",
      "\n",
      "Processing file 115 of 490: 12756724-394c-4576-b373-7c53f1abbd94_5.csv\n"
     ]
    },
    {
     "name": "stderr",
     "output_type": "stream",
     "text": [
      "Translating OCR Files:  23%|██▎       | 115/490 [47:51<3:02:44, 29.24s/file]"
     ]
    },
    {
     "name": "stdout",
     "output_type": "stream",
     "text": [
      " Saved translated file: 12756724-394c-4576-b373-7c53f1abbd94_5.csv\n",
      "\n",
      "Processing file 116 of 490: 12756724-394c-4576-b373-7c53f1abbd94_6.csv\n"
     ]
    },
    {
     "name": "stderr",
     "output_type": "stream",
     "text": [
      "Translating OCR Files:  24%|██▎       | 116/490 [48:47<3:52:36, 37.32s/file]"
     ]
    },
    {
     "name": "stdout",
     "output_type": "stream",
     "text": [
      " Saved translated file: 12756724-394c-4576-b373-7c53f1abbd94_6.csv\n",
      "\n",
      "Processing file 117 of 490: 12756724-394c-4576-b373-7c53f1abbd94_7.csv\n"
     ]
    },
    {
     "name": "stderr",
     "output_type": "stream",
     "text": [
      "Translating OCR Files:  24%|██▍       | 117/490 [50:10<5:15:39, 50.78s/file]"
     ]
    },
    {
     "name": "stdout",
     "output_type": "stream",
     "text": [
      " Saved translated file: 12756724-394c-4576-b373-7c53f1abbd94_7.csv\n",
      "\n",
      "Processing file 118 of 490: 12756724-394c-4576-b373-7c53f1abbd94_8.csv\n"
     ]
    },
    {
     "name": "stderr",
     "output_type": "stream",
     "text": [
      "Translating OCR Files:  24%|██▍       | 118/490 [51:15<5:41:14, 55.04s/file]"
     ]
    },
    {
     "name": "stdout",
     "output_type": "stream",
     "text": [
      " Saved translated file: 12756724-394c-4576-b373-7c53f1abbd94_8.csv\n",
      "\n",
      "Processing file 119 of 490: 12756724-394c-4576-b373-7c53f1abbd94_9.csv\n"
     ]
    },
    {
     "name": "stderr",
     "output_type": "stream",
     "text": [
      "Translating OCR Files:  24%|██▍       | 119/490 [52:07<5:34:42, 54.13s/file]"
     ]
    },
    {
     "name": "stdout",
     "output_type": "stream",
     "text": [
      " Saved translated file: 12756724-394c-4576-b373-7c53f1abbd94_9.csv\n",
      "\n",
      "Processing file 120 of 490: 129ac70f-8942-4ca7-b1f2-ddeaa3d984b5.csv\n"
     ]
    },
    {
     "name": "stderr",
     "output_type": "stream",
     "text": [
      "Translating OCR Files:  24%|██▍       | 120/490 [53:10<5:51:20, 56.97s/file]"
     ]
    },
    {
     "name": "stdout",
     "output_type": "stream",
     "text": [
      " Saved translated file: 129ac70f-8942-4ca7-b1f2-ddeaa3d984b5.csv\n",
      "\n",
      "Processing file 121 of 490: 178e3898-903d-47cf-bfbe-061e7dc18895_0.csv\n"
     ]
    },
    {
     "name": "stderr",
     "output_type": "stream",
     "text": [
      "Translating OCR Files:  25%|██▍       | 121/490 [53:17<4:17:30, 41.87s/file]"
     ]
    },
    {
     "name": "stdout",
     "output_type": "stream",
     "text": [
      " Saved translated file: 178e3898-903d-47cf-bfbe-061e7dc18895_0.csv\n",
      "\n",
      "Processing file 122 of 490: 178e3898-903d-47cf-bfbe-061e7dc18895_1.csv\n"
     ]
    },
    {
     "name": "stderr",
     "output_type": "stream",
     "text": [
      "Translating OCR Files:  25%|██▍       | 122/490 [54:03<4:25:24, 43.27s/file]"
     ]
    },
    {
     "name": "stdout",
     "output_type": "stream",
     "text": [
      " Saved translated file: 178e3898-903d-47cf-bfbe-061e7dc18895_1.csv\n",
      "\n",
      "Processing file 123 of 490: 178e3898-903d-47cf-bfbe-061e7dc18895_10.csv\n"
     ]
    },
    {
     "name": "stderr",
     "output_type": "stream",
     "text": [
      "Translating OCR Files:  25%|██▌       | 123/490 [54:28<3:50:36, 37.70s/file]"
     ]
    },
    {
     "name": "stdout",
     "output_type": "stream",
     "text": [
      " Saved translated file: 178e3898-903d-47cf-bfbe-061e7dc18895_10.csv\n",
      "\n",
      "Processing file 124 of 490: 178e3898-903d-47cf-bfbe-061e7dc18895_2.csv\n"
     ]
    },
    {
     "name": "stderr",
     "output_type": "stream",
     "text": [
      "Translating OCR Files:  25%|██▌       | 124/490 [55:44<4:59:45, 49.14s/file]"
     ]
    },
    {
     "name": "stdout",
     "output_type": "stream",
     "text": [
      " Saved translated file: 178e3898-903d-47cf-bfbe-061e7dc18895_2.csv\n",
      "\n",
      "Processing file 125 of 490: 178e3898-903d-47cf-bfbe-061e7dc18895_3.csv\n"
     ]
    },
    {
     "name": "stderr",
     "output_type": "stream",
     "text": [
      "Translating OCR Files:  26%|██▌       | 125/490 [56:46<5:21:56, 52.92s/file]"
     ]
    },
    {
     "name": "stdout",
     "output_type": "stream",
     "text": [
      " Saved translated file: 178e3898-903d-47cf-bfbe-061e7dc18895_3.csv\n",
      "\n",
      "Processing file 126 of 490: 178e3898-903d-47cf-bfbe-061e7dc18895_4.csv\n"
     ]
    },
    {
     "name": "stderr",
     "output_type": "stream",
     "text": [
      "Translating OCR Files:  26%|██▌       | 126/490 [57:28<5:01:33, 49.71s/file]"
     ]
    },
    {
     "name": "stdout",
     "output_type": "stream",
     "text": [
      " Saved translated file: 178e3898-903d-47cf-bfbe-061e7dc18895_4.csv\n",
      "\n",
      "Processing file 127 of 490: 178e3898-903d-47cf-bfbe-061e7dc18895_5.csv\n"
     ]
    },
    {
     "name": "stderr",
     "output_type": "stream",
     "text": [
      "Translating OCR Files:  26%|██▌       | 127/490 [58:15<4:56:41, 49.04s/file]"
     ]
    },
    {
     "name": "stdout",
     "output_type": "stream",
     "text": [
      " Saved translated file: 178e3898-903d-47cf-bfbe-061e7dc18895_5.csv\n",
      "\n",
      "Processing file 128 of 490: 178e3898-903d-47cf-bfbe-061e7dc18895_6.csv\n"
     ]
    },
    {
     "name": "stderr",
     "output_type": "stream",
     "text": [
      "Translating OCR Files:  26%|██▌       | 128/490 [58:44<4:19:46, 43.06s/file]"
     ]
    },
    {
     "name": "stdout",
     "output_type": "stream",
     "text": [
      " Saved translated file: 178e3898-903d-47cf-bfbe-061e7dc18895_6.csv\n",
      "\n",
      "Processing file 129 of 490: 178e3898-903d-47cf-bfbe-061e7dc18895_7.csv\n"
     ]
    },
    {
     "name": "stderr",
     "output_type": "stream",
     "text": [
      "Translating OCR Files:  26%|██▋       | 129/490 [59:16<3:58:29, 39.64s/file]"
     ]
    },
    {
     "name": "stdout",
     "output_type": "stream",
     "text": [
      " Saved translated file: 178e3898-903d-47cf-bfbe-061e7dc18895_7.csv\n",
      "\n",
      "Processing file 130 of 490: 178e3898-903d-47cf-bfbe-061e7dc18895_8.csv\n"
     ]
    },
    {
     "name": "stderr",
     "output_type": "stream",
     "text": [
      "Translating OCR Files:  27%|██▋       | 130/490 [1:00:03<4:10:46, 41.80s/file]"
     ]
    },
    {
     "name": "stdout",
     "output_type": "stream",
     "text": [
      " Saved translated file: 178e3898-903d-47cf-bfbe-061e7dc18895_8.csv\n",
      "\n",
      "Processing file 131 of 490: 178e3898-903d-47cf-bfbe-061e7dc18895_9.csv\n"
     ]
    },
    {
     "name": "stderr",
     "output_type": "stream",
     "text": [
      "Translating OCR Files:  27%|██▋       | 131/490 [1:00:44<4:08:42, 41.57s/file]"
     ]
    },
    {
     "name": "stdout",
     "output_type": "stream",
     "text": [
      " Saved translated file: 178e3898-903d-47cf-bfbe-061e7dc18895_9.csv\n",
      "\n",
      "Processing file 132 of 490: 1a20ded1-50fc-4153-9a95-e158eeb7199e.csv\n"
     ]
    },
    {
     "name": "stderr",
     "output_type": "stream",
     "text": [
      "Translating OCR Files:  27%|██▋       | 132/490 [1:00:51<3:06:30, 31.26s/file]"
     ]
    },
    {
     "name": "stdout",
     "output_type": "stream",
     "text": [
      " Saved translated file: 1a20ded1-50fc-4153-9a95-e158eeb7199e.csv\n",
      "\n",
      "Processing file 133 of 490: 1afcf93d-50f1-4f1e-896d-87b0da7519f7.csv\n"
     ]
    },
    {
     "name": "stderr",
     "output_type": "stream",
     "text": [
      "Translating OCR Files:  27%|██▋       | 133/490 [1:00:59<2:24:52, 24.35s/file]"
     ]
    },
    {
     "name": "stdout",
     "output_type": "stream",
     "text": [
      " Saved translated file: 1afcf93d-50f1-4f1e-896d-87b0da7519f7.csv\n",
      "\n",
      "Processing file 134 of 490: 1b0dc208-d2bb-43ea-b744-534f3b759394.csv\n"
     ]
    },
    {
     "name": "stderr",
     "output_type": "stream",
     "text": [
      "Translating OCR Files:  27%|██▋       | 134/490 [1:02:04<3:36:07, 36.43s/file]"
     ]
    },
    {
     "name": "stdout",
     "output_type": "stream",
     "text": [
      " Saved translated file: 1b0dc208-d2bb-43ea-b744-534f3b759394.csv\n",
      "\n",
      "Processing file 135 of 490: 1cc570d8-cddb-401e-8c37-ef10c0e4841f.csv\n"
     ]
    },
    {
     "name": "stderr",
     "output_type": "stream",
     "text": [
      "Translating OCR Files:  28%|██▊       | 135/490 [1:02:20<3:00:09, 30.45s/file]"
     ]
    },
    {
     "name": "stdout",
     "output_type": "stream",
     "text": [
      " Saved translated file: 1cc570d8-cddb-401e-8c37-ef10c0e4841f.csv\n",
      "\n",
      "Processing file 136 of 490: 2db27de1-d5c5-4f89-8572-da697a6329e4_1_0.csv\n"
     ]
    },
    {
     "name": "stderr",
     "output_type": "stream",
     "text": [
      "Translating OCR Files:  28%|██▊       | 136/490 [1:02:47<2:52:07, 29.17s/file]"
     ]
    },
    {
     "name": "stdout",
     "output_type": "stream",
     "text": [
      " Saved translated file: 2db27de1-d5c5-4f89-8572-da697a6329e4_1_0.csv\n",
      "\n",
      "Processing file 137 of 490: 2db27de1-d5c5-4f89-8572-da697a6329e4_2_0.csv\n"
     ]
    },
    {
     "name": "stderr",
     "output_type": "stream",
     "text": [
      "Translating OCR Files:  28%|██▊       | 137/490 [1:02:58<2:20:07, 23.82s/file]"
     ]
    },
    {
     "name": "stdout",
     "output_type": "stream",
     "text": [
      " Saved translated file: 2db27de1-d5c5-4f89-8572-da697a6329e4_2_0.csv\n",
      "\n",
      "Processing file 138 of 490: 2db27de1-d5c5-4f89-8572-da697a6329e4_2_1.csv\n"
     ]
    },
    {
     "name": "stderr",
     "output_type": "stream",
     "text": [
      "Translating OCR Files:  28%|██▊       | 138/490 [1:03:00<1:40:51, 17.19s/file]"
     ]
    },
    {
     "name": "stdout",
     "output_type": "stream",
     "text": [
      " Saved translated file: 2db27de1-d5c5-4f89-8572-da697a6329e4_2_1.csv\n",
      "\n",
      "Processing file 139 of 490: 2db27de1-d5c5-4f89-8572-da697a6329e4_3_0.csv\n"
     ]
    },
    {
     "name": "stderr",
     "output_type": "stream",
     "text": [
      "Translating OCR Files:  28%|██▊       | 139/490 [1:04:03<3:02:10, 31.14s/file]"
     ]
    },
    {
     "name": "stdout",
     "output_type": "stream",
     "text": [
      " Saved translated file: 2db27de1-d5c5-4f89-8572-da697a6329e4_3_0.csv\n",
      "\n",
      "Processing file 140 of 490: 2db27de1-d5c5-4f89-8572-da697a6329e4_4_0.csv\n"
     ]
    },
    {
     "name": "stderr",
     "output_type": "stream",
     "text": [
      "Translating OCR Files:  29%|██▊       | 140/490 [1:04:08<2:14:56, 23.13s/file]"
     ]
    },
    {
     "name": "stdout",
     "output_type": "stream",
     "text": [
      " Saved translated file: 2db27de1-d5c5-4f89-8572-da697a6329e4_4_0.csv\n",
      "\n",
      "Processing file 141 of 490: 2db27de1-d5c5-4f89-8572-da697a6329e4_5_0.csv\n"
     ]
    },
    {
     "name": "stderr",
     "output_type": "stream",
     "text": [
      "Translating OCR Files:  29%|██▉       | 141/490 [1:04:09<1:35:31, 16.42s/file]"
     ]
    },
    {
     "name": "stdout",
     "output_type": "stream",
     "text": [
      " Saved translated file: 2db27de1-d5c5-4f89-8572-da697a6329e4_5_0.csv\n",
      "\n",
      "Processing file 142 of 490: 300450bf-221e-4eeb-bdda-dc1115c947ea.csv\n"
     ]
    },
    {
     "name": "stderr",
     "output_type": "stream",
     "text": [
      "Translating OCR Files:  29%|██▉       | 142/490 [1:04:20<1:26:15, 14.87s/file]"
     ]
    },
    {
     "name": "stdout",
     "output_type": "stream",
     "text": [
      " Saved translated file: 300450bf-221e-4eeb-bdda-dc1115c947ea.csv\n",
      "\n",
      "Processing file 143 of 490: 32eb7662-f212-4811-a7c1-1cfeb121cd99.csv\n"
     ]
    },
    {
     "name": "stderr",
     "output_type": "stream",
     "text": [
      "Translating OCR Files:  29%|██▉       | 143/490 [1:05:04<2:16:34, 23.62s/file]"
     ]
    },
    {
     "name": "stdout",
     "output_type": "stream",
     "text": [
      " Saved translated file: 32eb7662-f212-4811-a7c1-1cfeb121cd99.csv\n",
      "\n",
      "Processing file 144 of 490: 330f554f-a3e6-4bd3-8b1b-d5949e1f30e8.csv\n"
     ]
    },
    {
     "name": "stderr",
     "output_type": "stream",
     "text": [
      "Translating OCR Files:  29%|██▉       | 144/490 [1:05:06<1:39:46, 17.30s/file]"
     ]
    },
    {
     "name": "stdout",
     "output_type": "stream",
     "text": [
      " Saved translated file: 330f554f-a3e6-4bd3-8b1b-d5949e1f30e8.csv\n",
      "\n",
      "Processing file 145 of 490: 3348953d-66e9-4cac-8675-65bb5f2ef929_1_0.csv\n"
     ]
    },
    {
     "name": "stderr",
     "output_type": "stream",
     "text": [
      "Translating OCR Files:  30%|██▉       | 145/490 [1:05:35<1:58:54, 20.68s/file]"
     ]
    },
    {
     "name": "stdout",
     "output_type": "stream",
     "text": [
      " Saved translated file: 3348953d-66e9-4cac-8675-65bb5f2ef929_1_0.csv\n",
      "\n",
      "Processing file 146 of 490: 3348953d-66e9-4cac-8675-65bb5f2ef929_2_0.csv\n"
     ]
    },
    {
     "name": "stderr",
     "output_type": "stream",
     "text": [
      "Translating OCR Files:  30%|██▉       | 146/490 [1:05:52<1:52:26, 19.61s/file]"
     ]
    },
    {
     "name": "stdout",
     "output_type": "stream",
     "text": [
      " Saved translated file: 3348953d-66e9-4cac-8675-65bb5f2ef929_2_0.csv\n",
      "\n",
      "Processing file 147 of 490: 3348953d-66e9-4cac-8675-65bb5f2ef929_2_1.csv\n"
     ]
    },
    {
     "name": "stderr",
     "output_type": "stream",
     "text": [
      "Translating OCR Files:  30%|███       | 147/490 [1:05:55<1:23:29, 14.61s/file]"
     ]
    },
    {
     "name": "stdout",
     "output_type": "stream",
     "text": [
      " Saved translated file: 3348953d-66e9-4cac-8675-65bb5f2ef929_2_1.csv\n",
      "\n",
      "Processing file 148 of 490: 3348953d-66e9-4cac-8675-65bb5f2ef929_3_0.csv\n"
     ]
    },
    {
     "name": "stderr",
     "output_type": "stream",
     "text": [
      "Translating OCR Files:  30%|███       | 148/490 [1:05:56<1:00:39, 10.64s/file]"
     ]
    },
    {
     "name": "stdout",
     "output_type": "stream",
     "text": [
      " Saved translated file: 3348953d-66e9-4cac-8675-65bb5f2ef929_3_0.csv\n",
      "\n",
      "Processing file 149 of 490: 3348953d-66e9-4cac-8675-65bb5f2ef929_4_0.csv\n"
     ]
    },
    {
     "name": "stderr",
     "output_type": "stream",
     "text": [
      "Translating OCR Files:  30%|███       | 149/490 [1:05:58<44:57,  7.91s/file]  "
     ]
    },
    {
     "name": "stdout",
     "output_type": "stream",
     "text": [
      " Saved translated file: 3348953d-66e9-4cac-8675-65bb5f2ef929_4_0.csv\n",
      "\n",
      "Processing file 150 of 490: 3348953d-66e9-4cac-8675-65bb5f2ef929_5_0.csv\n"
     ]
    },
    {
     "name": "stderr",
     "output_type": "stream",
     "text": [
      "Translating OCR Files:  31%|███       | 150/490 [1:05:59<33:10,  5.85s/file]"
     ]
    },
    {
     "name": "stdout",
     "output_type": "stream",
     "text": [
      " Saved translated file: 3348953d-66e9-4cac-8675-65bb5f2ef929_5_0.csv\n",
      "\n",
      "Processing file 151 of 490: 3556e54c-d418-447d-bb2a-43ac0408cc7a.csv\n"
     ]
    },
    {
     "name": "stderr",
     "output_type": "stream",
     "text": [
      "Translating OCR Files:  31%|███       | 151/490 [1:06:04<31:02,  5.50s/file]"
     ]
    },
    {
     "name": "stdout",
     "output_type": "stream",
     "text": [
      " Saved translated file: 3556e54c-d418-447d-bb2a-43ac0408cc7a.csv\n",
      "\n",
      "Processing file 152 of 490: 383d824e-7588-4a92-84b7-fd953dd91cba.csv\n"
     ]
    },
    {
     "name": "stderr",
     "output_type": "stream",
     "text": [
      "Translating OCR Files:  31%|███       | 152/490 [1:06:16<42:01,  7.46s/file]"
     ]
    },
    {
     "name": "stdout",
     "output_type": "stream",
     "text": [
      " Saved translated file: 383d824e-7588-4a92-84b7-fd953dd91cba.csv\n",
      "\n",
      "Processing file 153 of 490: 3f451a52-d210-48d9-b56e-d28b9570bdc4_0.csv\n"
     ]
    },
    {
     "name": "stderr",
     "output_type": "stream",
     "text": [
      "Translating OCR Files:  31%|███       | 153/490 [1:07:08<1:56:45, 20.79s/file]"
     ]
    },
    {
     "name": "stdout",
     "output_type": "stream",
     "text": [
      " Saved translated file: 3f451a52-d210-48d9-b56e-d28b9570bdc4_0.csv\n",
      "\n",
      "Processing file 154 of 490: 48fd4c79-41ca-459e-a5a5-a3738e7a4af3_0.csv\n"
     ]
    },
    {
     "name": "stderr",
     "output_type": "stream",
     "text": [
      "Translating OCR Files:  31%|███▏      | 154/490 [1:08:11<3:08:35, 33.68s/file]"
     ]
    },
    {
     "name": "stdout",
     "output_type": "stream",
     "text": [
      " Saved translated file: 48fd4c79-41ca-459e-a5a5-a3738e7a4af3_0.csv\n",
      "\n",
      "Processing file 155 of 490: 493542fc-495f-4756-8451-c4ed084d8bf7.csv\n"
     ]
    },
    {
     "name": "stderr",
     "output_type": "stream",
     "text": [
      "Translating OCR Files:  32%|███▏      | 155/490 [1:08:28<2:39:59, 28.66s/file]"
     ]
    },
    {
     "name": "stdout",
     "output_type": "stream",
     "text": [
      " Saved translated file: 493542fc-495f-4756-8451-c4ed084d8bf7.csv\n",
      "\n",
      "Processing file 156 of 490: 4ae9bf34-c16c-4684-aa92-fec65a151275.csv\n"
     ]
    },
    {
     "name": "stderr",
     "output_type": "stream",
     "text": [
      "Translating OCR Files:  32%|███▏      | 156/490 [1:09:02<2:48:27, 30.26s/file]"
     ]
    },
    {
     "name": "stdout",
     "output_type": "stream",
     "text": [
      " Saved translated file: 4ae9bf34-c16c-4684-aa92-fec65a151275.csv\n",
      "\n",
      "Processing file 157 of 490: 4c74b697-0681-4223-9982-5ffaf4e98ed0.csv\n"
     ]
    },
    {
     "name": "stderr",
     "output_type": "stream",
     "text": [
      "Translating OCR Files:  32%|███▏      | 157/490 [1:09:28<2:40:43, 28.96s/file]"
     ]
    },
    {
     "name": "stdout",
     "output_type": "stream",
     "text": [
      " Saved translated file: 4c74b697-0681-4223-9982-5ffaf4e98ed0.csv\n",
      "\n",
      "Processing file 158 of 490: 4ea07c23-a1a6-411b-bcfb-552d095b66c9.csv\n"
     ]
    },
    {
     "name": "stderr",
     "output_type": "stream",
     "text": [
      "Translating OCR Files:  32%|███▏      | 158/490 [1:09:42<2:14:58, 24.39s/file]"
     ]
    },
    {
     "name": "stdout",
     "output_type": "stream",
     "text": [
      " Saved translated file: 4ea07c23-a1a6-411b-bcfb-552d095b66c9.csv\n",
      "\n",
      "Processing file 159 of 490: 5387a301-0af8-4e24-a197-20189f87b9ef_0.csv\n"
     ]
    },
    {
     "name": "stderr",
     "output_type": "stream",
     "text": [
      "Translating OCR Files:  32%|███▏      | 159/490 [1:09:48<1:44:39, 18.97s/file]"
     ]
    },
    {
     "name": "stdout",
     "output_type": "stream",
     "text": [
      " Saved translated file: 5387a301-0af8-4e24-a197-20189f87b9ef_0.csv\n",
      "\n",
      "Processing file 160 of 490: 5387a301-0af8-4e24-a197-20189f87b9ef_1.csv\n"
     ]
    },
    {
     "name": "stderr",
     "output_type": "stream",
     "text": [
      "Translating OCR Files:  33%|███▎      | 160/490 [1:10:18<2:02:01, 22.19s/file]"
     ]
    },
    {
     "name": "stdout",
     "output_type": "stream",
     "text": [
      " Saved translated file: 5387a301-0af8-4e24-a197-20189f87b9ef_1.csv\n",
      "\n",
      "Processing file 161 of 490: 5387a301-0af8-4e24-a197-20189f87b9ef_10.csv\n"
     ]
    },
    {
     "name": "stderr",
     "output_type": "stream",
     "text": [
      "Translating OCR Files:  33%|███▎      | 161/490 [1:11:06<2:43:38, 29.84s/file]"
     ]
    },
    {
     "name": "stdout",
     "output_type": "stream",
     "text": [
      " Saved translated file: 5387a301-0af8-4e24-a197-20189f87b9ef_10.csv\n",
      "\n",
      "Processing file 162 of 490: 5387a301-0af8-4e24-a197-20189f87b9ef_11.csv\n"
     ]
    },
    {
     "name": "stderr",
     "output_type": "stream",
     "text": [
      "Translating OCR Files:  33%|███▎      | 162/490 [1:12:36<4:22:00, 47.93s/file]"
     ]
    },
    {
     "name": "stdout",
     "output_type": "stream",
     "text": [
      "Ollama error: HTTPConnectionPool(host='localhost', port=11434): Read timed out. (read timeout=90)\n",
      " Saved translated file: 5387a301-0af8-4e24-a197-20189f87b9ef_11.csv\n",
      "\n",
      "Processing file 163 of 490: 5387a301-0af8-4e24-a197-20189f87b9ef_2.csv\n"
     ]
    },
    {
     "name": "stderr",
     "output_type": "stream",
     "text": [
      "Translating OCR Files:  33%|███▎      | 163/490 [1:14:06<5:30:12, 60.59s/file]"
     ]
    },
    {
     "name": "stdout",
     "output_type": "stream",
     "text": [
      "Ollama error: HTTPConnectionPool(host='localhost', port=11434): Read timed out. (read timeout=90)\n",
      " Saved translated file: 5387a301-0af8-4e24-a197-20189f87b9ef_2.csv\n",
      "\n",
      "Processing file 164 of 490: 5387a301-0af8-4e24-a197-20189f87b9ef_3.csv\n"
     ]
    },
    {
     "name": "stderr",
     "output_type": "stream",
     "text": [
      "Translating OCR Files:  33%|███▎      | 164/490 [1:15:22<5:54:44, 65.29s/file]"
     ]
    },
    {
     "name": "stdout",
     "output_type": "stream",
     "text": [
      " Saved translated file: 5387a301-0af8-4e24-a197-20189f87b9ef_3.csv\n",
      "\n",
      "Processing file 165 of 490: 5387a301-0af8-4e24-a197-20189f87b9ef_4.csv\n"
     ]
    },
    {
     "name": "stderr",
     "output_type": "stream",
     "text": [
      "Translating OCR Files:  34%|███▎      | 165/490 [1:16:18<5:37:38, 62.33s/file]"
     ]
    },
    {
     "name": "stdout",
     "output_type": "stream",
     "text": [
      " Saved translated file: 5387a301-0af8-4e24-a197-20189f87b9ef_4.csv\n",
      "\n",
      "Processing file 166 of 490: 5387a301-0af8-4e24-a197-20189f87b9ef_5.csv\n"
     ]
    },
    {
     "name": "stderr",
     "output_type": "stream",
     "text": [
      "Translating OCR Files:  34%|███▍      | 166/490 [1:17:01<5:06:20, 56.73s/file]"
     ]
    },
    {
     "name": "stdout",
     "output_type": "stream",
     "text": [
      " Saved translated file: 5387a301-0af8-4e24-a197-20189f87b9ef_5.csv\n",
      "\n",
      "Processing file 167 of 490: 5387a301-0af8-4e24-a197-20189f87b9ef_6.csv\n"
     ]
    },
    {
     "name": "stderr",
     "output_type": "stream",
     "text": [
      "Translating OCR Files:  34%|███▍      | 167/490 [1:17:33<4:24:31, 49.14s/file]"
     ]
    },
    {
     "name": "stdout",
     "output_type": "stream",
     "text": [
      " Saved translated file: 5387a301-0af8-4e24-a197-20189f87b9ef_6.csv\n",
      "\n",
      "Processing file 168 of 490: 5387a301-0af8-4e24-a197-20189f87b9ef_7.csv\n"
     ]
    },
    {
     "name": "stderr",
     "output_type": "stream",
     "text": [
      "Translating OCR Files:  34%|███▍      | 168/490 [1:18:13<4:09:10, 46.43s/file]"
     ]
    },
    {
     "name": "stdout",
     "output_type": "stream",
     "text": [
      " Saved translated file: 5387a301-0af8-4e24-a197-20189f87b9ef_7.csv\n",
      "\n",
      "Processing file 169 of 490: 5387a301-0af8-4e24-a197-20189f87b9ef_8.csv\n"
     ]
    },
    {
     "name": "stderr",
     "output_type": "stream",
     "text": [
      "Translating OCR Files:  34%|███▍      | 169/490 [1:19:04<4:16:29, 47.94s/file]"
     ]
    },
    {
     "name": "stdout",
     "output_type": "stream",
     "text": [
      " Saved translated file: 5387a301-0af8-4e24-a197-20189f87b9ef_8.csv\n",
      "\n",
      "Processing file 170 of 490: 5387a301-0af8-4e24-a197-20189f87b9ef_9.csv\n"
     ]
    },
    {
     "name": "stderr",
     "output_type": "stream",
     "text": [
      "Translating OCR Files:  35%|███▍      | 170/490 [1:19:15<3:16:11, 36.79s/file]"
     ]
    },
    {
     "name": "stdout",
     "output_type": "stream",
     "text": [
      " Saved translated file: 5387a301-0af8-4e24-a197-20189f87b9ef_9.csv\n",
      "\n",
      "Processing file 171 of 490: 547aba02-6757-49c1-acb5-6df217cebfc7_0.csv\n"
     ]
    },
    {
     "name": "stderr",
     "output_type": "stream",
     "text": [
      "Translating OCR Files:  35%|███▍      | 171/490 [1:19:52<3:15:11, 36.71s/file]"
     ]
    },
    {
     "name": "stdout",
     "output_type": "stream",
     "text": [
      " Saved translated file: 547aba02-6757-49c1-acb5-6df217cebfc7_0.csv\n",
      "\n",
      "Processing file 172 of 490: 547aba02-6757-49c1-acb5-6df217cebfc7_1.csv\n"
     ]
    },
    {
     "name": "stderr",
     "output_type": "stream",
     "text": [
      "Translating OCR Files:  35%|███▌      | 172/490 [1:20:22<3:03:52, 34.69s/file]"
     ]
    },
    {
     "name": "stdout",
     "output_type": "stream",
     "text": [
      " Saved translated file: 547aba02-6757-49c1-acb5-6df217cebfc7_1.csv\n",
      "\n",
      "Processing file 173 of 490: 547aba02-6757-49c1-acb5-6df217cebfc7_2.csv\n"
     ]
    },
    {
     "name": "stderr",
     "output_type": "stream",
     "text": [
      "Translating OCR Files:  35%|███▌      | 173/490 [1:20:40<2:37:20, 29.78s/file]"
     ]
    },
    {
     "name": "stdout",
     "output_type": "stream",
     "text": [
      " Saved translated file: 547aba02-6757-49c1-acb5-6df217cebfc7_2.csv\n",
      "\n",
      "Processing file 174 of 490: 547aba02-6757-49c1-acb5-6df217cebfc7_3.csv\n"
     ]
    },
    {
     "name": "stderr",
     "output_type": "stream",
     "text": [
      "Translating OCR Files:  36%|███▌      | 174/490 [1:21:10<2:36:44, 29.76s/file]"
     ]
    },
    {
     "name": "stdout",
     "output_type": "stream",
     "text": [
      " Saved translated file: 547aba02-6757-49c1-acb5-6df217cebfc7_3.csv\n",
      "\n",
      "Processing file 175 of 490: 54990932-71af-48dd-9a7a-2617b1407c54_0.csv\n"
     ]
    },
    {
     "name": "stderr",
     "output_type": "stream",
     "text": [
      "Translating OCR Files:  36%|███▌      | 175/490 [1:22:14<3:31:10, 40.22s/file]"
     ]
    },
    {
     "name": "stdout",
     "output_type": "stream",
     "text": [
      " Saved translated file: 54990932-71af-48dd-9a7a-2617b1407c54_0.csv\n",
      "\n",
      "Processing file 176 of 490: 585875ff-f8c5-4a02-acd7-fef37dc9ff11_0.csv\n"
     ]
    },
    {
     "name": "stderr",
     "output_type": "stream",
     "text": [
      "Translating OCR Files:  36%|███▌      | 176/490 [1:22:33<2:56:35, 33.74s/file]"
     ]
    },
    {
     "name": "stdout",
     "output_type": "stream",
     "text": [
      " Saved translated file: 585875ff-f8c5-4a02-acd7-fef37dc9ff11_0.csv\n",
      "\n",
      "Processing file 177 of 490: 585875ff-f8c5-4a02-acd7-fef37dc9ff11_1.csv\n"
     ]
    },
    {
     "name": "stderr",
     "output_type": "stream",
     "text": [
      "Translating OCR Files:  36%|███▌      | 177/490 [1:22:50<2:29:21, 28.63s/file]"
     ]
    },
    {
     "name": "stdout",
     "output_type": "stream",
     "text": [
      " Saved translated file: 585875ff-f8c5-4a02-acd7-fef37dc9ff11_1.csv\n",
      "\n",
      "Processing file 178 of 490: 585875ff-f8c5-4a02-acd7-fef37dc9ff11_10.csv\n"
     ]
    },
    {
     "name": "stderr",
     "output_type": "stream",
     "text": [
      "Translating OCR Files:  36%|███▋      | 178/490 [1:23:14<2:21:57, 27.30s/file]"
     ]
    },
    {
     "name": "stdout",
     "output_type": "stream",
     "text": [
      " Saved translated file: 585875ff-f8c5-4a02-acd7-fef37dc9ff11_10.csv\n",
      "\n",
      "Processing file 179 of 490: 585875ff-f8c5-4a02-acd7-fef37dc9ff11_11.csv\n"
     ]
    },
    {
     "name": "stderr",
     "output_type": "stream",
     "text": [
      "Translating OCR Files:  37%|███▋      | 179/490 [1:23:31<2:06:22, 24.38s/file]"
     ]
    },
    {
     "name": "stdout",
     "output_type": "stream",
     "text": [
      " Saved translated file: 585875ff-f8c5-4a02-acd7-fef37dc9ff11_11.csv\n",
      "\n",
      "Processing file 180 of 490: 585875ff-f8c5-4a02-acd7-fef37dc9ff11_12.csv\n"
     ]
    },
    {
     "name": "stderr",
     "output_type": "stream",
     "text": [
      "Translating OCR Files:  37%|███▋      | 180/490 [1:24:17<2:38:36, 30.70s/file]"
     ]
    },
    {
     "name": "stdout",
     "output_type": "stream",
     "text": [
      " Saved translated file: 585875ff-f8c5-4a02-acd7-fef37dc9ff11_12.csv\n",
      "\n",
      "Processing file 181 of 490: 585875ff-f8c5-4a02-acd7-fef37dc9ff11_13.csv\n"
     ]
    },
    {
     "name": "stderr",
     "output_type": "stream",
     "text": [
      "Translating OCR Files:  37%|███▋      | 181/490 [1:24:45<2:34:54, 30.08s/file]"
     ]
    },
    {
     "name": "stdout",
     "output_type": "stream",
     "text": [
      " Saved translated file: 585875ff-f8c5-4a02-acd7-fef37dc9ff11_13.csv\n",
      "\n",
      "Processing file 182 of 490: 585875ff-f8c5-4a02-acd7-fef37dc9ff11_14.csv\n"
     ]
    },
    {
     "name": "stderr",
     "output_type": "stream",
     "text": [
      "Translating OCR Files:  37%|███▋      | 182/490 [1:24:50<1:54:35, 22.32s/file]"
     ]
    },
    {
     "name": "stdout",
     "output_type": "stream",
     "text": [
      " Saved translated file: 585875ff-f8c5-4a02-acd7-fef37dc9ff11_14.csv\n",
      "\n",
      "Processing file 183 of 490: 585875ff-f8c5-4a02-acd7-fef37dc9ff11_15.csv\n"
     ]
    },
    {
     "name": "stderr",
     "output_type": "stream",
     "text": [
      "Translating OCR Files:  37%|███▋      | 183/490 [1:25:52<2:55:55, 34.38s/file]"
     ]
    },
    {
     "name": "stdout",
     "output_type": "stream",
     "text": [
      " Saved translated file: 585875ff-f8c5-4a02-acd7-fef37dc9ff11_15.csv\n",
      "\n",
      "Processing file 184 of 490: 585875ff-f8c5-4a02-acd7-fef37dc9ff11_16.csv\n"
     ]
    },
    {
     "name": "stderr",
     "output_type": "stream",
     "text": [
      "Translating OCR Files:  38%|███▊      | 184/490 [1:26:37<3:10:53, 37.43s/file]"
     ]
    },
    {
     "name": "stdout",
     "output_type": "stream",
     "text": [
      " Saved translated file: 585875ff-f8c5-4a02-acd7-fef37dc9ff11_16.csv\n",
      "\n",
      "Processing file 185 of 490: 585875ff-f8c5-4a02-acd7-fef37dc9ff11_17.csv\n"
     ]
    },
    {
     "name": "stderr",
     "output_type": "stream",
     "text": [
      "Translating OCR Files:  38%|███▊      | 185/490 [1:26:49<2:31:42, 29.84s/file]"
     ]
    },
    {
     "name": "stdout",
     "output_type": "stream",
     "text": [
      " Saved translated file: 585875ff-f8c5-4a02-acd7-fef37dc9ff11_17.csv\n",
      "\n",
      "Processing file 186 of 490: 585875ff-f8c5-4a02-acd7-fef37dc9ff11_18.csv\n"
     ]
    },
    {
     "name": "stderr",
     "output_type": "stream",
     "text": [
      "Translating OCR Files:  38%|███▊      | 186/490 [1:26:56<1:57:27, 23.18s/file]"
     ]
    },
    {
     "name": "stdout",
     "output_type": "stream",
     "text": [
      " Saved translated file: 585875ff-f8c5-4a02-acd7-fef37dc9ff11_18.csv\n",
      "\n",
      "Processing file 187 of 490: 585875ff-f8c5-4a02-acd7-fef37dc9ff11_19.csv\n"
     ]
    },
    {
     "name": "stderr",
     "output_type": "stream",
     "text": [
      "Translating OCR Files:  38%|███▊      | 187/490 [1:27:25<2:05:01, 24.76s/file]"
     ]
    },
    {
     "name": "stdout",
     "output_type": "stream",
     "text": [
      " Saved translated file: 585875ff-f8c5-4a02-acd7-fef37dc9ff11_19.csv\n",
      "\n",
      "Processing file 188 of 490: 585875ff-f8c5-4a02-acd7-fef37dc9ff11_2.csv\n"
     ]
    },
    {
     "name": "stderr",
     "output_type": "stream",
     "text": [
      "Translating OCR Files:  38%|███▊      | 188/490 [1:27:26<1:29:32, 17.79s/file]"
     ]
    },
    {
     "name": "stdout",
     "output_type": "stream",
     "text": [
      " Saved translated file: 585875ff-f8c5-4a02-acd7-fef37dc9ff11_2.csv\n",
      "\n",
      "Processing file 189 of 490: 585875ff-f8c5-4a02-acd7-fef37dc9ff11_3.csv\n"
     ]
    },
    {
     "name": "stderr",
     "output_type": "stream",
     "text": [
      "Translating OCR Files:  39%|███▊      | 189/490 [1:27:36<1:17:08, 15.38s/file]"
     ]
    },
    {
     "name": "stdout",
     "output_type": "stream",
     "text": [
      " Saved translated file: 585875ff-f8c5-4a02-acd7-fef37dc9ff11_3.csv\n",
      "\n",
      "Processing file 190 of 490: 585875ff-f8c5-4a02-acd7-fef37dc9ff11_4.csv\n"
     ]
    },
    {
     "name": "stderr",
     "output_type": "stream",
     "text": [
      "Translating OCR Files:  39%|███▉      | 190/490 [1:27:38<56:00, 11.20s/file]  "
     ]
    },
    {
     "name": "stdout",
     "output_type": "stream",
     "text": [
      " Saved translated file: 585875ff-f8c5-4a02-acd7-fef37dc9ff11_4.csv\n",
      "\n",
      "Processing file 191 of 490: 585875ff-f8c5-4a02-acd7-fef37dc9ff11_5.csv\n"
     ]
    },
    {
     "name": "stderr",
     "output_type": "stream",
     "text": [
      "Translating OCR Files:  39%|███▉      | 191/490 [1:27:45<50:29, 10.13s/file]"
     ]
    },
    {
     "name": "stdout",
     "output_type": "stream",
     "text": [
      " Saved translated file: 585875ff-f8c5-4a02-acd7-fef37dc9ff11_5.csv\n",
      "\n",
      "Processing file 192 of 490: 585875ff-f8c5-4a02-acd7-fef37dc9ff11_6.csv\n"
     ]
    },
    {
     "name": "stderr",
     "output_type": "stream",
     "text": [
      "Translating OCR Files:  39%|███▉      | 192/490 [1:28:07<1:07:47, 13.65s/file]"
     ]
    },
    {
     "name": "stdout",
     "output_type": "stream",
     "text": [
      " Saved translated file: 585875ff-f8c5-4a02-acd7-fef37dc9ff11_6.csv\n",
      "\n",
      "Processing file 193 of 490: 585875ff-f8c5-4a02-acd7-fef37dc9ff11_7.csv\n"
     ]
    },
    {
     "name": "stderr",
     "output_type": "stream",
     "text": [
      "Translating OCR Files:  39%|███▉      | 193/490 [1:28:31<1:22:10, 16.60s/file]"
     ]
    },
    {
     "name": "stdout",
     "output_type": "stream",
     "text": [
      " Saved translated file: 585875ff-f8c5-4a02-acd7-fef37dc9ff11_7.csv\n",
      "\n",
      "Processing file 194 of 490: 585875ff-f8c5-4a02-acd7-fef37dc9ff11_8.csv\n"
     ]
    },
    {
     "name": "stderr",
     "output_type": "stream",
     "text": [
      "Translating OCR Files:  40%|███▉      | 194/490 [1:29:02<1:43:10, 20.91s/file]"
     ]
    },
    {
     "name": "stdout",
     "output_type": "stream",
     "text": [
      " Saved translated file: 585875ff-f8c5-4a02-acd7-fef37dc9ff11_8.csv\n",
      "\n",
      "Processing file 195 of 490: 585875ff-f8c5-4a02-acd7-fef37dc9ff11_9.csv\n"
     ]
    },
    {
     "name": "stderr",
     "output_type": "stream",
     "text": [
      "Translating OCR Files:  40%|███▉      | 195/490 [1:29:24<1:45:39, 21.49s/file]"
     ]
    },
    {
     "name": "stdout",
     "output_type": "stream",
     "text": [
      " Saved translated file: 585875ff-f8c5-4a02-acd7-fef37dc9ff11_9.csv\n",
      "\n",
      "Processing file 196 of 490: 5a6b122c-39c1-4581-8c1f-2d6f36a9f8a0_0.csv\n"
     ]
    },
    {
     "name": "stderr",
     "output_type": "stream",
     "text": [
      "Translating OCR Files:  40%|████      | 196/490 [1:29:28<1:19:34, 16.24s/file]"
     ]
    },
    {
     "name": "stdout",
     "output_type": "stream",
     "text": [
      " Saved translated file: 5a6b122c-39c1-4581-8c1f-2d6f36a9f8a0_0.csv\n",
      "\n",
      "Processing file 197 of 490: 5a6b122c-39c1-4581-8c1f-2d6f36a9f8a0_1.csv\n"
     ]
    },
    {
     "name": "stderr",
     "output_type": "stream",
     "text": [
      "Translating OCR Files:  40%|████      | 197/490 [1:29:35<1:05:39, 13.45s/file]"
     ]
    },
    {
     "name": "stdout",
     "output_type": "stream",
     "text": [
      " Saved translated file: 5a6b122c-39c1-4581-8c1f-2d6f36a9f8a0_1.csv\n",
      "\n",
      "Processing file 198 of 490: 5a6b122c-39c1-4581-8c1f-2d6f36a9f8a0_10.csv\n"
     ]
    },
    {
     "name": "stderr",
     "output_type": "stream",
     "text": [
      "Translating OCR Files:  40%|████      | 198/490 [1:29:52<1:09:31, 14.29s/file]"
     ]
    },
    {
     "name": "stdout",
     "output_type": "stream",
     "text": [
      " Saved translated file: 5a6b122c-39c1-4581-8c1f-2d6f36a9f8a0_10.csv\n",
      "\n",
      "Processing file 199 of 490: 5a6b122c-39c1-4581-8c1f-2d6f36a9f8a0_11.csv\n"
     ]
    },
    {
     "name": "stderr",
     "output_type": "stream",
     "text": [
      "Translating OCR Files:  41%|████      | 199/490 [1:30:10<1:15:02, 15.47s/file]"
     ]
    },
    {
     "name": "stdout",
     "output_type": "stream",
     "text": [
      " Saved translated file: 5a6b122c-39c1-4581-8c1f-2d6f36a9f8a0_11.csv\n",
      "\n",
      "Processing file 200 of 490: 5a6b122c-39c1-4581-8c1f-2d6f36a9f8a0_12.csv\n"
     ]
    },
    {
     "name": "stderr",
     "output_type": "stream",
     "text": [
      "Translating OCR Files:  41%|████      | 200/490 [1:30:29<1:20:06, 16.57s/file]"
     ]
    },
    {
     "name": "stdout",
     "output_type": "stream",
     "text": [
      " Saved translated file: 5a6b122c-39c1-4581-8c1f-2d6f36a9f8a0_12.csv\n",
      "\n",
      "Processing file 201 of 490: 5a6b122c-39c1-4581-8c1f-2d6f36a9f8a0_13.csv\n"
     ]
    },
    {
     "name": "stderr",
     "output_type": "stream",
     "text": [
      "Translating OCR Files:  41%|████      | 201/490 [1:30:59<1:39:20, 20.62s/file]"
     ]
    },
    {
     "name": "stdout",
     "output_type": "stream",
     "text": [
      " Saved translated file: 5a6b122c-39c1-4581-8c1f-2d6f36a9f8a0_13.csv\n",
      "\n",
      "Processing file 202 of 490: 5a6b122c-39c1-4581-8c1f-2d6f36a9f8a0_14.csv\n"
     ]
    },
    {
     "name": "stderr",
     "output_type": "stream",
     "text": [
      "Translating OCR Files:  41%|████      | 202/490 [1:32:05<2:44:14, 34.22s/file]"
     ]
    },
    {
     "name": "stdout",
     "output_type": "stream",
     "text": [
      " Saved translated file: 5a6b122c-39c1-4581-8c1f-2d6f36a9f8a0_14.csv\n",
      "\n",
      "Processing file 203 of 490: 5a6b122c-39c1-4581-8c1f-2d6f36a9f8a0_15.csv\n"
     ]
    },
    {
     "name": "stderr",
     "output_type": "stream",
     "text": [
      "Translating OCR Files:  41%|████▏     | 203/490 [1:32:46<2:53:31, 36.28s/file]"
     ]
    },
    {
     "name": "stdout",
     "output_type": "stream",
     "text": [
      " Saved translated file: 5a6b122c-39c1-4581-8c1f-2d6f36a9f8a0_15.csv\n",
      "\n",
      "Processing file 204 of 490: 5a6b122c-39c1-4581-8c1f-2d6f36a9f8a0_16.csv\n"
     ]
    },
    {
     "name": "stderr",
     "output_type": "stream",
     "text": [
      "Translating OCR Files:  42%|████▏     | 204/490 [1:32:50<2:06:04, 26.45s/file]"
     ]
    },
    {
     "name": "stdout",
     "output_type": "stream",
     "text": [
      " Saved translated file: 5a6b122c-39c1-4581-8c1f-2d6f36a9f8a0_16.csv\n",
      "\n",
      "Processing file 205 of 490: 5a6b122c-39c1-4581-8c1f-2d6f36a9f8a0_17.csv\n"
     ]
    },
    {
     "name": "stderr",
     "output_type": "stream",
     "text": [
      "Translating OCR Files:  42%|████▏     | 205/490 [1:33:54<2:59:03, 37.70s/file]"
     ]
    },
    {
     "name": "stdout",
     "output_type": "stream",
     "text": [
      " Saved translated file: 5a6b122c-39c1-4581-8c1f-2d6f36a9f8a0_17.csv\n",
      "\n",
      "Processing file 206 of 490: 5a6b122c-39c1-4581-8c1f-2d6f36a9f8a0_18.csv\n"
     ]
    },
    {
     "name": "stderr",
     "output_type": "stream",
     "text": [
      "Translating OCR Files:  42%|████▏     | 206/490 [1:34:36<3:04:32, 38.99s/file]"
     ]
    },
    {
     "name": "stdout",
     "output_type": "stream",
     "text": [
      " Saved translated file: 5a6b122c-39c1-4581-8c1f-2d6f36a9f8a0_18.csv\n",
      "\n",
      "Processing file 207 of 490: 5a6b122c-39c1-4581-8c1f-2d6f36a9f8a0_19.csv\n"
     ]
    },
    {
     "name": "stderr",
     "output_type": "stream",
     "text": [
      "Translating OCR Files:  42%|████▏     | 207/490 [1:34:51<2:31:13, 32.06s/file]"
     ]
    },
    {
     "name": "stdout",
     "output_type": "stream",
     "text": [
      " Saved translated file: 5a6b122c-39c1-4581-8c1f-2d6f36a9f8a0_19.csv\n",
      "\n",
      "Processing file 208 of 490: 5a6b122c-39c1-4581-8c1f-2d6f36a9f8a0_2.csv\n"
     ]
    },
    {
     "name": "stderr",
     "output_type": "stream",
     "text": [
      "Translating OCR Files:  42%|████▏     | 208/490 [1:35:12<2:14:48, 28.68s/file]"
     ]
    },
    {
     "name": "stdout",
     "output_type": "stream",
     "text": [
      " Saved translated file: 5a6b122c-39c1-4581-8c1f-2d6f36a9f8a0_2.csv\n",
      "\n",
      "Processing file 209 of 490: 5a6b122c-39c1-4581-8c1f-2d6f36a9f8a0_20.csv\n"
     ]
    },
    {
     "name": "stderr",
     "output_type": "stream",
     "text": [
      "Translating OCR Files:  43%|████▎     | 209/490 [1:36:14<3:01:13, 38.70s/file]"
     ]
    },
    {
     "name": "stdout",
     "output_type": "stream",
     "text": [
      " Saved translated file: 5a6b122c-39c1-4581-8c1f-2d6f36a9f8a0_20.csv\n",
      "\n",
      "Processing file 210 of 490: 5a6b122c-39c1-4581-8c1f-2d6f36a9f8a0_21.csv\n"
     ]
    },
    {
     "name": "stderr",
     "output_type": "stream",
     "text": [
      "Translating OCR Files:  43%|████▎     | 210/490 [1:37:43<4:10:04, 53.59s/file]"
     ]
    },
    {
     "name": "stdout",
     "output_type": "stream",
     "text": [
      " Saved translated file: 5a6b122c-39c1-4581-8c1f-2d6f36a9f8a0_21.csv\n",
      "\n",
      "Processing file 211 of 490: 5a6b122c-39c1-4581-8c1f-2d6f36a9f8a0_22.csv\n"
     ]
    },
    {
     "name": "stderr",
     "output_type": "stream",
     "text": [
      "Translating OCR Files:  43%|████▎     | 211/490 [1:38:29<3:59:09, 51.43s/file]"
     ]
    },
    {
     "name": "stdout",
     "output_type": "stream",
     "text": [
      " Saved translated file: 5a6b122c-39c1-4581-8c1f-2d6f36a9f8a0_22.csv\n",
      "\n",
      "Processing file 212 of 490: 5a6b122c-39c1-4581-8c1f-2d6f36a9f8a0_23.csv\n"
     ]
    },
    {
     "name": "stderr",
     "output_type": "stream",
     "text": [
      "Translating OCR Files:  43%|████▎     | 212/490 [1:39:23<4:01:47, 52.19s/file]"
     ]
    },
    {
     "name": "stdout",
     "output_type": "stream",
     "text": [
      " Saved translated file: 5a6b122c-39c1-4581-8c1f-2d6f36a9f8a0_23.csv\n",
      "\n",
      "Processing file 213 of 490: 5a6b122c-39c1-4581-8c1f-2d6f36a9f8a0_24.csv\n"
     ]
    },
    {
     "name": "stderr",
     "output_type": "stream",
     "text": [
      "Translating OCR Files:  43%|████▎     | 213/490 [1:39:43<3:16:18, 42.52s/file]"
     ]
    },
    {
     "name": "stdout",
     "output_type": "stream",
     "text": [
      " Saved translated file: 5a6b122c-39c1-4581-8c1f-2d6f36a9f8a0_24.csv\n",
      "\n",
      "Processing file 214 of 490: 5a6b122c-39c1-4581-8c1f-2d6f36a9f8a0_25.csv\n"
     ]
    },
    {
     "name": "stderr",
     "output_type": "stream",
     "text": [
      "Translating OCR Files:  44%|████▎     | 214/490 [1:40:22<3:10:58, 41.52s/file]"
     ]
    },
    {
     "name": "stdout",
     "output_type": "stream",
     "text": [
      " Saved translated file: 5a6b122c-39c1-4581-8c1f-2d6f36a9f8a0_25.csv\n",
      "\n",
      "Processing file 215 of 490: 5a6b122c-39c1-4581-8c1f-2d6f36a9f8a0_26.csv\n"
     ]
    },
    {
     "name": "stderr",
     "output_type": "stream",
     "text": [
      "Translating OCR Files:  44%|████▍     | 215/490 [1:40:31<2:25:24, 31.73s/file]"
     ]
    },
    {
     "name": "stdout",
     "output_type": "stream",
     "text": [
      " Saved translated file: 5a6b122c-39c1-4581-8c1f-2d6f36a9f8a0_26.csv\n",
      "\n",
      "Processing file 216 of 490: 5a6b122c-39c1-4581-8c1f-2d6f36a9f8a0_27.csv\n"
     ]
    },
    {
     "name": "stderr",
     "output_type": "stream",
     "text": [
      "Translating OCR Files:  44%|████▍     | 216/490 [1:40:38<1:51:39, 24.45s/file]"
     ]
    },
    {
     "name": "stdout",
     "output_type": "stream",
     "text": [
      " Saved translated file: 5a6b122c-39c1-4581-8c1f-2d6f36a9f8a0_27.csv\n",
      "\n",
      "Processing file 217 of 490: 5a6b122c-39c1-4581-8c1f-2d6f36a9f8a0_28.csv\n"
     ]
    },
    {
     "name": "stderr",
     "output_type": "stream",
     "text": [
      "Translating OCR Files:  44%|████▍     | 217/490 [1:41:39<2:40:05, 35.19s/file]"
     ]
    },
    {
     "name": "stdout",
     "output_type": "stream",
     "text": [
      " Saved translated file: 5a6b122c-39c1-4581-8c1f-2d6f36a9f8a0_28.csv\n",
      "\n",
      "Processing file 218 of 490: 5a6b122c-39c1-4581-8c1f-2d6f36a9f8a0_29.csv\n"
     ]
    },
    {
     "name": "stderr",
     "output_type": "stream",
     "text": [
      "Translating OCR Files:  44%|████▍     | 218/490 [1:42:55<3:34:46, 47.38s/file]"
     ]
    },
    {
     "name": "stdout",
     "output_type": "stream",
     "text": [
      " Saved translated file: 5a6b122c-39c1-4581-8c1f-2d6f36a9f8a0_29.csv\n",
      "\n",
      "Processing file 219 of 490: 5a6b122c-39c1-4581-8c1f-2d6f36a9f8a0_3.csv\n"
     ]
    },
    {
     "name": "stderr",
     "output_type": "stream",
     "text": [
      "Translating OCR Files:  45%|████▍     | 219/490 [1:44:15<4:18:28, 57.23s/file]"
     ]
    },
    {
     "name": "stdout",
     "output_type": "stream",
     "text": [
      " Saved translated file: 5a6b122c-39c1-4581-8c1f-2d6f36a9f8a0_3.csv\n",
      "\n",
      "Processing file 220 of 490: 5a6b122c-39c1-4581-8c1f-2d6f36a9f8a0_30.csv\n"
     ]
    },
    {
     "name": "stderr",
     "output_type": "stream",
     "text": [
      "Translating OCR Files:  45%|████▍     | 220/490 [1:45:00<4:01:26, 53.65s/file]"
     ]
    },
    {
     "name": "stdout",
     "output_type": "stream",
     "text": [
      " Saved translated file: 5a6b122c-39c1-4581-8c1f-2d6f36a9f8a0_30.csv\n",
      "\n",
      "Processing file 221 of 490: 5a6b122c-39c1-4581-8c1f-2d6f36a9f8a0_31.csv\n"
     ]
    },
    {
     "name": "stderr",
     "output_type": "stream",
     "text": [
      "Translating OCR Files:  45%|████▌     | 221/490 [1:45:57<4:04:20, 54.50s/file]"
     ]
    },
    {
     "name": "stdout",
     "output_type": "stream",
     "text": [
      " Saved translated file: 5a6b122c-39c1-4581-8c1f-2d6f36a9f8a0_31.csv\n",
      "\n",
      "Processing file 222 of 490: 5a6b122c-39c1-4581-8c1f-2d6f36a9f8a0_32.csv\n"
     ]
    },
    {
     "name": "stderr",
     "output_type": "stream",
     "text": [
      "Translating OCR Files:  45%|████▌     | 222/490 [1:46:15<3:14:59, 43.66s/file]"
     ]
    },
    {
     "name": "stdout",
     "output_type": "stream",
     "text": [
      " Saved translated file: 5a6b122c-39c1-4581-8c1f-2d6f36a9f8a0_32.csv\n",
      "\n",
      "Processing file 223 of 490: 5a6b122c-39c1-4581-8c1f-2d6f36a9f8a0_33.csv\n"
     ]
    },
    {
     "name": "stderr",
     "output_type": "stream",
     "text": [
      "Translating OCR Files:  46%|████▌     | 223/490 [1:47:24<3:47:36, 51.15s/file]"
     ]
    },
    {
     "name": "stdout",
     "output_type": "stream",
     "text": [
      " Saved translated file: 5a6b122c-39c1-4581-8c1f-2d6f36a9f8a0_33.csv\n",
      "\n",
      "Processing file 224 of 490: 5a6b122c-39c1-4581-8c1f-2d6f36a9f8a0_34.csv\n"
     ]
    },
    {
     "name": "stderr",
     "output_type": "stream",
     "text": [
      "Translating OCR Files:  46%|████▌     | 224/490 [1:48:39<4:19:22, 58.50s/file]"
     ]
    },
    {
     "name": "stdout",
     "output_type": "stream",
     "text": [
      " Saved translated file: 5a6b122c-39c1-4581-8c1f-2d6f36a9f8a0_34.csv\n",
      "\n",
      "Processing file 225 of 490: 5a6b122c-39c1-4581-8c1f-2d6f36a9f8a0_35.csv\n"
     ]
    },
    {
     "name": "stderr",
     "output_type": "stream",
     "text": [
      "Translating OCR Files:  46%|████▌     | 225/490 [1:49:57<4:43:18, 64.15s/file]"
     ]
    },
    {
     "name": "stdout",
     "output_type": "stream",
     "text": [
      " Saved translated file: 5a6b122c-39c1-4581-8c1f-2d6f36a9f8a0_35.csv\n",
      "\n",
      "Processing file 226 of 490: 5a6b122c-39c1-4581-8c1f-2d6f36a9f8a0_36.csv\n"
     ]
    },
    {
     "name": "stderr",
     "output_type": "stream",
     "text": [
      "Translating OCR Files:  46%|████▌     | 226/490 [1:51:27<5:16:33, 71.94s/file]"
     ]
    },
    {
     "name": "stdout",
     "output_type": "stream",
     "text": [
      "Ollama error: HTTPConnectionPool(host='localhost', port=11434): Read timed out. (read timeout=90)\n",
      " Saved translated file: 5a6b122c-39c1-4581-8c1f-2d6f36a9f8a0_36.csv\n",
      "\n",
      "Processing file 227 of 490: 5a6b122c-39c1-4581-8c1f-2d6f36a9f8a0_37.csv\n"
     ]
    },
    {
     "name": "stderr",
     "output_type": "stream",
     "text": [
      "Translating OCR Files:  46%|████▋     | 227/490 [1:52:16<4:45:14, 65.08s/file]"
     ]
    },
    {
     "name": "stdout",
     "output_type": "stream",
     "text": [
      " Saved translated file: 5a6b122c-39c1-4581-8c1f-2d6f36a9f8a0_37.csv\n",
      "\n",
      "Processing file 228 of 490: 5a6b122c-39c1-4581-8c1f-2d6f36a9f8a0_38.csv\n"
     ]
    },
    {
     "name": "stderr",
     "output_type": "stream",
     "text": [
      "Translating OCR Files:  47%|████▋     | 228/490 [1:53:14<4:35:54, 63.18s/file]"
     ]
    },
    {
     "name": "stdout",
     "output_type": "stream",
     "text": [
      " Saved translated file: 5a6b122c-39c1-4581-8c1f-2d6f36a9f8a0_38.csv\n",
      "\n",
      "Processing file 229 of 490: 5a6b122c-39c1-4581-8c1f-2d6f36a9f8a0_39.csv\n"
     ]
    },
    {
     "name": "stderr",
     "output_type": "stream",
     "text": [
      "Translating OCR Files:  47%|████▋     | 229/490 [1:54:19<4:36:03, 63.46s/file]"
     ]
    },
    {
     "name": "stdout",
     "output_type": "stream",
     "text": [
      " Saved translated file: 5a6b122c-39c1-4581-8c1f-2d6f36a9f8a0_39.csv\n",
      "\n",
      "Processing file 230 of 490: 5a6b122c-39c1-4581-8c1f-2d6f36a9f8a0_4.csv\n"
     ]
    },
    {
     "name": "stderr",
     "output_type": "stream",
     "text": [
      "Translating OCR Files:  47%|████▋     | 230/490 [1:55:36<4:53:43, 67.78s/file]"
     ]
    },
    {
     "name": "stdout",
     "output_type": "stream",
     "text": [
      " Saved translated file: 5a6b122c-39c1-4581-8c1f-2d6f36a9f8a0_4.csv\n",
      "\n",
      "Processing file 231 of 490: 5a6b122c-39c1-4581-8c1f-2d6f36a9f8a0_40.csv\n"
     ]
    },
    {
     "name": "stderr",
     "output_type": "stream",
     "text": [
      "Translating OCR Files:  47%|████▋     | 231/490 [1:56:27<4:30:46, 62.73s/file]"
     ]
    },
    {
     "name": "stdout",
     "output_type": "stream",
     "text": [
      " Saved translated file: 5a6b122c-39c1-4581-8c1f-2d6f36a9f8a0_40.csv\n",
      "\n",
      "Processing file 232 of 490: 5a6b122c-39c1-4581-8c1f-2d6f36a9f8a0_41.csv\n"
     ]
    },
    {
     "name": "stderr",
     "output_type": "stream",
     "text": [
      "Translating OCR Files:  47%|████▋     | 232/490 [1:57:26<4:24:50, 61.59s/file]"
     ]
    },
    {
     "name": "stdout",
     "output_type": "stream",
     "text": [
      " Saved translated file: 5a6b122c-39c1-4581-8c1f-2d6f36a9f8a0_41.csv\n",
      "\n",
      "Processing file 233 of 490: 5a6b122c-39c1-4581-8c1f-2d6f36a9f8a0_42.csv\n"
     ]
    },
    {
     "name": "stderr",
     "output_type": "stream",
     "text": [
      "Translating OCR Files:  48%|████▊     | 233/490 [1:58:11<4:02:13, 56.55s/file]"
     ]
    },
    {
     "name": "stdout",
     "output_type": "stream",
     "text": [
      " Saved translated file: 5a6b122c-39c1-4581-8c1f-2d6f36a9f8a0_42.csv\n",
      "\n",
      "Processing file 234 of 490: 5a6b122c-39c1-4581-8c1f-2d6f36a9f8a0_43.csv\n"
     ]
    },
    {
     "name": "stderr",
     "output_type": "stream",
     "text": [
      "Translating OCR Files:  48%|████▊     | 234/490 [1:59:26<4:25:04, 62.13s/file]"
     ]
    },
    {
     "name": "stdout",
     "output_type": "stream",
     "text": [
      " Saved translated file: 5a6b122c-39c1-4581-8c1f-2d6f36a9f8a0_43.csv\n",
      "\n",
      "Processing file 235 of 490: 5a6b122c-39c1-4581-8c1f-2d6f36a9f8a0_5.csv\n"
     ]
    },
    {
     "name": "stderr",
     "output_type": "stream",
     "text": [
      "Translating OCR Files:  48%|████▊     | 235/490 [2:00:18<4:10:20, 58.90s/file]"
     ]
    },
    {
     "name": "stdout",
     "output_type": "stream",
     "text": [
      " Saved translated file: 5a6b122c-39c1-4581-8c1f-2d6f36a9f8a0_5.csv\n",
      "\n",
      "Processing file 236 of 490: 5a6b122c-39c1-4581-8c1f-2d6f36a9f8a0_6.csv\n"
     ]
    },
    {
     "name": "stderr",
     "output_type": "stream",
     "text": [
      "Translating OCR Files:  48%|████▊     | 236/490 [2:01:22<4:15:46, 60.42s/file]"
     ]
    },
    {
     "name": "stdout",
     "output_type": "stream",
     "text": [
      " Saved translated file: 5a6b122c-39c1-4581-8c1f-2d6f36a9f8a0_6.csv\n",
      "\n",
      "Processing file 237 of 490: 5a6b122c-39c1-4581-8c1f-2d6f36a9f8a0_7.csv\n"
     ]
    },
    {
     "name": "stderr",
     "output_type": "stream",
     "text": [
      "Translating OCR Files:  48%|████▊     | 237/490 [2:02:00<3:46:20, 53.68s/file]"
     ]
    },
    {
     "name": "stdout",
     "output_type": "stream",
     "text": [
      " Saved translated file: 5a6b122c-39c1-4581-8c1f-2d6f36a9f8a0_7.csv\n",
      "\n",
      "Processing file 238 of 490: 5a6b122c-39c1-4581-8c1f-2d6f36a9f8a0_8.csv\n"
     ]
    },
    {
     "name": "stderr",
     "output_type": "stream",
     "text": [
      "Translating OCR Files:  49%|████▊     | 238/490 [2:02:24<3:08:43, 44.94s/file]"
     ]
    },
    {
     "name": "stdout",
     "output_type": "stream",
     "text": [
      " Saved translated file: 5a6b122c-39c1-4581-8c1f-2d6f36a9f8a0_8.csv\n",
      "\n",
      "Processing file 239 of 490: 5a6b122c-39c1-4581-8c1f-2d6f36a9f8a0_9.csv\n"
     ]
    },
    {
     "name": "stderr",
     "output_type": "stream",
     "text": [
      "Translating OCR Files:  49%|████▉     | 239/490 [2:02:46<2:39:06, 38.03s/file]"
     ]
    },
    {
     "name": "stdout",
     "output_type": "stream",
     "text": [
      " Saved translated file: 5a6b122c-39c1-4581-8c1f-2d6f36a9f8a0_9.csv\n",
      "\n",
      "Processing file 240 of 490: 5a84cde3-7175-4044-8c88-d4c883a8fd38.csv\n"
     ]
    },
    {
     "name": "stderr",
     "output_type": "stream",
     "text": [
      "Translating OCR Files:  49%|████▉     | 240/490 [2:03:01<2:09:46, 31.15s/file]"
     ]
    },
    {
     "name": "stdout",
     "output_type": "stream",
     "text": [
      " Saved translated file: 5a84cde3-7175-4044-8c88-d4c883a8fd38.csv\n",
      "\n",
      "Processing file 241 of 490: 5ae9bdca-fdf9-4948-8c11-a9e400b331aa.csv\n"
     ]
    },
    {
     "name": "stderr",
     "output_type": "stream",
     "text": [
      "Translating OCR Files:  49%|████▉     | 241/490 [2:03:08<1:39:31, 23.98s/file]"
     ]
    },
    {
     "name": "stdout",
     "output_type": "stream",
     "text": [
      " Saved translated file: 5ae9bdca-fdf9-4948-8c11-a9e400b331aa.csv\n",
      "\n",
      "Processing file 242 of 490: 5d4e3e02-1dfc-469e-8af9-8dbe2b9f1564.csv\n"
     ]
    },
    {
     "name": "stderr",
     "output_type": "stream",
     "text": [
      "Translating OCR Files:  49%|████▉     | 242/490 [2:04:22<2:40:14, 38.77s/file]"
     ]
    },
    {
     "name": "stdout",
     "output_type": "stream",
     "text": [
      " Saved translated file: 5d4e3e02-1dfc-469e-8af9-8dbe2b9f1564.csv\n",
      "\n",
      "Processing file 243 of 490: 5e5bd90e-60c5-402f-b488-750456a81a13_0.csv\n"
     ]
    },
    {
     "name": "stderr",
     "output_type": "stream",
     "text": [
      "Translating OCR Files:  50%|████▉     | 243/490 [2:04:25<1:56:27, 28.29s/file]"
     ]
    },
    {
     "name": "stdout",
     "output_type": "stream",
     "text": [
      " Saved translated file: 5e5bd90e-60c5-402f-b488-750456a81a13_0.csv\n",
      "\n",
      "Processing file 244 of 490: 5e5bd90e-60c5-402f-b488-750456a81a13_1.csv\n"
     ]
    },
    {
     "name": "stderr",
     "output_type": "stream",
     "text": [
      "Translating OCR Files:  50%|████▉     | 244/490 [2:04:27<1:23:03, 20.26s/file]"
     ]
    },
    {
     "name": "stdout",
     "output_type": "stream",
     "text": [
      " Saved translated file: 5e5bd90e-60c5-402f-b488-750456a81a13_1.csv\n",
      "\n",
      "Processing file 245 of 490: 5e5bd90e-60c5-402f-b488-750456a81a13_10.csv\n"
     ]
    },
    {
     "name": "stderr",
     "output_type": "stream",
     "text": [
      "Translating OCR Files:  50%|█████     | 245/490 [2:05:01<1:39:03, 24.26s/file]"
     ]
    },
    {
     "name": "stdout",
     "output_type": "stream",
     "text": [
      " Saved translated file: 5e5bd90e-60c5-402f-b488-750456a81a13_10.csv\n",
      "\n",
      "Processing file 246 of 490: 5e5bd90e-60c5-402f-b488-750456a81a13_11.csv\n"
     ]
    },
    {
     "name": "stderr",
     "output_type": "stream",
     "text": [
      "Translating OCR Files:  50%|█████     | 246/490 [2:05:19<1:31:20, 22.46s/file]"
     ]
    },
    {
     "name": "stdout",
     "output_type": "stream",
     "text": [
      " Saved translated file: 5e5bd90e-60c5-402f-b488-750456a81a13_11.csv\n",
      "\n",
      "Processing file 247 of 490: 5e5bd90e-60c5-402f-b488-750456a81a13_12.csv\n"
     ]
    },
    {
     "name": "stderr",
     "output_type": "stream",
     "text": [
      "Translating OCR Files:  50%|█████     | 247/490 [2:05:35<1:22:48, 20.45s/file]"
     ]
    },
    {
     "name": "stdout",
     "output_type": "stream",
     "text": [
      " Saved translated file: 5e5bd90e-60c5-402f-b488-750456a81a13_12.csv\n",
      "\n",
      "Processing file 248 of 490: 5e5bd90e-60c5-402f-b488-750456a81a13_2.csv\n"
     ]
    },
    {
     "name": "stderr",
     "output_type": "stream",
     "text": [
      "Translating OCR Files:  51%|█████     | 248/490 [2:06:01<1:29:44, 22.25s/file]"
     ]
    },
    {
     "name": "stdout",
     "output_type": "stream",
     "text": [
      " Saved translated file: 5e5bd90e-60c5-402f-b488-750456a81a13_2.csv\n",
      "\n",
      "Processing file 249 of 490: 5e5bd90e-60c5-402f-b488-750456a81a13_3.csv\n"
     ]
    },
    {
     "name": "stderr",
     "output_type": "stream",
     "text": [
      "Translating OCR Files:  51%|█████     | 249/490 [2:07:09<2:24:07, 35.88s/file]"
     ]
    },
    {
     "name": "stdout",
     "output_type": "stream",
     "text": [
      " Saved translated file: 5e5bd90e-60c5-402f-b488-750456a81a13_3.csv\n",
      "\n",
      "Processing file 250 of 490: 5e5bd90e-60c5-402f-b488-750456a81a13_4.csv\n"
     ]
    },
    {
     "name": "stderr",
     "output_type": "stream",
     "text": [
      "Translating OCR Files:  51%|█████     | 250/490 [2:07:35<2:12:23, 33.10s/file]"
     ]
    },
    {
     "name": "stdout",
     "output_type": "stream",
     "text": [
      " Saved translated file: 5e5bd90e-60c5-402f-b488-750456a81a13_4.csv\n",
      "\n",
      "Processing file 251 of 490: 5e5bd90e-60c5-402f-b488-750456a81a13_5.csv\n"
     ]
    },
    {
     "name": "stderr",
     "output_type": "stream",
     "text": [
      "Translating OCR Files:  51%|█████     | 251/490 [2:07:58<1:59:01, 29.88s/file]"
     ]
    },
    {
     "name": "stdout",
     "output_type": "stream",
     "text": [
      " Saved translated file: 5e5bd90e-60c5-402f-b488-750456a81a13_5.csv\n",
      "\n",
      "Processing file 252 of 490: 5e5bd90e-60c5-402f-b488-750456a81a13_6.csv\n"
     ]
    },
    {
     "name": "stderr",
     "output_type": "stream",
     "text": [
      "Translating OCR Files:  51%|█████▏    | 252/490 [2:08:47<2:21:56, 35.78s/file]"
     ]
    },
    {
     "name": "stdout",
     "output_type": "stream",
     "text": [
      " Saved translated file: 5e5bd90e-60c5-402f-b488-750456a81a13_6.csv\n",
      "\n",
      "Processing file 253 of 490: 5e5bd90e-60c5-402f-b488-750456a81a13_7.csv\n"
     ]
    },
    {
     "name": "stderr",
     "output_type": "stream",
     "text": [
      "Translating OCR Files:  52%|█████▏    | 253/490 [2:09:13<2:09:31, 32.79s/file]"
     ]
    },
    {
     "name": "stdout",
     "output_type": "stream",
     "text": [
      " Saved translated file: 5e5bd90e-60c5-402f-b488-750456a81a13_7.csv\n",
      "\n",
      "Processing file 254 of 490: 5e5bd90e-60c5-402f-b488-750456a81a13_8.csv\n"
     ]
    },
    {
     "name": "stderr",
     "output_type": "stream",
     "text": [
      "Translating OCR Files:  52%|█████▏    | 254/490 [2:09:44<2:06:13, 32.09s/file]"
     ]
    },
    {
     "name": "stdout",
     "output_type": "stream",
     "text": [
      " Saved translated file: 5e5bd90e-60c5-402f-b488-750456a81a13_8.csv\n",
      "\n",
      "Processing file 255 of 490: 5e5bd90e-60c5-402f-b488-750456a81a13_9.csv\n"
     ]
    },
    {
     "name": "stderr",
     "output_type": "stream",
     "text": [
      "Translating OCR Files:  52%|█████▏    | 255/490 [2:10:27<2:19:00, 35.49s/file]"
     ]
    },
    {
     "name": "stdout",
     "output_type": "stream",
     "text": [
      " Saved translated file: 5e5bd90e-60c5-402f-b488-750456a81a13_9.csv\n",
      "\n",
      "Processing file 256 of 490: 5ef1d666-e19d-4570-b800-6693a4f680ee.csv\n"
     ]
    },
    {
     "name": "stderr",
     "output_type": "stream",
     "text": [
      "Translating OCR Files:  52%|█████▏    | 256/490 [2:11:00<2:16:02, 34.88s/file]"
     ]
    },
    {
     "name": "stdout",
     "output_type": "stream",
     "text": [
      " Saved translated file: 5ef1d666-e19d-4570-b800-6693a4f680ee.csv\n",
      "\n",
      "Processing file 257 of 490: 62583414-9e32-4d09-8989-b5fa32a98a81.csv\n"
     ]
    },
    {
     "name": "stderr",
     "output_type": "stream",
     "text": [
      "Translating OCR Files:  52%|█████▏    | 257/490 [2:11:06<1:41:06, 26.04s/file]"
     ]
    },
    {
     "name": "stdout",
     "output_type": "stream",
     "text": [
      " Saved translated file: 62583414-9e32-4d09-8989-b5fa32a98a81.csv\n",
      "\n",
      "Processing file 258 of 490: 62ff30cf-de5f-4388-82aa-b69b0fd0f07c.csv\n"
     ]
    },
    {
     "name": "stderr",
     "output_type": "stream",
     "text": [
      "Translating OCR Files:  53%|█████▎    | 258/490 [2:11:14<1:20:30, 20.82s/file]"
     ]
    },
    {
     "name": "stdout",
     "output_type": "stream",
     "text": [
      " Saved translated file: 62ff30cf-de5f-4388-82aa-b69b0fd0f07c.csv\n",
      "\n",
      "Processing file 259 of 490: 645dfc97-3268-4e1d-920d-4138545456fa.csv\n"
     ]
    },
    {
     "name": "stderr",
     "output_type": "stream",
     "text": [
      "Translating OCR Files:  53%|█████▎    | 259/490 [2:11:39<1:24:55, 22.06s/file]"
     ]
    },
    {
     "name": "stdout",
     "output_type": "stream",
     "text": [
      " Saved translated file: 645dfc97-3268-4e1d-920d-4138545456fa.csv\n",
      "\n",
      "Processing file 260 of 490: 64bba692-d430-440c-9f1e-2575f45770af_0.csv\n"
     ]
    },
    {
     "name": "stderr",
     "output_type": "stream",
     "text": [
      "Translating OCR Files:  53%|█████▎    | 260/490 [2:11:44<1:04:44, 16.89s/file]"
     ]
    },
    {
     "name": "stdout",
     "output_type": "stream",
     "text": [
      " Saved translated file: 64bba692-d430-440c-9f1e-2575f45770af_0.csv\n",
      "\n",
      "Processing file 261 of 490: 64bba692-d430-440c-9f1e-2575f45770af_1.csv\n"
     ]
    },
    {
     "name": "stderr",
     "output_type": "stream",
     "text": [
      "Translating OCR Files:  53%|█████▎    | 261/490 [2:12:02<1:05:38, 17.20s/file]"
     ]
    },
    {
     "name": "stdout",
     "output_type": "stream",
     "text": [
      " Saved translated file: 64bba692-d430-440c-9f1e-2575f45770af_1.csv\n",
      "\n",
      "Processing file 262 of 490: 64bba692-d430-440c-9f1e-2575f45770af_10.csv\n"
     ]
    },
    {
     "name": "stderr",
     "output_type": "stream",
     "text": [
      "Translating OCR Files:  53%|█████▎    | 262/490 [2:12:18<1:04:16, 16.92s/file]"
     ]
    },
    {
     "name": "stdout",
     "output_type": "stream",
     "text": [
      " Saved translated file: 64bba692-d430-440c-9f1e-2575f45770af_10.csv\n",
      "\n",
      "Processing file 263 of 490: 64bba692-d430-440c-9f1e-2575f45770af_11.csv\n"
     ]
    },
    {
     "name": "stderr",
     "output_type": "stream",
     "text": [
      "Translating OCR Files:  54%|█████▎    | 263/490 [2:12:48<1:18:11, 20.67s/file]"
     ]
    },
    {
     "name": "stdout",
     "output_type": "stream",
     "text": [
      " Saved translated file: 64bba692-d430-440c-9f1e-2575f45770af_11.csv\n",
      "\n",
      "Processing file 264 of 490: 64bba692-d430-440c-9f1e-2575f45770af_12.csv\n"
     ]
    },
    {
     "name": "stderr",
     "output_type": "stream",
     "text": [
      "Translating OCR Files:  54%|█████▍    | 264/490 [2:13:13<1:22:58, 22.03s/file]"
     ]
    },
    {
     "name": "stdout",
     "output_type": "stream",
     "text": [
      " Saved translated file: 64bba692-d430-440c-9f1e-2575f45770af_12.csv\n",
      "\n",
      "Processing file 265 of 490: 64bba692-d430-440c-9f1e-2575f45770af_2.csv\n"
     ]
    },
    {
     "name": "stderr",
     "output_type": "stream",
     "text": [
      "Translating OCR Files:  54%|█████▍    | 265/490 [2:13:59<1:49:22, 29.17s/file]"
     ]
    },
    {
     "name": "stdout",
     "output_type": "stream",
     "text": [
      " Saved translated file: 64bba692-d430-440c-9f1e-2575f45770af_2.csv\n",
      "\n",
      "Processing file 266 of 490: 64bba692-d430-440c-9f1e-2575f45770af_3.csv\n"
     ]
    },
    {
     "name": "stderr",
     "output_type": "stream",
     "text": [
      "Translating OCR Files:  54%|█████▍    | 266/490 [2:14:21<1:41:01, 27.06s/file]"
     ]
    },
    {
     "name": "stdout",
     "output_type": "stream",
     "text": [
      " Saved translated file: 64bba692-d430-440c-9f1e-2575f45770af_3.csv\n",
      "\n",
      "Processing file 267 of 490: 64bba692-d430-440c-9f1e-2575f45770af_4.csv\n"
     ]
    },
    {
     "name": "stderr",
     "output_type": "stream",
     "text": [
      "Translating OCR Files:  54%|█████▍    | 267/490 [2:14:35<1:25:39, 23.05s/file]"
     ]
    },
    {
     "name": "stdout",
     "output_type": "stream",
     "text": [
      " Saved translated file: 64bba692-d430-440c-9f1e-2575f45770af_4.csv\n",
      "\n",
      "Processing file 268 of 490: 64bba692-d430-440c-9f1e-2575f45770af_5.csv\n"
     ]
    },
    {
     "name": "stderr",
     "output_type": "stream",
     "text": [
      "Translating OCR Files:  55%|█████▍    | 268/490 [2:14:44<1:10:21, 19.02s/file]"
     ]
    },
    {
     "name": "stdout",
     "output_type": "stream",
     "text": [
      " Saved translated file: 64bba692-d430-440c-9f1e-2575f45770af_5.csv\n",
      "\n",
      "Processing file 269 of 490: 64bba692-d430-440c-9f1e-2575f45770af_6.csv\n"
     ]
    },
    {
     "name": "stderr",
     "output_type": "stream",
     "text": [
      "Translating OCR Files:  55%|█████▍    | 269/490 [2:15:11<1:18:19, 21.26s/file]"
     ]
    },
    {
     "name": "stdout",
     "output_type": "stream",
     "text": [
      " Saved translated file: 64bba692-d430-440c-9f1e-2575f45770af_6.csv\n",
      "\n",
      "Processing file 270 of 490: 64bba692-d430-440c-9f1e-2575f45770af_7.csv\n"
     ]
    },
    {
     "name": "stderr",
     "output_type": "stream",
     "text": [
      "Translating OCR Files:  55%|█████▌    | 270/490 [2:15:36<1:21:53, 22.33s/file]"
     ]
    },
    {
     "name": "stdout",
     "output_type": "stream",
     "text": [
      " Saved translated file: 64bba692-d430-440c-9f1e-2575f45770af_7.csv\n",
      "\n",
      "Processing file 271 of 490: 64bba692-d430-440c-9f1e-2575f45770af_8.csv\n"
     ]
    },
    {
     "name": "stderr",
     "output_type": "stream",
     "text": [
      "Translating OCR Files:  55%|█████▌    | 271/490 [2:15:54<1:17:27, 21.22s/file]"
     ]
    },
    {
     "name": "stdout",
     "output_type": "stream",
     "text": [
      " Saved translated file: 64bba692-d430-440c-9f1e-2575f45770af_8.csv\n",
      "\n",
      "Processing file 272 of 490: 64bba692-d430-440c-9f1e-2575f45770af_9.csv\n"
     ]
    },
    {
     "name": "stderr",
     "output_type": "stream",
     "text": [
      "Translating OCR Files:  56%|█████▌    | 272/490 [2:16:08<1:09:02, 19.00s/file]"
     ]
    },
    {
     "name": "stdout",
     "output_type": "stream",
     "text": [
      " Saved translated file: 64bba692-d430-440c-9f1e-2575f45770af_9.csv\n",
      "\n",
      "Processing file 273 of 490: 6848748d-2881-4c26-b153-fcd5373d2f1c.csv\n"
     ]
    },
    {
     "name": "stderr",
     "output_type": "stream",
     "text": [
      "Translating OCR Files:  56%|█████▌    | 273/490 [2:16:37<1:20:00, 22.12s/file]"
     ]
    },
    {
     "name": "stdout",
     "output_type": "stream",
     "text": [
      " Saved translated file: 6848748d-2881-4c26-b153-fcd5373d2f1c.csv\n",
      "\n",
      "Processing file 274 of 490: 6bcc0131-e4ad-421e-bb1f-d8ebe5eeec7b.csv\n"
     ]
    },
    {
     "name": "stderr",
     "output_type": "stream",
     "text": [
      "Translating OCR Files:  56%|█████▌    | 274/490 [2:16:40<58:09, 16.15s/file]  "
     ]
    },
    {
     "name": "stdout",
     "output_type": "stream",
     "text": [
      " Saved translated file: 6bcc0131-e4ad-421e-bb1f-d8ebe5eeec7b.csv\n",
      "\n",
      "Processing file 275 of 490: 6cbb3eeb-17e9-4af6-8da1-36eb6437f7bc.csv\n"
     ]
    },
    {
     "name": "stderr",
     "output_type": "stream",
     "text": [
      "Translating OCR Files:  56%|█████▌    | 275/490 [2:16:59<1:01:02, 17.03s/file]"
     ]
    },
    {
     "name": "stdout",
     "output_type": "stream",
     "text": [
      " Saved translated file: 6cbb3eeb-17e9-4af6-8da1-36eb6437f7bc.csv\n",
      "\n",
      "Processing file 276 of 490: 6d7fc7b3-c892-4cb5-bd4b-a5713c089d88_0.csv\n"
     ]
    },
    {
     "name": "stderr",
     "output_type": "stream",
     "text": [
      "Translating OCR Files:  56%|█████▋    | 276/490 [2:17:54<1:41:59, 28.60s/file]"
     ]
    },
    {
     "name": "stdout",
     "output_type": "stream",
     "text": [
      " Saved translated file: 6d7fc7b3-c892-4cb5-bd4b-a5713c089d88_0.csv\n",
      "\n",
      "Processing file 277 of 490: 6e9aced1-df28-4e57-b7c8-641609ff4450.csv\n"
     ]
    },
    {
     "name": "stderr",
     "output_type": "stream",
     "text": [
      "Translating OCR Files:  57%|█████▋    | 277/490 [2:18:29<1:48:18, 30.51s/file]"
     ]
    },
    {
     "name": "stdout",
     "output_type": "stream",
     "text": [
      " Saved translated file: 6e9aced1-df28-4e57-b7c8-641609ff4450.csv\n",
      "\n",
      "Processing file 278 of 490: 70c63791-2797-4bf0-a778-ea08819aa9de.csv\n"
     ]
    },
    {
     "name": "stderr",
     "output_type": "stream",
     "text": [
      "Translating OCR Files:  57%|█████▋    | 278/490 [2:18:50<1:36:53, 27.42s/file]"
     ]
    },
    {
     "name": "stdout",
     "output_type": "stream",
     "text": [
      " Saved translated file: 70c63791-2797-4bf0-a778-ea08819aa9de.csv\n",
      "\n",
      "Processing file 279 of 490: 7150f512-e7a2-4f2c-86bc-58b671b25ba9.csv\n"
     ]
    },
    {
     "name": "stderr",
     "output_type": "stream",
     "text": [
      "Translating OCR Files:  57%|█████▋    | 279/490 [2:18:56<1:14:06, 21.07s/file]"
     ]
    },
    {
     "name": "stdout",
     "output_type": "stream",
     "text": [
      " Saved translated file: 7150f512-e7a2-4f2c-86bc-58b671b25ba9.csv\n",
      "\n",
      "Processing file 280 of 490: 785cc8c9-1225-4f93-b633-349bc5113512.csv\n"
     ]
    },
    {
     "name": "stderr",
     "output_type": "stream",
     "text": [
      "Translating OCR Files:  57%|█████▋    | 280/490 [2:19:03<59:09, 16.90s/file]  "
     ]
    },
    {
     "name": "stdout",
     "output_type": "stream",
     "text": [
      " Saved translated file: 785cc8c9-1225-4f93-b633-349bc5113512.csv\n",
      "\n",
      "Processing file 281 of 490: 79d9b7f2-cfe4-4615-9b75-8fea33fc0c9d.csv\n"
     ]
    },
    {
     "name": "stderr",
     "output_type": "stream",
     "text": [
      "Translating OCR Files:  57%|█████▋    | 281/490 [2:19:08<46:08, 13.25s/file]"
     ]
    },
    {
     "name": "stdout",
     "output_type": "stream",
     "text": [
      " Saved translated file: 79d9b7f2-cfe4-4615-9b75-8fea33fc0c9d.csv\n",
      "\n",
      "Processing file 282 of 490: 912204cb-8ab7-48b8-9abf-d803f3804d08_0.csv\n"
     ]
    },
    {
     "name": "stderr",
     "output_type": "stream",
     "text": [
      "Translating OCR Files:  58%|█████▊    | 282/490 [2:19:12<37:00, 10.67s/file]"
     ]
    },
    {
     "name": "stdout",
     "output_type": "stream",
     "text": [
      " Saved translated file: 912204cb-8ab7-48b8-9abf-d803f3804d08_0.csv\n",
      "\n",
      "Processing file 283 of 490: 912204cb-8ab7-48b8-9abf-d803f3804d08_1.csv\n"
     ]
    },
    {
     "name": "stderr",
     "output_type": "stream",
     "text": [
      "Translating OCR Files:  58%|█████▊    | 283/490 [2:19:17<31:02,  9.00s/file]"
     ]
    },
    {
     "name": "stdout",
     "output_type": "stream",
     "text": [
      " Saved translated file: 912204cb-8ab7-48b8-9abf-d803f3804d08_1.csv\n",
      "\n",
      "Processing file 284 of 490: 912204cb-8ab7-48b8-9abf-d803f3804d08_10.csv\n"
     ]
    },
    {
     "name": "stderr",
     "output_type": "stream",
     "text": [
      "Translating OCR Files:  58%|█████▊    | 284/490 [2:19:48<52:37, 15.33s/file]"
     ]
    },
    {
     "name": "stdout",
     "output_type": "stream",
     "text": [
      " Saved translated file: 912204cb-8ab7-48b8-9abf-d803f3804d08_10.csv\n",
      "\n",
      "Processing file 285 of 490: 912204cb-8ab7-48b8-9abf-d803f3804d08_11.csv\n"
     ]
    },
    {
     "name": "stderr",
     "output_type": "stream",
     "text": [
      "Translating OCR Files:  58%|█████▊    | 285/490 [2:20:32<1:22:27, 24.14s/file]"
     ]
    },
    {
     "name": "stdout",
     "output_type": "stream",
     "text": [
      " Saved translated file: 912204cb-8ab7-48b8-9abf-d803f3804d08_11.csv\n",
      "\n",
      "Processing file 286 of 490: 912204cb-8ab7-48b8-9abf-d803f3804d08_12.csv\n"
     ]
    },
    {
     "name": "stderr",
     "output_type": "stream",
     "text": [
      "Translating OCR Files:  58%|█████▊    | 286/490 [2:21:46<2:13:08, 39.16s/file]"
     ]
    },
    {
     "name": "stdout",
     "output_type": "stream",
     "text": [
      " Saved translated file: 912204cb-8ab7-48b8-9abf-d803f3804d08_12.csv\n",
      "\n",
      "Processing file 287 of 490: 912204cb-8ab7-48b8-9abf-d803f3804d08_2.csv\n"
     ]
    },
    {
     "name": "stderr",
     "output_type": "stream",
     "text": [
      "Translating OCR Files:  59%|█████▊    | 287/490 [2:23:12<2:59:20, 53.01s/file]"
     ]
    },
    {
     "name": "stdout",
     "output_type": "stream",
     "text": [
      " Saved translated file: 912204cb-8ab7-48b8-9abf-d803f3804d08_2.csv\n",
      "\n",
      "Processing file 288 of 490: 912204cb-8ab7-48b8-9abf-d803f3804d08_3.csv\n"
     ]
    },
    {
     "name": "stderr",
     "output_type": "stream",
     "text": [
      "Translating OCR Files:  59%|█████▉    | 288/490 [2:24:12<3:05:28, 55.09s/file]"
     ]
    },
    {
     "name": "stdout",
     "output_type": "stream",
     "text": [
      " Saved translated file: 912204cb-8ab7-48b8-9abf-d803f3804d08_3.csv\n",
      "\n",
      "Processing file 289 of 490: 912204cb-8ab7-48b8-9abf-d803f3804d08_4.csv\n"
     ]
    },
    {
     "name": "stderr",
     "output_type": "stream",
     "text": [
      "Translating OCR Files:  59%|█████▉    | 289/490 [2:24:29<2:26:28, 43.72s/file]"
     ]
    },
    {
     "name": "stdout",
     "output_type": "stream",
     "text": [
      " Saved translated file: 912204cb-8ab7-48b8-9abf-d803f3804d08_4.csv\n",
      "\n",
      "Processing file 290 of 490: 912204cb-8ab7-48b8-9abf-d803f3804d08_5.csv\n"
     ]
    },
    {
     "name": "stderr",
     "output_type": "stream",
     "text": [
      "Translating OCR Files:  59%|█████▉    | 290/490 [2:24:56<2:08:46, 38.63s/file]"
     ]
    },
    {
     "name": "stdout",
     "output_type": "stream",
     "text": [
      " Saved translated file: 912204cb-8ab7-48b8-9abf-d803f3804d08_5.csv\n",
      "\n",
      "Processing file 291 of 490: 912204cb-8ab7-48b8-9abf-d803f3804d08_6.csv\n"
     ]
    },
    {
     "name": "stderr",
     "output_type": "stream",
     "text": [
      "Translating OCR Files:  59%|█████▉    | 291/490 [2:25:37<2:10:51, 39.46s/file]"
     ]
    },
    {
     "name": "stdout",
     "output_type": "stream",
     "text": [
      " Saved translated file: 912204cb-8ab7-48b8-9abf-d803f3804d08_6.csv\n",
      "\n",
      "Processing file 292 of 490: 912204cb-8ab7-48b8-9abf-d803f3804d08_7.csv\n"
     ]
    },
    {
     "name": "stderr",
     "output_type": "stream",
     "text": [
      "Translating OCR Files:  60%|█████▉    | 292/490 [2:25:47<1:41:22, 30.72s/file]"
     ]
    },
    {
     "name": "stdout",
     "output_type": "stream",
     "text": [
      " Saved translated file: 912204cb-8ab7-48b8-9abf-d803f3804d08_7.csv\n",
      "\n",
      "Processing file 293 of 490: 912204cb-8ab7-48b8-9abf-d803f3804d08_8.csv\n"
     ]
    },
    {
     "name": "stderr",
     "output_type": "stream",
     "text": [
      "Translating OCR Files:  60%|█████▉    | 293/490 [2:25:58<1:20:56, 24.65s/file]"
     ]
    },
    {
     "name": "stdout",
     "output_type": "stream",
     "text": [
      " Saved translated file: 912204cb-8ab7-48b8-9abf-d803f3804d08_8.csv\n",
      "\n",
      "Processing file 294 of 490: 912204cb-8ab7-48b8-9abf-d803f3804d08_9.csv\n"
     ]
    },
    {
     "name": "stderr",
     "output_type": "stream",
     "text": [
      "Translating OCR Files:  60%|██████    | 294/490 [2:26:12<1:10:35, 21.61s/file]"
     ]
    },
    {
     "name": "stdout",
     "output_type": "stream",
     "text": [
      " Saved translated file: 912204cb-8ab7-48b8-9abf-d803f3804d08_9.csv\n",
      "\n",
      "Processing file 295 of 490: 94b16e53-f035-4aa9-a76e-80bc6e936d10.csv\n"
     ]
    },
    {
     "name": "stderr",
     "output_type": "stream",
     "text": [
      "Translating OCR Files:  60%|██████    | 295/490 [2:26:16<53:07, 16.34s/file]  "
     ]
    },
    {
     "name": "stdout",
     "output_type": "stream",
     "text": [
      " Saved translated file: 94b16e53-f035-4aa9-a76e-80bc6e936d10.csv\n",
      "\n",
      "Processing file 296 of 490: 96af60b3-299c-4e26-bca3-d9eb3e113b94.csv\n"
     ]
    },
    {
     "name": "stderr",
     "output_type": "stream",
     "text": [
      "Translating OCR Files:  60%|██████    | 296/490 [2:26:42<1:01:19, 18.97s/file]"
     ]
    },
    {
     "name": "stdout",
     "output_type": "stream",
     "text": [
      " Saved translated file: 96af60b3-299c-4e26-bca3-d9eb3e113b94.csv\n",
      "\n",
      "Processing file 297 of 490: 987ba39a-cc1c-4367-8d6d-f5a49a940198.csv\n"
     ]
    },
    {
     "name": "stderr",
     "output_type": "stream",
     "text": [
      "Translating OCR Files:  61%|██████    | 297/490 [2:26:47<48:22, 15.04s/file]  "
     ]
    },
    {
     "name": "stdout",
     "output_type": "stream",
     "text": [
      " Saved translated file: 987ba39a-cc1c-4367-8d6d-f5a49a940198.csv\n",
      "\n",
      "Processing file 298 of 490: 9a8077f5-ac41-491f-b192-6b4609324bda.csv\n"
     ]
    },
    {
     "name": "stderr",
     "output_type": "stream",
     "text": [
      "Translating OCR Files:  61%|██████    | 298/490 [2:26:50<35:59, 11.25s/file]"
     ]
    },
    {
     "name": "stdout",
     "output_type": "stream",
     "text": [
      " Saved translated file: 9a8077f5-ac41-491f-b192-6b4609324bda.csv\n",
      "\n",
      "Processing file 299 of 490: 9c8c9989-2293-4e68-9ffe-6f7a5f14562f.csv\n"
     ]
    },
    {
     "name": "stderr",
     "output_type": "stream",
     "text": [
      "Translating OCR Files:  61%|██████    | 299/490 [2:26:53<28:19,  8.90s/file]"
     ]
    },
    {
     "name": "stdout",
     "output_type": "stream",
     "text": [
      " Saved translated file: 9c8c9989-2293-4e68-9ffe-6f7a5f14562f.csv\n",
      "\n",
      "Processing file 300 of 490: 9d7bc879-3250-4013-ac04-5ff9bd6dff40_0.csv\n"
     ]
    },
    {
     "name": "stderr",
     "output_type": "stream",
     "text": [
      "Translating OCR Files:  61%|██████    | 300/490 [2:27:48<1:11:49, 22.68s/file]"
     ]
    },
    {
     "name": "stdout",
     "output_type": "stream",
     "text": [
      " Saved translated file: 9d7bc879-3250-4013-ac04-5ff9bd6dff40_0.csv\n",
      "\n",
      "Processing file 301 of 490: 9d7bc879-3250-4013-ac04-5ff9bd6dff40_1.csv\n"
     ]
    },
    {
     "name": "stderr",
     "output_type": "stream",
     "text": [
      "Translating OCR Files:  61%|██████▏   | 301/490 [2:28:02<1:03:23, 20.13s/file]"
     ]
    },
    {
     "name": "stdout",
     "output_type": "stream",
     "text": [
      " Saved translated file: 9d7bc879-3250-4013-ac04-5ff9bd6dff40_1.csv\n",
      "\n",
      "Processing file 302 of 490: 9fd06037-11f1-4ad5-9a7d-cbfb3fa4193b_0.csv\n"
     ]
    },
    {
     "name": "stderr",
     "output_type": "stream",
     "text": [
      "Translating OCR Files:  62%|██████▏   | 302/490 [2:28:22<1:02:58, 20.10s/file]"
     ]
    },
    {
     "name": "stdout",
     "output_type": "stream",
     "text": [
      " Saved translated file: 9fd06037-11f1-4ad5-9a7d-cbfb3fa4193b_0.csv\n",
      "\n",
      "Processing file 303 of 490: 9fd06037-11f1-4ad5-9a7d-cbfb3fa4193b_1.csv\n"
     ]
    },
    {
     "name": "stderr",
     "output_type": "stream",
     "text": [
      "Translating OCR Files:  62%|██████▏   | 303/490 [2:29:19<1:36:42, 31.03s/file]"
     ]
    },
    {
     "name": "stdout",
     "output_type": "stream",
     "text": [
      " Saved translated file: 9fd06037-11f1-4ad5-9a7d-cbfb3fa4193b_1.csv\n",
      "\n",
      "Processing file 304 of 490: 9fd06037-11f1-4ad5-9a7d-cbfb3fa4193b_2.csv\n"
     ]
    },
    {
     "name": "stderr",
     "output_type": "stream",
     "text": [
      "Translating OCR Files:  62%|██████▏   | 304/490 [2:29:28<1:15:45, 24.44s/file]"
     ]
    },
    {
     "name": "stdout",
     "output_type": "stream",
     "text": [
      " Saved translated file: 9fd06037-11f1-4ad5-9a7d-cbfb3fa4193b_2.csv\n",
      "\n",
      "Processing file 305 of 490: 9fe6b262-9944-417d-a0c4-9f2de1de2994_0.csv\n"
     ]
    },
    {
     "name": "stderr",
     "output_type": "stream",
     "text": [
      "Translating OCR Files:  62%|██████▏   | 305/490 [2:29:32<57:01, 18.49s/file]  "
     ]
    },
    {
     "name": "stdout",
     "output_type": "stream",
     "text": [
      " Saved translated file: 9fe6b262-9944-417d-a0c4-9f2de1de2994_0.csv\n",
      "\n",
      "Processing file 306 of 490: 9fe6b262-9944-417d-a0c4-9f2de1de2994_1.csv\n"
     ]
    },
    {
     "name": "stderr",
     "output_type": "stream",
     "text": [
      "Translating OCR Files:  62%|██████▏   | 306/490 [2:29:45<50:47, 16.56s/file]"
     ]
    },
    {
     "name": "stdout",
     "output_type": "stream",
     "text": [
      " Saved translated file: 9fe6b262-9944-417d-a0c4-9f2de1de2994_1.csv\n",
      "\n",
      "Processing file 307 of 490: 9fe6b262-9944-417d-a0c4-9f2de1de2994_10.csv\n"
     ]
    },
    {
     "name": "stderr",
     "output_type": "stream",
     "text": [
      "Translating OCR Files:  63%|██████▎   | 307/490 [2:29:59<48:24, 15.87s/file]"
     ]
    },
    {
     "name": "stdout",
     "output_type": "stream",
     "text": [
      " Saved translated file: 9fe6b262-9944-417d-a0c4-9f2de1de2994_10.csv\n",
      "\n",
      "Processing file 308 of 490: 9fe6b262-9944-417d-a0c4-9f2de1de2994_11.csv\n"
     ]
    },
    {
     "name": "stderr",
     "output_type": "stream",
     "text": [
      "Translating OCR Files:  63%|██████▎   | 308/490 [2:30:23<55:49, 18.40s/file]"
     ]
    },
    {
     "name": "stdout",
     "output_type": "stream",
     "text": [
      " Saved translated file: 9fe6b262-9944-417d-a0c4-9f2de1de2994_11.csv\n",
      "\n",
      "Processing file 309 of 490: 9fe6b262-9944-417d-a0c4-9f2de1de2994_12.csv\n"
     ]
    },
    {
     "name": "stderr",
     "output_type": "stream",
     "text": [
      "Translating OCR Files:  63%|██████▎   | 309/490 [2:30:39<53:19, 17.68s/file]"
     ]
    },
    {
     "name": "stdout",
     "output_type": "stream",
     "text": [
      " Saved translated file: 9fe6b262-9944-417d-a0c4-9f2de1de2994_12.csv\n",
      "\n",
      "Processing file 310 of 490: 9fe6b262-9944-417d-a0c4-9f2de1de2994_13.csv\n"
     ]
    },
    {
     "name": "stderr",
     "output_type": "stream",
     "text": [
      "Translating OCR Files:  63%|██████▎   | 310/490 [2:30:57<52:55, 17.64s/file]"
     ]
    },
    {
     "name": "stdout",
     "output_type": "stream",
     "text": [
      " Saved translated file: 9fe6b262-9944-417d-a0c4-9f2de1de2994_13.csv\n",
      "\n",
      "Processing file 311 of 490: 9fe6b262-9944-417d-a0c4-9f2de1de2994_14.csv\n"
     ]
    },
    {
     "name": "stderr",
     "output_type": "stream",
     "text": [
      "Translating OCR Files:  63%|██████▎   | 311/490 [2:31:25<1:02:01, 20.79s/file]"
     ]
    },
    {
     "name": "stdout",
     "output_type": "stream",
     "text": [
      " Saved translated file: 9fe6b262-9944-417d-a0c4-9f2de1de2994_14.csv\n",
      "\n",
      "Processing file 312 of 490: 9fe6b262-9944-417d-a0c4-9f2de1de2994_15.csv\n"
     ]
    },
    {
     "name": "stderr",
     "output_type": "stream",
     "text": [
      "Translating OCR Files:  64%|██████▎   | 312/490 [2:31:49<1:04:49, 21.85s/file]"
     ]
    },
    {
     "name": "stdout",
     "output_type": "stream",
     "text": [
      " Saved translated file: 9fe6b262-9944-417d-a0c4-9f2de1de2994_15.csv\n",
      "\n",
      "Processing file 313 of 490: 9fe6b262-9944-417d-a0c4-9f2de1de2994_16.csv\n"
     ]
    },
    {
     "name": "stderr",
     "output_type": "stream",
     "text": [
      "Translating OCR Files:  64%|██████▍   | 313/490 [2:32:37<1:27:42, 29.73s/file]"
     ]
    },
    {
     "name": "stdout",
     "output_type": "stream",
     "text": [
      " Saved translated file: 9fe6b262-9944-417d-a0c4-9f2de1de2994_16.csv\n",
      "\n",
      "Processing file 314 of 490: 9fe6b262-9944-417d-a0c4-9f2de1de2994_17.csv\n"
     ]
    },
    {
     "name": "stderr",
     "output_type": "stream",
     "text": [
      "Translating OCR Files:  64%|██████▍   | 314/490 [2:34:07<2:20:22, 47.85s/file]"
     ]
    },
    {
     "name": "stdout",
     "output_type": "stream",
     "text": [
      "Ollama error: HTTPConnectionPool(host='localhost', port=11434): Read timed out. (read timeout=90)\n",
      " Saved translated file: 9fe6b262-9944-417d-a0c4-9f2de1de2994_17.csv\n",
      "\n",
      "Processing file 315 of 490: 9fe6b262-9944-417d-a0c4-9f2de1de2994_18.csv\n"
     ]
    },
    {
     "name": "stderr",
     "output_type": "stream",
     "text": [
      "Translating OCR Files:  64%|██████▍   | 315/490 [2:34:30<1:57:04, 40.14s/file]"
     ]
    },
    {
     "name": "stdout",
     "output_type": "stream",
     "text": [
      " Saved translated file: 9fe6b262-9944-417d-a0c4-9f2de1de2994_18.csv\n",
      "\n",
      "Processing file 316 of 490: 9fe6b262-9944-417d-a0c4-9f2de1de2994_2.csv\n"
     ]
    },
    {
     "name": "stderr",
     "output_type": "stream",
     "text": [
      "Translating OCR Files:  64%|██████▍   | 316/490 [2:34:45<1:34:41, 32.65s/file]"
     ]
    },
    {
     "name": "stdout",
     "output_type": "stream",
     "text": [
      " Saved translated file: 9fe6b262-9944-417d-a0c4-9f2de1de2994_2.csv\n",
      "\n",
      "Processing file 317 of 490: 9fe6b262-9944-417d-a0c4-9f2de1de2994_3.csv\n"
     ]
    },
    {
     "name": "stderr",
     "output_type": "stream",
     "text": [
      "Translating OCR Files:  65%|██████▍   | 317/490 [2:36:04<2:14:29, 46.64s/file]"
     ]
    },
    {
     "name": "stdout",
     "output_type": "stream",
     "text": [
      " Saved translated file: 9fe6b262-9944-417d-a0c4-9f2de1de2994_3.csv\n",
      "\n",
      "Processing file 318 of 490: 9fe6b262-9944-417d-a0c4-9f2de1de2994_4.csv\n"
     ]
    },
    {
     "name": "stderr",
     "output_type": "stream",
     "text": [
      "Translating OCR Files:  65%|██████▍   | 318/490 [2:36:22<1:49:21, 38.15s/file]"
     ]
    },
    {
     "name": "stdout",
     "output_type": "stream",
     "text": [
      " Saved translated file: 9fe6b262-9944-417d-a0c4-9f2de1de2994_4.csv\n",
      "\n",
      "Processing file 319 of 490: 9fe6b262-9944-417d-a0c4-9f2de1de2994_5.csv\n"
     ]
    },
    {
     "name": "stderr",
     "output_type": "stream",
     "text": [
      "Translating OCR Files:  65%|██████▌   | 319/490 [2:37:14<2:00:07, 42.15s/file]"
     ]
    },
    {
     "name": "stdout",
     "output_type": "stream",
     "text": [
      " Saved translated file: 9fe6b262-9944-417d-a0c4-9f2de1de2994_5.csv\n",
      "\n",
      "Processing file 320 of 490: 9fe6b262-9944-417d-a0c4-9f2de1de2994_6.csv\n"
     ]
    },
    {
     "name": "stderr",
     "output_type": "stream",
     "text": [
      "Translating OCR Files:  65%|██████▌   | 320/490 [2:37:36<1:42:41, 36.24s/file]"
     ]
    },
    {
     "name": "stdout",
     "output_type": "stream",
     "text": [
      " Saved translated file: 9fe6b262-9944-417d-a0c4-9f2de1de2994_6.csv\n",
      "\n",
      "Processing file 321 of 490: 9fe6b262-9944-417d-a0c4-9f2de1de2994_7.csv\n"
     ]
    },
    {
     "name": "stderr",
     "output_type": "stream",
     "text": [
      "Translating OCR Files:  66%|██████▌   | 321/490 [2:38:09<1:38:57, 35.13s/file]"
     ]
    },
    {
     "name": "stdout",
     "output_type": "stream",
     "text": [
      " Saved translated file: 9fe6b262-9944-417d-a0c4-9f2de1de2994_7.csv\n",
      "\n",
      "Processing file 322 of 490: 9fe6b262-9944-417d-a0c4-9f2de1de2994_8.csv\n"
     ]
    },
    {
     "name": "stderr",
     "output_type": "stream",
     "text": [
      "Translating OCR Files:  66%|██████▌   | 322/490 [2:38:30<1:26:59, 31.07s/file]"
     ]
    },
    {
     "name": "stdout",
     "output_type": "stream",
     "text": [
      " Saved translated file: 9fe6b262-9944-417d-a0c4-9f2de1de2994_8.csv\n",
      "\n",
      "Processing file 323 of 490: 9fe6b262-9944-417d-a0c4-9f2de1de2994_9.csv\n"
     ]
    },
    {
     "name": "stderr",
     "output_type": "stream",
     "text": [
      "Translating OCR Files:  66%|██████▌   | 323/490 [2:39:04<1:28:59, 31.97s/file]"
     ]
    },
    {
     "name": "stdout",
     "output_type": "stream",
     "text": [
      " Saved translated file: 9fe6b262-9944-417d-a0c4-9f2de1de2994_9.csv\n",
      "\n",
      "Processing file 324 of 490: a1ba4d8b-f382-44c4-ac3f-746a44746bb4_0.csv\n"
     ]
    },
    {
     "name": "stderr",
     "output_type": "stream",
     "text": [
      "Translating OCR Files:  66%|██████▌   | 324/490 [2:40:34<2:16:04, 49.18s/file]"
     ]
    },
    {
     "name": "stdout",
     "output_type": "stream",
     "text": [
      " Saved translated file: a1ba4d8b-f382-44c4-ac3f-746a44746bb4_0.csv\n",
      "\n",
      "Processing file 325 of 490: a1ba4d8b-f382-44c4-ac3f-746a44746bb4_1.csv\n"
     ]
    },
    {
     "name": "stderr",
     "output_type": "stream",
     "text": [
      "Translating OCR Files:  66%|██████▋   | 325/490 [2:40:40<1:40:04, 36.39s/file]"
     ]
    },
    {
     "name": "stdout",
     "output_type": "stream",
     "text": [
      " Saved translated file: a1ba4d8b-f382-44c4-ac3f-746a44746bb4_1.csv\n",
      "\n",
      "Processing file 326 of 490: aa99f763-6849-4f6b-adf2-58f0cc2ed545.csv\n"
     ]
    },
    {
     "name": "stderr",
     "output_type": "stream",
     "text": [
      "Translating OCR Files:  67%|██████▋   | 326/490 [2:40:50<1:17:40, 28.42s/file]"
     ]
    },
    {
     "name": "stdout",
     "output_type": "stream",
     "text": [
      " Saved translated file: aa99f763-6849-4f6b-adf2-58f0cc2ed545.csv\n",
      "\n",
      "Processing file 327 of 490: adaf869e-920a-4a17-91bd-e2ef3125c10e.csv\n"
     ]
    },
    {
     "name": "stderr",
     "output_type": "stream",
     "text": [
      "Translating OCR Files:  67%|██████▋   | 327/490 [2:41:01<1:03:15, 23.29s/file]"
     ]
    },
    {
     "name": "stdout",
     "output_type": "stream",
     "text": [
      " Saved translated file: adaf869e-920a-4a17-91bd-e2ef3125c10e.csv\n",
      "\n",
      "Processing file 328 of 490: aedc6a39-7862-4bbc-99e7-780ab3980282_1_0.csv\n"
     ]
    },
    {
     "name": "stderr",
     "output_type": "stream",
     "text": [
      "Translating OCR Files:  67%|██████▋   | 328/490 [2:41:10<51:15, 18.98s/file]  "
     ]
    },
    {
     "name": "stdout",
     "output_type": "stream",
     "text": [
      " Saved translated file: aedc6a39-7862-4bbc-99e7-780ab3980282_1_0.csv\n",
      "\n",
      "Processing file 329 of 490: aedc6a39-7862-4bbc-99e7-780ab3980282_2_0.csv\n"
     ]
    },
    {
     "name": "stderr",
     "output_type": "stream",
     "text": [
      "Translating OCR Files:  67%|██████▋   | 329/490 [2:42:17<1:29:37, 33.40s/file]"
     ]
    },
    {
     "name": "stdout",
     "output_type": "stream",
     "text": [
      " Saved translated file: aedc6a39-7862-4bbc-99e7-780ab3980282_2_0.csv\n",
      "\n",
      "Processing file 330 of 490: aedc6a39-7862-4bbc-99e7-780ab3980282_2_1.csv\n"
     ]
    },
    {
     "name": "stderr",
     "output_type": "stream",
     "text": [
      "Translating OCR Files:  67%|██████▋   | 330/490 [2:42:19<1:03:29, 23.81s/file]"
     ]
    },
    {
     "name": "stdout",
     "output_type": "stream",
     "text": [
      " Saved translated file: aedc6a39-7862-4bbc-99e7-780ab3980282_2_1.csv\n",
      "\n",
      "Processing file 331 of 490: aedc6a39-7862-4bbc-99e7-780ab3980282_3_0.csv\n"
     ]
    },
    {
     "name": "stderr",
     "output_type": "stream",
     "text": [
      "Translating OCR Files:  68%|██████▊   | 331/490 [2:43:11<1:25:31, 32.27s/file]"
     ]
    },
    {
     "name": "stdout",
     "output_type": "stream",
     "text": [
      " Saved translated file: aedc6a39-7862-4bbc-99e7-780ab3980282_3_0.csv\n",
      "\n",
      "Processing file 332 of 490: aedc6a39-7862-4bbc-99e7-780ab3980282_4_0.csv\n"
     ]
    },
    {
     "name": "stderr",
     "output_type": "stream",
     "text": [
      "Translating OCR Files:  68%|██████▊   | 332/490 [2:44:41<2:10:41, 49.63s/file]"
     ]
    },
    {
     "name": "stdout",
     "output_type": "stream",
     "text": [
      "Ollama error: HTTPConnectionPool(host='localhost', port=11434): Read timed out. (read timeout=90)\n",
      " Saved translated file: aedc6a39-7862-4bbc-99e7-780ab3980282_4_0.csv\n",
      "\n",
      "Processing file 333 of 490: aedc6a39-7862-4bbc-99e7-780ab3980282_4_1.csv\n"
     ]
    },
    {
     "name": "stderr",
     "output_type": "stream",
     "text": [
      "Translating OCR Files:  68%|██████▊   | 333/490 [2:45:00<1:45:54, 40.48s/file]"
     ]
    },
    {
     "name": "stdout",
     "output_type": "stream",
     "text": [
      " Saved translated file: aedc6a39-7862-4bbc-99e7-780ab3980282_4_1.csv\n",
      "\n",
      "Processing file 334 of 490: af93eff8-2973-4746-9041-b2223016b117.csv\n"
     ]
    },
    {
     "name": "stderr",
     "output_type": "stream",
     "text": [
      "Translating OCR Files:  68%|██████▊   | 334/490 [2:45:12<1:22:34, 31.76s/file]"
     ]
    },
    {
     "name": "stdout",
     "output_type": "stream",
     "text": [
      " Saved translated file: af93eff8-2973-4746-9041-b2223016b117.csv\n",
      "\n",
      "Processing file 335 of 490: b0a4acaa-d768-4f6d-8e54-6d20f271bb7c.csv\n"
     ]
    },
    {
     "name": "stderr",
     "output_type": "stream",
     "text": [
      "Translating OCR Files:  68%|██████▊   | 335/490 [2:45:14<59:12, 22.92s/file]  "
     ]
    },
    {
     "name": "stdout",
     "output_type": "stream",
     "text": [
      " Saved translated file: b0a4acaa-d768-4f6d-8e54-6d20f271bb7c.csv\n",
      "\n",
      "Processing file 336 of 490: b3031e66-40b6-45e8-9bcd-891dc1a280da_0.csv\n"
     ]
    },
    {
     "name": "stderr",
     "output_type": "stream",
     "text": [
      "Translating OCR Files:  69%|██████▊   | 336/490 [2:45:19<44:45, 17.44s/file]"
     ]
    },
    {
     "name": "stdout",
     "output_type": "stream",
     "text": [
      " Saved translated file: b3031e66-40b6-45e8-9bcd-891dc1a280da_0.csv\n",
      "\n",
      "Processing file 337 of 490: b3031e66-40b6-45e8-9bcd-891dc1a280da_1.csv\n"
     ]
    },
    {
     "name": "stderr",
     "output_type": "stream",
     "text": [
      "Translating OCR Files:  69%|██████▉   | 337/490 [2:45:32<41:09, 16.14s/file]"
     ]
    },
    {
     "name": "stdout",
     "output_type": "stream",
     "text": [
      " Saved translated file: b3031e66-40b6-45e8-9bcd-891dc1a280da_1.csv\n",
      "\n",
      "Processing file 338 of 490: b3031e66-40b6-45e8-9bcd-891dc1a280da_10.csv\n"
     ]
    },
    {
     "name": "stderr",
     "output_type": "stream",
     "text": [
      "Translating OCR Files:  69%|██████▉   | 338/490 [2:46:22<1:06:41, 26.33s/file]"
     ]
    },
    {
     "name": "stdout",
     "output_type": "stream",
     "text": [
      " Saved translated file: b3031e66-40b6-45e8-9bcd-891dc1a280da_10.csv\n",
      "\n",
      "Processing file 339 of 490: b3031e66-40b6-45e8-9bcd-891dc1a280da_11.csv\n"
     ]
    },
    {
     "name": "stderr",
     "output_type": "stream",
     "text": [
      "Translating OCR Files:  69%|██████▉   | 339/490 [2:47:12<1:24:38, 33.63s/file]"
     ]
    },
    {
     "name": "stdout",
     "output_type": "stream",
     "text": [
      " Saved translated file: b3031e66-40b6-45e8-9bcd-891dc1a280da_11.csv\n",
      "\n",
      "Processing file 340 of 490: b3031e66-40b6-45e8-9bcd-891dc1a280da_12.csv\n"
     ]
    },
    {
     "name": "stderr",
     "output_type": "stream",
     "text": [
      "Translating OCR Files:  69%|██████▉   | 340/490 [2:47:47<1:25:01, 34.01s/file]"
     ]
    },
    {
     "name": "stdout",
     "output_type": "stream",
     "text": [
      " Saved translated file: b3031e66-40b6-45e8-9bcd-891dc1a280da_12.csv\n",
      "\n",
      "Processing file 341 of 490: b3031e66-40b6-45e8-9bcd-891dc1a280da_13.csv\n"
     ]
    },
    {
     "name": "stderr",
     "output_type": "stream",
     "text": [
      "Translating OCR Files:  70%|██████▉   | 341/490 [2:48:34<1:33:51, 37.80s/file]"
     ]
    },
    {
     "name": "stdout",
     "output_type": "stream",
     "text": [
      " Saved translated file: b3031e66-40b6-45e8-9bcd-891dc1a280da_13.csv\n",
      "\n",
      "Processing file 342 of 490: b3031e66-40b6-45e8-9bcd-891dc1a280da_14.csv\n"
     ]
    },
    {
     "name": "stderr",
     "output_type": "stream",
     "text": [
      "Translating OCR Files:  70%|██████▉   | 342/490 [2:49:27<1:44:42, 42.45s/file]"
     ]
    },
    {
     "name": "stdout",
     "output_type": "stream",
     "text": [
      " Saved translated file: b3031e66-40b6-45e8-9bcd-891dc1a280da_14.csv\n",
      "\n",
      "Processing file 343 of 490: b3031e66-40b6-45e8-9bcd-891dc1a280da_15.csv\n"
     ]
    },
    {
     "name": "stderr",
     "output_type": "stream",
     "text": [
      "Translating OCR Files:  70%|███████   | 343/490 [2:50:01<1:37:31, 39.81s/file]"
     ]
    },
    {
     "name": "stdout",
     "output_type": "stream",
     "text": [
      " Saved translated file: b3031e66-40b6-45e8-9bcd-891dc1a280da_15.csv\n",
      "\n",
      "Processing file 344 of 490: b3031e66-40b6-45e8-9bcd-891dc1a280da_16.csv\n"
     ]
    },
    {
     "name": "stderr",
     "output_type": "stream",
     "text": [
      "Translating OCR Files:  70%|███████   | 344/490 [2:50:26<1:26:23, 35.50s/file]"
     ]
    },
    {
     "name": "stdout",
     "output_type": "stream",
     "text": [
      " Saved translated file: b3031e66-40b6-45e8-9bcd-891dc1a280da_16.csv\n",
      "\n",
      "Processing file 345 of 490: b3031e66-40b6-45e8-9bcd-891dc1a280da_17.csv\n"
     ]
    },
    {
     "name": "stderr",
     "output_type": "stream",
     "text": [
      "Translating OCR Files:  70%|███████   | 345/490 [2:50:57<1:22:15, 34.04s/file]"
     ]
    },
    {
     "name": "stdout",
     "output_type": "stream",
     "text": [
      " Saved translated file: b3031e66-40b6-45e8-9bcd-891dc1a280da_17.csv\n",
      "\n",
      "Processing file 346 of 490: b3031e66-40b6-45e8-9bcd-891dc1a280da_18.csv\n"
     ]
    },
    {
     "name": "stderr",
     "output_type": "stream",
     "text": [
      "Translating OCR Files:  71%|███████   | 346/490 [2:52:16<1:54:08, 47.56s/file]"
     ]
    },
    {
     "name": "stdout",
     "output_type": "stream",
     "text": [
      " Saved translated file: b3031e66-40b6-45e8-9bcd-891dc1a280da_18.csv\n",
      "\n",
      "Processing file 347 of 490: b3031e66-40b6-45e8-9bcd-891dc1a280da_19.csv\n"
     ]
    },
    {
     "name": "stderr",
     "output_type": "stream",
     "text": [
      "Translating OCR Files:  71%|███████   | 347/490 [2:52:34<1:32:18, 38.73s/file]"
     ]
    },
    {
     "name": "stdout",
     "output_type": "stream",
     "text": [
      " Saved translated file: b3031e66-40b6-45e8-9bcd-891dc1a280da_19.csv\n",
      "\n",
      "Processing file 348 of 490: b3031e66-40b6-45e8-9bcd-891dc1a280da_2.csv\n"
     ]
    },
    {
     "name": "stderr",
     "output_type": "stream",
     "text": [
      "Translating OCR Files:  71%|███████   | 348/490 [2:52:46<1:12:53, 30.80s/file]"
     ]
    },
    {
     "name": "stdout",
     "output_type": "stream",
     "text": [
      " Saved translated file: b3031e66-40b6-45e8-9bcd-891dc1a280da_2.csv\n",
      "\n",
      "Processing file 349 of 490: b3031e66-40b6-45e8-9bcd-891dc1a280da_20.csv\n"
     ]
    },
    {
     "name": "stderr",
     "output_type": "stream",
     "text": [
      "Translating OCR Files:  71%|███████   | 349/490 [2:53:30<1:21:07, 34.52s/file]"
     ]
    },
    {
     "name": "stdout",
     "output_type": "stream",
     "text": [
      " Saved translated file: b3031e66-40b6-45e8-9bcd-891dc1a280da_20.csv\n",
      "\n",
      "Processing file 350 of 490: b3031e66-40b6-45e8-9bcd-891dc1a280da_21.csv\n"
     ]
    },
    {
     "name": "stderr",
     "output_type": "stream",
     "text": [
      "Translating OCR Files:  71%|███████▏  | 350/490 [2:54:35<1:42:13, 43.81s/file]"
     ]
    },
    {
     "name": "stdout",
     "output_type": "stream",
     "text": [
      " Saved translated file: b3031e66-40b6-45e8-9bcd-891dc1a280da_21.csv\n",
      "\n",
      "Processing file 351 of 490: b3031e66-40b6-45e8-9bcd-891dc1a280da_22.csv\n"
     ]
    },
    {
     "name": "stderr",
     "output_type": "stream",
     "text": [
      "Translating OCR Files:  72%|███████▏  | 351/490 [2:55:28<1:48:01, 46.63s/file]"
     ]
    },
    {
     "name": "stdout",
     "output_type": "stream",
     "text": [
      " Saved translated file: b3031e66-40b6-45e8-9bcd-891dc1a280da_22.csv\n",
      "\n",
      "Processing file 352 of 490: b3031e66-40b6-45e8-9bcd-891dc1a280da_23.csv\n"
     ]
    },
    {
     "name": "stderr",
     "output_type": "stream",
     "text": [
      "Translating OCR Files:  72%|███████▏  | 352/490 [2:56:59<2:17:16, 59.68s/file]"
     ]
    },
    {
     "name": "stdout",
     "output_type": "stream",
     "text": [
      "Ollama error: HTTPConnectionPool(host='localhost', port=11434): Read timed out. (read timeout=90)\n",
      " Saved translated file: b3031e66-40b6-45e8-9bcd-891dc1a280da_23.csv\n",
      "\n",
      "Processing file 353 of 490: b3031e66-40b6-45e8-9bcd-891dc1a280da_24.csv\n"
     ]
    },
    {
     "name": "stderr",
     "output_type": "stream",
     "text": [
      "Translating OCR Files:  72%|███████▏  | 353/490 [2:57:43<2:06:01, 55.19s/file]"
     ]
    },
    {
     "name": "stdout",
     "output_type": "stream",
     "text": [
      " Saved translated file: b3031e66-40b6-45e8-9bcd-891dc1a280da_24.csv\n",
      "\n",
      "Processing file 354 of 490: b3031e66-40b6-45e8-9bcd-891dc1a280da_3.csv\n"
     ]
    },
    {
     "name": "stderr",
     "output_type": "stream",
     "text": [
      "Translating OCR Files:  72%|███████▏  | 354/490 [2:58:56<2:17:00, 60.45s/file]"
     ]
    },
    {
     "name": "stdout",
     "output_type": "stream",
     "text": [
      " Saved translated file: b3031e66-40b6-45e8-9bcd-891dc1a280da_3.csv\n",
      "\n",
      "Processing file 355 of 490: b3031e66-40b6-45e8-9bcd-891dc1a280da_4.csv\n"
     ]
    },
    {
     "name": "stderr",
     "output_type": "stream",
     "text": [
      "Translating OCR Files:  72%|███████▏  | 355/490 [3:00:12<2:26:18, 65.03s/file]"
     ]
    },
    {
     "name": "stdout",
     "output_type": "stream",
     "text": [
      " Saved translated file: b3031e66-40b6-45e8-9bcd-891dc1a280da_4.csv\n",
      "\n",
      "Processing file 356 of 490: b3031e66-40b6-45e8-9bcd-891dc1a280da_5.csv\n"
     ]
    },
    {
     "name": "stderr",
     "output_type": "stream",
     "text": [
      "Translating OCR Files:  73%|███████▎  | 356/490 [3:00:54<2:10:15, 58.32s/file]"
     ]
    },
    {
     "name": "stdout",
     "output_type": "stream",
     "text": [
      " Saved translated file: b3031e66-40b6-45e8-9bcd-891dc1a280da_5.csv\n",
      "\n",
      "Processing file 357 of 490: b3031e66-40b6-45e8-9bcd-891dc1a280da_6.csv\n"
     ]
    },
    {
     "name": "stderr",
     "output_type": "stream",
     "text": [
      "Translating OCR Files:  73%|███████▎  | 357/490 [3:02:24<2:30:04, 67.70s/file]"
     ]
    },
    {
     "name": "stdout",
     "output_type": "stream",
     "text": [
      " Saved translated file: b3031e66-40b6-45e8-9bcd-891dc1a280da_6.csv\n",
      "\n",
      "Processing file 358 of 490: b3031e66-40b6-45e8-9bcd-891dc1a280da_7.csv\n"
     ]
    },
    {
     "name": "stderr",
     "output_type": "stream",
     "text": [
      "Translating OCR Files:  73%|███████▎  | 358/490 [3:03:54<2:43:44, 74.43s/file]"
     ]
    },
    {
     "name": "stdout",
     "output_type": "stream",
     "text": [
      "Ollama error: HTTPConnectionPool(host='localhost', port=11434): Read timed out. (read timeout=90)\n",
      " Saved translated file: b3031e66-40b6-45e8-9bcd-891dc1a280da_7.csv\n",
      "\n",
      "Processing file 359 of 490: b3031e66-40b6-45e8-9bcd-891dc1a280da_8.csv\n"
     ]
    },
    {
     "name": "stderr",
     "output_type": "stream",
     "text": [
      "Translating OCR Files:  73%|███████▎  | 359/490 [3:05:06<2:40:46, 73.64s/file]"
     ]
    },
    {
     "name": "stdout",
     "output_type": "stream",
     "text": [
      " Saved translated file: b3031e66-40b6-45e8-9bcd-891dc1a280da_8.csv\n",
      "\n",
      "Processing file 360 of 490: b3031e66-40b6-45e8-9bcd-891dc1a280da_9.csv\n"
     ]
    },
    {
     "name": "stderr",
     "output_type": "stream",
     "text": [
      "Translating OCR Files:  73%|███████▎  | 360/490 [3:06:17<2:37:42, 72.79s/file]"
     ]
    },
    {
     "name": "stdout",
     "output_type": "stream",
     "text": [
      " Saved translated file: b3031e66-40b6-45e8-9bcd-891dc1a280da_9.csv\n",
      "\n",
      "Processing file 361 of 490: b3ce4d51-6024-4b43-b0d2-d3faaf3c2879.csv\n"
     ]
    },
    {
     "name": "stderr",
     "output_type": "stream",
     "text": [
      "Translating OCR Files:  74%|███████▎  | 361/490 [3:06:43<2:06:24, 58.80s/file]"
     ]
    },
    {
     "name": "stdout",
     "output_type": "stream",
     "text": [
      " Saved translated file: b3ce4d51-6024-4b43-b0d2-d3faaf3c2879.csv\n",
      "\n",
      "Processing file 362 of 490: b6eb1b15-cf99-475c-921f-f06e5c1019d4.csv\n"
     ]
    },
    {
     "name": "stderr",
     "output_type": "stream",
     "text": [
      "Translating OCR Files:  74%|███████▍  | 362/490 [3:07:10<1:45:24, 49.41s/file]"
     ]
    },
    {
     "name": "stdout",
     "output_type": "stream",
     "text": [
      " Saved translated file: b6eb1b15-cf99-475c-921f-f06e5c1019d4.csv\n",
      "\n",
      "Processing file 363 of 490: b8b76b6d-a50e-4246-82ee-3c8a5dcd523e.csv\n"
     ]
    },
    {
     "name": "stderr",
     "output_type": "stream",
     "text": [
      "Translating OCR Files:  74%|███████▍  | 363/490 [3:07:21<1:20:11, 37.88s/file]"
     ]
    },
    {
     "name": "stdout",
     "output_type": "stream",
     "text": [
      " Saved translated file: b8b76b6d-a50e-4246-82ee-3c8a5dcd523e.csv\n",
      "\n",
      "Processing file 364 of 490: b8cea3b1-4dde-4438-9b1a-6faf690bbad0.csv\n"
     ]
    },
    {
     "name": "stderr",
     "output_type": "stream",
     "text": [
      "Translating OCR Files:  74%|███████▍  | 364/490 [3:07:25<58:12, 27.72s/file]  "
     ]
    },
    {
     "name": "stdout",
     "output_type": "stream",
     "text": [
      " Saved translated file: b8cea3b1-4dde-4438-9b1a-6faf690bbad0.csv\n",
      "\n",
      "Processing file 365 of 490: b9d9c584-5e21-4a49-952b-ffecca4eb91e.csv\n"
     ]
    },
    {
     "name": "stderr",
     "output_type": "stream",
     "text": [
      "Translating OCR Files:  74%|███████▍  | 365/490 [3:08:12<1:09:18, 33.27s/file]"
     ]
    },
    {
     "name": "stdout",
     "output_type": "stream",
     "text": [
      " Saved translated file: b9d9c584-5e21-4a49-952b-ffecca4eb91e.csv\n",
      "\n",
      "Processing file 366 of 490: bcad4fdf-3771-4873-92fa-23240654118a.csv\n"
     ]
    },
    {
     "name": "stderr",
     "output_type": "stream",
     "text": [
      "Translating OCR Files:  75%|███████▍  | 366/490 [3:08:28<58:02, 28.08s/file]  "
     ]
    },
    {
     "name": "stdout",
     "output_type": "stream",
     "text": [
      " Saved translated file: bcad4fdf-3771-4873-92fa-23240654118a.csv\n",
      "\n",
      "Processing file 367 of 490: c5f1d959-39d1-4176-9cb1-1fb6e8baedc3.csv\n"
     ]
    },
    {
     "name": "stderr",
     "output_type": "stream",
     "text": [
      "Translating OCR Files:  75%|███████▍  | 367/490 [3:08:49<53:42, 26.20s/file]"
     ]
    },
    {
     "name": "stdout",
     "output_type": "stream",
     "text": [
      " Saved translated file: c5f1d959-39d1-4176-9cb1-1fb6e8baedc3.csv\n",
      "\n",
      "Processing file 368 of 490: d410e4aa-fb52-4ed4-9078-4483267a02b3_0.csv\n"
     ]
    },
    {
     "name": "stderr",
     "output_type": "stream",
     "text": [
      "Translating OCR Files:  75%|███████▌  | 368/490 [3:10:08<1:25:14, 41.92s/file]"
     ]
    },
    {
     "name": "stdout",
     "output_type": "stream",
     "text": [
      " Saved translated file: d410e4aa-fb52-4ed4-9078-4483267a02b3_0.csv\n",
      "\n",
      "Processing file 369 of 490: d410e4aa-fb52-4ed4-9078-4483267a02b3_1.csv\n"
     ]
    },
    {
     "name": "stderr",
     "output_type": "stream",
     "text": [
      "Translating OCR Files:  75%|███████▌  | 369/490 [3:11:38<1:53:38, 56.35s/file]"
     ]
    },
    {
     "name": "stdout",
     "output_type": "stream",
     "text": [
      " Saved translated file: d410e4aa-fb52-4ed4-9078-4483267a02b3_1.csv\n",
      "\n",
      "Processing file 370 of 490: d410e4aa-fb52-4ed4-9078-4483267a02b3_2.csv\n"
     ]
    },
    {
     "name": "stderr",
     "output_type": "stream",
     "text": [
      "Translating OCR Files:  76%|███████▌  | 370/490 [3:13:02<2:09:34, 64.79s/file]"
     ]
    },
    {
     "name": "stdout",
     "output_type": "stream",
     "text": [
      " Saved translated file: d410e4aa-fb52-4ed4-9078-4483267a02b3_2.csv\n",
      "\n",
      "Processing file 371 of 490: d410e4aa-fb52-4ed4-9078-4483267a02b3_3.csv\n"
     ]
    },
    {
     "name": "stderr",
     "output_type": "stream",
     "text": [
      "Translating OCR Files:  76%|███████▌  | 371/490 [3:14:10<2:10:20, 65.72s/file]"
     ]
    },
    {
     "name": "stdout",
     "output_type": "stream",
     "text": [
      " Saved translated file: d410e4aa-fb52-4ed4-9078-4483267a02b3_3.csv\n",
      "\n",
      "Processing file 372 of 490: d410e4aa-fb52-4ed4-9078-4483267a02b3_4.csv\n"
     ]
    },
    {
     "name": "stderr",
     "output_type": "stream",
     "text": [
      "Translating OCR Files:  76%|███████▌  | 372/490 [3:14:31<1:42:58, 52.36s/file]"
     ]
    },
    {
     "name": "stdout",
     "output_type": "stream",
     "text": [
      " Saved translated file: d410e4aa-fb52-4ed4-9078-4483267a02b3_4.csv\n",
      "\n",
      "Processing file 373 of 490: d5ff8b65-db15-418a-b33e-169498d79110_0.csv\n"
     ]
    },
    {
     "name": "stderr",
     "output_type": "stream",
     "text": [
      "Translating OCR Files:  76%|███████▌  | 373/490 [3:14:36<1:13:51, 37.88s/file]"
     ]
    },
    {
     "name": "stdout",
     "output_type": "stream",
     "text": [
      " Saved translated file: d5ff8b65-db15-418a-b33e-169498d79110_0.csv\n",
      "\n",
      "Processing file 374 of 490: d5ff8b65-db15-418a-b33e-169498d79110_1.csv\n"
     ]
    },
    {
     "name": "stderr",
     "output_type": "stream",
     "text": [
      "Translating OCR Files:  76%|███████▋  | 374/490 [3:14:46<57:19, 29.65s/file]  "
     ]
    },
    {
     "name": "stdout",
     "output_type": "stream",
     "text": [
      " Saved translated file: d5ff8b65-db15-418a-b33e-169498d79110_1.csv\n",
      "\n",
      "Processing file 375 of 490: d5ff8b65-db15-418a-b33e-169498d79110_10.csv\n"
     ]
    },
    {
     "name": "stderr",
     "output_type": "stream",
     "text": [
      "Translating OCR Files:  77%|███████▋  | 375/490 [3:15:00<47:40, 24.87s/file]"
     ]
    },
    {
     "name": "stdout",
     "output_type": "stream",
     "text": [
      " Saved translated file: d5ff8b65-db15-418a-b33e-169498d79110_10.csv\n",
      "\n",
      "Processing file 376 of 490: d5ff8b65-db15-418a-b33e-169498d79110_11.csv\n"
     ]
    },
    {
     "name": "stderr",
     "output_type": "stream",
     "text": [
      "Translating OCR Files:  77%|███████▋  | 376/490 [3:15:21<44:56, 23.65s/file]"
     ]
    },
    {
     "name": "stdout",
     "output_type": "stream",
     "text": [
      " Saved translated file: d5ff8b65-db15-418a-b33e-169498d79110_11.csv\n",
      "\n",
      "Processing file 377 of 490: d5ff8b65-db15-418a-b33e-169498d79110_12.csv\n"
     ]
    },
    {
     "name": "stderr",
     "output_type": "stream",
     "text": [
      "Translating OCR Files:  77%|███████▋  | 377/490 [3:15:41<42:34, 22.60s/file]"
     ]
    },
    {
     "name": "stdout",
     "output_type": "stream",
     "text": [
      " Saved translated file: d5ff8b65-db15-418a-b33e-169498d79110_12.csv\n",
      "\n",
      "Processing file 378 of 490: d5ff8b65-db15-418a-b33e-169498d79110_13.csv\n"
     ]
    },
    {
     "name": "stderr",
     "output_type": "stream",
     "text": [
      "Translating OCR Files:  77%|███████▋  | 378/490 [3:15:53<36:31, 19.57s/file]"
     ]
    },
    {
     "name": "stdout",
     "output_type": "stream",
     "text": [
      " Saved translated file: d5ff8b65-db15-418a-b33e-169498d79110_13.csv\n",
      "\n",
      "Processing file 379 of 490: d5ff8b65-db15-418a-b33e-169498d79110_14.csv\n"
     ]
    },
    {
     "name": "stderr",
     "output_type": "stream",
     "text": [
      "Translating OCR Files:  77%|███████▋  | 379/490 [3:16:07<33:09, 17.92s/file]"
     ]
    },
    {
     "name": "stdout",
     "output_type": "stream",
     "text": [
      " Saved translated file: d5ff8b65-db15-418a-b33e-169498d79110_14.csv\n",
      "\n",
      "Processing file 380 of 490: d5ff8b65-db15-418a-b33e-169498d79110_15.csv\n"
     ]
    },
    {
     "name": "stderr",
     "output_type": "stream",
     "text": [
      "Translating OCR Files:  78%|███████▊  | 380/490 [3:16:22<30:49, 16.81s/file]"
     ]
    },
    {
     "name": "stdout",
     "output_type": "stream",
     "text": [
      " Saved translated file: d5ff8b65-db15-418a-b33e-169498d79110_15.csv\n",
      "\n",
      "Processing file 381 of 490: d5ff8b65-db15-418a-b33e-169498d79110_16.csv\n"
     ]
    },
    {
     "name": "stderr",
     "output_type": "stream",
     "text": [
      "Translating OCR Files:  78%|███████▊  | 381/490 [3:16:33<27:49, 15.32s/file]"
     ]
    },
    {
     "name": "stdout",
     "output_type": "stream",
     "text": [
      " Saved translated file: d5ff8b65-db15-418a-b33e-169498d79110_16.csv\n",
      "\n",
      "Processing file 382 of 490: d5ff8b65-db15-418a-b33e-169498d79110_17.csv\n"
     ]
    },
    {
     "name": "stderr",
     "output_type": "stream",
     "text": [
      "Translating OCR Files:  78%|███████▊  | 382/490 [3:16:45<25:44, 14.30s/file]"
     ]
    },
    {
     "name": "stdout",
     "output_type": "stream",
     "text": [
      " Saved translated file: d5ff8b65-db15-418a-b33e-169498d79110_17.csv\n",
      "\n",
      "Processing file 383 of 490: d5ff8b65-db15-418a-b33e-169498d79110_18.csv\n"
     ]
    },
    {
     "name": "stderr",
     "output_type": "stream",
     "text": [
      "Translating OCR Files:  78%|███████▊  | 383/490 [3:17:00<25:40, 14.40s/file]"
     ]
    },
    {
     "name": "stdout",
     "output_type": "stream",
     "text": [
      " Saved translated file: d5ff8b65-db15-418a-b33e-169498d79110_18.csv\n",
      "\n",
      "Processing file 384 of 490: d5ff8b65-db15-418a-b33e-169498d79110_19.csv\n"
     ]
    },
    {
     "name": "stderr",
     "output_type": "stream",
     "text": [
      "Translating OCR Files:  78%|███████▊  | 384/490 [3:17:30<33:43, 19.09s/file]"
     ]
    },
    {
     "name": "stdout",
     "output_type": "stream",
     "text": [
      " Saved translated file: d5ff8b65-db15-418a-b33e-169498d79110_19.csv\n",
      "\n",
      "Processing file 385 of 490: d5ff8b65-db15-418a-b33e-169498d79110_2.csv\n"
     ]
    },
    {
     "name": "stderr",
     "output_type": "stream",
     "text": [
      "Translating OCR Files:  79%|███████▊  | 385/490 [3:18:11<45:09, 25.81s/file]"
     ]
    },
    {
     "name": "stdout",
     "output_type": "stream",
     "text": [
      " Saved translated file: d5ff8b65-db15-418a-b33e-169498d79110_2.csv\n",
      "\n",
      "Processing file 386 of 490: d5ff8b65-db15-418a-b33e-169498d79110_20.csv\n"
     ]
    },
    {
     "name": "stderr",
     "output_type": "stream",
     "text": [
      "Translating OCR Files:  79%|███████▉  | 386/490 [3:18:57<54:57, 31.71s/file]"
     ]
    },
    {
     "name": "stdout",
     "output_type": "stream",
     "text": [
      " Saved translated file: d5ff8b65-db15-418a-b33e-169498d79110_20.csv\n",
      "\n",
      "Processing file 387 of 490: d5ff8b65-db15-418a-b33e-169498d79110_21.csv\n"
     ]
    },
    {
     "name": "stderr",
     "output_type": "stream",
     "text": [
      "Translating OCR Files:  79%|███████▉  | 387/490 [3:19:38<59:31, 34.68s/file]"
     ]
    },
    {
     "name": "stdout",
     "output_type": "stream",
     "text": [
      " Saved translated file: d5ff8b65-db15-418a-b33e-169498d79110_21.csv\n",
      "\n",
      "Processing file 388 of 490: d5ff8b65-db15-418a-b33e-169498d79110_3.csv\n"
     ]
    },
    {
     "name": "stderr",
     "output_type": "stream",
     "text": [
      "Translating OCR Files:  79%|███████▉  | 388/490 [3:20:59<1:22:28, 48.52s/file]"
     ]
    },
    {
     "name": "stdout",
     "output_type": "stream",
     "text": [
      " Saved translated file: d5ff8b65-db15-418a-b33e-169498d79110_3.csv\n",
      "\n",
      "Processing file 389 of 490: d5ff8b65-db15-418a-b33e-169498d79110_4.csv\n"
     ]
    },
    {
     "name": "stderr",
     "output_type": "stream",
     "text": [
      "Translating OCR Files:  79%|███████▉  | 389/490 [3:22:13<1:34:12, 55.96s/file]"
     ]
    },
    {
     "name": "stdout",
     "output_type": "stream",
     "text": [
      " Saved translated file: d5ff8b65-db15-418a-b33e-169498d79110_4.csv\n",
      "\n",
      "Processing file 390 of 490: d5ff8b65-db15-418a-b33e-169498d79110_5.csv\n"
     ]
    },
    {
     "name": "stderr",
     "output_type": "stream",
     "text": [
      "Translating OCR Files:  80%|███████▉  | 390/490 [3:22:46<1:21:47, 49.07s/file]"
     ]
    },
    {
     "name": "stdout",
     "output_type": "stream",
     "text": [
      " Saved translated file: d5ff8b65-db15-418a-b33e-169498d79110_5.csv\n",
      "\n",
      "Processing file 391 of 490: d5ff8b65-db15-418a-b33e-169498d79110_6.csv\n"
     ]
    },
    {
     "name": "stderr",
     "output_type": "stream",
     "text": [
      "Translating OCR Files:  80%|███████▉  | 391/490 [3:23:16<1:11:37, 43.41s/file]"
     ]
    },
    {
     "name": "stdout",
     "output_type": "stream",
     "text": [
      " Saved translated file: d5ff8b65-db15-418a-b33e-169498d79110_6.csv\n",
      "\n",
      "Processing file 392 of 490: d5ff8b65-db15-418a-b33e-169498d79110_7.csv\n"
     ]
    },
    {
     "name": "stderr",
     "output_type": "stream",
     "text": [
      "Translating OCR Files:  80%|████████  | 392/490 [3:23:40<1:01:16, 37.52s/file]"
     ]
    },
    {
     "name": "stdout",
     "output_type": "stream",
     "text": [
      " Saved translated file: d5ff8b65-db15-418a-b33e-169498d79110_7.csv\n",
      "\n",
      "Processing file 393 of 490: d5ff8b65-db15-418a-b33e-169498d79110_8.csv\n"
     ]
    },
    {
     "name": "stderr",
     "output_type": "stream",
     "text": [
      "Translating OCR Files:  80%|████████  | 393/490 [3:24:04<54:07, 33.48s/file]  "
     ]
    },
    {
     "name": "stdout",
     "output_type": "stream",
     "text": [
      " Saved translated file: d5ff8b65-db15-418a-b33e-169498d79110_8.csv\n",
      "\n",
      "Processing file 394 of 490: d5ff8b65-db15-418a-b33e-169498d79110_9.csv\n"
     ]
    },
    {
     "name": "stderr",
     "output_type": "stream",
     "text": [
      "Translating OCR Files:  80%|████████  | 394/490 [3:24:22<46:15, 28.91s/file]"
     ]
    },
    {
     "name": "stdout",
     "output_type": "stream",
     "text": [
      " Saved translated file: d5ff8b65-db15-418a-b33e-169498d79110_9.csv\n",
      "\n",
      "Processing file 395 of 490: dbc9c90e-a3e6-4d71-bb93-5fb8394095ac_0.csv\n"
     ]
    },
    {
     "name": "stderr",
     "output_type": "stream",
     "text": [
      "Translating OCR Files:  81%|████████  | 395/490 [3:24:34<37:58, 23.99s/file]"
     ]
    },
    {
     "name": "stdout",
     "output_type": "stream",
     "text": [
      " Saved translated file: dbc9c90e-a3e6-4d71-bb93-5fb8394095ac_0.csv\n",
      "\n",
      "Processing file 396 of 490: dd5b6a38-dc17-4122-a242-32006b381b3a.csv\n"
     ]
    },
    {
     "name": "stderr",
     "output_type": "stream",
     "text": [
      "Translating OCR Files:  81%|████████  | 396/490 [3:25:01<38:47, 24.76s/file]"
     ]
    },
    {
     "name": "stdout",
     "output_type": "stream",
     "text": [
      " Saved translated file: dd5b6a38-dc17-4122-a242-32006b381b3a.csv\n",
      "\n",
      "Processing file 397 of 490: de359f8d-0745-4a93-959a-d1a6c361e326.csv\n"
     ]
    },
    {
     "name": "stderr",
     "output_type": "stream",
     "text": [
      "Translating OCR Files:  81%|████████  | 397/490 [3:25:13<32:40, 21.08s/file]"
     ]
    },
    {
     "name": "stdout",
     "output_type": "stream",
     "text": [
      " Saved translated file: de359f8d-0745-4a93-959a-d1a6c361e326.csv\n",
      "\n",
      "Processing file 398 of 490: e07a9457-86f1-4f0f-86d7-8ea816b8d8d3.csv\n"
     ]
    },
    {
     "name": "stderr",
     "output_type": "stream",
     "text": [
      "Translating OCR Files:  81%|████████  | 398/490 [3:25:23<26:53, 17.53s/file]"
     ]
    },
    {
     "name": "stdout",
     "output_type": "stream",
     "text": [
      " Saved translated file: e07a9457-86f1-4f0f-86d7-8ea816b8d8d3.csv\n",
      "\n",
      "Processing file 399 of 490: e182d867-dc18-43fd-a418-26dcf784242f_1_0.csv\n"
     ]
    },
    {
     "name": "stderr",
     "output_type": "stream",
     "text": [
      "Translating OCR Files:  81%|████████▏ | 399/490 [3:26:38<52:40, 34.73s/file]"
     ]
    },
    {
     "name": "stdout",
     "output_type": "stream",
     "text": [
      " Saved translated file: e182d867-dc18-43fd-a418-26dcf784242f_1_0.csv\n",
      "\n",
      "Processing file 400 of 490: e182d867-dc18-43fd-a418-26dcf784242f_1_1.csv\n"
     ]
    },
    {
     "name": "stderr",
     "output_type": "stream",
     "text": [
      "Translating OCR Files:  82%|████████▏ | 400/490 [3:27:39<1:04:10, 42.78s/file]"
     ]
    },
    {
     "name": "stdout",
     "output_type": "stream",
     "text": [
      " Saved translated file: e182d867-dc18-43fd-a418-26dcf784242f_1_1.csv\n",
      "\n",
      "Processing file 401 of 490: e182d867-dc18-43fd-a418-26dcf784242f_1_2.csv\n"
     ]
    },
    {
     "name": "stderr",
     "output_type": "stream",
     "text": [
      "Translating OCR Files:  82%|████████▏ | 401/490 [3:29:09<1:24:31, 56.98s/file]"
     ]
    },
    {
     "name": "stdout",
     "output_type": "stream",
     "text": [
      "Ollama error: HTTPConnectionPool(host='localhost', port=11434): Read timed out. (read timeout=90)\n",
      " Saved translated file: e182d867-dc18-43fd-a418-26dcf784242f_1_2.csv\n",
      "\n",
      "Processing file 402 of 490: e182d867-dc18-43fd-a418-26dcf784242f_1_3.csv\n"
     ]
    },
    {
     "name": "stderr",
     "output_type": "stream",
     "text": [
      "Translating OCR Files:  82%|████████▏ | 402/490 [3:30:29<1:33:28, 63.74s/file]"
     ]
    },
    {
     "name": "stdout",
     "output_type": "stream",
     "text": [
      " Saved translated file: e182d867-dc18-43fd-a418-26dcf784242f_1_3.csv\n",
      "\n",
      "Processing file 403 of 490: e182d867-dc18-43fd-a418-26dcf784242f_1_4.csv\n"
     ]
    },
    {
     "name": "stderr",
     "output_type": "stream",
     "text": [
      "Translating OCR Files:  82%|████████▏ | 403/490 [3:31:59<1:43:53, 71.65s/file]"
     ]
    },
    {
     "name": "stdout",
     "output_type": "stream",
     "text": [
      "Ollama error: HTTPConnectionPool(host='localhost', port=11434): Read timed out. (read timeout=90)\n",
      " Saved translated file: e182d867-dc18-43fd-a418-26dcf784242f_1_4.csv\n",
      "\n",
      "Processing file 404 of 490: e182d867-dc18-43fd-a418-26dcf784242f_2_0.csv\n"
     ]
    },
    {
     "name": "stderr",
     "output_type": "stream",
     "text": [
      "Translating OCR Files:  82%|████████▏ | 404/490 [3:33:29<1:50:38, 77.20s/file]"
     ]
    },
    {
     "name": "stdout",
     "output_type": "stream",
     "text": [
      "Ollama error: HTTPConnectionPool(host='localhost', port=11434): Read timed out. (read timeout=90)\n",
      " Saved translated file: e182d867-dc18-43fd-a418-26dcf784242f_2_0.csv\n",
      "\n",
      "Processing file 405 of 490: e182d867-dc18-43fd-a418-26dcf784242f_2_1.csv\n"
     ]
    },
    {
     "name": "stderr",
     "output_type": "stream",
     "text": [
      "Translating OCR Files:  83%|████████▎ | 405/490 [3:34:59<1:54:51, 81.08s/file]"
     ]
    },
    {
     "name": "stdout",
     "output_type": "stream",
     "text": [
      "Ollama error: HTTPConnectionPool(host='localhost', port=11434): Read timed out. (read timeout=90)\n",
      " Saved translated file: e182d867-dc18-43fd-a418-26dcf784242f_2_1.csv\n",
      "\n",
      "Processing file 406 of 490: e182d867-dc18-43fd-a418-26dcf784242f_2_2.csv\n"
     ]
    },
    {
     "name": "stderr",
     "output_type": "stream",
     "text": [
      "Translating OCR Files:  83%|████████▎ | 406/490 [3:36:29<1:57:18, 83.79s/file]"
     ]
    },
    {
     "name": "stdout",
     "output_type": "stream",
     "text": [
      "Ollama error: HTTPConnectionPool(host='localhost', port=11434): Read timed out. (read timeout=90)\n",
      " Saved translated file: e182d867-dc18-43fd-a418-26dcf784242f_2_2.csv\n",
      "\n",
      "Processing file 407 of 490: e182d867-dc18-43fd-a418-26dcf784242f_2_3.csv\n"
     ]
    },
    {
     "name": "stderr",
     "output_type": "stream",
     "text": [
      "Translating OCR Files:  83%|████████▎ | 407/490 [3:36:31<1:22:00, 59.29s/file]"
     ]
    },
    {
     "name": "stdout",
     "output_type": "stream",
     "text": [
      " Saved translated file: e182d867-dc18-43fd-a418-26dcf784242f_2_3.csv\n",
      "\n",
      "Processing file 408 of 490: e182d867-dc18-43fd-a418-26dcf784242f_3_0.csv\n"
     ]
    },
    {
     "name": "stderr",
     "output_type": "stream",
     "text": [
      "Translating OCR Files:  83%|████████▎ | 408/490 [3:37:26<1:19:05, 57.87s/file]"
     ]
    },
    {
     "name": "stdout",
     "output_type": "stream",
     "text": [
      " Saved translated file: e182d867-dc18-43fd-a418-26dcf784242f_3_0.csv\n",
      "\n",
      "Processing file 409 of 490: e705d192-90ee-4fd1-9dcd-061958d1817f.csv\n"
     ]
    },
    {
     "name": "stderr",
     "output_type": "stream",
     "text": [
      "Translating OCR Files:  83%|████████▎ | 409/490 [3:37:29<55:46, 41.32s/file]  "
     ]
    },
    {
     "name": "stdout",
     "output_type": "stream",
     "text": [
      " Saved translated file: e705d192-90ee-4fd1-9dcd-061958d1817f.csv\n",
      "\n",
      "Processing file 410 of 490: eda5b003-9250-4913-b724-74cca86240af_0.csv\n"
     ]
    },
    {
     "name": "stderr",
     "output_type": "stream",
     "text": [
      "Translating OCR Files:  84%|████████▎ | 410/490 [3:37:36<41:36, 31.21s/file]"
     ]
    },
    {
     "name": "stdout",
     "output_type": "stream",
     "text": [
      " Saved translated file: eda5b003-9250-4913-b724-74cca86240af_0.csv\n",
      "\n",
      "Processing file 411 of 490: eda5b003-9250-4913-b724-74cca86240af_1.csv\n"
     ]
    },
    {
     "name": "stderr",
     "output_type": "stream",
     "text": [
      "Translating OCR Files:  84%|████████▍ | 411/490 [3:37:39<29:54, 22.72s/file]"
     ]
    },
    {
     "name": "stdout",
     "output_type": "stream",
     "text": [
      " Saved translated file: eda5b003-9250-4913-b724-74cca86240af_1.csv\n",
      "\n",
      "Processing file 412 of 490: eda5b003-9250-4913-b724-74cca86240af_10.csv\n"
     ]
    },
    {
     "name": "stderr",
     "output_type": "stream",
     "text": [
      "Translating OCR Files:  84%|████████▍ | 412/490 [3:38:26<38:46, 29.83s/file]"
     ]
    },
    {
     "name": "stdout",
     "output_type": "stream",
     "text": [
      " Saved translated file: eda5b003-9250-4913-b724-74cca86240af_10.csv\n",
      "\n",
      "Processing file 413 of 490: eda5b003-9250-4913-b724-74cca86240af_11.csv\n"
     ]
    },
    {
     "name": "stderr",
     "output_type": "stream",
     "text": [
      "Translating OCR Files:  84%|████████▍ | 413/490 [3:39:04<41:31, 32.35s/file]"
     ]
    },
    {
     "name": "stdout",
     "output_type": "stream",
     "text": [
      " Saved translated file: eda5b003-9250-4913-b724-74cca86240af_11.csv\n",
      "\n",
      "Processing file 414 of 490: eda5b003-9250-4913-b724-74cca86240af_12.csv\n"
     ]
    },
    {
     "name": "stderr",
     "output_type": "stream",
     "text": [
      "Translating OCR Files:  84%|████████▍ | 414/490 [3:40:27<1:00:13, 47.54s/file]"
     ]
    },
    {
     "name": "stdout",
     "output_type": "stream",
     "text": [
      " Saved translated file: eda5b003-9250-4913-b724-74cca86240af_12.csv\n",
      "\n",
      "Processing file 415 of 490: eda5b003-9250-4913-b724-74cca86240af_13.csv\n"
     ]
    },
    {
     "name": "stderr",
     "output_type": "stream",
     "text": [
      "Translating OCR Files:  85%|████████▍ | 415/490 [3:41:57<1:15:24, 60.32s/file]"
     ]
    },
    {
     "name": "stdout",
     "output_type": "stream",
     "text": [
      "Ollama error: HTTPConnectionPool(host='localhost', port=11434): Read timed out. (read timeout=90)\n",
      " Saved translated file: eda5b003-9250-4913-b724-74cca86240af_13.csv\n",
      "\n",
      "Processing file 416 of 490: eda5b003-9250-4913-b724-74cca86240af_14.csv\n"
     ]
    },
    {
     "name": "stderr",
     "output_type": "stream",
     "text": [
      "Translating OCR Files:  85%|████████▍ | 416/490 [3:42:41<1:08:13, 55.32s/file]"
     ]
    },
    {
     "name": "stdout",
     "output_type": "stream",
     "text": [
      " Saved translated file: eda5b003-9250-4913-b724-74cca86240af_14.csv\n",
      "\n",
      "Processing file 417 of 490: eda5b003-9250-4913-b724-74cca86240af_2.csv\n"
     ]
    },
    {
     "name": "stderr",
     "output_type": "stream",
     "text": [
      "Translating OCR Files:  85%|████████▌ | 417/490 [3:43:20<1:01:33, 50.60s/file]"
     ]
    },
    {
     "name": "stdout",
     "output_type": "stream",
     "text": [
      " Saved translated file: eda5b003-9250-4913-b724-74cca86240af_2.csv\n",
      "\n",
      "Processing file 418 of 490: eda5b003-9250-4913-b724-74cca86240af_3.csv\n"
     ]
    },
    {
     "name": "stderr",
     "output_type": "stream",
     "text": [
      "Translating OCR Files:  85%|████████▌ | 418/490 [3:44:14<1:01:42, 51.42s/file]"
     ]
    },
    {
     "name": "stdout",
     "output_type": "stream",
     "text": [
      " Saved translated file: eda5b003-9250-4913-b724-74cca86240af_3.csv\n",
      "\n",
      "Processing file 419 of 490: eda5b003-9250-4913-b724-74cca86240af_4.csv\n"
     ]
    },
    {
     "name": "stderr",
     "output_type": "stream",
     "text": [
      "Translating OCR Files:  86%|████████▌ | 419/490 [3:45:09<1:02:20, 52.68s/file]"
     ]
    },
    {
     "name": "stdout",
     "output_type": "stream",
     "text": [
      " Saved translated file: eda5b003-9250-4913-b724-74cca86240af_4.csv\n",
      "\n",
      "Processing file 420 of 490: eda5b003-9250-4913-b724-74cca86240af_5.csv\n"
     ]
    },
    {
     "name": "stderr",
     "output_type": "stream",
     "text": [
      "Translating OCR Files:  86%|████████▌ | 420/490 [3:45:42<54:30, 46.73s/file]  "
     ]
    },
    {
     "name": "stdout",
     "output_type": "stream",
     "text": [
      " Saved translated file: eda5b003-9250-4913-b724-74cca86240af_5.csv\n",
      "\n",
      "Processing file 421 of 490: eda5b003-9250-4913-b724-74cca86240af_6.csv\n"
     ]
    },
    {
     "name": "stderr",
     "output_type": "stream",
     "text": [
      "Translating OCR Files:  86%|████████▌ | 421/490 [3:46:21<51:12, 44.53s/file]"
     ]
    },
    {
     "name": "stdout",
     "output_type": "stream",
     "text": [
      " Saved translated file: eda5b003-9250-4913-b724-74cca86240af_6.csv\n",
      "\n",
      "Processing file 422 of 490: eda5b003-9250-4913-b724-74cca86240af_7.csv\n"
     ]
    },
    {
     "name": "stderr",
     "output_type": "stream",
     "text": [
      "Translating OCR Files:  86%|████████▌ | 422/490 [3:47:01<48:57, 43.19s/file]"
     ]
    },
    {
     "name": "stdout",
     "output_type": "stream",
     "text": [
      " Saved translated file: eda5b003-9250-4913-b724-74cca86240af_7.csv\n",
      "\n",
      "Processing file 423 of 490: eda5b003-9250-4913-b724-74cca86240af_8.csv\n"
     ]
    },
    {
     "name": "stderr",
     "output_type": "stream",
     "text": [
      "Translating OCR Files:  86%|████████▋ | 423/490 [3:47:36<45:15, 40.53s/file]"
     ]
    },
    {
     "name": "stdout",
     "output_type": "stream",
     "text": [
      " Saved translated file: eda5b003-9250-4913-b724-74cca86240af_8.csv\n",
      "\n",
      "Processing file 424 of 490: eda5b003-9250-4913-b724-74cca86240af_9.csv\n"
     ]
    },
    {
     "name": "stderr",
     "output_type": "stream",
     "text": [
      "Translating OCR Files:  87%|████████▋ | 424/490 [3:48:41<52:34, 47.80s/file]"
     ]
    },
    {
     "name": "stdout",
     "output_type": "stream",
     "text": [
      " Saved translated file: eda5b003-9250-4913-b724-74cca86240af_9.csv\n",
      "\n",
      "Processing file 425 of 490: ee47dfea-2626-4107-8ab3-4663167e0493.csv\n"
     ]
    },
    {
     "name": "stderr",
     "output_type": "stream",
     "text": [
      "Translating OCR Files:  87%|████████▋ | 425/490 [3:49:21<49:19, 45.52s/file]"
     ]
    },
    {
     "name": "stdout",
     "output_type": "stream",
     "text": [
      " Saved translated file: ee47dfea-2626-4107-8ab3-4663167e0493.csv\n",
      "\n",
      "Processing file 426 of 490: f0ce8a7b-909d-4fc5-ba13-ea66b2dc6448.csv\n"
     ]
    },
    {
     "name": "stderr",
     "output_type": "stream",
     "text": [
      "Translating OCR Files:  87%|████████▋ | 426/490 [3:49:23<34:47, 32.62s/file]"
     ]
    },
    {
     "name": "stdout",
     "output_type": "stream",
     "text": [
      " Saved translated file: f0ce8a7b-909d-4fc5-ba13-ea66b2dc6448.csv\n",
      "\n",
      "Processing file 427 of 490: f179eb06-0c53-44df-a13f-570be23355bb_0.csv\n"
     ]
    },
    {
     "name": "stderr",
     "output_type": "stream",
     "text": [
      "Translating OCR Files:  87%|████████▋ | 427/490 [3:49:28<25:28, 24.26s/file]"
     ]
    },
    {
     "name": "stdout",
     "output_type": "stream",
     "text": [
      " Saved translated file: f179eb06-0c53-44df-a13f-570be23355bb_0.csv\n",
      "\n",
      "Processing file 428 of 490: f179eb06-0c53-44df-a13f-570be23355bb_1.csv\n"
     ]
    },
    {
     "name": "stderr",
     "output_type": "stream",
     "text": [
      "Translating OCR Files:  87%|████████▋ | 428/490 [3:49:29<17:59, 17.42s/file]"
     ]
    },
    {
     "name": "stdout",
     "output_type": "stream",
     "text": [
      " Saved translated file: f179eb06-0c53-44df-a13f-570be23355bb_1.csv\n",
      "\n",
      "Processing file 429 of 490: f179eb06-0c53-44df-a13f-570be23355bb_10.csv\n"
     ]
    },
    {
     "name": "stderr",
     "output_type": "stream",
     "text": [
      "Translating OCR Files:  88%|████████▊ | 429/490 [3:49:56<20:32, 20.21s/file]"
     ]
    },
    {
     "name": "stdout",
     "output_type": "stream",
     "text": [
      " Saved translated file: f179eb06-0c53-44df-a13f-570be23355bb_10.csv\n",
      "\n",
      "Processing file 430 of 490: f179eb06-0c53-44df-a13f-570be23355bb_11.csv\n"
     ]
    },
    {
     "name": "stderr",
     "output_type": "stream",
     "text": [
      "Translating OCR Files:  88%|████████▊ | 430/490 [3:50:27<23:14, 23.25s/file]"
     ]
    },
    {
     "name": "stdout",
     "output_type": "stream",
     "text": [
      " Saved translated file: f179eb06-0c53-44df-a13f-570be23355bb_11.csv\n",
      "\n",
      "Processing file 431 of 490: f179eb06-0c53-44df-a13f-570be23355bb_12.csv\n"
     ]
    },
    {
     "name": "stderr",
     "output_type": "stream",
     "text": [
      "Translating OCR Files:  88%|████████▊ | 431/490 [3:51:01<26:11, 26.64s/file]"
     ]
    },
    {
     "name": "stdout",
     "output_type": "stream",
     "text": [
      " Saved translated file: f179eb06-0c53-44df-a13f-570be23355bb_12.csv\n",
      "\n",
      "Processing file 432 of 490: f179eb06-0c53-44df-a13f-570be23355bb_13.csv\n"
     ]
    },
    {
     "name": "stderr",
     "output_type": "stream",
     "text": [
      "Translating OCR Files:  88%|████████▊ | 432/490 [3:51:22<24:04, 24.90s/file]"
     ]
    },
    {
     "name": "stdout",
     "output_type": "stream",
     "text": [
      " Saved translated file: f179eb06-0c53-44df-a13f-570be23355bb_13.csv\n",
      "\n",
      "Processing file 433 of 490: f179eb06-0c53-44df-a13f-570be23355bb_14.csv\n"
     ]
    },
    {
     "name": "stderr",
     "output_type": "stream",
     "text": [
      "Translating OCR Files:  88%|████████▊ | 433/490 [3:51:43<22:40, 23.87s/file]"
     ]
    },
    {
     "name": "stdout",
     "output_type": "stream",
     "text": [
      " Saved translated file: f179eb06-0c53-44df-a13f-570be23355bb_14.csv\n",
      "\n",
      "Processing file 434 of 490: f179eb06-0c53-44df-a13f-570be23355bb_15.csv\n"
     ]
    },
    {
     "name": "stderr",
     "output_type": "stream",
     "text": [
      "Translating OCR Files:  89%|████████▊ | 434/490 [3:52:33<29:21, 31.45s/file]"
     ]
    },
    {
     "name": "stdout",
     "output_type": "stream",
     "text": [
      " Saved translated file: f179eb06-0c53-44df-a13f-570be23355bb_15.csv\n",
      "\n",
      "Processing file 435 of 490: f179eb06-0c53-44df-a13f-570be23355bb_16.csv\n"
     ]
    },
    {
     "name": "stderr",
     "output_type": "stream",
     "text": [
      "Translating OCR Files:  89%|████████▉ | 435/490 [3:52:56<26:45, 29.19s/file]"
     ]
    },
    {
     "name": "stdout",
     "output_type": "stream",
     "text": [
      " Saved translated file: f179eb06-0c53-44df-a13f-570be23355bb_16.csv\n",
      "\n",
      "Processing file 436 of 490: f179eb06-0c53-44df-a13f-570be23355bb_17.csv\n"
     ]
    },
    {
     "name": "stderr",
     "output_type": "stream",
     "text": [
      "Translating OCR Files:  89%|████████▉ | 436/490 [3:53:24<25:56, 28.83s/file]"
     ]
    },
    {
     "name": "stdout",
     "output_type": "stream",
     "text": [
      " Saved translated file: f179eb06-0c53-44df-a13f-570be23355bb_17.csv\n",
      "\n",
      "Processing file 437 of 490: f179eb06-0c53-44df-a13f-570be23355bb_18.csv\n"
     ]
    },
    {
     "name": "stderr",
     "output_type": "stream",
     "text": [
      "Translating OCR Files:  89%|████████▉ | 437/490 [3:54:00<27:09, 30.74s/file]"
     ]
    },
    {
     "name": "stdout",
     "output_type": "stream",
     "text": [
      " Saved translated file: f179eb06-0c53-44df-a13f-570be23355bb_18.csv\n",
      "\n",
      "Processing file 438 of 490: f179eb06-0c53-44df-a13f-570be23355bb_19.csv\n"
     ]
    },
    {
     "name": "stderr",
     "output_type": "stream",
     "text": [
      "Translating OCR Files:  89%|████████▉ | 438/490 [3:55:30<42:05, 48.56s/file]"
     ]
    },
    {
     "name": "stdout",
     "output_type": "stream",
     "text": [
      "Ollama error: HTTPConnectionPool(host='localhost', port=11434): Read timed out. (read timeout=90)\n",
      " Saved translated file: f179eb06-0c53-44df-a13f-570be23355bb_19.csv\n",
      "\n",
      "Processing file 439 of 490: f179eb06-0c53-44df-a13f-570be23355bb_2.csv\n"
     ]
    },
    {
     "name": "stderr",
     "output_type": "stream",
     "text": [
      "Translating OCR Files:  90%|████████▉ | 439/490 [3:55:50<34:07, 40.15s/file]"
     ]
    },
    {
     "name": "stdout",
     "output_type": "stream",
     "text": [
      " Saved translated file: f179eb06-0c53-44df-a13f-570be23355bb_2.csv\n",
      "\n",
      "Processing file 440 of 490: f179eb06-0c53-44df-a13f-570be23355bb_20.csv\n"
     ]
    },
    {
     "name": "stderr",
     "output_type": "stream",
     "text": [
      "Translating OCR Files:  90%|████████▉ | 440/490 [3:56:25<32:04, 38.49s/file]"
     ]
    },
    {
     "name": "stdout",
     "output_type": "stream",
     "text": [
      " Saved translated file: f179eb06-0c53-44df-a13f-570be23355bb_20.csv\n",
      "\n",
      "Processing file 441 of 490: f179eb06-0c53-44df-a13f-570be23355bb_3.csv\n"
     ]
    },
    {
     "name": "stderr",
     "output_type": "stream",
     "text": [
      "Translating OCR Files:  90%|█████████ | 441/490 [3:56:33<24:03, 29.46s/file]"
     ]
    },
    {
     "name": "stdout",
     "output_type": "stream",
     "text": [
      " Saved translated file: f179eb06-0c53-44df-a13f-570be23355bb_3.csv\n",
      "\n",
      "Processing file 442 of 490: f179eb06-0c53-44df-a13f-570be23355bb_4.csv\n"
     ]
    },
    {
     "name": "stderr",
     "output_type": "stream",
     "text": [
      "Translating OCR Files:  90%|█████████ | 442/490 [3:58:03<38:08, 47.67s/file]"
     ]
    },
    {
     "name": "stdout",
     "output_type": "stream",
     "text": [
      "Ollama error: HTTPConnectionPool(host='localhost', port=11434): Read timed out. (read timeout=90)\n",
      " Saved translated file: f179eb06-0c53-44df-a13f-570be23355bb_4.csv\n",
      "\n",
      "Processing file 443 of 490: f179eb06-0c53-44df-a13f-570be23355bb_5.csv\n"
     ]
    },
    {
     "name": "stderr",
     "output_type": "stream",
     "text": [
      "Translating OCR Files:  90%|█████████ | 443/490 [3:59:05<40:32, 51.76s/file]"
     ]
    },
    {
     "name": "stdout",
     "output_type": "stream",
     "text": [
      " Saved translated file: f179eb06-0c53-44df-a13f-570be23355bb_5.csv\n",
      "\n",
      "Processing file 444 of 490: f179eb06-0c53-44df-a13f-570be23355bb_6.csv\n"
     ]
    },
    {
     "name": "stderr",
     "output_type": "stream",
     "text": [
      "Translating OCR Files:  91%|█████████ | 444/490 [3:59:53<38:47, 50.59s/file]"
     ]
    },
    {
     "name": "stdout",
     "output_type": "stream",
     "text": [
      " Saved translated file: f179eb06-0c53-44df-a13f-570be23355bb_6.csv\n",
      "\n",
      "Processing file 445 of 490: f179eb06-0c53-44df-a13f-570be23355bb_7.csv\n"
     ]
    },
    {
     "name": "stderr",
     "output_type": "stream",
     "text": [
      "Translating OCR Files:  91%|█████████ | 445/490 [4:00:33<35:42, 47.62s/file]"
     ]
    },
    {
     "name": "stdout",
     "output_type": "stream",
     "text": [
      " Saved translated file: f179eb06-0c53-44df-a13f-570be23355bb_7.csv\n",
      "\n",
      "Processing file 446 of 490: f179eb06-0c53-44df-a13f-570be23355bb_8.csv\n"
     ]
    },
    {
     "name": "stderr",
     "output_type": "stream",
     "text": [
      "Translating OCR Files:  91%|█████████ | 446/490 [4:01:11<32:47, 44.71s/file]"
     ]
    },
    {
     "name": "stdout",
     "output_type": "stream",
     "text": [
      " Saved translated file: f179eb06-0c53-44df-a13f-570be23355bb_8.csv\n",
      "\n",
      "Processing file 447 of 490: f179eb06-0c53-44df-a13f-570be23355bb_9.csv\n"
     ]
    },
    {
     "name": "stderr",
     "output_type": "stream",
     "text": [
      "Translating OCR Files:  91%|█████████ | 447/490 [4:01:30<26:34, 37.08s/file]"
     ]
    },
    {
     "name": "stdout",
     "output_type": "stream",
     "text": [
      " Saved translated file: f179eb06-0c53-44df-a13f-570be23355bb_9.csv\n",
      "\n",
      "Processing file 448 of 490: f313f521-80a1-4db5-a8a7-53d29ee09890.csv\n"
     ]
    },
    {
     "name": "stderr",
     "output_type": "stream",
     "text": [
      "Translating OCR Files:  91%|█████████▏| 448/490 [4:01:57<23:48, 34.02s/file]"
     ]
    },
    {
     "name": "stdout",
     "output_type": "stream",
     "text": [
      " Saved translated file: f313f521-80a1-4db5-a8a7-53d29ee09890.csv\n",
      "\n",
      "Processing file 449 of 490: f41b7574-57b4-4c9f-907c-2a3c48a56157.csv\n"
     ]
    },
    {
     "name": "stderr",
     "output_type": "stream",
     "text": [
      "Translating OCR Files:  92%|█████████▏| 449/490 [4:02:18<20:30, 30.01s/file]"
     ]
    },
    {
     "name": "stdout",
     "output_type": "stream",
     "text": [
      " Saved translated file: f41b7574-57b4-4c9f-907c-2a3c48a56157.csv\n",
      "\n",
      "Processing file 450 of 490: f7205881-3904-42ec-ab2c-04f36fa24785_0.csv\n"
     ]
    },
    {
     "name": "stderr",
     "output_type": "stream",
     "text": [
      "Translating OCR Files:  92%|█████████▏| 450/490 [4:02:23<14:55, 22.38s/file]"
     ]
    },
    {
     "name": "stdout",
     "output_type": "stream",
     "text": [
      " Saved translated file: f7205881-3904-42ec-ab2c-04f36fa24785_0.csv\n",
      "\n",
      "Processing file 451 of 490: f7205881-3904-42ec-ab2c-04f36fa24785_1.csv\n"
     ]
    },
    {
     "name": "stderr",
     "output_type": "stream",
     "text": [
      "Translating OCR Files:  92%|█████████▏| 451/490 [4:02:35<12:31, 19.28s/file]"
     ]
    },
    {
     "name": "stdout",
     "output_type": "stream",
     "text": [
      " Saved translated file: f7205881-3904-42ec-ab2c-04f36fa24785_1.csv\n",
      "\n",
      "Processing file 452 of 490: f7205881-3904-42ec-ab2c-04f36fa24785_10.csv\n"
     ]
    },
    {
     "name": "stderr",
     "output_type": "stream",
     "text": [
      "Translating OCR Files:  92%|█████████▏| 452/490 [4:02:47<10:58, 17.33s/file]"
     ]
    },
    {
     "name": "stdout",
     "output_type": "stream",
     "text": [
      " Saved translated file: f7205881-3904-42ec-ab2c-04f36fa24785_10.csv\n",
      "\n",
      "Processing file 453 of 490: f7205881-3904-42ec-ab2c-04f36fa24785_11.csv\n"
     ]
    },
    {
     "name": "stderr",
     "output_type": "stream",
     "text": [
      "Translating OCR Files:  92%|█████████▏| 453/490 [4:03:08<11:19, 18.37s/file]"
     ]
    },
    {
     "name": "stdout",
     "output_type": "stream",
     "text": [
      " Saved translated file: f7205881-3904-42ec-ab2c-04f36fa24785_11.csv\n",
      "\n",
      "Processing file 454 of 490: f7205881-3904-42ec-ab2c-04f36fa24785_12.csv\n"
     ]
    },
    {
     "name": "stderr",
     "output_type": "stream",
     "text": [
      "Translating OCR Files:  93%|█████████▎| 454/490 [4:03:55<16:11, 27.00s/file]"
     ]
    },
    {
     "name": "stdout",
     "output_type": "stream",
     "text": [
      " Saved translated file: f7205881-3904-42ec-ab2c-04f36fa24785_12.csv\n",
      "\n",
      "Processing file 455 of 490: f7205881-3904-42ec-ab2c-04f36fa24785_13.csv\n"
     ]
    },
    {
     "name": "stderr",
     "output_type": "stream",
     "text": [
      "Translating OCR Files:  93%|█████████▎| 455/490 [4:04:27<16:38, 28.54s/file]"
     ]
    },
    {
     "name": "stdout",
     "output_type": "stream",
     "text": [
      " Saved translated file: f7205881-3904-42ec-ab2c-04f36fa24785_13.csv\n",
      "\n",
      "Processing file 456 of 490: f7205881-3904-42ec-ab2c-04f36fa24785_14.csv\n"
     ]
    },
    {
     "name": "stderr",
     "output_type": "stream",
     "text": [
      "Translating OCR Files:  93%|█████████▎| 456/490 [4:04:30<11:43, 20.69s/file]"
     ]
    },
    {
     "name": "stdout",
     "output_type": "stream",
     "text": [
      " Saved translated file: f7205881-3904-42ec-ab2c-04f36fa24785_14.csv\n",
      "\n",
      "Processing file 457 of 490: f7205881-3904-42ec-ab2c-04f36fa24785_15.csv\n"
     ]
    },
    {
     "name": "stderr",
     "output_type": "stream",
     "text": [
      "Translating OCR Files:  93%|█████████▎| 457/490 [4:05:22<16:29, 29.98s/file]"
     ]
    },
    {
     "name": "stdout",
     "output_type": "stream",
     "text": [
      " Saved translated file: f7205881-3904-42ec-ab2c-04f36fa24785_15.csv\n",
      "\n",
      "Processing file 458 of 490: f7205881-3904-42ec-ab2c-04f36fa24785_16.csv\n"
     ]
    },
    {
     "name": "stderr",
     "output_type": "stream",
     "text": [
      "Translating OCR Files:  93%|█████████▎| 458/490 [4:05:25<11:41, 21.92s/file]"
     ]
    },
    {
     "name": "stdout",
     "output_type": "stream",
     "text": [
      " Saved translated file: f7205881-3904-42ec-ab2c-04f36fa24785_16.csv\n",
      "\n",
      "Processing file 459 of 490: f7205881-3904-42ec-ab2c-04f36fa24785_17.csv\n"
     ]
    },
    {
     "name": "stderr",
     "output_type": "stream",
     "text": [
      "Translating OCR Files:  94%|█████████▎| 459/490 [4:05:57<12:56, 25.06s/file]"
     ]
    },
    {
     "name": "stdout",
     "output_type": "stream",
     "text": [
      " Saved translated file: f7205881-3904-42ec-ab2c-04f36fa24785_17.csv\n",
      "\n",
      "Processing file 460 of 490: f7205881-3904-42ec-ab2c-04f36fa24785_2.csv\n"
     ]
    },
    {
     "name": "stderr",
     "output_type": "stream",
     "text": [
      "Translating OCR Files:  94%|█████████▍| 460/490 [4:06:11<10:50, 21.69s/file]"
     ]
    },
    {
     "name": "stdout",
     "output_type": "stream",
     "text": [
      " Saved translated file: f7205881-3904-42ec-ab2c-04f36fa24785_2.csv\n",
      "\n",
      "Processing file 461 of 490: f7205881-3904-42ec-ab2c-04f36fa24785_3.csv\n"
     ]
    },
    {
     "name": "stderr",
     "output_type": "stream",
     "text": [
      "Translating OCR Files:  94%|█████████▍| 461/490 [4:07:41<20:24, 42.24s/file]"
     ]
    },
    {
     "name": "stdout",
     "output_type": "stream",
     "text": [
      "Ollama error: HTTPConnectionPool(host='localhost', port=11434): Read timed out. (read timeout=90)\n",
      " Saved translated file: f7205881-3904-42ec-ab2c-04f36fa24785_3.csv\n",
      "\n",
      "Processing file 462 of 490: f7205881-3904-42ec-ab2c-04f36fa24785_4.csv\n"
     ]
    },
    {
     "name": "stderr",
     "output_type": "stream",
     "text": [
      "Translating OCR Files:  94%|█████████▍| 462/490 [4:09:11<26:25, 56.61s/file]"
     ]
    },
    {
     "name": "stdout",
     "output_type": "stream",
     "text": [
      "Ollama error: HTTPConnectionPool(host='localhost', port=11434): Read timed out. (read timeout=90)\n",
      " Saved translated file: f7205881-3904-42ec-ab2c-04f36fa24785_4.csv\n",
      "\n",
      "Processing file 463 of 490: f7205881-3904-42ec-ab2c-04f36fa24785_5.csv\n"
     ]
    },
    {
     "name": "stderr",
     "output_type": "stream",
     "text": [
      "Translating OCR Files:  94%|█████████▍| 463/490 [4:09:49<22:58, 51.05s/file]"
     ]
    },
    {
     "name": "stdout",
     "output_type": "stream",
     "text": [
      " Saved translated file: f7205881-3904-42ec-ab2c-04f36fa24785_5.csv\n",
      "\n",
      "Processing file 464 of 490: f7205881-3904-42ec-ab2c-04f36fa24785_6.csv\n"
     ]
    },
    {
     "name": "stderr",
     "output_type": "stream",
     "text": [
      "Translating OCR Files:  95%|█████████▍| 464/490 [4:10:22<19:43, 45.52s/file]"
     ]
    },
    {
     "name": "stdout",
     "output_type": "stream",
     "text": [
      " Saved translated file: f7205881-3904-42ec-ab2c-04f36fa24785_6.csv\n",
      "\n",
      "Processing file 465 of 490: f7205881-3904-42ec-ab2c-04f36fa24785_7.csv\n"
     ]
    },
    {
     "name": "stderr",
     "output_type": "stream",
     "text": [
      "Translating OCR Files:  95%|█████████▍| 465/490 [4:11:08<19:01, 45.67s/file]"
     ]
    },
    {
     "name": "stdout",
     "output_type": "stream",
     "text": [
      " Saved translated file: f7205881-3904-42ec-ab2c-04f36fa24785_7.csv\n",
      "\n",
      "Processing file 466 of 490: f7205881-3904-42ec-ab2c-04f36fa24785_8.csv\n"
     ]
    },
    {
     "name": "stderr",
     "output_type": "stream",
     "text": [
      "Translating OCR Files:  95%|█████████▌| 466/490 [4:11:41<16:45, 41.91s/file]"
     ]
    },
    {
     "name": "stdout",
     "output_type": "stream",
     "text": [
      " Saved translated file: f7205881-3904-42ec-ab2c-04f36fa24785_8.csv\n",
      "\n",
      "Processing file 467 of 490: f7205881-3904-42ec-ab2c-04f36fa24785_9.csv\n"
     ]
    },
    {
     "name": "stderr",
     "output_type": "stream",
     "text": [
      "Translating OCR Files:  95%|█████████▌| 467/490 [4:12:07<14:13, 37.12s/file]"
     ]
    },
    {
     "name": "stdout",
     "output_type": "stream",
     "text": [
      " Saved translated file: f7205881-3904-42ec-ab2c-04f36fa24785_9.csv\n",
      "\n",
      "Processing file 468 of 490: fc27ce32-9c96-416c-9c38-84977255e0ba.csv\n"
     ]
    },
    {
     "name": "stderr",
     "output_type": "stream",
     "text": [
      "Translating OCR Files:  96%|█████████▌| 468/490 [4:12:26<11:37, 31.70s/file]"
     ]
    },
    {
     "name": "stdout",
     "output_type": "stream",
     "text": [
      " Saved translated file: fc27ce32-9c96-416c-9c38-84977255e0ba.csv\n",
      "\n",
      "Processing file 469 of 490: fcf90a92-794c-40c6-aa4f-8ea82f8bed51.csv\n"
     ]
    },
    {
     "name": "stderr",
     "output_type": "stream",
     "text": [
      "Translating OCR Files:  96%|█████████▌| 469/490 [4:12:49<10:12, 29.15s/file]"
     ]
    },
    {
     "name": "stdout",
     "output_type": "stream",
     "text": [
      " Saved translated file: fcf90a92-794c-40c6-aa4f-8ea82f8bed51.csv\n",
      "\n",
      "Processing file 470 of 490: fe221e78-67e4-4d88-b73d-e58a9943a036.csv\n"
     ]
    },
    {
     "name": "stderr",
     "output_type": "stream",
     "text": [
      "Translating OCR Files:  96%|█████████▌| 470/490 [4:13:03<08:09, 24.47s/file]"
     ]
    },
    {
     "name": "stdout",
     "output_type": "stream",
     "text": [
      " Saved translated file: fe221e78-67e4-4d88-b73d-e58a9943a036.csv\n",
      "\n",
      "Processing file 471 of 490: fe245192-1f9c-4f28-9b32-046fb7ce7e1e_0.csv\n"
     ]
    },
    {
     "name": "stderr",
     "output_type": "stream",
     "text": [
      "Translating OCR Files:  96%|█████████▌| 471/490 [4:13:09<05:59, 18.92s/file]"
     ]
    },
    {
     "name": "stdout",
     "output_type": "stream",
     "text": [
      " Saved translated file: fe245192-1f9c-4f28-9b32-046fb7ce7e1e_0.csv\n",
      "\n",
      "Processing file 472 of 490: fe245192-1f9c-4f28-9b32-046fb7ce7e1e_1.csv\n"
     ]
    },
    {
     "name": "stderr",
     "output_type": "stream",
     "text": [
      "Translating OCR Files:  96%|█████████▋| 472/490 [4:13:47<07:25, 24.77s/file]"
     ]
    },
    {
     "name": "stdout",
     "output_type": "stream",
     "text": [
      " Saved translated file: fe245192-1f9c-4f28-9b32-046fb7ce7e1e_1.csv\n",
      "\n",
      "Processing file 473 of 490: fe245192-1f9c-4f28-9b32-046fb7ce7e1e_10.csv\n"
     ]
    },
    {
     "name": "stderr",
     "output_type": "stream",
     "text": [
      "Translating OCR Files:  97%|█████████▋| 473/490 [4:14:21<07:46, 27.45s/file]"
     ]
    },
    {
     "name": "stdout",
     "output_type": "stream",
     "text": [
      " Saved translated file: fe245192-1f9c-4f28-9b32-046fb7ce7e1e_10.csv\n",
      "\n",
      "Processing file 474 of 490: fe245192-1f9c-4f28-9b32-046fb7ce7e1e_11.csv\n"
     ]
    },
    {
     "name": "stderr",
     "output_type": "stream",
     "text": [
      "Translating OCR Files:  97%|█████████▋| 474/490 [4:14:41<06:45, 25.33s/file]"
     ]
    },
    {
     "name": "stdout",
     "output_type": "stream",
     "text": [
      " Saved translated file: fe245192-1f9c-4f28-9b32-046fb7ce7e1e_11.csv\n",
      "\n",
      "Processing file 475 of 490: fe245192-1f9c-4f28-9b32-046fb7ce7e1e_12.csv\n"
     ]
    },
    {
     "name": "stderr",
     "output_type": "stream",
     "text": [
      "Translating OCR Files:  97%|█████████▋| 475/490 [4:15:05<06:12, 24.86s/file]"
     ]
    },
    {
     "name": "stdout",
     "output_type": "stream",
     "text": [
      " Saved translated file: fe245192-1f9c-4f28-9b32-046fb7ce7e1e_12.csv\n",
      "\n",
      "Processing file 476 of 490: fe245192-1f9c-4f28-9b32-046fb7ce7e1e_13.csv\n"
     ]
    },
    {
     "name": "stderr",
     "output_type": "stream",
     "text": [
      "Translating OCR Files:  97%|█████████▋| 476/490 [4:15:23<05:18, 22.75s/file]"
     ]
    },
    {
     "name": "stdout",
     "output_type": "stream",
     "text": [
      " Saved translated file: fe245192-1f9c-4f28-9b32-046fb7ce7e1e_13.csv\n",
      "\n",
      "Processing file 477 of 490: fe245192-1f9c-4f28-9b32-046fb7ce7e1e_14.csv\n"
     ]
    },
    {
     "name": "stderr",
     "output_type": "stream",
     "text": [
      "Translating OCR Files:  97%|█████████▋| 477/490 [4:15:56<05:38, 26.02s/file]"
     ]
    },
    {
     "name": "stdout",
     "output_type": "stream",
     "text": [
      " Saved translated file: fe245192-1f9c-4f28-9b32-046fb7ce7e1e_14.csv\n",
      "\n",
      "Processing file 478 of 490: fe245192-1f9c-4f28-9b32-046fb7ce7e1e_15.csv\n"
     ]
    },
    {
     "name": "stderr",
     "output_type": "stream",
     "text": [
      "Translating OCR Files:  98%|█████████▊| 478/490 [4:16:23<05:14, 26.23s/file]"
     ]
    },
    {
     "name": "stdout",
     "output_type": "stream",
     "text": [
      " Saved translated file: fe245192-1f9c-4f28-9b32-046fb7ce7e1e_15.csv\n",
      "\n",
      "Processing file 479 of 490: fe245192-1f9c-4f28-9b32-046fb7ce7e1e_16.csv\n"
     ]
    },
    {
     "name": "stderr",
     "output_type": "stream",
     "text": [
      "Translating OCR Files:  98%|█████████▊| 479/490 [4:17:14<06:10, 33.66s/file]"
     ]
    },
    {
     "name": "stdout",
     "output_type": "stream",
     "text": [
      " Saved translated file: fe245192-1f9c-4f28-9b32-046fb7ce7e1e_16.csv\n",
      "\n",
      "Processing file 480 of 490: fe245192-1f9c-4f28-9b32-046fb7ce7e1e_17.csv\n"
     ]
    },
    {
     "name": "stderr",
     "output_type": "stream",
     "text": [
      "Translating OCR Files:  98%|█████████▊| 480/490 [4:17:34<04:55, 29.55s/file]"
     ]
    },
    {
     "name": "stdout",
     "output_type": "stream",
     "text": [
      " Saved translated file: fe245192-1f9c-4f28-9b32-046fb7ce7e1e_17.csv\n",
      "\n",
      "Processing file 481 of 490: fe245192-1f9c-4f28-9b32-046fb7ce7e1e_18.csv\n"
     ]
    },
    {
     "name": "stderr",
     "output_type": "stream",
     "text": [
      "Translating OCR Files:  98%|█████████▊| 481/490 [4:19:04<07:09, 47.72s/file]"
     ]
    },
    {
     "name": "stdout",
     "output_type": "stream",
     "text": [
      "Ollama error: HTTPConnectionPool(host='localhost', port=11434): Read timed out. (read timeout=90)\n",
      " Saved translated file: fe245192-1f9c-4f28-9b32-046fb7ce7e1e_18.csv\n",
      "\n",
      "Processing file 482 of 490: fe245192-1f9c-4f28-9b32-046fb7ce7e1e_19.csv\n"
     ]
    },
    {
     "name": "stderr",
     "output_type": "stream",
     "text": [
      "Translating OCR Files:  98%|█████████▊| 482/490 [4:19:24<05:14, 39.33s/file]"
     ]
    },
    {
     "name": "stdout",
     "output_type": "stream",
     "text": [
      " Saved translated file: fe245192-1f9c-4f28-9b32-046fb7ce7e1e_19.csv\n",
      "\n",
      "Processing file 483 of 490: fe245192-1f9c-4f28-9b32-046fb7ce7e1e_2.csv\n"
     ]
    },
    {
     "name": "stderr",
     "output_type": "stream",
     "text": [
      "Translating OCR Files:  99%|█████████▊| 483/490 [4:19:58<04:23, 37.59s/file]"
     ]
    },
    {
     "name": "stdout",
     "output_type": "stream",
     "text": [
      " Saved translated file: fe245192-1f9c-4f28-9b32-046fb7ce7e1e_2.csv\n",
      "\n",
      "Processing file 484 of 490: fe245192-1f9c-4f28-9b32-046fb7ce7e1e_3.csv\n"
     ]
    },
    {
     "name": "stderr",
     "output_type": "stream",
     "text": [
      "Translating OCR Files:  99%|█████████▉| 484/490 [4:21:20<05:06, 51.08s/file]"
     ]
    },
    {
     "name": "stdout",
     "output_type": "stream",
     "text": [
      " Saved translated file: fe245192-1f9c-4f28-9b32-046fb7ce7e1e_3.csv\n",
      "\n",
      "Processing file 485 of 490: fe245192-1f9c-4f28-9b32-046fb7ce7e1e_4.csv\n"
     ]
    },
    {
     "name": "stderr",
     "output_type": "stream",
     "text": [
      "Translating OCR Files:  99%|█████████▉| 485/490 [4:22:32<04:46, 57.28s/file]"
     ]
    },
    {
     "name": "stdout",
     "output_type": "stream",
     "text": [
      " Saved translated file: fe245192-1f9c-4f28-9b32-046fb7ce7e1e_4.csv\n",
      "\n",
      "Processing file 486 of 490: fe245192-1f9c-4f28-9b32-046fb7ce7e1e_5.csv\n"
     ]
    },
    {
     "name": "stderr",
     "output_type": "stream",
     "text": [
      "Translating OCR Files:  99%|█████████▉| 486/490 [4:23:11<03:26, 51.70s/file]"
     ]
    },
    {
     "name": "stdout",
     "output_type": "stream",
     "text": [
      " Saved translated file: fe245192-1f9c-4f28-9b32-046fb7ce7e1e_5.csv\n",
      "\n",
      "Processing file 487 of 490: fe245192-1f9c-4f28-9b32-046fb7ce7e1e_6.csv\n"
     ]
    },
    {
     "name": "stderr",
     "output_type": "stream",
     "text": [
      "Translating OCR Files:  99%|█████████▉| 487/490 [4:23:47<02:20, 46.98s/file]"
     ]
    },
    {
     "name": "stdout",
     "output_type": "stream",
     "text": [
      " Saved translated file: fe245192-1f9c-4f28-9b32-046fb7ce7e1e_6.csv\n",
      "\n",
      "Processing file 488 of 490: fe245192-1f9c-4f28-9b32-046fb7ce7e1e_7.csv\n"
     ]
    },
    {
     "name": "stderr",
     "output_type": "stream",
     "text": [
      "Translating OCR Files: 100%|█████████▉| 488/490 [4:24:08<01:18, 39.30s/file]"
     ]
    },
    {
     "name": "stdout",
     "output_type": "stream",
     "text": [
      " Saved translated file: fe245192-1f9c-4f28-9b32-046fb7ce7e1e_7.csv\n",
      "\n",
      "Processing file 489 of 490: fe245192-1f9c-4f28-9b32-046fb7ce7e1e_8.csv\n"
     ]
    },
    {
     "name": "stderr",
     "output_type": "stream",
     "text": [
      "Translating OCR Files: 100%|█████████▉| 489/490 [4:24:45<00:38, 38.50s/file]"
     ]
    },
    {
     "name": "stdout",
     "output_type": "stream",
     "text": [
      " Saved translated file: fe245192-1f9c-4f28-9b32-046fb7ce7e1e_8.csv\n",
      "\n",
      "Processing file 490 of 490: fe245192-1f9c-4f28-9b32-046fb7ce7e1e_9.csv\n"
     ]
    },
    {
     "name": "stderr",
     "output_type": "stream",
     "text": [
      "Translating OCR Files: 100%|██████████| 490/490 [4:25:20<00:00, 32.49s/file]"
     ]
    },
    {
     "name": "stdout",
     "output_type": "stream",
     "text": [
      " Saved translated file: fe245192-1f9c-4f28-9b32-046fb7ce7e1e_9.csv\n"
     ]
    },
    {
     "name": "stderr",
     "output_type": "stream",
     "text": [
      "\n"
     ]
    }
   ],
   "source": [
    "import os\n",
    "import pandas as pd\n",
    "import requests\n",
    "from tqdm import tqdm\n",
    "from concurrent.futures import ThreadPoolExecutor, as_completed\n",
    "\n",
    "ocr_folder_path = 'ocr_to_csv/'\n",
    "\n",
    "def query_ollama(prompt, model=\"gemma3:27b\"):\n",
    "    url = \"http://localhost:11434/api/generate\"\n",
    "    payload = {\n",
    "        \"model\": model,\n",
    "        \"prompt\": prompt,\n",
    "        \"stream\": False\n",
    "    }\n",
    "    try:\n",
    "        response = requests.post(url, json=payload, timeout=90)\n",
    "        response.raise_for_status()\n",
    "        return response.json()[\"response\"].strip()\n",
    "    except Exception as e:\n",
    "        print(f\"Ollama error: {e}\")\n",
    "        return \"[Translation Error]\"\n",
    "\n",
    "def translate_row(index, row_text):\n",
    "    if pd.isna(row_text) or not row_text.strip():\n",
    "        return index, \"\"\n",
    "    prompt = (\n",
    "        \"You are translating Chinese text into fluent English. Translate the following message:\\n\\n\"\n",
    "        f\"{row_text}\\n\\n\"\n",
    "        \"ONLY RETURN the English translation. DO NOT add commentary or extra formatting.\"\n",
    "    )\n",
    "    return index, query_ollama(prompt)\n",
    "\n",
    "ocr_files = sorted([f for f in os.listdir(ocr_folder_path) if f.endswith('.csv')])\n",
    "\n",
    "for file_idx, file in enumerate(tqdm(ocr_files, desc=\"Translating OCR Files\", unit=\"file\")):\n",
    "    print(f\"\\nProcessing file {file_idx + 1} of {len(ocr_files)}: {file}\")\n",
    "    path = os.path.join(ocr_folder_path, file)\n",
    "    df = pd.read_csv(path)\n",
    "\n",
    "    if 'ocr extraction' not in df.columns:\n",
    "        print(f\" Skipping {file} (missing 'ocr extraction' column)\")\n",
    "        continue\n",
    "\n",
    "    df['ocr translation'] = \"\"\n",
    "\n",
    "    futures = []\n",
    "    with ThreadPoolExecutor(max_workers=8) as executor:\n",
    "        for idx, row in df.iterrows():\n",
    "            futures.append(executor.submit(translate_row, idx, row['ocr extraction']))\n",
    "\n",
    "        for future in as_completed(futures):\n",
    "            idx, translated = future.result()\n",
    "            df.at[idx, 'ocr translation'] = translated\n",
    "\n",
    "    df.to_csv(path, index=False)\n",
    "    print(f\" Saved translated file: {file}\")"
   ]
  },
  {
   "cell_type": "markdown",
   "id": "a783c68a-05d2-4e98-8eb4-e640385f7fdb",
   "metadata": {},
   "source": [
    "# **Data has been added from MacOS OCR**"
   ]
  },
  {
   "cell_type": "markdown",
   "id": "50b9f3c9-58ce-48e4-bf46-5a98ba01bd09",
   "metadata": {
    "tags": []
   },
   "source": [
    "# *Changing the files in the chats with the extracted output* "
   ]
  },
  {
   "cell_type": "code",
   "execution_count": null,
   "id": "2e0ebd91-ab30-41e1-aea8-0376b4a4798b",
   "metadata": {},
   "outputs": [],
   "source": [
    "import pandas as pd\n",
    "import os\n",
    "import re\n",
    "import ast"
   ]
  },
  {
   "cell_type": "code",
   "execution_count": 10,
   "id": "f18566b9-bd55-4b7f-81a0-7aff46c84b1a",
   "metadata": {
    "tags": []
   },
   "outputs": [
    {
     "name": "stdout",
     "output_type": "stream",
     "text": [
      "Processing: csvs/28.csv\n",
      "Processing: csvs/5.csv\n",
      "Processing: csvs/38.csv\n",
      "Processing: csvs/18.csv\n",
      "Processing: csvs/1.csv\n",
      "Processing: csvs/19.csv\n",
      "Processing: csvs/29.csv\n",
      "Processing: csvs/4.csv\n",
      "Processing: csvs/39.csv\n",
      "Processing: csvs/16.csv\n",
      "Processing: csvs/22.csv\n",
      "Processing: csvs/32.csv\n",
      "Processing: csvs/26.csv\n",
      "Processing: csvs/12.csv\n",
      "Processing: csvs/36.csv\n",
      "Processing: csvs/27.csv\n",
      "Processing: csvs/13.csv\n",
      "Processing: csvs/37.csv\n",
      "Processing: csvs/17.csv\n",
      "Processing: csvs/23.csv\n",
      "Processing: csvs/33.csv\n",
      "Processing: csvs/24.csv\n",
      "Processing: csvs/41.csv\n",
      "Processing: csvs/10.csv\n",
      "Processing: csvs/9.csv\n",
      "Processing: csvs/34.csv\n",
      "Processing: csvs/14.csv\n",
      "Processing: csvs/20.csv\n",
      "Processing: csvs/30.csv\n",
      "Processing: csvs/15.csv\n",
      "Processing: csvs/21.csv\n",
      "Processing: csvs/31.csv\n",
      "Processing: csvs/40.csv\n",
      "Processing: csvs/11.csv\n",
      "Processing: csvs/35.csv\n",
      "Processing: csvs/3.csv\n",
      "Processing: csvs/7.csv\n",
      "Processing: csvs/6.csv\n",
      "Processing: csvs/2.csv\n"
     ]
    }
   ],
   "source": [
    "mapping_csv_path = 'filtered_ref_summary_csv_replaced.csv'\n",
    "chat_reference_csv_path = 'updated_with_csv_paths.csv'  # The one shown in the screenshot\n",
    "ocr_folder_path = 'ocr_to_csv'\n",
    "\n",
    "# Use the csv file stroing all the paths to filtered chats by the LLM\n",
    "chat_paths_df = pd.read_csv(chat_reference_csv_path)\n",
    "\n",
    "mapping_df = pd.read_csv(mapping_csv_path)\n",
    "\n",
    "# Link md files and the pngs inside based on uuid\n",
    "md_uuid_to_pngs = {}\n",
    "\n",
    "for index, row in mapping_df.iterrows():\n",
    "    mentions2_text = row.get('mentions2', '{}')\n",
    "    try:\n",
    "        mentions2 = ast.literal_eval(mentions2_text)\n",
    "        for md_path, png_list in mentions2.items():\n",
    "            md_uuid = md_path.split('/')[-1].replace('.csv', '')\n",
    "            png_names = [os.path.basename(p) for p in png_list]\n",
    "            md_uuid_to_pngs[md_uuid] = png_names\n",
    "    except:\n",
    "        continue\n",
    "\n",
    "# Function to fetch OCR translation from OCR folder\n",
    "def get_ocr_translation(png_filename):\n",
    "    csv_filename = png_filename.replace('.png', '.csv')\n",
    "    csv_path = os.path.join(ocr_folder_path, csv_filename)\n",
    "\n",
    "    if os.path.exists(csv_path):\n",
    "        try:\n",
    "            df = pd.read_csv(csv_path)\n",
    "            if 'ocr translation' in df.columns:\n",
    "                non_empty_translations = df['ocr translation'].dropna().astype(str)\n",
    "                for text in non_empty_translations:\n",
    "                    if text.strip():\n",
    "                        return text\n",
    "        except Exception as e:\n",
    "            print(f\"Error reading {csv_path}: {e}\")\n",
    "            return ''\n",
    "    return ''\n",
    "\n",
    "# Function to replace .png/.md in message with OCR translation\n",
    "def replace_with_ocr_translation(message):\n",
    "    if not isinstance(message, str):\n",
    "        return message\n",
    "\n",
    "    png_files = re.findall(r'(\\d+-[a-f0-9\\-]+(?:_[0-9]+)?\\.png)', message)\n",
    "    for png in png_files:\n",
    "        ocr_text = get_ocr_translation(png)\n",
    "        if ocr_text:\n",
    "            message = message.replace(png, f\"OCR translation:\\n{ocr_text}\")\n",
    "\n",
    "    md_uuids = re.findall(r'([a-f0-9\\-]{36})\\.md', message)\n",
    "    for md_uuid in md_uuids:\n",
    "        png_list = md_uuid_to_pngs.get(md_uuid, [])\n",
    "        ocr_texts = []\n",
    "        for png in png_list:\n",
    "            ocr_text = get_ocr_translation(png)\n",
    "            if ocr_text:\n",
    "                ocr_texts.append(f\"OCR for {png}:\\n{ocr_text}\")\n",
    "        if ocr_texts:\n",
    "            combined = \"\\n\\n\".join(ocr_texts)\n",
    "            full_md_match = re.search(r'\\S*' + re.escape(md_uuid) + r'\\.md', message)\n",
    "            if full_md_match:\n",
    "                message = message.replace(full_md_match.group(0), combined)\n",
    "\n",
    "    return message\n",
    "\n",
    "# Loop over each chat CSV listed in the 'chats' column\n",
    "for idx, row in chat_paths_df.iterrows():\n",
    "    chat_csv_path = row['chats']\n",
    "    if not isinstance(chat_csv_path, str) or not os.path.exists(chat_csv_path):\n",
    "        print(f\"Skipping missing or invalid path: {chat_csv_path}\")\n",
    "        continue\n",
    "\n",
    "    print(f\"Processing: {chat_csv_path}\")\n",
    "    try:\n",
    "        chat_df = pd.read_csv(chat_csv_path)\n",
    "        if 'message_translation' in chat_df.columns:\n",
    "            chat_df['message_translation'] = chat_df['message_translation'].apply(replace_with_ocr_translation)\n",
    "            chat_df.to_csv(chat_csv_path, index=False)\n",
    "        else:\n",
    "            print(f\"Column 'message_translation' not found in {chat_csv_path}\")\n",
    "    except Exception as e:\n",
    "        print(f\"Error processing {chat_csv_path}: {e}\")"
   ]
  },
  {
   "cell_type": "markdown",
   "id": "bac1d53c-63c1-4581-aa8d-ee20552b85ec",
   "metadata": {},
   "source": [
    "# **TXT AND LOG FILES PARSING**"
   ]
  },
  {
   "cell_type": "code",
   "execution_count": 1,
   "id": "ed2afba9-e1f8-4f7c-8f11-f479497d1d3f",
   "metadata": {
    "tags": []
   },
   "outputs": [
    {
     "name": "stdout",
     "output_type": "stream",
     "text": [
      "CSV file 'CRM.csv' created successfully with headers preserved.\n"
     ]
    }
   ],
   "source": [
    "import csv\n",
    "\n",
    "# File paths\n",
    "input_file = '0/txt/CRM.txt'\n",
    "output_file = 'CRM.csv'\n",
    "\n",
    "# Read the tab-delimited TXT file and write to a CSV\n",
    "with open(input_file, 'r', encoding='utf-8') as infile, \\\n",
    "     open(output_file, 'w', newline='', encoding='utf-8') as outfile:\n",
    "    \n",
    "    reader = csv.reader(infile, delimiter='\\t')\n",
    "    writer = csv.writer(outfile)\n",
    "\n",
    "    for row in reader:\n",
    "        # Skip entirely empty rows\n",
    "        if any(field.strip() for field in row):\n",
    "            writer.writerow(row)\n",
    "\n",
    "print(\"CSV file 'CRM.csv' created successfully with headers preserved.\")"
   ]
  },
  {
   "cell_type": "code",
   "execution_count": 2,
   "id": "c25d93ec-e6b3-46b3-929f-3434b83b3c5c",
   "metadata": {
    "tags": []
   },
   "outputs": [
    {
     "name": "stdout",
     "output_type": "stream",
     "text": [
      "Skipped unknown format: 77010155050.log\n",
      "Skipped unknown format: 77753527617.log\n",
      "Converted: tele2-lbs.log → tele2-lbs.csv\n",
      "Converted: tele2-cdr.log → tele2-cdr.csv\n",
      "Converted: tele2-crm.log → tele2-crm.csv\n",
      "Skipped unknown format: 77783030133.log\n",
      "Converted: IDNET.txt → IDNET.csv\n",
      "Converted: IDTV.txt → IDTV.csv\n",
      "Converted: beeline-77774042222.txt → beeline-77774042222.csv\n",
      "Converted: beeline-77051056626.txt → beeline-77051056626.csv\n",
      "Converted: beeline-crm.txt → beeline-crm.csv\n",
      "Skipped unknown format: UBSCRIBER.txt\n",
      "Converted: beeline-cdr.txt → beeline-cdr.csv\n",
      "Converted: CRM.txt → CRM.csv\n",
      "Converted: LAC.txt → LAC.csv\n",
      "Converted: beeline-lbs.txt → beeline-lbs.csv\n",
      "Converted: Φ»¥σìò.txt → Φ»¥σìò.csv\n"
     ]
    }
   ],
   "source": [
    "import os\n",
    "import csv\n",
    "\n",
    "# ✅ Define your input and output folders here\n",
    "SOURCE_FOLDER_1 = \"0/log\"\n",
    "SOURCE_FOLDER_2 = \"0/txt\"\n",
    "OUTPUT_FOLDER = \"logtxt_to_csv\"\n",
    "\n",
    "def detect_format(lines):\n",
    "    if len(lines) >= 2 and all(c == '-' or c == ' ' for c in lines[1]):\n",
    "        return 'fixed-width'\n",
    "    elif ',' in lines[0]:\n",
    "        return 'csv'\n",
    "    elif '\\t' in lines[0]:\n",
    "        return 'tsv'\n",
    "    return 'unknown'\n",
    "\n",
    "def get_fixed_positions(divider_line):\n",
    "    positions = []\n",
    "    in_field = False\n",
    "    for i, char in enumerate(divider_line):\n",
    "        if char == '-' and not in_field:\n",
    "            start = i\n",
    "            in_field = True\n",
    "        elif char != '-' and in_field:\n",
    "            end = i\n",
    "            positions.append((start, end))\n",
    "            in_field = False\n",
    "    if in_field:\n",
    "        positions.append((start, len(divider_line)))\n",
    "    return positions\n",
    "\n",
    "def process_fixed_width(lines, output_path):\n",
    "    header_line = lines[0]\n",
    "    divider_line = lines[1]\n",
    "    data_lines = lines[2:]\n",
    "    positions = get_fixed_positions(divider_line)\n",
    "    headers = [header_line[start:end].strip() for start, end in positions]\n",
    "\n",
    "    with open(output_path, 'w', newline='', encoding='utf-8') as out_file:\n",
    "        writer = csv.writer(out_file)\n",
    "        writer.writerow(headers)\n",
    "        for line in data_lines:\n",
    "            row = [line[start:end].strip() for start, end in positions]\n",
    "            if any(row):\n",
    "                writer.writerow(row)\n",
    "\n",
    "def process_delimited(lines, output_path, delimiter):\n",
    "    with open(output_path, 'w', newline='', encoding='utf-8') as out_file:\n",
    "        writer = csv.writer(out_file)\n",
    "        for line in lines:\n",
    "            row = [field.strip().replace(',', '.') if delimiter == '\\t' and field.replace(',', '').replace('.', '').isdigit() else field.strip() for field in line.strip().split(delimiter)]\n",
    "            if any(row):\n",
    "                writer.writerow(row)\n",
    "\n",
    "def convert_all_files(source_folders, output_folder):\n",
    "    os.makedirs(output_folder, exist_ok=True)\n",
    "\n",
    "    for input_dir in source_folders:\n",
    "        for file in os.listdir(input_dir):\n",
    "            if not file.lower().endswith(('.txt', '.log')):\n",
    "                continue\n",
    "\n",
    "            file_path = os.path.join(input_dir, file)\n",
    "            base_name = os.path.basename(file)\n",
    "            output_path = os.path.join(output_folder, os.path.splitext(base_name)[0] + '.csv')\n",
    "\n",
    "            with open(file_path, 'r', encoding='utf-8', errors='replace') as f:\n",
    "                lines = f.readlines()\n",
    "\n",
    "            if not lines:\n",
    "                continue\n",
    "\n",
    "            fmt = detect_format(lines)\n",
    "\n",
    "            try:\n",
    "                if fmt == 'fixed-width':\n",
    "                    process_fixed_width(lines, output_path)\n",
    "                elif fmt == 'tsv':\n",
    "                    process_delimited(lines, output_path, delimiter='\\t')\n",
    "                elif fmt == 'csv':\n",
    "                    process_delimited(lines, output_path, delimiter=',')\n",
    "                else:\n",
    "                    print(f\"Skipped unknown format: {file}\")\n",
    "                    continue\n",
    "\n",
    "                print(f\"Converted: {file} → {os.path.basename(output_path)}\")\n",
    "            except Exception as e:\n",
    "                print(f\"Failed to convert {file}: {e}\")\n",
    "\n",
    "if __name__ == \"__main__\":\n",
    "    convert_all_files([SOURCE_FOLDER_1, SOURCE_FOLDER_2], OUTPUT_FOLDER)"
   ]
  },
  {
   "cell_type": "markdown",
   "id": "72f24fa3-ebc0-454c-a5a4-6e03836fdf0a",
   "metadata": {
    "tags": []
   },
   "source": [
    "# **USER ANALYSIS**"
   ]
  },
  {
   "cell_type": "code",
   "execution_count": 4,
   "id": "03abf627-5c58-439b-8f57-57ae9bf4e360",
   "metadata": {
    "tags": []
   },
   "outputs": [],
   "source": [
    "import pandas as pd\n",
    "import os\n",
    "from collections import Counter"
   ]
  },
  {
   "cell_type": "code",
   "execution_count": 8,
   "id": "0c1b784d-2a5d-4830-92a8-4e3a3fee0cbe",
   "metadata": {
    "tags": []
   },
   "outputs": [
    {
     "name": "stdout",
     "output_type": "stream",
     "text": [
      "Messages sent per user across all chat logs:\n",
      "- lengmo: 4981\n",
      "- Shutd0wn: 3675\n",
      "- wxid_5390224027312: 1409\n",
      "- wxid_7p054rmzkhqf21: 894\n",
      "- wxid_wh6x59w70y3r22: 620\n",
      "- gzp1991101: 603\n",
      "- wxid_zb45i0rc71yk21: 590\n",
      "- wxid_70w3p1jin84k22: 523\n",
      "- wxid_hlmnhsq64tt722: 483\n",
      "- adpw90: 235\n",
      "- qq78263462: 225\n",
      "- wxid_12n748um1thl21: 192\n",
      "- wxid_mgh25nentc4u22: 190\n",
      "- just910420: 154\n",
      "- wxid_c9yv0nsla3yn22: 116\n",
      "- nullroot: 103\n",
      "- wxid_icges6alg8cl21: 91\n",
      "- wei592628: 87\n",
      "- wxid_soekgggwnfgm21: 79\n",
      "- wxid_nv9bv435fz3722: 77\n",
      "- wxid_xusilpfkh31g21: 61\n",
      "- ken73224: 58\n",
      "- hack05112: 45\n",
      "- tianyi-0608: 45\n",
      "- wxid_kbys0kvzj4ta12: 38\n",
      "- SWEET5683yao: 35\n",
      "- wxid_zbytkn4qjl3r22: 29\n",
      "- wxid_blw54o1q0q5w22: 24\n",
      "- yanzi542766277: 24\n",
      "- dujijiyiqxx: 17\n",
      "- wxid_jcnxegjccqi441: 11\n",
      "- wangchao953541: 9\n",
      "- ibabaimama: 5\n",
      "- zhangxiaoyan0422: 5\n",
      "- snipersk: 5\n",
      "- wxid_q7vkst94g5u011: 5\n"
     ]
    }
   ],
   "source": [
    "df_csvs = pd.read_csv(\"updated_with_csv_paths.csv\")\n",
    "\n",
    "def count_messages_per_user_from_csv(csv_path):\n",
    "    try:\n",
    "        df = pd.read_csv(csv_path)\n",
    "    except Exception as e:\n",
    "        print(f\"Error reading {csv_path}: {e}\")\n",
    "        return Counter()\n",
    "\n",
    "    df.columns = [col.lower() for col in df.columns]\n",
    "\n",
    "    # Identify the 'from' column\n",
    "    from_columns = [col for col in df.columns if col in ['from', 'sender', 'user']]\n",
    "    if not from_columns:\n",
    "        return Counter()\n",
    "\n",
    "    from_col = from_columns[0]\n",
    "\n",
    "    # Drop missing senders and count messages\n",
    "    user_counts = df[from_col].dropna().astype(str).str.strip()\n",
    "    return Counter(user_counts[user_counts != ''])\n",
    "\n",
    "all_message_counts = Counter()\n",
    "\n",
    "# Loop through each CSV path in the 'chats' column\n",
    "for csv_path in df_csvs['chats'].dropna().unique():\n",
    "    if isinstance(csv_path, str) and csv_path.endswith('.csv') and os.path.exists(csv_path):\n",
    "        counts = count_messages_per_user_from_csv(csv_path)\n",
    "        all_message_counts.update(counts)\n",
    "\n",
    "sorted_user_message_counts = sorted(all_message_counts.items(), key=lambda x: x[1], reverse=True)\n",
    "\n",
    "print(\"Messages sent per user across all chat logs:\")\n",
    "for user, count in sorted_user_message_counts:\n",
    "    print(f\"- {user}: {count}\")"
   ]
  },
  {
   "cell_type": "code",
   "execution_count": null,
   "id": "fafc2c45-d24c-4021-bc7a-e993374bafec",
   "metadata": {},
   "outputs": [],
   "source": [
    "import pandas as pd\n",
    "import os\n",
    "import re\n",
    "import requests\n",
    "from collections import defaultdict, Counter"
   ]
  },
  {
   "cell_type": "code",
   "execution_count": 77,
   "id": "5f64b244-8c62-4d31-b14c-c396d8cc1076",
   "metadata": {
    "tags": []
   },
   "outputs": [
    {
     "name": "stdout",
     "output_type": "stream",
     "text": [
      "              username     real_name  count  \\\n",
      "0             Shutd0wn        Mr. Wu      1   \n",
      "1               adpw90     Mr. Zheng      1   \n",
      "2   wxid_5390224027312      Mr. Wang      2   \n",
      "3  wxid_70w3p1jin84k22   Sister Qian      1   \n",
      "4         SWEET5683yao  Brother Qing      2   \n",
      "5               lengmo         Mr. C      4   \n",
      "6  wxid_7p054rmzkhqf21        Mr. Lu      2   \n",
      "7            wei592628       Mr. Wei      4   \n",
      "8             nullroot      Mr. Zhou      2   \n",
      "9           gzp1991101      Mr. Gong      7   \n",
      "\n",
      "                                            examples  \n",
      "0  28.csv:0 - \"Mr. Wu, are you available now? I'd...  \n",
      "1  4.csv:21 - \"Mr. Zheng, help me see where this ...  \n",
      "2  39.csv:311 - \"Mr. Wang, there's nothing I can ...  \n",
      "3  16.csv:104 - \"Sister Qian, don't settle for le...  \n",
      "4  22.csv:6 - \"Brother Qing, are you interested?\"...  \n",
      "5  26.csv:1 - \"Mr. C, this is a summary of the sa...  \n",
      "6  24.csv:27 - \"Mr. Lu, regarding what Ying menti...  \n",
      "7  10.csv:1 - \"Mr. Wei, roughly what aspect are y...  \n",
      "8  10.csv:6 - \"Hello Mr. Zhou, I have a few numbe...  \n",
      "9  31.csv:27 - \"Mr. Gong, have you found anything...  \n"
     ]
    }
   ],
   "source": [
    "def query_ollama(prompt, model=\"gemma3:27b\"):\n",
    "    url = \"http://localhost:11434/api/generate\"\n",
    "    payload = {\n",
    "        \"model\": model,\n",
    "        \"prompt\": prompt,\n",
    "        \"stream\": False\n",
    "    }\n",
    "    try:\n",
    "        response = requests.post(url, json=payload, timeout=90)\n",
    "        response.raise_for_status()\n",
    "        return response.json()[\"response\"].strip().lower()\n",
    "    except Exception as e:\n",
    "        return f\"[error: {e}]\"\n",
    "\n",
    "# Prompt builder\n",
    "def build_prompt(sender, receiver, message_text, honorific):\n",
    "    return (\n",
    "        f\"There is a conversation between two users:\\n\"\n",
    "        f\"User A: {sender}\\n\"\n",
    "        f\"User B: {receiver}\\n\\n\"\n",
    "        f\"The message is as follows:\\n\"\n",
    "        f\"User A → User B: {message_text}\\n\\n\"\n",
    "        f\"Question: In the sentence '{message_text}', who is {honorific} — \"\n",
    "        f\"the sender, the receiver, or a third party?\\n\\n\"\n",
    "        f\"Output format: {honorific} - give the username of the person or \"\n",
    "        f\"if they are a thirdparty, no explanation needed\"\n",
    "    )\n",
    "\n",
    "# Define patterns to detect honorifics \n",
    "honorific_keywords = [r'Mr\\.', r'Ms\\.', r'Mrs\\.', r'Miss', r'Brother', r'Sister']\n",
    "\n",
    "# Pattern to match names \n",
    "honorific_pattern = re.compile(\n",
    "    r'\\b(?:' + '|'.join(honorific_keywords) + r')\\s+(?:[A-Z]\\b|[A-Z][a-z]+)\\b',\n",
    "    re.IGNORECASE\n",
    ")\n",
    "\n",
    "# Pattern to check if a message directly addresses someone\n",
    "direct_address_pattern = re.compile(\n",
    "    r'^(hi|hello|dear)?\\s*(?:' + '|'.join(honorific_keywords) + r')\\s+(?:[A-Z]\\b|[A-Z][a-z]+)\\b[\\s,:]',\n",
    "    re.IGNORECASE\n",
    ")\n",
    "\n",
    "# Keywords indicating an indirect mention\n",
    "indirect_words = {'from', 'of', 'said', 'mentioned', 'told', 'spoke', 'called'}\n",
    "\n",
    "# Load CSV file containing paths to chat logs\n",
    "df_paths = pd.read_csv(\"updated_with_csv_paths.csv\")\n",
    "\n",
    "# Dictionaries to hold results\n",
    "title_counts = defaultdict(Counter)\n",
    "title_examples = defaultdict(list)\n",
    "\n",
    "# Loop through each chat log file\n",
    "for chat_file in df_paths['chats'].dropna().unique():\n",
    "    if not (isinstance(chat_file, str) and chat_file.endswith('.csv') and os.path.exists(chat_file)):\n",
    "        continue\n",
    "\n",
    "    try:\n",
    "        df_chat = pd.read_csv(chat_file)\n",
    "    except Exception as e:\n",
    "        print(f\"Error reading {chat_file}: {e}\")\n",
    "        continue\n",
    "\n",
    "    # Standardize column names\n",
    "    df_chat.columns = [col.lower() for col in df_chat.columns]\n",
    "    message_columns = [col for col in df_chat.columns if 'message_translation' in col]\n",
    "    sender_column = df_chat.columns[1]\n",
    "    receiver_column = df_chat.columns[2]\n",
    "\n",
    "    # Iterate through each message\n",
    "    for index, row in df_chat.iterrows():\n",
    "        for message_col in message_columns:\n",
    "            if pd.isna(row.get(message_col)):\n",
    "                continue\n",
    "\n",
    "            message = str(row[message_col]).strip()\n",
    "            sender = row.get(sender_column)\n",
    "            receiver = row.get(receiver_column)\n",
    "\n",
    "            if not receiver or receiver == sender:\n",
    "                continue\n",
    "\n",
    "            matches = honorific_pattern.findall(message)\n",
    "            if len(matches) != 1:\n",
    "                continue  # Skip ambiguous lines\n",
    "\n",
    "            honorific = matches[0].strip()\n",
    "\n",
    "            # Basic direct-address check\n",
    "            if not re.match(rf\"^(hi|hello|dear)?\\s*{re.escape(honorific)}[\\s,:]\", message, re.IGNORECASE):\n",
    "                continue\n",
    "\n",
    "            # Use LLM to validate honorific use\n",
    "            prompt = build_prompt(sender, receiver, message, honorific)\n",
    "            result = query_ollama(prompt)\n",
    "\n",
    "            if \"thirdparty\" in result:\n",
    "                continue\n",
    "\n",
    "            # Store valid matches\n",
    "            title_counts[receiver][honorific] += 1\n",
    "            title_examples[receiver].append((honorific, os.path.basename(chat_file), index, message))\n",
    "\n",
    "# Build the summary table\n",
    "summary_rows = []\n",
    "for user_id, counter in title_counts.items():\n",
    "    if not counter:\n",
    "        continue\n",
    "\n",
    "    top_honorific, count = counter.most_common(1)[0]\n",
    "\n",
    "    # Get up to 3 example messages\n",
    "    examples = [\n",
    "        f\"{file}:{line} - \\\"{msg}\\\"\"\n",
    "        for t, file, line, msg in title_examples[user_id] if t == top_honorific\n",
    "    ][:3]\n",
    "\n",
    "    summary_rows.append({\n",
    "        \"username\": user_id,\n",
    "        \"real_name\": top_honorific,\n",
    "        \"count\": count,\n",
    "        \"examples\": \" | \".join(examples)\n",
    "    })\n",
    "\n",
    "# Convert to DataFrame\n",
    "df_summary = pd.DataFrame(summary_rows, columns=[\"username\", \"real_name\", \"count\", \"examples\"])\n",
    "\n",
    "# Print the result\n",
    "print(df_summary)\n",
    "\n",
    "# Save to CSV\n",
    "df_summary.to_csv(\"honorific_usernames_cleaned.csv\", index=False)"
   ]
  },
  {
   "cell_type": "markdown",
   "id": "80181408-6966-42c4-808a-be81fea854cc",
   "metadata": {},
   "source": [
    "# *RegEx for IPs and domain names*"
   ]
  },
  {
   "cell_type": "code",
   "execution_count": 42,
   "id": "8292b702-3b9e-421d-81d8-da8aeb72bd4d",
   "metadata": {
    "tags": []
   },
   "outputs": [
    {
     "name": "stdout",
     "output_type": "stream",
     "text": [
      "[DOMAIN] 7e198208-6603-438d-836d-d24a47670b8d.md | File: 18.csv | Line: 31\n",
      "[DOMAIN] 5c84f2e2-414e-4716-bc96-0218b1bc964f.md | File: 1.csv | Line: 10\n",
      "[DOMAIN] 4b32e3c0-0887-49b2-a164-aac04b1d3da4.md | File: 1.csv | Line: 415\n",
      "[DOMAIN] meeting.tencent.com | File: 1.csv | Line: 546\n",
      "[DOMAIN] 351180cd-d982-40a2-8881-8f954cae8fd4.md | File: 1.csv | Line: 821\n",
      "[DOMAIN] 28d70cf7-5244-4834-8169-d491781f260c.md | File: 1.csv | Line: 1334\n",
      "[DOMAIN] 1188a898-edb0-40f9-a05c-d59664095e3b.md | File: 1.csv | Line: 1335\n",
      "[DOMAIN] 671ed94d-c7a1-4063-923d-9765780b8f78.md | File: 1.csv | Line: 1336\n",
      "[DOMAIN] 8a0eecb1-519e-4e8c-bfba-47ceb043943f.md | File: 1.csv | Line: 1384\n",
      "[DOMAIN] www.yutainews.com | File: 1.csv | Line: 1671\n",
      "[DOMAIN] 16079.html | File: 1.csv | Line: 1671\n",
      "[DOMAIN] finance.sina.com.cn | File: 1.csv | Line: 1681\n",
      "[DOMAIN] doc-iivhvpwx8123040.shtml | File: 1.csv | Line: 1681\n",
      "[DOMAIN] Sina.com | File: 1.csv | Line: 1897\n",
      "[DOMAIN] 86ec836a-b3a4-4c4b-9906-29c99481ea75.md | File: 1.csv | Line: 2121\n",
      "[DOMAIN] ae2260ad-f049-48e6-8f67-6d5bea48b598.md | File: 1.csv | Line: 2184\n",
      "[DOMAIN] be30265e-4c51-47d9-a8cd-0cbeae9235f8.md | File: 1.csv | Line: 2936\n",
      "[DOMAIN] 817533a9-d2b9-4ba8-95bf-f292f35a54be.md | File: 1.csv | Line: 3778\n",
      "[DOMAIN] www.cyberdefensemagazine.com | File: 1.csv | Line: 4094\n",
      "[DOMAIN] b356620a-8c37-449f-87ca-5c8add675c28.md | File: 1.csv | Line: 4126\n",
      "[DOMAIN] 5c91055f-f8d7-421a-9e67-82ca5fe67e86.md | File: 1.csv | Line: 4626\n",
      "[DOMAIN] m.sohu.com | File: 1.csv | Line: 4909\n",
      "[DOMAIN] 3e339adc-f10e-442c-b4e8-2a95a14caebb.md | File: 1.csv | Line: 5020\n",
      "[DOMAIN] cac7dae2-78a4-49a0-b30f-985209111f5e.md | File: 1.csv | Line: 5110\n",
      "[DOMAIN] cce11db4-721e-49aa-9e95-d4957a834278.md | File: 1.csv | Line: 5519\n",
      "[DOMAIN] d6081998-518e-4f06-90d1-8043ff7654b9.md | File: 1.csv | Line: 5900\n",
      "[DOMAIN] 9c7c738f-8cd0-4b95-b222-acc181f26321.md | File: 1.csv | Line: 6003\n",
      "[DOMAIN] www.plap.cn | File: 1.csv | Line: 6274\n",
      "[DOMAIN] selectArticleNewsById.do | File: 1.csv | Line: 6274\n",
      "[DOMAIN] www.cac.gov.cn | File: 1.csv | Line: 6397\n",
      "[DOMAIN] f40ce5f4-6e61-4560-8453-1ab58039a7e6.md | File: 1.csv | Line: 6488\n",
      "[DOMAIN] a0da5288-c9c5-4841-aac3-f442f861e7d7.md | File: 1.csv | Line: 6510\n",
      "[DOMAIN] 4887236f-21ed-49dd-9ed3-465875df3554.md | File: 1.csv | Line: 6511\n",
      "[DOMAIN] pan.baidu.com | File: 1.csv | Line: 6572\n",
      "[DOMAIN] f7cbab37-4a89-43d6-8b4a-96c33021e6a4.md | File: 1.csv | Line: 6601\n",
      "[DOMAIN] 907aea17-2658-48b9-8b29-09ebbbe6a835.md | File: 1.csv | Line: 6615\n",
      "[DOMAIN] 85690d83-4d92-4b25-847e-64843f4a1413.md | File: 1.csv | Line: 6778\n",
      "[DOMAIN] 20210809.pptx | File: 1.csv | Line: 6778\n",
      "[DOMAIN] V1.1.pptx | File: 1.csv | Line: 6851\n",
      "[DOMAIN] f1880704-459d-4590-8325-420ff3fd741a.md | File: 1.csv | Line: 6851\n",
      "[DOMAIN] baike.baidu.com | File: 1.csv | Line: 6883\n",
      "[DOMAIN] 5ce4ba5d-9eb3-4056-831f-9542d7c9d72b.md | File: 1.csv | Line: 7092\n",
      "[DOMAIN] 740cd99b-f3fa-49e6-9d26-bf3b45f714b4.md | File: 1.csv | Line: 7093\n",
      "[I-SOON] 安洵（海南）科技有限公司 | File: 1.csv | Line: 7125\n",
      "[I-SOON] 本来叫 安洵（海南）信息  ，后面讨论觉得 信息 范围有点小，一般做信息化这种，叫科技 感觉好些 | File: 1.csv | Line: 7127\n",
      "[DOMAIN] 72f91bf6-7e99-4260-934f-c4c8ac17660c.md | File: 1.csv | Line: 7157\n",
      "[DOMAIN] 27ab5f96-629f-4a93-8682-4991ce1eca50.md | File: 1.csv | Line: 7225\n",
      "[DOMAIN] d3686ea5-e7b8-44e4-b1a3-b441553266c9.md | File: 1.csv | Line: 7226\n",
      "[DOMAIN] surl.amap.com | File: 1.csv | Line: 7455\n",
      "[DOMAIN] 4093fa6f-a7fb-4a3a-8d68-d92b85036931.md | File: 1.csv | Line: 7467\n",
      "[DOMAIN] c1e5d3ab-15a9-4bcd-941e-1d6605bf4bce.md | File: 1.csv | Line: 7483\n",
      "[DOMAIN] 74a399c6-78d6-4d11-b362-d353b5ef31ff.md | File: 1.csv | Line: 7484\n",
      "[DOMAIN] 2a92145d-eec2-4373-9db6-8ec19894037f.md | File: 1.csv | Line: 7506\n",
      "[DOMAIN] 0dd1a611-58dd-4012-abc4-076bd01ffae9.md | File: 1.csv | Line: 7541\n",
      "[DOMAIN] 5f6a537a-d9b3-48c5-a1d8-6307d8b78bdd.md | File: 1.csv | Line: 7715\n",
      "[DOMAIN] e3dffc9a-29f2-4575-80cb-51f5c812350c.md | File: 1.csv | Line: 7866\n",
      "[I-SOON] 7号晚餐人员\n",
      "\n",
      "秦  勇     世界数字经济论坛发起人兼执行主席\n",
      "陆永军   中国国际经济技术合作促进会数字经济技术对外合作工作委员会执行副会长\n",
      "刘泉池    世界数字经济执行秘书长兼海南组委会主任\n",
      "刘家华    世界数字经济论坛海南组委会艺术总监\n",
      "沈宇庭    中科院博士、海南中小企业服务中心副主任\n",
      "陈清         海企班工信部领军人才学院院长\n",
      "齐国平     中科谷美科技有限公司董事长\n",
      "董晓菲     三亚艾迪逊星合副总监 \n",
      "韩东         安洵（海南）科技有限公司销售经理 \n",
      "霍江伟     安洵（海南）科技有限公司综管部经理 | File: 1.csv | Line: 7962\n",
      "[DOMAIN] 660e4ce8-4b44-41eb-acc4-5a88475bab49.md | File: 1.csv | Line: 7997\n",
      "[DOMAIN] 1979c730-7ed1-4058-b8ad-a992784ff16e.md | File: 1.csv | Line: 8115\n",
      "[DOMAIN] 2ef9c906-8b3b-4b96-af3e-b1a4226245d5.md | File: 1.csv | Line: 8126\n",
      "[DOMAIN] 77897e6a-cb3c-42f5-8f3e-a00498117941.md | File: 1.csv | Line: 8127\n",
      "[DOMAIN] dcbf8d50-9308-4cd2-abea-9600c63fee32.md | File: 1.csv | Line: 8128\n",
      "[DOMAIN] 4f29810a-bff7-451a-bae8-9285cbfa0592.md | File: 1.csv | Line: 8129\n",
      "[DOMAIN] 2ae2a05b-eea1-4367-8d14-e4a34d19577c.md | File: 1.csv | Line: 8130\n",
      "[DOMAIN] 692844d6-d864-4611-8a4e-a8fcb9b9bce0.md | File: 1.csv | Line: 8260\n",
      "[DOMAIN] e36d6460-fcc7-4367-99ef-4f1246d6796e.md | File: 4.csv | Line: 29\n",
      "[DOMAIN] 0d6ad850-72cb-4a82-b4e5-5eed8774d1f0.md | File: 4.csv | Line: 143\n",
      "[DOMAIN] t.wss.ink | File: 4.csv | Line: 191\n",
      "[DOMAIN] ecf77861-b963-47bc-9177-fe044449bcd1.md | File: 4.csv | Line: 229\n",
      "[DOMAIN] 9eb13193-e06b-4090-8fa8-bd14618dc601.md | File: 4.csv | Line: 240\n",
      "[DOMAIN] d9705deb-79d2-4eef-91ed-ab5ed49cb218.md | File: 4.csv | Line: 307\n",
      "[DOMAIN] mjj-rocrpy.vaiwan.com | File: 4.csv | Line: 348\n",
      "[DOMAIN] 93e424f7-a72f-4ce0-8852-35a27e5c861c.md | File: 4.csv | Line: 354\n",
      "[DOMAIN] t.wss.ink | File: 22.csv | Line: 0\n",
      "[DOMAIN] 41c27dfd-a04b-44bf-a1b7-23a5ddd51661.md | File: 22.csv | Line: 7\n",
      "[DOMAIN] b1251b89-0ed7-4fed-b155-348114886ad4.md | File: 22.csv | Line: 50\n",
      "[DOMAIN] 73ee8d33-d3b8-491a-9a19-7b1c46fdb5e2.md | File: 26.csv | Line: 0\n",
      "[DOMAIN] 54990932-71af-48dd-9a7a-2617b1407c54.md | File: 26.csv | Line: 5\n",
      "[DOMAIN] 190d3c92-51d7-4a3b-b5f8-6c05c81c8a8b.md | File: 36.csv | Line: 13\n",
      "[IP] 8.218.67.52:27011 | File: 36.csv | Line: 22\n",
      "[IP] 8.218.67.52:17011 | File: 36.csv | Line: 22\n",
      "[DOMAIN] 068f70a1-1ff9-451b-999e-2569860fd348.md | File: 36.csv | Line: 28\n",
      "[DOMAIN] e85ee311-c030-4097-9ce1-c111ba31cc98.md | File: 13.csv | Line: 16\n",
      "[DOMAIN] 969c0c50-86bb-48b0-b960-42080f56acaf.md | File: 13.csv | Line: 35\n",
      "[DOMAIN] m.guancha.cn | File: 13.csv | Line: 44\n",
      "[DOMAIN] a3b6a5a5-5000-462d-81b4-748729186507.md | File: 13.csv | Line: 206\n",
      "[DOMAIN] 585875ff-f8c5-4a02-acd7-fef37dc9ff11.md | File: 13.csv | Line: 230\n",
      "[DOMAIN] Host.Panel | File: 13.csv | Line: 230\n",
      "[DOMAIN] hector.ini | File: 13.csv | Line: 230\n",
      "[DOMAIN] Hector.ini | File: 13.csv | Line: 230\n",
      "[DOMAIN] Reptile64.out | File: 13.csv | Line: 230\n",
      "[DOMAIN] Ca.der | File: 13.csv | Line: 230\n",
      "[DOMAIN] 5.xxx | File: 13.csv | Line: 230\n",
      "[DOMAIN] 6.xxx | File: 13.csv | Line: 230\n",
      "[DOMAIN] 7.xxx | File: 13.csv | Line: 230\n",
      "[DOMAIN] Conf64.dat | File: 13.csv | Line: 230\n",
      "[DOMAIN] eda5b003-9250-4913-b724-74cca86240af.md | File: 13.csv | Line: 240\n",
      "[DOMAIN] 3d1b086f-fb39-4742-b352-bae00fda5fc2.md | File: 37.csv | Line: 210\n",
      "[DOMAIN] 20210809.pptx | File: 37.csv | Line: 210\n",
      "[IP] 74.120.172.10:10092 | File: 23.csv | Line: 3\n",
      "[DOMAIN] 12cef436-c870-4e0e-b36c-ae2a4e839f79.md | File: 23.csv | Line: 12\n",
      "[DOMAIN] 547aba02-6757-49c1-acb5-6df217cebfc7.md | File: 23.csv | Line: 21\n",
      "[DOMAIN] er.Amiaor | File: 23.csv | Line: 21\n",
      "[DOMAIN] SacnMdws.QaadarAran | File: 23.csv | Line: 21\n",
      "[DOMAIN] 6ca952e7-81ca-4443-a5d6-8c9a1c13bded.md | File: 41.csv | Line: 126\n",
      "[DOMAIN] 67faac54-0aa8-47d0-9c51-8a81b76494a5.md | File: 41.csv | Line: 199\n",
      "[DOMAIN] 65e5e6a2-7e37-4b41-9011-46c6b4361758.md | File: 41.csv | Line: 201\n",
      "[DOMAIN] cca83bcd-5caf-4723-8b09-f45779e17919.md | File: 41.csv | Line: 202\n",
      "[DOMAIN] mail.com | File: 10.csv | Line: 13\n",
      "[DOMAIN] 12756724-394c-4576-b373-7c53f1abbd94.md | File: 10.csv | Line: 84\n",
      "[I-SOON] 安洵.7z 12756724-394c-4576-b373-7c53f1abbd94.md | File: 10.csv | Line: 84\n",
      "[DOMAIN] 1cfa.mlpe | File: 9.csv | Line: 8\n",
      "[EMAIL] 576514445@qq.com | File: 9.csv | Line: 38\n",
      "[DOMAIN] qq.com | File: 9.csv | Line: 38\n",
      "[DOMAIN] gd9189.com | File: 14.csv | Line: 0\n",
      "[DOMAIN] w81518.com | File: 14.csv | Line: 0\n",
      "[DOMAIN] w66588.com | File: 14.csv | Line: 0\n",
      "[DOMAIN] www.57w66.com | File: 14.csv | Line: 0\n",
      "[DOMAIN] www.w66369.com | File: 14.csv | Line: 0\n",
      "[DOMAIN] www.w81519.com | File: 14.csv | Line: 0\n",
      "[DOMAIN] 1711e4c8-226b-4842-8ba4-847f03da612b.md | File: 14.csv | Line: 18\n",
      "[DOMAIN] 373417d8-fe60-41b4-9020-5519a897b9c3.md | File: 30.csv | Line: 0\n",
      "[DOMAIN] b2fc2f49-3238-4c50-bc00-1452af49d620.md | File: 30.csv | Line: 22\n",
      "[DOMAIN] 291c38ea-e932-45dd-ab2f-110fc60fb918.md | File: 30.csv | Line: 53\n",
      "[DOMAIN] bd0ca4bc-56f0-4964-aef3-e1555f85513b.md | File: 15.csv | Line: 93\n",
      "[DOMAIN] gov.in | File: 15.csv | Line: 198\n",
      "[DOMAIN] drdo.gov | File: 15.csv | Line: 198\n",
      "[DOMAIN] mahagst.gov.in | File: 15.csv | Line: 198\n",
      "[DOMAIN] drdo.gov.in | File: 15.csv | Line: 198\n",
      "[DOMAIN] 7b2b5031-877f-4fab-9d47-13107ffd1e12.md | File: 21.csv | Line: 145\n",
      "[DOMAIN] 53d04e6b-e187-48c6-93e6-bbe5d98cc9d6.md | File: 21.csv | Line: 157\n",
      "[DOMAIN] c5416ba8-dfc9-4f47-b93c-f0afecddd61a.md | File: 21.csv | Line: 326\n",
      "[DOMAIN] 5b4e81a8-1147-4c9f-8eeb-be8d1769778b.md | File: 21.csv | Line: 574\n",
      "[DOMAIN] a6b46d19-74b0-45d7-a535-3b13936b3f1a.md | File: 21.csv | Line: 780\n",
      "[DOMAIN] zhuanlan.zhihu.com | File: 40.csv | Line: 126\n",
      "[DOMAIN] 92da9c6b-4234-4529-a5c7-1044ca15dfad.md | File: 11.csv | Line: 0\n",
      "[DOMAIN] b4ff55ce-8c1e-46b4-9582-8b8e9ce79fa1.md | File: 11.csv | Line: 6\n",
      "[DOMAIN] pan.baidu.com | File: 35.csv | Line: 191\n",
      "[DOMAIN] 3f451a52-d210-48d9-b56e-d28b9570bdc4.md | File: 3.csv | Line: 0\n",
      "[DOMAIN] 9d7bc879-3250-4013-ac04-5ff9bd6dff40.md | File: 7.csv | Line: 1\n",
      "[IP] 121.37.141.219 | File: 6.csv | Line: 62\n",
      "[DOMAIN] dbc9c90e-a3e6-4d71-bb93-5fb8394095ac.md | File: 6.csv | Line: 98\n",
      "[DOMAIN] wss.ink | File: 2.csv | Line: 56\n",
      "[DOMAIN] 07f179c5-5705-4dbd-94a7-66eed1e066b0.md | File: 2.csv | Line: 162\n",
      "[DOMAIN] 2022-04-29.THAILAND | File: 2.csv | Line: 162\n",
      "[DOMAIN] afaps.mail.go.th | File: 2.csv | Line: 249\n",
      "[DOMAIN] asean2019.go.th | File: 2.csv | Line: 249\n",
      "[DOMAIN] navy.mail.go.th | File: 2.csv | Line: 249\n",
      "[DOMAIN] railway.co.th | File: 2.csv | Line: 249\n",
      "[DOMAIN] t.wss.ink | File: 2.csv | Line: 256\n",
      "[DOMAIN] t.wss.ink | File: 2.csv | Line: 279\n",
      "[EMAIL] ethnet@loxinfo.co.th | File: 2.csv | Line: 284\n",
      "[EMAIL] mukdawan.s@cmu.ac.th | File: 2.csv | Line: 284\n",
      "[DOMAIN] loxinfo.co.th | File: 2.csv | Line: 284\n",
      "[DOMAIN] cmu.ac.th | File: 2.csv | Line: 284\n"
     ]
    }
   ],
   "source": [
    "import pandas as pd\n",
    "import os\n",
    "import re\n",
    "\n",
    "df_csvs = pd.read_csv(\"updated_with_csv_paths.csv\")\n",
    "\n",
    "email_pattern = re.compile(r'\\b\\S+@\\S+\\.\\S+\\b')\n",
    "ip_pattern = re.compile(r'\\b(?:\\d{1,3}\\.){3}\\d{1,3}(?::\\d{1,5})?\\b')\n",
    "domain_pattern = re.compile(r'\\b(?:[a-zA-Z0-9-]+\\.)+(?:[a-zA-Z]{2,})\\b')\n",
    "isoon_pattern = re.compile(r'\\b(i[-_ ]?soon|auxun|安洵)\\b', re.IGNORECASE)\n",
    "\n",
    "bad_extensions = {'.exe', '.pdf', '.zip', '.rar', '.jpg', '.png', '.doc', '.docx', '.xlsx', '.txt'}\n",
    "\n",
    "seen = set()\n",
    "\n",
    "for csv_path in df_csvs['chats'].dropna().unique():\n",
    "    if isinstance(csv_path, str) and csv_path.endswith('.csv') and os.path.exists(csv_path):\n",
    "        try:\n",
    "            df = pd.read_csv(csv_path)\n",
    "        except Exception as e:\n",
    "            print(f\"Error reading {csv_path}: {e}\")\n",
    "            continue\n",
    "\n",
    "        df.columns = [col.lower() for col in df.columns]\n",
    "        text_cols = [col for col in df.columns if 'message' in col]\n",
    "\n",
    "        for idx, row in df.iterrows():\n",
    "            for col in text_cols:\n",
    "                if pd.notna(row.get(col)):\n",
    "                    text = str(row[col])\n",
    "\n",
    "                    for email in email_pattern.findall(text):\n",
    "                        key = (\"email\", email, csv_path, idx)\n",
    "                        if key not in seen:\n",
    "                            seen.add(key)\n",
    "                            print(f\"[EMAIL] {email} | File: {os.path.basename(csv_path)} | Line: {idx}\")\n",
    "\n",
    "                    for ip in ip_pattern.findall(text):\n",
    "                        key = (\"ip\", ip, csv_path, idx)\n",
    "                        if key not in seen:\n",
    "                            seen.add(key)\n",
    "                            print(f\"[IP] {ip} | File: {os.path.basename(csv_path)} | Line: {idx}\")\n",
    "\n",
    "                    for domain in domain_pattern.findall(text):\n",
    "                        ext = '.' + domain.split('.')[-1].lower()\n",
    "                        if '@' not in domain and ext not in bad_extensions:\n",
    "                            key = (\"domain\", domain, csv_path, idx)\n",
    "                            if key not in seen:\n",
    "                                seen.add(key)\n",
    "                                print(f\"[DOMAIN] {domain} | File: {os.path.basename(csv_path)} | Line: {idx}\")\n",
    "\n",
    "                    if isoon_pattern.search(text):\n",
    "                        key = (\"isoon\", text, csv_path, idx)\n",
    "                        if key not in seen:\n",
    "                            seen.add(key)\n",
    "                            print(f\"[I-SOON] {text} | File: {os.path.basename(csv_path)} | Line: {idx}\")"
   ]
  },
  {
   "cell_type": "code",
   "execution_count": 24,
   "id": "59e79b82-041e-4338-ab5a-babecde51a2c",
   "metadata": {
    "tags": []
   },
   "outputs": [],
   "source": [
    "def extract_unique_users_from_csv(csv_path):\n",
    "    try:\n",
    "        df = pd.read_csv(csv_path)\n",
    "    except Exception as e:\n",
    "        print(f\"Error reading {csv_path}: {e}\")\n",
    "        return set()\n",
    "\n",
    "    # Try to find user-related columns\n",
    "    user_columns = [col for col in df.columns if col.lower() in ['from', 'to', 'sender', 'receiver', 'user']]\n",
    "    \n",
    "    if not user_columns:\n",
    "        user_columns = df.select_dtypes(include=['object']).columns.tolist()\n",
    "\n",
    "    # Flatten and clean user list\n",
    "    users = pd.unique(df[user_columns].values.ravel())\n",
    "    return {str(u).strip() for u in users if pd.notna(u) and str(u).strip() != ''}"
   ]
  },
  {
   "cell_type": "code",
   "execution_count": 25,
   "id": "3624c820-6029-4b82-b649-30e5b4e91cd0",
   "metadata": {
    "tags": []
   },
   "outputs": [
    {
     "name": "stdout",
     "output_type": "stream",
     "text": [
      "Unique users found in chat logs:\n",
      "- 25713010771@chatroom\n",
      "- SWEET5683yao\n",
      "- Shutd0wn\n",
      "- adpw90\n",
      "- dujijiyiqxx\n",
      "- gzp1991101\n",
      "- hack05112\n",
      "- ibabaimama\n",
      "- just910420\n",
      "- ken73224\n",
      "- lengmo\n",
      "- nullroot\n",
      "- qq78263462\n",
      "- snipersk\n",
      "- tianyi-0608\n",
      "- wangchao953541\n",
      "- wei592628\n",
      "- wxid_12n748um1thl21\n",
      "- wxid_5390224027312\n",
      "- wxid_70w3p1jin84k22\n",
      "- wxid_7p054rmzkhqf21\n",
      "- wxid_blw54o1q0q5w22\n",
      "- wxid_c9yv0nsla3yn22\n",
      "- wxid_hlmnhsq64tt722\n",
      "- wxid_icges6alg8cl21\n",
      "- wxid_jcnxegjccqi441\n",
      "- wxid_kbys0kvzj4ta12\n",
      "- wxid_mgh25nentc4u22\n",
      "- wxid_nv9bv435fz3722\n",
      "- wxid_q7vkst94g5u011\n",
      "- wxid_soekgggwnfgm21\n",
      "- wxid_wh6x59w70y3r22\n",
      "- wxid_xusilpfkh31g21\n",
      "- wxid_zb45i0rc71yk21\n",
      "- wxid_zbytkn4qjl3r22\n",
      "- yanzi542766277\n",
      "- zhangxiaoyan0422\n"
     ]
    }
   ],
   "source": [
    "all_users = set()\n",
    "\n",
    "# Loop through each file path in 'chats' column\n",
    "for csv_path in df_csvs_llm['chats'].dropna().unique():\n",
    "    if isinstance(csv_path, str) and csv_path.endswith('.csv') and os.path.exists(csv_path):\n",
    "        users = extract_unique_users_from_csv(csv_path)\n",
    "        all_users.update(users)\n",
    "\n",
    "unique_users_from_chats = sorted(all_users)\n",
    "print(\"Unique users found in chat logs:\")\n",
    "for user in unique_users_from_chats:\n",
    "    print(\"-\", user)"
   ]
  },
  {
   "cell_type": "markdown",
   "id": "f7e0e80e-9f1c-4638-9d9d-e060454f79de",
   "metadata": {},
   "source": [
    "# **LLM extraction of user relevant data for identification**"
   ]
  },
  {
   "cell_type": "code",
   "execution_count": 14,
   "id": "b2594254-fa3c-4bac-a108-125ac97a586e",
   "metadata": {
    "tags": []
   },
   "outputs": [
    {
     "name": "stdout",
     "output_type": "stream",
     "text": [
      "Row: 546\n",
      "From: Shutd0wn → To: lengmo\n",
      "Message: Wu Haibo invites you to a Tencent Meeting\n",
      "Meeting Topic: Meeting scheduled by Wu Haibo\n",
      "Meeting Time: 2020/8/29 14:00-15:30\n",
      "\n",
      "Click the link to join, or add to meeting list:\n",
      "https://meeting.tencent.com/s/4zEAlh2Uoc6x\n",
      "\n",
      "Meeting ID: 612 649 561\n",
      "Meeting Password: 111222\n",
      "\n",
      "One-click dial-in from your phone\n",
      "+8675536550000,,612649561# (Mainland China)\n",
      "+85230018898,,,2,612649561# (Hong Kong)\n",
      "\n",
      "Dial according to your location\n",
      "+8675536550000 (Mainland China)\n",
      "+85230018898 (Hong Kong)\n",
      "------------------------------------------------------------\n",
      "Row: 1564\n",
      "From: lengmo → To: Shutd0wn\n",
      "Message: However, from a financial perspective, we really can't allow this to be completely open-ended. I remember there being a taxi approval process in DingTalk, which also prevents people from taking taxis unnecessarily. From now on, all taxi requests must be approved through DingTalk.\n",
      "------------------------------------------------------------\n",
      "Row: 3357\n",
      "From: lengmo → To: Shutd0wn\n",
      "Message: I sent you the decompression password on DingTalk.\n",
      "------------------------------------------------------------\n",
      "Row: 7867\n",
      "From: lengmo → To: Shutd0wn\n",
      "Message: More than 60% are product requirements, and the rest are internal process issues. The internal process issue is the system we just talked about in the meeting. I saw there's a free CRM system on DingTalk, we need to see if we can use it. From a cost-saving perspective, if the CRM on DingTalk works, it will save us the trouble of developing our own.\n",
      "------------------------------------------------------------\n"
     ]
    }
   ],
   "source": [
    "import pandas as pd\n",
    "import re\n",
    "\n",
    "# Load the chat log\n",
    "df = pd.read_csv(\"csvs/1.csv\")\n",
    "df = df.dropna(subset=[\"message_translation\"])\n",
    "\n",
    "# Keywords related to meeting invitations \n",
    "keywords = [\n",
    "    \"meeting\", \"conference\", \"webinar\", \"call\", \"join\", \"schedule\", \"host\", \"invites you\",\n",
    "    \"meeting id\", \"meeting link\", \"meeting password\", \"join the meeting\",\n",
    "    \"click the link\", \"click to join\", \"meeting url\", \"one-click dial-in\", \"dial-in number\",\n",
    "    \"passcode\", \"topic\", \"subject\", \"time\", \"hosted by\", \"organizer\",\n",
    "    \"会议\", \"会议主题\", \"会议链接\", \"会议时间\", \"会议密码\", \"会议ID\",\n",
    "    \"邀请\", \"主持人\", \"加入会议\", \"点击链接\", \"参会\", \"入会\", \"参会链接\", \"密码\", \"时间\",\n",
    "    \"tencent meeting\", \"meeting.tencent.com\", \"腾讯会议\",\n",
    "    \"dingtalk\", \"钉钉\",\n",
    "    \"feishu\", \"飞书\", \"lark\",\n",
    "    \"zoom\", \"wecom\", \"企业微信\",\n",
    "    \"voov\", \"voov meeting\", \"meeting.voov.com\"\n",
    "]\n",
    "\n",
    "# Create a pattern to search for those keywords\n",
    "pattern = re.compile(\"|\".join(re.escape(word) for word in keywords), re.IGNORECASE)\n",
    "\n",
    "# Check if a message is likely a meeting invite\n",
    "def is_meeting_message(text):\n",
    "    return len(re.findall(pattern, text)) >= 2\n",
    "\n",
    "# Look through each message\n",
    "for index, row in df.iterrows():\n",
    "    msg = row[\"message_translation\"]\n",
    "    if is_meeting_message(msg):\n",
    "        print(f\"Row: {index}\")\n",
    "        print(f\"From: {row['From']} → To: {row['To']}\")\n",
    "        print(f\"Message: {msg[:1000]}\")\n",
    "        print(\"-\" * 60)"
   ]
  },
  {
   "cell_type": "code",
   "execution_count": 36,
   "id": "eb75a4de-468c-49e6-b6b3-4c9ff22ae8a3",
   "metadata": {
    "tags": []
   },
   "outputs": [
    {
     "name": "stdout",
     "output_type": "stream",
     "text": [
      "Row: 1669\n",
      "From: lengmo → To: Shutd0wn\n",
      "Message: However, according to a local court judgment, Beijing Ruibang is suspected of bribery. According to a judgment from the Intermediate People's Court of Sanming City, Fujian Province, Beijing Ruibang once had procurement dealings worth tens of millions of yuan with a local network security brigade, and Beijing Ruibang once provided up to 1.188 million yuan in “sponsorship fees” to relevant officials of the local public security organs.\n",
      "------------------------------------------------------------\n",
      "Row: 3209\n",
      "From: lengmo → To: Shutd0wn\n",
      "Message: For 2021, will key accounts also participate in assessments and commissions like the sales department?\n",
      "------------------------------------------------------------\n",
      "Row: 3211\n",
      "From: lengmo → To: Shutd0wn\n",
      "Message: From now on, any clients I sign will be under the Key Account Department, and the General Office won't have any performance requirements.\n",
      "------------------------------------------------------------\n",
      "Row: 3231\n",
      "From: lengmo → To: Shutd0wn\n",
      "Message: Isn't it still just me handling the key accounts department right now?\n",
      "------------------------------------------------------------\n",
      "Row: 3270\n",
      "From: Shutd0wn → To: lengmo\n",
      "Message: 2021 Gross Profit Performance Allocation\n",
      "\n",
      "Departmental Horizontal Responsibility:\n",
      "Sales Department 30 million       National Network Security (excluding Key Account Department), aq, JZ, ZZ and others\n",
      "Key Account Department 12 million    Jiangsu, Xinjiang, Yunnan, Sichuan, Shaanxi, Five Network Security Corps, Jiangsu Province inland city detachments.\n",
      "Solutions Department 2 million   Jiangxi, Hunan, Hubei, mainly cooperating with the Sales Department.\n",
      "Service Center 11 million\n",
      "\n",
      "Business Vertical Responsibility:\n",
      "Chen Cheng Network Security Line 25 million, Implementing Departments: Key Account, Sales Department, Solutions Department.\n",
      "------------------------------------------------------------\n",
      "Row: 3272\n",
      "From: Shutd0wn → To: lengmo\n",
      "Message: Also increase the commission mechanism for the key account department, as well as the line-based commission mechanism.\n",
      "------------------------------------------------------------\n",
      "Row: 3297\n",
      "From: lengmo → To: Shutd0wn\n",
      "Message: What I mean is, the agreement I previously reached with Luobo was that when the Sales Department, including the Key Account Department, uses resources from the Technical Department, it needs to go through me for client screening and a record of how the Sales side uses technical resources. This will also help me understand the names and details of the clients Sales is working with.\n",
      "------------------------------------------------------------\n",
      "Row: 3300\n",
      "From: Shutd0wn → To: lengmo\n",
      "Message: The two groups in the technical department should create statistical interfaces, and the Key Account Department and Sales Department will use these interfaces to access technical resources, while also maintaining statistics for year-end bonus assessment, including support for cases.\n",
      "------------------------------------------------------------\n",
      "Row: 3588\n",
      "From: lengmo → To: Shutd0wn\n",
      "Message: The girls from the key accounts department are amazing.\n",
      "------------------------------------------------------------\n",
      "Row: 3743\n",
      "From: lengmo → To: Shutd0wn\n",
      "Message: There are still a lot! Many of the contracts in the key accounts department aren’t just with Party A, there are also a lot with subcontractors. If that’s the case, then let’s pull a list and see how much each person has done.\n",
      "------------------------------------------------------------\n",
      "Row: 3908\n",
      "From: Shutd0wn → To: lengmo\n",
      "Message: I told Li Zhengxia, you can only organize work meetings for the areas you oversee. Just focus on the market and key accounts for 2021, and follow the content of the email.\n",
      "------------------------------------------------------------\n",
      "Row: 3953\n",
      "From: lengmo → To: Shutd0wn\n",
      "Message: Here in Sichuan, I'm only in charge of the Key Account Department, Administrative Department, and Marketing Department. I have nothing to do with other departments. If there's anything, don't come to me, just go to him.\n",
      "------------------------------------------------------------\n",
      "Row: 3956\n",
      "From: Shutd0wn → To: lengmo\n",
      "Message: a、COO Chen Cheng, Confidentiality Office, Key Account Department, Anxun Academy, Marketing Department. Core work: Nationwide training and cybersecurity market activities, key account single points of contact, Department 11, National Cybersecurity Team, Jiangsu Province.\n",
      "                Xu Qian - Training implementation\n",
      "                Zhao Hengyu - Marketing implementation, industry-academia collaboration\n",
      "                Liu Zhenyu - Confidentiality qualifications (in application)\n",
      "            Responsibilities: Overall performance of the cybersecurity line (department and provincial/city levels), Key Account Department performance.\n",
      "------------------------------------------------------------\n",
      "Row: 4317\n",
      "From: Shutd0wn → To: lengmo\n",
      "Message: The technical requests from the key accounts department include yours, and they also need to go through the DingDing process. Unified management.\n",
      "------------------------------------------------------------\n",
      "Row: 4513\n",
      "From: lengmo → To: Shutd0wn\n",
      "Message: I coordinated with finance and then spoke with Hu Li about changing the basic account. Hu Li also said that changing the basic account is indeed unavoidable. Let's stall for a few days and see.\n",
      "------------------------------------------------------------\n",
      "Row: 4536\n",
      "From: lengmo → To: Shutd0wn\n",
      "Message: We only have one key account manager, Mei Yuting, who just started not long ago. She can handle her projects herself, but she also needs time to learn. After all, they don't understand the technical requirements the clients raise.\n",
      "------------------------------------------------------------\n",
      "Row: 5149\n",
      "From: Shutd0wn → To: lengmo\n",
      "Message: CC work breakdown:\n",
      "\n",
      "Cybersecurity business line;\n",
      "      Two legs: Key accounts (Mei, to be cultivated?); Sales Department; Monetization channel.\n",
      "Cybersecurity market; Cybersecurity training\n",
      "     Can be combined into one, done comprehensively, with the purpose of establishing a cybersecurity market image, a channel for investing manpower and resources. That is, spending money and resources. Requires a role to do it, currently Xu Qian.\n",
      "The above is business work.\n",
      "\n",
      "Work for Sichuan Anxun General Manager:\n",
      "      Daily work, Xu Qian can assist with part of it.\n",
      "      Defining and integrating local resources in Sichuan.\n",
      "------------------------------------------------------------\n",
      "Row: 5491\n",
      "From: Shutd0wn → To: lengmo\n",
      "Message: How many people per training session, how do we stagger the courses, and who are the corresponding trainees for each session?\n",
      "------------------------------------------------------------\n",
      "Row: 6126\n",
      "From: lengmo → To: Shutd0wn\n",
      "Message: Those who handled more cases are being questioned more. Previously, they would negotiate—how much money for bail—but this year, they're unwilling to do so. They're taking whatever money is in their accounts, and a lot of that money is still sitting in those accounts.\n",
      "------------------------------------------------------------\n",
      "Row: 6750\n",
      "From: lengmo → To: Shutd0wn\n",
      "Message: Regarding that organizational structure, I think we should retain key account management. In terms of responsibilities, the key account department previously established was mainly to support and follow up on projects over 300W, but sales has never provided any requests, and they've basically been handling things themselves. Currently, we are mainly focusing on the Jiangsu market, with Shanxi and Shaanxi only starting this year.\n",
      "------------------------------------------------------------\n",
      "Row: 6768\n",
      "From: lengmo → To: Shutd0wn\n",
      "Message: I understand what you mean. But my idea is to maintain the current model for key accounts, taking responsibility for the performance targets, but I won't be directly involved in projects anymore. As I said before, I'll have Cao Fei follow up with some clients in Jiangsu. I don’t have any other requests.\n",
      "------------------------------------------------------------\n",
      "Row: 6963\n",
      "From: lengmo → To: Shutd0wn\n",
      "Message: We're currently pushing forward in two cities: Dantu and Runzhou District. Dantu has already opened a case but hasn't started working on it yet. Dantu’s chief just changed, but it’s still favorable to us – the chief used to be the cyber security captain at the city bureau. The bureau asked me to go down there soon to get acquainted, and they seem willing to push this deeply. The second is Runzhou District. Currently, the specific investigation there is under the jurisdiction of public security. They were given our first lead, and they said they checked the accounts, but they didn’t match up. They gave them several accounts, but the amounts didn't add up, so they're a little hesitant and suspect the platform is falsifying its accounts. That's why they recently changed investigators and are still checking… The deputy branch chief of their city bureau is quite enthusiastic and wants to get things done. They’re also helping us recommend cities and now say some bureau chiefs in other districts might get involved, so we should wait for things to settle down before talking to them.\n",
      "------------------------------------------------------------\n",
      "Row: 7174\n",
      "From: Shutd0wn → To: lengmo\n",
      "Message: I just asked Tao Tingting, early invoicing is possible, but for projects from the key account department, early invoicing will still need to be voided and reissued, and the client won't accept that.\n",
      "------------------------------------------------------------\n",
      "Row: 7183\n",
      "From: Shutd0wn → To: lengmo\n",
      "Message: Should the Key Account Department all be penalized?\n",
      "------------------------------------------------------------\n",
      "Row: 7185\n",
      "From: lengmo → To: Shutd0wn\n",
      "Message: Also, HR told me that it's not called the Key Account Department anymore, it's called the Business Development Department?\n",
      "------------------------------------------------------------\n",
      "Row: 7186\n",
      "From: Shutd0wn → To: lengmo\n",
      "Message: You came to tell me this, I think it's ridiculous. Are you saying why aren't the key accounts being penalized?\n",
      "------------------------------------------------------------\n",
      "Row: 7189\n",
      "From: lengmo → To: Shutd0wn\n",
      "Message: Looking at the table HR sent, it says Training Center, but she's doing things for both the Key Account Department and the Management Department as an assistant.\n",
      "------------------------------------------------------------\n",
      "Row: 8170\n",
      "From: lengmo → To: Shutd0wn\n",
      "Message: Regarding the Jingdezhen issue, I asked Zhou Weiwei to communicate with the client. They raised 3 points of dissatisfaction: 1. Previously delivered a computer (an Alienware, apparently), and the motherboard failed shortly after delivery. Li Pengcheng only provided the manufacturer's contact information and didn't follow up, which frustrated the client. 2. It's about service support. During the project, they requested a case clue several times since winning the bid, but it hasn't been provided – and it doesn't exist in the backend either. 3. Regarding the telecom fraud case, the client provided the clue on Thursday, I saw it submitted to DingTalk on Friday, and today I told the client the login credentials they provided don't work. The client feels we aren't proactive and wonders if they can also be uncooperative during acceptance. I also inquired about the project details: the entire project is worth 1.38 million, with an outsourced Android🐎 component worth over 200,000, the rest being ours. We delivered our products to meet the acceptance criteria, and the remaining tasks involve providing QB and case clues, etc.\n",
      "------------------------------------------------------------\n"
     ]
    }
   ],
   "source": [
    "import pandas as pd\n",
    "import re\n",
    "\n",
    "# Load and clean data\n",
    "df = pd.read_csv(\"csvs/1.csv\")\n",
    "df = df.dropna(subset=[\"message_translation\"])\n",
    "\n",
    "# Account-related keywords\n",
    "account_keywords = [\n",
    "    \"username\", \"login\", \"user\", \"account\", \"access\", \"credentials\",\n",
    "    \"password\", \"passcode\", \"auth\", \"key\", \"token\", \"session\",\n",
    "    \"bank\", \"iban\", \"swift\", \"wallet\", \"crypto\", \"btc\", \"wallet address\",\n",
    "    \"支付宝\", \"微信支付\", \"账号\", \"账户\", \"密码\", \"卡号\", \"登录\", \"银行\"\n",
    "]\n",
    "\n",
    "# Add Chinese bank names\n",
    "chinese_banks = [\n",
    "    \"中国银行\", \"建设银行\", \"工商银行\", \"农业银行\", \"交通银行\", \"招商银行\", \n",
    "    \"邮储银行\", \"民生银行\", \"中信银行\", \"浦发银行\", \"兴业银行\", \"华夏银行\",\n",
    "    \"广发银行\", \"平安银行\", \"北京银行\", \"上海银行\", \"光大银行\", \"渤海银行\"\n",
    "]\n",
    "\n",
    "# Combine all terms\n",
    "all_keywords = account_keywords + chinese_banks\n",
    "\n",
    "# Compile regex pattern\n",
    "pattern = re.compile(\"|\".join(re.escape(word) for word in all_keywords), re.IGNORECASE)\n",
    "\n",
    "# Define match condition\n",
    "def is_account_message(text):\n",
    "    return len(re.findall(pattern, text)) >= 2\n",
    "\n",
    "# Scan and print results\n",
    "for index, row in df.iterrows():\n",
    "    msg = row[\"message_translation\"]\n",
    "    if is_account_message(msg):\n",
    "        print(f\"Row: {index}\")\n",
    "        print(f\"From: {row['From']} → To: {row['To']}\")\n",
    "        print(f\"Message: {msg[:2300]}\")\n",
    "        print(\"-\" * 60)"
   ]
  },
  {
   "cell_type": "code",
   "execution_count": 27,
   "id": "1d48a82f-09bb-45c7-9af5-9fccf2946544",
   "metadata": {
    "tags": []
   },
   "outputs": [
    {
     "name": "stdout",
     "output_type": "stream",
     "text": [
      "[ROLE] Row: 158 | From: lengmo → To: Shutd0wn\n",
      "Message: Previously, a department director from the Political and Legal Committee, at the end of August and beginning of September, is going to a county to serve as the county head... I'm planning to collaborate with that county.\n",
      "------------------------------------------------------------\n",
      "[ROLE] Row: 180 | From: lengmo → To: Shutd0wn\n",
      "Message: Now the director of the Provincial Political and Legal Committee is said to be going down to gain experience.\n",
      "------------------------------------------------------------\n",
      "[ROLE] Row: 232 | From: lengmo → To: Shutd0wn\n",
      "Message: Chief Ecological Officer\n",
      "------------------------------------------------------------\n",
      "[ROLE] Row: 624 | From: Shutd0wn → To: lengmo\n",
      "Message: Regarding this matter, please arrange a time to come to Shanghai, bring along 村长 (Village Chief) to discuss the details of 东风 (Dongfeng), and also bring 小潘 (Xiao Pan). Then this matter will be settled.\n",
      "------------------------------------------------------------\n",
      "[ROLE] Row: 625 | From: lengmo → To: Shutd0wn\n",
      "Message: So, for this matter, do I have to accompany someone to Shanghai specifically? Just let Xiao Pan go directly. I'm still waiting to finalize the competency verification question matter at the department… Shaanxi side said to ask me to meet the director of 24 Place while I'm there.\n",
      "------------------------------------------------------------\n",
      "[ROLE] Row: 770 | From: lengmo → To: Shutd0wn\n",
      "Message: Budget is 600, let's go talk to logistics tomorrow morning and see if we can use listed equipment.\n",
      "------------------------------------------------------------\n",
      "[ROLE] Row: 789 | From: Shutd0wn → To: lengmo\n",
      "Message: Security leader/number one in cybersecurity...\n",
      "------------------------------------------------------------\n",
      "[ROLE] Row: 976 | From: lengmo → To: Shutd0wn\n",
      "Message: The Shaanxi Provincial Department Director is going to Chongqing to be Director Li.\n",
      "------------------------------------------------------------\n",
      "[ROLE] Row: 977 | From: lengmo → To: Shutd0wn\n",
      "Message: Became a director.\n",
      "------------------------------------------------------------\n",
      "[ROLE] Row: 985 | From: lengmo → To: Shutd0wn\n",
      "Message: The former head of the Anti-Secession Division of the Cybersecurity Bureau within the ministry, Liu Zhiyang, has been transferred to the management office to serve as its director.\n",
      "------------------------------------------------------------\n",
      "[ROLE] Row: 1102 | From: lengmo → To: Shutd0wn\n",
      "Message: Yesterday, a leader from the department told me to hold on a little longer.\n",
      "------------------------------------------------------------\n",
      "[ROLE] Row: 1110 | From: lengmo → To: Shutd0wn\n",
      "Message: I just reported work to the new recruit’s TZ guidance office director; previously, a deputy director had given us a heads-up.\n",
      "------------------------------------------------------------\n",
      "[ROLE] Row: 1141 | From: Shutd0wn → To: lengmo\n",
      "Message: Is the highest position in the center director?\n",
      "------------------------------------------------------------\n",
      "[ROLE] Row: 1145 | From: lengmo → To: Shutd0wn\n",
      "Message: It’s not good to directly promote her to manager; let her start as a head, without increasing her level, just a lateral transfer.\n",
      "------------------------------------------------------------\n",
      "[ROLE] Row: 1366 | From: Shutd0wn → To: lengmo\n",
      "Message: Will there be a chance to become a full captain in the future? Is their captain a deputy director?\n",
      "------------------------------------------------------------\n",
      "[ROLE] Row: 1464 | From: lengmo → To: Shutd0wn\n",
      "Message: Wenqing said a few days ago that their budget for next year wasn't significantly cut either, and they even have a new leader… all future projects will be publicly bid on.\n",
      "------------------------------------------------------------\n",
      "[ROLE] Row: 1594 | From: lengmo → To: Shutd0wn\n",
      "Message: Otherwise, what are the team leader and vice team leader doing in Nanjing at night? There must be various activities.\n",
      "------------------------------------------------------------\n",
      "[ROLE] Row: 1657 | From: lengmo → To: Shutd0wn\n",
      "Message: I met their General Manager Yang in Beijing this time… he used to be the head of the Economic Investigation Department, which is good for us… after all, we charged them for the training that came over from Xinjiang.\n",
      "------------------------------------------------------------\n",
      "[ROLE] Row: 1683 | From: lengmo → To: Shutd0wn\n",
      "Message: The financial reports published by the supplier don't match those of Zhaoyi, which is also awkward.\n",
      "------------------------------------------------------------\n",
      "[ROLE] Row: 1686 | From: lengmo → To: Shutd0wn\n",
      "Message: The supplier is also a listed company… the figures don’t match up on both sides.\n",
      "------------------------------------------------------------\n",
      "[ROLE] Row: 1807 | From: lengmo → To: Shutd0wn\n",
      "Message: Also, regarding research, do we move our own research team together? Or do they stay at 76? The same applies to the infiltration team – does the team leader and their people move together? If they don't move, communication will be inconvenient, but if they do, it doesn't feel right either.\n",
      "------------------------------------------------------------\n",
      "[ROLE] Row: 1855 | From: lengmo → To: Shutd0wn\n",
      "Message: Wuxi team leader is very happy.\n",
      "------------------------------------------------------------\n",
      "[ROLE] Row: 1862 | From: Shutd0wn → To: lengmo\n",
      "Message: It shows that Boss Tong is really awesome.\n",
      "------------------------------------------------------------\n",
      "[ROLE] Row: 1865 | From: lengmo → To: Shutd0wn\n",
      "Message: The Sichuan Provincial Department’s deputy director and the deputy branch director of Chengdu both came to present the awards.\n",
      "------------------------------------------------------------\n",
      "[ROLE] Row: 1897 | From: lengmo → To: Shutd0wn\n",
      "Message: The Director of the 12th Bureau of the Ministry of Public Security, Cao Zhongping, has been appointed as the Party Secretary of the Hunan Provincial Department of Civil Affairs_mobile Sina.com\n",
      "------------------------------------------------------------\n",
      "[ROLE] Row: 1899 | From: lengmo → To: Shutd0wn\n",
      "Message: The director of Bureau 12 has been replaced.\n",
      "------------------------------------------------------------\n",
      "[ROLE] Row: 1912 | From: lengmo → To: Shutd0wn\n",
      "Message: Former Shanghai Cybersecurity Chief\n",
      "------------------------------------------------------------\n",
      "[ROLE] Row: 1928 | From: lengmo → To: Shutd0wn\n",
      "Message: Deyang asked the deputy director of the provincial department, and he recommended us.\n",
      "------------------------------------------------------------\n",
      "[ROLE] Row: 1932 | From: lengmo → To: Shutd0wn\n",
      "Message: The vice director of the Provincial Department is quite down-to-earth, a really good person, and very direct.\n",
      "------------------------------------------------------------\n",
      "[ROLE] Row: 1945 | From: lengmo → To: Shutd0wn\n",
      "Message: The deputy team leader from the Municipal Bureau who is now in charge of TZ previously trained at the Provincial Department and is the subordinate of the Vice President.\n",
      "------------------------------------------------------------\n",
      "[ROLE] Row: 1964 | From: lengmo → To: Shutd0wn\n",
      "Message: Luobo said company personnel shouldn't be placed on the third floor, and now the new researcher has nowhere to sit. Currently, there are only 2 seats available at Huang Le's side, but Huang Le doesn't want people from other teams to sit there.\n",
      "------------------------------------------------------------\n",
      "[ROLE] Row: 2113 | From: lengmo → To: Shutd0wn\n",
      "Message: Isn't that president/manager next to you drunk?\n",
      "------------------------------------------------------------\n",
      "[ROLE] Row: 2167 | From: lengmo → To: Shutd0wn\n",
      "Message: This year, Chengxin Gong wants to build a shooting range, costing approximately 4 to 6 million, and they've approached the city bureau. The new deputy director who replaced Brother Hao at the city bureau recommended us.\n",
      "------------------------------------------------------------\n",
      "[ROLE] Row: 2191 | From: Shutd0wn → To: lengmo\n",
      "Message: It should be easy to find a leader in this area.\n",
      "------------------------------------------------------------\n",
      "[ROLE] Row: 2225 | From: lengmo → To: Shutd0wn\n",
      "Message: It's all waiting for the director's signature.\n",
      "------------------------------------------------------------\n",
      "[ROLE] Row: 2361 | From: lengmo → To: Shutd0wn\n",
      "Message: Now the captain and deputy commander are both deputy directors.\n",
      "------------------------------------------------------------\n",
      "[ROLE] Row: 2362 | From: lengmo → To: Shutd0wn\n",
      "Message: He's the person under their director-level bureau chief.\n",
      "------------------------------------------------------------\n",
      "[ROLE] Row: 2364 | From: lengmo → To: Shutd0wn\n",
      "Message: Regarding spending money, the leader probably wants to find someone they trust.\n",
      "------------------------------------------------------------\n",
      "[ROLE] Row: 2365 | From: lengmo → To: Shutd0wn\n",
      "Message: Their captain is already a vice director.\n",
      "------------------------------------------------------------\n",
      "[ROLE] Row: 2565 | From: lengmo → To: Shutd0wn\n",
      "Message: He has a fellow IT engineer at AQ.\n",
      "------------------------------------------------------------\n",
      "[ROLE] Row: 2601 | From: Shutd0wn → To: lengmo\n",
      "Message: Oh, acting like a boss now.\n",
      "------------------------------------------------------------\n",
      "[ROLE] Row: 2946 | From: lengmo → To: Shutd0wn\n",
      "Message: Qian contacted the supplier we bought computers and laptops from before, it will be cheaper than buying directly from Apple, and it will be a business-to-business transaction.\n",
      "------------------------------------------------------------\n",
      "[ROLE] Row: 3039 | From: lengmo → To: Shutd0wn\n",
      "Message: I'm planning to promote XQian to L5, which is manager level, by the end of the year, and then have her lead the training center that will be established at the end of the year. What do you think?\n",
      "------------------------------------------------------------\n",
      "[ROLE] Row: 3222 | From: lengmo → To: Shutd0wn\n",
      "Message: I think we can refer to the quota of regional sales managers, after all, each regional manager also has about three provinces.\n",
      "------------------------------------------------------------\n",
      "[ROLE] Row: 3265 | From: lengmo → To: Shutd0wn\n",
      "Message: The relationship team leader of that company was arrested.\n",
      "------------------------------------------------------------\n",
      "[ROLE] Row: 3266 | From: lengmo → To: Shutd0wn\n",
      "Message: The provincial police chief was arrested.\n",
      "------------------------------------------------------------\n",
      "[ROLE] Row: 3269 | From: lengmo → To: Shutd0wn\n",
      "Message: The current team leader is reportedly sent from Beijing.\n",
      "------------------------------------------------------------\n",
      "[ROLE] Row: 3283 | From: lengmo → To: Shutd0wn\n",
      "Message: A team leader from the technology department said that some team members didn't have their salaries adjusted last year, and they applied to adjust them at the end of last year.\n",
      "------------------------------------------------------------\n",
      "[ROLE] Row: 3299 | From: lengmo → To: Shutd0wn\n",
      "Message: Radish didn't manage it before either, I used to send it directly to the team leader, and then sales would coordinate with the team leader.\n",
      "------------------------------------------------------------\n",
      "[ROLE] Row: 3417 | From: lengmo → To: Shutd0wn\n",
      "Message: This afternoon, I’ll first discuss the direction and details of cooperation with their executive deputy director.\n",
      "------------------------------------------------------------\n",
      "[ROLE] Row: 3436 | From: lengmo → To: Shutd0wn\n",
      "Message: The Sichuan Provincial Department really doesn't have much choice; the Deputy General Manager just took office and also wants to achieve results, and said yesterday that they want to rely on us.\n",
      "------------------------------------------------------------\n",
      "[ROLE] Row: 3650 | From: Shutd0wn → To: lengmo\n",
      "Message: The biggest problem with the technology department right now is that there's no head leader.\n",
      "------------------------------------------------------------\n",
      "[ROLE] Row: 3807 | From: lengmo → To: Shutd0wn\n",
      "Message: I met their vice director and director last time.\n",
      "------------------------------------------------------------\n",
      "[ROLE] Row: 3919 | From: Shutd0wn → To: lengmo\n",
      "Message: You can organize the meeting starting from these two roles: General Manager of Sichuan Anxun and the business line managed by the COO.\n",
      "------------------------------------------------------------\n",
      "[ROLE] Row: 3957 | From: Shutd0wn → To: lengmo\n",
      "Message: Sichuan Anxun General Manager Chen Cheng’s responsibilities: To externally represent Sichuan Anxun, internally coordinate all departments where Anxun Information falls within the Sichuan Anxun jurisdiction, and supervise the execution of static processes.\n",
      "------------------------------------------------------------\n",
      "[ROLE] Row: 3961 | From: Shutd0wn → To: lengmo\n",
      "Message: The second role, you are the supervisor.\n",
      "------------------------------------------------------------\n",
      "[ROLE] Row: 4099 | From: lengmo → To: Shutd0wn\n",
      "Message: Junli's boss has been worn out by accompanying them.\n",
      "------------------------------------------------------------\n",
      "[ROLE] Row: 4150 | From: lengmo → To: Shutd0wn\n",
      "Message: Their director basically agrees.\n",
      "------------------------------------------------------------\n",
      "[ROLE] Row: 4285 | From: lengmo → To: Shutd0wn\n",
      "Message: You, as the boss, don't worry about anything else, just focus on performance and revenue.\n",
      "------------------------------------------------------------\n",
      "[ROLE] Row: 4329 | From: lengmo → To: Shutd0wn\n",
      "Message: The investment is the same across the board, according to the regional manager, each of the 3 provinces is responsible for 6 million in gross profit, which isn't fair.\n",
      "------------------------------------------------------------\n",
      "[ROLE] Row: 4367 | From: lengmo → To: Shutd0wn\n",
      "Message: During my trip to Wuhan, I heard from a business partner there that Jiangsu AQ seems to be quite wealthy, so I thought about exploring the AQ market and making two to three million a year would be good.\n",
      "------------------------------------------------------------\n",
      "[ROLE] Row: 4439 | From: lengmo → To: Shutd0wn\n",
      "Message: I'm having drinks with their political commissar and vice general manager, let's talk about it tomorrow.\n",
      "------------------------------------------------------------\n",
      "[ROLE] Row: 4505 | From: lengmo → To: Shutd0wn\n",
      "Message: Do you think they would understand that? They'd probably just think it's a matter of the boss giving a word, so they came directly to us.\n",
      "------------------------------------------------------------\n",
      "[ROLE] Row: 4508 | From: Shutd0wn → To: lengmo\n",
      "Message: The boss can't undermine the financial system.\n",
      "------------------------------------------------------------\n",
      "[ROLE] Row: 4532 | From: lengmo → To: Shutd0wn\n",
      "Message: The sales department has so many people, one regional manager and an intern. How many projects does one regional manager have a year... Many of the large customer department's projects are turnkey projects, requiring coordination of downstream manufacturers, price negotiation, and delivery coordination. But nobody there understands the technical side, and they don’t understand it either.\n",
      "------------------------------------------------------------\n",
      "[ROLE] Row: 4533 | From: lengmo → To: Shutd0wn\n",
      "Message: We use the Solutions Department, which is the solution side, I went to the initial communications alone, unlike Sales who also bring a pre-sales engineer.\n",
      "------------------------------------------------------------\n",
      "[ROLE] Row: 4536 | From: lengmo → To: Shutd0wn\n",
      "Message: We only have one key account manager, Mei Yuting, who just started not long ago. She can handle her projects herself, but she also needs time to learn. After all, they don't understand the technical requirements the clients raise.\n",
      "------------------------------------------------------------\n",
      "[ROLE] Row: 4549 | From: lengmo → To: Shutd0wn\n",
      "Message: Now they say their director-level vice governor has signed off on it, and it's being passed to the vice governor in charge of finance for signature. It's estimated this will be handled as a separate project, with the fees paid separately.\n",
      "------------------------------------------------------------\n",
      "[ROLE] Row: 4735 | From: lengmo → To: Shutd0wn\n",
      "Message: The Zhenjiang proposal is still being reported, and the client is still requesting changes. Regarding Dali, we've signed our end, and their finance department said yesterday that a vice bureau director in charge of finance needs to review it before signing and sending it to us.\n",
      "------------------------------------------------------------\n",
      "[ROLE] Row: 4754 | From: lengmo → To: Shutd0wn\n",
      "Message: The city-level team leader is quite resistant to Qixinan.\n",
      "------------------------------------------------------------\n",
      "[ROLE] Row: 4792 | From: lengmo → To: Shutd0wn\n",
      "Message: Today I heard that the leader of Huang Le's team, Xie Ruoyu, might resign to go to Qixinan···\n",
      "------------------------------------------------------------\n",
      "[ROLE] Row: 4878 | From: lengmo → To: Shutd0wn\n",
      "Message: Going would be pointless, not going would be difficult since the vice general manager would ask why we didn't go.\n",
      "------------------------------------------------------------\n",
      "[ROLE] Row: 4880 | From: lengmo → To: Shutd0wn\n",
      "Message: I didn't dare to ask for details yet, he gave me the phone number of the management team leader, and I haven't contacted him yet.\n",
      "------------------------------------------------------------\n",
      "[ROLE] Row: 4881 | From: lengmo → To: Shutd0wn\n",
      "Message: The contact person given by Zhang Xueqian, the branch chief of the Level Protection Branch of the Public Security Department’s Cyber Security Corps of Sichuan Province, is this person.\n",
      "------------------------------------------------------------\n",
      "[ROLE] Row: 4889 | From: lengmo → To: Shutd0wn\n",
      "Message: Just got off the phone, they said to register first, then prepare materials, and they still need to select who will be the red team representatives.\n",
      "------------------------------------------------------------\n",
      "[ROLE] Row: 4938 | From: lengmo → To: Shutd0wn\n",
      "Message: Wutang has recently been having a complicated relationship with cybersecurity; they likely acquired the section chief of a provincial cybersecurity case.\n",
      "------------------------------------------------------------\n",
      "[ROLE] Row: 4939 | From: lengmo → To: Shutd0wn\n",
      "Message: Recently, another deputy team leader of a network security case came from the city bureau.\n",
      "------------------------------------------------------------\n",
      "[ROLE] Row: 4954 | From: lengmo → To: Shutd0wn\n",
      "Message: The provincial department's deputy director told me that as long as the ministry doesn't force the construction to be done by the three institutions, we can build it.\n",
      "------------------------------------------------------------\n",
      "[ROLE] Row: 4977 | From: lengmo → To: Shutd0wn\n",
      "Message: There’s also something about the product – I spoke with Huadong about this yesterday. It's our integrated training and exercise platform, which is actually that training platform. The Shujian side is interested in collaborating with us to develop it. Currently, our training platform is still positioned for TZ team training, but the Shujian branch chief thinks it should be raised to a higher level, made into a systematic platform for cybersecurity talent development. This includes training, practical case studies, talent skill trees, technical self-assessment and gap analysis, and the next technical knowledge points to improve – which includes TZ and forensics, as well as cases – essentially a talent training platform for the entire cybersecurity business.\n",
      "------------------------------------------------------------\n",
      "[ROLE] Row: 5028 | From: Shutd0wn → To: lengmo\n",
      "Message: Mr. Hu didn’t tell me the details, I don’t know how he arranged to meet the deputy director, it’s possible he pulled some strings through the government.\n",
      "------------------------------------------------------------\n",
      "[ROLE] Row: 5149 | From: Shutd0wn → To: lengmo\n",
      "Message: CC work breakdown:\n",
      "\n",
      "Cybersecurity business line;\n",
      "      Two legs: Key accounts (Mei, to be cultivated?); Sales Department; Monetization channel.\n",
      "Cybersecurity market; Cybersecurity training\n",
      "     Can be combined into one, done comprehensively, with the purpose of establishing a cybersecurity market image, a channel for investing manpower and resources. That is, spending money and resources. Requires a role to do it, currently Xu Qian.\n",
      "The above is business work.\n",
      "\n",
      "Work for Sichuan Anxun General Manager:\n",
      "      Daily work, Xu Qian can assist with part of it.\n",
      "      Defining and integrating local resources in Sichuan.\n",
      "------------------------------------------------------------\n",
      "[ROLE] Row: 5183 | From: lengmo → To: Shutd0wn\n",
      "Message: I told the client the same thing, and they asked us to send someone to oversee things while we can't find people, saying they don't know when we'll be able to hire and can't just wait around doing nothing. The main thing is their director is constantly monitoring them and they've used up all the excuses they could find. They previously used HW as an excuse to delay things for a month.\n",
      "------------------------------------------------------------\n",
      "[ROLE] Row: 5233 | From: Shutd0wn → To: lengmo\n",
      "Message: Our positioning is to be specialized and refined, making it easy to become a deep partner.\n",
      "------------------------------------------------------------\n",
      "[ROLE] Row: 5278 | From: Shutd0wn → To: lengmo\n",
      "Message: The Vice Mayor of Changzhou City and Director of the Public Security Bureau, Du Rongliang, is suspected of serious disciplinary violations and illegal activities and is currently under investigation by the Jiangsu Provincial Commission for Discipline Inspection and the Jiangsu Provincial Commission for Supervision.\n",
      "------------------------------------------------------------\n",
      "[ROLE] Row: 5288 | From: lengmo → To: Shutd0wn\n",
      "Message: We met with the squadron leader, and we've roughly discussed the cooperation model and framework. Because someone from the department came, the squadron leader went to receive them. We chatted for about an hour, and they asked us to draft a framework agreement, which also needs to be reported to the bureau.\n",
      "------------------------------------------------------------\n",
      "[ROLE] Row: 5403 | From: lengmo → To: Shutd0wn\n",
      "Message: Do you have time to go to Beijing recently? The director of the National Measurement Center, the top leader of National Measurement, wants to talk to us about cooperation on overseas targets and QB, introduced by Sun Mingliang. It is said that he is personally in charge of this.\n",
      "------------------------------------------------------------\n",
      "[ROLE] Row: 5437 | From: lengmo → To: Shutd0wn\n",
      "Message: Li Zhengxia just told me·· he wants to hire a marketing director?\n",
      "------------------------------------------------------------\n",
      "[ROLE] Row: 5444 | From: lengmo → To: Shutd0wn\n",
      "Message: Isn't that hiring a marketing director?\n",
      "------------------------------------------------------------\n",
      "[ROLE] Row: 5446 | From: lengmo → To: Shutd0wn\n",
      "Message: Nothing much, I heard from HR that Zhao Hengyu apparently wants to focus on doing just one thing and reporting to one person. I was thinking of hiring a marketing director, and I assumed she wouldn't be involved with the marketing department anymore.\n",
      "------------------------------------------------------------\n",
      "[ROLE] Row: 5504 | From: Shutd0wn → To: lengmo\n",
      "Message: When is the on-site engineer in Shaanxi expected to go?\n",
      "------------------------------------------------------------\n",
      "[ROLE] Row: 5536 | From: lengmo → To: Shutd0wn\n",
      "Message: He's also interacting with his deputy team leader.\n",
      "------------------------------------------------------------\n",
      "[ROLE] Row: 5560 | From: lengmo → To: Shutd0wn\n",
      "Message: Now the deputy team leader in charge of TZ and the management team is the same person, it’s not good to not go.\n",
      "------------------------------------------------------------\n",
      "[ROLE] Row: 5601 | From: lengmo → To: Shutd0wn\n",
      "Message: I'm on a business trip in Yancheng. Is that the 48-year-old marketing manager?\n",
      "------------------------------------------------------------\n",
      "[ROLE] Row: 5694 | From: lengmo → To: Shutd0wn\n",
      "Message: BM director also.\n",
      "------------------------------------------------------------\n",
      "[ROLE] Row: 5695 | From: Shutd0wn → To: lengmo\n",
      "Message: The union chairman is not yet determined, and will be decided together with the administrative department manager in the future.\n",
      "------------------------------------------------------------\n",
      "[ROLE] Row: 5696 | From: Shutd0wn → To: lengmo\n",
      "Message: BM director, Hou Min should be capable, you need to talk to her.\n",
      "------------------------------------------------------------\n",
      "[ROLE] Row: 5698 | From: lengmo → To: Shutd0wn\n",
      "Message: The administrative department manager is Zhou Qiao, she seems good at getting things done, but probably isn't good at overall coordination.\n",
      "------------------------------------------------------------\n",
      "[ROLE] Row: 5717 | From: lengmo → To: Shutd0wn\n",
      "Message: Damn it… The TZ team leader is on the same line as the total commander.\n",
      "------------------------------------------------------------\n",
      "[ROLE] Row: 5718 | From: lengmo → To: Shutd0wn\n",
      "Message: Another reversal… apparently the person being transferred in again is from the same faction as that deputy director we previously worked with.\n",
      "------------------------------------------------------------\n",
      "[ROLE] Row: 5719 | From: lengmo → To: Shutd0wn\n",
      "Message: I just met the 48-year-old marketing manager.\n",
      "------------------------------------------------------------\n",
      "[ROLE] Row: 5790 | From: lengmo → To: Shutd0wn\n",
      "Message: It's just that R&D is coordinating with them, and R&D is getting annoyed. I asked Xu Qian to first find their team leader to explain. That person thinks he understands everything.\n",
      "------------------------------------------------------------\n",
      "[ROLE] Row: 5829 | From: Shutd0wn → To: lengmo\n",
      "Message: Do you have the contact information for Director Mu on Hui Ge's side?\n",
      "------------------------------------------------------------\n",
      "[ROLE] Row: 5838 | From: lengmo → To: Shutd0wn\n",
      "Message: I've been thinking about it, and the general idea is that our company is currently at an awkward size – not big enough to be a leader, but not small either. If we want to continue to grow, we need to increase our R&D capabilities and move towards a platform-based model, something that can be replicated. With our current R&D capacity, it definitely won’t work – look at Kexun Dimension to see how that goes, replicating that part is still manageable. If we only focus on QB cases, we won’t make much money, and the investment is high. To recoup costs, we can only rely on a platform-based approach. Otherwise, we can shrink the market and investment and settle for modest success.\n",
      "------------------------------------------------------------\n",
      "[ROLE] Row: 5863 | From: lengmo → To: Shutd0wn\n",
      "Message: Regarding that project with the Sichuan Provincial Department, they asked me to go over there the afternoon before yesterday, but then I got caught up with my father’s hospitalization and forgot to mention it. The Sichuan Provincial Department hasn't had a project in many years, and several projects from other detachments are joining in, making the project quite large. Originally, their deputy director and chief of staff thought they had it settled between themselves, but now that the project is so big, their Science and Technology department designated it as \"J honey,\" and their leaders specifically want state-owned large and medium-sized enterprises, or state-owned holding companies – essentially, the “national team” – to do it. And now it’s also during the educational rectification period, so no one dares designate the project to anyone. Any decisions are made by raising hands in a vote during meetings.\n",
      "------------------------------------------------------------\n",
      "[ROLE] Row: 5866 | From: lengmo → To: Shutd0wn\n",
      "Message: This integrated platform originally had a budget of 500W, and we were working with the Chengdu Bureau. The Provincial Department hoped we would expand it, but the deputy director of the Chengdu Bureau didn't agree. Now the Provincial Department is handling it themselves.\n",
      "------------------------------------------------------------\n",
      "[ROLE] Row: 5957 | From: lengmo → To: Shutd0wn\n",
      "Message: Just got a call from Yancheng. Because the project is now undergoing acceptance testing, we've been consistently at the bottom in the TW direction. They just discussed with me a company in Fujian approaching them to promote TW QB. They want us to allocate 300k from the 2 million to that company, and claim any resources they provide as coming from us to boost the TW QB performance, otherwise the acceptance will be difficult. After some discussion, they said that company has PC🐎 and suggested we just have them supply it directly. This would mean our cost is reduced by the 100k we were originally going to pay the supplier, leaving us with an expense of around 200k.\n",
      "------------------------------------------------------------\n",
      "[ROLE] Row: 5965 | From: lengmo → To: Shutd0wn\n",
      "Message: Zhenjiang and Yangzhong both need cases, and there aren't any ready right now... Zhenjiang needs 2, and they want to proceed with them simultaneously. I'll go talk to the director in Yangzhong tomorrow, and after that, we should get leads soon... There aren't any ready cases on Zheng Song's side either.\n",
      "------------------------------------------------------------\n",
      "[ROLE] Row: 6066 | From: lengmo → To: Shutd0wn\n",
      "Message: Their boss won't be back until the end of the month, only the property manager is here, and what he says doesn't count.\n",
      "------------------------------------------------------------\n",
      "[ROLE] Row: 6070 | From: Shutd0wn → To: lengmo\n",
      "Message: You should meet with their boss and communicate, the rent won't be defaulted on, but you also need to urge them to pay attention to the matter of the property ownership certificate.\n",
      "------------------------------------------------------------\n",
      "[ROLE] Row: 6071 | From: lengmo → To: Shutd0wn\n",
      "Message: The boss will return at the end of the month, we can only communicate by phone.\n",
      "------------------------------------------------------------\n",
      "[ROLE] Row: 6099 | From: lengmo → To: Shutd0wn\n",
      "Message: I'm going to talk to Developer Xue now, he'll definitely ask when the rent can be paid, when roughly will we be able to make the payment on our end?\n",
      "------------------------------------------------------------\n",
      "[ROLE] Row: 6103 | From: lengmo → To: Shutd0wn\n",
      "Message: I'll go talk to Developer Xue first, I'll just say we're rushing to pay.\n",
      "------------------------------------------------------------\n",
      "[ROLE] Row: 6118 | From: lengmo → To: Shutd0wn\n",
      "Message: The Zhenjiang Public Security Sub-branch is for 280,000, because the data hasn't been finalized on Zheng Song's side, but they already have the approval of the vice bureau chief.\n",
      "------------------------------------------------------------\n",
      "[ROLE] Row: 6175 | From: Shutd0wn → To: lengmo\n",
      "Message: The Party Secretary and Director of the Data Department of the Shanghai Public Security Bureau, Shen Yuxin, is under disciplinary review and investigation.\n",
      "------------------------------------------------------------\n",
      "[ROLE] Row: 6178 | From: Shutd0wn → To: lengmo\n",
      "Message: Boss Tong is awesome.\n",
      "------------------------------------------------------------\n",
      "[ROLE] Row: 6180 | From: lengmo → To: Shutd0wn\n",
      "Message: Bureau Chief Tian and Director Liu did indeed say that before.\n",
      "------------------------------------------------------------\n",
      "[ROLE] Row: 6185 | From: lengmo → To: Shutd0wn\n",
      "Message: Team Leader Wang said his car is being repaired and wants to borrow the Roewe from Friday to Sunday.\n",
      "------------------------------------------------------------\n",
      "[ROLE] Row: 6190 | From: lengmo → To: Shutd0wn\n",
      "Message: Suspected of three crimes! Tang Yuehong has been prosecuted, formerly the director of the Dali Prefecture Public Security Bureau.\n",
      "------------------------------------------------------------\n",
      "[ROLE] Row: 6200 | From: lengmo → To: Shutd0wn\n",
      "Message: Regarding the Rongtong matter we discussed yesterday, yesterday a friend introduced me to the director of a QB bureau within the Joint Staff Department of the military. He said they used to be part of the Second Department of the General Staff before the military reforms. Their Joint Staff Department is responsible for the cyber and space forces. Rongtong is a company under them, apparently dealing with overseas asset protection and safeguarding the interests of Chinese companies abroad, so they need some QB personnel around the Belt and Road Initiative areas.\n",
      "------------------------------------------------------------\n",
      "[ROLE] Row: 6291 | From: lengmo → To: Shutd0wn\n",
      "Message: It's mainly about techniques and explanations for remote evidence collection in the later stages of a case. We've held so many sessions, and there isn’t much background technology left for us to discuss… I'm thinking of bringing in some vendors who aren’t really our competitors to talk about some topics. Customers + Us + Partner topics.\n",
      "------------------------------------------------------------\n",
      "[ROLE] Row: 6292 | From: lengmo → To: Shutd0wn\n",
      "Message: The first PanGu village chief also seemed to have given a lecture.\n",
      "------------------------------------------------------------\n",
      "[ROLE] Row: 6484 | From: lengmo → To: Shutd0wn\n",
      "Message: General Manager Gong introduced a young man.\n",
      "------------------------------------------------------------\n",
      "[ROLE] Row: 6498 | From: Shutd0wn → To: lengmo\n",
      "Message: Um, we can consider hiring a dedicated training manager, sourcing from within the training industry.\n",
      "------------------------------------------------------------\n",
      "[ROLE] Row: 6506 | From: lengmo → To: Shutd0wn\n",
      "Message: I found one for the county-level model, and they are willing. Their director basically means that at the county bureau level, they would like to co-build a cybercrime investigation laboratory within their bureau. What they want is a higher case closure rate and income from cases. They said they can refund one percentage point of our costs to cover our expenses. He will recommend this business with enterprises from the county standing committee meeting.\n",
      "------------------------------------------------------------\n",
      "[ROLE] Row: 6556 | From: lengmo → To: Shutd0wn\n",
      "Message: Myanmar Military Security Bureau Myanmar Federal Unity Government Myanmar Commander-in-Chief's Office\n",
      "------------------------------------------------------------\n",
      "[ROLE] Row: 6667 | From: lengmo → To: Shutd0wn\n",
      "Message: I emphasized on Monday that the primary responsibility lies with Wu Jiawei, this pre-sales engineer, and Xu Qian and Mei Yuting bear secondary responsibility.\n",
      "------------------------------------------------------------\n",
      "[ROLE] Row: 6676 | From: lengmo → To: Shutd0wn\n",
      "Message: Jiangsu Provincial Department also wants to buy 3 🐎, Windows, Linux and Android. Any supplier for Android will do, just roughly meeting the requirements. Let’s see which supplier can provide.\n",
      "------------------------------------------------------------\n",
      "[ROLE] Row: 6677 | From: Shutd0wn → To: lengmo\n",
      "Message: We definitely need to do a full version of \"Ma,\" and supplement it with the supplier's version.\n",
      "------------------------------------------------------------\n",
      "[ROLE] Row: 6690 | From: lengmo → To: Shutd0wn\n",
      "Message: This year they asked us to provide support for the campaign, but none of us went. Later, I went and discussed this year’s cooperation with them under the warm hospitality of their deputy branch chief. They were quite generous.\n",
      "------------------------------------------------------------\n",
      "[ROLE] Row: 6807 | From: lengmo → To: Shutd0wn\n",
      "Message: China Electric Power Technology Group is going to establish a cybersecurity company with a staff of 500. This executive is going to be the leader of this company, but he lacks expertise and hopes to collaborate with companies like ours.\n",
      "------------------------------------------------------------\n",
      "[ROLE] Row: 6809 | From: lengmo → To: Shutd0wn\n",
      "Message: Um, that’s what I meant. This brother is going to be the general manager of this company, and the idea is to take the security portion of Taiji’s smart city and information projects to do.\n",
      "------------------------------------------------------------\n",
      "[ROLE] Row: 6820 | From: lengmo → To: Shutd0wn\n",
      "Message: He is the general manager of this company.\n",
      "------------------------------------------------------------\n",
      "[ROLE] Row: 6887 | From: lengmo → To: Shutd0wn\n",
      "Message: Then he went to Institute 15 to be the vice director.\n",
      "------------------------------------------------------------\n",
      "[ROLE] Row: 6934 | From: lengmo → To: Shutd0wn\n",
      "Message: Why don't you meet with the people over there? After all, you are the major shareholder, the company boss.\n",
      "------------------------------------------------------------\n",
      "[ROLE] Row: 6961 | From: lengmo → To: Shutd0wn\n",
      "Message: Didn't you register before? I asked the director of another police station, and that's what he said. I don't know anyone at the Wanyanci police station.\n",
      "------------------------------------------------------------\n",
      "[ROLE] Row: 6963 | From: lengmo → To: Shutd0wn\n",
      "Message: We're currently pushing forward in two cities: Dantu and Runzhou District. Dantu has already opened a case but hasn't started working on it yet. Dantu’s chief just changed, but it’s still favorable to us – the chief used to be the cyber security captain at the city bureau. The bureau asked me to go down there soon to get acquainted, and they seem willing to push this deeply. The second is Runzhou District. Currently, the specific investigation there is under the jurisdiction of public security. They were given our first lead, and they said they checked the accounts, but they didn’t match up. They gave them several accounts, but the amounts didn't add up, so they're a little hesitant and suspect the platform is falsifying its accounts. That's why they recently changed investigators and are still checking… The deputy branch chief of their city bureau is quite enthusiastic and wants to get things done. They’re also helping us recommend cities and now say some bureau chiefs in other districts might get involved, so we should wait for things to settle down before talking to them.\n",
      "------------------------------------------------------------\n",
      "[ROLE] Row: 7080 | From: lengmo → To: Shutd0wn\n",
      "Message: We need to hire someone similar to an administrative manager first. We also need to make some changes and arrangements to the office here, and move the front desk location.\n",
      "------------------------------------------------------------\n",
      "[ROLE] Row: 7111 | From: lengmo → To: Shutd0wn\n",
      "Message: What that leader over there means is to sign this way first, get the entry ticket, and then focus on business afterwards. It’s signed on the table, but things will definitely be done nationwide under the table.\n",
      "------------------------------------------------------------\n",
      "[ROLE] Row: 7192 | From: lengmo → To: Shutd0wn\n",
      "Message: I also discussed it with Cao Fei, the Business Development Department. I suggest letting Cao Fei take over, promoting him to manager, responsible for this department, and taking responsibility for the performance. Do you think that works?\n",
      "------------------------------------------------------------\n",
      "[ROLE] Row: 7206 | From: Shutd0wn → To: lengmo\n",
      "Message: To enhance the execution capabilities of the department and at the director level, we need to cultivate a group of middle managers.\n",
      "------------------------------------------------------------\n",
      "[ROLE] Row: 7210 | From: lengmo → To: Shutd0wn\n",
      "Message: At Anxun, I don’t care about value, I just want a sense of presence, I don’t want control, I just want to be valuable. I don’t have any grand ambitions, I acknowledge you as the leader. If I can’t do anything, I actually have no aspirations. I’ll listen to your arrangements. If that doesn’t work, I’m fine with anything. I’ll listen to your arrangements.\n",
      "------------------------------------------------------------\n",
      "[ROLE] Row: 7222 | From: lengmo → To: Shutd0wn\n",
      "Message: Regarding Cao Fei taking charge of the business development department, if it doesn't work out, let him act as interim manager first, and he can be made permanent later. HR said they might be issuing an announcement tomorrow and asked me to confirm with you.\n",
      "------------------------------------------------------------\n",
      "[ROLE] Row: 7230 | From: lengmo → To: Shutd0wn\n",
      "Message: I've looked into this, it falls into two categories: one pursuing money, and one pursuing people. For those pursuing money, if we don't count the boss in a single case, the bosses are all overseas, roughly 20-\n",
      "------------------------------------------------------------\n",
      "[ROLE] Row: 7412 | From: lengmo → To: Shutd0wn\n",
      "Message: Are you talking about that investor?\n",
      "------------------------------------------------------------\n",
      "[ROLE] Row: 7455 | From: Shutd0wn → To: lengmo\n",
      "Message: 【Liyuan】City Delicacies\n",
      "【Banquet】Welcomes Guests and Friends\n",
      "\n",
      "Dear esteemed guests: Hello! Welcome to Liyuan Concept Restaurant, your reservation has been successfully made!\n",
      "【Reservation Time】: March 7th Dinner (Monday)\n",
      "【Reserved Private Room】: Room 3\n",
      "【Dedicated Consultant】: Peng Yixuan\n",
      "【Contact Number】: 19828254145\n",
      "【Gaode Navigation】: https://surl.amap.com/9cMhnYJt0nf\n",
      "\n",
      "Liyuan Concept Restaurant, all staff will sincerely serve you, and we look forward to your visit!\n",
      "------------------------------------------------------------\n",
      "[ROLE] Row: 7498 | From: lengmo → To: Shutd0wn\n",
      "Message: This person used to be the director of the Sichuan Provincial Representative Office in Beijing.\n",
      "------------------------------------------------------------\n",
      "[ROLE] Row: 7523 | From: lengmo → To: Shutd0wn\n",
      "Message: Previously a vice secretary-general of the provincial government, director of the Beijing office, and Dongge's former boss.\n",
      "------------------------------------------------------------\n",
      "[ROLE] Row: 7559 | From: lengmo → To: Shutd0wn\n",
      "Message: Their People's Congress secretary is a fellow townsman from Yancheng, and he used to be the vice director of the Chengdu Public Security Bureau.\n",
      "------------------------------------------------------------\n",
      "[ROLE] Row: 7653 | From: lengmo → To: Shutd0wn\n",
      "Message: Regarding what wasn't completed last year, I told them yesterday that we sign a supplementary strategic agreement, and then supplement it with blockchain technology, but the handling must be done by us, and their director thinks it's feasible.\n",
      "------------------------------------------------------------\n",
      "[ROLE] Row: 7720 | From: lengmo → To: Shutd0wn\n",
      "Message: Last night, Dongge said that Li Baodong, the general manager of Taiji Hainan, is in quarantine in Chengdu, and suggested we try to bring him to the company to sit for a while.\n",
      "------------------------------------------------------------\n",
      "[ROLE] Row: 7796 | From: lengmo → To: Shutd0wn\n",
      "Message: Currently he is following up on the products below. I've contacted some shares with the team leader above. This year, the main project is 10 million in Lianyungang, also 10 million in Changzhou, and there's an estimated need for another 300W. Both Lianyungang and Changzhou have expressed wanting the whole package, and the other side says they are open to discussion, hoping the epidemic improves so we can go discuss it in person.\n",
      "------------------------------------------------------------\n",
      "[ROLE] Row: 7841 | From: lengmo → To: Shutd0wn\n",
      "Message: I've looked at the newly released products these past few days, and I feel they're still a ways off from being ready to show customers. Some of the product's features and positioning are detached from actual customer scenarios. I've discussed this with Huadong and mentioned that further iterations are needed. My idea is to have someone on Zhou Weiwei's side – someone in a product manager-like role – collect and summarize customer needs and feedback from the sales side and pass it on to R&D for modifications.\n",
      "------------------------------------------------------------\n",
      "[ROLE] Row: 7908 | From: lengmo → To: Shutd0wn\n",
      "Message: Regarding the Haikou deployment matter, who has been assigned to take the lead? Their branch chief just spoke with me, feeling like there might be some issues with our internal management. They said their point of contact doesn't know who to find, and when they asked Yanzi, it seemed Yanzi wasn't clear either.\n",
      "------------------------------------------------------------\n",
      "[ROLE] Row: 7911 | From: lengmo → To: Shutd0wn\n",
      "Message: Their branch chief just asked me.\n",
      "------------------------------------------------------------\n",
      "[ROLE] Row: 7915 | From: lengmo → To: Shutd0wn\n",
      "Message: I was having dinner with their branch chief, he mentioned it, so I'll ask about it.\n",
      "------------------------------------------------------------\n",
      "[ROLE] Row: 7921 | From: lengmo → To: Shutd0wn\n",
      "Message: The person communicating with Yanzi is a Mr. Yang, and I spoke with their team leader. It seems Yanzi doesn't know the specifics and is asking around everywhere.\n",
      "------------------------------------------------------------\n",
      "[ROLE] Row: 7948 | From: lengmo → To: Shutd0wn\n",
      "Message: I just called Dongge and he said he can't make it tonight. The general manager of Luzhou Laojiao invited him to dinner tonight, so he'll probably come find you tomorrow or the day after. I have a business trip to Jiangsu early tomorrow morning.\n",
      "------------------------------------------------------------\n",
      "[ROLE] Row: 7957 | From: lengmo → To: Shutd0wn\n",
      "Message: We've already arranged for Xiaoliang to register. Later, see if groups two and three can provide remote support. The main goal is to build reputation, let Dong go brag, then pursue projects, and afterwards coordinate with the director of the Cyberspace Administration.\n",
      "------------------------------------------------------------\n",
      "[ROLE] Row: 7962 | From: lengmo → To: Shutd0wn\n",
      "Message: Dinner attendees for the 7th:\n",
      "\n",
      "Qin Yong - Founder and Executive Chairman of the World Digital Economy Forum\n",
      "Lu Yongjun - Executive Vice Chairman of the Digital Economy Technology Foreign Cooperation Working Committee of the China International Economic and Technical Cooperation Promotion Association\n",
      "Liu Quanchi - Executive Secretary-General of the World Digital Economy and Director of the Hainan Organizing Committee\n",
      "Liu Jiahua - Artistic Director of the Hainan Organizing Committee of the World Digital Economy Forum\n",
      "Shen Yuting - PhD from the Chinese Academy of Sciences, Deputy Director of the Hainan SME Service Center\n",
      "Chen Qing - Dean of the Haici Industrial and Information Technology Leadership Academy\n",
      "Qi Guoping - Chairman of Zhongke Valley Beauty Technology Co., Ltd.\n",
      "Dong Xiaofei - Deputy General Manager of Sanya Edison Star Harmony\n",
      "Han Dong - Sales Manager of Anxun (Hainan) Technology Co., Ltd.\n",
      "Huo Jiangwei - Comprehensive Management Department Manager of Anxun (Hainan) Technology Co., Ltd.\n",
      "------------------------------------------------------------\n",
      "[ROLE] Row: 8003 | From: lengmo → To: Shutd0wn\n",
      "Message: Partner with other companies, and then we can make a profit from volume and the price difference.\n",
      "------------------------------------------------------------\n",
      "[ROLE] Row: 8005 | From: lengmo → To: Shutd0wn\n",
      "Message: Dongge is asking me about the investment funds, asking about our recent receipts and when they might be available. His idea, as discussed before, is bridging funds, and he might get them from Anpin. He means that if our investment funds haven't arrived yet, he feels it would be awkward to talk to the boss of Anpin.\n",
      "------------------------------------------------------------\n",
      "[ROLE] Row: 8275 | From: lengmo → To: Shutd0wn\n",
      "Message: 1. The Yangzhou project’s acceptance application has been submitted to the audit department, and they said that a new policy this year requires a trial run of more than six months before the acceptance process can proceed. The client didn’t mention this situation before.\n",
      "2. The Jincheng project is currently stalled due to a sudden outbreak of the epidemic, with everyone busy with epidemic control. On top of that, their director was arrested, and the new branch commander who had been appointed left without being officially assigned, and no new branch commander has arrived yet.\n",
      "3. Jingtidezhen is mainly stuck on two issues: one is the official computers from Alienware – 7 were turned on and 5 broke. The client is requesting replacements, but the official company only offers repairs. The client is dissatisfied with this result. Secondly, the previously provided gambling website was rejected because the bank transaction volume they found was too small, and they want to try a different type. I’ve also had Zhou Weiwei take over the acceptance of this project. \n",
      "Currently, we are monitoring the progress of these three projects approximately every two days. I suspect the Yangzhou policy change is because the government is short on funds.\n",
      "------------------------------------------------------------\n"
     ]
    }
   ],
   "source": [
    "import pandas as pd\n",
    "import re\n",
    "\n",
    "# Load and clean data\n",
    "df = pd.read_csv(\"csvs/1.csv\")\n",
    "df = df.dropna(subset=[\"message_translation\"])\n",
    "\n",
    "# List of hierarchical or role-related terms\n",
    "role_keywords = [\n",
    "    # Leadership\n",
    "    \"leader\", \"admin\", \"supervisor\", \"manager\", \"director\", \"chief\", \"commander\", \"boss\",\n",
    "\n",
    "    # Technical\n",
    "    \"developer\", \"coder\", \"engineer\", \"technician\", \"analyst\", \"pentester\", \"red team\", \"blue team\", \"researcher\",\n",
    "\n",
    "    # Operational\n",
    "    \"operator\", \"handler\", \"organizer\", \"facilitator\", \"coordinator\", \"liaison\", \"logistics\",\n",
    "\n",
    "    # Recruitment & support\n",
    "    \"recruiter\", \"consultant\", \"advisor\", \"insider\",\n",
    "\n",
    "    # Financial/Criminal\n",
    "    \"money mule\", \"courier\", \"broker\", \"affiliate\", \"partner\", \"accomplice\", \"funder\", \"supplier\", \"investor\", \"fence\", \"associate\"\n",
    "]\n",
    "\n",
    "# Compile a case-insensitive regex\n",
    "role_pattern = re.compile(r\"\\b(\" + \"|\".join(re.escape(term) for term in role_keywords) + r\")\\b\", re.IGNORECASE)\n",
    "\n",
    "# Function to match role terms\n",
    "def is_role_message(text):\n",
    "    return bool(role_pattern.search(text))\n",
    "\n",
    "# Scan and print matches\n",
    "for index, row in df.iterrows():\n",
    "    msg = row[\"message_translation\"]\n",
    "    if is_role_message(msg):\n",
    "        print(f\"Row: {index} | From: {row['From']} → To: {row['To']}\")\n",
    "        print(f\"Message: {msg[:1300]}\")\n",
    "        print(\"-\" * 60)"
   ]
  },
  {
   "cell_type": "code",
   "execution_count": 28,
   "id": "bb10d8c3-073a-4ee4-a144-9e32ae9f936c",
   "metadata": {
    "tags": []
   },
   "outputs": [],
   "source": [
    "import pandas as pd\n",
    "import re\n",
    "import json\n",
    "\n",
    "# Load chat log\n",
    "df = pd.read_csv(\"csvs/1.csv\")\n",
    "df = df.dropna(subset=[\"message_translation\"]).reset_index(drop=True)\n",
    "\n",
    "# Function to enrich messages with ±3 context\n",
    "def enrich_messages(df, indices, window=3):\n",
    "    enriched = []\n",
    "    for idx in sorted(set(indices)):\n",
    "        start = max(0, idx - window)\n",
    "        end = min(len(df), idx + window + 1)\n",
    "        context_rows = df.iloc[start:end]\n",
    "\n",
    "        enriched.append({\n",
    "            \"focus_index\": idx,\n",
    "            \"context\": [\n",
    "                {\n",
    "                    \"timestamp\": row[\"Time\"],\n",
    "                    \"from\": row[\"From\"],\n",
    "                    \"to\": row[\"To\"],\n",
    "                    \"message\": row[\"message_translation\"]\n",
    "                }\n",
    "                for _, row in context_rows.iterrows()\n",
    "            ]\n",
    "        })\n",
    "    return enriched"
   ]
  },
  {
   "cell_type": "code",
   "execution_count": 29,
   "id": "5b0c5e4a-3189-4faf-baff-969ce4f5ba3a",
   "metadata": {
    "tags": []
   },
   "outputs": [],
   "source": [
    "def detect_meetings(df):\n",
    "    keywords = [\n",
    "        \"meeting\", \"conference\", \"webinar\", \"call\", \"join\", \"schedule\", \"host\", \"invites you\",\n",
    "        \"meeting id\", \"meeting link\", \"meeting password\", \"join the meeting\",\n",
    "        \"click the link\", \"click to join\", \"meeting url\", \"one-click dial-in\", \"dial-in number\",\n",
    "        \"passcode\", \"topic\", \"subject\", \"time\", \"hosted by\", \"organizer\",\n",
    "        \"会议\", \"会议主题\", \"会议链接\", \"会议时间\", \"会议密码\", \"会议ID\",\n",
    "        \"邀请\", \"主持人\", \"加入会议\", \"点击链接\", \"参会\", \"入会\", \"参会链接\", \"密码\", \"时间\",\n",
    "        \"tencent meeting\", \"meeting.tencent.com\", \"腾讯会议\",\n",
    "        \"dingtalk\", \"钉钉\", \"feishu\", \"飞书\", \"lark\", \"zoom\", \"wecom\", \"企业微信\",\n",
    "        \"voov\", \"voov meeting\", \"meeting.voov.com\"\n",
    "    ]\n",
    "    pattern = re.compile(\"|\".join(re.escape(k) for k in keywords), re.IGNORECASE)\n",
    "    return [i for i, m in enumerate(df[\"message_translation\"]) if len(re.findall(pattern, m)) >= 2]\n",
    "\n",
    "def detect_accounts(df):\n",
    "    keywords = [\n",
    "        \"username\", \"login\", \"user\", \"account\", \"access\", \"credentials\",\n",
    "        \"password\", \"passcode\", \"auth\", \"key\", \"token\", \"session\",\n",
    "        \"bank\", \"iban\", \"swift\", \"wallet\", \"crypto\", \"btc\", \"wallet address\",\n",
    "        \"支付宝\", \"微信支付\", \"账号\", \"账户\", \"密码\", \"卡号\", \"登录\", \"银行\",\n",
    "        \"中国银行\", \"建设银行\", \"工商银行\", \"农业银行\", \"交通银行\", \"招商银行\", \n",
    "        \"邮储银行\", \"民生银行\", \"中信银行\", \"浦发银行\", \"兴业银行\", \"华夏银行\",\n",
    "        \"广发银行\", \"平安银行\", \"北京银行\", \"上海银行\", \"光大银行\", \"渤海银行\"\n",
    "    ]\n",
    "    pattern = re.compile(\"|\".join(re.escape(k) for k in keywords), re.IGNORECASE)\n",
    "    return [i for i, m in enumerate(df[\"message_translation\"]) if len(re.findall(pattern, m)) >= 2]\n",
    "\n",
    "def detect_roles(df):\n",
    "    roles = [\n",
    "        \"leader\", \"admin\", \"supervisor\", \"manager\", \"director\", \"chief\", \"commander\", \"boss\",\n",
    "        \"developer\", \"coder\", \"engineer\", \"technician\", \"analyst\", \"pentester\", \"red team\", \"blue team\", \"researcher\",\n",
    "        \"operator\", \"handler\", \"organizer\", \"facilitator\", \"coordinator\", \"liaison\", \"logistics\",\n",
    "        \"recruiter\", \"consultant\", \"advisor\", \"insider\",\n",
    "        \"money mule\", \"courier\", \"broker\", \"affiliate\", \"partner\", \"accomplice\", \"funder\", \"supplier\", \"investor\", \"fence\", \"associate\"\n",
    "    ]\n",
    "    pattern = re.compile(r\"\\b(\" + \"|\".join(re.escape(r) for r in roles) + r\")\\b\", re.IGNORECASE)\n",
    "    return [i for i, m in enumerate(df[\"message_translation\"]) if pattern.search(m)]"
   ]
  },
  {
   "cell_type": "code",
   "execution_count": 30,
   "id": "66fa434b-9be5-4a3a-873c-6d550d3e4c45",
   "metadata": {
    "tags": []
   },
   "outputs": [
    {
     "name": "stdout",
     "output_type": "stream",
     "text": [
      "Saved 243 enriched entries to enriched_output.json\n"
     ]
    }
   ],
   "source": [
    "# Get all matching indices\n",
    "indices = (\n",
    "    detect_meetings(df) +\n",
    "    detect_accounts(df) +\n",
    "    detect_roles(df)\n",
    ")\n",
    "\n",
    "# Enrich context\n",
    "enriched = enrich_messages(df, indices)\n",
    "\n",
    "# Save to file\n",
    "with open(\"enriched_output_1.csv.json\", \"w\", encoding=\"utf-8\") as f:\n",
    "    json.dump(enriched, f, ensure_ascii=False, indent=2)\n",
    "\n",
    "print(f\"Saved {len(enriched)} enriched entries to enriched_output.json\")"
   ]
  },
  {
   "cell_type": "code",
   "execution_count": 46,
   "id": "dc4b88d3-fa9a-4f8a-9f9a-c1a83971aaf4",
   "metadata": {
    "tags": []
   },
   "outputs": [
    {
     "name": "stdout",
     "output_type": "stream",
     "text": [
      "\n",
      "\n",
      "==== PROFILE FOR: lengmo ====\n",
      "\n",
      "<think>\n",
      "Okay, let's start by looking at the user's query. They want me to generate a profile for \"lengmo\" based on the provided message history. First, I need to parse through all the messages to identify key information about Lengmo's role, responsibilities, interactions, and the context in which they operate.\n",
      "\n",
      "Looking at the messages, Lengmo frequently communicates with colleagues about various projects. The projects mentioned include IT projects like integrated security, telecom fraud cases, and projects in different cities like Yangzhou, Jincheng, Jingdezhen, etc. This suggests that Lengmo is likely involved in project management or a role that oversees multiple projects, possibly in a technical or IT company.\n",
      "\n",
      "Lengmo mentions terms like \"preliminary design document,\" \"acceptance application,\" \"outsourced components,\" and \"case clues.\" These terms are common in project management or technical implementation. The mention of financial aspects like \"investment funds,\" \"1.38 million project,\" and \"profit from volume and price difference\" indicates that Lengmo also handles financial planning and budgeting for projects.\n",
      "\n",
      "There are several instances where Lengmo coordinates with different departments such as finance, sales, and pre-sales. For example, discussing training for product sales, scheduling meetings with finance to review reports, and coordinating with Zhou Weiwei for client communication. This points to a role that requires cross-functional collaboration.\n",
      "\n",
      "Lengmo also handles client relationships, addressing client dissatisfaction and ensuring project deliverables meet expectations. The Jingdezhen issue, where the client raised three points of dissatisfaction, is managed by Lengmo, who delegates tasks to Zhou Weiwei and Xiao Liang. This shows problem-solving skills and the ability to manage client expectations.\n",
      "\n",
      "The use of specific tools like DingTalk and mentions of documents (PDFs, MD files) indicate that Lengmo works in an environment that uses digital project management tools and documentation. The mention of \"integrated security project\" and \"Android component\" suggests a focus on software or IT solutions.\n",
      "\n",
      "Lengmo's interactions also include travel, such as going to Zhenjiang and mentioning 2000 kilometers one way. This could imply that part of the job involves on-site visits or client meetings, which is common in project management roles.\n",
      "\n",
      "Financial responsibilities are evident in discussions about investment funds, bridging funds from Anpin, and the need to track receipts. Lengmo also partners with other companies to make a profit, which might be part of business development or strategic partnerships.\n",
      "\n",
      "The profile should capture Lengmo's role as a project manager or team lead in a technical company, responsible for project execution, client relations, cross-departmental coordination, financial planning, and problem-solving. They likely work in IT, software development, or a related field, given the technical projects mentioned. The profile should also highlight their communication skills, ability to handle multiple projects, and adaptability to changing circumstances like policy changes or epidemics affecting project timelines.\n",
      "\n",
      "I need to structure this information into a coherent profile, highlighting key responsibilities, skills, and context. Make sure to mention the industries they work in, the tools and methods used, and their role in addressing client issues and managing project teams. Avoid technical jargon but ensure the profile accurately reflects the insights from the message history.\n",
      "</think>\n",
      "\n",
      "**Profile for Lengmo**  \n",
      "**Role:** Senior Project Manager / Technical Operations Lead  \n",
      "**Industry:** Information Technology / Software Solutions / Integrated Security Systems  \n",
      "**Key Responsibilities:**  \n",
      "1. **Project Management:**  \n",
      "   - Oversees multiple IT/software projects (e.g., integrated security systems, telecom fraud detection, Android app development) across diverse locations (Yangzhou, Jincheng, Jingdezhen, Zhenjiang).  \n",
      "   - Manages project timelines, deliverables, and client expectations, addressing issues like hardware failures (e.g., Alienware computers), service gaps, and policy changes (e.g., 6-month trial run requirements).  \n",
      "\n",
      "2. **Client Relations & Problem Resolution:**  \n",
      "   - Resolves client dissatisfaction (e.g., Jingdezhen case: hardware defects, missing case clues, telecom fraud acceptance delays).  \n",
      "   - Delegates tasks to teams (e.g., Zhou Weiwei for client communication, Xiao Liang for lead retrieval) to ensure project acceptance and payment.  \n",
      "\n",
      "3. **Cross-Functional Collaboration:**  \n",
      "   - Coordinates with sales, finance, and pre-sales teams to align product releases, training, and financial planning.  \n",
      "   - Partners with external vendors and companies to optimize profitability (e.g., volume pricing, profit from price differences).  \n",
      "\n",
      "4. **Strategic & Financial Planning:**  \n",
      "   - Tracks investment funds, bridges financial gaps (e.g., Anpin partnerships), and monitors project budgets (e.g., 1.38M RMB project).  \n",
      "   - Evaluates risks (e.g., epidemic impacts, director arrests) and adapts strategies accordingly.  \n",
      "\n",
      "5. **Operational Execution:**  \n",
      "   - Manages documentation (design specs, acceptance reports) and leverages tools like DingTalk for communication.  \n",
      "   - Travels frequently for on-site project reviews and client meetings (e.g., Zhenjiang, Chengdu).  \n",
      "\n",
      "**Skills & Competencies:**  \n",
      "- **Technical:** Project lifecycle management, IT/software integration, risk mitigation.  \n",
      "- **Interpersonal:** Client negotiation, conflict resolution, team leadership.  \n",
      "- **Analytical:** Financial forecasting, policy compliance, problem diagnosis (e.g., identifying missing case clues).  \n",
      "- **Adaptability:** Navigates unpredictable challenges (e.g., policy changes, epidemic disruptions, client demands).  \n",
      "\n",
      "**Work Environment:**  \n",
      "- High-pressure, fast-paced, with a focus on cross-departmental and remote collaboration.  \n",
      "- Requires strong communication skills to balance technical details, client expectations, and business goals.  \n",
      "\n",
      "**Key Tools/Platforms:**  \n",
      "- DingTalk (communication), project management software, financial tracking systems, and technical documentation tools (PDF/MD formats).  \n",
      "\n",
      "**Notable Traits:**  \n",
      "- Results-oriented, with a focus on project completion and client satisfaction.  \n",
      "- Proactive in addressing issues (e.g., preemptively checking policy updates).  \n",
      "- Balances technical execution with business strategy (e.g., profit-driven partnerships).  \n",
      "\n",
      "**Challenges Addressed:**  \n",
      "- Client dissatisfaction due to service gaps or hardware issues.  \n",
      "- Regulatory or financial hurdles (e.g., new trial run policies).  \n",
      "- External disruptions (e.g., epidemics, leadership changes in client organizations).  \n",
      "\n",
      "**Outcomes Achieved:**  \n",
      "- Streamlined project acceptance processes.  \n",
      "- Strengthened client relationships through proactive communication.  \n",
      "- Optimized profitability via strategic partnerships and resource integration.  \n",
      "\n",
      "**Summary:**  \n",
      "Lengmo is a versatile project leader in the IT/tech sector, adept at managing complex projects, resolving client issues, and aligning technical and business objectives. Their role combines technical expertise, financial acumen, and interpersonal skills to drive operational success in a dynamic environment.\n",
      "================================================================================\n",
      "\n",
      "\n",
      "==== PROFILE FOR: Shutd0wn ====\n",
      "\n"
     ]
    },
    {
     "ename": "KeyboardInterrupt",
     "evalue": "",
     "output_type": "error",
     "traceback": [
      "\u001b[31m---------------------------------------------------------------------------\u001b[39m",
      "\u001b[31mKeyboardInterrupt\u001b[39m                         Traceback (most recent call last)",
      "\u001b[36mCell\u001b[39m\u001b[36m \u001b[39m\u001b[32mIn[46]\u001b[39m\u001b[32m, line 50\u001b[39m\n\u001b[32m     46\u001b[39m \u001b[38;5;28mprint\u001b[39m(\u001b[33mf\u001b[39m\u001b[33m\"\u001b[39m\u001b[38;5;130;01m\\n\u001b[39;00m\u001b[38;5;130;01m\\n\u001b[39;00m\u001b[33m==== PROFILE FOR: \u001b[39m\u001b[38;5;132;01m{\u001b[39;00muser\u001b[38;5;132;01m}\u001b[39;00m\u001b[33m ====\u001b[39m\u001b[38;5;130;01m\\n\u001b[39;00m\u001b[33m\"\u001b[39m)\n\u001b[32m     48\u001b[39m prompt = create_full_prompt(user, messages)\n\u001b[32m---> \u001b[39m\u001b[32m50\u001b[39m response = \u001b[43mrequests\u001b[49m\u001b[43m.\u001b[49m\u001b[43mpost\u001b[49m\u001b[43m(\u001b[49m\n\u001b[32m     51\u001b[39m \u001b[43m    \u001b[49m\u001b[33;43m\"\u001b[39;49m\u001b[33;43mhttp://localhost:11434/api/generate\u001b[39;49m\u001b[33;43m\"\u001b[39;49m\u001b[43m,\u001b[49m\n\u001b[32m     52\u001b[39m \u001b[43m    \u001b[49m\u001b[43mjson\u001b[49m\u001b[43m=\u001b[49m\u001b[43m{\u001b[49m\u001b[33;43m\"\u001b[39;49m\u001b[33;43mmodel\u001b[39;49m\u001b[33;43m\"\u001b[39;49m\u001b[43m:\u001b[49m\u001b[43m \u001b[49m\u001b[43mmodel\u001b[49m\u001b[43m,\u001b[49m\u001b[43m \u001b[49m\u001b[33;43m\"\u001b[39;49m\u001b[33;43mprompt\u001b[39;49m\u001b[33;43m\"\u001b[39;49m\u001b[43m:\u001b[49m\u001b[43m \u001b[49m\u001b[43mprompt\u001b[49m\u001b[43m,\u001b[49m\u001b[43m \u001b[49m\u001b[33;43m\"\u001b[39;49m\u001b[33;43mstream\u001b[39;49m\u001b[33;43m\"\u001b[39;49m\u001b[43m:\u001b[49m\u001b[43m \u001b[49m\u001b[38;5;28;43;01mFalse\u001b[39;49;00m\u001b[43m}\u001b[49m\n\u001b[32m     53\u001b[39m \u001b[43m\u001b[49m\u001b[43m)\u001b[49m\n\u001b[32m     55\u001b[39m \u001b[38;5;28mprint\u001b[39m(response.json()[\u001b[33m\"\u001b[39m\u001b[33mresponse\u001b[39m\u001b[33m\"\u001b[39m])\n\u001b[32m     56\u001b[39m \u001b[38;5;28mprint\u001b[39m(\u001b[33m\"\u001b[39m\u001b[33m=\u001b[39m\u001b[33m\"\u001b[39m * \u001b[32m80\u001b[39m)\n",
      "\u001b[36mFile \u001b[39m\u001b[32m~/IsoonAI/lib/python3.11/site-packages/requests/api.py:115\u001b[39m, in \u001b[36mpost\u001b[39m\u001b[34m(url, data, json, **kwargs)\u001b[39m\n\u001b[32m    103\u001b[39m \u001b[38;5;28;01mdef\u001b[39;00m\u001b[38;5;250m \u001b[39m\u001b[34mpost\u001b[39m(url, data=\u001b[38;5;28;01mNone\u001b[39;00m, json=\u001b[38;5;28;01mNone\u001b[39;00m, **kwargs):\n\u001b[32m    104\u001b[39m \u001b[38;5;250m    \u001b[39m\u001b[33mr\u001b[39m\u001b[33;03m\"\"\"Sends a POST request.\u001b[39;00m\n\u001b[32m    105\u001b[39m \n\u001b[32m    106\u001b[39m \u001b[33;03m    :param url: URL for the new :class:`Request` object.\u001b[39;00m\n\u001b[32m   (...)\u001b[39m\u001b[32m    112\u001b[39m \u001b[33;03m    :rtype: requests.Response\u001b[39;00m\n\u001b[32m    113\u001b[39m \u001b[33;03m    \"\"\"\u001b[39;00m\n\u001b[32m--> \u001b[39m\u001b[32m115\u001b[39m     \u001b[38;5;28;01mreturn\u001b[39;00m \u001b[43mrequest\u001b[49m\u001b[43m(\u001b[49m\u001b[33;43m\"\u001b[39;49m\u001b[33;43mpost\u001b[39;49m\u001b[33;43m\"\u001b[39;49m\u001b[43m,\u001b[49m\u001b[43m \u001b[49m\u001b[43murl\u001b[49m\u001b[43m,\u001b[49m\u001b[43m \u001b[49m\u001b[43mdata\u001b[49m\u001b[43m=\u001b[49m\u001b[43mdata\u001b[49m\u001b[43m,\u001b[49m\u001b[43m \u001b[49m\u001b[43mjson\u001b[49m\u001b[43m=\u001b[49m\u001b[43mjson\u001b[49m\u001b[43m,\u001b[49m\u001b[43m \u001b[49m\u001b[43m*\u001b[49m\u001b[43m*\u001b[49m\u001b[43mkwargs\u001b[49m\u001b[43m)\u001b[49m\n",
      "\u001b[36mFile \u001b[39m\u001b[32m~/IsoonAI/lib/python3.11/site-packages/requests/api.py:59\u001b[39m, in \u001b[36mrequest\u001b[39m\u001b[34m(method, url, **kwargs)\u001b[39m\n\u001b[32m     55\u001b[39m \u001b[38;5;66;03m# By using the 'with' statement we are sure the session is closed, thus we\u001b[39;00m\n\u001b[32m     56\u001b[39m \u001b[38;5;66;03m# avoid leaving sockets open which can trigger a ResourceWarning in some\u001b[39;00m\n\u001b[32m     57\u001b[39m \u001b[38;5;66;03m# cases, and look like a memory leak in others.\u001b[39;00m\n\u001b[32m     58\u001b[39m \u001b[38;5;28;01mwith\u001b[39;00m sessions.Session() \u001b[38;5;28;01mas\u001b[39;00m session:\n\u001b[32m---> \u001b[39m\u001b[32m59\u001b[39m     \u001b[38;5;28;01mreturn\u001b[39;00m \u001b[43msession\u001b[49m\u001b[43m.\u001b[49m\u001b[43mrequest\u001b[49m\u001b[43m(\u001b[49m\u001b[43mmethod\u001b[49m\u001b[43m=\u001b[49m\u001b[43mmethod\u001b[49m\u001b[43m,\u001b[49m\u001b[43m \u001b[49m\u001b[43murl\u001b[49m\u001b[43m=\u001b[49m\u001b[43murl\u001b[49m\u001b[43m,\u001b[49m\u001b[43m \u001b[49m\u001b[43m*\u001b[49m\u001b[43m*\u001b[49m\u001b[43mkwargs\u001b[49m\u001b[43m)\u001b[49m\n",
      "\u001b[36mFile \u001b[39m\u001b[32m~/IsoonAI/lib/python3.11/site-packages/requests/sessions.py:589\u001b[39m, in \u001b[36mSession.request\u001b[39m\u001b[34m(self, method, url, params, data, headers, cookies, files, auth, timeout, allow_redirects, proxies, hooks, stream, verify, cert, json)\u001b[39m\n\u001b[32m    584\u001b[39m send_kwargs = {\n\u001b[32m    585\u001b[39m     \u001b[33m\"\u001b[39m\u001b[33mtimeout\u001b[39m\u001b[33m\"\u001b[39m: timeout,\n\u001b[32m    586\u001b[39m     \u001b[33m\"\u001b[39m\u001b[33mallow_redirects\u001b[39m\u001b[33m\"\u001b[39m: allow_redirects,\n\u001b[32m    587\u001b[39m }\n\u001b[32m    588\u001b[39m send_kwargs.update(settings)\n\u001b[32m--> \u001b[39m\u001b[32m589\u001b[39m resp = \u001b[38;5;28;43mself\u001b[39;49m\u001b[43m.\u001b[49m\u001b[43msend\u001b[49m\u001b[43m(\u001b[49m\u001b[43mprep\u001b[49m\u001b[43m,\u001b[49m\u001b[43m \u001b[49m\u001b[43m*\u001b[49m\u001b[43m*\u001b[49m\u001b[43msend_kwargs\u001b[49m\u001b[43m)\u001b[49m\n\u001b[32m    591\u001b[39m \u001b[38;5;28;01mreturn\u001b[39;00m resp\n",
      "\u001b[36mFile \u001b[39m\u001b[32m~/IsoonAI/lib/python3.11/site-packages/requests/sessions.py:703\u001b[39m, in \u001b[36mSession.send\u001b[39m\u001b[34m(self, request, **kwargs)\u001b[39m\n\u001b[32m    700\u001b[39m start = preferred_clock()\n\u001b[32m    702\u001b[39m \u001b[38;5;66;03m# Send the request\u001b[39;00m\n\u001b[32m--> \u001b[39m\u001b[32m703\u001b[39m r = \u001b[43madapter\u001b[49m\u001b[43m.\u001b[49m\u001b[43msend\u001b[49m\u001b[43m(\u001b[49m\u001b[43mrequest\u001b[49m\u001b[43m,\u001b[49m\u001b[43m \u001b[49m\u001b[43m*\u001b[49m\u001b[43m*\u001b[49m\u001b[43mkwargs\u001b[49m\u001b[43m)\u001b[49m\n\u001b[32m    705\u001b[39m \u001b[38;5;66;03m# Total elapsed time of the request (approximately)\u001b[39;00m\n\u001b[32m    706\u001b[39m elapsed = preferred_clock() - start\n",
      "\u001b[36mFile \u001b[39m\u001b[32m~/IsoonAI/lib/python3.11/site-packages/requests/adapters.py:667\u001b[39m, in \u001b[36mHTTPAdapter.send\u001b[39m\u001b[34m(self, request, stream, timeout, verify, cert, proxies)\u001b[39m\n\u001b[32m    664\u001b[39m     timeout = TimeoutSauce(connect=timeout, read=timeout)\n\u001b[32m    666\u001b[39m \u001b[38;5;28;01mtry\u001b[39;00m:\n\u001b[32m--> \u001b[39m\u001b[32m667\u001b[39m     resp = \u001b[43mconn\u001b[49m\u001b[43m.\u001b[49m\u001b[43murlopen\u001b[49m\u001b[43m(\u001b[49m\n\u001b[32m    668\u001b[39m \u001b[43m        \u001b[49m\u001b[43mmethod\u001b[49m\u001b[43m=\u001b[49m\u001b[43mrequest\u001b[49m\u001b[43m.\u001b[49m\u001b[43mmethod\u001b[49m\u001b[43m,\u001b[49m\n\u001b[32m    669\u001b[39m \u001b[43m        \u001b[49m\u001b[43murl\u001b[49m\u001b[43m=\u001b[49m\u001b[43murl\u001b[49m\u001b[43m,\u001b[49m\n\u001b[32m    670\u001b[39m \u001b[43m        \u001b[49m\u001b[43mbody\u001b[49m\u001b[43m=\u001b[49m\u001b[43mrequest\u001b[49m\u001b[43m.\u001b[49m\u001b[43mbody\u001b[49m\u001b[43m,\u001b[49m\n\u001b[32m    671\u001b[39m \u001b[43m        \u001b[49m\u001b[43mheaders\u001b[49m\u001b[43m=\u001b[49m\u001b[43mrequest\u001b[49m\u001b[43m.\u001b[49m\u001b[43mheaders\u001b[49m\u001b[43m,\u001b[49m\n\u001b[32m    672\u001b[39m \u001b[43m        \u001b[49m\u001b[43mredirect\u001b[49m\u001b[43m=\u001b[49m\u001b[38;5;28;43;01mFalse\u001b[39;49;00m\u001b[43m,\u001b[49m\n\u001b[32m    673\u001b[39m \u001b[43m        \u001b[49m\u001b[43massert_same_host\u001b[49m\u001b[43m=\u001b[49m\u001b[38;5;28;43;01mFalse\u001b[39;49;00m\u001b[43m,\u001b[49m\n\u001b[32m    674\u001b[39m \u001b[43m        \u001b[49m\u001b[43mpreload_content\u001b[49m\u001b[43m=\u001b[49m\u001b[38;5;28;43;01mFalse\u001b[39;49;00m\u001b[43m,\u001b[49m\n\u001b[32m    675\u001b[39m \u001b[43m        \u001b[49m\u001b[43mdecode_content\u001b[49m\u001b[43m=\u001b[49m\u001b[38;5;28;43;01mFalse\u001b[39;49;00m\u001b[43m,\u001b[49m\n\u001b[32m    676\u001b[39m \u001b[43m        \u001b[49m\u001b[43mretries\u001b[49m\u001b[43m=\u001b[49m\u001b[38;5;28;43mself\u001b[39;49m\u001b[43m.\u001b[49m\u001b[43mmax_retries\u001b[49m\u001b[43m,\u001b[49m\n\u001b[32m    677\u001b[39m \u001b[43m        \u001b[49m\u001b[43mtimeout\u001b[49m\u001b[43m=\u001b[49m\u001b[43mtimeout\u001b[49m\u001b[43m,\u001b[49m\n\u001b[32m    678\u001b[39m \u001b[43m        \u001b[49m\u001b[43mchunked\u001b[49m\u001b[43m=\u001b[49m\u001b[43mchunked\u001b[49m\u001b[43m,\u001b[49m\n\u001b[32m    679\u001b[39m \u001b[43m    \u001b[49m\u001b[43m)\u001b[49m\n\u001b[32m    681\u001b[39m \u001b[38;5;28;01mexcept\u001b[39;00m (ProtocolError, \u001b[38;5;167;01mOSError\u001b[39;00m) \u001b[38;5;28;01mas\u001b[39;00m err:\n\u001b[32m    682\u001b[39m     \u001b[38;5;28;01mraise\u001b[39;00m \u001b[38;5;167;01mConnectionError\u001b[39;00m(err, request=request)\n",
      "\u001b[36mFile \u001b[39m\u001b[32m~/IsoonAI/lib/python3.11/site-packages/urllib3/connectionpool.py:787\u001b[39m, in \u001b[36mHTTPConnectionPool.urlopen\u001b[39m\u001b[34m(self, method, url, body, headers, retries, redirect, assert_same_host, timeout, pool_timeout, release_conn, chunked, body_pos, preload_content, decode_content, **response_kw)\u001b[39m\n\u001b[32m    784\u001b[39m response_conn = conn \u001b[38;5;28;01mif\u001b[39;00m \u001b[38;5;129;01mnot\u001b[39;00m release_conn \u001b[38;5;28;01melse\u001b[39;00m \u001b[38;5;28;01mNone\u001b[39;00m\n\u001b[32m    786\u001b[39m \u001b[38;5;66;03m# Make the request on the HTTPConnection object\u001b[39;00m\n\u001b[32m--> \u001b[39m\u001b[32m787\u001b[39m response = \u001b[38;5;28;43mself\u001b[39;49m\u001b[43m.\u001b[49m\u001b[43m_make_request\u001b[49m\u001b[43m(\u001b[49m\n\u001b[32m    788\u001b[39m \u001b[43m    \u001b[49m\u001b[43mconn\u001b[49m\u001b[43m,\u001b[49m\n\u001b[32m    789\u001b[39m \u001b[43m    \u001b[49m\u001b[43mmethod\u001b[49m\u001b[43m,\u001b[49m\n\u001b[32m    790\u001b[39m \u001b[43m    \u001b[49m\u001b[43murl\u001b[49m\u001b[43m,\u001b[49m\n\u001b[32m    791\u001b[39m \u001b[43m    \u001b[49m\u001b[43mtimeout\u001b[49m\u001b[43m=\u001b[49m\u001b[43mtimeout_obj\u001b[49m\u001b[43m,\u001b[49m\n\u001b[32m    792\u001b[39m \u001b[43m    \u001b[49m\u001b[43mbody\u001b[49m\u001b[43m=\u001b[49m\u001b[43mbody\u001b[49m\u001b[43m,\u001b[49m\n\u001b[32m    793\u001b[39m \u001b[43m    \u001b[49m\u001b[43mheaders\u001b[49m\u001b[43m=\u001b[49m\u001b[43mheaders\u001b[49m\u001b[43m,\u001b[49m\n\u001b[32m    794\u001b[39m \u001b[43m    \u001b[49m\u001b[43mchunked\u001b[49m\u001b[43m=\u001b[49m\u001b[43mchunked\u001b[49m\u001b[43m,\u001b[49m\n\u001b[32m    795\u001b[39m \u001b[43m    \u001b[49m\u001b[43mretries\u001b[49m\u001b[43m=\u001b[49m\u001b[43mretries\u001b[49m\u001b[43m,\u001b[49m\n\u001b[32m    796\u001b[39m \u001b[43m    \u001b[49m\u001b[43mresponse_conn\u001b[49m\u001b[43m=\u001b[49m\u001b[43mresponse_conn\u001b[49m\u001b[43m,\u001b[49m\n\u001b[32m    797\u001b[39m \u001b[43m    \u001b[49m\u001b[43mpreload_content\u001b[49m\u001b[43m=\u001b[49m\u001b[43mpreload_content\u001b[49m\u001b[43m,\u001b[49m\n\u001b[32m    798\u001b[39m \u001b[43m    \u001b[49m\u001b[43mdecode_content\u001b[49m\u001b[43m=\u001b[49m\u001b[43mdecode_content\u001b[49m\u001b[43m,\u001b[49m\n\u001b[32m    799\u001b[39m \u001b[43m    \u001b[49m\u001b[43m*\u001b[49m\u001b[43m*\u001b[49m\u001b[43mresponse_kw\u001b[49m\u001b[43m,\u001b[49m\n\u001b[32m    800\u001b[39m \u001b[43m\u001b[49m\u001b[43m)\u001b[49m\n\u001b[32m    802\u001b[39m \u001b[38;5;66;03m# Everything went great!\u001b[39;00m\n\u001b[32m    803\u001b[39m clean_exit = \u001b[38;5;28;01mTrue\u001b[39;00m\n",
      "\u001b[36mFile \u001b[39m\u001b[32m~/IsoonAI/lib/python3.11/site-packages/urllib3/connectionpool.py:534\u001b[39m, in \u001b[36mHTTPConnectionPool._make_request\u001b[39m\u001b[34m(self, conn, method, url, body, headers, retries, timeout, chunked, response_conn, preload_content, decode_content, enforce_content_length)\u001b[39m\n\u001b[32m    532\u001b[39m \u001b[38;5;66;03m# Receive the response from the server\u001b[39;00m\n\u001b[32m    533\u001b[39m \u001b[38;5;28;01mtry\u001b[39;00m:\n\u001b[32m--> \u001b[39m\u001b[32m534\u001b[39m     response = \u001b[43mconn\u001b[49m\u001b[43m.\u001b[49m\u001b[43mgetresponse\u001b[49m\u001b[43m(\u001b[49m\u001b[43m)\u001b[49m\n\u001b[32m    535\u001b[39m \u001b[38;5;28;01mexcept\u001b[39;00m (BaseSSLError, \u001b[38;5;167;01mOSError\u001b[39;00m) \u001b[38;5;28;01mas\u001b[39;00m e:\n\u001b[32m    536\u001b[39m     \u001b[38;5;28mself\u001b[39m._raise_timeout(err=e, url=url, timeout_value=read_timeout)\n",
      "\u001b[36mFile \u001b[39m\u001b[32m~/IsoonAI/lib/python3.11/site-packages/urllib3/connection.py:516\u001b[39m, in \u001b[36mHTTPConnection.getresponse\u001b[39m\u001b[34m(self)\u001b[39m\n\u001b[32m    513\u001b[39m _shutdown = \u001b[38;5;28mgetattr\u001b[39m(\u001b[38;5;28mself\u001b[39m.sock, \u001b[33m\"\u001b[39m\u001b[33mshutdown\u001b[39m\u001b[33m\"\u001b[39m, \u001b[38;5;28;01mNone\u001b[39;00m)\n\u001b[32m    515\u001b[39m \u001b[38;5;66;03m# Get the response from http.client.HTTPConnection\u001b[39;00m\n\u001b[32m--> \u001b[39m\u001b[32m516\u001b[39m httplib_response = \u001b[38;5;28;43msuper\u001b[39;49m\u001b[43m(\u001b[49m\u001b[43m)\u001b[49m\u001b[43m.\u001b[49m\u001b[43mgetresponse\u001b[49m\u001b[43m(\u001b[49m\u001b[43m)\u001b[49m\n\u001b[32m    518\u001b[39m \u001b[38;5;28;01mtry\u001b[39;00m:\n\u001b[32m    519\u001b[39m     assert_header_parsing(httplib_response.msg)\n",
      "\u001b[36mFile \u001b[39m\u001b[32m/opt/miniconda3/lib/python3.11/http/client.py:1390\u001b[39m, in \u001b[36mHTTPConnection.getresponse\u001b[39m\u001b[34m(self)\u001b[39m\n\u001b[32m   1388\u001b[39m \u001b[38;5;28;01mtry\u001b[39;00m:\n\u001b[32m   1389\u001b[39m     \u001b[38;5;28;01mtry\u001b[39;00m:\n\u001b[32m-> \u001b[39m\u001b[32m1390\u001b[39m         \u001b[43mresponse\u001b[49m\u001b[43m.\u001b[49m\u001b[43mbegin\u001b[49m\u001b[43m(\u001b[49m\u001b[43m)\u001b[49m\n\u001b[32m   1391\u001b[39m     \u001b[38;5;28;01mexcept\u001b[39;00m \u001b[38;5;167;01mConnectionError\u001b[39;00m:\n\u001b[32m   1392\u001b[39m         \u001b[38;5;28mself\u001b[39m.close()\n",
      "\u001b[36mFile \u001b[39m\u001b[32m/opt/miniconda3/lib/python3.11/http/client.py:325\u001b[39m, in \u001b[36mHTTPResponse.begin\u001b[39m\u001b[34m(self)\u001b[39m\n\u001b[32m    323\u001b[39m \u001b[38;5;66;03m# read until we get a non-100 response\u001b[39;00m\n\u001b[32m    324\u001b[39m \u001b[38;5;28;01mwhile\u001b[39;00m \u001b[38;5;28;01mTrue\u001b[39;00m:\n\u001b[32m--> \u001b[39m\u001b[32m325\u001b[39m     version, status, reason = \u001b[38;5;28;43mself\u001b[39;49m\u001b[43m.\u001b[49m\u001b[43m_read_status\u001b[49m\u001b[43m(\u001b[49m\u001b[43m)\u001b[49m\n\u001b[32m    326\u001b[39m     \u001b[38;5;28;01mif\u001b[39;00m status != CONTINUE:\n\u001b[32m    327\u001b[39m         \u001b[38;5;28;01mbreak\u001b[39;00m\n",
      "\u001b[36mFile \u001b[39m\u001b[32m/opt/miniconda3/lib/python3.11/http/client.py:286\u001b[39m, in \u001b[36mHTTPResponse._read_status\u001b[39m\u001b[34m(self)\u001b[39m\n\u001b[32m    285\u001b[39m \u001b[38;5;28;01mdef\u001b[39;00m\u001b[38;5;250m \u001b[39m\u001b[34m_read_status\u001b[39m(\u001b[38;5;28mself\u001b[39m):\n\u001b[32m--> \u001b[39m\u001b[32m286\u001b[39m     line = \u001b[38;5;28mstr\u001b[39m(\u001b[38;5;28mself\u001b[39m.fp.readline(_MAXLINE + \u001b[32m1\u001b[39m), \u001b[33m\"\u001b[39m\u001b[33miso-8859-1\u001b[39m\u001b[33m\"\u001b[39m)\n\u001b[32m    287\u001b[39m     \u001b[38;5;28;01mif\u001b[39;00m \u001b[38;5;28mlen\u001b[39m(line) > _MAXLINE:\n\u001b[32m    288\u001b[39m         \u001b[38;5;28;01mraise\u001b[39;00m LineTooLong(\u001b[33m\"\u001b[39m\u001b[33mstatus line\u001b[39m\u001b[33m\"\u001b[39m)\n",
      "\u001b[36mFile \u001b[39m\u001b[32m/opt/miniconda3/lib/python3.11/socket.py:706\u001b[39m, in \u001b[36mSocketIO.readinto\u001b[39m\u001b[34m(self, b)\u001b[39m\n\u001b[32m    704\u001b[39m \u001b[38;5;28;01mwhile\u001b[39;00m \u001b[38;5;28;01mTrue\u001b[39;00m:\n\u001b[32m    705\u001b[39m     \u001b[38;5;28;01mtry\u001b[39;00m:\n\u001b[32m--> \u001b[39m\u001b[32m706\u001b[39m         \u001b[38;5;28;01mreturn\u001b[39;00m \u001b[38;5;28;43mself\u001b[39;49m\u001b[43m.\u001b[49m\u001b[43m_sock\u001b[49m\u001b[43m.\u001b[49m\u001b[43mrecv_into\u001b[49m\u001b[43m(\u001b[49m\u001b[43mb\u001b[49m\u001b[43m)\u001b[49m\n\u001b[32m    707\u001b[39m     \u001b[38;5;28;01mexcept\u001b[39;00m timeout:\n\u001b[32m    708\u001b[39m         \u001b[38;5;28mself\u001b[39m._timeout_occurred = \u001b[38;5;28;01mTrue\u001b[39;00m\n",
      "\u001b[31mKeyboardInterrupt\u001b[39m: "
     ]
    }
   ],
   "source": [
    "import json\n",
    "import requests\n",
    "from collections import defaultdict\n",
    "\n",
    "# === Config ===\n",
    "json_path = \"enriched_output_1.csv.json\"\n",
    "model = \"qwen3:32b\"  # Adjust to your local model\n",
    "\n",
    "# === Load full enriched data ===\n",
    "with open(json_path, \"r\", encoding=\"utf-8\") as f:\n",
    "    enriched_data = json.load(f)\n",
    "\n",
    "# === Group messages by sender across all blocks ===\n",
    "user_messages = defaultdict(list)\n",
    "\n",
    "for block in enriched_data:\n",
    "    for msg in block[\"context\"]:\n",
    "        sender = msg[\"from\"]\n",
    "        user_messages[sender].append(\n",
    "            f\"[{msg['timestamp']}] {msg['from']} → {msg['to']}:\\n{msg['message']}\"\n",
    "        )\n",
    "\n",
    "# === Create prompt for one user based on all their messages ===\n",
    "def create_full_prompt(user, messages):\n",
    "    messages_text = \"\\n\".join(messages)\n",
    "    return f\"\"\"\n",
    "You are a law enforcement officer analysing some chat logs\n",
    "\n",
    "Below is a collection of internal messages written by a user named \"{user}\". Your task is to create a structured profile of this person.\n",
    "\n",
    "ONLY ANSWER THE FOLLOWING in this format and include only 1 answer + give confidence:\n",
    "Username: <username>\n",
    "Real name: <real name>\n",
    "Working for: <company name>\n",
    "Position in the Company: <company position>\n",
    "\n",
    "Messages:\n",
    "{messages_text}\n",
    "\n",
    "End of messages.\n",
    "Generate the profile for: {user}\n",
    "\"\"\".strip()\n",
    "\n",
    "# === Loop through each sender, send prompt to Ollama ===\n",
    "for user, messages in user_messages.items():\n",
    "    print(f\"\\n\\n==== PROFILE FOR: {user} ====\\n\")\n",
    "\n",
    "    prompt = create_full_prompt(user, messages)\n",
    "\n",
    "    response = requests.post(\n",
    "        \"http://localhost:11434/api/generate\",\n",
    "        json={\"model\": model, \"prompt\": prompt, \"stream\": False}\n",
    "    )\n",
    "\n",
    "    print(response.json()[\"response\"])\n",
    "    print(\"=\" * 80)"
   ]
  },
  {
   "cell_type": "markdown",
   "id": "12e7d53f-7376-40b2-9818-452231587964",
   "metadata": {
    "tags": []
   },
   "source": [
    "# **Financial Infrastructures Analysis**"
   ]
  },
  {
   "cell_type": "code",
   "execution_count": 2,
   "id": "2e7847de-f686-4967-b334-2b9ebee7c081",
   "metadata": {},
   "outputs": [],
   "source": [
    "from langchain_ollama.llms import OllamaLLM\n",
    "from langchain_ollama import OllamaEmbeddings\n",
    "from langchain.vectorstores import Chroma\n",
    "from langchain_core.prompts import ChatPromptTemplate\n",
    "from langchain_core.documents import Document\n",
    "import pandas as pd\n",
    "import os"
   ]
  },
  {
   "cell_type": "code",
   "execution_count": 3,
   "id": "43ba5cba-946f-4657-a3b8-d9d51eb411b8",
   "metadata": {
    "tags": []
   },
   "outputs": [
    {
     "name": "stderr",
     "output_type": "stream",
     "text": [
      "/tmp/ipykernel_20294/3807150908.py:38: LangChainDeprecationWarning: The class `Chroma` was deprecated in LangChain 0.2.9 and will be removed in 1.0. An updated version of the class exists in the langchain-chroma package and should be used instead. To use it run `pip install -U langchain-chroma` and import as `from langchain_chroma import Chroma`.\n",
      "  vector_store = Chroma(\n"
     ]
    }
   ],
   "source": [
    "import os\n",
    "import pandas as pd\n",
    "from langchain.vectorstores import Chroma\n",
    "from langchain.embeddings import OllamaEmbeddings\n",
    "from langchain.schema import Document\n",
    "\n",
    "# Load a single CSV file\n",
    "csv_file = \"csvs/10.csv\"\n",
    "df = pd.read_csv(csv_file)\n",
    "\n",
    "# Initialize the embedding model\n",
    "embeddings = OllamaEmbeddings(model=\"mxbai-embed-large\")\n",
    "\n",
    "# Setup vector DB path\n",
    "db_location = \"./chroma_financial_chat_db\"\n",
    "add_documents = not os.path.exists(db_location)\n",
    "\n",
    "# Only add documents if the database doesn't already exist\n",
    "if add_documents:\n",
    "    documents = []\n",
    "    ids = []\n",
    "    for i, row in df.iterrows():\n",
    "        document = Document(\n",
    "            page_content=row[\"message_translation\"],\n",
    "            metadata={\n",
    "                \"sender\": row[\"From\"],\n",
    "                \"receiver\": row[\"To\"],\n",
    "                \"timestamp\": row[\"Time\"],\n",
    "                \"source_file\": os.path.basename(csv_file),   # Track source file\n",
    "                \"line_number\": i + 1                         # Track line number\n",
    "            },\n",
    "            id=f\"{os.path.basename(csv_file)}_{i}\"            # Ensure unique ID\n",
    "        )\n",
    "        documents.append(document)\n",
    "        ids.append(f\"{os.path.basename(csv_file)}_{i}\")\n",
    "\n",
    "# Create or load the Chroma vector store\n",
    "vector_store = Chroma(\n",
    "    collection_name=\"financial_chats\",\n",
    "    persist_directory=db_location,\n",
    "    embedding_function=embeddings\n",
    ")\n",
    "\n",
    "if add_documents:\n",
    "    vector_store.add_documents(documents=documents, ids=ids)\n",
    "\n",
    "# Setup retriever for use in RAG\n",
    "retriever = vector_store.as_retriever(search_kwargs={\"k\": 15})"
   ]
  },
  {
   "cell_type": "code",
   "execution_count": 4,
   "id": "9ad2851e-9636-4ac5-a439-27f4c1c0710e",
   "metadata": {
    "tags": []
   },
   "outputs": [],
   "source": [
    "model = OllamaLLM(model=\"gemma3:27b\") \n",
    "\n",
    "template = \"\"\"\n",
    "You are a cybersecurity analyst reviewing translated chat messages for financial intelligence.\n",
    "\n",
    "Your task is to extract ONLY the messages that contain **financially relevant information**, such as:\n",
    "\n",
    "- Payments or money transfers\n",
    "- Amounts, currencies, or sums of money\n",
    "- Payment methods (cash, crypto, bank, wallets)\n",
    "- Account numbers, codes, or financial identifiers\n",
    "- Mentions of financial roles (payer, payee, client, broker)\n",
    "- References to suspicious or recurring financial activity\n",
    "\n",
    "From the messages below:\n",
    "{chats}\n",
    "\n",
    "Return ONLY the messages that meet any of the criteria above.\n",
    "\n",
    "For each relevant message, output:\n",
    "- The **timestamp** (if provided in the metadata or inferred)\n",
    "- The **translated content** of the message\n",
    "\n",
    "Do not summarize. Do not explain. Do not include non-financial content.  \n",
    "**DO NOT create or infer messages. Use only the exact text from the messages provided. If no messages match, return nothing.**\n",
    "\n",
    "Output format:\n",
    "[Time] Message\n",
    "\"\"\"\n",
    "\n",
    "prompt = ChatPromptTemplate.from_template(template)\n",
    "chain = prompt | model"
   ]
  },
  {
   "cell_type": "code",
   "execution_count": 5,
   "id": "12e153ea-7ffe-4452-bb03-e3e1856130cb",
   "metadata": {
    "tags": []
   },
   "outputs": [
    {
     "name": "stdout",
     "output_type": "stream",
     "text": [
      "[10.csv - line 21] Account TGtadie, phone: 18510867099, name: Wang Ning.\n",
      "\n",
      "\n",
      "\n",
      "\n"
     ]
    }
   ],
   "source": [
    "question = \"Extract only the chat messages that refer to money, payments, currencies, accounts, financial identifiers, or financial discussions\"\n",
    "\n",
    "# Retrieve relevant chats\n",
    "retrieved_docs = retriever.invoke(question)\n",
    "\n",
    "# Combine messages with metadata for context\n",
    "chat_texts = \"\\n\\n\".join([\n",
    "    f\"[{doc.metadata['source_file']} - line {doc.metadata['line_number']}] {doc.page_content}\"\n",
    "    for doc in retrieved_docs\n",
    "])\n",
    "\n",
    "# Run through the LLM\n",
    "response = chain.invoke({\"chats\": chat_texts})\n",
    "\n",
    "# Output the result\n",
    "print(response)"
   ]
  }
 ],
 "metadata": {
  "kernelspec": {
   "display_name": "Python (IsoonAI)",
   "language": "python",
   "name": "isoonai"
  },
  "language_info": {
   "codemirror_mode": {
    "name": "ipython",
    "version": 3
   },
   "file_extension": ".py",
   "mimetype": "text/x-python",
   "name": "python",
   "nbconvert_exporter": "python",
   "pygments_lexer": "ipython3",
   "version": "3.11.8"
  }
 },
 "nbformat": 4,
 "nbformat_minor": 5
}
