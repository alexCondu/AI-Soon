{
 "cells": [
  {
   "cell_type": "markdown",
   "id": "71a110e3-4173-4d67-add3-6037ae06710f",
   "metadata": {
    "tags": []
   },
   "source": [
    "# **DATA EXTRACTION FROM ZIP + EXTENSION SORTING**"
   ]
  },
  {
   "cell_type": "code",
   "execution_count": 2,
   "id": "6559c645-340c-4646-b646-39b14bcd9932",
   "metadata": {
    "tags": []
   },
   "outputs": [
    {
     "name": "stdout",
     "output_type": "stream",
     "text": [
      "Directory 'test' has been deleted.\n"
     ]
    }
   ],
   "source": [
    "import shutil\n",
    "import os\n",
    "\n",
    "# Directory to delete\n",
    "EXTRACT_DIR = 'test'\n",
    "\n",
    "# Check if the directory exists and delete it\n",
    "if os.path.isdir(EXTRACT_DIR):\n",
    "    shutil.rmtree(EXTRACT_DIR)\n",
    "    print(f\"Directory '{EXTRACT_DIR}' has been deleted.\")\n",
    "else:\n",
    "    print(f\"Directory '{EXTRACT_DIR}' does not exist.\")"
   ]
  },
  {
   "cell_type": "markdown",
   "id": "052e6866-8bd5-4a36-94d2-3670b2a736d5",
   "metadata": {
    "tags": []
   },
   "source": [
    "## ZIP Extraction"
   ]
  },
  {
   "cell_type": "code",
   "execution_count": 3,
   "id": "5776e2db-42ed-4aa2-a497-1a545810a7f2",
   "metadata": {
    "tags": []
   },
   "outputs": [
    {
     "name": "stdout",
     "output_type": "stream",
     "text": [
      "CPU cores:  144\n"
     ]
    }
   ],
   "source": [
    "import zipfile\n",
    "import shutil\n",
    "import os\n",
    "import pandas as pd"
   ]
  },
  {
   "cell_type": "code",
   "execution_count": 4,
   "id": "2befe2f0-40aa-4ffa-8a73-7443ff5760b2",
   "metadata": {
    "tags": []
   },
   "outputs": [
    {
     "name": "stdout",
     "output_type": "stream",
     "text": [
      "Extracted to: 0\n"
     ]
    }
   ],
   "source": [
    "def extract_zip(zip_path):\n",
    "\n",
    "    if not zipfile.is_zipfile(zip_path):\n",
    "        raise ValueError(f\"The file at {zip_path} is not a valid ZIP archive.\")\n",
    "    \n",
    "    # Determine the output directory name from the zip file name\n",
    "    base_dir = os.path.dirname(zip_path)\n",
    "    zip_filename = os.path.basename(zip_path)\n",
    "    folder_name = os.path.splitext(zip_filename)[0]\n",
    "    extract_to = os.path.join(base_dir, folder_name)\n",
    "\n",
    "    # Create the directory if it doesn't exist\n",
    "    if not os.path.exists(extract_to):\n",
    "        os.makedirs(extract_to)\n",
    "\n",
    "    # Extract the ZIP file\n",
    "    with zipfile.ZipFile(zip_path, 'r') as zip_ref:\n",
    "        zip_ref.extractall(path=extract_to)\n",
    "\n",
    "    return extract_to\n",
    "\n",
    "\n",
    "if __name__ == \"__main__\":\n",
    "    zip_file_path = '0.zip' \n",
    "    extracted_dir = extract_zip(zip_file_path)\n",
    "    print(f\"Extracted to: {extracted_dir}\")"
   ]
  },
  {
   "cell_type": "markdown",
   "id": "ee5717b8-2ff6-4a56-804d-046f2569a911",
   "metadata": {
    "tags": []
   },
   "source": [
    "## Data Filtering By Extension"
   ]
  },
  {
   "cell_type": "code",
   "execution_count": 5,
   "id": "950a34b4-50f3-486e-b781-a1dc9e43c458",
   "metadata": {
    "tags": []
   },
   "outputs": [
    {
     "name": "stdout",
     "output_type": "stream",
     "text": [
      "Deleted - 0/__MACOSX\n"
     ]
    }
   ],
   "source": [
    "leak_directory = \"0\"\n",
    "\n",
    "# Path to the __MACOSX folder\n",
    "macosx_folder = os.path.join(leak_directory, \"__MACOSX\")\n",
    "\n",
    "# Check if __MACOSX exists and remove it - creates issues when analyzing the data, and its not needed, made automatically by MacOS\n",
    "if os.path.exists(macosx_folder) and os.path.isdir(macosx_folder):\n",
    "    shutil.rmtree(macosx_folder)\n",
    "    print(f\"Deleted - {macosx_folder}\")\n",
    "else:\n",
    "    print(f\"Folder not found - {macosx_folder}\")\n",
    "\n",
    "# Organize files by extension into subfolders\n",
    "for root, dirs, files in os.walk(leak_directory):\n",
    "    for file in files:\n",
    "        # Skip hidden files and __MACOSX if any reappear\n",
    "        if file.startswith('.') or '__MACOSX' in root:\n",
    "            continue\n",
    "\n",
    "        # Get the file extension (in lowercase, without the dot)\n",
    "        file_extension = os.path.splitext(file)[1].lower().lstrip('.')\n",
    "        if not file_extension:\n",
    "            file_extension = \"no_extension\"\n",
    "\n",
    "        # Define the new subfolder path\n",
    "        subfolder_path = os.path.join(leak_directory, file_extension)\n",
    "\n",
    "        # Create the subfolder if it doesn't exist\n",
    "        os.makedirs(subfolder_path, exist_ok=True)\n",
    "\n",
    "        # Define source and destination paths\n",
    "        source_path = os.path.join(root, file)\n",
    "        destination_path = os.path.join(subfolder_path, file)\n",
    "\n",
    "        # Move the file if source and destination are not the same\n",
    "        if os.path.abspath(source_path) != os.path.abspath(destination_path):\n",
    "            shutil.move(source_path, destination_path)\n",
    "\n",
    "# Remove any empty folders within the parent directory\n",
    "for dirpath, dirnames, filenames in os.walk(leak_directory, topdown=False):\n",
    "    if not dirnames and not filenames:\n",
    "        try:\n",
    "            os.rmdir(dirpath)\n",
    "            print(f\"Removed empty folder: {dirpath}\")\n",
    "        except OSError:\n",
    "            pass  "
   ]
  },
  {
   "cell_type": "code",
   "execution_count": 6,
   "id": "0ab45fc5-01f0-4dd6-9c70-1ad25b1212a9",
   "metadata": {
    "tags": []
   },
   "outputs": [
    {
     "name": "stdout",
     "output_type": "stream",
     "text": [
      "Directory '0/0'deleted\n"
     ]
    }
   ],
   "source": [
    "# Delete Duplicate of 0 which is empty\n",
    "\n",
    "# Directory to delete\n",
    "EXTRACT_DIR = '0/0'\n",
    "\n",
    "# Check if the directory exists and delete it\n",
    "if os.path.isdir(EXTRACT_DIR):\n",
    "    shutil.rmtree(EXTRACT_DIR)\n",
    "    print(f\"Directory '{EXTRACT_DIR}'deleted\")\n",
    "else:\n",
    "    print(f\"Directory '{EXTRACT_DIR}' does not exist\")"
   ]
  },
  {
   "cell_type": "markdown",
   "id": "bf3cb401-4f4e-4c46-aecd-1997002ca83d",
   "metadata": {
    "tags": [],
    "user_expressions": []
   },
   "source": [
    "## Dataframe with all file location"
   ]
  },
  {
   "cell_type": "code",
   "execution_count": 7,
   "id": "88ee5d4f-ee82-49b3-bb69-9b052f1952f4",
   "metadata": {
    "tags": []
   },
   "outputs": [],
   "source": [
    "def get_folder_file_dataframe(root_dir):\n",
    "    folders = []\n",
    "    for file_name in os.listdir(root_dir):\n",
    "        full_path = os.path.join(root_dir, file_name)\n",
    "        if os.path.isdir(full_path):\n",
    "            folders.append(file_name)\n",
    "\n",
    "    series_list = []\n",
    "    for folder in folders:\n",
    "        folder_path = os.path.join(root_dir, folder)\n",
    "        files = [\n",
    "            os.path.join(folder_path, file)\n",
    "            for file in os.listdir(folder_path)\n",
    "            if os.path.isfile(os.path.join(folder_path, file)) and not file.startswith('.')\n",
    "        ]\n",
    "        s = pd.Series(files, name=folder)\n",
    "        series_list.append(s)\n",
    "\n",
    "    df = pd.concat(series_list, axis=1)\n",
    "    return df"
   ]
  },
  {
   "cell_type": "code",
   "execution_count": 8,
   "id": "94163880-07e2-4205-8302-b5ead2a1f488",
   "metadata": {
    "tags": []
   },
   "outputs": [
    {
     "data": {
      "text/html": [
       "<div>\n",
       "<style scoped>\n",
       "    .dataframe tbody tr th:only-of-type {\n",
       "        vertical-align: middle;\n",
       "    }\n",
       "\n",
       "    .dataframe tbody tr th {\n",
       "        vertical-align: top;\n",
       "    }\n",
       "\n",
       "    .dataframe thead th {\n",
       "        text-align: right;\n",
       "    }\n",
       "</style>\n",
       "<table border=\"1\" class=\"dataframe\">\n",
       "  <thead>\n",
       "    <tr style=\"text-align: right;\">\n",
       "      <th></th>\n",
       "      <th>md</th>\n",
       "      <th>png</th>\n",
       "      <th>log</th>\n",
       "      <th>txt</th>\n",
       "    </tr>\n",
       "  </thead>\n",
       "  <tbody>\n",
       "    <tr>\n",
       "      <th>0</th>\n",
       "      <td>0/md/dbc9c90e-a3e6-4d71-bb93-5fb8394095ac.md</td>\n",
       "      <td>0/png/64bba692-d430-440c-9f1e-2575f45770af_6.png</td>\n",
       "      <td>0/log/77010155050.log</td>\n",
       "      <td>0/txt/IDNET.txt</td>\n",
       "    </tr>\n",
       "    <tr>\n",
       "      <th>1</th>\n",
       "      <td>0/md/28.md</td>\n",
       "      <td>0/png/12756724-394c-4576-b373-7c53f1abbd94_0.png</td>\n",
       "      <td>0/log/77753527617.log</td>\n",
       "      <td>0/txt/IDTV.txt</td>\n",
       "    </tr>\n",
       "    <tr>\n",
       "      <th>2</th>\n",
       "      <td>0/md/5.md</td>\n",
       "      <td>0/png/f179eb06-0c53-44df-a13f-570be23355bb_1.png</td>\n",
       "      <td>0/log/tele2-lbs.log</td>\n",
       "      <td>0/txt/beeline-77774042222.txt</td>\n",
       "    </tr>\n",
       "    <tr>\n",
       "      <th>3</th>\n",
       "      <td>0/md/38.md</td>\n",
       "      <td>0/png/5a6b122c-39c1-4581-8c1f-2d6f36a9f8a0_24.png</td>\n",
       "      <td>0/log/tele2-cdr.log</td>\n",
       "      <td>0/txt/beeline-77051056626.txt</td>\n",
       "    </tr>\n",
       "    <tr>\n",
       "      <th>4</th>\n",
       "      <td>0/md/9d7bc879-3250-4013-ac04-5ff9bd6dff40.md</td>\n",
       "      <td>0/png/5a6b122c-39c1-4581-8c1f-2d6f36a9f8a0_30.png</td>\n",
       "      <td>0/log/tele2-crm.log</td>\n",
       "      <td>0/txt/beeline-crm.txt</td>\n",
       "    </tr>\n",
       "    <tr>\n",
       "      <th>5</th>\n",
       "      <td>0/md/18.md</td>\n",
       "      <td>0/png/5a6b122c-39c1-4581-8c1f-2d6f36a9f8a0_18.png</td>\n",
       "      <td>0/log/77783030133.log</td>\n",
       "      <td>0/txt/UBSCRIBER.txt</td>\n",
       "    </tr>\n",
       "    <tr>\n",
       "      <th>6</th>\n",
       "      <td>0/md/9fd06037-11f1-4ad5-9a7d-cbfb3fa4193b.md</td>\n",
       "      <td>0/png/0-adaf869e-920a-4a17-91bd-e2ef3125c10e.png</td>\n",
       "      <td>NaN</td>\n",
       "      <td>0/txt/beeline-cdr.txt</td>\n",
       "    </tr>\n",
       "    <tr>\n",
       "      <th>7</th>\n",
       "      <td>0/md/3348953d-66e9-4cac-8675-65bb5f2ef929.md</td>\n",
       "      <td>0/png/5387a301-0af8-4e24-a197-20189f87b9ef_8.png</td>\n",
       "      <td>NaN</td>\n",
       "      <td>0/txt/CRM.txt</td>\n",
       "    </tr>\n",
       "    <tr>\n",
       "      <th>8</th>\n",
       "      <td>0/md/1.md</td>\n",
       "      <td>0/png/0-32eb7662-f212-4811-a7c1-1cfeb121cd99.png</td>\n",
       "      <td>NaN</td>\n",
       "      <td>0/txt/LAC.txt</td>\n",
       "    </tr>\n",
       "    <tr>\n",
       "      <th>9</th>\n",
       "      <td>0/md/19.md</td>\n",
       "      <td>0/png/912204cb-8ab7-48b8-9abf-d803f3804d08_11.png</td>\n",
       "      <td>NaN</td>\n",
       "      <td>0/txt/beeline-lbs.txt</td>\n",
       "    </tr>\n",
       "    <tr>\n",
       "      <th>10</th>\n",
       "      <td>0/md/07f179c5-5705-4dbd-94a7-66eed1e066b0.md</td>\n",
       "      <td>0/png/0-7150f512-e7a2-4f2c-86bc-58b671b25ba9.png</td>\n",
       "      <td>NaN</td>\n",
       "      <td>0/txt/Φ»¥σìò.txt</td>\n",
       "    </tr>\n",
       "    <tr>\n",
       "      <th>11</th>\n",
       "      <td>0/md/29.md</td>\n",
       "      <td>0/png/fe245192-1f9c-4f28-9b32-046fb7ce7e1e_8.png</td>\n",
       "      <td>NaN</td>\n",
       "      <td>NaN</td>\n",
       "    </tr>\n",
       "    <tr>\n",
       "      <th>12</th>\n",
       "      <td>0/md/01cdc26f-e773-4ad7-8808-d04abf16aae7.md</td>\n",
       "      <td>0/png/eda5b003-9250-4913-b724-74cca86240af_13.png</td>\n",
       "      <td>NaN</td>\n",
       "      <td>NaN</td>\n",
       "    </tr>\n",
       "    <tr>\n",
       "      <th>13</th>\n",
       "      <td>0/md/585875ff-f8c5-4a02-acd7-fef37dc9ff11.md</td>\n",
       "      <td>0/png/eda5b003-9250-4913-b724-74cca86240af_12.png</td>\n",
       "      <td>NaN</td>\n",
       "      <td>NaN</td>\n",
       "    </tr>\n",
       "    <tr>\n",
       "      <th>14</th>\n",
       "      <td>0/md/4.md</td>\n",
       "      <td>0/png/adaf869e-920a-4a17-91bd-e2ef3125c10e.png</td>\n",
       "      <td>NaN</td>\n",
       "      <td>NaN</td>\n",
       "    </tr>\n",
       "    <tr>\n",
       "      <th>15</th>\n",
       "      <td>0/md/39.md</td>\n",
       "      <td>0/png/fe245192-1f9c-4f28-9b32-046fb7ce7e1e_9.png</td>\n",
       "      <td>NaN</td>\n",
       "      <td>NaN</td>\n",
       "    </tr>\n",
       "    <tr>\n",
       "      <th>16</th>\n",
       "      <td>0/md/16.md</td>\n",
       "      <td>0/png/32eb7662-f212-4811-a7c1-1cfeb121cd99.png</td>\n",
       "      <td>NaN</td>\n",
       "      <td>NaN</td>\n",
       "    </tr>\n",
       "    <tr>\n",
       "      <th>17</th>\n",
       "      <td>0/md/64bba692-d430-440c-9f1e-2575f45770af.md</td>\n",
       "      <td>0/png/912204cb-8ab7-48b8-9abf-d803f3804d08_10.png</td>\n",
       "      <td>NaN</td>\n",
       "      <td>NaN</td>\n",
       "    </tr>\n",
       "    <tr>\n",
       "      <th>18</th>\n",
       "      <td>0/md/178e3898-903d-47cf-bfbe-061e7dc18895.md</td>\n",
       "      <td>0/png/5387a301-0af8-4e24-a197-20189f87b9ef_9.png</td>\n",
       "      <td>NaN</td>\n",
       "      <td>NaN</td>\n",
       "    </tr>\n",
       "    <tr>\n",
       "      <th>19</th>\n",
       "      <td>0/md/22.md</td>\n",
       "      <td>0/png/5a6b122c-39c1-4581-8c1f-2d6f36a9f8a0_19.png</td>\n",
       "      <td>NaN</td>\n",
       "      <td>NaN</td>\n",
       "    </tr>\n",
       "    <tr>\n",
       "      <th>20</th>\n",
       "      <td>0/md/32.md</td>\n",
       "      <td>0/png/5a6b122c-39c1-4581-8c1f-2d6f36a9f8a0_31.png</td>\n",
       "      <td>NaN</td>\n",
       "      <td>NaN</td>\n",
       "    </tr>\n",
       "    <tr>\n",
       "      <th>21</th>\n",
       "      <td>0/md/26.md</td>\n",
       "      <td>0/png/f179eb06-0c53-44df-a13f-570be23355bb_0.png</td>\n",
       "      <td>NaN</td>\n",
       "      <td>NaN</td>\n",
       "    </tr>\n",
       "    <tr>\n",
       "      <th>22</th>\n",
       "      <td>0/md/9fe6b262-9944-417d-a0c4-9f2de1de2994.md</td>\n",
       "      <td>0/png/5a6b122c-39c1-4581-8c1f-2d6f36a9f8a0_25.png</td>\n",
       "      <td>NaN</td>\n",
       "      <td>NaN</td>\n",
       "    </tr>\n",
       "    <tr>\n",
       "      <th>23</th>\n",
       "      <td>0/md/f7205881-3904-42ec-ab2c-04f36fa24785.md</td>\n",
       "      <td>0/png/7150f512-e7a2-4f2c-86bc-58b671b25ba9.png</td>\n",
       "      <td>NaN</td>\n",
       "      <td>NaN</td>\n",
       "    </tr>\n",
       "    <tr>\n",
       "      <th>24</th>\n",
       "      <td>0/md/54990932-71af-48dd-9a7a-2617b1407c54.md</td>\n",
       "      <td>0/png/12756724-394c-4576-b373-7c53f1abbd94_1.png</td>\n",
       "      <td>NaN</td>\n",
       "      <td>NaN</td>\n",
       "    </tr>\n",
       "    <tr>\n",
       "      <th>25</th>\n",
       "      <td>0/md/12.md</td>\n",
       "      <td>0/png/64bba692-d430-440c-9f1e-2575f45770af_7.png</td>\n",
       "      <td>NaN</td>\n",
       "      <td>NaN</td>\n",
       "    </tr>\n",
       "    <tr>\n",
       "      <th>26</th>\n",
       "      <td>0/md/36.md</td>\n",
       "      <td>0/png/6848748d-2881-4c26-b153-fcd5373d2f1c.png</td>\n",
       "      <td>NaN</td>\n",
       "      <td>NaN</td>\n",
       "    </tr>\n",
       "    <tr>\n",
       "      <th>27</th>\n",
       "      <td>0/md/eda5b003-9250-4913-b724-74cca86240af.md</td>\n",
       "      <td>0/png/12756724-394c-4576-b373-7c53f1abbd94_3.png</td>\n",
       "      <td>NaN</td>\n",
       "      <td>NaN</td>\n",
       "    </tr>\n",
       "    <tr>\n",
       "      <th>28</th>\n",
       "      <td>0/md/27.md</td>\n",
       "      <td>0/png/64bba692-d430-440c-9f1e-2575f45770af_5.png</td>\n",
       "      <td>NaN</td>\n",
       "      <td>NaN</td>\n",
       "    </tr>\n",
       "    <tr>\n",
       "      <th>29</th>\n",
       "      <td>0/md/13.md</td>\n",
       "      <td>0/png/5a6b122c-39c1-4581-8c1f-2d6f36a9f8a0_33.png</td>\n",
       "      <td>NaN</td>\n",
       "      <td>NaN</td>\n",
       "    </tr>\n",
       "  </tbody>\n",
       "</table>\n",
       "</div>"
      ],
      "text/plain": [
       "                                              md  \\\n",
       "0   0/md/dbc9c90e-a3e6-4d71-bb93-5fb8394095ac.md   \n",
       "1                                     0/md/28.md   \n",
       "2                                      0/md/5.md   \n",
       "3                                     0/md/38.md   \n",
       "4   0/md/9d7bc879-3250-4013-ac04-5ff9bd6dff40.md   \n",
       "5                                     0/md/18.md   \n",
       "6   0/md/9fd06037-11f1-4ad5-9a7d-cbfb3fa4193b.md   \n",
       "7   0/md/3348953d-66e9-4cac-8675-65bb5f2ef929.md   \n",
       "8                                      0/md/1.md   \n",
       "9                                     0/md/19.md   \n",
       "10  0/md/07f179c5-5705-4dbd-94a7-66eed1e066b0.md   \n",
       "11                                    0/md/29.md   \n",
       "12  0/md/01cdc26f-e773-4ad7-8808-d04abf16aae7.md   \n",
       "13  0/md/585875ff-f8c5-4a02-acd7-fef37dc9ff11.md   \n",
       "14                                     0/md/4.md   \n",
       "15                                    0/md/39.md   \n",
       "16                                    0/md/16.md   \n",
       "17  0/md/64bba692-d430-440c-9f1e-2575f45770af.md   \n",
       "18  0/md/178e3898-903d-47cf-bfbe-061e7dc18895.md   \n",
       "19                                    0/md/22.md   \n",
       "20                                    0/md/32.md   \n",
       "21                                    0/md/26.md   \n",
       "22  0/md/9fe6b262-9944-417d-a0c4-9f2de1de2994.md   \n",
       "23  0/md/f7205881-3904-42ec-ab2c-04f36fa24785.md   \n",
       "24  0/md/54990932-71af-48dd-9a7a-2617b1407c54.md   \n",
       "25                                    0/md/12.md   \n",
       "26                                    0/md/36.md   \n",
       "27  0/md/eda5b003-9250-4913-b724-74cca86240af.md   \n",
       "28                                    0/md/27.md   \n",
       "29                                    0/md/13.md   \n",
       "\n",
       "                                                  png                    log  \\\n",
       "0    0/png/64bba692-d430-440c-9f1e-2575f45770af_6.png  0/log/77010155050.log   \n",
       "1    0/png/12756724-394c-4576-b373-7c53f1abbd94_0.png  0/log/77753527617.log   \n",
       "2    0/png/f179eb06-0c53-44df-a13f-570be23355bb_1.png    0/log/tele2-lbs.log   \n",
       "3   0/png/5a6b122c-39c1-4581-8c1f-2d6f36a9f8a0_24.png    0/log/tele2-cdr.log   \n",
       "4   0/png/5a6b122c-39c1-4581-8c1f-2d6f36a9f8a0_30.png    0/log/tele2-crm.log   \n",
       "5   0/png/5a6b122c-39c1-4581-8c1f-2d6f36a9f8a0_18.png  0/log/77783030133.log   \n",
       "6    0/png/0-adaf869e-920a-4a17-91bd-e2ef3125c10e.png                    NaN   \n",
       "7    0/png/5387a301-0af8-4e24-a197-20189f87b9ef_8.png                    NaN   \n",
       "8    0/png/0-32eb7662-f212-4811-a7c1-1cfeb121cd99.png                    NaN   \n",
       "9   0/png/912204cb-8ab7-48b8-9abf-d803f3804d08_11.png                    NaN   \n",
       "10   0/png/0-7150f512-e7a2-4f2c-86bc-58b671b25ba9.png                    NaN   \n",
       "11   0/png/fe245192-1f9c-4f28-9b32-046fb7ce7e1e_8.png                    NaN   \n",
       "12  0/png/eda5b003-9250-4913-b724-74cca86240af_13.png                    NaN   \n",
       "13  0/png/eda5b003-9250-4913-b724-74cca86240af_12.png                    NaN   \n",
       "14     0/png/adaf869e-920a-4a17-91bd-e2ef3125c10e.png                    NaN   \n",
       "15   0/png/fe245192-1f9c-4f28-9b32-046fb7ce7e1e_9.png                    NaN   \n",
       "16     0/png/32eb7662-f212-4811-a7c1-1cfeb121cd99.png                    NaN   \n",
       "17  0/png/912204cb-8ab7-48b8-9abf-d803f3804d08_10.png                    NaN   \n",
       "18   0/png/5387a301-0af8-4e24-a197-20189f87b9ef_9.png                    NaN   \n",
       "19  0/png/5a6b122c-39c1-4581-8c1f-2d6f36a9f8a0_19.png                    NaN   \n",
       "20  0/png/5a6b122c-39c1-4581-8c1f-2d6f36a9f8a0_31.png                    NaN   \n",
       "21   0/png/f179eb06-0c53-44df-a13f-570be23355bb_0.png                    NaN   \n",
       "22  0/png/5a6b122c-39c1-4581-8c1f-2d6f36a9f8a0_25.png                    NaN   \n",
       "23     0/png/7150f512-e7a2-4f2c-86bc-58b671b25ba9.png                    NaN   \n",
       "24   0/png/12756724-394c-4576-b373-7c53f1abbd94_1.png                    NaN   \n",
       "25   0/png/64bba692-d430-440c-9f1e-2575f45770af_7.png                    NaN   \n",
       "26     0/png/6848748d-2881-4c26-b153-fcd5373d2f1c.png                    NaN   \n",
       "27   0/png/12756724-394c-4576-b373-7c53f1abbd94_3.png                    NaN   \n",
       "28   0/png/64bba692-d430-440c-9f1e-2575f45770af_5.png                    NaN   \n",
       "29  0/png/5a6b122c-39c1-4581-8c1f-2d6f36a9f8a0_33.png                    NaN   \n",
       "\n",
       "                              txt  \n",
       "0                 0/txt/IDNET.txt  \n",
       "1                  0/txt/IDTV.txt  \n",
       "2   0/txt/beeline-77774042222.txt  \n",
       "3   0/txt/beeline-77051056626.txt  \n",
       "4           0/txt/beeline-crm.txt  \n",
       "5             0/txt/UBSCRIBER.txt  \n",
       "6           0/txt/beeline-cdr.txt  \n",
       "7                   0/txt/CRM.txt  \n",
       "8                   0/txt/LAC.txt  \n",
       "9           0/txt/beeline-lbs.txt  \n",
       "10               0/txt/Φ»¥σìò.txt  \n",
       "11                            NaN  \n",
       "12                            NaN  \n",
       "13                            NaN  \n",
       "14                            NaN  \n",
       "15                            NaN  \n",
       "16                            NaN  \n",
       "17                            NaN  \n",
       "18                            NaN  \n",
       "19                            NaN  \n",
       "20                            NaN  \n",
       "21                            NaN  \n",
       "22                            NaN  \n",
       "23                            NaN  \n",
       "24                            NaN  \n",
       "25                            NaN  \n",
       "26                            NaN  \n",
       "27                            NaN  \n",
       "28                            NaN  \n",
       "29                            NaN  "
      ]
     },
     "execution_count": 8,
     "metadata": {},
     "output_type": "execute_result"
    }
   ],
   "source": [
    "df = get_folder_file_dataframe(leak_directory)\n",
    "df.head(30)       "
   ]
  },
  {
   "cell_type": "markdown",
   "id": "58cb7ad6-b02a-4479-8505-33c5e2cc198c",
   "metadata": {
    "tags": [],
    "user_expressions": []
   },
   "source": [
    "# **DATA PARSING**"
   ]
  },
  {
   "cell_type": "markdown",
   "id": "bfd9e37f-166a-48e1-80ed-00d2afb8edce",
   "metadata": {
    "tags": [],
    "user_expressions": []
   },
   "source": [
    "## LLM Classification of MD files"
   ]
  },
  {
   "cell_type": "code",
   "execution_count": 9,
   "id": "c46d6b38-6ff3-4a79-860c-a37054e03cb7",
   "metadata": {},
   "outputs": [],
   "source": [
    "import os\n",
    "import concurrent.futures\n",
    "import pandas as pd\n",
    "from langchain.llms import Ollama\n",
    "from langchain.prompts import PromptTemplate\n",
    "from langchain.chains import LLMChain\n",
    "from tqdm import tqdm"
   ]
  },
  {
   "cell_type": "code",
   "execution_count": 10,
   "id": "64ba6064-3151-4166-a432-142d9e610d9c",
   "metadata": {
    "tags": []
   },
   "outputs": [
    {
     "name": "stderr",
     "output_type": "stream",
     "text": [
      "/tmp/ipykernel_313/23640893.py:22: LangChainDeprecationWarning: The class `LLMChain` was deprecated in LangChain 0.1.17 and will be removed in 1.0. Use RunnableSequence, e.g., `prompt | llm` instead.\n",
      "  chain = LLMChain(llm=llm, prompt=prompt_template)\n",
      "Classifying files:   0%|          | 0/70 [00:00<?, ?it/s]/tmp/ipykernel_313/23640893.py:51: LangChainDeprecationWarning: The method `Chain.run` was deprecated in langchain 0.1.0 and will be removed in 1.0. Use invoke instead.\n",
      "  response = chain.run(content=content).strip().lower()\n",
      "Classifying files: 100%|██████████| 70/70 [03:58<00:00,  3.40s/it] \n"
     ]
    },
    {
     "data": {
      "text/html": [
       "<div>\n",
       "<style scoped>\n",
       "    .dataframe tbody tr th:only-of-type {\n",
       "        vertical-align: middle;\n",
       "    }\n",
       "\n",
       "    .dataframe tbody tr th {\n",
       "        vertical-align: top;\n",
       "    }\n",
       "\n",
       "    .dataframe thead th {\n",
       "        text-align: right;\n",
       "    }\n",
       "</style>\n",
       "<table border=\"1\" class=\"dataframe\">\n",
       "  <thead>\n",
       "    <tr style=\"text-align: right;\">\n",
       "      <th></th>\n",
       "      <th>other</th>\n",
       "      <th>images</th>\n",
       "      <th>chats</th>\n",
       "    </tr>\n",
       "  </thead>\n",
       "  <tbody>\n",
       "    <tr>\n",
       "      <th>0</th>\n",
       "      <td>0/md/9d7bc879-3250-4013-ac04-5ff9bd6dff40.md</td>\n",
       "      <td>0/md/dbc9c90e-a3e6-4d71-bb93-5fb8394095ac.md</td>\n",
       "      <td>0/md/28.md</td>\n",
       "    </tr>\n",
       "    <tr>\n",
       "      <th>1</th>\n",
       "      <td>None</td>\n",
       "      <td>0/md/9fd06037-11f1-4ad5-9a7d-cbfb3fa4193b.md</td>\n",
       "      <td>0/md/5.md</td>\n",
       "    </tr>\n",
       "    <tr>\n",
       "      <th>2</th>\n",
       "      <td>None</td>\n",
       "      <td>0/md/3348953d-66e9-4cac-8675-65bb5f2ef929.md</td>\n",
       "      <td>0/md/38.md</td>\n",
       "    </tr>\n",
       "    <tr>\n",
       "      <th>3</th>\n",
       "      <td>None</td>\n",
       "      <td>0/md/07f179c5-5705-4dbd-94a7-66eed1e066b0.md</td>\n",
       "      <td>0/md/18.md</td>\n",
       "    </tr>\n",
       "    <tr>\n",
       "      <th>4</th>\n",
       "      <td>None</td>\n",
       "      <td>0/md/01cdc26f-e773-4ad7-8808-d04abf16aae7.md</td>\n",
       "      <td>0/md/1.md</td>\n",
       "    </tr>\n",
       "  </tbody>\n",
       "</table>\n",
       "</div>"
      ],
      "text/plain": [
       "                                          other  \\\n",
       "0  0/md/9d7bc879-3250-4013-ac04-5ff9bd6dff40.md   \n",
       "1                                          None   \n",
       "2                                          None   \n",
       "3                                          None   \n",
       "4                                          None   \n",
       "\n",
       "                                         images       chats  \n",
       "0  0/md/dbc9c90e-a3e6-4d71-bb93-5fb8394095ac.md  0/md/28.md  \n",
       "1  0/md/9fd06037-11f1-4ad5-9a7d-cbfb3fa4193b.md   0/md/5.md  \n",
       "2  0/md/3348953d-66e9-4cac-8675-65bb5f2ef929.md  0/md/38.md  \n",
       "3  0/md/07f179c5-5705-4dbd-94a7-66eed1e066b0.md  0/md/18.md  \n",
       "4  0/md/01cdc26f-e773-4ad7-8808-d04abf16aae7.md   0/md/1.md  "
      ]
     },
     "execution_count": 10,
     "metadata": {},
     "output_type": "execute_result"
    }
   ],
   "source": [
    "llm = Ollama(model=\"llama3.1:8b\")\n",
    "\n",
    "prompt_template = PromptTemplate(\n",
    "    input_variables=[\"content\"],\n",
    "    template=\"\"\"\n",
    "You are analyzing the content of a file.\n",
    "\n",
    "File content:\n",
    "\\\"\\\"\\\"\n",
    "{content}\n",
    "\\\"\\\"\\\"\n",
    "\n",
    "1. Classify the content into one of the following categories ONLY: chats, images, other.\n",
    "2. State your confidence in the classification as one of: high, medium, or low.\n",
    "3. I will have to make a csv, please give me a list of headers based on the content. E.g. \"[<header_name>, <heaer_name2>, etc.]\n",
    "Respond in the following format:\n",
    "Category: <chats|images|other>\n",
    "Confidence: <high|medium|low>\n",
    "\"\"\"\n",
    ")\n",
    "\n",
    "chain = LLMChain(llm=llm, prompt=prompt_template)\n",
    "\n",
    "# Preprocess the files to the first 20 lines to shorten analysis times\n",
    "def preprocess_first_20_lines(file_path):\n",
    "    try:\n",
    "        with open(file_path, \"r\", encoding=\"utf-8\") as f:\n",
    "            lines = [line.strip() for _, line in zip(range(20), f)]\n",
    "            content = \" \".join(lines)\n",
    "        return file_path, content\n",
    "    except Exception:\n",
    "        return file_path, \"\"\n",
    "\n",
    "# Use only the first column of the DataFrame\n",
    "first_column = df.columns[0]\n",
    "file_paths = df[first_column].dropna().unique().tolist()\n",
    "\n",
    "# Preprocess the file for faster classification\n",
    "with concurrent.futures.ThreadPoolExecutor() as executor:\n",
    "    file_data = list(executor.map(preprocess_first_20_lines, file_paths))\n",
    "\n",
    "# Classify and collect by category\n",
    "valid_categories = {\"chats\", \"images\", \"other\"}\n",
    "categorized_files = {cat: [] for cat in valid_categories}\n",
    "\n",
    "for file_path, content in tqdm(file_data, desc=\"Classifying files\"):\n",
    "    if not content:\n",
    "        continue\n",
    "\n",
    "    try:\n",
    "        response = chain.run(content=content).strip().lower()\n",
    "        lines = response.splitlines()\n",
    "\n",
    "        category = \"\"\n",
    "        for line in lines:\n",
    "            if line.startswith(\"category:\"):\n",
    "                category = line.replace(\"category:\", \"\").strip()\n",
    "                break\n",
    "        if category not in valid_categories:\n",
    "            category = \"other\"\n",
    "\n",
    "        categorized_files[category].append(file_path)\n",
    "\n",
    "    except Exception as e:\n",
    "        print(f\"Error processing {file_path}: {e}\")\n",
    "\n",
    "# Convert to DataFrame (columns = categories)\n",
    "# Determine the maximum list length among all categories\n",
    "max_len = 0\n",
    "for file_list in categorized_files.values():\n",
    "    if len(file_list) > max_len:\n",
    "        max_len = len(file_list)\n",
    "\n",
    "# Pad each list with None to match max length\n",
    "padded = {}\n",
    "for category, file_list in categorized_files.items():\n",
    "    padding_needed = max_len - len(file_list)\n",
    "    padded[category] = file_list + [None] * padding_needed\n",
    "result_df = pd.DataFrame(padded)\n",
    "result_df.to_csv(\"classified_by_category.csv\", index=False)\n",
    "result_df.head()"
   ]
  },
  {
   "cell_type": "markdown",
   "id": "364f1398-8249-413a-9c95-eb4a5ce826ba",
   "metadata": {
    "tags": [],
    "user_expressions": []
   },
   "source": [
    "## Cross Referenced Files"
   ]
  },
  {
   "cell_type": "code",
   "execution_count": 12,
   "id": "f2960f30-2535-4cc4-b4ec-ac57315e764c",
   "metadata": {},
   "outputs": [],
   "source": [
    "import pandas as pd\n",
    "import os\n",
    "import re\n",
    "from collections import defaultdict"
   ]
  },
  {
   "cell_type": "code",
   "execution_count": 13,
   "id": "9e94a6ab-a1d9-4c11-b275-a753fc8182f8",
   "metadata": {
    "tags": []
   },
   "outputs": [
    {
     "name": "stdout",
     "output_type": "stream",
     "text": [
      "                                    source_file  \\\n",
      "0  0/md/01cdc26f-e773-4ad7-8808-d04abf16aae7.md   \n",
      "1                                    0/md/10.md   \n",
      "2                                    0/md/13.md   \n",
      "3                                    0/md/15.md   \n",
      "4  0/md/178e3898-903d-47cf-bfbe-061e7dc18895.md   \n",
      "5                                    0/md/19.md   \n",
      "6                                     0/md/2.md   \n",
      "7                                    0/md/20.md   \n",
      "8                                    0/md/21.md   \n",
      "9                                    0/md/22.md   \n",
      "\n",
      "                                            mentions  \n",
      "0  [0/png/01cdc26f-e773-4ad7-8808-d04abf16aae7_1_...  \n",
      "1  [0/png/0-6bcc0131-e4ad-421e-bb1f-d8ebe5eeec7b....  \n",
      "2  [0/png/0-adaf869e-920a-4a17-91bd-e2ef3125c10e....  \n",
      "3  [0/png/0-b8cea3b1-4dde-4438-9b1a-6faf690bbad0....  \n",
      "4  [0/png/178e3898-903d-47cf-bfbe-061e7dc18895_8....  \n",
      "5  [0/png/6848748d-2881-4c26-b153-fcd5373d2f1c.pn...  \n",
      "6  [0/md/07f179c5-5705-4dbd-94a7-66eed1e066b0.md,...  \n",
      "7  [0/png/0-785cc8c9-1225-4f93-b633-349bc5113512....  \n",
      "8  [0/png/9c8c9989-2293-4e68-9ffe-6f7a5f14562f.pn...  \n",
      "9  [0/png/0-b0a4acaa-d768-4f6d-8e54-6d20f271bb7c....  \n",
      "Unique file paths in original DataFrame: 577\n"
     ]
    }
   ],
   "source": [
    "# Extract all unique file paths from the DataFrame \n",
    "file_paths = df.stack().dropna().unique().tolist()\n",
    "\n",
    "# Read file content\n",
    "def read_file(path):\n",
    "    try:\n",
    "        with open(path, 'r', encoding='utf-8') as f:\n",
    "            return f.read()\n",
    "    except:\n",
    "        return \"Failed to open file\"\n",
    "\n",
    "# Read file contents into a dictionary \n",
    "file_contents = {path: read_file(path) for path in file_paths}\n",
    "\n",
    "# Build a reference map (which files mention which) \n",
    "reference_map = defaultdict(list)\n",
    "\n",
    "for source_path, content in file_contents.items():\n",
    "    if content is None:\n",
    "        continue  # skip if content is None\n",
    "\n",
    "    for target_path in file_paths:\n",
    "        if target_path == source_path:\n",
    "            continue  # skip comparing file to itself\n",
    "\n",
    "        target_filename = os.path.basename(target_path)\n",
    "        pattern = re.escape(target_filename)\n",
    "\n",
    "        if re.search(rf'\\b{pattern}\\b', content):\n",
    "            reference_map[source_path].append(target_path)\n",
    "\n",
    "# Convert reference map to a DataFrame\n",
    "ref_df = pd.DataFrame([\n",
    "    {\"source_file\": src, \"mentions\": tgt}\n",
    "    for src, tgts in reference_map.items()\n",
    "    for tgt in tgts\n",
    "])\n",
    "\n",
    "# Group mentions into lists per source_file\n",
    "ref_summary = ref_df.groupby(\"source_file\")[\"mentions\"].apply(list).reset_index()\n",
    "\n",
    "# Some source_file names are also in mentions, therefore they aren't a source file anymore\n",
    "source_files = set(ref_summary[\"source_file\"])\n",
    "mentioned_files = set(file for mention_list in ref_summary[\"mentions\"] for file in mention_list)\n",
    "common_files = source_files.intersection(mentioned_files)\n",
    "\n",
    "# Filter out common files from the DataFrame\n",
    "filtered_ref_summary = ref_summary[~ref_summary[\"source_file\"].isin(common_files)].reset_index(drop=True)\n",
    "\n",
    "filtered_ref_summary.to_csv(\"file_reference_map.csv\", index=False)\n",
    "print(filtered_ref_summary.head(10))\n",
    "print(\"Unique file paths in original DataFrame:\", df.stack().nunique())"
   ]
  },
  {
   "cell_type": "code",
   "execution_count": 14,
   "id": "10f92af7-5075-4d8d-9251-113f6e360f1e",
   "metadata": {},
   "outputs": [],
   "source": [
    "import pandas as pd\n",
    "import os\n",
    "import re\n",
    "from ast import literal_eval\n",
    "import ast"
   ]
  },
  {
   "cell_type": "code",
   "execution_count": 15,
   "id": "fe46121c-4ff4-4e45-b248-8edd4d12be74",
   "metadata": {
    "tags": []
   },
   "outputs": [
    {
     "name": "stdout",
     "output_type": "stream",
     "text": [
      "Index(['source_file', 'mentions', 'mentions2'], dtype='object')\n"
     ]
    }
   ],
   "source": [
    "# Check for more linkages in the files + add the missing source files from the chats\n",
    "\n",
    "def is_readable_text_file(path):\n",
    "    return any(path.endswith(ext) for ext in ['txt', 'md', 'rst', 'tex', 'nfo', 'readme', 'rtf', 'doc', 'docx',\n",
    "    'cfg', 'conf', 'config', 'ini', 'json', 'yaml', 'yml', 'toml',\n",
    "    'log', 'lst', 'cnf', 'properties', 'prefs',\n",
    "    'csv', 'tsv', 'dat', 'db', 'dbf', 'sql', 'xml',\n",
    "    'ssv', 'psv', 'jsonl', 'parquet', 'orc',\n",
    "    'html', 'htm', 'xhtml', 'xht', 'css', 'js',\n",
    "    'jsx', 'ts', 'tsx', 'vue', 'erb', 'ejs', 'jsp',\n",
    "    'liquid', 'handlebars', 'hbs', 'mustache',\n",
    "    'py', 'pyw', 'ipynb', 'java', 'c', 'cpp', 'h', 'hpp', 'cs',\n",
    "    'sh', 'bash', 'zsh', 'ksh', 'bat', 'cmd', 'ps1',\n",
    "    'r', 'jl', 'pl', 'pm', 'rb', 'go', 'lua', 'php',\n",
    "    'swift', 'scala', 'dart', 'asm', 'groovy',\n",
    "    'rmd', 'sage', 'nb',\n",
    "    'env', 'gradle', 'makefile', 'mak', 'mk',\n",
    "    'dockerfile', 'gitignore', 'gitattributes', 'gitmodules',\n",
    "    'cmake', 'make', 'ninja', 'build',\n",
    "    'manifest', 'manifest.json', 'vtt', 'srt', 'resx', 'strings',\n",
    "    'lang', 'po', 'mo', 'pot', 'msg', 'textbundle',\n",
    "    'rego', 'tf', 'tfvars', 'cue', 'bzl', 'bazel', 'nix', 'dhall',\n",
    "    'adoc', 'asciidoc', 'creole', 'mediawiki', 'wiki', 'org',\n",
    "    'eml', 'msg', 'mbox', 'mail', 'ics', 'vcf'])\n",
    "\n",
    "mentions2_list = []\n",
    "\n",
    "# Iterate over each row of the summary\n",
    "for _, row in filtered_ref_summary.iterrows():\n",
    "    mention_dict = {}\n",
    "\n",
    "    # For each mentioned file read file contents and create a dictionary key: location - values: file contents\n",
    "    for mentioned_file in row[\"mentions\"]:\n",
    "        if not is_readable_text_file(mentioned_file):\n",
    "            continue  # Skip unreadable formats\n",
    "\n",
    "        # Read file content\n",
    "        content = read_file(mentioned_file)\n",
    "        if content in [None, \"Failed to open file\"]:\n",
    "            continue\n",
    "\n",
    "        # Search for any file-type references using regex\n",
    "        # Match anything with a name and known file extension\n",
    "        found_files = re.findall(r'[\\w\\-/]*\\.\\w+', content)\n",
    "\n",
    "        # Filter duplicates and add to the mention_dict\n",
    "        if found_files:\n",
    "            mention_dict[mentioned_file] = list(set(found_files))\n",
    "\n",
    "    mentions2_list.append(mention_dict)\n",
    "\n",
    "# Add this as a new column\n",
    "filtered_ref_summary[\"mentions2\"] = mentions2_list\n",
    "\n",
    "# Get the list of chat files from result_df - LLM clasification\n",
    "chat_files = result_df['chats'].dropna().unique()\n",
    "\n",
    "# Get the list of source files already in filtered_ref_summary\n",
    "source_files = filtered_ref_summary['source_file'].dropna().unique()\n",
    "\n",
    "# Find missing chat files and collect chat files that are not found in source files\n",
    "existing_source_files = set(source_files)\n",
    "missing_chat_files = []\n",
    "for chat_file in chat_files:\n",
    "    if chat_file not in existing_source_files:\n",
    "        missing_chat_files.append(chat_file)\n",
    "\n",
    "# Create a new DataFrame with empty mentions and linkage columns\n",
    "new_rows = pd.DataFrame({\n",
    "    'source_file': missing_chat_files,\n",
    "})\n",
    "\n",
    "# Append the new rows to ref_summary\n",
    "filtered_ref_summary = pd.concat([filtered_ref_summary, new_rows], ignore_index=True)\n",
    "        \n",
    "# Save the updated DataFrame to CSV\n",
    "filtered_ref_summary.to_csv(\"file_reference_map_extended.csv\", index=False)\n",
    "print(filtered_ref_summary.columns)"
   ]
  },
  {
   "cell_type": "markdown",
   "id": "b0ba5766-8021-4a11-997d-c2273101b419",
   "metadata": {
    "tags": [],
    "user_expressions": []
   },
   "source": [
    "## MD -> CSV CONVERSATIONS"
   ]
  },
  {
   "cell_type": "code",
   "execution_count": 16,
   "id": "37835ee2-1c35-4cf7-a08e-89d2e02c5621",
   "metadata": {
    "tags": []
   },
   "outputs": [],
   "source": [
    "import os\n",
    "import pandas as pd\n",
    "from pathlib import Path\n",
    "from bs4 import BeautifulSoup"
   ]
  },
  {
   "cell_type": "code",
   "execution_count": 17,
   "id": "b9d08d1c-afe4-4cae-b359-779c917f3689",
   "metadata": {
    "tags": []
   },
   "outputs": [],
   "source": [
    "# Create a folder and dumb all csvs\n",
    "output_dir = \"csvs\"\n",
    "os.makedirs(output_dir, exist_ok=True)\n",
    "\n",
    "# Get all MD files from the DataFrame\n",
    "all_file_paths = pd.unique(result_df.values.ravel('K'))\n",
    "md_files = []\n",
    "for file_path in all_file_paths:\n",
    "    if isinstance(file_path, str) and file_path.endswith(\".md\") and os.path.exists(file_path):\n",
    "        md_files.append(file_path)\n",
    "        \n",
    "# Use the LLM's clasification of MD files\n",
    "chat_files = set(result_df['chats'].dropna().astype(str))\n",
    "\n",
    "# Extract visible text + ANY file reference \n",
    "def extract_text_and_files(td):\n",
    "    text = td.get_text(strip=True)\n",
    "    links = []\n",
    "    for tag in td.find_all(['a', 'img']):\n",
    "        link = tag.get('href') or tag.get('src')\n",
    "        if link:\n",
    "            fname = os.path.basename(link.strip(\"'\\\"\"))\n",
    "            links.append(fname)\n",
    "    return text + (\" \" + \" \".join(links) if links else \"\")\n",
    "\n",
    "# This method extracts chat table from HTML\n",
    "def process_chat_md(file_path):\n",
    "    try:\n",
    "        with open(file_path, \"r\", encoding=\"utf-8\") as f:\n",
    "            content = f.read()\n",
    "        soup = BeautifulSoup(content, \"lxml\")\n",
    "        rows = soup.find_all(\"tr\")[1:]\n",
    "        data = []\n",
    "        for row in rows:\n",
    "            cols = row.find_all(\"td\")\n",
    "            if len(cols) == 4:\n",
    "                data.append({\n",
    "                    \"Time\": cols[0].get_text(strip=True),\n",
    "                    \"From\": cols[1].get_text(strip=True),\n",
    "                    \"To\": cols[2].get_text(strip=True),\n",
    "                    \"Message\": extract_text_and_files(cols[3])\n",
    "                })\n",
    "        return pd.DataFrame(data) if data else None\n",
    "    except Exception as e:\n",
    "        print(f\"Error processing chat file {file_path}: {e}\")\n",
    "        return None\n",
    "\n",
    "# Extract the contents of the other file types that the LLM classified\n",
    "def process_reference_md(file_path):\n",
    "    try:\n",
    "        with open(file_path, \"r\", encoding=\"utf-8\") as f:\n",
    "            content = f.read()\n",
    "        soup = BeautifulSoup(content, \"lxml\")\n",
    "        matches = []\n",
    "        for tag in soup.find_all(['a', 'img']):\n",
    "            link = tag.get('href') or tag.get('src')\n",
    "            if link:\n",
    "                fname = os.path.basename(link.strip(\"'\\\"\"))\n",
    "                if not fname.startswith(\"0-\"):\n",
    "                    matches.append(fname)\n",
    "        matches = list(set(matches))\n",
    "        return pd.DataFrame([{\"File_Name\": f} for f in matches]) if matches else None\n",
    "    except Exception as e:\n",
    "        print(f\"Error processing reference file {file_path}: {e}\")\n",
    "        return None\n",
    "\n",
    "# Loop through all MD filesand call the above methods for the afferent file type\n",
    "for file_path in md_files:\n",
    "    csv_name = os.path.basename(file_path).replace(\".md\", \".csv\")\n",
    "    csv_path = os.path.join(output_dir, csv_name)\n",
    "\n",
    "    if not os.path.exists(csv_path):\n",
    "        if file_path in chat_files:\n",
    "            df = process_chat_md(file_path)\n",
    "        else:\n",
    "            df = process_reference_md(file_path)\n",
    "\n",
    "        if df is not None:\n",
    "            df.to_csv(csv_path, index=False)\n",
    "        else:\n",
    "            print(f\"Couldn't save to CSV: {file_path}\")"
   ]
  },
  {
   "cell_type": "code",
   "execution_count": 18,
   "id": "070f1c87-70d5-4699-8220-fecbc4f05457",
   "metadata": {
    "tags": []
   },
   "outputs": [],
   "source": [
    "import os\n",
    "import ast\n",
    "from pathlib import Path"
   ]
  },
  {
   "cell_type": "code",
   "execution_count": 19,
   "id": "6f4e4289-8394-4707-b8d9-687061d28d62",
   "metadata": {
    "tags": []
   },
   "outputs": [
    {
     "data": {
      "text/html": [
       "<div>\n",
       "<style scoped>\n",
       "    .dataframe tbody tr th:only-of-type {\n",
       "        vertical-align: middle;\n",
       "    }\n",
       "\n",
       "    .dataframe tbody tr th {\n",
       "        vertical-align: top;\n",
       "    }\n",
       "\n",
       "    .dataframe thead th {\n",
       "        text-align: right;\n",
       "    }\n",
       "</style>\n",
       "<table border=\"1\" class=\"dataframe\">\n",
       "  <thead>\n",
       "    <tr style=\"text-align: right;\">\n",
       "      <th></th>\n",
       "      <th>source_file</th>\n",
       "      <th>mentions</th>\n",
       "      <th>mentions2</th>\n",
       "    </tr>\n",
       "  </thead>\n",
       "  <tbody>\n",
       "    <tr>\n",
       "      <th>0</th>\n",
       "      <td>csvs/01cdc26f-e773-4ad7-8808-d04abf16aae7.csv</td>\n",
       "      <td>[0/png/01cdc26f-e773-4ad7-8808-d04abf16aae7_1_...</td>\n",
       "      <td>{}</td>\n",
       "    </tr>\n",
       "    <tr>\n",
       "      <th>1</th>\n",
       "      <td>csvs/10.csv</td>\n",
       "      <td>[0/png/0-6bcc0131-e4ad-421e-bb1f-d8ebe5eeec7b....</td>\n",
       "      <td>{'csvs/12756724-394c-4576-b373-7c53f1abbd94.cs...</td>\n",
       "    </tr>\n",
       "    <tr>\n",
       "      <th>2</th>\n",
       "      <td>csvs/13.csv</td>\n",
       "      <td>[0/png/0-adaf869e-920a-4a17-91bd-e2ef3125c10e....</td>\n",
       "      <td>{'csvs/585875ff-f8c5-4a02-acd7-fef37dc9ff11.cs...</td>\n",
       "    </tr>\n",
       "    <tr>\n",
       "      <th>3</th>\n",
       "      <td>csvs/15.csv</td>\n",
       "      <td>[0/png/0-b8cea3b1-4dde-4438-9b1a-6faf690bbad0....</td>\n",
       "      <td>{}</td>\n",
       "    </tr>\n",
       "    <tr>\n",
       "      <th>4</th>\n",
       "      <td>csvs/178e3898-903d-47cf-bfbe-061e7dc18895.csv</td>\n",
       "      <td>[0/png/178e3898-903d-47cf-bfbe-061e7dc18895_8....</td>\n",
       "      <td>{}</td>\n",
       "    </tr>\n",
       "  </tbody>\n",
       "</table>\n",
       "</div>"
      ],
      "text/plain": [
       "                                     source_file  \\\n",
       "0  csvs/01cdc26f-e773-4ad7-8808-d04abf16aae7.csv   \n",
       "1                                    csvs/10.csv   \n",
       "2                                    csvs/13.csv   \n",
       "3                                    csvs/15.csv   \n",
       "4  csvs/178e3898-903d-47cf-bfbe-061e7dc18895.csv   \n",
       "\n",
       "                                            mentions  \\\n",
       "0  [0/png/01cdc26f-e773-4ad7-8808-d04abf16aae7_1_...   \n",
       "1  [0/png/0-6bcc0131-e4ad-421e-bb1f-d8ebe5eeec7b....   \n",
       "2  [0/png/0-adaf869e-920a-4a17-91bd-e2ef3125c10e....   \n",
       "3  [0/png/0-b8cea3b1-4dde-4438-9b1a-6faf690bbad0....   \n",
       "4  [0/png/178e3898-903d-47cf-bfbe-061e7dc18895_8....   \n",
       "\n",
       "                                           mentions2  \n",
       "0                                                 {}  \n",
       "1  {'csvs/12756724-394c-4576-b373-7c53f1abbd94.cs...  \n",
       "2  {'csvs/585875ff-f8c5-4a02-acd7-fef37dc9ff11.cs...  \n",
       "3                                                 {}  \n",
       "4                                                 {}  "
      ]
     },
     "execution_count": 19,
     "metadata": {},
     "output_type": "execute_result"
    }
   ],
   "source": [
    "# This cell changes the MD files in the file mapping to CSV\n",
    "\n",
    "csv_dir = \"csvs\"\n",
    "\n",
    "# Replace MD with CSV if the corresponding file exists\n",
    "def replace_md_with_csv(item):\n",
    "    if isinstance(item, str) and item.endswith(\".md\"):\n",
    "        base_name = Path(item).stem  # .stem extracts the filename with no extension\n",
    "        # CSV search\n",
    "        csv_path = os.path.join(csv_dir, f\"{base_name}.csv\")\n",
    "        if os.path.exists(csv_path):\n",
    "            return csv_path\n",
    "        else:\n",
    "            print(f\"CSV {item} not found\")\n",
    "    return item\n",
    "\n",
    "# Recursively handle strings, lists, and dictionaries\n",
    "def process_column_cell(cell):\n",
    "    if isinstance(cell, str):\n",
    "        return replace_md_with_csv(cell)\n",
    "    \n",
    "    elif isinstance(cell, list):\n",
    "        new_list = []\n",
    "        for item in cell:\n",
    "            new_item = process_column_cell(item)\n",
    "            new_list.append(new_item)\n",
    "        return new_list\n",
    "\n",
    "    elif isinstance(cell, dict):\n",
    "        new_dict = {}\n",
    "        for key, value in cell.items():\n",
    "            new_key = replace_md_with_csv(key)\n",
    "            new_value = process_column_cell(value)\n",
    "            new_dict[new_key] = new_value\n",
    "        return new_dict\n",
    "\n",
    "    else:\n",
    "        return cell\n",
    "    \n",
    "for col in filtered_ref_summary.columns:\n",
    "    filtered_ref_summary[col] = filtered_ref_summary[col].apply(process_column_cell)\n",
    "\n",
    "filtered_ref_summary.to_csv(\"results/filtered_ref_summary_csv_replaced.csv\", index=False)\n",
    "filtered_ref_summary.head()        "
   ]
  },
  {
   "cell_type": "code",
   "execution_count": null,
   "id": "55a45648-bbd4-43fa-b55e-8eef3db5584f",
   "metadata": {},
   "outputs": [],
   "source": [
    "import os\n",
    "import pandas as pd"
   ]
  },
  {
   "cell_type": "code",
   "execution_count": 22,
   "id": "1b141ab1-e67d-410e-8e95-f75b8f5b6088",
   "metadata": {
    "tags": []
   },
   "outputs": [
    {
     "name": "stdout",
     "output_type": "stream",
     "text": [
      "                                           other  \\\n",
      "0  csvs/9d7bc879-3250-4013-ac04-5ff9bd6dff40.csv   \n",
      "1                                           None   \n",
      "2                                           None   \n",
      "3                                           None   \n",
      "4                                           None   \n",
      "\n",
      "                                          images        chats  \n",
      "0  csvs/dbc9c90e-a3e6-4d71-bb93-5fb8394095ac.csv  csvs/28.csv  \n",
      "1  csvs/9fd06037-11f1-4ad5-9a7d-cbfb3fa4193b.csv   csvs/5.csv  \n",
      "2  csvs/3348953d-66e9-4cac-8675-65bb5f2ef929.csv  csvs/38.csv  \n",
      "3  csvs/07f179c5-5705-4dbd-94a7-66eed1e066b0.csv  csvs/18.csv  \n",
      "4  csvs/01cdc26f-e773-4ad7-8808-d04abf16aae7.csv   csvs/1.csv  \n"
     ]
    }
   ],
   "source": [
    "# Use the csvs folder and the LLM classification of MD files to update the df created by the LLM to a new df that stores the csvs\n",
    "\n",
    "csv_folder = \"csvs\"\n",
    "\n",
    "csv_mapping = {}\n",
    "# Loop through each file in the CSV folder\n",
    "for filename in os.listdir(csv_folder):\n",
    "    # Check for csv\n",
    "    if filename.endswith('.csv'):\n",
    "        # Replace the \".csv\" extension with \".md\" to create the key\n",
    "        md_filename = filename.replace('.csv', '.md')\n",
    "        \n",
    "        # Set the value to the full path to the CSV file \n",
    "        csv_full_path = os.path.join(csv_folder, filename)\n",
    "        \n",
    "        # Add the key-value pair to the mapping\n",
    "        csv_mapping[md_filename] = csv_full_path\n",
    "\n",
    "# Step 2: Define function to replace .md path with .csv path\n",
    "def replace_md_with_csv(val):\n",
    "    if isinstance(val, str):\n",
    "        base = os.path.basename(val)\n",
    "        return csv_mapping.get(base, val)\n",
    "    return val\n",
    "\n",
    "df_csvs_llm = result_df.applymap(replace_md_with_csv)\n",
    "df_csvs_llm.to_csv(\"results/updated_with_csv_paths.csv\", index=False)\n",
    "print(df_csvs_llm.head())"
   ]
  },
  {
   "cell_type": "markdown",
   "id": "18674b5d-772c-4b02-9370-eae9102b1932",
   "metadata": {
    "tags": []
   },
   "source": [
    "## TXT & LOG -> CSV"
   ]
  },
  {
   "cell_type": "code",
   "execution_count": null,
   "id": "a8f27723-df28-495d-9302-5dae35295f0b",
   "metadata": {},
   "outputs": [],
   "source": [
    "import os\n",
    "import csv"
   ]
  },
  {
   "cell_type": "code",
   "execution_count": 2,
   "id": "c25d93ec-e6b3-46b3-929f-3434b83b3c5c",
   "metadata": {
    "tags": []
   },
   "outputs": [
    {
     "name": "stdout",
     "output_type": "stream",
     "text": [
      "Skipped unknown format: 77010155050.log\n",
      "Skipped unknown format: 77753527617.log\n",
      "Converted: tele2-lbs.log → tele2-lbs.csv\n",
      "Converted: tele2-cdr.log → tele2-cdr.csv\n",
      "Converted: tele2-crm.log → tele2-crm.csv\n",
      "Skipped unknown format: 77783030133.log\n",
      "Converted: IDNET.txt → IDNET.csv\n",
      "Converted: IDTV.txt → IDTV.csv\n",
      "Converted: beeline-77774042222.txt → beeline-77774042222.csv\n",
      "Converted: beeline-77051056626.txt → beeline-77051056626.csv\n",
      "Converted: beeline-crm.txt → beeline-crm.csv\n",
      "Skipped unknown format: UBSCRIBER.txt\n",
      "Converted: beeline-cdr.txt → beeline-cdr.csv\n",
      "Converted: CRM.txt → CRM.csv\n",
      "Converted: LAC.txt → LAC.csv\n",
      "Converted: beeline-lbs.txt → beeline-lbs.csv\n",
      "Converted: Φ»¥σìò.txt → Φ»¥σìò.csv\n"
     ]
    }
   ],
   "source": [
    "SOURCE_FOLDER_1 = \"0/log\"\n",
    "SOURCE_FOLDER_2 = \"0/txt\"\n",
    "OUTPUT_FOLDER = \"logtxt_to_csv\"\n",
    "\n",
    "def detect_format(lines):\n",
    "    if len(lines) >= 2 and all(c == '-' or c == ' ' for c in lines[1]):\n",
    "        return 'fixed-width'\n",
    "    elif ',' in lines[0]:\n",
    "        return 'csv'\n",
    "    elif '\\t' in lines[0]:\n",
    "        return 'tsv'\n",
    "    return 'unknown'\n",
    "\n",
    "def get_fixed_positions(divider_line):\n",
    "    positions = []\n",
    "    in_field = False\n",
    "    for i, char in enumerate(divider_line):\n",
    "        if char == '-' and not in_field:\n",
    "            start = i\n",
    "            in_field = True\n",
    "        elif char != '-' and in_field:\n",
    "            end = i\n",
    "            positions.append((start, end))\n",
    "            in_field = False\n",
    "    if in_field:\n",
    "        positions.append((start, len(divider_line)))\n",
    "    return positions\n",
    "\n",
    "def process_fixed_width(lines, output_path):\n",
    "    header_line = lines[0]\n",
    "    divider_line = lines[1]\n",
    "    data_lines = lines[2:]\n",
    "    positions = get_fixed_positions(divider_line)\n",
    "    headers = [header_line[start:end].strip() for start, end in positions]\n",
    "\n",
    "    with open(output_path, 'w', newline='', encoding='utf-8') as out_file:\n",
    "        writer = csv.writer(out_file)\n",
    "        writer.writerow(headers)\n",
    "        for line in data_lines:\n",
    "            row = [line[start:end].strip() for start, end in positions]\n",
    "            if any(row):\n",
    "                writer.writerow(row)\n",
    "\n",
    "def process_delimited(lines, output_path, delimiter):\n",
    "    with open(output_path, 'w', newline='', encoding='utf-8') as out_file:\n",
    "        writer = csv.writer(out_file)\n",
    "        for line in lines:\n",
    "            row = [field.strip().replace(',', '.') if delimiter == '\\t' and field.replace(',', '').replace('.', '').isdigit() else field.strip() for field in line.strip().split(delimiter)]\n",
    "            if any(row):\n",
    "                writer.writerow(row)\n",
    "\n",
    "def convert_all_files(source_folders, output_folder):\n",
    "    os.makedirs(output_folder, exist_ok=True)\n",
    "\n",
    "    for input_dir in source_folders:\n",
    "        for file in os.listdir(input_dir):\n",
    "            if not file.lower().endswith(('.txt', '.log')):\n",
    "                continue\n",
    "\n",
    "            file_path = os.path.join(input_dir, file)\n",
    "            base_name = os.path.basename(file)\n",
    "            output_path = os.path.join(output_folder, os.path.splitext(base_name)[0] + '.csv')\n",
    "\n",
    "            with open(file_path, 'r', encoding='utf-8', errors='replace') as f:\n",
    "                lines = f.readlines()\n",
    "\n",
    "            if not lines:\n",
    "                continue\n",
    "\n",
    "            fmt = detect_format(lines)\n",
    "\n",
    "            try:\n",
    "                if fmt == 'fixed-width':\n",
    "                    process_fixed_width(lines, output_path)\n",
    "                elif fmt == 'tsv':\n",
    "                    process_delimited(lines, output_path, delimiter='\\t')\n",
    "                elif fmt == 'csv':\n",
    "                    process_delimited(lines, output_path, delimiter=',')\n",
    "                else:\n",
    "                    print(f\"Skipped unknown format: {file}\")\n",
    "                    continue\n",
    "\n",
    "                print(f\"Converted: {file} → {os.path.basename(output_path)}\")\n",
    "            except Exception as e:\n",
    "                print(f\"Failed to convert {file}: {e}\")\n",
    "\n",
    "if __name__ == \"__main__\":\n",
    "    convert_all_files([SOURCE_FOLDER_1, SOURCE_FOLDER_2], OUTPUT_FOLDER)"
   ]
  },
  {
   "cell_type": "markdown",
   "id": "b51e6496-8f3a-4aee-9980-bf49898f663c",
   "metadata": {
    "tags": []
   },
   "source": [
    "## PNG -> CSV"
   ]
  },
  {
   "cell_type": "code",
   "execution_count": null,
   "id": "7baa022f-fc48-415c-9548-00c04cb06ee8",
   "metadata": {},
   "outputs": [],
   "source": [
    "# MacOS Script "
   ]
  },
  {
   "cell_type": "markdown",
   "id": "d839f2f0-bcf0-4227-96fe-26f62ce95c3d",
   "metadata": {
    "tags": []
   },
   "source": [
    "# **DATA TRANSLATION**"
   ]
  },
  {
   "cell_type": "markdown",
   "id": "344d79a3-9d29-4850-b24c-ce5f10707dfb",
   "metadata": {
    "tags": []
   },
   "source": [
    "## *CONVERSATIONS TRANSLATION – GEMMA3:27B*"
   ]
  },
  {
   "cell_type": "code",
   "execution_count": 23,
   "id": "a33b558c-25cf-451e-9ccd-92892c0ef1e3",
   "metadata": {
    "tags": []
   },
   "outputs": [
    {
     "name": "stdout",
     "output_type": "stream",
     "text": [
      "Processing: csvs/28.csv\n"
     ]
    },
    {
     "name": "stderr",
     "output_type": "stream",
     "text": [
      "Translating: csvs/28.csv: 100%|██████████| 46/46 [02:55<00:00,  3.81s/it]\n"
     ]
    },
    {
     "name": "stdout",
     "output_type": "stream",
     "text": [
      "Finished and saved: csvs/28.csv\n",
      "\n",
      "Processing: csvs/5.csv\n"
     ]
    },
    {
     "name": "stderr",
     "output_type": "stream",
     "text": [
      "Translating: csvs/5.csv: 100%|██████████| 17/17 [00:24<00:00,  1.46s/it]\n"
     ]
    },
    {
     "name": "stdout",
     "output_type": "stream",
     "text": [
      "Finished and saved: csvs/5.csv\n",
      "\n",
      "Processing: csvs/38.csv\n"
     ]
    },
    {
     "name": "stderr",
     "output_type": "stream",
     "text": [
      "Translating: csvs/38.csv: 100%|██████████| 21/21 [01:18<00:00,  3.75s/it]\n"
     ]
    },
    {
     "name": "stdout",
     "output_type": "stream",
     "text": [
      "Finished and saved: csvs/38.csv\n",
      "\n",
      "Processing: csvs/18.csv\n"
     ]
    },
    {
     "name": "stderr",
     "output_type": "stream",
     "text": [
      "Translating: csvs/18.csv: 100%|██████████| 84/84 [02:10<00:00,  1.55s/it]\n"
     ]
    },
    {
     "name": "stdout",
     "output_type": "stream",
     "text": [
      "Finished and saved: csvs/18.csv\n",
      "\n",
      "Processing: csvs/1.csv\n"
     ]
    },
    {
     "name": "stderr",
     "output_type": "stream",
     "text": [
      "Translating: csvs/1.csv:   7%|▋         | 550/8290 [20:25<13:53:57,  6.46s/it]"
     ]
    },
    {
     "name": "stdout",
     "output_type": "stream",
     "text": [
      "Ollama error: HTTPConnectionPool(host='localhost', port=11434): Read timed out. (read timeout=90)\n"
     ]
    },
    {
     "name": "stderr",
     "output_type": "stream",
     "text": [
      "Translating: csvs/1.csv:  68%|██████▊   | 5642/8290 [3:25:59<6:53:56,  9.38s/it] "
     ]
    },
    {
     "name": "stdout",
     "output_type": "stream",
     "text": [
      "Ollama error: HTTPConnectionPool(host='localhost', port=11434): Read timed out. (read timeout=90)\n"
     ]
    },
    {
     "name": "stderr",
     "output_type": "stream",
     "text": [
      "Translating: csvs/1.csv:  69%|██████▉   | 5711/8290 [3:30:46<5:57:09,  8.31s/it]"
     ]
    },
    {
     "name": "stdout",
     "output_type": "stream",
     "text": [
      "Ollama error: HTTPConnectionPool(host='localhost', port=11434): Read timed out. (read timeout=90)\n"
     ]
    },
    {
     "name": "stderr",
     "output_type": "stream",
     "text": [
      "Translating: csvs/1.csv:  77%|███████▋  | 6419/8290 [4:01:12<50:27,  1.62s/it]  "
     ]
    },
    {
     "name": "stdout",
     "output_type": "stream",
     "text": [
      "Ollama error: HTTPConnectionPool(host='localhost', port=11434): Read timed out. (read timeout=90)\n"
     ]
    },
    {
     "name": "stderr",
     "output_type": "stream",
     "text": [
      "Translating: csvs/1.csv:  87%|████████▋ | 7230/8290 [4:35:32<2:34:48,  8.76s/it]"
     ]
    },
    {
     "name": "stdout",
     "output_type": "stream",
     "text": [
      "Ollama error: HTTPConnectionPool(host='localhost', port=11434): Read timed out. (read timeout=90)\n"
     ]
    },
    {
     "name": "stderr",
     "output_type": "stream",
     "text": [
      "Translating: csvs/1.csv:  88%|████████▊ | 7268/8290 [4:37:49<2:13:42,  7.85s/it]"
     ]
    },
    {
     "name": "stdout",
     "output_type": "stream",
     "text": [
      "Ollama error: HTTPConnectionPool(host='localhost', port=11434): Read timed out. (read timeout=90)\n"
     ]
    },
    {
     "name": "stderr",
     "output_type": "stream",
     "text": [
      "Translating: csvs/1.csv: 100%|██████████| 8290/8290 [5:20:43<00:00,  2.32s/it]  \n"
     ]
    },
    {
     "name": "stdout",
     "output_type": "stream",
     "text": [
      "Finished and saved: csvs/1.csv\n",
      "\n",
      "Processing: csvs/19.csv\n"
     ]
    },
    {
     "name": "stderr",
     "output_type": "stream",
     "text": [
      "Translating: csvs/19.csv: 100%|██████████| 21/21 [01:04<00:00,  3.06s/it]\n"
     ]
    },
    {
     "name": "stdout",
     "output_type": "stream",
     "text": [
      "Finished and saved: csvs/19.csv\n",
      "\n",
      "Processing: csvs/29.csv\n"
     ]
    },
    {
     "name": "stderr",
     "output_type": "stream",
     "text": [
      "Translating: csvs/29.csv: 100%|██████████| 80/80 [03:05<00:00,  2.31s/it]\n"
     ]
    },
    {
     "name": "stdout",
     "output_type": "stream",
     "text": [
      "Finished and saved: csvs/29.csv\n",
      "\n",
      "Processing: csvs/4.csv\n"
     ]
    },
    {
     "name": "stderr",
     "output_type": "stream",
     "text": [
      "Translating: csvs/4.csv: 100%|██████████| 513/513 [17:16<00:00,  2.02s/it]\n"
     ]
    },
    {
     "name": "stdout",
     "output_type": "stream",
     "text": [
      "Finished and saved: csvs/4.csv\n",
      "\n",
      "Processing: csvs/39.csv\n"
     ]
    },
    {
     "name": "stderr",
     "output_type": "stream",
     "text": [
      "Translating: csvs/39.csv: 100%|██████████| 821/821 [27:27<00:00,  2.01s/it]\n"
     ]
    },
    {
     "name": "stdout",
     "output_type": "stream",
     "text": [
      "Finished and saved: csvs/39.csv\n",
      "\n",
      "Processing: csvs/16.csv\n"
     ]
    },
    {
     "name": "stderr",
     "output_type": "stream",
     "text": [
      "Translating: csvs/16.csv: 100%|██████████| 149/149 [04:35<00:00,  1.85s/it]\n"
     ]
    },
    {
     "name": "stdout",
     "output_type": "stream",
     "text": [
      "Finished and saved: csvs/16.csv\n",
      "\n",
      "Processing: csvs/22.csv\n"
     ]
    },
    {
     "name": "stderr",
     "output_type": "stream",
     "text": [
      "Translating: csvs/22.csv: 100%|██████████| 91/91 [03:16<00:00,  2.16s/it]\n"
     ]
    },
    {
     "name": "stdout",
     "output_type": "stream",
     "text": [
      "Finished and saved: csvs/22.csv\n",
      "\n",
      "Processing: csvs/32.csv\n"
     ]
    },
    {
     "name": "stderr",
     "output_type": "stream",
     "text": [
      "Translating: csvs/32.csv: 100%|██████████| 86/86 [02:35<00:00,  1.81s/it]\n"
     ]
    },
    {
     "name": "stdout",
     "output_type": "stream",
     "text": [
      "Finished and saved: csvs/32.csv\n",
      "\n",
      "Processing: csvs/26.csv\n"
     ]
    },
    {
     "name": "stderr",
     "output_type": "stream",
     "text": [
      "Translating: csvs/26.csv: 100%|██████████| 6/6 [00:17<00:00,  2.85s/it]\n"
     ]
    },
    {
     "name": "stdout",
     "output_type": "stream",
     "text": [
      "Finished and saved: csvs/26.csv\n",
      "\n",
      "Processing: csvs/12.csv\n"
     ]
    },
    {
     "name": "stderr",
     "output_type": "stream",
     "text": [
      "Translating: csvs/12.csv: 100%|██████████| 392/392 [13:52<00:00,  2.12s/it]\n"
     ]
    },
    {
     "name": "stdout",
     "output_type": "stream",
     "text": [
      "Finished and saved: csvs/12.csv\n",
      "\n",
      "Processing: csvs/36.csv\n"
     ]
    },
    {
     "name": "stderr",
     "output_type": "stream",
     "text": [
      "Translating: csvs/36.csv: 100%|██████████| 199/199 [05:28<00:00,  1.65s/it]\n"
     ]
    },
    {
     "name": "stdout",
     "output_type": "stream",
     "text": [
      "Finished and saved: csvs/36.csv\n",
      "\n",
      "Processing: csvs/27.csv\n"
     ]
    },
    {
     "name": "stderr",
     "output_type": "stream",
     "text": [
      "Translating: csvs/27.csv: 100%|██████████| 29/29 [02:44<00:00,  5.67s/it]\n"
     ]
    },
    {
     "name": "stdout",
     "output_type": "stream",
     "text": [
      "Ollama error: HTTPConnectionPool(host='localhost', port=11434): Read timed out. (read timeout=90)\n",
      "Finished and saved: csvs/27.csv\n",
      "\n",
      "Processing: csvs/13.csv\n"
     ]
    },
    {
     "name": "stderr",
     "output_type": "stream",
     "text": [
      "Translating: csvs/13.csv: 100%|██████████| 244/244 [08:18<00:00,  2.04s/it]\n"
     ]
    },
    {
     "name": "stdout",
     "output_type": "stream",
     "text": [
      "Finished and saved: csvs/13.csv\n",
      "\n",
      "Processing: csvs/37.csv\n"
     ]
    },
    {
     "name": "stderr",
     "output_type": "stream",
     "text": [
      "Translating: csvs/37.csv:  10%|▉         | 32/329 [02:47<52:10, 10.54s/it]"
     ]
    },
    {
     "name": "stdout",
     "output_type": "stream",
     "text": [
      "Ollama error: HTTPConnectionPool(host='localhost', port=11434): Read timed out. (read timeout=90)\n"
     ]
    },
    {
     "name": "stderr",
     "output_type": "stream",
     "text": [
      "Translating: csvs/37.csv:  16%|█▋        | 54/329 [04:46<21:03,  4.59s/it]"
     ]
    },
    {
     "name": "stdout",
     "output_type": "stream",
     "text": [
      "Ollama error: HTTPConnectionPool(host='localhost', port=11434): Read timed out. (read timeout=90)\n"
     ]
    },
    {
     "name": "stderr",
     "output_type": "stream",
     "text": [
      "Translating: csvs/37.csv:  27%|██▋       | 90/329 [07:55<16:51,  4.23s/it]"
     ]
    },
    {
     "name": "stdout",
     "output_type": "stream",
     "text": [
      "Ollama error: HTTPConnectionPool(host='localhost', port=11434): Read timed out. (read timeout=90)\n"
     ]
    },
    {
     "name": "stderr",
     "output_type": "stream",
     "text": [
      "Translating: csvs/37.csv: 100%|██████████| 329/329 [16:39<00:00,  3.04s/it]\n"
     ]
    },
    {
     "name": "stdout",
     "output_type": "stream",
     "text": [
      "Finished and saved: csvs/37.csv\n",
      "\n",
      "Processing: csvs/17.csv\n"
     ]
    },
    {
     "name": "stderr",
     "output_type": "stream",
     "text": [
      "Translating: csvs/17.csv: 100%|██████████| 55/55 [01:42<00:00,  1.86s/it]\n"
     ]
    },
    {
     "name": "stdout",
     "output_type": "stream",
     "text": [
      "Finished and saved: csvs/17.csv\n",
      "\n",
      "Processing: csvs/23.csv\n"
     ]
    },
    {
     "name": "stderr",
     "output_type": "stream",
     "text": [
      "Translating: csvs/23.csv: 100%|██████████| 24/24 [00:45<00:00,  1.90s/it]\n"
     ]
    },
    {
     "name": "stdout",
     "output_type": "stream",
     "text": [
      "Finished and saved: csvs/23.csv\n",
      "\n",
      "Processing: csvs/33.csv\n"
     ]
    },
    {
     "name": "stderr",
     "output_type": "stream",
     "text": [
      "Translating: csvs/33.csv: 100%|██████████| 31/31 [00:52<00:00,  1.70s/it]\n"
     ]
    },
    {
     "name": "stdout",
     "output_type": "stream",
     "text": [
      "Finished and saved: csvs/33.csv\n",
      "\n",
      "Processing: csvs/24.csv\n"
     ]
    },
    {
     "name": "stderr",
     "output_type": "stream",
     "text": [
      "Translating: csvs/24.csv: 100%|██████████| 55/55 [01:57<00:00,  2.13s/it]\n"
     ]
    },
    {
     "name": "stdout",
     "output_type": "stream",
     "text": [
      "Finished and saved: csvs/24.csv\n",
      "\n",
      "Processing: csvs/41.csv\n"
     ]
    },
    {
     "name": "stderr",
     "output_type": "stream",
     "text": [
      "Translating: csvs/41.csv: 100%|██████████| 322/322 [10:44<00:00,  2.00s/it]\n"
     ]
    },
    {
     "name": "stdout",
     "output_type": "stream",
     "text": [
      "Finished and saved: csvs/41.csv\n",
      "\n",
      "Processing: csvs/10.csv\n"
     ]
    },
    {
     "name": "stderr",
     "output_type": "stream",
     "text": [
      "Translating: csvs/10.csv: 100%|██████████| 149/149 [06:13<00:00,  2.51s/it]\n"
     ]
    },
    {
     "name": "stdout",
     "output_type": "stream",
     "text": [
      "Finished and saved: csvs/10.csv\n",
      "\n",
      "Processing: csvs/9.csv\n"
     ]
    },
    {
     "name": "stderr",
     "output_type": "stream",
     "text": [
      "Translating: csvs/9.csv: 100%|██████████| 235/235 [08:11<00:00,  2.09s/it]\n"
     ]
    },
    {
     "name": "stdout",
     "output_type": "stream",
     "text": [
      "Finished and saved: csvs/9.csv\n",
      "\n",
      "Processing: csvs/34.csv\n"
     ]
    },
    {
     "name": "stderr",
     "output_type": "stream",
     "text": [
      "Translating: csvs/34.csv: 100%|██████████| 426/426 [13:25<00:00,  1.89s/it]\n"
     ]
    },
    {
     "name": "stdout",
     "output_type": "stream",
     "text": [
      "Finished and saved: csvs/34.csv\n",
      "\n",
      "Processing: csvs/14.csv\n"
     ]
    },
    {
     "name": "stderr",
     "output_type": "stream",
     "text": [
      "Translating: csvs/14.csv: 100%|██████████| 44/44 [01:18<00:00,  1.78s/it]\n"
     ]
    },
    {
     "name": "stdout",
     "output_type": "stream",
     "text": [
      "Finished and saved: csvs/14.csv\n",
      "\n",
      "Processing: csvs/20.csv\n"
     ]
    },
    {
     "name": "stderr",
     "output_type": "stream",
     "text": [
      "Translating: csvs/20.csv: 100%|██████████| 68/68 [02:06<00:00,  1.86s/it]\n"
     ]
    },
    {
     "name": "stdout",
     "output_type": "stream",
     "text": [
      "Finished and saved: csvs/20.csv\n",
      "\n",
      "Processing: csvs/30.csv\n"
     ]
    },
    {
     "name": "stderr",
     "output_type": "stream",
     "text": [
      "Translating: csvs/30.csv: 100%|██████████| 322/322 [08:36<00:00,  1.61s/it]\n"
     ]
    },
    {
     "name": "stdout",
     "output_type": "stream",
     "text": [
      "Finished and saved: csvs/30.csv\n",
      "\n",
      "Processing: csvs/15.csv\n"
     ]
    },
    {
     "name": "stderr",
     "output_type": "stream",
     "text": [
      "Translating: csvs/15.csv: 100%|██████████| 199/199 [06:06<00:00,  1.84s/it]\n"
     ]
    },
    {
     "name": "stdout",
     "output_type": "stream",
     "text": [
      "Finished and saved: csvs/15.csv\n",
      "\n",
      "Processing: csvs/21.csv\n"
     ]
    },
    {
     "name": "stderr",
     "output_type": "stream",
     "text": [
      "Translating: csvs/21.csv: 100%|██████████| 1046/1046 [24:47<00:00,  1.42s/it]\n"
     ]
    },
    {
     "name": "stdout",
     "output_type": "stream",
     "text": [
      "Finished and saved: csvs/21.csv\n",
      "\n",
      "Processing: csvs/31.csv\n"
     ]
    },
    {
     "name": "stderr",
     "output_type": "stream",
     "text": [
      "Translating: csvs/31.csv: 100%|██████████| 44/44 [01:06<00:00,  1.51s/it]\n"
     ]
    },
    {
     "name": "stdout",
     "output_type": "stream",
     "text": [
      "Finished and saved: csvs/31.csv\n",
      "\n",
      "Processing: csvs/40.csv\n"
     ]
    },
    {
     "name": "stderr",
     "output_type": "stream",
     "text": [
      "Translating: csvs/40.csv: 100%|██████████| 129/129 [04:50<00:00,  2.25s/it]\n"
     ]
    },
    {
     "name": "stdout",
     "output_type": "stream",
     "text": [
      "Finished and saved: csvs/40.csv\n",
      "\n",
      "Processing: csvs/11.csv\n"
     ]
    },
    {
     "name": "stderr",
     "output_type": "stream",
     "text": [
      "Translating: csvs/11.csv: 100%|██████████| 125/125 [04:12<00:00,  2.02s/it]\n"
     ]
    },
    {
     "name": "stdout",
     "output_type": "stream",
     "text": [
      "Finished and saved: csvs/11.csv\n",
      "\n",
      "Processing: csvs/35.csv\n"
     ]
    },
    {
     "name": "stderr",
     "output_type": "stream",
     "text": [
      "Translating: csvs/35.csv: 100%|██████████| 196/196 [06:40<00:00,  2.04s/it]\n"
     ]
    },
    {
     "name": "stdout",
     "output_type": "stream",
     "text": [
      "Finished and saved: csvs/35.csv\n",
      "\n",
      "Processing: csvs/3.csv\n"
     ]
    },
    {
     "name": "stderr",
     "output_type": "stream",
     "text": [
      "Translating: csvs/3.csv: 100%|██████████| 23/23 [00:37<00:00,  1.63s/it]\n"
     ]
    },
    {
     "name": "stdout",
     "output_type": "stream",
     "text": [
      "Finished and saved: csvs/3.csv\n",
      "\n",
      "Processing: csvs/7.csv\n"
     ]
    },
    {
     "name": "stderr",
     "output_type": "stream",
     "text": [
      "Translating: csvs/7.csv: 100%|██████████| 196/196 [05:34<00:00,  1.71s/it]\n"
     ]
    },
    {
     "name": "stdout",
     "output_type": "stream",
     "text": [
      "Finished and saved: csvs/7.csv\n",
      "\n",
      "Processing: csvs/6.csv\n"
     ]
    },
    {
     "name": "stderr",
     "output_type": "stream",
     "text": [
      "Translating: csvs/6.csv: 100%|██████████| 136/136 [03:08<00:00,  1.38s/it]\n"
     ]
    },
    {
     "name": "stdout",
     "output_type": "stream",
     "text": [
      "Finished and saved: csvs/6.csv\n",
      "\n",
      "Processing: csvs/2.csv\n"
     ]
    },
    {
     "name": "stderr",
     "output_type": "stream",
     "text": [
      "Translating: csvs/2.csv: 100%|██████████| 500/500 [16:03<00:00,  1.93s/it]"
     ]
    },
    {
     "name": "stdout",
     "output_type": "stream",
     "text": [
      "Finished and saved: csvs/2.csv\n",
      "\n"
     ]
    },
    {
     "name": "stderr",
     "output_type": "stream",
     "text": [
      "\n"
     ]
    }
   ],
   "source": [
    "import pandas as pd\n",
    "import requests\n",
    "from tqdm import tqdm\n",
    "from concurrent.futures import ThreadPoolExecutor, as_completed\n",
    "\n",
    "# Chats - CSV loop\n",
    "for csv_path in df_csvs_llm['chats']:\n",
    "    print(f\"Processing: {csv_path}\")\n",
    "    \n",
    "    # Load the individual CSV file\n",
    "    df = pd.read_csv(csv_path)\n",
    "    df['message_translation'] = \"\"\n",
    "\n",
    "    # Function to get context around the target message\n",
    "    def get_context(df, index, window=5):\n",
    "        start = max(0, index - window)\n",
    "        end = min(len(df), index + window + 1)\n",
    "        return \"\\n\".join(df['Message'].iloc[start:end].dropna())\n",
    "\n",
    "    def query_ollama(prompt, model=\"gemma3:27b\"):\n",
    "        url = \"http://localhost:11434/api/generate\"\n",
    "        payload = {\n",
    "            \"model\": model,\n",
    "            \"prompt\": prompt,\n",
    "            \"stream\": False\n",
    "        }\n",
    "        try:\n",
    "            response = requests.post(url, json=payload, timeout=90)\n",
    "            response.raise_for_status()\n",
    "            return response.json()[\"response\"].strip()\n",
    "        except Exception as e:\n",
    "            print(f\"Ollama error: {e}\")\n",
    "            return \"[Translation Error]\"\n",
    "\n",
    "    # Function to process one row\n",
    "    def translate_row(index):\n",
    "        target = df.at[index, 'Message']\n",
    "        if pd.isna(target):\n",
    "            return index, \"\"\n",
    "        context = get_context(df, index)\n",
    "        prompt = (\n",
    "            \"You are translating Chinese messages to English. Below is a series of related messages. \"\n",
    "            \"Use the full context to understand the meaning, but only translate the specific message provided.\\n\\n\"\n",
    "            f\"Context:\\n{context}\\n\\n\"\n",
    "            f\"Message to translate:\\n{target}\\n\\n\"\n",
    "            \"ONLY RETURN the English translation of the message, ANYTHING ELSE IS FORBIDDEN! \"\n",
    "            \"If you encounter a filename or file reference, preserve it exactly as it appears, DON'T add anything!\"\n",
    "        )\n",
    "        translation = query_ollama(prompt)\n",
    "        return index, translation\n",
    "\n",
    "    # Run translations in parallel\n",
    "    futures = []\n",
    "    with ThreadPoolExecutor(max_workers=8) as executor:\n",
    "        for index in df.index:\n",
    "            futures.append(executor.submit(translate_row, index))\n",
    "\n",
    "        for future in tqdm(as_completed(futures), total=len(futures), desc=f\"Translating: {csv_path}\"):\n",
    "            idx, result = future.result()\n",
    "            df.at[idx, 'message_translation'] = result\n",
    "\n",
    "    # Save updated DataFrame back to the original file\n",
    "    df.to_csv(csv_path, index=False)\n",
    "    print(f\"Finished and saved: {csv_path}\\n\")"
   ]
  },
  {
   "cell_type": "markdown",
   "id": "0cd7e16d-a2aa-4053-83d3-eb03b5782ab7",
   "metadata": {
    "tags": []
   },
   "source": [
    "## *OCR TRANSLATION - GEMMA3:27b*"
   ]
  },
  {
   "cell_type": "code",
   "execution_count": 7,
   "id": "45241b76-69b2-4112-af2a-5e23d561dad3",
   "metadata": {
    "tags": []
   },
   "outputs": [
    {
     "name": "stderr",
     "output_type": "stream",
     "text": [
      "Translating OCR Files:   0%|          | 0/490 [00:00<?, ?file/s]"
     ]
    },
    {
     "name": "stdout",
     "output_type": "stream",
     "text": [
      "\n",
      "Processing file 1 of 490: 0-08a6bcd3-6477-4252-8f35-4f8f80d114f9.csv\n"
     ]
    },
    {
     "name": "stderr",
     "output_type": "stream",
     "text": [
      "Translating OCR Files:   0%|          | 1/490 [01:08<9:17:52, 68.45s/file]"
     ]
    },
    {
     "name": "stdout",
     "output_type": "stream",
     "text": [
      " Saved translated file: 0-08a6bcd3-6477-4252-8f35-4f8f80d114f9.csv\n",
      "\n",
      "Processing file 2 of 490: 0-0b54af64-c2cd-4acb-9864-73a584aa6ebc.csv\n"
     ]
    },
    {
     "name": "stderr",
     "output_type": "stream",
     "text": [
      "Translating OCR Files:   0%|          | 2/490 [01:24<5:06:57, 37.74s/file]"
     ]
    },
    {
     "name": "stdout",
     "output_type": "stream",
     "text": [
      " Saved translated file: 0-0b54af64-c2cd-4acb-9864-73a584aa6ebc.csv\n",
      "\n",
      "Processing file 3 of 490: 0-0baba509-5e81-4b88-b509-843822d09e21.csv\n"
     ]
    },
    {
     "name": "stderr",
     "output_type": "stream",
     "text": [
      "Translating OCR Files:   1%|          | 3/490 [01:37<3:34:25, 26.42s/file]"
     ]
    },
    {
     "name": "stdout",
     "output_type": "stream",
     "text": [
      " Saved translated file: 0-0baba509-5e81-4b88-b509-843822d09e21.csv\n",
      "\n",
      "Processing file 4 of 490: 0-0f319bf6-e667-4bac-a974-dfda1142e9ff.csv\n"
     ]
    },
    {
     "name": "stderr",
     "output_type": "stream",
     "text": [
      "Translating OCR Files:   1%|          | 4/490 [01:46<2:39:12, 19.66s/file]"
     ]
    },
    {
     "name": "stdout",
     "output_type": "stream",
     "text": [
      " Saved translated file: 0-0f319bf6-e667-4bac-a974-dfda1142e9ff.csv\n",
      "\n",
      "Processing file 5 of 490: 0-129ac70f-8942-4ca7-b1f2-ddeaa3d984b5.csv\n"
     ]
    },
    {
     "name": "stderr",
     "output_type": "stream",
     "text": [
      "Translating OCR Files:   1%|          | 5/490 [01:55<2:06:04, 15.60s/file]"
     ]
    },
    {
     "name": "stdout",
     "output_type": "stream",
     "text": [
      " Saved translated file: 0-129ac70f-8942-4ca7-b1f2-ddeaa3d984b5.csv\n",
      "\n",
      "Processing file 6 of 490: 0-1a20ded1-50fc-4153-9a95-e158eeb7199e.csv\n"
     ]
    },
    {
     "name": "stderr",
     "output_type": "stream",
     "text": [
      "Translating OCR Files:   1%|          | 6/490 [02:02<1:42:47, 12.74s/file]"
     ]
    },
    {
     "name": "stdout",
     "output_type": "stream",
     "text": [
      " Saved translated file: 0-1a20ded1-50fc-4153-9a95-e158eeb7199e.csv\n",
      "\n",
      "Processing file 7 of 490: 0-1afcf93d-50f1-4f1e-896d-87b0da7519f7.csv\n"
     ]
    },
    {
     "name": "stderr",
     "output_type": "stream",
     "text": [
      "Translating OCR Files:   1%|▏         | 7/490 [02:09<1:27:10, 10.83s/file]"
     ]
    },
    {
     "name": "stdout",
     "output_type": "stream",
     "text": [
      " Saved translated file: 0-1afcf93d-50f1-4f1e-896d-87b0da7519f7.csv\n",
      "\n",
      "Processing file 8 of 490: 0-1b0dc208-d2bb-43ea-b744-534f3b759394.csv\n"
     ]
    },
    {
     "name": "stderr",
     "output_type": "stream",
     "text": [
      "Translating OCR Files:   2%|▏         | 8/490 [02:13<1:10:35,  8.79s/file]"
     ]
    },
    {
     "name": "stdout",
     "output_type": "stream",
     "text": [
      " Saved translated file: 0-1b0dc208-d2bb-43ea-b744-534f3b759394.csv\n",
      "\n",
      "Processing file 9 of 490: 0-1cc570d8-cddb-401e-8c37-ef10c0e4841f.csv\n"
     ]
    },
    {
     "name": "stderr",
     "output_type": "stream",
     "text": [
      "Translating OCR Files:   2%|▏         | 9/490 [02:23<1:12:55,  9.10s/file]"
     ]
    },
    {
     "name": "stdout",
     "output_type": "stream",
     "text": [
      " Saved translated file: 0-1cc570d8-cddb-401e-8c37-ef10c0e4841f.csv\n",
      "\n",
      "Processing file 10 of 490: 0-300450bf-221e-4eeb-bdda-dc1115c947ea.csv\n"
     ]
    },
    {
     "name": "stderr",
     "output_type": "stream",
     "text": [
      "Translating OCR Files:   2%|▏         | 10/490 [02:34<1:16:15,  9.53s/file]"
     ]
    },
    {
     "name": "stdout",
     "output_type": "stream",
     "text": [
      " Saved translated file: 0-300450bf-221e-4eeb-bdda-dc1115c947ea.csv\n",
      "\n",
      "Processing file 11 of 490: 0-32eb7662-f212-4811-a7c1-1cfeb121cd99.csv\n"
     ]
    },
    {
     "name": "stderr",
     "output_type": "stream",
     "text": [
      "Translating OCR Files:   2%|▏         | 11/490 [03:03<2:05:40, 15.74s/file]"
     ]
    },
    {
     "name": "stdout",
     "output_type": "stream",
     "text": [
      " Saved translated file: 0-32eb7662-f212-4811-a7c1-1cfeb121cd99.csv\n",
      "\n",
      "Processing file 12 of 490: 0-330f554f-a3e6-4bd3-8b1b-d5949e1f30e8.csv\n"
     ]
    },
    {
     "name": "stderr",
     "output_type": "stream",
     "text": [
      "Translating OCR Files:   2%|▏         | 12/490 [03:06<1:33:23, 11.72s/file]"
     ]
    },
    {
     "name": "stdout",
     "output_type": "stream",
     "text": [
      " Saved translated file: 0-330f554f-a3e6-4bd3-8b1b-d5949e1f30e8.csv\n",
      "\n",
      "Processing file 13 of 490: 0-3556e54c-d418-447d-bb2a-43ac0408cc7a.csv\n"
     ]
    },
    {
     "name": "stderr",
     "output_type": "stream",
     "text": [
      "Translating OCR Files:   3%|▎         | 13/490 [03:10<1:15:22,  9.48s/file]"
     ]
    },
    {
     "name": "stdout",
     "output_type": "stream",
     "text": [
      " Saved translated file: 0-3556e54c-d418-447d-bb2a-43ac0408cc7a.csv\n",
      "\n",
      "Processing file 14 of 490: 0-383d824e-7588-4a92-84b7-fd953dd91cba.csv\n"
     ]
    },
    {
     "name": "stderr",
     "output_type": "stream",
     "text": [
      "Translating OCR Files:   3%|▎         | 14/490 [03:22<1:20:43, 10.18s/file]"
     ]
    },
    {
     "name": "stdout",
     "output_type": "stream",
     "text": [
      " Saved translated file: 0-383d824e-7588-4a92-84b7-fd953dd91cba.csv\n",
      "\n",
      "Processing file 15 of 490: 0-493542fc-495f-4756-8451-c4ed084d8bf7.csv\n"
     ]
    },
    {
     "name": "stderr",
     "output_type": "stream",
     "text": [
      "Translating OCR Files:   3%|▎         | 15/490 [03:34<1:24:07, 10.63s/file]"
     ]
    },
    {
     "name": "stdout",
     "output_type": "stream",
     "text": [
      " Saved translated file: 0-493542fc-495f-4756-8451-c4ed084d8bf7.csv\n",
      "\n",
      "Processing file 16 of 490: 0-4ae9bf34-c16c-4684-aa92-fec65a151275.csv\n"
     ]
    },
    {
     "name": "stderr",
     "output_type": "stream",
     "text": [
      "Translating OCR Files:   3%|▎         | 16/490 [04:06<2:14:46, 17.06s/file]"
     ]
    },
    {
     "name": "stdout",
     "output_type": "stream",
     "text": [
      " Saved translated file: 0-4ae9bf34-c16c-4684-aa92-fec65a151275.csv\n",
      "\n",
      "Processing file 17 of 490: 0-4c74b697-0681-4223-9982-5ffaf4e98ed0.csv\n"
     ]
    },
    {
     "name": "stderr",
     "output_type": "stream",
     "text": [
      "Translating OCR Files:   3%|▎         | 17/490 [04:07<1:36:57, 12.30s/file]"
     ]
    },
    {
     "name": "stdout",
     "output_type": "stream",
     "text": [
      " Saved translated file: 0-4c74b697-0681-4223-9982-5ffaf4e98ed0.csv\n",
      "\n",
      "Processing file 18 of 490: 0-4ea07c23-a1a6-411b-bcfb-552d095b66c9.csv\n"
     ]
    },
    {
     "name": "stderr",
     "output_type": "stream",
     "text": [
      "Translating OCR Files:   4%|▎         | 18/490 [04:19<1:35:16, 12.11s/file]"
     ]
    },
    {
     "name": "stdout",
     "output_type": "stream",
     "text": [
      " Saved translated file: 0-4ea07c23-a1a6-411b-bcfb-552d095b66c9.csv\n",
      "\n",
      "Processing file 19 of 490: 0-5a84cde3-7175-4044-8c88-d4c883a8fd38.csv\n"
     ]
    },
    {
     "name": "stderr",
     "output_type": "stream",
     "text": [
      "Translating OCR Files:   4%|▍         | 19/490 [04:35<1:43:56, 13.24s/file]"
     ]
    },
    {
     "name": "stdout",
     "output_type": "stream",
     "text": [
      " Saved translated file: 0-5a84cde3-7175-4044-8c88-d4c883a8fd38.csv\n",
      "\n",
      "Processing file 20 of 490: 0-5ae9bdca-fdf9-4948-8c11-a9e400b331aa.csv\n"
     ]
    },
    {
     "name": "stderr",
     "output_type": "stream",
     "text": [
      "Translating OCR Files:   4%|▍         | 20/490 [04:43<1:31:36, 11.70s/file]"
     ]
    },
    {
     "name": "stdout",
     "output_type": "stream",
     "text": [
      " Saved translated file: 0-5ae9bdca-fdf9-4948-8c11-a9e400b331aa.csv\n",
      "\n",
      "Processing file 21 of 490: 0-5d4e3e02-1dfc-469e-8af9-8dbe2b9f1564.csv\n"
     ]
    },
    {
     "name": "stderr",
     "output_type": "stream",
     "text": [
      "Translating OCR Files:   4%|▍         | 21/490 [04:44<1:06:53,  8.56s/file]"
     ]
    },
    {
     "name": "stdout",
     "output_type": "stream",
     "text": [
      " Saved translated file: 0-5d4e3e02-1dfc-469e-8af9-8dbe2b9f1564.csv\n",
      "\n",
      "Processing file 22 of 490: 0-5ef1d666-e19d-4570-b800-6693a4f680ee.csv\n"
     ]
    },
    {
     "name": "stderr",
     "output_type": "stream",
     "text": [
      "Translating OCR Files:   4%|▍         | 22/490 [05:24<2:21:19, 18.12s/file]"
     ]
    },
    {
     "name": "stdout",
     "output_type": "stream",
     "text": [
      " Saved translated file: 0-5ef1d666-e19d-4570-b800-6693a4f680ee.csv\n",
      "\n",
      "Processing file 23 of 490: 0-62583414-9e32-4d09-8989-b5fa32a98a81.csv\n"
     ]
    },
    {
     "name": "stderr",
     "output_type": "stream",
     "text": [
      "Translating OCR Files:   5%|▍         | 23/490 [05:30<1:51:22, 14.31s/file]"
     ]
    },
    {
     "name": "stdout",
     "output_type": "stream",
     "text": [
      " Saved translated file: 0-62583414-9e32-4d09-8989-b5fa32a98a81.csv\n",
      "\n",
      "Processing file 24 of 490: 0-62ff30cf-de5f-4388-82aa-b69b0fd0f07c.csv\n"
     ]
    },
    {
     "name": "stderr",
     "output_type": "stream",
     "text": [
      "Translating OCR Files:   5%|▍         | 24/490 [05:40<1:42:18, 13.17s/file]"
     ]
    },
    {
     "name": "stdout",
     "output_type": "stream",
     "text": [
      " Saved translated file: 0-62ff30cf-de5f-4388-82aa-b69b0fd0f07c.csv\n",
      "\n",
      "Processing file 25 of 490: 0-645dfc97-3268-4e1d-920d-4138545456fa.csv\n"
     ]
    },
    {
     "name": "stderr",
     "output_type": "stream",
     "text": [
      "Translating OCR Files:   5%|▌         | 25/490 [05:42<1:15:01,  9.68s/file]"
     ]
    },
    {
     "name": "stdout",
     "output_type": "stream",
     "text": [
      " Saved translated file: 0-645dfc97-3268-4e1d-920d-4138545456fa.csv\n",
      "\n",
      "Processing file 26 of 490: 0-6848748d-2881-4c26-b153-fcd5373d2f1c.csv\n"
     ]
    },
    {
     "name": "stderr",
     "output_type": "stream",
     "text": [
      "Translating OCR Files:   5%|▌         | 26/490 [06:07<1:51:53, 14.47s/file]"
     ]
    },
    {
     "name": "stdout",
     "output_type": "stream",
     "text": [
      " Saved translated file: 0-6848748d-2881-4c26-b153-fcd5373d2f1c.csv\n",
      "\n",
      "Processing file 27 of 490: 0-6bcc0131-e4ad-421e-bb1f-d8ebe5eeec7b.csv\n"
     ]
    },
    {
     "name": "stderr",
     "output_type": "stream",
     "text": [
      "Translating OCR Files:   6%|▌         | 27/490 [06:10<1:24:14, 10.92s/file]"
     ]
    },
    {
     "name": "stdout",
     "output_type": "stream",
     "text": [
      " Saved translated file: 0-6bcc0131-e4ad-421e-bb1f-d8ebe5eeec7b.csv\n",
      "\n",
      "Processing file 28 of 490: 0-6cbb3eeb-17e9-4af6-8da1-36eb6437f7bc.csv\n"
     ]
    },
    {
     "name": "stderr",
     "output_type": "stream",
     "text": [
      "Translating OCR Files:   6%|▌         | 28/490 [06:27<1:38:43, 12.82s/file]"
     ]
    },
    {
     "name": "stdout",
     "output_type": "stream",
     "text": [
      " Saved translated file: 0-6cbb3eeb-17e9-4af6-8da1-36eb6437f7bc.csv\n",
      "\n",
      "Processing file 29 of 490: 0-6e9aced1-df28-4e57-b7c8-641609ff4450.csv\n"
     ]
    },
    {
     "name": "stderr",
     "output_type": "stream",
     "text": [
      "Translating OCR Files:   6%|▌         | 29/490 [06:39<1:36:22, 12.54s/file]"
     ]
    },
    {
     "name": "stdout",
     "output_type": "stream",
     "text": [
      " Saved translated file: 0-6e9aced1-df28-4e57-b7c8-641609ff4450.csv\n",
      "\n",
      "Processing file 30 of 490: 0-70c63791-2797-4bf0-a778-ea08819aa9de.csv\n"
     ]
    },
    {
     "name": "stderr",
     "output_type": "stream",
     "text": [
      "Translating OCR Files:   6%|▌         | 30/490 [06:40<1:10:00,  9.13s/file]"
     ]
    },
    {
     "name": "stdout",
     "output_type": "stream",
     "text": [
      " Saved translated file: 0-70c63791-2797-4bf0-a778-ea08819aa9de.csv\n",
      "\n",
      "Processing file 31 of 490: 0-7150f512-e7a2-4f2c-86bc-58b671b25ba9.csv\n"
     ]
    },
    {
     "name": "stderr",
     "output_type": "stream",
     "text": [
      "Translating OCR Files:   6%|▋         | 31/490 [06:46<1:02:51,  8.22s/file]"
     ]
    },
    {
     "name": "stdout",
     "output_type": "stream",
     "text": [
      " Saved translated file: 0-7150f512-e7a2-4f2c-86bc-58b671b25ba9.csv\n",
      "\n",
      "Processing file 32 of 490: 0-785cc8c9-1225-4f93-b633-349bc5113512.csv\n"
     ]
    },
    {
     "name": "stderr",
     "output_type": "stream",
     "text": [
      "Translating OCR Files:   7%|▋         | 32/490 [06:53<57:48,  7.57s/file]  "
     ]
    },
    {
     "name": "stdout",
     "output_type": "stream",
     "text": [
      " Saved translated file: 0-785cc8c9-1225-4f93-b633-349bc5113512.csv\n",
      "\n",
      "Processing file 33 of 490: 0-79d9b7f2-cfe4-4615-9b75-8fea33fc0c9d.csv\n"
     ]
    },
    {
     "name": "stderr",
     "output_type": "stream",
     "text": [
      "Translating OCR Files:   7%|▋         | 33/490 [06:56<48:09,  6.32s/file]"
     ]
    },
    {
     "name": "stdout",
     "output_type": "stream",
     "text": [
      " Saved translated file: 0-79d9b7f2-cfe4-4615-9b75-8fea33fc0c9d.csv\n",
      "\n",
      "Processing file 34 of 490: 0-94b16e53-f035-4aa9-a76e-80bc6e936d10.csv\n"
     ]
    },
    {
     "name": "stderr",
     "output_type": "stream",
     "text": [
      "Translating OCR Files:   7%|▋         | 34/490 [06:59<41:13,  5.43s/file]"
     ]
    },
    {
     "name": "stdout",
     "output_type": "stream",
     "text": [
      " Saved translated file: 0-94b16e53-f035-4aa9-a76e-80bc6e936d10.csv\n",
      "\n",
      "Processing file 35 of 490: 0-96af60b3-299c-4e26-bca3-d9eb3e113b94.csv\n"
     ]
    },
    {
     "name": "stderr",
     "output_type": "stream",
     "text": [
      "Translating OCR Files:   7%|▋         | 35/490 [07:19<1:13:42,  9.72s/file]"
     ]
    },
    {
     "name": "stdout",
     "output_type": "stream",
     "text": [
      " Saved translated file: 0-96af60b3-299c-4e26-bca3-d9eb3e113b94.csv\n",
      "\n",
      "Processing file 36 of 490: 0-987ba39a-cc1c-4367-8d6d-f5a49a940198.csv\n"
     ]
    },
    {
     "name": "stderr",
     "output_type": "stream",
     "text": [
      "Translating OCR Files:   7%|▋         | 36/490 [07:25<1:05:22,  8.64s/file]"
     ]
    },
    {
     "name": "stdout",
     "output_type": "stream",
     "text": [
      " Saved translated file: 0-987ba39a-cc1c-4367-8d6d-f5a49a940198.csv\n",
      "\n",
      "Processing file 37 of 490: 0-9a8077f5-ac41-491f-b192-6b4609324bda.csv\n"
     ]
    },
    {
     "name": "stderr",
     "output_type": "stream",
     "text": [
      "Translating OCR Files:   8%|▊         | 37/490 [07:27<50:14,  6.65s/file]  "
     ]
    },
    {
     "name": "stdout",
     "output_type": "stream",
     "text": [
      " Saved translated file: 0-9a8077f5-ac41-491f-b192-6b4609324bda.csv\n",
      "\n",
      "Processing file 38 of 490: 0-9c8c9989-2293-4e68-9ffe-6f7a5f14562f.csv\n"
     ]
    },
    {
     "name": "stderr",
     "output_type": "stream",
     "text": [
      "Translating OCR Files:   8%|▊         | 38/490 [07:30<41:34,  5.52s/file]"
     ]
    },
    {
     "name": "stdout",
     "output_type": "stream",
     "text": [
      " Saved translated file: 0-9c8c9989-2293-4e68-9ffe-6f7a5f14562f.csv\n",
      "\n",
      "Processing file 39 of 490: 0-aa99f763-6849-4f6b-adf2-58f0cc2ed545.csv\n"
     ]
    },
    {
     "name": "stderr",
     "output_type": "stream",
     "text": [
      "Translating OCR Files:   8%|▊         | 39/490 [07:38<47:09,  6.27s/file]"
     ]
    },
    {
     "name": "stdout",
     "output_type": "stream",
     "text": [
      " Saved translated file: 0-aa99f763-6849-4f6b-adf2-58f0cc2ed545.csv\n",
      "\n",
      "Processing file 40 of 490: 0-adaf869e-920a-4a17-91bd-e2ef3125c10e.csv\n"
     ]
    },
    {
     "name": "stderr",
     "output_type": "stream",
     "text": [
      "Translating OCR Files:   8%|▊         | 40/490 [07:48<55:26,  7.39s/file]"
     ]
    },
    {
     "name": "stdout",
     "output_type": "stream",
     "text": [
      " Saved translated file: 0-adaf869e-920a-4a17-91bd-e2ef3125c10e.csv\n",
      "\n",
      "Processing file 41 of 490: 0-af93eff8-2973-4746-9041-b2223016b117.csv\n"
     ]
    },
    {
     "name": "stderr",
     "output_type": "stream",
     "text": [
      "Translating OCR Files:   8%|▊         | 41/490 [07:56<56:33,  7.56s/file]"
     ]
    },
    {
     "name": "stdout",
     "output_type": "stream",
     "text": [
      " Saved translated file: 0-af93eff8-2973-4746-9041-b2223016b117.csv\n",
      "\n",
      "Processing file 42 of 490: 0-b0a4acaa-d768-4f6d-8e54-6d20f271bb7c.csv\n"
     ]
    },
    {
     "name": "stderr",
     "output_type": "stream",
     "text": [
      "Translating OCR Files:   9%|▊         | 42/490 [07:58<44:26,  5.95s/file]"
     ]
    },
    {
     "name": "stdout",
     "output_type": "stream",
     "text": [
      " Saved translated file: 0-b0a4acaa-d768-4f6d-8e54-6d20f271bb7c.csv\n",
      "\n",
      "Processing file 43 of 490: 0-b3ce4d51-6024-4b43-b0d2-d3faaf3c2879.csv\n"
     ]
    },
    {
     "name": "stderr",
     "output_type": "stream",
     "text": [
      "Translating OCR Files:   9%|▉         | 43/490 [08:06<49:21,  6.63s/file]"
     ]
    },
    {
     "name": "stdout",
     "output_type": "stream",
     "text": [
      " Saved translated file: 0-b3ce4d51-6024-4b43-b0d2-d3faaf3c2879.csv\n",
      "\n",
      "Processing file 44 of 490: 0-b6eb1b15-cf99-475c-921f-f06e5c1019d4.csv\n"
     ]
    },
    {
     "name": "stderr",
     "output_type": "stream",
     "text": [
      "Translating OCR Files:   9%|▉         | 44/490 [08:08<37:23,  5.03s/file]"
     ]
    },
    {
     "name": "stdout",
     "output_type": "stream",
     "text": [
      " Saved translated file: 0-b6eb1b15-cf99-475c-921f-f06e5c1019d4.csv\n",
      "\n",
      "Processing file 45 of 490: 0-b8b76b6d-a50e-4246-82ee-3c8a5dcd523e.csv\n"
     ]
    },
    {
     "name": "stderr",
     "output_type": "stream",
     "text": [
      "Translating OCR Files:   9%|▉         | 45/490 [08:14<41:11,  5.55s/file]"
     ]
    },
    {
     "name": "stdout",
     "output_type": "stream",
     "text": [
      " Saved translated file: 0-b8b76b6d-a50e-4246-82ee-3c8a5dcd523e.csv\n",
      "\n",
      "Processing file 46 of 490: 0-b8cea3b1-4dde-4438-9b1a-6faf690bbad0.csv\n"
     ]
    },
    {
     "name": "stderr",
     "output_type": "stream",
     "text": [
      "Translating OCR Files:   9%|▉         | 46/490 [08:17<34:58,  4.73s/file]"
     ]
    },
    {
     "name": "stdout",
     "output_type": "stream",
     "text": [
      " Saved translated file: 0-b8cea3b1-4dde-4438-9b1a-6faf690bbad0.csv\n",
      "\n",
      "Processing file 47 of 490: 0-b9d9c584-5e21-4a49-952b-ffecca4eb91e.csv\n"
     ]
    },
    {
     "name": "stderr",
     "output_type": "stream",
     "text": [
      "Translating OCR Files:  10%|▉         | 47/490 [08:33<59:42,  8.09s/file]"
     ]
    },
    {
     "name": "stdout",
     "output_type": "stream",
     "text": [
      " Saved translated file: 0-b9d9c584-5e21-4a49-952b-ffecca4eb91e.csv\n",
      "\n",
      "Processing file 48 of 490: 0-bcad4fdf-3771-4873-92fa-23240654118a.csv\n"
     ]
    },
    {
     "name": "stderr",
     "output_type": "stream",
     "text": [
      "Translating OCR Files:  10%|▉         | 48/490 [08:50<1:18:41, 10.68s/file]"
     ]
    },
    {
     "name": "stdout",
     "output_type": "stream",
     "text": [
      " Saved translated file: 0-bcad4fdf-3771-4873-92fa-23240654118a.csv\n",
      "\n",
      "Processing file 49 of 490: 0-c5f1d959-39d1-4176-9cb1-1fb6e8baedc3.csv\n"
     ]
    },
    {
     "name": "stderr",
     "output_type": "stream",
     "text": [
      "Translating OCR Files:  10%|█         | 49/490 [09:10<1:39:59, 13.60s/file]"
     ]
    },
    {
     "name": "stdout",
     "output_type": "stream",
     "text": [
      " Saved translated file: 0-c5f1d959-39d1-4176-9cb1-1fb6e8baedc3.csv\n",
      "\n",
      "Processing file 50 of 490: 0-dd5b6a38-dc17-4122-a242-32006b381b3a.csv\n"
     ]
    },
    {
     "name": "stderr",
     "output_type": "stream",
     "text": [
      "Translating OCR Files:  10%|█         | 50/490 [09:12<1:12:26,  9.88s/file]"
     ]
    },
    {
     "name": "stdout",
     "output_type": "stream",
     "text": [
      " Saved translated file: 0-dd5b6a38-dc17-4122-a242-32006b381b3a.csv\n",
      "\n",
      "Processing file 51 of 490: 0-de359f8d-0745-4a93-959a-d1a6c361e326.csv\n"
     ]
    },
    {
     "name": "stderr",
     "output_type": "stream",
     "text": [
      "Translating OCR Files:  10%|█         | 51/490 [09:22<1:13:51, 10.10s/file]"
     ]
    },
    {
     "name": "stdout",
     "output_type": "stream",
     "text": [
      " Saved translated file: 0-de359f8d-0745-4a93-959a-d1a6c361e326.csv\n",
      "\n",
      "Processing file 52 of 490: 0-e07a9457-86f1-4f0f-86d7-8ea816b8d8d3.csv\n"
     ]
    },
    {
     "name": "stderr",
     "output_type": "stream",
     "text": [
      "Translating OCR Files:  11%|█         | 52/490 [09:31<1:11:20,  9.77s/file]"
     ]
    },
    {
     "name": "stdout",
     "output_type": "stream",
     "text": [
      " Saved translated file: 0-e07a9457-86f1-4f0f-86d7-8ea816b8d8d3.csv\n",
      "\n",
      "Processing file 53 of 490: 0-e705d192-90ee-4fd1-9dcd-061958d1817f.csv\n"
     ]
    },
    {
     "name": "stderr",
     "output_type": "stream",
     "text": [
      "Translating OCR Files:  11%|█         | 53/490 [09:34<55:45,  7.66s/file]  "
     ]
    },
    {
     "name": "stdout",
     "output_type": "stream",
     "text": [
      " Saved translated file: 0-e705d192-90ee-4fd1-9dcd-061958d1817f.csv\n",
      "\n",
      "Processing file 54 of 490: 0-ee47dfea-2626-4107-8ab3-4663167e0493.csv\n"
     ]
    },
    {
     "name": "stderr",
     "output_type": "stream",
     "text": [
      "Translating OCR Files:  11%|█         | 54/490 [09:45<1:02:25,  8.59s/file]"
     ]
    },
    {
     "name": "stdout",
     "output_type": "stream",
     "text": [
      " Saved translated file: 0-ee47dfea-2626-4107-8ab3-4663167e0493.csv\n",
      "\n",
      "Processing file 55 of 490: 0-f0ce8a7b-909d-4fc5-ba13-ea66b2dc6448.csv\n"
     ]
    },
    {
     "name": "stderr",
     "output_type": "stream",
     "text": [
      "Translating OCR Files:  11%|█         | 55/490 [09:47<48:21,  6.67s/file]  "
     ]
    },
    {
     "name": "stdout",
     "output_type": "stream",
     "text": [
      " Saved translated file: 0-f0ce8a7b-909d-4fc5-ba13-ea66b2dc6448.csv\n",
      "\n",
      "Processing file 56 of 490: 0-f313f521-80a1-4db5-a8a7-53d29ee09890.csv\n"
     ]
    },
    {
     "name": "stderr",
     "output_type": "stream",
     "text": [
      "Translating OCR Files:  11%|█▏        | 56/490 [10:04<1:11:18,  9.86s/file]"
     ]
    },
    {
     "name": "stdout",
     "output_type": "stream",
     "text": [
      " Saved translated file: 0-f313f521-80a1-4db5-a8a7-53d29ee09890.csv\n",
      "\n",
      "Processing file 57 of 490: 0-f41b7574-57b4-4c9f-907c-2a3c48a56157.csv\n"
     ]
    },
    {
     "name": "stderr",
     "output_type": "stream",
     "text": [
      "Translating OCR Files:  12%|█▏        | 57/490 [10:21<1:26:56, 12.05s/file]"
     ]
    },
    {
     "name": "stdout",
     "output_type": "stream",
     "text": [
      " Saved translated file: 0-f41b7574-57b4-4c9f-907c-2a3c48a56157.csv\n",
      "\n",
      "Processing file 58 of 490: 0-fc27ce32-9c96-416c-9c38-84977255e0ba.csv\n"
     ]
    },
    {
     "name": "stderr",
     "output_type": "stream",
     "text": [
      "Translating OCR Files:  12%|█▏        | 58/490 [10:36<1:31:36, 12.72s/file]"
     ]
    },
    {
     "name": "stdout",
     "output_type": "stream",
     "text": [
      " Saved translated file: 0-fc27ce32-9c96-416c-9c38-84977255e0ba.csv\n",
      "\n",
      "Processing file 59 of 490: 0-fcf90a92-794c-40c6-aa4f-8ea82f8bed51.csv\n"
     ]
    },
    {
     "name": "stderr",
     "output_type": "stream",
     "text": [
      "Translating OCR Files:  12%|█▏        | 59/490 [10:53<1:40:50, 14.04s/file]"
     ]
    },
    {
     "name": "stdout",
     "output_type": "stream",
     "text": [
      " Saved translated file: 0-fcf90a92-794c-40c6-aa4f-8ea82f8bed51.csv\n",
      "\n",
      "Processing file 60 of 490: 0-fe221e78-67e4-4d88-b73d-e58a9943a036.csv\n"
     ]
    },
    {
     "name": "stderr",
     "output_type": "stream",
     "text": [
      "Translating OCR Files:  12%|█▏        | 60/490 [11:01<1:28:08, 12.30s/file]"
     ]
    },
    {
     "name": "stdout",
     "output_type": "stream",
     "text": [
      " Saved translated file: 0-fe221e78-67e4-4d88-b73d-e58a9943a036.csv\n",
      "\n",
      "Processing file 61 of 490: 01cdc26f-e773-4ad7-8808-d04abf16aae7_1_0.csv\n"
     ]
    },
    {
     "name": "stderr",
     "output_type": "stream",
     "text": [
      "Translating OCR Files:  12%|█▏        | 61/490 [11:55<2:58:08, 24.91s/file]"
     ]
    },
    {
     "name": "stdout",
     "output_type": "stream",
     "text": [
      " Saved translated file: 01cdc26f-e773-4ad7-8808-d04abf16aae7_1_0.csv\n",
      "\n",
      "Processing file 62 of 490: 01cdc26f-e773-4ad7-8808-d04abf16aae7_2_0.csv\n"
     ]
    },
    {
     "name": "stderr",
     "output_type": "stream",
     "text": [
      "Translating OCR Files:  13%|█▎        | 62/490 [12:02<2:18:43, 19.45s/file]"
     ]
    },
    {
     "name": "stdout",
     "output_type": "stream",
     "text": [
      " Saved translated file: 01cdc26f-e773-4ad7-8808-d04abf16aae7_2_0.csv\n",
      "\n",
      "Processing file 63 of 490: 07f179c5-5705-4dbd-94a7-66eed1e066b0_0.csv\n"
     ]
    },
    {
     "name": "stderr",
     "output_type": "stream",
     "text": [
      "Translating OCR Files:  13%|█▎        | 63/490 [13:32<4:49:19, 40.66s/file]"
     ]
    },
    {
     "name": "stdout",
     "output_type": "stream",
     "text": [
      "Ollama error: HTTPConnectionPool(host='localhost', port=11434): Read timed out. (read timeout=90)\n",
      " Saved translated file: 07f179c5-5705-4dbd-94a7-66eed1e066b0_0.csv\n",
      "\n",
      "Processing file 64 of 490: 07f179c5-5705-4dbd-94a7-66eed1e066b0_1.csv\n"
     ]
    },
    {
     "name": "stderr",
     "output_type": "stream",
     "text": [
      "Translating OCR Files:  13%|█▎        | 64/490 [14:07<4:35:25, 38.79s/file]"
     ]
    },
    {
     "name": "stdout",
     "output_type": "stream",
     "text": [
      " Saved translated file: 07f179c5-5705-4dbd-94a7-66eed1e066b0_1.csv\n",
      "\n",
      "Processing file 65 of 490: 07f179c5-5705-4dbd-94a7-66eed1e066b0_2.csv\n"
     ]
    },
    {
     "name": "stderr",
     "output_type": "stream",
     "text": [
      "Translating OCR Files:  13%|█▎        | 65/490 [15:32<6:14:42, 52.90s/file]"
     ]
    },
    {
     "name": "stdout",
     "output_type": "stream",
     "text": [
      " Saved translated file: 07f179c5-5705-4dbd-94a7-66eed1e066b0_2.csv\n",
      "\n",
      "Processing file 66 of 490: 08a6bcd3-6477-4252-8f35-4f8f80d114f9.csv\n"
     ]
    },
    {
     "name": "stderr",
     "output_type": "stream",
     "text": [
      "Translating OCR Files:  13%|█▎        | 66/490 [16:03<5:26:47, 46.24s/file]"
     ]
    },
    {
     "name": "stdout",
     "output_type": "stream",
     "text": [
      " Saved translated file: 08a6bcd3-6477-4252-8f35-4f8f80d114f9.csv\n",
      "\n",
      "Processing file 67 of 490: 0b54af64-c2cd-4acb-9864-73a584aa6ebc.csv\n"
     ]
    },
    {
     "name": "stderr",
     "output_type": "stream",
     "text": [
      "Translating OCR Files:  14%|█▎        | 67/490 [16:23<4:30:15, 38.33s/file]"
     ]
    },
    {
     "name": "stdout",
     "output_type": "stream",
     "text": [
      " Saved translated file: 0b54af64-c2cd-4acb-9864-73a584aa6ebc.csv\n",
      "\n",
      "Processing file 68 of 490: 0baba509-5e81-4b88-b509-843822d09e21.csv\n"
     ]
    },
    {
     "name": "stderr",
     "output_type": "stream",
     "text": [
      "Translating OCR Files:  14%|█▍        | 68/490 [16:43<3:52:02, 32.99s/file]"
     ]
    },
    {
     "name": "stdout",
     "output_type": "stream",
     "text": [
      " Saved translated file: 0baba509-5e81-4b88-b509-843822d09e21.csv\n",
      "\n",
      "Processing file 69 of 490: 0f319bf6-e667-4bac-a974-dfda1142e9ff.csv\n"
     ]
    },
    {
     "name": "stderr",
     "output_type": "stream",
     "text": [
      "Translating OCR Files:  14%|█▍        | 69/490 [17:07<3:32:09, 30.24s/file]"
     ]
    },
    {
     "name": "stdout",
     "output_type": "stream",
     "text": [
      " Saved translated file: 0f319bf6-e667-4bac-a974-dfda1142e9ff.csv\n",
      "\n",
      "Processing file 70 of 490: 12756724-394c-4576-b373-7c53f1abbd94_0.csv\n"
     ]
    },
    {
     "name": "stderr",
     "output_type": "stream",
     "text": [
      "Translating OCR Files:  14%|█▍        | 70/490 [17:13<2:41:02, 23.01s/file]"
     ]
    },
    {
     "name": "stdout",
     "output_type": "stream",
     "text": [
      " Saved translated file: 12756724-394c-4576-b373-7c53f1abbd94_0.csv\n",
      "\n",
      "Processing file 71 of 490: 12756724-394c-4576-b373-7c53f1abbd94_1.csv\n"
     ]
    },
    {
     "name": "stderr",
     "output_type": "stream",
     "text": [
      "Translating OCR Files:  14%|█▍        | 71/490 [18:02<3:34:42, 30.75s/file]"
     ]
    },
    {
     "name": "stdout",
     "output_type": "stream",
     "text": [
      " Saved translated file: 12756724-394c-4576-b373-7c53f1abbd94_1.csv\n",
      "\n",
      "Processing file 72 of 490: 12756724-394c-4576-b373-7c53f1abbd94_10.csv\n"
     ]
    },
    {
     "name": "stderr",
     "output_type": "stream",
     "text": [
      "Translating OCR Files:  15%|█▍        | 72/490 [18:47<4:03:43, 34.98s/file]"
     ]
    },
    {
     "name": "stdout",
     "output_type": "stream",
     "text": [
      " Saved translated file: 12756724-394c-4576-b373-7c53f1abbd94_10.csv\n",
      "\n",
      "Processing file 73 of 490: 12756724-394c-4576-b373-7c53f1abbd94_11.csv\n"
     ]
    },
    {
     "name": "stderr",
     "output_type": "stream",
     "text": [
      "Translating OCR Files:  15%|█▍        | 73/490 [19:30<4:19:08, 37.29s/file]"
     ]
    },
    {
     "name": "stdout",
     "output_type": "stream",
     "text": [
      " Saved translated file: 12756724-394c-4576-b373-7c53f1abbd94_11.csv\n",
      "\n",
      "Processing file 74 of 490: 12756724-394c-4576-b373-7c53f1abbd94_12.csv\n"
     ]
    },
    {
     "name": "stderr",
     "output_type": "stream",
     "text": [
      "Translating OCR Files:  15%|█▌        | 74/490 [20:04<4:11:11, 36.23s/file]"
     ]
    },
    {
     "name": "stdout",
     "output_type": "stream",
     "text": [
      " Saved translated file: 12756724-394c-4576-b373-7c53f1abbd94_12.csv\n",
      "\n",
      "Processing file 75 of 490: 12756724-394c-4576-b373-7c53f1abbd94_13.csv\n"
     ]
    },
    {
     "name": "stderr",
     "output_type": "stream",
     "text": [
      "Translating OCR Files:  15%|█▌        | 75/490 [21:21<5:35:24, 48.49s/file]"
     ]
    },
    {
     "name": "stdout",
     "output_type": "stream",
     "text": [
      " Saved translated file: 12756724-394c-4576-b373-7c53f1abbd94_13.csv\n",
      "\n",
      "Processing file 76 of 490: 12756724-394c-4576-b373-7c53f1abbd94_14.csv\n"
     ]
    },
    {
     "name": "stderr",
     "output_type": "stream",
     "text": [
      "Translating OCR Files:  16%|█▌        | 76/490 [22:09<5:34:35, 48.49s/file]"
     ]
    },
    {
     "name": "stdout",
     "output_type": "stream",
     "text": [
      " Saved translated file: 12756724-394c-4576-b373-7c53f1abbd94_14.csv\n",
      "\n",
      "Processing file 77 of 490: 12756724-394c-4576-b373-7c53f1abbd94_15.csv\n"
     ]
    },
    {
     "name": "stderr",
     "output_type": "stream",
     "text": [
      "Translating OCR Files:  16%|█▌        | 77/490 [22:35<4:47:47, 41.81s/file]"
     ]
    },
    {
     "name": "stdout",
     "output_type": "stream",
     "text": [
      " Saved translated file: 12756724-394c-4576-b373-7c53f1abbd94_15.csv\n",
      "\n",
      "Processing file 78 of 490: 12756724-394c-4576-b373-7c53f1abbd94_16.csv\n"
     ]
    },
    {
     "name": "stderr",
     "output_type": "stream",
     "text": [
      "Translating OCR Files:  16%|█▌        | 78/490 [22:58<4:07:19, 36.02s/file]"
     ]
    },
    {
     "name": "stdout",
     "output_type": "stream",
     "text": [
      " Saved translated file: 12756724-394c-4576-b373-7c53f1abbd94_16.csv\n",
      "\n",
      "Processing file 79 of 490: 12756724-394c-4576-b373-7c53f1abbd94_17.csv\n"
     ]
    },
    {
     "name": "stderr",
     "output_type": "stream",
     "text": [
      "Translating OCR Files:  16%|█▌        | 79/490 [23:27<3:52:33, 33.95s/file]"
     ]
    },
    {
     "name": "stdout",
     "output_type": "stream",
     "text": [
      " Saved translated file: 12756724-394c-4576-b373-7c53f1abbd94_17.csv\n",
      "\n",
      "Processing file 80 of 490: 12756724-394c-4576-b373-7c53f1abbd94_18.csv\n"
     ]
    },
    {
     "name": "stderr",
     "output_type": "stream",
     "text": [
      "Translating OCR Files:  16%|█▋        | 80/490 [24:01<3:52:35, 34.04s/file]"
     ]
    },
    {
     "name": "stdout",
     "output_type": "stream",
     "text": [
      " Saved translated file: 12756724-394c-4576-b373-7c53f1abbd94_18.csv\n",
      "\n",
      "Processing file 81 of 490: 12756724-394c-4576-b373-7c53f1abbd94_19.csv\n"
     ]
    },
    {
     "name": "stderr",
     "output_type": "stream",
     "text": [
      "Translating OCR Files:  17%|█▋        | 81/490 [24:52<4:26:45, 39.13s/file]"
     ]
    },
    {
     "name": "stdout",
     "output_type": "stream",
     "text": [
      " Saved translated file: 12756724-394c-4576-b373-7c53f1abbd94_19.csv\n",
      "\n",
      "Processing file 82 of 490: 12756724-394c-4576-b373-7c53f1abbd94_2.csv\n"
     ]
    },
    {
     "name": "stderr",
     "output_type": "stream",
     "text": [
      "Translating OCR Files:  17%|█▋        | 82/490 [25:38<4:39:52, 41.16s/file]"
     ]
    },
    {
     "name": "stdout",
     "output_type": "stream",
     "text": [
      " Saved translated file: 12756724-394c-4576-b373-7c53f1abbd94_2.csv\n",
      "\n",
      "Processing file 83 of 490: 12756724-394c-4576-b373-7c53f1abbd94_20.csv\n"
     ]
    },
    {
     "name": "stderr",
     "output_type": "stream",
     "text": [
      "Translating OCR Files:  17%|█▋        | 83/490 [26:41<5:22:42, 47.57s/file]"
     ]
    },
    {
     "name": "stdout",
     "output_type": "stream",
     "text": [
      " Saved translated file: 12756724-394c-4576-b373-7c53f1abbd94_20.csv\n",
      "\n",
      "Processing file 84 of 490: 12756724-394c-4576-b373-7c53f1abbd94_21.csv\n"
     ]
    },
    {
     "name": "stderr",
     "output_type": "stream",
     "text": [
      "Translating OCR Files:  17%|█▋        | 84/490 [26:51<4:05:59, 36.35s/file]"
     ]
    },
    {
     "name": "stdout",
     "output_type": "stream",
     "text": [
      " Saved translated file: 12756724-394c-4576-b373-7c53f1abbd94_21.csv\n",
      "\n",
      "Processing file 85 of 490: 12756724-394c-4576-b373-7c53f1abbd94_22.csv\n"
     ]
    },
    {
     "name": "stderr",
     "output_type": "stream",
     "text": [
      "Translating OCR Files:  17%|█▋        | 85/490 [27:00<3:10:06, 28.16s/file]"
     ]
    },
    {
     "name": "stdout",
     "output_type": "stream",
     "text": [
      " Saved translated file: 12756724-394c-4576-b373-7c53f1abbd94_22.csv\n",
      "\n",
      "Processing file 86 of 490: 12756724-394c-4576-b373-7c53f1abbd94_23.csv\n"
     ]
    },
    {
     "name": "stderr",
     "output_type": "stream",
     "text": [
      "Translating OCR Files:  18%|█▊        | 86/490 [27:47<3:48:52, 33.99s/file]"
     ]
    },
    {
     "name": "stdout",
     "output_type": "stream",
     "text": [
      " Saved translated file: 12756724-394c-4576-b373-7c53f1abbd94_23.csv\n",
      "\n",
      "Processing file 87 of 490: 12756724-394c-4576-b373-7c53f1abbd94_24.csv\n"
     ]
    },
    {
     "name": "stderr",
     "output_type": "stream",
     "text": [
      "Translating OCR Files:  18%|█▊        | 87/490 [28:15<3:34:32, 31.94s/file]"
     ]
    },
    {
     "name": "stdout",
     "output_type": "stream",
     "text": [
      " Saved translated file: 12756724-394c-4576-b373-7c53f1abbd94_24.csv\n",
      "\n",
      "Processing file 88 of 490: 12756724-394c-4576-b373-7c53f1abbd94_25.csv\n"
     ]
    },
    {
     "name": "stderr",
     "output_type": "stream",
     "text": [
      "Translating OCR Files:  18%|█▊        | 88/490 [28:50<3:41:24, 33.04s/file]"
     ]
    },
    {
     "name": "stdout",
     "output_type": "stream",
     "text": [
      " Saved translated file: 12756724-394c-4576-b373-7c53f1abbd94_25.csv\n",
      "\n",
      "Processing file 89 of 490: 12756724-394c-4576-b373-7c53f1abbd94_26.csv\n"
     ]
    },
    {
     "name": "stderr",
     "output_type": "stream",
     "text": [
      "Translating OCR Files:  18%|█▊        | 89/490 [30:02<4:57:56, 44.58s/file]"
     ]
    },
    {
     "name": "stdout",
     "output_type": "stream",
     "text": [
      " Saved translated file: 12756724-394c-4576-b373-7c53f1abbd94_26.csv\n",
      "\n",
      "Processing file 90 of 490: 12756724-394c-4576-b373-7c53f1abbd94_27.csv\n"
     ]
    },
    {
     "name": "stderr",
     "output_type": "stream",
     "text": [
      "Translating OCR Files:  18%|█▊        | 90/490 [31:14<5:53:10, 52.98s/file]"
     ]
    },
    {
     "name": "stdout",
     "output_type": "stream",
     "text": [
      " Saved translated file: 12756724-394c-4576-b373-7c53f1abbd94_27.csv\n",
      "\n",
      "Processing file 91 of 490: 12756724-394c-4576-b373-7c53f1abbd94_28.csv\n"
     ]
    },
    {
     "name": "stderr",
     "output_type": "stream",
     "text": [
      "Translating OCR Files:  19%|█▊        | 91/490 [31:50<5:17:30, 47.74s/file]"
     ]
    },
    {
     "name": "stdout",
     "output_type": "stream",
     "text": [
      " Saved translated file: 12756724-394c-4576-b373-7c53f1abbd94_28.csv\n",
      "\n",
      "Processing file 92 of 490: 12756724-394c-4576-b373-7c53f1abbd94_29.csv\n"
     ]
    },
    {
     "name": "stderr",
     "output_type": "stream",
     "text": [
      "Translating OCR Files:  19%|█▉        | 92/490 [33:13<6:26:48, 58.31s/file]"
     ]
    },
    {
     "name": "stdout",
     "output_type": "stream",
     "text": [
      " Saved translated file: 12756724-394c-4576-b373-7c53f1abbd94_29.csv\n",
      "\n",
      "Processing file 93 of 490: 12756724-394c-4576-b373-7c53f1abbd94_3.csv\n"
     ]
    },
    {
     "name": "stderr",
     "output_type": "stream",
     "text": [
      "Translating OCR Files:  19%|█▉        | 93/490 [34:11<6:24:35, 58.12s/file]"
     ]
    },
    {
     "name": "stdout",
     "output_type": "stream",
     "text": [
      " Saved translated file: 12756724-394c-4576-b373-7c53f1abbd94_3.csv\n",
      "\n",
      "Processing file 94 of 490: 12756724-394c-4576-b373-7c53f1abbd94_30.csv\n"
     ]
    },
    {
     "name": "stderr",
     "output_type": "stream",
     "text": [
      "Translating OCR Files:  19%|█▉        | 94/490 [35:22<6:50:23, 62.18s/file]"
     ]
    },
    {
     "name": "stdout",
     "output_type": "stream",
     "text": [
      " Saved translated file: 12756724-394c-4576-b373-7c53f1abbd94_30.csv\n",
      "\n",
      "Processing file 95 of 490: 12756724-394c-4576-b373-7c53f1abbd94_31.csv\n"
     ]
    },
    {
     "name": "stderr",
     "output_type": "stream",
     "text": [
      "Translating OCR Files:  19%|█▉        | 95/490 [36:06<6:13:50, 56.79s/file]"
     ]
    },
    {
     "name": "stdout",
     "output_type": "stream",
     "text": [
      " Saved translated file: 12756724-394c-4576-b373-7c53f1abbd94_31.csv\n",
      "\n",
      "Processing file 96 of 490: 12756724-394c-4576-b373-7c53f1abbd94_32.csv\n"
     ]
    },
    {
     "name": "stderr",
     "output_type": "stream",
     "text": [
      "Translating OCR Files:  20%|█▉        | 96/490 [36:10<4:28:50, 40.94s/file]"
     ]
    },
    {
     "name": "stdout",
     "output_type": "stream",
     "text": [
      " Saved translated file: 12756724-394c-4576-b373-7c53f1abbd94_32.csv\n",
      "\n",
      "Processing file 97 of 490: 12756724-394c-4576-b373-7c53f1abbd94_33.csv\n"
     ]
    },
    {
     "name": "stderr",
     "output_type": "stream",
     "text": [
      "Translating OCR Files:  20%|█▉        | 97/490 [36:18<3:22:19, 30.89s/file]"
     ]
    },
    {
     "name": "stdout",
     "output_type": "stream",
     "text": [
      " Saved translated file: 12756724-394c-4576-b373-7c53f1abbd94_33.csv\n",
      "\n",
      "Processing file 98 of 490: 12756724-394c-4576-b373-7c53f1abbd94_34.csv\n"
     ]
    },
    {
     "name": "stderr",
     "output_type": "stream",
     "text": [
      "Translating OCR Files:  20%|██        | 98/490 [37:01<3:46:01, 34.60s/file]"
     ]
    },
    {
     "name": "stdout",
     "output_type": "stream",
     "text": [
      " Saved translated file: 12756724-394c-4576-b373-7c53f1abbd94_34.csv\n",
      "\n",
      "Processing file 99 of 490: 12756724-394c-4576-b373-7c53f1abbd94_35.csv\n"
     ]
    },
    {
     "name": "stderr",
     "output_type": "stream",
     "text": [
      "Translating OCR Files:  20%|██        | 99/490 [37:14<3:02:58, 28.08s/file]"
     ]
    },
    {
     "name": "stdout",
     "output_type": "stream",
     "text": [
      " Saved translated file: 12756724-394c-4576-b373-7c53f1abbd94_35.csv\n",
      "\n",
      "Processing file 100 of 490: 12756724-394c-4576-b373-7c53f1abbd94_36.csv\n"
     ]
    },
    {
     "name": "stderr",
     "output_type": "stream",
     "text": [
      "Translating OCR Files:  20%|██        | 100/490 [37:21<2:22:14, 21.88s/file]"
     ]
    },
    {
     "name": "stdout",
     "output_type": "stream",
     "text": [
      " Saved translated file: 12756724-394c-4576-b373-7c53f1abbd94_36.csv\n",
      "\n",
      "Processing file 101 of 490: 12756724-394c-4576-b373-7c53f1abbd94_37.csv\n"
     ]
    },
    {
     "name": "stderr",
     "output_type": "stream",
     "text": [
      "Translating OCR Files:  21%|██        | 101/490 [38:38<4:08:59, 38.40s/file]"
     ]
    },
    {
     "name": "stdout",
     "output_type": "stream",
     "text": [
      " Saved translated file: 12756724-394c-4576-b373-7c53f1abbd94_37.csv\n",
      "\n",
      "Processing file 102 of 490: 12756724-394c-4576-b373-7c53f1abbd94_38.csv\n"
     ]
    },
    {
     "name": "stderr",
     "output_type": "stream",
     "text": [
      "Translating OCR Files:  21%|██        | 102/490 [39:57<5:26:11, 50.44s/file]"
     ]
    },
    {
     "name": "stdout",
     "output_type": "stream",
     "text": [
      " Saved translated file: 12756724-394c-4576-b373-7c53f1abbd94_38.csv\n",
      "\n",
      "Processing file 103 of 490: 12756724-394c-4576-b373-7c53f1abbd94_39.csv\n"
     ]
    },
    {
     "name": "stderr",
     "output_type": "stream",
     "text": [
      "Translating OCR Files:  21%|██        | 103/490 [40:53<5:36:41, 52.20s/file]"
     ]
    },
    {
     "name": "stdout",
     "output_type": "stream",
     "text": [
      " Saved translated file: 12756724-394c-4576-b373-7c53f1abbd94_39.csv\n",
      "\n",
      "Processing file 104 of 490: 12756724-394c-4576-b373-7c53f1abbd94_4.csv\n"
     ]
    },
    {
     "name": "stderr",
     "output_type": "stream",
     "text": [
      "Translating OCR Files:  21%|██        | 104/490 [41:45<5:34:35, 52.01s/file]"
     ]
    },
    {
     "name": "stdout",
     "output_type": "stream",
     "text": [
      " Saved translated file: 12756724-394c-4576-b373-7c53f1abbd94_4.csv\n",
      "\n",
      "Processing file 105 of 490: 12756724-394c-4576-b373-7c53f1abbd94_40.csv\n"
     ]
    },
    {
     "name": "stderr",
     "output_type": "stream",
     "text": [
      "Translating OCR Files:  21%|██▏       | 105/490 [42:31<5:22:50, 50.31s/file]"
     ]
    },
    {
     "name": "stdout",
     "output_type": "stream",
     "text": [
      " Saved translated file: 12756724-394c-4576-b373-7c53f1abbd94_40.csv\n",
      "\n",
      "Processing file 106 of 490: 12756724-394c-4576-b373-7c53f1abbd94_41.csv\n"
     ]
    },
    {
     "name": "stderr",
     "output_type": "stream",
     "text": [
      "Translating OCR Files:  22%|██▏       | 106/490 [42:40<4:02:59, 37.97s/file]"
     ]
    },
    {
     "name": "stdout",
     "output_type": "stream",
     "text": [
      " Saved translated file: 12756724-394c-4576-b373-7c53f1abbd94_41.csv\n",
      "\n",
      "Processing file 107 of 490: 12756724-394c-4576-b373-7c53f1abbd94_42.csv\n"
     ]
    },
    {
     "name": "stderr",
     "output_type": "stream",
     "text": [
      "Translating OCR Files:  22%|██▏       | 107/490 [43:19<4:04:21, 38.28s/file]"
     ]
    },
    {
     "name": "stdout",
     "output_type": "stream",
     "text": [
      " Saved translated file: 12756724-394c-4576-b373-7c53f1abbd94_42.csv\n",
      "\n",
      "Processing file 108 of 490: 12756724-394c-4576-b373-7c53f1abbd94_43.csv\n"
     ]
    },
    {
     "name": "stderr",
     "output_type": "stream",
     "text": [
      "Translating OCR Files:  22%|██▏       | 108/490 [44:08<4:23:43, 41.42s/file]"
     ]
    },
    {
     "name": "stdout",
     "output_type": "stream",
     "text": [
      " Saved translated file: 12756724-394c-4576-b373-7c53f1abbd94_43.csv\n",
      "\n",
      "Processing file 109 of 490: 12756724-394c-4576-b373-7c53f1abbd94_44.csv\n"
     ]
    },
    {
     "name": "stderr",
     "output_type": "stream",
     "text": [
      "Translating OCR Files:  22%|██▏       | 109/490 [44:45<4:14:50, 40.13s/file]"
     ]
    },
    {
     "name": "stdout",
     "output_type": "stream",
     "text": [
      " Saved translated file: 12756724-394c-4576-b373-7c53f1abbd94_44.csv\n",
      "\n",
      "Processing file 110 of 490: 12756724-394c-4576-b373-7c53f1abbd94_45.csv\n"
     ]
    },
    {
     "name": "stderr",
     "output_type": "stream",
     "text": [
      "Translating OCR Files:  22%|██▏       | 110/490 [45:29<4:20:29, 41.13s/file]"
     ]
    },
    {
     "name": "stdout",
     "output_type": "stream",
     "text": [
      " Saved translated file: 12756724-394c-4576-b373-7c53f1abbd94_45.csv\n",
      "\n",
      "Processing file 111 of 490: 12756724-394c-4576-b373-7c53f1abbd94_46.csv\n"
     ]
    },
    {
     "name": "stderr",
     "output_type": "stream",
     "text": [
      "Translating OCR Files:  23%|██▎       | 111/490 [45:32<3:08:33, 29.85s/file]"
     ]
    },
    {
     "name": "stdout",
     "output_type": "stream",
     "text": [
      " Saved translated file: 12756724-394c-4576-b373-7c53f1abbd94_46.csv\n",
      "\n",
      "Processing file 112 of 490: 12756724-394c-4576-b373-7c53f1abbd94_47.csv\n"
     ]
    },
    {
     "name": "stderr",
     "output_type": "stream",
     "text": [
      "Translating OCR Files:  23%|██▎       | 112/490 [46:17<3:36:46, 34.41s/file]"
     ]
    },
    {
     "name": "stdout",
     "output_type": "stream",
     "text": [
      " Saved translated file: 12756724-394c-4576-b373-7c53f1abbd94_47.csv\n",
      "\n",
      "Processing file 113 of 490: 12756724-394c-4576-b373-7c53f1abbd94_48.csv\n"
     ]
    },
    {
     "name": "stderr",
     "output_type": "stream",
     "text": [
      "Translating OCR Files:  23%|██▎       | 113/490 [47:07<4:05:09, 39.02s/file]"
     ]
    },
    {
     "name": "stdout",
     "output_type": "stream",
     "text": [
      " Saved translated file: 12756724-394c-4576-b373-7c53f1abbd94_48.csv\n",
      "\n",
      "Processing file 114 of 490: 12756724-394c-4576-b373-7c53f1abbd94_49.csv\n"
     ]
    },
    {
     "name": "stderr",
     "output_type": "stream",
     "text": [
      "Translating OCR Files:  23%|██▎       | 114/490 [47:42<3:57:29, 37.90s/file]"
     ]
    },
    {
     "name": "stdout",
     "output_type": "stream",
     "text": [
      " Saved translated file: 12756724-394c-4576-b373-7c53f1abbd94_49.csv\n",
      "\n",
      "Processing file 115 of 490: 12756724-394c-4576-b373-7c53f1abbd94_5.csv\n"
     ]
    },
    {
     "name": "stderr",
     "output_type": "stream",
     "text": [
      "Translating OCR Files:  23%|██▎       | 115/490 [47:51<3:02:44, 29.24s/file]"
     ]
    },
    {
     "name": "stdout",
     "output_type": "stream",
     "text": [
      " Saved translated file: 12756724-394c-4576-b373-7c53f1abbd94_5.csv\n",
      "\n",
      "Processing file 116 of 490: 12756724-394c-4576-b373-7c53f1abbd94_6.csv\n"
     ]
    },
    {
     "name": "stderr",
     "output_type": "stream",
     "text": [
      "Translating OCR Files:  24%|██▎       | 116/490 [48:47<3:52:36, 37.32s/file]"
     ]
    },
    {
     "name": "stdout",
     "output_type": "stream",
     "text": [
      " Saved translated file: 12756724-394c-4576-b373-7c53f1abbd94_6.csv\n",
      "\n",
      "Processing file 117 of 490: 12756724-394c-4576-b373-7c53f1abbd94_7.csv\n"
     ]
    },
    {
     "name": "stderr",
     "output_type": "stream",
     "text": [
      "Translating OCR Files:  24%|██▍       | 117/490 [50:10<5:15:39, 50.78s/file]"
     ]
    },
    {
     "name": "stdout",
     "output_type": "stream",
     "text": [
      " Saved translated file: 12756724-394c-4576-b373-7c53f1abbd94_7.csv\n",
      "\n",
      "Processing file 118 of 490: 12756724-394c-4576-b373-7c53f1abbd94_8.csv\n"
     ]
    },
    {
     "name": "stderr",
     "output_type": "stream",
     "text": [
      "Translating OCR Files:  24%|██▍       | 118/490 [51:15<5:41:14, 55.04s/file]"
     ]
    },
    {
     "name": "stdout",
     "output_type": "stream",
     "text": [
      " Saved translated file: 12756724-394c-4576-b373-7c53f1abbd94_8.csv\n",
      "\n",
      "Processing file 119 of 490: 12756724-394c-4576-b373-7c53f1abbd94_9.csv\n"
     ]
    },
    {
     "name": "stderr",
     "output_type": "stream",
     "text": [
      "Translating OCR Files:  24%|██▍       | 119/490 [52:07<5:34:42, 54.13s/file]"
     ]
    },
    {
     "name": "stdout",
     "output_type": "stream",
     "text": [
      " Saved translated file: 12756724-394c-4576-b373-7c53f1abbd94_9.csv\n",
      "\n",
      "Processing file 120 of 490: 129ac70f-8942-4ca7-b1f2-ddeaa3d984b5.csv\n"
     ]
    },
    {
     "name": "stderr",
     "output_type": "stream",
     "text": [
      "Translating OCR Files:  24%|██▍       | 120/490 [53:10<5:51:20, 56.97s/file]"
     ]
    },
    {
     "name": "stdout",
     "output_type": "stream",
     "text": [
      " Saved translated file: 129ac70f-8942-4ca7-b1f2-ddeaa3d984b5.csv\n",
      "\n",
      "Processing file 121 of 490: 178e3898-903d-47cf-bfbe-061e7dc18895_0.csv\n"
     ]
    },
    {
     "name": "stderr",
     "output_type": "stream",
     "text": [
      "Translating OCR Files:  25%|██▍       | 121/490 [53:17<4:17:30, 41.87s/file]"
     ]
    },
    {
     "name": "stdout",
     "output_type": "stream",
     "text": [
      " Saved translated file: 178e3898-903d-47cf-bfbe-061e7dc18895_0.csv\n",
      "\n",
      "Processing file 122 of 490: 178e3898-903d-47cf-bfbe-061e7dc18895_1.csv\n"
     ]
    },
    {
     "name": "stderr",
     "output_type": "stream",
     "text": [
      "Translating OCR Files:  25%|██▍       | 122/490 [54:03<4:25:24, 43.27s/file]"
     ]
    },
    {
     "name": "stdout",
     "output_type": "stream",
     "text": [
      " Saved translated file: 178e3898-903d-47cf-bfbe-061e7dc18895_1.csv\n",
      "\n",
      "Processing file 123 of 490: 178e3898-903d-47cf-bfbe-061e7dc18895_10.csv\n"
     ]
    },
    {
     "name": "stderr",
     "output_type": "stream",
     "text": [
      "Translating OCR Files:  25%|██▌       | 123/490 [54:28<3:50:36, 37.70s/file]"
     ]
    },
    {
     "name": "stdout",
     "output_type": "stream",
     "text": [
      " Saved translated file: 178e3898-903d-47cf-bfbe-061e7dc18895_10.csv\n",
      "\n",
      "Processing file 124 of 490: 178e3898-903d-47cf-bfbe-061e7dc18895_2.csv\n"
     ]
    },
    {
     "name": "stderr",
     "output_type": "stream",
     "text": [
      "Translating OCR Files:  25%|██▌       | 124/490 [55:44<4:59:45, 49.14s/file]"
     ]
    },
    {
     "name": "stdout",
     "output_type": "stream",
     "text": [
      " Saved translated file: 178e3898-903d-47cf-bfbe-061e7dc18895_2.csv\n",
      "\n",
      "Processing file 125 of 490: 178e3898-903d-47cf-bfbe-061e7dc18895_3.csv\n"
     ]
    },
    {
     "name": "stderr",
     "output_type": "stream",
     "text": [
      "Translating OCR Files:  26%|██▌       | 125/490 [56:46<5:21:56, 52.92s/file]"
     ]
    },
    {
     "name": "stdout",
     "output_type": "stream",
     "text": [
      " Saved translated file: 178e3898-903d-47cf-bfbe-061e7dc18895_3.csv\n",
      "\n",
      "Processing file 126 of 490: 178e3898-903d-47cf-bfbe-061e7dc18895_4.csv\n"
     ]
    },
    {
     "name": "stderr",
     "output_type": "stream",
     "text": [
      "Translating OCR Files:  26%|██▌       | 126/490 [57:28<5:01:33, 49.71s/file]"
     ]
    },
    {
     "name": "stdout",
     "output_type": "stream",
     "text": [
      " Saved translated file: 178e3898-903d-47cf-bfbe-061e7dc18895_4.csv\n",
      "\n",
      "Processing file 127 of 490: 178e3898-903d-47cf-bfbe-061e7dc18895_5.csv\n"
     ]
    },
    {
     "name": "stderr",
     "output_type": "stream",
     "text": [
      "Translating OCR Files:  26%|██▌       | 127/490 [58:15<4:56:41, 49.04s/file]"
     ]
    },
    {
     "name": "stdout",
     "output_type": "stream",
     "text": [
      " Saved translated file: 178e3898-903d-47cf-bfbe-061e7dc18895_5.csv\n",
      "\n",
      "Processing file 128 of 490: 178e3898-903d-47cf-bfbe-061e7dc18895_6.csv\n"
     ]
    },
    {
     "name": "stderr",
     "output_type": "stream",
     "text": [
      "Translating OCR Files:  26%|██▌       | 128/490 [58:44<4:19:46, 43.06s/file]"
     ]
    },
    {
     "name": "stdout",
     "output_type": "stream",
     "text": [
      " Saved translated file: 178e3898-903d-47cf-bfbe-061e7dc18895_6.csv\n",
      "\n",
      "Processing file 129 of 490: 178e3898-903d-47cf-bfbe-061e7dc18895_7.csv\n"
     ]
    },
    {
     "name": "stderr",
     "output_type": "stream",
     "text": [
      "Translating OCR Files:  26%|██▋       | 129/490 [59:16<3:58:29, 39.64s/file]"
     ]
    },
    {
     "name": "stdout",
     "output_type": "stream",
     "text": [
      " Saved translated file: 178e3898-903d-47cf-bfbe-061e7dc18895_7.csv\n",
      "\n",
      "Processing file 130 of 490: 178e3898-903d-47cf-bfbe-061e7dc18895_8.csv\n"
     ]
    },
    {
     "name": "stderr",
     "output_type": "stream",
     "text": [
      "Translating OCR Files:  27%|██▋       | 130/490 [1:00:03<4:10:46, 41.80s/file]"
     ]
    },
    {
     "name": "stdout",
     "output_type": "stream",
     "text": [
      " Saved translated file: 178e3898-903d-47cf-bfbe-061e7dc18895_8.csv\n",
      "\n",
      "Processing file 131 of 490: 178e3898-903d-47cf-bfbe-061e7dc18895_9.csv\n"
     ]
    },
    {
     "name": "stderr",
     "output_type": "stream",
     "text": [
      "Translating OCR Files:  27%|██▋       | 131/490 [1:00:44<4:08:42, 41.57s/file]"
     ]
    },
    {
     "name": "stdout",
     "output_type": "stream",
     "text": [
      " Saved translated file: 178e3898-903d-47cf-bfbe-061e7dc18895_9.csv\n",
      "\n",
      "Processing file 132 of 490: 1a20ded1-50fc-4153-9a95-e158eeb7199e.csv\n"
     ]
    },
    {
     "name": "stderr",
     "output_type": "stream",
     "text": [
      "Translating OCR Files:  27%|██▋       | 132/490 [1:00:51<3:06:30, 31.26s/file]"
     ]
    },
    {
     "name": "stdout",
     "output_type": "stream",
     "text": [
      " Saved translated file: 1a20ded1-50fc-4153-9a95-e158eeb7199e.csv\n",
      "\n",
      "Processing file 133 of 490: 1afcf93d-50f1-4f1e-896d-87b0da7519f7.csv\n"
     ]
    },
    {
     "name": "stderr",
     "output_type": "stream",
     "text": [
      "Translating OCR Files:  27%|██▋       | 133/490 [1:00:59<2:24:52, 24.35s/file]"
     ]
    },
    {
     "name": "stdout",
     "output_type": "stream",
     "text": [
      " Saved translated file: 1afcf93d-50f1-4f1e-896d-87b0da7519f7.csv\n",
      "\n",
      "Processing file 134 of 490: 1b0dc208-d2bb-43ea-b744-534f3b759394.csv\n"
     ]
    },
    {
     "name": "stderr",
     "output_type": "stream",
     "text": [
      "Translating OCR Files:  27%|██▋       | 134/490 [1:02:04<3:36:07, 36.43s/file]"
     ]
    },
    {
     "name": "stdout",
     "output_type": "stream",
     "text": [
      " Saved translated file: 1b0dc208-d2bb-43ea-b744-534f3b759394.csv\n",
      "\n",
      "Processing file 135 of 490: 1cc570d8-cddb-401e-8c37-ef10c0e4841f.csv\n"
     ]
    },
    {
     "name": "stderr",
     "output_type": "stream",
     "text": [
      "Translating OCR Files:  28%|██▊       | 135/490 [1:02:20<3:00:09, 30.45s/file]"
     ]
    },
    {
     "name": "stdout",
     "output_type": "stream",
     "text": [
      " Saved translated file: 1cc570d8-cddb-401e-8c37-ef10c0e4841f.csv\n",
      "\n",
      "Processing file 136 of 490: 2db27de1-d5c5-4f89-8572-da697a6329e4_1_0.csv\n"
     ]
    },
    {
     "name": "stderr",
     "output_type": "stream",
     "text": [
      "Translating OCR Files:  28%|██▊       | 136/490 [1:02:47<2:52:07, 29.17s/file]"
     ]
    },
    {
     "name": "stdout",
     "output_type": "stream",
     "text": [
      " Saved translated file: 2db27de1-d5c5-4f89-8572-da697a6329e4_1_0.csv\n",
      "\n",
      "Processing file 137 of 490: 2db27de1-d5c5-4f89-8572-da697a6329e4_2_0.csv\n"
     ]
    },
    {
     "name": "stderr",
     "output_type": "stream",
     "text": [
      "Translating OCR Files:  28%|██▊       | 137/490 [1:02:58<2:20:07, 23.82s/file]"
     ]
    },
    {
     "name": "stdout",
     "output_type": "stream",
     "text": [
      " Saved translated file: 2db27de1-d5c5-4f89-8572-da697a6329e4_2_0.csv\n",
      "\n",
      "Processing file 138 of 490: 2db27de1-d5c5-4f89-8572-da697a6329e4_2_1.csv\n"
     ]
    },
    {
     "name": "stderr",
     "output_type": "stream",
     "text": [
      "Translating OCR Files:  28%|██▊       | 138/490 [1:03:00<1:40:51, 17.19s/file]"
     ]
    },
    {
     "name": "stdout",
     "output_type": "stream",
     "text": [
      " Saved translated file: 2db27de1-d5c5-4f89-8572-da697a6329e4_2_1.csv\n",
      "\n",
      "Processing file 139 of 490: 2db27de1-d5c5-4f89-8572-da697a6329e4_3_0.csv\n"
     ]
    },
    {
     "name": "stderr",
     "output_type": "stream",
     "text": [
      "Translating OCR Files:  28%|██▊       | 139/490 [1:04:03<3:02:10, 31.14s/file]"
     ]
    },
    {
     "name": "stdout",
     "output_type": "stream",
     "text": [
      " Saved translated file: 2db27de1-d5c5-4f89-8572-da697a6329e4_3_0.csv\n",
      "\n",
      "Processing file 140 of 490: 2db27de1-d5c5-4f89-8572-da697a6329e4_4_0.csv\n"
     ]
    },
    {
     "name": "stderr",
     "output_type": "stream",
     "text": [
      "Translating OCR Files:  29%|██▊       | 140/490 [1:04:08<2:14:56, 23.13s/file]"
     ]
    },
    {
     "name": "stdout",
     "output_type": "stream",
     "text": [
      " Saved translated file: 2db27de1-d5c5-4f89-8572-da697a6329e4_4_0.csv\n",
      "\n",
      "Processing file 141 of 490: 2db27de1-d5c5-4f89-8572-da697a6329e4_5_0.csv\n"
     ]
    },
    {
     "name": "stderr",
     "output_type": "stream",
     "text": [
      "Translating OCR Files:  29%|██▉       | 141/490 [1:04:09<1:35:31, 16.42s/file]"
     ]
    },
    {
     "name": "stdout",
     "output_type": "stream",
     "text": [
      " Saved translated file: 2db27de1-d5c5-4f89-8572-da697a6329e4_5_0.csv\n",
      "\n",
      "Processing file 142 of 490: 300450bf-221e-4eeb-bdda-dc1115c947ea.csv\n"
     ]
    },
    {
     "name": "stderr",
     "output_type": "stream",
     "text": [
      "Translating OCR Files:  29%|██▉       | 142/490 [1:04:20<1:26:15, 14.87s/file]"
     ]
    },
    {
     "name": "stdout",
     "output_type": "stream",
     "text": [
      " Saved translated file: 300450bf-221e-4eeb-bdda-dc1115c947ea.csv\n",
      "\n",
      "Processing file 143 of 490: 32eb7662-f212-4811-a7c1-1cfeb121cd99.csv\n"
     ]
    },
    {
     "name": "stderr",
     "output_type": "stream",
     "text": [
      "Translating OCR Files:  29%|██▉       | 143/490 [1:05:04<2:16:34, 23.62s/file]"
     ]
    },
    {
     "name": "stdout",
     "output_type": "stream",
     "text": [
      " Saved translated file: 32eb7662-f212-4811-a7c1-1cfeb121cd99.csv\n",
      "\n",
      "Processing file 144 of 490: 330f554f-a3e6-4bd3-8b1b-d5949e1f30e8.csv\n"
     ]
    },
    {
     "name": "stderr",
     "output_type": "stream",
     "text": [
      "Translating OCR Files:  29%|██▉       | 144/490 [1:05:06<1:39:46, 17.30s/file]"
     ]
    },
    {
     "name": "stdout",
     "output_type": "stream",
     "text": [
      " Saved translated file: 330f554f-a3e6-4bd3-8b1b-d5949e1f30e8.csv\n",
      "\n",
      "Processing file 145 of 490: 3348953d-66e9-4cac-8675-65bb5f2ef929_1_0.csv\n"
     ]
    },
    {
     "name": "stderr",
     "output_type": "stream",
     "text": [
      "Translating OCR Files:  30%|██▉       | 145/490 [1:05:35<1:58:54, 20.68s/file]"
     ]
    },
    {
     "name": "stdout",
     "output_type": "stream",
     "text": [
      " Saved translated file: 3348953d-66e9-4cac-8675-65bb5f2ef929_1_0.csv\n",
      "\n",
      "Processing file 146 of 490: 3348953d-66e9-4cac-8675-65bb5f2ef929_2_0.csv\n"
     ]
    },
    {
     "name": "stderr",
     "output_type": "stream",
     "text": [
      "Translating OCR Files:  30%|██▉       | 146/490 [1:05:52<1:52:26, 19.61s/file]"
     ]
    },
    {
     "name": "stdout",
     "output_type": "stream",
     "text": [
      " Saved translated file: 3348953d-66e9-4cac-8675-65bb5f2ef929_2_0.csv\n",
      "\n",
      "Processing file 147 of 490: 3348953d-66e9-4cac-8675-65bb5f2ef929_2_1.csv\n"
     ]
    },
    {
     "name": "stderr",
     "output_type": "stream",
     "text": [
      "Translating OCR Files:  30%|███       | 147/490 [1:05:55<1:23:29, 14.61s/file]"
     ]
    },
    {
     "name": "stdout",
     "output_type": "stream",
     "text": [
      " Saved translated file: 3348953d-66e9-4cac-8675-65bb5f2ef929_2_1.csv\n",
      "\n",
      "Processing file 148 of 490: 3348953d-66e9-4cac-8675-65bb5f2ef929_3_0.csv\n"
     ]
    },
    {
     "name": "stderr",
     "output_type": "stream",
     "text": [
      "Translating OCR Files:  30%|███       | 148/490 [1:05:56<1:00:39, 10.64s/file]"
     ]
    },
    {
     "name": "stdout",
     "output_type": "stream",
     "text": [
      " Saved translated file: 3348953d-66e9-4cac-8675-65bb5f2ef929_3_0.csv\n",
      "\n",
      "Processing file 149 of 490: 3348953d-66e9-4cac-8675-65bb5f2ef929_4_0.csv\n"
     ]
    },
    {
     "name": "stderr",
     "output_type": "stream",
     "text": [
      "Translating OCR Files:  30%|███       | 149/490 [1:05:58<44:57,  7.91s/file]  "
     ]
    },
    {
     "name": "stdout",
     "output_type": "stream",
     "text": [
      " Saved translated file: 3348953d-66e9-4cac-8675-65bb5f2ef929_4_0.csv\n",
      "\n",
      "Processing file 150 of 490: 3348953d-66e9-4cac-8675-65bb5f2ef929_5_0.csv\n"
     ]
    },
    {
     "name": "stderr",
     "output_type": "stream",
     "text": [
      "Translating OCR Files:  31%|███       | 150/490 [1:05:59<33:10,  5.85s/file]"
     ]
    },
    {
     "name": "stdout",
     "output_type": "stream",
     "text": [
      " Saved translated file: 3348953d-66e9-4cac-8675-65bb5f2ef929_5_0.csv\n",
      "\n",
      "Processing file 151 of 490: 3556e54c-d418-447d-bb2a-43ac0408cc7a.csv\n"
     ]
    },
    {
     "name": "stderr",
     "output_type": "stream",
     "text": [
      "Translating OCR Files:  31%|███       | 151/490 [1:06:04<31:02,  5.50s/file]"
     ]
    },
    {
     "name": "stdout",
     "output_type": "stream",
     "text": [
      " Saved translated file: 3556e54c-d418-447d-bb2a-43ac0408cc7a.csv\n",
      "\n",
      "Processing file 152 of 490: 383d824e-7588-4a92-84b7-fd953dd91cba.csv\n"
     ]
    },
    {
     "name": "stderr",
     "output_type": "stream",
     "text": [
      "Translating OCR Files:  31%|███       | 152/490 [1:06:16<42:01,  7.46s/file]"
     ]
    },
    {
     "name": "stdout",
     "output_type": "stream",
     "text": [
      " Saved translated file: 383d824e-7588-4a92-84b7-fd953dd91cba.csv\n",
      "\n",
      "Processing file 153 of 490: 3f451a52-d210-48d9-b56e-d28b9570bdc4_0.csv\n"
     ]
    },
    {
     "name": "stderr",
     "output_type": "stream",
     "text": [
      "Translating OCR Files:  31%|███       | 153/490 [1:07:08<1:56:45, 20.79s/file]"
     ]
    },
    {
     "name": "stdout",
     "output_type": "stream",
     "text": [
      " Saved translated file: 3f451a52-d210-48d9-b56e-d28b9570bdc4_0.csv\n",
      "\n",
      "Processing file 154 of 490: 48fd4c79-41ca-459e-a5a5-a3738e7a4af3_0.csv\n"
     ]
    },
    {
     "name": "stderr",
     "output_type": "stream",
     "text": [
      "Translating OCR Files:  31%|███▏      | 154/490 [1:08:11<3:08:35, 33.68s/file]"
     ]
    },
    {
     "name": "stdout",
     "output_type": "stream",
     "text": [
      " Saved translated file: 48fd4c79-41ca-459e-a5a5-a3738e7a4af3_0.csv\n",
      "\n",
      "Processing file 155 of 490: 493542fc-495f-4756-8451-c4ed084d8bf7.csv\n"
     ]
    },
    {
     "name": "stderr",
     "output_type": "stream",
     "text": [
      "Translating OCR Files:  32%|███▏      | 155/490 [1:08:28<2:39:59, 28.66s/file]"
     ]
    },
    {
     "name": "stdout",
     "output_type": "stream",
     "text": [
      " Saved translated file: 493542fc-495f-4756-8451-c4ed084d8bf7.csv\n",
      "\n",
      "Processing file 156 of 490: 4ae9bf34-c16c-4684-aa92-fec65a151275.csv\n"
     ]
    },
    {
     "name": "stderr",
     "output_type": "stream",
     "text": [
      "Translating OCR Files:  32%|███▏      | 156/490 [1:09:02<2:48:27, 30.26s/file]"
     ]
    },
    {
     "name": "stdout",
     "output_type": "stream",
     "text": [
      " Saved translated file: 4ae9bf34-c16c-4684-aa92-fec65a151275.csv\n",
      "\n",
      "Processing file 157 of 490: 4c74b697-0681-4223-9982-5ffaf4e98ed0.csv\n"
     ]
    },
    {
     "name": "stderr",
     "output_type": "stream",
     "text": [
      "Translating OCR Files:  32%|███▏      | 157/490 [1:09:28<2:40:43, 28.96s/file]"
     ]
    },
    {
     "name": "stdout",
     "output_type": "stream",
     "text": [
      " Saved translated file: 4c74b697-0681-4223-9982-5ffaf4e98ed0.csv\n",
      "\n",
      "Processing file 158 of 490: 4ea07c23-a1a6-411b-bcfb-552d095b66c9.csv\n"
     ]
    },
    {
     "name": "stderr",
     "output_type": "stream",
     "text": [
      "Translating OCR Files:  32%|███▏      | 158/490 [1:09:42<2:14:58, 24.39s/file]"
     ]
    },
    {
     "name": "stdout",
     "output_type": "stream",
     "text": [
      " Saved translated file: 4ea07c23-a1a6-411b-bcfb-552d095b66c9.csv\n",
      "\n",
      "Processing file 159 of 490: 5387a301-0af8-4e24-a197-20189f87b9ef_0.csv\n"
     ]
    },
    {
     "name": "stderr",
     "output_type": "stream",
     "text": [
      "Translating OCR Files:  32%|███▏      | 159/490 [1:09:48<1:44:39, 18.97s/file]"
     ]
    },
    {
     "name": "stdout",
     "output_type": "stream",
     "text": [
      " Saved translated file: 5387a301-0af8-4e24-a197-20189f87b9ef_0.csv\n",
      "\n",
      "Processing file 160 of 490: 5387a301-0af8-4e24-a197-20189f87b9ef_1.csv\n"
     ]
    },
    {
     "name": "stderr",
     "output_type": "stream",
     "text": [
      "Translating OCR Files:  33%|███▎      | 160/490 [1:10:18<2:02:01, 22.19s/file]"
     ]
    },
    {
     "name": "stdout",
     "output_type": "stream",
     "text": [
      " Saved translated file: 5387a301-0af8-4e24-a197-20189f87b9ef_1.csv\n",
      "\n",
      "Processing file 161 of 490: 5387a301-0af8-4e24-a197-20189f87b9ef_10.csv\n"
     ]
    },
    {
     "name": "stderr",
     "output_type": "stream",
     "text": [
      "Translating OCR Files:  33%|███▎      | 161/490 [1:11:06<2:43:38, 29.84s/file]"
     ]
    },
    {
     "name": "stdout",
     "output_type": "stream",
     "text": [
      " Saved translated file: 5387a301-0af8-4e24-a197-20189f87b9ef_10.csv\n",
      "\n",
      "Processing file 162 of 490: 5387a301-0af8-4e24-a197-20189f87b9ef_11.csv\n"
     ]
    },
    {
     "name": "stderr",
     "output_type": "stream",
     "text": [
      "Translating OCR Files:  33%|███▎      | 162/490 [1:12:36<4:22:00, 47.93s/file]"
     ]
    },
    {
     "name": "stdout",
     "output_type": "stream",
     "text": [
      "Ollama error: HTTPConnectionPool(host='localhost', port=11434): Read timed out. (read timeout=90)\n",
      " Saved translated file: 5387a301-0af8-4e24-a197-20189f87b9ef_11.csv\n",
      "\n",
      "Processing file 163 of 490: 5387a301-0af8-4e24-a197-20189f87b9ef_2.csv\n"
     ]
    },
    {
     "name": "stderr",
     "output_type": "stream",
     "text": [
      "Translating OCR Files:  33%|███▎      | 163/490 [1:14:06<5:30:12, 60.59s/file]"
     ]
    },
    {
     "name": "stdout",
     "output_type": "stream",
     "text": [
      "Ollama error: HTTPConnectionPool(host='localhost', port=11434): Read timed out. (read timeout=90)\n",
      " Saved translated file: 5387a301-0af8-4e24-a197-20189f87b9ef_2.csv\n",
      "\n",
      "Processing file 164 of 490: 5387a301-0af8-4e24-a197-20189f87b9ef_3.csv\n"
     ]
    },
    {
     "name": "stderr",
     "output_type": "stream",
     "text": [
      "Translating OCR Files:  33%|███▎      | 164/490 [1:15:22<5:54:44, 65.29s/file]"
     ]
    },
    {
     "name": "stdout",
     "output_type": "stream",
     "text": [
      " Saved translated file: 5387a301-0af8-4e24-a197-20189f87b9ef_3.csv\n",
      "\n",
      "Processing file 165 of 490: 5387a301-0af8-4e24-a197-20189f87b9ef_4.csv\n"
     ]
    },
    {
     "name": "stderr",
     "output_type": "stream",
     "text": [
      "Translating OCR Files:  34%|███▎      | 165/490 [1:16:18<5:37:38, 62.33s/file]"
     ]
    },
    {
     "name": "stdout",
     "output_type": "stream",
     "text": [
      " Saved translated file: 5387a301-0af8-4e24-a197-20189f87b9ef_4.csv\n",
      "\n",
      "Processing file 166 of 490: 5387a301-0af8-4e24-a197-20189f87b9ef_5.csv\n"
     ]
    },
    {
     "name": "stderr",
     "output_type": "stream",
     "text": [
      "Translating OCR Files:  34%|███▍      | 166/490 [1:17:01<5:06:20, 56.73s/file]"
     ]
    },
    {
     "name": "stdout",
     "output_type": "stream",
     "text": [
      " Saved translated file: 5387a301-0af8-4e24-a197-20189f87b9ef_5.csv\n",
      "\n",
      "Processing file 167 of 490: 5387a301-0af8-4e24-a197-20189f87b9ef_6.csv\n"
     ]
    },
    {
     "name": "stderr",
     "output_type": "stream",
     "text": [
      "Translating OCR Files:  34%|███▍      | 167/490 [1:17:33<4:24:31, 49.14s/file]"
     ]
    },
    {
     "name": "stdout",
     "output_type": "stream",
     "text": [
      " Saved translated file: 5387a301-0af8-4e24-a197-20189f87b9ef_6.csv\n",
      "\n",
      "Processing file 168 of 490: 5387a301-0af8-4e24-a197-20189f87b9ef_7.csv\n"
     ]
    },
    {
     "name": "stderr",
     "output_type": "stream",
     "text": [
      "Translating OCR Files:  34%|███▍      | 168/490 [1:18:13<4:09:10, 46.43s/file]"
     ]
    },
    {
     "name": "stdout",
     "output_type": "stream",
     "text": [
      " Saved translated file: 5387a301-0af8-4e24-a197-20189f87b9ef_7.csv\n",
      "\n",
      "Processing file 169 of 490: 5387a301-0af8-4e24-a197-20189f87b9ef_8.csv\n"
     ]
    },
    {
     "name": "stderr",
     "output_type": "stream",
     "text": [
      "Translating OCR Files:  34%|███▍      | 169/490 [1:19:04<4:16:29, 47.94s/file]"
     ]
    },
    {
     "name": "stdout",
     "output_type": "stream",
     "text": [
      " Saved translated file: 5387a301-0af8-4e24-a197-20189f87b9ef_8.csv\n",
      "\n",
      "Processing file 170 of 490: 5387a301-0af8-4e24-a197-20189f87b9ef_9.csv\n"
     ]
    },
    {
     "name": "stderr",
     "output_type": "stream",
     "text": [
      "Translating OCR Files:  35%|███▍      | 170/490 [1:19:15<3:16:11, 36.79s/file]"
     ]
    },
    {
     "name": "stdout",
     "output_type": "stream",
     "text": [
      " Saved translated file: 5387a301-0af8-4e24-a197-20189f87b9ef_9.csv\n",
      "\n",
      "Processing file 171 of 490: 547aba02-6757-49c1-acb5-6df217cebfc7_0.csv\n"
     ]
    },
    {
     "name": "stderr",
     "output_type": "stream",
     "text": [
      "Translating OCR Files:  35%|███▍      | 171/490 [1:19:52<3:15:11, 36.71s/file]"
     ]
    },
    {
     "name": "stdout",
     "output_type": "stream",
     "text": [
      " Saved translated file: 547aba02-6757-49c1-acb5-6df217cebfc7_0.csv\n",
      "\n",
      "Processing file 172 of 490: 547aba02-6757-49c1-acb5-6df217cebfc7_1.csv\n"
     ]
    },
    {
     "name": "stderr",
     "output_type": "stream",
     "text": [
      "Translating OCR Files:  35%|███▌      | 172/490 [1:20:22<3:03:52, 34.69s/file]"
     ]
    },
    {
     "name": "stdout",
     "output_type": "stream",
     "text": [
      " Saved translated file: 547aba02-6757-49c1-acb5-6df217cebfc7_1.csv\n",
      "\n",
      "Processing file 173 of 490: 547aba02-6757-49c1-acb5-6df217cebfc7_2.csv\n"
     ]
    },
    {
     "name": "stderr",
     "output_type": "stream",
     "text": [
      "Translating OCR Files:  35%|███▌      | 173/490 [1:20:40<2:37:20, 29.78s/file]"
     ]
    },
    {
     "name": "stdout",
     "output_type": "stream",
     "text": [
      " Saved translated file: 547aba02-6757-49c1-acb5-6df217cebfc7_2.csv\n",
      "\n",
      "Processing file 174 of 490: 547aba02-6757-49c1-acb5-6df217cebfc7_3.csv\n"
     ]
    },
    {
     "name": "stderr",
     "output_type": "stream",
     "text": [
      "Translating OCR Files:  36%|███▌      | 174/490 [1:21:10<2:36:44, 29.76s/file]"
     ]
    },
    {
     "name": "stdout",
     "output_type": "stream",
     "text": [
      " Saved translated file: 547aba02-6757-49c1-acb5-6df217cebfc7_3.csv\n",
      "\n",
      "Processing file 175 of 490: 54990932-71af-48dd-9a7a-2617b1407c54_0.csv\n"
     ]
    },
    {
     "name": "stderr",
     "output_type": "stream",
     "text": [
      "Translating OCR Files:  36%|███▌      | 175/490 [1:22:14<3:31:10, 40.22s/file]"
     ]
    },
    {
     "name": "stdout",
     "output_type": "stream",
     "text": [
      " Saved translated file: 54990932-71af-48dd-9a7a-2617b1407c54_0.csv\n",
      "\n",
      "Processing file 176 of 490: 585875ff-f8c5-4a02-acd7-fef37dc9ff11_0.csv\n"
     ]
    },
    {
     "name": "stderr",
     "output_type": "stream",
     "text": [
      "Translating OCR Files:  36%|███▌      | 176/490 [1:22:33<2:56:35, 33.74s/file]"
     ]
    },
    {
     "name": "stdout",
     "output_type": "stream",
     "text": [
      " Saved translated file: 585875ff-f8c5-4a02-acd7-fef37dc9ff11_0.csv\n",
      "\n",
      "Processing file 177 of 490: 585875ff-f8c5-4a02-acd7-fef37dc9ff11_1.csv\n"
     ]
    },
    {
     "name": "stderr",
     "output_type": "stream",
     "text": [
      "Translating OCR Files:  36%|███▌      | 177/490 [1:22:50<2:29:21, 28.63s/file]"
     ]
    },
    {
     "name": "stdout",
     "output_type": "stream",
     "text": [
      " Saved translated file: 585875ff-f8c5-4a02-acd7-fef37dc9ff11_1.csv\n",
      "\n",
      "Processing file 178 of 490: 585875ff-f8c5-4a02-acd7-fef37dc9ff11_10.csv\n"
     ]
    },
    {
     "name": "stderr",
     "output_type": "stream",
     "text": [
      "Translating OCR Files:  36%|███▋      | 178/490 [1:23:14<2:21:57, 27.30s/file]"
     ]
    },
    {
     "name": "stdout",
     "output_type": "stream",
     "text": [
      " Saved translated file: 585875ff-f8c5-4a02-acd7-fef37dc9ff11_10.csv\n",
      "\n",
      "Processing file 179 of 490: 585875ff-f8c5-4a02-acd7-fef37dc9ff11_11.csv\n"
     ]
    },
    {
     "name": "stderr",
     "output_type": "stream",
     "text": [
      "Translating OCR Files:  37%|███▋      | 179/490 [1:23:31<2:06:22, 24.38s/file]"
     ]
    },
    {
     "name": "stdout",
     "output_type": "stream",
     "text": [
      " Saved translated file: 585875ff-f8c5-4a02-acd7-fef37dc9ff11_11.csv\n",
      "\n",
      "Processing file 180 of 490: 585875ff-f8c5-4a02-acd7-fef37dc9ff11_12.csv\n"
     ]
    },
    {
     "name": "stderr",
     "output_type": "stream",
     "text": [
      "Translating OCR Files:  37%|███▋      | 180/490 [1:24:17<2:38:36, 30.70s/file]"
     ]
    },
    {
     "name": "stdout",
     "output_type": "stream",
     "text": [
      " Saved translated file: 585875ff-f8c5-4a02-acd7-fef37dc9ff11_12.csv\n",
      "\n",
      "Processing file 181 of 490: 585875ff-f8c5-4a02-acd7-fef37dc9ff11_13.csv\n"
     ]
    },
    {
     "name": "stderr",
     "output_type": "stream",
     "text": [
      "Translating OCR Files:  37%|███▋      | 181/490 [1:24:45<2:34:54, 30.08s/file]"
     ]
    },
    {
     "name": "stdout",
     "output_type": "stream",
     "text": [
      " Saved translated file: 585875ff-f8c5-4a02-acd7-fef37dc9ff11_13.csv\n",
      "\n",
      "Processing file 182 of 490: 585875ff-f8c5-4a02-acd7-fef37dc9ff11_14.csv\n"
     ]
    },
    {
     "name": "stderr",
     "output_type": "stream",
     "text": [
      "Translating OCR Files:  37%|███▋      | 182/490 [1:24:50<1:54:35, 22.32s/file]"
     ]
    },
    {
     "name": "stdout",
     "output_type": "stream",
     "text": [
      " Saved translated file: 585875ff-f8c5-4a02-acd7-fef37dc9ff11_14.csv\n",
      "\n",
      "Processing file 183 of 490: 585875ff-f8c5-4a02-acd7-fef37dc9ff11_15.csv\n"
     ]
    },
    {
     "name": "stderr",
     "output_type": "stream",
     "text": [
      "Translating OCR Files:  37%|███▋      | 183/490 [1:25:52<2:55:55, 34.38s/file]"
     ]
    },
    {
     "name": "stdout",
     "output_type": "stream",
     "text": [
      " Saved translated file: 585875ff-f8c5-4a02-acd7-fef37dc9ff11_15.csv\n",
      "\n",
      "Processing file 184 of 490: 585875ff-f8c5-4a02-acd7-fef37dc9ff11_16.csv\n"
     ]
    },
    {
     "name": "stderr",
     "output_type": "stream",
     "text": [
      "Translating OCR Files:  38%|███▊      | 184/490 [1:26:37<3:10:53, 37.43s/file]"
     ]
    },
    {
     "name": "stdout",
     "output_type": "stream",
     "text": [
      " Saved translated file: 585875ff-f8c5-4a02-acd7-fef37dc9ff11_16.csv\n",
      "\n",
      "Processing file 185 of 490: 585875ff-f8c5-4a02-acd7-fef37dc9ff11_17.csv\n"
     ]
    },
    {
     "name": "stderr",
     "output_type": "stream",
     "text": [
      "Translating OCR Files:  38%|███▊      | 185/490 [1:26:49<2:31:42, 29.84s/file]"
     ]
    },
    {
     "name": "stdout",
     "output_type": "stream",
     "text": [
      " Saved translated file: 585875ff-f8c5-4a02-acd7-fef37dc9ff11_17.csv\n",
      "\n",
      "Processing file 186 of 490: 585875ff-f8c5-4a02-acd7-fef37dc9ff11_18.csv\n"
     ]
    },
    {
     "name": "stderr",
     "output_type": "stream",
     "text": [
      "Translating OCR Files:  38%|███▊      | 186/490 [1:26:56<1:57:27, 23.18s/file]"
     ]
    },
    {
     "name": "stdout",
     "output_type": "stream",
     "text": [
      " Saved translated file: 585875ff-f8c5-4a02-acd7-fef37dc9ff11_18.csv\n",
      "\n",
      "Processing file 187 of 490: 585875ff-f8c5-4a02-acd7-fef37dc9ff11_19.csv\n"
     ]
    },
    {
     "name": "stderr",
     "output_type": "stream",
     "text": [
      "Translating OCR Files:  38%|███▊      | 187/490 [1:27:25<2:05:01, 24.76s/file]"
     ]
    },
    {
     "name": "stdout",
     "output_type": "stream",
     "text": [
      " Saved translated file: 585875ff-f8c5-4a02-acd7-fef37dc9ff11_19.csv\n",
      "\n",
      "Processing file 188 of 490: 585875ff-f8c5-4a02-acd7-fef37dc9ff11_2.csv\n"
     ]
    },
    {
     "name": "stderr",
     "output_type": "stream",
     "text": [
      "Translating OCR Files:  38%|███▊      | 188/490 [1:27:26<1:29:32, 17.79s/file]"
     ]
    },
    {
     "name": "stdout",
     "output_type": "stream",
     "text": [
      " Saved translated file: 585875ff-f8c5-4a02-acd7-fef37dc9ff11_2.csv\n",
      "\n",
      "Processing file 189 of 490: 585875ff-f8c5-4a02-acd7-fef37dc9ff11_3.csv\n"
     ]
    },
    {
     "name": "stderr",
     "output_type": "stream",
     "text": [
      "Translating OCR Files:  39%|███▊      | 189/490 [1:27:36<1:17:08, 15.38s/file]"
     ]
    },
    {
     "name": "stdout",
     "output_type": "stream",
     "text": [
      " Saved translated file: 585875ff-f8c5-4a02-acd7-fef37dc9ff11_3.csv\n",
      "\n",
      "Processing file 190 of 490: 585875ff-f8c5-4a02-acd7-fef37dc9ff11_4.csv\n"
     ]
    },
    {
     "name": "stderr",
     "output_type": "stream",
     "text": [
      "Translating OCR Files:  39%|███▉      | 190/490 [1:27:38<56:00, 11.20s/file]  "
     ]
    },
    {
     "name": "stdout",
     "output_type": "stream",
     "text": [
      " Saved translated file: 585875ff-f8c5-4a02-acd7-fef37dc9ff11_4.csv\n",
      "\n",
      "Processing file 191 of 490: 585875ff-f8c5-4a02-acd7-fef37dc9ff11_5.csv\n"
     ]
    },
    {
     "name": "stderr",
     "output_type": "stream",
     "text": [
      "Translating OCR Files:  39%|███▉      | 191/490 [1:27:45<50:29, 10.13s/file]"
     ]
    },
    {
     "name": "stdout",
     "output_type": "stream",
     "text": [
      " Saved translated file: 585875ff-f8c5-4a02-acd7-fef37dc9ff11_5.csv\n",
      "\n",
      "Processing file 192 of 490: 585875ff-f8c5-4a02-acd7-fef37dc9ff11_6.csv\n"
     ]
    },
    {
     "name": "stderr",
     "output_type": "stream",
     "text": [
      "Translating OCR Files:  39%|███▉      | 192/490 [1:28:07<1:07:47, 13.65s/file]"
     ]
    },
    {
     "name": "stdout",
     "output_type": "stream",
     "text": [
      " Saved translated file: 585875ff-f8c5-4a02-acd7-fef37dc9ff11_6.csv\n",
      "\n",
      "Processing file 193 of 490: 585875ff-f8c5-4a02-acd7-fef37dc9ff11_7.csv\n"
     ]
    },
    {
     "name": "stderr",
     "output_type": "stream",
     "text": [
      "Translating OCR Files:  39%|███▉      | 193/490 [1:28:31<1:22:10, 16.60s/file]"
     ]
    },
    {
     "name": "stdout",
     "output_type": "stream",
     "text": [
      " Saved translated file: 585875ff-f8c5-4a02-acd7-fef37dc9ff11_7.csv\n",
      "\n",
      "Processing file 194 of 490: 585875ff-f8c5-4a02-acd7-fef37dc9ff11_8.csv\n"
     ]
    },
    {
     "name": "stderr",
     "output_type": "stream",
     "text": [
      "Translating OCR Files:  40%|███▉      | 194/490 [1:29:02<1:43:10, 20.91s/file]"
     ]
    },
    {
     "name": "stdout",
     "output_type": "stream",
     "text": [
      " Saved translated file: 585875ff-f8c5-4a02-acd7-fef37dc9ff11_8.csv\n",
      "\n",
      "Processing file 195 of 490: 585875ff-f8c5-4a02-acd7-fef37dc9ff11_9.csv\n"
     ]
    },
    {
     "name": "stderr",
     "output_type": "stream",
     "text": [
      "Translating OCR Files:  40%|███▉      | 195/490 [1:29:24<1:45:39, 21.49s/file]"
     ]
    },
    {
     "name": "stdout",
     "output_type": "stream",
     "text": [
      " Saved translated file: 585875ff-f8c5-4a02-acd7-fef37dc9ff11_9.csv\n",
      "\n",
      "Processing file 196 of 490: 5a6b122c-39c1-4581-8c1f-2d6f36a9f8a0_0.csv\n"
     ]
    },
    {
     "name": "stderr",
     "output_type": "stream",
     "text": [
      "Translating OCR Files:  40%|████      | 196/490 [1:29:28<1:19:34, 16.24s/file]"
     ]
    },
    {
     "name": "stdout",
     "output_type": "stream",
     "text": [
      " Saved translated file: 5a6b122c-39c1-4581-8c1f-2d6f36a9f8a0_0.csv\n",
      "\n",
      "Processing file 197 of 490: 5a6b122c-39c1-4581-8c1f-2d6f36a9f8a0_1.csv\n"
     ]
    },
    {
     "name": "stderr",
     "output_type": "stream",
     "text": [
      "Translating OCR Files:  40%|████      | 197/490 [1:29:35<1:05:39, 13.45s/file]"
     ]
    },
    {
     "name": "stdout",
     "output_type": "stream",
     "text": [
      " Saved translated file: 5a6b122c-39c1-4581-8c1f-2d6f36a9f8a0_1.csv\n",
      "\n",
      "Processing file 198 of 490: 5a6b122c-39c1-4581-8c1f-2d6f36a9f8a0_10.csv\n"
     ]
    },
    {
     "name": "stderr",
     "output_type": "stream",
     "text": [
      "Translating OCR Files:  40%|████      | 198/490 [1:29:52<1:09:31, 14.29s/file]"
     ]
    },
    {
     "name": "stdout",
     "output_type": "stream",
     "text": [
      " Saved translated file: 5a6b122c-39c1-4581-8c1f-2d6f36a9f8a0_10.csv\n",
      "\n",
      "Processing file 199 of 490: 5a6b122c-39c1-4581-8c1f-2d6f36a9f8a0_11.csv\n"
     ]
    },
    {
     "name": "stderr",
     "output_type": "stream",
     "text": [
      "Translating OCR Files:  41%|████      | 199/490 [1:30:10<1:15:02, 15.47s/file]"
     ]
    },
    {
     "name": "stdout",
     "output_type": "stream",
     "text": [
      " Saved translated file: 5a6b122c-39c1-4581-8c1f-2d6f36a9f8a0_11.csv\n",
      "\n",
      "Processing file 200 of 490: 5a6b122c-39c1-4581-8c1f-2d6f36a9f8a0_12.csv\n"
     ]
    },
    {
     "name": "stderr",
     "output_type": "stream",
     "text": [
      "Translating OCR Files:  41%|████      | 200/490 [1:30:29<1:20:06, 16.57s/file]"
     ]
    },
    {
     "name": "stdout",
     "output_type": "stream",
     "text": [
      " Saved translated file: 5a6b122c-39c1-4581-8c1f-2d6f36a9f8a0_12.csv\n",
      "\n",
      "Processing file 201 of 490: 5a6b122c-39c1-4581-8c1f-2d6f36a9f8a0_13.csv\n"
     ]
    },
    {
     "name": "stderr",
     "output_type": "stream",
     "text": [
      "Translating OCR Files:  41%|████      | 201/490 [1:30:59<1:39:20, 20.62s/file]"
     ]
    },
    {
     "name": "stdout",
     "output_type": "stream",
     "text": [
      " Saved translated file: 5a6b122c-39c1-4581-8c1f-2d6f36a9f8a0_13.csv\n",
      "\n",
      "Processing file 202 of 490: 5a6b122c-39c1-4581-8c1f-2d6f36a9f8a0_14.csv\n"
     ]
    },
    {
     "name": "stderr",
     "output_type": "stream",
     "text": [
      "Translating OCR Files:  41%|████      | 202/490 [1:32:05<2:44:14, 34.22s/file]"
     ]
    },
    {
     "name": "stdout",
     "output_type": "stream",
     "text": [
      " Saved translated file: 5a6b122c-39c1-4581-8c1f-2d6f36a9f8a0_14.csv\n",
      "\n",
      "Processing file 203 of 490: 5a6b122c-39c1-4581-8c1f-2d6f36a9f8a0_15.csv\n"
     ]
    },
    {
     "name": "stderr",
     "output_type": "stream",
     "text": [
      "Translating OCR Files:  41%|████▏     | 203/490 [1:32:46<2:53:31, 36.28s/file]"
     ]
    },
    {
     "name": "stdout",
     "output_type": "stream",
     "text": [
      " Saved translated file: 5a6b122c-39c1-4581-8c1f-2d6f36a9f8a0_15.csv\n",
      "\n",
      "Processing file 204 of 490: 5a6b122c-39c1-4581-8c1f-2d6f36a9f8a0_16.csv\n"
     ]
    },
    {
     "name": "stderr",
     "output_type": "stream",
     "text": [
      "Translating OCR Files:  42%|████▏     | 204/490 [1:32:50<2:06:04, 26.45s/file]"
     ]
    },
    {
     "name": "stdout",
     "output_type": "stream",
     "text": [
      " Saved translated file: 5a6b122c-39c1-4581-8c1f-2d6f36a9f8a0_16.csv\n",
      "\n",
      "Processing file 205 of 490: 5a6b122c-39c1-4581-8c1f-2d6f36a9f8a0_17.csv\n"
     ]
    },
    {
     "name": "stderr",
     "output_type": "stream",
     "text": [
      "Translating OCR Files:  42%|████▏     | 205/490 [1:33:54<2:59:03, 37.70s/file]"
     ]
    },
    {
     "name": "stdout",
     "output_type": "stream",
     "text": [
      " Saved translated file: 5a6b122c-39c1-4581-8c1f-2d6f36a9f8a0_17.csv\n",
      "\n",
      "Processing file 206 of 490: 5a6b122c-39c1-4581-8c1f-2d6f36a9f8a0_18.csv\n"
     ]
    },
    {
     "name": "stderr",
     "output_type": "stream",
     "text": [
      "Translating OCR Files:  42%|████▏     | 206/490 [1:34:36<3:04:32, 38.99s/file]"
     ]
    },
    {
     "name": "stdout",
     "output_type": "stream",
     "text": [
      " Saved translated file: 5a6b122c-39c1-4581-8c1f-2d6f36a9f8a0_18.csv\n",
      "\n",
      "Processing file 207 of 490: 5a6b122c-39c1-4581-8c1f-2d6f36a9f8a0_19.csv\n"
     ]
    },
    {
     "name": "stderr",
     "output_type": "stream",
     "text": [
      "Translating OCR Files:  42%|████▏     | 207/490 [1:34:51<2:31:13, 32.06s/file]"
     ]
    },
    {
     "name": "stdout",
     "output_type": "stream",
     "text": [
      " Saved translated file: 5a6b122c-39c1-4581-8c1f-2d6f36a9f8a0_19.csv\n",
      "\n",
      "Processing file 208 of 490: 5a6b122c-39c1-4581-8c1f-2d6f36a9f8a0_2.csv\n"
     ]
    },
    {
     "name": "stderr",
     "output_type": "stream",
     "text": [
      "Translating OCR Files:  42%|████▏     | 208/490 [1:35:12<2:14:48, 28.68s/file]"
     ]
    },
    {
     "name": "stdout",
     "output_type": "stream",
     "text": [
      " Saved translated file: 5a6b122c-39c1-4581-8c1f-2d6f36a9f8a0_2.csv\n",
      "\n",
      "Processing file 209 of 490: 5a6b122c-39c1-4581-8c1f-2d6f36a9f8a0_20.csv\n"
     ]
    },
    {
     "name": "stderr",
     "output_type": "stream",
     "text": [
      "Translating OCR Files:  43%|████▎     | 209/490 [1:36:14<3:01:13, 38.70s/file]"
     ]
    },
    {
     "name": "stdout",
     "output_type": "stream",
     "text": [
      " Saved translated file: 5a6b122c-39c1-4581-8c1f-2d6f36a9f8a0_20.csv\n",
      "\n",
      "Processing file 210 of 490: 5a6b122c-39c1-4581-8c1f-2d6f36a9f8a0_21.csv\n"
     ]
    },
    {
     "name": "stderr",
     "output_type": "stream",
     "text": [
      "Translating OCR Files:  43%|████▎     | 210/490 [1:37:43<4:10:04, 53.59s/file]"
     ]
    },
    {
     "name": "stdout",
     "output_type": "stream",
     "text": [
      " Saved translated file: 5a6b122c-39c1-4581-8c1f-2d6f36a9f8a0_21.csv\n",
      "\n",
      "Processing file 211 of 490: 5a6b122c-39c1-4581-8c1f-2d6f36a9f8a0_22.csv\n"
     ]
    },
    {
     "name": "stderr",
     "output_type": "stream",
     "text": [
      "Translating OCR Files:  43%|████▎     | 211/490 [1:38:29<3:59:09, 51.43s/file]"
     ]
    },
    {
     "name": "stdout",
     "output_type": "stream",
     "text": [
      " Saved translated file: 5a6b122c-39c1-4581-8c1f-2d6f36a9f8a0_22.csv\n",
      "\n",
      "Processing file 212 of 490: 5a6b122c-39c1-4581-8c1f-2d6f36a9f8a0_23.csv\n"
     ]
    },
    {
     "name": "stderr",
     "output_type": "stream",
     "text": [
      "Translating OCR Files:  43%|████▎     | 212/490 [1:39:23<4:01:47, 52.19s/file]"
     ]
    },
    {
     "name": "stdout",
     "output_type": "stream",
     "text": [
      " Saved translated file: 5a6b122c-39c1-4581-8c1f-2d6f36a9f8a0_23.csv\n",
      "\n",
      "Processing file 213 of 490: 5a6b122c-39c1-4581-8c1f-2d6f36a9f8a0_24.csv\n"
     ]
    },
    {
     "name": "stderr",
     "output_type": "stream",
     "text": [
      "Translating OCR Files:  43%|████▎     | 213/490 [1:39:43<3:16:18, 42.52s/file]"
     ]
    },
    {
     "name": "stdout",
     "output_type": "stream",
     "text": [
      " Saved translated file: 5a6b122c-39c1-4581-8c1f-2d6f36a9f8a0_24.csv\n",
      "\n",
      "Processing file 214 of 490: 5a6b122c-39c1-4581-8c1f-2d6f36a9f8a0_25.csv\n"
     ]
    },
    {
     "name": "stderr",
     "output_type": "stream",
     "text": [
      "Translating OCR Files:  44%|████▎     | 214/490 [1:40:22<3:10:58, 41.52s/file]"
     ]
    },
    {
     "name": "stdout",
     "output_type": "stream",
     "text": [
      " Saved translated file: 5a6b122c-39c1-4581-8c1f-2d6f36a9f8a0_25.csv\n",
      "\n",
      "Processing file 215 of 490: 5a6b122c-39c1-4581-8c1f-2d6f36a9f8a0_26.csv\n"
     ]
    },
    {
     "name": "stderr",
     "output_type": "stream",
     "text": [
      "Translating OCR Files:  44%|████▍     | 215/490 [1:40:31<2:25:24, 31.73s/file]"
     ]
    },
    {
     "name": "stdout",
     "output_type": "stream",
     "text": [
      " Saved translated file: 5a6b122c-39c1-4581-8c1f-2d6f36a9f8a0_26.csv\n",
      "\n",
      "Processing file 216 of 490: 5a6b122c-39c1-4581-8c1f-2d6f36a9f8a0_27.csv\n"
     ]
    },
    {
     "name": "stderr",
     "output_type": "stream",
     "text": [
      "Translating OCR Files:  44%|████▍     | 216/490 [1:40:38<1:51:39, 24.45s/file]"
     ]
    },
    {
     "name": "stdout",
     "output_type": "stream",
     "text": [
      " Saved translated file: 5a6b122c-39c1-4581-8c1f-2d6f36a9f8a0_27.csv\n",
      "\n",
      "Processing file 217 of 490: 5a6b122c-39c1-4581-8c1f-2d6f36a9f8a0_28.csv\n"
     ]
    },
    {
     "name": "stderr",
     "output_type": "stream",
     "text": [
      "Translating OCR Files:  44%|████▍     | 217/490 [1:41:39<2:40:05, 35.19s/file]"
     ]
    },
    {
     "name": "stdout",
     "output_type": "stream",
     "text": [
      " Saved translated file: 5a6b122c-39c1-4581-8c1f-2d6f36a9f8a0_28.csv\n",
      "\n",
      "Processing file 218 of 490: 5a6b122c-39c1-4581-8c1f-2d6f36a9f8a0_29.csv\n"
     ]
    },
    {
     "name": "stderr",
     "output_type": "stream",
     "text": [
      "Translating OCR Files:  44%|████▍     | 218/490 [1:42:55<3:34:46, 47.38s/file]"
     ]
    },
    {
     "name": "stdout",
     "output_type": "stream",
     "text": [
      " Saved translated file: 5a6b122c-39c1-4581-8c1f-2d6f36a9f8a0_29.csv\n",
      "\n",
      "Processing file 219 of 490: 5a6b122c-39c1-4581-8c1f-2d6f36a9f8a0_3.csv\n"
     ]
    },
    {
     "name": "stderr",
     "output_type": "stream",
     "text": [
      "Translating OCR Files:  45%|████▍     | 219/490 [1:44:15<4:18:28, 57.23s/file]"
     ]
    },
    {
     "name": "stdout",
     "output_type": "stream",
     "text": [
      " Saved translated file: 5a6b122c-39c1-4581-8c1f-2d6f36a9f8a0_3.csv\n",
      "\n",
      "Processing file 220 of 490: 5a6b122c-39c1-4581-8c1f-2d6f36a9f8a0_30.csv\n"
     ]
    },
    {
     "name": "stderr",
     "output_type": "stream",
     "text": [
      "Translating OCR Files:  45%|████▍     | 220/490 [1:45:00<4:01:26, 53.65s/file]"
     ]
    },
    {
     "name": "stdout",
     "output_type": "stream",
     "text": [
      " Saved translated file: 5a6b122c-39c1-4581-8c1f-2d6f36a9f8a0_30.csv\n",
      "\n",
      "Processing file 221 of 490: 5a6b122c-39c1-4581-8c1f-2d6f36a9f8a0_31.csv\n"
     ]
    },
    {
     "name": "stderr",
     "output_type": "stream",
     "text": [
      "Translating OCR Files:  45%|████▌     | 221/490 [1:45:57<4:04:20, 54.50s/file]"
     ]
    },
    {
     "name": "stdout",
     "output_type": "stream",
     "text": [
      " Saved translated file: 5a6b122c-39c1-4581-8c1f-2d6f36a9f8a0_31.csv\n",
      "\n",
      "Processing file 222 of 490: 5a6b122c-39c1-4581-8c1f-2d6f36a9f8a0_32.csv\n"
     ]
    },
    {
     "name": "stderr",
     "output_type": "stream",
     "text": [
      "Translating OCR Files:  45%|████▌     | 222/490 [1:46:15<3:14:59, 43.66s/file]"
     ]
    },
    {
     "name": "stdout",
     "output_type": "stream",
     "text": [
      " Saved translated file: 5a6b122c-39c1-4581-8c1f-2d6f36a9f8a0_32.csv\n",
      "\n",
      "Processing file 223 of 490: 5a6b122c-39c1-4581-8c1f-2d6f36a9f8a0_33.csv\n"
     ]
    },
    {
     "name": "stderr",
     "output_type": "stream",
     "text": [
      "Translating OCR Files:  46%|████▌     | 223/490 [1:47:24<3:47:36, 51.15s/file]"
     ]
    },
    {
     "name": "stdout",
     "output_type": "stream",
     "text": [
      " Saved translated file: 5a6b122c-39c1-4581-8c1f-2d6f36a9f8a0_33.csv\n",
      "\n",
      "Processing file 224 of 490: 5a6b122c-39c1-4581-8c1f-2d6f36a9f8a0_34.csv\n"
     ]
    },
    {
     "name": "stderr",
     "output_type": "stream",
     "text": [
      "Translating OCR Files:  46%|████▌     | 224/490 [1:48:39<4:19:22, 58.50s/file]"
     ]
    },
    {
     "name": "stdout",
     "output_type": "stream",
     "text": [
      " Saved translated file: 5a6b122c-39c1-4581-8c1f-2d6f36a9f8a0_34.csv\n",
      "\n",
      "Processing file 225 of 490: 5a6b122c-39c1-4581-8c1f-2d6f36a9f8a0_35.csv\n"
     ]
    },
    {
     "name": "stderr",
     "output_type": "stream",
     "text": [
      "Translating OCR Files:  46%|████▌     | 225/490 [1:49:57<4:43:18, 64.15s/file]"
     ]
    },
    {
     "name": "stdout",
     "output_type": "stream",
     "text": [
      " Saved translated file: 5a6b122c-39c1-4581-8c1f-2d6f36a9f8a0_35.csv\n",
      "\n",
      "Processing file 226 of 490: 5a6b122c-39c1-4581-8c1f-2d6f36a9f8a0_36.csv\n"
     ]
    },
    {
     "name": "stderr",
     "output_type": "stream",
     "text": [
      "Translating OCR Files:  46%|████▌     | 226/490 [1:51:27<5:16:33, 71.94s/file]"
     ]
    },
    {
     "name": "stdout",
     "output_type": "stream",
     "text": [
      "Ollama error: HTTPConnectionPool(host='localhost', port=11434): Read timed out. (read timeout=90)\n",
      " Saved translated file: 5a6b122c-39c1-4581-8c1f-2d6f36a9f8a0_36.csv\n",
      "\n",
      "Processing file 227 of 490: 5a6b122c-39c1-4581-8c1f-2d6f36a9f8a0_37.csv\n"
     ]
    },
    {
     "name": "stderr",
     "output_type": "stream",
     "text": [
      "Translating OCR Files:  46%|████▋     | 227/490 [1:52:16<4:45:14, 65.08s/file]"
     ]
    },
    {
     "name": "stdout",
     "output_type": "stream",
     "text": [
      " Saved translated file: 5a6b122c-39c1-4581-8c1f-2d6f36a9f8a0_37.csv\n",
      "\n",
      "Processing file 228 of 490: 5a6b122c-39c1-4581-8c1f-2d6f36a9f8a0_38.csv\n"
     ]
    },
    {
     "name": "stderr",
     "output_type": "stream",
     "text": [
      "Translating OCR Files:  47%|████▋     | 228/490 [1:53:14<4:35:54, 63.18s/file]"
     ]
    },
    {
     "name": "stdout",
     "output_type": "stream",
     "text": [
      " Saved translated file: 5a6b122c-39c1-4581-8c1f-2d6f36a9f8a0_38.csv\n",
      "\n",
      "Processing file 229 of 490: 5a6b122c-39c1-4581-8c1f-2d6f36a9f8a0_39.csv\n"
     ]
    },
    {
     "name": "stderr",
     "output_type": "stream",
     "text": [
      "Translating OCR Files:  47%|████▋     | 229/490 [1:54:19<4:36:03, 63.46s/file]"
     ]
    },
    {
     "name": "stdout",
     "output_type": "stream",
     "text": [
      " Saved translated file: 5a6b122c-39c1-4581-8c1f-2d6f36a9f8a0_39.csv\n",
      "\n",
      "Processing file 230 of 490: 5a6b122c-39c1-4581-8c1f-2d6f36a9f8a0_4.csv\n"
     ]
    },
    {
     "name": "stderr",
     "output_type": "stream",
     "text": [
      "Translating OCR Files:  47%|████▋     | 230/490 [1:55:36<4:53:43, 67.78s/file]"
     ]
    },
    {
     "name": "stdout",
     "output_type": "stream",
     "text": [
      " Saved translated file: 5a6b122c-39c1-4581-8c1f-2d6f36a9f8a0_4.csv\n",
      "\n",
      "Processing file 231 of 490: 5a6b122c-39c1-4581-8c1f-2d6f36a9f8a0_40.csv\n"
     ]
    },
    {
     "name": "stderr",
     "output_type": "stream",
     "text": [
      "Translating OCR Files:  47%|████▋     | 231/490 [1:56:27<4:30:46, 62.73s/file]"
     ]
    },
    {
     "name": "stdout",
     "output_type": "stream",
     "text": [
      " Saved translated file: 5a6b122c-39c1-4581-8c1f-2d6f36a9f8a0_40.csv\n",
      "\n",
      "Processing file 232 of 490: 5a6b122c-39c1-4581-8c1f-2d6f36a9f8a0_41.csv\n"
     ]
    },
    {
     "name": "stderr",
     "output_type": "stream",
     "text": [
      "Translating OCR Files:  47%|████▋     | 232/490 [1:57:26<4:24:50, 61.59s/file]"
     ]
    },
    {
     "name": "stdout",
     "output_type": "stream",
     "text": [
      " Saved translated file: 5a6b122c-39c1-4581-8c1f-2d6f36a9f8a0_41.csv\n",
      "\n",
      "Processing file 233 of 490: 5a6b122c-39c1-4581-8c1f-2d6f36a9f8a0_42.csv\n"
     ]
    },
    {
     "name": "stderr",
     "output_type": "stream",
     "text": [
      "Translating OCR Files:  48%|████▊     | 233/490 [1:58:11<4:02:13, 56.55s/file]"
     ]
    },
    {
     "name": "stdout",
     "output_type": "stream",
     "text": [
      " Saved translated file: 5a6b122c-39c1-4581-8c1f-2d6f36a9f8a0_42.csv\n",
      "\n",
      "Processing file 234 of 490: 5a6b122c-39c1-4581-8c1f-2d6f36a9f8a0_43.csv\n"
     ]
    },
    {
     "name": "stderr",
     "output_type": "stream",
     "text": [
      "Translating OCR Files:  48%|████▊     | 234/490 [1:59:26<4:25:04, 62.13s/file]"
     ]
    },
    {
     "name": "stdout",
     "output_type": "stream",
     "text": [
      " Saved translated file: 5a6b122c-39c1-4581-8c1f-2d6f36a9f8a0_43.csv\n",
      "\n",
      "Processing file 235 of 490: 5a6b122c-39c1-4581-8c1f-2d6f36a9f8a0_5.csv\n"
     ]
    },
    {
     "name": "stderr",
     "output_type": "stream",
     "text": [
      "Translating OCR Files:  48%|████▊     | 235/490 [2:00:18<4:10:20, 58.90s/file]"
     ]
    },
    {
     "name": "stdout",
     "output_type": "stream",
     "text": [
      " Saved translated file: 5a6b122c-39c1-4581-8c1f-2d6f36a9f8a0_5.csv\n",
      "\n",
      "Processing file 236 of 490: 5a6b122c-39c1-4581-8c1f-2d6f36a9f8a0_6.csv\n"
     ]
    },
    {
     "name": "stderr",
     "output_type": "stream",
     "text": [
      "Translating OCR Files:  48%|████▊     | 236/490 [2:01:22<4:15:46, 60.42s/file]"
     ]
    },
    {
     "name": "stdout",
     "output_type": "stream",
     "text": [
      " Saved translated file: 5a6b122c-39c1-4581-8c1f-2d6f36a9f8a0_6.csv\n",
      "\n",
      "Processing file 237 of 490: 5a6b122c-39c1-4581-8c1f-2d6f36a9f8a0_7.csv\n"
     ]
    },
    {
     "name": "stderr",
     "output_type": "stream",
     "text": [
      "Translating OCR Files:  48%|████▊     | 237/490 [2:02:00<3:46:20, 53.68s/file]"
     ]
    },
    {
     "name": "stdout",
     "output_type": "stream",
     "text": [
      " Saved translated file: 5a6b122c-39c1-4581-8c1f-2d6f36a9f8a0_7.csv\n",
      "\n",
      "Processing file 238 of 490: 5a6b122c-39c1-4581-8c1f-2d6f36a9f8a0_8.csv\n"
     ]
    },
    {
     "name": "stderr",
     "output_type": "stream",
     "text": [
      "Translating OCR Files:  49%|████▊     | 238/490 [2:02:24<3:08:43, 44.94s/file]"
     ]
    },
    {
     "name": "stdout",
     "output_type": "stream",
     "text": [
      " Saved translated file: 5a6b122c-39c1-4581-8c1f-2d6f36a9f8a0_8.csv\n",
      "\n",
      "Processing file 239 of 490: 5a6b122c-39c1-4581-8c1f-2d6f36a9f8a0_9.csv\n"
     ]
    },
    {
     "name": "stderr",
     "output_type": "stream",
     "text": [
      "Translating OCR Files:  49%|████▉     | 239/490 [2:02:46<2:39:06, 38.03s/file]"
     ]
    },
    {
     "name": "stdout",
     "output_type": "stream",
     "text": [
      " Saved translated file: 5a6b122c-39c1-4581-8c1f-2d6f36a9f8a0_9.csv\n",
      "\n",
      "Processing file 240 of 490: 5a84cde3-7175-4044-8c88-d4c883a8fd38.csv\n"
     ]
    },
    {
     "name": "stderr",
     "output_type": "stream",
     "text": [
      "Translating OCR Files:  49%|████▉     | 240/490 [2:03:01<2:09:46, 31.15s/file]"
     ]
    },
    {
     "name": "stdout",
     "output_type": "stream",
     "text": [
      " Saved translated file: 5a84cde3-7175-4044-8c88-d4c883a8fd38.csv\n",
      "\n",
      "Processing file 241 of 490: 5ae9bdca-fdf9-4948-8c11-a9e400b331aa.csv\n"
     ]
    },
    {
     "name": "stderr",
     "output_type": "stream",
     "text": [
      "Translating OCR Files:  49%|████▉     | 241/490 [2:03:08<1:39:31, 23.98s/file]"
     ]
    },
    {
     "name": "stdout",
     "output_type": "stream",
     "text": [
      " Saved translated file: 5ae9bdca-fdf9-4948-8c11-a9e400b331aa.csv\n",
      "\n",
      "Processing file 242 of 490: 5d4e3e02-1dfc-469e-8af9-8dbe2b9f1564.csv\n"
     ]
    },
    {
     "name": "stderr",
     "output_type": "stream",
     "text": [
      "Translating OCR Files:  49%|████▉     | 242/490 [2:04:22<2:40:14, 38.77s/file]"
     ]
    },
    {
     "name": "stdout",
     "output_type": "stream",
     "text": [
      " Saved translated file: 5d4e3e02-1dfc-469e-8af9-8dbe2b9f1564.csv\n",
      "\n",
      "Processing file 243 of 490: 5e5bd90e-60c5-402f-b488-750456a81a13_0.csv\n"
     ]
    },
    {
     "name": "stderr",
     "output_type": "stream",
     "text": [
      "Translating OCR Files:  50%|████▉     | 243/490 [2:04:25<1:56:27, 28.29s/file]"
     ]
    },
    {
     "name": "stdout",
     "output_type": "stream",
     "text": [
      " Saved translated file: 5e5bd90e-60c5-402f-b488-750456a81a13_0.csv\n",
      "\n",
      "Processing file 244 of 490: 5e5bd90e-60c5-402f-b488-750456a81a13_1.csv\n"
     ]
    },
    {
     "name": "stderr",
     "output_type": "stream",
     "text": [
      "Translating OCR Files:  50%|████▉     | 244/490 [2:04:27<1:23:03, 20.26s/file]"
     ]
    },
    {
     "name": "stdout",
     "output_type": "stream",
     "text": [
      " Saved translated file: 5e5bd90e-60c5-402f-b488-750456a81a13_1.csv\n",
      "\n",
      "Processing file 245 of 490: 5e5bd90e-60c5-402f-b488-750456a81a13_10.csv\n"
     ]
    },
    {
     "name": "stderr",
     "output_type": "stream",
     "text": [
      "Translating OCR Files:  50%|█████     | 245/490 [2:05:01<1:39:03, 24.26s/file]"
     ]
    },
    {
     "name": "stdout",
     "output_type": "stream",
     "text": [
      " Saved translated file: 5e5bd90e-60c5-402f-b488-750456a81a13_10.csv\n",
      "\n",
      "Processing file 246 of 490: 5e5bd90e-60c5-402f-b488-750456a81a13_11.csv\n"
     ]
    },
    {
     "name": "stderr",
     "output_type": "stream",
     "text": [
      "Translating OCR Files:  50%|█████     | 246/490 [2:05:19<1:31:20, 22.46s/file]"
     ]
    },
    {
     "name": "stdout",
     "output_type": "stream",
     "text": [
      " Saved translated file: 5e5bd90e-60c5-402f-b488-750456a81a13_11.csv\n",
      "\n",
      "Processing file 247 of 490: 5e5bd90e-60c5-402f-b488-750456a81a13_12.csv\n"
     ]
    },
    {
     "name": "stderr",
     "output_type": "stream",
     "text": [
      "Translating OCR Files:  50%|█████     | 247/490 [2:05:35<1:22:48, 20.45s/file]"
     ]
    },
    {
     "name": "stdout",
     "output_type": "stream",
     "text": [
      " Saved translated file: 5e5bd90e-60c5-402f-b488-750456a81a13_12.csv\n",
      "\n",
      "Processing file 248 of 490: 5e5bd90e-60c5-402f-b488-750456a81a13_2.csv\n"
     ]
    },
    {
     "name": "stderr",
     "output_type": "stream",
     "text": [
      "Translating OCR Files:  51%|█████     | 248/490 [2:06:01<1:29:44, 22.25s/file]"
     ]
    },
    {
     "name": "stdout",
     "output_type": "stream",
     "text": [
      " Saved translated file: 5e5bd90e-60c5-402f-b488-750456a81a13_2.csv\n",
      "\n",
      "Processing file 249 of 490: 5e5bd90e-60c5-402f-b488-750456a81a13_3.csv\n"
     ]
    },
    {
     "name": "stderr",
     "output_type": "stream",
     "text": [
      "Translating OCR Files:  51%|█████     | 249/490 [2:07:09<2:24:07, 35.88s/file]"
     ]
    },
    {
     "name": "stdout",
     "output_type": "stream",
     "text": [
      " Saved translated file: 5e5bd90e-60c5-402f-b488-750456a81a13_3.csv\n",
      "\n",
      "Processing file 250 of 490: 5e5bd90e-60c5-402f-b488-750456a81a13_4.csv\n"
     ]
    },
    {
     "name": "stderr",
     "output_type": "stream",
     "text": [
      "Translating OCR Files:  51%|█████     | 250/490 [2:07:35<2:12:23, 33.10s/file]"
     ]
    },
    {
     "name": "stdout",
     "output_type": "stream",
     "text": [
      " Saved translated file: 5e5bd90e-60c5-402f-b488-750456a81a13_4.csv\n",
      "\n",
      "Processing file 251 of 490: 5e5bd90e-60c5-402f-b488-750456a81a13_5.csv\n"
     ]
    },
    {
     "name": "stderr",
     "output_type": "stream",
     "text": [
      "Translating OCR Files:  51%|█████     | 251/490 [2:07:58<1:59:01, 29.88s/file]"
     ]
    },
    {
     "name": "stdout",
     "output_type": "stream",
     "text": [
      " Saved translated file: 5e5bd90e-60c5-402f-b488-750456a81a13_5.csv\n",
      "\n",
      "Processing file 252 of 490: 5e5bd90e-60c5-402f-b488-750456a81a13_6.csv\n"
     ]
    },
    {
     "name": "stderr",
     "output_type": "stream",
     "text": [
      "Translating OCR Files:  51%|█████▏    | 252/490 [2:08:47<2:21:56, 35.78s/file]"
     ]
    },
    {
     "name": "stdout",
     "output_type": "stream",
     "text": [
      " Saved translated file: 5e5bd90e-60c5-402f-b488-750456a81a13_6.csv\n",
      "\n",
      "Processing file 253 of 490: 5e5bd90e-60c5-402f-b488-750456a81a13_7.csv\n"
     ]
    },
    {
     "name": "stderr",
     "output_type": "stream",
     "text": [
      "Translating OCR Files:  52%|█████▏    | 253/490 [2:09:13<2:09:31, 32.79s/file]"
     ]
    },
    {
     "name": "stdout",
     "output_type": "stream",
     "text": [
      " Saved translated file: 5e5bd90e-60c5-402f-b488-750456a81a13_7.csv\n",
      "\n",
      "Processing file 254 of 490: 5e5bd90e-60c5-402f-b488-750456a81a13_8.csv\n"
     ]
    },
    {
     "name": "stderr",
     "output_type": "stream",
     "text": [
      "Translating OCR Files:  52%|█████▏    | 254/490 [2:09:44<2:06:13, 32.09s/file]"
     ]
    },
    {
     "name": "stdout",
     "output_type": "stream",
     "text": [
      " Saved translated file: 5e5bd90e-60c5-402f-b488-750456a81a13_8.csv\n",
      "\n",
      "Processing file 255 of 490: 5e5bd90e-60c5-402f-b488-750456a81a13_9.csv\n"
     ]
    },
    {
     "name": "stderr",
     "output_type": "stream",
     "text": [
      "Translating OCR Files:  52%|█████▏    | 255/490 [2:10:27<2:19:00, 35.49s/file]"
     ]
    },
    {
     "name": "stdout",
     "output_type": "stream",
     "text": [
      " Saved translated file: 5e5bd90e-60c5-402f-b488-750456a81a13_9.csv\n",
      "\n",
      "Processing file 256 of 490: 5ef1d666-e19d-4570-b800-6693a4f680ee.csv\n"
     ]
    },
    {
     "name": "stderr",
     "output_type": "stream",
     "text": [
      "Translating OCR Files:  52%|█████▏    | 256/490 [2:11:00<2:16:02, 34.88s/file]"
     ]
    },
    {
     "name": "stdout",
     "output_type": "stream",
     "text": [
      " Saved translated file: 5ef1d666-e19d-4570-b800-6693a4f680ee.csv\n",
      "\n",
      "Processing file 257 of 490: 62583414-9e32-4d09-8989-b5fa32a98a81.csv\n"
     ]
    },
    {
     "name": "stderr",
     "output_type": "stream",
     "text": [
      "Translating OCR Files:  52%|█████▏    | 257/490 [2:11:06<1:41:06, 26.04s/file]"
     ]
    },
    {
     "name": "stdout",
     "output_type": "stream",
     "text": [
      " Saved translated file: 62583414-9e32-4d09-8989-b5fa32a98a81.csv\n",
      "\n",
      "Processing file 258 of 490: 62ff30cf-de5f-4388-82aa-b69b0fd0f07c.csv\n"
     ]
    },
    {
     "name": "stderr",
     "output_type": "stream",
     "text": [
      "Translating OCR Files:  53%|█████▎    | 258/490 [2:11:14<1:20:30, 20.82s/file]"
     ]
    },
    {
     "name": "stdout",
     "output_type": "stream",
     "text": [
      " Saved translated file: 62ff30cf-de5f-4388-82aa-b69b0fd0f07c.csv\n",
      "\n",
      "Processing file 259 of 490: 645dfc97-3268-4e1d-920d-4138545456fa.csv\n"
     ]
    },
    {
     "name": "stderr",
     "output_type": "stream",
     "text": [
      "Translating OCR Files:  53%|█████▎    | 259/490 [2:11:39<1:24:55, 22.06s/file]"
     ]
    },
    {
     "name": "stdout",
     "output_type": "stream",
     "text": [
      " Saved translated file: 645dfc97-3268-4e1d-920d-4138545456fa.csv\n",
      "\n",
      "Processing file 260 of 490: 64bba692-d430-440c-9f1e-2575f45770af_0.csv\n"
     ]
    },
    {
     "name": "stderr",
     "output_type": "stream",
     "text": [
      "Translating OCR Files:  53%|█████▎    | 260/490 [2:11:44<1:04:44, 16.89s/file]"
     ]
    },
    {
     "name": "stdout",
     "output_type": "stream",
     "text": [
      " Saved translated file: 64bba692-d430-440c-9f1e-2575f45770af_0.csv\n",
      "\n",
      "Processing file 261 of 490: 64bba692-d430-440c-9f1e-2575f45770af_1.csv\n"
     ]
    },
    {
     "name": "stderr",
     "output_type": "stream",
     "text": [
      "Translating OCR Files:  53%|█████▎    | 261/490 [2:12:02<1:05:38, 17.20s/file]"
     ]
    },
    {
     "name": "stdout",
     "output_type": "stream",
     "text": [
      " Saved translated file: 64bba692-d430-440c-9f1e-2575f45770af_1.csv\n",
      "\n",
      "Processing file 262 of 490: 64bba692-d430-440c-9f1e-2575f45770af_10.csv\n"
     ]
    },
    {
     "name": "stderr",
     "output_type": "stream",
     "text": [
      "Translating OCR Files:  53%|█████▎    | 262/490 [2:12:18<1:04:16, 16.92s/file]"
     ]
    },
    {
     "name": "stdout",
     "output_type": "stream",
     "text": [
      " Saved translated file: 64bba692-d430-440c-9f1e-2575f45770af_10.csv\n",
      "\n",
      "Processing file 263 of 490: 64bba692-d430-440c-9f1e-2575f45770af_11.csv\n"
     ]
    },
    {
     "name": "stderr",
     "output_type": "stream",
     "text": [
      "Translating OCR Files:  54%|█████▎    | 263/490 [2:12:48<1:18:11, 20.67s/file]"
     ]
    },
    {
     "name": "stdout",
     "output_type": "stream",
     "text": [
      " Saved translated file: 64bba692-d430-440c-9f1e-2575f45770af_11.csv\n",
      "\n",
      "Processing file 264 of 490: 64bba692-d430-440c-9f1e-2575f45770af_12.csv\n"
     ]
    },
    {
     "name": "stderr",
     "output_type": "stream",
     "text": [
      "Translating OCR Files:  54%|█████▍    | 264/490 [2:13:13<1:22:58, 22.03s/file]"
     ]
    },
    {
     "name": "stdout",
     "output_type": "stream",
     "text": [
      " Saved translated file: 64bba692-d430-440c-9f1e-2575f45770af_12.csv\n",
      "\n",
      "Processing file 265 of 490: 64bba692-d430-440c-9f1e-2575f45770af_2.csv\n"
     ]
    },
    {
     "name": "stderr",
     "output_type": "stream",
     "text": [
      "Translating OCR Files:  54%|█████▍    | 265/490 [2:13:59<1:49:22, 29.17s/file]"
     ]
    },
    {
     "name": "stdout",
     "output_type": "stream",
     "text": [
      " Saved translated file: 64bba692-d430-440c-9f1e-2575f45770af_2.csv\n",
      "\n",
      "Processing file 266 of 490: 64bba692-d430-440c-9f1e-2575f45770af_3.csv\n"
     ]
    },
    {
     "name": "stderr",
     "output_type": "stream",
     "text": [
      "Translating OCR Files:  54%|█████▍    | 266/490 [2:14:21<1:41:01, 27.06s/file]"
     ]
    },
    {
     "name": "stdout",
     "output_type": "stream",
     "text": [
      " Saved translated file: 64bba692-d430-440c-9f1e-2575f45770af_3.csv\n",
      "\n",
      "Processing file 267 of 490: 64bba692-d430-440c-9f1e-2575f45770af_4.csv\n"
     ]
    },
    {
     "name": "stderr",
     "output_type": "stream",
     "text": [
      "Translating OCR Files:  54%|█████▍    | 267/490 [2:14:35<1:25:39, 23.05s/file]"
     ]
    },
    {
     "name": "stdout",
     "output_type": "stream",
     "text": [
      " Saved translated file: 64bba692-d430-440c-9f1e-2575f45770af_4.csv\n",
      "\n",
      "Processing file 268 of 490: 64bba692-d430-440c-9f1e-2575f45770af_5.csv\n"
     ]
    },
    {
     "name": "stderr",
     "output_type": "stream",
     "text": [
      "Translating OCR Files:  55%|█████▍    | 268/490 [2:14:44<1:10:21, 19.02s/file]"
     ]
    },
    {
     "name": "stdout",
     "output_type": "stream",
     "text": [
      " Saved translated file: 64bba692-d430-440c-9f1e-2575f45770af_5.csv\n",
      "\n",
      "Processing file 269 of 490: 64bba692-d430-440c-9f1e-2575f45770af_6.csv\n"
     ]
    },
    {
     "name": "stderr",
     "output_type": "stream",
     "text": [
      "Translating OCR Files:  55%|█████▍    | 269/490 [2:15:11<1:18:19, 21.26s/file]"
     ]
    },
    {
     "name": "stdout",
     "output_type": "stream",
     "text": [
      " Saved translated file: 64bba692-d430-440c-9f1e-2575f45770af_6.csv\n",
      "\n",
      "Processing file 270 of 490: 64bba692-d430-440c-9f1e-2575f45770af_7.csv\n"
     ]
    },
    {
     "name": "stderr",
     "output_type": "stream",
     "text": [
      "Translating OCR Files:  55%|█████▌    | 270/490 [2:15:36<1:21:53, 22.33s/file]"
     ]
    },
    {
     "name": "stdout",
     "output_type": "stream",
     "text": [
      " Saved translated file: 64bba692-d430-440c-9f1e-2575f45770af_7.csv\n",
      "\n",
      "Processing file 271 of 490: 64bba692-d430-440c-9f1e-2575f45770af_8.csv\n"
     ]
    },
    {
     "name": "stderr",
     "output_type": "stream",
     "text": [
      "Translating OCR Files:  55%|█████▌    | 271/490 [2:15:54<1:17:27, 21.22s/file]"
     ]
    },
    {
     "name": "stdout",
     "output_type": "stream",
     "text": [
      " Saved translated file: 64bba692-d430-440c-9f1e-2575f45770af_8.csv\n",
      "\n",
      "Processing file 272 of 490: 64bba692-d430-440c-9f1e-2575f45770af_9.csv\n"
     ]
    },
    {
     "name": "stderr",
     "output_type": "stream",
     "text": [
      "Translating OCR Files:  56%|█████▌    | 272/490 [2:16:08<1:09:02, 19.00s/file]"
     ]
    },
    {
     "name": "stdout",
     "output_type": "stream",
     "text": [
      " Saved translated file: 64bba692-d430-440c-9f1e-2575f45770af_9.csv\n",
      "\n",
      "Processing file 273 of 490: 6848748d-2881-4c26-b153-fcd5373d2f1c.csv\n"
     ]
    },
    {
     "name": "stderr",
     "output_type": "stream",
     "text": [
      "Translating OCR Files:  56%|█████▌    | 273/490 [2:16:37<1:20:00, 22.12s/file]"
     ]
    },
    {
     "name": "stdout",
     "output_type": "stream",
     "text": [
      " Saved translated file: 6848748d-2881-4c26-b153-fcd5373d2f1c.csv\n",
      "\n",
      "Processing file 274 of 490: 6bcc0131-e4ad-421e-bb1f-d8ebe5eeec7b.csv\n"
     ]
    },
    {
     "name": "stderr",
     "output_type": "stream",
     "text": [
      "Translating OCR Files:  56%|█████▌    | 274/490 [2:16:40<58:09, 16.15s/file]  "
     ]
    },
    {
     "name": "stdout",
     "output_type": "stream",
     "text": [
      " Saved translated file: 6bcc0131-e4ad-421e-bb1f-d8ebe5eeec7b.csv\n",
      "\n",
      "Processing file 275 of 490: 6cbb3eeb-17e9-4af6-8da1-36eb6437f7bc.csv\n"
     ]
    },
    {
     "name": "stderr",
     "output_type": "stream",
     "text": [
      "Translating OCR Files:  56%|█████▌    | 275/490 [2:16:59<1:01:02, 17.03s/file]"
     ]
    },
    {
     "name": "stdout",
     "output_type": "stream",
     "text": [
      " Saved translated file: 6cbb3eeb-17e9-4af6-8da1-36eb6437f7bc.csv\n",
      "\n",
      "Processing file 276 of 490: 6d7fc7b3-c892-4cb5-bd4b-a5713c089d88_0.csv\n"
     ]
    },
    {
     "name": "stderr",
     "output_type": "stream",
     "text": [
      "Translating OCR Files:  56%|█████▋    | 276/490 [2:17:54<1:41:59, 28.60s/file]"
     ]
    },
    {
     "name": "stdout",
     "output_type": "stream",
     "text": [
      " Saved translated file: 6d7fc7b3-c892-4cb5-bd4b-a5713c089d88_0.csv\n",
      "\n",
      "Processing file 277 of 490: 6e9aced1-df28-4e57-b7c8-641609ff4450.csv\n"
     ]
    },
    {
     "name": "stderr",
     "output_type": "stream",
     "text": [
      "Translating OCR Files:  57%|█████▋    | 277/490 [2:18:29<1:48:18, 30.51s/file]"
     ]
    },
    {
     "name": "stdout",
     "output_type": "stream",
     "text": [
      " Saved translated file: 6e9aced1-df28-4e57-b7c8-641609ff4450.csv\n",
      "\n",
      "Processing file 278 of 490: 70c63791-2797-4bf0-a778-ea08819aa9de.csv\n"
     ]
    },
    {
     "name": "stderr",
     "output_type": "stream",
     "text": [
      "Translating OCR Files:  57%|█████▋    | 278/490 [2:18:50<1:36:53, 27.42s/file]"
     ]
    },
    {
     "name": "stdout",
     "output_type": "stream",
     "text": [
      " Saved translated file: 70c63791-2797-4bf0-a778-ea08819aa9de.csv\n",
      "\n",
      "Processing file 279 of 490: 7150f512-e7a2-4f2c-86bc-58b671b25ba9.csv\n"
     ]
    },
    {
     "name": "stderr",
     "output_type": "stream",
     "text": [
      "Translating OCR Files:  57%|█████▋    | 279/490 [2:18:56<1:14:06, 21.07s/file]"
     ]
    },
    {
     "name": "stdout",
     "output_type": "stream",
     "text": [
      " Saved translated file: 7150f512-e7a2-4f2c-86bc-58b671b25ba9.csv\n",
      "\n",
      "Processing file 280 of 490: 785cc8c9-1225-4f93-b633-349bc5113512.csv\n"
     ]
    },
    {
     "name": "stderr",
     "output_type": "stream",
     "text": [
      "Translating OCR Files:  57%|█████▋    | 280/490 [2:19:03<59:09, 16.90s/file]  "
     ]
    },
    {
     "name": "stdout",
     "output_type": "stream",
     "text": [
      " Saved translated file: 785cc8c9-1225-4f93-b633-349bc5113512.csv\n",
      "\n",
      "Processing file 281 of 490: 79d9b7f2-cfe4-4615-9b75-8fea33fc0c9d.csv\n"
     ]
    },
    {
     "name": "stderr",
     "output_type": "stream",
     "text": [
      "Translating OCR Files:  57%|█████▋    | 281/490 [2:19:08<46:08, 13.25s/file]"
     ]
    },
    {
     "name": "stdout",
     "output_type": "stream",
     "text": [
      " Saved translated file: 79d9b7f2-cfe4-4615-9b75-8fea33fc0c9d.csv\n",
      "\n",
      "Processing file 282 of 490: 912204cb-8ab7-48b8-9abf-d803f3804d08_0.csv\n"
     ]
    },
    {
     "name": "stderr",
     "output_type": "stream",
     "text": [
      "Translating OCR Files:  58%|█████▊    | 282/490 [2:19:12<37:00, 10.67s/file]"
     ]
    },
    {
     "name": "stdout",
     "output_type": "stream",
     "text": [
      " Saved translated file: 912204cb-8ab7-48b8-9abf-d803f3804d08_0.csv\n",
      "\n",
      "Processing file 283 of 490: 912204cb-8ab7-48b8-9abf-d803f3804d08_1.csv\n"
     ]
    },
    {
     "name": "stderr",
     "output_type": "stream",
     "text": [
      "Translating OCR Files:  58%|█████▊    | 283/490 [2:19:17<31:02,  9.00s/file]"
     ]
    },
    {
     "name": "stdout",
     "output_type": "stream",
     "text": [
      " Saved translated file: 912204cb-8ab7-48b8-9abf-d803f3804d08_1.csv\n",
      "\n",
      "Processing file 284 of 490: 912204cb-8ab7-48b8-9abf-d803f3804d08_10.csv\n"
     ]
    },
    {
     "name": "stderr",
     "output_type": "stream",
     "text": [
      "Translating OCR Files:  58%|█████▊    | 284/490 [2:19:48<52:37, 15.33s/file]"
     ]
    },
    {
     "name": "stdout",
     "output_type": "stream",
     "text": [
      " Saved translated file: 912204cb-8ab7-48b8-9abf-d803f3804d08_10.csv\n",
      "\n",
      "Processing file 285 of 490: 912204cb-8ab7-48b8-9abf-d803f3804d08_11.csv\n"
     ]
    },
    {
     "name": "stderr",
     "output_type": "stream",
     "text": [
      "Translating OCR Files:  58%|█████▊    | 285/490 [2:20:32<1:22:27, 24.14s/file]"
     ]
    },
    {
     "name": "stdout",
     "output_type": "stream",
     "text": [
      " Saved translated file: 912204cb-8ab7-48b8-9abf-d803f3804d08_11.csv\n",
      "\n",
      "Processing file 286 of 490: 912204cb-8ab7-48b8-9abf-d803f3804d08_12.csv\n"
     ]
    },
    {
     "name": "stderr",
     "output_type": "stream",
     "text": [
      "Translating OCR Files:  58%|█████▊    | 286/490 [2:21:46<2:13:08, 39.16s/file]"
     ]
    },
    {
     "name": "stdout",
     "output_type": "stream",
     "text": [
      " Saved translated file: 912204cb-8ab7-48b8-9abf-d803f3804d08_12.csv\n",
      "\n",
      "Processing file 287 of 490: 912204cb-8ab7-48b8-9abf-d803f3804d08_2.csv\n"
     ]
    },
    {
     "name": "stderr",
     "output_type": "stream",
     "text": [
      "Translating OCR Files:  59%|█████▊    | 287/490 [2:23:12<2:59:20, 53.01s/file]"
     ]
    },
    {
     "name": "stdout",
     "output_type": "stream",
     "text": [
      " Saved translated file: 912204cb-8ab7-48b8-9abf-d803f3804d08_2.csv\n",
      "\n",
      "Processing file 288 of 490: 912204cb-8ab7-48b8-9abf-d803f3804d08_3.csv\n"
     ]
    },
    {
     "name": "stderr",
     "output_type": "stream",
     "text": [
      "Translating OCR Files:  59%|█████▉    | 288/490 [2:24:12<3:05:28, 55.09s/file]"
     ]
    },
    {
     "name": "stdout",
     "output_type": "stream",
     "text": [
      " Saved translated file: 912204cb-8ab7-48b8-9abf-d803f3804d08_3.csv\n",
      "\n",
      "Processing file 289 of 490: 912204cb-8ab7-48b8-9abf-d803f3804d08_4.csv\n"
     ]
    },
    {
     "name": "stderr",
     "output_type": "stream",
     "text": [
      "Translating OCR Files:  59%|█████▉    | 289/490 [2:24:29<2:26:28, 43.72s/file]"
     ]
    },
    {
     "name": "stdout",
     "output_type": "stream",
     "text": [
      " Saved translated file: 912204cb-8ab7-48b8-9abf-d803f3804d08_4.csv\n",
      "\n",
      "Processing file 290 of 490: 912204cb-8ab7-48b8-9abf-d803f3804d08_5.csv\n"
     ]
    },
    {
     "name": "stderr",
     "output_type": "stream",
     "text": [
      "Translating OCR Files:  59%|█████▉    | 290/490 [2:24:56<2:08:46, 38.63s/file]"
     ]
    },
    {
     "name": "stdout",
     "output_type": "stream",
     "text": [
      " Saved translated file: 912204cb-8ab7-48b8-9abf-d803f3804d08_5.csv\n",
      "\n",
      "Processing file 291 of 490: 912204cb-8ab7-48b8-9abf-d803f3804d08_6.csv\n"
     ]
    },
    {
     "name": "stderr",
     "output_type": "stream",
     "text": [
      "Translating OCR Files:  59%|█████▉    | 291/490 [2:25:37<2:10:51, 39.46s/file]"
     ]
    },
    {
     "name": "stdout",
     "output_type": "stream",
     "text": [
      " Saved translated file: 912204cb-8ab7-48b8-9abf-d803f3804d08_6.csv\n",
      "\n",
      "Processing file 292 of 490: 912204cb-8ab7-48b8-9abf-d803f3804d08_7.csv\n"
     ]
    },
    {
     "name": "stderr",
     "output_type": "stream",
     "text": [
      "Translating OCR Files:  60%|█████▉    | 292/490 [2:25:47<1:41:22, 30.72s/file]"
     ]
    },
    {
     "name": "stdout",
     "output_type": "stream",
     "text": [
      " Saved translated file: 912204cb-8ab7-48b8-9abf-d803f3804d08_7.csv\n",
      "\n",
      "Processing file 293 of 490: 912204cb-8ab7-48b8-9abf-d803f3804d08_8.csv\n"
     ]
    },
    {
     "name": "stderr",
     "output_type": "stream",
     "text": [
      "Translating OCR Files:  60%|█████▉    | 293/490 [2:25:58<1:20:56, 24.65s/file]"
     ]
    },
    {
     "name": "stdout",
     "output_type": "stream",
     "text": [
      " Saved translated file: 912204cb-8ab7-48b8-9abf-d803f3804d08_8.csv\n",
      "\n",
      "Processing file 294 of 490: 912204cb-8ab7-48b8-9abf-d803f3804d08_9.csv\n"
     ]
    },
    {
     "name": "stderr",
     "output_type": "stream",
     "text": [
      "Translating OCR Files:  60%|██████    | 294/490 [2:26:12<1:10:35, 21.61s/file]"
     ]
    },
    {
     "name": "stdout",
     "output_type": "stream",
     "text": [
      " Saved translated file: 912204cb-8ab7-48b8-9abf-d803f3804d08_9.csv\n",
      "\n",
      "Processing file 295 of 490: 94b16e53-f035-4aa9-a76e-80bc6e936d10.csv\n"
     ]
    },
    {
     "name": "stderr",
     "output_type": "stream",
     "text": [
      "Translating OCR Files:  60%|██████    | 295/490 [2:26:16<53:07, 16.34s/file]  "
     ]
    },
    {
     "name": "stdout",
     "output_type": "stream",
     "text": [
      " Saved translated file: 94b16e53-f035-4aa9-a76e-80bc6e936d10.csv\n",
      "\n",
      "Processing file 296 of 490: 96af60b3-299c-4e26-bca3-d9eb3e113b94.csv\n"
     ]
    },
    {
     "name": "stderr",
     "output_type": "stream",
     "text": [
      "Translating OCR Files:  60%|██████    | 296/490 [2:26:42<1:01:19, 18.97s/file]"
     ]
    },
    {
     "name": "stdout",
     "output_type": "stream",
     "text": [
      " Saved translated file: 96af60b3-299c-4e26-bca3-d9eb3e113b94.csv\n",
      "\n",
      "Processing file 297 of 490: 987ba39a-cc1c-4367-8d6d-f5a49a940198.csv\n"
     ]
    },
    {
     "name": "stderr",
     "output_type": "stream",
     "text": [
      "Translating OCR Files:  61%|██████    | 297/490 [2:26:47<48:22, 15.04s/file]  "
     ]
    },
    {
     "name": "stdout",
     "output_type": "stream",
     "text": [
      " Saved translated file: 987ba39a-cc1c-4367-8d6d-f5a49a940198.csv\n",
      "\n",
      "Processing file 298 of 490: 9a8077f5-ac41-491f-b192-6b4609324bda.csv\n"
     ]
    },
    {
     "name": "stderr",
     "output_type": "stream",
     "text": [
      "Translating OCR Files:  61%|██████    | 298/490 [2:26:50<35:59, 11.25s/file]"
     ]
    },
    {
     "name": "stdout",
     "output_type": "stream",
     "text": [
      " Saved translated file: 9a8077f5-ac41-491f-b192-6b4609324bda.csv\n",
      "\n",
      "Processing file 299 of 490: 9c8c9989-2293-4e68-9ffe-6f7a5f14562f.csv\n"
     ]
    },
    {
     "name": "stderr",
     "output_type": "stream",
     "text": [
      "Translating OCR Files:  61%|██████    | 299/490 [2:26:53<28:19,  8.90s/file]"
     ]
    },
    {
     "name": "stdout",
     "output_type": "stream",
     "text": [
      " Saved translated file: 9c8c9989-2293-4e68-9ffe-6f7a5f14562f.csv\n",
      "\n",
      "Processing file 300 of 490: 9d7bc879-3250-4013-ac04-5ff9bd6dff40_0.csv\n"
     ]
    },
    {
     "name": "stderr",
     "output_type": "stream",
     "text": [
      "Translating OCR Files:  61%|██████    | 300/490 [2:27:48<1:11:49, 22.68s/file]"
     ]
    },
    {
     "name": "stdout",
     "output_type": "stream",
     "text": [
      " Saved translated file: 9d7bc879-3250-4013-ac04-5ff9bd6dff40_0.csv\n",
      "\n",
      "Processing file 301 of 490: 9d7bc879-3250-4013-ac04-5ff9bd6dff40_1.csv\n"
     ]
    },
    {
     "name": "stderr",
     "output_type": "stream",
     "text": [
      "Translating OCR Files:  61%|██████▏   | 301/490 [2:28:02<1:03:23, 20.13s/file]"
     ]
    },
    {
     "name": "stdout",
     "output_type": "stream",
     "text": [
      " Saved translated file: 9d7bc879-3250-4013-ac04-5ff9bd6dff40_1.csv\n",
      "\n",
      "Processing file 302 of 490: 9fd06037-11f1-4ad5-9a7d-cbfb3fa4193b_0.csv\n"
     ]
    },
    {
     "name": "stderr",
     "output_type": "stream",
     "text": [
      "Translating OCR Files:  62%|██████▏   | 302/490 [2:28:22<1:02:58, 20.10s/file]"
     ]
    },
    {
     "name": "stdout",
     "output_type": "stream",
     "text": [
      " Saved translated file: 9fd06037-11f1-4ad5-9a7d-cbfb3fa4193b_0.csv\n",
      "\n",
      "Processing file 303 of 490: 9fd06037-11f1-4ad5-9a7d-cbfb3fa4193b_1.csv\n"
     ]
    },
    {
     "name": "stderr",
     "output_type": "stream",
     "text": [
      "Translating OCR Files:  62%|██████▏   | 303/490 [2:29:19<1:36:42, 31.03s/file]"
     ]
    },
    {
     "name": "stdout",
     "output_type": "stream",
     "text": [
      " Saved translated file: 9fd06037-11f1-4ad5-9a7d-cbfb3fa4193b_1.csv\n",
      "\n",
      "Processing file 304 of 490: 9fd06037-11f1-4ad5-9a7d-cbfb3fa4193b_2.csv\n"
     ]
    },
    {
     "name": "stderr",
     "output_type": "stream",
     "text": [
      "Translating OCR Files:  62%|██████▏   | 304/490 [2:29:28<1:15:45, 24.44s/file]"
     ]
    },
    {
     "name": "stdout",
     "output_type": "stream",
     "text": [
      " Saved translated file: 9fd06037-11f1-4ad5-9a7d-cbfb3fa4193b_2.csv\n",
      "\n",
      "Processing file 305 of 490: 9fe6b262-9944-417d-a0c4-9f2de1de2994_0.csv\n"
     ]
    },
    {
     "name": "stderr",
     "output_type": "stream",
     "text": [
      "Translating OCR Files:  62%|██████▏   | 305/490 [2:29:32<57:01, 18.49s/file]  "
     ]
    },
    {
     "name": "stdout",
     "output_type": "stream",
     "text": [
      " Saved translated file: 9fe6b262-9944-417d-a0c4-9f2de1de2994_0.csv\n",
      "\n",
      "Processing file 306 of 490: 9fe6b262-9944-417d-a0c4-9f2de1de2994_1.csv\n"
     ]
    },
    {
     "name": "stderr",
     "output_type": "stream",
     "text": [
      "Translating OCR Files:  62%|██████▏   | 306/490 [2:29:45<50:47, 16.56s/file]"
     ]
    },
    {
     "name": "stdout",
     "output_type": "stream",
     "text": [
      " Saved translated file: 9fe6b262-9944-417d-a0c4-9f2de1de2994_1.csv\n",
      "\n",
      "Processing file 307 of 490: 9fe6b262-9944-417d-a0c4-9f2de1de2994_10.csv\n"
     ]
    },
    {
     "name": "stderr",
     "output_type": "stream",
     "text": [
      "Translating OCR Files:  63%|██████▎   | 307/490 [2:29:59<48:24, 15.87s/file]"
     ]
    },
    {
     "name": "stdout",
     "output_type": "stream",
     "text": [
      " Saved translated file: 9fe6b262-9944-417d-a0c4-9f2de1de2994_10.csv\n",
      "\n",
      "Processing file 308 of 490: 9fe6b262-9944-417d-a0c4-9f2de1de2994_11.csv\n"
     ]
    },
    {
     "name": "stderr",
     "output_type": "stream",
     "text": [
      "Translating OCR Files:  63%|██████▎   | 308/490 [2:30:23<55:49, 18.40s/file]"
     ]
    },
    {
     "name": "stdout",
     "output_type": "stream",
     "text": [
      " Saved translated file: 9fe6b262-9944-417d-a0c4-9f2de1de2994_11.csv\n",
      "\n",
      "Processing file 309 of 490: 9fe6b262-9944-417d-a0c4-9f2de1de2994_12.csv\n"
     ]
    },
    {
     "name": "stderr",
     "output_type": "stream",
     "text": [
      "Translating OCR Files:  63%|██████▎   | 309/490 [2:30:39<53:19, 17.68s/file]"
     ]
    },
    {
     "name": "stdout",
     "output_type": "stream",
     "text": [
      " Saved translated file: 9fe6b262-9944-417d-a0c4-9f2de1de2994_12.csv\n",
      "\n",
      "Processing file 310 of 490: 9fe6b262-9944-417d-a0c4-9f2de1de2994_13.csv\n"
     ]
    },
    {
     "name": "stderr",
     "output_type": "stream",
     "text": [
      "Translating OCR Files:  63%|██████▎   | 310/490 [2:30:57<52:55, 17.64s/file]"
     ]
    },
    {
     "name": "stdout",
     "output_type": "stream",
     "text": [
      " Saved translated file: 9fe6b262-9944-417d-a0c4-9f2de1de2994_13.csv\n",
      "\n",
      "Processing file 311 of 490: 9fe6b262-9944-417d-a0c4-9f2de1de2994_14.csv\n"
     ]
    },
    {
     "name": "stderr",
     "output_type": "stream",
     "text": [
      "Translating OCR Files:  63%|██████▎   | 311/490 [2:31:25<1:02:01, 20.79s/file]"
     ]
    },
    {
     "name": "stdout",
     "output_type": "stream",
     "text": [
      " Saved translated file: 9fe6b262-9944-417d-a0c4-9f2de1de2994_14.csv\n",
      "\n",
      "Processing file 312 of 490: 9fe6b262-9944-417d-a0c4-9f2de1de2994_15.csv\n"
     ]
    },
    {
     "name": "stderr",
     "output_type": "stream",
     "text": [
      "Translating OCR Files:  64%|██████▎   | 312/490 [2:31:49<1:04:49, 21.85s/file]"
     ]
    },
    {
     "name": "stdout",
     "output_type": "stream",
     "text": [
      " Saved translated file: 9fe6b262-9944-417d-a0c4-9f2de1de2994_15.csv\n",
      "\n",
      "Processing file 313 of 490: 9fe6b262-9944-417d-a0c4-9f2de1de2994_16.csv\n"
     ]
    },
    {
     "name": "stderr",
     "output_type": "stream",
     "text": [
      "Translating OCR Files:  64%|██████▍   | 313/490 [2:32:37<1:27:42, 29.73s/file]"
     ]
    },
    {
     "name": "stdout",
     "output_type": "stream",
     "text": [
      " Saved translated file: 9fe6b262-9944-417d-a0c4-9f2de1de2994_16.csv\n",
      "\n",
      "Processing file 314 of 490: 9fe6b262-9944-417d-a0c4-9f2de1de2994_17.csv\n"
     ]
    },
    {
     "name": "stderr",
     "output_type": "stream",
     "text": [
      "Translating OCR Files:  64%|██████▍   | 314/490 [2:34:07<2:20:22, 47.85s/file]"
     ]
    },
    {
     "name": "stdout",
     "output_type": "stream",
     "text": [
      "Ollama error: HTTPConnectionPool(host='localhost', port=11434): Read timed out. (read timeout=90)\n",
      " Saved translated file: 9fe6b262-9944-417d-a0c4-9f2de1de2994_17.csv\n",
      "\n",
      "Processing file 315 of 490: 9fe6b262-9944-417d-a0c4-9f2de1de2994_18.csv\n"
     ]
    },
    {
     "name": "stderr",
     "output_type": "stream",
     "text": [
      "Translating OCR Files:  64%|██████▍   | 315/490 [2:34:30<1:57:04, 40.14s/file]"
     ]
    },
    {
     "name": "stdout",
     "output_type": "stream",
     "text": [
      " Saved translated file: 9fe6b262-9944-417d-a0c4-9f2de1de2994_18.csv\n",
      "\n",
      "Processing file 316 of 490: 9fe6b262-9944-417d-a0c4-9f2de1de2994_2.csv\n"
     ]
    },
    {
     "name": "stderr",
     "output_type": "stream",
     "text": [
      "Translating OCR Files:  64%|██████▍   | 316/490 [2:34:45<1:34:41, 32.65s/file]"
     ]
    },
    {
     "name": "stdout",
     "output_type": "stream",
     "text": [
      " Saved translated file: 9fe6b262-9944-417d-a0c4-9f2de1de2994_2.csv\n",
      "\n",
      "Processing file 317 of 490: 9fe6b262-9944-417d-a0c4-9f2de1de2994_3.csv\n"
     ]
    },
    {
     "name": "stderr",
     "output_type": "stream",
     "text": [
      "Translating OCR Files:  65%|██████▍   | 317/490 [2:36:04<2:14:29, 46.64s/file]"
     ]
    },
    {
     "name": "stdout",
     "output_type": "stream",
     "text": [
      " Saved translated file: 9fe6b262-9944-417d-a0c4-9f2de1de2994_3.csv\n",
      "\n",
      "Processing file 318 of 490: 9fe6b262-9944-417d-a0c4-9f2de1de2994_4.csv\n"
     ]
    },
    {
     "name": "stderr",
     "output_type": "stream",
     "text": [
      "Translating OCR Files:  65%|██████▍   | 318/490 [2:36:22<1:49:21, 38.15s/file]"
     ]
    },
    {
     "name": "stdout",
     "output_type": "stream",
     "text": [
      " Saved translated file: 9fe6b262-9944-417d-a0c4-9f2de1de2994_4.csv\n",
      "\n",
      "Processing file 319 of 490: 9fe6b262-9944-417d-a0c4-9f2de1de2994_5.csv\n"
     ]
    },
    {
     "name": "stderr",
     "output_type": "stream",
     "text": [
      "Translating OCR Files:  65%|██████▌   | 319/490 [2:37:14<2:00:07, 42.15s/file]"
     ]
    },
    {
     "name": "stdout",
     "output_type": "stream",
     "text": [
      " Saved translated file: 9fe6b262-9944-417d-a0c4-9f2de1de2994_5.csv\n",
      "\n",
      "Processing file 320 of 490: 9fe6b262-9944-417d-a0c4-9f2de1de2994_6.csv\n"
     ]
    },
    {
     "name": "stderr",
     "output_type": "stream",
     "text": [
      "Translating OCR Files:  65%|██████▌   | 320/490 [2:37:36<1:42:41, 36.24s/file]"
     ]
    },
    {
     "name": "stdout",
     "output_type": "stream",
     "text": [
      " Saved translated file: 9fe6b262-9944-417d-a0c4-9f2de1de2994_6.csv\n",
      "\n",
      "Processing file 321 of 490: 9fe6b262-9944-417d-a0c4-9f2de1de2994_7.csv\n"
     ]
    },
    {
     "name": "stderr",
     "output_type": "stream",
     "text": [
      "Translating OCR Files:  66%|██████▌   | 321/490 [2:38:09<1:38:57, 35.13s/file]"
     ]
    },
    {
     "name": "stdout",
     "output_type": "stream",
     "text": [
      " Saved translated file: 9fe6b262-9944-417d-a0c4-9f2de1de2994_7.csv\n",
      "\n",
      "Processing file 322 of 490: 9fe6b262-9944-417d-a0c4-9f2de1de2994_8.csv\n"
     ]
    },
    {
     "name": "stderr",
     "output_type": "stream",
     "text": [
      "Translating OCR Files:  66%|██████▌   | 322/490 [2:38:30<1:26:59, 31.07s/file]"
     ]
    },
    {
     "name": "stdout",
     "output_type": "stream",
     "text": [
      " Saved translated file: 9fe6b262-9944-417d-a0c4-9f2de1de2994_8.csv\n",
      "\n",
      "Processing file 323 of 490: 9fe6b262-9944-417d-a0c4-9f2de1de2994_9.csv\n"
     ]
    },
    {
     "name": "stderr",
     "output_type": "stream",
     "text": [
      "Translating OCR Files:  66%|██████▌   | 323/490 [2:39:04<1:28:59, 31.97s/file]"
     ]
    },
    {
     "name": "stdout",
     "output_type": "stream",
     "text": [
      " Saved translated file: 9fe6b262-9944-417d-a0c4-9f2de1de2994_9.csv\n",
      "\n",
      "Processing file 324 of 490: a1ba4d8b-f382-44c4-ac3f-746a44746bb4_0.csv\n"
     ]
    },
    {
     "name": "stderr",
     "output_type": "stream",
     "text": [
      "Translating OCR Files:  66%|██████▌   | 324/490 [2:40:34<2:16:04, 49.18s/file]"
     ]
    },
    {
     "name": "stdout",
     "output_type": "stream",
     "text": [
      " Saved translated file: a1ba4d8b-f382-44c4-ac3f-746a44746bb4_0.csv\n",
      "\n",
      "Processing file 325 of 490: a1ba4d8b-f382-44c4-ac3f-746a44746bb4_1.csv\n"
     ]
    },
    {
     "name": "stderr",
     "output_type": "stream",
     "text": [
      "Translating OCR Files:  66%|██████▋   | 325/490 [2:40:40<1:40:04, 36.39s/file]"
     ]
    },
    {
     "name": "stdout",
     "output_type": "stream",
     "text": [
      " Saved translated file: a1ba4d8b-f382-44c4-ac3f-746a44746bb4_1.csv\n",
      "\n",
      "Processing file 326 of 490: aa99f763-6849-4f6b-adf2-58f0cc2ed545.csv\n"
     ]
    },
    {
     "name": "stderr",
     "output_type": "stream",
     "text": [
      "Translating OCR Files:  67%|██████▋   | 326/490 [2:40:50<1:17:40, 28.42s/file]"
     ]
    },
    {
     "name": "stdout",
     "output_type": "stream",
     "text": [
      " Saved translated file: aa99f763-6849-4f6b-adf2-58f0cc2ed545.csv\n",
      "\n",
      "Processing file 327 of 490: adaf869e-920a-4a17-91bd-e2ef3125c10e.csv\n"
     ]
    },
    {
     "name": "stderr",
     "output_type": "stream",
     "text": [
      "Translating OCR Files:  67%|██████▋   | 327/490 [2:41:01<1:03:15, 23.29s/file]"
     ]
    },
    {
     "name": "stdout",
     "output_type": "stream",
     "text": [
      " Saved translated file: adaf869e-920a-4a17-91bd-e2ef3125c10e.csv\n",
      "\n",
      "Processing file 328 of 490: aedc6a39-7862-4bbc-99e7-780ab3980282_1_0.csv\n"
     ]
    },
    {
     "name": "stderr",
     "output_type": "stream",
     "text": [
      "Translating OCR Files:  67%|██████▋   | 328/490 [2:41:10<51:15, 18.98s/file]  "
     ]
    },
    {
     "name": "stdout",
     "output_type": "stream",
     "text": [
      " Saved translated file: aedc6a39-7862-4bbc-99e7-780ab3980282_1_0.csv\n",
      "\n",
      "Processing file 329 of 490: aedc6a39-7862-4bbc-99e7-780ab3980282_2_0.csv\n"
     ]
    },
    {
     "name": "stderr",
     "output_type": "stream",
     "text": [
      "Translating OCR Files:  67%|██████▋   | 329/490 [2:42:17<1:29:37, 33.40s/file]"
     ]
    },
    {
     "name": "stdout",
     "output_type": "stream",
     "text": [
      " Saved translated file: aedc6a39-7862-4bbc-99e7-780ab3980282_2_0.csv\n",
      "\n",
      "Processing file 330 of 490: aedc6a39-7862-4bbc-99e7-780ab3980282_2_1.csv\n"
     ]
    },
    {
     "name": "stderr",
     "output_type": "stream",
     "text": [
      "Translating OCR Files:  67%|██████▋   | 330/490 [2:42:19<1:03:29, 23.81s/file]"
     ]
    },
    {
     "name": "stdout",
     "output_type": "stream",
     "text": [
      " Saved translated file: aedc6a39-7862-4bbc-99e7-780ab3980282_2_1.csv\n",
      "\n",
      "Processing file 331 of 490: aedc6a39-7862-4bbc-99e7-780ab3980282_3_0.csv\n"
     ]
    },
    {
     "name": "stderr",
     "output_type": "stream",
     "text": [
      "Translating OCR Files:  68%|██████▊   | 331/490 [2:43:11<1:25:31, 32.27s/file]"
     ]
    },
    {
     "name": "stdout",
     "output_type": "stream",
     "text": [
      " Saved translated file: aedc6a39-7862-4bbc-99e7-780ab3980282_3_0.csv\n",
      "\n",
      "Processing file 332 of 490: aedc6a39-7862-4bbc-99e7-780ab3980282_4_0.csv\n"
     ]
    },
    {
     "name": "stderr",
     "output_type": "stream",
     "text": [
      "Translating OCR Files:  68%|██████▊   | 332/490 [2:44:41<2:10:41, 49.63s/file]"
     ]
    },
    {
     "name": "stdout",
     "output_type": "stream",
     "text": [
      "Ollama error: HTTPConnectionPool(host='localhost', port=11434): Read timed out. (read timeout=90)\n",
      " Saved translated file: aedc6a39-7862-4bbc-99e7-780ab3980282_4_0.csv\n",
      "\n",
      "Processing file 333 of 490: aedc6a39-7862-4bbc-99e7-780ab3980282_4_1.csv\n"
     ]
    },
    {
     "name": "stderr",
     "output_type": "stream",
     "text": [
      "Translating OCR Files:  68%|██████▊   | 333/490 [2:45:00<1:45:54, 40.48s/file]"
     ]
    },
    {
     "name": "stdout",
     "output_type": "stream",
     "text": [
      " Saved translated file: aedc6a39-7862-4bbc-99e7-780ab3980282_4_1.csv\n",
      "\n",
      "Processing file 334 of 490: af93eff8-2973-4746-9041-b2223016b117.csv\n"
     ]
    },
    {
     "name": "stderr",
     "output_type": "stream",
     "text": [
      "Translating OCR Files:  68%|██████▊   | 334/490 [2:45:12<1:22:34, 31.76s/file]"
     ]
    },
    {
     "name": "stdout",
     "output_type": "stream",
     "text": [
      " Saved translated file: af93eff8-2973-4746-9041-b2223016b117.csv\n",
      "\n",
      "Processing file 335 of 490: b0a4acaa-d768-4f6d-8e54-6d20f271bb7c.csv\n"
     ]
    },
    {
     "name": "stderr",
     "output_type": "stream",
     "text": [
      "Translating OCR Files:  68%|██████▊   | 335/490 [2:45:14<59:12, 22.92s/file]  "
     ]
    },
    {
     "name": "stdout",
     "output_type": "stream",
     "text": [
      " Saved translated file: b0a4acaa-d768-4f6d-8e54-6d20f271bb7c.csv\n",
      "\n",
      "Processing file 336 of 490: b3031e66-40b6-45e8-9bcd-891dc1a280da_0.csv\n"
     ]
    },
    {
     "name": "stderr",
     "output_type": "stream",
     "text": [
      "Translating OCR Files:  69%|██████▊   | 336/490 [2:45:19<44:45, 17.44s/file]"
     ]
    },
    {
     "name": "stdout",
     "output_type": "stream",
     "text": [
      " Saved translated file: b3031e66-40b6-45e8-9bcd-891dc1a280da_0.csv\n",
      "\n",
      "Processing file 337 of 490: b3031e66-40b6-45e8-9bcd-891dc1a280da_1.csv\n"
     ]
    },
    {
     "name": "stderr",
     "output_type": "stream",
     "text": [
      "Translating OCR Files:  69%|██████▉   | 337/490 [2:45:32<41:09, 16.14s/file]"
     ]
    },
    {
     "name": "stdout",
     "output_type": "stream",
     "text": [
      " Saved translated file: b3031e66-40b6-45e8-9bcd-891dc1a280da_1.csv\n",
      "\n",
      "Processing file 338 of 490: b3031e66-40b6-45e8-9bcd-891dc1a280da_10.csv\n"
     ]
    },
    {
     "name": "stderr",
     "output_type": "stream",
     "text": [
      "Translating OCR Files:  69%|██████▉   | 338/490 [2:46:22<1:06:41, 26.33s/file]"
     ]
    },
    {
     "name": "stdout",
     "output_type": "stream",
     "text": [
      " Saved translated file: b3031e66-40b6-45e8-9bcd-891dc1a280da_10.csv\n",
      "\n",
      "Processing file 339 of 490: b3031e66-40b6-45e8-9bcd-891dc1a280da_11.csv\n"
     ]
    },
    {
     "name": "stderr",
     "output_type": "stream",
     "text": [
      "Translating OCR Files:  69%|██████▉   | 339/490 [2:47:12<1:24:38, 33.63s/file]"
     ]
    },
    {
     "name": "stdout",
     "output_type": "stream",
     "text": [
      " Saved translated file: b3031e66-40b6-45e8-9bcd-891dc1a280da_11.csv\n",
      "\n",
      "Processing file 340 of 490: b3031e66-40b6-45e8-9bcd-891dc1a280da_12.csv\n"
     ]
    },
    {
     "name": "stderr",
     "output_type": "stream",
     "text": [
      "Translating OCR Files:  69%|██████▉   | 340/490 [2:47:47<1:25:01, 34.01s/file]"
     ]
    },
    {
     "name": "stdout",
     "output_type": "stream",
     "text": [
      " Saved translated file: b3031e66-40b6-45e8-9bcd-891dc1a280da_12.csv\n",
      "\n",
      "Processing file 341 of 490: b3031e66-40b6-45e8-9bcd-891dc1a280da_13.csv\n"
     ]
    },
    {
     "name": "stderr",
     "output_type": "stream",
     "text": [
      "Translating OCR Files:  70%|██████▉   | 341/490 [2:48:34<1:33:51, 37.80s/file]"
     ]
    },
    {
     "name": "stdout",
     "output_type": "stream",
     "text": [
      " Saved translated file: b3031e66-40b6-45e8-9bcd-891dc1a280da_13.csv\n",
      "\n",
      "Processing file 342 of 490: b3031e66-40b6-45e8-9bcd-891dc1a280da_14.csv\n"
     ]
    },
    {
     "name": "stderr",
     "output_type": "stream",
     "text": [
      "Translating OCR Files:  70%|██████▉   | 342/490 [2:49:27<1:44:42, 42.45s/file]"
     ]
    },
    {
     "name": "stdout",
     "output_type": "stream",
     "text": [
      " Saved translated file: b3031e66-40b6-45e8-9bcd-891dc1a280da_14.csv\n",
      "\n",
      "Processing file 343 of 490: b3031e66-40b6-45e8-9bcd-891dc1a280da_15.csv\n"
     ]
    },
    {
     "name": "stderr",
     "output_type": "stream",
     "text": [
      "Translating OCR Files:  70%|███████   | 343/490 [2:50:01<1:37:31, 39.81s/file]"
     ]
    },
    {
     "name": "stdout",
     "output_type": "stream",
     "text": [
      " Saved translated file: b3031e66-40b6-45e8-9bcd-891dc1a280da_15.csv\n",
      "\n",
      "Processing file 344 of 490: b3031e66-40b6-45e8-9bcd-891dc1a280da_16.csv\n"
     ]
    },
    {
     "name": "stderr",
     "output_type": "stream",
     "text": [
      "Translating OCR Files:  70%|███████   | 344/490 [2:50:26<1:26:23, 35.50s/file]"
     ]
    },
    {
     "name": "stdout",
     "output_type": "stream",
     "text": [
      " Saved translated file: b3031e66-40b6-45e8-9bcd-891dc1a280da_16.csv\n",
      "\n",
      "Processing file 345 of 490: b3031e66-40b6-45e8-9bcd-891dc1a280da_17.csv\n"
     ]
    },
    {
     "name": "stderr",
     "output_type": "stream",
     "text": [
      "Translating OCR Files:  70%|███████   | 345/490 [2:50:57<1:22:15, 34.04s/file]"
     ]
    },
    {
     "name": "stdout",
     "output_type": "stream",
     "text": [
      " Saved translated file: b3031e66-40b6-45e8-9bcd-891dc1a280da_17.csv\n",
      "\n",
      "Processing file 346 of 490: b3031e66-40b6-45e8-9bcd-891dc1a280da_18.csv\n"
     ]
    },
    {
     "name": "stderr",
     "output_type": "stream",
     "text": [
      "Translating OCR Files:  71%|███████   | 346/490 [2:52:16<1:54:08, 47.56s/file]"
     ]
    },
    {
     "name": "stdout",
     "output_type": "stream",
     "text": [
      " Saved translated file: b3031e66-40b6-45e8-9bcd-891dc1a280da_18.csv\n",
      "\n",
      "Processing file 347 of 490: b3031e66-40b6-45e8-9bcd-891dc1a280da_19.csv\n"
     ]
    },
    {
     "name": "stderr",
     "output_type": "stream",
     "text": [
      "Translating OCR Files:  71%|███████   | 347/490 [2:52:34<1:32:18, 38.73s/file]"
     ]
    },
    {
     "name": "stdout",
     "output_type": "stream",
     "text": [
      " Saved translated file: b3031e66-40b6-45e8-9bcd-891dc1a280da_19.csv\n",
      "\n",
      "Processing file 348 of 490: b3031e66-40b6-45e8-9bcd-891dc1a280da_2.csv\n"
     ]
    },
    {
     "name": "stderr",
     "output_type": "stream",
     "text": [
      "Translating OCR Files:  71%|███████   | 348/490 [2:52:46<1:12:53, 30.80s/file]"
     ]
    },
    {
     "name": "stdout",
     "output_type": "stream",
     "text": [
      " Saved translated file: b3031e66-40b6-45e8-9bcd-891dc1a280da_2.csv\n",
      "\n",
      "Processing file 349 of 490: b3031e66-40b6-45e8-9bcd-891dc1a280da_20.csv\n"
     ]
    },
    {
     "name": "stderr",
     "output_type": "stream",
     "text": [
      "Translating OCR Files:  71%|███████   | 349/490 [2:53:30<1:21:07, 34.52s/file]"
     ]
    },
    {
     "name": "stdout",
     "output_type": "stream",
     "text": [
      " Saved translated file: b3031e66-40b6-45e8-9bcd-891dc1a280da_20.csv\n",
      "\n",
      "Processing file 350 of 490: b3031e66-40b6-45e8-9bcd-891dc1a280da_21.csv\n"
     ]
    },
    {
     "name": "stderr",
     "output_type": "stream",
     "text": [
      "Translating OCR Files:  71%|███████▏  | 350/490 [2:54:35<1:42:13, 43.81s/file]"
     ]
    },
    {
     "name": "stdout",
     "output_type": "stream",
     "text": [
      " Saved translated file: b3031e66-40b6-45e8-9bcd-891dc1a280da_21.csv\n",
      "\n",
      "Processing file 351 of 490: b3031e66-40b6-45e8-9bcd-891dc1a280da_22.csv\n"
     ]
    },
    {
     "name": "stderr",
     "output_type": "stream",
     "text": [
      "Translating OCR Files:  72%|███████▏  | 351/490 [2:55:28<1:48:01, 46.63s/file]"
     ]
    },
    {
     "name": "stdout",
     "output_type": "stream",
     "text": [
      " Saved translated file: b3031e66-40b6-45e8-9bcd-891dc1a280da_22.csv\n",
      "\n",
      "Processing file 352 of 490: b3031e66-40b6-45e8-9bcd-891dc1a280da_23.csv\n"
     ]
    },
    {
     "name": "stderr",
     "output_type": "stream",
     "text": [
      "Translating OCR Files:  72%|███████▏  | 352/490 [2:56:59<2:17:16, 59.68s/file]"
     ]
    },
    {
     "name": "stdout",
     "output_type": "stream",
     "text": [
      "Ollama error: HTTPConnectionPool(host='localhost', port=11434): Read timed out. (read timeout=90)\n",
      " Saved translated file: b3031e66-40b6-45e8-9bcd-891dc1a280da_23.csv\n",
      "\n",
      "Processing file 353 of 490: b3031e66-40b6-45e8-9bcd-891dc1a280da_24.csv\n"
     ]
    },
    {
     "name": "stderr",
     "output_type": "stream",
     "text": [
      "Translating OCR Files:  72%|███████▏  | 353/490 [2:57:43<2:06:01, 55.19s/file]"
     ]
    },
    {
     "name": "stdout",
     "output_type": "stream",
     "text": [
      " Saved translated file: b3031e66-40b6-45e8-9bcd-891dc1a280da_24.csv\n",
      "\n",
      "Processing file 354 of 490: b3031e66-40b6-45e8-9bcd-891dc1a280da_3.csv\n"
     ]
    },
    {
     "name": "stderr",
     "output_type": "stream",
     "text": [
      "Translating OCR Files:  72%|███████▏  | 354/490 [2:58:56<2:17:00, 60.45s/file]"
     ]
    },
    {
     "name": "stdout",
     "output_type": "stream",
     "text": [
      " Saved translated file: b3031e66-40b6-45e8-9bcd-891dc1a280da_3.csv\n",
      "\n",
      "Processing file 355 of 490: b3031e66-40b6-45e8-9bcd-891dc1a280da_4.csv\n"
     ]
    },
    {
     "name": "stderr",
     "output_type": "stream",
     "text": [
      "Translating OCR Files:  72%|███████▏  | 355/490 [3:00:12<2:26:18, 65.03s/file]"
     ]
    },
    {
     "name": "stdout",
     "output_type": "stream",
     "text": [
      " Saved translated file: b3031e66-40b6-45e8-9bcd-891dc1a280da_4.csv\n",
      "\n",
      "Processing file 356 of 490: b3031e66-40b6-45e8-9bcd-891dc1a280da_5.csv\n"
     ]
    },
    {
     "name": "stderr",
     "output_type": "stream",
     "text": [
      "Translating OCR Files:  73%|███████▎  | 356/490 [3:00:54<2:10:15, 58.32s/file]"
     ]
    },
    {
     "name": "stdout",
     "output_type": "stream",
     "text": [
      " Saved translated file: b3031e66-40b6-45e8-9bcd-891dc1a280da_5.csv\n",
      "\n",
      "Processing file 357 of 490: b3031e66-40b6-45e8-9bcd-891dc1a280da_6.csv\n"
     ]
    },
    {
     "name": "stderr",
     "output_type": "stream",
     "text": [
      "Translating OCR Files:  73%|███████▎  | 357/490 [3:02:24<2:30:04, 67.70s/file]"
     ]
    },
    {
     "name": "stdout",
     "output_type": "stream",
     "text": [
      " Saved translated file: b3031e66-40b6-45e8-9bcd-891dc1a280da_6.csv\n",
      "\n",
      "Processing file 358 of 490: b3031e66-40b6-45e8-9bcd-891dc1a280da_7.csv\n"
     ]
    },
    {
     "name": "stderr",
     "output_type": "stream",
     "text": [
      "Translating OCR Files:  73%|███████▎  | 358/490 [3:03:54<2:43:44, 74.43s/file]"
     ]
    },
    {
     "name": "stdout",
     "output_type": "stream",
     "text": [
      "Ollama error: HTTPConnectionPool(host='localhost', port=11434): Read timed out. (read timeout=90)\n",
      " Saved translated file: b3031e66-40b6-45e8-9bcd-891dc1a280da_7.csv\n",
      "\n",
      "Processing file 359 of 490: b3031e66-40b6-45e8-9bcd-891dc1a280da_8.csv\n"
     ]
    },
    {
     "name": "stderr",
     "output_type": "stream",
     "text": [
      "Translating OCR Files:  73%|███████▎  | 359/490 [3:05:06<2:40:46, 73.64s/file]"
     ]
    },
    {
     "name": "stdout",
     "output_type": "stream",
     "text": [
      " Saved translated file: b3031e66-40b6-45e8-9bcd-891dc1a280da_8.csv\n",
      "\n",
      "Processing file 360 of 490: b3031e66-40b6-45e8-9bcd-891dc1a280da_9.csv\n"
     ]
    },
    {
     "name": "stderr",
     "output_type": "stream",
     "text": [
      "Translating OCR Files:  73%|███████▎  | 360/490 [3:06:17<2:37:42, 72.79s/file]"
     ]
    },
    {
     "name": "stdout",
     "output_type": "stream",
     "text": [
      " Saved translated file: b3031e66-40b6-45e8-9bcd-891dc1a280da_9.csv\n",
      "\n",
      "Processing file 361 of 490: b3ce4d51-6024-4b43-b0d2-d3faaf3c2879.csv\n"
     ]
    },
    {
     "name": "stderr",
     "output_type": "stream",
     "text": [
      "Translating OCR Files:  74%|███████▎  | 361/490 [3:06:43<2:06:24, 58.80s/file]"
     ]
    },
    {
     "name": "stdout",
     "output_type": "stream",
     "text": [
      " Saved translated file: b3ce4d51-6024-4b43-b0d2-d3faaf3c2879.csv\n",
      "\n",
      "Processing file 362 of 490: b6eb1b15-cf99-475c-921f-f06e5c1019d4.csv\n"
     ]
    },
    {
     "name": "stderr",
     "output_type": "stream",
     "text": [
      "Translating OCR Files:  74%|███████▍  | 362/490 [3:07:10<1:45:24, 49.41s/file]"
     ]
    },
    {
     "name": "stdout",
     "output_type": "stream",
     "text": [
      " Saved translated file: b6eb1b15-cf99-475c-921f-f06e5c1019d4.csv\n",
      "\n",
      "Processing file 363 of 490: b8b76b6d-a50e-4246-82ee-3c8a5dcd523e.csv\n"
     ]
    },
    {
     "name": "stderr",
     "output_type": "stream",
     "text": [
      "Translating OCR Files:  74%|███████▍  | 363/490 [3:07:21<1:20:11, 37.88s/file]"
     ]
    },
    {
     "name": "stdout",
     "output_type": "stream",
     "text": [
      " Saved translated file: b8b76b6d-a50e-4246-82ee-3c8a5dcd523e.csv\n",
      "\n",
      "Processing file 364 of 490: b8cea3b1-4dde-4438-9b1a-6faf690bbad0.csv\n"
     ]
    },
    {
     "name": "stderr",
     "output_type": "stream",
     "text": [
      "Translating OCR Files:  74%|███████▍  | 364/490 [3:07:25<58:12, 27.72s/file]  "
     ]
    },
    {
     "name": "stdout",
     "output_type": "stream",
     "text": [
      " Saved translated file: b8cea3b1-4dde-4438-9b1a-6faf690bbad0.csv\n",
      "\n",
      "Processing file 365 of 490: b9d9c584-5e21-4a49-952b-ffecca4eb91e.csv\n"
     ]
    },
    {
     "name": "stderr",
     "output_type": "stream",
     "text": [
      "Translating OCR Files:  74%|███████▍  | 365/490 [3:08:12<1:09:18, 33.27s/file]"
     ]
    },
    {
     "name": "stdout",
     "output_type": "stream",
     "text": [
      " Saved translated file: b9d9c584-5e21-4a49-952b-ffecca4eb91e.csv\n",
      "\n",
      "Processing file 366 of 490: bcad4fdf-3771-4873-92fa-23240654118a.csv\n"
     ]
    },
    {
     "name": "stderr",
     "output_type": "stream",
     "text": [
      "Translating OCR Files:  75%|███████▍  | 366/490 [3:08:28<58:02, 28.08s/file]  "
     ]
    },
    {
     "name": "stdout",
     "output_type": "stream",
     "text": [
      " Saved translated file: bcad4fdf-3771-4873-92fa-23240654118a.csv\n",
      "\n",
      "Processing file 367 of 490: c5f1d959-39d1-4176-9cb1-1fb6e8baedc3.csv\n"
     ]
    },
    {
     "name": "stderr",
     "output_type": "stream",
     "text": [
      "Translating OCR Files:  75%|███████▍  | 367/490 [3:08:49<53:42, 26.20s/file]"
     ]
    },
    {
     "name": "stdout",
     "output_type": "stream",
     "text": [
      " Saved translated file: c5f1d959-39d1-4176-9cb1-1fb6e8baedc3.csv\n",
      "\n",
      "Processing file 368 of 490: d410e4aa-fb52-4ed4-9078-4483267a02b3_0.csv\n"
     ]
    },
    {
     "name": "stderr",
     "output_type": "stream",
     "text": [
      "Translating OCR Files:  75%|███████▌  | 368/490 [3:10:08<1:25:14, 41.92s/file]"
     ]
    },
    {
     "name": "stdout",
     "output_type": "stream",
     "text": [
      " Saved translated file: d410e4aa-fb52-4ed4-9078-4483267a02b3_0.csv\n",
      "\n",
      "Processing file 369 of 490: d410e4aa-fb52-4ed4-9078-4483267a02b3_1.csv\n"
     ]
    },
    {
     "name": "stderr",
     "output_type": "stream",
     "text": [
      "Translating OCR Files:  75%|███████▌  | 369/490 [3:11:38<1:53:38, 56.35s/file]"
     ]
    },
    {
     "name": "stdout",
     "output_type": "stream",
     "text": [
      " Saved translated file: d410e4aa-fb52-4ed4-9078-4483267a02b3_1.csv\n",
      "\n",
      "Processing file 370 of 490: d410e4aa-fb52-4ed4-9078-4483267a02b3_2.csv\n"
     ]
    },
    {
     "name": "stderr",
     "output_type": "stream",
     "text": [
      "Translating OCR Files:  76%|███████▌  | 370/490 [3:13:02<2:09:34, 64.79s/file]"
     ]
    },
    {
     "name": "stdout",
     "output_type": "stream",
     "text": [
      " Saved translated file: d410e4aa-fb52-4ed4-9078-4483267a02b3_2.csv\n",
      "\n",
      "Processing file 371 of 490: d410e4aa-fb52-4ed4-9078-4483267a02b3_3.csv\n"
     ]
    },
    {
     "name": "stderr",
     "output_type": "stream",
     "text": [
      "Translating OCR Files:  76%|███████▌  | 371/490 [3:14:10<2:10:20, 65.72s/file]"
     ]
    },
    {
     "name": "stdout",
     "output_type": "stream",
     "text": [
      " Saved translated file: d410e4aa-fb52-4ed4-9078-4483267a02b3_3.csv\n",
      "\n",
      "Processing file 372 of 490: d410e4aa-fb52-4ed4-9078-4483267a02b3_4.csv\n"
     ]
    },
    {
     "name": "stderr",
     "output_type": "stream",
     "text": [
      "Translating OCR Files:  76%|███████▌  | 372/490 [3:14:31<1:42:58, 52.36s/file]"
     ]
    },
    {
     "name": "stdout",
     "output_type": "stream",
     "text": [
      " Saved translated file: d410e4aa-fb52-4ed4-9078-4483267a02b3_4.csv\n",
      "\n",
      "Processing file 373 of 490: d5ff8b65-db15-418a-b33e-169498d79110_0.csv\n"
     ]
    },
    {
     "name": "stderr",
     "output_type": "stream",
     "text": [
      "Translating OCR Files:  76%|███████▌  | 373/490 [3:14:36<1:13:51, 37.88s/file]"
     ]
    },
    {
     "name": "stdout",
     "output_type": "stream",
     "text": [
      " Saved translated file: d5ff8b65-db15-418a-b33e-169498d79110_0.csv\n",
      "\n",
      "Processing file 374 of 490: d5ff8b65-db15-418a-b33e-169498d79110_1.csv\n"
     ]
    },
    {
     "name": "stderr",
     "output_type": "stream",
     "text": [
      "Translating OCR Files:  76%|███████▋  | 374/490 [3:14:46<57:19, 29.65s/file]  "
     ]
    },
    {
     "name": "stdout",
     "output_type": "stream",
     "text": [
      " Saved translated file: d5ff8b65-db15-418a-b33e-169498d79110_1.csv\n",
      "\n",
      "Processing file 375 of 490: d5ff8b65-db15-418a-b33e-169498d79110_10.csv\n"
     ]
    },
    {
     "name": "stderr",
     "output_type": "stream",
     "text": [
      "Translating OCR Files:  77%|███████▋  | 375/490 [3:15:00<47:40, 24.87s/file]"
     ]
    },
    {
     "name": "stdout",
     "output_type": "stream",
     "text": [
      " Saved translated file: d5ff8b65-db15-418a-b33e-169498d79110_10.csv\n",
      "\n",
      "Processing file 376 of 490: d5ff8b65-db15-418a-b33e-169498d79110_11.csv\n"
     ]
    },
    {
     "name": "stderr",
     "output_type": "stream",
     "text": [
      "Translating OCR Files:  77%|███████▋  | 376/490 [3:15:21<44:56, 23.65s/file]"
     ]
    },
    {
     "name": "stdout",
     "output_type": "stream",
     "text": [
      " Saved translated file: d5ff8b65-db15-418a-b33e-169498d79110_11.csv\n",
      "\n",
      "Processing file 377 of 490: d5ff8b65-db15-418a-b33e-169498d79110_12.csv\n"
     ]
    },
    {
     "name": "stderr",
     "output_type": "stream",
     "text": [
      "Translating OCR Files:  77%|███████▋  | 377/490 [3:15:41<42:34, 22.60s/file]"
     ]
    },
    {
     "name": "stdout",
     "output_type": "stream",
     "text": [
      " Saved translated file: d5ff8b65-db15-418a-b33e-169498d79110_12.csv\n",
      "\n",
      "Processing file 378 of 490: d5ff8b65-db15-418a-b33e-169498d79110_13.csv\n"
     ]
    },
    {
     "name": "stderr",
     "output_type": "stream",
     "text": [
      "Translating OCR Files:  77%|███████▋  | 378/490 [3:15:53<36:31, 19.57s/file]"
     ]
    },
    {
     "name": "stdout",
     "output_type": "stream",
     "text": [
      " Saved translated file: d5ff8b65-db15-418a-b33e-169498d79110_13.csv\n",
      "\n",
      "Processing file 379 of 490: d5ff8b65-db15-418a-b33e-169498d79110_14.csv\n"
     ]
    },
    {
     "name": "stderr",
     "output_type": "stream",
     "text": [
      "Translating OCR Files:  77%|███████▋  | 379/490 [3:16:07<33:09, 17.92s/file]"
     ]
    },
    {
     "name": "stdout",
     "output_type": "stream",
     "text": [
      " Saved translated file: d5ff8b65-db15-418a-b33e-169498d79110_14.csv\n",
      "\n",
      "Processing file 380 of 490: d5ff8b65-db15-418a-b33e-169498d79110_15.csv\n"
     ]
    },
    {
     "name": "stderr",
     "output_type": "stream",
     "text": [
      "Translating OCR Files:  78%|███████▊  | 380/490 [3:16:22<30:49, 16.81s/file]"
     ]
    },
    {
     "name": "stdout",
     "output_type": "stream",
     "text": [
      " Saved translated file: d5ff8b65-db15-418a-b33e-169498d79110_15.csv\n",
      "\n",
      "Processing file 381 of 490: d5ff8b65-db15-418a-b33e-169498d79110_16.csv\n"
     ]
    },
    {
     "name": "stderr",
     "output_type": "stream",
     "text": [
      "Translating OCR Files:  78%|███████▊  | 381/490 [3:16:33<27:49, 15.32s/file]"
     ]
    },
    {
     "name": "stdout",
     "output_type": "stream",
     "text": [
      " Saved translated file: d5ff8b65-db15-418a-b33e-169498d79110_16.csv\n",
      "\n",
      "Processing file 382 of 490: d5ff8b65-db15-418a-b33e-169498d79110_17.csv\n"
     ]
    },
    {
     "name": "stderr",
     "output_type": "stream",
     "text": [
      "Translating OCR Files:  78%|███████▊  | 382/490 [3:16:45<25:44, 14.30s/file]"
     ]
    },
    {
     "name": "stdout",
     "output_type": "stream",
     "text": [
      " Saved translated file: d5ff8b65-db15-418a-b33e-169498d79110_17.csv\n",
      "\n",
      "Processing file 383 of 490: d5ff8b65-db15-418a-b33e-169498d79110_18.csv\n"
     ]
    },
    {
     "name": "stderr",
     "output_type": "stream",
     "text": [
      "Translating OCR Files:  78%|███████▊  | 383/490 [3:17:00<25:40, 14.40s/file]"
     ]
    },
    {
     "name": "stdout",
     "output_type": "stream",
     "text": [
      " Saved translated file: d5ff8b65-db15-418a-b33e-169498d79110_18.csv\n",
      "\n",
      "Processing file 384 of 490: d5ff8b65-db15-418a-b33e-169498d79110_19.csv\n"
     ]
    },
    {
     "name": "stderr",
     "output_type": "stream",
     "text": [
      "Translating OCR Files:  78%|███████▊  | 384/490 [3:17:30<33:43, 19.09s/file]"
     ]
    },
    {
     "name": "stdout",
     "output_type": "stream",
     "text": [
      " Saved translated file: d5ff8b65-db15-418a-b33e-169498d79110_19.csv\n",
      "\n",
      "Processing file 385 of 490: d5ff8b65-db15-418a-b33e-169498d79110_2.csv\n"
     ]
    },
    {
     "name": "stderr",
     "output_type": "stream",
     "text": [
      "Translating OCR Files:  79%|███████▊  | 385/490 [3:18:11<45:09, 25.81s/file]"
     ]
    },
    {
     "name": "stdout",
     "output_type": "stream",
     "text": [
      " Saved translated file: d5ff8b65-db15-418a-b33e-169498d79110_2.csv\n",
      "\n",
      "Processing file 386 of 490: d5ff8b65-db15-418a-b33e-169498d79110_20.csv\n"
     ]
    },
    {
     "name": "stderr",
     "output_type": "stream",
     "text": [
      "Translating OCR Files:  79%|███████▉  | 386/490 [3:18:57<54:57, 31.71s/file]"
     ]
    },
    {
     "name": "stdout",
     "output_type": "stream",
     "text": [
      " Saved translated file: d5ff8b65-db15-418a-b33e-169498d79110_20.csv\n",
      "\n",
      "Processing file 387 of 490: d5ff8b65-db15-418a-b33e-169498d79110_21.csv\n"
     ]
    },
    {
     "name": "stderr",
     "output_type": "stream",
     "text": [
      "Translating OCR Files:  79%|███████▉  | 387/490 [3:19:38<59:31, 34.68s/file]"
     ]
    },
    {
     "name": "stdout",
     "output_type": "stream",
     "text": [
      " Saved translated file: d5ff8b65-db15-418a-b33e-169498d79110_21.csv\n",
      "\n",
      "Processing file 388 of 490: d5ff8b65-db15-418a-b33e-169498d79110_3.csv\n"
     ]
    },
    {
     "name": "stderr",
     "output_type": "stream",
     "text": [
      "Translating OCR Files:  79%|███████▉  | 388/490 [3:20:59<1:22:28, 48.52s/file]"
     ]
    },
    {
     "name": "stdout",
     "output_type": "stream",
     "text": [
      " Saved translated file: d5ff8b65-db15-418a-b33e-169498d79110_3.csv\n",
      "\n",
      "Processing file 389 of 490: d5ff8b65-db15-418a-b33e-169498d79110_4.csv\n"
     ]
    },
    {
     "name": "stderr",
     "output_type": "stream",
     "text": [
      "Translating OCR Files:  79%|███████▉  | 389/490 [3:22:13<1:34:12, 55.96s/file]"
     ]
    },
    {
     "name": "stdout",
     "output_type": "stream",
     "text": [
      " Saved translated file: d5ff8b65-db15-418a-b33e-169498d79110_4.csv\n",
      "\n",
      "Processing file 390 of 490: d5ff8b65-db15-418a-b33e-169498d79110_5.csv\n"
     ]
    },
    {
     "name": "stderr",
     "output_type": "stream",
     "text": [
      "Translating OCR Files:  80%|███████▉  | 390/490 [3:22:46<1:21:47, 49.07s/file]"
     ]
    },
    {
     "name": "stdout",
     "output_type": "stream",
     "text": [
      " Saved translated file: d5ff8b65-db15-418a-b33e-169498d79110_5.csv\n",
      "\n",
      "Processing file 391 of 490: d5ff8b65-db15-418a-b33e-169498d79110_6.csv\n"
     ]
    },
    {
     "name": "stderr",
     "output_type": "stream",
     "text": [
      "Translating OCR Files:  80%|███████▉  | 391/490 [3:23:16<1:11:37, 43.41s/file]"
     ]
    },
    {
     "name": "stdout",
     "output_type": "stream",
     "text": [
      " Saved translated file: d5ff8b65-db15-418a-b33e-169498d79110_6.csv\n",
      "\n",
      "Processing file 392 of 490: d5ff8b65-db15-418a-b33e-169498d79110_7.csv\n"
     ]
    },
    {
     "name": "stderr",
     "output_type": "stream",
     "text": [
      "Translating OCR Files:  80%|████████  | 392/490 [3:23:40<1:01:16, 37.52s/file]"
     ]
    },
    {
     "name": "stdout",
     "output_type": "stream",
     "text": [
      " Saved translated file: d5ff8b65-db15-418a-b33e-169498d79110_7.csv\n",
      "\n",
      "Processing file 393 of 490: d5ff8b65-db15-418a-b33e-169498d79110_8.csv\n"
     ]
    },
    {
     "name": "stderr",
     "output_type": "stream",
     "text": [
      "Translating OCR Files:  80%|████████  | 393/490 [3:24:04<54:07, 33.48s/file]  "
     ]
    },
    {
     "name": "stdout",
     "output_type": "stream",
     "text": [
      " Saved translated file: d5ff8b65-db15-418a-b33e-169498d79110_8.csv\n",
      "\n",
      "Processing file 394 of 490: d5ff8b65-db15-418a-b33e-169498d79110_9.csv\n"
     ]
    },
    {
     "name": "stderr",
     "output_type": "stream",
     "text": [
      "Translating OCR Files:  80%|████████  | 394/490 [3:24:22<46:15, 28.91s/file]"
     ]
    },
    {
     "name": "stdout",
     "output_type": "stream",
     "text": [
      " Saved translated file: d5ff8b65-db15-418a-b33e-169498d79110_9.csv\n",
      "\n",
      "Processing file 395 of 490: dbc9c90e-a3e6-4d71-bb93-5fb8394095ac_0.csv\n"
     ]
    },
    {
     "name": "stderr",
     "output_type": "stream",
     "text": [
      "Translating OCR Files:  81%|████████  | 395/490 [3:24:34<37:58, 23.99s/file]"
     ]
    },
    {
     "name": "stdout",
     "output_type": "stream",
     "text": [
      " Saved translated file: dbc9c90e-a3e6-4d71-bb93-5fb8394095ac_0.csv\n",
      "\n",
      "Processing file 396 of 490: dd5b6a38-dc17-4122-a242-32006b381b3a.csv\n"
     ]
    },
    {
     "name": "stderr",
     "output_type": "stream",
     "text": [
      "Translating OCR Files:  81%|████████  | 396/490 [3:25:01<38:47, 24.76s/file]"
     ]
    },
    {
     "name": "stdout",
     "output_type": "stream",
     "text": [
      " Saved translated file: dd5b6a38-dc17-4122-a242-32006b381b3a.csv\n",
      "\n",
      "Processing file 397 of 490: de359f8d-0745-4a93-959a-d1a6c361e326.csv\n"
     ]
    },
    {
     "name": "stderr",
     "output_type": "stream",
     "text": [
      "Translating OCR Files:  81%|████████  | 397/490 [3:25:13<32:40, 21.08s/file]"
     ]
    },
    {
     "name": "stdout",
     "output_type": "stream",
     "text": [
      " Saved translated file: de359f8d-0745-4a93-959a-d1a6c361e326.csv\n",
      "\n",
      "Processing file 398 of 490: e07a9457-86f1-4f0f-86d7-8ea816b8d8d3.csv\n"
     ]
    },
    {
     "name": "stderr",
     "output_type": "stream",
     "text": [
      "Translating OCR Files:  81%|████████  | 398/490 [3:25:23<26:53, 17.53s/file]"
     ]
    },
    {
     "name": "stdout",
     "output_type": "stream",
     "text": [
      " Saved translated file: e07a9457-86f1-4f0f-86d7-8ea816b8d8d3.csv\n",
      "\n",
      "Processing file 399 of 490: e182d867-dc18-43fd-a418-26dcf784242f_1_0.csv\n"
     ]
    },
    {
     "name": "stderr",
     "output_type": "stream",
     "text": [
      "Translating OCR Files:  81%|████████▏ | 399/490 [3:26:38<52:40, 34.73s/file]"
     ]
    },
    {
     "name": "stdout",
     "output_type": "stream",
     "text": [
      " Saved translated file: e182d867-dc18-43fd-a418-26dcf784242f_1_0.csv\n",
      "\n",
      "Processing file 400 of 490: e182d867-dc18-43fd-a418-26dcf784242f_1_1.csv\n"
     ]
    },
    {
     "name": "stderr",
     "output_type": "stream",
     "text": [
      "Translating OCR Files:  82%|████████▏ | 400/490 [3:27:39<1:04:10, 42.78s/file]"
     ]
    },
    {
     "name": "stdout",
     "output_type": "stream",
     "text": [
      " Saved translated file: e182d867-dc18-43fd-a418-26dcf784242f_1_1.csv\n",
      "\n",
      "Processing file 401 of 490: e182d867-dc18-43fd-a418-26dcf784242f_1_2.csv\n"
     ]
    },
    {
     "name": "stderr",
     "output_type": "stream",
     "text": [
      "Translating OCR Files:  82%|████████▏ | 401/490 [3:29:09<1:24:31, 56.98s/file]"
     ]
    },
    {
     "name": "stdout",
     "output_type": "stream",
     "text": [
      "Ollama error: HTTPConnectionPool(host='localhost', port=11434): Read timed out. (read timeout=90)\n",
      " Saved translated file: e182d867-dc18-43fd-a418-26dcf784242f_1_2.csv\n",
      "\n",
      "Processing file 402 of 490: e182d867-dc18-43fd-a418-26dcf784242f_1_3.csv\n"
     ]
    },
    {
     "name": "stderr",
     "output_type": "stream",
     "text": [
      "Translating OCR Files:  82%|████████▏ | 402/490 [3:30:29<1:33:28, 63.74s/file]"
     ]
    },
    {
     "name": "stdout",
     "output_type": "stream",
     "text": [
      " Saved translated file: e182d867-dc18-43fd-a418-26dcf784242f_1_3.csv\n",
      "\n",
      "Processing file 403 of 490: e182d867-dc18-43fd-a418-26dcf784242f_1_4.csv\n"
     ]
    },
    {
     "name": "stderr",
     "output_type": "stream",
     "text": [
      "Translating OCR Files:  82%|████████▏ | 403/490 [3:31:59<1:43:53, 71.65s/file]"
     ]
    },
    {
     "name": "stdout",
     "output_type": "stream",
     "text": [
      "Ollama error: HTTPConnectionPool(host='localhost', port=11434): Read timed out. (read timeout=90)\n",
      " Saved translated file: e182d867-dc18-43fd-a418-26dcf784242f_1_4.csv\n",
      "\n",
      "Processing file 404 of 490: e182d867-dc18-43fd-a418-26dcf784242f_2_0.csv\n"
     ]
    },
    {
     "name": "stderr",
     "output_type": "stream",
     "text": [
      "Translating OCR Files:  82%|████████▏ | 404/490 [3:33:29<1:50:38, 77.20s/file]"
     ]
    },
    {
     "name": "stdout",
     "output_type": "stream",
     "text": [
      "Ollama error: HTTPConnectionPool(host='localhost', port=11434): Read timed out. (read timeout=90)\n",
      " Saved translated file: e182d867-dc18-43fd-a418-26dcf784242f_2_0.csv\n",
      "\n",
      "Processing file 405 of 490: e182d867-dc18-43fd-a418-26dcf784242f_2_1.csv\n"
     ]
    },
    {
     "name": "stderr",
     "output_type": "stream",
     "text": [
      "Translating OCR Files:  83%|████████▎ | 405/490 [3:34:59<1:54:51, 81.08s/file]"
     ]
    },
    {
     "name": "stdout",
     "output_type": "stream",
     "text": [
      "Ollama error: HTTPConnectionPool(host='localhost', port=11434): Read timed out. (read timeout=90)\n",
      " Saved translated file: e182d867-dc18-43fd-a418-26dcf784242f_2_1.csv\n",
      "\n",
      "Processing file 406 of 490: e182d867-dc18-43fd-a418-26dcf784242f_2_2.csv\n"
     ]
    },
    {
     "name": "stderr",
     "output_type": "stream",
     "text": [
      "Translating OCR Files:  83%|████████▎ | 406/490 [3:36:29<1:57:18, 83.79s/file]"
     ]
    },
    {
     "name": "stdout",
     "output_type": "stream",
     "text": [
      "Ollama error: HTTPConnectionPool(host='localhost', port=11434): Read timed out. (read timeout=90)\n",
      " Saved translated file: e182d867-dc18-43fd-a418-26dcf784242f_2_2.csv\n",
      "\n",
      "Processing file 407 of 490: e182d867-dc18-43fd-a418-26dcf784242f_2_3.csv\n"
     ]
    },
    {
     "name": "stderr",
     "output_type": "stream",
     "text": [
      "Translating OCR Files:  83%|████████▎ | 407/490 [3:36:31<1:22:00, 59.29s/file]"
     ]
    },
    {
     "name": "stdout",
     "output_type": "stream",
     "text": [
      " Saved translated file: e182d867-dc18-43fd-a418-26dcf784242f_2_3.csv\n",
      "\n",
      "Processing file 408 of 490: e182d867-dc18-43fd-a418-26dcf784242f_3_0.csv\n"
     ]
    },
    {
     "name": "stderr",
     "output_type": "stream",
     "text": [
      "Translating OCR Files:  83%|████████▎ | 408/490 [3:37:26<1:19:05, 57.87s/file]"
     ]
    },
    {
     "name": "stdout",
     "output_type": "stream",
     "text": [
      " Saved translated file: e182d867-dc18-43fd-a418-26dcf784242f_3_0.csv\n",
      "\n",
      "Processing file 409 of 490: e705d192-90ee-4fd1-9dcd-061958d1817f.csv\n"
     ]
    },
    {
     "name": "stderr",
     "output_type": "stream",
     "text": [
      "Translating OCR Files:  83%|████████▎ | 409/490 [3:37:29<55:46, 41.32s/file]  "
     ]
    },
    {
     "name": "stdout",
     "output_type": "stream",
     "text": [
      " Saved translated file: e705d192-90ee-4fd1-9dcd-061958d1817f.csv\n",
      "\n",
      "Processing file 410 of 490: eda5b003-9250-4913-b724-74cca86240af_0.csv\n"
     ]
    },
    {
     "name": "stderr",
     "output_type": "stream",
     "text": [
      "Translating OCR Files:  84%|████████▎ | 410/490 [3:37:36<41:36, 31.21s/file]"
     ]
    },
    {
     "name": "stdout",
     "output_type": "stream",
     "text": [
      " Saved translated file: eda5b003-9250-4913-b724-74cca86240af_0.csv\n",
      "\n",
      "Processing file 411 of 490: eda5b003-9250-4913-b724-74cca86240af_1.csv\n"
     ]
    },
    {
     "name": "stderr",
     "output_type": "stream",
     "text": [
      "Translating OCR Files:  84%|████████▍ | 411/490 [3:37:39<29:54, 22.72s/file]"
     ]
    },
    {
     "name": "stdout",
     "output_type": "stream",
     "text": [
      " Saved translated file: eda5b003-9250-4913-b724-74cca86240af_1.csv\n",
      "\n",
      "Processing file 412 of 490: eda5b003-9250-4913-b724-74cca86240af_10.csv\n"
     ]
    },
    {
     "name": "stderr",
     "output_type": "stream",
     "text": [
      "Translating OCR Files:  84%|████████▍ | 412/490 [3:38:26<38:46, 29.83s/file]"
     ]
    },
    {
     "name": "stdout",
     "output_type": "stream",
     "text": [
      " Saved translated file: eda5b003-9250-4913-b724-74cca86240af_10.csv\n",
      "\n",
      "Processing file 413 of 490: eda5b003-9250-4913-b724-74cca86240af_11.csv\n"
     ]
    },
    {
     "name": "stderr",
     "output_type": "stream",
     "text": [
      "Translating OCR Files:  84%|████████▍ | 413/490 [3:39:04<41:31, 32.35s/file]"
     ]
    },
    {
     "name": "stdout",
     "output_type": "stream",
     "text": [
      " Saved translated file: eda5b003-9250-4913-b724-74cca86240af_11.csv\n",
      "\n",
      "Processing file 414 of 490: eda5b003-9250-4913-b724-74cca86240af_12.csv\n"
     ]
    },
    {
     "name": "stderr",
     "output_type": "stream",
     "text": [
      "Translating OCR Files:  84%|████████▍ | 414/490 [3:40:27<1:00:13, 47.54s/file]"
     ]
    },
    {
     "name": "stdout",
     "output_type": "stream",
     "text": [
      " Saved translated file: eda5b003-9250-4913-b724-74cca86240af_12.csv\n",
      "\n",
      "Processing file 415 of 490: eda5b003-9250-4913-b724-74cca86240af_13.csv\n"
     ]
    },
    {
     "name": "stderr",
     "output_type": "stream",
     "text": [
      "Translating OCR Files:  85%|████████▍ | 415/490 [3:41:57<1:15:24, 60.32s/file]"
     ]
    },
    {
     "name": "stdout",
     "output_type": "stream",
     "text": [
      "Ollama error: HTTPConnectionPool(host='localhost', port=11434): Read timed out. (read timeout=90)\n",
      " Saved translated file: eda5b003-9250-4913-b724-74cca86240af_13.csv\n",
      "\n",
      "Processing file 416 of 490: eda5b003-9250-4913-b724-74cca86240af_14.csv\n"
     ]
    },
    {
     "name": "stderr",
     "output_type": "stream",
     "text": [
      "Translating OCR Files:  85%|████████▍ | 416/490 [3:42:41<1:08:13, 55.32s/file]"
     ]
    },
    {
     "name": "stdout",
     "output_type": "stream",
     "text": [
      " Saved translated file: eda5b003-9250-4913-b724-74cca86240af_14.csv\n",
      "\n",
      "Processing file 417 of 490: eda5b003-9250-4913-b724-74cca86240af_2.csv\n"
     ]
    },
    {
     "name": "stderr",
     "output_type": "stream",
     "text": [
      "Translating OCR Files:  85%|████████▌ | 417/490 [3:43:20<1:01:33, 50.60s/file]"
     ]
    },
    {
     "name": "stdout",
     "output_type": "stream",
     "text": [
      " Saved translated file: eda5b003-9250-4913-b724-74cca86240af_2.csv\n",
      "\n",
      "Processing file 418 of 490: eda5b003-9250-4913-b724-74cca86240af_3.csv\n"
     ]
    },
    {
     "name": "stderr",
     "output_type": "stream",
     "text": [
      "Translating OCR Files:  85%|████████▌ | 418/490 [3:44:14<1:01:42, 51.42s/file]"
     ]
    },
    {
     "name": "stdout",
     "output_type": "stream",
     "text": [
      " Saved translated file: eda5b003-9250-4913-b724-74cca86240af_3.csv\n",
      "\n",
      "Processing file 419 of 490: eda5b003-9250-4913-b724-74cca86240af_4.csv\n"
     ]
    },
    {
     "name": "stderr",
     "output_type": "stream",
     "text": [
      "Translating OCR Files:  86%|████████▌ | 419/490 [3:45:09<1:02:20, 52.68s/file]"
     ]
    },
    {
     "name": "stdout",
     "output_type": "stream",
     "text": [
      " Saved translated file: eda5b003-9250-4913-b724-74cca86240af_4.csv\n",
      "\n",
      "Processing file 420 of 490: eda5b003-9250-4913-b724-74cca86240af_5.csv\n"
     ]
    },
    {
     "name": "stderr",
     "output_type": "stream",
     "text": [
      "Translating OCR Files:  86%|████████▌ | 420/490 [3:45:42<54:30, 46.73s/file]  "
     ]
    },
    {
     "name": "stdout",
     "output_type": "stream",
     "text": [
      " Saved translated file: eda5b003-9250-4913-b724-74cca86240af_5.csv\n",
      "\n",
      "Processing file 421 of 490: eda5b003-9250-4913-b724-74cca86240af_6.csv\n"
     ]
    },
    {
     "name": "stderr",
     "output_type": "stream",
     "text": [
      "Translating OCR Files:  86%|████████▌ | 421/490 [3:46:21<51:12, 44.53s/file]"
     ]
    },
    {
     "name": "stdout",
     "output_type": "stream",
     "text": [
      " Saved translated file: eda5b003-9250-4913-b724-74cca86240af_6.csv\n",
      "\n",
      "Processing file 422 of 490: eda5b003-9250-4913-b724-74cca86240af_7.csv\n"
     ]
    },
    {
     "name": "stderr",
     "output_type": "stream",
     "text": [
      "Translating OCR Files:  86%|████████▌ | 422/490 [3:47:01<48:57, 43.19s/file]"
     ]
    },
    {
     "name": "stdout",
     "output_type": "stream",
     "text": [
      " Saved translated file: eda5b003-9250-4913-b724-74cca86240af_7.csv\n",
      "\n",
      "Processing file 423 of 490: eda5b003-9250-4913-b724-74cca86240af_8.csv\n"
     ]
    },
    {
     "name": "stderr",
     "output_type": "stream",
     "text": [
      "Translating OCR Files:  86%|████████▋ | 423/490 [3:47:36<45:15, 40.53s/file]"
     ]
    },
    {
     "name": "stdout",
     "output_type": "stream",
     "text": [
      " Saved translated file: eda5b003-9250-4913-b724-74cca86240af_8.csv\n",
      "\n",
      "Processing file 424 of 490: eda5b003-9250-4913-b724-74cca86240af_9.csv\n"
     ]
    },
    {
     "name": "stderr",
     "output_type": "stream",
     "text": [
      "Translating OCR Files:  87%|████████▋ | 424/490 [3:48:41<52:34, 47.80s/file]"
     ]
    },
    {
     "name": "stdout",
     "output_type": "stream",
     "text": [
      " Saved translated file: eda5b003-9250-4913-b724-74cca86240af_9.csv\n",
      "\n",
      "Processing file 425 of 490: ee47dfea-2626-4107-8ab3-4663167e0493.csv\n"
     ]
    },
    {
     "name": "stderr",
     "output_type": "stream",
     "text": [
      "Translating OCR Files:  87%|████████▋ | 425/490 [3:49:21<49:19, 45.52s/file]"
     ]
    },
    {
     "name": "stdout",
     "output_type": "stream",
     "text": [
      " Saved translated file: ee47dfea-2626-4107-8ab3-4663167e0493.csv\n",
      "\n",
      "Processing file 426 of 490: f0ce8a7b-909d-4fc5-ba13-ea66b2dc6448.csv\n"
     ]
    },
    {
     "name": "stderr",
     "output_type": "stream",
     "text": [
      "Translating OCR Files:  87%|████████▋ | 426/490 [3:49:23<34:47, 32.62s/file]"
     ]
    },
    {
     "name": "stdout",
     "output_type": "stream",
     "text": [
      " Saved translated file: f0ce8a7b-909d-4fc5-ba13-ea66b2dc6448.csv\n",
      "\n",
      "Processing file 427 of 490: f179eb06-0c53-44df-a13f-570be23355bb_0.csv\n"
     ]
    },
    {
     "name": "stderr",
     "output_type": "stream",
     "text": [
      "Translating OCR Files:  87%|████████▋ | 427/490 [3:49:28<25:28, 24.26s/file]"
     ]
    },
    {
     "name": "stdout",
     "output_type": "stream",
     "text": [
      " Saved translated file: f179eb06-0c53-44df-a13f-570be23355bb_0.csv\n",
      "\n",
      "Processing file 428 of 490: f179eb06-0c53-44df-a13f-570be23355bb_1.csv\n"
     ]
    },
    {
     "name": "stderr",
     "output_type": "stream",
     "text": [
      "Translating OCR Files:  87%|████████▋ | 428/490 [3:49:29<17:59, 17.42s/file]"
     ]
    },
    {
     "name": "stdout",
     "output_type": "stream",
     "text": [
      " Saved translated file: f179eb06-0c53-44df-a13f-570be23355bb_1.csv\n",
      "\n",
      "Processing file 429 of 490: f179eb06-0c53-44df-a13f-570be23355bb_10.csv\n"
     ]
    },
    {
     "name": "stderr",
     "output_type": "stream",
     "text": [
      "Translating OCR Files:  88%|████████▊ | 429/490 [3:49:56<20:32, 20.21s/file]"
     ]
    },
    {
     "name": "stdout",
     "output_type": "stream",
     "text": [
      " Saved translated file: f179eb06-0c53-44df-a13f-570be23355bb_10.csv\n",
      "\n",
      "Processing file 430 of 490: f179eb06-0c53-44df-a13f-570be23355bb_11.csv\n"
     ]
    },
    {
     "name": "stderr",
     "output_type": "stream",
     "text": [
      "Translating OCR Files:  88%|████████▊ | 430/490 [3:50:27<23:14, 23.25s/file]"
     ]
    },
    {
     "name": "stdout",
     "output_type": "stream",
     "text": [
      " Saved translated file: f179eb06-0c53-44df-a13f-570be23355bb_11.csv\n",
      "\n",
      "Processing file 431 of 490: f179eb06-0c53-44df-a13f-570be23355bb_12.csv\n"
     ]
    },
    {
     "name": "stderr",
     "output_type": "stream",
     "text": [
      "Translating OCR Files:  88%|████████▊ | 431/490 [3:51:01<26:11, 26.64s/file]"
     ]
    },
    {
     "name": "stdout",
     "output_type": "stream",
     "text": [
      " Saved translated file: f179eb06-0c53-44df-a13f-570be23355bb_12.csv\n",
      "\n",
      "Processing file 432 of 490: f179eb06-0c53-44df-a13f-570be23355bb_13.csv\n"
     ]
    },
    {
     "name": "stderr",
     "output_type": "stream",
     "text": [
      "Translating OCR Files:  88%|████████▊ | 432/490 [3:51:22<24:04, 24.90s/file]"
     ]
    },
    {
     "name": "stdout",
     "output_type": "stream",
     "text": [
      " Saved translated file: f179eb06-0c53-44df-a13f-570be23355bb_13.csv\n",
      "\n",
      "Processing file 433 of 490: f179eb06-0c53-44df-a13f-570be23355bb_14.csv\n"
     ]
    },
    {
     "name": "stderr",
     "output_type": "stream",
     "text": [
      "Translating OCR Files:  88%|████████▊ | 433/490 [3:51:43<22:40, 23.87s/file]"
     ]
    },
    {
     "name": "stdout",
     "output_type": "stream",
     "text": [
      " Saved translated file: f179eb06-0c53-44df-a13f-570be23355bb_14.csv\n",
      "\n",
      "Processing file 434 of 490: f179eb06-0c53-44df-a13f-570be23355bb_15.csv\n"
     ]
    },
    {
     "name": "stderr",
     "output_type": "stream",
     "text": [
      "Translating OCR Files:  89%|████████▊ | 434/490 [3:52:33<29:21, 31.45s/file]"
     ]
    },
    {
     "name": "stdout",
     "output_type": "stream",
     "text": [
      " Saved translated file: f179eb06-0c53-44df-a13f-570be23355bb_15.csv\n",
      "\n",
      "Processing file 435 of 490: f179eb06-0c53-44df-a13f-570be23355bb_16.csv\n"
     ]
    },
    {
     "name": "stderr",
     "output_type": "stream",
     "text": [
      "Translating OCR Files:  89%|████████▉ | 435/490 [3:52:56<26:45, 29.19s/file]"
     ]
    },
    {
     "name": "stdout",
     "output_type": "stream",
     "text": [
      " Saved translated file: f179eb06-0c53-44df-a13f-570be23355bb_16.csv\n",
      "\n",
      "Processing file 436 of 490: f179eb06-0c53-44df-a13f-570be23355bb_17.csv\n"
     ]
    },
    {
     "name": "stderr",
     "output_type": "stream",
     "text": [
      "Translating OCR Files:  89%|████████▉ | 436/490 [3:53:24<25:56, 28.83s/file]"
     ]
    },
    {
     "name": "stdout",
     "output_type": "stream",
     "text": [
      " Saved translated file: f179eb06-0c53-44df-a13f-570be23355bb_17.csv\n",
      "\n",
      "Processing file 437 of 490: f179eb06-0c53-44df-a13f-570be23355bb_18.csv\n"
     ]
    },
    {
     "name": "stderr",
     "output_type": "stream",
     "text": [
      "Translating OCR Files:  89%|████████▉ | 437/490 [3:54:00<27:09, 30.74s/file]"
     ]
    },
    {
     "name": "stdout",
     "output_type": "stream",
     "text": [
      " Saved translated file: f179eb06-0c53-44df-a13f-570be23355bb_18.csv\n",
      "\n",
      "Processing file 438 of 490: f179eb06-0c53-44df-a13f-570be23355bb_19.csv\n"
     ]
    },
    {
     "name": "stderr",
     "output_type": "stream",
     "text": [
      "Translating OCR Files:  89%|████████▉ | 438/490 [3:55:30<42:05, 48.56s/file]"
     ]
    },
    {
     "name": "stdout",
     "output_type": "stream",
     "text": [
      "Ollama error: HTTPConnectionPool(host='localhost', port=11434): Read timed out. (read timeout=90)\n",
      " Saved translated file: f179eb06-0c53-44df-a13f-570be23355bb_19.csv\n",
      "\n",
      "Processing file 439 of 490: f179eb06-0c53-44df-a13f-570be23355bb_2.csv\n"
     ]
    },
    {
     "name": "stderr",
     "output_type": "stream",
     "text": [
      "Translating OCR Files:  90%|████████▉ | 439/490 [3:55:50<34:07, 40.15s/file]"
     ]
    },
    {
     "name": "stdout",
     "output_type": "stream",
     "text": [
      " Saved translated file: f179eb06-0c53-44df-a13f-570be23355bb_2.csv\n",
      "\n",
      "Processing file 440 of 490: f179eb06-0c53-44df-a13f-570be23355bb_20.csv\n"
     ]
    },
    {
     "name": "stderr",
     "output_type": "stream",
     "text": [
      "Translating OCR Files:  90%|████████▉ | 440/490 [3:56:25<32:04, 38.49s/file]"
     ]
    },
    {
     "name": "stdout",
     "output_type": "stream",
     "text": [
      " Saved translated file: f179eb06-0c53-44df-a13f-570be23355bb_20.csv\n",
      "\n",
      "Processing file 441 of 490: f179eb06-0c53-44df-a13f-570be23355bb_3.csv\n"
     ]
    },
    {
     "name": "stderr",
     "output_type": "stream",
     "text": [
      "Translating OCR Files:  90%|█████████ | 441/490 [3:56:33<24:03, 29.46s/file]"
     ]
    },
    {
     "name": "stdout",
     "output_type": "stream",
     "text": [
      " Saved translated file: f179eb06-0c53-44df-a13f-570be23355bb_3.csv\n",
      "\n",
      "Processing file 442 of 490: f179eb06-0c53-44df-a13f-570be23355bb_4.csv\n"
     ]
    },
    {
     "name": "stderr",
     "output_type": "stream",
     "text": [
      "Translating OCR Files:  90%|█████████ | 442/490 [3:58:03<38:08, 47.67s/file]"
     ]
    },
    {
     "name": "stdout",
     "output_type": "stream",
     "text": [
      "Ollama error: HTTPConnectionPool(host='localhost', port=11434): Read timed out. (read timeout=90)\n",
      " Saved translated file: f179eb06-0c53-44df-a13f-570be23355bb_4.csv\n",
      "\n",
      "Processing file 443 of 490: f179eb06-0c53-44df-a13f-570be23355bb_5.csv\n"
     ]
    },
    {
     "name": "stderr",
     "output_type": "stream",
     "text": [
      "Translating OCR Files:  90%|█████████ | 443/490 [3:59:05<40:32, 51.76s/file]"
     ]
    },
    {
     "name": "stdout",
     "output_type": "stream",
     "text": [
      " Saved translated file: f179eb06-0c53-44df-a13f-570be23355bb_5.csv\n",
      "\n",
      "Processing file 444 of 490: f179eb06-0c53-44df-a13f-570be23355bb_6.csv\n"
     ]
    },
    {
     "name": "stderr",
     "output_type": "stream",
     "text": [
      "Translating OCR Files:  91%|█████████ | 444/490 [3:59:53<38:47, 50.59s/file]"
     ]
    },
    {
     "name": "stdout",
     "output_type": "stream",
     "text": [
      " Saved translated file: f179eb06-0c53-44df-a13f-570be23355bb_6.csv\n",
      "\n",
      "Processing file 445 of 490: f179eb06-0c53-44df-a13f-570be23355bb_7.csv\n"
     ]
    },
    {
     "name": "stderr",
     "output_type": "stream",
     "text": [
      "Translating OCR Files:  91%|█████████ | 445/490 [4:00:33<35:42, 47.62s/file]"
     ]
    },
    {
     "name": "stdout",
     "output_type": "stream",
     "text": [
      " Saved translated file: f179eb06-0c53-44df-a13f-570be23355bb_7.csv\n",
      "\n",
      "Processing file 446 of 490: f179eb06-0c53-44df-a13f-570be23355bb_8.csv\n"
     ]
    },
    {
     "name": "stderr",
     "output_type": "stream",
     "text": [
      "Translating OCR Files:  91%|█████████ | 446/490 [4:01:11<32:47, 44.71s/file]"
     ]
    },
    {
     "name": "stdout",
     "output_type": "stream",
     "text": [
      " Saved translated file: f179eb06-0c53-44df-a13f-570be23355bb_8.csv\n",
      "\n",
      "Processing file 447 of 490: f179eb06-0c53-44df-a13f-570be23355bb_9.csv\n"
     ]
    },
    {
     "name": "stderr",
     "output_type": "stream",
     "text": [
      "Translating OCR Files:  91%|█████████ | 447/490 [4:01:30<26:34, 37.08s/file]"
     ]
    },
    {
     "name": "stdout",
     "output_type": "stream",
     "text": [
      " Saved translated file: f179eb06-0c53-44df-a13f-570be23355bb_9.csv\n",
      "\n",
      "Processing file 448 of 490: f313f521-80a1-4db5-a8a7-53d29ee09890.csv\n"
     ]
    },
    {
     "name": "stderr",
     "output_type": "stream",
     "text": [
      "Translating OCR Files:  91%|█████████▏| 448/490 [4:01:57<23:48, 34.02s/file]"
     ]
    },
    {
     "name": "stdout",
     "output_type": "stream",
     "text": [
      " Saved translated file: f313f521-80a1-4db5-a8a7-53d29ee09890.csv\n",
      "\n",
      "Processing file 449 of 490: f41b7574-57b4-4c9f-907c-2a3c48a56157.csv\n"
     ]
    },
    {
     "name": "stderr",
     "output_type": "stream",
     "text": [
      "Translating OCR Files:  92%|█████████▏| 449/490 [4:02:18<20:30, 30.01s/file]"
     ]
    },
    {
     "name": "stdout",
     "output_type": "stream",
     "text": [
      " Saved translated file: f41b7574-57b4-4c9f-907c-2a3c48a56157.csv\n",
      "\n",
      "Processing file 450 of 490: f7205881-3904-42ec-ab2c-04f36fa24785_0.csv\n"
     ]
    },
    {
     "name": "stderr",
     "output_type": "stream",
     "text": [
      "Translating OCR Files:  92%|█████████▏| 450/490 [4:02:23<14:55, 22.38s/file]"
     ]
    },
    {
     "name": "stdout",
     "output_type": "stream",
     "text": [
      " Saved translated file: f7205881-3904-42ec-ab2c-04f36fa24785_0.csv\n",
      "\n",
      "Processing file 451 of 490: f7205881-3904-42ec-ab2c-04f36fa24785_1.csv\n"
     ]
    },
    {
     "name": "stderr",
     "output_type": "stream",
     "text": [
      "Translating OCR Files:  92%|█████████▏| 451/490 [4:02:35<12:31, 19.28s/file]"
     ]
    },
    {
     "name": "stdout",
     "output_type": "stream",
     "text": [
      " Saved translated file: f7205881-3904-42ec-ab2c-04f36fa24785_1.csv\n",
      "\n",
      "Processing file 452 of 490: f7205881-3904-42ec-ab2c-04f36fa24785_10.csv\n"
     ]
    },
    {
     "name": "stderr",
     "output_type": "stream",
     "text": [
      "Translating OCR Files:  92%|█████████▏| 452/490 [4:02:47<10:58, 17.33s/file]"
     ]
    },
    {
     "name": "stdout",
     "output_type": "stream",
     "text": [
      " Saved translated file: f7205881-3904-42ec-ab2c-04f36fa24785_10.csv\n",
      "\n",
      "Processing file 453 of 490: f7205881-3904-42ec-ab2c-04f36fa24785_11.csv\n"
     ]
    },
    {
     "name": "stderr",
     "output_type": "stream",
     "text": [
      "Translating OCR Files:  92%|█████████▏| 453/490 [4:03:08<11:19, 18.37s/file]"
     ]
    },
    {
     "name": "stdout",
     "output_type": "stream",
     "text": [
      " Saved translated file: f7205881-3904-42ec-ab2c-04f36fa24785_11.csv\n",
      "\n",
      "Processing file 454 of 490: f7205881-3904-42ec-ab2c-04f36fa24785_12.csv\n"
     ]
    },
    {
     "name": "stderr",
     "output_type": "stream",
     "text": [
      "Translating OCR Files:  93%|█████████▎| 454/490 [4:03:55<16:11, 27.00s/file]"
     ]
    },
    {
     "name": "stdout",
     "output_type": "stream",
     "text": [
      " Saved translated file: f7205881-3904-42ec-ab2c-04f36fa24785_12.csv\n",
      "\n",
      "Processing file 455 of 490: f7205881-3904-42ec-ab2c-04f36fa24785_13.csv\n"
     ]
    },
    {
     "name": "stderr",
     "output_type": "stream",
     "text": [
      "Translating OCR Files:  93%|█████████▎| 455/490 [4:04:27<16:38, 28.54s/file]"
     ]
    },
    {
     "name": "stdout",
     "output_type": "stream",
     "text": [
      " Saved translated file: f7205881-3904-42ec-ab2c-04f36fa24785_13.csv\n",
      "\n",
      "Processing file 456 of 490: f7205881-3904-42ec-ab2c-04f36fa24785_14.csv\n"
     ]
    },
    {
     "name": "stderr",
     "output_type": "stream",
     "text": [
      "Translating OCR Files:  93%|█████████▎| 456/490 [4:04:30<11:43, 20.69s/file]"
     ]
    },
    {
     "name": "stdout",
     "output_type": "stream",
     "text": [
      " Saved translated file: f7205881-3904-42ec-ab2c-04f36fa24785_14.csv\n",
      "\n",
      "Processing file 457 of 490: f7205881-3904-42ec-ab2c-04f36fa24785_15.csv\n"
     ]
    },
    {
     "name": "stderr",
     "output_type": "stream",
     "text": [
      "Translating OCR Files:  93%|█████████▎| 457/490 [4:05:22<16:29, 29.98s/file]"
     ]
    },
    {
     "name": "stdout",
     "output_type": "stream",
     "text": [
      " Saved translated file: f7205881-3904-42ec-ab2c-04f36fa24785_15.csv\n",
      "\n",
      "Processing file 458 of 490: f7205881-3904-42ec-ab2c-04f36fa24785_16.csv\n"
     ]
    },
    {
     "name": "stderr",
     "output_type": "stream",
     "text": [
      "Translating OCR Files:  93%|█████████▎| 458/490 [4:05:25<11:41, 21.92s/file]"
     ]
    },
    {
     "name": "stdout",
     "output_type": "stream",
     "text": [
      " Saved translated file: f7205881-3904-42ec-ab2c-04f36fa24785_16.csv\n",
      "\n",
      "Processing file 459 of 490: f7205881-3904-42ec-ab2c-04f36fa24785_17.csv\n"
     ]
    },
    {
     "name": "stderr",
     "output_type": "stream",
     "text": [
      "Translating OCR Files:  94%|█████████▎| 459/490 [4:05:57<12:56, 25.06s/file]"
     ]
    },
    {
     "name": "stdout",
     "output_type": "stream",
     "text": [
      " Saved translated file: f7205881-3904-42ec-ab2c-04f36fa24785_17.csv\n",
      "\n",
      "Processing file 460 of 490: f7205881-3904-42ec-ab2c-04f36fa24785_2.csv\n"
     ]
    },
    {
     "name": "stderr",
     "output_type": "stream",
     "text": [
      "Translating OCR Files:  94%|█████████▍| 460/490 [4:06:11<10:50, 21.69s/file]"
     ]
    },
    {
     "name": "stdout",
     "output_type": "stream",
     "text": [
      " Saved translated file: f7205881-3904-42ec-ab2c-04f36fa24785_2.csv\n",
      "\n",
      "Processing file 461 of 490: f7205881-3904-42ec-ab2c-04f36fa24785_3.csv\n"
     ]
    },
    {
     "name": "stderr",
     "output_type": "stream",
     "text": [
      "Translating OCR Files:  94%|█████████▍| 461/490 [4:07:41<20:24, 42.24s/file]"
     ]
    },
    {
     "name": "stdout",
     "output_type": "stream",
     "text": [
      "Ollama error: HTTPConnectionPool(host='localhost', port=11434): Read timed out. (read timeout=90)\n",
      " Saved translated file: f7205881-3904-42ec-ab2c-04f36fa24785_3.csv\n",
      "\n",
      "Processing file 462 of 490: f7205881-3904-42ec-ab2c-04f36fa24785_4.csv\n"
     ]
    },
    {
     "name": "stderr",
     "output_type": "stream",
     "text": [
      "Translating OCR Files:  94%|█████████▍| 462/490 [4:09:11<26:25, 56.61s/file]"
     ]
    },
    {
     "name": "stdout",
     "output_type": "stream",
     "text": [
      "Ollama error: HTTPConnectionPool(host='localhost', port=11434): Read timed out. (read timeout=90)\n",
      " Saved translated file: f7205881-3904-42ec-ab2c-04f36fa24785_4.csv\n",
      "\n",
      "Processing file 463 of 490: f7205881-3904-42ec-ab2c-04f36fa24785_5.csv\n"
     ]
    },
    {
     "name": "stderr",
     "output_type": "stream",
     "text": [
      "Translating OCR Files:  94%|█████████▍| 463/490 [4:09:49<22:58, 51.05s/file]"
     ]
    },
    {
     "name": "stdout",
     "output_type": "stream",
     "text": [
      " Saved translated file: f7205881-3904-42ec-ab2c-04f36fa24785_5.csv\n",
      "\n",
      "Processing file 464 of 490: f7205881-3904-42ec-ab2c-04f36fa24785_6.csv\n"
     ]
    },
    {
     "name": "stderr",
     "output_type": "stream",
     "text": [
      "Translating OCR Files:  95%|█████████▍| 464/490 [4:10:22<19:43, 45.52s/file]"
     ]
    },
    {
     "name": "stdout",
     "output_type": "stream",
     "text": [
      " Saved translated file: f7205881-3904-42ec-ab2c-04f36fa24785_6.csv\n",
      "\n",
      "Processing file 465 of 490: f7205881-3904-42ec-ab2c-04f36fa24785_7.csv\n"
     ]
    },
    {
     "name": "stderr",
     "output_type": "stream",
     "text": [
      "Translating OCR Files:  95%|█████████▍| 465/490 [4:11:08<19:01, 45.67s/file]"
     ]
    },
    {
     "name": "stdout",
     "output_type": "stream",
     "text": [
      " Saved translated file: f7205881-3904-42ec-ab2c-04f36fa24785_7.csv\n",
      "\n",
      "Processing file 466 of 490: f7205881-3904-42ec-ab2c-04f36fa24785_8.csv\n"
     ]
    },
    {
     "name": "stderr",
     "output_type": "stream",
     "text": [
      "Translating OCR Files:  95%|█████████▌| 466/490 [4:11:41<16:45, 41.91s/file]"
     ]
    },
    {
     "name": "stdout",
     "output_type": "stream",
     "text": [
      " Saved translated file: f7205881-3904-42ec-ab2c-04f36fa24785_8.csv\n",
      "\n",
      "Processing file 467 of 490: f7205881-3904-42ec-ab2c-04f36fa24785_9.csv\n"
     ]
    },
    {
     "name": "stderr",
     "output_type": "stream",
     "text": [
      "Translating OCR Files:  95%|█████████▌| 467/490 [4:12:07<14:13, 37.12s/file]"
     ]
    },
    {
     "name": "stdout",
     "output_type": "stream",
     "text": [
      " Saved translated file: f7205881-3904-42ec-ab2c-04f36fa24785_9.csv\n",
      "\n",
      "Processing file 468 of 490: fc27ce32-9c96-416c-9c38-84977255e0ba.csv\n"
     ]
    },
    {
     "name": "stderr",
     "output_type": "stream",
     "text": [
      "Translating OCR Files:  96%|█████████▌| 468/490 [4:12:26<11:37, 31.70s/file]"
     ]
    },
    {
     "name": "stdout",
     "output_type": "stream",
     "text": [
      " Saved translated file: fc27ce32-9c96-416c-9c38-84977255e0ba.csv\n",
      "\n",
      "Processing file 469 of 490: fcf90a92-794c-40c6-aa4f-8ea82f8bed51.csv\n"
     ]
    },
    {
     "name": "stderr",
     "output_type": "stream",
     "text": [
      "Translating OCR Files:  96%|█████████▌| 469/490 [4:12:49<10:12, 29.15s/file]"
     ]
    },
    {
     "name": "stdout",
     "output_type": "stream",
     "text": [
      " Saved translated file: fcf90a92-794c-40c6-aa4f-8ea82f8bed51.csv\n",
      "\n",
      "Processing file 470 of 490: fe221e78-67e4-4d88-b73d-e58a9943a036.csv\n"
     ]
    },
    {
     "name": "stderr",
     "output_type": "stream",
     "text": [
      "Translating OCR Files:  96%|█████████▌| 470/490 [4:13:03<08:09, 24.47s/file]"
     ]
    },
    {
     "name": "stdout",
     "output_type": "stream",
     "text": [
      " Saved translated file: fe221e78-67e4-4d88-b73d-e58a9943a036.csv\n",
      "\n",
      "Processing file 471 of 490: fe245192-1f9c-4f28-9b32-046fb7ce7e1e_0.csv\n"
     ]
    },
    {
     "name": "stderr",
     "output_type": "stream",
     "text": [
      "Translating OCR Files:  96%|█████████▌| 471/490 [4:13:09<05:59, 18.92s/file]"
     ]
    },
    {
     "name": "stdout",
     "output_type": "stream",
     "text": [
      " Saved translated file: fe245192-1f9c-4f28-9b32-046fb7ce7e1e_0.csv\n",
      "\n",
      "Processing file 472 of 490: fe245192-1f9c-4f28-9b32-046fb7ce7e1e_1.csv\n"
     ]
    },
    {
     "name": "stderr",
     "output_type": "stream",
     "text": [
      "Translating OCR Files:  96%|█████████▋| 472/490 [4:13:47<07:25, 24.77s/file]"
     ]
    },
    {
     "name": "stdout",
     "output_type": "stream",
     "text": [
      " Saved translated file: fe245192-1f9c-4f28-9b32-046fb7ce7e1e_1.csv\n",
      "\n",
      "Processing file 473 of 490: fe245192-1f9c-4f28-9b32-046fb7ce7e1e_10.csv\n"
     ]
    },
    {
     "name": "stderr",
     "output_type": "stream",
     "text": [
      "Translating OCR Files:  97%|█████████▋| 473/490 [4:14:21<07:46, 27.45s/file]"
     ]
    },
    {
     "name": "stdout",
     "output_type": "stream",
     "text": [
      " Saved translated file: fe245192-1f9c-4f28-9b32-046fb7ce7e1e_10.csv\n",
      "\n",
      "Processing file 474 of 490: fe245192-1f9c-4f28-9b32-046fb7ce7e1e_11.csv\n"
     ]
    },
    {
     "name": "stderr",
     "output_type": "stream",
     "text": [
      "Translating OCR Files:  97%|█████████▋| 474/490 [4:14:41<06:45, 25.33s/file]"
     ]
    },
    {
     "name": "stdout",
     "output_type": "stream",
     "text": [
      " Saved translated file: fe245192-1f9c-4f28-9b32-046fb7ce7e1e_11.csv\n",
      "\n",
      "Processing file 475 of 490: fe245192-1f9c-4f28-9b32-046fb7ce7e1e_12.csv\n"
     ]
    },
    {
     "name": "stderr",
     "output_type": "stream",
     "text": [
      "Translating OCR Files:  97%|█████████▋| 475/490 [4:15:05<06:12, 24.86s/file]"
     ]
    },
    {
     "name": "stdout",
     "output_type": "stream",
     "text": [
      " Saved translated file: fe245192-1f9c-4f28-9b32-046fb7ce7e1e_12.csv\n",
      "\n",
      "Processing file 476 of 490: fe245192-1f9c-4f28-9b32-046fb7ce7e1e_13.csv\n"
     ]
    },
    {
     "name": "stderr",
     "output_type": "stream",
     "text": [
      "Translating OCR Files:  97%|█████████▋| 476/490 [4:15:23<05:18, 22.75s/file]"
     ]
    },
    {
     "name": "stdout",
     "output_type": "stream",
     "text": [
      " Saved translated file: fe245192-1f9c-4f28-9b32-046fb7ce7e1e_13.csv\n",
      "\n",
      "Processing file 477 of 490: fe245192-1f9c-4f28-9b32-046fb7ce7e1e_14.csv\n"
     ]
    },
    {
     "name": "stderr",
     "output_type": "stream",
     "text": [
      "Translating OCR Files:  97%|█████████▋| 477/490 [4:15:56<05:38, 26.02s/file]"
     ]
    },
    {
     "name": "stdout",
     "output_type": "stream",
     "text": [
      " Saved translated file: fe245192-1f9c-4f28-9b32-046fb7ce7e1e_14.csv\n",
      "\n",
      "Processing file 478 of 490: fe245192-1f9c-4f28-9b32-046fb7ce7e1e_15.csv\n"
     ]
    },
    {
     "name": "stderr",
     "output_type": "stream",
     "text": [
      "Translating OCR Files:  98%|█████████▊| 478/490 [4:16:23<05:14, 26.23s/file]"
     ]
    },
    {
     "name": "stdout",
     "output_type": "stream",
     "text": [
      " Saved translated file: fe245192-1f9c-4f28-9b32-046fb7ce7e1e_15.csv\n",
      "\n",
      "Processing file 479 of 490: fe245192-1f9c-4f28-9b32-046fb7ce7e1e_16.csv\n"
     ]
    },
    {
     "name": "stderr",
     "output_type": "stream",
     "text": [
      "Translating OCR Files:  98%|█████████▊| 479/490 [4:17:14<06:10, 33.66s/file]"
     ]
    },
    {
     "name": "stdout",
     "output_type": "stream",
     "text": [
      " Saved translated file: fe245192-1f9c-4f28-9b32-046fb7ce7e1e_16.csv\n",
      "\n",
      "Processing file 480 of 490: fe245192-1f9c-4f28-9b32-046fb7ce7e1e_17.csv\n"
     ]
    },
    {
     "name": "stderr",
     "output_type": "stream",
     "text": [
      "Translating OCR Files:  98%|█████████▊| 480/490 [4:17:34<04:55, 29.55s/file]"
     ]
    },
    {
     "name": "stdout",
     "output_type": "stream",
     "text": [
      " Saved translated file: fe245192-1f9c-4f28-9b32-046fb7ce7e1e_17.csv\n",
      "\n",
      "Processing file 481 of 490: fe245192-1f9c-4f28-9b32-046fb7ce7e1e_18.csv\n"
     ]
    },
    {
     "name": "stderr",
     "output_type": "stream",
     "text": [
      "Translating OCR Files:  98%|█████████▊| 481/490 [4:19:04<07:09, 47.72s/file]"
     ]
    },
    {
     "name": "stdout",
     "output_type": "stream",
     "text": [
      "Ollama error: HTTPConnectionPool(host='localhost', port=11434): Read timed out. (read timeout=90)\n",
      " Saved translated file: fe245192-1f9c-4f28-9b32-046fb7ce7e1e_18.csv\n",
      "\n",
      "Processing file 482 of 490: fe245192-1f9c-4f28-9b32-046fb7ce7e1e_19.csv\n"
     ]
    },
    {
     "name": "stderr",
     "output_type": "stream",
     "text": [
      "Translating OCR Files:  98%|█████████▊| 482/490 [4:19:24<05:14, 39.33s/file]"
     ]
    },
    {
     "name": "stdout",
     "output_type": "stream",
     "text": [
      " Saved translated file: fe245192-1f9c-4f28-9b32-046fb7ce7e1e_19.csv\n",
      "\n",
      "Processing file 483 of 490: fe245192-1f9c-4f28-9b32-046fb7ce7e1e_2.csv\n"
     ]
    },
    {
     "name": "stderr",
     "output_type": "stream",
     "text": [
      "Translating OCR Files:  99%|█████████▊| 483/490 [4:19:58<04:23, 37.59s/file]"
     ]
    },
    {
     "name": "stdout",
     "output_type": "stream",
     "text": [
      " Saved translated file: fe245192-1f9c-4f28-9b32-046fb7ce7e1e_2.csv\n",
      "\n",
      "Processing file 484 of 490: fe245192-1f9c-4f28-9b32-046fb7ce7e1e_3.csv\n"
     ]
    },
    {
     "name": "stderr",
     "output_type": "stream",
     "text": [
      "Translating OCR Files:  99%|█████████▉| 484/490 [4:21:20<05:06, 51.08s/file]"
     ]
    },
    {
     "name": "stdout",
     "output_type": "stream",
     "text": [
      " Saved translated file: fe245192-1f9c-4f28-9b32-046fb7ce7e1e_3.csv\n",
      "\n",
      "Processing file 485 of 490: fe245192-1f9c-4f28-9b32-046fb7ce7e1e_4.csv\n"
     ]
    },
    {
     "name": "stderr",
     "output_type": "stream",
     "text": [
      "Translating OCR Files:  99%|█████████▉| 485/490 [4:22:32<04:46, 57.28s/file]"
     ]
    },
    {
     "name": "stdout",
     "output_type": "stream",
     "text": [
      " Saved translated file: fe245192-1f9c-4f28-9b32-046fb7ce7e1e_4.csv\n",
      "\n",
      "Processing file 486 of 490: fe245192-1f9c-4f28-9b32-046fb7ce7e1e_5.csv\n"
     ]
    },
    {
     "name": "stderr",
     "output_type": "stream",
     "text": [
      "Translating OCR Files:  99%|█████████▉| 486/490 [4:23:11<03:26, 51.70s/file]"
     ]
    },
    {
     "name": "stdout",
     "output_type": "stream",
     "text": [
      " Saved translated file: fe245192-1f9c-4f28-9b32-046fb7ce7e1e_5.csv\n",
      "\n",
      "Processing file 487 of 490: fe245192-1f9c-4f28-9b32-046fb7ce7e1e_6.csv\n"
     ]
    },
    {
     "name": "stderr",
     "output_type": "stream",
     "text": [
      "Translating OCR Files:  99%|█████████▉| 487/490 [4:23:47<02:20, 46.98s/file]"
     ]
    },
    {
     "name": "stdout",
     "output_type": "stream",
     "text": [
      " Saved translated file: fe245192-1f9c-4f28-9b32-046fb7ce7e1e_6.csv\n",
      "\n",
      "Processing file 488 of 490: fe245192-1f9c-4f28-9b32-046fb7ce7e1e_7.csv\n"
     ]
    },
    {
     "name": "stderr",
     "output_type": "stream",
     "text": [
      "Translating OCR Files: 100%|█████████▉| 488/490 [4:24:08<01:18, 39.30s/file]"
     ]
    },
    {
     "name": "stdout",
     "output_type": "stream",
     "text": [
      " Saved translated file: fe245192-1f9c-4f28-9b32-046fb7ce7e1e_7.csv\n",
      "\n",
      "Processing file 489 of 490: fe245192-1f9c-4f28-9b32-046fb7ce7e1e_8.csv\n"
     ]
    },
    {
     "name": "stderr",
     "output_type": "stream",
     "text": [
      "Translating OCR Files: 100%|█████████▉| 489/490 [4:24:45<00:38, 38.50s/file]"
     ]
    },
    {
     "name": "stdout",
     "output_type": "stream",
     "text": [
      " Saved translated file: fe245192-1f9c-4f28-9b32-046fb7ce7e1e_8.csv\n",
      "\n",
      "Processing file 490 of 490: fe245192-1f9c-4f28-9b32-046fb7ce7e1e_9.csv\n"
     ]
    },
    {
     "name": "stderr",
     "output_type": "stream",
     "text": [
      "Translating OCR Files: 100%|██████████| 490/490 [4:25:20<00:00, 32.49s/file]"
     ]
    },
    {
     "name": "stdout",
     "output_type": "stream",
     "text": [
      " Saved translated file: fe245192-1f9c-4f28-9b32-046fb7ce7e1e_9.csv\n"
     ]
    },
    {
     "name": "stderr",
     "output_type": "stream",
     "text": [
      "\n"
     ]
    }
   ],
   "source": [
    "import os\n",
    "import pandas as pd\n",
    "import requests\n",
    "from tqdm import tqdm\n",
    "from concurrent.futures import ThreadPoolExecutor, as_completed\n",
    "\n",
    "ocr_folder_path = 'ocr_to_csv/'\n",
    "\n",
    "def query_ollama(prompt, model=\"gemma3:27b\"):\n",
    "    url = \"http://localhost:11434/api/generate\"\n",
    "    payload = {\n",
    "        \"model\": model,\n",
    "        \"prompt\": prompt,\n",
    "        \"stream\": False\n",
    "    }\n",
    "    try:\n",
    "        response = requests.post(url, json=payload, timeout=90)\n",
    "        response.raise_for_status()\n",
    "        return response.json()[\"response\"].strip()\n",
    "    except Exception as e:\n",
    "        print(f\"Ollama error: {e}\")\n",
    "        return \"[Translation Error]\"\n",
    "\n",
    "def translate_row(index, row_text):\n",
    "    if pd.isna(row_text) or not row_text.strip():\n",
    "        return index, \"\"\n",
    "    prompt = (\n",
    "        \"You are translating Chinese text into fluent English. Translate the following message:\\n\\n\"\n",
    "        f\"{row_text}\\n\\n\"\n",
    "        \"ONLY RETURN the English translation. DO NOT add commentary or extra formatting.\"\n",
    "    )\n",
    "    return index, query_ollama(prompt)\n",
    "\n",
    "ocr_files = sorted([f for f in os.listdir(ocr_folder_path) if f.endswith('.csv')])\n",
    "\n",
    "for file_idx, file in enumerate(tqdm(ocr_files, desc=\"Translating OCR Files\", unit=\"file\")):\n",
    "    print(f\"\\nProcessing file {file_idx + 1} of {len(ocr_files)}: {file}\")\n",
    "    path = os.path.join(ocr_folder_path, file)\n",
    "    df = pd.read_csv(path)\n",
    "\n",
    "    if 'ocr extraction' not in df.columns:\n",
    "        print(f\" Skipping {file} (missing 'ocr extraction' column)\")\n",
    "        continue\n",
    "\n",
    "    df['ocr translation'] = \"\"\n",
    "\n",
    "    futures = []\n",
    "    with ThreadPoolExecutor(max_workers=8) as executor:\n",
    "        for idx, row in df.iterrows():\n",
    "            futures.append(executor.submit(translate_row, idx, row['ocr extraction']))\n",
    "\n",
    "        for future in as_completed(futures):\n",
    "            idx, translated = future.result()\n",
    "            df.at[idx, 'ocr translation'] = translated\n",
    "\n",
    "    df.to_csv(path, index=False)\n",
    "    print(f\" Saved translated file: {file}\")"
   ]
  },
  {
   "cell_type": "code",
   "execution_count": null,
   "id": "2e0ebd91-ab30-41e1-aea8-0376b4a4798b",
   "metadata": {},
   "outputs": [],
   "source": [
    "import pandas as pd\n",
    "import os\n",
    "import re\n",
    "import ast"
   ]
  },
  {
   "cell_type": "code",
   "execution_count": 10,
   "id": "f18566b9-bd55-4b7f-81a0-7aff46c84b1a",
   "metadata": {
    "tags": []
   },
   "outputs": [
    {
     "name": "stdout",
     "output_type": "stream",
     "text": [
      "Processing: csvs/28.csv\n",
      "Processing: csvs/5.csv\n",
      "Processing: csvs/38.csv\n",
      "Processing: csvs/18.csv\n",
      "Processing: csvs/1.csv\n",
      "Processing: csvs/19.csv\n",
      "Processing: csvs/29.csv\n",
      "Processing: csvs/4.csv\n",
      "Processing: csvs/39.csv\n",
      "Processing: csvs/16.csv\n",
      "Processing: csvs/22.csv\n",
      "Processing: csvs/32.csv\n",
      "Processing: csvs/26.csv\n",
      "Processing: csvs/12.csv\n",
      "Processing: csvs/36.csv\n",
      "Processing: csvs/27.csv\n",
      "Processing: csvs/13.csv\n",
      "Processing: csvs/37.csv\n",
      "Processing: csvs/17.csv\n",
      "Processing: csvs/23.csv\n",
      "Processing: csvs/33.csv\n",
      "Processing: csvs/24.csv\n",
      "Processing: csvs/41.csv\n",
      "Processing: csvs/10.csv\n",
      "Processing: csvs/9.csv\n",
      "Processing: csvs/34.csv\n",
      "Processing: csvs/14.csv\n",
      "Processing: csvs/20.csv\n",
      "Processing: csvs/30.csv\n",
      "Processing: csvs/15.csv\n",
      "Processing: csvs/21.csv\n",
      "Processing: csvs/31.csv\n",
      "Processing: csvs/40.csv\n",
      "Processing: csvs/11.csv\n",
      "Processing: csvs/35.csv\n",
      "Processing: csvs/3.csv\n",
      "Processing: csvs/7.csv\n",
      "Processing: csvs/6.csv\n",
      "Processing: csvs/2.csv\n"
     ]
    }
   ],
   "source": [
    "# Changing the files in the chats with the translated OCR output\n",
    "\n",
    "mapping_csv_path = 'results/filtered_ref_summary_csv_replaced.csv'\n",
    "chat_reference_csv_path = 'results/updated_with_csv_paths.csv'  \n",
    "ocr_folder_path = 'ocr_to_csv'\n",
    "\n",
    "# Use the csv file stroing all the paths to filtered chats by the LLM\n",
    "chat_paths_df = pd.read_csv(chat_reference_csv_path)\n",
    "\n",
    "mapping_df = pd.read_csv(mapping_csv_path)\n",
    "\n",
    "# Link md files and the pngs inside based on uuid\n",
    "md_uuid_to_pngs = {}\n",
    "\n",
    "for index, row in mapping_df.iterrows():\n",
    "    mentions2_text = row.get('mentions2', '{}')\n",
    "    try:\n",
    "        mentions2 = ast.literal_eval(mentions2_text)\n",
    "        for md_path, png_list in mentions2.items():\n",
    "            md_uuid = md_path.split('/')[-1].replace('.csv', '')\n",
    "            png_names = [os.path.basename(p) for p in png_list]\n",
    "            md_uuid_to_pngs[md_uuid] = png_names\n",
    "    except:\n",
    "        continue\n",
    "\n",
    "# Function to fetch OCR translation from OCR folder\n",
    "def get_ocr_translation(png_filename):\n",
    "    csv_filename = png_filename.replace('.png', '.csv')\n",
    "    csv_path = os.path.join(ocr_folder_path, csv_filename)\n",
    "\n",
    "    if os.path.exists(csv_path):\n",
    "        try:\n",
    "            df = pd.read_csv(csv_path)\n",
    "            if 'ocr translation' in df.columns:\n",
    "                non_empty_translations = df['ocr translation'].dropna().astype(str)\n",
    "                for text in non_empty_translations:\n",
    "                    if text.strip():\n",
    "                        return text\n",
    "        except Exception as e:\n",
    "            print(f\"Error reading {csv_path}: {e}\")\n",
    "            return ''\n",
    "    return ''\n",
    "\n",
    "# Function to replace .png/.md in message with OCR translation\n",
    "def replace_with_ocr_translation(message):\n",
    "    if not isinstance(message, str):\n",
    "        return message\n",
    "\n",
    "    png_files = re.findall(r'(\\d+-[a-f0-9\\-]+(?:_[0-9]+)?\\.png)', message)\n",
    "    for png in png_files:\n",
    "        ocr_text = get_ocr_translation(png)\n",
    "        if ocr_text:\n",
    "            message = message.replace(png, f\"OCR translation:\\n{ocr_text}\")\n",
    "\n",
    "    md_uuids = re.findall(r'([a-f0-9\\-]{36})\\.md', message)\n",
    "    for md_uuid in md_uuids:\n",
    "        png_list = md_uuid_to_pngs.get(md_uuid, [])\n",
    "        ocr_texts = []\n",
    "        for png in png_list:\n",
    "            ocr_text = get_ocr_translation(png)\n",
    "            if ocr_text:\n",
    "                ocr_texts.append(f\"OCR for {png}:\\n{ocr_text}\")\n",
    "        if ocr_texts:\n",
    "            combined = \"\\n\\n\".join(ocr_texts)\n",
    "            full_md_match = re.search(r'\\S*' + re.escape(md_uuid) + r'\\.md', message)\n",
    "            if full_md_match:\n",
    "                message = message.replace(full_md_match.group(0), combined)\n",
    "\n",
    "    return message\n",
    "\n",
    "# Loop over each chat CSV listed in the 'chats' column\n",
    "for idx, row in chat_paths_df.iterrows():\n",
    "    chat_csv_path = row['chats']\n",
    "    if not isinstance(chat_csv_path, str) or not os.path.exists(chat_csv_path):\n",
    "        print(f\"Skipping missing or invalid path: {chat_csv_path}\")\n",
    "        continue\n",
    "\n",
    "    print(f\"Processing: {chat_csv_path}\")\n",
    "    try:\n",
    "        chat_df = pd.read_csv(chat_csv_path)\n",
    "        if 'message_translation' in chat_df.columns:\n",
    "            chat_df['message_translation'] = chat_df['message_translation'].apply(replace_with_ocr_translation)\n",
    "            chat_df.to_csv(chat_csv_path, index=False)\n",
    "        else:\n",
    "            print(f\"Column 'message_translation' not found in {chat_csv_path}\")\n",
    "    except Exception as e:\n",
    "        print(f\"Error processing {chat_csv_path}: {e}\")"
   ]
  },
  {
   "cell_type": "markdown",
   "id": "72f24fa3-ebc0-454c-a5a4-6e03836fdf0a",
   "metadata": {
    "tags": []
   },
   "source": [
    "# **USER ANALYSIS**"
   ]
  },
  {
   "cell_type": "markdown",
   "id": "de27250b-4480-49d8-8b13-0ad612688a80",
   "metadata": {
    "tags": []
   },
   "source": [
    "## *Username association with mentioned names*"
   ]
  },
  {
   "cell_type": "code",
   "execution_count": null,
   "id": "fafc2c45-d24c-4021-bc7a-e993374bafec",
   "metadata": {},
   "outputs": [],
   "source": [
    "import pandas as pd\n",
    "import os\n",
    "import re\n",
    "import requests\n",
    "from collections import defaultdict, Counter"
   ]
  },
  {
   "cell_type": "code",
   "execution_count": 77,
   "id": "5f64b244-8c62-4d31-b14c-c396d8cc1076",
   "metadata": {
    "tags": []
   },
   "outputs": [
    {
     "name": "stdout",
     "output_type": "stream",
     "text": [
      "              username     real_name  count  \\\n",
      "0             Shutd0wn        Mr. Wu      1   \n",
      "1               adpw90     Mr. Zheng      1   \n",
      "2   wxid_5390224027312      Mr. Wang      2   \n",
      "3  wxid_70w3p1jin84k22   Sister Qian      1   \n",
      "4         SWEET5683yao  Brother Qing      2   \n",
      "5               lengmo         Mr. C      4   \n",
      "6  wxid_7p054rmzkhqf21        Mr. Lu      2   \n",
      "7            wei592628       Mr. Wei      4   \n",
      "8             nullroot      Mr. Zhou      2   \n",
      "9           gzp1991101      Mr. Gong      7   \n",
      "\n",
      "                                            examples  \n",
      "0  28.csv:0 - \"Mr. Wu, are you available now? I'd...  \n",
      "1  4.csv:21 - \"Mr. Zheng, help me see where this ...  \n",
      "2  39.csv:311 - \"Mr. Wang, there's nothing I can ...  \n",
      "3  16.csv:104 - \"Sister Qian, don't settle for le...  \n",
      "4  22.csv:6 - \"Brother Qing, are you interested?\"...  \n",
      "5  26.csv:1 - \"Mr. C, this is a summary of the sa...  \n",
      "6  24.csv:27 - \"Mr. Lu, regarding what Ying menti...  \n",
      "7  10.csv:1 - \"Mr. Wei, roughly what aspect are y...  \n",
      "8  10.csv:6 - \"Hello Mr. Zhou, I have a few numbe...  \n",
      "9  31.csv:27 - \"Mr. Gong, have you found anything...  \n"
     ]
    }
   ],
   "source": [
    "def query_ollama(prompt, model=\"gemma3:27b\"):\n",
    "    url = \"http://localhost:11434/api/generate\"\n",
    "    payload = {\n",
    "        \"model\": model,\n",
    "        \"prompt\": prompt,\n",
    "        \"stream\": False\n",
    "    }\n",
    "    try:\n",
    "        response = requests.post(url, json=payload, timeout=90)\n",
    "        response.raise_for_status()\n",
    "        return response.json()[\"response\"].strip().lower()\n",
    "    except Exception as e:\n",
    "        return f\"[error: {e}]\"\n",
    "\n",
    "# Function to build the LLM prompt for analyzing honorific usage\n",
    "def build_prompt(sender, receiver, message_text, honorific):\n",
    "    return (\n",
    "        f\"There is a conversation between two users:\\n\"\n",
    "        f\"User A: {sender}\\n\"\n",
    "        f\"User B: {receiver}\\n\\n\"\n",
    "        f\"The message is as follows:\\n\"\n",
    "        f\"User A → User B: {message_text}\\n\\n\"\n",
    "        f\"Question: In the sentence '{message_text}', who is {honorific} — \"\n",
    "        f\"the sender, the receiver, or a third party?\\n\\n\"\n",
    "        f\"Output format: {honorific} - give the username of the person or \"\n",
    "        f\"if they are a thirdparty, no explanation needed\"\n",
    "    )\n",
    "\n",
    "# List of honorifics to look for in messages\n",
    "honorific_keywords = [\n",
    "    r'Mr\\.', r'Ms\\.', r'Mrs\\.', r'Miss', r'Brother',\n",
    "    r'Sister', r'Mister', r'Miss', r'Comrade', r'Colleague'\n",
    "]\n",
    "\n",
    "# Regex pattern to detect honorifics followed by a name (e.g., Mr. Smith)\n",
    "honorific_pattern = re.compile(\n",
    "    r'\\b(?:' + '|'.join(honorific_keywords) + r')\\s+(?:[A-Z]\\b|[A-Z][a-z]+)\\b',\n",
    "    re.IGNORECASE\n",
    ")\n",
    "\n",
    "# Regex pattern to check if the message directly addresses someone\n",
    "direct_address_pattern = re.compile(\n",
    "    r'^(hi|hello|dear)?\\s*(?:' + '|'.join(honorific_keywords) + r')\\s+(?:[A-Z]\\b|[A-Z][a-z]+)\\b[\\s,:]',\n",
    "    re.IGNORECASE\n",
    ")\n",
    "\n",
    "# Load the CSV containing paths to individual chat logs\n",
    "df_paths = pd.read_csv(\"results/updated_with_csv_paths.csv\")\n",
    "\n",
    "# Dictionaries to store results for each user\n",
    "title_counts = defaultdict(Counter)        # Tracks how often each honorific is used for a user\n",
    "title_examples = defaultdict(list)         # Stores example messages where the honorific was used\n",
    "\n",
    "# Loop through each chat file\n",
    "for chat_file in df_paths['chats'].dropna().unique():\n",
    "    if not (isinstance(chat_file, str) and chat_file.endswith('.csv') and os.path.exists(chat_file)):\n",
    "        continue\n",
    "\n",
    "    try:\n",
    "        df_chat = pd.read_csv(chat_file)\n",
    "    except Exception as e:\n",
    "        print(f\"Error reading {chat_file}: {e}\")\n",
    "        continue\n",
    "\n",
    "    # Standardize column names for easier handling\n",
    "    df_chat.columns = [col.lower() for col in df_chat.columns]\n",
    "    message_columns = [col for col in df_chat.columns if 'message_translation' in col]\n",
    "    sender_column = df_chat.columns[1]\n",
    "    receiver_column = df_chat.columns[2]\n",
    "\n",
    "    # Process each message in the chat file\n",
    "    for index, row in df_chat.iterrows():\n",
    "        for message_col in message_columns:\n",
    "            if pd.isna(row.get(message_col)):\n",
    "                continue\n",
    "\n",
    "            message = str(row[message_col]).strip()\n",
    "            sender = row.get(sender_column)\n",
    "            receiver = row.get(receiver_column)\n",
    "\n",
    "            if not receiver or receiver == sender:\n",
    "                continue\n",
    "\n",
    "            matches = honorific_pattern.findall(message)\n",
    "            if len(matches) != 1:\n",
    "                continue  # Skip messages with no or multiple honorifics\n",
    "\n",
    "            honorific = matches[0].strip()\n",
    "\n",
    "            # Check if the honorific is used in a direct address\n",
    "            if not re.match(rf\"^(hi|hello|dear)?\\s*{re.escape(honorific)}[\\s,:]\", message, re.IGNORECASE):\n",
    "                continue\n",
    "\n",
    "            # Ask the LLM who the honorific refers to\n",
    "            prompt = build_prompt(sender, receiver, message, honorific)\n",
    "            result = query_ollama(prompt)\n",
    "\n",
    "            if \"thirdparty\" in result:\n",
    "                continue  # If the model says it refers to a third party we skip\n",
    "\n",
    "            # Count and store the result if valid\n",
    "            title_counts[receiver][honorific] += 1\n",
    "            title_examples[receiver].append((honorific, os.path.basename(chat_file), index, message))\n",
    "\n",
    "summary_rows = []\n",
    "for user_id, counter in title_counts.items():\n",
    "    if not counter:\n",
    "        continue\n",
    "\n",
    "    top_honorific, count = counter.most_common(1)[0]\n",
    "\n",
    "    # Grab up to 3 example messages\n",
    "    examples = [\n",
    "        f\"{file}:{line} - \\\"{msg}\\\"\"\n",
    "        for t, file, line, msg in title_examples[user_id] if t == top_honorific\n",
    "    ][:3]\n",
    "\n",
    "    summary_rows.append({\n",
    "        \"username\": user_id,\n",
    "        \"real_name\": top_honorific,\n",
    "        \"count\": count,\n",
    "        \"examples\": \" | \".join(examples)\n",
    "    })\n",
    "\n",
    "df_summary = pd.DataFrame(summary_rows, columns=[\"username\", \"real_name\", \"count\", \"examples\"])\n",
    "print(df_summary)\n",
    "df_summary.to_csv(\"honorific_usernames_cleaned.csv\", index=False)"
   ]
  },
  {
   "cell_type": "code",
   "execution_count": 3,
   "id": "e44a308c-daf8-4058-96e7-f31730d63a04",
   "metadata": {},
   "outputs": [],
   "source": [
    "import pandas as pd\n",
    "import os\n",
    "import re"
   ]
  },
  {
   "cell_type": "code",
   "execution_count": 4,
   "id": "ba7103b0-5704-4d94-b552-8a38882b6822",
   "metadata": {
    "tags": []
   },
   "outputs": [
    {
     "name": "stdout",
     "output_type": "stream",
     "text": [
      "   username real_name    file  line               sender  receiver  \\\n",
      "0  Shutd0wn    Mr. Wu  28.csv     0  wxid_xusilpfkh31g21  Shutd0wn   \n",
      "1  Shutd0wn    Mr. Wu  28.csv    26  wxid_xusilpfkh31g21  Shutd0wn   \n",
      "2  Shutd0wn    Mr. Wu  38.csv     8  wxid_zbytkn4qjl3r22    lengmo   \n",
      "3  Shutd0wn    Mr. Wu   1.csv   546             Shutd0wn    lengmo   \n",
      "4  Shutd0wn    Mr. Wu   1.csv  1662             Shutd0wn    lengmo   \n",
      "\n",
      "                                             message  \n",
      "0  Mr. Wu, are you available now? I'd like to hav...  \n",
      "1    Mr. Wu, I'd like to request 3 days off [smiles]  \n",
      "2  I spoke with Mr. Wu, he thinks it’s necessary,...  \n",
      "3  Wu Haibo invites you to a Tencent Meeting\\nMee...  \n",
      "4                              Zhao Wu was reported.  \n"
     ]
    }
   ],
   "source": [
    "# This code extracts all the messages where each real name is mentioned while keeping in mind receiver and sender\n",
    "\n",
    "df_users = pd.read_csv(\"honorific_usernames_cleaned.csv\") \n",
    "df_paths = pd.read_csv(\"results/updated_with_csv_paths.csv\")\n",
    "chat_paths = df_paths['chats'].dropna().unique()\n",
    "\n",
    "all_matched = []\n",
    "\n",
    "# Search messages for real_name\n",
    "for _, user_row in df_users.iterrows():\n",
    "    username = user_row['username']\n",
    "    real_name = user_row['real_name']\n",
    "    name_key = real_name.split()[-1].lower()\n",
    "\n",
    "    name_pattern = re.compile(\n",
    "        rf\"\\b(?:mr\\.|ms\\.|mrs\\.|miss|dr\\.|prof\\.|brother|sister)?\\s*\\b{name_key}\\b(?:\\s+\\w+)?\",\n",
    "        re.IGNORECASE\n",
    "    )\n",
    "\n",
    "    for csv_path in chat_paths:\n",
    "        if not isinstance(csv_path, str) or not csv_path.endswith('.csv') or not os.path.exists(csv_path):\n",
    "            continue\n",
    "\n",
    "        try:\n",
    "            df = pd.read_csv(csv_path)\n",
    "        except Exception as e:\n",
    "            print(f\"Error reading {csv_path}: {e}\")\n",
    "            continue\n",
    "\n",
    "        df.columns = [col.lower() for col in df.columns]\n",
    "        text_cols = [col for col in df.columns if 'message_translation' in col]\n",
    "        sender_col = df.columns[1]\n",
    "        receiver_col = df.columns[2]\n",
    "\n",
    "        for idx, row in df.iterrows():\n",
    "            for col in text_cols:\n",
    "                message = str(row.get(col))\n",
    "                if pd.isna(message):\n",
    "                    continue\n",
    "\n",
    "                if name_pattern.search(message.lower()):\n",
    "                    all_matched.append({\n",
    "                        \"username\": username,\n",
    "                        \"real_name\": real_name,\n",
    "                        \"file\": os.path.basename(csv_path),\n",
    "                        \"line\": idx,\n",
    "                        \"sender\": row.get(sender_col, \"unknown\"),\n",
    "                        \"receiver\": row.get(receiver_col, \"unknown\"),\n",
    "                        \"message\": message.strip()\n",
    "                    })\n",
    "\n",
    "df_all = pd.DataFrame(all_matched)\n",
    "df_all.to_csv(\"all_user_name_mentions.csv\", index=False)\n",
    "print(df_all.head())"
   ]
  },
  {
   "cell_type": "code",
   "execution_count": 1,
   "id": "e436a0f7-661d-4b32-8797-6d97bffc18f4",
   "metadata": {},
   "outputs": [
    {
     "name": "stdout",
     "output_type": "stream",
     "text": [
      "ERROR! Session/line number was not unique in database. History logging moved to new session 82\n"
     ]
    }
   ],
   "source": [
    "import pandas as pd\n",
    "import requests"
   ]
  },
  {
   "cell_type": "code",
   "execution_count": 2,
   "id": "3f22e5dd-6849-4355-8aac-ff99a1f14a33",
   "metadata": {
    "tags": []
   },
   "outputs": [
    {
     "name": "stdout",
     "output_type": "stream",
     "text": [
      "\n",
      "Profile for Brother Qing (SWEET5683yao):\n",
      "Username: SWEET5683yao\n",
      "Real Name: Chen Qing (confidence: 0.95)\n",
      "Company: Haici Industrial and Information Technology Leadership Academy (confidence: 0.85)\n",
      "Position: Dean (confidence: 0.85)\n",
      "\n",
      "\n",
      "Profile for Mr. Wu (Shutd0wn):\n",
      "Username: Shutd0wn\n",
      "Real Name: Wu Haibo (confidence: 0.95)\n",
      "Company: Qi An Xin (confidence: 0.7)\n",
      "Position: President (confidence: 0.8)\n",
      "\n",
      "\n",
      "Profile for Mr. Zheng (adpw90):\n",
      "Username: adpw90\n",
      "Real Name: Zheng Song (confidence: 0.95)\n",
      "Company: Public Security Bureau/Criminal Investigation (confidence: 0.85)\n",
      "Position: Team Lead/Manager (confidence: 0.75)\n",
      "\n",
      "\n",
      "Profile for Mr. Gong (gzp1991101):\n",
      "Username: gzp1991101\n",
      "Real Name: Gong Zheping (confidence: 0.7)\n",
      "Company: Unknown (confidence: 0.1)\n",
      "Position: General Manager/President/Director (confidence: 0.8)\n",
      "\n",
      "\n",
      "Profile for Mr. C (lengmo):\n",
      "Okay, here's an analysis of the provided text and an attempt to extract the requested information.  It's a *very* challenging task as the data is conversational and doesn't explicitly state many details.  I'll provide my best guesses with confidence scores, acknowledging the inherent uncertainty.\n",
      "\n",
      "**Key Observations & Challenges:**\n",
      "\n",
      "*   **Context is Chat Logs:** The text is clearly a series of WeChat/messaging app conversations. This makes formal information extraction difficult.  Names and roles are often used informally.\n",
      "*   **\"C\" as a Key Figure:**  \"C\" is consistently referenced, suggesting a person of authority.\n",
      "*   **Company Focus: Anxun:** The company \"Anxun\" is heavily mentioned.\n",
      "*   **Technical Focus:**  The conversations frequently refer to technical products (firewalls, security systems, platforms, etc.), indicating a technical environment.\n",
      "*    **Confidentiality/Sensitive Data:** The messages discuss internal company matters, client engagements, and personal grievances - implying a potentially confidential nature.\n",
      "*   **Data Volume:** The sheer volume of messages is a challenge for automated processing. I'm analyzing the overall trend rather than individual message details.\n",
      "*   **Real Name Extraction Difficult:** There are few instances where a full name is explicitly given.  The text mostly uses nicknames or initials.\n",
      "\n",
      "**Extracted Information (with Confidence Scores):**\n",
      "\n",
      "**Username:** lengmo (This is directly provided)\n",
      "\n",
      "**Real Name:**  Likely **Mo** (Confidence: 70%).  *Rationale:*  The username is \"lengmo\". \"Mo\" appears to be the most probable full name based on how usernames often relate to actual names. There isn't enough information to confirm.\n",
      "\n",
      "**Company:**  **Anxun** (Confidence: 95%). *Rationale:* Anxun is *constantly* mentioned in the context of work, projects, colleagues, and company decisions. It is the overwhelmingly dominant company name in the text.\n",
      "\n",
      "**Position:** **Pre-sales Engineer / Technical Consultant / Account Manager** (Confidence: 75%). *Rationale:*  The user \"just910420\" discusses technical products, client interactions (Bureau 11, Sichuan Security, etc.), project details, and sales-related matters. The user discusses linuxm and technical solutions. This suggests a pre-sales role, providing technical expertise and support to clients. The focus on account management (handling existing client engagements) also fits. The conversations suggest technical and customer-facing responsibilities.\n",
      "\n",
      "**Supporting Evidence from the Text:**\n",
      "\n",
      "*   **Anxun's Products and Services:** Frequent mention of \"Anonymous Anti-Tracking Firewall,\" \"Network Traffic Countermeasure System,\" and other technical products confirms Anxun's business focus.\n",
      "*   **Client Engagement:** Discussions about \"Bureau 11,\" \"Sichuan Security,\" \"Gansu Security,\" and \"Xinjiang Security\" demonstrate direct client interactions.\n",
      "*   **Technical Expertise:** The user discusses technical problems, solutions, and features of various products.\n",
      "*   **Account Management:** Handling and discussing existing client relationships and projects.\n",
      "*   **Internal Company Discussions**: The references to colleagues and internal matters point to the user being an employee.\n",
      "* **Teamwork**: Frequent references to other employees such as Wang Zhe and Wei Ge.\n",
      "\n",
      "**Important Considerations:**\n",
      "\n",
      "*   **Incomplete Data:** This analysis is based on a limited dataset.\n",
      "*   **Informal Communication:** The conversational nature of the text makes accurate information extraction challenging.\n",
      "*   **Assumptions:** I've had to make assumptions based on context and common patterns.\n",
      "*   **Data Sensitivity:** This data potentially contains confidential information and should be handled with appropriate security measures.\n",
      "\n",
      "**To improve accuracy, more data would be needed, including:**\n",
      "\n",
      "*   Organizational charts\n",
      "*   Employee directories\n",
      "*   Job descriptions\n",
      "*   Full names of individuals\n",
      "*   Contextual information about the projects and clients mentioned.\n",
      "\n",
      "I hope this analysis is helpful.  Let me know if you'd like me to focus on any particular aspect of the data or refine the analysis in any way.\n",
      "\n",
      "\n",
      "Profile for Mr. Zhou (nullroot):\n",
      "Username: nullroot\n",
      "Real Name: Zhou Wei (confidence: 0.95)\n",
      "Company: Unknown (confidence: 0.2)\n",
      "Position: Sales/Account Manager (confidence: 0.75) \n",
      "\n",
      "**Reasoning:**\n",
      "\n",
      "*   **\"Zhou\" is consistently used:** The name \"Zhou\" appears frequently in messages *to* \"nullroot\", strongly indicating this is the person's surname.\n",
      "*   **Wei as a likely given name:** \"Zhou Wei\" is a common Chinese name pairing, and \"Wei\" is referenced in multiple messages (e.g., \"Zhou Weiwei\").\n",
      "*   **Sales/Account Manager Role:** The context of messages involving project acceptance, dealing with clients, pre-sales, payment issues, and team management strongly suggests a role focused on sales or account management. Many messages focus on deals, projects, acceptance, and even issues with payment, all pointing toward a role in closing and maintaining accounts.\n",
      "*   **Lack of clear company name:** The messages do not explicitly state the company name, so it remains unknown.\n",
      "*   **Multiple \"Zhou\" references:** Several individuals named \"Zhou\" appear in the messages (Zhou Weiwei, Zhou Qiao, Zhou Shuai). This suggests a network of colleagues with the same surname.\n",
      "* **Wei592628 Addressing \"Mr. Zhou\"**: This is a direct confirmation of the use of \"Zhou\" as the surname.\n",
      "\n",
      "\n",
      "Profile for Mr. Wei (wei592628):\n",
      "Okay, I've analyzed the provided text extracts. Here's a breakdown of the information, prioritizing the relevant details to extract a potential username, real name, company, and position, along with confidence levels.  It's a challenging task as the text is a mix of chat logs, technical documentation, and project agreements.\n",
      "\n",
      "**Analysis & Extraction:**\n",
      "\n",
      "The most reliable source for this information comes from the chat logs and the frequent mentions of \"Wei.\"  I'll focus on those. The technical documentation is largely irrelevant for this extraction.\n",
      "\n",
      "*   **Username:** `wei592628` - This is the most definitive piece of information. It appears consistently in the chat logs as a username. **Confidence: 100%**\n",
      "*   **Real Name:**  The text *doesn't explicitly state* Wei's full real name. However, based on the frequent addresses of \"Mr. Wei,\" we can assume that \"Wei\" is likely a last name.  It's also possible \"Wei\" is a full name/nickname. There isn't enough information to accurately determine a full name.  We can only extrapolate the most likely form \"Wei\".  **Confidence: 60%** (Based on context and frequent use).\n",
      "*   **Company:** The documentation mentions \"Five Lakes trial\" and the need for \"collaboration\" as well as mentioning department names (\"Silver Gold Department\"). This suggests a company involved in software development or a related technology field. However, the specific company name is never stated. The constant mention of project acceptance and testing, combined with the presence of technical documentation, strongly suggests a software development company or a technology consulting firm. However, identifying the specific name remains impossible. **Confidence: 50%** (We can infer a company exists, but not the name).\n",
      "*   **Position:** This is the most difficult to determine.  The repeated requests to \"Mr. Wei\" for information and documents suggest a managerial or leadership role. People are frequently *asking* Wei for things, providing updates to Wei, or seeking Wei's approval. This suggests Wei is a project manager, team lead, or someone in a similar supervisory position. The technical documentation being shared to Wei suggests he is knowledgeable in the field, but it's not enough to pinpoint a specific role.   **Confidence: 65%** (Based on conversational context, likely a manager/lead).\n",
      "\n",
      "**Summary:**\n",
      "\n",
      "*   **Username:** `wei592628`\n",
      "*   **Real Name:** `Wei` (Likely a last name. Full name unknown.)\n",
      "*   **Company:** Software development or technology consulting firm (Name unknown)\n",
      "*   **Position:** Project Manager / Team Lead / Supervisor (Likely)\n",
      "\n",
      "**Important Considerations:**\n",
      "\n",
      "*   **Limited Information:** The provided text is fragmented and lacks direct statements about these attributes. The analysis relies heavily on inference and interpretation.\n",
      "*   **Context is Key:** The extracted information is based on the context of the chat logs and documentation. It's possible that the interpretation is incorrect due to incomplete information.\n",
      "*   **Ambiguity:**  Several aspects, such as the real name and company, remain ambiguous due to the lack of explicit statements.\n",
      "\n",
      "I've done my best to extract the most likely information based on the available data. It is important to remember the limitations of this analysis.\n",
      "\n",
      "\n",
      "Profile for Mr. Wang (wxid_5390224027312):\n",
      "Okay, here's an attempt to extract information about \"wxid_5390224027312\" based on the provided chat logs. This is challenging given the limited context and reliance on nicknames/titles.  I'll provide confidence levels for each field.\n",
      "\n",
      "**Username:** wxid_5390224027312\n",
      "**Real Name:** Likely Wang (confidence: 70%).  This is based on frequent references to \"Old Wang,\" \"Director Wang,\" \"General Wang,\" and the frequent use of the surname \"Wang\" in discussions. It's difficult to pinpoint a full name.\n",
      "**Company:** Unknown (confidence: 10%). While the chats *imply* a company context, no explicit company name is ever mentioned.\n",
      "**Position:** Mid-to-High level Manager/Executive (confidence: 60%).  Several clues support this:\n",
      "\n",
      "*   References to \"Director Wang\" and \"General Wang\" indicate a management position.\n",
      "*   Discussions about projects, performance, and strategy suggest a role beyond a basic employee.\n",
      "*   The fact that other individuals seek his opinion and report to him supports a leadership role.\n",
      "*   He is involved in discussions with other executives (e.g. Wang Zong).\n",
      "*   He has an assistant - Wang Yan.\n",
      "\n",
      "**Explanation of Confidence Levels:**\n",
      "\n",
      "*   **High (80-100%):**  Information is explicitly stated or very clearly implied.\n",
      "*   **Medium (50-79%):** Information is reasonably likely based on context, but could be interpreted differently.\n",
      "*   **Low (10-49%):** Information is speculative and based on limited evidence.\n",
      "\n",
      "**Important Considerations:**\n",
      "\n",
      "*   **WeChat ID as Primary Identifier:**  We are relying on a WeChat ID, which doesn't reveal much about the individual.\n",
      "*   **Nickname/Title Ambiguity:** The use of nicknames and titles (\"Old Wang\", \"Director Wang\") makes it difficult to accurately determine the person's real name and position.\n",
      "*   **Limited Context:** The provided chat logs represent a small snippet of communication. Without more information, it's impossible to build a complete profile.\n",
      "\n",
      "I've done my best to analyze the available data, but please keep the limitations in mind. If you have more context or information, I can refine this analysis.\n",
      "\n",
      "\n",
      "Profile for Sister Qian (wxid_70w3p1jin84k22):\n",
      "Username: wxid_70w3p1jin84k22\n",
      "Real Name: Qian Xu (confidence: 0.95)\n",
      "Company: Anxun Academy (confidence: 0.85)\n",
      "Position: Training Manager/Director (confidence: 0.90)\n",
      "\n",
      "\n",
      "Profile for Mr. Lu (wxid_7p054rmzkhqf21):\n",
      "Username: wxid_7p054rmzkhqf21\n",
      "Real Name: Lu Yongjun (confidence: 0.95)\n",
      "Company: Digital Economy Technology Foreign Cooperation Working Committee (confidence: 0.85)\n",
      "Position: Executive Vice Chairman (confidence: 0.9)\n",
      "\n",
      "Saved to llm_user_profiles.csv\n"
     ]
    }
   ],
   "source": [
    "# LLM try out for a quick identification of companies, real names and position. This will be later used to find what company the leak is about.\n",
    "\n",
    "df_all = pd.read_csv(\"all_user_name_mentions.csv\")\n",
    "\n",
    "# Group by username\n",
    "grouped = df_all.groupby(\"username\")\n",
    "\n",
    "profiles = []\n",
    "\n",
    "# Prompt builder\n",
    "def build_profile_prompt(df_user, username, real_name):\n",
    "    lines = [\n",
    "        f\"You are analyzing chat logs mentioning a person referred to as '{real_name}'.\",\n",
    "        f\"The known system username for this person is: {username}.\",\n",
    "        \"Each message includes sender, receiver, and content. Look for clues in the messages names and position mentioned.\",\n",
    "        \"Use these messages to infer their real identity and professional role.\",\n",
    "        \"Check if the real_name is an initial for a name. Example: Mr A might be Andrew Anthony.\",\n",
    "        \"Instructions:\",\n",
    "        \"- Provide exactly one value per field.\",\n",
    "        \"- Include a confidence score for each.\",\n",
    "        \"- NO alternatives, NO explanation anywhere.\"\n",
    "        \"-If unsure, just provide waht is know and leave other things empty\"\n",
    "        \"NEVER BREAK THE FORMAT\"\n",
    "    ]\n",
    "\n",
    "    for i, row in df_user.iterrows():\n",
    "        lines.append(\n",
    "            f\"{i+1}. Sender: {row['sender']} | Receiver: {row['receiver']} | Message: \\\"{row['message']}\\\"\"\n",
    "        )\n",
    "\n",
    "    lines.append(\n",
    "        \"\\nOutput format:\\n\"\n",
    "        f\"Username: {username}\\n\"\n",
    "        \"Real Name: <...> (confidence: <...>)\\n\"\n",
    "        \"Company: <...> (confidence: <...>)\\n\"\n",
    "        \"Position: <...> (confidence: <...>)\"\n",
    "    )\n",
    "\n",
    "    return \"\\n\".join(lines)\n",
    "\n",
    "def query_ollama(prompt, model=\"gemma3:27b\"):\n",
    "    try:\n",
    "        res = requests.post(\n",
    "            \"http://localhost:11434/api/generate\",\n",
    "            json={\"model\": model, \"prompt\": prompt, \"stream\": False},\n",
    "            timeout=1000\n",
    "        )\n",
    "        res.raise_for_status()\n",
    "        return res.json()[\"response\"].strip()\n",
    "    except Exception as e:\n",
    "        return f\"[error: {e}]\"\n",
    "\n",
    "# Run for each user and collect results\n",
    "for username, df_user in grouped:\n",
    "    real_name = df_user[\"real_name\"].iloc[0]\n",
    "    if len(df_user) == 0:\n",
    "        continue\n",
    "\n",
    "    df_user = df_user.head(100)  # limit to 100 messages per user for performance info\n",
    "    prompt = build_profile_prompt(df_user, username, real_name)\n",
    "    result = query_ollama(prompt)\n",
    "    profiles.append({\n",
    "        \"username\": username,\n",
    "        \"real_name\": real_name,\n",
    "        \"llm_profile\": result\n",
    "    })\n",
    "    print(f\"\\nProfile for {real_name} ({username}):\\n{result}\\n\")\n",
    "\n",
    "df_profiles = pd.DataFrame(profiles)\n",
    "df_profiles.to_csv(\"llm_user_profiles.csv\", index=False)\n",
    "print(\"Saved to llm_user_profiles.csv\")"
   ]
  },
  {
   "cell_type": "markdown",
   "id": "f3bc5cde-d6bc-4749-8fde-cf195cab182e",
   "metadata": {
    "tags": []
   },
   "source": [
    "## *Company Identification to enrich user profiles*"
   ]
  },
  {
   "cell_type": "code",
   "execution_count": null,
   "id": "846a433c-ce9c-4051-8ba7-419fa8991bc8",
   "metadata": {},
   "outputs": [],
   "source": [
    "import pandas as pd\n",
    "import re\n",
    "import os\n",
    "from collections import defaultdict"
   ]
  },
  {
   "cell_type": "code",
   "execution_count": 73,
   "id": "c8c721a9-abb3-4642-bd47-b9a377ddb3ad",
   "metadata": {
    "tags": []
   },
   "outputs": [
    {
     "name": "stdout",
     "output_type": "stream",
     "text": [
      "Saved: company_websites_mentions.csv\n"
     ]
    }
   ],
   "source": [
    "# The cell above identified a couple of companies that were associated with some people, this cell filters and extracts the company names, searches for them in all CHATS and OCR extractions\n",
    "# and has a function to identify any URLs so that an LLM can later match company name with URL\n",
    "\n",
    "# Function to extract URLs\n",
    "def find_urls(text):\n",
    "    url_pattern = re.compile(\n",
    "        r'\\b(www\\.[a-zA-Z0-9-]+(?:\\.[a-zA-Z0-9-]+)*\\.[a-zA-Z]{2,})\\b'\n",
    "    )\n",
    "    return url_pattern.findall(text)\n",
    "\n",
    "# Collect all mentions in a unified structure\n",
    "all_mentions = []\n",
    "\n",
    "# --- CHAT SEARCH SECTION ---\n",
    "for path in chat_paths:\n",
    "    if not os.path.isfile(path):\n",
    "        continue\n",
    "    try:\n",
    "        df_chat = pd.read_csv(path)\n",
    "    except:\n",
    "        continue\n",
    "    df_chat.columns = [col.lower() for col in df_chat.columns]\n",
    "    text_cols = [col for col in df_chat.columns if \"message_translation\" in col]\n",
    "    sender_col = df_chat.columns[1]\n",
    "    receiver_col = df_chat.columns[2]\n",
    "\n",
    "    for idx, row in df_chat.iterrows():\n",
    "        for col in text_cols:\n",
    "            msg = str(row.get(col))\n",
    "            if pd.isna(msg):\n",
    "                continue\n",
    "            for company in companies:\n",
    "                if company.lower() in msg.lower():\n",
    "                    all_mentions.append({\n",
    "                        \"source\": \"chat\",\n",
    "                        \"type\": \"company\",\n",
    "                        \"value\": company,\n",
    "                        \"message\": msg.strip(),\n",
    "                        \"sender\": row.get(sender_col),\n",
    "                        \"receiver\": row.get(receiver_col),\n",
    "                        \"file\": os.path.basename(path),\n",
    "                        \"line\": idx\n",
    "                    })\n",
    "            urls = find_urls(msg)\n",
    "            for url in urls:\n",
    "                all_mentions.append({\n",
    "                    \"source\": \"chat\",\n",
    "                    \"type\": \"url\",\n",
    "                    \"value\": url,\n",
    "                    \"message\": msg.strip(),\n",
    "                    \"sender\": row.get(sender_col),\n",
    "                    \"receiver\": row.get(receiver_col),\n",
    "                    \"file\": os.path.basename(path),\n",
    "                    \"line\": idx\n",
    "                })\n",
    "\n",
    "# --- OCR SEARCH SECTION ---\n",
    "ocr_folder = \"ocr_to_csv\"\n",
    "if os.path.exists(ocr_folder):\n",
    "    for file in os.listdir(ocr_folder):\n",
    "        if file.endswith(\".csv\"):\n",
    "            ocr_path = os.path.join(ocr_folder, file)\n",
    "            try:\n",
    "                df_ocr = pd.read_csv(ocr_path)\n",
    "            except:\n",
    "                continue\n",
    "            for idx, row in df_ocr.iterrows():\n",
    "                msg = str(row.get(\"ocr translation\", \"\"))\n",
    "                if pd.isna(msg):\n",
    "                    continue\n",
    "                for company in companies:\n",
    "                    if company.lower() in msg.lower():\n",
    "                        all_mentions.append({\n",
    "                            \"source\": \"ocr\",\n",
    "                            \"type\": \"company\",\n",
    "                            \"value\": company,\n",
    "                            \"message\": msg.strip(),\n",
    "                            \"sender\": None,\n",
    "                            \"receiver\": None,\n",
    "                            \"file\": file,\n",
    "                            \"line\": idx\n",
    "                        })\n",
    "                urls = find_urls(msg)\n",
    "                for url in urls:\n",
    "                    all_mentions.append({\n",
    "                        \"source\": \"ocr\",\n",
    "                        \"type\": \"url\",\n",
    "                        \"value\": url,\n",
    "                        \"message\": msg.strip(),\n",
    "                        \"sender\": None,\n",
    "                        \"receiver\": None,\n",
    "                        \"file\": file,\n",
    "                        \"line\": idx\n",
    "                    })\n",
    "\n",
    "# Save combined results\n",
    "df_combined = pd.DataFrame(all_mentions)\n",
    "df_combined.to_csv(\"company_websites_mentions.csv\", index=False)\n",
    "print(\"Saved: company_websites_mentions.csv\")\n"
   ]
  },
  {
   "cell_type": "code",
   "execution_count": 61,
   "id": "17f149c6-60eb-4d9c-af0c-c970a429afa9",
   "metadata": {
    "tags": []
   },
   "outputs": [],
   "source": [
    "import pandas as pd\n",
    "import requests\n",
    "from bs4 import BeautifulSoup"
   ]
  },
  {
   "cell_type": "code",
   "execution_count": 65,
   "id": "6f290985-fe20-4249-b24e-0259591cbcfd",
   "metadata": {
    "tags": []
   },
   "outputs": [
    {
     "name": "stdout",
     "output_type": "stream",
     "text": [
      "Saved:  'identified_company_info.csv'\n"
     ]
    }
   ],
   "source": [
    "# Based on the output of the cell above, we feed those extracted messages and link to an LLM, the LLM analyzes and concludes by offering a company profile\n",
    "\n",
    "df = pd.read_csv(\"company_websites_mentions.csv\")\n",
    "df = df.dropna(subset=[\"message\"])\n",
    "\n",
    "def build_company_inference_prompt(df_subset):\n",
    "    lines = [\n",
    "        \"You are analyzing a set of messages extracted from chat logs and OCR documents.\",\n",
    "        \"Your task is to infer which company or organization these messages are associated with.\",\n",
    "        \"Use all available clues — names, terminology, technology, people, structure, or relationships — to reach a clear conclusion.\",\n",
    "        \"Respond with one company name only, and a short justification, and JUST a link to their website (Check for documents, and only valid https, if in doubt try to match it so that it can be investiagted further).\",\n",
    "        \"\\nMessages:\\n\"\n",
    "    ]\n",
    "\n",
    "    for i, row in df_subset.iterrows():\n",
    "        lines.append(\n",
    "            f\"{i+1}. Source: {row['source']} | File: {row['file']} | Line: {row['line']}\\n   Message: \\\"{row['message']}\\\"\"\n",
    "        )\n",
    "\n",
    "    lines.append(\n",
    "        \"\\nBased on the above, respond strictly in this format:\\n\"\n",
    "        \"Company Name: <...>\\n\"\n",
    "        \"Reasoning: <concise summary of why this company fits>\\n\"\n",
    "        \"Website: <ONLY ONE LINK, no explanation or JUSTIFICATION, Extract it 1 to 1 from the document>\\n\"\n",
    "        \"Confidence: <0.0–1.0>\\n\"\n",
    "    )\n",
    "\n",
    "    return \"\\n\".join(lines)\n",
    "\n",
    "def query_ollama(prompt, model=\"gemma3:27b\"):\n",
    "    try:\n",
    "        res = requests.post(\n",
    "            \"http://localhost:11434/api/generate\",\n",
    "            json={\"model\": model, \"prompt\": prompt, \"stream\": False},\n",
    "            timeout=1000\n",
    "        )\n",
    "        res.raise_for_status()\n",
    "        return res.json()[\"response\"].strip()\n",
    "    except Exception as e:\n",
    "        return f\"[error: {e}]\"\n",
    "\n",
    "prompt = build_company_inference_prompt(df)\n",
    "response = query_ollama(prompt)\n",
    "\n",
    "\n",
    "lines = response.splitlines()\n",
    "parsed = {\"Company Name\": \"\", \"Reasoning\": \"\", \"Website\": \"\", \"Confidence\": \"\"}\n",
    "for line in lines:\n",
    "    if line.lower().startswith(\"company name:\"):\n",
    "        parsed[\"Company Name\"] = line.split(\":\", 1)[1].strip()\n",
    "    elif line.lower().startswith(\"reasoning:\"):\n",
    "        parsed[\"Reasoning\"] = line.split(\":\", 1)[1].strip()\n",
    "    elif line.lower().startswith(\"website:\"):\n",
    "        parsed[\"Website\"] = line.split(\":\", 1)[1].strip()\n",
    "    elif line.lower().startswith(\"confidence:\"):\n",
    "        parsed[\"Confidence\"] = line.split(\":\", 1)[1].strip()\n",
    "\n",
    "df_out = pd.DataFrame([parsed])\n",
    "df_out.to_csv(\"results/identified_company_info.csv\", index=False)\n",
    "\n",
    "\n",
    "print(\"Saved:  'identified_company_info.csv'\")"
   ]
  },
  {
   "cell_type": "code",
   "execution_count": 75,
   "id": "881da2b8-b8b7-46f1-9775-c9dac1af1b00",
   "metadata": {
    "tags": []
   },
   "outputs": [
    {
     "name": "stdout",
     "output_type": "stream",
     "text": [
      "\n",
      "WHOIS Information for: i-soon.net\n",
      "Domain Name: I-SOON.NET\n",
      "Registrar: GoDaddy.com, LLC\n",
      "Creation Date: [datetime.datetime(2010, 9, 7, 8, 18, 32), datetime.datetime(2010, 9, 7, 3, 18, 32)]\n",
      "Expiration Date: [datetime.datetime(2028, 9, 7, 8, 18, 32), datetime.datetime(2028, 9, 7, 3, 18, 32)]\n",
      "Updated Date: [datetime.datetime(2025, 3, 5, 14, 35, 38), datetime.datetime(2023, 7, 13, 21, 20, 50)]\n",
      "Name Servers: ['NS1.FBI.SEIZED.GOV', 'NS2.FBI.SEIZED.GOV', 'NS15.DOMAINCONTROL.COM', 'NS16.DOMAINCONTROL.COM']\n",
      "Emails: abuse@godaddy.com\n",
      "Registrant Name: Registration Private\n",
      "Registrant Organization: Domains By Proxy, LLC\n"
     ]
    }
   ],
   "source": [
    "# Domain to look up\n",
    "domain = \"i-soon.net\"\n",
    "\n",
    "# Perform WHOIS lookup\n",
    "try:\n",
    "    domain_info = whois.whois(domain)\n",
    "\n",
    "    # Display WHOIS information\n",
    "    print(\"\\nWHOIS Information for:\", domain)\n",
    "    print(\"Domain Name:\", domain_info.domain_name)\n",
    "    print(\"Registrar:\", domain_info.registrar)\n",
    "    print(\"Creation Date:\", domain_info.creation_date)\n",
    "    print(\"Expiration Date:\", domain_info.expiration_date)\n",
    "    print(\"Updated Date:\", domain_info.updated_date)\n",
    "    print(\"Name Servers:\", domain_info.name_servers)\n",
    "    print(\"Emails:\", domain_info.emails)\n",
    "    print(\"Registrant Name:\", domain_info.get('name'))\n",
    "    print(\"Registrant Organization:\", domain_info.get('org'))\n",
    "\n",
    "except Exception as e:\n",
    "    print(\"WHOIS lookup failed:\", e)\n"
   ]
  },
  {
   "cell_type": "markdown",
   "id": "edb70998-6cd0-4422-8fa0-c85a1a9a52f1",
   "metadata": {
    "tags": []
   },
   "source": [
    "## *Create User Profile based on the company, number of messages sent, and who each individual talked to*"
   ]
  },
  {
   "cell_type": "code",
   "execution_count": 6,
   "id": "a013af7e-1294-4e59-94a2-80827b1030fe",
   "metadata": {
    "tags": []
   },
   "outputs": [],
   "source": [
    "import os\n",
    "import pandas as pd\n",
    "import requests\n",
    "import re\n",
    "from collections import Counter, defaultdict"
   ]
  },
  {
   "cell_type": "code",
   "execution_count": 15,
   "id": "13da8d2e-ccec-43e4-ac56-c5d4c7437f57",
   "metadata": {
    "tags": []
   },
   "outputs": [
    {
     "name": "stdout",
     "output_type": "stream",
     "text": [
      "\n",
      "Done: SWEET5683yao\n",
      "Name: Brother Qing\n",
      "Full Name: Chen Qing\n",
      "Company: Anxun Information Technology Co., Ltd.\n",
      "Website: www.I-soon.net\n",
      "Position: Project Manager\n",
      "Messages Sent: 35\n",
      "Talked to: wxid_7p054rmzkhqf21\n",
      "\n",
      "Done: Shutd0wn\n",
      "Name: Mr. Wu\n",
      "Full Name: Wu Haibo\n",
      "Company: Anxun Information Technology Co., Ltd.\n",
      "Website: www.I-soon.net\n",
      "Position: General Manager\n",
      "Messages Sent: 3675\n",
      "Talked to: lengmo, wxid_xusilpfkh31g21\n",
      "\n",
      "Done: adpw90\n",
      "Name: Mr. Zheng\n",
      "Full Name: Zheng Wei\n",
      "Company: Anxun Information Technology Co., Ltd.\n",
      "Website: www.I-soon.net\n",
      "Position: Team Lead\n",
      "Messages Sent: 235\n",
      "Talked to: wxid_7p054rmzkhqf21\n",
      "\n",
      "Done: gzp1991101\n",
      "Name: Mr. Gong\n",
      "Full Name: Gong Tao\n",
      "Company: Anxun Information Technology Co., Ltd.\n",
      "Website: www.I-soon.net\n",
      "Position: General Manager\n",
      "Messages Sent: 603\n",
      "Talked to: wxid_7p054rmzkhqf21, wxid_mgh25nentc4u22, yanzi542766277\n",
      "\n",
      "Done: lengmo\n",
      "Name: Mr. C\n",
      "Full Name: [parse error]\n",
      "Company: Anxun Information Technology Co., Ltd.\n",
      "Website: www.I-soon.net\n",
      "Position: [parse error]\n",
      "Messages Sent: 4981\n",
      "Talked to: Shutd0wn, just910420, wxid_5390224027312, wxid_zbytkn4qjl3r22, zhangxiaoyan0422\n",
      "\n",
      "Done: nullroot\n",
      "Name: Mr. Zhou\n",
      "Full Name: [parse error]\n",
      "Company: Anxun Information Technology Co., Ltd.\n",
      "Website: www.I-soon.net\n",
      "Position: [parse error]\n",
      "Messages Sent: 103\n",
      "Talked to: tianyi-0608, wei592628\n",
      "\n",
      "Done: wei592628\n",
      "Name: Mr. Wei\n",
      "Full Name: [parse error]\n",
      "Company: Anxun Information Technology Co., Ltd.\n",
      "Website: www.I-soon.net\n",
      "Position: [parse error]\n",
      "Messages Sent: 87\n",
      "Talked to: nullroot\n",
      "\n",
      "Done: wxid_5390224027312\n",
      "Name: Mr. Wang\n",
      "Full Name: [parse error]\n",
      "Company: Anxun Information Technology Co., Ltd.\n",
      "Website: www.I-soon.net\n",
      "Position: [parse error]\n",
      "Messages Sent: 1409\n",
      "Talked to: dujijiyiqxx, lengmo, qq78263462, wxid_70w3p1jin84k22, wxid_7p054rmzkhqf21, wxid_soekgggwnfgm21, wxid_wh6x59w70y3r22\n",
      "\n",
      "Done: wxid_70w3p1jin84k22\n",
      "Name: Sister Qian\n",
      "Full Name: Xu Qian\n",
      "Company: Anxun Information Technology Co., Ltd.\n",
      "Website: www.I-soon.net\n",
      "Position: Training Manager\n",
      "Messages Sent: 523\n",
      "Talked to: wxid_5390224027312, wxid_nv9bv435fz3722\n",
      "\n",
      "Done: wxid_7p054rmzkhqf21\n",
      "Name: Mr. Lu\n",
      "Full Name: Lu Yongjun\n",
      "Company: Anxun Information Technology Co., Ltd.\n",
      "Website: www.I-soon.net\n",
      "Position: President\n",
      "Messages Sent: 894\n",
      "Talked to: SWEET5683yao, adpw90, gzp1991101, wangchao953541, wxid_5390224027312, wxid_jcnxegjccqi441\n",
      "\n",
      "All profiles saved to llm_user_profiles_enriched.csv\n"
     ]
    }
   ],
   "source": [
    "df_mentions = pd.read_csv(\"all_user_name_mentions.csv\")\n",
    "df_csvs = pd.read_csv(\"results/updated_with_csv_paths.csv\")\n",
    "df_company_map = pd.read_csv(\"results/identified_company_info.csv\")\n",
    "\n",
    "# Extract known company info\n",
    "known_company_name = df_company_map[\"Company Name\"].iloc[0].strip()\n",
    "known_company_website = df_company_map[\"Website\"].iloc[0].strip()\n",
    "\n",
    "# Count messages and communication partners\n",
    "def count_messages_and_interactions(csv_path):\n",
    "    try:\n",
    "        df = pd.read_csv(csv_path)\n",
    "    except Exception as e:\n",
    "        print(\"Error reading file:\", csv_path, \"-\", str(e))\n",
    "        return Counter(), Counter(), defaultdict(set)\n",
    "\n",
    "    df.columns = [col.lower() for col in df.columns]\n",
    "    sender_column = next((c for c in ['from', 'sender', 'user'] if c in df.columns), None)\n",
    "    recipient_column = next((c for c in ['to', 'receiver', 'recipient'] if c in df.columns), None)\n",
    "\n",
    "    if not sender_column:\n",
    "        return Counter(), Counter(), defaultdict(set)\n",
    "\n",
    "    df[sender_column] = df[sender_column].fillna('').astype(str).str.strip()\n",
    "    if recipient_column:\n",
    "        df[recipient_column] = df[recipient_column].fillna('').astype(str).str.strip()\n",
    "\n",
    "    message_counts = Counter()\n",
    "    interaction_counts = Counter()\n",
    "    user_partners = defaultdict(set)\n",
    "\n",
    "    for _, row in df.iterrows():\n",
    "        sender = row[sender_column]\n",
    "        message_counts[sender] += 1\n",
    "\n",
    "        if recipient_column:\n",
    "            recipient = row[recipient_column]\n",
    "            if sender and recipient:\n",
    "                pair = tuple(sorted((sender, recipient)))\n",
    "                interaction_counts[pair] += 1\n",
    "                user_partners[sender].add(recipient)\n",
    "                user_partners[recipient].add(sender)\n",
    "\n",
    "    return message_counts, interaction_counts, user_partners\n",
    "\n",
    "# Aggregate totals\n",
    "total_message_counts = Counter()\n",
    "total_user_partners = defaultdict(set)\n",
    "\n",
    "for csv_path in df_csvs['chats'].dropna().unique():\n",
    "    if isinstance(csv_path, str) and csv_path.endswith('.csv') and os.path.exists(csv_path):\n",
    "        msg_counts, _, partners = count_messages_and_interactions(csv_path)\n",
    "        total_message_counts.update(msg_counts)\n",
    "        for user, pset in partners.items():\n",
    "            total_user_partners[user].update(pset)\n",
    "\n",
    "# Group user messages\n",
    "grouped_users = df_mentions.groupby(\"username\")\n",
    "all_profiles = []\n",
    "\n",
    "# Prompt with improved context\n",
    "def create_prompt(user_messages, username, real_name, company_name, message_count, conversation_partners):\n",
    "    lines = [\n",
    "        f\"You are analyzing chat logs mentioning a person named '{real_name}'.\",\n",
    "        f\"The username is: {username}\",\n",
    "        f\"The person works at: {company_name}\",\n",
    "        f\"Total messages sent: {message_count}\",\n",
    "        f\"Conversation partners: {', '.join(sorted(conversation_partners)) if conversation_partners else 'None'}\",\n",
    "        \"\",\n",
    "        \"Use the number of messages and the diversity of conversation partners as signals.\",\n",
    "        \"Higher volume and broader communication may imply leadership or coordination roles.\",\n",
    "        \"\",\n",
    "        \"Your job is to guess their full real name and job position.\",\n",
    "        \"Follow these rules:\",\n",
    "        \"- Give exactly ONE real name and ONE position.\",\n",
    "        \"- Add a confidence score (between 0.0 and 1.0).\",\n",
    "        \"- Do NOT explain anything.\",\n",
    "        \"- Do NOT write extra information.\",\n",
    "        \"\",\n",
    "        \"Use this format exactly:\",\n",
    "        f\"Username: {username}\",\n",
    "        \"Real Name: <REAL NAME> (confidence: <CONFIDENCE_SCORE>)\",\n",
    "        f\"Company: {company_name} - Website: {known_company_website}\",\n",
    "        \"Position: <POSITION> (confidence: <CONFIDENCE_SCORE>)\",\n",
    "        \"\",\n",
    "        \"Messages:\"\n",
    "    ]\n",
    "\n",
    "    for idx, row in user_messages.iterrows():\n",
    "        sender = str(row.get('sender', '')).strip()\n",
    "        receiver = str(row.get('receiver', '')).strip()\n",
    "        message = str(row.get('message', '')).strip()\n",
    "        lines.append(f\"{idx+1}. Sender: {sender} | Receiver: {receiver} | Message: \\\"{message}\\\"\")\n",
    "\n",
    "    return \"\\n\".join(lines)\n",
    "\n",
    "# Call local LLM via HTTP\n",
    "def ask_llm(prompt_text, model_name=\"gemma3:27b\"):\n",
    "    try:\n",
    "        response = requests.post(\n",
    "            \"http://localhost:11434/api/generate\",\n",
    "            json={\"model\": model_name, \"prompt\": prompt_text, \"stream\": False},\n",
    "            timeout=1000\n",
    "        )\n",
    "        response.raise_for_status()\n",
    "        return response.json()[\"response\"].strip()\n",
    "    except Exception as e:\n",
    "        return f\"[error: {e}]\"\n",
    "\n",
    "# Parse LLM output\n",
    "def parse_response(text, username):\n",
    "    try:\n",
    "        name_match = re.search(r\"Real Name:\\s*(.+?)\\s*\\(confidence:\\s*(\\d\\.\\d+)\\)\", text)\n",
    "        company_match = re.search(r\"Company:\\s*(.+?)\\s*-\\s*Website:\\s*(.+)\", text)\n",
    "        position_match = re.search(r\"Position:\\s*(.+?)\\s*\\(confidence:\\s*(\\d\\.\\d+)\\)\", text)\n",
    "\n",
    "        if name_match and company_match and position_match:\n",
    "            return {\n",
    "                \"username\": username,\n",
    "                \"name\": real_name,\n",
    "                \"real_name\": name_match.group(1).strip(),\n",
    "                \"real_name_confidence\": float(name_match.group(2)),\n",
    "                \"company\": company_match.group(1).strip(),\n",
    "                \"website\": company_match.group(2).strip(),\n",
    "                \"position\": position_match.group(1).strip(),\n",
    "                \"position_confidence\": float(position_match.group(2))\n",
    "            }\n",
    "    except Exception as e:\n",
    "        print(f\"Error parsing response for {username}: {e}\")\n",
    "\n",
    "    return {\n",
    "        \"username\": username,\n",
    "        \"name\": real_name,\n",
    "        \"real_name\": \"[parse error]\",\n",
    "        \"real_name_confidence\": 0.0,\n",
    "        \"company\": known_company_name,\n",
    "        \"website\": known_company_website,\n",
    "        \"position\": \"[parse error]\",\n",
    "        \"position_confidence\": 0.0\n",
    "    }\n",
    "\n",
    "# LLM enrichment loop\n",
    "for username, user_messages in grouped_users:\n",
    "    if user_messages.empty:\n",
    "        continue\n",
    "\n",
    "    real_name = user_messages[\"real_name\"].iloc[0]\n",
    "    message_count = total_message_counts.get(username, 0)\n",
    "    partners = total_user_partners.get(username, set())\n",
    "\n",
    "    prompt = create_prompt(user_messages, username, real_name, known_company_name, message_count, partners)\n",
    "    result_text = ask_llm(prompt)\n",
    "    profile = parse_response(result_text, username)\n",
    "    profile[\"message_count\"] = message_count\n",
    "    profile[\"conversation_partners\"] = \", \".join(sorted(partners))\n",
    "    all_profiles.append(profile)\n",
    "\n",
    "    print(f\"\\nDone: {username}\")\n",
    "    print(\"Name:\", real_name)\n",
    "    print(\"Full Name:\", profile[\"real_name\"])\n",
    "    print(\"Company:\", profile[\"company\"])\n",
    "    print(\"Website:\", profile[\"website\"])\n",
    "    print(\"Position:\", profile[\"position\"])\n",
    "    print(\"Messages Sent:\", profile[\"message_count\"])\n",
    "    print(\"Talked to:\", profile[\"conversation_partners\"])\n",
    "\n",
    "df_output = pd.DataFrame(all_profiles)\n",
    "df_output.to_csv(\"results/llm_user_profiles_enriched.csv\", index=False)\n",
    "print(\"\\nAll profiles saved to llm_user_profiles_enriched.csv\")"
   ]
  },
  {
   "cell_type": "markdown",
   "id": "12e7d53f-7376-40b2-9818-452231587964",
   "metadata": {
    "jp-MarkdownHeadingCollapsed": true,
    "tags": []
   },
   "source": [
    "# **Financial Infrastructures Analysis**"
   ]
  },
  {
   "cell_type": "markdown",
   "id": "1b0a2f38-1abf-4b9a-a982-414ac02e29eb",
   "metadata": {
    "jp-MarkdownHeadingCollapsed": true,
    "tags": []
   },
   "source": [
    "## *RAG Implementation TEST - not so feasable*"
   ]
  },
  {
   "cell_type": "code",
   "execution_count": 2,
   "id": "2e7847de-f686-4967-b334-2b9ebee7c081",
   "metadata": {},
   "outputs": [],
   "source": [
    "from langchain_ollama.llms import OllamaLLM\n",
    "from langchain_ollama import OllamaEmbeddings\n",
    "from langchain.vectorstores import Chroma\n",
    "from langchain_core.prompts import ChatPromptTemplate\n",
    "from langchain_core.documents import Document\n",
    "import pandas as pd\n",
    "import os"
   ]
  },
  {
   "cell_type": "code",
   "execution_count": 3,
   "id": "43ba5cba-946f-4657-a3b8-d9d51eb411b8",
   "metadata": {
    "tags": []
   },
   "outputs": [
    {
     "name": "stderr",
     "output_type": "stream",
     "text": [
      "/tmp/ipykernel_20294/3807150908.py:38: LangChainDeprecationWarning: The class `Chroma` was deprecated in LangChain 0.2.9 and will be removed in 1.0. An updated version of the class exists in the langchain-chroma package and should be used instead. To use it run `pip install -U langchain-chroma` and import as `from langchain_chroma import Chroma`.\n",
      "  vector_store = Chroma(\n"
     ]
    }
   ],
   "source": [
    "import os\n",
    "import pandas as pd\n",
    "from langchain.vectorstores import Chroma\n",
    "from langchain.embeddings import OllamaEmbeddings\n",
    "from langchain.schema import Document\n",
    "\n",
    "# Load a single CSV file\n",
    "csv_file = \"csvs/10.csv\"\n",
    "df = pd.read_csv(csv_file)\n",
    "\n",
    "# Initialize the embedding model\n",
    "embeddings = OllamaEmbeddings(model=\"mxbai-embed-large\")\n",
    "\n",
    "# Setup vector DB path\n",
    "db_location = \"./chroma_financial_chat_db\"\n",
    "add_documents = not os.path.exists(db_location)\n",
    "\n",
    "# Only add documents if the database doesn't already exist\n",
    "if add_documents:\n",
    "    documents = []\n",
    "    ids = []\n",
    "    for i, row in df.iterrows():\n",
    "        document = Document(\n",
    "            page_content=row[\"message_translation\"],\n",
    "            metadata={\n",
    "                \"sender\": row[\"From\"],\n",
    "                \"receiver\": row[\"To\"],\n",
    "                \"timestamp\": row[\"Time\"],\n",
    "                \"source_file\": os.path.basename(csv_file),   # Track source file\n",
    "                \"line_number\": i + 1                         # Track line number\n",
    "            },\n",
    "            id=f\"{os.path.basename(csv_file)}_{i}\"            # Ensure unique ID\n",
    "        )\n",
    "        documents.append(document)\n",
    "        ids.append(f\"{os.path.basename(csv_file)}_{i}\")\n",
    "\n",
    "# Create or load the Chroma vector store\n",
    "vector_store = Chroma(\n",
    "    collection_name=\"financial_chats\",\n",
    "    persist_directory=db_location,\n",
    "    embedding_function=embeddings\n",
    ")\n",
    "\n",
    "if add_documents:\n",
    "    vector_store.add_documents(documents=documents, ids=ids)\n",
    "\n",
    "# Setup retriever for use in RAG\n",
    "retriever = vector_store.as_retriever(search_kwargs={\"k\": 15})"
   ]
  },
  {
   "cell_type": "code",
   "execution_count": 4,
   "id": "9ad2851e-9636-4ac5-a439-27f4c1c0710e",
   "metadata": {
    "tags": []
   },
   "outputs": [],
   "source": [
    "model = OllamaLLM(model=\"gemma3:27b\") \n",
    "\n",
    "template = \"\"\"\n",
    "You are a cybersecurity analyst reviewing translated chat messages for financial intelligence.\n",
    "\n",
    "Your task is to extract ONLY the messages that contain **financially relevant information**, such as:\n",
    "\n",
    "- Payments or money transfers\n",
    "- Amounts, currencies, or sums of money\n",
    "- Payment methods (cash, crypto, bank, wallets)\n",
    "- Account numbers, codes, or financial identifiers\n",
    "- Mentions of financial roles (payer, payee, client, broker)\n",
    "- References to suspicious or recurring financial activity\n",
    "\n",
    "From the messages below:\n",
    "{chats}\n",
    "\n",
    "Return ONLY the messages that meet any of the criteria above.\n",
    "\n",
    "For each relevant message, output:\n",
    "- The **timestamp** (if provided in the metadata or inferred)\n",
    "- The **translated content** of the message\n",
    "\n",
    "Do not summarize. Do not explain. Do not include non-financial content.  \n",
    "**DO NOT create or infer messages. Use only the exact text from the messages provided. If no messages match, return nothing.**\n",
    "\n",
    "Output format:\n",
    "[Time] Message\n",
    "\"\"\"\n",
    "\n",
    "prompt = ChatPromptTemplate.from_template(template)\n",
    "chain = prompt | model"
   ]
  },
  {
   "cell_type": "code",
   "execution_count": 5,
   "id": "12e153ea-7ffe-4452-bb03-e3e1856130cb",
   "metadata": {
    "tags": []
   },
   "outputs": [
    {
     "name": "stdout",
     "output_type": "stream",
     "text": [
      "[10.csv - line 21] Account TGtadie, phone: 18510867099, name: Wang Ning.\n",
      "\n",
      "\n",
      "\n",
      "\n"
     ]
    }
   ],
   "source": [
    "question = \"Extract only the chat messages that refer to money, payments, currencies, accounts, financial identifiers, or financial discussions\"\n",
    "\n",
    "# Retrieve relevant chats\n",
    "retrieved_docs = retriever.invoke(question)\n",
    "\n",
    "# Combine messages with metadata for context\n",
    "chat_texts = \"\\n\\n\".join([\n",
    "    f\"[{doc.metadata['source_file']} - line {doc.metadata['line_number']}] {doc.page_content}\"\n",
    "    for doc in retrieved_docs\n",
    "])\n",
    "\n",
    "# Run through the LLM\n",
    "response = chain.invoke({\"chats\": chat_texts})\n",
    "\n",
    "# Output the result\n",
    "print(response)"
   ]
  },
  {
   "cell_type": "markdown",
   "id": "eab8b2a7-ea16-4b5d-bbf4-ce93d822b2ff",
   "metadata": {
    "tags": []
   },
   "source": [
    "## *Financial Structures Identification via list of terms*"
   ]
  },
  {
   "cell_type": "code",
   "execution_count": 3,
   "id": "ce4b1bf2-c845-4701-bccb-049d5d9b811f",
   "metadata": {
    "tags": []
   },
   "outputs": [],
   "source": [
    "# GPT generated list of financial terms that could be relevant to a dataleak\n",
    "\n",
    "financial_terms = [\n",
    "    # Core Financial Infrastructure\n",
    "    \"SWIFT\", \"IBAN\", \"ACH\", \"SEPA\", \"RTGS\", \"CHIPS\",\n",
    "\n",
    "    # Payment Systems & Platforms\n",
    "    \"PayPal\", \"Stripe\", \"Visa\", \"Mastercard\", \"Zelle\", \"Alipay\", \"WeChat Pay\", \"UnionPay\",\n",
    "\n",
    "    # Cryptocurrency & Blockchain\n",
    "    \"Bitcoin\", \"BTC\", \"Ethereum\", \"ETH\", \"USDT\", \"Stablecoin\", \"Token\", \"Wallet\", \n",
    "    \"Cold wallet\", \"Hot wallet\", \"Private key\", \"Seed phrase\", \"TXID\", \"Crypto\", \n",
    "    \"Exchange\", \"Binance\", \"Coinbase\", \"Metamask\", \"Smart contract\", \"Airdrop\",\n",
    "\n",
    "    # Salaries, Transfers, and Payroll\n",
    "    \"Salary\", \"Payroll\", \"Paycheck\", \"Wage\", \"Bonus\", \"Commission\", \"Remittance\", \n",
    "    \"Transfer\", \"Wire transfer\", \"Bank transfer\", \"Stipend\", \"Payout\", \"Income\", \n",
    "    \"CTC\", \"Take-home\", \"Compensation\", \"Monthly package\",\n",
    "\n",
    "    # General Financial Terms\n",
    "    \"Invoice\", \"Transaction\", \"Payment\", \"Tax\", \"Loan\", \"Interest\", \"Repayment\", \n",
    "    \"Bill\", \"Balance\", \"Ledger\", \"Receipt\", \"Clearing\", \"Settlement\", \"Audit\",\n",
    "\n",
    "    # China-Specific Financial Infrastructure\n",
    "    \"e-CNY\", \"Digital RMB\", \"CIPS\", \"Zhima Credit\", \"PBOC\", \"Tenpay\", \"MYBank\",\n",
    "\n",
    "    # Informal/Shadow Finance\n",
    "    \"Cash out\", \"Red packet\", \"Top-up\", \"Recharge\", \"Referral bonus\", \"Middleman\"\n",
    "]\n"
   ]
  },
  {
   "cell_type": "code",
   "execution_count": 8,
   "id": "ca315006-0b7a-4ae1-b0b1-3a9601521b8c",
   "metadata": {
    "tags": []
   },
   "outputs": [],
   "source": [
    "import pandas as pd\n",
    "import os\n",
    "import re"
   ]
  },
  {
   "cell_type": "code",
   "execution_count": 13,
   "id": "1f3f9386-8711-4faf-96ed-3077c29d2aa9",
   "metadata": {
    "tags": []
   },
   "outputs": [],
   "source": [
    "terms_lower = [term.lower() for term in financial_terms]\n",
    "index_df = pd.read_csv('results/updated_with_csv_paths.csv')\n",
    "\n",
    "matched_rows = []\n",
    "\n",
    "for chat_path in index_df['chats']:\n",
    "    if os.path.exists(chat_path):\n",
    "        try:\n",
    "            chat_df = pd.read_csv(chat_path)\n",
    "            chat_df.columns = [col.strip().lower() for col in chat_df.columns]  # Normalize headers\n",
    "\n",
    "            if 'message_translation' not in chat_df.columns:\n",
    "                continue\n",
    "\n",
    "            for i, row in chat_df.iterrows():\n",
    "                message = str(row.get('message_translation', '')).lower()\n",
    "\n",
    "                if any(re.search(r'\\b' + re.escape(term) + r'\\b', message) for term in terms_lower):\n",
    "                    matched_rows.append({\n",
    "                        'file': chat_path,\n",
    "                        'row_index': i,\n",
    "                        'from': row.get('from', ''),\n",
    "                        'to': row.get('to', ''),\n",
    "                        'message_translation': row.get('message_translation', ''),\n",
    "                    })\n",
    "\n",
    "        except Exception as e:\n",
    "            print(f\"Failed to read {chat_path}: {e}\")\n",
    "    else:\n",
    "        print(f\"File not found: {chat_path}\")\n",
    "\n",
    "matched_df = pd.DataFrame(matched_rows)\n",
    "matched_df.to_csv('financial_data_chats.csv', index=False)"
   ]
  },
  {
   "cell_type": "markdown",
   "id": "c607f4da-99b7-4b41-b697-135c3adf1ef7",
   "metadata": {
    "tags": [],
    "user_expressions": []
   },
   "source": [
    "## *Salary Analysis*"
   ]
  },
  {
   "cell_type": "code",
   "execution_count": null,
   "id": "bfc35fb7-0d01-4e6b-a8d2-e00e44028c82",
   "metadata": {},
   "outputs": [],
   "source": [
    "import pandas as pd\n",
    "import re"
   ]
  },
  {
   "cell_type": "code",
   "execution_count": 24,
   "id": "34d4b592-b330-4efb-8fe6-fba13311848a",
   "metadata": {
    "tags": []
   },
   "outputs": [
    {
     "name": "stdout",
     "output_type": "stream",
     "text": [
      "Extracted 207 salary-related messages.\n"
     ]
    },
    {
     "name": "stderr",
     "output_type": "stream",
     "text": [
      "/tmp/ipykernel_301/3164254168.py:17: UserWarning: This pattern is interpreted as a regular expression, and has match groups. To actually get the groups, use str.extract.\n",
      "  salary_df = df[df['message_translation'].str.contains(pattern_string, na=False, case=False, regex=True)]\n"
     ]
    },
    {
     "data": {
      "text/html": [
       "<div>\n",
       "<style scoped>\n",
       "    .dataframe tbody tr th:only-of-type {\n",
       "        vertical-align: middle;\n",
       "    }\n",
       "\n",
       "    .dataframe tbody tr th {\n",
       "        vertical-align: top;\n",
       "    }\n",
       "\n",
       "    .dataframe thead th {\n",
       "        text-align: right;\n",
       "    }\n",
       "</style>\n",
       "<table border=\"1\" class=\"dataframe\">\n",
       "  <thead>\n",
       "    <tr style=\"text-align: right;\">\n",
       "      <th></th>\n",
       "      <th>file</th>\n",
       "      <th>row_index</th>\n",
       "      <th>from</th>\n",
       "      <th>to</th>\n",
       "      <th>message_translation</th>\n",
       "    </tr>\n",
       "  </thead>\n",
       "  <tbody>\n",
       "    <tr>\n",
       "      <th>1</th>\n",
       "      <td>csvs/28.csv</td>\n",
       "      <td>19</td>\n",
       "      <td>wxid_xusilpfkh31g21</td>\n",
       "      <td>Shutd0wn</td>\n",
       "      <td>Last time, C total from Yangzhou said that the...</td>\n",
       "    </tr>\n",
       "    <tr>\n",
       "      <th>2</th>\n",
       "      <td>csvs/28.csv</td>\n",
       "      <td>28</td>\n",
       "      <td>wxid_xusilpfkh31g21</td>\n",
       "      <td>Shutd0wn</td>\n",
       "      <td>The 500k loan from China Bank, they're asking ...</td>\n",
       "    </tr>\n",
       "    <tr>\n",
       "      <th>5</th>\n",
       "      <td>csvs/1.csv</td>\n",
       "      <td>5</td>\n",
       "      <td>lengmo</td>\n",
       "      <td>Shutd0wn</td>\n",
       "      <td>Regarding the salary adjustments for the heads...</td>\n",
       "    </tr>\n",
       "    <tr>\n",
       "      <th>7</th>\n",
       "      <td>csvs/1.csv</td>\n",
       "      <td>200</td>\n",
       "      <td>lengmo</td>\n",
       "      <td>Shutd0wn</td>\n",
       "      <td>Haven't we been tight on funds recently? Many ...</td>\n",
       "    </tr>\n",
       "    <tr>\n",
       "      <th>8</th>\n",
       "      <td>csvs/1.csv</td>\n",
       "      <td>237</td>\n",
       "      <td>lengmo</td>\n",
       "      <td>Shutd0wn</td>\n",
       "      <td>It's expensive too... now how many calls a day...</td>\n",
       "    </tr>\n",
       "  </tbody>\n",
       "</table>\n",
       "</div>"
      ],
      "text/plain": [
       "          file  row_index                 from        to  \\\n",
       "1  csvs/28.csv         19  wxid_xusilpfkh31g21  Shutd0wn   \n",
       "2  csvs/28.csv         28  wxid_xusilpfkh31g21  Shutd0wn   \n",
       "5   csvs/1.csv          5               lengmo  Shutd0wn   \n",
       "7   csvs/1.csv        200               lengmo  Shutd0wn   \n",
       "8   csvs/1.csv        237               lengmo  Shutd0wn   \n",
       "\n",
       "                                 message_translation  \n",
       "1  Last time, C total from Yangzhou said that the...  \n",
       "2  The 500k loan from China Bank, they're asking ...  \n",
       "5  Regarding the salary adjustments for the heads...  \n",
       "7  Haven't we been tight on funds recently? Many ...  \n",
       "8  It's expensive too... now how many calls a day...  "
      ]
     },
     "execution_count": 24,
     "metadata": {},
     "output_type": "execute_result"
    }
   ],
   "source": [
    "df = pd.read_csv(\"financial_data_chats.csv\")\n",
    "\n",
    "# Salary-related terms\n",
    "salary_keywords = [\n",
    "    \"salary\", \"pay\", \"wage\", \"bonus\", \"compensation\", \"income\", \"payroll\",\n",
    "    \"stipend\", \"take-home\", \"ctc\", \"payment\", \"commissions\", \"remuneration\"\n",
    "]\n",
    "\n",
    "pattern_string = r'\\b(' + '|'.join(map(re.escape, salary_keywords)) + r')\\b'\n",
    "salary_df = df[df['message_translation'].str.contains(pattern_string, na=False, case=False, regex=True)]\n",
    "\n",
    "print(f\"Extracted {len(salary_df)} salary-related messages.\")\n",
    "salary_df.head()"
   ]
  },
  {
   "cell_type": "code",
   "execution_count": 28,
   "id": "8df9a5a7-b3e7-4cc8-9e44-00fd62bc400b",
   "metadata": {
    "tags": []
   },
   "outputs": [],
   "source": [
    "import math\n",
    "import requests"
   ]
  },
  {
   "cell_type": "code",
   "execution_count": 29,
   "id": "7e04680b-eb91-4292-a450-c869289db0de",
   "metadata": {},
   "outputs": [
    {
     "name": "stdout",
     "output_type": "stream",
     "text": [
      "Processing 207 messages in 7 batches...\n",
      "\n",
      "\n",
      "📦 Batch 1/7 Summary:\n",
      "\n",
      "Here's a structured analysis of the messages, focusing on compensation/payment-related information and flagging issues, as requested:\n",
      "\n",
      "* **wxid_xusilpfkh31g21:** Mentions a client requiring a 6-month trial before payment.\n",
      "* **wxid_xusilpfkh31g21:** References a 500k loan from China Bank and owing 22.5 (currency unspecified) from projects. Plans to pay 12.5 first.\n",
      "* **lengmo:** Asks for input on salary adjustments for Group 2 and Group 3 heads, suggesting referencing Wang Yan’s ratio.\n",
      "* **lengmo:** Notes tight funds and held-up payment requests.\n",
      "* **lengmo:** References numerous demands for payment.\n",
      "* **Shutd0wn:** States no payment received and advance payment isn’t feasible.\n",
      "* **lengmo:** Discusses a contract signed *after* delivery regarding payment terms.\n",
      "* **lengmo:** Suggests canceling a contract due to concerns about not receiving the first payment.\n",
      "* **Shutd0wn:** Expresses intent to request payment.\n",
      "* **lengmo:** HR states compensation isn’t competitive for attracting talent, especially compared to Sinopec. Mentions a former employee earning less than a peer.\n",
      "* **lengmo:** Acknowledges awkwardness of current salary levels.\n",
      "* **lengmo:** States year-end salary processing will take time.\n",
      "* **Shutd0wn:** Suggests prioritizing payment if someone finds it annoying.\n",
      "* **Shutd0wn:** Mentions Qianxin borrowed a bridge loan to pay off 360 (currency unspecified).\n",
      "* **Shutd0wn:** Confirms a payment deadline has been given.\n",
      "* **lengmo:** Plans to raise compensation for technical roles.\n",
      "* **lengmo:** Believes higher salaries will improve team stability.\n",
      "* **Shutd0wn:** Suggests offering appropriate compensation to key core members.\n",
      "* **lengmo:** Notes complaints from the Cases team about a salary gap with the Tech department, citing Tech salaries of 16-18k (currency unspecified).\n",
      "* **lengmo:** Asks if payment will be made upon signing.\n",
      "* **lengmo:** Expects November payment to arrive.\n",
      "* **Shutd0wn:** Confirms payment will be made upon signing.\n",
      "* **lengmo:** Suggests 100 million (currency unspecified) may not cover the first payment.\n",
      "* **lengmo:** Mentions a 20% tax on a payment.\n",
      "* **lengmo:** Discusses affordability of a down payment on a house.\n",
      "* **lengmo:** Aims to complete something before payroll.\n",
      "* **lengmo:** Reports receiving a payment.\n",
      "* **lengmo:** Details payments of 98,000 (currency unspecified), 98,000, and approximately 198,000 (currency unspecified).\n",
      "* **lengmo:** Notes employee desires for more vacation, less overtime, and higher salaries compared to other companies.\n",
      "* **lengmo:** Requests a 1 million (currency unspecified) loan from the company after the New Year, with a plan for repayment within the year, to cover a down payment on an apartment.\n",
      "\n",
      "\n",
      "\n",
      "**Flags/Issues:**\n",
      "\n",
      "*   **Payment Delays/Issues:** Multiple messages indicate payment delays, disputes, and concerns about receiving payments.\n",
      "*   **Compensation Competitiveness:**  HR acknowledges uncompetitive compensation, leading to employee attrition and dissatisfaction.\n",
      "*   **Salary Disparities:** Complaints from the Cases team regarding salary differences with the Tech department.\n",
      "*   **Loan Requests:** An employee requesting a significant loan from the company for personal expenses.\n",
      "*   **Tax Concerns**:  Expresses concerns about a 20% tax on payments.\n",
      "*   **Financial Hardship**: Multiple messages allude to financial strain.\n",
      "\n",
      "📦 Batch 2/7 Summary:\n",
      "\n",
      "Here's an analysis of the provided messages, focusing solely on compensation-related content and adhering to your specified format:\n",
      "\n",
      "* **lengmo → Shutd0wn:** Mentions potentially borrowing 1 million (currency unspecified) to cover project payment issues.\n",
      "* **Shutd0wn → lengmo:** Suggests using bonus incentives instead of complex salary calculations.\n",
      "* **lengmo → Shutd0wn:** Proposes a seniority-based salary increase of 100 per year of service.\n",
      "* **Shutd0wn → lengmo:** States prioritization of salary increases and bonuses for key personnel.\n",
      "* **Shutd0wn → lengmo:** Mentions year-end bonus assessment tied to statistical interfaces.\n",
      "* **Shutd0wn → lengmo:** References technical salary and bonuses needing to be secured through contracts.\n",
      "* **Shutd0wn → lengmo:** Emphasizes full year's salary payment, not just for specific events.\n",
      "* **lengmo → Shutd0wn:** Discusses payment timing related to 2019/2020 invoices/payments; mentions a payment span crossing into the next year.\n",
      "* **lengmo → Shutd0wn:** Mentions partial amounts collected and uncollected amounts impacting the following year’s finances.\n",
      "* **Shutd0wn → lengmo:** Mentions Management Department 2020 cash flow income.\n",
      "* **lengmo → Shutd0wn:** Asks about how year-end bonuses and salary adjustments are determined.\n",
      "* **Shutd0wn → lengmo:** States that some in Groups 2 & 3 received salary adjustments & bonuses; 4 new sales hires received a slight adjustment.\n",
      "* **lengmo → Shutd0wn:** Asks about the year-end bonus.\n",
      "* **Shutd0wn → lengmo:** States commissions are paid normally, executive bonuses in installments, and there is no 13th-month salary.\n",
      "* **lengmo → Shutd0wn:** Suggests delaying the year-end bonus to potentially slow employee departures.\n",
      "* **lengmo → Shutd0wn:** Confirms no salary reduction in January & February.\n",
      "* **Shutd0wn → lengmo:** States the decision to cut the 13th-month salary.\n",
      "* **lengmo → Shutd0wn:** Questions whether to explicitly state only some will receive year-end bonuses/salary increases.\n",
      "* **lengmo → Shutd0wn:** Mentions HR suggestion of seniority-based salary increases (50 or 80 after one year).\n",
      "* **lengmo → Shutd0wn:** Asks if Qian received a salary adjustment with their recent promotion.\n",
      "* **Shutd0wn → lengmo:** Suggests calculating someone's compensation by project rather than a salary.\n",
      "* **Shutd0wn → lengmo:** Acknowledges someone's salary is not high.\n",
      "* **Shutd0wn → lengmo:** Suggests calculating someone's compensation based on contracts.\n",
      "* **Shutd0wn → lengmo:** Questions if a salary is already paid for the work.\n",
      "* **lengmo → Shutd0wn:** Questions why someone would receive more pay on top of their existing salary.\n",
      "\n",
      "📦 Batch 3/7 Summary:\n",
      "\n",
      "Here's a structured analysis of the provided messages, focusing solely on compensation/payment-related content, with attribution and specific data points:\n",
      "\n",
      "* **Shutd0wn → lengmo:** Mentions Qin Xiaoxi receiving a bonus.\n",
      "* **lengmo → Shutd0wn:** Suggests bonuses be unified into a single bonus form.\n",
      "* **lengmo → Shutd0wn:** Proposes bonuses based on recovered money, proportionally.\n",
      "* **Shutd0wn → lengmo:** References balancing income and expenses in relation to payment/compensation.\n",
      "* **Shutd0wn → lengmo:** Mentions adjustments to achieve income/expense balance.\n",
      "* **lengmo → Shutd0wn:** States salary & related expenses will be paid directly.\n",
      "* **lengmo → Shutd0wn:** Asks for the annual salary, social security, and bonuses for personnel.\n",
      "* **lengmo → Shutd0wn:** Payment for Lhasa expected in April.\n",
      "* **Shutd0wn → lengmo:** Payment delays of 1-2 months are common.\n",
      "* **lengmo → Shutd0wn:** Discusses using “in process” as an excuse for delayed payment.\n",
      "* **lengmo → Shutd0wn:** Mentions payment schedules for each company.\n",
      "* **lengmo → Shutd0wn:** References delayed payment by a few days.\n",
      "* **lengmo → Shutd0wn:** States money has been received, potentially resolving a payment issue.\n",
      "* **Shutd0wn → lengmo:** Asks for update on Shaanxi project payment.\n",
      "* **lengmo → Shutd0wn:** Mentions “Yearly payment.”\n",
      "* **lengmo → Shutd0wn:** References a June raise, 8000W commission (potential bonus/incentive), and concerns about trust.\n",
      "* **lengmo → Shutd0wn:** Discusses retaining a team member with a potential salary increase.\n",
      "* **lengmo → Shutd0wn:** Mentions a potential salary increase next month.\n",
      "* **lengmo → Shutd0wn:** Discusses a 8000W commission.\n",
      "* **lengmo → Shutd0wn:** Notes tech team concerns about the June salary increase being a delay tactic.\n",
      "* **Shutd0wn → lengmo:** Mentions bonuses for April-May based on two months’ salary.\n",
      "* **Shutd0wn → lengmo:** Requests follow-up on collecting payment.\n",
      "* **lengmo → Shutd0wn:** Suggests increasing salary (“a few K”) to counter poaching and secure higher salaries.\n",
      "* **Shutd0wn → lengmo:** States 404 payment will be made on Monday.\n",
      "* **Shutd0wn → lengmo:**  Mentions an employee's compensation not matching their capabilities.\n",
      "* **lengmo → Shutd0wn:**  Employee received a 250 yuan salary increase over two years.\n",
      "* **lengmo → Shutd0wn:** Discusses payment terms requiring upfront payment from clients.\n",
      "* **lengmo → Shutd0wn:** Discusses requiring advance payment for a project.\n",
      "* **lengmo → Shutd0wn:** Suggests budget of 15000 allows for salaries of 8000-10000.\n",
      "* **lengmo → Shutd0wn:**  Shaanxi project payment – materials to be prepared before the holiday.\n",
      "* **lengmo → Shutd0wn:** Lhasa payment is delayed due to client organizational changes, new personnel and data center changes.\n",
      "\n",
      "📦 Batch 4/7 Summary:\n",
      "\n",
      "Here's a structured analysis of the provided messages, focusing solely on compensation/payment-related content, with attribution and specific data points:\n",
      "\n",
      "* **Shutd0wn → lengmo:** Mentions issues with payment, framing it as a sales problem. (Complaint/Delay)\n",
      "* **Shutd0wn → lengmo:** Expresses dissatisfaction with payment progress despite receiving a thank-you letter. (Complaint/Delay)\n",
      "* **Shutd0wn → lengmo:** Asks when a contract will be signed and payment made. (Inquiry/Delay)\n",
      "* **Shutd0wn → lengmo:** Direct request for \"Payment!!!\" (Complaint/Delay)\n",
      "* **lengmo → Shutd0wn:** Expects projects to be paid within the month. (Timeframe)\n",
      "* **Shutd0wn → lengmo:** Mentions payment being linked to supply. (Condition of Payment)\n",
      "* **Shutd0wn → lengmo:** References the process from sales order to payment receipt. (Process Mention)\n",
      "* **Shutd0wn → lengmo:** Asks for the status of the Shaanxi payment on the 21st. (Inquiry/Delay)\n",
      "* **lengmo → Shutd0wn:** States receiving an initial payment of 500k is needed, with several million expected by year-end. (Amounts: 500k, several million)\n",
      "* **Shutd0wn → lengmo:** Complains about not receiving payment for another month. (Complaint/Delay)\n",
      "* **Shutd0wn → lengmo:** Urges quick action on payment. (Complaint/Delay)\n",
      "* **Shutd0wn → lengmo:** States several hundred thousand has been advanced for Yancheng, awaiting payment. (Amount: several hundred thousand)\n",
      "* **Shutd0wn → lengmo:** Questions whether payment for Lhasa will be delayed (through Zhaowu) and if payment will be received by 7.10. (Inquiry/Delay)\n",
      "* **lengmo → Shutd0wn:** Zhaowu promised payment upon receiving funds. (Process Mention)\n",
      "* **Shutd0wn → lengmo:** Urges urgent follow-up on payment. (Complaint/Delay)\n",
      "* **Shutd0wn → lengmo:**  States it is unacceptable to make employees wait for payment before issuing salaries. (Policy/Concern)\n",
      "* **lengmo → Shutd0wn:** States all three locations want a down payment first. (Condition of Payment)\n",
      "* **lengmo → Shutd0wn:** New employee will have a monthly salary of 10k plus standard commission. (Amount: 10k)\n",
      "* **lengmo → Shutd0wn:** Discusses a potential employee wanting a 12k salary but negotiating down to align with company standards. (Amount: 12k)\n",
      "* **lengmo → Shutd0wn:** Mentions remaining balance to be paid for Si Xu's work. (Unspecified Amount)\n",
      "* **lengmo → Shutd0wn:** Asks when rent can be paid and roughly when payment will be made. (Inquiry)\n",
      "* **lengmo → Shutd0wn:** Mentions payment being confirmed after data submission from Yangbi County Bureau. (Process Mention)\n",
      "* **Shutd0wn → lengmo:** States only 50% of payment has been received for 1-2 projects. (Amount: 50%)\n",
      "* **lengmo → Shutd0wn:** Mentions legal consultation for third-party payment. (Process Mention)\n",
      "* **lengmo → Shutd0wn:** Mentions third-party payment costing several hundred thousand a year. (Amount: several hundred thousand)\n",
      "* **lengmo → Shutd0wn:** States payment is being processed and awaiting signature for release. (Process Mention)\n",
      "* **Shutd0wn → lengmo:** Questions why Shaanxi project payment hasn't been unlocked. (Inquiry/Delay)\n",
      "* **lengmo → Shutd0wn:** Potential refund of one percentage point of costs to cover expenses. (Percentage: 1%)\n",
      "* **lengmo → Shutd0wn:** Mentions potential employee returning after receiving a year-end bonus from Qixin. (Bonus Mention)\n",
      "\n",
      "📦 Batch 5/7 Summary:\n",
      "\n",
      "Here's a structured analysis of the provided messages, focusing solely on compensation/payment-related content, with attribution and specific data points:\n",
      "\n",
      "* **lengmo → Shutd0wn:** Mentions revenue confirmation issues impacting billing for two projects; Xu Qian expressed dissatisfaction with year-end compensation and requests potential company compensation.\n",
      "* **Shutd0wn → lengmo:**  References a system allowing advance invoicing with timeframe stipulations.\n",
      "* **lengmo → Shutd0wn:** Suggests a bonus package to appease employees due to project invoicing delays (potentially due to epidemic) until after Spring Festival.\n",
      "* **Shutd0wn → lengmo:** States 2021 expenses were 30 million, cash income 24 million, resulting in negative 7 million cash flow.\n",
      "* **lengmo → Shutd0wn:** Mentions a minimum income threshold of 100,000 RMB for pursuing arrests related to earnings.\n",
      "* **Shutd0wn → lengmo:** Confirms payment will be made this week.\n",
      "* **Shutd0wn → lengmo:** Personal statement about needing to make a loan payment next month.\n",
      "* **lengmo → Shutd0wn:** Business Department responsible for pricing and payment methods for third-party products.\n",
      "* **lengmo → Shutd0wn:** Business Department responsible for negotiating prices and payment terms.\n",
      "* **lengmo → Shutd0wn:** Prioritizes client appeasement and acceptance/payment of leads.\n",
      "* **Shutd0wn → lengmo:** Announces a new policy requiring payment *before* delivery for all supplies and services, even non-subcontracted ones.\n",
      "* **Shutd0wn → lengmo:** Requests follow-up on payment from Jiangsu.\n",
      "* **Shutd0wn → lengmo:** Urges speedy acceptance and payment.\n",
      "* **wxid_5390224027312 → wxid_70w3p1jin84k22:** States payment from Qixin (Qi An Xin) hasn’t arrived.\n",
      "* **wxid_70w3p1jin84k22 → wxid_5390224027312:**  Indicates a client is urging payment to a subcontractor.\n",
      "* **wxid_70w3p1jin84k22 → wxid_5390224027312:** Asks if salary increases are not possible.\n",
      "* **wxid_5390224027312 → wxid_70w3p1jin84k22:** States salary may not be high.\n",
      "* **wxid_70w3p1jin84k22 → wxid_5390224027312:** Confirms lack of knowledge about the salary amount.\n",
      "* **wxid_70w3p1jin84k22 → wxid_5390224027312:** Reports customers are rushing payment.\n",
      "* **wxid_70w3p1jin84k22 → wxid_5390224027312:** States the Jiangsu project has the same issue – customers urging payment due to isolation.\n",
      "* **wxid_5390224027312 → wxid_70w3p1jin84k22:** Reports they haven't received this month’s payment.\n",
      "* **wxid_70w3p1jin84k22 → wxid_nv9bv435fz3722:**  Mentions previous dissatisfaction with year-end bonus and potential leaving.\n",
      "* **wxid_70w3p1jin84k22 → wxid_nv9bv435fz3722:** Asks about a raise not being approved.\n",
      "* **wxid_70w3p1jin84k22 → wxid_nv9bv435fz3722:** Suggests comparing the annual salary document.\n",
      "* **wxid_70w3p1jin84k22 → wxid_nv9bv435fz3722:** Requests a monthly salary.\n",
      "* **wxid_70w3p1jin84k22 → wxid_nv9bv435fz3722:** Notes year-end bonus depends on the company.\n",
      "* **wxid_70w3p1jin84k22 → wxid_nv9bv435fz3722:** Believes a lack of year-end bonus would cause departure.\n",
      "* **wxid_nv9bv435fz3722 → wxid_70w3p1jin84k22:** Asks if all 13 months' salary is correct.\n",
      "* **wxid_70w3p1jin84k22 → wxid_nv9bv435fz3722:** States the technical line received a 13th month salary, discounted to 0.8, 0.5, and 0.4.\n",
      "* **wxid_nv9bv435fz3722 → wxid_70w3p1jin84k22:** Indicates pre-sales no longer receives a 14th month salary.\n",
      "\n",
      "📦 Batch 6/7 Summary:\n",
      "\n",
      "## Data Extraction & Structured Summary from Provided Text\n",
      "\n",
      "Here's a structured list of bullet points summarizing data-based content from the provided text, with clear attribution where possible.  This focuses on quantifiable details and avoids subjective interpretations.\n",
      "\n",
      "**I. Data Volume & Timeframe (Project Scope - Table Reference)**\n",
      "\n",
      "*   **Total Data Volume:** 700,000,000 entries.\n",
      "*   **Data Collection Period:** April 9th, 2018 – February 17th, 2022.\n",
      "*   **Communication Source:**  Data originates from messaging platforms (likely WeChat, based on `wxid_` identifiers).\n",
      "\n",
      "**II. Financial & Compensation Details (from Message Exchanges)**\n",
      "\n",
      "*   **2019 Salary (Employee - 'just910420'):** 10,200 (currency not specified, presumed RMB) before tax.\n",
      "    *   Year-end bonus in 2019: Not specifically stated, but considered \"not as expected.\"\n",
      "*   **2020 Salary (Employee - 'just910420'):** 11,700 (currency not specified, presumed RMB) before tax (including 200 confidentiality fee).\n",
      "*   **Previous Salary (Employee - 'just910420' - 2017):** 7,500 (currency not specified, presumed RMB) initially, 8,000 at Hikvision.\n",
      "*   **2018 Salary Increase:** 1,000 (currency not specified, presumed RMB) increase for employee.\n",
      "*   **Confidentiality Fee (2020):** 200 (currency not specified, presumed RMB) for employee.\n",
      "*   **Year-End Bonus (2019 – Technical Team):** Several members received less than employee 'just910420'.\n",
      "*   **Sales Commission - 2020:**  Low commission rates, adjusted in 2020.\n",
      "*   **Compensation Dispute:** Potential two-month compensation payment being discussed for departing employee.\n",
      "*   **Arbitration:** Potential for arbitration if compensation negotiations fail.\n",
      "*   **Compensation Expectation:** Employee 'wxid_5390224027312' desires \"fair\" compensation or a uniform standard.\n",
      "\n",
      "**III. Project and Deal Status**\n",
      "\n",
      "*   **Unpaid Projects:** Multiple projects reportedly have not received payment.\n",
      "*   **Sales Performance:** Some sales employees have not closed deals for 2-3 years.\n",
      "\n",
      "**IV. Messaging Statistics (Indirect Data – Indicates Activity)**\n",
      "\n",
      "*   Numerous message exchanges between individuals (e.g., 'just910420' and 'lengmo', and 'wxid_...' identifiers). Indicating significant communication volume.\n",
      "*   Specific identification and attribution of message senders and recipients.\n",
      "\n",
      "**V.  Technical Team & Sales Relationship**\n",
      "\n",
      "*   Technical team performance perceived to be tied to sales commissions.\n",
      "\n",
      "**Important Note:**  This extraction focuses *solely* on directly stated quantifiable data.  Much of the text contains opinions, feelings, and context that are excluded to maintain objectivity. Currency is also not specified.\n",
      "\n",
      "📦 Batch 7/7 Summary:\n",
      "\n",
      "## Structured List of Attributed & Data-Based Content (From Provided Text)\n",
      "\n",
      "Here's a structured list, focusing on factual information and attributed to the source within the provided text (primarily chat logs and OCR'd documents).  I've categorized for clarity.\n",
      "\n",
      "**I. Salary & Compensation Discussions:**\n",
      "\n",
      "*   **Salary Withholding/Reduction:** Multiple individuals express concerns about salary being withheld or reduced.\n",
      "    *   \"This month everyone received 2000 yuan in salary, no one met their performance goals, and it was all deducted.\" (gzp1991101 → wxid_mgh25nentc4u22)\n",
      "    *   \"Luckily, my new company didn't withhold my salary.\" (wxid_mgh25nentc4u22 → gzp1991101)\n",
      "    *   \"I'm afraid they'll split it into performance-based and base salary, and then the compensation will be calculated based on the base salary.\" (wxid_7p054rmzkhqf21 → gzp1991101)\n",
      "    *    “I feel they won't directly offer compensation; it's more likely they'll reduce salaries and wait for you to become unable to stay and resign on your own.” (wxid_7p054rmzkhqf21 → gzp1991101)\n",
      "*   **Salary Frequency:**  Mention of \"monthly payment.\" (wxid_hlmnhsq64tt722 → ken73224)\n",
      "*   **Lack of Raises:** \"It's been three years since my salary was raised.\" (wxid_icges6alg8cl21 → wxid_kbys0kvzj4ta12)\n",
      "*  **Commission/Bonus:** Mention of offering \"10 points of commission\" to help increase income. (qq78263462 → wxid_5390224027312)\n",
      "\n",
      "**II. Payment & Financial Transactions:**\n",
      "\n",
      "*   **Payment Method:** Discussions around \"Cash/Credit card etc.\" as payment methods. (OCR'd Document).\n",
      "*   **Payment Limits:**  Question regarding limitations on the amount for \"all websites of this money laundering platform.\" (wxid_5390224027312 → wxid_wh6x59w70y3r22)\n",
      "*   **Payment Refund:** Question asking if a payment for \"Shenzhen\" has been refunded. (wxid_5390224027312 → wxid_wh6x59w70y3r22)\n",
      "*   **Payment First:**  Question about whether \"payment comes first, then data\" in a transaction. (wxid_5390224027312 → wxid_wh6x59w70y3r22)\n",
      "*  **One-Time Payment**: Multiple mentions of \"one-time payment\" inquiries and confirmations. (wxid_5390224027312 → wxid_wh6x59w70y3r22)\n",
      "\n",
      "**III. Data Integration & OCR Document Details (From OCR'd Documents):**\n",
      "\n",
      "*   **Passenger Data:**  Data integration focuses on: Ticket number, Payment method, Passenger information (Name, Date of Birth, ID number), Contact Information (Phone Number, Email Address).\n",
      "*   **SSR/CTCE Subfield ID Issues**: Mention of representative IDs 8, 8, 15, 40, 88, which are not unique and lead to data loss during merging.\n",
      "*   **Data Loss Concern:** Data integration might lead to loss of fields if unique identifiers are not used.\n",
      "*   **AP35 Example:** Data integration of fields like \"ALA +7 727 3269080 - SHAKH (INTERNET T0URISM) - A ## 7701 7351 SB 5 ### 770 17351535\" results in less readable format.\n",
      "*   **Technical Recommendation:** Data integration is only recommended if the above fields (Ticket, Payment, Passenger, Contact) are the only ones needed. Otherwise, it's discouraged due to lower recognition accuracy.\n",
      "\n",
      "**IV.  Project/Hiring Plans:**\n",
      "\n",
      "*   **Hiring a Technical Person:** Plan to hire a technical person to help with public security and other tasks. (wxid_7p054rmzkhqf21 → gzp1991101)\n",
      "* **Red Envelope Bonus:** The individual plans to offer \"red envelopes\" as bonuses to the new hire. (wxid_7p054rmzkhqf21 → gzp1991101)\n",
      "\n",
      "\n",
      "\n",
      "**Note:** I've focused solely on factual data and attributed it to the source. I've omitted opinions, speculation, and conversational fluff.  The attribution provides context and helps verify the information.\n"
     ]
    }
   ],
   "source": [
    "# Use an LLM to extract relevant info from the df above that holds salary information\n",
    "\n",
    "def make_prompt(messages):\n",
    "    message_block = \"\\n\".join([\n",
    "        f\"- Message: {row['message_translation']} (From: {row['from']} → To: {row['to']})\"\n",
    "        for _, row in messages.iterrows()\n",
    "    ])\n",
    "    return f\"\"\"\n",
    "You are an forensics analyst auditing internal employee communications for salary-related issues.\n",
    "\n",
    "Below is a batch of real messages. Analyze only what is written — do not assume anything not stated.\n",
    "\n",
    "For each bullet point:\n",
    "- Begin with the sender ID (from 'From')\n",
    "- Include exact numbers or amounts (if any)\n",
    "- Summarize the key message in terms of compensation or payment\n",
    "- Flag complaints, disputes, delays, or bonus mentions\n",
    "\n",
    "Messages:\n",
    "{message_block}\n",
    "\n",
    "Give a structured list of bullet points with clear attribution and data-based content only.\n",
    "\"\"\"\n",
    "\n",
    "def query_ollama(prompt, model=\"gemma3:27b\"):\n",
    "    url = \"http://localhost:11434/api/generate\"\n",
    "    payload = {\n",
    "        \"model\": model,\n",
    "        \"prompt\": prompt,\n",
    "        \"stream\": False\n",
    "    }\n",
    "    try:\n",
    "        response = requests.post(url, json=payload, timeout=600)\n",
    "        response.raise_for_status()\n",
    "        return response.json()[\"response\"].strip()\n",
    "    except Exception as e:\n",
    "        return f\"[ERROR] {e}\"\n",
    "\n",
    "# Split into batches and process \n",
    "batch_size = 30  \n",
    "n_batches = math.ceil(len(salary_df) / batch_size)\n",
    "\n",
    "print(f\"Processing {len(salary_df)} messages in {n_batches} batches...\\n\")\n",
    "\n",
    "full_report = []\n",
    "\n",
    "for i in range(n_batches):\n",
    "    batch_df = salary_df.iloc[i * batch_size : (i + 1) * batch_size]\n",
    "    prompt = make_prompt(batch_df)\n",
    "    summary = query_ollama(prompt)\n",
    "    \n",
    "    print(f\"\\nBatch {i + 1}/{n_batches} Summary:\\n\")\n",
    "    print(summary)\n",
    "    full_report.append(f\"### Batch {i + 1}\\n{summary}\")\n",
    "\n",
    "with open(\"results/full_salary_analysis.txt\", \"w\") as f:\n",
    "    f.write(\"\\n\\n\".join(full_report))"
   ]
  }
 ],
 "metadata": {
  "kernelspec": {
   "display_name": "Python (IsoonAI)",
   "language": "python",
   "name": "isoonai"
  },
  "language_info": {
   "codemirror_mode": {
    "name": "ipython",
    "version": 3
   },
   "file_extension": ".py",
   "mimetype": "text/x-python",
   "name": "python",
   "nbconvert_exporter": "python",
   "pygments_lexer": "ipython3",
   "version": "3.11.8"
  }
 },
 "nbformat": 4,
 "nbformat_minor": 5
}
