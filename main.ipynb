{
 "cells": [
  {
   "cell_type": "code",
   "execution_count": 6,
   "id": "08427a84-31f9-4bcf-875e-22b2e6497608",
   "metadata": {
    "user_expressions": []
   },
   "outputs": [
    {
     "name": "stdout",
     "output_type": "stream",
     "text": [
      "/home/jovyan/IsoonAI/bin/python\n"
     ]
    },
    {
     "data": {
      "text/plain": [
       "144"
      ]
     },
     "execution_count": 6,
     "metadata": {},
     "output_type": "execute_result"
    }
   ],
   "source": [
    "import sys\n",
    "print(sys.executable)\n",
    "\n",
    "import os\n",
    "os.cpu_count()"
   ]
  },
  {
   "cell_type": "code",
   "execution_count": 7,
   "id": "879be4cb",
   "metadata": {
    "tags": [],
    "vscode": {
     "languageId": "shellscript"
    }
   },
   "outputs": [
    {
     "name": "stdout",
     "output_type": "stream",
     "text": [
      "Checkout git\n",
      "kernel is working\n"
     ]
    }
   ],
   "source": [
    "import os\n",
    "import zipfile\n",
    "import subprocess\n",
    "import json\n",
    "import pandas as pd\n",
    "from langchain_ollama.llms import OllamaLLM\n",
    "import shutil\n",
    "\n",
    "\n",
    "# Paths and model settings\\ nZIP_PATH = 'I-Soon-data.zip'      # Path to your downloaded zip file\n",
    "ZIP_PATH = '0.zip'    # Directory to extract contents\n",
    "EXTRACT_DIR = 'I-Soon-data'        # Directory to extract contents\n",
    "print(\"Checkout git\")\n",
    "print(\"kernel is working\")"
   ]
  },
  {
   "cell_type": "code",
   "execution_count": 8,
   "id": "5e6feb79",
   "metadata": {
    "tags": [],
    "vscode": {
     "languageId": "shellscript"
    }
   },
   "outputs": [
    {
     "name": "stdout",
     "output_type": "stream",
     "text": [
      "Extracted archive to 'I-Soon-data'\n"
     ]
    }
   ],
   "source": [
    "if not os.path.isdir(EXTRACT_DIR):\n",
    "    with zipfile.ZipFile(ZIP_PATH, 'r') as zip_ref:\n",
    "        zip_ref.extractall(EXTRACT_DIR)\n",
    "    print(f\"Extracted archive to '{EXTRACT_DIR}'\")\n",
    "else:\n",
    "    print(f\"Extraction directory '{EXTRACT_DIR}' already exists\")"
   ]
  },
  {
   "cell_type": "markdown",
   "id": "325a01d8",
   "metadata": {
    "user_expressions": []
   },
   "source": [
    "# **DATA TYPE CATEGORIZATION**"
   ]
  },
  {
   "cell_type": "code",
   "execution_count": 9,
   "id": "dec65000",
   "metadata": {
    "vscode": {
     "languageId": "shellscript"
    }
   },
   "outputs": [
    {
     "name": "stdout",
     "output_type": "stream",
     "text": [
      "Deleted: I-Soon-data/__MACOSX\n"
     ]
    }
   ],
   "source": [
    "# Define the parent directory\n",
    "parent_directory = \"I-Soon-data\"\n",
    "\n",
    "# Full path to the __MACOSX folder\n",
    "macosx_folder = os.path.join(parent_directory, \"__MACOSX\")\n",
    "\n",
    "# Check if __MACOSX exists and remove it\n",
    "if os.path.exists(macosx_folder) and os.path.isdir(macosx_folder):\n",
    "    shutil.rmtree(macosx_folder)\n",
    "    print(f\"Deleted: {macosx_folder}\")\n",
    "else:\n",
    "    print(f\"Folder not found: {macosx_folder}\")\n",
    "\n",
    "# Organize files by extension into subfolders\n",
    "for root, dirs, files in os.walk(parent_directory):\n",
    "    for file in files:\n",
    "        # Skip hidden files and __MACOSX if any reappear\n",
    "        if file.startswith('.') or '__MACOSX' in root:\n",
    "            continue\n",
    "\n",
    "        # Get the file extension (in lowercase, without the dot)\n",
    "        file_extension = os.path.splitext(file)[1].lower().lstrip('.')\n",
    "        if not file_extension:\n",
    "            file_extension = \"no_extension\"\n",
    "\n",
    "        # Define the new subfolder path\n",
    "        subfolder_path = os.path.join(parent_directory, file_extension)\n",
    "\n",
    "        # Create the subfolder if it doesn't exist\n",
    "        os.makedirs(subfolder_path, exist_ok=True)\n",
    "\n",
    "        # Define source and destination paths\n",
    "        source_path = os.path.join(root, file)\n",
    "        destination_path = os.path.join(subfolder_path, file)\n",
    "\n",
    "        # Move the file if source and destination are not the same\n",
    "        if os.path.abspath(source_path) != os.path.abspath(destination_path):\n",
    "            shutil.move(source_path, destination_path)\n",
    "\n",
    "# Remove any empty folders within the parent directory\n",
    "for dirpath, dirnames, filenames in os.walk(parent_directory, topdown=False):\n",
    "    if not dirnames and not filenames:\n",
    "        try:\n",
    "            os.rmdir(dirpath)\n",
    "            print(f\"Removed empty folder: {dirpath}\")\n",
    "        except OSError:\n",
    "            pass  # Ignore errors (e.g., if directory is not empty due to permissions)"
   ]
  },
  {
   "cell_type": "markdown",
   "id": "75417f54",
   "metadata": {
    "user_expressions": []
   },
   "source": [
    "# **Markdown File Classification Using Local LLM (Ollama + LangChain)**"
   ]
  },
  {
   "cell_type": "code",
   "execution_count": 11,
   "id": "b9397264",
   "metadata": {
    "vscode": {
     "languageId": "shellscript"
    }
   },
   "outputs": [
    {
     "name": "stderr",
     "output_type": "stream",
     "text": [
      "Classifying files: 100%|██████████| 70/70 [02:37<00:00,  2.24s/it]\n"
     ]
    }
   ],
   "source": [
    "import os\n",
    "import glob\n",
    "import shutil\n",
    "import concurrent.futures\n",
    "from langchain.llms import Ollama\n",
    "from langchain.prompts import PromptTemplate\n",
    "from langchain.chains import LLMChain\n",
    "from tqdm import tqdm\n",
    "\n",
    "# === Step 1: Set up LLM and Prompt ===\n",
    "\n",
    "llm = Ollama(model=\"llama3.1:8b\")\n",
    "\n",
    "prompt_template = PromptTemplate(\n",
    "    input_variables=[\"content\"],\n",
    "    template=\"\"\"\n",
    "You are analyzing the content of a Markdown (.md) file.\n",
    "\n",
    "Markdown content:\n",
    "\\\"\\\"\\\"\n",
    "{content}\n",
    "\\\"\\\"\\\"\n",
    "\n",
    "1. Classify the content into one of the following categories ONLY: chats, images, other.\n",
    "2. State your confidence in the classification as one of: high, medium, or low.\n",
    "\n",
    "Respond in the following format:\n",
    "Category: <chats|images|other>\n",
    "Confidence: <high|medium|low>\n",
    "\"\"\"\n",
    ")\n",
    "\n",
    "chain = LLMChain(llm=llm, prompt=prompt_template)\n",
    "\n",
    "# === Step 2: Preprocessing Function ===\n",
    "\n",
    "def preprocess_first_20_lines(file_path):\n",
    "    try:\n",
    "        with open(file_path, \"r\", encoding=\"utf-8\") as f:\n",
    "            lines = [line.strip() for _, line in zip(range(20), f)]\n",
    "            content = \" \".join(lines)\n",
    "        return os.path.basename(file_path), content\n",
    "    except Exception:\n",
    "        return os.path.basename(file_path), \"\"\n",
    "\n",
    "# === Step 3: Load .md Files ===\n",
    "\n",
    "md_dir = \"I-Soon-data/md\"\n",
    "md_files = glob.glob(os.path.join(md_dir, \"*.md\"))\n",
    "\n",
    "with concurrent.futures.ThreadPoolExecutor() as executor:\n",
    "    file_data = list(executor.map(preprocess_first_20_lines, md_files))\n",
    "\n",
    "# === Step 4: Classify Each File and Move ===\n",
    "\n",
    "valid_categories = {\"chats\", \"images\", \"other\"}\n",
    "results_log = []\n",
    "\n",
    "for file_name, content in tqdm(file_data, desc=\"Classifying files\"):\n",
    "    if not content:\n",
    "        continue\n",
    "\n",
    "    try:\n",
    "        response = chain.run(content=content).strip().lower()\n",
    "        lines = response.splitlines()\n",
    "\n",
    "        category = next((line.replace(\"category:\", \"\").strip() for line in lines if line.startswith(\"category:\")), \"\")\n",
    "        confidence = next((line.replace(\"confidence:\", \"\").strip() for line in lines if line.startswith(\"confidence:\")), \"\")\n",
    "\n",
    "        if category not in valid_categories:\n",
    "            category = \"other\"\n",
    "\n",
    "        # Destination folder *within* the md_dir\n",
    "        category_path = os.path.join(md_dir, category)\n",
    "        os.makedirs(category_path, exist_ok=True)\n",
    "\n",
    "        # Move file into category folder\n",
    "        src_path = os.path.join(md_dir, file_name)\n",
    "        dst_path = os.path.join(category_path, file_name)\n",
    "\n",
    "        if os.path.exists(src_path):\n",
    "            shutil.move(src_path, dst_path)\n",
    "\n",
    "        results_log.append({\n",
    "            \"file\": file_name,\n",
    "            \"category\": category,\n",
    "            \"confidence\": confidence\n",
    "        })\n",
    "\n",
    "    except Exception as e:\n",
    "        print(f\"Failed to process {file_name}: {e}\")\n",
    "\n",
    "# === Optional: Save results to file ===\n",
    "\n",
    "# import json\n",
    "# with open(\"classification_results.json\", \"w\", encoding=\"utf-8\") as f:\n",
    "#     json.dump(results_log, f, indent=2)\n",
    "\n",
    "# import csv\n",
    "# with open(\"classification_results.csv\", \"w\", newline=\"\", encoding=\"utf-8\") as f:\n",
    "#     writer = csv.DictWriter(f, fieldnames=[\"file\", \"category\", \"confidence\"])\n",
    "#     writer.writeheader()\n",
    "#     writer.writerows(results_log)"
   ]
  },
  {
   "cell_type": "markdown",
   "id": "57fe507e",
   "metadata": {
    "user_expressions": []
   },
   "source": [
    "# **Stage 2: LLM-Based Categorization and File Organization by Description**"
   ]
  },
  {
   "cell_type": "code",
   "execution_count": 12,
   "id": "29857281",
   "metadata": {
    "vscode": {
     "languageId": "shellscript"
    }
   },
   "outputs": [],
   "source": [
    "# import os\n",
    "# import shutil\n",
    "# from langchain.prompts import PromptTemplate\n",
    "# from langchain.chains import LLMChain\n",
    "# from langchain.llms import Ollama\n",
    "# from tqdm import tqdm\n",
    "\n",
    "# # Initialize second LLM\n",
    "# llm2 = Ollama(model=\"taozhiyuai/llama-3-refueled:q4_k_m\")\n",
    "\n",
    "# # Prompt for classification based on description\n",
    "# prompt_template_stage2 = PromptTemplate(\n",
    "#     input_variables=[\"description\"],\n",
    "#     template=\"\"\"\n",
    "# You are a strict content classifier.\n",
    "\n",
    "# Given the following short description of a Markdown (.md) file:\n",
    "\n",
    "# \\\"\\\"\\\"\n",
    "# {description}\n",
    "# \\\"\\\"\\\"\n",
    "\n",
    "# Classify the content into one of these categories only:\n",
    "# - chats\n",
    "# - images\n",
    "# - other\n",
    "\n",
    "# Return only one of those three exact words (in lowercase). Do not use synonyms or explanations. Do not make up new categories.\n",
    "# \"\"\"\n",
    "# )\n",
    "\n",
    "# # Set up LangChain chain\n",
    "# chain2 = LLMChain(llm=llm2, prompt=prompt_template_stage2)\n",
    "\n",
    "# # Directories\n",
    "# original_dir = \"I-Soon-data/md\"\n",
    "# filtered_dir = \"Filtered-markdowns\"\n",
    "# os.makedirs(filtered_dir, exist_ok=True)\n",
    "\n",
    "# # Allowed categories\n",
    "# valid_categories = {\"chats\", \"images\", \"other\"}\n",
    "\n",
    "# # Reclassify and copy files\n",
    "# for file_name, description in tqdm(results.items()):\n",
    "#     try:\n",
    "#         category = chain2.run(description=description).strip().lower()\n",
    "#         if category not in valid_categories:\n",
    "#             category = \"other\"  # fallback to default\n",
    "\n",
    "#         # Create destination folder\n",
    "#         category_path = os.path.join(filtered_dir, category)\n",
    "#         os.makedirs(category_path, exist_ok=True)\n",
    "\n",
    "#         # Copy the file\n",
    "#         src_path = os.path.join(original_dir, file_name)\n",
    "#         dst_path = os.path.join(category_path, file_name)\n",
    "\n",
    "#         if os.path.exists(src_path):\n",
    "#             shutil.copy2(src_path, dst_path)\n",
    "\n",
    "#     except Exception as e:\n",
    "#         print(f\"Failed to classify or copy {file_name}: {e}\")"
   ]
  },
  {
   "cell_type": "markdown",
   "id": "08c72754",
   "metadata": {
    "user_expressions": []
   },
   "source": [
    "# **Finding connetions between the MD files - reduced size due to performance issues**"
   ]
  },
  {
   "cell_type": "markdown",
   "id": "c65d0463",
   "metadata": {
    "user_expressions": []
   },
   "source": [
    "Idea: Have the LLM search the markdown files and look for any files linked outside the chats."
   ]
  },
  {
   "cell_type": "markdown",
   "id": "cf991dca",
   "metadata": {
    "user_expressions": []
   },
   "source": [
    "# *RegEx based identification of linked files within the chat*"
   ]
  },
  {
   "cell_type": "code",
   "execution_count": 2,
   "id": "ff0e93fe",
   "metadata": {
    "vscode": {
     "languageId": "shellscript"
    }
   },
   "outputs": [
    {
     "name": "stdout",
     "output_type": "stream",
     "text": [
      "🔍 LLM-generated file extensions list:\n",
      "[txt, json, cfg, db, mp3, wav, mp4, flv, jpg, jpeg, png, gif, pdf, docx, xlsx, pptx, rar, zip, 7z, tar, gz, bz2, sqlite, mdb, accdb, xml, html, css, js, sql, mdf, bak, dat, log, eml, pst, msg, odt, odp, odg, docs, xls, xla, ppt, xlsm]\n"
     ]
    },
    {
     "ename": "ValueError",
     "evalue": "❌ Failed to parse LLM response into a list.",
     "output_type": "error",
     "traceback": [
      "\u001b[31m---------------------------------------------------------------------------\u001b[39m",
      "\u001b[31mSyntaxError\u001b[39m                               Traceback (most recent call last)",
      "\u001b[36mCell\u001b[39m\u001b[36m \u001b[39m\u001b[32mIn[2]\u001b[39m\u001b[32m, line 40\u001b[39m\n\u001b[32m     39\u001b[39m     list_str = \u001b[33m\"\u001b[39m\u001b[33m[\u001b[39m\u001b[33m\"\u001b[39m + match.group(\u001b[32m1\u001b[39m) + \u001b[33m\"\u001b[39m\u001b[33m]\u001b[39m\u001b[33m\"\u001b[39m\n\u001b[32m---> \u001b[39m\u001b[32m40\u001b[39m     common_extensions = \u001b[43mast\u001b[49m\u001b[43m.\u001b[49m\u001b[43mliteral_eval\u001b[49m\u001b[43m(\u001b[49m\u001b[43mlist_str\u001b[49m\u001b[43m)\u001b[49m\n\u001b[32m     41\u001b[39m \u001b[38;5;28;01melse\u001b[39;00m:\n",
      "\u001b[36mFile \u001b[39m\u001b[32m/opt/miniconda3/lib/python3.11/ast.py:64\u001b[39m, in \u001b[36mliteral_eval\u001b[39m\u001b[34m(node_or_string)\u001b[39m\n\u001b[32m     63\u001b[39m \u001b[38;5;28;01mif\u001b[39;00m \u001b[38;5;28misinstance\u001b[39m(node_or_string, \u001b[38;5;28mstr\u001b[39m):\n\u001b[32m---> \u001b[39m\u001b[32m64\u001b[39m     node_or_string = \u001b[43mparse\u001b[49m\u001b[43m(\u001b[49m\u001b[43mnode_or_string\u001b[49m\u001b[43m.\u001b[49m\u001b[43mlstrip\u001b[49m\u001b[43m(\u001b[49m\u001b[33;43m\"\u001b[39;49m\u001b[33;43m \u001b[39;49m\u001b[38;5;130;43;01m\\t\u001b[39;49;00m\u001b[33;43m\"\u001b[39;49m\u001b[43m)\u001b[49m\u001b[43m,\u001b[49m\u001b[43m \u001b[49m\u001b[43mmode\u001b[49m\u001b[43m=\u001b[49m\u001b[33;43m'\u001b[39;49m\u001b[33;43meval\u001b[39;49m\u001b[33;43m'\u001b[39;49m\u001b[43m)\u001b[49m\n\u001b[32m     65\u001b[39m \u001b[38;5;28;01mif\u001b[39;00m \u001b[38;5;28misinstance\u001b[39m(node_or_string, Expression):\n",
      "\u001b[36mFile \u001b[39m\u001b[32m/opt/miniconda3/lib/python3.11/ast.py:50\u001b[39m, in \u001b[36mparse\u001b[39m\u001b[34m(source, filename, mode, type_comments, feature_version)\u001b[39m\n\u001b[32m     49\u001b[39m \u001b[38;5;66;03m# Else it should be an int giving the minor version for 3.x.\u001b[39;00m\n\u001b[32m---> \u001b[39m\u001b[32m50\u001b[39m \u001b[38;5;28;01mreturn\u001b[39;00m \u001b[38;5;28mcompile\u001b[39m(source, filename, mode, flags,\n\u001b[32m     51\u001b[39m                _feature_version=feature_version)\n",
      "\u001b[31mSyntaxError\u001b[39m: invalid decimal literal (<unknown>, line 1)",
      "\nThe above exception was the direct cause of the following exception:\n",
      "\u001b[31mValueError\u001b[39m                                Traceback (most recent call last)",
      "\u001b[36mCell\u001b[39m\u001b[36m \u001b[39m\u001b[32mIn[2]\u001b[39m\u001b[32m, line 44\u001b[39m\n\u001b[32m     42\u001b[39m         \u001b[38;5;28;01mraise\u001b[39;00m \u001b[38;5;167;01mValueError\u001b[39;00m(\u001b[33m\"\u001b[39m\u001b[33m❌ No list found in LLM response.\u001b[39m\u001b[33m\"\u001b[39m)\n\u001b[32m     43\u001b[39m \u001b[38;5;28;01mexcept\u001b[39;00m \u001b[38;5;167;01mException\u001b[39;00m \u001b[38;5;28;01mas\u001b[39;00m e:\n\u001b[32m---> \u001b[39m\u001b[32m44\u001b[39m     \u001b[38;5;28;01mraise\u001b[39;00m \u001b[38;5;167;01mValueError\u001b[39;00m(\u001b[33m\"\u001b[39m\u001b[33m❌ Failed to parse LLM response into a list.\u001b[39m\u001b[33m\"\u001b[39m) \u001b[38;5;28;01mfrom\u001b[39;00m\u001b[38;5;250m \u001b[39m\u001b[34;01me\u001b[39;00m\n\u001b[32m     46\u001b[39m \u001b[38;5;66;03m# Step 6: Build dynamic regex\u001b[39;00m\n\u001b[32m     47\u001b[39m ext_pattern = \u001b[33m'\u001b[39m\u001b[33m|\u001b[39m\u001b[33m'\u001b[39m.join(common_extensions)\n",
      "\u001b[31mValueError\u001b[39m: ❌ Failed to parse LLM response into a list."
     ]
    }
   ],
   "source": [
    "import os\n",
    "import re\n",
    "import ast\n",
    "from langchain.llms import Ollama\n",
    "from langchain.prompts import PromptTemplate\n",
    "from langchain.chains import LLMChain\n",
    "\n",
    "# Step 1: Initialize LLM\n",
    "llm2 = Ollama(model=\"llama3.1:8b\")\n",
    "\n",
    "# Step 2: Define the prompt template\n",
    "prompt_template_file_types = PromptTemplate(\n",
    "    input_variables=[\"content\"],\n",
    "    template=\"\"\"\n",
    "List the top 50 file extensions most commonly found in cybersecurity leaked data, including data from breaches, ransomware leaks, and dark web dumps. THINK LIKE A CYBERSECURITY EXPERT.\n",
    "Focus on file types that typically contain credentials, configurations, databases, personal data, internal documentation, archives, or images (e.g., screenshots of sensitive material). \n",
    "\n",
    "OUTPUT INSTRUCTIONS:\n",
    "ONLY OUTPUT the extensions as a clean Python list format, like [<'file_extension'>, <'file_extension'>, etc.] \n",
    "Don't include \".\" and ALWAYS use \"'\" in the list. \n",
    "Do not include any explanations, comments, or extra text. \n",
    "JUST GIVE THE LIST.\n",
    "\"\"\"\n",
    ")\n",
    "\n",
    "# Step 3: Run the chain to get extensions\n",
    "chain = LLMChain(llm=llm2, prompt=prompt_template_file_types)\n",
    "llm_response = chain.run(content=\"\")\n",
    "\n",
    "# Step 4: Print the LLM output\n",
    "print(\"🔍 LLM-generated file extensions list:\")\n",
    "print(llm_response)\n",
    "\n",
    "# Step 5: Parse LLM response into a Python list\n",
    "try:\n",
    "    # Extract only the list portion using regex\n",
    "    match = re.search(r\"\\[(.*?)\\]\", llm_response, re.DOTALL)\n",
    "    if match:\n",
    "        list_str = \"[\" + match.group(1) + \"]\"\n",
    "        common_extensions = ast.literal_eval(list_str)\n",
    "    else:\n",
    "        raise ValueError(\"❌ No list found in LLM response.\")\n",
    "except Exception as e:\n",
    "    raise ValueError(\"❌ Failed to parse LLM response into a list.\") from e\n",
    "\n",
    "# Step 6: Build dynamic regex\n",
    "ext_pattern = '|'.join(common_extensions)\n",
    "file_pattern = re.compile(r'[\\w\\-/\\.]{8,}\\.(?:' + ext_pattern + r')', re.IGNORECASE)\n",
    "\n",
    "# Step 7: Define chats path and extract files\n",
    "chats_path = 'I-Soon-data/md/chats'\n",
    "extracted_files_from_chats = {}\n",
    "\n",
    "for filename in os.listdir(chats_path):\n",
    "    if filename.endswith('.md'):\n",
    "        full_path = os.path.join(chats_path, filename)\n",
    "        with open(full_path, 'r', encoding='utf-8') as file:\n",
    "            content = file.read()\n",
    "            matches = file_pattern.findall(content)\n",
    "            if matches:\n",
    "                extracted_files_from_chats[filename] = matches\n",
    "\n",
    "# Step 8: Display results\n",
    "print(\"\\n📄 Extracted filenames from chats:\")\n",
    "for chat, files in extracted_files_from_chats.items():\n",
    "    print(f\"{chat}:\")\n",
    "    for f in files:\n",
    "        print(f\"  - {f}\")"
   ]
  },
  {
   "cell_type": "markdown",
   "id": "b4106970-b30f-464e-96ce-4f787d3d2722",
   "metadata": {
    "tags": []
   },
   "source": [
    "# *Search which files are in the leaked data with Threads*"
   ]
  },
  {
   "cell_type": "code",
   "execution_count": 4,
   "id": "a73d6162",
   "metadata": {
    "tags": [],
    "vscode": {
     "languageId": "shellscript"
    }
   },
   "outputs": [
    {
     "name": "stderr",
     "output_type": "stream",
     "text": [
      "🔍 Processing:   0%|                                                        | 0/449 [00:00<?, ?it/s]"
     ]
    },
    {
     "name": "stdout",
     "output_type": "stream",
     "text": [
      "\n",
      "🚀 Starting with 10 threads on 449 lines...\n",
      "\n"
     ]
    },
    {
     "name": "stderr",
     "output_type": "stream",
     "text": [
      "🔍 Processing:   0%|                                                | 1/449 [00:03<22:39,  3.03s/it]"
     ]
    },
    {
     "name": "stdout",
     "output_type": "stream",
     "text": [
      "[Thread-139706117367360] ✅ Line 8 done in 2.99s | Matches: 0\n"
     ]
    },
    {
     "name": "stderr",
     "output_type": "stream",
     "text": [
      "🔍 Processing:   0%|▏                                               | 2/449 [00:03<11:34,  1.55s/it]"
     ]
    },
    {
     "name": "stdout",
     "output_type": "stream",
     "text": [
      "[Thread-139706125760064] ✅ Line 2 done in 3.54s | Matches: 0\n",
      "[Thread-139706150938176] ✅ Line 1 done in 3.56s | Matches: 1\n"
     ]
    },
    {
     "name": "stderr",
     "output_type": "stream",
     "text": [
      "🔍 Processing:   1%|▌                                               | 5/449 [00:04<03:49,  1.94it/s]"
     ]
    },
    {
     "name": "stdout",
     "output_type": "stream",
     "text": [
      "[Thread-139706504582720] ✅ Line 6 done in 3.81s | Matches: 0\n",
      "[Thread-139706142545472] ✅ Line 7 done in 3.99s | Matches: 0\n"
     ]
    },
    {
     "name": "stderr",
     "output_type": "stream",
     "text": [
      "🔍 Processing:   1%|▋                                               | 6/449 [00:04<03:36,  2.05it/s]"
     ]
    },
    {
     "name": "stdout",
     "output_type": "stream",
     "text": [
      "[Thread-139705614067264] ✅ Line 10 done in 4.38s | Matches: 0\n"
     ]
    },
    {
     "name": "stderr",
     "output_type": "stream",
     "text": [
      "🔍 Processing:   2%|▋                                               | 7/449 [00:04<03:03,  2.41it/s]"
     ]
    },
    {
     "name": "stdout",
     "output_type": "stream",
     "text": [
      "[Thread-139706159330880] ✅ Line 4 done in 4.67s | Matches: 0\n",
      "[Thread-139706117367360] ✅ Line 11 done in 1.65s | Matches: 0\n"
     ]
    },
    {
     "name": "stderr",
     "output_type": "stream",
     "text": [
      "🔍 Processing:   2%|▉                                               | 9/449 [00:05<02:23,  3.06it/s]"
     ]
    },
    {
     "name": "stdout",
     "output_type": "stream",
     "text": [
      "[Thread-139706150938176] ✅ Line 13 done in 1.57s | Matches: 0\n"
     ]
    },
    {
     "name": "stderr",
     "output_type": "stream",
     "text": [
      "🔍 Processing:   2%|█                                              | 10/449 [00:05<02:13,  3.28it/s]"
     ]
    },
    {
     "name": "stdout",
     "output_type": "stream",
     "text": [
      "[Thread-139705622459968] ✅ Line 9 done in 5.32s | Matches: 0\n"
     ]
    },
    {
     "name": "stderr",
     "output_type": "stream",
     "text": [
      "🔍 Processing:   2%|█▏                                             | 11/449 [00:05<02:07,  3.43it/s]"
     ]
    },
    {
     "name": "stdout",
     "output_type": "stream",
     "text": [
      "[Thread-139706504582720] ✅ Line 14 done in 1.80s | Matches: 0\n",
      "[Thread-139705614067264] ✅ Line 16 done in 1.20s | Matches: 0\n"
     ]
    },
    {
     "name": "stderr",
     "output_type": "stream",
     "text": [
      "🔍 Processing:   3%|█▌                                             | 15/449 [00:06<01:35,  4.53it/s]"
     ]
    },
    {
     "name": "stdout",
     "output_type": "stream",
     "text": [
      "[Thread-139706159330880] ✅ Line 17 done in 1.54s | Matches: 0\n",
      "[Thread-139706512991808] ✅ Line 5 done in 6.22s | Matches: 0\n",
      "[Thread-139706117367360] ✅ Line 18 done in 1.73s | Matches: 0\n"
     ]
    },
    {
     "name": "stderr",
     "output_type": "stream",
     "text": [
      "🔍 Processing:   4%|█▋                                             | 16/449 [00:07<02:48,  2.57it/s]"
     ]
    },
    {
     "name": "stdout",
     "output_type": "stream",
     "text": [
      "[Thread-139705614067264] ✅ Line 22 done in 1.80s | Matches: 0\n",
      "[Thread-139706125760064] ✅ Line 12 done in 3.89s | Matches: 0\n"
     ]
    },
    {
     "name": "stderr",
     "output_type": "stream",
     "text": [
      "🔍 Processing:   4%|█▉                                             | 18/449 [00:07<02:01,  3.55it/s]"
     ]
    },
    {
     "name": "stdout",
     "output_type": "stream",
     "text": [
      "[Thread-139706150938176] ✅ Line 19 done in 2.51s | Matches: 0\n"
     ]
    },
    {
     "name": "stderr",
     "output_type": "stream",
     "text": [
      "🔍 Processing:   4%|█▉                                             | 19/449 [00:08<02:45,  2.60it/s]"
     ]
    },
    {
     "name": "stdout",
     "output_type": "stream",
     "text": [
      "[Thread-139706142545472] ✅ Line 15 done in 4.40s | Matches: 0\n",
      "[Thread-139705622459968] ✅ Line 20 done in 3.05s | Matches: 0\n"
     ]
    },
    {
     "name": "stderr",
     "output_type": "stream",
     "text": [
      "🔍 Processing:   5%|██▎                                            | 22/449 [00:08<01:52,  3.80it/s]"
     ]
    },
    {
     "name": "stdout",
     "output_type": "stream",
     "text": [
      "[Thread-139706134152768] ✅ Line 3 done in 8.62s | Matches: 0\n",
      "[Thread-139705614067264] ✅ Line 26 done in 1.39s | Matches: 0\n"
     ]
    },
    {
     "name": "stderr",
     "output_type": "stream",
     "text": [
      "🔍 Processing:   5%|██▌                                            | 24/449 [00:09<01:41,  4.18it/s]"
     ]
    },
    {
     "name": "stdout",
     "output_type": "stream",
     "text": [
      "[Thread-139706117367360] ✅ Line 25 done in 2.62s | Matches: 0\n",
      "[Thread-139706512991808] ✅ Line 24 done in 3.01s | Matches: 0\n"
     ]
    },
    {
     "name": "stderr",
     "output_type": "stream",
     "text": [
      "🔍 Processing:   6%|██▌                                            | 25/449 [00:09<02:07,  3.32it/s]"
     ]
    },
    {
     "name": "stdout",
     "output_type": "stream",
     "text": [
      "[Thread-139706142545472] ✅ Line 29 done in 1.30s | Matches: 0\n"
     ]
    },
    {
     "name": "stderr",
     "output_type": "stream",
     "text": [
      "🔍 Processing:   6%|██▋                                            | 26/449 [00:10<02:26,  2.88it/s]"
     ]
    },
    {
     "name": "stdout",
     "output_type": "stream",
     "text": [
      "[Thread-139706504582720] ✅ Line 21 done in 4.56s | Matches: 0\n",
      "[Thread-139706159330880] ✅ Line 23 done in 3.97s | Matches: 0\n",
      "[Thread-139706150938176] ✅ Line 28 done in 2.56s | Matches: 0\n"
     ]
    },
    {
     "name": "stderr",
     "output_type": "stream",
     "text": [
      "🔍 Processing:   6%|███                                            | 29/449 [00:10<01:47,  3.90it/s]"
     ]
    },
    {
     "name": "stdout",
     "output_type": "stream",
     "text": [
      "[Thread-139706117367360] ✅ Line 33 done in 1.68s | Matches: 0\n"
     ]
    },
    {
     "name": "stderr",
     "output_type": "stream",
     "text": [
      "🔍 Processing:   7%|███▏                                           | 31/449 [00:11<01:41,  4.12it/s]"
     ]
    },
    {
     "name": "stdout",
     "output_type": "stream",
     "text": [
      "[Thread-139705614067264] ✅ Line 32 done in 2.15s | Matches: 0\n",
      "[Thread-139706134152768] ✅ Line 31 done in 2.54s | Matches: 0\n",
      "[Thread-139706504582720] ✅ Line 36 done in 0.99s | Matches: 0\n"
     ]
    },
    {
     "name": "stderr",
     "output_type": "stream",
     "text": [
      "🔍 Processing:   7%|███▍                                           | 33/449 [00:11<02:06,  3.28it/s]"
     ]
    },
    {
     "name": "stdout",
     "output_type": "stream",
     "text": [
      "[Thread-139706159330880] ✅ Line 37 done in 1.78s | Matches: 0\n",
      "[Thread-139706512991808] ✅ Line 34 done in 2.74s | Matches: 0\n",
      "[Thread-139706142545472] ✅ Line 35 done in 2.27s | Matches: 0\n"
     ]
    },
    {
     "name": "stderr",
     "output_type": "stream",
     "text": [
      "🔍 Processing:   8%|███▉                                           | 38/449 [00:12<01:05,  6.31it/s]"
     ]
    },
    {
     "name": "stdout",
     "output_type": "stream",
     "text": [
      "[Thread-139706125760064] ✅ Line 27 done in 4.75s | Matches: 0\n",
      "[Thread-139706150938176] ✅ Line 38 done in 1.99s | Matches: 0\n",
      "[Thread-139706117367360] ✅ Line 39 done in 1.60s | Matches: 0\n"
     ]
    },
    {
     "name": "stderr",
     "output_type": "stream",
     "text": [
      "🔍 Processing:   9%|████                                           | 39/449 [00:12<01:27,  4.70it/s]"
     ]
    },
    {
     "name": "stdout",
     "output_type": "stream",
     "text": [
      "[Thread-139705622459968] ✅ Line 30 done in 4.37s | Matches: 0\n"
     ]
    },
    {
     "name": "stderr",
     "output_type": "stream",
     "text": [
      "🔍 Processing:   9%|████▏                                          | 40/449 [00:13<02:16,  2.99it/s]"
     ]
    },
    {
     "name": "stdout",
     "output_type": "stream",
     "text": [
      "[Thread-139706134152768] ✅ Line 41 done in 2.42s | Matches: 0\n",
      "[Thread-139706504582720] ✅ Line 42 done in 2.43s | Matches: 0\n"
     ]
    },
    {
     "name": "stderr",
     "output_type": "stream",
     "text": [
      "🔍 Processing:   9%|████▍                                          | 42/449 [00:14<02:18,  2.94it/s]"
     ]
    },
    {
     "name": "stdout",
     "output_type": "stream",
     "text": [
      "[Thread-139706512991808] ✅ Line 44 done in 2.32s | Matches: 0\n",
      "[Thread-139706150938176] ✅ Line 47 done in 2.11s | Matches: 0\n"
     ]
    },
    {
     "name": "stderr",
     "output_type": "stream",
     "text": [
      "🔍 Processing:  10%|████▌                                          | 44/449 [00:14<01:59,  3.39it/s]"
     ]
    },
    {
     "name": "stdout",
     "output_type": "stream",
     "text": [
      "[Thread-139706117367360] ✅ Line 48 done in 2.39s | Matches: 0\n"
     ]
    },
    {
     "name": "stderr",
     "output_type": "stream",
     "text": [
      "🔍 Processing:  10%|████▋                                          | 45/449 [00:15<03:12,  2.10it/s]"
     ]
    },
    {
     "name": "stdout",
     "output_type": "stream",
     "text": [
      "[Thread-139705622459968] ✅ Line 49 done in 3.14s | Matches: 0\n",
      "[Thread-139706512991808] ✅ Line 52 done in 1.64s | Matches: 0\n"
     ]
    },
    {
     "name": "stderr",
     "output_type": "stream",
     "text": [
      "🔍 Processing:  11%|█████                                          | 48/449 [00:16<02:04,  3.21it/s]"
     ]
    },
    {
     "name": "stdout",
     "output_type": "stream",
     "text": [
      "[Thread-139706504582720] ✅ Line 51 done in 2.54s | Matches: 0\n",
      "[Thread-139706142545472] ✅ Line 45 done in 4.34s | Matches: 0\n"
     ]
    },
    {
     "name": "stderr",
     "output_type": "stream",
     "text": [
      "🔍 Processing:  11%|█████▏                                         | 49/449 [00:16<02:30,  2.66it/s]"
     ]
    },
    {
     "name": "stdout",
     "output_type": "stream",
     "text": [
      "[Thread-139706150938176] ✅ Line 53 done in 2.62s | Matches: 0\n",
      "[Thread-139706117367360] ✅ Line 54 done in 2.22s | Matches: 0\n",
      "[Thread-139705622459968] ✅ Line 55 done in 1.02s | Matches: 0\n"
     ]
    },
    {
     "name": "stderr",
     "output_type": "stream",
     "text": [
      "🔍 Processing:  12%|█████▍                                         | 52/449 [00:18<02:38,  2.50it/s]"
     ]
    },
    {
     "name": "stdout",
     "output_type": "stream",
     "text": [
      "[Thread-139706504582720] ✅ Line 57 done in 2.06s | Matches: 0\n",
      "[Thread-139706134152768] ✅ Line 50 done in 4.61s | Matches: 0\n"
     ]
    },
    {
     "name": "stderr",
     "output_type": "stream",
     "text": [
      "🔍 Processing:  12%|█████▋                                         | 54/449 [00:18<02:00,  3.27it/s]"
     ]
    },
    {
     "name": "stdout",
     "output_type": "stream",
     "text": [
      "[Thread-139706512991808] ✅ Line 56 done in 2.47s | Matches: 0\n"
     ]
    },
    {
     "name": "stderr",
     "output_type": "stream",
     "text": [
      "🔍 Processing:  12%|█████▊                                         | 55/449 [00:19<02:53,  2.27it/s]"
     ]
    },
    {
     "name": "stdout",
     "output_type": "stream",
     "text": [
      "[Thread-139705622459968] ✅ Line 61 done in 2.49s | Matches: 0\n",
      "[Thread-139706504582720] ✅ Line 62 done in 1.25s | Matches: 0\n"
     ]
    },
    {
     "name": "stderr",
     "output_type": "stream",
     "text": [
      "🔍 Processing:  13%|█████▉                                         | 57/449 [00:19<02:06,  3.09it/s]"
     ]
    },
    {
     "name": "stdout",
     "output_type": "stream",
     "text": [
      "[Thread-139706150938176] ✅ Line 59 done in 2.72s | Matches: 0\n"
     ]
    },
    {
     "name": "stderr",
     "output_type": "stream",
     "text": [
      "🔍 Processing:  13%|██████                                         | 58/449 [00:20<02:54,  2.25it/s]"
     ]
    },
    {
     "name": "stdout",
     "output_type": "stream",
     "text": [
      "[Thread-139706134152768] ✅ Line 63 done in 2.37s | Matches: 0\n",
      "[Thread-139706512991808] ✅ Line 64 done in 2.18s | Matches: 0\n"
     ]
    },
    {
     "name": "stderr",
     "output_type": "stream",
     "text": [
      "🔍 Processing:  13%|██████▎                                        | 60/449 [00:21<03:22,  1.92it/s]"
     ]
    },
    {
     "name": "stdout",
     "output_type": "stream",
     "text": [
      "[Thread-139706142545472] ✅ Line 58 done in 5.56s | Matches: 0\n"
     ]
    },
    {
     "name": "stderr",
     "output_type": "stream",
     "text": [
      "🔍 Processing:  14%|██████▍                                        | 61/449 [00:22<03:22,  1.92it/s]"
     ]
    },
    {
     "name": "stdout",
     "output_type": "stream",
     "text": [
      "[Thread-139706117367360] ✅ Line 60 done in 5.48s | Matches: 0\n"
     ]
    },
    {
     "name": "stderr",
     "output_type": "stream",
     "text": [
      "🔍 Processing:  14%|██████▍                                        | 62/449 [00:22<03:15,  1.98it/s]"
     ]
    },
    {
     "name": "stdout",
     "output_type": "stream",
     "text": [
      "[Thread-139706504582720] ✅ Line 66 done in 3.41s | Matches: 0\n"
     ]
    },
    {
     "name": "stderr",
     "output_type": "stream",
     "text": [
      "🔍 Processing:  14%|██████▌                                        | 63/449 [00:23<02:47,  2.31it/s]"
     ]
    },
    {
     "name": "stdout",
     "output_type": "stream",
     "text": [
      "[Thread-139706134152768] ✅ Line 68 done in 2.49s | Matches: 0\n"
     ]
    },
    {
     "name": "stderr",
     "output_type": "stream",
     "text": [
      "🔍 Processing:  14%|██████▋                                        | 64/449 [00:23<02:49,  2.27it/s]"
     ]
    },
    {
     "name": "stdout",
     "output_type": "stream",
     "text": [
      "[Thread-139706512991808] ✅ Line 69 done in 2.94s | Matches: 0\n"
     ]
    },
    {
     "name": "stderr",
     "output_type": "stream",
     "text": [
      "🔍 Processing:  14%|██████▊                                        | 65/449 [00:23<02:49,  2.26it/s]"
     ]
    },
    {
     "name": "stdout",
     "output_type": "stream",
     "text": [
      "[Thread-139706142545472] ✅ Line 70 done in 2.09s | Matches: 0\n"
     ]
    },
    {
     "name": "stderr",
     "output_type": "stream",
     "text": [
      "🔍 Processing:  15%|██████▉                                        | 66/449 [00:24<02:48,  2.27it/s]"
     ]
    },
    {
     "name": "stdout",
     "output_type": "stream",
     "text": [
      "[Thread-139705622459968] ✅ Line 65 done in 4.98s | Matches: 0\n"
     ]
    },
    {
     "name": "stderr",
     "output_type": "stream",
     "text": [
      "🔍 Processing:  15%|███████▏                                       | 69/449 [00:24<01:34,  4.00it/s]"
     ]
    },
    {
     "name": "stdout",
     "output_type": "stream",
     "text": [
      "[Thread-139706504582720] ✅ Line 72 done in 1.78s | Matches: 0\n",
      "[Thread-139706150938176] ✅ Line 67 done in 5.01s | Matches: 0\n",
      "[Thread-139706117367360] ✅ Line 71 done in 2.41s | Matches: 0\n"
     ]
    },
    {
     "name": "stderr",
     "output_type": "stream",
     "text": [
      "🔍 Processing:  16%|███████▎                                       | 70/449 [00:25<02:33,  2.46it/s]"
     ]
    },
    {
     "name": "stdout",
     "output_type": "stream",
     "text": [
      "[Thread-139705622459968] ✅ Line 76 done in 1.30s | Matches: 0\n"
     ]
    },
    {
     "name": "stderr",
     "output_type": "stream",
     "text": [
      "🔍 Processing:  16%|███████▍                                       | 71/449 [00:25<02:15,  2.78it/s]"
     ]
    },
    {
     "name": "stdout",
     "output_type": "stream",
     "text": [
      "[Thread-139706134152768] ✅ Line 73 done in 2.87s | Matches: 0\n"
     ]
    },
    {
     "name": "stderr",
     "output_type": "stream",
     "text": [
      "🔍 Processing:  16%|███████▌                                       | 72/449 [00:26<02:30,  2.50it/s]"
     ]
    },
    {
     "name": "stdout",
     "output_type": "stream",
     "text": [
      "[Thread-139706512991808] ✅ Line 74 done in 2.92s | Matches: 0\n",
      "[Thread-139706142545472] ✅ Line 75 done in 2.48s | Matches: 0\n"
     ]
    },
    {
     "name": "stderr",
     "output_type": "stream",
     "text": [
      "🔍 Processing:  16%|███████▋                                       | 74/449 [00:26<02:01,  3.09it/s]"
     ]
    },
    {
     "name": "stdout",
     "output_type": "stream",
     "text": [
      "[Thread-139706117367360] ✅ Line 79 done in 2.07s | Matches: 0\n"
     ]
    },
    {
     "name": "stderr",
     "output_type": "stream",
     "text": [
      "🔍 Processing:  17%|███████▊                                       | 75/449 [00:27<02:34,  2.42it/s]"
     ]
    },
    {
     "name": "stdout",
     "output_type": "stream",
     "text": [
      "[Thread-139706504582720] ✅ Line 77 done in 2.96s | Matches: 0\n"
     ]
    },
    {
     "name": "stderr",
     "output_type": "stream",
     "text": [
      "🔍 Processing:  17%|███████▉                                       | 76/449 [00:28<03:20,  1.86it/s]"
     ]
    },
    {
     "name": "stdout",
     "output_type": "stream",
     "text": [
      "[Thread-139705622459968] ✅ Line 80 done in 2.78s | Matches: 0\n"
     ]
    },
    {
     "name": "stderr",
     "output_type": "stream",
     "text": [
      "🔍 Processing:  17%|████████▏                                      | 78/449 [00:28<02:24,  2.57it/s]"
     ]
    },
    {
     "name": "stdout",
     "output_type": "stream",
     "text": [
      "[Thread-139706142545472] ✅ Line 83 done in 2.29s | Matches: 0\n",
      "[Thread-139706150938176] ✅ Line 78 done in 4.30s | Matches: 0\n",
      "[Thread-139705614067264] ✅ Line 40 done in 17.99s | Matches: 2\n"
     ]
    },
    {
     "name": "stderr",
     "output_type": "stream",
     "text": [
      "🔍 Processing:  18%|████████▎                                      | 80/449 [00:29<02:10,  2.83it/s]"
     ]
    },
    {
     "name": "stdout",
     "output_type": "stream",
     "text": [
      "[Thread-139706504582720] ✅ Line 85 done in 1.97s | Matches: 0\n"
     ]
    },
    {
     "name": "stderr",
     "output_type": "stream",
     "text": [
      "🔍 Processing:  18%|████████▍                                      | 81/449 [00:29<02:02,  2.99it/s]"
     ]
    },
    {
     "name": "stdout",
     "output_type": "stream",
     "text": [
      "[Thread-139706125760064] ✅ Line 46 done in 17.66s | Matches: 2\n",
      "[Thread-139706159330880] ✅ Line 43 done in 17.88s | Matches: 2\n"
     ]
    },
    {
     "name": "stderr",
     "output_type": "stream",
     "text": [
      "🔍 Processing:  18%|████████▋                                      | 83/449 [00:30<02:30,  2.43it/s]"
     ]
    },
    {
     "name": "stdout",
     "output_type": "stream",
     "text": [
      "[Thread-139706150938176] ✅ Line 88 done in 1.94s | Matches: 0\n",
      "[Thread-139705622459968] ✅ Line 86 done in 2.40s | Matches: 0\n",
      "[Thread-139706142545472] ✅ Line 87 done in 2.16s | Matches: 0\n"
     ]
    },
    {
     "name": "stderr",
     "output_type": "stream",
     "text": [
      "🔍 Processing:  19%|█████████                                      | 86/449 [00:31<01:41,  3.59it/s]"
     ]
    },
    {
     "name": "stdout",
     "output_type": "stream",
     "text": [
      "[Thread-139705614067264] ✅ Line 89 done in 2.31s | Matches: 0\n"
     ]
    },
    {
     "name": "stderr",
     "output_type": "stream",
     "text": [
      "🔍 Processing:  19%|█████████                                      | 87/449 [00:31<01:48,  3.34it/s]"
     ]
    },
    {
     "name": "stdout",
     "output_type": "stream",
     "text": [
      "[Thread-139706512991808] ✅ Line 82 done in 5.21s | Matches: 0\n",
      "[Thread-139706504582720] ✅ Line 90 done in 2.10s | Matches: 0\n"
     ]
    },
    {
     "name": "stderr",
     "output_type": "stream",
     "text": [
      "🔍 Processing:  20%|█████████▎                                     | 89/449 [00:31<01:23,  4.31it/s]"
     ]
    },
    {
     "name": "stdout",
     "output_type": "stream",
     "text": [
      "[Thread-139706117367360] ✅ Line 84 done in 4.96s | Matches: 0\n"
     ]
    },
    {
     "name": "stderr",
     "output_type": "stream",
     "text": [
      "🔍 Processing:  20%|█████████▍                                     | 90/449 [00:32<01:24,  4.24it/s]"
     ]
    },
    {
     "name": "stdout",
     "output_type": "stream",
     "text": [
      "[Thread-139706142545472] ✅ Line 95 done in 1.20s | Matches: 0\n"
     ]
    },
    {
     "name": "stderr",
     "output_type": "stream",
     "text": [
      "🔍 Processing:  20%|█████████▌                                     | 91/449 [00:32<01:41,  3.53it/s]"
     ]
    },
    {
     "name": "stdout",
     "output_type": "stream",
     "text": [
      "[Thread-139706150938176] ✅ Line 93 done in 1.67s | Matches: 0\n",
      "[Thread-139705614067264] ✅ Line 96 done in 1.31s | Matches: 0\n"
     ]
    },
    {
     "name": "stderr",
     "output_type": "stream",
     "text": [
      "🔍 Processing:  21%|█████████▉                                     | 95/449 [00:32<01:00,  5.89it/s]"
     ]
    },
    {
     "name": "stdout",
     "output_type": "stream",
     "text": [
      "[Thread-139706159330880] ✅ Line 92 done in 2.93s | Matches: 0\n",
      "[Thread-139706134152768] ✅ Line 81 done in 6.84s | Matches: 0\n",
      "[Thread-139706512991808] ✅ Line 97 done in 1.29s | Matches: 0\n"
     ]
    },
    {
     "name": "stderr",
     "output_type": "stream",
     "text": [
      "🔍 Processing:  21%|██████████                                     | 96/449 [00:33<01:48,  3.24it/s]"
     ]
    },
    {
     "name": "stdout",
     "output_type": "stream",
     "text": [
      "[Thread-139706504582720] ✅ Line 98 done in 2.14s | Matches: 0\n"
     ]
    },
    {
     "name": "stderr",
     "output_type": "stream",
     "text": [
      "🔍 Processing:  22%|██████████▎                                    | 98/449 [00:34<01:46,  3.31it/s]"
     ]
    },
    {
     "name": "stdout",
     "output_type": "stream",
     "text": [
      "[Thread-139705622459968] ✅ Line 94 done in 3.37s | Matches: 0\n",
      "[Thread-139706142545472] ✅ Line 100 done in 2.33s | Matches: 0\n"
     ]
    },
    {
     "name": "stderr",
     "output_type": "stream",
     "text": [
      "🔍 Processing:  22%|██████████▎                                    | 99/449 [00:34<01:55,  3.04it/s]"
     ]
    },
    {
     "name": "stdout",
     "output_type": "stream",
     "text": [
      "[Thread-139706125760064] ✅ Line 91 done in 5.01s | Matches: 0\n",
      "[Thread-139706159330880] ✅ Line 103 done in 2.09s | Matches: 0\n",
      "[Thread-139706134152768] ✅ Line 104 done in 2.09s | Matches: 0\n"
     ]
    },
    {
     "name": "stderr",
     "output_type": "stream",
     "text": [
      "🔍 Processing:  23%|██████████▍                                   | 102/449 [00:35<01:18,  4.45it/s]"
     ]
    },
    {
     "name": "stdout",
     "output_type": "stream",
     "text": [
      "[Thread-139706512991808] ✅ Line 105 done in 2.29s | Matches: 0\n"
     ]
    },
    {
     "name": "stderr",
     "output_type": "stream",
     "text": [
      "🔍 Processing:  24%|██████████▊                                   | 106/449 [00:36<01:18,  4.35it/s]"
     ]
    },
    {
     "name": "stdout",
     "output_type": "stream",
     "text": [
      "[Thread-139706142545472] ✅ Line 108 done in 1.76s | Matches: 0\n",
      "[Thread-139706159330880] ✅ Line 110 done in 1.36s | Matches: 0\n",
      "[Thread-139706504582720] ✅ Line 106 done in 2.42s | Matches: 0\n",
      "[Thread-139706150938176] ✅ Line 101 done in 3.83s | Matches: 0\n"
     ]
    },
    {
     "name": "stderr",
     "output_type": "stream",
     "text": [
      "🔍 Processing:  24%|██████████▉                                   | 107/449 [00:36<01:15,  4.54it/s]"
     ]
    },
    {
     "name": "stdout",
     "output_type": "stream",
     "text": [
      "[Thread-139705622459968] ✅ Line 107 done in 2.29s | Matches: 0\n",
      "[Thread-139706117367360] ✅ Line 99 done in 4.72s | Matches: 0\n"
     ]
    },
    {
     "name": "stderr",
     "output_type": "stream",
     "text": [
      "🔍 Processing:  24%|███████████▏                                  | 109/449 [00:37<01:41,  3.36it/s]"
     ]
    },
    {
     "name": "stdout",
     "output_type": "stream",
     "text": [
      "[Thread-139706125760064] ✅ Line 109 done in 2.62s | Matches: 0\n"
     ]
    },
    {
     "name": "stderr",
     "output_type": "stream",
     "text": [
      "🔍 Processing:  25%|███████████▎                                  | 111/449 [00:38<01:39,  3.41it/s]"
     ]
    },
    {
     "name": "stdout",
     "output_type": "stream",
     "text": [
      "[Thread-139706504582720] ✅ Line 115 done in 1.70s | Matches: 0\n",
      "[Thread-139706512991808] ✅ Line 112 done in 2.85s | Matches: 0\n",
      "[Thread-139706142545472] ✅ Line 113 done in 1.89s | Matches: 0\n"
     ]
    },
    {
     "name": "stderr",
     "output_type": "stream",
     "text": [
      "🔍 Processing:  25%|███████████▌                                  | 113/449 [00:38<01:29,  3.77it/s]"
     ]
    },
    {
     "name": "stdout",
     "output_type": "stream",
     "text": [
      "[Thread-139706150938176] ✅ Line 116 done in 2.13s | Matches: 0\n"
     ]
    },
    {
     "name": "stderr",
     "output_type": "stream",
     "text": [
      "🔍 Processing:  25%|███████████▋                                  | 114/449 [00:39<01:57,  2.86it/s]"
     ]
    },
    {
     "name": "stdout",
     "output_type": "stream",
     "text": [
      "[Thread-139706134152768] ✅ Line 111 done in 4.32s | Matches: 0\n"
     ]
    },
    {
     "name": "stderr",
     "output_type": "stream",
     "text": [
      "🔍 Processing:  26%|███████████▊                                  | 115/449 [00:39<01:46,  3.15it/s]"
     ]
    },
    {
     "name": "stdout",
     "output_type": "stream",
     "text": [
      "[Thread-139706117367360] ✅ Line 118 done in 2.82s | Matches: 0\n"
     ]
    },
    {
     "name": "stderr",
     "output_type": "stream",
     "text": [
      "🔍 Processing:  26%|███████████▉                                  | 116/449 [00:40<02:48,  1.98it/s]"
     ]
    },
    {
     "name": "stdout",
     "output_type": "stream",
     "text": [
      "[Thread-139706125760064] ✅ Line 119 done in 2.99s | Matches: 0\n"
     ]
    },
    {
     "name": "stderr",
     "output_type": "stream",
     "text": [
      "🔍 Processing:  26%|███████████▉                                  | 117/449 [00:41<03:04,  1.80it/s]"
     ]
    },
    {
     "name": "stdout",
     "output_type": "stream",
     "text": [
      "[Thread-139705614067264] ✅ Line 102 done in 8.59s | Matches: 0\n"
     ]
    },
    {
     "name": "stderr",
     "output_type": "stream",
     "text": [
      "🔍 Processing:  26%|████████████                                  | 118/449 [00:41<03:16,  1.68it/s]"
     ]
    },
    {
     "name": "stdout",
     "output_type": "stream",
     "text": [
      "[Thread-139705622459968] ✅ Line 117 done in 5.29s | Matches: 0\n"
     ]
    },
    {
     "name": "stderr",
     "output_type": "stream",
     "text": [
      "🔍 Processing:  27%|████████████▏                                 | 119/449 [00:42<03:03,  1.80it/s]"
     ]
    },
    {
     "name": "stdout",
     "output_type": "stream",
     "text": [
      "[Thread-139706159330880] ✅ Line 114 done in 6.09s | Matches: 0\n"
     ]
    },
    {
     "name": "stderr",
     "output_type": "stream",
     "text": [
      "🔍 Processing:  27%|████████████▎                                 | 120/449 [00:42<02:32,  2.16it/s]"
     ]
    },
    {
     "name": "stdout",
     "output_type": "stream",
     "text": [
      "[Thread-139706512991808] ✅ Line 121 done in 4.46s | Matches: 0\n"
     ]
    },
    {
     "name": "stderr",
     "output_type": "stream",
     "text": [
      "🔍 Processing:  27%|████████████▍                                 | 121/449 [00:43<02:46,  1.98it/s]"
     ]
    },
    {
     "name": "stdout",
     "output_type": "stream",
     "text": [
      "[Thread-139706125760064] ✅ Line 126 done in 2.70s | Matches: 0\n"
     ]
    },
    {
     "name": "stderr",
     "output_type": "stream",
     "text": [
      "🔍 Processing:  27%|████████████▍                                 | 122/449 [00:43<02:19,  2.35it/s]"
     ]
    },
    {
     "name": "stdout",
     "output_type": "stream",
     "text": [
      "[Thread-139706117367360] ✅ Line 125 done in 3.99s | Matches: 0\n",
      "[Thread-139706150938176] ✅ Line 123 done in 4.87s | Matches: 0\n"
     ]
    },
    {
     "name": "stderr",
     "output_type": "stream",
     "text": [
      "🔍 Processing:  28%|████████████▋                                 | 124/449 [00:43<01:48,  3.01it/s]"
     ]
    },
    {
     "name": "stdout",
     "output_type": "stream",
     "text": [
      "[Thread-139706142545472] ✅ Line 122 done in 5.73s | Matches: 0\n"
     ]
    },
    {
     "name": "stderr",
     "output_type": "stream",
     "text": [
      "🔍 Processing:  28%|████████████▊                                 | 125/449 [00:44<01:57,  2.76it/s]"
     ]
    },
    {
     "name": "stdout",
     "output_type": "stream",
     "text": [
      "[Thread-139706159330880] ✅ Line 129 done in 1.97s | Matches: 0\n",
      "[Thread-139706504582720] ✅ Line 120 done in 6.38s | Matches: 0\n"
     ]
    },
    {
     "name": "stderr",
     "output_type": "stream",
     "text": [
      "🔍 Processing:  28%|█████████████                                 | 127/449 [00:44<01:53,  2.82it/s]"
     ]
    },
    {
     "name": "stdout",
     "output_type": "stream",
     "text": [
      "[Thread-139705622459968] ✅ Line 128 done in 3.11s | Matches: 0\n",
      "[Thread-139706125760064] ✅ Line 131 done in 1.82s | Matches: 0\n"
     ]
    },
    {
     "name": "stderr",
     "output_type": "stream",
     "text": [
      "🔍 Processing:  29%|█████████████▏                                | 129/449 [00:45<01:37,  3.30it/s]"
     ]
    },
    {
     "name": "stdout",
     "output_type": "stream",
     "text": [
      "[Thread-139706117367360] ✅ Line 132 done in 2.02s | Matches: 0\n"
     ]
    },
    {
     "name": "stderr",
     "output_type": "stream",
     "text": [
      "🔍 Processing:  29%|█████████████▎                                | 130/449 [00:46<01:58,  2.68it/s]"
     ]
    },
    {
     "name": "stdout",
     "output_type": "stream",
     "text": [
      "[Thread-139706142545472] ✅ Line 134 done in 2.21s | Matches: 0\n"
     ]
    },
    {
     "name": "stderr",
     "output_type": "stream",
     "text": [
      "🔍 Processing:  29%|█████████████▍                                | 131/449 [00:46<01:47,  2.95it/s]"
     ]
    },
    {
     "name": "stdout",
     "output_type": "stream",
     "text": [
      "[Thread-139705614067264] ✅ Line 127 done in 5.11s | Matches: 0\n",
      "[Thread-139706512991808] ✅ Line 130 done in 3.73s | Matches: 0\n"
     ]
    },
    {
     "name": "stderr",
     "output_type": "stream",
     "text": [
      "🔍 Processing:  30%|█████████████▋                                | 133/449 [00:46<01:34,  3.36it/s]"
     ]
    },
    {
     "name": "stdout",
     "output_type": "stream",
     "text": [
      "[Thread-139706134152768] ✅ Line 124 done in 7.55s | Matches: 0\n"
     ]
    },
    {
     "name": "stderr",
     "output_type": "stream",
     "text": [
      "🔍 Processing:  30%|█████████████▋                                | 134/449 [00:47<01:30,  3.48it/s]"
     ]
    },
    {
     "name": "stdout",
     "output_type": "stream",
     "text": [
      "[Thread-139705622459968] ✅ Line 137 done in 2.02s | Matches: 0\n"
     ]
    },
    {
     "name": "stderr",
     "output_type": "stream",
     "text": [
      "🔍 Processing:  30%|█████████████▊                                | 135/449 [00:47<01:24,  3.70it/s]"
     ]
    },
    {
     "name": "stdout",
     "output_type": "stream",
     "text": [
      "[Thread-139706117367360] ✅ Line 139 done in 1.80s | Matches: 0\n"
     ]
    },
    {
     "name": "stderr",
     "output_type": "stream",
     "text": [
      "🔍 Processing:  30%|█████████████▉                                | 136/449 [00:47<01:38,  3.16it/s]"
     ]
    },
    {
     "name": "stdout",
     "output_type": "stream",
     "text": [
      "[Thread-139706150938176] ✅ Line 133 done in 4.26s | Matches: 0\n"
     ]
    },
    {
     "name": "stderr",
     "output_type": "stream",
     "text": [
      "🔍 Processing:  31%|██████████████                                | 137/449 [00:48<01:44,  2.99it/s]"
     ]
    },
    {
     "name": "stdout",
     "output_type": "stream",
     "text": [
      "[Thread-139706125760064] ✅ Line 138 done in 3.06s | Matches: 0\n",
      "[Thread-139706512991808] ✅ Line 142 done in 1.77s | Matches: 0\n",
      "[Thread-139706142545472] ✅ Line 140 done in 2.02s | Matches: 0\n"
     ]
    },
    {
     "name": "stderr",
     "output_type": "stream",
     "text": [
      "🔍 Processing:  31%|██████████████▎                               | 140/449 [00:49<01:47,  2.87it/s]"
     ]
    },
    {
     "name": "stdout",
     "output_type": "stream",
     "text": [
      "[Thread-139706159330880] ✅ Line 135 done in 4.83s | Matches: 0\n",
      "[Thread-139705622459968] ✅ Line 144 done in 2.14s | Matches: 0\n",
      "[Thread-139706150938176] ✅ Line 146 done in 1.49s | Matches: 0\n"
     ]
    },
    {
     "name": "stderr",
     "output_type": "stream",
     "text": [
      "🔍 Processing:  32%|██████████████▋                               | 143/449 [00:49<01:27,  3.49it/s]"
     ]
    },
    {
     "name": "stdout",
     "output_type": "stream",
     "text": [
      "[Thread-139706117367360] ✅ Line 145 done in 2.53s | Matches: 0\n",
      "[Thread-139706125760064] ✅ Line 147 done in 1.70s | Matches: 0\n"
     ]
    },
    {
     "name": "stderr",
     "output_type": "stream",
     "text": [
      "🔍 Processing:  32%|██████████████▊                               | 145/449 [00:50<01:20,  3.77it/s]"
     ]
    },
    {
     "name": "stdout",
     "output_type": "stream",
     "text": [
      "[Thread-139706142545472] ✅ Line 149 done in 2.10s | Matches: 0\n",
      "[Thread-139705614067264] ✅ Line 141 done in 3.90s | Matches: 0\n"
     ]
    },
    {
     "name": "stderr",
     "output_type": "stream",
     "text": [
      "🔍 Processing:  33%|███████████████                               | 147/449 [00:51<01:40,  3.02it/s]"
     ]
    },
    {
     "name": "stdout",
     "output_type": "stream",
     "text": [
      "[Thread-139706134152768] ✅ Line 143 done in 4.40s | Matches: 0\n"
     ]
    },
    {
     "name": "stderr",
     "output_type": "stream",
     "text": [
      "🔍 Processing:  34%|███████████████▍                              | 151/449 [00:51<01:01,  4.88it/s]"
     ]
    },
    {
     "name": "stdout",
     "output_type": "stream",
     "text": [
      "[Thread-139706117367360] ✅ Line 153 done in 1.64s | Matches: 0\n",
      "[Thread-139706504582720] ✅ Line 136 done in 7.09s | Matches: 0\n",
      "[Thread-139706125760064] ✅ Line 154 done in 1.65s | Matches: 0\n",
      "[Thread-139706150938176] ✅ Line 152 done in 2.41s | Matches: 0\n"
     ]
    },
    {
     "name": "stderr",
     "output_type": "stream",
     "text": [
      "🔍 Processing:  34%|███████████████▌                              | 152/449 [00:52<01:26,  3.43it/s]"
     ]
    },
    {
     "name": "stdout",
     "output_type": "stream",
     "text": [
      "[Thread-139705614067264] ✅ Line 156 done in 2.09s | Matches: 0\n",
      "[Thread-139706159330880] ✅ Line 150 done in 3.15s | Matches: 0\n"
     ]
    },
    {
     "name": "stderr",
     "output_type": "stream",
     "text": [
      "🔍 Processing:  34%|███████████████▊                              | 154/449 [00:53<01:34,  3.14it/s]"
     ]
    },
    {
     "name": "stdout",
     "output_type": "stream",
     "text": [
      "[Thread-139706512991808] ✅ Line 148 done in 4.97s | Matches: 0\n"
     ]
    },
    {
     "name": "stderr",
     "output_type": "stream",
     "text": [
      "🔍 Processing:  35%|███████████████▉                              | 155/449 [00:53<02:03,  2.38it/s]"
     ]
    },
    {
     "name": "stdout",
     "output_type": "stream",
     "text": [
      "[Thread-139706142545472] ✅ Line 155 done in 3.71s | Matches: 0\n",
      "[Thread-139705622459968] ✅ Line 151 done in 4.75s | Matches: 0\n"
     ]
    },
    {
     "name": "stderr",
     "output_type": "stream",
     "text": [
      "🔍 Processing:  35%|████████████████                              | 157/449 [00:54<01:40,  2.90it/s]"
     ]
    },
    {
     "name": "stdout",
     "output_type": "stream",
     "text": [
      "[Thread-139706117367360] ✅ Line 158 done in 2.91s | Matches: 0\n"
     ]
    },
    {
     "name": "stderr",
     "output_type": "stream",
     "text": [
      "🔍 Processing:  35%|████████████████▏                             | 158/449 [00:54<01:57,  2.48it/s]"
     ]
    },
    {
     "name": "stdout",
     "output_type": "stream",
     "text": [
      "[Thread-139706512991808] ✅ Line 164 done in 1.90s | Matches: 0\n"
     ]
    },
    {
     "name": "stderr",
     "output_type": "stream",
     "text": [
      "🔍 Processing:  35%|████████████████▎                             | 159/449 [00:55<01:47,  2.71it/s]"
     ]
    },
    {
     "name": "stdout",
     "output_type": "stream",
     "text": [
      "[Thread-139706134152768] ✅ Line 157 done in 4.03s | Matches: 0\n",
      "[Thread-139706504582720] ✅ Line 159 done in 3.80s | Matches: 0\n"
     ]
    },
    {
     "name": "stderr",
     "output_type": "stream",
     "text": [
      "🔍 Processing:  36%|████████████████▍                             | 161/449 [00:55<01:17,  3.73it/s]"
     ]
    },
    {
     "name": "stdout",
     "output_type": "stream",
     "text": [
      "[Thread-139705622459968] ✅ Line 166 done in 1.50s | Matches: 0\n"
     ]
    },
    {
     "name": "stderr",
     "output_type": "stream",
     "text": [
      "🔍 Processing:  36%|████████████████▌                             | 162/449 [00:55<01:19,  3.61it/s]"
     ]
    },
    {
     "name": "stdout",
     "output_type": "stream",
     "text": [
      "[Thread-139705614067264] ✅ Line 162 done in 3.43s | Matches: 0\n"
     ]
    },
    {
     "name": "stderr",
     "output_type": "stream",
     "text": [
      "🔍 Processing:  36%|████████████████▋                             | 163/449 [00:56<01:51,  2.58it/s]"
     ]
    },
    {
     "name": "stdout",
     "output_type": "stream",
     "text": [
      "[Thread-139706142545472] ✅ Line 165 done in 2.57s | Matches: 0\n",
      "[Thread-139706125760064] ✅ Line 160 done in 5.06s | Matches: 0\n"
     ]
    },
    {
     "name": "stderr",
     "output_type": "stream",
     "text": [
      "🔍 Processing:  37%|█████████████████                             | 167/449 [00:57<01:07,  4.20it/s]"
     ]
    },
    {
     "name": "stdout",
     "output_type": "stream",
     "text": [
      "[Thread-139706117367360] ✅ Line 167 done in 2.60s | Matches: 0\n",
      "[Thread-139706512991808] ✅ Line 168 done in 1.98s | Matches: 0\n",
      "[Thread-139706159330880] ✅ Line 163 done in 4.80s | Matches: 0\n"
     ]
    },
    {
     "name": "stderr",
     "output_type": "stream",
     "text": [
      "🔍 Processing:  37%|█████████████████▏                            | 168/449 [00:57<01:04,  4.37it/s]"
     ]
    },
    {
     "name": "stdout",
     "output_type": "stream",
     "text": [
      "[Thread-139706504582720] ✅ Line 170 done in 2.09s | Matches: 0\n"
     ]
    },
    {
     "name": "stderr",
     "output_type": "stream",
     "text": [
      "🔍 Processing:  38%|█████████████████▎                            | 169/449 [00:57<01:06,  4.20it/s]"
     ]
    },
    {
     "name": "stdout",
     "output_type": "stream",
     "text": [
      "[Thread-139705622459968] ✅ Line 171 done in 2.15s | Matches: 0\n"
     ]
    },
    {
     "name": "stderr",
     "output_type": "stream",
     "text": [
      "🔍 Processing:  38%|█████████████████▍                            | 170/449 [00:58<02:04,  2.24it/s]"
     ]
    },
    {
     "name": "stdout",
     "output_type": "stream",
     "text": [
      "[Thread-139706512991808] ✅ Line 176 done in 1.72s | Matches: 0\n",
      "[Thread-139706159330880] ✅ Line 177 done in 1.55s | Matches: 0\n"
     ]
    },
    {
     "name": "stderr",
     "output_type": "stream",
     "text": [
      "🔍 Processing:  38%|█████████████████▌                            | 172/449 [00:58<01:24,  3.28it/s]"
     ]
    },
    {
     "name": "stdout",
     "output_type": "stream",
     "text": [
      "[Thread-139706117367360] ✅ Line 175 done in 1.94s | Matches: 0\n"
     ]
    },
    {
     "name": "stderr",
     "output_type": "stream",
     "text": [
      "🔍 Processing:  39%|█████████████████▋                            | 173/449 [00:59<02:12,  2.08it/s]"
     ]
    },
    {
     "name": "stdout",
     "output_type": "stream",
     "text": [
      "[Thread-139706159330880] ✅ Line 181 done in 1.28s | Matches: 0\n"
     ]
    },
    {
     "name": "stderr",
     "output_type": "stream",
     "text": [
      "🔍 Processing:  39%|█████████████████▊                            | 174/449 [01:00<02:28,  1.85it/s]"
     ]
    },
    {
     "name": "stdout",
     "output_type": "stream",
     "text": [
      "[Thread-139705622459968] ✅ Line 179 done in 3.09s | Matches: 0\n"
     ]
    },
    {
     "name": "stderr",
     "output_type": "stream",
     "text": [
      "🔍 Processing:  39%|█████████████████▉                            | 175/449 [01:01<02:22,  1.93it/s]"
     ]
    },
    {
     "name": "stdout",
     "output_type": "stream",
     "text": [
      "[Thread-139706125760064] ✅ Line 174 done in 4.63s | Matches: 0\n"
     ]
    },
    {
     "name": "stderr",
     "output_type": "stream",
     "text": [
      "🔍 Processing:  39%|██████████████████                            | 176/449 [01:01<02:15,  2.02it/s]"
     ]
    },
    {
     "name": "stdout",
     "output_type": "stream",
     "text": [
      "[Thread-139706142545472] ✅ Line 173 done in 5.07s | Matches: 0\n"
     ]
    },
    {
     "name": "stderr",
     "output_type": "stream",
     "text": [
      "🔍 Processing:  39%|██████████████████▏                           | 177/449 [01:02<02:40,  1.70it/s]"
     ]
    },
    {
     "name": "stdout",
     "output_type": "stream",
     "text": [
      "[Thread-139706117367360] ✅ Line 182 done in 3.52s | Matches: 0\n"
     ]
    },
    {
     "name": "stderr",
     "output_type": "stream",
     "text": [
      "🔍 Processing:  40%|██████████████████▍                           | 180/449 [01:02<01:23,  3.23it/s]"
     ]
    },
    {
     "name": "stdout",
     "output_type": "stream",
     "text": [
      "[Thread-139706504582720] ✅ Line 178 done in 5.29s | Matches: 0\n",
      "[Thread-139705622459968] ✅ Line 184 done in 1.94s | Matches: 0\n",
      "[Thread-139706134152768] ✅ Line 169 done in 7.59s | Matches: 0\n",
      "[Thread-139705614067264] ✅ Line 172 done in 7.07s | Matches: 0\n"
     ]
    },
    {
     "name": "stderr",
     "output_type": "stream",
     "text": [
      "🔍 Processing:  41%|██████████████████▋                           | 182/449 [01:03<01:04,  4.14it/s]"
     ]
    },
    {
     "name": "stdout",
     "output_type": "stream",
     "text": [
      "[Thread-139706512991808] ✅ Line 180 done in 4.41s | Matches: 0\n"
     ]
    },
    {
     "name": "stderr",
     "output_type": "stream",
     "text": [
      "🔍 Processing:  41%|██████████████████▋                           | 183/449 [01:04<01:51,  2.38it/s]"
     ]
    },
    {
     "name": "stdout",
     "output_type": "stream",
     "text": [
      "[Thread-139706134152768] ✅ Line 190 done in 1.33s | Matches: 0\n"
     ]
    },
    {
     "name": "stderr",
     "output_type": "stream",
     "text": [
      "🔍 Processing:  41%|██████████████████▊                           | 184/449 [01:04<01:39,  2.66it/s]"
     ]
    },
    {
     "name": "stdout",
     "output_type": "stream",
     "text": [
      "[Thread-139706125760064] ✅ Line 185 done in 3.24s | Matches: 0\n"
     ]
    },
    {
     "name": "stderr",
     "output_type": "stream",
     "text": [
      "🔍 Processing:  41%|██████████████████▉                           | 185/449 [01:04<01:42,  2.56it/s]"
     ]
    },
    {
     "name": "stdout",
     "output_type": "stream",
     "text": [
      "[Thread-139706504582720] ✅ Line 188 done in 2.19s | Matches: 0\n"
     ]
    },
    {
     "name": "stderr",
     "output_type": "stream",
     "text": [
      "🔍 Processing:  41%|███████████████████                           | 186/449 [01:05<01:34,  2.79it/s]"
     ]
    },
    {
     "name": "stdout",
     "output_type": "stream",
     "text": [
      "[Thread-139706117367360] ✅ Line 187 done in 2.68s | Matches: 0\n"
     ]
    },
    {
     "name": "stderr",
     "output_type": "stream",
     "text": [
      "🔍 Processing:  42%|███████████████████▏                          | 187/449 [01:06<02:24,  1.81it/s]"
     ]
    },
    {
     "name": "stdout",
     "output_type": "stream",
     "text": [
      "[Thread-139705614067264] ✅ Line 191 done in 3.32s | Matches: 0\n",
      "[Thread-139706134152768] ✅ Line 193 done in 2.01s | Matches: 0\n"
     ]
    },
    {
     "name": "stderr",
     "output_type": "stream",
     "text": [
      "🔍 Processing:  42%|███████████████████▎                          | 189/449 [01:06<01:43,  2.51it/s]"
     ]
    },
    {
     "name": "stdout",
     "output_type": "stream",
     "text": [
      "[Thread-139706142545472] ✅ Line 186 done in 4.97s | Matches: 0\n",
      "[Thread-139706125760064] ✅ Line 194 done in 2.18s | Matches: 0\n"
     ]
    },
    {
     "name": "stderr",
     "output_type": "stream",
     "text": [
      "🔍 Processing:  43%|███████████████████▌                          | 191/449 [01:06<01:21,  3.16it/s]"
     ]
    },
    {
     "name": "stdout",
     "output_type": "stream",
     "text": [
      "[Thread-139705622459968] ✅ Line 189 done in 4.29s | Matches: 0\n"
     ]
    },
    {
     "name": "stderr",
     "output_type": "stream",
     "text": [
      "🔍 Processing:  43%|███████████████████▋                          | 192/449 [01:07<01:28,  2.91it/s]"
     ]
    },
    {
     "name": "stdout",
     "output_type": "stream",
     "text": [
      "[Thread-139706159330880] ✅ Line 183 done in 7.40s | Matches: 0\n"
     ]
    },
    {
     "name": "stderr",
     "output_type": "stream",
     "text": [
      "🔍 Processing:  43%|███████████████████▊                          | 193/449 [01:07<01:20,  3.16it/s]"
     ]
    },
    {
     "name": "stdout",
     "output_type": "stream",
     "text": [
      "[Thread-139706134152768] ✅ Line 198 done in 1.43s | Matches: 0\n"
     ]
    },
    {
     "name": "stderr",
     "output_type": "stream",
     "text": [
      "🔍 Processing:  43%|███████████████████▉                          | 194/449 [01:08<02:09,  1.97it/s]"
     ]
    },
    {
     "name": "stdout",
     "output_type": "stream",
     "text": [
      "[Thread-139706504582720] ✅ Line 195 done in 3.85s | Matches: 0\n",
      "[Thread-139705614067264] ✅ Line 197 done in 2.53s | Matches: 0\n",
      "[Thread-139706512991808] ✅ Line 192 done in 5.60s | Matches: 0\n"
     ]
    },
    {
     "name": "stderr",
     "output_type": "stream",
     "text": [
      "🔍 Processing:  44%|████████████████████▏                         | 197/449 [01:09<01:17,  3.25it/s]"
     ]
    },
    {
     "name": "stdout",
     "output_type": "stream",
     "text": [
      "[Thread-139705622459968] ✅ Line 201 done in 2.11s | Matches: 0\n"
     ]
    },
    {
     "name": "stderr",
     "output_type": "stream",
     "text": [
      "🔍 Processing:  44%|████████████████████▎                         | 198/449 [01:09<01:16,  3.28it/s]"
     ]
    },
    {
     "name": "stdout",
     "output_type": "stream",
     "text": [
      "[Thread-139706150938176] ✅ Line 161 done in 17.72s | Matches: 0\n"
     ]
    },
    {
     "name": "stderr",
     "output_type": "stream",
     "text": [
      "🔍 Processing:  45%|████████████████████▌                         | 201/449 [01:10<01:03,  3.91it/s]"
     ]
    },
    {
     "name": "stdout",
     "output_type": "stream",
     "text": [
      "[Thread-139706159330880] ✅ Line 202 done in 2.49s | Matches: 0\n",
      "[Thread-139705614067264] ✅ Line 205 done in 1.19s | Matches: 0\n",
      "[Thread-139706117367360] ✅ Line 196 done in 4.98s | Matches: 0\n"
     ]
    },
    {
     "name": "stderr",
     "output_type": "stream",
     "text": [
      "🔍 Processing:  45%|████████████████████▋                         | 202/449 [01:10<01:14,  3.33it/s]"
     ]
    },
    {
     "name": "stdout",
     "output_type": "stream",
     "text": [
      "[Thread-139706134152768] ✅ Line 203 done in 2.92s | Matches: 0\n"
     ]
    },
    {
     "name": "stderr",
     "output_type": "stream",
     "text": [
      "🔍 Processing:  45%|████████████████████▊                         | 203/449 [01:10<01:23,  2.95it/s]"
     ]
    },
    {
     "name": "stdout",
     "output_type": "stream",
     "text": [
      "[Thread-139705614067264] ✅ Line 210 done in 1.11s | Matches: 0\n",
      "[Thread-139706512991808] ✅ Line 206 done in 2.31s | Matches: 0\n"
     ]
    },
    {
     "name": "stderr",
     "output_type": "stream",
     "text": [
      "🔍 Processing:  46%|█████████████████████                         | 205/449 [01:11<01:10,  3.45it/s]"
     ]
    },
    {
     "name": "stdout",
     "output_type": "stream",
     "text": [
      "[Thread-139706125760064] ✅ Line 200 done in 4.86s | Matches: 0\n"
     ]
    },
    {
     "name": "stderr",
     "output_type": "stream",
     "text": [
      "🔍 Processing:  46%|█████████████████████                         | 206/449 [01:12<01:52,  2.15it/s]"
     ]
    },
    {
     "name": "stdout",
     "output_type": "stream",
     "text": [
      "[Thread-139706159330880] ✅ Line 209 done in 2.63s | Matches: 0\n"
     ]
    },
    {
     "name": "stderr",
     "output_type": "stream",
     "text": [
      "🔍 Processing:  46%|█████████████████████▎                        | 208/449 [01:13<01:34,  2.54it/s]"
     ]
    },
    {
     "name": "stdout",
     "output_type": "stream",
     "text": [
      "[Thread-139705614067264] ✅ Line 213 done in 1.98s | Matches: 0\n",
      "[Thread-139706117367360] ✅ Line 211 done in 3.09s | Matches: 0\n"
     ]
    },
    {
     "name": "stderr",
     "output_type": "stream",
     "text": [
      "🔍 Processing:  47%|█████████████████████▍                        | 209/449 [01:13<01:23,  2.89it/s]"
     ]
    },
    {
     "name": "stdout",
     "output_type": "stream",
     "text": [
      "[Thread-139706504582720] ✅ Line 204 done in 4.69s | Matches: 0\n"
     ]
    },
    {
     "name": "stderr",
     "output_type": "stream",
     "text": [
      "🔍 Processing:  47%|█████████████████████▋                        | 212/449 [01:13<00:50,  4.73it/s]"
     ]
    },
    {
     "name": "stdout",
     "output_type": "stream",
     "text": [
      "[Thread-139706142545472] ✅ Line 199 done in 7.02s | Matches: 0\n",
      "[Thread-139706512991808] ✅ Line 214 done in 2.59s | Matches: 0\n",
      "[Thread-139706150938176] ✅ Line 208 done in 4.42s | Matches: 0\n"
     ]
    },
    {
     "name": "stderr",
     "output_type": "stream",
     "text": [
      "🔍 Processing:  47%|█████████████████████▊                        | 213/449 [01:13<00:51,  4.57it/s]"
     ]
    },
    {
     "name": "stdout",
     "output_type": "stream",
     "text": [
      "[Thread-139706125760064] ✅ Line 215 done in 2.57s | Matches: 0\n"
     ]
    },
    {
     "name": "stderr",
     "output_type": "stream",
     "text": [
      "🔍 Processing:  48%|█████████████████████▉                        | 214/449 [01:14<01:04,  3.65it/s]"
     ]
    },
    {
     "name": "stdout",
     "output_type": "stream",
     "text": [
      "[Thread-139706117367360] ✅ Line 218 done in 1.28s | Matches: 0\n"
     ]
    },
    {
     "name": "stderr",
     "output_type": "stream",
     "text": [
      "🔍 Processing:  48%|██████████████████████                        | 215/449 [01:15<01:46,  2.20it/s]"
     ]
    },
    {
     "name": "stdout",
     "output_type": "stream",
     "text": [
      "[Thread-139706504582720] ✅ Line 219 done in 2.01s | Matches: 0\n"
     ]
    },
    {
     "name": "stderr",
     "output_type": "stream",
     "text": [
      "🔍 Processing:  48%|██████████████████████▏                       | 216/449 [01:15<01:31,  2.54it/s]"
     ]
    },
    {
     "name": "stdout",
     "output_type": "stream",
     "text": [
      "[Thread-139706150938176] ✅ Line 222 done in 1.86s | Matches: 0\n"
     ]
    },
    {
     "name": "stderr",
     "output_type": "stream",
     "text": [
      "🔍 Processing:  48%|██████████████████████▏                       | 217/449 [01:16<02:17,  1.69it/s]"
     ]
    },
    {
     "name": "stdout",
     "output_type": "stream",
     "text": [
      "[Thread-139706512991808] ✅ Line 221 done in 3.13s | Matches: 2\n"
     ]
    },
    {
     "name": "stderr",
     "output_type": "stream",
     "text": [
      "🔍 Processing:  49%|██████████████████████▎                       | 218/449 [01:17<02:09,  1.79it/s]"
     ]
    },
    {
     "name": "stdout",
     "output_type": "stream",
     "text": [
      "[Thread-139706159330880] ✅ Line 216 done in 4.69s | Matches: 0\n"
     ]
    },
    {
     "name": "stderr",
     "output_type": "stream",
     "text": [
      "🔍 Processing:  49%|██████████████████████▍                       | 219/449 [01:17<01:45,  2.17it/s]"
     ]
    },
    {
     "name": "stdout",
     "output_type": "stream",
     "text": [
      "[Thread-139705614067264] ✅ Line 217 done in 4.44s | Matches: 0\n",
      "[Thread-139706117367360] ✅ Line 224 done in 2.99s | Matches: 0\n"
     ]
    },
    {
     "name": "stderr",
     "output_type": "stream",
     "text": [
      "🔍 Processing:  49%|██████████████████████▋                       | 221/449 [01:17<01:24,  2.71it/s]"
     ]
    },
    {
     "name": "stdout",
     "output_type": "stream",
     "text": [
      "[Thread-139706142545472] ✅ Line 220 done in 4.35s | Matches: 0\n"
     ]
    },
    {
     "name": "stderr",
     "output_type": "stream",
     "text": [
      "🔍 Processing:  49%|██████████████████████▋                       | 222/449 [01:18<01:47,  2.11it/s]"
     ]
    },
    {
     "name": "stdout",
     "output_type": "stream",
     "text": [
      "[Thread-139705622459968] ✅ Line 207 done in 9.68s | Matches: 0\n",
      "[Thread-139706504582720] ✅ Line 225 done in 3.35s | Matches: 0\n"
     ]
    },
    {
     "name": "stderr",
     "output_type": "stream",
     "text": [
      "🔍 Processing:  50%|██████████████████████▉                       | 224/449 [01:19<01:22,  2.74it/s]"
     ]
    },
    {
     "name": "stdout",
     "output_type": "stream",
     "text": [
      "[Thread-139706512991808] ✅ Line 227 done in 2.43s | Matches: 0\n",
      "[Thread-139706159330880] ✅ Line 228 done in 1.96s | Matches: 0\n"
     ]
    },
    {
     "name": "stderr",
     "output_type": "stream",
     "text": [
      "🔍 Processing:  50%|███████████████████████▏                      | 226/449 [01:19<01:18,  2.86it/s]"
     ]
    },
    {
     "name": "stdout",
     "output_type": "stream",
     "text": [
      "[Thread-139706117367360] ✅ Line 230 done in 2.37s | Matches: 0\n"
     ]
    },
    {
     "name": "stderr",
     "output_type": "stream",
     "text": [
      "🔍 Processing:  51%|███████████████████████▎                      | 227/449 [01:20<01:22,  2.70it/s]"
     ]
    },
    {
     "name": "stdout",
     "output_type": "stream",
     "text": [
      "[Thread-139706125760064] ✅ Line 223 done in 6.24s | Matches: 0\n",
      "[Thread-139705622459968] ✅ Line 232 done in 1.52s | Matches: 0\n"
     ]
    },
    {
     "name": "stderr",
     "output_type": "stream",
     "text": [
      "🔍 Processing:  51%|███████████████████████▍                      | 229/449 [01:21<01:29,  2.47it/s]"
     ]
    },
    {
     "name": "stdout",
     "output_type": "stream",
     "text": [
      "[Thread-139706150938176] ✅ Line 226 done in 5.55s | Matches: 0\n"
     ]
    },
    {
     "name": "stderr",
     "output_type": "stream",
     "text": [
      "🔍 Processing:  51%|███████████████████████▌                      | 230/449 [01:21<01:33,  2.35it/s]"
     ]
    },
    {
     "name": "stdout",
     "output_type": "stream",
     "text": [
      "[Thread-139706512991808] ✅ Line 234 done in 2.52s | Matches: 0\n",
      "[Thread-139706504582720] ✅ Line 233 done in 2.95s | Matches: 0\n"
     ]
    },
    {
     "name": "stderr",
     "output_type": "stream",
     "text": [
      "🔍 Processing:  52%|███████████████████████▉                      | 234/449 [01:22<01:00,  3.54it/s]"
     ]
    },
    {
     "name": "stdout",
     "output_type": "stream",
     "text": [
      "[Thread-139706125760064] ✅ Line 237 done in 2.04s | Matches: 0\n",
      "[Thread-139706117367360] ✅ Line 236 done in 2.50s | Matches: 0\n",
      "[Thread-139705614067264] ✅ Line 229 done in 5.07s | Matches: 0\n"
     ]
    },
    {
     "name": "stderr",
     "output_type": "stream",
     "text": [
      "🔍 Processing:  53%|████████████████████████▏                     | 236/449 [01:22<00:46,  4.58it/s]"
     ]
    },
    {
     "name": "stdout",
     "output_type": "stream",
     "text": [
      "[Thread-139706142545472] ✅ Line 231 done in 4.56s | Matches: 0\n",
      "[Thread-139706150938176] ✅ Line 239 done in 1.49s | Matches: 0\n"
     ]
    },
    {
     "name": "stderr",
     "output_type": "stream",
     "text": [
      "🔍 Processing:  53%|████████████████████████▎                     | 237/449 [01:23<01:05,  3.25it/s]"
     ]
    },
    {
     "name": "stdout",
     "output_type": "stream",
     "text": [
      "[Thread-139706512991808] ✅ Line 240 done in 1.67s | Matches: 0\n",
      "[Thread-139706504582720] ✅ Line 241 done in 1.68s | Matches: 0\n",
      "[Thread-139705622459968] ✅ Line 238 done in 3.12s | Matches: 0\n",
      "[Thread-139706117367360] ✅ Line 243 done in 1.08s | Matches: 0\n"
     ]
    },
    {
     "name": "stderr",
     "output_type": "stream",
     "text": [
      "🔍 Processing:  54%|████████████████████████▋                     | 241/449 [01:23<00:39,  5.24it/s]"
     ]
    },
    {
     "name": "stdout",
     "output_type": "stream",
     "text": [
      "[Thread-139706159330880] ✅ Line 235 done in 4.53s | Matches: 0\n"
     ]
    },
    {
     "name": "stderr",
     "output_type": "stream",
     "text": [
      "🔍 Processing:  54%|████████████████████████▊                     | 242/449 [01:24<00:53,  3.88it/s]"
     ]
    },
    {
     "name": "stdout",
     "output_type": "stream",
     "text": [
      "[Thread-139706125760064] ✅ Line 242 done in 2.02s | Matches: 0\n"
     ]
    },
    {
     "name": "stderr",
     "output_type": "stream",
     "text": [
      "🔍 Processing:  54%|████████████████████████▉                     | 243/449 [01:24<00:51,  3.98it/s]"
     ]
    },
    {
     "name": "stdout",
     "output_type": "stream",
     "text": [
      "[Thread-139706142545472] ✅ Line 245 done in 2.03s | Matches: 0\n",
      "[Thread-139706512991808] ✅ Line 247 done in 1.18s | Matches: 0\n",
      "[Thread-139706504582720] ✅ Line 248 done in 1.18s | Matches: 0\n",
      "[Thread-139705614067264] ✅ Line 244 done in 2.06s | Matches: 0\n"
     ]
    },
    {
     "name": "stderr",
     "output_type": "stream",
     "text": [
      "🔍 Processing:  55%|█████████████████████████▎                    | 247/449 [01:25<00:45,  4.46it/s]"
     ]
    },
    {
     "name": "stdout",
     "output_type": "stream",
     "text": [
      "[Thread-139706150938176] ✅ Line 246 done in 2.65s | Matches: 0\n"
     ]
    },
    {
     "name": "stderr",
     "output_type": "stream",
     "text": [
      "🔍 Processing:  55%|█████████████████████████▍                    | 248/449 [01:25<00:45,  4.45it/s]"
     ]
    },
    {
     "name": "stdout",
     "output_type": "stream",
     "text": [
      "[Thread-139706159330880] ✅ Line 251 done in 1.86s | Matches: 0\n",
      "[Thread-139706142545472] ✅ Line 253 done in 1.03s | Matches: 0\n",
      "[Thread-139706125760064] ✅ Line 252 done in 1.26s | Matches: 0\n"
     ]
    },
    {
     "name": "stderr",
     "output_type": "stream",
     "text": [
      "🔍 Processing:  56%|█████████████████████████▉                    | 253/449 [01:26<00:39,  4.92it/s]"
     ]
    },
    {
     "name": "stdout",
     "output_type": "stream",
     "text": [
      "[Thread-139706117367360] ✅ Line 250 done in 2.98s | Matches: 0\n",
      "[Thread-139706512991808] ✅ Line 254 done in 1.83s | Matches: 0\n",
      "[Thread-139706504582720] ✅ Line 255 done in 2.01s | Matches: 0\n",
      "[Thread-139706159330880] ✅ Line 258 done in 1.02s | Matches: 0\n"
     ]
    },
    {
     "name": "stderr",
     "output_type": "stream",
     "text": [
      "🔍 Processing:  57%|██████████████████████████                    | 255/449 [01:27<01:01,  3.16it/s]"
     ]
    },
    {
     "name": "stdout",
     "output_type": "stream",
     "text": [
      "[Thread-139706142545472] ✅ Line 259 done in 2.20s | Matches: 0\n",
      "[Thread-139706117367360] ✅ Line 261 done in 1.41s | Matches: 0\n"
     ]
    },
    {
     "name": "stderr",
     "output_type": "stream",
     "text": [
      "🔍 Processing:  57%|██████████████████████████▎                   | 257/449 [01:27<00:48,  3.92it/s]"
     ]
    },
    {
     "name": "stdout",
     "output_type": "stream",
     "text": [
      "[Thread-139706134152768] ✅ Line 212 done in 17.44s | Matches: 2\n"
     ]
    },
    {
     "name": "stderr",
     "output_type": "stream",
     "text": [
      "🔍 Processing:  57%|██████████████████████████▍                   | 258/449 [01:28<01:14,  2.56it/s]"
     ]
    },
    {
     "name": "stdout",
     "output_type": "stream",
     "text": [
      "[Thread-139706142545472] ✅ Line 265 done in 1.26s | Matches: 0\n"
     ]
    },
    {
     "name": "stderr",
     "output_type": "stream",
     "text": [
      "🔍 Processing:  58%|██████████████████████████▌                   | 259/449 [01:29<01:18,  2.42it/s]"
     ]
    },
    {
     "name": "stdout",
     "output_type": "stream",
     "text": [
      "[Thread-139706504582720] ✅ Line 263 done in 2.97s | Matches: 0\n",
      "[Thread-139705622459968] ✅ Line 249 done in 6.17s | Matches: 0\n"
     ]
    },
    {
     "name": "stderr",
     "output_type": "stream",
     "text": [
      "🔍 Processing:  58%|██████████████████████████▋                   | 261/449 [01:29<00:57,  3.30it/s]"
     ]
    },
    {
     "name": "stdout",
     "output_type": "stream",
     "text": [
      "[Thread-139706159330880] ✅ Line 264 done in 3.17s | Matches: 0\n"
     ]
    },
    {
     "name": "stderr",
     "output_type": "stream",
     "text": [
      "🔍 Processing:  58%|██████████████████████████▊                   | 262/449 [01:30<01:00,  3.09it/s]"
     ]
    },
    {
     "name": "stdout",
     "output_type": "stream",
     "text": [
      "[Thread-139706117367360] ✅ Line 266 done in 2.37s | Matches: 0\n"
     ]
    },
    {
     "name": "stderr",
     "output_type": "stream",
     "text": [
      "🔍 Processing:  59%|██████████████████████████▉                   | 263/449 [01:31<01:24,  2.20it/s]"
     ]
    },
    {
     "name": "stdout",
     "output_type": "stream",
     "text": [
      "[Thread-139706512991808] ✅ Line 262 done in 4.68s | Matches: 0\n"
     ]
    },
    {
     "name": "stderr",
     "output_type": "stream",
     "text": [
      "🔍 Processing:  59%|███████████████████████████                   | 264/449 [01:31<01:14,  2.49it/s]"
     ]
    },
    {
     "name": "stdout",
     "output_type": "stream",
     "text": [
      "[Thread-139705622459968] ✅ Line 270 done in 1.75s | Matches: 0\n"
     ]
    },
    {
     "name": "stderr",
     "output_type": "stream",
     "text": [
      "🔍 Processing:  59%|███████████████████████████▏                  | 265/449 [01:31<01:05,  2.81it/s]"
     ]
    },
    {
     "name": "stdout",
     "output_type": "stream",
     "text": [
      "[Thread-139706504582720] ✅ Line 269 done in 1.98s | Matches: 0\n"
     ]
    },
    {
     "name": "stderr",
     "output_type": "stream",
     "text": [
      "🔍 Processing:  59%|███████████████████████████▎                  | 266/449 [01:32<01:31,  2.00it/s]"
     ]
    },
    {
     "name": "stdout",
     "output_type": "stream",
     "text": [
      "[Thread-139705614067264] ✅ Line 256 done in 7.85s | Matches: 0\n"
     ]
    },
    {
     "name": "stderr",
     "output_type": "stream",
     "text": [
      "🔍 Processing:  59%|███████████████████████████▎                  | 267/449 [01:32<01:17,  2.36it/s]"
     ]
    },
    {
     "name": "stdout",
     "output_type": "stream",
     "text": [
      "[Thread-139706134152768] ✅ Line 267 done in 4.66s | Matches: 0\n",
      "[Thread-139706512991808] ✅ Line 273 done in 1.58s | Matches: 0\n"
     ]
    },
    {
     "name": "stderr",
     "output_type": "stream",
     "text": [
      "🔍 Processing:  60%|███████████████████████████▌                  | 269/449 [01:32<00:50,  3.54it/s]"
     ]
    },
    {
     "name": "stdout",
     "output_type": "stream",
     "text": [
      "[Thread-139706117367360] ✅ Line 272 done in 2.69s | Matches: 0\n"
     ]
    },
    {
     "name": "stderr",
     "output_type": "stream",
     "text": [
      "🔍 Processing:  60%|███████████████████████████▋                  | 270/449 [01:33<00:58,  3.05it/s]"
     ]
    },
    {
     "name": "stdout",
     "output_type": "stream",
     "text": [
      "[Thread-139706142545472] ✅ Line 268 done in 4.28s | Matches: 0\n"
     ]
    },
    {
     "name": "stderr",
     "output_type": "stream",
     "text": [
      "🔍 Processing:  60%|███████████████████████████▊                  | 271/449 [01:33<00:53,  3.32it/s]"
     ]
    },
    {
     "name": "stdout",
     "output_type": "stream",
     "text": [
      "[Thread-139706504582720] ✅ Line 275 done in 2.02s | Matches: 0\n"
     ]
    },
    {
     "name": "stderr",
     "output_type": "stream",
     "text": [
      "🔍 Processing:  61%|███████████████████████████▊                  | 272/449 [01:35<02:05,  1.41it/s]"
     ]
    },
    {
     "name": "stdout",
     "output_type": "stream",
     "text": [
      "[Thread-139706117367360] ✅ Line 279 done in 2.52s | Matches: 0\n"
     ]
    },
    {
     "name": "stderr",
     "output_type": "stream",
     "text": [
      "🔍 Processing:  61%|███████████████████████████▉                  | 273/449 [01:35<01:54,  1.54it/s]"
     ]
    },
    {
     "name": "stdout",
     "output_type": "stream",
     "text": [
      "[Thread-139706150938176] ✅ Line 257 done in 10.53s | Matches: 2\n"
     ]
    },
    {
     "name": "stderr",
     "output_type": "stream",
     "text": [
      "🔍 Processing:  61%|████████████████████████████                  | 274/449 [01:36<01:41,  1.72it/s]"
     ]
    },
    {
     "name": "stdout",
     "output_type": "stream",
     "text": [
      "[Thread-139706512991808] ✅ Line 278 done in 3.62s | Matches: 0\n"
     ]
    },
    {
     "name": "stderr",
     "output_type": "stream",
     "text": [
      "🔍 Processing:  61%|████████████████████████████▏                 | 275/449 [01:36<01:29,  1.95it/s]"
     ]
    },
    {
     "name": "stdout",
     "output_type": "stream",
     "text": [
      "[Thread-139705622459968] ✅ Line 274 done in 5.31s | Matches: 0\n"
     ]
    },
    {
     "name": "stderr",
     "output_type": "stream",
     "text": [
      "🔍 Processing:  61%|████████████████████████████▎                 | 276/449 [01:37<01:27,  1.97it/s]"
     ]
    },
    {
     "name": "stdout",
     "output_type": "stream",
     "text": [
      "[Thread-139706159330880] ✅ Line 271 done in 7.35s | Matches: 0\n",
      "[Thread-139706134152768] ✅ Line 277 done in 4.47s | Matches: 0\n"
     ]
    },
    {
     "name": "stderr",
     "output_type": "stream",
     "text": [
      "🔍 Processing:  62%|████████████████████████████▍                 | 278/449 [01:37<01:19,  2.15it/s]"
     ]
    },
    {
     "name": "stdout",
     "output_type": "stream",
     "text": [
      "[Thread-139706504582720] ✅ Line 281 done in 4.39s | Matches: 0\n"
     ]
    },
    {
     "name": "stderr",
     "output_type": "stream",
     "text": [
      "🔍 Processing:  62%|████████████████████████████▌                 | 279/449 [01:38<01:18,  2.17it/s]"
     ]
    },
    {
     "name": "stdout",
     "output_type": "stream",
     "text": [
      "[Thread-139706512991808] ✅ Line 284 done in 2.12s | Matches: 0\n",
      "[Thread-139706150938176] ✅ Line 283 done in 2.53s | Matches: 0\n"
     ]
    },
    {
     "name": "stderr",
     "output_type": "stream",
     "text": [
      "🔍 Processing:  63%|████████████████████████████▊                 | 281/449 [01:38<00:59,  2.84it/s]"
     ]
    },
    {
     "name": "stdout",
     "output_type": "stream",
     "text": [
      "[Thread-139705614067264] ✅ Line 276 done in 6.36s | Matches: 0\n"
     ]
    },
    {
     "name": "stderr",
     "output_type": "stream",
     "text": [
      "🔍 Processing:  63%|████████████████████████████▉                 | 282/449 [01:39<00:58,  2.87it/s]"
     ]
    },
    {
     "name": "stdout",
     "output_type": "stream",
     "text": [
      "[Thread-139705622459968] ✅ Line 285 done in 2.50s | Matches: 0\n"
     ]
    },
    {
     "name": "stderr",
     "output_type": "stream",
     "text": [
      "🔍 Processing:  63%|████████████████████████████▉                 | 283/449 [01:39<01:05,  2.54it/s]"
     ]
    },
    {
     "name": "stdout",
     "output_type": "stream",
     "text": [
      "[Thread-139706142545472] ✅ Line 280 done in 6.32s | Matches: 0\n",
      "[Thread-139706504582720] ✅ Line 288 done in 1.72s | Matches: 0\n"
     ]
    },
    {
     "name": "stderr",
     "output_type": "stream",
     "text": [
      "🔍 Processing:  63%|█████████████████████████████▏                | 285/449 [01:40<00:57,  2.87it/s]"
     ]
    },
    {
     "name": "stdout",
     "output_type": "stream",
     "text": [
      "[Thread-139706134152768] ✅ Line 287 done in 3.10s | Matches: 0\n"
     ]
    },
    {
     "name": "stderr",
     "output_type": "stream",
     "text": [
      "🔍 Processing:  64%|█████████████████████████████▎                | 286/449 [01:40<00:52,  3.13it/s]"
     ]
    },
    {
     "name": "stdout",
     "output_type": "stream",
     "text": [
      "[Thread-139706117367360] ✅ Line 282 done in 5.06s | Matches: 0\n"
     ]
    },
    {
     "name": "stderr",
     "output_type": "stream",
     "text": [
      "🔍 Processing:  64%|█████████████████████████████▍                | 287/449 [01:40<00:47,  3.38it/s]"
     ]
    },
    {
     "name": "stdout",
     "output_type": "stream",
     "text": [
      "[Thread-139706512991808] ✅ Line 289 done in 2.27s | Matches: 0\n"
     ]
    },
    {
     "name": "stderr",
     "output_type": "stream",
     "text": [
      "🔍 Processing:  64%|█████████████████████████████▌                | 288/449 [01:41<01:05,  2.46it/s]"
     ]
    },
    {
     "name": "stdout",
     "output_type": "stream",
     "text": [
      "[Thread-139706125760064] ✅ Line 260 done in 15.80s | Matches: 2\n",
      "[Thread-139706150938176] ✅ Line 290 done in 2.99s | Matches: 0\n",
      "[Thread-139706159330880] ✅ Line 286 done in 4.47s | Matches: 0\n"
     ]
    },
    {
     "name": "stderr",
     "output_type": "stream",
     "text": [
      "🔍 Processing:  65%|█████████████████████████████▊                | 291/449 [01:41<00:48,  3.23it/s]"
     ]
    },
    {
     "name": "stdout",
     "output_type": "stream",
     "text": [
      "[Thread-139706142545472] ✅ Line 293 done in 2.35s | Matches: 0\n"
     ]
    },
    {
     "name": "stderr",
     "output_type": "stream",
     "text": [
      "🔍 Processing:  65%|█████████████████████████████▉                | 292/449 [01:42<00:47,  3.33it/s]"
     ]
    },
    {
     "name": "stdout",
     "output_type": "stream",
     "text": [
      "[Thread-139705614067264] ✅ Line 291 done in 3.49s | Matches: 0\n"
     ]
    },
    {
     "name": "stderr",
     "output_type": "stream",
     "text": [
      "🔍 Processing:  65%|██████████████████████████████                | 293/449 [01:42<00:43,  3.60it/s]"
     ]
    },
    {
     "name": "stdout",
     "output_type": "stream",
     "text": [
      "[Thread-139706512991808] ✅ Line 297 done in 1.83s | Matches: 0\n",
      "[Thread-139706134152768] ✅ Line 295 done in 2.28s | Matches: 0\n"
     ]
    },
    {
     "name": "stderr",
     "output_type": "stream",
     "text": [
      "🔍 Processing:  66%|██████████████████████████████▏               | 295/449 [01:43<00:45,  3.36it/s]"
     ]
    },
    {
     "name": "stdout",
     "output_type": "stream",
     "text": [
      "[Thread-139706117367360] ✅ Line 296 done in 2.69s | Matches: 0\n",
      "[Thread-139706125760064] ✅ Line 298 done in 1.76s | Matches: 0\n"
     ]
    },
    {
     "name": "stderr",
     "output_type": "stream",
     "text": [
      "🔍 Processing:  66%|██████████████████████████████▌               | 298/449 [01:43<00:32,  4.67it/s]"
     ]
    },
    {
     "name": "stdout",
     "output_type": "stream",
     "text": [
      "[Thread-139705622459968] ✅ Line 292 done in 4.22s | Matches: 0\n",
      "[Thread-139706150938176] ✅ Line 299 done in 2.13s | Matches: 0\n",
      "[Thread-139706142545472] ✅ Line 301 done in 1.53s | Matches: 0\n"
     ]
    },
    {
     "name": "stderr",
     "output_type": "stream",
     "text": [
      "🔍 Processing:  67%|██████████████████████████████▋               | 300/449 [01:43<00:30,  4.92it/s]"
     ]
    },
    {
     "name": "stdout",
     "output_type": "stream",
     "text": [
      "[Thread-139706504582720] ✅ Line 294 done in 4.24s | Matches: 0\n"
     ]
    },
    {
     "name": "stderr",
     "output_type": "stream",
     "text": [
      "🔍 Processing:  67%|██████████████████████████████▉               | 302/449 [01:44<00:31,  4.71it/s]"
     ]
    },
    {
     "name": "stdout",
     "output_type": "stream",
     "text": [
      "[Thread-139705614067264] ✅ Line 302 done in 1.88s | Matches: 0\n",
      "[Thread-139706134152768] ✅ Line 304 done in 1.86s | Matches: 0\n"
     ]
    },
    {
     "name": "stderr",
     "output_type": "stream",
     "text": [
      "🔍 Processing:  68%|███████████████████████████████▏              | 304/449 [01:44<00:31,  4.67it/s]"
     ]
    },
    {
     "name": "stdout",
     "output_type": "stream",
     "text": [
      "[Thread-139706117367360] ✅ Line 305 done in 1.46s | Matches: 0\n",
      "[Thread-139706125760064] ✅ Line 306 done in 1.66s | Matches: 0\n"
     ]
    },
    {
     "name": "stderr",
     "output_type": "stream",
     "text": [
      "🔍 Processing:  68%|███████████████████████████████▏              | 305/449 [01:45<00:48,  2.98it/s]"
     ]
    },
    {
     "name": "stdout",
     "output_type": "stream",
     "text": [
      "[Thread-139706504582720] ✅ Line 310 done in 1.56s | Matches: 0\n",
      "[Thread-139705614067264] ✅ Line 311 done in 1.31s | Matches: 0\n"
     ]
    },
    {
     "name": "stderr",
     "output_type": "stream",
     "text": [
      "🔍 Processing:  68%|███████████████████████████████▍              | 307/449 [01:45<00:34,  4.13it/s]"
     ]
    },
    {
     "name": "stdout",
     "output_type": "stream",
     "text": [
      "[Thread-139706150938176] ✅ Line 308 done in 2.18s | Matches: 0\n"
     ]
    },
    {
     "name": "stderr",
     "output_type": "stream",
     "text": [
      "🔍 Processing:  69%|███████████████████████████████▌              | 308/449 [01:46<00:54,  2.61it/s]"
     ]
    },
    {
     "name": "stdout",
     "output_type": "stream",
     "text": [
      "[Thread-139706159330880] ✅ Line 300 done in 4.95s | Matches: 0\n"
     ]
    },
    {
     "name": "stderr",
     "output_type": "stream",
     "text": [
      "🔍 Processing:  69%|███████████████████████████████▊              | 311/449 [01:46<00:33,  4.15it/s]"
     ]
    },
    {
     "name": "stdout",
     "output_type": "stream",
     "text": [
      "[Thread-139706504582720] ✅ Line 315 done in 1.32s | Matches: 0\n",
      "[Thread-139706134152768] ✅ Line 312 done in 2.43s | Matches: 0\n",
      "[Thread-139706512991808] ✅ Line 303 done in 4.48s | Matches: 0\n"
     ]
    },
    {
     "name": "stderr",
     "output_type": "stream",
     "text": [
      "🔍 Processing:  69%|███████████████████████████████▉              | 312/449 [01:47<00:35,  3.90it/s]"
     ]
    },
    {
     "name": "stdout",
     "output_type": "stream",
     "text": [
      "[Thread-139706125760064] ✅ Line 314 done in 2.47s | Matches: 1\n"
     ]
    },
    {
     "name": "stderr",
     "output_type": "stream",
     "text": [
      "🔍 Processing:  70%|████████████████████████████████              | 313/449 [01:47<00:33,  4.11it/s]"
     ]
    },
    {
     "name": "stdout",
     "output_type": "stream",
     "text": [
      "[Thread-139705622459968] ✅ Line 307 done in 4.14s | Matches: 0\n"
     ]
    },
    {
     "name": "stderr",
     "output_type": "stream",
     "text": [
      "🔍 Processing:  70%|████████████████████████████████▏             | 314/449 [01:47<00:32,  4.15it/s]"
     ]
    },
    {
     "name": "stdout",
     "output_type": "stream",
     "text": [
      "[Thread-139705614067264] ✅ Line 316 done in 2.24s | Matches: 0\n"
     ]
    },
    {
     "name": "stderr",
     "output_type": "stream",
     "text": [
      "🔍 Processing:  70%|████████████████████████████████▎             | 315/449 [01:47<00:30,  4.33it/s]"
     ]
    },
    {
     "name": "stdout",
     "output_type": "stream",
     "text": [
      "[Thread-139706142545472] ✅ Line 309 done in 4.39s | Matches: 0\n"
     ]
    },
    {
     "name": "stderr",
     "output_type": "stream",
     "text": [
      "🔍 Processing:  70%|████████████████████████████████▎             | 316/449 [01:48<00:48,  2.73it/s]"
     ]
    },
    {
     "name": "stdout",
     "output_type": "stream",
     "text": [
      "[Thread-139706512991808] ✅ Line 321 done in 1.66s | Matches: 0\n",
      "[Thread-139706159330880] ✅ Line 318 done in 2.10s | Matches: 0\n"
     ]
    },
    {
     "name": "stderr",
     "output_type": "stream",
     "text": [
      "🔍 Processing:  71%|████████████████████████████████▋             | 319/449 [01:48<00:31,  4.19it/s]"
     ]
    },
    {
     "name": "stdout",
     "output_type": "stream",
     "text": [
      "[Thread-139706134152768] ✅ Line 320 done in 2.09s | Matches: 0\n",
      "[Thread-139706150938176] ✅ Line 317 done in 3.35s | Matches: 0\n"
     ]
    },
    {
     "name": "stderr",
     "output_type": "stream",
     "text": [
      "🔍 Processing:  71%|████████████████████████████████▉             | 321/449 [01:49<00:29,  4.39it/s]"
     ]
    },
    {
     "name": "stdout",
     "output_type": "stream",
     "text": [
      "[Thread-139706125760064] ✅ Line 322 done in 2.01s | Matches: 0\n",
      "[Thread-139706117367360] ✅ Line 313 done in 4.88s | Matches: 0\n"
     ]
    },
    {
     "name": "stderr",
     "output_type": "stream",
     "text": [
      "🔍 Processing:  72%|████████████████████████████████▉             | 322/449 [01:49<00:28,  4.40it/s]"
     ]
    },
    {
     "name": "stdout",
     "output_type": "stream",
     "text": [
      "[Thread-139705614067264] ✅ Line 324 done in 2.00s | Matches: 0\n"
     ]
    },
    {
     "name": "stderr",
     "output_type": "stream",
     "text": [
      "🔍 Processing:  72%|█████████████████████████████████             | 323/449 [01:50<00:58,  2.16it/s]"
     ]
    },
    {
     "name": "stdout",
     "output_type": "stream",
     "text": [
      "[Thread-139706150938176] ✅ Line 329 done in 1.72s | Matches: 0\n"
     ]
    },
    {
     "name": "stderr",
     "output_type": "stream",
     "text": [
      "🔍 Processing:  73%|█████████████████████████████████▍            | 326/449 [01:51<00:31,  3.87it/s]"
     ]
    },
    {
     "name": "stdout",
     "output_type": "stream",
     "text": [
      "[Thread-139706134152768] ✅ Line 328 done in 2.13s | Matches: 0\n",
      "[Thread-139706504582720] ✅ Line 319 done in 4.24s | Matches: 0\n",
      "[Thread-139706512991808] ✅ Line 326 done in 2.56s | Matches: 0\n"
     ]
    },
    {
     "name": "stderr",
     "output_type": "stream",
     "text": [
      "🔍 Processing:  73%|█████████████████████████████████▊            | 330/449 [01:52<00:33,  3.59it/s]"
     ]
    },
    {
     "name": "stdout",
     "output_type": "stream",
     "text": [
      "[Thread-139705614067264] ✅ Line 332 done in 2.75s | Matches: 0\n",
      "[Thread-139706125760064] ✅ Line 330 done in 3.19s | Matches: 0\n",
      "[Thread-139705622459968] ✅ Line 323 done in 5.00s | Matches: 0\n",
      "[Thread-139706142545472] ✅ Line 325 done in 4.73s | Matches: 0\n"
     ]
    },
    {
     "name": "stderr",
     "output_type": "stream",
     "text": [
      "🔍 Processing:  74%|█████████████████████████████████▉            | 331/449 [01:53<00:36,  3.20it/s]"
     ]
    },
    {
     "name": "stdout",
     "output_type": "stream",
     "text": [
      "[Thread-139706159330880] ✅ Line 327 done in 4.46s | Matches: 0\n",
      "[Thread-139706504582720] ✅ Line 335 done in 2.09s | Matches: 0\n"
     ]
    },
    {
     "name": "stderr",
     "output_type": "stream",
     "text": [
      "🔍 Processing:  74%|██████████████████████████████████            | 333/449 [01:53<00:32,  3.54it/s]"
     ]
    },
    {
     "name": "stdout",
     "output_type": "stream",
     "text": [
      "[Thread-139706125760064] ✅ Line 338 done in 1.08s | Matches: 0\n"
     ]
    },
    {
     "name": "stderr",
     "output_type": "stream",
     "text": [
      "🔍 Processing:  74%|██████████████████████████████████▏           | 334/449 [01:54<00:39,  2.91it/s]"
     ]
    },
    {
     "name": "stdout",
     "output_type": "stream",
     "text": [
      "[Thread-139705622459968] ✅ Line 339 done in 1.65s | Matches: 0\n",
      "[Thread-139706134152768] ✅ Line 334 done in 3.13s | Matches: 0\n",
      "[Thread-139706142545472] ✅ Line 340 done in 1.51s | Matches: 0\n"
     ]
    },
    {
     "name": "stderr",
     "output_type": "stream",
     "text": [
      "🔍 Processing:  75%|██████████████████████████████████▌           | 337/449 [01:54<00:26,  4.15it/s]"
     ]
    },
    {
     "name": "stdout",
     "output_type": "stream",
     "text": [
      "[Thread-139706117367360] ✅ Line 331 done in 5.02s | Matches: 0\n",
      "[Thread-139706150938176] ✅ Line 333 done in 3.74s | Matches: 0\n"
     ]
    },
    {
     "name": "stderr",
     "output_type": "stream",
     "text": [
      "🔍 Processing:  76%|██████████████████████████████████▋           | 339/449 [01:55<00:35,  3.11it/s]"
     ]
    },
    {
     "name": "stdout",
     "output_type": "stream",
     "text": [
      "[Thread-139706504582720] ✅ Line 342 done in 2.41s | Matches: 0\n"
     ]
    },
    {
     "name": "stderr",
     "output_type": "stream",
     "text": [
      "🔍 Processing:  76%|██████████████████████████████████▊           | 340/449 [01:55<00:37,  2.87it/s]"
     ]
    },
    {
     "name": "stdout",
     "output_type": "stream",
     "text": [
      "[Thread-139705622459968] ✅ Line 344 done in 1.84s | Matches: 0\n",
      "[Thread-139706512991808] ✅ Line 336 done in 4.80s | Matches: 0\n"
     ]
    },
    {
     "name": "stderr",
     "output_type": "stream",
     "text": [
      "🔍 Processing:  76%|███████████████████████████████████           | 342/449 [01:56<00:28,  3.77it/s]"
     ]
    },
    {
     "name": "stdout",
     "output_type": "stream",
     "text": [
      "[Thread-139705614067264] ✅ Line 337 done in 3.72s | Matches: 0\n"
     ]
    },
    {
     "name": "stderr",
     "output_type": "stream",
     "text": [
      "🔍 Processing:  76%|███████████████████████████████████▏          | 343/449 [01:56<00:34,  3.08it/s]"
     ]
    },
    {
     "name": "stdout",
     "output_type": "stream",
     "text": [
      "[Thread-139706142545472] ✅ Line 346 done in 2.60s | Matches: 0\n"
     ]
    },
    {
     "name": "stderr",
     "output_type": "stream",
     "text": [
      "🔍 Processing:  77%|███████████████████████████████████▏          | 344/449 [01:57<00:37,  2.83it/s]"
     ]
    },
    {
     "name": "stdout",
     "output_type": "stream",
     "text": [
      "[Thread-139706504582720] ✅ Line 349 done in 1.70s | Matches: 0\n"
     ]
    },
    {
     "name": "stderr",
     "output_type": "stream",
     "text": [
      "🔍 Processing:  77%|███████████████████████████████████▎          | 345/449 [01:57<00:45,  2.28it/s]"
     ]
    },
    {
     "name": "stdout",
     "output_type": "stream",
     "text": [
      "[Thread-139706117367360] ✅ Line 347 done in 3.42s | Matches: 0\n",
      "[Thread-139705622459968] ✅ Line 350 done in 1.95s | Matches: 0\n"
     ]
    },
    {
     "name": "stderr",
     "output_type": "stream",
     "text": [
      "🔍 Processing:  78%|███████████████████████████████████▋          | 348/449 [01:58<00:28,  3.56it/s]"
     ]
    },
    {
     "name": "stdout",
     "output_type": "stream",
     "text": [
      "[Thread-139706125760064] ✅ Line 343 done in 4.59s | Matches: 0\n",
      "[Thread-139706159330880] ✅ Line 341 done in 5.24s | Matches: 0\n"
     ]
    },
    {
     "name": "stderr",
     "output_type": "stream",
     "text": [
      "🔍 Processing:  78%|███████████████████████████████████▊          | 349/449 [01:58<00:29,  3.40it/s]"
     ]
    },
    {
     "name": "stdout",
     "output_type": "stream",
     "text": [
      "[Thread-139706134152768] ✅ Line 345 done in 4.53s | Matches: 0\n"
     ]
    },
    {
     "name": "stderr",
     "output_type": "stream",
     "text": [
      "🔍 Processing:  78%|███████████████████████████████████▊          | 350/449 [01:59<00:31,  3.11it/s]"
     ]
    },
    {
     "name": "stdout",
     "output_type": "stream",
     "text": [
      "[Thread-139706504582720] ✅ Line 354 done in 1.86s | Matches: 0\n"
     ]
    },
    {
     "name": "stderr",
     "output_type": "stream",
     "text": [
      "🔍 Processing:  78%|███████████████████████████████████▉          | 351/449 [01:59<00:35,  2.77it/s]"
     ]
    },
    {
     "name": "stdout",
     "output_type": "stream",
     "text": [
      "[Thread-139705622459968] ✅ Line 356 done in 1.61s | Matches: 0\n"
     ]
    },
    {
     "name": "stderr",
     "output_type": "stream",
     "text": [
      "🔍 Processing:  78%|████████████████████████████████████          | 352/449 [01:59<00:31,  3.10it/s]"
     ]
    },
    {
     "name": "stdout",
     "output_type": "stream",
     "text": [
      "[Thread-139706142545472] ✅ Line 353 done in 3.01s | Matches: 0\n",
      "[Thread-139706117367360] ✅ Line 355 done in 1.85s | Matches: 0\n"
     ]
    },
    {
     "name": "stderr",
     "output_type": "stream",
     "text": [
      "🔍 Processing:  79%|████████████████████████████████████▎         | 354/449 [02:00<00:28,  3.31it/s]"
     ]
    },
    {
     "name": "stdout",
     "output_type": "stream",
     "text": [
      "[Thread-139706159330880] ✅ Line 358 done in 1.98s | Matches: 0\n",
      "[Thread-139706125760064] ✅ Line 357 done in 2.18s | Matches: 0\n"
     ]
    },
    {
     "name": "stderr",
     "output_type": "stream",
     "text": [
      "🔍 Processing:  79%|████████████████████████████████████▍         | 356/449 [02:00<00:24,  3.78it/s]"
     ]
    },
    {
     "name": "stdout",
     "output_type": "stream",
     "text": [
      "[Thread-139706504582720] ✅ Line 360 done in 1.65s | Matches: 0\n",
      "[Thread-139705622459968] ✅ Line 361 done in 1.19s | Matches: 0\n"
     ]
    },
    {
     "name": "stderr",
     "output_type": "stream",
     "text": [
      "🔍 Processing:  80%|████████████████████████████████████▋         | 358/449 [02:01<00:22,  4.05it/s]"
     ]
    },
    {
     "name": "stdout",
     "output_type": "stream",
     "text": [
      "[Thread-139705614067264] ✅ Line 352 done in 4.97s | Matches: 0\n"
     ]
    },
    {
     "name": "stderr",
     "output_type": "stream",
     "text": [
      "🔍 Processing:  80%|████████████████████████████████████▊         | 359/449 [02:01<00:21,  4.12it/s]"
     ]
    },
    {
     "name": "stdout",
     "output_type": "stream",
     "text": [
      "[Thread-139706134152768] ✅ Line 359 done in 2.71s | Matches: 0\n",
      "[Thread-139706142545472] ✅ Line 362 done in 1.63s | Matches: 0\n",
      "[Thread-139706512991808] ✅ Line 351 done in 5.41s | Matches: 0\n"
     ]
    },
    {
     "name": "stderr",
     "output_type": "stream",
     "text": [
      "🔍 Processing:  81%|█████████████████████████████████████         | 362/449 [02:01<00:17,  4.99it/s]"
     ]
    },
    {
     "name": "stdout",
     "output_type": "stream",
     "text": [
      "[Thread-139706150938176] ✅ Line 348 done in 7.33s | Matches: 0\n",
      "[Thread-139706159330880] ✅ Line 364 done in 1.53s | Matches: 0\n"
     ]
    },
    {
     "name": "stderr",
     "output_type": "stream",
     "text": [
      "🔍 Processing:  81%|█████████████████████████████████████▍        | 365/449 [02:02<00:14,  5.74it/s]"
     ]
    },
    {
     "name": "stdout",
     "output_type": "stream",
     "text": [
      "[Thread-139706117367360] ✅ Line 363 done in 2.26s | Matches: 0\n",
      "[Thread-139705614067264] ✅ Line 368 done in 1.08s | Matches: 0\n",
      "[Thread-139706134152768] ✅ Line 369 done in 0.86s | Matches: 0\n"
     ]
    },
    {
     "name": "stderr",
     "output_type": "stream",
     "text": [
      "🔍 Processing:  82%|█████████████████████████████████████▌        | 367/449 [02:02<00:12,  6.33it/s]"
     ]
    },
    {
     "name": "stdout",
     "output_type": "stream",
     "text": [
      "[Thread-139706125760064] ✅ Line 365 done in 2.16s | Matches: 0\n"
     ]
    },
    {
     "name": "stderr",
     "output_type": "stream",
     "text": [
      "🔍 Processing:  82%|█████████████████████████████████████▋        | 368/449 [02:02<00:18,  4.42it/s]"
     ]
    },
    {
     "name": "stdout",
     "output_type": "stream",
     "text": [
      "[Thread-139706504582720] ✅ Line 366 done in 2.26s | Matches: 0\n"
     ]
    },
    {
     "name": "stderr",
     "output_type": "stream",
     "text": [
      "🔍 Processing:  82%|█████████████████████████████████████▊        | 369/449 [02:03<00:18,  4.22it/s]"
     ]
    },
    {
     "name": "stdout",
     "output_type": "stream",
     "text": [
      "[Thread-139706142545472] ✅ Line 370 done in 1.88s | Matches: 0\n"
     ]
    },
    {
     "name": "stderr",
     "output_type": "stream",
     "text": [
      "🔍 Processing:  82%|█████████████████████████████████████▉        | 370/449 [02:03<00:27,  2.83it/s]"
     ]
    },
    {
     "name": "stdout",
     "output_type": "stream",
     "text": [
      "[Thread-139706512991808] ✅ Line 371 done in 2.60s | Matches: 0\n"
     ]
    },
    {
     "name": "stderr",
     "output_type": "stream",
     "text": [
      "🔍 Processing:  83%|██████████████████████████████████████        | 371/449 [02:04<00:25,  3.08it/s]"
     ]
    },
    {
     "name": "stdout",
     "output_type": "stream",
     "text": [
      "[Thread-139706117367360] ✅ Line 374 done in 2.20s | Matches: 0\n",
      "[Thread-139706134152768] ✅ Line 376 done in 2.00s | Matches: 0\n"
     ]
    },
    {
     "name": "stderr",
     "output_type": "stream",
     "text": [
      "🔍 Processing:  83%|██████████████████████████████████████▏       | 373/449 [02:05<00:29,  2.54it/s]"
     ]
    },
    {
     "name": "stdout",
     "output_type": "stream",
     "text": [
      "[Thread-139705622459968] ✅ Line 367 done in 4.48s | Matches: 0\n",
      "[Thread-139706125760064] ✅ Line 377 done in 2.74s | Matches: 0\n",
      "[Thread-139706504582720] ✅ Line 378 done in 2.24s | Matches: 0\n",
      "[Thread-139706150938176] ✅ Line 372 done in 3.40s | Matches: 0\n"
     ]
    },
    {
     "name": "stderr",
     "output_type": "stream",
     "text": [
      "🔍 Processing:  84%|██████████████████████████████████████▌       | 377/449 [02:05<00:18,  3.93it/s]"
     ]
    },
    {
     "name": "stdout",
     "output_type": "stream",
     "text": [
      "[Thread-139706159330880] ✅ Line 373 done in 3.92s | Matches: 0\n",
      "[Thread-139706512991808] ✅ Line 380 done in 1.78s | Matches: 0\n"
     ]
    },
    {
     "name": "stderr",
     "output_type": "stream",
     "text": [
      "🔍 Processing:  84%|██████████████████████████████████████▊       | 379/449 [02:06<00:17,  4.10it/s]"
     ]
    },
    {
     "name": "stdout",
     "output_type": "stream",
     "text": [
      "[Thread-139706134152768] ✅ Line 382 done in 1.95s | Matches: 0\n"
     ]
    },
    {
     "name": "stderr",
     "output_type": "stream",
     "text": [
      "🔍 Processing:  85%|██████████████████████████████████████▉       | 380/449 [02:06<00:22,  3.08it/s]"
     ]
    },
    {
     "name": "stdout",
     "output_type": "stream",
     "text": [
      "[Thread-139705614067264] ✅ Line 375 done in 4.69s | Matches: 0\n",
      "[Thread-139705622459968] ✅ Line 383 done in 1.72s | Matches: 0\n"
     ]
    },
    {
     "name": "stderr",
     "output_type": "stream",
     "text": [
      "🔍 Processing:  85%|███████████████████████████████████████▏      | 382/449 [02:08<00:28,  2.33it/s]"
     ]
    },
    {
     "name": "stdout",
     "output_type": "stream",
     "text": [
      "[Thread-139706150938176] ✅ Line 386 done in 2.99s | Matches: 0\n"
     ]
    },
    {
     "name": "stderr",
     "output_type": "stream",
     "text": [
      "🔍 Processing:  85%|███████████████████████████████████████▏      | 383/449 [02:09<00:34,  1.92it/s]"
     ]
    },
    {
     "name": "stdout",
     "output_type": "stream",
     "text": [
      "[Thread-139706117367360] ✅ Line 381 done in 4.90s | Matches: 0\n"
     ]
    },
    {
     "name": "stderr",
     "output_type": "stream",
     "text": [
      "🔍 Processing:  86%|███████████████████████████████████████▎      | 384/449 [02:09<00:30,  2.16it/s]"
     ]
    },
    {
     "name": "stdout",
     "output_type": "stream",
     "text": [
      "[Thread-139705614067264] ✅ Line 390 done in 2.46s | Matches: 0\n"
     ]
    },
    {
     "name": "stderr",
     "output_type": "stream",
     "text": [
      "🔍 Processing:  86%|███████████████████████████████████████▍      | 385/449 [02:09<00:29,  2.16it/s]"
     ]
    },
    {
     "name": "stdout",
     "output_type": "stream",
     "text": [
      "[Thread-139706512991808] ✅ Line 388 done in 4.07s | Matches: 0\n",
      "[Thread-139706504582720] ✅ Line 385 done in 4.63s | Matches: 0\n",
      "[Thread-139706125760064] ✅ Line 384 done in 4.64s | Matches: 0\n"
     ]
    },
    {
     "name": "stderr",
     "output_type": "stream",
     "text": [
      "🔍 Processing:  86%|███████████████████████████████████████▊      | 388/449 [02:10<00:17,  3.41it/s]"
     ]
    },
    {
     "name": "stdout",
     "output_type": "stream",
     "text": [
      "[Thread-139705622459968] ✅ Line 391 done in 3.28s | Matches: 0\n",
      "[Thread-139706159330880] ✅ Line 387 done in 4.46s | Matches: 0\n"
     ]
    },
    {
     "name": "stderr",
     "output_type": "stream",
     "text": [
      "🔍 Processing:  87%|████████████████████████████████████████      | 391/449 [02:10<00:12,  4.46it/s]"
     ]
    },
    {
     "name": "stdout",
     "output_type": "stream",
     "text": [
      "[Thread-139706142545472] ✅ Line 379 done in 7.17s | Matches: 0\n",
      "[Thread-139706134152768] ✅ Line 389 done in 4.42s | Matches: 0\n"
     ]
    },
    {
     "name": "stderr",
     "output_type": "stream",
     "text": [
      "🔍 Processing:  87%|████████████████████████████████████████▏     | 392/449 [02:10<00:12,  4.42it/s]"
     ]
    },
    {
     "name": "stdout",
     "output_type": "stream",
     "text": [
      "[Thread-139706117367360] ✅ Line 393 done in 1.71s | Matches: 0\n",
      "[Thread-139706504582720] ✅ Line 396 done in 1.00s | Matches: 0\n",
      "[Thread-139706150938176] ✅ Line 392 done in 2.64s | Matches: 0\n"
     ]
    },
    {
     "name": "stderr",
     "output_type": "stream",
     "text": [
      "🔍 Processing:  88%|████████████████████████████████████████▍     | 395/449 [02:11<00:16,  3.36it/s]"
     ]
    },
    {
     "name": "stdout",
     "output_type": "stream",
     "text": [
      "[Thread-139706125760064] ✅ Line 397 done in 2.12s | Matches: 0\n"
     ]
    },
    {
     "name": "stderr",
     "output_type": "stream",
     "text": [
      "🔍 Processing:  88%|████████████████████████████████████████▌     | 396/449 [02:12<00:17,  3.05it/s]"
     ]
    },
    {
     "name": "stdout",
     "output_type": "stream",
     "text": [
      "[Thread-139706512991808] ✅ Line 395 done in 2.60s | Matches: 0\n",
      "[Thread-139706159330880] ✅ Line 399 done in 2.23s | Matches: 0\n"
     ]
    },
    {
     "name": "stderr",
     "output_type": "stream",
     "text": [
      "🔍 Processing:  89%|████████████████████████████████████████▊     | 398/449 [02:12<00:14,  3.48it/s]"
     ]
    },
    {
     "name": "stdout",
     "output_type": "stream",
     "text": [
      "[Thread-139705614067264] ✅ Line 394 done in 3.48s | Matches: 0\n",
      "[Thread-139706134152768] ✅ Line 401 done in 2.25s | Matches: 0\n"
     ]
    },
    {
     "name": "stderr",
     "output_type": "stream",
     "text": [
      "🔍 Processing:  89%|████████████████████████████████████████▉     | 400/449 [02:14<00:26,  1.88it/s]"
     ]
    },
    {
     "name": "stdout",
     "output_type": "stream",
     "text": [
      "[Thread-139705622459968] ✅ Line 398 done in 4.70s | Matches: 0\n",
      "[Thread-139706142545472] ✅ Line 400 done in 4.48s | Matches: 0\n"
     ]
    },
    {
     "name": "stderr",
     "output_type": "stream",
     "text": [
      "🔍 Processing:  90%|█████████████████████████████████████████▏    | 402/449 [02:15<00:21,  2.20it/s]"
     ]
    },
    {
     "name": "stdout",
     "output_type": "stream",
     "text": [
      "[Thread-139706159330880] ✅ Line 407 done in 3.05s | Matches: 0\n",
      "[Thread-139706150938176] ✅ Line 404 done in 4.65s | Matches: 0\n"
     ]
    },
    {
     "name": "stderr",
     "output_type": "stream",
     "text": [
      "🔍 Processing:  90%|█████████████████████████████████████████▍    | 404/449 [02:15<00:16,  2.67it/s]"
     ]
    },
    {
     "name": "stdout",
     "output_type": "stream",
     "text": [
      "[Thread-139705614067264] ✅ Line 408 done in 3.04s | Matches: 0\n",
      "[Thread-139706134152768] ✅ Line 409 done in 3.04s | Matches: 0\n"
     ]
    },
    {
     "name": "stderr",
     "output_type": "stream",
     "text": [
      "🔍 Processing:  90%|█████████████████████████████████████████▌    | 406/449 [02:16<00:12,  3.36it/s]"
     ]
    },
    {
     "name": "stdout",
     "output_type": "stream",
     "text": [
      "[Thread-139706504582720] ✅ Line 403 done in 5.29s | Matches: 0\n"
     ]
    },
    {
     "name": "stderr",
     "output_type": "stream",
     "text": [
      "🔍 Processing:  91%|█████████████████████████████████████████▋    | 407/449 [02:16<00:11,  3.53it/s]"
     ]
    },
    {
     "name": "stdout",
     "output_type": "stream",
     "text": [
      "[Thread-139706125760064] ✅ Line 405 done in 4.39s | Matches: 0\n"
     ]
    },
    {
     "name": "stderr",
     "output_type": "stream",
     "text": [
      "🔍 Processing:  91%|█████████████████████████████████████████▊    | 408/449 [02:16<00:11,  3.65it/s]"
     ]
    },
    {
     "name": "stdout",
     "output_type": "stream",
     "text": [
      "[Thread-139706142545472] ✅ Line 411 done in 1.68s | Matches: 0\n",
      "[Thread-139705622459968] ✅ Line 410 done in 1.70s | Matches: 0\n"
     ]
    },
    {
     "name": "stderr",
     "output_type": "stream",
     "text": [
      "🔍 Processing:  91%|██████████████████████████████████████████    | 410/449 [02:17<00:10,  3.78it/s]"
     ]
    },
    {
     "name": "stdout",
     "output_type": "stream",
     "text": [
      "[Thread-139706159330880] ✅ Line 412 done in 1.60s | Matches: 0\n",
      "[Thread-139706134152768] ✅ Line 415 done in 1.20s | Matches: 0\n"
     ]
    },
    {
     "name": "stderr",
     "output_type": "stream",
     "text": [
      "🔍 Processing:  92%|██████████████████████████████████████████▎   | 413/449 [02:17<00:07,  4.86it/s]"
     ]
    },
    {
     "name": "stdout",
     "output_type": "stream",
     "text": [
      "[Thread-139706150938176] ✅ Line 413 done in 1.80s | Matches: 1\n",
      "[Thread-139706117367360] ✅ Line 402 done in 6.66s | Matches: 0\n",
      "[Thread-139706512991808] ✅ Line 406 done in 5.07s | Matches: 0\n",
      "[Thread-139706125760064] ✅ Line 417 done in 1.16s | Matches: 0\n"
     ]
    },
    {
     "name": "stderr",
     "output_type": "stream",
     "text": [
      "🔍 Processing:  93%|██████████████████████████████████████████▌   | 416/449 [02:18<00:07,  4.39it/s]"
     ]
    },
    {
     "name": "stdout",
     "output_type": "stream",
     "text": [
      "[Thread-139706504582720] ✅ Line 416 done in 2.11s | Matches: 0\n",
      "[Thread-139705622459968] ✅ Line 419 done in 1.66s | Matches: 0\n"
     ]
    },
    {
     "name": "stderr",
     "output_type": "stream",
     "text": [
      "🔍 Processing:  94%|███████████████████████████████████████████   | 420/449 [02:18<00:04,  6.25it/s]"
     ]
    },
    {
     "name": "stdout",
     "output_type": "stream",
     "text": [
      "[Thread-139705614067264] ✅ Line 414 done in 2.57s | Matches: 0\n",
      "[Thread-139706142545472] ✅ Line 418 done in 1.87s | Matches: 0\n",
      "[Thread-139706117367360] ✅ Line 423 done in 1.15s | Matches: 0\n"
     ]
    },
    {
     "name": "stderr",
     "output_type": "stream",
     "text": [
      "🔍 Processing:  94%|███████████████████████████████████████████▏  | 421/449 [02:18<00:05,  5.56it/s]"
     ]
    },
    {
     "name": "stdout",
     "output_type": "stream",
     "text": [
      "[Thread-139706159330880] ✅ Line 420 done in 1.82s | Matches: 0\n"
     ]
    },
    {
     "name": "stderr",
     "output_type": "stream",
     "text": [
      "🔍 Processing:  94%|███████████████████████████████████████████▏  | 422/449 [02:19<00:06,  4.25it/s]"
     ]
    },
    {
     "name": "stdout",
     "output_type": "stream",
     "text": [
      "[Thread-139706512991808] ✅ Line 424 done in 1.86s | Matches: 0\n",
      "[Thread-139706504582720] ✅ Line 426 done in 1.12s | Matches: 0\n",
      "[Thread-139706150938176] ✅ Line 422 done in 2.08s | Matches: 0\n"
     ]
    },
    {
     "name": "stderr",
     "output_type": "stream",
     "text": [
      "🔍 Processing:  95%|███████████████████████████████████████████▌  | 425/449 [02:19<00:04,  5.47it/s]"
     ]
    },
    {
     "name": "stdout",
     "output_type": "stream",
     "text": [
      "[Thread-139706142545472] ✅ Line 429 done in 1.26s | Matches: 0\n"
     ]
    },
    {
     "name": "stderr",
     "output_type": "stream",
     "text": [
      "🔍 Processing:  95%|███████████████████████████████████████████▋  | 426/449 [02:19<00:04,  5.34it/s]"
     ]
    },
    {
     "name": "stdout",
     "output_type": "stream",
     "text": [
      "[Thread-139705622459968] ✅ Line 427 done in 1.68s | Matches: 0\n"
     ]
    },
    {
     "name": "stderr",
     "output_type": "stream",
     "text": [
      "🔍 Processing:  95%|███████████████████████████████████████████▋  | 427/449 [02:20<00:05,  4.19it/s]"
     ]
    },
    {
     "name": "stdout",
     "output_type": "stream",
     "text": [
      "[Thread-139706512991808] ✅ Line 432 done in 1.01s | Matches: 0\n"
     ]
    },
    {
     "name": "stderr",
     "output_type": "stream",
     "text": [
      "🔍 Processing:  95%|███████████████████████████████████████████▊  | 428/449 [02:20<00:04,  4.25it/s]"
     ]
    },
    {
     "name": "stdout",
     "output_type": "stream",
     "text": [
      "[Thread-139705614067264] ✅ Line 428 done in 2.14s | Matches: 0\n"
     ]
    },
    {
     "name": "stderr",
     "output_type": "stream",
     "text": [
      "🔍 Processing:  96%|███████████████████████████████████████████▉  | 429/449 [02:20<00:04,  4.34it/s]"
     ]
    },
    {
     "name": "stdout",
     "output_type": "stream",
     "text": [
      "[Thread-139706504582720] ✅ Line 433 done in 1.44s | Matches: 0\n",
      "[Thread-139706159330880] ✅ Line 431 done in 1.91s | Matches: 1\n"
     ]
    },
    {
     "name": "stderr",
     "output_type": "stream",
     "text": [
      "🔍 Processing:  96%|████████████████████████████████████████████▏ | 431/449 [02:21<00:04,  4.36it/s]"
     ]
    },
    {
     "name": "stdout",
     "output_type": "stream",
     "text": [
      "[Thread-139706134152768] ✅ Line 421 done in 4.17s | Matches: 0\n"
     ]
    },
    {
     "name": "stderr",
     "output_type": "stream",
     "text": [
      "🔍 Processing:  96%|████████████████████████████████████████████▎ | 432/449 [02:21<00:03,  4.33it/s]"
     ]
    },
    {
     "name": "stdout",
     "output_type": "stream",
     "text": [
      "[Thread-139706142545472] ✅ Line 435 done in 1.77s | Matches: 0\n"
     ]
    },
    {
     "name": "stderr",
     "output_type": "stream",
     "text": [
      "🔍 Processing:  96%|████████████████████████████████████████████▎ | 433/449 [02:21<00:03,  4.46it/s]"
     ]
    },
    {
     "name": "stdout",
     "output_type": "stream",
     "text": [
      "[Thread-139706125760064] ✅ Line 425 done in 4.20s | Matches: 0\n"
     ]
    },
    {
     "name": "stderr",
     "output_type": "stream",
     "text": [
      "🔍 Processing:  97%|████████████████████████████████████████████▍ | 434/449 [02:22<00:04,  3.47it/s]"
     ]
    },
    {
     "name": "stdout",
     "output_type": "stream",
     "text": [
      "[Thread-139706150938176] ✅ Line 434 done in 2.80s | Matches: 0\n"
     ]
    },
    {
     "name": "stderr",
     "output_type": "stream",
     "text": [
      "🔍 Processing:  97%|████████████████████████████████████████████▌ | 435/449 [02:22<00:03,  3.63it/s]"
     ]
    },
    {
     "name": "stdout",
     "output_type": "stream",
     "text": [
      "[Thread-139706159330880] ✅ Line 440 done in 1.60s | Matches: 0\n",
      "[Thread-139706504582720] ✅ Line 439 done in 1.62s | Matches: 0\n",
      "[Thread-139706512991808] ✅ Line 437 done in 2.07s | Matches: 0\n"
     ]
    },
    {
     "name": "stderr",
     "output_type": "stream",
     "text": [
      "🔍 Processing:  98%|████████████████████████████████████████████▊ | 438/449 [02:23<00:02,  3.82it/s]"
     ]
    },
    {
     "name": "stdout",
     "output_type": "stream",
     "text": [
      "[Thread-139706117367360] ✅ Line 430 done in 4.53s | Matches: 0\n"
     ]
    },
    {
     "name": "stderr",
     "output_type": "stream",
     "text": [
      "🔍 Processing:  98%|█████████████████████████████████████████████▏| 441/449 [02:23<00:01,  5.12it/s]"
     ]
    },
    {
     "name": "stdout",
     "output_type": "stream",
     "text": [
      "[Thread-139706125760064] ✅ Line 443 done in 1.70s | Matches: 0\n",
      "[Thread-139706150938176] ✅ Line 444 done in 1.24s | Matches: 0\n",
      "[Thread-139706134152768] ✅ Line 441 done in 2.32s | Matches: 0\n"
     ]
    },
    {
     "name": "stderr",
     "output_type": "stream",
     "text": [
      "🔍 Processing:  99%|█████████████████████████████████████████████▍| 443/449 [02:24<00:01,  4.29it/s]"
     ]
    },
    {
     "name": "stdout",
     "output_type": "stream",
     "text": [
      "[Thread-139706159330880] ✅ Line 445 done in 1.63s | Matches: 0\n",
      "[Thread-139705622459968] ✅ Line 436 done in 4.28s | Matches: 0\n"
     ]
    },
    {
     "name": "stderr",
     "output_type": "stream",
     "text": [
      "🔍 Processing:  99%|█████████████████████████████████████████████▍| 444/449 [02:24<00:01,  3.58it/s]"
     ]
    },
    {
     "name": "stdout",
     "output_type": "stream",
     "text": [
      "[Thread-139706504582720] ✅ Line 446 done in 2.21s | Matches: 0\n"
     ]
    },
    {
     "name": "stderr",
     "output_type": "stream",
     "text": [
      "🔍 Processing:  99%|█████████████████████████████████████████████▋| 446/449 [02:25<00:00,  3.73it/s]"
     ]
    },
    {
     "name": "stdout",
     "output_type": "stream",
     "text": [
      "[Thread-139705614067264] ✅ Line 438 done in 4.41s | Matches: 0\n",
      "[Thread-139706125760064] ✅ Line 449 done in 1.78s | Matches: 0\n"
     ]
    },
    {
     "name": "stderr",
     "output_type": "stream",
     "text": [
      "🔍 Processing: 100%|█████████████████████████████████████████████▊| 447/449 [02:25<00:00,  3.26it/s]"
     ]
    },
    {
     "name": "stdout",
     "output_type": "stream",
     "text": [
      "[Thread-139706142545472] ✅ Line 442 done in 4.09s | Matches: 0\n"
     ]
    },
    {
     "name": "stderr",
     "output_type": "stream",
     "text": [
      "🔍 Processing: 100%|█████████████████████████████████████████████▉| 448/449 [02:26<00:00,  2.83it/s]"
     ]
    },
    {
     "name": "stdout",
     "output_type": "stream",
     "text": [
      "[Thread-139706117367360] ✅ Line 448 done in 2.89s | Matches: 0\n"
     ]
    },
    {
     "name": "stderr",
     "output_type": "stream",
     "text": [
      "🔍 Processing: 100%|██████████████████████████████████████████████| 449/449 [02:26<00:00,  3.06it/s]"
     ]
    },
    {
     "name": "stdout",
     "output_type": "stream",
     "text": [
      "[Thread-139706512991808] ✅ Line 447 done in 4.52s | Matches: 0\n",
      "\n",
      "🎯 Unique filenames found:\n",
      "0-4ea07c23-a1a6-411b-bcfb-552d095b66c9.png\n",
      "0-5a84cde3-7175-4044-8c88-d4c883a8fd38.png\n",
      "0-6bcc0131-e4ad-421e-bb1f-d8ebe5eeec7b.png\n",
      "0-79d9b7f2-cfe4-4615-9b75-8fea33fc0c9d.png\n",
      "0-e705d192-90ee-4fd1-9dcd-061958d1817f.png\n",
      "12756724-394c-4576-b373-7c53f1abbd94.md\n",
      "4ea07c23-a1a6-411b-bcfb-552d095b66c9.png\n",
      "5a84cde3-7175-4044-8c88-d4c883a8fd38.png\n",
      "6bcc0131-e4ad-421e-bb1f-d8ebe5eeec7b.png\n",
      "79d9b7f2-cfe4-4615-9b75-8fea33fc0c9d.png\n",
      "brochure.pdf\n",
      "e705d192-90ee-4fd1-9dcd-061958d1817f.png\n",
      "national-leading.md\n",
      "product_brochure.pdf\n",
      "readme.md\n",
      "table.html\n",
      "奸笑.gif\n",
      "安洵.7z\n",
      "\n",
      "✅ Total unique files found: 18\n"
     ]
    },
    {
     "name": "stderr",
     "output_type": "stream",
     "text": [
      "\n"
     ]
    }
   ],
   "source": [
    "import re\n",
    "import threading\n",
    "import time\n",
    "from concurrent.futures import ThreadPoolExecutor, as_completed\n",
    "from langchain.llms import Ollama\n",
    "from langchain.prompts import PromptTemplate\n",
    "from langchain.chains import LLMChain\n",
    "from tqdm import tqdm\n",
    "\n",
    "# Load and clean lines\n",
    "with open('I-Soon-data/md/chats/10.md', 'r', encoding='utf-8') as f:\n",
    "    lines = [line.strip() for line in f if line.strip()]\n",
    "\n",
    "# Regex and shared resources\n",
    "file_regex = re.compile(r'\\b[\\w\\-]+(?:\\.[\\w\\-]+)*\\.\\w{2,6}\\b')\n",
    "found_files = []\n",
    "lock = threading.Lock()\n",
    "\n",
    "# Prompt template\n",
    "prompt_template = PromptTemplate(\n",
    "    input_variables=[\"content\"],\n",
    "    template=\"\"\"\n",
    "You are a cybersecurity analyst with expert knowledge of file types and syntax used to reference files in certain documents and related contexts.\n",
    "Your task is to analyze the given content and extract all explicit file names with extensions.\n",
    "Follow these guidelines:\n",
    "    • Only include file names that explicitly contain a valid extension. DONT MAKE UP EXTENSIONS\n",
    "    • Consider common patterns and recognize contextual clues like source, reference, include, or links that point to files.\n",
    "    • Do not infer or fabricate file names based on ambiguous text. Do not extract names without a clear extension.\n",
    "    • Output only: a single line list of the detected file names with extensions, separated by commas. No explanation or commentary.\n",
    "Content:\n",
    "{content}\n",
    "\"\"\"\n",
    ")\n",
    "\n",
    "# Progress bar setup\n",
    "progress_bar = tqdm(total=len(lines), desc=\"🔍 Processing\", ncols=100)\n",
    "\n",
    "# Worker function\n",
    "def process_line(i: int, content: str):\n",
    "    thread_id = threading.get_ident()\n",
    "    try:\n",
    "        llm = Ollama(model=\"qwen2.5:14b\")\n",
    "        chain = LLMChain(llm=llm, prompt=prompt_template)\n",
    "\n",
    "        start = time.time()\n",
    "        response = chain.run(content=content)\n",
    "        duration = time.time() - start\n",
    "\n",
    "        matches = file_regex.findall(response)\n",
    "        match_count = len(matches)\n",
    "\n",
    "        if matches:\n",
    "            with lock:\n",
    "                found_files.extend([m.strip().lower() for m in matches])\n",
    "\n",
    "        print(f\"[Thread-{thread_id}] ✅ Line {i+1} done in {duration:.2f}s | Matches: {match_count}\")\n",
    "    except Exception as e:\n",
    "        print(f\"[Thread-{thread_id}] ❌ Error on line {i+1}: {e}\")\n",
    "    finally:\n",
    "        progress_bar.update(1)\n",
    "\n",
    "# Run with 2 threads\n",
    "n_threads = 10\n",
    "\n",
    "print(f\"\\n🚀 Starting with {n_threads} threads on {len(lines)} lines...\\n\")\n",
    "\n",
    "with ThreadPoolExecutor(max_workers=n_threads) as executor:\n",
    "    futures = [executor.submit(process_line, i, line) for i, line in enumerate(lines)]\n",
    "    for future in as_completed(futures):\n",
    "        future.result()\n",
    "\n",
    "progress_bar.close()\n",
    "\n",
    "# Output results\n",
    "print(\"\\n🎯 Unique filenames found:\")\n",
    "unique_files = sorted(set(found_files))\n",
    "for f in unique_files:\n",
    "    print(f)\n",
    "\n",
    "print(f\"\\n✅ Total unique files found: {len(unique_files)}\")"
   ]
  },
  {
   "cell_type": "code",
   "execution_count": null,
   "id": "a55a603e-103a-46c0-9dcc-8c72023cacb8",
   "metadata": {
    "tags": []
   },
   "outputs": [],
   "source": [
    "# import shutil\n",
    "# import os\n",
    "\n",
    "# # Directory to delete\n",
    "# EXTRACT_DIR = 'I-Soon-data'\n",
    "\n",
    "# # Check if the directory exists and delete it\n",
    "# if os.path.isdir(EXTRACT_DIR):\n",
    "#     shutil.rmtree(EXTRACT_DIR)\n",
    "#     print(f\"Directory '{EXTRACT_DIR}' has been deleted.\")\n",
    "# else:\n",
    "#     print(f\"Directory '{EXTRACT_DIR}' does not exist.\")"
   ]
  },
  {
   "cell_type": "code",
   "execution_count": null,
   "id": "1c242f8e-af9c-488e-9a4a-92bdc06a8ec7",
   "metadata": {},
   "outputs": [],
   "source": []
  }
 ],
 "metadata": {
  "kernelspec": {
   "display_name": "Python (IsoonAI)",
   "language": "python",
   "name": "isoonai"
  },
  "language_info": {
   "codemirror_mode": {
    "name": "ipython",
    "version": 3
   },
   "file_extension": ".py",
   "mimetype": "text/x-python",
   "name": "python",
   "nbconvert_exporter": "python",
   "pygments_lexer": "ipython3",
   "version": "3.11.8"
  }
 },
 "nbformat": 4,
 "nbformat_minor": 5
}
