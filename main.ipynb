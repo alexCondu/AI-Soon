{
 "cells": [
  {
   "cell_type": "code",
   "execution_count": 6,
   "id": "08427a84-31f9-4bcf-875e-22b2e6497608",
   "metadata": {
    "user_expressions": []
   },
   "outputs": [
    {
     "name": "stdout",
     "output_type": "stream",
     "text": [
      "/home/jovyan/IsoonAI/bin/python\n"
     ]
    },
    {
     "data": {
      "text/plain": [
       "144"
      ]
     },
     "execution_count": 6,
     "metadata": {},
     "output_type": "execute_result"
    }
   ],
   "source": [
    "import sys\n",
    "print(sys.executable)\n",
    "\n",
    "import os\n",
    "os.cpu_count()"
   ]
  },
  {
   "cell_type": "code",
   "execution_count": 7,
   "id": "879be4cb",
   "metadata": {
    "tags": [],
    "vscode": {
     "languageId": "shellscript"
    }
   },
   "outputs": [
    {
     "name": "stdout",
     "output_type": "stream",
     "text": [
      "Checkout git\n",
      "kernel is working\n"
     ]
    }
   ],
   "source": [
    "import os\n",
    "import zipfile\n",
    "import subprocess\n",
    "import json\n",
    "import pandas as pd\n",
    "from langchain_ollama.llms import OllamaLLM\n",
    "import shutil\n",
    "\n",
    "\n",
    "# Paths and model settings\\ nZIP_PATH = 'I-Soon-data.zip'      # Path to your downloaded zip file\n",
    "ZIP_PATH = '0.zip'    # Directory to extract contents\n",
    "EXTRACT_DIR = 'I-Soon-data'        # Directory to extract contents\n",
    "print(\"Checkout git\")\n",
    "print(\"kernel is working\")"
   ]
  },
  {
   "cell_type": "code",
   "execution_count": 8,
   "id": "5e6feb79",
   "metadata": {
    "tags": [],
    "vscode": {
     "languageId": "shellscript"
    }
   },
   "outputs": [
    {
     "name": "stdout",
     "output_type": "stream",
     "text": [
      "Extracted archive to 'I-Soon-data'\n"
     ]
    }
   ],
   "source": [
    "if not os.path.isdir(EXTRACT_DIR):\n",
    "    with zipfile.ZipFile(ZIP_PATH, 'r') as zip_ref:\n",
    "        zip_ref.extractall(EXTRACT_DIR)\n",
    "    print(f\"Extracted archive to '{EXTRACT_DIR}'\")\n",
    "else:\n",
    "    print(f\"Extraction directory '{EXTRACT_DIR}' already exists\")"
   ]
  },
  {
   "cell_type": "markdown",
   "id": "325a01d8",
   "metadata": {
    "user_expressions": []
   },
   "source": [
    "# **DATA TYPE CATEGORIZATION**"
   ]
  },
  {
   "cell_type": "code",
   "execution_count": 9,
   "id": "dec65000",
   "metadata": {
    "vscode": {
     "languageId": "shellscript"
    }
   },
   "outputs": [
    {
     "name": "stdout",
     "output_type": "stream",
     "text": [
      "Deleted: I-Soon-data/__MACOSX\n"
     ]
    }
   ],
   "source": [
    "# Define the parent directory\n",
    "parent_directory = \"I-Soon-data\"\n",
    "\n",
    "# Full path to the __MACOSX folder\n",
    "macosx_folder = os.path.join(parent_directory, \"__MACOSX\")\n",
    "\n",
    "# Check if __MACOSX exists and remove it\n",
    "if os.path.exists(macosx_folder) and os.path.isdir(macosx_folder):\n",
    "    shutil.rmtree(macosx_folder)\n",
    "    print(f\"Deleted: {macosx_folder}\")\n",
    "else:\n",
    "    print(f\"Folder not found: {macosx_folder}\")\n",
    "\n",
    "# Organize files by extension into subfolders\n",
    "for root, dirs, files in os.walk(parent_directory):\n",
    "    for file in files:\n",
    "        # Skip hidden files and __MACOSX if any reappear\n",
    "        if file.startswith('.') or '__MACOSX' in root:\n",
    "            continue\n",
    "\n",
    "        # Get the file extension (in lowercase, without the dot)\n",
    "        file_extension = os.path.splitext(file)[1].lower().lstrip('.')\n",
    "        if not file_extension:\n",
    "            file_extension = \"no_extension\"\n",
    "\n",
    "        # Define the new subfolder path\n",
    "        subfolder_path = os.path.join(parent_directory, file_extension)\n",
    "\n",
    "        # Create the subfolder if it doesn't exist\n",
    "        os.makedirs(subfolder_path, exist_ok=True)\n",
    "\n",
    "        # Define source and destination paths\n",
    "        source_path = os.path.join(root, file)\n",
    "        destination_path = os.path.join(subfolder_path, file)\n",
    "\n",
    "        # Move the file if source and destination are not the same\n",
    "        if os.path.abspath(source_path) != os.path.abspath(destination_path):\n",
    "            shutil.move(source_path, destination_path)\n",
    "\n",
    "# Remove any empty folders within the parent directory\n",
    "for dirpath, dirnames, filenames in os.walk(parent_directory, topdown=False):\n",
    "    if not dirnames and not filenames:\n",
    "        try:\n",
    "            os.rmdir(dirpath)\n",
    "            print(f\"Removed empty folder: {dirpath}\")\n",
    "        except OSError:\n",
    "            pass  # Ignore errors (e.g., if directory is not empty due to permissions)"
   ]
  },
  {
   "cell_type": "markdown",
   "id": "75417f54",
   "metadata": {
    "user_expressions": []
   },
   "source": [
    "# **Markdown File Classification Using Local LLM (Ollama + LangChain)**"
   ]
  },
  {
   "cell_type": "code",
   "execution_count": 11,
   "id": "b9397264",
   "metadata": {
    "vscode": {
     "languageId": "shellscript"
    }
   },
   "outputs": [
    {
     "name": "stderr",
     "output_type": "stream",
     "text": [
      "Classifying files: 100%|██████████| 70/70 [02:37<00:00,  2.24s/it]\n"
     ]
    }
   ],
   "source": [
    "import os\n",
    "import glob\n",
    "import shutil\n",
    "import concurrent.futures\n",
    "from langchain.llms import Ollama\n",
    "from langchain.prompts import PromptTemplate\n",
    "from langchain.chains import LLMChain\n",
    "from tqdm import tqdm\n",
    "\n",
    "# === Step 1: Set up LLM and Prompt ===\n",
    "\n",
    "llm = Ollama(model=\"llama3.1:8b\")\n",
    "\n",
    "prompt_template = PromptTemplate(\n",
    "    input_variables=[\"content\"],\n",
    "    template=\"\"\"\n",
    "You are analyzing the content of a Markdown (.md) file.\n",
    "\n",
    "Markdown content:\n",
    "\\\"\\\"\\\"\n",
    "{content}\n",
    "\\\"\\\"\\\"\n",
    "\n",
    "1. Classify the content into one of the following categories ONLY: chats, images, other.\n",
    "2. State your confidence in the classification as one of: high, medium, or low.\n",
    "\n",
    "Respond in the following format:\n",
    "Category: <chats|images|other>\n",
    "Confidence: <high|medium|low>\n",
    "\"\"\"\n",
    ")\n",
    "\n",
    "chain = LLMChain(llm=llm, prompt=prompt_template)\n",
    "\n",
    "# === Step 2: Preprocessing Function ===\n",
    "\n",
    "def preprocess_first_20_lines(file_path):\n",
    "    try:\n",
    "        with open(file_path, \"r\", encoding=\"utf-8\") as f:\n",
    "            lines = [line.strip() for _, line in zip(range(20), f)]\n",
    "            content = \" \".join(lines)\n",
    "        return os.path.basename(file_path), content\n",
    "    except Exception:\n",
    "        return os.path.basename(file_path), \"\"\n",
    "\n",
    "# === Step 3: Load .md Files ===\n",
    "\n",
    "md_dir = \"I-Soon-data/md\"\n",
    "md_files = glob.glob(os.path.join(md_dir, \"*.md\"))\n",
    "\n",
    "with concurrent.futures.ThreadPoolExecutor() as executor:\n",
    "    file_data = list(executor.map(preprocess_first_20_lines, md_files))\n",
    "\n",
    "# === Step 4: Classify Each File and Move ===\n",
    "\n",
    "valid_categories = {\"chats\", \"images\", \"other\"}\n",
    "results_log = []\n",
    "\n",
    "for file_name, content in tqdm(file_data, desc=\"Classifying files\"):\n",
    "    if not content:\n",
    "        continue\n",
    "\n",
    "    try:\n",
    "        response = chain.run(content=content).strip().lower()\n",
    "        lines = response.splitlines()\n",
    "\n",
    "        category = next((line.replace(\"category:\", \"\").strip() for line in lines if line.startswith(\"category:\")), \"\")\n",
    "        confidence = next((line.replace(\"confidence:\", \"\").strip() for line in lines if line.startswith(\"confidence:\")), \"\")\n",
    "\n",
    "        if category not in valid_categories:\n",
    "            category = \"other\"\n",
    "\n",
    "        # Destination folder *within* the md_dir\n",
    "        category_path = os.path.join(md_dir, category)\n",
    "        os.makedirs(category_path, exist_ok=True)\n",
    "\n",
    "        # Move file into category folder\n",
    "        src_path = os.path.join(md_dir, file_name)\n",
    "        dst_path = os.path.join(category_path, file_name)\n",
    "\n",
    "        if os.path.exists(src_path):\n",
    "            shutil.move(src_path, dst_path)\n",
    "\n",
    "        results_log.append({\n",
    "            \"file\": file_name,\n",
    "            \"category\": category,\n",
    "            \"confidence\": confidence\n",
    "        })\n",
    "\n",
    "    except Exception as e:\n",
    "        print(f\"Failed to process {file_name}: {e}\")\n",
    "\n",
    "# === Optional: Save results to file ===\n",
    "\n",
    "# import json\n",
    "# with open(\"classification_results.json\", \"w\", encoding=\"utf-8\") as f:\n",
    "#     json.dump(results_log, f, indent=2)\n",
    "\n",
    "# import csv\n",
    "# with open(\"classification_results.csv\", \"w\", newline=\"\", encoding=\"utf-8\") as f:\n",
    "#     writer = csv.DictWriter(f, fieldnames=[\"file\", \"category\", \"confidence\"])\n",
    "#     writer.writeheader()\n",
    "#     writer.writerows(results_log)"
   ]
  },
  {
   "cell_type": "markdown",
   "id": "57fe507e",
   "metadata": {
    "user_expressions": []
   },
   "source": [
    "# **Stage 2: LLM-Based Categorization and File Organization by Description**"
   ]
  },
  {
   "cell_type": "code",
   "execution_count": 12,
   "id": "29857281",
   "metadata": {
    "vscode": {
     "languageId": "shellscript"
    }
   },
   "outputs": [],
   "source": [
    "# import os\n",
    "# import shutil\n",
    "# from langchain.prompts import PromptTemplate\n",
    "# from langchain.chains import LLMChain\n",
    "# from langchain.llms import Ollama\n",
    "# from tqdm import tqdm\n",
    "\n",
    "# # Initialize second LLM\n",
    "# llm2 = Ollama(model=\"taozhiyuai/llama-3-refueled:q4_k_m\")\n",
    "\n",
    "# # Prompt for classification based on description\n",
    "# prompt_template_stage2 = PromptTemplate(\n",
    "#     input_variables=[\"description\"],\n",
    "#     template=\"\"\"\n",
    "# You are a strict content classifier.\n",
    "\n",
    "# Given the following short description of a Markdown (.md) file:\n",
    "\n",
    "# \\\"\\\"\\\"\n",
    "# {description}\n",
    "# \\\"\\\"\\\"\n",
    "\n",
    "# Classify the content into one of these categories only:\n",
    "# - chats\n",
    "# - images\n",
    "# - other\n",
    "\n",
    "# Return only one of those three exact words (in lowercase). Do not use synonyms or explanations. Do not make up new categories.\n",
    "# \"\"\"\n",
    "# )\n",
    "\n",
    "# # Set up LangChain chain\n",
    "# chain2 = LLMChain(llm=llm2, prompt=prompt_template_stage2)\n",
    "\n",
    "# # Directories\n",
    "# original_dir = \"I-Soon-data/md\"\n",
    "# filtered_dir = \"Filtered-markdowns\"\n",
    "# os.makedirs(filtered_dir, exist_ok=True)\n",
    "\n",
    "# # Allowed categories\n",
    "# valid_categories = {\"chats\", \"images\", \"other\"}\n",
    "\n",
    "# # Reclassify and copy files\n",
    "# for file_name, description in tqdm(results.items()):\n",
    "#     try:\n",
    "#         category = chain2.run(description=description).strip().lower()\n",
    "#         if category not in valid_categories:\n",
    "#             category = \"other\"  # fallback to default\n",
    "\n",
    "#         # Create destination folder\n",
    "#         category_path = os.path.join(filtered_dir, category)\n",
    "#         os.makedirs(category_path, exist_ok=True)\n",
    "\n",
    "#         # Copy the file\n",
    "#         src_path = os.path.join(original_dir, file_name)\n",
    "#         dst_path = os.path.join(category_path, file_name)\n",
    "\n",
    "#         if os.path.exists(src_path):\n",
    "#             shutil.copy2(src_path, dst_path)\n",
    "\n",
    "#     except Exception as e:\n",
    "#         print(f\"Failed to classify or copy {file_name}: {e}\")"
   ]
  },
  {
   "cell_type": "markdown",
   "id": "08c72754",
   "metadata": {
    "user_expressions": []
   },
   "source": [
    "# **Finding connetions between the MD files - reduced size due to performance issues**"
   ]
  },
  {
   "cell_type": "markdown",
   "id": "c65d0463",
   "metadata": {
    "user_expressions": []
   },
   "source": [
    "Idea: Have the LLM search the markdown files and look for any files linked outside the chats."
   ]
  },
  {
   "cell_type": "markdown",
   "id": "cf991dca",
   "metadata": {
    "user_expressions": []
   },
   "source": [
    "# *RegEx based identification of linked files within the chat*"
   ]
  },
  {
   "cell_type": "code",
   "execution_count": 13,
   "id": "ff0e93fe",
   "metadata": {
    "vscode": {
     "languageId": "shellscript"
    }
   },
   "outputs": [
    {
     "name": "stdout",
     "output_type": "stream",
     "text": [
      "🔍 LLM-generated file extensions list:\n",
      "['mdb', 'xlsb', 'xlsm', 'xlsx', 'xltx', 'xltm', 'pptm', 'pptx', 'sldm', 'sldx', 'docm', 'docx', 'dotx', 'odp', 'ods', 'odt', 'mp4', 'avi', 'flv', 'mov', 'wmv', 'jpg', 'jpeg', 'png', 'gif', 'bmp', 'tif', 'tiff', 'txt', 'csv', 'json', 'xml', 'ini', 'config', 'db', 'sqlite3', 'mdb', 'accdb', 'mdf', 'dbf', 'dwg', 'dxf', 'doc', 'xls', 'ppt', 'rar', 'zip', '7z', 'tar', 'gz', 'bz2', 'xz', 'lzma', 'sql', 'dat', 'log', 'tmp', 'bak', 'cfg', 'conf', 'key']\n",
      "\n",
      "📄 Extracted filenames from chats:\n",
      "1.md:\n",
      "  - 安洵项目-投资意向书-200730.DOCX\n",
      "  - 课程表2020_西安_内版.docx\n",
      "  - c404_indictment_0.docx\n",
      "  - wong_indictment_redacted_0.docx\n",
      "  - zhr_indictment_redacted_0.docx\n",
      "  - 产教融合建设项目申报书20201028.docx\n",
      "  - tpyrced_打击整治涉网犯罪技术服务合同0201-大理.docx\n",
      "  - 个人简历表-徐子译.docx\n",
      "  - 太极公司基本情况介绍20210809.pptx\n",
      "  - 20220110.doc\n",
      "  - 市场对外2022-海南安洵.pptx\n",
      "  - 前端销售反馈问题.doc\n",
      "  - 销售体系队伍调整方案.docx\n",
      "19.md:\n",
      "  - 6848748d-2881-4c26-b153-fcd5373d2f1c.png\n",
      "  - 0-6848748d-2881-4c26-b153-fcd5373d2f1c.png\n",
      "4.md:\n",
      "  - 330f554f-a3e6-4bd3-8b1b-d5949e1f30e8.png\n",
      "  - 0-330f554f-a3e6-4bd3-8b1b-d5949e1f30e8.png\n",
      "  - dd5b6a38-dc17-4122-a242-32006b381b3a.png\n",
      "  - 0-dd5b6a38-dc17-4122-a242-32006b381b3a.png\n",
      "  - 62ff30cf-de5f-4388-82aa-b69b0fd0f07c.png\n",
      "  - 0-62ff30cf-de5f-4388-82aa-b69b0fd0f07c.png\n",
      "  - 越南人民公安电视ANTV.docx\n",
      "  - f41b7574-57b4-4c9f-907c-2a3c48a56157.png\n",
      "  - 0-f41b7574-57b4-4c9f-907c-2a3c48a56157.png\n",
      "  - bcad4fdf-3771-4873-92fa-23240654118a.png\n",
      "  - 0-bcad4fdf-3771-4873-92fa-23240654118a.png\n",
      "  - fc27ce32-9c96-416c-9c38-84977255e0ba.png\n",
      "  - 0-fc27ce32-9c96-416c-9c38-84977255e0ba.png\n",
      "22.md:\n",
      "  - b0a4acaa-d768-4f6d-8e54-6d20f271bb7c.png\n",
      "  - 0-b0a4acaa-d768-4f6d-8e54-6d20f271bb7c.png\n",
      "  - 493542fc-495f-4756-8451-c4ed084d8bf7.png\n",
      "  - 0-493542fc-495f-4756-8451-c4ed084d8bf7.png\n",
      "26.md:\n",
      "  - 前端销售反馈问题.doc\n",
      "  - 前端销售反馈问题.doc\n",
      "36.md:\n",
      "  - 手机购彩分析简报.docx\n",
      "13.md:\n",
      "  - 987ba39a-cc1c-4367-8d6d-f5a49a940198.png\n",
      "  - 0-987ba39a-cc1c-4367-8d6d-f5a49a940198.png\n",
      "  - adaf869e-920a-4a17-91bd-e2ef3125c10e.png\n",
      "  - 0-adaf869e-920a-4a17-91bd-e2ef3125c10e.png\n",
      "  - 5ae9bdca-fdf9-4948-8c11-a9e400b331aa.png\n",
      "  - 0-5ae9bdca-fdf9-4948-8c11-a9e400b331aa.png\n",
      "  - 1b0dc208-d2bb-43ea-b744-534f3b759394.png\n",
      "  - 0-1b0dc208-d2bb-43ea-b744-534f3b759394.png\n",
      "  - 3556e54c-d418-447d-bb2a-43ac0408cc7a.png\n",
      "  - 0-3556e54c-d418-447d-bb2a-43ac0408cc7a.png\n",
      "37.md:\n",
      "  - 太极公司基本情况介绍20210809.pptx\n",
      "23.md:\n",
      "  - 微软邮件密取平台.7z\n",
      "24.md:\n",
      "  - 96af60b3-299c-4e26-bca3-d9eb3e113b94.png\n",
      "  - 0-96af60b3-299c-4e26-bca3-d9eb3e113b94.png\n",
      "  - fcf90a92-794c-40c6-aa4f-8ea82f8bed51.png\n",
      "  - 0-fcf90a92-794c-40c6-aa4f-8ea82f8bed51.png\n",
      "  - 1afcf93d-50f1-4f1e-896d-87b0da7519f7.png\n",
      "  - 0-1afcf93d-50f1-4f1e-896d-87b0da7519f7.png\n",
      "  - fe221e78-67e4-4d88-b73d-e58a9943a036.png\n",
      "  - 0-fe221e78-67e4-4d88-b73d-e58a9943a036.png\n",
      "41.md:\n",
      "  - 恩佐娱乐-14.2E-220726.docx\n",
      "10.md:\n",
      "  - e705d192-90ee-4fd1-9dcd-061958d1817f.png\n",
      "  - 0-e705d192-90ee-4fd1-9dcd-061958d1817f.png\n",
      "  - 5a84cde3-7175-4044-8c88-d4c883a8fd38.png\n",
      "  - 0-5a84cde3-7175-4044-8c88-d4c883a8fd38.png\n",
      "  - 4ea07c23-a1a6-411b-bcfb-552d095b66c9.png\n",
      "  - 0-4ea07c23-a1a6-411b-bcfb-552d095b66c9.png\n",
      "  - 79d9b7f2-cfe4-4615-9b75-8fea33fc0c9d.png\n",
      "  - 0-79d9b7f2-cfe4-4615-9b75-8fea33fc0c9d.png\n",
      "  - 6bcc0131-e4ad-421e-bb1f-d8ebe5eeec7b.png\n",
      "  - 0-6bcc0131-e4ad-421e-bb1f-d8ebe5eeec7b.png\n",
      "9.md:\n",
      "  - 32eb7662-f212-4811-a7c1-1cfeb121cd99.png\n",
      "  - 0-32eb7662-f212-4811-a7c1-1cfeb121cd99.png\n",
      "  - 5d4e3e02-1dfc-469e-8af9-8dbe2b9f1564.png\n",
      "  - 0-5d4e3e02-1dfc-469e-8af9-8dbe2b9f1564.png\n",
      "  - 70c63791-2797-4bf0-a778-ea08819aa9de.png\n",
      "  - 0-70c63791-2797-4bf0-a778-ea08819aa9de.png\n",
      "  - 0baba509-5e81-4b88-b509-843822d09e21.png\n",
      "  - 0-0baba509-5e81-4b88-b509-843822d09e21.png\n",
      "  - 129ac70f-8942-4ca7-b1f2-ddeaa3d984b5.png\n",
      "  - 0-129ac70f-8942-4ca7-b1f2-ddeaa3d984b5.png\n",
      "  - b9d9c584-5e21-4a49-952b-ffecca4eb91e.png\n",
      "  - 0-b9d9c584-5e21-4a49-952b-ffecca4eb91e.png\n",
      "  - ee47dfea-2626-4107-8ab3-4663167e0493.png\n",
      "  - 0-ee47dfea-2626-4107-8ab3-4663167e0493.png\n",
      "  - aa99f763-6849-4f6b-adf2-58f0cc2ed545.png\n",
      "  - 0-aa99f763-6849-4f6b-adf2-58f0cc2ed545.png\n",
      "  - b6eb1b15-cf99-475c-921f-f06e5c1019d4.png\n",
      "  - 0-b6eb1b15-cf99-475c-921f-f06e5c1019d4.png\n",
      "20.md:\n",
      "  - 785cc8c9-1225-4f93-b633-349bc5113512.png\n",
      "  - 0-785cc8c9-1225-4f93-b633-349bc5113512.png\n",
      "  - af93eff8-2973-4746-9041-b2223016b117.png\n",
      "  - 0-af93eff8-2973-4746-9041-b2223016b117.png\n",
      "  - b3ce4d51-6024-4b43-b0d2-d3faaf3c2879.png\n",
      "  - 0-b3ce4d51-6024-4b43-b0d2-d3faaf3c2879.png\n",
      "  - f313f521-80a1-4db5-a8a7-53d29ee09890.png\n",
      "  - 0-f313f521-80a1-4db5-a8a7-53d29ee09890.png\n",
      "15.md:\n",
      "  - 20211103-1.txt\n",
      "  - b8cea3b1-4dde-4438-9b1a-6faf690bbad0.png\n",
      "  - 0-b8cea3b1-4dde-4438-9b1a-6faf690bbad0.png\n",
      "21.md:\n",
      "  - 9c8c9989-2293-4e68-9ffe-6f7a5f14562f.png\n",
      "  - 0-9c8c9989-2293-4e68-9ffe-6f7a5f14562f.png\n",
      "11.md:\n",
      "  - 2bankinfo-5.zip\n",
      "7.md:\n",
      "  - 94b16e53-f035-4aa9-a76e-80bc6e936d10.png\n",
      "  - 0-94b16e53-f035-4aa9-a76e-80bc6e936d10.png\n",
      "  - 645dfc97-3268-4e1d-920d-4138545456fa.png\n",
      "  - 0-645dfc97-3268-4e1d-920d-4138545456fa.png\n",
      "  - 1cc570d8-cddb-401e-8c37-ef10c0e4841f.png\n",
      "  - 0-1cc570d8-cddb-401e-8c37-ef10c0e4841f.png\n",
      "2.md:\n",
      "  - 9a8077f5-ac41-491f-b192-6b4609324bda.png\n",
      "  - 0-9a8077f5-ac41-491f-b192-6b4609324bda.png\n",
      "  - de359f8d-0745-4a93-959a-d1a6c361e326.png\n",
      "  - 0-de359f8d-0745-4a93-959a-d1a6c361e326.png\n",
      "  - 383d824e-7588-4a92-84b7-fd953dd91cba.png\n",
      "  - 0-383d824e-7588-4a92-84b7-fd953dd91cba.png\n",
      "  - f0ce8a7b-909d-4fc5-ba13-ea66b2dc6448.png\n",
      "  - 0-f0ce8a7b-909d-4fc5-ba13-ea66b2dc6448.png\n",
      "  - b8b76b6d-a50e-4246-82ee-3c8a5dcd523e.png\n",
      "  - 0-b8b76b6d-a50e-4246-82ee-3c8a5dcd523e.png\n",
      "  - 4c74b697-0681-4223-9982-5ffaf4e98ed0.png\n",
      "  - 0-4c74b697-0681-4223-9982-5ffaf4e98ed0.png\n",
      "  - 300450bf-221e-4eeb-bdda-dc1115c947ea.png\n",
      "  - 0-300450bf-221e-4eeb-bdda-dc1115c947ea.png\n",
      "  - 0f319bf6-e667-4bac-a974-dfda1142e9ff.png\n",
      "  - 0-0f319bf6-e667-4bac-a974-dfda1142e9ff.png\n",
      "  - 1a20ded1-50fc-4153-9a95-e158eeb7199e.png\n",
      "  - 0-1a20ded1-50fc-4153-9a95-e158eeb7199e.png\n",
      "  - 5ef1d666-e19d-4570-b800-6693a4f680ee.png\n",
      "  - 0-5ef1d666-e19d-4570-b800-6693a4f680ee.png\n",
      "  - e07a9457-86f1-4f0f-86d7-8ea816b8d8d3.png\n",
      "  - 0-e07a9457-86f1-4f0f-86d7-8ea816b8d8d3.png\n",
      "  - 08a6bcd3-6477-4252-8f35-4f8f80d114f9.png\n",
      "  - 0-08a6bcd3-6477-4252-8f35-4f8f80d114f9.png\n",
      "  - 7150f512-e7a2-4f2c-86bc-58b671b25ba9.png\n",
      "  - 0-7150f512-e7a2-4f2c-86bc-58b671b25ba9.png\n",
      "  - 62583414-9e32-4d09-8989-b5fa32a98a81.png\n",
      "  - 0-62583414-9e32-4d09-8989-b5fa32a98a81.png\n",
      "  - 4ae9bf34-c16c-4684-aa92-fec65a151275.png\n",
      "  - 0-4ae9bf34-c16c-4684-aa92-fec65a151275.png\n",
      "  - c5f1d959-39d1-4176-9cb1-1fb6e8baedc3.png\n",
      "  - 0-c5f1d959-39d1-4176-9cb1-1fb6e8baedc3.png\n",
      "  - 6e9aced1-df28-4e57-b7c8-641609ff4450.png\n",
      "  - 0-6e9aced1-df28-4e57-b7c8-641609ff4450.png\n",
      "  - 6cbb3eeb-17e9-4af6-8da1-36eb6437f7bc.png\n",
      "  - 0-6cbb3eeb-17e9-4af6-8da1-36eb6437f7bc.png\n"
     ]
    }
   ],
   "source": [
    "import os\n",
    "import re\n",
    "import ast\n",
    "from langchain.llms import Ollama\n",
    "from langchain.prompts import PromptTemplate\n",
    "from langchain.chains import LLMChain\n",
    "\n",
    "# Step 1: Initialize LLM\n",
    "llm2 = Ollama(model=\"llama3.1:8b\")\n",
    "\n",
    "# Step 2: Define the prompt template\n",
    "prompt_template_file_types = PromptTemplate(\n",
    "    input_variables=[\"content\"],\n",
    "    template=\"\"\"\n",
    "List the top 50 file extensions most commonly found in cybersecurity leaked data, including data from breaches, ransomware leaks, and dark web dumps. THINK LIKE A CYBERSECURITY EXPERT.\n",
    "Focus on file types that typically contain credentials, configurations, databases, personal data, internal documentation, archives, or images (e.g., screenshots of sensitive material). \n",
    "\n",
    "OUTPUT INSTRUCTIONS:\n",
    "ONLY OUTPUT the extensions as a clean Python list format, like [<'file_extension'>, <'file_extension'>, etc.] \n",
    "Don't include \".\" and ALWAYS use \"'\" in the list. \n",
    "Do not include any explanations, comments, or extra text. \n",
    "JUST GIVE THE LIST.\n",
    "\"\"\"\n",
    ")\n",
    "\n",
    "# Step 3: Run the chain to get extensions\n",
    "chain = LLMChain(llm=llm2, prompt=prompt_template_file_types)\n",
    "llm_response = chain.run(content=\"\")\n",
    "\n",
    "# Step 4: Print the LLM output\n",
    "print(\"🔍 LLM-generated file extensions list:\")\n",
    "print(llm_response)\n",
    "\n",
    "# Step 5: Parse LLM response into a Python list\n",
    "try:\n",
    "    # Extract only the list portion using regex\n",
    "    match = re.search(r\"\\[(.*?)\\]\", llm_response, re.DOTALL)\n",
    "    if match:\n",
    "        list_str = \"[\" + match.group(1) + \"]\"\n",
    "        common_extensions = ast.literal_eval(list_str)\n",
    "    else:\n",
    "        raise ValueError(\"❌ No list found in LLM response.\")\n",
    "except Exception as e:\n",
    "    raise ValueError(\"❌ Failed to parse LLM response into a list.\") from e\n",
    "\n",
    "# Step 6: Build dynamic regex\n",
    "ext_pattern = '|'.join(common_extensions)\n",
    "file_pattern = re.compile(r'[\\w\\-/\\.]{8,}\\.(?:' + ext_pattern + r')', re.IGNORECASE)\n",
    "\n",
    "# Step 7: Define chats path and extract files\n",
    "chats_path = 'I-Soon-data/md/chats'\n",
    "extracted_files_from_chats = {}\n",
    "\n",
    "for filename in os.listdir(chats_path):\n",
    "    if filename.endswith('.md'):\n",
    "        full_path = os.path.join(chats_path, filename)\n",
    "        with open(full_path, 'r', encoding='utf-8') as file:\n",
    "            content = file.read()\n",
    "            matches = file_pattern.findall(content)\n",
    "            if matches:\n",
    "                extracted_files_from_chats[filename] = matches\n",
    "\n",
    "# Step 8: Display results\n",
    "print(\"\\n📄 Extracted filenames from chats:\")\n",
    "for chat, files in extracted_files_from_chats.items():\n",
    "    print(f\"{chat}:\")\n",
    "    for f in files:\n",
    "        print(f\"  - {f}\")"
   ]
  },
  {
   "cell_type": "markdown",
   "id": "b4106970-b30f-464e-96ce-4f787d3d2722",
   "metadata": {
    "tags": [],
    "user_expressions": []
   },
   "source": [
    "# *Search which files are in the leaked data with Threads*"
   ]
  },
  {
   "cell_type": "code",
   "execution_count": 4,
   "id": "a73d6162",
   "metadata": {
    "tags": [],
    "vscode": {
     "languageId": "shellscript"
    }
   },
   "outputs": [
    {
     "name": "stderr",
     "output_type": "stream",
     "text": [
      "🔍 Processing:   0%|                                                        | 0/449 [00:00<?, ?it/s]"
     ]
    },
    {
     "name": "stdout",
     "output_type": "stream",
     "text": [
      "\n",
      "🚀 Starting with 2 threads on 449 lines...\n",
      "\n"
     ]
    },
    {
     "name": "stderr",
     "output_type": "stream",
     "text": [
      "🔍 Processing:   0%|                                            | 1/449 [01:49<13:39:46, 109.79s/it]"
     ]
    },
    {
     "name": "stdout",
     "output_type": "stream",
     "text": [
      "[Thread-139673477314112] ✅ Line 2 done in 109.78s | Matches: 0\n"
     ]
    },
    {
     "name": "stderr",
     "output_type": "stream",
     "text": [
      "🔍 Processing:   0%|▏                                             | 2/449 [01:50<5:39:49, 45.61s/it]"
     ]
    },
    {
     "name": "stdout",
     "output_type": "stream",
     "text": [
      "[Thread-139673895675456] ✅ Line 1 done in 110.48s | Matches: 0\n"
     ]
    },
    {
     "name": "stderr",
     "output_type": "stream",
     "text": [
      "🔍 Processing:   1%|▎                                             | 3/449 [02:03<3:49:35, 30.89s/it]"
     ]
    },
    {
     "name": "stdout",
     "output_type": "stream",
     "text": [
      "[Thread-139673477314112] ✅ Line 3 done in 14.05s | Matches: 0\n"
     ]
    },
    {
     "name": "stderr",
     "output_type": "stream",
     "text": [
      "🔍 Processing:   1%|▍                                             | 4/449 [02:04<2:20:36, 18.96s/it]"
     ]
    },
    {
     "name": "stdout",
     "output_type": "stream",
     "text": [
      "[Thread-139673895675456] ✅ Line 4 done in 14.03s | Matches: 0\n"
     ]
    },
    {
     "name": "stderr",
     "output_type": "stream",
     "text": [
      "🔍 Processing:   1%|▌                                             | 5/449 [02:18<2:06:23, 17.08s/it]"
     ]
    },
    {
     "name": "stdout",
     "output_type": "stream",
     "text": [
      "[Thread-139673477314112] ✅ Line 5 done in 14.42s | Matches: 0\n"
     ]
    },
    {
     "name": "stderr",
     "output_type": "stream",
     "text": [
      "🔍 Processing:   1%|▌                                             | 6/449 [02:18<1:24:56, 11.50s/it]"
     ]
    },
    {
     "name": "stdout",
     "output_type": "stream",
     "text": [
      "[Thread-139673895675456] ✅ Line 6 done in 14.43s | Matches: 0\n"
     ]
    },
    {
     "name": "stderr",
     "output_type": "stream",
     "text": [
      "🔍 Processing:   2%|▋                                             | 7/449 [02:34<1:34:18, 12.80s/it]"
     ]
    },
    {
     "name": "stdout",
     "output_type": "stream",
     "text": [
      "[Thread-139673477314112] ✅ Line 7 done in 16.16s | Matches: 0\n"
     ]
    },
    {
     "name": "stderr",
     "output_type": "stream",
     "text": [
      "🔍 Processing:   2%|▊                                             | 8/449 [02:35<1:05:43,  8.94s/it]"
     ]
    },
    {
     "name": "stdout",
     "output_type": "stream",
     "text": [
      "[Thread-139673895675456] ✅ Line 8 done in 16.15s | Matches: 0\n"
     ]
    },
    {
     "name": "stderr",
     "output_type": "stream",
     "text": [
      "🔍 Processing:   2%|▉                                             | 9/449 [02:50<1:21:27, 11.11s/it]"
     ]
    },
    {
     "name": "stdout",
     "output_type": "stream",
     "text": [
      "[Thread-139673477314112] ✅ Line 9 done in 16.54s | Matches: 0\n"
     ]
    },
    {
     "name": "stderr",
     "output_type": "stream",
     "text": [
      "🔍 Processing:   2%|█                                              | 10/449 [02:51<57:42,  7.89s/it]"
     ]
    },
    {
     "name": "stdout",
     "output_type": "stream",
     "text": [
      "[Thread-139673895675456] ✅ Line 10 done in 16.54s | Matches: 0\n"
     ]
    },
    {
     "name": "stderr",
     "output_type": "stream",
     "text": [
      "🔍 Processing:   2%|█                                            | 11/449 [03:05<1:10:39,  9.68s/it]"
     ]
    },
    {
     "name": "stdout",
     "output_type": "stream",
     "text": [
      "[Thread-139673477314112] ✅ Line 11 done in 14.42s | Matches: 0\n"
     ]
    },
    {
     "name": "stderr",
     "output_type": "stream",
     "text": [
      "🔍 Processing:   3%|█▎                                             | 12/449 [03:06<50:33,  6.94s/it]"
     ]
    },
    {
     "name": "stdout",
     "output_type": "stream",
     "text": [
      "[Thread-139673895675456] ✅ Line 12 done in 14.42s | Matches: 0\n"
     ]
    },
    {
     "name": "stderr",
     "output_type": "stream",
     "text": [
      "🔍 Processing:   3%|█▎                                           | 13/449 [03:20<1:07:10,  9.24s/it]"
     ]
    },
    {
     "name": "stdout",
     "output_type": "stream",
     "text": [
      "[Thread-139673477314112] ✅ Line 13 done in 15.22s | Matches: 0\n"
     ]
    },
    {
     "name": "stderr",
     "output_type": "stream",
     "text": [
      "🔍 Processing:   3%|█▍                                             | 14/449 [03:22<50:55,  7.02s/it]"
     ]
    },
    {
     "name": "stdout",
     "output_type": "stream",
     "text": [
      "[Thread-139673895675456] ✅ Line 14 done in 16.44s | Matches: 0\n"
     ]
    },
    {
     "name": "stderr",
     "output_type": "stream",
     "text": [
      "🔍 Processing:   3%|█▌                                           | 15/449 [03:37<1:07:19,  9.31s/it]"
     ]
    },
    {
     "name": "stdout",
     "output_type": "stream",
     "text": [
      "[Thread-139673477314112] ✅ Line 15 done in 16.49s | Matches: 0\n"
     ]
    },
    {
     "name": "stderr",
     "output_type": "stream",
     "text": [
      "🔍 Processing:   4%|█▋                                             | 16/449 [03:37<48:24,  6.71s/it]"
     ]
    },
    {
     "name": "stdout",
     "output_type": "stream",
     "text": [
      "[Thread-139673895675456] ✅ Line 16 done in 15.27s | Matches: 0\n"
     ]
    },
    {
     "name": "stderr",
     "output_type": "stream",
     "text": [
      "🔍 Processing:   4%|█▋                                           | 17/449 [03:51<1:04:31,  8.96s/it]"
     ]
    },
    {
     "name": "stdout",
     "output_type": "stream",
     "text": [
      "[Thread-139673477314112] ✅ Line 17 done in 14.87s | Matches: 0\n"
     ]
    },
    {
     "name": "stderr",
     "output_type": "stream",
     "text": [
      "🔍 Processing:   4%|█▉                                             | 18/449 [03:52<46:28,  6.47s/it]"
     ]
    },
    {
     "name": "stdout",
     "output_type": "stream",
     "text": [
      "[Thread-139673895675456] ✅ Line 18 done in 14.87s | Matches: 0\n"
     ]
    },
    {
     "name": "stderr",
     "output_type": "stream",
     "text": [
      "🔍 Processing:   4%|█▉                                           | 19/449 [04:06<1:01:14,  8.54s/it]"
     ]
    },
    {
     "name": "stdout",
     "output_type": "stream",
     "text": [
      "[Thread-139673477314112] ✅ Line 19 done in 14.05s | Matches: 0\n"
     ]
    },
    {
     "name": "stderr",
     "output_type": "stream",
     "text": [
      "🔍 Processing:   4%|██                                             | 20/449 [04:06<44:13,  6.18s/it]"
     ]
    },
    {
     "name": "stdout",
     "output_type": "stream",
     "text": [
      "[Thread-139673895675456] ✅ Line 20 done in 14.06s | Matches: 0\n"
     ]
    },
    {
     "name": "stderr",
     "output_type": "stream",
     "text": [
      "🔍 Processing:   5%|██▎                                            | 22/449 [04:20<55:06,  7.74s/it]"
     ]
    },
    {
     "name": "stdout",
     "output_type": "stream",
     "text": [
      "[Thread-139673477314112] ✅ Line 21 done in 14.48s | Matches: 0\n",
      "[Thread-139673895675456] ✅ Line 22 done in 13.80s | Matches: 0\n"
     ]
    },
    {
     "name": "stderr",
     "output_type": "stream",
     "text": [
      "🔍 Processing:   5%|██▎                                          | 23/449 [04:33<1:04:16,  9.05s/it]"
     ]
    },
    {
     "name": "stdout",
     "output_type": "stream",
     "text": [
      "[Thread-139673477314112] ✅ Line 23 done in 13.02s | Matches: 0\n"
     ]
    },
    {
     "name": "stderr",
     "output_type": "stream",
     "text": [
      "🔍 Processing:   5%|██▌                                            | 24/449 [04:34<48:37,  6.86s/it]"
     ]
    },
    {
     "name": "stdout",
     "output_type": "stream",
     "text": [
      "[Thread-139673895675456] ✅ Line 24 done in 13.70s | Matches: 0\n"
     ]
    },
    {
     "name": "stderr",
     "output_type": "stream",
     "text": [
      "🔍 Processing:   6%|██▌                                          | 25/449 [04:49<1:04:36,  9.14s/it]"
     ]
    },
    {
     "name": "stdout",
     "output_type": "stream",
     "text": [
      "[Thread-139673477314112] ✅ Line 25 done in 15.92s | Matches: 0\n"
     ]
    },
    {
     "name": "stderr",
     "output_type": "stream",
     "text": [
      "🔍 Processing:   6%|██▋                                            | 26/449 [04:50<47:46,  6.78s/it]"
     ]
    },
    {
     "name": "stdout",
     "output_type": "stream",
     "text": [
      "[Thread-139673895675456] ✅ Line 26 done in 15.93s | Matches: 0\n"
     ]
    },
    {
     "name": "stderr",
     "output_type": "stream",
     "text": [
      "🔍 Processing:   6%|██▋                                          | 27/449 [05:13<1:20:23, 11.43s/it]"
     ]
    },
    {
     "name": "stdout",
     "output_type": "stream",
     "text": [
      "[Thread-139673477314112] ✅ Line 27 done in 23.76s | Matches: 0\n"
     ]
    },
    {
     "name": "stderr",
     "output_type": "stream",
     "text": [
      "🔍 Processing:   6%|██▊                                          | 28/449 [05:19<1:08:49,  9.81s/it]"
     ]
    },
    {
     "name": "stdout",
     "output_type": "stream",
     "text": [
      "[Thread-139673895675456] ✅ Line 28 done in 28.90s | Matches: 0\n"
     ]
    },
    {
     "name": "stderr",
     "output_type": "stream",
     "text": [
      "🔍 Processing:   6%|██▉                                          | 29/449 [05:29<1:09:35,  9.94s/it]"
     ]
    },
    {
     "name": "stdout",
     "output_type": "stream",
     "text": [
      "[Thread-139673477314112] ✅ Line 29 done in 16.09s | Matches: 0\n"
     ]
    },
    {
     "name": "stderr",
     "output_type": "stream",
     "text": [
      "🔍 Processing:   7%|███                                          | 30/449 [05:37<1:05:35,  9.39s/it]"
     ]
    },
    {
     "name": "stdout",
     "output_type": "stream",
     "text": [
      "[Thread-139673895675456] ✅ Line 30 done in 18.35s | Matches: 0\n"
     ]
    },
    {
     "name": "stderr",
     "output_type": "stream",
     "text": [
      "🔍 Processing:   7%|███                                          | 31/449 [05:57<1:27:04, 12.50s/it]"
     ]
    },
    {
     "name": "stdout",
     "output_type": "stream",
     "text": [
      "[Thread-139673477314112] ✅ Line 31 done in 27.95s | Matches: 0\n"
     ]
    },
    {
     "name": "stderr",
     "output_type": "stream",
     "text": [
      "🔍 Processing:   7%|███▏                                         | 32/449 [06:01<1:10:28, 10.14s/it]"
     ]
    },
    {
     "name": "stdout",
     "output_type": "stream",
     "text": [
      "[Thread-139673895675456] ✅ Line 32 done in 24.44s | Matches: 0\n"
     ]
    },
    {
     "name": "stderr",
     "output_type": "stream",
     "text": [
      "🔍 Processing:   7%|███▎                                         | 33/449 [06:11<1:10:18, 10.14s/it]"
     ]
    },
    {
     "name": "stdout",
     "output_type": "stream",
     "text": [
      "[Thread-139673477314112] ✅ Line 33 done in 14.71s | Matches: 0\n"
     ]
    },
    {
     "name": "stderr",
     "output_type": "stream",
     "text": [
      "🔍 Processing:   8%|███▌                                           | 34/449 [06:15<55:42,  8.05s/it]"
     ]
    },
    {
     "name": "stdout",
     "output_type": "stream",
     "text": [
      "[Thread-139673895675456] ✅ Line 34 done in 13.30s | Matches: 0\n"
     ]
    },
    {
     "name": "stderr",
     "output_type": "stream",
     "text": [
      "🔍 Processing:   8%|███▋                                           | 35/449 [06:24<57:19,  8.31s/it]"
     ]
    },
    {
     "name": "stdout",
     "output_type": "stream",
     "text": [
      "[Thread-139673477314112] ✅ Line 35 done in 12.06s | Matches: 0\n"
     ]
    },
    {
     "name": "stderr",
     "output_type": "stream",
     "text": [
      "🔍 Processing:   8%|███▊                                           | 36/449 [06:27<46:32,  6.76s/it]"
     ]
    },
    {
     "name": "stdout",
     "output_type": "stream",
     "text": [
      "[Thread-139673895675456] ✅ Line 36 done in 12.04s | Matches: 0\n"
     ]
    },
    {
     "name": "stderr",
     "output_type": "stream",
     "text": [
      "🔍 Processing:   8%|███▊                                           | 37/449 [06:37<52:58,  7.72s/it]"
     ]
    },
    {
     "name": "stdout",
     "output_type": "stream",
     "text": [
      "[Thread-139673477314112] ✅ Line 37 done in 13.09s | Matches: 0\n"
     ]
    },
    {
     "name": "stderr",
     "output_type": "stream",
     "text": [
      "🔍 Processing:   8%|███▉                                           | 38/449 [06:40<44:20,  6.47s/it]"
     ]
    },
    {
     "name": "stdout",
     "output_type": "stream",
     "text": [
      "[Thread-139673895675456] ✅ Line 38 done in 13.52s | Matches: 0\n"
     ]
    },
    {
     "name": "stderr",
     "output_type": "stream",
     "text": [
      "🔍 Processing:   9%|████                                           | 39/449 [06:54<59:31,  8.71s/it]"
     ]
    },
    {
     "name": "stdout",
     "output_type": "stream",
     "text": [
      "[Thread-139673477314112] ✅ Line 39 done in 17.51s | Matches: 0\n"
     ]
    },
    {
     "name": "stderr",
     "output_type": "stream",
     "text": [
      "🔍 Processing:   9%|████                                         | 40/449 [07:21<1:37:09, 14.25s/it]"
     ]
    },
    {
     "name": "stdout",
     "output_type": "stream",
     "text": [
      "[Thread-139673895675456] ✅ Line 40 done in 41.13s | Matches: 2\n"
     ]
    },
    {
     "name": "stderr",
     "output_type": "stream",
     "text": [
      "🔍 Processing:   9%|████                                         | 41/449 [07:34<1:32:56, 13.67s/it]"
     ]
    },
    {
     "name": "stdout",
     "output_type": "stream",
     "text": [
      "[Thread-139673477314112] ✅ Line 41 done in 39.49s | Matches: 0\n"
     ]
    },
    {
     "name": "stderr",
     "output_type": "stream",
     "text": [
      "🔍 Processing:   9%|████▏                                        | 42/449 [07:39<1:14:54, 11.04s/it]"
     ]
    },
    {
     "name": "stdout",
     "output_type": "stream",
     "text": [
      "[Thread-139673895675456] ✅ Line 42 done in 17.22s | Matches: 0\n"
     ]
    },
    {
     "name": "stderr",
     "output_type": "stream",
     "text": [
      "🔍 Processing:  10%|████▎                                        | 43/449 [08:19<2:15:18, 20.00s/it]"
     ]
    },
    {
     "name": "stdout",
     "output_type": "stream",
     "text": [
      "[Thread-139673477314112] ✅ Line 43 done in 45.81s | Matches: 2\n"
     ]
    },
    {
     "name": "stderr",
     "output_type": "stream",
     "text": [
      "🔍 Processing:  10%|████▍                                        | 44/449 [08:24<1:44:33, 15.49s/it]"
     ]
    },
    {
     "name": "stdout",
     "output_type": "stream",
     "text": [
      "[Thread-139673895675456] ✅ Line 44 done in 45.86s | Matches: 0\n"
     ]
    },
    {
     "name": "stderr",
     "output_type": "stream",
     "text": [
      "🔍 Processing:  10%|████▌                                        | 45/449 [08:40<1:43:52, 15.43s/it]"
     ]
    },
    {
     "name": "stdout",
     "output_type": "stream",
     "text": [
      "[Thread-139673477314112] ✅ Line 45 done in 20.25s | Matches: 0\n"
     ]
    },
    {
     "name": "stderr",
     "output_type": "stream",
     "text": [
      "🔍 Processing:  10%|████▌                                        | 46/449 [09:15<2:23:22, 21.35s/it]"
     ]
    },
    {
     "name": "stdout",
     "output_type": "stream",
     "text": [
      "[Thread-139673895675456] ✅ Line 46 done in 50.44s | Matches: 2\n"
     ]
    },
    {
     "name": "stderr",
     "output_type": "stream",
     "text": [
      "🔍 Processing:  10%|████▋                                        | 47/449 [09:19<1:48:53, 16.25s/it]"
     ]
    },
    {
     "name": "stdout",
     "output_type": "stream",
     "text": [
      "[Thread-139673477314112] ✅ Line 47 done in 39.52s | Matches: 0\n"
     ]
    },
    {
     "name": "stderr",
     "output_type": "stream",
     "text": [
      "🔍 Processing:  11%|████▊                                        | 48/449 [09:30<1:38:28, 14.73s/it]"
     ]
    },
    {
     "name": "stdout",
     "output_type": "stream",
     "text": [
      "[Thread-139673895675456] ✅ Line 48 done in 15.56s | Matches: 0\n"
     ]
    },
    {
     "name": "stderr",
     "output_type": "stream",
     "text": [
      "🔍 Processing:  11%|████▉                                        | 49/449 [09:37<1:21:05, 12.16s/it]"
     ]
    },
    {
     "name": "stdout",
     "output_type": "stream",
     "text": [
      "[Thread-139673477314112] ✅ Line 49 done in 17.35s | Matches: 0\n"
     ]
    },
    {
     "name": "stderr",
     "output_type": "stream",
     "text": [
      "🔍 Processing:  11%|█████                                        | 50/449 [09:45<1:13:14, 11.01s/it]"
     ]
    },
    {
     "name": "stdout",
     "output_type": "stream",
     "text": [
      "[Thread-139673895675456] ✅ Line 50 done in 14.50s | Matches: 0\n"
     ]
    },
    {
     "name": "stderr",
     "output_type": "stream",
     "text": [
      "🔍 Processing:  11%|█████                                        | 51/449 [09:50<1:01:07,  9.22s/it]"
     ]
    },
    {
     "name": "stdout",
     "output_type": "stream",
     "text": [
      "[Thread-139673477314112] ✅ Line 51 done in 13.35s | Matches: 0\n"
     ]
    },
    {
     "name": "stderr",
     "output_type": "stream",
     "text": [
      "🔍 Processing:  12%|█████▏                                       | 52/449 [10:02<1:06:04,  9.99s/it]"
     ]
    },
    {
     "name": "stdout",
     "output_type": "stream",
     "text": [
      "[Thread-139673895675456] ✅ Line 52 done in 16.80s | Matches: 0\n"
     ]
    },
    {
     "name": "stderr",
     "output_type": "stream",
     "text": [
      "🔍 Processing:  12%|█████▌                                         | 53/449 [10:06<54:39,  8.28s/it]"
     ]
    },
    {
     "name": "stdout",
     "output_type": "stream",
     "text": [
      "[Thread-139673477314112] ✅ Line 53 done in 16.09s | Matches: 0\n"
     ]
    },
    {
     "name": "stderr",
     "output_type": "stream",
     "text": [
      "🔍 Processing:  12%|█████▋                                         | 54/449 [10:16<58:44,  8.92s/it]"
     ]
    },
    {
     "name": "stdout",
     "output_type": "stream",
     "text": [
      "[Thread-139673895675456] ✅ Line 54 done in 14.72s | Matches: 0\n"
     ]
    },
    {
     "name": "stderr",
     "output_type": "stream",
     "text": [
      "🔍 Processing:  12%|█████▊                                         | 55/449 [10:25<57:14,  8.72s/it]"
     ]
    },
    {
     "name": "stdout",
     "output_type": "stream",
     "text": [
      "[Thread-139673477314112] ✅ Line 55 done in 18.66s | Matches: 0\n"
     ]
    },
    {
     "name": "stderr",
     "output_type": "stream",
     "text": [
      "🔍 Processing:  12%|█████▊                                         | 56/449 [10:33<56:48,  8.67s/it]"
     ]
    },
    {
     "name": "stdout",
     "output_type": "stream",
     "text": [
      "[Thread-139673895675456] ✅ Line 56 done in 16.80s | Matches: 0\n"
     ]
    },
    {
     "name": "stderr",
     "output_type": "stream",
     "text": [
      "🔍 Processing:  13%|█████▉                                         | 57/449 [10:37<47:10,  7.22s/it]"
     ]
    },
    {
     "name": "stdout",
     "output_type": "stream",
     "text": [
      "[Thread-139673477314112] ✅ Line 57 done in 12.40s | Matches: 0\n"
     ]
    },
    {
     "name": "stderr",
     "output_type": "stream",
     "text": [
      "🔍 Processing:  13%|█████▊                                       | 58/449 [10:54<1:05:05,  9.99s/it]"
     ]
    },
    {
     "name": "stdout",
     "output_type": "stream",
     "text": [
      "[Thread-139673895675456] ✅ Line 58 done in 20.28s | Matches: 0\n"
     ]
    },
    {
     "name": "stderr",
     "output_type": "stream",
     "text": [
      "🔍 Processing:  13%|█████▉                                       | 59/449 [11:02<1:01:53,  9.52s/it]"
     ]
    },
    {
     "name": "stdout",
     "output_type": "stream",
     "text": [
      "[Thread-139673477314112] ✅ Line 59 done in 24.88s | Matches: 0\n"
     ]
    },
    {
     "name": "stderr",
     "output_type": "stream",
     "text": [
      "🔍 Processing:  13%|██████                                       | 60/449 [11:14<1:05:52, 10.16s/it]"
     ]
    },
    {
     "name": "stdout",
     "output_type": "stream",
     "text": [
      "[Thread-139673895675456] ✅ Line 60 done in 20.09s | Matches: 0\n"
     ]
    },
    {
     "name": "stderr",
     "output_type": "stream",
     "text": [
      "🔍 Processing:  14%|██████▍                                        | 61/449 [11:20<58:41,  9.08s/it]"
     ]
    },
    {
     "name": "stdout",
     "output_type": "stream",
     "text": [
      "[Thread-139673477314112] ✅ Line 61 done in 18.19s | Matches: 0\n"
     ]
    },
    {
     "name": "stderr",
     "output_type": "stream",
     "text": [
      "🔍 Processing:  14%|██████▍                                        | 62/449 [11:30<59:08,  9.17s/it]"
     ]
    },
    {
     "name": "stdout",
     "output_type": "stream",
     "text": [
      "[Thread-139673895675456] ✅ Line 62 done in 15.93s | Matches: 0\n"
     ]
    },
    {
     "name": "stderr",
     "output_type": "stream",
     "text": [
      "🔍 Processing:  14%|██████▌                                        | 63/449 [11:34<49:28,  7.69s/it]"
     ]
    },
    {
     "name": "stdout",
     "output_type": "stream",
     "text": [
      "[Thread-139673477314112] ✅ Line 63 done in 13.63s | Matches: 0\n"
     ]
    },
    {
     "name": "stderr",
     "output_type": "stream",
     "text": [
      "🔍 Processing:  14%|██████▋                                        | 64/449 [11:47<59:54,  9.34s/it]"
     ]
    },
    {
     "name": "stdout",
     "output_type": "stream",
     "text": [
      "[Thread-139673895675456] ✅ Line 64 done in 17.42s | Matches: 0\n"
     ]
    },
    {
     "name": "stderr",
     "output_type": "stream",
     "text": [
      "🔍 Processing:  14%|██████▊                                        | 65/449 [11:51<49:10,  7.68s/it]"
     ]
    },
    {
     "name": "stdout",
     "output_type": "stream",
     "text": [
      "[Thread-139673477314112] ✅ Line 65 done in 17.00s | Matches: 0\n"
     ]
    },
    {
     "name": "stderr",
     "output_type": "stream",
     "text": [
      "🔍 Processing:  15%|██████▉                                        | 66/449 [11:59<49:40,  7.78s/it]"
     ]
    },
    {
     "name": "stdout",
     "output_type": "stream",
     "text": [
      "[Thread-139673895675456] ✅ Line 66 done in 11.84s | Matches: 0\n"
     ]
    },
    {
     "name": "stderr",
     "output_type": "stream",
     "text": [
      "🔍 Processing:  15%|███████                                        | 67/449 [12:05<46:10,  7.25s/it]"
     ]
    },
    {
     "name": "stdout",
     "output_type": "stream",
     "text": [
      "[Thread-139673477314112] ✅ Line 67 done in 14.03s | Matches: 0\n"
     ]
    },
    {
     "name": "stderr",
     "output_type": "stream",
     "text": [
      "🔍 Processing:  15%|███████                                        | 68/449 [12:15<51:41,  8.14s/it]"
     ]
    },
    {
     "name": "stdout",
     "output_type": "stream",
     "text": [
      "[Thread-139673895675456] ✅ Line 68 done in 16.23s | Matches: 0\n"
     ]
    },
    {
     "name": "stderr",
     "output_type": "stream",
     "text": [
      "🔍 Processing:  15%|███████▏                                       | 69/449 [12:20<45:01,  7.11s/it]"
     ]
    },
    {
     "name": "stdout",
     "output_type": "stream",
     "text": [
      "[Thread-139673477314112] ✅ Line 69 done in 14.92s | Matches: 0\n"
     ]
    },
    {
     "name": "stderr",
     "output_type": "stream",
     "text": [
      "🔍 Processing:  16%|███████▎                                       | 70/449 [12:31<53:39,  8.50s/it]"
     ]
    },
    {
     "name": "stdout",
     "output_type": "stream",
     "text": [
      "[Thread-139673895675456] ✅ Line 70 done in 16.43s | Matches: 0\n"
     ]
    },
    {
     "name": "stderr",
     "output_type": "stream",
     "text": [
      "🔍 Processing:  16%|███████▍                                       | 71/449 [12:35<44:40,  7.09s/it]"
     ]
    },
    {
     "name": "stdout",
     "output_type": "stream",
     "text": [
      "[Thread-139673477314112] ✅ Line 71 done in 15.54s | Matches: 0\n"
     ]
    },
    {
     "name": "stderr",
     "output_type": "stream",
     "text": [
      "🔍 Processing:  16%|███████▌                                       | 72/449 [12:43<46:22,  7.38s/it]"
     ]
    },
    {
     "name": "stdout",
     "output_type": "stream",
     "text": [
      "[Thread-139673895675456] ✅ Line 72 done in 11.87s | Matches: 0\n"
     ]
    },
    {
     "name": "stderr",
     "output_type": "stream",
     "text": [
      "🔍 Processing:  16%|███████▋                                       | 73/449 [12:50<44:17,  7.07s/it]"
     ]
    },
    {
     "name": "stdout",
     "output_type": "stream",
     "text": [
      "[Thread-139673477314112] ✅ Line 73 done in 14.39s | Matches: 0\n"
     ]
    },
    {
     "name": "stderr",
     "output_type": "stream",
     "text": [
      "🔍 Processing:  16%|███████▋                                       | 74/449 [13:00<49:39,  7.94s/it]"
     ]
    },
    {
     "name": "stdout",
     "output_type": "stream",
     "text": [
      "[Thread-139673895675456] ✅ Line 74 done in 16.32s | Matches: 0\n"
     ]
    },
    {
     "name": "stderr",
     "output_type": "stream",
     "text": [
      "🔍 Processing:  17%|███████▊                                       | 75/449 [13:04<42:33,  6.83s/it]"
     ]
    },
    {
     "name": "stdout",
     "output_type": "stream",
     "text": [
      "[Thread-139673477314112] ✅ Line 75 done in 14.21s | Matches: 0\n"
     ]
    },
    {
     "name": "stderr",
     "output_type": "stream",
     "text": [
      "🔍 Processing:  17%|███████▉                                       | 76/449 [13:17<53:37,  8.63s/it]"
     ]
    },
    {
     "name": "stdout",
     "output_type": "stream",
     "text": [
      "[Thread-139673895675456] ✅ Line 76 done in 17.05s | Matches: 0\n"
     ]
    },
    {
     "name": "stderr",
     "output_type": "stream",
     "text": [
      "🔍 Processing:  17%|████████                                       | 77/449 [13:23<49:03,  7.91s/it]"
     ]
    },
    {
     "name": "stdout",
     "output_type": "stream",
     "text": [
      "[Thread-139673477314112] ✅ Line 77 done in 19.07s | Matches: 0\n"
     ]
    },
    {
     "name": "stderr",
     "output_type": "stream",
     "text": [
      "🔍 Processing:  17%|████████▏                                      | 78/449 [13:34<54:20,  8.79s/it]"
     ]
    },
    {
     "name": "stdout",
     "output_type": "stream",
     "text": [
      "[Thread-139673895675456] ✅ Line 78 done in 17.08s | Matches: 0\n"
     ]
    },
    {
     "name": "stderr",
     "output_type": "stream",
     "text": [
      "🔍 Processing:  18%|████████▎                                      | 79/449 [13:40<50:03,  8.12s/it]"
     ]
    },
    {
     "name": "stdout",
     "output_type": "stream",
     "text": [
      "[Thread-139673477314112] ✅ Line 79 done in 17.39s | Matches: 0\n"
     ]
    },
    {
     "name": "stderr",
     "output_type": "stream",
     "text": [
      "🔍 Processing:  18%|████████▎                                      | 80/449 [13:51<54:36,  8.88s/it]"
     ]
    },
    {
     "name": "stdout",
     "output_type": "stream",
     "text": [
      "[Thread-139673895675456] ✅ Line 80 done in 17.21s | Matches: 0\n"
     ]
    },
    {
     "name": "stderr",
     "output_type": "stream",
     "text": [
      "🔍 Processing:  18%|████████▍                                      | 81/449 [13:55<45:56,  7.49s/it]"
     ]
    },
    {
     "name": "stdout",
     "output_type": "stream",
     "text": [
      "[Thread-139673477314112] ✅ Line 81 done in 14.91s | Matches: 0\n"
     ]
    },
    {
     "name": "stderr",
     "output_type": "stream",
     "text": [
      "🔍 Processing:  18%|████████▏                                    | 82/449 [14:12<1:02:36, 10.24s/it]"
     ]
    },
    {
     "name": "stdout",
     "output_type": "stream",
     "text": [
      "[Thread-139673895675456] ✅ Line 82 done in 20.90s | Matches: 0\n"
     ]
    },
    {
     "name": "stderr",
     "output_type": "stream",
     "text": [
      "🔍 Processing:  18%|████████▋                                      | 83/449 [14:19<57:16,  9.39s/it]"
     ]
    },
    {
     "name": "stdout",
     "output_type": "stream",
     "text": [
      "[Thread-139673477314112] ✅ Line 83 done in 24.05s | Matches: 0\n"
     ]
    },
    {
     "name": "stderr",
     "output_type": "stream",
     "text": [
      "🔍 Processing:  19%|████████▍                                    | 84/449 [14:30<1:00:03,  9.87s/it]"
     ]
    },
    {
     "name": "stdout",
     "output_type": "stream",
     "text": [
      "[Thread-139673895675456] ✅ Line 84 done in 18.41s | Matches: 0\n"
     ]
    },
    {
     "ename": "KeyboardInterrupt",
     "evalue": "",
     "output_type": "error",
     "traceback": [
      "\u001b[31m---------------------------------------------------------------------------\u001b[39m",
      "\u001b[31mKeyboardInterrupt\u001b[39m                         Traceback (most recent call last)",
      "\u001b[36mCell\u001b[39m\u001b[36m \u001b[39m\u001b[32mIn[4]\u001b[39m\u001b[32m, line 71\u001b[39m\n\u001b[32m     70\u001b[39m futures = [executor.submit(process_line, i, line) \u001b[38;5;28;01mfor\u001b[39;00m i, line \u001b[38;5;129;01min\u001b[39;00m \u001b[38;5;28menumerate\u001b[39m(lines)]\n\u001b[32m---> \u001b[39m\u001b[32m71\u001b[39m \u001b[43m\u001b[49m\u001b[38;5;28;43;01mfor\u001b[39;49;00m\u001b[43m \u001b[49m\u001b[43mfuture\u001b[49m\u001b[43m \u001b[49m\u001b[38;5;129;43;01min\u001b[39;49;00m\u001b[43m \u001b[49m\u001b[43mas_completed\u001b[49m\u001b[43m(\u001b[49m\u001b[43mfutures\u001b[49m\u001b[43m)\u001b[49m\u001b[43m:\u001b[49m\n\u001b[32m     72\u001b[39m \u001b[43m    \u001b[49m\u001b[43mfuture\u001b[49m\u001b[43m.\u001b[49m\u001b[43mresult\u001b[49m\u001b[43m(\u001b[49m\u001b[43m)\u001b[49m\n",
      "\u001b[36mFile \u001b[39m\u001b[32m/opt/miniconda3/lib/python3.11/concurrent/futures/_base.py:243\u001b[39m, in \u001b[36mas_completed\u001b[39m\u001b[34m(fs, timeout)\u001b[39m\n\u001b[32m    239\u001b[39m         \u001b[38;5;28;01mraise\u001b[39;00m \u001b[38;5;167;01mTimeoutError\u001b[39;00m(\n\u001b[32m    240\u001b[39m                 \u001b[33m'\u001b[39m\u001b[38;5;132;01m%d\u001b[39;00m\u001b[33m (of \u001b[39m\u001b[38;5;132;01m%d\u001b[39;00m\u001b[33m) futures unfinished\u001b[39m\u001b[33m'\u001b[39m % (\n\u001b[32m    241\u001b[39m                 \u001b[38;5;28mlen\u001b[39m(pending), total_futures))\n\u001b[32m--> \u001b[39m\u001b[32m243\u001b[39m \u001b[43mwaiter\u001b[49m\u001b[43m.\u001b[49m\u001b[43mevent\u001b[49m\u001b[43m.\u001b[49m\u001b[43mwait\u001b[49m\u001b[43m(\u001b[49m\u001b[43mwait_timeout\u001b[49m\u001b[43m)\u001b[49m\n\u001b[32m    245\u001b[39m \u001b[38;5;28;01mwith\u001b[39;00m waiter.lock:\n",
      "\u001b[36mFile \u001b[39m\u001b[32m/opt/miniconda3/lib/python3.11/threading.py:629\u001b[39m, in \u001b[36mEvent.wait\u001b[39m\u001b[34m(self, timeout)\u001b[39m\n\u001b[32m    628\u001b[39m \u001b[38;5;28;01mif\u001b[39;00m \u001b[38;5;129;01mnot\u001b[39;00m signaled:\n\u001b[32m--> \u001b[39m\u001b[32m629\u001b[39m     signaled = \u001b[38;5;28;43mself\u001b[39;49m\u001b[43m.\u001b[49m\u001b[43m_cond\u001b[49m\u001b[43m.\u001b[49m\u001b[43mwait\u001b[49m\u001b[43m(\u001b[49m\u001b[43mtimeout\u001b[49m\u001b[43m)\u001b[49m\n\u001b[32m    630\u001b[39m \u001b[38;5;28;01mreturn\u001b[39;00m signaled\n",
      "\u001b[36mFile \u001b[39m\u001b[32m/opt/miniconda3/lib/python3.11/threading.py:327\u001b[39m, in \u001b[36mCondition.wait\u001b[39m\u001b[34m(self, timeout)\u001b[39m\n\u001b[32m    326\u001b[39m \u001b[38;5;28;01mif\u001b[39;00m timeout \u001b[38;5;129;01mis\u001b[39;00m \u001b[38;5;28;01mNone\u001b[39;00m:\n\u001b[32m--> \u001b[39m\u001b[32m327\u001b[39m     \u001b[43mwaiter\u001b[49m\u001b[43m.\u001b[49m\u001b[43macquire\u001b[49m\u001b[43m(\u001b[49m\u001b[43m)\u001b[49m\n\u001b[32m    328\u001b[39m     gotit = \u001b[38;5;28;01mTrue\u001b[39;00m\n",
      "\u001b[31mKeyboardInterrupt\u001b[39m: ",
      "\nDuring handling of the above exception, another exception occurred:\n",
      "\u001b[31mKeyboardInterrupt\u001b[39m                         Traceback (most recent call last)",
      "\u001b[36mCell\u001b[39m\u001b[36m \u001b[39m\u001b[32mIn[4]\u001b[39m\u001b[32m, line 69\u001b[39m\n\u001b[32m     65\u001b[39m n_threads = \u001b[32m2\u001b[39m\n\u001b[32m     67\u001b[39m \u001b[38;5;28mprint\u001b[39m(\u001b[33mf\u001b[39m\u001b[33m\"\u001b[39m\u001b[38;5;130;01m\\n\u001b[39;00m\u001b[33m🚀 Starting with \u001b[39m\u001b[38;5;132;01m{\u001b[39;00mn_threads\u001b[38;5;132;01m}\u001b[39;00m\u001b[33m threads on \u001b[39m\u001b[38;5;132;01m{\u001b[39;00m\u001b[38;5;28mlen\u001b[39m(lines)\u001b[38;5;132;01m}\u001b[39;00m\u001b[33m lines...\u001b[39m\u001b[38;5;130;01m\\n\u001b[39;00m\u001b[33m\"\u001b[39m)\n\u001b[32m---> \u001b[39m\u001b[32m69\u001b[39m \u001b[38;5;28;43;01mwith\u001b[39;49;00m\u001b[43m \u001b[49m\u001b[43mThreadPoolExecutor\u001b[49m\u001b[43m(\u001b[49m\u001b[43mmax_workers\u001b[49m\u001b[43m=\u001b[49m\u001b[43mn_threads\u001b[49m\u001b[43m)\u001b[49m\u001b[43m \u001b[49m\u001b[38;5;28;43;01mas\u001b[39;49;00m\u001b[43m \u001b[49m\u001b[43mexecutor\u001b[49m\u001b[43m:\u001b[49m\n\u001b[32m     70\u001b[39m \u001b[43m    \u001b[49m\u001b[43mfutures\u001b[49m\u001b[43m \u001b[49m\u001b[43m=\u001b[49m\u001b[43m \u001b[49m\u001b[43m[\u001b[49m\u001b[43mexecutor\u001b[49m\u001b[43m.\u001b[49m\u001b[43msubmit\u001b[49m\u001b[43m(\u001b[49m\u001b[43mprocess_line\u001b[49m\u001b[43m,\u001b[49m\u001b[43m \u001b[49m\u001b[43mi\u001b[49m\u001b[43m,\u001b[49m\u001b[43m \u001b[49m\u001b[43mline\u001b[49m\u001b[43m)\u001b[49m\u001b[43m \u001b[49m\u001b[38;5;28;43;01mfor\u001b[39;49;00m\u001b[43m \u001b[49m\u001b[43mi\u001b[49m\u001b[43m,\u001b[49m\u001b[43m \u001b[49m\u001b[43mline\u001b[49m\u001b[43m \u001b[49m\u001b[38;5;129;43;01min\u001b[39;49;00m\u001b[43m \u001b[49m\u001b[38;5;28;43menumerate\u001b[39;49m\u001b[43m(\u001b[49m\u001b[43mlines\u001b[49m\u001b[43m)\u001b[49m\u001b[43m]\u001b[49m\n\u001b[32m     71\u001b[39m \u001b[43m    \u001b[49m\u001b[38;5;28;43;01mfor\u001b[39;49;00m\u001b[43m \u001b[49m\u001b[43mfuture\u001b[49m\u001b[43m \u001b[49m\u001b[38;5;129;43;01min\u001b[39;49;00m\u001b[43m \u001b[49m\u001b[43mas_completed\u001b[49m\u001b[43m(\u001b[49m\u001b[43mfutures\u001b[49m\u001b[43m)\u001b[49m\u001b[43m:\u001b[49m\n",
      "\u001b[36mFile \u001b[39m\u001b[32m/opt/miniconda3/lib/python3.11/concurrent/futures/_base.py:647\u001b[39m, in \u001b[36mExecutor.__exit__\u001b[39m\u001b[34m(self, exc_type, exc_val, exc_tb)\u001b[39m\n\u001b[32m    646\u001b[39m \u001b[38;5;28;01mdef\u001b[39;00m\u001b[38;5;250m \u001b[39m\u001b[34m__exit__\u001b[39m(\u001b[38;5;28mself\u001b[39m, exc_type, exc_val, exc_tb):\n\u001b[32m--> \u001b[39m\u001b[32m647\u001b[39m     \u001b[38;5;28;43mself\u001b[39;49m\u001b[43m.\u001b[49m\u001b[43mshutdown\u001b[49m\u001b[43m(\u001b[49m\u001b[43mwait\u001b[49m\u001b[43m=\u001b[49m\u001b[38;5;28;43;01mTrue\u001b[39;49;00m\u001b[43m)\u001b[49m\n\u001b[32m    648\u001b[39m     \u001b[38;5;28;01mreturn\u001b[39;00m \u001b[38;5;28;01mFalse\u001b[39;00m\n",
      "\u001b[36mFile \u001b[39m\u001b[32m/opt/miniconda3/lib/python3.11/concurrent/futures/thread.py:235\u001b[39m, in \u001b[36mThreadPoolExecutor.shutdown\u001b[39m\u001b[34m(self, wait, cancel_futures)\u001b[39m\n\u001b[32m    233\u001b[39m \u001b[38;5;28;01mif\u001b[39;00m wait:\n\u001b[32m    234\u001b[39m     \u001b[38;5;28;01mfor\u001b[39;00m t \u001b[38;5;129;01min\u001b[39;00m \u001b[38;5;28mself\u001b[39m._threads:\n\u001b[32m--> \u001b[39m\u001b[32m235\u001b[39m         \u001b[43mt\u001b[49m\u001b[43m.\u001b[49m\u001b[43mjoin\u001b[49m\u001b[43m(\u001b[49m\u001b[43m)\u001b[49m\n",
      "\u001b[36mFile \u001b[39m\u001b[32m/opt/miniconda3/lib/python3.11/threading.py:1119\u001b[39m, in \u001b[36mThread.join\u001b[39m\u001b[34m(self, timeout)\u001b[39m\n\u001b[32m   1116\u001b[39m     \u001b[38;5;28;01mraise\u001b[39;00m \u001b[38;5;167;01mRuntimeError\u001b[39;00m(\u001b[33m\"\u001b[39m\u001b[33mcannot join current thread\u001b[39m\u001b[33m\"\u001b[39m)\n\u001b[32m   1118\u001b[39m \u001b[38;5;28;01mif\u001b[39;00m timeout \u001b[38;5;129;01mis\u001b[39;00m \u001b[38;5;28;01mNone\u001b[39;00m:\n\u001b[32m-> \u001b[39m\u001b[32m1119\u001b[39m     \u001b[38;5;28;43mself\u001b[39;49m\u001b[43m.\u001b[49m\u001b[43m_wait_for_tstate_lock\u001b[49m\u001b[43m(\u001b[49m\u001b[43m)\u001b[49m\n\u001b[32m   1120\u001b[39m \u001b[38;5;28;01melse\u001b[39;00m:\n\u001b[32m   1121\u001b[39m     \u001b[38;5;66;03m# the behavior of a negative timeout isn't documented, but\u001b[39;00m\n\u001b[32m   1122\u001b[39m     \u001b[38;5;66;03m# historically .join(timeout=x) for x<0 has acted as if timeout=0\u001b[39;00m\n\u001b[32m   1123\u001b[39m     \u001b[38;5;28mself\u001b[39m._wait_for_tstate_lock(timeout=\u001b[38;5;28mmax\u001b[39m(timeout, \u001b[32m0\u001b[39m))\n",
      "\u001b[36mFile \u001b[39m\u001b[32m/opt/miniconda3/lib/python3.11/threading.py:1139\u001b[39m, in \u001b[36mThread._wait_for_tstate_lock\u001b[39m\u001b[34m(self, block, timeout)\u001b[39m\n\u001b[32m   1136\u001b[39m     \u001b[38;5;28;01mreturn\u001b[39;00m\n\u001b[32m   1138\u001b[39m \u001b[38;5;28;01mtry\u001b[39;00m:\n\u001b[32m-> \u001b[39m\u001b[32m1139\u001b[39m     \u001b[38;5;28;01mif\u001b[39;00m \u001b[43mlock\u001b[49m\u001b[43m.\u001b[49m\u001b[43macquire\u001b[49m\u001b[43m(\u001b[49m\u001b[43mblock\u001b[49m\u001b[43m,\u001b[49m\u001b[43m \u001b[49m\u001b[43mtimeout\u001b[49m\u001b[43m)\u001b[49m:\n\u001b[32m   1140\u001b[39m         lock.release()\n\u001b[32m   1141\u001b[39m         \u001b[38;5;28mself\u001b[39m._stop()\n",
      "\u001b[31mKeyboardInterrupt\u001b[39m: "
     ]
    }
   ],
   "source": [
    "import re\n",
    "import threading\n",
    "import time\n",
    "from concurrent.futures import ThreadPoolExecutor, as_completed\n",
    "from langchain.llms import Ollama\n",
    "from langchain.prompts import PromptTemplate\n",
    "from langchain.chains import LLMChain\n",
    "from tqdm import tqdm\n",
    "\n",
    "# Load and clean lines\n",
    "with open('I-Soon-data/md/chats/10.md', 'r', encoding='utf-8') as f:\n",
    "    lines = [line.strip() for line in f if line.strip()]\n",
    "\n",
    "# Regex and shared resources\n",
    "file_regex = re.compile(r'\\b[\\w\\-]+(?:\\.[\\w\\-]+)*\\.\\w{2,6}\\b')\n",
    "found_files = []\n",
    "lock = threading.Lock()\n",
    "\n",
    "# Prompt template\n",
    "prompt_template = PromptTemplate(\n",
    "    input_variables=[\"content\"],\n",
    "    template=\"\"\"\n",
    "You are a cybersecurity analyst with expert knowledge of file types and syntax used to reference files in certain documents and related contexts.\n",
    "Your task is to analyze the given content and extract all explicit file names with extensions.\n",
    "Follow these guidelines:\n",
    "    • Only include file names that explicitly contain a valid extension.\n",
    "    • Consider common patterns such as filename.ext, [text](filename.ext), src=\"filename.ext\", path/to/filename.ext, etc.\n",
    "    • Recognize contextual clues like source, reference, include, or links that point to files.\n",
    "    • Use your knowledge of the top 50 most common file extensions to guide detection.\n",
    "    • Do not infer or fabricate file names based on ambiguous text. Do not extract names without a clear extension.\n",
    "    • Output only: a single line list of the detected file names with extensions, separated by commas. No explanation or commentary.\n",
    "Content:\n",
    "{content}\n",
    "\"\"\"\n",
    ")\n",
    "\n",
    "# Progress bar setup\n",
    "progress_bar = tqdm(total=len(lines), desc=\"🔍 Processing\", ncols=100)\n",
    "\n",
    "# Worker function\n",
    "def process_line(i: int, content: str):\n",
    "    thread_id = threading.get_ident()\n",
    "    try:\n",
    "        llm = Ollama(model=\"llama3.3:70b\")\n",
    "        chain = LLMChain(llm=llm, prompt=prompt_template)\n",
    "\n",
    "        start = time.time()\n",
    "        response = chain.run(content=content)\n",
    "        duration = time.time() - start\n",
    "\n",
    "        matches = file_regex.findall(response)\n",
    "        match_count = len(matches)\n",
    "\n",
    "        if matches:\n",
    "            with lock:\n",
    "                found_files.extend([m.strip().lower() for m in matches])\n",
    "\n",
    "        print(f\"[Thread-{thread_id}] ✅ Line {i+1} done in {duration:.2f}s | Matches: {match_count}\")\n",
    "    except Exception as e:\n",
    "        print(f\"[Thread-{thread_id}] ❌ Error on line {i+1}: {e}\")\n",
    "    finally:\n",
    "        progress_bar.update(1)\n",
    "\n",
    "# Run with 2 threads\n",
    "n_threads = 2\n",
    "\n",
    "print(f\"\\n🚀 Starting with {n_threads} threads on {len(lines)} lines...\\n\")\n",
    "\n",
    "with ThreadPoolExecutor(max_workers=n_threads) as executor:\n",
    "    futures = [executor.submit(process_line, i, line) for i, line in enumerate(lines)]\n",
    "    for future in as_completed(futures):\n",
    "        future.result()\n",
    "\n",
    "progress_bar.close()\n",
    "\n",
    "# Output results\n",
    "print(\"\\n🎯 Unique filenames found:\")\n",
    "unique_files = sorted(set(found_files))\n",
    "for f in unique_files:\n",
    "    print(f)\n",
    "\n",
    "print(f\"\\n✅ Total unique files found: {len(unique_files)}\")"
   ]
  },
  {
   "cell_type": "code",
   "execution_count": 3,
   "id": "a55a603e-103a-46c0-9dcc-8c72023cacb8",
   "metadata": {
    "tags": []
   },
   "outputs": [],
   "source": [
    "# import shutil\n",
    "# import os\n",
    "\n",
    "# # Directory to delete\n",
    "# EXTRACT_DIR = 'I-Soon-data'\n",
    "\n",
    "# # Check if the directory exists and delete it\n",
    "# if os.path.isdir(EXTRACT_DIR):\n",
    "#     shutil.rmtree(EXTRACT_DIR)\n",
    "#     print(f\"Directory '{EXTRACT_DIR}' has been deleted.\")\n",
    "# else:\n",
    "#     print(f\"Directory '{EXTRACT_DIR}' does not exist.\")"
   ]
  },
  {
   "cell_type": "code",
   "execution_count": null,
   "id": "1c242f8e-af9c-488e-9a4a-92bdc06a8ec7",
   "metadata": {},
   "outputs": [],
   "source": []
  }
 ],
 "metadata": {
  "kernelspec": {
   "display_name": "Python (IsoonAI)",
   "language": "python",
   "name": "isoonai"
  },
  "language_info": {
   "codemirror_mode": {
    "name": "ipython",
    "version": 3
   },
   "file_extension": ".py",
   "mimetype": "text/x-python",
   "name": "python",
   "nbconvert_exporter": "python",
   "pygments_lexer": "ipython3",
   "version": "3.11.8"
  }
 },
 "nbformat": 4,
 "nbformat_minor": 5
}
